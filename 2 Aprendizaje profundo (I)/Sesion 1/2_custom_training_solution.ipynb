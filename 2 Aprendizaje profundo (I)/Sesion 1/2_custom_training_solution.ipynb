{
  "nbformat": 4,
  "nbformat_minor": 0,
  "metadata": {
    "colab": {
      "name": "custom_training_solution.ipynb",
      "provenance": [],
      "include_colab_link": true
    },
    "kernelspec": {
      "name": "python3",
      "display_name": "Python 3"
    }
  },
  "cells": [
    {
      "cell_type": "markdown",
      "metadata": {
        "id": "view-in-github",
        "colab_type": "text"
      },
      "source": [
        "<a href=\"https://colab.research.google.com/github/vicentcamison/idal_ia3/blob/main/2%20Aprendizaje%20profundo%20(I)/Sesion%201/2_custom_training_solution.ipynb\" target=\"_parent\"><img src=\"https://colab.research.google.com/assets/colab-badge.svg\" alt=\"Open In Colab\"/></a>"
      ]
    },
    {
      "cell_type": "markdown",
      "metadata": {
        "id": "edITvB3Rcwzg"
      },
      "source": [
        "# Entrenamiento personalizado\n",
        "Esta guía usa *machine learning* para predecir la progresión de la diabetes después un año. Utiliza TensorFlow para:\n",
        "1. Construir un modelo\n",
        "2. Entrenar este modelo en datos de ejemplo\n",
        "3. Usa el modelo para hacer predicciones en datos desconocidos\n",
        "\n",
        "Este tutorial está estructurado de la siguiente manera:\n",
        "\n",
        "1. Importación y análisis del conjunto de datos.\n",
        "2. Selección del tipo de modelo.\n",
        "3. Entrenamiento del modelo.\n",
        "4. Evaluación de la efectividad del modelo.\n",
        "5. Uso del modelo entrenado para hacer predicciones."
      ]
    },
    {
      "cell_type": "markdown",
      "metadata": {
        "id": "-fNC05dSeOtR"
      },
      "source": [
        "## Preparación del programa"
      ]
    },
    {
      "cell_type": "markdown",
      "metadata": {
        "id": "wxGUGUC1eayp"
      },
      "source": [
        "### Configuración de los *imports*\n",
        "\n",
        "Importa TensorFlow y los demás módulos de Python necesarios. De forma predeterminada, TensorFlow usa una *eager execution* para evaluar las operaciones de inmediato, y muestra valores concretos en lugar de crear un gráfico computacional que se ejecuta más tarde. Si estás acostumbrado la consola interactiva de python , esto te resultará familiar."
      ]
    },
    {
      "cell_type": "code",
      "metadata": {
        "id": "__DxI-veenPd"
      },
      "source": [
        "import matplotlib.pyplot as plt\n",
        "import tensorflow as tf\n",
        "from sklearn import datasets\n",
        "from sklearn.model_selection import train_test_split\n",
        "from math import ceil\n",
        "import numpy as np"
      ],
      "execution_count": null,
      "outputs": []
    },
    {
      "cell_type": "code",
      "metadata": {
        "id": "0A6-EF-0eyOl",
        "colab": {
          "base_uri": "https://localhost:8080/",
          "height": 51
        },
        "outputId": "bb16f9b1-fe17-4abf-9942-5a1e9fb2b14e"
      },
      "source": [
        "print(\"TensorFlow version: {}\".format(tf.__version__))\n",
        "print(\"Eager execution: {}\".format(tf.executing_eagerly()))"
      ],
      "execution_count": null,
      "outputs": [
        {
          "output_type": "stream",
          "text": [
            "TensorFlow version: 2.3.0\n",
            "Eager execution: True\n"
          ],
          "name": "stdout"
        }
      ]
    },
    {
      "cell_type": "markdown",
      "metadata": {
        "id": "_zgYLCXAe5BS"
      },
      "source": [
        "## Problema de regresión *Diabetes*\n",
        "\n",
        "Este conjunto de datos contiene 10 variables descriptivas edad, sexo, índice de masa corporal, presión sanguínea promedio, y seis mediciones de suero sanguíneo tomadas para cada uno de los 442 pacientes con diabetes. Además, contiene la variable de interés a predecir, una medida cuantitavita de la progresíon de la enferemedad un año después del inicio.\n",
        "\n",
        "### Características del conjunto de datos\n",
        "\n",
        "\n",
        "*   Número de instancias: 442\n",
        "*   Número de atributos: Las 10 primeras columnas son valores predictivos numéricos\n",
        "\n",
        "*   Variable objetivo: La columna 11 es una medida cuantitativa de la progresión de la enfermedad después de un año\n",
        "*   Elemento de lista\n",
        "\n",
        "### Información de los atributos:\n",
        "\n",
        "       - age: edad en años\n",
        "       - sex\n",
        "       - bmi: índice de masa corporal\n",
        "       - bp: presión arterial media\n",
        "       - s1 tc, células T (un tipo de glóbulos blancos)\n",
        "       - s2 ldl, lipoproteínas de baja densidad\n",
        "       - s3 hdl, lipoproteínas de alta densidad\n",
        "       - s4 tch, hormona estimulante de la tiroides\n",
        "       - s5 ltg, lamotrigina\n",
        "       - glu s6, nivel de azúcar en sangre\n",
        "\n",
        "\n",
        "Nota: Cada una de estas 10 variables se ha centrado en la media y se ha escalado por la desviación estándar.\n",
        "\n",
        "\n"
      ]
    },
    {
      "cell_type": "markdown",
      "metadata": {
        "id": "nEARuhjNjGwD"
      },
      "source": [
        "## Importación y preparación del conjunto de datos\n"
      ]
    },
    {
      "cell_type": "markdown",
      "metadata": {
        "id": "uFb1Vop8jbLQ"
      },
      "source": [
        "### Carga del conjunto de datos"
      ]
    },
    {
      "cell_type": "code",
      "metadata": {
        "id": "nJ9YXYj2ikOR"
      },
      "source": [
        "diabetes = datasets.load_diabetes()\n",
        "features, labels = diabetes.data, diabetes.target"
      ],
      "execution_count": null,
      "outputs": []
    },
    {
      "cell_type": "markdown",
      "metadata": {
        "id": "4TpZElu3kcPW"
      },
      "source": [
        "### Partición del conjunto de datos en Entrenamiento, Validación y Test"
      ]
    },
    {
      "cell_type": "markdown",
      "metadata": {
        "id": "sUMltuPyktDc"
      },
      "source": [
        "A continuación vamos a separar nuestro conjunto de datos en 3 conjuntos distinitos (entrenamiento, validadción y test). Para ello utiliza el método `tain_test_split` de la librería *sklearn*. Para garantizar aleatoriedad en las particiones, mezcla de manera aleatoria las muestras. Para llevar a cabo las particiones, mantén un 70% de los datos para el conjunto de entrenamiento y un 15% tanto para el de validación como para el de test"
      ]
    },
    {
      "cell_type": "code",
      "metadata": {
        "id": "xOqDoRavl3Vf"
      },
      "source": [
        "x_train, x_test, y_train, y_test = train_test_split(features,\n",
        "                                                    labels,\n",
        "                                                    test_size=0.30,\n",
        "                                                    random_state=42,\n",
        "                                                    shuffle=True,\n",
        "                                                    stratify=None)\n",
        "\n",
        "x_train, x_val, y_train, y_val = train_test_split(x_train,\n",
        "                                                  y_train,\n",
        "                                                  test_size=0.50,\n",
        "                                                  random_state=42,\n",
        "                                                  shuffle=True,\n",
        "                                                  stratify=None)"
      ],
      "execution_count": null,
      "outputs": []
    },
    {
      "cell_type": "markdown",
      "metadata": {
        "id": "A7bvfd-1oGrZ"
      },
      "source": [
        "A continuación vamos a estandarizar los datos. Como ya se ha comentado anteriormente, no sería necesarario ya que los datos ya vienen estandarizados al cargarlos. No obstante, a modo de ejercicio, estandariza los datos manualmente, sin ayuda de librerías externas siguiendo la siguiente fórmula:\n",
        "\n",
        "$$x_{norm}=\\frac{x-\\mu}{\\sigma}$$\n",
        "\n",
        "Dónde $\\mu$ es la media y $\\sigma$ las desviación estandar."
      ]
    },
    {
      "cell_type": "code",
      "metadata": {
        "id": "U41cTIHdqVPN"
      },
      "source": [
        "x_train_norm = (x_train-np.mean(x_train, 0))/np.std(x_train)\n",
        "x_val_norm = (x_val-np.mean(x_val, 0))/np.std(x_val)\n",
        "x_test_norm = (x_test-np.mean(x_test, 0))/np.std(x_test)\n",
        "\n",
        "y_train_norm = (y_train-np.mean(y_train, 0))/np.std(y_train)\n",
        "y_val_norm = (y_val-np.mean(y_val, 0))/np.std(y_val)\n",
        "y_test_norm = (y_test-np.mean(y_test, 0))/np.std(y_test)"
      ],
      "execution_count": null,
      "outputs": []
    },
    {
      "cell_type": "markdown",
      "metadata": {
        "id": "NjLd7HVZqbm3"
      },
      "source": [
        "A caontinuación, utiliza el método `tf.data.Dataset.from_tensor_slices` para convertir tus datos a tensores"
      ]
    },
    {
      "cell_type": "code",
      "metadata": {
        "id": "fAJo8BIiqqth"
      },
      "source": [
        "\n",
        "train_dataset = tf.data.Dataset.from_tensor_slices((x_train_norm, y_train_norm))\n",
        "val_dataset = tf.data.Dataset.from_tensor_slices((x_val_norm, y_val_norm))\n",
        "test_dataset = tf.data.Dataset.from_tensor_slices((x_test_norm, y_test_norm))"
      ],
      "execution_count": null,
      "outputs": []
    },
    {
      "cell_type": "markdown",
      "metadata": {
        "id": "gu_Pq1xPqriy"
      },
      "source": [
        "El objeto que te devuelve para cada uno de tus conjuntos de datos es de tipo `TensorSliceDataset`. Éste, tiene métodos interesantes para poder generar *batches* para entrenar la red neuronal. Echa un vistazo a la [API](https://www.tensorflow.org/api_docs/python/tf/data/Dataset) para ver los métdos que pueden resultar útiles. Te diré como pista que queremos \"barajar\" los datos después de cada iteración. Además queremos dividir los datos en *batches*, y mantener siempre el mismo tamaño de *batch* (incluso el último, aunque la longitud de nuestros datos entre la longitud del *batch* no sea un número entero). Además, pégale un vistazo a la opicón *cache*. Para este ejercicio puede no ser necesaria pero para otra clase de problemas puede ser muy útil."
      ]
    },
    {
      "cell_type": "code",
      "metadata": {
        "id": "jCw1spF1tAgq"
      },
      "source": [
        "BATCH_SIZE = 32\n",
        "\n",
        "train_dataset = (train_dataset.cache()\n",
        "                 .shuffle(len(x_train), reshuffle_each_iteration=True)\n",
        "                 .repeat()\n",
        "                 .batch(BATCH_SIZE)\n",
        "                 .take(ceil(len(x_train) / BATCH_SIZE))\n",
        "                 )\n",
        "\n",
        "val_dataset = (val_dataset.cache()\n",
        "               .shuffle(len(x_val), reshuffle_each_iteration=True)\n",
        "               .repeat()\n",
        "               .batch(BATCH_SIZE)\n",
        "               .take(ceil(len(x_val) / BATCH_SIZE))\n",
        "               )"
      ],
      "execution_count": null,
      "outputs": []
    },
    {
      "cell_type": "markdown",
      "metadata": {
        "id": "oS_CcalGt60U"
      },
      "source": [
        "## Creación y entrenamiento del Modelo Neuronal\n"
      ]
    },
    {
      "cell_type": "markdown",
      "metadata": {
        "id": "LbykUSKPtIuv"
      },
      "source": [
        "En este apartado vamos a crear y entrenar un Perceptron Multicapa. A continuación crea dicho modelo neuronal utilizando *layers* de *Keras*. Puedes utilizar tanto la api secuencial como la funcional. Cre un modelo con una capa oculta. No te preocupes por el número de neurones, vamos a ir jugando para ver como varían los resultados en función de este parámetro"
      ]
    },
    {
      "cell_type": "code",
      "metadata": {
        "id": "qi12qK3ZsW9C"
      },
      "source": [
        "DATASET_COLUMNS = diabetes.data.shape[1]\n",
        "\n",
        "model = tf.keras.Sequential([\n",
        "    tf.keras.layers.Dense(300, activation=tf.nn.relu, input_shape=(DATASET_COLUMNS,)),  # input shape required\n",
        "    tf.keras.layers.Dense(300, activation=tf.nn.relu),\n",
        "    tf.keras.layers.Dense(1, activation='linear')\n",
        "])\n"
      ],
      "execution_count": null,
      "outputs": []
    },
    {
      "cell_type": "markdown",
      "metadata": {
        "id": "4Xk2lODltx2_"
      },
      "source": [
        "A continuación vamos a crear nuestra función de pérdidas ¿Qué tipo de loss utilizarías para este problema? Utiliza las classe disponibles en la api de *keras* y después crea una función que devuelva el *loss* teniendo como parámetros de entrada los datos de entrada a la red y la variable de salida conocida. Ten en cuento que para calcular el *loss*, deberás calcular la salida del modelo para dicha entrada"
      ]
    },
    {
      "cell_type": "code",
      "metadata": {
        "id": "ZX6GR8ngv983"
      },
      "source": [
        "loss_object = tf.keras.losses.MeanSquaredError()\n"
      ],
      "execution_count": null,
      "outputs": []
    },
    {
      "cell_type": "code",
      "metadata": {
        "id": "ruz2yQnEv68B"
      },
      "source": [
        "def loss(x, y):\n",
        "    # training=training is needed only if there are layers with different\n",
        "    # behavior during training versus inference (e.g. Dropout).\n",
        "    y_ = model(x, training=True)\n",
        "    return loss_object(y_true=y, y_pred=y_)"
      ],
      "execution_count": null,
      "outputs": []
    },
    {
      "cell_type": "markdown",
      "metadata": {
        "id": "ygAZZkDowFIj"
      },
      "source": [
        "A continuación vamos a crear los pasos de entrenamiento y validación de manera manual. El proceso para entrenar y validar una red es el siguiente. Se coje un *batch* del conjunto de datos de entrenamiento, se entrena la red y se calcula el *loss*. Este *loss* se va acumulando hasta que acaba la época para tener una metrica que varía en cada época. Con el conjunto de validación se hace lo mismo, solo que no se entrea (no se actualizan los pesos de la red) con ellos, solamente calculamos el error en este conjunto. Es decir, estos datos se utilizan para ver como evoluciona el error del la red durante el entrenamiento para datos que nunca ha visto antes. Por ello, en el paso de validación no se ha de actualiar los pesos, es decir, solamente se hará el *forward pass* y se evitará el *backward pass*.\n",
        "\n",
        "<br><rb>\n",
        "Tal y como se ha comentado anteriormente, en el proceso de entrenamiento se actualizan los pesos, por lo que se han de calcular los gradientes. [Aquí](https://www.tensorflow.org/api_docs/python/tf/GradientTape) tienes ayuda de como calcular los gradientes:\n"
      ]
    },
    {
      "cell_type": "code",
      "metadata": {
        "id": "7rLHNn63xXII"
      },
      "source": [
        "def train_step(inputs, labels):\n",
        "    with tf.GradientTape() as tape:\n",
        "        loss_value = loss(inputs, labels)\n",
        "        gradients = tape.gradient(loss_value, model.trainable_variables)\n",
        "        optimizer.apply_gradients(zip(gradients, model.trainable_variables))\n",
        "\n",
        "    return loss_value"
      ],
      "execution_count": null,
      "outputs": []
    },
    {
      "cell_type": "markdown",
      "metadata": {
        "id": "8NCBr398ykaA"
      },
      "source": [
        "A continuación calcularemos el `val_step`, este es más fácil todavía, recuerda que en este paso no hay cálulo de gradientes ni retropropagación de los mismos a través de la red:"
      ]
    },
    {
      "cell_type": "code",
      "metadata": {
        "id": "qg-IE6XMy0VW"
      },
      "source": [
        "def val_step(inputs, labels):\n",
        "    loss_value = loss(inputs, labels)\n",
        "    return loss_value"
      ],
      "execution_count": null,
      "outputs": []
    },
    {
      "cell_type": "markdown",
      "metadata": {
        "id": "WNN907Lhy2a7"
      },
      "source": [
        "A continuación crearemos el optimizador. Utiliza el *Stocasthic Gradient Descent* disponible en la librería de *Keras*."
      ]
    },
    {
      "cell_type": "code",
      "metadata": {
        "id": "4IctLS3eze4b"
      },
      "source": [
        "optimizer = tf.keras.optimizers.SGD(learning_rate=0.01)\n"
      ],
      "execution_count": null,
      "outputs": []
    },
    {
      "cell_type": "markdown",
      "metadata": {
        "id": "qGmSlNbRzj--"
      },
      "source": [
        "A continuación, crea el proceso de entrenamiento. El proceso es similar al del ejercicio anterior, dónde se crearon *batches* de nuestro conjunto de datos para ir pasándoselos a la red por lotes. Ten en cuenta que en este caso, los lotes están creados internamente en objecto de datos de tipo `TensorSliceDataset` que has creado. Este objeto es un iterable, así que puedes utilizarlo en un bucle `for` para que te vaya devolviendo *batches*. Por lo tanto, necesitarás 2 bucles `for`. El primero iterará sobre un número de iteraciones (épocas), y el segundo sobre los *batches*. Se pasará cada *batch* a la red para realizar el entrenamiento (con el método que has creado `train_step`). Además necesitas crear las métricas a utilizar. Despúes de pasar por la red cada *batch* calcularemos el *loss* promedio. Para ello utiliza `tf.keras.metrics.Mean()`. Has de realizar el mismo proceso pero utilizando el método `val_step`.\n",
        "\n",
        "<br><rb>\n",
        "\n",
        "Imprime los resultados por pantalla (cada 5 épocas)\n"
      ]
    },
    {
      "cell_type": "code",
      "metadata": {
        "id": "9gHPjfA4322t",
        "colab": {
          "base_uri": "https://localhost:8080/",
          "height": 697
        },
        "outputId": "7ede11a7-d34c-4718-cd13-ec39066bc7ef"
      },
      "source": [
        "train_loss_results = []\n",
        "val_loss_results = []\n",
        "\n",
        "num_epochs = 200\n",
        "\n",
        "for epoch in range(num_epochs):\n",
        "    epoch_train_loss_avg = tf.keras.metrics.Mean()\n",
        "    epoch_val_loss_avg = tf.keras.metrics.Mean()\n",
        "\n",
        "    # Training loop - using batches of 32\n",
        "    for n_sample, (x, y) in enumerate(train_dataset):   # Optimize the model\n",
        "        train_loss = train_step(x, y)\n",
        "\n",
        "        # Track progress\n",
        "        epoch_train_loss_avg.update_state(train_loss)  # Add current batch loss\n",
        "\n",
        "    for x, y in val_dataset:\n",
        "        val_loss = val_step(x, y)\n",
        "        epoch_val_loss_avg.update_state(val_loss)  # Add current batch loss\n",
        "\n",
        "    # End epoch\n",
        "    train_loss_results.append(epoch_train_loss_avg.result())\n",
        "    val_loss_results.append(epoch_val_loss_avg.result())\n",
        "\n",
        "    if epoch % 5 == 0:\n",
        "        print(\"Epoch {:03d}: Training Loss: {:.3f}, Val Loss: {:.3f}, \".format(epoch,\n",
        "                                                                               epoch_train_loss_avg.result(),\n",
        "                                                                               epoch_val_loss_avg.result(),\n",
        "                                                                               )\n",
        "\n",
        "              )\n"
      ],
      "execution_count": null,
      "outputs": [
        {
          "output_type": "stream",
          "text": [
            "Epoch 000: Training Loss: 0.897, Val Loss: 0.835, \n",
            "Epoch 005: Training Loss: 0.535, Val Loss: 0.555, \n",
            "Epoch 010: Training Loss: 0.474, Val Loss: 0.539, \n",
            "Epoch 015: Training Loss: 0.441, Val Loss: 0.526, \n",
            "Epoch 020: Training Loss: 0.431, Val Loss: 0.516, \n",
            "Epoch 025: Training Loss: 0.398, Val Loss: 0.503, \n",
            "Epoch 030: Training Loss: 0.393, Val Loss: 0.507, \n",
            "Epoch 035: Training Loss: 0.380, Val Loss: 0.542, \n",
            "Epoch 040: Training Loss: 0.366, Val Loss: 0.535, \n",
            "Epoch 045: Training Loss: 0.352, Val Loss: 0.534, \n",
            "Epoch 050: Training Loss: 0.345, Val Loss: 0.542, \n",
            "Epoch 055: Training Loss: 0.334, Val Loss: 0.534, \n",
            "Epoch 060: Training Loss: 0.318, Val Loss: 0.552, \n",
            "Epoch 065: Training Loss: 0.319, Val Loss: 0.550, \n",
            "Epoch 070: Training Loss: 0.305, Val Loss: 0.562, \n",
            "Epoch 075: Training Loss: 0.297, Val Loss: 0.559, \n",
            "Epoch 080: Training Loss: 0.299, Val Loss: 0.558, \n",
            "Epoch 085: Training Loss: 0.293, Val Loss: 0.576, \n",
            "Epoch 090: Training Loss: 0.274, Val Loss: 0.584, \n",
            "Epoch 095: Training Loss: 0.272, Val Loss: 0.573, \n",
            "Epoch 100: Training Loss: 0.262, Val Loss: 0.579, \n",
            "Epoch 105: Training Loss: 0.263, Val Loss: 0.602, \n",
            "Epoch 110: Training Loss: 0.252, Val Loss: 0.591, \n",
            "Epoch 115: Training Loss: 0.243, Val Loss: 0.606, \n",
            "Epoch 120: Training Loss: 0.239, Val Loss: 0.597, \n",
            "Epoch 125: Training Loss: 0.254, Val Loss: 0.598, \n",
            "Epoch 130: Training Loss: 0.242, Val Loss: 0.590, \n",
            "Epoch 135: Training Loss: 0.236, Val Loss: 0.639, \n",
            "Epoch 140: Training Loss: 0.227, Val Loss: 0.609, \n",
            "Epoch 145: Training Loss: 0.219, Val Loss: 0.606, \n",
            "Epoch 150: Training Loss: 0.215, Val Loss: 0.608, \n",
            "Epoch 155: Training Loss: 0.206, Val Loss: 0.624, \n",
            "Epoch 160: Training Loss: 0.208, Val Loss: 0.655, \n",
            "Epoch 165: Training Loss: 0.212, Val Loss: 0.623, \n",
            "Epoch 170: Training Loss: 0.201, Val Loss: 0.629, \n",
            "Epoch 175: Training Loss: 0.195, Val Loss: 0.634, \n",
            "Epoch 180: Training Loss: 0.194, Val Loss: 0.644, \n",
            "Epoch 185: Training Loss: 0.197, Val Loss: 0.663, \n",
            "Epoch 190: Training Loss: 0.181, Val Loss: 0.639, \n",
            "Epoch 195: Training Loss: 0.184, Val Loss: 0.662, \n"
          ],
          "name": "stdout"
        }
      ]
    },
    {
      "cell_type": "markdown",
      "metadata": {
        "id": "xTj6Jiei33BZ"
      },
      "source": [
        "Dibuja el error de entrenamiento y el de validación en una figura."
      ]
    },
    {
      "cell_type": "code",
      "metadata": {
        "id": "ph4dQ3aV4BM4",
        "colab": {
          "base_uri": "https://localhost:8080/",
          "height": 294
        },
        "outputId": "de1a1d65-0720-4860-9636-010667ee04ce"
      },
      "source": [
        "fig = plt.figure()\n",
        "ax = fig.add_subplot(1, 1, 1)\n",
        "fig.suptitle('Training and Validation Metrics')\n",
        "ax.set_ylabel(\"Loss\", fontsize=14)\n",
        "ax.plot(train_loss_results, label='Loss Train')\n",
        "ax.plot(val_loss_results, label='Loss Validation')\n",
        "ax.legend(title='Train and Eval Losses')\n",
        "plt.show()"
      ],
      "execution_count": null,
      "outputs": [
        {
          "output_type": "display_data",
          "data": {
            "image/png": "[encoded data removed]",
            "text/plain": [
              "<Figure size 432x288 with 1 Axes>"
            ]
          },
          "metadata": {
            "tags": [],
            "needs_background": "light"
          }
        }
      ]
    }
  ]
}