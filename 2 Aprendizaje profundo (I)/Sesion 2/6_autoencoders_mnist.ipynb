{
  "nbformat": 4,
  "nbformat_minor": 0,
  "metadata": {
    "accelerator": "GPU",
    "colab": {
      "name": "autoencoders_mnist.ipynb",
      "provenance": [],
      "collapsed_sections": [],
      "include_colab_link": true
    },
    "kernelspec": {
      "display_name": "Python 3",
      "language": "python",
      "name": "python3"
    },
    "language_info": {
      "codemirror_mode": {
        "name": "ipython",
        "version": 3
      },
      "file_extension": ".py",
      "mimetype": "text/x-python",
      "name": "python",
      "nbconvert_exporter": "python",
      "pygments_lexer": "ipython3",
      "version": "3.7.6"
    }
  },
  "cells": [
    {
      "cell_type": "markdown",
      "metadata": {
        "id": "view-in-github",
        "colab_type": "text"
      },
      "source": [
        "<a href=\"https://colab.research.google.com/github/vicentcamison/idal_ia3/blob/main/2%20Aprendizaje%20profundo%20(I)/Sesion%202/6_autoencoders_mnist.ipynb\" target=\"_parent\"><img src=\"https://colab.research.google.com/assets/colab-badge.svg\" alt=\"Open In Colab\"/></a>"
      ]
    },
    {
      "cell_type": "markdown",
      "metadata": {
        "id": "ZoEFSXNDN4ju"
      },
      "source": [
        "# Entrenamiento de Autoencoders con datos de dígitos (MNIST)"
      ]
    },
    {
      "cell_type": "code",
      "metadata": {
        "id": "ZKwAmM2mNgEF"
      },
      "source": [
        "import numpy as np\n",
        "import tensorflow as tf\n",
        "from tensorflow.keras.layers import Dense, Input, Lambda, Dropout\n",
        "import matplotlib.pyplot as plt\n",
        "tf.random.set_seed(42)"
      ],
      "execution_count": 40,
      "outputs": []
    },
    {
      "cell_type": "markdown",
      "metadata": {
        "id": "XssZbuDSOEI1"
      },
      "source": [
        "## Carga y procesamiento de los datos\n"
      ]
    },
    {
      "cell_type": "code",
      "metadata": {
        "id": "V0fBxO1COFIl",
        "outputId": "4663f147-b87f-468b-92d2-7d51b58fc6b9",
        "colab": {
          "base_uri": "https://localhost:8080/"
        }
      },
      "source": [
        "# Carga\n",
        "(X_train, y_train), (X_test, _) = tf.keras.datasets.mnist.load_data()\n",
        "print(' -Entradas Entrenamiento:', X_train.shape)\n",
        "print(' -Entradas Test:', X_test.shape)\n",
        "\n",
        "# Normalización\n",
        "X_train = X_train.astype('float32') / 255\n",
        "X_test = X_test.astype('float32') / 255\n",
        "\n",
        "print('Cambio de dimensiones para ajustar a la entrada de un Perceptrón:')\n",
        "x_shape = X_train.shape\n",
        "X_train = X_train.reshape(x_shape[0], x_shape[1]*x_shape[2])\n",
        "X_test = X_test.reshape(len(X_test), x_shape[1]*x_shape[2])\n",
        "print(' -Entradas Entrenamiento:', X_train.shape)\n",
        "print(' -Entradas Test:', X_test.shape)"
      ],
      "execution_count": 2,
      "outputs": [
        {
          "output_type": "stream",
          "text": [
            "Downloading data from https://storage.googleapis.com/tensorflow/tf-keras-datasets/mnist.npz\n",
            "11493376/11490434 [==============================] - 0s 0us/step\n",
            " -Entradas Entrenamiento: (60000, 28, 28)\n",
            " -Entradas Test: (10000, 28, 28)\n",
            "Cambio de dimensiones para ajustar a la entrada de un Perceptrón:\n",
            " -Entradas Entrenamiento: (60000, 784)\n",
            " -Entradas Test: (10000, 784)\n"
          ],
          "name": "stdout"
        }
      ]
    },
    {
      "cell_type": "markdown",
      "metadata": {
        "id": "yRaqLl-2Ckxv"
      },
      "source": [
        "**Comentario sobre usar Crossentropy como medida del error** (y - f(x))"
      ]
    },
    {
      "cell_type": "code",
      "metadata": {
        "id": "77ag7f_fBUSP",
        "outputId": "58117a6a-b75e-4793-cef3-2ec984422648",
        "colab": {
          "base_uri": "https://localhost:8080/"
        }
      },
      "source": [
        "# El problema de la entropía cruzada es que es asimétrica respecto al valor medido (los dos resultados podrían ser iguales ya que significan\n",
        "# lo misma  nivel de error, pero no lo son)\n",
        "tf.losses.binary_crossentropy(np.array([.8]), np.array([.9]))"
      ],
      "execution_count": 4,
      "outputs": [
        {
          "output_type": "execute_result",
          "data": {
            "text/plain": [
              "<tf.Tensor: shape=(), dtype=float64, numpy=0.5448051422362862>"
            ]
          },
          "metadata": {
            "tags": []
          },
          "execution_count": 4
        }
      ]
    },
    {
      "cell_type": "code",
      "metadata": {
        "id": "T0cPWRQrBh7D",
        "outputId": "097b26a9-68f1-4551-f7c9-4251ab51a053",
        "colab": {
          "base_uri": "https://localhost:8080/"
        }
      },
      "source": [
        "tf.losses.binary_crossentropy(np.array([.8]), np.array([.7]))"
      ],
      "execution_count": 5,
      "outputs": [
        {
          "output_type": "execute_result",
          "data": {
            "text/plain": [
              "<tf.Tensor: shape=(), dtype=float64, numpy=0.5261343350638115>"
            ]
          },
          "metadata": {
            "tags": []
          },
          "execution_count": 5
        }
      ]
    },
    {
      "cell_type": "code",
      "metadata": {
        "id": "X8QLdoP_B5kD",
        "outputId": "a8cab757-5158-4afd-8e75-f21c738834a2",
        "colab": {
          "base_uri": "https://localhost:8080/"
        }
      },
      "source": [
        "#Por otro lado, la entropía cruzada tiene un sesgo hacia el 0.5.\n",
        "# Pasar de 0.3 a 0.4 tiene un error menor que pasar de 0.3 a 0.2 (al contrario que si esta situación se diera por encima de 0.5, \n",
        "# como en el caso de arriba)\n",
        "tf.losses.binary_crossentropy(np.array([.3]), np.array([.4]))"
      ],
      "execution_count": 6,
      "outputs": [
        {
          "output_type": "execute_result",
          "data": {
            "text/plain": [
              "<tf.Tensor: shape=(), dtype=float64, numpy=0.6324649645317925>"
            ]
          },
          "metadata": {
            "tags": []
          },
          "execution_count": 6
        }
      ]
    },
    {
      "cell_type": "code",
      "metadata": {
        "id": "w0J0n_RuB8KH",
        "outputId": "dd514f6f-e84e-48ca-d0e2-1c9a3e0f4700",
        "colab": {
          "base_uri": "https://localhost:8080/"
        }
      },
      "source": [
        "tf.losses.binary_crossentropy(np.array([.3]), np.array([.2]))"
      ],
      "execution_count": 8,
      "outputs": [
        {
          "output_type": "execute_result",
          "data": {
            "text/plain": [
              "<tf.Tensor: shape=(), dtype=float64, numpy=0.6390316221502198>"
            ]
          },
          "metadata": {
            "tags": []
          },
          "execution_count": 8
        }
      ]
    },
    {
      "cell_type": "code",
      "metadata": {
        "id": "ZIlCi_7eCVEu"
      },
      "source": [
        "#Es decir, se suele tender mucho al 0.5 con el crossentropy, salen resultados más 'sucios' (este adjetivo me lo he inventado yo, no recuerdo\n",
        "# qué ha dicho el profe en concreto)"
      ],
      "execution_count": null,
      "outputs": []
    },
    {
      "cell_type": "markdown",
      "metadata": {
        "id": "N9l_RuFtOc9n"
      },
      "source": [
        "## Autoencoder profundo\n",
        "### Creación del autoencoder\n",
        "Vamos a crear un autoencoder que codifique y decodifique la entrada de 728 píxeles en la siguiente secuencia de dimensiones:\n",
        "\n",
        "784 → 128 → 64 → 32 → 64 → 128 → 784"
      ]
    },
    {
      "cell_type": "code",
      "metadata": {
        "id": "qi1nIAg7Oafu",
        "outputId": "ba086f79-f74b-47f3-914b-f8cc41638a66",
        "colab": {
          "base_uri": "https://localhost:8080/"
        }
      },
      "source": [
        "# Tamaño de nuestra representación codificada\n",
        "encoding_dim = 32  # Factor de compresión = 24.5 (dado que la entrada es de tamaño 784)\n",
        "\n",
        "# Definimos las capas para la entrada, el encoder y el decoder:\n",
        "# Capa de entrada\n",
        "input_img = Input(shape=(784,), name='Input')\n",
        "\n",
        "# Capas del encoder\n",
        "encoder1 = Dense(128, activation='relu', name='Encoder1')\n",
        "encoder2 = Dense(64, activation='relu', name='Encoder2')\n",
        "encoder3 = Dense(32, activation='relu', name='Encoder3')\n",
        "\n",
        "# Capas del decoder\n",
        "decoder1 = Dense(64, activation='relu', name='Decoder1')\n",
        "decoder2 = Dense(128, activation='relu', name='Decoder2')\n",
        "decoder3 = Dense(784, activation='sigmoid', name='Decoder3')\n",
        "\n",
        "#       Autoencoder\n",
        "# --------------------------\n",
        "# \"encoded\" es la representación codificada de la entrada (cada vez más comprimida)\n",
        "encoded = encoder1(input_img)\n",
        "encoded = encoder2(encoded)\n",
        "encoded = encoder3(encoded)\n",
        "\n",
        "# \"decoded\" es la reconstrución de la entrada a partir de la entrada codificada\n",
        "decoded = decoder1(encoded)\n",
        "decoded = decoder2(decoded)\n",
        "decoded = decoder3(decoded)\n",
        "\n",
        "\n",
        "# Modelo que reconstruye una entrada\n",
        "autoencoder = tf.keras.Model(input_img, decoded)\n",
        "\n",
        "# Visualizar arquitectura y dimensiones\n",
        "print(f\"{'*'*65}\\n\\t\\t\\tAutoencoder\\n{'*'*65}\")\n",
        "autoencoder.summary()"
      ],
      "execution_count": 54,
      "outputs": [
        {
          "output_type": "stream",
          "text": [
            "*****************************************************************\n",
            "\t\t\tAutoencoder\n",
            "*****************************************************************\n",
            "Model: \"functional_23\"\n",
            "_________________________________________________________________\n",
            "Layer (type)                 Output Shape              Param #   \n",
            "=================================================================\n",
            "Input (InputLayer)           [(None, 784)]             0         \n",
            "_________________________________________________________________\n",
            "Encoder1 (Dense)             (None, 128)               100480    \n",
            "_________________________________________________________________\n",
            "Encoder2 (Dense)             (None, 64)                8256      \n",
            "_________________________________________________________________\n",
            "Encoder3 (Dense)             (None, 32)                2080      \n",
            "_________________________________________________________________\n",
            "Decoder1 (Dense)             (None, 64)                2112      \n",
            "_________________________________________________________________\n",
            "Decoder2 (Dense)             (None, 128)               8320      \n",
            "_________________________________________________________________\n",
            "Decoder3 (Dense)             (None, 784)               101136    \n",
            "=================================================================\n",
            "Total params: 222,384\n",
            "Trainable params: 222,384\n",
            "Non-trainable params: 0\n",
            "_________________________________________________________________\n"
          ],
          "name": "stdout"
        }
      ]
    },
    {
      "cell_type": "markdown",
      "metadata": {
        "id": "tIRkVdivQ8qL"
      },
      "source": [
        "### Entrenamiento"
      ]
    },
    {
      "cell_type": "code",
      "metadata": {
        "id": "nblNVZF3Q8Cl",
        "outputId": "724684ac-591b-4225-9658-65e615eb3d42",
        "colab": {
          "base_uri": "https://localhost:8080/"
        }
      },
      "source": [
        "autoencoder.compile(optimizer='adam', loss='binary_crossentropy', metrics=['MeanSquaredError'])\n",
        "hist= autoencoder.fit(x=X_train, \n",
        "                      y=X_train,\n",
        "                      epochs=50,\n",
        "                      batch_size=256,\n",
        "                      shuffle=True,\n",
        "                      validation_data=(X_test, X_test))"
      ],
      "execution_count": 55,
      "outputs": [
        {
          "output_type": "stream",
          "text": [
            "Epoch 1/50\n",
            "235/235 [==============================] - 1s 4ms/step - loss: 0.2435 - mean_squared_error: 0.0604 - val_loss: 0.1620 - val_mean_squared_error: 0.0333\n",
            "Epoch 2/50\n",
            "235/235 [==============================] - 1s 4ms/step - loss: 0.1473 - mean_squared_error: 0.0282 - val_loss: 0.1336 - val_mean_squared_error: 0.0236\n",
            "Epoch 3/50\n",
            "235/235 [==============================] - 1s 4ms/step - loss: 0.1280 - mean_squared_error: 0.0216 - val_loss: 0.1217 - val_mean_squared_error: 0.0197\n",
            "Epoch 4/50\n",
            "235/235 [==============================] - 1s 4ms/step - loss: 0.1189 - mean_squared_error: 0.0186 - val_loss: 0.1141 - val_mean_squared_error: 0.0171\n",
            "Epoch 5/50\n",
            "235/235 [==============================] - 1s 4ms/step - loss: 0.1130 - mean_squared_error: 0.0167 - val_loss: 0.1093 - val_mean_squared_error: 0.0155\n",
            "Epoch 6/50\n",
            "235/235 [==============================] - 1s 4ms/step - loss: 0.1090 - mean_squared_error: 0.0154 - val_loss: 0.1063 - val_mean_squared_error: 0.0145\n",
            "Epoch 7/50\n",
            "235/235 [==============================] - 1s 4ms/step - loss: 0.1061 - mean_squared_error: 0.0145 - val_loss: 0.1039 - val_mean_squared_error: 0.0138\n",
            "Epoch 8/50\n",
            "235/235 [==============================] - 1s 4ms/step - loss: 0.1041 - mean_squared_error: 0.0138 - val_loss: 0.1018 - val_mean_squared_error: 0.0131\n",
            "Epoch 9/50\n",
            "235/235 [==============================] - 1s 4ms/step - loss: 0.1023 - mean_squared_error: 0.0132 - val_loss: 0.1003 - val_mean_squared_error: 0.0126\n",
            "Epoch 10/50\n",
            "235/235 [==============================] - 1s 4ms/step - loss: 0.1009 - mean_squared_error: 0.0127 - val_loss: 0.0990 - val_mean_squared_error: 0.0122\n",
            "Epoch 11/50\n",
            "235/235 [==============================] - 1s 4ms/step - loss: 0.0994 - mean_squared_error: 0.0123 - val_loss: 0.0975 - val_mean_squared_error: 0.0117\n",
            "Epoch 12/50\n",
            "235/235 [==============================] - 1s 4ms/step - loss: 0.0981 - mean_squared_error: 0.0119 - val_loss: 0.0970 - val_mean_squared_error: 0.0116\n",
            "Epoch 13/50\n",
            "235/235 [==============================] - 1s 4ms/step - loss: 0.0968 - mean_squared_error: 0.0114 - val_loss: 0.0953 - val_mean_squared_error: 0.0110\n",
            "Epoch 14/50\n",
            "235/235 [==============================] - 1s 4ms/step - loss: 0.0957 - mean_squared_error: 0.0111 - val_loss: 0.0942 - val_mean_squared_error: 0.0107\n",
            "Epoch 15/50\n",
            "235/235 [==============================] - 1s 4ms/step - loss: 0.0949 - mean_squared_error: 0.0108 - val_loss: 0.0934 - val_mean_squared_error: 0.0104\n",
            "Epoch 16/50\n",
            "235/235 [==============================] - 1s 4ms/step - loss: 0.0940 - mean_squared_error: 0.0105 - val_loss: 0.0929 - val_mean_squared_error: 0.0103\n",
            "Epoch 17/50\n",
            "235/235 [==============================] - 1s 4ms/step - loss: 0.0933 - mean_squared_error: 0.0103 - val_loss: 0.0925 - val_mean_squared_error: 0.0101\n",
            "Epoch 18/50\n",
            "235/235 [==============================] - 1s 4ms/step - loss: 0.0926 - mean_squared_error: 0.0101 - val_loss: 0.0914 - val_mean_squared_error: 0.0098\n",
            "Epoch 19/50\n",
            "235/235 [==============================] - 1s 4ms/step - loss: 0.0919 - mean_squared_error: 0.0099 - val_loss: 0.0907 - val_mean_squared_error: 0.0095\n",
            "Epoch 20/50\n",
            "235/235 [==============================] - 1s 4ms/step - loss: 0.0912 - mean_squared_error: 0.0096 - val_loss: 0.0903 - val_mean_squared_error: 0.0094\n",
            "Epoch 21/50\n",
            "235/235 [==============================] - 1s 4ms/step - loss: 0.0905 - mean_squared_error: 0.0094 - val_loss: 0.0891 - val_mean_squared_error: 0.0090\n",
            "Epoch 22/50\n",
            "235/235 [==============================] - 1s 4ms/step - loss: 0.0898 - mean_squared_error: 0.0092 - val_loss: 0.0889 - val_mean_squared_error: 0.0090\n",
            "Epoch 23/50\n",
            "235/235 [==============================] - 1s 4ms/step - loss: 0.0892 - mean_squared_error: 0.0090 - val_loss: 0.0883 - val_mean_squared_error: 0.0088\n",
            "Epoch 24/50\n",
            "235/235 [==============================] - 1s 4ms/step - loss: 0.0887 - mean_squared_error: 0.0088 - val_loss: 0.0878 - val_mean_squared_error: 0.0086\n",
            "Epoch 25/50\n",
            "235/235 [==============================] - 1s 4ms/step - loss: 0.0883 - mean_squared_error: 0.0087 - val_loss: 0.0873 - val_mean_squared_error: 0.0085\n",
            "Epoch 26/50\n",
            "235/235 [==============================] - 1s 4ms/step - loss: 0.0879 - mean_squared_error: 0.0086 - val_loss: 0.0870 - val_mean_squared_error: 0.0084\n",
            "Epoch 27/50\n",
            "235/235 [==============================] - 1s 4ms/step - loss: 0.0874 - mean_squared_error: 0.0085 - val_loss: 0.0868 - val_mean_squared_error: 0.0083\n",
            "Epoch 28/50\n",
            "235/235 [==============================] - 1s 4ms/step - loss: 0.0872 - mean_squared_error: 0.0084 - val_loss: 0.0866 - val_mean_squared_error: 0.0083\n",
            "Epoch 29/50\n",
            "235/235 [==============================] - 1s 4ms/step - loss: 0.0868 - mean_squared_error: 0.0083 - val_loss: 0.0861 - val_mean_squared_error: 0.0081\n",
            "Epoch 30/50\n",
            "235/235 [==============================] - 1s 4ms/step - loss: 0.0866 - mean_squared_error: 0.0082 - val_loss: 0.0863 - val_mean_squared_error: 0.0082\n",
            "Epoch 31/50\n",
            "235/235 [==============================] - 1s 4ms/step - loss: 0.0864 - mean_squared_error: 0.0081 - val_loss: 0.0858 - val_mean_squared_error: 0.0080\n",
            "Epoch 32/50\n",
            "235/235 [==============================] - 1s 4ms/step - loss: 0.0861 - mean_squared_error: 0.0080 - val_loss: 0.0856 - val_mean_squared_error: 0.0079\n",
            "Epoch 33/50\n",
            "235/235 [==============================] - 1s 4ms/step - loss: 0.0859 - mean_squared_error: 0.0080 - val_loss: 0.0852 - val_mean_squared_error: 0.0078\n",
            "Epoch 34/50\n",
            "235/235 [==============================] - 1s 4ms/step - loss: 0.0856 - mean_squared_error: 0.0079 - val_loss: 0.0853 - val_mean_squared_error: 0.0078\n",
            "Epoch 35/50\n",
            "235/235 [==============================] - 1s 4ms/step - loss: 0.0855 - mean_squared_error: 0.0078 - val_loss: 0.0849 - val_mean_squared_error: 0.0077\n",
            "Epoch 36/50\n",
            "235/235 [==============================] - 1s 4ms/step - loss: 0.0852 - mean_squared_error: 0.0078 - val_loss: 0.0845 - val_mean_squared_error: 0.0076\n",
            "Epoch 37/50\n",
            "235/235 [==============================] - 1s 4ms/step - loss: 0.0850 - mean_squared_error: 0.0077 - val_loss: 0.0849 - val_mean_squared_error: 0.0077\n",
            "Epoch 38/50\n",
            "235/235 [==============================] - 1s 4ms/step - loss: 0.0848 - mean_squared_error: 0.0076 - val_loss: 0.0845 - val_mean_squared_error: 0.0076\n",
            "Epoch 39/50\n",
            "235/235 [==============================] - 1s 4ms/step - loss: 0.0847 - mean_squared_error: 0.0076 - val_loss: 0.0840 - val_mean_squared_error: 0.0074\n",
            "Epoch 40/50\n",
            "235/235 [==============================] - 1s 4ms/step - loss: 0.0845 - mean_squared_error: 0.0075 - val_loss: 0.0840 - val_mean_squared_error: 0.0075\n",
            "Epoch 41/50\n",
            "235/235 [==============================] - 1s 4ms/step - loss: 0.0844 - mean_squared_error: 0.0075 - val_loss: 0.0839 - val_mean_squared_error: 0.0074\n",
            "Epoch 42/50\n",
            "235/235 [==============================] - 1s 4ms/step - loss: 0.0843 - mean_squared_error: 0.0075 - val_loss: 0.0838 - val_mean_squared_error: 0.0074\n",
            "Epoch 43/50\n",
            "235/235 [==============================] - 1s 4ms/step - loss: 0.0842 - mean_squared_error: 0.0074 - val_loss: 0.0840 - val_mean_squared_error: 0.0074\n",
            "Epoch 44/50\n",
            "235/235 [==============================] - 1s 4ms/step - loss: 0.0840 - mean_squared_error: 0.0074 - val_loss: 0.0833 - val_mean_squared_error: 0.0072\n",
            "Epoch 45/50\n",
            "235/235 [==============================] - 1s 4ms/step - loss: 0.0839 - mean_squared_error: 0.0073 - val_loss: 0.0835 - val_mean_squared_error: 0.0073\n",
            "Epoch 46/50\n",
            "235/235 [==============================] - 1s 4ms/step - loss: 0.0838 - mean_squared_error: 0.0073 - val_loss: 0.0835 - val_mean_squared_error: 0.0073\n",
            "Epoch 47/50\n",
            "235/235 [==============================] - 1s 4ms/step - loss: 0.0836 - mean_squared_error: 0.0073 - val_loss: 0.0834 - val_mean_squared_error: 0.0072\n",
            "Epoch 48/50\n",
            "235/235 [==============================] - 1s 4ms/step - loss: 0.0836 - mean_squared_error: 0.0072 - val_loss: 0.0832 - val_mean_squared_error: 0.0072\n",
            "Epoch 49/50\n",
            "235/235 [==============================] - 1s 4ms/step - loss: 0.0834 - mean_squared_error: 0.0072 - val_loss: 0.0829 - val_mean_squared_error: 0.0071\n",
            "Epoch 50/50\n",
            "235/235 [==============================] - 1s 4ms/step - loss: 0.0833 - mean_squared_error: 0.0072 - val_loss: 0.0828 - val_mean_squared_error: 0.0071\n"
          ],
          "name": "stdout"
        }
      ]
    },
    {
      "cell_type": "markdown",
      "metadata": {
        "id": "Ud9za_Rx3Z2u"
      },
      "source": [
        "### Evaluación y visualización"
      ]
    },
    {
      "cell_type": "code",
      "metadata": {
        "id": "EmX4QIq59nKc",
        "outputId": "827d1b2c-b976-4f0a-f400-b0a3b71cdc7a",
        "colab": {
          "base_uri": "https://localhost:8080/",
          "height": 281
        }
      },
      "source": [
        "plt.figure()\n",
        "plt.xlabel('Épocas')\n",
        "plt.ylabel('Error')\n",
        "plt.plot(hist.history['loss'])\n",
        "plt.plot(hist.history['val_loss'])\n",
        "plt.legend(['Entrenamiento', 'Validación']);"
      ],
      "execution_count": 56,
      "outputs": [
        {
          "output_type": "display_data",
          "data": {
            "image/png": "[encoded data removed]",
            "text/plain": [
              "<Figure size 432x288 with 1 Axes>"
            ]
          },
          "metadata": {
            "tags": [],
            "needs_background": "light"
          }
        }
      ]
    },
    {
      "cell_type": "markdown",
      "metadata": {
        "id": "1WP2YHuXTqJw"
      },
      "source": [
        "Hacemos diferentes pruebas para encontrar un model mejor que el dado por el profesor"
      ]
    },
    {
      "cell_type": "code",
      "metadata": {
        "id": "8iK8XxtnTak9",
        "outputId": "52b1f397-aea1-410e-83a5-d30c07df6bd6",
        "colab": {
          "base_uri": "https://localhost:8080/"
        }
      },
      "source": [
        "#HACEMOS DIFERENTES PRUEBAS PARA ENCONTRAR UN MODELO MEJOR\n",
        "\n",
        "# Tamaño de nuestra representación codificada\n",
        "encoding_dim = 32  # Factor de compresión = 24.5 (dado que la entrada es de tamaño 784)\n",
        "\n",
        "# Definimos las capas para la entrada, el encoder y el decoder:\n",
        "# Capa de entrada\n",
        "input_img = Input(shape=(784,), name='Input')\n",
        "\n",
        "# Capas del encoder\n",
        "encoder1 = Dense(256, activation='relu', name='Encoder1')\n",
        "#drop1 = Dropout(0.5, name='Dropout1')\n",
        "encoder3 = Dense(32, activation='relu', name='Encoder3')\n",
        "\n",
        "# Capas del decoder\n",
        "decoder1 = Dense(256, activation='relu', name='Decoder1')\n",
        "#drop3 = Dropout(0.5, name='Dropout3')\n",
        "decoder3 = Dense(784, activation='sigmoid', name='Decoder3')\n",
        "\n",
        "#       Autoencoder\n",
        "# --------------------------\n",
        "# \"encoded\" es la representación codificada de la entrada (cada vez más comprimida)\n",
        "encoded = encoder1(input_img)\n",
        "#encoded = drop1(encoded)\n",
        "encoded = encoder3(encoded)\n",
        "\n",
        "# \"decoded\" es la reconstrución de la entrada a partir de la entrada codificada\n",
        "decoded = decoder1(encoded)\n",
        "#encoded = drop3(decoded)\n",
        "decoded = decoder3(decoded)\n",
        "\n",
        "\n",
        "# Modelo que reconstruye una entrada\n",
        "autoencoder = tf.keras.Model(input_img, decoded)\n",
        "\n",
        "# Visualizar arquitectura y dimensiones\n",
        "print(f\"{'*'*65}\\n\\t\\t\\tAutoencoder\\n{'*'*65}\")\n",
        "autoencoder.summary()"
      ],
      "execution_count": 64,
      "outputs": [
        {
          "output_type": "stream",
          "text": [
            "*****************************************************************\n",
            "\t\t\tAutoencoder\n",
            "*****************************************************************\n",
            "Model: \"functional_29\"\n",
            "_________________________________________________________________\n",
            "Layer (type)                 Output Shape              Param #   \n",
            "=================================================================\n",
            "Input (InputLayer)           [(None, 784)]             0         \n",
            "_________________________________________________________________\n",
            "Encoder1 (Dense)             (None, 256)               200960    \n",
            "_________________________________________________________________\n",
            "Encoder3 (Dense)             (None, 32)                8224      \n",
            "_________________________________________________________________\n",
            "Decoder1 (Dense)             (None, 256)               8448      \n",
            "_________________________________________________________________\n",
            "Decoder3 (Dense)             (None, 784)               201488    \n",
            "=================================================================\n",
            "Total params: 419,120\n",
            "Trainable params: 419,120\n",
            "Non-trainable params: 0\n",
            "_________________________________________________________________\n"
          ],
          "name": "stdout"
        }
      ]
    },
    {
      "cell_type": "code",
      "metadata": {
        "id": "NsHT8s1bTzZJ",
        "outputId": "1de23660-bb6b-4b21-c176-2ec435b71994",
        "colab": {
          "base_uri": "https://localhost:8080/"
        }
      },
      "source": [
        "autoencoder.compile(optimizer='adam', loss='binary_crossentropy', metrics=['MeanSquaredError'])\n",
        "hist= autoencoder.fit(x=X_train, \n",
        "                      y=X_train,\n",
        "                      epochs=50,\n",
        "                      batch_size=256,\n",
        "                      shuffle=True,\n",
        "                      validation_data=(X_test, X_test))"
      ],
      "execution_count": 65,
      "outputs": [
        {
          "output_type": "stream",
          "text": [
            "Epoch 1/50\n",
            "235/235 [==============================] - 1s 4ms/step - loss: 0.2075 - mean_squared_error: 0.0475 - val_loss: 0.1298 - val_mean_squared_error: 0.0221\n",
            "Epoch 2/50\n",
            "235/235 [==============================] - 1s 4ms/step - loss: 0.1172 - mean_squared_error: 0.0179 - val_loss: 0.1075 - val_mean_squared_error: 0.0149\n",
            "Epoch 3/50\n",
            "235/235 [==============================] - 1s 4ms/step - loss: 0.1049 - mean_squared_error: 0.0140 - val_loss: 0.0999 - val_mean_squared_error: 0.0124\n",
            "Epoch 4/50\n",
            "235/235 [==============================] - 1s 4ms/step - loss: 0.0992 - mean_squared_error: 0.0121 - val_loss: 0.0963 - val_mean_squared_error: 0.0113\n",
            "Epoch 5/50\n",
            "235/235 [==============================] - 1s 4ms/step - loss: 0.0964 - mean_squared_error: 0.0112 - val_loss: 0.0941 - val_mean_squared_error: 0.0106\n",
            "Epoch 6/50\n",
            "235/235 [==============================] - 1s 4ms/step - loss: 0.0944 - mean_squared_error: 0.0106 - val_loss: 0.0927 - val_mean_squared_error: 0.0101\n",
            "Epoch 7/50\n",
            "235/235 [==============================] - 1s 4ms/step - loss: 0.0930 - mean_squared_error: 0.0102 - val_loss: 0.0913 - val_mean_squared_error: 0.0097\n",
            "Epoch 8/50\n",
            "235/235 [==============================] - 1s 4ms/step - loss: 0.0918 - mean_squared_error: 0.0098 - val_loss: 0.0905 - val_mean_squared_error: 0.0095\n",
            "Epoch 9/50\n",
            "235/235 [==============================] - 1s 4ms/step - loss: 0.0908 - mean_squared_error: 0.0095 - val_loss: 0.0894 - val_mean_squared_error: 0.0091\n",
            "Epoch 10/50\n",
            "235/235 [==============================] - 1s 4ms/step - loss: 0.0900 - mean_squared_error: 0.0092 - val_loss: 0.0887 - val_mean_squared_error: 0.0089\n",
            "Epoch 11/50\n",
            "235/235 [==============================] - 1s 4ms/step - loss: 0.0891 - mean_squared_error: 0.0090 - val_loss: 0.0880 - val_mean_squared_error: 0.0087\n",
            "Epoch 12/50\n",
            "235/235 [==============================] - 1s 4ms/step - loss: 0.0884 - mean_squared_error: 0.0087 - val_loss: 0.0875 - val_mean_squared_error: 0.0085\n",
            "Epoch 13/50\n",
            "235/235 [==============================] - 1s 4ms/step - loss: 0.0877 - mean_squared_error: 0.0085 - val_loss: 0.0867 - val_mean_squared_error: 0.0083\n",
            "Epoch 14/50\n",
            "235/235 [==============================] - 1s 4ms/step - loss: 0.0872 - mean_squared_error: 0.0083 - val_loss: 0.0863 - val_mean_squared_error: 0.0081\n",
            "Epoch 15/50\n",
            "235/235 [==============================] - 1s 4ms/step - loss: 0.0866 - mean_squared_error: 0.0082 - val_loss: 0.0860 - val_mean_squared_error: 0.0080\n",
            "Epoch 16/50\n",
            "235/235 [==============================] - 1s 4ms/step - loss: 0.0862 - mean_squared_error: 0.0080 - val_loss: 0.0854 - val_mean_squared_error: 0.0079\n",
            "Epoch 17/50\n",
            "235/235 [==============================] - 1s 4ms/step - loss: 0.0857 - mean_squared_error: 0.0079 - val_loss: 0.0850 - val_mean_squared_error: 0.0077\n",
            "Epoch 18/50\n",
            "235/235 [==============================] - 1s 4ms/step - loss: 0.0853 - mean_squared_error: 0.0078 - val_loss: 0.0848 - val_mean_squared_error: 0.0077\n",
            "Epoch 19/50\n",
            "235/235 [==============================] - 1s 4ms/step - loss: 0.0850 - mean_squared_error: 0.0077 - val_loss: 0.0843 - val_mean_squared_error: 0.0075\n",
            "Epoch 20/50\n",
            "235/235 [==============================] - 1s 4ms/step - loss: 0.0846 - mean_squared_error: 0.0075 - val_loss: 0.0840 - val_mean_squared_error: 0.0074\n",
            "Epoch 21/50\n",
            "235/235 [==============================] - 1s 4ms/step - loss: 0.0843 - mean_squared_error: 0.0075 - val_loss: 0.0836 - val_mean_squared_error: 0.0073\n",
            "Epoch 22/50\n",
            "235/235 [==============================] - 1s 4ms/step - loss: 0.0840 - mean_squared_error: 0.0074 - val_loss: 0.0834 - val_mean_squared_error: 0.0072\n",
            "Epoch 23/50\n",
            "235/235 [==============================] - 1s 4ms/step - loss: 0.0837 - mean_squared_error: 0.0073 - val_loss: 0.0832 - val_mean_squared_error: 0.0072\n",
            "Epoch 24/50\n",
            "235/235 [==============================] - 1s 4ms/step - loss: 0.0835 - mean_squared_error: 0.0072 - val_loss: 0.0830 - val_mean_squared_error: 0.0071\n",
            "Epoch 25/50\n",
            "235/235 [==============================] - 1s 4ms/step - loss: 0.0832 - mean_squared_error: 0.0071 - val_loss: 0.0827 - val_mean_squared_error: 0.0070\n",
            "Epoch 26/50\n",
            "235/235 [==============================] - 1s 4ms/step - loss: 0.0830 - mean_squared_error: 0.0071 - val_loss: 0.0825 - val_mean_squared_error: 0.0070\n",
            "Epoch 27/50\n",
            "235/235 [==============================] - 1s 4ms/step - loss: 0.0828 - mean_squared_error: 0.0070 - val_loss: 0.0825 - val_mean_squared_error: 0.0070\n",
            "Epoch 28/50\n",
            "235/235 [==============================] - 1s 4ms/step - loss: 0.0826 - mean_squared_error: 0.0069 - val_loss: 0.0821 - val_mean_squared_error: 0.0068\n",
            "Epoch 29/50\n",
            "235/235 [==============================] - 1s 4ms/step - loss: 0.0824 - mean_squared_error: 0.0069 - val_loss: 0.0820 - val_mean_squared_error: 0.0068\n",
            "Epoch 30/50\n",
            "235/235 [==============================] - 1s 4ms/step - loss: 0.0822 - mean_squared_error: 0.0068 - val_loss: 0.0820 - val_mean_squared_error: 0.0068\n",
            "Epoch 31/50\n",
            "235/235 [==============================] - 1s 4ms/step - loss: 0.0821 - mean_squared_error: 0.0068 - val_loss: 0.0818 - val_mean_squared_error: 0.0068\n",
            "Epoch 32/50\n",
            "235/235 [==============================] - 1s 4ms/step - loss: 0.0819 - mean_squared_error: 0.0067 - val_loss: 0.0815 - val_mean_squared_error: 0.0067\n",
            "Epoch 33/50\n",
            "235/235 [==============================] - 1s 4ms/step - loss: 0.0817 - mean_squared_error: 0.0067 - val_loss: 0.0814 - val_mean_squared_error: 0.0066\n",
            "Epoch 34/50\n",
            "235/235 [==============================] - 1s 4ms/step - loss: 0.0816 - mean_squared_error: 0.0066 - val_loss: 0.0814 - val_mean_squared_error: 0.0066\n",
            "Epoch 35/50\n",
            "235/235 [==============================] - 1s 4ms/step - loss: 0.0814 - mean_squared_error: 0.0066 - val_loss: 0.0813 - val_mean_squared_error: 0.0066\n",
            "Epoch 36/50\n",
            "235/235 [==============================] - 1s 4ms/step - loss: 0.0813 - mean_squared_error: 0.0065 - val_loss: 0.0810 - val_mean_squared_error: 0.0065\n",
            "Epoch 37/50\n",
            "235/235 [==============================] - 1s 4ms/step - loss: 0.0812 - mean_squared_error: 0.0065 - val_loss: 0.0811 - val_mean_squared_error: 0.0065\n",
            "Epoch 38/50\n",
            "235/235 [==============================] - 1s 4ms/step - loss: 0.0811 - mean_squared_error: 0.0065 - val_loss: 0.0809 - val_mean_squared_error: 0.0065\n",
            "Epoch 39/50\n",
            "235/235 [==============================] - 1s 4ms/step - loss: 0.0809 - mean_squared_error: 0.0064 - val_loss: 0.0808 - val_mean_squared_error: 0.0064\n",
            "Epoch 40/50\n",
            "235/235 [==============================] - 1s 4ms/step - loss: 0.0808 - mean_squared_error: 0.0064 - val_loss: 0.0806 - val_mean_squared_error: 0.0064\n",
            "Epoch 41/50\n",
            "235/235 [==============================] - 1s 4ms/step - loss: 0.0807 - mean_squared_error: 0.0063 - val_loss: 0.0805 - val_mean_squared_error: 0.0064\n",
            "Epoch 42/50\n",
            "235/235 [==============================] - 1s 4ms/step - loss: 0.0806 - mean_squared_error: 0.0063 - val_loss: 0.0806 - val_mean_squared_error: 0.0064\n",
            "Epoch 43/50\n",
            "235/235 [==============================] - 1s 4ms/step - loss: 0.0805 - mean_squared_error: 0.0063 - val_loss: 0.0805 - val_mean_squared_error: 0.0063\n",
            "Epoch 44/50\n",
            "235/235 [==============================] - 1s 4ms/step - loss: 0.0804 - mean_squared_error: 0.0063 - val_loss: 0.0804 - val_mean_squared_error: 0.0063\n",
            "Epoch 45/50\n",
            "235/235 [==============================] - 1s 4ms/step - loss: 0.0804 - mean_squared_error: 0.0062 - val_loss: 0.0803 - val_mean_squared_error: 0.0063\n",
            "Epoch 46/50\n",
            "235/235 [==============================] - 1s 4ms/step - loss: 0.0803 - mean_squared_error: 0.0062 - val_loss: 0.0803 - val_mean_squared_error: 0.0063\n",
            "Epoch 47/50\n",
            "235/235 [==============================] - 1s 4ms/step - loss: 0.0802 - mean_squared_error: 0.0062 - val_loss: 0.0802 - val_mean_squared_error: 0.0063\n",
            "Epoch 48/50\n",
            "235/235 [==============================] - 1s 4ms/step - loss: 0.0801 - mean_squared_error: 0.0062 - val_loss: 0.0801 - val_mean_squared_error: 0.0062\n",
            "Epoch 49/50\n",
            "235/235 [==============================] - 1s 4ms/step - loss: 0.0800 - mean_squared_error: 0.0061 - val_loss: 0.0800 - val_mean_squared_error: 0.0062\n",
            "Epoch 50/50\n",
            "235/235 [==============================] - 1s 4ms/step - loss: 0.0800 - mean_squared_error: 0.0061 - val_loss: 0.0802 - val_mean_squared_error: 0.0063\n"
          ],
          "name": "stdout"
        }
      ]
    },
    {
      "cell_type": "code",
      "metadata": {
        "id": "i95m6_LJYn7E",
        "outputId": "2b331b2d-eb82-4ab9-8cb3-ee89fdd787eb",
        "colab": {
          "base_uri": "https://localhost:8080/",
          "height": 281
        }
      },
      "source": [
        "plt.figure()\n",
        "plt.xlabel('Épocas')\n",
        "plt.ylabel('Error')\n",
        "plt.plot(hist.history['loss'])\n",
        "plt.plot(hist.history['val_loss'])\n",
        "plt.legend(['Entrenamiento', 'Validación']);"
      ],
      "execution_count": 53,
      "outputs": [
        {
          "output_type": "display_data",
          "data": {
            "image/png": "[encoded data removed]",
            "text/plain": [
              "<Figure size 432x288 with 1 Axes>"
            ]
          },
          "metadata": {
            "tags": [],
            "needs_background": "light"
          }
        }
      ]
    },
    {
      "cell_type": "code",
      "metadata": {
        "id": "4JAmGvpcs0_r",
        "outputId": "703045cb-b5a9-4fe0-ceab-2d5d9be031f2",
        "colab": {
          "base_uri": "https://localhost:8080/",
          "height": 611
        }
      },
      "source": [
        "# Vamos a crear ahora por un lado un modelo para el encoder y otro para el decoder\n",
        "#          Encoder\n",
        "# ------------------------\n",
        "\n",
        "encoder = tf.keras.Model(input_img, encoded)\n",
        "\n",
        "#AQUÍ FALLA ALGO DEL CÓDIGO\n",
        "\n",
        "# Visualizar arquitectura y dimensiones\n",
        "print(f\"\\n{'*'*65}\\n\\t\\t\\tEncoder\\n{'*'*65}\")\n",
        "encoder.summary()\n",
        "\n",
        "# Codificamos y decodificamos algunos dígitos de ejemplo (datos de test)\n",
        "# -----------------------\n",
        "encoded_imgs = encoder.predict(X_test)\n",
        "decoded_imgs = autoencoder.predict(X_test)\n",
        " \n",
        "n_images = 10 \n",
        "plt.figure(figsize=(30, 4))\n",
        "for i in range(n_images):\n",
        "    # Entrada (original)\n",
        "    plt.subplot(3, n_images, i + 1)\n",
        "    plt.imshow(X_test[i].reshape(28, 28), cmap='gray')\n",
        "    plt.title('Entrada')\n",
        "    plt.axis('off')\n",
        "\n",
        "    # Codificación\n",
        "    plt.subplot(3, n_images, i + 1 + n_images)\n",
        "    plt.imshow(encoded_imgs[i].reshape(1, encoding_dim), cmap='gray')\n",
        "    plt.axis('off')\n",
        "    plt.title('Entrada codificada')\n",
        "    \n",
        "    # Reconstrucción\n",
        "    plt.subplot(3, n_images, i + 1 + n_images + n_images)\n",
        "    plt.imshow(decoded_imgs[i].reshape(28, 28), cmap='gray')\n",
        "    plt.axis('off')\n",
        "    plt.title('Reconstrucción')\n",
        "\n"
      ],
      "execution_count": 63,
      "outputs": [
        {
          "output_type": "stream",
          "text": [
            "\n",
            "*****************************************************************\n",
            "\t\t\tEncoder\n",
            "*****************************************************************\n",
            "Model: \"functional_27\"\n",
            "_________________________________________________________________\n",
            "Layer (type)                 Output Shape              Param #   \n",
            "=================================================================\n",
            "Input (InputLayer)           [(None, 784)]             0         \n",
            "_________________________________________________________________\n",
            "Encoder1 (Dense)             (None, 128)               100480    \n",
            "_________________________________________________________________\n",
            "Encoder2 (Dense)             (None, 64)                8256      \n",
            "_________________________________________________________________\n",
            "Encoder3 (Dense)             (None, 32)                2080      \n",
            "=================================================================\n",
            "Total params: 110,816\n",
            "Trainable params: 110,816\n",
            "Non-trainable params: 0\n",
            "_________________________________________________________________\n"
          ],
          "name": "stdout"
        },
        {
          "output_type": "display_data",
          "data": {
            "image/png": "[encoded data removed]",
            "text/plain": [
              "<Figure size 2160x288 with 30 Axes>"
            ]
          },
          "metadata": {
            "tags": [],
            "needs_background": "light"
          }
        }
      ]
    },
    {
      "cell_type": "markdown",
      "metadata": {
        "id": "z_F7bIhs3fCN"
      },
      "source": [
        "## Aplicación: Eliminación de ruido\n",
        "Para obtener un modelo capaz de eliminar ruido de las imágenes de dígitos vamos a entrenar un autoencoder que mapee imágenes de dígitos con ruido (entrada) a imágenes de dígitos \"limpias\"."
      ]
    },
    {
      "cell_type": "code",
      "metadata": {
        "id": "G4ms-kNx3tZG",
        "outputId": "6795da5b-47f4-4c63-a5a2-e6c4c82498b4",
        "colab": {
          "base_uri": "https://localhost:8080/",
          "height": 173
        }
      },
      "source": [
        "# Añadimos ruido gaussiano (distribución normal) a las imágenes.\n",
        "noise_factor = 0.8\n",
        "X_train_noisy = X_train + noise_factor * np.random.normal(loc=0.0, scale=1.0, size=X_train.shape) \n",
        "X_test_noisy = X_test + noise_factor * np.random.normal(loc=0.0, scale=1.0, size=X_test.shape) \n",
        "\n",
        "# Aseguramos que todos los pixeles queden en el rango [0, 1]\n",
        "X_train_noisy = np.clip(X_train_noisy, 0., 1.)\n",
        "X_test_noisy = np.clip(X_test_noisy, 0., 1.)\n",
        "\n",
        "# Dibujamos las imágenes con ruido\n",
        "n_images = 10\n",
        "plt.figure(figsize=(30, 3))\n",
        "for i in range(n_images):\n",
        "    plt.subplot(1, n_images, i+1)\n",
        "    plt.imshow(X_test_noisy[i].reshape(28, 28), cmap='gray')\n",
        "    plt.axis('off')"
      ],
      "execution_count": 66,
      "outputs": [
        {
          "output_type": "display_data",
          "data": {
            "image/png": "[encoded data removed]",
            "text/plain": [
              "<Figure size 2160x216 with 10 Axes>"
            ]
          },
          "metadata": {
            "tags": [],
            "needs_background": "light"
          }
        }
      ]
    },
    {
      "cell_type": "markdown",
      "metadata": {
        "id": "DP5x2WdhAZo7"
      },
      "source": [
        "### Creación del modelo y entrenamiento"
      ]
    },
    {
      "cell_type": "code",
      "metadata": {
        "id": "rnDxX8xYAY6d",
        "outputId": "9d4a5c3d-98f4-42fc-f69a-09a0faa72d1f",
        "colab": {
          "base_uri": "https://localhost:8080/"
        }
      },
      "source": [
        "# Creación del modelo\n",
        "encoding_dim = 32\n",
        "autoencoder = tf.keras.models.Sequential()\n",
        "autoencoder.add(Dense(128, activation='relu', input_shape=(784,)))\n",
        "autoencoder.add(Dense(64, activation='relu'))\n",
        "autoencoder.add(Dense(32, activation='relu'))\n",
        "autoencoder.add(Dense(64, activation='relu'))\n",
        "autoencoder.add(Dense(784, activation='sigmoid'))\n",
        "\n",
        "# Entrenamiento\n",
        "autoencoder.compile(optimizer='adam', loss='MeanSquaredError')\n",
        "hist= autoencoder.fit(X_train_noisy, \n",
        "                      X_train,\n",
        "                      epochs=50,\n",
        "                      batch_size=256,\n",
        "                      shuffle=True,\n",
        "                      validation_data=(X_test_noisy, X_test))\n"
      ],
      "execution_count": 67,
      "outputs": [
        {
          "output_type": "stream",
          "text": [
            "Epoch 1/50\n",
            "235/235 [==============================] - 1s 4ms/step - loss: 0.0710 - val_loss: 0.0545\n",
            "Epoch 2/50\n",
            "235/235 [==============================] - 1s 3ms/step - loss: 0.0506 - val_loss: 0.0463\n",
            "Epoch 3/50\n",
            "235/235 [==============================] - 1s 3ms/step - loss: 0.0435 - val_loss: 0.0410\n",
            "Epoch 4/50\n",
            "235/235 [==============================] - 1s 3ms/step - loss: 0.0401 - val_loss: 0.0385\n",
            "Epoch 5/50\n",
            "235/235 [==============================] - 1s 3ms/step - loss: 0.0380 - val_loss: 0.0368\n",
            "Epoch 6/50\n",
            "235/235 [==============================] - 1s 3ms/step - loss: 0.0364 - val_loss: 0.0354\n",
            "Epoch 7/50\n",
            "235/235 [==============================] - 1s 3ms/step - loss: 0.0350 - val_loss: 0.0342\n",
            "Epoch 8/50\n",
            "235/235 [==============================] - 1s 3ms/step - loss: 0.0340 - val_loss: 0.0337\n",
            "Epoch 9/50\n",
            "235/235 [==============================] - 1s 3ms/step - loss: 0.0332 - val_loss: 0.0329\n",
            "Epoch 10/50\n",
            "235/235 [==============================] - 1s 3ms/step - loss: 0.0326 - val_loss: 0.0324\n",
            "Epoch 11/50\n",
            "235/235 [==============================] - 1s 3ms/step - loss: 0.0320 - val_loss: 0.0320\n",
            "Epoch 12/50\n",
            "235/235 [==============================] - 1s 3ms/step - loss: 0.0315 - val_loss: 0.0313\n",
            "Epoch 13/50\n",
            "235/235 [==============================] - 1s 3ms/step - loss: 0.0310 - val_loss: 0.0309\n",
            "Epoch 14/50\n",
            "235/235 [==============================] - 1s 3ms/step - loss: 0.0305 - val_loss: 0.0306\n",
            "Epoch 15/50\n",
            "235/235 [==============================] - 1s 3ms/step - loss: 0.0302 - val_loss: 0.0305\n",
            "Epoch 16/50\n",
            "235/235 [==============================] - 1s 3ms/step - loss: 0.0299 - val_loss: 0.0301\n",
            "Epoch 17/50\n",
            "235/235 [==============================] - 1s 3ms/step - loss: 0.0296 - val_loss: 0.0300\n",
            "Epoch 18/50\n",
            "235/235 [==============================] - 1s 3ms/step - loss: 0.0293 - val_loss: 0.0296\n",
            "Epoch 19/50\n",
            "235/235 [==============================] - 1s 3ms/step - loss: 0.0290 - val_loss: 0.0296\n",
            "Epoch 20/50\n",
            "235/235 [==============================] - 1s 3ms/step - loss: 0.0288 - val_loss: 0.0293\n",
            "Epoch 21/50\n",
            "235/235 [==============================] - 1s 3ms/step - loss: 0.0285 - val_loss: 0.0291\n",
            "Epoch 22/50\n",
            "235/235 [==============================] - 1s 3ms/step - loss: 0.0283 - val_loss: 0.0290\n",
            "Epoch 23/50\n",
            "235/235 [==============================] - 1s 3ms/step - loss: 0.0280 - val_loss: 0.0287\n",
            "Epoch 24/50\n",
            "235/235 [==============================] - 1s 3ms/step - loss: 0.0278 - val_loss: 0.0286\n",
            "Epoch 25/50\n",
            "235/235 [==============================] - 1s 3ms/step - loss: 0.0277 - val_loss: 0.0285\n",
            "Epoch 26/50\n",
            "235/235 [==============================] - 1s 3ms/step - loss: 0.0275 - val_loss: 0.0284\n",
            "Epoch 27/50\n",
            "235/235 [==============================] - 1s 3ms/step - loss: 0.0273 - val_loss: 0.0283\n",
            "Epoch 28/50\n",
            "235/235 [==============================] - 1s 3ms/step - loss: 0.0272 - val_loss: 0.0284\n",
            "Epoch 29/50\n",
            "235/235 [==============================] - 1s 3ms/step - loss: 0.0271 - val_loss: 0.0281\n",
            "Epoch 30/50\n",
            "235/235 [==============================] - 1s 3ms/step - loss: 0.0269 - val_loss: 0.0283\n",
            "Epoch 31/50\n",
            "235/235 [==============================] - 1s 3ms/step - loss: 0.0268 - val_loss: 0.0282\n",
            "Epoch 32/50\n",
            "235/235 [==============================] - 1s 3ms/step - loss: 0.0267 - val_loss: 0.0279\n",
            "Epoch 33/50\n",
            "235/235 [==============================] - 1s 3ms/step - loss: 0.0266 - val_loss: 0.0279\n",
            "Epoch 34/50\n",
            "235/235 [==============================] - 1s 3ms/step - loss: 0.0265 - val_loss: 0.0280\n",
            "Epoch 35/50\n",
            "235/235 [==============================] - 1s 3ms/step - loss: 0.0265 - val_loss: 0.0278\n",
            "Epoch 36/50\n",
            "235/235 [==============================] - 1s 3ms/step - loss: 0.0264 - val_loss: 0.0278\n",
            "Epoch 37/50\n",
            "235/235 [==============================] - 1s 3ms/step - loss: 0.0263 - val_loss: 0.0279\n",
            "Epoch 38/50\n",
            "235/235 [==============================] - 1s 3ms/step - loss: 0.0262 - val_loss: 0.0277\n",
            "Epoch 39/50\n",
            "235/235 [==============================] - 1s 3ms/step - loss: 0.0261 - val_loss: 0.0277\n",
            "Epoch 40/50\n",
            "235/235 [==============================] - 1s 3ms/step - loss: 0.0261 - val_loss: 0.0276\n",
            "Epoch 41/50\n",
            "235/235 [==============================] - 1s 3ms/step - loss: 0.0260 - val_loss: 0.0276\n",
            "Epoch 42/50\n",
            "235/235 [==============================] - 1s 3ms/step - loss: 0.0259 - val_loss: 0.0275\n",
            "Epoch 43/50\n",
            "235/235 [==============================] - 1s 3ms/step - loss: 0.0259 - val_loss: 0.0275\n",
            "Epoch 44/50\n",
            "235/235 [==============================] - 1s 3ms/step - loss: 0.0258 - val_loss: 0.0275\n",
            "Epoch 45/50\n",
            "235/235 [==============================] - 1s 3ms/step - loss: 0.0257 - val_loss: 0.0276\n",
            "Epoch 46/50\n",
            "235/235 [==============================] - 1s 3ms/step - loss: 0.0257 - val_loss: 0.0274\n",
            "Epoch 47/50\n",
            "235/235 [==============================] - 1s 3ms/step - loss: 0.0256 - val_loss: 0.0274\n",
            "Epoch 48/50\n",
            "235/235 [==============================] - 1s 3ms/step - loss: 0.0256 - val_loss: 0.0273\n",
            "Epoch 49/50\n",
            "235/235 [==============================] - 1s 3ms/step - loss: 0.0255 - val_loss: 0.0273\n",
            "Epoch 50/50\n",
            "235/235 [==============================] - 1s 3ms/step - loss: 0.0254 - val_loss: 0.0274\n"
          ],
          "name": "stdout"
        }
      ]
    },
    {
      "cell_type": "markdown",
      "metadata": {
        "id": "eJVpDdoJC27n"
      },
      "source": [
        "### Evaluación y visualización"
      ]
    },
    {
      "cell_type": "code",
      "metadata": {
        "id": "cr5V5UOgC-OV",
        "outputId": "864df878-3f91-4364-f0ed-f6421675ef70",
        "colab": {
          "base_uri": "https://localhost:8080/",
          "height": 592
        }
      },
      "source": [
        "plt.figure()\n",
        "plt.xlabel('Épocas')\n",
        "plt.ylabel('Error')\n",
        "plt.plot(hist.history['loss'])\n",
        "plt.plot(hist.history['val_loss'])\n",
        "plt.legend(['Entrenamiento', 'Validación'])\n",
        "\n",
        "predictions = autoencoder.predict(X_test)\n",
        "n_images = 10 \n",
        "plt.figure(figsize=(30, 8))\n",
        "for i in range(n_images):\n",
        "    # Entrada (original)\n",
        "    plt.subplot(3, n_images, i + 1)\n",
        "    plt.imshow(X_test_noisy[i].reshape(28, 28), cmap='gray')\n",
        "    plt.title('Entrada')\n",
        "    plt.axis('off')\n",
        "    \n",
        "    # Reconstrucción\n",
        "    plt.subplot(3, n_images, i + 1 + n_images)\n",
        "    plt.imshow(predictions[i].reshape(28, 28), cmap='gray')\n",
        "    plt.axis('off')\n",
        "    plt.title('Reconstrucción')"
      ],
      "execution_count": 68,
      "outputs": [
        {
          "output_type": "display_data",
          "data": {
            "image/png": "[encoded data removed]",
            "text/plain": [
              "<Figure size 432x288 with 1 Axes>"
            ]
          },
          "metadata": {
            "tags": [],
            "needs_background": "light"
          }
        },
        {
          "output_type": "display_data",
          "data": {
            "image/png": "[encoded data removed]",
            "text/plain": [
              "<Figure size 2160x576 with 20 Axes>"
            ]
          },
          "metadata": {
            "tags": [],
            "needs_background": "light"
          }
        }
      ]
    },
    {
      "cell_type": "markdown",
      "metadata": {
        "id": "F0igVc6GhgJF"
      },
      "source": [
        "## Autoencoder Variacional\n",
        "### Creación del Encoder"
      ]
    },
    {
      "cell_type": "code",
      "metadata": {
        "id": "o3MI8YrlBK_h"
      },
      "source": [
        "class Encoder(tf.keras.Model):\n",
        "  def __init__(self):\n",
        "    super(Encoder, self).__init__()\n",
        "\n",
        "    # Capas del encoder\n",
        "    self.encoder1 = Dense(128, activation='relu', name='Encoder1')\n",
        "    self.encoder2 = Dense(64, activation='relu', name='Encoder2')\n",
        "    self.encoder3 = Dense(32, activation='relu', name='Encoder3')\n",
        "\n",
        "  def call(self, inputs, training=None, mask=None):\n",
        "    x = self.encoder1(inputs)\n",
        "    x = self.encoder2(x)\n",
        "    y = self.encoder3(x)\n",
        "\n",
        "    return y"
      ],
      "execution_count": 74,
      "outputs": []
    },
    {
      "cell_type": "markdown",
      "metadata": {
        "id": "z3OWaMRyyfff"
      },
      "source": [
        "### Creación de la capa que representa la distribución normal"
      ]
    },
    {
      "cell_type": "code",
      "metadata": {
        "id": "9spiM1SnyrZH"
      },
      "source": [
        "class NormalDistribution(tf.keras.Model):\n",
        "  def __init__(self):\n",
        "    super(NormalDistribution, self).__init__()\n",
        "    \n",
        "    # Capas\n",
        "    self.z_mean = Dense(2, activation='linear', name='z_mean')\n",
        "    self.z_log_var = Dense(2, activation='linear', name='z_log_var')\n",
        "\n",
        "  def call(self, inputs, training=None, mask=None):\n",
        "    z_mean = self.z_mean(inputs)\n",
        "    z_log_var = self.z_log_var(inputs)\n",
        "    \n",
        "    return z_mean, z_log_var"
      ],
      "execution_count": 72,
      "outputs": []
    },
    {
      "cell_type": "markdown",
      "metadata": {
        "id": "aACxBKvohkXO"
      },
      "source": [
        "\n",
        "### Creación de la capa de muestreo"
      ]
    },
    {
      "cell_type": "code",
      "metadata": {
        "id": "3qtElIDFhpUr"
      },
      "source": [
        "class Reparametrize(tf.keras.layers.Layer):\n",
        "  \"\"\"\n",
        "  Usa (z_mu, z_log_var) para muestrear z (el vector que \n",
        "  representa el dígito codificado)\n",
        "  \"\"\"\n",
        "  def call(self, inputs):\n",
        "    z_mu, z_log_var = inputs\n",
        "    \n",
        "    # Extraemos dimensiones (del batch y del espacio codificado)\n",
        "    batch = tf.shape(z_mu)[0] #se puede usar cualquiera de las dos, z_mu o z_log_var, ya que tienen el mismo tamaño\n",
        "    dim = tf.shape(z_mu)[1]\n",
        "    \n",
        "    # Muestreamos de una distribucion normal ϵ: con dimensiones (batch, dim_espacio_codificado)\n",
        "    tf.random.normal(shape=[batch, dim])\n",
        "    \n",
        "    # Transformamos log(σ^2) en σ \n",
        "    sigma = tf.exp(0.5 * z_log_var)\n",
        "\n",
        "    # Truco de re-parametrización\n",
        "    reparametrization = z_mu + sigma * epsilon\n",
        "    \n",
        "    return reparametrization\n"
      ],
      "execution_count": 73,
      "outputs": []
    },
    {
      "cell_type": "markdown",
      "metadata": {
        "id": "FL1FirsoCtKy"
      },
      "source": [
        "### Creación del Decoder"
      ]
    },
    {
      "cell_type": "code",
      "metadata": {
        "id": "L-iYljRwBnIz"
      },
      "source": [
        "class Decoder(tf.keras.Model):\n",
        "  def __init__(self):\n",
        "    super(Decoder, self).__init__()\n",
        "\n",
        "    # Capas del decoder\n",
        "    self.decoder1 = Dense(64, activation='relu', name='Decoder1')\n",
        "    self.decoder2 = Dense(128, activation='relu', name='Decoder2')\n",
        "    self.decoder3 = Dense(784, activation='sigmoid', name='Decoder3')\n",
        "\n",
        "  def call(self, inputs,  training=None, mask=None):\n",
        "    x = self.decoder1(inputs)\n",
        "    x = self.decoder2(x)\n",
        "    y = self.decoder3(x)\n",
        "\n",
        "    return y"
      ],
      "execution_count": 75,
      "outputs": []
    },
    {
      "cell_type": "markdown",
      "metadata": {
        "id": "qKQzo-txsLoc"
      },
      "source": [
        "### Creación de la función de coste"
      ]
    },
    {
      "cell_type": "code",
      "metadata": {
        "id": "lLcf71NqsKra"
      },
      "source": [
        "class LossVAE(tf.keras.layers.Layer):\n",
        "  \"\"\"\n",
        "  Función de error custom: suma del término de reconstrucción y \n",
        "  el término de regularización KL divergence\n",
        "  \"\"\"\n",
        "  def call(self, inputs):\n",
        "    y_true, y_pred, z_mean, z_log_var = inputs\n",
        "    \n",
        "    # Error de reconstrucción (usa categorical_crossentropy)\n",
        "    reconstruction_loss = tf.reduce_mean(tf.losses.binary_crossentropy(y_true, y_pred))\n",
        "    \n",
        "    # Divergencia KL\n",
        "    kl_loss = tf.square(z_mean) -1 - z_log_var + tf.exp(z_log_var)\n",
        "    kl_loss = 0.5 * tf.reduce_mean(kl_loss)\n",
        "  \n",
        "    return reconstruction_loss, kl_loss"
      ],
      "execution_count": 76,
      "outputs": []
    },
    {
      "cell_type": "markdown",
      "metadata": {
        "id": "wx9qBX37CzeY"
      },
      "source": [
        "### Creación del Autoencoder Variacional"
      ]
    },
    {
      "cell_type": "code",
      "metadata": {
        "id": "HIPYLV1uhmHj"
      },
      "source": [
        "class VAE(tf.keras.Model):\n",
        "    def __init__(self):\n",
        "      super(VAE, self).__init__()\n",
        "      # Capas del VAE\n",
        "      #       .\n",
        "      #       .\n",
        "      #       .\n",
        "\n",
        "    def call(self, inputs,  training=None, mask=None):\n",
        "      #       .\n",
        "      #       .\n",
        "      #       .\n",
        "      return (z_mean, z_log_var, z), decoded\n",
        "\n",
        "    def train_step(self, data):\n",
        "      with tf.GradientTape() as tape:\n",
        "        # Propagación hacia delante\n",
        "        #       .\n",
        "        #       .\n",
        "        #       .\n",
        "        total_loss = (784 * reconstruction_loss) + (2 * kl_loss)\n",
        "      \n",
        "      # Retro-propagación\n",
        "      grads = tape.gradient(total_loss, self.trainable_weights)\n",
        "      \n",
        "      # Actualización de los pesos\n",
        "      self.optimizer.apply_gradients(zip(grads, self.trainable_weights))\n",
        "      \n",
        "      return {\"reconstruction_loss\": reconstruction_loss,\n",
        "              \"kl_loss\": kl_loss,\n",
        "              \"total_loss\": total_loss}"
      ],
      "execution_count": null,
      "outputs": []
    },
    {
      "cell_type": "markdown",
      "metadata": {
        "id": "d4k9tjKAQ7wo"
      },
      "source": [
        "### Entrenamiento del Autoencoder Variacional"
      ]
    },
    {
      "cell_type": "code",
      "metadata": {
        "id": "oYCno6nA4vGU"
      },
      "source": [
        "vae = VAE()\n",
        "vae.compile(optimizer=tf.keras.optimizers.Adam())\n",
        "vae.fit(X_train, epochs=30, batch_size=128)"
      ],
      "execution_count": null,
      "outputs": []
    },
    {
      "cell_type": "markdown",
      "metadata": {
        "id": "uvUZD_JsRIE_"
      },
      "source": [
        "### Muestra de Dígitos Generados con el Autoencoder Varacional"
      ]
    },
    {
      "cell_type": "code",
      "metadata": {
        "id": "Jbk67dUWRo6v"
      },
      "source": [
        "def plot_latent(model, fig_size=15, scale=3.):\n",
        "    n = 30\n",
        "    digit_size = 28\n",
        "    figure = np.zeros((digit_size * n, digit_size * n))\n",
        "    # Creamos un grid 2D linealmente espaciado correspondiente a\n",
        "    # los dígitos en el espacio codificado\n",
        "    grid_x = np.linspace(-scale, scale, n)\n",
        "    grid_y = np.linspace(-scale, scale, n)[::-1]\n",
        "\n",
        "    for i, yi in enumerate(grid_y):\n",
        "        for j, xi in enumerate(grid_x):\n",
        "            z_sample = np.array([[xi, yi]])\n",
        "            # Para cada coordenada 2D del espacio codificado, \n",
        "            # usamos el decoder para reconstruir/generar una imagen nueva.\n",
        "            x_decoded = model.decoder(z_sample).numpy()\n",
        "            digit = x_decoded.reshape(digit_size, digit_size)\n",
        "            figure[i * digit_size : (i + 1) * digit_size,\n",
        "                   j * digit_size : (j + 1) * digit_size] = digit\n",
        "\n",
        "    plt.figure(figsize=(fig_size, fig_size))\n",
        "    start_range = digit_size // 2\n",
        "    end_range = n * digit_size + start_range + 1\n",
        "    pixel_range = np.arange(start_range, end_range, digit_size)\n",
        "    sample_range_x = np.round(grid_x, 1)\n",
        "    sample_range_y = np.round(grid_y, 1)\n",
        "    plt.xticks(pixel_range, sample_range_x)\n",
        "    plt.yticks(pixel_range, sample_range_y)\n",
        "    plt.xlabel(\"z[0]\")\n",
        "    plt.ylabel(\"z[1]\")\n",
        "    plt.imshow(figure, cmap=\"gray\")\n",
        "    plt.show()\n",
        "\n",
        "\n",
        "def plot_label_clusters(model, data, labels, fig_size=15, scale=3.):\n",
        "    # Dibujamos un plot 2D the los dígitos y sus clases en el espacio codificado\n",
        "    encoded = model.encoder(data)\n",
        "    z_mean, _ = model.normal_distribution(encoded)\n",
        "    plt.figure(figsize=(fig_size, fig_size))\n",
        "    plt.scatter(z_mean[:, 0], z_mean[:, 1], c=labels)\n",
        "    plt.colorbar()\n",
        "    plt.xlabel(\"z[0]\")\n",
        "    plt.ylabel(\"z[1]\")\n",
        "    plt.xlim((-scale, scale))\n",
        "    plt.ylim((-scale, scale)) \n",
        "    plt.show()"
      ],
      "execution_count": null,
      "outputs": []
    },
    {
      "cell_type": "code",
      "metadata": {
        "id": "zaGwFRoRY2vU"
      },
      "source": [
        "plot_latent(vae)"
      ],
      "execution_count": null,
      "outputs": []
    },
    {
      "cell_type": "code",
      "metadata": {
        "id": "EgOm9S0jk5S3"
      },
      "source": [
        "plot_label_clusters(vae, X_train, y_train)"
      ],
      "execution_count": null,
      "outputs": []
    }
  ]
}