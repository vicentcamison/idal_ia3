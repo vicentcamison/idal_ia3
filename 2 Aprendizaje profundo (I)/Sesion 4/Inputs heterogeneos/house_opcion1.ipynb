{
  "nbformat": 4,
  "nbformat_minor": 0,
  "metadata": {
    "kernelspec": {
      "display_name": "Python 3",
      "language": "python",
      "name": "python3"
    },
    "language_info": {
      "codemirror_mode": {
        "name": "ipython",
        "version": 3
      },
      "file_extension": ".py",
      "mimetype": "text/x-python",
      "name": "python",
      "nbconvert_exporter": "python",
      "pygments_lexer": "ipython3",
      "version": "3.6.8"
    },
    "colab": {
      "name": "house_opcion1.ipynb",
      "provenance": [],
      "collapsed_sections": [],
      "include_colab_link": true
    }
  },
  "cells": [
    {
      "cell_type": "markdown",
      "metadata": {
        "id": "view-in-github",
        "colab_type": "text"
      },
      "source": [
        "<a href=\"https://colab.research.google.com/github/vicentcamison/idal_ia3/blob/main/2%20Aprendizaje%20profundo%20(I)/Sesion%204/Inputs%20heterogeneos/house_opcion1.ipynb\" target=\"_parent\"><img src=\"https://colab.research.google.com/assets/colab-badge.svg\" alt=\"Open In Colab\"/></a>"
      ]
    },
    {
      "cell_type": "markdown",
      "metadata": {
        "id": "d5VmQxKlflCB"
      },
      "source": [
        "<font color=\"#CA0032\"><h1 align=\"left\">**Predicción del valor de venta de una casa**</h1></font>\n",
        "\n",
        "<font color=\"#6E6E6E\"><h1 align=\"left\">Opción 1: Se realiza el modelo **solo** sobre variables numéricas</h1></font>\n",
        "\n",
        "<h2 align=\"left\">Manuel Sánchez-Montañés</h2>\n",
        "\n",
        "<font color=\"#6E6E6E\"><h2 align=\"left\">manuel.smontanes@gmail.com</h2></font>\n"
      ]
    },
    {
      "cell_type": "code",
      "metadata": {
        "id": "QlOR_PY9CTyw"
      },
      "source": [
        "COLAB = True"
      ],
      "execution_count": null,
      "outputs": []
    },
    {
      "cell_type": "code",
      "metadata": {
        "id": "PL8Ih5DuCPQY"
      },
      "source": [
        "import pandas as pd\n",
        "import numpy as np\n",
        "import os\n",
        "import matplotlib.pyplot as plt\n",
        "from sklearn.metrics import roc_curve, auc, confusion_matrix\n",
        "\n",
        "%matplotlib inline"
      ],
      "execution_count": null,
      "outputs": []
    },
    {
      "cell_type": "markdown",
      "metadata": {
        "id": "gzg_dEV7CPQj"
      },
      "source": [
        "Adaptado de:\n",
        "\n",
        "  https://www.pyimagesearch.com/2019/02/04/keras-multiple-inputs-and-mixed-data/\n",
        "\n",
        "Que utiliza el dataset de:\n",
        "\n",
        "https://arxiv.org/pdf/1609.08399.pdf"
      ]
    },
    {
      "cell_type": "code",
      "metadata": {
        "id": "WognJZR5DFQJ",
        "colab": {
          "base_uri": "https://localhost:8080/"
        },
        "outputId": "037d3731-c58c-4f9c-a315-dc9a74270151"
      },
      "source": [
        "if COLAB:\n",
        "    from google_drive_downloader import GoogleDriveDownloader as gdd\n",
        "    gdd.download_file_from_google_drive(file_id='1nZ4bq0TsQn2x3bA-jvEvZylAT-c8bpQN',\n",
        "                                        dest_path='./Houses-dataset.zip', unzip=True)"
      ],
      "execution_count": null,
      "outputs": [
        {
          "output_type": "stream",
          "text": [
            "Downloading 1nZ4bq0TsQn2x3bA-jvEvZylAT-c8bpQN into ./Houses-dataset.zip... Done.\n",
            "Unzipping...Done.\n"
          ],
          "name": "stdout"
        }
      ]
    },
    {
      "cell_type": "code",
      "metadata": {
        "id": "071SoFnQD-6U",
        "colab": {
          "base_uri": "https://localhost:8080/"
        },
        "outputId": "9d153dc2-936e-421c-8e4b-6fb4ecefda96"
      },
      "source": [
        "!ls -la Houses-dataset"
      ],
      "execution_count": null,
      "outputs": [
        {
          "output_type": "stream",
          "text": [
            "total 100\n",
            "drwxr-xr-x 3 root root  4096 Nov 28 10:03 .\n",
            "drwxr-xr-x 1 root root  4096 Nov 28 10:03 ..\n",
            "-rw-r--r-- 1 root root 12029 Nov 28 10:03 HousesInfo.txt\n",
            "drwxr-xr-x 2 root root 77824 Nov 28 10:03 photos\n"
          ],
          "name": "stdout"
        }
      ]
    },
    {
      "cell_type": "code",
      "metadata": {
        "id": "P84UhgRUECoM",
        "colab": {
          "base_uri": "https://localhost:8080/"
        },
        "outputId": "ed89390f-d9d2-44a2-95f9-9e0720b888f8"
      },
      "source": [
        "!ls Houses-dataset/photos/165*"
      ],
      "execution_count": null,
      "outputs": [
        {
          "output_type": "stream",
          "text": [
            "Houses-dataset/photos/165_bathroom.jpg\tHouses-dataset/photos/165_frontal.jpg\n",
            "Houses-dataset/photos/165_bedroom.jpg\tHouses-dataset/photos/165_kitchen.jpg\n"
          ],
          "name": "stdout"
        }
      ]
    },
    {
      "cell_type": "code",
      "metadata": {
        "id": "__oTIwLNr2yw"
      },
      "source": [
        "# import the necessary packages\n",
        "from sklearn.preprocessing import LabelBinarizer, MinMaxScaler\n",
        "import glob\n",
        "import cv2\n",
        "\n",
        "def load_house_attributes(inputPath):\n",
        "    # initialize the list of column names in the CSV file and then\n",
        "    # load it using Pandas\n",
        "    cols = [\"bedrooms\", \"bathrooms\", \"area\", \"zipcode\", \"price\"]\n",
        "    df = pd.read_csv(inputPath, sep=\" \", header=None, names=cols)\n",
        "    # determine (1) the unique zip codes and (2) the number of data\n",
        "    # points with each zip code\n",
        "    zipcodes = df[\"zipcode\"].value_counts().keys().tolist()\n",
        "    counts = df[\"zipcode\"].value_counts().tolist()\n",
        "    # loop over each of the unique zip codes and their corresponding\n",
        "    # count\n",
        "    for (zipcode, count) in zip(zipcodes, counts):\n",
        "      # the zip code counts for our housing dataset is *extremely*\n",
        "      # unbalanced (some only having 1 or 2 houses per zip code)\n",
        "      # so let's sanitize our data by removing any houses with less\n",
        "      # than 25 houses per zip code\n",
        "      if count < 25:\n",
        "          idxs = df[df[\"zipcode\"] == zipcode].index\n",
        "          df.drop(idxs, inplace=True)\n",
        "    # return the data frame\n",
        "    return df"
      ],
      "execution_count": null,
      "outputs": []
    },
    {
      "cell_type": "code",
      "metadata": {
        "id": "kK3xIQEKr211"
      },
      "source": [
        "def process_house_attributes(df, train, test):\n",
        "    # initialize the column names of the continuous data\n",
        "    continuous = [\"bedrooms\", \"bathrooms\", \"area\"]\n",
        "    # performin min-max scaling each continuous feature column to\n",
        "    # the range [0, 1]\n",
        "    cs = MinMaxScaler()\n",
        "    trainContinuous = cs.fit_transform(train[continuous])\n",
        "    testContinuous = cs.transform(test[continuous])\n",
        "    # one-hot encode the zip code categorical data (by definition of\n",
        "    # one-hot encoding, all output features are now in the range [0, 1])\n",
        "    zipBinarizer = LabelBinarizer().fit(df[\"zipcode\"])\n",
        "    trainCategorical = zipBinarizer.transform(train[\"zipcode\"])\n",
        "    testCategorical = zipBinarizer.transform(test[\"zipcode\"])\n",
        "    # construct our training and testing data points by concatenating\n",
        "    # the categorical features with the continuous features\n",
        "    trainX = np.hstack([trainCategorical, trainContinuous])\n",
        "    testX = np.hstack([testCategorical, testContinuous])\n",
        "    # return the concatenated training and testing data\n",
        "    return (trainX, testX)"
      ],
      "execution_count": null,
      "outputs": []
    },
    {
      "cell_type": "code",
      "metadata": {
        "id": "EZxTEqRtr267"
      },
      "source": [
        "# import the necessary packages\n",
        "from tensorflow.keras.models import Sequential, Model, load_model\n",
        "from tensorflow.keras.layers import BatchNormalization, Dense, Dropout, Input"
      ],
      "execution_count": null,
      "outputs": []
    },
    {
      "cell_type": "code",
      "metadata": {
        "id": "TuCVpktvr2_-"
      },
      "source": [
        "# import the necessary packages\n",
        "from sklearn.model_selection import train_test_split\n",
        "from tensorflow.keras.optimizers import Adam\n",
        "from tensorflow.keras.layers import concatenate\n",
        "from tensorflow.keras.callbacks import ModelCheckpoint\n",
        "import locale"
      ],
      "execution_count": null,
      "outputs": []
    },
    {
      "cell_type": "code",
      "metadata": {
        "id": "P0NEStxG0T5r",
        "colab": {
          "base_uri": "https://localhost:8080/"
        },
        "outputId": "876f2175-05cb-4028-969e-ba3555d4b2fe"
      },
      "source": [
        "!ls Houses-dataset"
      ],
      "execution_count": null,
      "outputs": [
        {
          "output_type": "stream",
          "text": [
            "HousesInfo.txt\tphotos\n"
          ],
          "name": "stdout"
        }
      ]
    },
    {
      "cell_type": "code",
      "metadata": {
        "id": "FvVoCSyBr3Cn",
        "colab": {
          "base_uri": "https://localhost:8080/"
        },
        "outputId": "deb23f82-d417-4d2d-a696-d842da867b30"
      },
      "source": [
        "# construct the path to the input .txt file that contains information\n",
        "# on each house in the dataset and then load the dataset\n",
        "print(\"[INFO] loading house attributes...\")\n",
        "inputPath = \"./Houses-dataset/HousesInfo.txt\"\n",
        "df = load_house_attributes(inputPath)"
      ],
      "execution_count": null,
      "outputs": [
        {
          "output_type": "stream",
          "text": [
            "[INFO] loading house attributes...\n"
          ],
          "name": "stdout"
        }
      ]
    },
    {
      "cell_type": "code",
      "metadata": {
        "id": "BO_oZn7TCPQn",
        "colab": {
          "base_uri": "https://localhost:8080/"
        },
        "outputId": "acbff7be-378f-4cb8-e35b-86325afac047"
      },
      "source": [
        "# partition the data into training and testing splits using 75% of\n",
        "# the data for training and the remaining 25% for testing\n",
        "print(\"[INFO] processing data...\")\n",
        "trainAttrX, testAttrX = train_test_split(df, test_size=0.25, random_state=42)\n",
        "\n",
        "# find the largest house price in the training set and use it to\n",
        "# scale our house prices to the range [0, 1] (will lead to better\n",
        "# training and convergence)\n",
        "maxPrice = trainAttrX[\"price\"].max()\n",
        "trainY = trainAttrX[\"price\"] / maxPrice\n",
        "testY = testAttrX[\"price\"] / maxPrice\n",
        "# process the house attributes data by performing min-max scaling\n",
        "# on continuous features, one-hot encoding on categorical features,\n",
        "# and then finally concatenating them together\n",
        "(trainAttrX, testAttrX) = process_house_attributes(df, trainAttrX, testAttrX)"
      ],
      "execution_count": null,
      "outputs": [
        {
          "output_type": "stream",
          "text": [
            "[INFO] processing data...\n"
          ],
          "name": "stdout"
        }
      ]
    },
    {
      "cell_type": "code",
      "metadata": {
        "id": "jySRq7AlIINj",
        "colab": {
          "base_uri": "https://localhost:8080/"
        },
        "outputId": "20ec29a2-68d2-49ab-b998-beb6d4317dbe"
      },
      "source": [
        "trainAttrX.shape"
      ],
      "execution_count": null,
      "outputs": [
        {
          "output_type": "execute_result",
          "data": {
            "text/plain": [
              "(271, 10)"
            ]
          },
          "metadata": {
            "tags": []
          },
          "execution_count": 13
        }
      ]
    },
    {
      "cell_type": "code",
      "metadata": {
        "id": "Km7cT6-fH_mi",
        "colab": {
          "base_uri": "https://localhost:8080/"
        },
        "outputId": "6eb0cc84-19ac-4a96-abe9-66760a818c35"
      },
      "source": [
        "df.shape"
      ],
      "execution_count": null,
      "outputs": [
        {
          "output_type": "execute_result",
          "data": {
            "text/plain": [
              "(362, 5)"
            ]
          },
          "metadata": {
            "tags": []
          },
          "execution_count": 14
        }
      ]
    },
    {
      "cell_type": "code",
      "metadata": {
        "id": "RbNAhXtCcGRl"
      },
      "source": [
        "from IPython.display import SVG, display, clear_output\n",
        "from keras.utils.vis_utils import model_to_dot\n",
        "\n",
        "def show_model(model):\n",
        "    if COLAB:\n",
        "        display(SVG(model_to_dot(model, show_shapes=True, dpi=70).create(prog='dot', format='svg')))\n",
        "    else:\n",
        "        display(SVG(model_to_dot(model, show_shapes=True).create(prog='dot', format='svg')))"
      ],
      "execution_count": null,
      "outputs": []
    },
    {
      "cell_type": "code",
      "metadata": {
        "id": "HbkTl7NtCPQu",
        "colab": {
          "base_uri": "https://localhost:8080/",
          "height": 416
        },
        "outputId": "bbfcc923-6cd9-45ea-c6b7-332eebd34bb1"
      },
      "source": [
        "model = Sequential()\n",
        "model.add(Dense(8, activation=\"relu\", input_shape=(10,)))\n",
        "model.add(Dense(4, activation=\"relu\"))\n",
        "model.add(Dense(1))\n",
        "\n",
        "opt = Adam(lr=1e-3, decay=1e-3 / 200)\n",
        "model.compile(loss=\"mean_absolute_percentage_error\", optimizer=opt)\n",
        "\n",
        "show_model(model)"
      ],
      "execution_count": null,
      "outputs": [
        {
          "output_type": "display_data",
          "data": {
            "text/plain": [
              "<IPython.core.display.SVG object>"
            ],
            "image/svg+xml": "<svg height=\"296pt\" viewBox=\"0.00 0.00 287.00 304.00\" width=\"279pt\" xmlns=\"http://www.w3.org/2000/svg\" xmlns:xlink=\"http://www.w3.org/1999/xlink\">\n<g class=\"graph\" id=\"graph0\" transform=\"scale(.9722 .9722) rotate(0) translate(4 300)\">\n<title>G</title>\n<polygon fill=\"#ffffff\" points=\"-4,4 -4,-300 283,-300 283,4 -4,4\" stroke=\"transparent\"/>\n<!-- 140321250774824 -->\n<g class=\"node\" id=\"node1\">\n<title>140321250774824</title>\n<polygon fill=\"none\" points=\"0,-249.5 0,-295.5 279,-295.5 279,-249.5 0,-249.5\" stroke=\"#000000\"/>\n<text fill=\"#000000\" font-family=\"Times,serif\" font-size=\"14.00\" text-anchor=\"middle\" x=\"79\" y=\"-268.8\">dense_input: InputLayer</text>\n<polyline fill=\"none\" points=\"158,-249.5 158,-295.5 \" stroke=\"#000000\"/>\n<text fill=\"#000000\" font-family=\"Times,serif\" font-size=\"14.00\" text-anchor=\"middle\" x=\"187\" y=\"-280.3\">input:</text>\n<polyline fill=\"none\" points=\"158,-272.5 216,-272.5 \" stroke=\"#000000\"/>\n<text fill=\"#000000\" font-family=\"Times,serif\" font-size=\"14.00\" text-anchor=\"middle\" x=\"187\" y=\"-257.3\">output:</text>\n<polyline fill=\"none\" points=\"216,-249.5 216,-295.5 \" stroke=\"#000000\"/>\n<text fill=\"#000000\" font-family=\"Times,serif\" font-size=\"14.00\" text-anchor=\"middle\" x=\"247.5\" y=\"-280.3\">[(?, 10)]</text>\n<polyline fill=\"none\" points=\"216,-272.5 279,-272.5 \" stroke=\"#000000\"/>\n<text fill=\"#000000\" font-family=\"Times,serif\" font-size=\"14.00\" text-anchor=\"middle\" x=\"247.5\" y=\"-257.3\">[(?, 10)]</text>\n</g>\n<!-- 140321250773480 -->\n<g class=\"node\" id=\"node2\">\n<title>140321250773480</title>\n<polygon fill=\"none\" points=\"37.5,-166.5 37.5,-212.5 241.5,-212.5 241.5,-166.5 37.5,-166.5\" stroke=\"#000000\"/>\n<text fill=\"#000000\" font-family=\"Times,serif\" font-size=\"14.00\" text-anchor=\"middle\" x=\"83.5\" y=\"-185.8\">dense: Dense</text>\n<polyline fill=\"none\" points=\"129.5,-166.5 129.5,-212.5 \" stroke=\"#000000\"/>\n<text fill=\"#000000\" font-family=\"Times,serif\" font-size=\"14.00\" text-anchor=\"middle\" x=\"158.5\" y=\"-197.3\">input:</text>\n<polyline fill=\"none\" points=\"129.5,-189.5 187.5,-189.5 \" stroke=\"#000000\"/>\n<text fill=\"#000000\" font-family=\"Times,serif\" font-size=\"14.00\" text-anchor=\"middle\" x=\"158.5\" y=\"-174.3\">output:</text>\n<polyline fill=\"none\" points=\"187.5,-166.5 187.5,-212.5 \" stroke=\"#000000\"/>\n<text fill=\"#000000\" font-family=\"Times,serif\" font-size=\"14.00\" text-anchor=\"middle\" x=\"214.5\" y=\"-197.3\">(?, 10)</text>\n<polyline fill=\"none\" points=\"187.5,-189.5 241.5,-189.5 \" stroke=\"#000000\"/>\n<text fill=\"#000000\" font-family=\"Times,serif\" font-size=\"14.00\" text-anchor=\"middle\" x=\"214.5\" y=\"-174.3\">(?, 8)</text>\n</g>\n<!-- 140321250774824&#45;&gt;140321250773480 -->\n<g class=\"edge\" id=\"edge1\">\n<title>140321250774824-&gt;140321250773480</title>\n<path d=\"M139.5,-249.3799C139.5,-241.1745 139.5,-231.7679 139.5,-222.8786\" fill=\"none\" stroke=\"#000000\"/>\n<polygon fill=\"#000000\" points=\"143.0001,-222.784 139.5,-212.784 136.0001,-222.784 143.0001,-222.784\" stroke=\"#000000\"/>\n</g>\n<!-- 140321143325304 -->\n<g class=\"node\" id=\"node3\">\n<title>140321143325304</title>\n<polygon fill=\"none\" points=\"33.5,-83.5 33.5,-129.5 245.5,-129.5 245.5,-83.5 33.5,-83.5\" stroke=\"#000000\"/>\n<text fill=\"#000000\" font-family=\"Times,serif\" font-size=\"14.00\" text-anchor=\"middle\" x=\"87\" y=\"-102.8\">dense_1: Dense</text>\n<polyline fill=\"none\" points=\"140.5,-83.5 140.5,-129.5 \" stroke=\"#000000\"/>\n<text fill=\"#000000\" font-family=\"Times,serif\" font-size=\"14.00\" text-anchor=\"middle\" x=\"169.5\" y=\"-114.3\">input:</text>\n<polyline fill=\"none\" points=\"140.5,-106.5 198.5,-106.5 \" stroke=\"#000000\"/>\n<text fill=\"#000000\" font-family=\"Times,serif\" font-size=\"14.00\" text-anchor=\"middle\" x=\"169.5\" y=\"-91.3\">output:</text>\n<polyline fill=\"none\" points=\"198.5,-83.5 198.5,-129.5 \" stroke=\"#000000\"/>\n<text fill=\"#000000\" font-family=\"Times,serif\" font-size=\"14.00\" text-anchor=\"middle\" x=\"222\" y=\"-114.3\">(?, 8)</text>\n<polyline fill=\"none\" points=\"198.5,-106.5 245.5,-106.5 \" stroke=\"#000000\"/>\n<text fill=\"#000000\" font-family=\"Times,serif\" font-size=\"14.00\" text-anchor=\"middle\" x=\"222\" y=\"-91.3\">(?, 4)</text>\n</g>\n<!-- 140321250773480&#45;&gt;140321143325304 -->\n<g class=\"edge\" id=\"edge2\">\n<title>140321250773480-&gt;140321143325304</title>\n<path d=\"M139.5,-166.3799C139.5,-158.1745 139.5,-148.7679 139.5,-139.8786\" fill=\"none\" stroke=\"#000000\"/>\n<polygon fill=\"#000000\" points=\"143.0001,-139.784 139.5,-129.784 136.0001,-139.784 143.0001,-139.784\" stroke=\"#000000\"/>\n</g>\n<!-- 140321143325696 -->\n<g class=\"node\" id=\"node4\">\n<title>140321143325696</title>\n<polygon fill=\"none\" points=\"33.5,-.5 33.5,-46.5 245.5,-46.5 245.5,-.5 33.5,-.5\" stroke=\"#000000\"/>\n<text fill=\"#000000\" font-family=\"Times,serif\" font-size=\"14.00\" text-anchor=\"middle\" x=\"87\" y=\"-19.8\">dense_2: Dense</text>\n<polyline fill=\"none\" points=\"140.5,-.5 140.5,-46.5 \" stroke=\"#000000\"/>\n<text fill=\"#000000\" font-family=\"Times,serif\" font-size=\"14.00\" text-anchor=\"middle\" x=\"169.5\" y=\"-31.3\">input:</text>\n<polyline fill=\"none\" points=\"140.5,-23.5 198.5,-23.5 \" stroke=\"#000000\"/>\n<text fill=\"#000000\" font-family=\"Times,serif\" font-size=\"14.00\" text-anchor=\"middle\" x=\"169.5\" y=\"-8.3\">output:</text>\n<polyline fill=\"none\" points=\"198.5,-.5 198.5,-46.5 \" stroke=\"#000000\"/>\n<text fill=\"#000000\" font-family=\"Times,serif\" font-size=\"14.00\" text-anchor=\"middle\" x=\"222\" y=\"-31.3\">(?, 4)</text>\n<polyline fill=\"none\" points=\"198.5,-23.5 245.5,-23.5 \" stroke=\"#000000\"/>\n<text fill=\"#000000\" font-family=\"Times,serif\" font-size=\"14.00\" text-anchor=\"middle\" x=\"222\" y=\"-8.3\">(?, 1)</text>\n</g>\n<!-- 140321143325304&#45;&gt;140321143325696 -->\n<g class=\"edge\" id=\"edge3\">\n<title>140321143325304-&gt;140321143325696</title>\n<path d=\"M139.5,-83.3799C139.5,-75.1745 139.5,-65.7679 139.5,-56.8786\" fill=\"none\" stroke=\"#000000\"/>\n<polygon fill=\"#000000\" points=\"143.0001,-56.784 139.5,-46.784 136.0001,-56.784 143.0001,-56.784\" stroke=\"#000000\"/>\n</g>\n</g>\n</svg>"
          },
          "metadata": {
            "tags": []
          }
        }
      ]
    },
    {
      "cell_type": "markdown",
      "metadata": {
        "id": "u0ZfbRSQuC1R"
      },
      "source": [
        "### Misma arquitectura pero programada con API funcional:"
      ]
    },
    {
      "cell_type": "code",
      "metadata": {
        "id": "4diqizAouBEx",
        "colab": {
          "base_uri": "https://localhost:8080/",
          "height": 416
        },
        "outputId": "0a58d692-f33a-4e53-d7c5-435c8b2abba2"
      },
      "source": [
        "inputs = Input(shape=(10,))\n",
        "x = Dense(8, activation=\"relu\", input_shape=(10,))(inputs)\n",
        "x = Dense(4, activation=\"relu\")(x)\n",
        "x = Dense(1)(x)\n",
        "model = Model(inputs, x)\n",
        "\n",
        "opt = Adam(lr=1e-3, decay=1e-3 / 200)\n",
        "model.compile(loss=\"mean_absolute_percentage_error\", optimizer=opt)\n",
        "\n",
        "show_model(model)"
      ],
      "execution_count": null,
      "outputs": [
        {
          "output_type": "display_data",
          "data": {
            "text/plain": [
              "<IPython.core.display.SVG object>"
            ],
            "image/svg+xml": "<svg height=\"296pt\" viewBox=\"0.00 0.00 262.00 304.00\" width=\"255pt\" xmlns=\"http://www.w3.org/2000/svg\" xmlns:xlink=\"http://www.w3.org/1999/xlink\">\n<g class=\"graph\" id=\"graph0\" transform=\"scale(.9722 .9722) rotate(0) translate(4 300)\">\n<title>G</title>\n<polygon fill=\"#ffffff\" points=\"-4,4 -4,-300 258,-300 258,4 -4,4\" stroke=\"transparent\"/>\n<!-- 140321142689976 -->\n<g class=\"node\" id=\"node1\">\n<title>140321142689976</title>\n<polygon fill=\"none\" points=\"0,-249.5 0,-295.5 254,-295.5 254,-249.5 0,-249.5\" stroke=\"#000000\"/>\n<text fill=\"#000000\" font-family=\"Times,serif\" font-size=\"14.00\" text-anchor=\"middle\" x=\"66.5\" y=\"-268.8\">input_1: InputLayer</text>\n<polyline fill=\"none\" points=\"133,-249.5 133,-295.5 \" stroke=\"#000000\"/>\n<text fill=\"#000000\" font-family=\"Times,serif\" font-size=\"14.00\" text-anchor=\"middle\" x=\"162\" y=\"-280.3\">input:</text>\n<polyline fill=\"none\" points=\"133,-272.5 191,-272.5 \" stroke=\"#000000\"/>\n<text fill=\"#000000\" font-family=\"Times,serif\" font-size=\"14.00\" text-anchor=\"middle\" x=\"162\" y=\"-257.3\">output:</text>\n<polyline fill=\"none\" points=\"191,-249.5 191,-295.5 \" stroke=\"#000000\"/>\n<text fill=\"#000000\" font-family=\"Times,serif\" font-size=\"14.00\" text-anchor=\"middle\" x=\"222.5\" y=\"-280.3\">[(?, 10)]</text>\n<polyline fill=\"none\" points=\"191,-272.5 254,-272.5 \" stroke=\"#000000\"/>\n<text fill=\"#000000\" font-family=\"Times,serif\" font-size=\"14.00\" text-anchor=\"middle\" x=\"222.5\" y=\"-257.3\">[(?, 10)]</text>\n</g>\n<!-- 140321142690424 -->\n<g class=\"node\" id=\"node2\">\n<title>140321142690424</title>\n<polygon fill=\"none\" points=\"17.5,-166.5 17.5,-212.5 236.5,-212.5 236.5,-166.5 17.5,-166.5\" stroke=\"#000000\"/>\n<text fill=\"#000000\" font-family=\"Times,serif\" font-size=\"14.00\" text-anchor=\"middle\" x=\"71\" y=\"-185.8\">dense_3: Dense</text>\n<polyline fill=\"none\" points=\"124.5,-166.5 124.5,-212.5 \" stroke=\"#000000\"/>\n<text fill=\"#000000\" font-family=\"Times,serif\" font-size=\"14.00\" text-anchor=\"middle\" x=\"153.5\" y=\"-197.3\">input:</text>\n<polyline fill=\"none\" points=\"124.5,-189.5 182.5,-189.5 \" stroke=\"#000000\"/>\n<text fill=\"#000000\" font-family=\"Times,serif\" font-size=\"14.00\" text-anchor=\"middle\" x=\"153.5\" y=\"-174.3\">output:</text>\n<polyline fill=\"none\" points=\"182.5,-166.5 182.5,-212.5 \" stroke=\"#000000\"/>\n<text fill=\"#000000\" font-family=\"Times,serif\" font-size=\"14.00\" text-anchor=\"middle\" x=\"209.5\" y=\"-197.3\">(?, 10)</text>\n<polyline fill=\"none\" points=\"182.5,-189.5 236.5,-189.5 \" stroke=\"#000000\"/>\n<text fill=\"#000000\" font-family=\"Times,serif\" font-size=\"14.00\" text-anchor=\"middle\" x=\"209.5\" y=\"-174.3\">(?, 8)</text>\n</g>\n<!-- 140321142689976&#45;&gt;140321142690424 -->\n<g class=\"edge\" id=\"edge1\">\n<title>140321142689976-&gt;140321142690424</title>\n<path d=\"M127,-249.3799C127,-241.1745 127,-231.7679 127,-222.8786\" fill=\"none\" stroke=\"#000000\"/>\n<polygon fill=\"#000000\" points=\"130.5001,-222.784 127,-212.784 123.5001,-222.784 130.5001,-222.784\" stroke=\"#000000\"/>\n</g>\n<!-- 140321143074264 -->\n<g class=\"node\" id=\"node3\">\n<title>140321143074264</title>\n<polygon fill=\"none\" points=\"21,-83.5 21,-129.5 233,-129.5 233,-83.5 21,-83.5\" stroke=\"#000000\"/>\n<text fill=\"#000000\" font-family=\"Times,serif\" font-size=\"14.00\" text-anchor=\"middle\" x=\"74.5\" y=\"-102.8\">dense_4: Dense</text>\n<polyline fill=\"none\" points=\"128,-83.5 128,-129.5 \" stroke=\"#000000\"/>\n<text fill=\"#000000\" font-family=\"Times,serif\" font-size=\"14.00\" text-anchor=\"middle\" x=\"157\" y=\"-114.3\">input:</text>\n<polyline fill=\"none\" points=\"128,-106.5 186,-106.5 \" stroke=\"#000000\"/>\n<text fill=\"#000000\" font-family=\"Times,serif\" font-size=\"14.00\" text-anchor=\"middle\" x=\"157\" y=\"-91.3\">output:</text>\n<polyline fill=\"none\" points=\"186,-83.5 186,-129.5 \" stroke=\"#000000\"/>\n<text fill=\"#000000\" font-family=\"Times,serif\" font-size=\"14.00\" text-anchor=\"middle\" x=\"209.5\" y=\"-114.3\">(?, 8)</text>\n<polyline fill=\"none\" points=\"186,-106.5 233,-106.5 \" stroke=\"#000000\"/>\n<text fill=\"#000000\" font-family=\"Times,serif\" font-size=\"14.00\" text-anchor=\"middle\" x=\"209.5\" y=\"-91.3\">(?, 4)</text>\n</g>\n<!-- 140321142690424&#45;&gt;140321143074264 -->\n<g class=\"edge\" id=\"edge2\">\n<title>140321142690424-&gt;140321143074264</title>\n<path d=\"M127,-166.3799C127,-158.1745 127,-148.7679 127,-139.8786\" fill=\"none\" stroke=\"#000000\"/>\n<polygon fill=\"#000000\" points=\"130.5001,-139.784 127,-129.784 123.5001,-139.784 130.5001,-139.784\" stroke=\"#000000\"/>\n</g>\n<!-- 140321142691208 -->\n<g class=\"node\" id=\"node4\">\n<title>140321142691208</title>\n<polygon fill=\"none\" points=\"21,-.5 21,-46.5 233,-46.5 233,-.5 21,-.5\" stroke=\"#000000\"/>\n<text fill=\"#000000\" font-family=\"Times,serif\" font-size=\"14.00\" text-anchor=\"middle\" x=\"74.5\" y=\"-19.8\">dense_5: Dense</text>\n<polyline fill=\"none\" points=\"128,-.5 128,-46.5 \" stroke=\"#000000\"/>\n<text fill=\"#000000\" font-family=\"Times,serif\" font-size=\"14.00\" text-anchor=\"middle\" x=\"157\" y=\"-31.3\">input:</text>\n<polyline fill=\"none\" points=\"128,-23.5 186,-23.5 \" stroke=\"#000000\"/>\n<text fill=\"#000000\" font-family=\"Times,serif\" font-size=\"14.00\" text-anchor=\"middle\" x=\"157\" y=\"-8.3\">output:</text>\n<polyline fill=\"none\" points=\"186,-.5 186,-46.5 \" stroke=\"#000000\"/>\n<text fill=\"#000000\" font-family=\"Times,serif\" font-size=\"14.00\" text-anchor=\"middle\" x=\"209.5\" y=\"-31.3\">(?, 4)</text>\n<polyline fill=\"none\" points=\"186,-23.5 233,-23.5 \" stroke=\"#000000\"/>\n<text fill=\"#000000\" font-family=\"Times,serif\" font-size=\"14.00\" text-anchor=\"middle\" x=\"209.5\" y=\"-8.3\">(?, 1)</text>\n</g>\n<!-- 140321143074264&#45;&gt;140321142691208 -->\n<g class=\"edge\" id=\"edge3\">\n<title>140321143074264-&gt;140321142691208</title>\n<path d=\"M127,-83.3799C127,-75.1745 127,-65.7679 127,-56.8786\" fill=\"none\" stroke=\"#000000\"/>\n<polygon fill=\"#000000\" points=\"130.5001,-56.784 127,-46.784 123.5001,-56.784 130.5001,-56.784\" stroke=\"#000000\"/>\n</g>\n</g>\n</svg>"
          },
          "metadata": {
            "tags": []
          }
        }
      ]
    },
    {
      "cell_type": "code",
      "metadata": {
        "id": "PrWWxECKH0Em",
        "colab": {
          "base_uri": "https://localhost:8080/"
        },
        "outputId": "72f804c0-d663-4caa-fb1c-47a90ea3549b"
      },
      "source": [
        "trainAttrX.shape"
      ],
      "execution_count": null,
      "outputs": [
        {
          "output_type": "execute_result",
          "data": {
            "text/plain": [
              "(271, 10)"
            ]
          },
          "metadata": {
            "tags": []
          },
          "execution_count": 18
        }
      ]
    },
    {
      "cell_type": "code",
      "metadata": {
        "id": "i7pTbWDV5toe"
      },
      "source": [
        "from matplotlib.ticker import MaxNLocator\n",
        "\n",
        "def grafica_entrenamiento(tr_loss, val_loss):\n",
        "    ax=plt.figure(figsize=(10,4)).gca()\n",
        "    plt.plot(1+np.arange(len(tr_loss)), 100*np.array(tr_loss))\n",
        "    plt.plot(1+np.arange(len(val_loss)), 100*np.array(val_loss))\n",
        "    plt.title('loss del modelo', fontsize=18)\n",
        "    plt.ylabel('loss', fontsize=18)\n",
        "    plt.xlabel('época', fontsize=18)\n",
        "    plt.legend(['entrenamiento', 'validación'], loc='upper left')\n",
        "    ax.xaxis.set_major_locator(MaxNLocator(integer=True))\n",
        "    plt.show()"
      ],
      "execution_count": null,
      "outputs": []
    },
    {
      "cell_type": "code",
      "metadata": {
        "id": "FxogYjUo6eX0",
        "colab": {
          "base_uri": "https://localhost:8080/"
        },
        "outputId": "8a453ec9-0130-41e5-b75d-039f24d26893"
      },
      "source": [
        "trainAttrX.shape, trainY.shape"
      ],
      "execution_count": null,
      "outputs": [
        {
          "output_type": "execute_result",
          "data": {
            "text/plain": [
              "((271, 10), (271,))"
            ]
          },
          "metadata": {
            "tags": []
          },
          "execution_count": 20
        }
      ]
    },
    {
      "cell_type": "code",
      "metadata": {
        "id": "tRonJG1j6iqy",
        "colab": {
          "base_uri": "https://localhost:8080/"
        },
        "outputId": "83764817-e718-4798-eeea-b1db9051e78e"
      },
      "source": [
        "testAttrX.shape, testY.shape"
      ],
      "execution_count": null,
      "outputs": [
        {
          "output_type": "execute_result",
          "data": {
            "text/plain": [
              "((91, 10), (91,))"
            ]
          },
          "metadata": {
            "tags": []
          },
          "execution_count": 21
        }
      ]
    },
    {
      "cell_type": "code",
      "metadata": {
        "id": "YYWfq6Pj5ttK"
      },
      "source": [
        "acum_tr_loss  = []\n",
        "acum_val_loss = []"
      ],
      "execution_count": null,
      "outputs": []
    },
    {
      "cell_type": "code",
      "metadata": {
        "id": "p3LQVF7Y5tx9",
        "colab": {
          "base_uri": "https://localhost:8080/",
          "height": 308
        },
        "outputId": "a9253973-5474-4ba1-a5b8-2f9423cf0b72"
      },
      "source": [
        "# training:\n",
        "\n",
        "filepath=\"model_current_best.h5\"\n",
        "batch_size=8\n",
        "epochs = 200\n",
        "\n",
        "checkpoint = ModelCheckpoint(filepath, monitor='val_loss', verbose=1,\n",
        "                              save_best_only=True,\n",
        "                              mode='min') # graba sólo los que mejoran en validación\n",
        "\n",
        "for e in range(epochs):\n",
        "    history = model.fit(x=trainAttrX, y=trainY,\n",
        "                        batch_size=batch_size,\n",
        "                        epochs=1,\n",
        "                        callbacks=[checkpoint],\n",
        "                        verbose=1,\n",
        "                        validation_data=(testAttrX, testY))\n",
        "    \n",
        "    acum_tr_loss.append(history.history['loss'][0])\n",
        "    acum_val_loss.append(history.history['val_loss'][0])\n",
        "    \n",
        "    if len(acum_tr_loss) > 1:\n",
        "        clear_output()\n",
        "        grafica_entrenamiento(acum_tr_loss, acum_val_loss)"
      ],
      "execution_count": null,
      "outputs": [
        {
          "output_type": "display_data",
          "data": {
            "image/png": "[encoded data removed]",
            "text/plain": [
              "<Figure size 720x288 with 1 Axes>"
            ]
          },
          "metadata": {
            "tags": [],
            "needs_background": "light"
          }
        }
      ]
    },
    {
      "cell_type": "code",
      "metadata": {
        "id": "RMMZ0xlS6JRW"
      },
      "source": [
        "model = load_model('model_current_best.h5')"
      ],
      "execution_count": null,
      "outputs": []
    },
    {
      "cell_type": "code",
      "metadata": {
        "id": "bPNvjgVm8vAH",
        "colab": {
          "base_uri": "https://localhost:8080/"
        },
        "outputId": "19a416dc-0384-4749-c441-42f9a413d458"
      },
      "source": [
        "score_tr = model.evaluate(trainAttrX, trainY, verbose=0)\n",
        "print('Train loss    :', score_tr)\n",
        "\n",
        "score_val = model.evaluate(testAttrX, testY, verbose=0)\n",
        "print('Val loss    :', score_val)"
      ],
      "execution_count": null,
      "outputs": [
        {
          "output_type": "stream",
          "text": [
            "Train loss    : 20.8298397064209\n",
            "Val loss    : 20.253280639648438\n"
          ],
          "name": "stdout"
        }
      ]
    },
    {
      "cell_type": "code",
      "metadata": {
        "id": "oFeIRB_s91JN"
      },
      "source": [
        "preds  = model.predict(testAttrX)"
      ],
      "execution_count": null,
      "outputs": []
    },
    {
      "cell_type": "code",
      "metadata": {
        "id": "FgMqs3JDCPQ5",
        "colab": {
          "base_uri": "https://localhost:8080/"
        },
        "outputId": "efcfbaca-2c32-4e4b-8263-48007c771e79"
      },
      "source": [
        "# compute the difference between the *predicted* house prices and the\n",
        "# *actual* house prices, then compute the percentage difference and\n",
        "# the absolute percentage difference\n",
        "diff = preds.flatten() - testY\n",
        "percentDiff = (diff / testY) * 100\n",
        "absPercentDiff = np.abs(percentDiff)\n",
        "# compute the mean and standard deviation of the absolute percentage\n",
        "# difference\n",
        "mean = np.mean(absPercentDiff)\n",
        "std = np.std(absPercentDiff)\n",
        "# finally, show some statistics on our model\n",
        "locale.setlocale(locale.LC_ALL, \"en_US.UTF-8\")\n",
        "print(\"[INFO] avg. house price: {}, std house price: {}\".format(\n",
        "\tlocale.currency(df[\"price\"].mean(), grouping=True),\n",
        "\tlocale.currency(df[\"price\"].std(), grouping=True)))\n",
        "print(\"[INFO] mean: {:.2f}%, std: {:.2f}%\".format(mean, std))"
      ],
      "execution_count": null,
      "outputs": [
        {
          "output_type": "stream",
          "text": [
            "[INFO] avg. house price: $533,388.27, std house price: $493,403.08\n",
            "[INFO] mean: 20.25%, std: 21.11%\n"
          ],
          "name": "stdout"
        }
      ]
    },
    {
      "cell_type": "code",
      "metadata": {
        "id": "MT6XHOZy6JXw"
      },
      "source": [
        ""
      ],
      "execution_count": null,
      "outputs": []
    }
  ]
}