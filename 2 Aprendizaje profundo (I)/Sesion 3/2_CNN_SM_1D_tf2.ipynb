{
  "nbformat": 4,
  "nbformat_minor": 0,
  "metadata": {
    "colab": {
      "name": "CNN_SM_1D_tf2.ipynb",
      "provenance": [],
      "collapsed_sections": [],
      "toc_visible": true,
      "include_colab_link": true
    },
    "kernelspec": {
      "name": "python3",
      "display_name": "Python 3"
    },
    "accelerator": "GPU"
  },
  "cells": [
    {
      "cell_type": "markdown",
      "metadata": {
        "id": "view-in-github",
        "colab_type": "text"
      },
      "source": [
        "<a href=\"https://colab.research.google.com/github/vicentcamison/idal_ia3/blob/main/2%20Aprendizaje%20profundo%20(I)/Sesion%203/2_CNN_SM_1D_tf2.ipynb\" target=\"_parent\"><img src=\"https://colab.research.google.com/assets/colab-badge.svg\" alt=\"Open In Colab\"/></a>"
      ]
    },
    {
      "cell_type": "code",
      "metadata": {
        "id": "rGMqPdO0OgBX",
        "colab": {
          "base_uri": "https://localhost:8080/"
        },
        "outputId": "f5b126c0-6760-4c99-d163-24d0eb3b87b2"
      },
      "source": [
        "from __future__ import absolute_import, division, print_function, unicode_literals\n",
        "# Installa TensorFlow\n",
        "%tensorflow_version 2.x\n",
        "import tensorflow as tf\n",
        "print(tf.__version__)"
      ],
      "execution_count": null,
      "outputs": [
        {
          "output_type": "stream",
          "text": [
            "2.3.0\n"
          ],
          "name": "stdout"
        }
      ]
    },
    {
      "cell_type": "code",
      "metadata": {
        "id": "IfCNX3v4vRlj"
      },
      "source": [
        "from tensorflow.keras.models import Sequential\n",
        "from tensorflow.keras.layers import Dense, Conv1D, Flatten\n",
        "import numpy as np"
      ],
      "execution_count": null,
      "outputs": []
    },
    {
      "cell_type": "markdown",
      "metadata": {
        "id": "ndHK4OTtjVex"
      },
      "source": [
        "# Database\n",
        "https://www.kaggle.com/borismarjanovic/price-volume-data-for-all-us-stocks-etfs"
      ]
    },
    {
      "cell_type": "markdown",
      "metadata": {
        "id": "N7CdTSbKQkBy"
      },
      "source": [
        "# Veamos los datos\n"
      ]
    },
    {
      "cell_type": "code",
      "metadata": {
        "id": "xbzWW9BkQjXa"
      },
      "source": [
        "import pandas as pd"
      ],
      "execution_count": null,
      "outputs": []
    },
    {
      "cell_type": "code",
      "metadata": {
        "id": "18F2y794bvov"
      },
      "source": [
        "# Leer los datos \n",
        "# En local: tenemos que tener el fichero en la misma carpeta que el notebook (o cambiar la ruta)\n",
        "# En Colab: abre la carpeta (usando el boton de la izquierda) y arrastralos dentro desde tu ordenador.\n",
        "dataset = pd.read_csv(\"googl.us.txt\", delimiter=\",\")"
      ],
      "execution_count": null,
      "outputs": []
    },
    {
      "cell_type": "code",
      "metadata": {
        "id": "wCeuECbtOxoh",
        "colab": {
          "base_uri": "https://localhost:8080/",
          "height": 424
        },
        "outputId": "9380b509-178d-4eef-c552-a891c5a473ef"
      },
      "source": [
        "# Tenemos 5 datos por dia\n",
        "dataset"
      ],
      "execution_count": null,
      "outputs": [
        {
          "output_type": "execute_result",
          "data": {
            "text/html": [
              "<div>\n",
              "<style scoped>\n",
              "    .dataframe tbody tr th:only-of-type {\n",
              "        vertical-align: middle;\n",
              "    }\n",
              "\n",
              "    .dataframe tbody tr th {\n",
              "        vertical-align: top;\n",
              "    }\n",
              "\n",
              "    .dataframe thead th {\n",
              "        text-align: right;\n",
              "    }\n",
              "</style>\n",
              "<table border=\"1\" class=\"dataframe\">\n",
              "  <thead>\n",
              "    <tr style=\"text-align: right;\">\n",
              "      <th></th>\n",
              "      <th>Date</th>\n",
              "      <th>Open</th>\n",
              "      <th>High</th>\n",
              "      <th>Low</th>\n",
              "      <th>Close</th>\n",
              "      <th>Volume</th>\n",
              "      <th>OpenInt</th>\n",
              "    </tr>\n",
              "  </thead>\n",
              "  <tbody>\n",
              "    <tr>\n",
              "      <th>0</th>\n",
              "      <td>2004-08-19</td>\n",
              "      <td>50.000</td>\n",
              "      <td>52.03</td>\n",
              "      <td>47.980</td>\n",
              "      <td>50.170</td>\n",
              "      <td>44703800</td>\n",
              "      <td>0</td>\n",
              "    </tr>\n",
              "    <tr>\n",
              "      <th>1</th>\n",
              "      <td>2004-08-20</td>\n",
              "      <td>50.505</td>\n",
              "      <td>54.54</td>\n",
              "      <td>50.250</td>\n",
              "      <td>54.155</td>\n",
              "      <td>22857200</td>\n",
              "      <td>0</td>\n",
              "    </tr>\n",
              "    <tr>\n",
              "      <th>2</th>\n",
              "      <td>2004-08-23</td>\n",
              "      <td>55.375</td>\n",
              "      <td>56.74</td>\n",
              "      <td>54.525</td>\n",
              "      <td>54.700</td>\n",
              "      <td>18274400</td>\n",
              "      <td>0</td>\n",
              "    </tr>\n",
              "    <tr>\n",
              "      <th>3</th>\n",
              "      <td>2004-08-24</td>\n",
              "      <td>55.620</td>\n",
              "      <td>55.80</td>\n",
              "      <td>51.785</td>\n",
              "      <td>52.435</td>\n",
              "      <td>15262600</td>\n",
              "      <td>0</td>\n",
              "    </tr>\n",
              "    <tr>\n",
              "      <th>4</th>\n",
              "      <td>2004-08-25</td>\n",
              "      <td>52.480</td>\n",
              "      <td>54.00</td>\n",
              "      <td>51.940</td>\n",
              "      <td>53.000</td>\n",
              "      <td>9197800</td>\n",
              "      <td>0</td>\n",
              "    </tr>\n",
              "    <tr>\n",
              "      <th>...</th>\n",
              "      <td>...</td>\n",
              "      <td>...</td>\n",
              "      <td>...</td>\n",
              "      <td>...</td>\n",
              "      <td>...</td>\n",
              "      <td>...</td>\n",
              "      <td>...</td>\n",
              "    </tr>\n",
              "    <tr>\n",
              "      <th>3328</th>\n",
              "      <td>2017-11-06</td>\n",
              "      <td>1049.100</td>\n",
              "      <td>1052.59</td>\n",
              "      <td>1042.000</td>\n",
              "      <td>1042.680</td>\n",
              "      <td>913954</td>\n",
              "      <td>0</td>\n",
              "    </tr>\n",
              "    <tr>\n",
              "      <th>3329</th>\n",
              "      <td>2017-11-07</td>\n",
              "      <td>1049.650</td>\n",
              "      <td>1053.41</td>\n",
              "      <td>1043.000</td>\n",
              "      <td>1052.390</td>\n",
              "      <td>1303832</td>\n",
              "      <td>0</td>\n",
              "    </tr>\n",
              "    <tr>\n",
              "      <th>3330</th>\n",
              "      <td>2017-11-08</td>\n",
              "      <td>1050.050</td>\n",
              "      <td>1062.69</td>\n",
              "      <td>1047.050</td>\n",
              "      <td>1058.290</td>\n",
              "      <td>1214469</td>\n",
              "      <td>0</td>\n",
              "    </tr>\n",
              "    <tr>\n",
              "      <th>3331</th>\n",
              "      <td>2017-11-09</td>\n",
              "      <td>1048.000</td>\n",
              "      <td>1050.88</td>\n",
              "      <td>1035.850</td>\n",
              "      <td>1047.720</td>\n",
              "      <td>1793994</td>\n",
              "      <td>0</td>\n",
              "    </tr>\n",
              "    <tr>\n",
              "      <th>3332</th>\n",
              "      <td>2017-11-10</td>\n",
              "      <td>1043.870</td>\n",
              "      <td>1046.63</td>\n",
              "      <td>1041.220</td>\n",
              "      <td>1044.150</td>\n",
              "      <td>970498</td>\n",
              "      <td>0</td>\n",
              "    </tr>\n",
              "  </tbody>\n",
              "</table>\n",
              "<p>3333 rows × 7 columns</p>\n",
              "</div>"
            ],
            "text/plain": [
              "            Date      Open     High       Low     Close    Volume  OpenInt\n",
              "0     2004-08-19    50.000    52.03    47.980    50.170  44703800        0\n",
              "1     2004-08-20    50.505    54.54    50.250    54.155  22857200        0\n",
              "2     2004-08-23    55.375    56.74    54.525    54.700  18274400        0\n",
              "3     2004-08-24    55.620    55.80    51.785    52.435  15262600        0\n",
              "4     2004-08-25    52.480    54.00    51.940    53.000   9197800        0\n",
              "...          ...       ...      ...       ...       ...       ...      ...\n",
              "3328  2017-11-06  1049.100  1052.59  1042.000  1042.680    913954        0\n",
              "3329  2017-11-07  1049.650  1053.41  1043.000  1052.390   1303832        0\n",
              "3330  2017-11-08  1050.050  1062.69  1047.050  1058.290   1214469        0\n",
              "3331  2017-11-09  1048.000  1050.88  1035.850  1047.720   1793994        0\n",
              "3332  2017-11-10  1043.870  1046.63  1041.220  1044.150    970498        0\n",
              "\n",
              "[3333 rows x 7 columns]"
            ]
          },
          "metadata": {
            "tags": []
          },
          "execution_count": 6
        }
      ]
    },
    {
      "cell_type": "code",
      "metadata": {
        "id": "c1CchphhPWTG",
        "colab": {
          "base_uri": "https://localhost:8080/"
        },
        "outputId": "44abd618-da06-4aeb-cc5d-8543c09c5d0c"
      },
      "source": [
        "# Estos son los datos de apertura\n",
        "dataset['Open']"
      ],
      "execution_count": null,
      "outputs": [
        {
          "output_type": "execute_result",
          "data": {
            "text/plain": [
              "0         50.000\n",
              "1         50.505\n",
              "2         55.375\n",
              "3         55.620\n",
              "4         52.480\n",
              "          ...   \n",
              "3328    1049.100\n",
              "3329    1049.650\n",
              "3330    1050.050\n",
              "3331    1048.000\n",
              "3332    1043.870\n",
              "Name: Open, Length: 3333, dtype: float64"
            ]
          },
          "metadata": {
            "tags": []
          },
          "execution_count": 8
        }
      ]
    },
    {
      "cell_type": "code",
      "metadata": {
        "id": "P86GSpRlkRRI",
        "colab": {
          "base_uri": "https://localhost:8080/"
        },
        "outputId": "c7687963-f465-4fbd-8946-e4a3a8aafa56"
      },
      "source": [
        "# Nos guardamos la serie de apertura en la variable 'aa'\n",
        "aa = dataset['Open']\n",
        "aa.shape"
      ],
      "execution_count": null,
      "outputs": [
        {
          "output_type": "execute_result",
          "data": {
            "text/plain": [
              "(3333,)"
            ]
          },
          "metadata": {
            "tags": []
          },
          "execution_count": 9
        }
      ]
    },
    {
      "cell_type": "code",
      "metadata": {
        "id": "x72djQQvk27Y",
        "colab": {
          "base_uri": "https://localhost:8080/",
          "height": 282
        },
        "outputId": "9a71bd83-ce53-41b4-aac9-a36dafdbbdf6"
      },
      "source": [
        "# Ploteamos los datos de apertura\n",
        "import matplotlib.pyplot as plt\n",
        "%matplotlib inline\n",
        "plt.figure()\n",
        "plt.plot(aa)"
      ],
      "execution_count": null,
      "outputs": [
        {
          "output_type": "execute_result",
          "data": {
            "text/plain": [
              "[<matplotlib.lines.Line2D at 0x7f311ee583c8>]"
            ]
          },
          "metadata": {
            "tags": []
          },
          "execution_count": 10
        },
        {
          "output_type": "display_data",
          "data": {
            "image/png": "[encoded data removed]",
            "text/plain": [
              "<Figure size 432x288 with 1 Axes>"
            ]
          },
          "metadata": {
            "tags": [],
            "needs_background": "light"
          }
        }
      ]
    },
    {
      "cell_type": "code",
      "metadata": {
        "id": "xjvkXOHqmIWM",
        "colab": {
          "base_uri": "https://localhost:8080/",
          "height": 311
        },
        "outputId": "aca31c5b-5997-430b-9737-08de9c1dbaf9"
      },
      "source": [
        "# Ploteamos todos los datos (solo se ven los de volumen porque los valores son muy grandes)\n",
        "%matplotlib inline\n",
        "plt.figure()\n",
        "dataset.plot()"
      ],
      "execution_count": null,
      "outputs": [
        {
          "output_type": "execute_result",
          "data": {
            "text/plain": [
              "<matplotlib.axes._subplots.AxesSubplot at 0x7f311ee2feb8>"
            ]
          },
          "metadata": {
            "tags": []
          },
          "execution_count": 11
        },
        {
          "output_type": "display_data",
          "data": {
            "text/plain": [
              "<Figure size 432x288 with 0 Axes>"
            ]
          },
          "metadata": {
            "tags": []
          }
        },
        {
          "output_type": "display_data",
          "data": {
            "image/png": "[encoded data removed]",
            "text/plain": [
              "<Figure size 432x288 with 1 Axes>"
            ]
          },
          "metadata": {
            "tags": [],
            "needs_background": "light"
          }
        }
      ]
    },
    {
      "cell_type": "code",
      "metadata": {
        "id": "CPSWzZMfoyss"
      },
      "source": [
        "# Nos guardamos los datos de apertura y cierra\n",
        "googl_op = dataset['Open']\n",
        "googl_cl = dataset['Close']"
      ],
      "execution_count": null,
      "outputs": []
    },
    {
      "cell_type": "code",
      "metadata": {
        "id": "U9Lgabvuo3K6",
        "colab": {
          "base_uri": "https://localhost:8080/",
          "height": 282
        },
        "outputId": "99c28921-367d-494a-8a1b-b13faade457c"
      },
      "source": [
        "# Ploteamos los datos de apertura y cierra\n",
        "%matplotlib inline\n",
        "plt.figure()\n",
        "plt.plot(googl_op)\n",
        "plt.plot(googl_cl)"
      ],
      "execution_count": null,
      "outputs": [
        {
          "output_type": "execute_result",
          "data": {
            "text/plain": [
              "[<matplotlib.lines.Line2D at 0x7f31524e8550>]"
            ]
          },
          "metadata": {
            "tags": []
          },
          "execution_count": 13
        },
        {
          "output_type": "display_data",
          "data": {
            "image/png": "[encoded data removed]",
            "text/plain": [
              "<Figure size 432x288 with 1 Axes>"
            ]
          },
          "metadata": {
            "tags": [],
            "needs_background": "light"
          }
        }
      ]
    },
    {
      "cell_type": "code",
      "metadata": {
        "id": "FKJrAyBapDoh"
      },
      "source": [
        "# Reordenamos los datos para usarlos después\n",
        "# Generamos datos de entrada de 10 dias de apertura\n",
        "# El dato de salida (a predecir) es el de cierre del úúltimo dia\n",
        "# Partimos en entrenamiento y test\n",
        "import numpy as np\n",
        "xx = googl_op.values[np.arange(0,2000,1)]\n",
        "yy = googl_cl.values[np.arange(0,2000,1)]\n",
        "                     \n",
        "X_train = np.reshape(xx,(200,10,1))\n",
        "y_train = yy[np.arange(9,2000,10)]\n",
        "                     \n",
        "xx = googl_op.values[np.arange(2000,3000,1)]\n",
        "yy = googl_cl.values[np.arange(2000,3000,1)]\n",
        "X_test = np.reshape(xx,(100,10,1))\n",
        "y_test = yy[np.arange(9,1000,10)]"
      ],
      "execution_count": null,
      "outputs": []
    },
    {
      "cell_type": "code",
      "metadata": {
        "id": "eYMMzSaOdYfk",
        "colab": {
          "base_uri": "https://localhost:8080/"
        },
        "outputId": "acc85f7f-813f-46e0-a511-05faa422c608"
      },
      "source": [
        "# Dimensiones -> (Número de datos, Número de dimensiones, Número de canales)\n",
        "X_train.shape"
      ],
      "execution_count": null,
      "outputs": [
        {
          "output_type": "execute_result",
          "data": {
            "text/plain": [
              "(200, 10, 1)"
            ]
          },
          "metadata": {
            "tags": []
          },
          "execution_count": 16
        }
      ]
    },
    {
      "cell_type": "markdown",
      "metadata": {
        "id": "OhgHFX9cRJHv"
      },
      "source": [
        "# MODELO"
      ]
    },
    {
      "cell_type": "code",
      "metadata": {
        "id": "HzQLhL-GKK59"
      },
      "source": [
        "# Creamos un modelo sencillo de convolucióón 1D\n",
        "model = Sequential()\n",
        "capa_1 = Conv1D(10, kernel_size = (3,), input_shape=(10,1))\n",
        "model.add(capa_1)\n",
        "model.add(Flatten())\n",
        "model.add(Dense(1))\n",
        "\n",
        "model.compile(optimizer='adam',loss='mae')\n"
      ],
      "execution_count": null,
      "outputs": []
    },
    {
      "cell_type": "code",
      "metadata": {
        "id": "PSevl02cSDmi",
        "colab": {
          "base_uri": "https://localhost:8080/"
        },
        "outputId": "29e66fec-ff24-4fff-d0ab-40dd2bf24839"
      },
      "source": [
        "# Vemos como es el modelo (capas, parámetros...)\n",
        "model.summary()"
      ],
      "execution_count": null,
      "outputs": [
        {
          "output_type": "stream",
          "text": [
            "Model: \"sequential\"\n",
            "_________________________________________________________________\n",
            "Layer (type)                 Output Shape              Param #   \n",
            "=================================================================\n",
            "conv1d (Conv1D)              (None, 8, 10)             40        \n",
            "_________________________________________________________________\n",
            "flatten (Flatten)            (None, 80)                0         \n",
            "_________________________________________________________________\n",
            "dense (Dense)                (None, 1)                 81        \n",
            "=================================================================\n",
            "Total params: 121\n",
            "Trainable params: 121\n",
            "Non-trainable params: 0\n",
            "_________________________________________________________________\n"
          ],
          "name": "stdout"
        }
      ]
    },
    {
      "cell_type": "code",
      "metadata": {
        "id": "-m45mugpvB2k",
        "colab": {
          "base_uri": "https://localhost:8080/"
        },
        "outputId": "2e27e3cb-81cf-43fd-c739-814a0fb9ee73"
      },
      "source": [
        "# Entrenamos el modelo\n",
        "model.fit(X_train, y_train, batch_size=32, epochs=10, verbose=1)"
      ],
      "execution_count": null,
      "outputs": [
        {
          "output_type": "stream",
          "text": [
            "Epoch 1/10\n",
            "7/7 [==============================] - 0s 7ms/step - loss: 109.2364\n",
            "Epoch 2/10\n",
            "7/7 [==============================] - 0s 3ms/step - loss: 57.5625\n",
            "Epoch 3/10\n",
            "7/7 [==============================] - 0s 3ms/step - loss: 14.4746\n",
            "Epoch 4/10\n",
            "7/7 [==============================] - 0s 3ms/step - loss: 19.8324\n",
            "Epoch 5/10\n",
            "7/7 [==============================] - 0s 3ms/step - loss: 10.1703\n",
            "Epoch 6/10\n",
            "7/7 [==============================] - 0s 3ms/step - loss: 12.2281\n",
            "Epoch 7/10\n",
            "7/7 [==============================] - 0s 3ms/step - loss: 8.9234\n",
            "Epoch 8/10\n",
            "7/7 [==============================] - 0s 2ms/step - loss: 8.4924\n",
            "Epoch 9/10\n",
            "7/7 [==============================] - 0s 2ms/step - loss: 8.5576\n",
            "Epoch 10/10\n",
            "7/7 [==============================] - 0s 2ms/step - loss: 8.2423\n"
          ],
          "name": "stdout"
        },
        {
          "output_type": "execute_result",
          "data": {
            "text/plain": [
              "<tensorflow.python.keras.callbacks.History at 0x7f311f1a32b0>"
            ]
          },
          "metadata": {
            "tags": []
          },
          "execution_count": 20
        }
      ]
    },
    {
      "cell_type": "code",
      "metadata": {
        "id": "MICaT444ivvY"
      },
      "source": [
        "# Predecimos sobre los datos de test\n",
        "y_hat = model.predict(X_test)"
      ],
      "execution_count": null,
      "outputs": []
    },
    {
      "cell_type": "code",
      "metadata": {
        "id": "OZOIf246ewHr",
        "colab": {
          "base_uri": "https://localhost:8080/",
          "height": 283
        },
        "outputId": "271da43c-0023-4848-90f5-7ebcee0bfbeb"
      },
      "source": [
        "# Ploteamos las predicciones y los valores reales\n",
        "# (En la vida real no tendriamos y_test para poder visualizarlos)\n",
        "%matplotlib inline\n",
        "plt.figure()\n",
        "plt.plot(y_hat,label='predicciones')\n",
        "plt.plot(y_test,label='reales')\n",
        "plt.legend()"
      ],
      "execution_count": null,
      "outputs": [
        {
          "output_type": "execute_result",
          "data": {
            "text/plain": [
              "<matplotlib.legend.Legend at 0x7f3110090390>"
            ]
          },
          "metadata": {
            "tags": []
          },
          "execution_count": 24
        },
        {
          "output_type": "display_data",
          "data": {
            "image/png": "[encoded data removed]",
            "text/plain": [
              "<Figure size 432x288 with 1 Axes>"
            ]
          },
          "metadata": {
            "tags": [],
            "needs_background": "light"
          }
        }
      ]
    },
    {
      "cell_type": "code",
      "metadata": {
        "id": "e5z2rwdSyhDt"
      },
      "source": [
        "# Evaluamos sobre los datos de test\n",
        "# (En la vida real no tendriamos y_test para poder evaluar)\n",
        "score = model.evaluate(X_test, y_test, batch_size=128)\n",
        "\n",
        "score"
      ],
      "execution_count": null,
      "outputs": []
    }
  ]
}