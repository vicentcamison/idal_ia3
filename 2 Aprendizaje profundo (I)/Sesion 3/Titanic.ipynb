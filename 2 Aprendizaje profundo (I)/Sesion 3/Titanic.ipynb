{
  "nbformat": 4,
  "nbformat_minor": 0,
  "metadata": {
    "colab": {
      "name": "Titanic.ipynb",
      "provenance": [],
      "authorship_tag": "ABX9TyOjmBKdngkewLyMTglD7DZ1",
      "include_colab_link": true
    },
    "kernelspec": {
      "name": "python3",
      "display_name": "Python 3"
    }
  },
  "cells": [
    {
      "cell_type": "markdown",
      "metadata": {
        "id": "view-in-github",
        "colab_type": "text"
      },
      "source": [
        "<a href=\"https://colab.research.google.com/github/vicentcamison/idal_ia3/blob/main/2%20Aprendizaje%20profundo%20(I)/Sesion%203/Titanic.ipynb\" target=\"_parent\"><img src=\"https://colab.research.google.com/assets/colab-badge.svg\" alt=\"Open In Colab\"/></a>"
      ]
    },
    {
      "cell_type": "code",
      "metadata": {
        "id": "KP4WUH2vbDlU"
      },
      "source": [
        "import numpy as np\n",
        "import pandas as pd\n",
        "import tensorflow as tf\n",
        "from tensorflow.keras.layers import Dense, Input, Lambda, Dropout\n",
        "import matplotlib.pyplot as plt\n",
        "from sklearn import preprocessing\n",
        "from sklearn.model_selection import train_test_split\n",
        "from sklearn.metrics import confusion_matrix\n",
        "tf.random.set_seed(42)"
      ],
      "execution_count": 180,
      "outputs": []
    },
    {
      "cell_type": "code",
      "metadata": {
        "id": "liEw8CokbRxB"
      },
      "source": [
        "data_train = pd.read_csv('https://raw.githubusercontent.com/vicentcamison/idal_ia3/main/2%20Aprendizaje%20profundo%20(I)/Sesion%203/titanic_train.csv')\n",
        "data_test = pd.read_csv('https://raw.githubusercontent.com/vicentcamison/idal_ia3/main/2%20Aprendizaje%20profundo%20(I)/Sesion%203/titanic_test.csv')"
      ],
      "execution_count": 74,
      "outputs": []
    },
    {
      "cell_type": "code",
      "metadata": {
        "colab": {
          "base_uri": "https://localhost:8080/",
          "height": 424
        },
        "id": "uKeL0C3sdUIL",
        "outputId": "c072287c-5c74-42a0-dc72-a3c8a7f8b828"
      },
      "source": [
        "data_train"
      ],
      "execution_count": 30,
      "outputs": [
        {
          "output_type": "execute_result",
          "data": {
            "text/html": [
              "<div>\n",
              "<style scoped>\n",
              "    .dataframe tbody tr th:only-of-type {\n",
              "        vertical-align: middle;\n",
              "    }\n",
              "\n",
              "    .dataframe tbody tr th {\n",
              "        vertical-align: top;\n",
              "    }\n",
              "\n",
              "    .dataframe thead th {\n",
              "        text-align: right;\n",
              "    }\n",
              "</style>\n",
              "<table border=\"1\" class=\"dataframe\">\n",
              "  <thead>\n",
              "    <tr style=\"text-align: right;\">\n",
              "      <th></th>\n",
              "      <th>Age</th>\n",
              "      <th>SibSp</th>\n",
              "      <th>Parch</th>\n",
              "      <th>Fare</th>\n",
              "      <th>Survived_No</th>\n",
              "      <th>Survived_Yes</th>\n",
              "      <th>Pclass_Lower</th>\n",
              "      <th>Pclass_Middle</th>\n",
              "      <th>Pclass_Upper</th>\n",
              "      <th>Sex_female</th>\n",
              "      <th>Sex_male</th>\n",
              "    </tr>\n",
              "  </thead>\n",
              "  <tbody>\n",
              "    <tr>\n",
              "      <th>0</th>\n",
              "      <td>33.0</td>\n",
              "      <td>1</td>\n",
              "      <td>0</td>\n",
              "      <td>90.0000</td>\n",
              "      <td>0</td>\n",
              "      <td>1</td>\n",
              "      <td>0</td>\n",
              "      <td>0</td>\n",
              "      <td>1</td>\n",
              "      <td>1</td>\n",
              "      <td>0</td>\n",
              "    </tr>\n",
              "    <tr>\n",
              "      <th>1</th>\n",
              "      <td>20.0</td>\n",
              "      <td>0</td>\n",
              "      <td>0</td>\n",
              "      <td>7.8542</td>\n",
              "      <td>1</td>\n",
              "      <td>0</td>\n",
              "      <td>1</td>\n",
              "      <td>0</td>\n",
              "      <td>0</td>\n",
              "      <td>0</td>\n",
              "      <td>1</td>\n",
              "    </tr>\n",
              "    <tr>\n",
              "      <th>2</th>\n",
              "      <td>50.0</td>\n",
              "      <td>0</td>\n",
              "      <td>0</td>\n",
              "      <td>13.0000</td>\n",
              "      <td>1</td>\n",
              "      <td>0</td>\n",
              "      <td>0</td>\n",
              "      <td>1</td>\n",
              "      <td>0</td>\n",
              "      <td>0</td>\n",
              "      <td>1</td>\n",
              "    </tr>\n",
              "    <tr>\n",
              "      <th>3</th>\n",
              "      <td>18.0</td>\n",
              "      <td>2</td>\n",
              "      <td>2</td>\n",
              "      <td>262.3750</td>\n",
              "      <td>0</td>\n",
              "      <td>1</td>\n",
              "      <td>0</td>\n",
              "      <td>0</td>\n",
              "      <td>1</td>\n",
              "      <td>1</td>\n",
              "      <td>0</td>\n",
              "    </tr>\n",
              "    <tr>\n",
              "      <th>4</th>\n",
              "      <td>34.0</td>\n",
              "      <td>0</td>\n",
              "      <td>0</td>\n",
              "      <td>13.0000</td>\n",
              "      <td>1</td>\n",
              "      <td>0</td>\n",
              "      <td>0</td>\n",
              "      <td>1</td>\n",
              "      <td>0</td>\n",
              "      <td>0</td>\n",
              "      <td>1</td>\n",
              "    </tr>\n",
              "    <tr>\n",
              "      <th>...</th>\n",
              "      <td>...</td>\n",
              "      <td>...</td>\n",
              "      <td>...</td>\n",
              "      <td>...</td>\n",
              "      <td>...</td>\n",
              "      <td>...</td>\n",
              "      <td>...</td>\n",
              "      <td>...</td>\n",
              "      <td>...</td>\n",
              "      <td>...</td>\n",
              "      <td>...</td>\n",
              "    </tr>\n",
              "    <tr>\n",
              "      <th>706</th>\n",
              "      <td>64.0</td>\n",
              "      <td>0</td>\n",
              "      <td>0</td>\n",
              "      <td>26.0000</td>\n",
              "      <td>1</td>\n",
              "      <td>0</td>\n",
              "      <td>0</td>\n",
              "      <td>0</td>\n",
              "      <td>1</td>\n",
              "      <td>0</td>\n",
              "      <td>1</td>\n",
              "    </tr>\n",
              "    <tr>\n",
              "      <th>707</th>\n",
              "      <td>29.0</td>\n",
              "      <td>0</td>\n",
              "      <td>0</td>\n",
              "      <td>9.4833</td>\n",
              "      <td>1</td>\n",
              "      <td>0</td>\n",
              "      <td>1</td>\n",
              "      <td>0</td>\n",
              "      <td>0</td>\n",
              "      <td>0</td>\n",
              "      <td>1</td>\n",
              "    </tr>\n",
              "    <tr>\n",
              "      <th>708</th>\n",
              "      <td>19.0</td>\n",
              "      <td>0</td>\n",
              "      <td>0</td>\n",
              "      <td>10.5000</td>\n",
              "      <td>1</td>\n",
              "      <td>0</td>\n",
              "      <td>0</td>\n",
              "      <td>1</td>\n",
              "      <td>0</td>\n",
              "      <td>0</td>\n",
              "      <td>1</td>\n",
              "    </tr>\n",
              "    <tr>\n",
              "      <th>709</th>\n",
              "      <td>70.0</td>\n",
              "      <td>1</td>\n",
              "      <td>1</td>\n",
              "      <td>71.0000</td>\n",
              "      <td>1</td>\n",
              "      <td>0</td>\n",
              "      <td>0</td>\n",
              "      <td>0</td>\n",
              "      <td>1</td>\n",
              "      <td>0</td>\n",
              "      <td>1</td>\n",
              "    </tr>\n",
              "    <tr>\n",
              "      <th>710</th>\n",
              "      <td>21.0</td>\n",
              "      <td>0</td>\n",
              "      <td>0</td>\n",
              "      <td>7.9250</td>\n",
              "      <td>1</td>\n",
              "      <td>0</td>\n",
              "      <td>1</td>\n",
              "      <td>0</td>\n",
              "      <td>0</td>\n",
              "      <td>0</td>\n",
              "      <td>1</td>\n",
              "    </tr>\n",
              "  </tbody>\n",
              "</table>\n",
              "<p>711 rows × 11 columns</p>\n",
              "</div>"
            ],
            "text/plain": [
              "      Age  SibSp  Parch  ...  Pclass_Upper  Sex_female  Sex_male\n",
              "0    33.0      1      0  ...             1           1         0\n",
              "1    20.0      0      0  ...             0           0         1\n",
              "2    50.0      0      0  ...             0           0         1\n",
              "3    18.0      2      2  ...             1           1         0\n",
              "4    34.0      0      0  ...             0           0         1\n",
              "..    ...    ...    ...  ...           ...         ...       ...\n",
              "706  64.0      0      0  ...             1           0         1\n",
              "707  29.0      0      0  ...             0           0         1\n",
              "708  19.0      0      0  ...             0           0         1\n",
              "709  70.0      1      1  ...             1           0         1\n",
              "710  21.0      0      0  ...             0           0         1\n",
              "\n",
              "[711 rows x 11 columns]"
            ]
          },
          "metadata": {
            "tags": []
          },
          "execution_count": 30
        }
      ]
    },
    {
      "cell_type": "markdown",
      "metadata": {
        "id": "WyLZAn5Ek0-6"
      },
      "source": [
        "#Preprocesado de datos"
      ]
    },
    {
      "cell_type": "code",
      "metadata": {
        "id": "YKn5ag6XdVpD"
      },
      "source": [
        "#Eliminamos algunas columnas que pensamos que no aportan ningún tipo de información\n",
        "#Eliminamos la columna 'Cabin' ya que casi todas las entries son NaN\n",
        "\n",
        "data_train = data_train.drop(['Name', 'PassengerId', 'Ticket', 'Cabin', 'Embarked'], axis=1)\n",
        "data_test = data_test.drop(['Name', 'PassengerId', 'Ticket', 'Cabin', 'Embarked'], axis=1)\n",
        "\n",
        "\n",
        "# ---------------\n",
        "# VARIABLES DUMMY\n",
        "# ---------------\n",
        "\n",
        "data_train = pd.get_dummies(data_train, columns=['Survived', 'Pclass', 'Sex'])\n",
        "data_test = pd.get_dummies(data_test, columns=['Survived', 'Pclass', 'Sex'])\n",
        "\n",
        "#Eliminamos algunas columnas dummy innecesarias porque eran binarias\n",
        "# (male = 1, female = 0;  survived = 1, not_survived = 0)\n",
        "data_train.drop(['Survived_No', 'Sex_female'], axis=1, inplace=True)\n",
        "data_test.drop(['Survived_No', 'Sex_female'], axis=1, inplace=True)\n",
        "\n",
        "# Renombramos las columnas dummy binarias\n",
        "data_train.rename(columns={'Survived_Yes': 'Survived', 'Sex_male': 'Sex'}, inplace=True)\n",
        "data_test.rename(columns={'Survived_Yes': 'Survived', 'Sex_male': 'Sex'}, inplace=True)"
      ],
      "execution_count": 75,
      "outputs": []
    },
    {
      "cell_type": "code",
      "metadata": {
        "colab": {
          "base_uri": "https://localhost:8080/",
          "height": 441
        },
        "id": "-QyApRN7tqzH",
        "outputId": "b542a95c-8601-46d5-ee99-5c6c8e370066"
      },
      "source": [
        "# ------------------------\n",
        "# LIDIAR CON VARIABLES NaN\n",
        "# ------------------------\n",
        "\n",
        "# El número de datos del dataframe actual que son NaN es:\n",
        "print(data_train.isnull().sum().sum(), data_test.isnull().sum().sum())"
      ],
      "execution_count": 174,
      "outputs": [
        {
          "output_type": "stream",
          "text": [
            "0 0\n"
          ],
          "name": "stdout"
        },
        {
          "output_type": "execute_result",
          "data": {
            "text/html": [
              "<div>\n",
              "<style scoped>\n",
              "    .dataframe tbody tr th:only-of-type {\n",
              "        vertical-align: middle;\n",
              "    }\n",
              "\n",
              "    .dataframe tbody tr th {\n",
              "        vertical-align: top;\n",
              "    }\n",
              "\n",
              "    .dataframe thead th {\n",
              "        text-align: right;\n",
              "    }\n",
              "</style>\n",
              "<table border=\"1\" class=\"dataframe\">\n",
              "  <thead>\n",
              "    <tr style=\"text-align: right;\">\n",
              "      <th></th>\n",
              "      <th>Age</th>\n",
              "      <th>SibSp</th>\n",
              "      <th>Parch</th>\n",
              "      <th>Fare</th>\n",
              "      <th>Survived</th>\n",
              "      <th>Pclass_Lower</th>\n",
              "      <th>Pclass_Middle</th>\n",
              "      <th>Pclass_Upper</th>\n",
              "      <th>Sex</th>\n",
              "    </tr>\n",
              "  </thead>\n",
              "  <tbody>\n",
              "    <tr>\n",
              "      <th>0</th>\n",
              "      <td>False</td>\n",
              "      <td>False</td>\n",
              "      <td>False</td>\n",
              "      <td>False</td>\n",
              "      <td>False</td>\n",
              "      <td>False</td>\n",
              "      <td>False</td>\n",
              "      <td>False</td>\n",
              "      <td>False</td>\n",
              "    </tr>\n",
              "    <tr>\n",
              "      <th>1</th>\n",
              "      <td>False</td>\n",
              "      <td>False</td>\n",
              "      <td>False</td>\n",
              "      <td>False</td>\n",
              "      <td>False</td>\n",
              "      <td>False</td>\n",
              "      <td>False</td>\n",
              "      <td>False</td>\n",
              "      <td>False</td>\n",
              "    </tr>\n",
              "    <tr>\n",
              "      <th>2</th>\n",
              "      <td>False</td>\n",
              "      <td>False</td>\n",
              "      <td>False</td>\n",
              "      <td>False</td>\n",
              "      <td>False</td>\n",
              "      <td>False</td>\n",
              "      <td>False</td>\n",
              "      <td>False</td>\n",
              "      <td>False</td>\n",
              "    </tr>\n",
              "    <tr>\n",
              "      <th>3</th>\n",
              "      <td>False</td>\n",
              "      <td>False</td>\n",
              "      <td>False</td>\n",
              "      <td>False</td>\n",
              "      <td>False</td>\n",
              "      <td>False</td>\n",
              "      <td>False</td>\n",
              "      <td>False</td>\n",
              "      <td>False</td>\n",
              "    </tr>\n",
              "    <tr>\n",
              "      <th>4</th>\n",
              "      <td>False</td>\n",
              "      <td>False</td>\n",
              "      <td>False</td>\n",
              "      <td>False</td>\n",
              "      <td>False</td>\n",
              "      <td>False</td>\n",
              "      <td>False</td>\n",
              "      <td>False</td>\n",
              "      <td>False</td>\n",
              "    </tr>\n",
              "    <tr>\n",
              "      <th>...</th>\n",
              "      <td>...</td>\n",
              "      <td>...</td>\n",
              "      <td>...</td>\n",
              "      <td>...</td>\n",
              "      <td>...</td>\n",
              "      <td>...</td>\n",
              "      <td>...</td>\n",
              "      <td>...</td>\n",
              "      <td>...</td>\n",
              "    </tr>\n",
              "    <tr>\n",
              "      <th>706</th>\n",
              "      <td>False</td>\n",
              "      <td>False</td>\n",
              "      <td>False</td>\n",
              "      <td>False</td>\n",
              "      <td>False</td>\n",
              "      <td>False</td>\n",
              "      <td>False</td>\n",
              "      <td>False</td>\n",
              "      <td>False</td>\n",
              "    </tr>\n",
              "    <tr>\n",
              "      <th>707</th>\n",
              "      <td>False</td>\n",
              "      <td>False</td>\n",
              "      <td>False</td>\n",
              "      <td>False</td>\n",
              "      <td>False</td>\n",
              "      <td>False</td>\n",
              "      <td>False</td>\n",
              "      <td>False</td>\n",
              "      <td>False</td>\n",
              "    </tr>\n",
              "    <tr>\n",
              "      <th>708</th>\n",
              "      <td>False</td>\n",
              "      <td>False</td>\n",
              "      <td>False</td>\n",
              "      <td>False</td>\n",
              "      <td>False</td>\n",
              "      <td>False</td>\n",
              "      <td>False</td>\n",
              "      <td>False</td>\n",
              "      <td>False</td>\n",
              "    </tr>\n",
              "    <tr>\n",
              "      <th>709</th>\n",
              "      <td>False</td>\n",
              "      <td>False</td>\n",
              "      <td>False</td>\n",
              "      <td>False</td>\n",
              "      <td>False</td>\n",
              "      <td>False</td>\n",
              "      <td>False</td>\n",
              "      <td>False</td>\n",
              "      <td>False</td>\n",
              "    </tr>\n",
              "    <tr>\n",
              "      <th>710</th>\n",
              "      <td>False</td>\n",
              "      <td>False</td>\n",
              "      <td>False</td>\n",
              "      <td>False</td>\n",
              "      <td>False</td>\n",
              "      <td>False</td>\n",
              "      <td>False</td>\n",
              "      <td>False</td>\n",
              "      <td>False</td>\n",
              "    </tr>\n",
              "  </tbody>\n",
              "</table>\n",
              "<p>711 rows × 9 columns</p>\n",
              "</div>"
            ],
            "text/plain": [
              "       Age  SibSp  Parch  ...  Pclass_Middle  Pclass_Upper    Sex\n",
              "0    False  False  False  ...          False         False  False\n",
              "1    False  False  False  ...          False         False  False\n",
              "2    False  False  False  ...          False         False  False\n",
              "3    False  False  False  ...          False         False  False\n",
              "4    False  False  False  ...          False         False  False\n",
              "..     ...    ...    ...  ...            ...           ...    ...\n",
              "706  False  False  False  ...          False         False  False\n",
              "707  False  False  False  ...          False         False  False\n",
              "708  False  False  False  ...          False         False  False\n",
              "709  False  False  False  ...          False         False  False\n",
              "710  False  False  False  ...          False         False  False\n",
              "\n",
              "[711 rows x 9 columns]"
            ]
          },
          "metadata": {
            "tags": []
          },
          "execution_count": 174
        }
      ]
    },
    {
      "cell_type": "code",
      "metadata": {
        "colab": {
          "base_uri": "https://localhost:8080/"
        },
        "id": "bZ_mUZMwuEbt",
        "outputId": "7939b247-fdbc-4985-a663-9543a0ca8d20"
      },
      "source": [
        "# Reemplazamos los NaN por la media de la columna correspondiente\n",
        "data_train.fillna(data_train.mean(), inplace=True)\n",
        "data_test.fillna(data_test.mean(), inplace=True)\n",
        "\n",
        "#Comprobamos que no queda ningún valor NaN\n",
        "print(data_train.isnull().sum().sum(), data_test.isnull().sum().sum())"
      ],
      "execution_count": 77,
      "outputs": [
        {
          "output_type": "stream",
          "text": [
            "0 0\n"
          ],
          "name": "stdout"
        }
      ]
    },
    {
      "cell_type": "code",
      "metadata": {
        "colab": {
          "base_uri": "https://localhost:8080/",
          "height": 334
        },
        "id": "B4LnOYFnoMI8",
        "outputId": "d56bbc16-bfdd-471f-9da8-cd36f51201e1"
      },
      "source": [
        "# -------------\n",
        "# NORMALIZACIÓN\n",
        "# -------------\n",
        "\n",
        "# Comprobemos la distribución de las variables numéricas ('Age', 'Fare') con histogramas\n",
        "\n",
        "plt.hist(data_train.loc[:, 'Age'])"
      ],
      "execution_count": 78,
      "outputs": [
        {
          "output_type": "execute_result",
          "data": {
            "text/plain": [
              "(array([ 47.,  41., 146., 272.,  95.,  55.,  32.,  16.,   6.,   1.]),\n",
              " array([ 0.42 ,  8.378, 16.336, 24.294, 32.252, 40.21 , 48.168, 56.126,\n",
              "        64.084, 72.042, 80.   ]),\n",
              " <a list of 10 Patch objects>)"
            ]
          },
          "metadata": {
            "tags": []
          },
          "execution_count": 78
        },
        {
          "output_type": "display_data",
          "data": {
            "image/png": "[encoded data removed]",
            "text/plain": [
              "<Figure size 432x288 with 1 Axes>"
            ]
          },
          "metadata": {
            "tags": [],
            "needs_background": "light"
          }
        }
      ]
    },
    {
      "cell_type": "code",
      "metadata": {
        "colab": {
          "base_uri": "https://localhost:8080/",
          "height": 334
        },
        "id": "udVpRQh0o1AB",
        "outputId": "7c66ebda-f7a1-4b2c-ae93-0442f0839180"
      },
      "source": [
        "plt.hist(data_train.loc[:, 'Fare'])"
      ],
      "execution_count": 79,
      "outputs": [
        {
          "output_type": "execute_result",
          "data": {
            "text/plain": [
              "(array([585.,  86.,  23.,   2.,   8.,   4.,   0.,   0.,   0.,   3.]),\n",
              " array([  0.     ,  51.23292, 102.46584, 153.69876, 204.93168, 256.1646 ,\n",
              "        307.39752, 358.63044, 409.86336, 461.09628, 512.3292 ]),\n",
              " <a list of 10 Patch objects>)"
            ]
          },
          "metadata": {
            "tags": []
          },
          "execution_count": 79
        },
        {
          "output_type": "display_data",
          "data": {
            "image/png": "[encoded data removed]",
            "text/plain": [
              "<Figure size 432x288 with 1 Axes>"
            ]
          },
          "metadata": {
            "tags": [],
            "needs_background": "light"
          }
        }
      ]
    },
    {
      "cell_type": "code",
      "metadata": {
        "id": "MgT2XRADo5G0"
      },
      "source": [
        "# Ninguno de los datos sigue una distribución normal: usaremos la normalización MinMax\n",
        "\n",
        "min_max_scaler = preprocessing.MinMaxScaler()\n",
        "min_max_scaler.fit(data_train.loc[:, ['Fare', 'Age']])\n",
        "\n",
        "data_train.loc[:, ['Fare', 'Age']] = min_max_scaler.transform(data_train.loc[:, ['Fare', 'Age']])\n",
        "data_test.loc[:, ['Fare', 'Age']] = min_max_scaler.transform(data_test.loc[:, ['Fare', 'Age']])"
      ],
      "execution_count": 80,
      "outputs": []
    },
    {
      "cell_type": "code",
      "metadata": {
        "colab": {
          "base_uri": "https://localhost:8080/",
          "height": 233
        },
        "id": "rEjgocUfL4bW",
        "outputId": "6357f7f2-fa04-4398-b7f8-e4c21b17b6ff"
      },
      "source": [
        "#CORRELACIÓN ENTRE LOS DATOS\n",
        "\n",
        "corr = data_train.corr()\n",
        "corr.style.background_gradient(cmap='coolwarm')"
      ],
      "execution_count": 178,
      "outputs": [
        {
          "output_type": "execute_result",
          "data": {
            "text/html": [
              "<style  type=\"text/css\" >\n",
              "#T_022bbbae_2b69_11eb_b1e3_0242ac1c0002row0_col0,#T_022bbbae_2b69_11eb_b1e3_0242ac1c0002row1_col1,#T_022bbbae_2b69_11eb_b1e3_0242ac1c0002row2_col2,#T_022bbbae_2b69_11eb_b1e3_0242ac1c0002row3_col3,#T_022bbbae_2b69_11eb_b1e3_0242ac1c0002row4_col4,#T_022bbbae_2b69_11eb_b1e3_0242ac1c0002row5_col5,#T_022bbbae_2b69_11eb_b1e3_0242ac1c0002row6_col6,#T_022bbbae_2b69_11eb_b1e3_0242ac1c0002row7_col7,#T_022bbbae_2b69_11eb_b1e3_0242ac1c0002row8_col8{\n",
              "            background-color:  #b40426;\n",
              "            color:  #f1f1f1;\n",
              "        }#T_022bbbae_2b69_11eb_b1e3_0242ac1c0002row0_col1,#T_022bbbae_2b69_11eb_b1e3_0242ac1c0002row4_col8,#T_022bbbae_2b69_11eb_b1e3_0242ac1c0002row5_col0,#T_022bbbae_2b69_11eb_b1e3_0242ac1c0002row5_col3,#T_022bbbae_2b69_11eb_b1e3_0242ac1c0002row5_col6,#T_022bbbae_2b69_11eb_b1e3_0242ac1c0002row5_col7,#T_022bbbae_2b69_11eb_b1e3_0242ac1c0002row7_col5,#T_022bbbae_2b69_11eb_b1e3_0242ac1c0002row8_col2,#T_022bbbae_2b69_11eb_b1e3_0242ac1c0002row8_col4{\n",
              "            background-color:  #3b4cc0;\n",
              "            color:  #f1f1f1;\n",
              "        }#T_022bbbae_2b69_11eb_b1e3_0242ac1c0002row0_col2{\n",
              "            background-color:  #4f69d9;\n",
              "            color:  #000000;\n",
              "        }#T_022bbbae_2b69_11eb_b1e3_0242ac1c0002row0_col3{\n",
              "            background-color:  #b5cdfa;\n",
              "            color:  #000000;\n",
              "        }#T_022bbbae_2b69_11eb_b1e3_0242ac1c0002row0_col4,#T_022bbbae_2b69_11eb_b1e3_0242ac1c0002row8_col0{\n",
              "            background-color:  #a1c0ff;\n",
              "            color:  #000000;\n",
              "        }#T_022bbbae_2b69_11eb_b1e3_0242ac1c0002row0_col5,#T_022bbbae_2b69_11eb_b1e3_0242ac1c0002row4_col0,#T_022bbbae_2b69_11eb_b1e3_0242ac1c0002row7_col6{\n",
              "            background-color:  #7699f6;\n",
              "            color:  #000000;\n",
              "        }#T_022bbbae_2b69_11eb_b1e3_0242ac1c0002row0_col6,#T_022bbbae_2b69_11eb_b1e3_0242ac1c0002row1_col3{\n",
              "            background-color:  #bbd1f8;\n",
              "            color:  #000000;\n",
              "        }#T_022bbbae_2b69_11eb_b1e3_0242ac1c0002row0_col7{\n",
              "            background-color:  #f0cdbb;\n",
              "            color:  #000000;\n",
              "        }#T_022bbbae_2b69_11eb_b1e3_0242ac1c0002row0_col8{\n",
              "            background-color:  #c3d5f4;\n",
              "            color:  #000000;\n",
              "        }#T_022bbbae_2b69_11eb_b1e3_0242ac1c0002row1_col0{\n",
              "            background-color:  #4e68d8;\n",
              "            color:  #000000;\n",
              "        }#T_022bbbae_2b69_11eb_b1e3_0242ac1c0002row1_col2{\n",
              "            background-color:  #e2dad5;\n",
              "            color:  #000000;\n",
              "        }#T_022bbbae_2b69_11eb_b1e3_0242ac1c0002row1_col4,#T_022bbbae_2b69_11eb_b1e3_0242ac1c0002row3_col0,#T_022bbbae_2b69_11eb_b1e3_0242ac1c0002row8_col6,#T_022bbbae_2b69_11eb_b1e3_0242ac1c0002row8_col7{\n",
              "            background-color:  #a7c5fe;\n",
              "            color:  #000000;\n",
              "        }#T_022bbbae_2b69_11eb_b1e3_0242ac1c0002row1_col5{\n",
              "            background-color:  #cedaeb;\n",
              "            color:  #000000;\n",
              "        }#T_022bbbae_2b69_11eb_b1e3_0242ac1c0002row1_col6{\n",
              "            background-color:  #a6c4fe;\n",
              "            color:  #000000;\n",
              "        }#T_022bbbae_2b69_11eb_b1e3_0242ac1c0002row1_col7{\n",
              "            background-color:  #adc9fd;\n",
              "            color:  #000000;\n",
              "        }#T_022bbbae_2b69_11eb_b1e3_0242ac1c0002row1_col8{\n",
              "            background-color:  #93b5fe;\n",
              "            color:  #000000;\n",
              "        }#T_022bbbae_2b69_11eb_b1e3_0242ac1c0002row2_col0{\n",
              "            background-color:  #5e7de7;\n",
              "            color:  #000000;\n",
              "        }#T_022bbbae_2b69_11eb_b1e3_0242ac1c0002row2_col1{\n",
              "            background-color:  #e1dad6;\n",
              "            color:  #000000;\n",
              "        }#T_022bbbae_2b69_11eb_b1e3_0242ac1c0002row2_col3{\n",
              "            background-color:  #c7d7f0;\n",
              "            color:  #000000;\n",
              "        }#T_022bbbae_2b69_11eb_b1e3_0242ac1c0002row2_col4,#T_022bbbae_2b69_11eb_b1e3_0242ac1c0002row6_col4{\n",
              "            background-color:  #c1d4f4;\n",
              "            color:  #000000;\n",
              "        }#T_022bbbae_2b69_11eb_b1e3_0242ac1c0002row2_col5{\n",
              "            background-color:  #c0d4f5;\n",
              "            color:  #000000;\n",
              "        }#T_022bbbae_2b69_11eb_b1e3_0242ac1c0002row2_col6{\n",
              "            background-color:  #b2ccfb;\n",
              "            color:  #000000;\n",
              "        }#T_022bbbae_2b69_11eb_b1e3_0242ac1c0002row2_col7{\n",
              "            background-color:  #b3cdfb;\n",
              "            color:  #000000;\n",
              "        }#T_022bbbae_2b69_11eb_b1e3_0242ac1c0002row2_col8{\n",
              "            background-color:  #799cf8;\n",
              "            color:  #000000;\n",
              "        }#T_022bbbae_2b69_11eb_b1e3_0242ac1c0002row3_col1{\n",
              "            background-color:  #9ebeff;\n",
              "            color:  #000000;\n",
              "        }#T_022bbbae_2b69_11eb_b1e3_0242ac1c0002row3_col2{\n",
              "            background-color:  #b1cbfc;\n",
              "            color:  #000000;\n",
              "        }#T_022bbbae_2b69_11eb_b1e3_0242ac1c0002row3_col4{\n",
              "            background-color:  #dedcdb;\n",
              "            color:  #000000;\n",
              "        }#T_022bbbae_2b69_11eb_b1e3_0242ac1c0002row3_col5{\n",
              "            background-color:  #6384eb;\n",
              "            color:  #000000;\n",
              "        }#T_022bbbae_2b69_11eb_b1e3_0242ac1c0002row3_col6,#T_022bbbae_2b69_11eb_b1e3_0242ac1c0002row7_col8{\n",
              "            background-color:  #9bbcff;\n",
              "            color:  #000000;\n",
              "        }#T_022bbbae_2b69_11eb_b1e3_0242ac1c0002row3_col7{\n",
              "            background-color:  #f59c7d;\n",
              "            color:  #000000;\n",
              "        }#T_022bbbae_2b69_11eb_b1e3_0242ac1c0002row3_col8{\n",
              "            background-color:  #8caffe;\n",
              "            color:  #000000;\n",
              "        }#T_022bbbae_2b69_11eb_b1e3_0242ac1c0002row4_col1{\n",
              "            background-color:  #6b8df0;\n",
              "            color:  #000000;\n",
              "        }#T_022bbbae_2b69_11eb_b1e3_0242ac1c0002row4_col2,#T_022bbbae_2b69_11eb_b1e3_0242ac1c0002row6_col0{\n",
              "            background-color:  #90b2fe;\n",
              "            color:  #000000;\n",
              "        }#T_022bbbae_2b69_11eb_b1e3_0242ac1c0002row4_col3{\n",
              "            background-color:  #d1dae9;\n",
              "            color:  #000000;\n",
              "        }#T_022bbbae_2b69_11eb_b1e3_0242ac1c0002row4_col5,#T_022bbbae_2b69_11eb_b1e3_0242ac1c0002row6_col2{\n",
              "            background-color:  #7597f6;\n",
              "            color:  #000000;\n",
              "        }#T_022bbbae_2b69_11eb_b1e3_0242ac1c0002row4_col6{\n",
              "            background-color:  #c6d6f1;\n",
              "            color:  #000000;\n",
              "        }#T_022bbbae_2b69_11eb_b1e3_0242ac1c0002row4_col7{\n",
              "            background-color:  #ead4c8;\n",
              "            color:  #000000;\n",
              "        }#T_022bbbae_2b69_11eb_b1e3_0242ac1c0002row5_col1{\n",
              "            background-color:  #94b6ff;\n",
              "            color:  #000000;\n",
              "        }#T_022bbbae_2b69_11eb_b1e3_0242ac1c0002row5_col2{\n",
              "            background-color:  #82a6fb;\n",
              "            color:  #000000;\n",
              "        }#T_022bbbae_2b69_11eb_b1e3_0242ac1c0002row5_col4{\n",
              "            background-color:  #6788ee;\n",
              "            color:  #000000;\n",
              "        }#T_022bbbae_2b69_11eb_b1e3_0242ac1c0002row5_col8{\n",
              "            background-color:  #cad8ef;\n",
              "            color:  #000000;\n",
              "        }#T_022bbbae_2b69_11eb_b1e3_0242ac1c0002row6_col1{\n",
              "            background-color:  #6282ea;\n",
              "            color:  #000000;\n",
              "        }#T_022bbbae_2b69_11eb_b1e3_0242ac1c0002row6_col3,#T_022bbbae_2b69_11eb_b1e3_0242ac1c0002row6_col7{\n",
              "            background-color:  #7a9df8;\n",
              "            color:  #000000;\n",
              "        }#T_022bbbae_2b69_11eb_b1e3_0242ac1c0002row6_col5{\n",
              "            background-color:  #3f53c6;\n",
              "            color:  #f1f1f1;\n",
              "        }#T_022bbbae_2b69_11eb_b1e3_0242ac1c0002row6_col8{\n",
              "            background-color:  #9fbfff;\n",
              "            color:  #000000;\n",
              "        }#T_022bbbae_2b69_11eb_b1e3_0242ac1c0002row7_col0{\n",
              "            background-color:  #dbdcde;\n",
              "            color:  #000000;\n",
              "        }#T_022bbbae_2b69_11eb_b1e3_0242ac1c0002row7_col1{\n",
              "            background-color:  #6687ed;\n",
              "            color:  #000000;\n",
              "        }#T_022bbbae_2b69_11eb_b1e3_0242ac1c0002row7_col2,#T_022bbbae_2b69_11eb_b1e3_0242ac1c0002row8_col3{\n",
              "            background-color:  #7295f4;\n",
              "            color:  #000000;\n",
              "        }#T_022bbbae_2b69_11eb_b1e3_0242ac1c0002row7_col3{\n",
              "            background-color:  #f7aa8c;\n",
              "            color:  #000000;\n",
              "        }#T_022bbbae_2b69_11eb_b1e3_0242ac1c0002row7_col4{\n",
              "            background-color:  #e6d7cf;\n",
              "            color:  #000000;\n",
              "        }#T_022bbbae_2b69_11eb_b1e3_0242ac1c0002row8_col1{\n",
              "            background-color:  #5470de;\n",
              "            color:  #000000;\n",
              "        }#T_022bbbae_2b69_11eb_b1e3_0242ac1c0002row8_col5{\n",
              "            background-color:  #d2dbe8;\n",
              "            color:  #000000;\n",
              "        }</style><table id=\"T_022bbbae_2b69_11eb_b1e3_0242ac1c0002\" ><thead>    <tr>        <th class=\"blank level0\" ></th>        <th class=\"col_heading level0 col0\" >Age</th>        <th class=\"col_heading level0 col1\" >SibSp</th>        <th class=\"col_heading level0 col2\" >Parch</th>        <th class=\"col_heading level0 col3\" >Fare</th>        <th class=\"col_heading level0 col4\" >Survived</th>        <th class=\"col_heading level0 col5\" >Pclass_Lower</th>        <th class=\"col_heading level0 col6\" >Pclass_Middle</th>        <th class=\"col_heading level0 col7\" >Pclass_Upper</th>        <th class=\"col_heading level0 col8\" >Sex</th>    </tr></thead><tbody>\n",
              "                <tr>\n",
              "                        <th id=\"T_022bbbae_2b69_11eb_b1e3_0242ac1c0002level0_row0\" class=\"row_heading level0 row0\" >Age</th>\n",
              "                        <td id=\"T_022bbbae_2b69_11eb_b1e3_0242ac1c0002row0_col0\" class=\"data row0 col0\" >1.000000</td>\n",
              "                        <td id=\"T_022bbbae_2b69_11eb_b1e3_0242ac1c0002row0_col1\" class=\"data row0 col1\" >-0.226584</td>\n",
              "                        <td id=\"T_022bbbae_2b69_11eb_b1e3_0242ac1c0002row0_col2\" class=\"data row0 col2\" >-0.157138</td>\n",
              "                        <td id=\"T_022bbbae_2b69_11eb_b1e3_0242ac1c0002row0_col3\" class=\"data row0 col3\" >0.115619</td>\n",
              "                        <td id=\"T_022bbbae_2b69_11eb_b1e3_0242ac1c0002row0_col4\" class=\"data row0 col4\" >-0.065670</td>\n",
              "                        <td id=\"T_022bbbae_2b69_11eb_b1e3_0242ac1c0002row0_col5\" class=\"data row0 col5\" >-0.309188</td>\n",
              "                        <td id=\"T_022bbbae_2b69_11eb_b1e3_0242ac1c0002row0_col6\" class=\"data row0 col6\" >0.028613</td>\n",
              "                        <td id=\"T_022bbbae_2b69_11eb_b1e3_0242ac1c0002row0_col7\" class=\"data row0 col7\" >0.335747</td>\n",
              "                        <td id=\"T_022bbbae_2b69_11eb_b1e3_0242ac1c0002row0_col8\" class=\"data row0 col8\" >0.090612</td>\n",
              "            </tr>\n",
              "            <tr>\n",
              "                        <th id=\"T_022bbbae_2b69_11eb_b1e3_0242ac1c0002level0_row1\" class=\"row_heading level0 row1\" >SibSp</th>\n",
              "                        <td id=\"T_022bbbae_2b69_11eb_b1e3_0242ac1c0002row1_col0\" class=\"data row1 col0\" >-0.226584</td>\n",
              "                        <td id=\"T_022bbbae_2b69_11eb_b1e3_0242ac1c0002row1_col1\" class=\"data row1 col1\" >1.000000</td>\n",
              "                        <td id=\"T_022bbbae_2b69_11eb_b1e3_0242ac1c0002row1_col2\" class=\"data row1 col2\" >0.406658</td>\n",
              "                        <td id=\"T_022bbbae_2b69_11eb_b1e3_0242ac1c0002row1_col3\" class=\"data row1 col3\" >0.139916</td>\n",
              "                        <td id=\"T_022bbbae_2b69_11eb_b1e3_0242ac1c0002row1_col4\" class=\"data row1 col4\" >-0.036973</td>\n",
              "                        <td id=\"T_022bbbae_2b69_11eb_b1e3_0242ac1c0002row1_col5\" class=\"data row1 col5\" >0.108672</td>\n",
              "                        <td id=\"T_022bbbae_2b69_11eb_b1e3_0242ac1c0002row1_col6\" class=\"data row1 col6\" >-0.072513</td>\n",
              "                        <td id=\"T_022bbbae_2b69_11eb_b1e3_0242ac1c0002row1_col7\" class=\"data row1 col7\" >-0.057192</td>\n",
              "                        <td id=\"T_022bbbae_2b69_11eb_b1e3_0242ac1c0002row1_col8\" class=\"data row1 col8\" >-0.124648</td>\n",
              "            </tr>\n",
              "            <tr>\n",
              "                        <th id=\"T_022bbbae_2b69_11eb_b1e3_0242ac1c0002level0_row2\" class=\"row_heading level0 row2\" >Parch</th>\n",
              "                        <td id=\"T_022bbbae_2b69_11eb_b1e3_0242ac1c0002row2_col0\" class=\"data row2 col0\" >-0.157138</td>\n",
              "                        <td id=\"T_022bbbae_2b69_11eb_b1e3_0242ac1c0002row2_col1\" class=\"data row2 col1\" >0.406658</td>\n",
              "                        <td id=\"T_022bbbae_2b69_11eb_b1e3_0242ac1c0002row2_col2\" class=\"data row2 col2\" >1.000000</td>\n",
              "                        <td id=\"T_022bbbae_2b69_11eb_b1e3_0242ac1c0002row2_col3\" class=\"data row2 col3\" >0.197215</td>\n",
              "                        <td id=\"T_022bbbae_2b69_11eb_b1e3_0242ac1c0002row2_col4\" class=\"data row2 col4\" >0.082697</td>\n",
              "                        <td id=\"T_022bbbae_2b69_11eb_b1e3_0242ac1c0002row2_col5\" class=\"data row2 col5\" >0.034485</td>\n",
              "                        <td id=\"T_022bbbae_2b69_11eb_b1e3_0242ac1c0002row2_col6\" class=\"data row2 col6\" >-0.015159</td>\n",
              "                        <td id=\"T_022bbbae_2b69_11eb_b1e3_0242ac1c0002row2_col7\" class=\"data row2 col7\" >-0.025793</td>\n",
              "                        <td id=\"T_022bbbae_2b69_11eb_b1e3_0242ac1c0002row2_col8\" class=\"data row2 col8\" >-0.239960</td>\n",
              "            </tr>\n",
              "            <tr>\n",
              "                        <th id=\"T_022bbbae_2b69_11eb_b1e3_0242ac1c0002level0_row3\" class=\"row_heading level0 row3\" >Fare</th>\n",
              "                        <td id=\"T_022bbbae_2b69_11eb_b1e3_0242ac1c0002row3_col0\" class=\"data row3 col0\" >0.115619</td>\n",
              "                        <td id=\"T_022bbbae_2b69_11eb_b1e3_0242ac1c0002row3_col1\" class=\"data row3 col1\" >0.139916</td>\n",
              "                        <td id=\"T_022bbbae_2b69_11eb_b1e3_0242ac1c0002row3_col2\" class=\"data row3 col2\" >0.197215</td>\n",
              "                        <td id=\"T_022bbbae_2b69_11eb_b1e3_0242ac1c0002row3_col3\" class=\"data row3 col3\" >1.000000</td>\n",
              "                        <td id=\"T_022bbbae_2b69_11eb_b1e3_0242ac1c0002row3_col4\" class=\"data row3 col4\" >0.240046</td>\n",
              "                        <td id=\"T_022bbbae_2b69_11eb_b1e3_0242ac1c0002row3_col5\" class=\"data row3 col5\" >-0.397037</td>\n",
              "                        <td id=\"T_022bbbae_2b69_11eb_b1e3_0242ac1c0002row3_col6\" class=\"data row3 col6\" >-0.123214</td>\n",
              "                        <td id=\"T_022bbbae_2b69_11eb_b1e3_0242ac1c0002row3_col7\" class=\"data row3 col7\" >0.586896</td>\n",
              "                        <td id=\"T_022bbbae_2b69_11eb_b1e3_0242ac1c0002row3_col8\" class=\"data row3 col8\" >-0.153459</td>\n",
              "            </tr>\n",
              "            <tr>\n",
              "                        <th id=\"T_022bbbae_2b69_11eb_b1e3_0242ac1c0002level0_row4\" class=\"row_heading level0 row4\" >Survived</th>\n",
              "                        <td id=\"T_022bbbae_2b69_11eb_b1e3_0242ac1c0002row4_col0\" class=\"data row4 col0\" >-0.065670</td>\n",
              "                        <td id=\"T_022bbbae_2b69_11eb_b1e3_0242ac1c0002row4_col1\" class=\"data row4 col1\" >-0.036973</td>\n",
              "                        <td id=\"T_022bbbae_2b69_11eb_b1e3_0242ac1c0002row4_col2\" class=\"data row4 col2\" >0.082697</td>\n",
              "                        <td id=\"T_022bbbae_2b69_11eb_b1e3_0242ac1c0002row4_col3\" class=\"data row4 col3\" >0.240046</td>\n",
              "                        <td id=\"T_022bbbae_2b69_11eb_b1e3_0242ac1c0002row4_col4\" class=\"data row4 col4\" >1.000000</td>\n",
              "                        <td id=\"T_022bbbae_2b69_11eb_b1e3_0242ac1c0002row4_col5\" class=\"data row4 col5\" >-0.314653</td>\n",
              "                        <td id=\"T_022bbbae_2b69_11eb_b1e3_0242ac1c0002row4_col6\" class=\"data row4 col6\" >0.083327</td>\n",
              "                        <td id=\"T_022bbbae_2b69_11eb_b1e3_0242ac1c0002row4_col7\" class=\"data row4 col7\" >0.288898</td>\n",
              "                        <td id=\"T_022bbbae_2b69_11eb_b1e3_0242ac1c0002row4_col8\" class=\"data row4 col8\" >-0.535448</td>\n",
              "            </tr>\n",
              "            <tr>\n",
              "                        <th id=\"T_022bbbae_2b69_11eb_b1e3_0242ac1c0002level0_row5\" class=\"row_heading level0 row5\" >Pclass_Lower</th>\n",
              "                        <td id=\"T_022bbbae_2b69_11eb_b1e3_0242ac1c0002row5_col0\" class=\"data row5 col0\" >-0.309188</td>\n",
              "                        <td id=\"T_022bbbae_2b69_11eb_b1e3_0242ac1c0002row5_col1\" class=\"data row5 col1\" >0.108672</td>\n",
              "                        <td id=\"T_022bbbae_2b69_11eb_b1e3_0242ac1c0002row5_col2\" class=\"data row5 col2\" >0.034485</td>\n",
              "                        <td id=\"T_022bbbae_2b69_11eb_b1e3_0242ac1c0002row5_col3\" class=\"data row5 col3\" >-0.397037</td>\n",
              "                        <td id=\"T_022bbbae_2b69_11eb_b1e3_0242ac1c0002row5_col4\" class=\"data row5 col4\" >-0.314653</td>\n",
              "                        <td id=\"T_022bbbae_2b69_11eb_b1e3_0242ac1c0002row5_col5\" class=\"data row5 col5\" >1.000000</td>\n",
              "                        <td id=\"T_022bbbae_2b69_11eb_b1e3_0242ac1c0002row5_col6\" class=\"data row5 col6\" >-0.581227</td>\n",
              "                        <td id=\"T_022bbbae_2b69_11eb_b1e3_0242ac1c0002row5_col7\" class=\"data row5 col7\" >-0.610055</td>\n",
              "                        <td id=\"T_022bbbae_2b69_11eb_b1e3_0242ac1c0002row5_col8\" class=\"data row5 col8\" >0.129630</td>\n",
              "            </tr>\n",
              "            <tr>\n",
              "                        <th id=\"T_022bbbae_2b69_11eb_b1e3_0242ac1c0002level0_row6\" class=\"row_heading level0 row6\" >Pclass_Middle</th>\n",
              "                        <td id=\"T_022bbbae_2b69_11eb_b1e3_0242ac1c0002row6_col0\" class=\"data row6 col0\" >0.028613</td>\n",
              "                        <td id=\"T_022bbbae_2b69_11eb_b1e3_0242ac1c0002row6_col1\" class=\"data row6 col1\" >-0.072513</td>\n",
              "                        <td id=\"T_022bbbae_2b69_11eb_b1e3_0242ac1c0002row6_col2\" class=\"data row6 col2\" >-0.015159</td>\n",
              "                        <td id=\"T_022bbbae_2b69_11eb_b1e3_0242ac1c0002row6_col3\" class=\"data row6 col3\" >-0.123214</td>\n",
              "                        <td id=\"T_022bbbae_2b69_11eb_b1e3_0242ac1c0002row6_col4\" class=\"data row6 col4\" >0.083327</td>\n",
              "                        <td id=\"T_022bbbae_2b69_11eb_b1e3_0242ac1c0002row6_col5\" class=\"data row6 col5\" >-0.581227</td>\n",
              "                        <td id=\"T_022bbbae_2b69_11eb_b1e3_0242ac1c0002row6_col6\" class=\"data row6 col6\" >1.000000</td>\n",
              "                        <td id=\"T_022bbbae_2b69_11eb_b1e3_0242ac1c0002row6_col7\" class=\"data row6 col7\" >-0.290194</td>\n",
              "                        <td id=\"T_022bbbae_2b69_11eb_b1e3_0242ac1c0002row6_col8\" class=\"data row6 col8\" >-0.068129</td>\n",
              "            </tr>\n",
              "            <tr>\n",
              "                        <th id=\"T_022bbbae_2b69_11eb_b1e3_0242ac1c0002level0_row7\" class=\"row_heading level0 row7\" >Pclass_Upper</th>\n",
              "                        <td id=\"T_022bbbae_2b69_11eb_b1e3_0242ac1c0002row7_col0\" class=\"data row7 col0\" >0.335747</td>\n",
              "                        <td id=\"T_022bbbae_2b69_11eb_b1e3_0242ac1c0002row7_col1\" class=\"data row7 col1\" >-0.057192</td>\n",
              "                        <td id=\"T_022bbbae_2b69_11eb_b1e3_0242ac1c0002row7_col2\" class=\"data row7 col2\" >-0.025793</td>\n",
              "                        <td id=\"T_022bbbae_2b69_11eb_b1e3_0242ac1c0002row7_col3\" class=\"data row7 col3\" >0.586896</td>\n",
              "                        <td id=\"T_022bbbae_2b69_11eb_b1e3_0242ac1c0002row7_col4\" class=\"data row7 col4\" >0.288898</td>\n",
              "                        <td id=\"T_022bbbae_2b69_11eb_b1e3_0242ac1c0002row7_col5\" class=\"data row7 col5\" >-0.610055</td>\n",
              "                        <td id=\"T_022bbbae_2b69_11eb_b1e3_0242ac1c0002row7_col6\" class=\"data row7 col6\" >-0.290194</td>\n",
              "                        <td id=\"T_022bbbae_2b69_11eb_b1e3_0242ac1c0002row7_col7\" class=\"data row7 col7\" >1.000000</td>\n",
              "                        <td id=\"T_022bbbae_2b69_11eb_b1e3_0242ac1c0002row7_col8\" class=\"data row7 col8\" >-0.086107</td>\n",
              "            </tr>\n",
              "            <tr>\n",
              "                        <th id=\"T_022bbbae_2b69_11eb_b1e3_0242ac1c0002level0_row8\" class=\"row_heading level0 row8\" >Sex</th>\n",
              "                        <td id=\"T_022bbbae_2b69_11eb_b1e3_0242ac1c0002row8_col0\" class=\"data row8 col0\" >0.090612</td>\n",
              "                        <td id=\"T_022bbbae_2b69_11eb_b1e3_0242ac1c0002row8_col1\" class=\"data row8 col1\" >-0.124648</td>\n",
              "                        <td id=\"T_022bbbae_2b69_11eb_b1e3_0242ac1c0002row8_col2\" class=\"data row8 col2\" >-0.239960</td>\n",
              "                        <td id=\"T_022bbbae_2b69_11eb_b1e3_0242ac1c0002row8_col3\" class=\"data row8 col3\" >-0.153459</td>\n",
              "                        <td id=\"T_022bbbae_2b69_11eb_b1e3_0242ac1c0002row8_col4\" class=\"data row8 col4\" >-0.535448</td>\n",
              "                        <td id=\"T_022bbbae_2b69_11eb_b1e3_0242ac1c0002row8_col5\" class=\"data row8 col5\" >0.129630</td>\n",
              "                        <td id=\"T_022bbbae_2b69_11eb_b1e3_0242ac1c0002row8_col6\" class=\"data row8 col6\" >-0.068129</td>\n",
              "                        <td id=\"T_022bbbae_2b69_11eb_b1e3_0242ac1c0002row8_col7\" class=\"data row8 col7\" >-0.086107</td>\n",
              "                        <td id=\"T_022bbbae_2b69_11eb_b1e3_0242ac1c0002row8_col8\" class=\"data row8 col8\" >1.000000</td>\n",
              "            </tr>\n",
              "    </tbody></table>"
            ],
            "text/plain": [
              "<pandas.io.formats.style.Styler at 0x7fbcb5daae10>"
            ]
          },
          "metadata": {
            "tags": []
          },
          "execution_count": 178
        }
      ]
    },
    {
      "cell_type": "code",
      "metadata": {
        "id": "Q8mO_Ta0hsia"
      },
      "source": [
        "# -------------------\n",
        "# SEPARACIÓN EN X E Y\n",
        "# -------------------\n",
        "\n",
        "#Separamos los datos en X e Y\n",
        "\n",
        "X_train = data_train.drop(['Survived'], axis=1)\n",
        "y_train = data_train.loc[:, 'Survived']\n",
        "\n",
        "X_test = data_test.drop(['Survived'], axis=1)\n",
        "y_test = data_test.loc[:, 'Survived']"
      ],
      "execution_count": 81,
      "outputs": []
    },
    {
      "cell_type": "code",
      "metadata": {
        "id": "VK6krnrbzFQu"
      },
      "source": [
        "# ------------------------------------\n",
        "# SEPARACIÓN DEL TRAIN EN TRAIN Y TEST\n",
        "# ------------------------------------\n",
        "\n",
        "X_train, X_val, y_train, y_val = train_test_split(X_train, y_train, test_size= 0.25, shuffle=True)"
      ],
      "execution_count": 82,
      "outputs": []
    },
    {
      "cell_type": "markdown",
      "metadata": {
        "id": "DideE7rSr0lq"
      },
      "source": [
        "#Red neuronal"
      ]
    },
    {
      "cell_type": "code",
      "metadata": {
        "colab": {
          "base_uri": "https://localhost:8080/"
        },
        "id": "2XvIHQ6Ur3kw",
        "outputId": "d99d92da-0e1e-4c10-e202-55339ee26766"
      },
      "source": [
        "# Algunos hiper-parámetros\n",
        "lr = .01\n",
        "batch_size = 50\n",
        "n_epochs = 50\n",
        "optimizer = tf.keras.optimizers.Adam(learning_rate=lr)\n",
        "\n",
        "# Crear modelo\n",
        "model = tf.keras.models.Sequential()\n",
        "model.add(Dense(2, activation='relu', input_shape=(X_train.shape[1],)))\n",
        "#model.add(Dense(2, activation='relu'))\n",
        "model.add(Dense(1, activation='sigmoid'))\n",
        "\n",
        "\n",
        "# Visualizar arquitectura y dimensiones\n",
        "model.summary()\n",
        "\n",
        "# Compilamos el modelo: ¿Qué función de coste hay que utilizar?\n",
        "model.compile(loss='binary_crossentropy',\n",
        "              optimizer=optimizer,\n",
        "              metrics=['accuracy', 'AUC'])"
      ],
      "execution_count": 168,
      "outputs": [
        {
          "output_type": "stream",
          "text": [
            "Model: \"sequential_12\"\n",
            "_________________________________________________________________\n",
            "Layer (type)                 Output Shape              Param #   \n",
            "=================================================================\n",
            "dense_28 (Dense)             (None, 2)                 18        \n",
            "_________________________________________________________________\n",
            "dense_29 (Dense)             (None, 1)                 3         \n",
            "=================================================================\n",
            "Total params: 21\n",
            "Trainable params: 21\n",
            "Non-trainable params: 0\n",
            "_________________________________________________________________\n"
          ],
          "name": "stdout"
        }
      ]
    },
    {
      "cell_type": "code",
      "metadata": {
        "colab": {
          "base_uri": "https://localhost:8080/"
        },
        "id": "RnJmqi3GyHK-",
        "outputId": "77221efc-a1d2-4a91-8c62-7a94a3df49e4"
      },
      "source": [
        "# Fitteamos el modelo\n",
        "\n",
        "history = model.fit(X_train, y_train, batch_size=batch_size, epochs=n_epochs, shuffle=True, validation_data=(X_val, y_val))"
      ],
      "execution_count": 169,
      "outputs": [
        {
          "output_type": "stream",
          "text": [
            "Epoch 1/50\n",
            "11/11 [==============================] - 0s 25ms/step - loss: 0.9958 - accuracy: 0.3527 - auc: 0.3516 - val_loss: 0.8262 - val_accuracy: 0.3820 - val_auc: 0.3244\n",
            "Epoch 2/50\n",
            "11/11 [==============================] - 0s 5ms/step - loss: 0.7737 - accuracy: 0.4334 - auc: 0.3793 - val_loss: 0.7110 - val_accuracy: 0.6067 - val_auc: 0.3654\n",
            "Epoch 3/50\n",
            "11/11 [==============================] - 0s 3ms/step - loss: 0.6981 - accuracy: 0.5797 - auc: 0.4916 - val_loss: 0.6768 - val_accuracy: 0.6067 - val_auc: 0.4732\n",
            "Epoch 4/50\n",
            "11/11 [==============================] - 0s 3ms/step - loss: 0.6752 - accuracy: 0.5797 - auc: 0.5664 - val_loss: 0.6534 - val_accuracy: 0.6124 - val_auc: 0.5177\n",
            "Epoch 5/50\n",
            "11/11 [==============================] - 0s 3ms/step - loss: 0.6525 - accuracy: 0.5966 - auc: 0.6127 - val_loss: 0.6357 - val_accuracy: 0.6517 - val_auc: 0.5721\n",
            "Epoch 6/50\n",
            "11/11 [==============================] - 0s 3ms/step - loss: 0.6377 - accuracy: 0.6698 - auc: 0.6411 - val_loss: 0.6267 - val_accuracy: 0.6854 - val_auc: 0.5908\n",
            "Epoch 7/50\n",
            "11/11 [==============================] - 0s 3ms/step - loss: 0.6281 - accuracy: 0.6792 - auc: 0.6648 - val_loss: 0.6203 - val_accuracy: 0.6854 - val_auc: 0.6399\n",
            "Epoch 8/50\n",
            "11/11 [==============================] - 0s 3ms/step - loss: 0.6204 - accuracy: 0.6792 - auc: 0.6851 - val_loss: 0.6148 - val_accuracy: 0.6854 - val_auc: 0.6551\n",
            "Epoch 9/50\n",
            "11/11 [==============================] - 0s 3ms/step - loss: 0.6121 - accuracy: 0.6792 - auc: 0.7046 - val_loss: 0.6077 - val_accuracy: 0.6854 - val_auc: 0.6769\n",
            "Epoch 10/50\n",
            "11/11 [==============================] - 0s 3ms/step - loss: 0.6041 - accuracy: 0.6792 - auc: 0.7189 - val_loss: 0.6006 - val_accuracy: 0.6854 - val_auc: 0.6852\n",
            "Epoch 11/50\n",
            "11/11 [==============================] - 0s 3ms/step - loss: 0.5969 - accuracy: 0.6792 - auc: 0.7289 - val_loss: 0.5936 - val_accuracy: 0.6854 - val_auc: 0.7020\n",
            "Epoch 12/50\n",
            "11/11 [==============================] - 0s 4ms/step - loss: 0.5893 - accuracy: 0.6792 - auc: 0.7418 - val_loss: 0.5850 - val_accuracy: 0.6854 - val_auc: 0.7115\n",
            "Epoch 13/50\n",
            "11/11 [==============================] - 0s 3ms/step - loss: 0.5811 - accuracy: 0.6792 - auc: 0.7591 - val_loss: 0.5763 - val_accuracy: 0.6854 - val_auc: 0.7121\n",
            "Epoch 14/50\n",
            "11/11 [==============================] - 0s 3ms/step - loss: 0.5742 - accuracy: 0.6811 - auc: 0.7683 - val_loss: 0.5664 - val_accuracy: 0.7191 - val_auc: 0.7345\n",
            "Epoch 15/50\n",
            "11/11 [==============================] - 0s 3ms/step - loss: 0.5658 - accuracy: 0.7092 - auc: 0.7732 - val_loss: 0.5579 - val_accuracy: 0.7247 - val_auc: 0.7390\n",
            "Epoch 16/50\n",
            "11/11 [==============================] - 0s 3ms/step - loss: 0.5581 - accuracy: 0.7242 - auc: 0.7766 - val_loss: 0.5492 - val_accuracy: 0.7303 - val_auc: 0.7475\n",
            "Epoch 17/50\n",
            "11/11 [==============================] - 0s 3ms/step - loss: 0.5501 - accuracy: 0.7280 - auc: 0.7815 - val_loss: 0.5397 - val_accuracy: 0.7360 - val_auc: 0.7647\n",
            "Epoch 18/50\n",
            "11/11 [==============================] - 0s 3ms/step - loss: 0.5431 - accuracy: 0.7373 - auc: 0.7862 - val_loss: 0.5301 - val_accuracy: 0.7472 - val_auc: 0.7729\n",
            "Epoch 19/50\n",
            "11/11 [==============================] - 0s 3ms/step - loss: 0.5361 - accuracy: 0.7505 - auc: 0.7935 - val_loss: 0.5220 - val_accuracy: 0.7584 - val_auc: 0.7820\n",
            "Epoch 20/50\n",
            "11/11 [==============================] - 0s 3ms/step - loss: 0.5289 - accuracy: 0.7542 - auc: 0.8003 - val_loss: 0.5153 - val_accuracy: 0.7584 - val_auc: 0.7897\n",
            "Epoch 21/50\n",
            "11/11 [==============================] - 0s 3ms/step - loss: 0.5225 - accuracy: 0.7542 - auc: 0.8060 - val_loss: 0.5085 - val_accuracy: 0.7584 - val_auc: 0.7925\n",
            "Epoch 22/50\n",
            "11/11 [==============================] - 0s 3ms/step - loss: 0.5151 - accuracy: 0.7542 - auc: 0.8153 - val_loss: 0.4984 - val_accuracy: 0.7640 - val_auc: 0.8128\n",
            "Epoch 23/50\n",
            "11/11 [==============================] - 0s 4ms/step - loss: 0.5077 - accuracy: 0.7580 - auc: 0.8245 - val_loss: 0.4912 - val_accuracy: 0.7584 - val_auc: 0.8173\n",
            "Epoch 24/50\n",
            "11/11 [==============================] - 0s 3ms/step - loss: 0.5016 - accuracy: 0.7730 - auc: 0.8260 - val_loss: 0.4834 - val_accuracy: 0.7809 - val_auc: 0.8212\n",
            "Epoch 25/50\n",
            "11/11 [==============================] - 0s 3ms/step - loss: 0.4948 - accuracy: 0.7730 - auc: 0.8340 - val_loss: 0.4789 - val_accuracy: 0.7584 - val_auc: 0.8235\n",
            "Epoch 26/50\n",
            "11/11 [==============================] - 0s 3ms/step - loss: 0.4898 - accuracy: 0.7786 - auc: 0.8376 - val_loss: 0.4727 - val_accuracy: 0.7865 - val_auc: 0.8298\n",
            "Epoch 27/50\n",
            "11/11 [==============================] - 0s 3ms/step - loss: 0.4856 - accuracy: 0.7824 - auc: 0.8418 - val_loss: 0.4673 - val_accuracy: 0.7921 - val_auc: 0.8342\n",
            "Epoch 28/50\n",
            "11/11 [==============================] - 0s 3ms/step - loss: 0.4814 - accuracy: 0.7824 - auc: 0.8440 - val_loss: 0.4627 - val_accuracy: 0.8090 - val_auc: 0.8404\n",
            "Epoch 29/50\n",
            "11/11 [==============================] - 0s 3ms/step - loss: 0.4793 - accuracy: 0.7824 - auc: 0.8439 - val_loss: 0.4601 - val_accuracy: 0.8034 - val_auc: 0.8394\n",
            "Epoch 30/50\n",
            "11/11 [==============================] - 0s 3ms/step - loss: 0.4752 - accuracy: 0.7842 - auc: 0.8455 - val_loss: 0.4563 - val_accuracy: 0.8090 - val_auc: 0.8391\n",
            "Epoch 31/50\n",
            "11/11 [==============================] - 0s 3ms/step - loss: 0.4728 - accuracy: 0.7880 - auc: 0.8465 - val_loss: 0.4540 - val_accuracy: 0.8146 - val_auc: 0.8417\n",
            "Epoch 32/50\n",
            "11/11 [==============================] - 0s 3ms/step - loss: 0.4717 - accuracy: 0.7786 - auc: 0.8459 - val_loss: 0.4520 - val_accuracy: 0.8034 - val_auc: 0.8405\n",
            "Epoch 33/50\n",
            "11/11 [==============================] - 0s 3ms/step - loss: 0.4695 - accuracy: 0.7880 - auc: 0.8465 - val_loss: 0.4503 - val_accuracy: 0.8090 - val_auc: 0.8432\n",
            "Epoch 34/50\n",
            "11/11 [==============================] - 0s 3ms/step - loss: 0.4683 - accuracy: 0.7880 - auc: 0.8453 - val_loss: 0.4507 - val_accuracy: 0.8202 - val_auc: 0.8411\n",
            "Epoch 35/50\n",
            "11/11 [==============================] - 0s 3ms/step - loss: 0.4680 - accuracy: 0.7805 - auc: 0.8423 - val_loss: 0.4476 - val_accuracy: 0.8202 - val_auc: 0.8456\n",
            "Epoch 36/50\n",
            "11/11 [==============================] - 0s 4ms/step - loss: 0.4655 - accuracy: 0.7861 - auc: 0.8473 - val_loss: 0.4479 - val_accuracy: 0.8202 - val_auc: 0.8424\n",
            "Epoch 37/50\n",
            "11/11 [==============================] - 0s 3ms/step - loss: 0.4655 - accuracy: 0.7861 - auc: 0.8475 - val_loss: 0.4454 - val_accuracy: 0.8146 - val_auc: 0.8447\n",
            "Epoch 38/50\n",
            "11/11 [==============================] - 0s 3ms/step - loss: 0.4637 - accuracy: 0.7842 - auc: 0.8474 - val_loss: 0.4439 - val_accuracy: 0.8258 - val_auc: 0.8485\n",
            "Epoch 39/50\n",
            "11/11 [==============================] - 0s 3ms/step - loss: 0.4644 - accuracy: 0.7861 - auc: 0.8455 - val_loss: 0.4461 - val_accuracy: 0.8202 - val_auc: 0.8404\n",
            "Epoch 40/50\n",
            "11/11 [==============================] - 0s 3ms/step - loss: 0.4629 - accuracy: 0.7861 - auc: 0.8470 - val_loss: 0.4458 - val_accuracy: 0.8258 - val_auc: 0.8431\n",
            "Epoch 41/50\n",
            "11/11 [==============================] - 0s 3ms/step - loss: 0.4628 - accuracy: 0.7861 - auc: 0.8459 - val_loss: 0.4435 - val_accuracy: 0.8202 - val_auc: 0.8442\n",
            "Epoch 42/50\n",
            "11/11 [==============================] - 0s 4ms/step - loss: 0.4615 - accuracy: 0.7992 - auc: 0.8473 - val_loss: 0.4432 - val_accuracy: 0.8258 - val_auc: 0.8448\n",
            "Epoch 43/50\n",
            "11/11 [==============================] - 0s 3ms/step - loss: 0.4607 - accuracy: 0.7861 - auc: 0.8466 - val_loss: 0.4447 - val_accuracy: 0.8202 - val_auc: 0.8449\n",
            "Epoch 44/50\n",
            "11/11 [==============================] - 0s 3ms/step - loss: 0.4611 - accuracy: 0.7880 - auc: 0.8470 - val_loss: 0.4435 - val_accuracy: 0.8315 - val_auc: 0.8439\n",
            "Epoch 45/50\n",
            "11/11 [==============================] - 0s 3ms/step - loss: 0.4615 - accuracy: 0.7974 - auc: 0.8471 - val_loss: 0.4424 - val_accuracy: 0.8202 - val_auc: 0.8447\n",
            "Epoch 46/50\n",
            "11/11 [==============================] - 0s 3ms/step - loss: 0.4591 - accuracy: 0.7880 - auc: 0.8483 - val_loss: 0.4432 - val_accuracy: 0.8315 - val_auc: 0.8430\n",
            "Epoch 47/50\n",
            "11/11 [==============================] - 0s 3ms/step - loss: 0.4597 - accuracy: 0.7880 - auc: 0.8456 - val_loss: 0.4459 - val_accuracy: 0.8202 - val_auc: 0.8377\n",
            "Epoch 48/50\n",
            "11/11 [==============================] - 0s 3ms/step - loss: 0.4602 - accuracy: 0.7861 - auc: 0.8460 - val_loss: 0.4395 - val_accuracy: 0.8258 - val_auc: 0.8457\n",
            "Epoch 49/50\n",
            "11/11 [==============================] - 0s 3ms/step - loss: 0.4582 - accuracy: 0.7842 - auc: 0.8492 - val_loss: 0.4411 - val_accuracy: 0.8315 - val_auc: 0.8437\n",
            "Epoch 50/50\n",
            "11/11 [==============================] - 0s 3ms/step - loss: 0.4583 - accuracy: 0.7861 - auc: 0.8469 - val_loss: 0.4424 - val_accuracy: 0.8315 - val_auc: 0.8427\n"
          ],
          "name": "stdout"
        }
      ]
    },
    {
      "cell_type": "code",
      "metadata": {
        "id": "H5lANl212IkS"
      },
      "source": [
        "results = pd.DataFrame(history.history)\n",
        "\n",
        "from sklearn.metrics import roc_curve, auc\n",
        "y_pred_keras = model.predict(X_test).ravel()\n",
        "fpr_keras, tpr_keras, thresholds_keras = roc_curve(y_test, y_pred_keras)"
      ],
      "execution_count": 170,
      "outputs": []
    },
    {
      "cell_type": "code",
      "metadata": {
        "colab": {
          "base_uri": "https://localhost:8080/",
          "height": 638
        },
        "id": "k8q0t0El99Mt",
        "outputId": "d7bacb45-cf62-4e09-e7e6-66d7e9bf04af"
      },
      "source": [
        "fig, ax = plt.subplots(2, 2)\n",
        "fig.set_size_inches(15,10)\n",
        "\n",
        "ax[0,0].plot(np.arange(0, results.shape[0]), results.loss, label='train')\n",
        "ax[0,0].plot(np.arange(0, results.shape[0]), results.val_loss, label='val')\n",
        "ax[0,0].set_xlabel('Epoch')\n",
        "ax[0,0].title.set_text('Loss')\n",
        "ax[0,0].legend(loc=\"upper right\")\n",
        "\n",
        "ax[0,1].plot(np.arange(0, results.shape[0]), results.accuracy, label='train')\n",
        "ax[0,1].plot(np.arange(0, results.shape[0]), results.val_accuracy, label='val')\n",
        "ax[0,1].set_xlabel('Epoch')\n",
        "ax[0,1].title.set_text('Accuracy')\n",
        "ax[0,1].legend(loc=\"lower right\")\n",
        "\n",
        "ax[1,0].plot(fpr_keras, tpr_keras)\n",
        "ax[1,0].set_xlabel('False positives')\n",
        "ax[1,0].set_ylabel('True positives')\n",
        "ax[1,0].title.set_text('ROC curve')\n",
        "\n",
        "ax[1,1].plot(np.arange(0, results.shape[0]), results.auc, label='train')\n",
        "ax[1,1].plot(np.arange(0, results.shape[0]), results.val_auc, label='val')\n",
        "ax[1,1].set_xlabel('Epoch')\n",
        "ax[1,1].title.set_text('AUC')\n",
        "ax[1,1].legend(loc=\"lower right\")\n"
      ],
      "execution_count": 171,
      "outputs": [
        {
          "output_type": "execute_result",
          "data": {
            "text/plain": [
              "<matplotlib.legend.Legend at 0x7fbcb5dfa860>"
            ]
          },
          "metadata": {
            "tags": []
          },
          "execution_count": 171
        },
        {
          "output_type": "display_data",
          "data": {
            "image/png": "[encoded data removed]",
            "text/plain": [
              "<Figure size 1080x720 with 4 Axes>"
            ]
          },
          "metadata": {
            "tags": [],
            "needs_background": "light"
          }
        }
      ]
    },
    {
      "cell_type": "code",
      "metadata": {
        "colab": {
          "base_uri": "https://localhost:8080/"
        },
        "id": "xDwjykOM43_C",
        "outputId": "5ff2db14-641e-409d-95ab-a9874ba921d3"
      },
      "source": [
        "model.evaluate(X_test, y_test)"
      ],
      "execution_count": 172,
      "outputs": [
        {
          "output_type": "stream",
          "text": [
            "6/6 [==============================] - 0s 2ms/step - loss: 0.4337 - accuracy: 0.8268 - auc: 0.8760\n"
          ],
          "name": "stdout"
        },
        {
          "output_type": "execute_result",
          "data": {
            "text/plain": [
              "[0.4336807131767273, 0.826815664768219, 0.8760210871696472]"
            ]
          },
          "metadata": {
            "tags": []
          },
          "execution_count": 172
        }
      ]
    },
    {
      "cell_type": "code",
      "metadata": {
        "colab": {
          "base_uri": "https://localhost:8080/"
        },
        "id": "9ChOQX01IwZX",
        "outputId": "3e759fa5-8037-44ea-baf2-96b0c1cec389"
      },
      "source": [
        "confusion_matrix(y_test, np.round(model.predict(X_test)))"
      ],
      "execution_count": 185,
      "outputs": [
        {
          "output_type": "execute_result",
          "data": {
            "text/plain": [
              "array([[96, 14],\n",
              "       [17, 52]])"
            ]
          },
          "metadata": {
            "tags": []
          },
          "execution_count": 185
        }
      ]
    }
  ]
}