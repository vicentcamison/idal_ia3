{
  "nbformat": 4,
  "nbformat_minor": 0,
  "metadata": {
    "colab": {
      "name": "Titanic.ipynb",
      "provenance": [],
      "authorship_tag": "ABX9TyOeoKJ3sy2qS3lI7spTVY6O",
      "include_colab_link": true
    },
    "kernelspec": {
      "name": "python3",
      "display_name": "Python 3"
    }
  },
  "cells": [
    {
      "cell_type": "markdown",
      "metadata": {
        "id": "view-in-github",
        "colab_type": "text"
      },
      "source": [
        "<a href=\"https://colab.research.google.com/github/vicentcamison/idal_ia3/blob/main/2%20Aprendizaje%20profundo%20(I)/Sesion%203/Titanic.ipynb\" target=\"_parent\"><img src=\"https://colab.research.google.com/assets/colab-badge.svg\" alt=\"Open In Colab\"/></a>"
      ]
    },
    {
      "cell_type": "code",
      "metadata": {
        "id": "KP4WUH2vbDlU"
      },
      "source": [
        "import numpy as np\n",
        "import pandas as pd\n",
        "import tensorflow as tf\n",
        "from tensorflow.keras.layers import Dense, Input, Lambda, Dropout\n",
        "import matplotlib.pyplot as plt\n",
        "from sklearn import preprocessing\n",
        "from sklearn.model_selection import train_test_split\n",
        "tf.random.set_seed(42)"
      ],
      "execution_count": 73,
      "outputs": []
    },
    {
      "cell_type": "code",
      "metadata": {
        "id": "liEw8CokbRxB"
      },
      "source": [
        "data_train = pd.read_csv('https://raw.githubusercontent.com/vicentcamison/idal_ia3/main/2%20Aprendizaje%20profundo%20(I)/Sesion%203/titanic_train.csv')\n",
        "data_test = pd.read_csv('https://raw.githubusercontent.com/vicentcamison/idal_ia3/main/2%20Aprendizaje%20profundo%20(I)/Sesion%203/titanic_test.csv')"
      ],
      "execution_count": 74,
      "outputs": []
    },
    {
      "cell_type": "code",
      "metadata": {
        "colab": {
          "base_uri": "https://localhost:8080/",
          "height": 424
        },
        "id": "uKeL0C3sdUIL",
        "outputId": "c072287c-5c74-42a0-dc72-a3c8a7f8b828"
      },
      "source": [
        "data_train"
      ],
      "execution_count": 30,
      "outputs": [
        {
          "output_type": "execute_result",
          "data": {
            "text/html": [
              "<div>\n",
              "<style scoped>\n",
              "    .dataframe tbody tr th:only-of-type {\n",
              "        vertical-align: middle;\n",
              "    }\n",
              "\n",
              "    .dataframe tbody tr th {\n",
              "        vertical-align: top;\n",
              "    }\n",
              "\n",
              "    .dataframe thead th {\n",
              "        text-align: right;\n",
              "    }\n",
              "</style>\n",
              "<table border=\"1\" class=\"dataframe\">\n",
              "  <thead>\n",
              "    <tr style=\"text-align: right;\">\n",
              "      <th></th>\n",
              "      <th>Age</th>\n",
              "      <th>SibSp</th>\n",
              "      <th>Parch</th>\n",
              "      <th>Fare</th>\n",
              "      <th>Survived_No</th>\n",
              "      <th>Survived_Yes</th>\n",
              "      <th>Pclass_Lower</th>\n",
              "      <th>Pclass_Middle</th>\n",
              "      <th>Pclass_Upper</th>\n",
              "      <th>Sex_female</th>\n",
              "      <th>Sex_male</th>\n",
              "    </tr>\n",
              "  </thead>\n",
              "  <tbody>\n",
              "    <tr>\n",
              "      <th>0</th>\n",
              "      <td>33.0</td>\n",
              "      <td>1</td>\n",
              "      <td>0</td>\n",
              "      <td>90.0000</td>\n",
              "      <td>0</td>\n",
              "      <td>1</td>\n",
              "      <td>0</td>\n",
              "      <td>0</td>\n",
              "      <td>1</td>\n",
              "      <td>1</td>\n",
              "      <td>0</td>\n",
              "    </tr>\n",
              "    <tr>\n",
              "      <th>1</th>\n",
              "      <td>20.0</td>\n",
              "      <td>0</td>\n",
              "      <td>0</td>\n",
              "      <td>7.8542</td>\n",
              "      <td>1</td>\n",
              "      <td>0</td>\n",
              "      <td>1</td>\n",
              "      <td>0</td>\n",
              "      <td>0</td>\n",
              "      <td>0</td>\n",
              "      <td>1</td>\n",
              "    </tr>\n",
              "    <tr>\n",
              "      <th>2</th>\n",
              "      <td>50.0</td>\n",
              "      <td>0</td>\n",
              "      <td>0</td>\n",
              "      <td>13.0000</td>\n",
              "      <td>1</td>\n",
              "      <td>0</td>\n",
              "      <td>0</td>\n",
              "      <td>1</td>\n",
              "      <td>0</td>\n",
              "      <td>0</td>\n",
              "      <td>1</td>\n",
              "    </tr>\n",
              "    <tr>\n",
              "      <th>3</th>\n",
              "      <td>18.0</td>\n",
              "      <td>2</td>\n",
              "      <td>2</td>\n",
              "      <td>262.3750</td>\n",
              "      <td>0</td>\n",
              "      <td>1</td>\n",
              "      <td>0</td>\n",
              "      <td>0</td>\n",
              "      <td>1</td>\n",
              "      <td>1</td>\n",
              "      <td>0</td>\n",
              "    </tr>\n",
              "    <tr>\n",
              "      <th>4</th>\n",
              "      <td>34.0</td>\n",
              "      <td>0</td>\n",
              "      <td>0</td>\n",
              "      <td>13.0000</td>\n",
              "      <td>1</td>\n",
              "      <td>0</td>\n",
              "      <td>0</td>\n",
              "      <td>1</td>\n",
              "      <td>0</td>\n",
              "      <td>0</td>\n",
              "      <td>1</td>\n",
              "    </tr>\n",
              "    <tr>\n",
              "      <th>...</th>\n",
              "      <td>...</td>\n",
              "      <td>...</td>\n",
              "      <td>...</td>\n",
              "      <td>...</td>\n",
              "      <td>...</td>\n",
              "      <td>...</td>\n",
              "      <td>...</td>\n",
              "      <td>...</td>\n",
              "      <td>...</td>\n",
              "      <td>...</td>\n",
              "      <td>...</td>\n",
              "    </tr>\n",
              "    <tr>\n",
              "      <th>706</th>\n",
              "      <td>64.0</td>\n",
              "      <td>0</td>\n",
              "      <td>0</td>\n",
              "      <td>26.0000</td>\n",
              "      <td>1</td>\n",
              "      <td>0</td>\n",
              "      <td>0</td>\n",
              "      <td>0</td>\n",
              "      <td>1</td>\n",
              "      <td>0</td>\n",
              "      <td>1</td>\n",
              "    </tr>\n",
              "    <tr>\n",
              "      <th>707</th>\n",
              "      <td>29.0</td>\n",
              "      <td>0</td>\n",
              "      <td>0</td>\n",
              "      <td>9.4833</td>\n",
              "      <td>1</td>\n",
              "      <td>0</td>\n",
              "      <td>1</td>\n",
              "      <td>0</td>\n",
              "      <td>0</td>\n",
              "      <td>0</td>\n",
              "      <td>1</td>\n",
              "    </tr>\n",
              "    <tr>\n",
              "      <th>708</th>\n",
              "      <td>19.0</td>\n",
              "      <td>0</td>\n",
              "      <td>0</td>\n",
              "      <td>10.5000</td>\n",
              "      <td>1</td>\n",
              "      <td>0</td>\n",
              "      <td>0</td>\n",
              "      <td>1</td>\n",
              "      <td>0</td>\n",
              "      <td>0</td>\n",
              "      <td>1</td>\n",
              "    </tr>\n",
              "    <tr>\n",
              "      <th>709</th>\n",
              "      <td>70.0</td>\n",
              "      <td>1</td>\n",
              "      <td>1</td>\n",
              "      <td>71.0000</td>\n",
              "      <td>1</td>\n",
              "      <td>0</td>\n",
              "      <td>0</td>\n",
              "      <td>0</td>\n",
              "      <td>1</td>\n",
              "      <td>0</td>\n",
              "      <td>1</td>\n",
              "    </tr>\n",
              "    <tr>\n",
              "      <th>710</th>\n",
              "      <td>21.0</td>\n",
              "      <td>0</td>\n",
              "      <td>0</td>\n",
              "      <td>7.9250</td>\n",
              "      <td>1</td>\n",
              "      <td>0</td>\n",
              "      <td>1</td>\n",
              "      <td>0</td>\n",
              "      <td>0</td>\n",
              "      <td>0</td>\n",
              "      <td>1</td>\n",
              "    </tr>\n",
              "  </tbody>\n",
              "</table>\n",
              "<p>711 rows × 11 columns</p>\n",
              "</div>"
            ],
            "text/plain": [
              "      Age  SibSp  Parch  ...  Pclass_Upper  Sex_female  Sex_male\n",
              "0    33.0      1      0  ...             1           1         0\n",
              "1    20.0      0      0  ...             0           0         1\n",
              "2    50.0      0      0  ...             0           0         1\n",
              "3    18.0      2      2  ...             1           1         0\n",
              "4    34.0      0      0  ...             0           0         1\n",
              "..    ...    ...    ...  ...           ...         ...       ...\n",
              "706  64.0      0      0  ...             1           0         1\n",
              "707  29.0      0      0  ...             0           0         1\n",
              "708  19.0      0      0  ...             0           0         1\n",
              "709  70.0      1      1  ...             1           0         1\n",
              "710  21.0      0      0  ...             0           0         1\n",
              "\n",
              "[711 rows x 11 columns]"
            ]
          },
          "metadata": {
            "tags": []
          },
          "execution_count": 30
        }
      ]
    },
    {
      "cell_type": "markdown",
      "metadata": {
        "id": "WyLZAn5Ek0-6"
      },
      "source": [
        "#Preprocesado de datos"
      ]
    },
    {
      "cell_type": "code",
      "metadata": {
        "id": "YKn5ag6XdVpD"
      },
      "source": [
        "#Eliminamos algunas columnas que pensamos que no aportan ningún tipo de información\n",
        "#Eliminamos la columna 'Cabin' ya que casi todas las entries son NaN\n",
        "\n",
        "data_train = data_train.drop(['Name', 'PassengerId', 'Ticket', 'Cabin', 'Embarked'], axis=1)\n",
        "data_test = data_test.drop(['Name', 'PassengerId', 'Ticket', 'Cabin', 'Embarked'], axis=1)\n",
        "\n",
        "\n",
        "# ---------------\n",
        "# VARIABLES DUMMY\n",
        "# ---------------\n",
        "\n",
        "data_train = pd.get_dummies(data_train, columns=['Survived', 'Pclass', 'Sex'])\n",
        "data_test = pd.get_dummies(data_test, columns=['Survived', 'Pclass', 'Sex'])\n",
        "\n",
        "#Eliminamos algunas columnas dummy innecesarias porque eran binarias\n",
        "# (male = 1, female = 0;  survived = 1, not_survived = 0)\n",
        "data_train.drop(['Survived_No', 'Sex_female'], axis=1, inplace=True)\n",
        "data_test.drop(['Survived_No', 'Sex_female'], axis=1, inplace=True)\n",
        "\n",
        "# Renombramos las columnas dummy binarias\n",
        "data_train.rename(columns={'Survived_Yes': 'Survived', 'Sex_male': 'Sex'}, inplace=True)\n",
        "data_test.rename(columns={'Survived_Yes': 'Survived', 'Sex_male': 'Sex'}, inplace=True)"
      ],
      "execution_count": 75,
      "outputs": []
    },
    {
      "cell_type": "code",
      "metadata": {
        "colab": {
          "base_uri": "https://localhost:8080/"
        },
        "id": "-QyApRN7tqzH",
        "outputId": "d477ccca-4bfa-46ca-942b-65f165acecda"
      },
      "source": [
        "# ------------------------\n",
        "# LIDIAR CON VARIABLES NaN\n",
        "# ------------------------\n",
        "\n",
        "# El número de datos del dataframe actual que son NaN es:\n",
        "print(data_train.isnull().sum().sum(), data_test.isnull().sum().sum())"
      ],
      "execution_count": 76,
      "outputs": [
        {
          "output_type": "stream",
          "text": [
            "138 39\n"
          ],
          "name": "stdout"
        }
      ]
    },
    {
      "cell_type": "code",
      "metadata": {
        "colab": {
          "base_uri": "https://localhost:8080/"
        },
        "id": "bZ_mUZMwuEbt",
        "outputId": "7939b247-fdbc-4985-a663-9543a0ca8d20"
      },
      "source": [
        "# Reemplazamos los NaN por la media de la columna correspondiente\n",
        "data_train.fillna(data_train.mean(), inplace=True)\n",
        "data_test.fillna(data_test.mean(), inplace=True)\n",
        "\n",
        "print(data_train.isnull().sum().sum(), data_test.isnull().sum().sum())"
      ],
      "execution_count": 77,
      "outputs": [
        {
          "output_type": "stream",
          "text": [
            "0 0\n"
          ],
          "name": "stdout"
        }
      ]
    },
    {
      "cell_type": "code",
      "metadata": {
        "colab": {
          "base_uri": "https://localhost:8080/",
          "height": 334
        },
        "id": "B4LnOYFnoMI8",
        "outputId": "d56bbc16-bfdd-471f-9da8-cd36f51201e1"
      },
      "source": [
        "# -------------\n",
        "# NORMALIZACIÓN\n",
        "# -------------\n",
        "\n",
        "# Comprobemos la distribución de las variables numéricas ('Age', 'Fare') con histogramas\n",
        "\n",
        "plt.hist(data_train.loc[:, 'Age'])"
      ],
      "execution_count": 78,
      "outputs": [
        {
          "output_type": "execute_result",
          "data": {
            "text/plain": [
              "(array([ 47.,  41., 146., 272.,  95.,  55.,  32.,  16.,   6.,   1.]),\n",
              " array([ 0.42 ,  8.378, 16.336, 24.294, 32.252, 40.21 , 48.168, 56.126,\n",
              "        64.084, 72.042, 80.   ]),\n",
              " <a list of 10 Patch objects>)"
            ]
          },
          "metadata": {
            "tags": []
          },
          "execution_count": 78
        },
        {
          "output_type": "display_data",
          "data": {
            "image/png": "[encoded data removed]",
            "text/plain": [
              "<Figure size 432x288 with 1 Axes>"
            ]
          },
          "metadata": {
            "tags": [],
            "needs_background": "light"
          }
        }
      ]
    },
    {
      "cell_type": "code",
      "metadata": {
        "colab": {
          "base_uri": "https://localhost:8080/",
          "height": 334
        },
        "id": "udVpRQh0o1AB",
        "outputId": "7c66ebda-f7a1-4b2c-ae93-0442f0839180"
      },
      "source": [
        "plt.hist(data_train.loc[:, 'Fare'])"
      ],
      "execution_count": 79,
      "outputs": [
        {
          "output_type": "execute_result",
          "data": {
            "text/plain": [
              "(array([585.,  86.,  23.,   2.,   8.,   4.,   0.,   0.,   0.,   3.]),\n",
              " array([  0.     ,  51.23292, 102.46584, 153.69876, 204.93168, 256.1646 ,\n",
              "        307.39752, 358.63044, 409.86336, 461.09628, 512.3292 ]),\n",
              " <a list of 10 Patch objects>)"
            ]
          },
          "metadata": {
            "tags": []
          },
          "execution_count": 79
        },
        {
          "output_type": "display_data",
          "data": {
            "image/png": "[encoded data removed]",
            "text/plain": [
              "<Figure size 432x288 with 1 Axes>"
            ]
          },
          "metadata": {
            "tags": [],
            "needs_background": "light"
          }
        }
      ]
    },
    {
      "cell_type": "code",
      "metadata": {
        "id": "MgT2XRADo5G0"
      },
      "source": [
        "# Ninguno de los datos sigue una distribución normal: usaremos la normalización MinMax\n",
        "\n",
        "min_max_scaler = preprocessing.MinMaxScaler()\n",
        "min_max_scaler.fit(data_train.loc[:, ['Fare', 'Age']])\n",
        "\n",
        "data_train.loc[:, ['Fare', 'Age']] = min_max_scaler.transform(data_train.loc[:, ['Fare', 'Age']])\n",
        "data_test.loc[:, ['Fare', 'Age']] = min_max_scaler.transform(data_test.loc[:, ['Fare', 'Age']])"
      ],
      "execution_count": 80,
      "outputs": []
    },
    {
      "cell_type": "code",
      "metadata": {
        "id": "Q8mO_Ta0hsia"
      },
      "source": [
        "# -------------------\n",
        "# SEPARACIÓN EN X E Y\n",
        "# -------------------\n",
        "\n",
        "#Separamos los datos en X e Y\n",
        "\n",
        "X_train = data_train.drop(['Survived'], axis=1)\n",
        "y_train = data_train.loc[:, 'Survived']\n",
        "\n",
        "X_test = data_test.drop(['Survived'], axis=1)\n",
        "y_test = data_test.loc[:, 'Survived']"
      ],
      "execution_count": 81,
      "outputs": []
    },
    {
      "cell_type": "code",
      "metadata": {
        "id": "VK6krnrbzFQu"
      },
      "source": [
        "# ------------------------------------\n",
        "# SEPARACIÓN DEL TRAIN EN TRAIN Y TEST\n",
        "# ------------------------------------\n",
        "\n",
        "X_train, X_val, y_train, y_val = train_test_split(X_train, y_train, test_size= 0.25, shuffle=True)"
      ],
      "execution_count": 82,
      "outputs": []
    },
    {
      "cell_type": "markdown",
      "metadata": {
        "id": "DideE7rSr0lq"
      },
      "source": [
        "#Red neuronal"
      ]
    },
    {
      "cell_type": "code",
      "metadata": {
        "colab": {
          "base_uri": "https://localhost:8080/"
        },
        "id": "2XvIHQ6Ur3kw",
        "outputId": "57da03db-d1d1-4118-bbdb-c30b018287cc"
      },
      "source": [
        "# Algunos hiper-parámetros\n",
        "lr = .001\n",
        "batch_size = 100\n",
        "n_epochs = 35\n",
        "optimizer = tf.keras.optimizers.Adam(learning_rate=lr)\n",
        "\n",
        "# Crear modelo\n",
        "model = tf.keras.models.Sequential()\n",
        "model.add(Dense(5, activation='relu', input_shape=(X_train.shape[1],)))\n",
        "model.add(Dense(2, activation='relu'))\n",
        "model.add(Dense(1, activation='sigmoid'))\n",
        "\n",
        "\n",
        "# Visualizar arquitectura y dimensiones\n",
        "model.summary()\n",
        "\n",
        "# Compilamos el modelo: ¿Qué función de coste hay que utilizar?\n",
        "model.compile(loss='binary_crossentropy',\n",
        "              optimizer=optimizer,\n",
        "              metrics=['accuracy'])"
      ],
      "execution_count": 84,
      "outputs": [
        {
          "output_type": "stream",
          "text": [
            "Model: \"sequential_2\"\n",
            "_________________________________________________________________\n",
            "Layer (type)                 Output Shape              Param #   \n",
            "=================================================================\n",
            "dense_6 (Dense)              (None, 5)                 45        \n",
            "_________________________________________________________________\n",
            "dense_7 (Dense)              (None, 2)                 12        \n",
            "_________________________________________________________________\n",
            "dense_8 (Dense)              (None, 1)                 3         \n",
            "=================================================================\n",
            "Total params: 60\n",
            "Trainable params: 60\n",
            "Non-trainable params: 0\n",
            "_________________________________________________________________\n"
          ],
          "name": "stdout"
        }
      ]
    },
    {
      "cell_type": "code",
      "metadata": {
        "colab": {
          "base_uri": "https://localhost:8080/"
        },
        "id": "RnJmqi3GyHK-",
        "outputId": "2532d7ad-44b4-44d2-e0bf-00047389ce79"
      },
      "source": [
        "# Fitteamos el modelo\n",
        "\n",
        "history = model.fit(X_train, y_train, batch_size=batch_size, epochs=n_epochs, shuffle=True, validation_data=(X_val, y_val))"
      ],
      "execution_count": 90,
      "outputs": [
        {
          "output_type": "stream",
          "text": [
            "Epoch 1/35\n",
            "6/6 [==============================] - 0s 23ms/step - loss: 0.6585 - accuracy: 0.5854 - val_loss: 0.6734 - val_accuracy: 0.6067\n",
            "Epoch 2/35\n",
            "6/6 [==============================] - 0s 4ms/step - loss: 0.6583 - accuracy: 0.5854 - val_loss: 0.6733 - val_accuracy: 0.6124\n",
            "Epoch 3/35\n",
            "6/6 [==============================] - 0s 5ms/step - loss: 0.6581 - accuracy: 0.5854 - val_loss: 0.6732 - val_accuracy: 0.6067\n",
            "Epoch 4/35\n",
            "6/6 [==============================] - 0s 5ms/step - loss: 0.6579 - accuracy: 0.5854 - val_loss: 0.6731 - val_accuracy: 0.6124\n",
            "Epoch 5/35\n",
            "6/6 [==============================] - 0s 4ms/step - loss: 0.6577 - accuracy: 0.5854 - val_loss: 0.6729 - val_accuracy: 0.6180\n",
            "Epoch 6/35\n",
            "6/6 [==============================] - 0s 4ms/step - loss: 0.6575 - accuracy: 0.5854 - val_loss: 0.6728 - val_accuracy: 0.6180\n",
            "Epoch 7/35\n",
            "6/6 [==============================] - 0s 4ms/step - loss: 0.6573 - accuracy: 0.5854 - val_loss: 0.6727 - val_accuracy: 0.6180\n",
            "Epoch 8/35\n",
            "6/6 [==============================] - 0s 4ms/step - loss: 0.6571 - accuracy: 0.5891 - val_loss: 0.6725 - val_accuracy: 0.6180\n",
            "Epoch 9/35\n",
            "6/6 [==============================] - 0s 4ms/step - loss: 0.6569 - accuracy: 0.5910 - val_loss: 0.6722 - val_accuracy: 0.6180\n",
            "Epoch 10/35\n",
            "6/6 [==============================] - 0s 4ms/step - loss: 0.6566 - accuracy: 0.5910 - val_loss: 0.6720 - val_accuracy: 0.6180\n",
            "Epoch 11/35\n",
            "6/6 [==============================] - 0s 4ms/step - loss: 0.6564 - accuracy: 0.5910 - val_loss: 0.6718 - val_accuracy: 0.6180\n",
            "Epoch 12/35\n",
            "6/6 [==============================] - 0s 4ms/step - loss: 0.6563 - accuracy: 0.5929 - val_loss: 0.6715 - val_accuracy: 0.6180\n",
            "Epoch 13/35\n",
            "6/6 [==============================] - 0s 4ms/step - loss: 0.6560 - accuracy: 0.5985 - val_loss: 0.6713 - val_accuracy: 0.6292\n",
            "Epoch 14/35\n",
            "6/6 [==============================] - 0s 4ms/step - loss: 0.6559 - accuracy: 0.6041 - val_loss: 0.6712 - val_accuracy: 0.6292\n",
            "Epoch 15/35\n",
            "6/6 [==============================] - 0s 4ms/step - loss: 0.6557 - accuracy: 0.6079 - val_loss: 0.6709 - val_accuracy: 0.6292\n",
            "Epoch 16/35\n",
            "6/6 [==============================] - 0s 4ms/step - loss: 0.6555 - accuracy: 0.6116 - val_loss: 0.6708 - val_accuracy: 0.6348\n",
            "Epoch 17/35\n",
            "6/6 [==============================] - 0s 4ms/step - loss: 0.6553 - accuracy: 0.6154 - val_loss: 0.6704 - val_accuracy: 0.6348\n",
            "Epoch 18/35\n",
            "6/6 [==============================] - 0s 4ms/step - loss: 0.6552 - accuracy: 0.6154 - val_loss: 0.6701 - val_accuracy: 0.6348\n",
            "Epoch 19/35\n",
            "6/6 [==============================] - 0s 4ms/step - loss: 0.6551 - accuracy: 0.6154 - val_loss: 0.6699 - val_accuracy: 0.6348\n",
            "Epoch 20/35\n",
            "6/6 [==============================] - 0s 5ms/step - loss: 0.6549 - accuracy: 0.6191 - val_loss: 0.6698 - val_accuracy: 0.6404\n",
            "Epoch 21/35\n",
            "6/6 [==============================] - 0s 5ms/step - loss: 0.6548 - accuracy: 0.6210 - val_loss: 0.6697 - val_accuracy: 0.6404\n",
            "Epoch 22/35\n",
            "6/6 [==============================] - 0s 5ms/step - loss: 0.6546 - accuracy: 0.6210 - val_loss: 0.6695 - val_accuracy: 0.6404\n",
            "Epoch 23/35\n",
            "6/6 [==============================] - 0s 5ms/step - loss: 0.6545 - accuracy: 0.6210 - val_loss: 0.6695 - val_accuracy: 0.6404\n",
            "Epoch 24/35\n",
            "6/6 [==============================] - 0s 4ms/step - loss: 0.6543 - accuracy: 0.6210 - val_loss: 0.6694 - val_accuracy: 0.6404\n",
            "Epoch 25/35\n",
            "6/6 [==============================] - 0s 5ms/step - loss: 0.6542 - accuracy: 0.6210 - val_loss: 0.6693 - val_accuracy: 0.6404\n",
            "Epoch 26/35\n",
            "6/6 [==============================] - 0s 4ms/step - loss: 0.6540 - accuracy: 0.6210 - val_loss: 0.6692 - val_accuracy: 0.6404\n",
            "Epoch 27/35\n",
            "6/6 [==============================] - 0s 4ms/step - loss: 0.6539 - accuracy: 0.6210 - val_loss: 0.6691 - val_accuracy: 0.6404\n",
            "Epoch 28/35\n",
            "6/6 [==============================] - 0s 4ms/step - loss: 0.6537 - accuracy: 0.6229 - val_loss: 0.6689 - val_accuracy: 0.6404\n",
            "Epoch 29/35\n",
            "6/6 [==============================] - 0s 4ms/step - loss: 0.6537 - accuracy: 0.6229 - val_loss: 0.6688 - val_accuracy: 0.6404\n",
            "Epoch 30/35\n",
            "6/6 [==============================] - 0s 4ms/step - loss: 0.6534 - accuracy: 0.6229 - val_loss: 0.6685 - val_accuracy: 0.6404\n",
            "Epoch 31/35\n",
            "6/6 [==============================] - 0s 4ms/step - loss: 0.6533 - accuracy: 0.6229 - val_loss: 0.6684 - val_accuracy: 0.6404\n",
            "Epoch 32/35\n",
            "6/6 [==============================] - 0s 4ms/step - loss: 0.6532 - accuracy: 0.6229 - val_loss: 0.6684 - val_accuracy: 0.6404\n",
            "Epoch 33/35\n",
            "6/6 [==============================] - 0s 4ms/step - loss: 0.6530 - accuracy: 0.6266 - val_loss: 0.6682 - val_accuracy: 0.6404\n",
            "Epoch 34/35\n",
            "6/6 [==============================] - 0s 4ms/step - loss: 0.6529 - accuracy: 0.6266 - val_loss: 0.6680 - val_accuracy: 0.6404\n",
            "Epoch 35/35\n",
            "6/6 [==============================] - 0s 4ms/step - loss: 0.6528 - accuracy: 0.6266 - val_loss: 0.6679 - val_accuracy: 0.6404\n"
          ],
          "name": "stdout"
        }
      ]
    },
    {
      "cell_type": "code",
      "metadata": {
        "colab": {
          "base_uri": "https://localhost:8080/",
          "height": 282
        },
        "id": "H5lANl212IkS",
        "outputId": "6116a3ba-cd89-4a5d-ce27-474d4c0d0866"
      },
      "source": [
        "fig, ax = plt.subplots(1, 3)\n",
        "\n",
        "results = pd.DataFrame(history.history)\n",
        "\n",
        "ax[0,0].plot(np.arange(0, results.shape[0]), results.loss, )\n",
        "ax[0,0].plot(np.arange(0, results.shape[0]), results.val_loss)"
      ],
      "execution_count": 97,
      "outputs": [
        {
          "output_type": "execute_result",
          "data": {
            "text/plain": [
              "[<matplotlib.lines.Line2D at 0x7fbcb4c3b080>]"
            ]
          },
          "metadata": {
            "tags": []
          },
          "execution_count": 97
        },
        {
          "output_type": "display_data",
          "data": {
            "image/png": "[encoded data removed]",
            "text/plain": [
              "<Figure size 432x288 with 1 Axes>"
            ]
          },
          "metadata": {
            "tags": [],
            "needs_background": "light"
          }
        }
      ]
    }
  ]
}