{
  "nbformat": 4,
  "nbformat_minor": 0,
  "metadata": {
    "colab": {
      "name": "CNN_MNIST_basic_tf2.ipynb",
      "provenance": [],
      "include_colab_link": true
    },
    "kernelspec": {
      "name": "python3",
      "display_name": "Python 3"
    },
    "accelerator": "GPU"
  },
  "cells": [
    {
      "cell_type": "markdown",
      "metadata": {
        "id": "view-in-github",
        "colab_type": "text"
      },
      "source": [
        "<a href=\"https://colab.research.google.com/github/vicentcamison/idal_ia3/blob/main/2%20Aprendizaje%20profundo%20(I)/Sesion%203/1_CNN_MNIST_basic_tf2.ipynb\" target=\"_parent\"><img src=\"https://colab.research.google.com/assets/colab-badge.svg\" alt=\"Open In Colab\"/></a>"
      ]
    },
    {
      "cell_type": "markdown",
      "metadata": {
        "id": "uWufgzw_tf20"
      },
      "source": [
        "# Ejemplo de uso de CNN\n",
        "# en los datos de MNIST"
      ]
    },
    {
      "cell_type": "markdown",
      "metadata": {
        "id": "RvUnVwrNtnuY"
      },
      "source": [
        "leemos los datos"
      ]
    },
    {
      "cell_type": "code",
      "metadata": {
        "id": "GJzzBMOltfOb",
        "colab": {
          "base_uri": "https://localhost:8080/"
        },
        "outputId": "5655a8d8-b01a-42d0-8c0e-f7d1c5af9bd0"
      },
      "source": [
        "from keras.datasets import mnist\n",
        "\n",
        "# descargamos separados en entrenamiento y tes\n",
        "(X_train, y_train), (X_test, y_test) = mnist.load_data()"
      ],
      "execution_count": 1,
      "outputs": [
        {
          "output_type": "stream",
          "text": [
            "Downloading data from https://storage.googleapis.com/tensorflow/tf-keras-datasets/mnist.npz\n",
            "11493376/11490434 [==============================] - 0s 0us/step\n"
          ],
          "name": "stdout"
        }
      ]
    },
    {
      "cell_type": "code",
      "metadata": {
        "id": "CVrsjJ0ypgKS",
        "colab": {
          "base_uri": "https://localhost:8080/"
        },
        "outputId": "64da69ca-817d-422e-abdf-d89399a5a34d"
      },
      "source": [
        "# tamaño de los datos\n",
        "print(X_train.shape)\n",
        "print(y_train.shape)"
      ],
      "execution_count": 2,
      "outputs": [
        {
          "output_type": "stream",
          "text": [
            "(60000, 28, 28)\n",
            "(60000,)\n"
          ],
          "name": "stdout"
        }
      ]
    },
    {
      "cell_type": "markdown",
      "metadata": {
        "id": "IGu7xoCJtqnG"
      },
      "source": [
        "Vemos una imagen"
      ]
    },
    {
      "cell_type": "code",
      "metadata": {
        "id": "idhLs1p7ngXV",
        "colab": {
          "base_uri": "https://localhost:8080/",
          "height": 282
        },
        "outputId": "55374461-9150-4fe6-9dbb-51da6990a278"
      },
      "source": [
        "import matplotlib.pyplot as plt\n",
        "\n",
        "#plot the first image in the dataset\n",
        "plt.imshow(X_train[0,:,:],cmap='gray')\n",
        "\n",
        "# Mostramos la etiqueta de la imagen\n",
        "print(y_train[0])"
      ],
      "execution_count": 3,
      "outputs": [
        {
          "output_type": "stream",
          "text": [
            "5\n"
          ],
          "name": "stdout"
        },
        {
          "output_type": "display_data",
          "data": {
            "image/png": "[encoded data removed]",
            "text/plain": [
              "<Figure size 432x288 with 1 Axes>"
            ]
          },
          "metadata": {
            "tags": [],
            "needs_background": "light"
          }
        }
      ]
    },
    {
      "cell_type": "markdown",
      "metadata": {
        "id": "j78jBp5OttjT"
      },
      "source": [
        "Reordenamos los datos para que tengan \n",
        "(Nº muestras, alto, lado, canales)"
      ]
    },
    {
      "cell_type": "code",
      "metadata": {
        "id": "1wljVbn9nkLF"
      },
      "source": [
        "X_train = X_train.reshape(60000,28,28,1)\n",
        "X_test = X_test.reshape(10000,28,28,1)"
      ],
      "execution_count": 4,
      "outputs": []
    },
    {
      "cell_type": "markdown",
      "metadata": {
        "id": "ENs3C1Ykt77G"
      },
      "source": [
        "Separamos train y test"
      ]
    },
    {
      "cell_type": "code",
      "metadata": {
        "id": "KpM0Nmk6pS7B"
      },
      "source": [
        "X_train = X_train[0:1000,:,:,:]\n",
        "X_test = X_test[0:1000,:,:,:]\n",
        "y_train = y_train[0:1000]\n",
        "y_test = y_test[0:1000]"
      ],
      "execution_count": 5,
      "outputs": []
    },
    {
      "cell_type": "code",
      "metadata": {
        "id": "T98bWv3Pw9k2",
        "colab": {
          "base_uri": "https://localhost:8080/"
        },
        "outputId": "1e56a211-29ce-44fb-9dc6-d68343ce0a27"
      },
      "source": [
        "print(X_train.shape)\n",
        "print(y_train.shape)"
      ],
      "execution_count": 6,
      "outputs": [
        {
          "output_type": "stream",
          "text": [
            "(1000, 28, 28, 1)\n",
            "(1000,)\n"
          ],
          "name": "stdout"
        }
      ]
    },
    {
      "cell_type": "markdown",
      "metadata": {
        "id": "bb48aR6zt-Ty"
      },
      "source": [
        "Hacemos el one-hot encoding a las salidas"
      ]
    },
    {
      "cell_type": "code",
      "metadata": {
        "id": "0sE_9bAEnsmw"
      },
      "source": [
        "from keras.utils import to_categorical\n",
        "\n",
        "# me guardo los y_train antes de hacer el one-hot\n",
        "y_train_old = y_train\n",
        "\n",
        "y_train = to_categorical(y_train)\n",
        "y_test = to_categorical(y_test)"
      ],
      "execution_count": 7,
      "outputs": []
    },
    {
      "cell_type": "code",
      "metadata": {
        "id": "o7vWhloYw7Mu",
        "colab": {
          "base_uri": "https://localhost:8080/"
        },
        "outputId": "2ffd7d45-c127-4b0b-e89f-8e6212c8ba5b"
      },
      "source": [
        "print(y_train.shape)"
      ],
      "execution_count": 8,
      "outputs": [
        {
          "output_type": "stream",
          "text": [
            "(1000, 10)\n"
          ],
          "name": "stdout"
        }
      ]
    },
    {
      "cell_type": "code",
      "metadata": {
        "id": "df345MuCr0xl",
        "colab": {
          "base_uri": "https://localhost:8080/"
        },
        "outputId": "683d407f-d8aa-49ae-cad5-109a3fad5379"
      },
      "source": [
        "\n",
        "y_train.dtype"
      ],
      "execution_count": 9,
      "outputs": [
        {
          "output_type": "execute_result",
          "data": {
            "text/plain": [
              "dtype('float32')"
            ]
          },
          "metadata": {
            "tags": []
          },
          "execution_count": 9
        }
      ]
    },
    {
      "cell_type": "code",
      "metadata": {
        "id": "lUifyzb9rD0g",
        "colab": {
          "base_uri": "https://localhost:8080/"
        },
        "outputId": "3568c13a-5792-4cfa-f2a7-92105ba2af97"
      },
      "source": [
        "# Lo que antes era \n",
        "print(y_train_old[0,])\n",
        "# Ahora es\n",
        "print(y_train[0,:])"
      ],
      "execution_count": 10,
      "outputs": [
        {
          "output_type": "stream",
          "text": [
            "5\n",
            "[0. 0. 0. 0. 0. 1. 0. 0. 0. 0.]\n"
          ],
          "name": "stdout"
        }
      ]
    },
    {
      "cell_type": "markdown",
      "metadata": {
        "id": "ZglnkqcWuCqV"
      },
      "source": [
        "Definimos el modelo"
      ]
    },
    {
      "cell_type": "code",
      "metadata": {
        "id": "uQHWqWS5nt6y"
      },
      "source": [
        "from keras.models import Sequential\n",
        "from keras.layers import Dense, Conv2D, Flatten, Dropout, BatchNormalization\n",
        "\n",
        "# Usamos un modelo secuencial\n",
        "model = Sequential()\n",
        "\n",
        "# ponemos dos capas de convolución, una flatten y una densa\n",
        "model.add(Conv2D(26, kernel_size=3, activation='relu', input_shape=(28,28,1), padding='valid')) #El número de parámetros aquí es de 260 porque son 26 filtros de 3x3 (kernel_size) + 1 bias = 26*(3*3+1)=260\n",
        "#model.add(Dropout(0.5))\n",
        "model.add(Conv2D(24, kernel_size=3, activation='relu')) #Los filtros de esta seguna capa son de (3x3x26) <- kernel size, porque vienen de la capa anterior con 26 capas. Entonces, análogo al caso anterior, 24*(3x3x26+1)=5640\n",
        "#model.add(BatchNormalization())\n",
        "#model.add(Conv2D(32, kernel_size=7, activation='relu'))\n",
        "model.add(Flatten())\n",
        "model.add(Dense(10, activation='softmax'))"
      ],
      "execution_count": 11,
      "outputs": []
    },
    {
      "cell_type": "code",
      "metadata": {
        "id": "GVLSUIGSuJ4i",
        "colab": {
          "base_uri": "https://localhost:8080/"
        },
        "outputId": "d44cf10a-e5f2-4f3b-c980-7d8377c11b4c"
      },
      "source": [
        "model.summary()"
      ],
      "execution_count": 12,
      "outputs": [
        {
          "output_type": "stream",
          "text": [
            "Model: \"sequential\"\n",
            "_________________________________________________________________\n",
            "Layer (type)                 Output Shape              Param #   \n",
            "=================================================================\n",
            "conv2d (Conv2D)              (None, 26, 26, 26)        260       \n",
            "_________________________________________________________________\n",
            "conv2d_1 (Conv2D)            (None, 24, 24, 24)        5640      \n",
            "_________________________________________________________________\n",
            "flatten (Flatten)            (None, 13824)             0         \n",
            "_________________________________________________________________\n",
            "dense (Dense)                (None, 10)                138250    \n",
            "=================================================================\n",
            "Total params: 144,150\n",
            "Trainable params: 144,150\n",
            "Non-trainable params: 0\n",
            "_________________________________________________________________\n"
          ],
          "name": "stdout"
        }
      ]
    },
    {
      "cell_type": "code",
      "metadata": {
        "id": "ZQM0m-DouJvu"
      },
      "source": [
        ""
      ],
      "execution_count": null,
      "outputs": []
    },
    {
      "cell_type": "markdown",
      "metadata": {
        "id": "t5Ds1LrCuFpd"
      },
      "source": [
        "Se compila el modelo poniendo el optimizador, la funcióón de perdidas y si queremos una métrica"
      ]
    },
    {
      "cell_type": "code",
      "metadata": {
        "id": "Uqup8SlMnwU0"
      },
      "source": [
        "model.compile(optimizer='adam', loss='categorical_crossentropy', metrics=['accuracy'])"
      ],
      "execution_count": null,
      "outputs": []
    },
    {
      "cell_type": "markdown",
      "metadata": {
        "id": "tPlZ_TUCwDhF"
      },
      "source": [
        "Entrenamos..."
      ]
    },
    {
      "cell_type": "code",
      "metadata": {
        "id": "LjNKLB6Tn7gR",
        "colab": {
          "base_uri": "https://localhost:8080/"
        },
        "outputId": "ee381fe1-088c-48fb-a989-c417dde67a18"
      },
      "source": [
        "hist = model.fit(X_train, y_train, validation_data=(X_test, y_test), epochs=50)"
      ],
      "execution_count": null,
      "outputs": [
        {
          "output_type": "stream",
          "text": [
            "Epoch 1/50\n",
            "32/32 [==============================] - 0s 14ms/step - loss: 7.7179 - accuracy: 0.5750 - val_loss: 0.8805 - val_accuracy: 0.7040\n",
            "Epoch 2/50\n",
            "32/32 [==============================] - 0s 6ms/step - loss: 0.2553 - accuracy: 0.9270 - val_loss: 0.5733 - val_accuracy: 0.8320\n",
            "Epoch 3/50\n",
            "32/32 [==============================] - 0s 6ms/step - loss: 0.0584 - accuracy: 0.9830 - val_loss: 0.5742 - val_accuracy: 0.8390\n",
            "Epoch 4/50\n",
            "32/32 [==============================] - 0s 6ms/step - loss: 0.0128 - accuracy: 0.9980 - val_loss: 0.5797 - val_accuracy: 0.8460\n",
            "Epoch 5/50\n",
            "32/32 [==============================] - 0s 6ms/step - loss: 0.0044 - accuracy: 1.0000 - val_loss: 0.5728 - val_accuracy: 0.8470\n",
            "Epoch 6/50\n",
            "32/32 [==============================] - 0s 6ms/step - loss: 0.0023 - accuracy: 1.0000 - val_loss: 0.5832 - val_accuracy: 0.8470\n",
            "Epoch 7/50\n",
            "32/32 [==============================] - 0s 6ms/step - loss: 0.0016 - accuracy: 1.0000 - val_loss: 0.5868 - val_accuracy: 0.8480\n",
            "Epoch 8/50\n",
            "32/32 [==============================] - 0s 6ms/step - loss: 0.0012 - accuracy: 1.0000 - val_loss: 0.5904 - val_accuracy: 0.8520\n",
            "Epoch 9/50\n",
            "32/32 [==============================] - 0s 6ms/step - loss: 9.3750e-04 - accuracy: 1.0000 - val_loss: 0.5944 - val_accuracy: 0.8530\n",
            "Epoch 10/50\n",
            "32/32 [==============================] - 0s 6ms/step - loss: 7.5131e-04 - accuracy: 1.0000 - val_loss: 0.5968 - val_accuracy: 0.8560\n",
            "Epoch 11/50\n",
            "32/32 [==============================] - 0s 6ms/step - loss: 6.2329e-04 - accuracy: 1.0000 - val_loss: 0.5993 - val_accuracy: 0.8570\n",
            "Epoch 12/50\n",
            "32/32 [==============================] - 0s 6ms/step - loss: 5.2473e-04 - accuracy: 1.0000 - val_loss: 0.6025 - val_accuracy: 0.8570\n",
            "Epoch 13/50\n",
            "32/32 [==============================] - 0s 6ms/step - loss: 4.4552e-04 - accuracy: 1.0000 - val_loss: 0.6066 - val_accuracy: 0.8570\n",
            "Epoch 14/50\n",
            "32/32 [==============================] - 0s 6ms/step - loss: 3.8705e-04 - accuracy: 1.0000 - val_loss: 0.6102 - val_accuracy: 0.8560\n",
            "Epoch 15/50\n",
            "32/32 [==============================] - 0s 6ms/step - loss: 3.3811e-04 - accuracy: 1.0000 - val_loss: 0.6114 - val_accuracy: 0.8620\n",
            "Epoch 16/50\n",
            "32/32 [==============================] - 0s 6ms/step - loss: 2.9707e-04 - accuracy: 1.0000 - val_loss: 0.6152 - val_accuracy: 0.8620\n",
            "Epoch 17/50\n",
            "32/32 [==============================] - 0s 6ms/step - loss: 2.6432e-04 - accuracy: 1.0000 - val_loss: 0.6160 - val_accuracy: 0.8630\n",
            "Epoch 18/50\n",
            "32/32 [==============================] - 0s 6ms/step - loss: 2.3683e-04 - accuracy: 1.0000 - val_loss: 0.6190 - val_accuracy: 0.8620\n",
            "Epoch 19/50\n",
            "32/32 [==============================] - 0s 6ms/step - loss: 2.1295e-04 - accuracy: 1.0000 - val_loss: 0.6211 - val_accuracy: 0.8640\n",
            "Epoch 20/50\n",
            "32/32 [==============================] - 0s 6ms/step - loss: 1.9272e-04 - accuracy: 1.0000 - val_loss: 0.6227 - val_accuracy: 0.8660\n",
            "Epoch 21/50\n",
            "32/32 [==============================] - 0s 6ms/step - loss: 1.7444e-04 - accuracy: 1.0000 - val_loss: 0.6246 - val_accuracy: 0.8670\n",
            "Epoch 22/50\n",
            "32/32 [==============================] - 0s 6ms/step - loss: 1.5959e-04 - accuracy: 1.0000 - val_loss: 0.6274 - val_accuracy: 0.8660\n",
            "Epoch 23/50\n",
            "32/32 [==============================] - 0s 6ms/step - loss: 1.4605e-04 - accuracy: 1.0000 - val_loss: 0.6290 - val_accuracy: 0.8680\n",
            "Epoch 24/50\n",
            "32/32 [==============================] - 0s 6ms/step - loss: 1.3437e-04 - accuracy: 1.0000 - val_loss: 0.6309 - val_accuracy: 0.8680\n",
            "Epoch 25/50\n",
            "32/32 [==============================] - 0s 6ms/step - loss: 1.2379e-04 - accuracy: 1.0000 - val_loss: 0.6331 - val_accuracy: 0.8670\n",
            "Epoch 26/50\n",
            "32/32 [==============================] - 0s 6ms/step - loss: 1.1443e-04 - accuracy: 1.0000 - val_loss: 0.6350 - val_accuracy: 0.8660\n",
            "Epoch 27/50\n",
            "32/32 [==============================] - 0s 6ms/step - loss: 1.0626e-04 - accuracy: 1.0000 - val_loss: 0.6369 - val_accuracy: 0.8660\n",
            "Epoch 28/50\n",
            "32/32 [==============================] - 0s 6ms/step - loss: 9.9169e-05 - accuracy: 1.0000 - val_loss: 0.6387 - val_accuracy: 0.8670\n",
            "Epoch 29/50\n",
            "32/32 [==============================] - 0s 6ms/step - loss: 9.2559e-05 - accuracy: 1.0000 - val_loss: 0.6398 - val_accuracy: 0.8670\n",
            "Epoch 30/50\n",
            "32/32 [==============================] - 0s 6ms/step - loss: 8.6261e-05 - accuracy: 1.0000 - val_loss: 0.6415 - val_accuracy: 0.8660\n",
            "Epoch 31/50\n",
            "32/32 [==============================] - 0s 6ms/step - loss: 8.0872e-05 - accuracy: 1.0000 - val_loss: 0.6432 - val_accuracy: 0.8660\n",
            "Epoch 32/50\n",
            "32/32 [==============================] - 0s 6ms/step - loss: 7.5943e-05 - accuracy: 1.0000 - val_loss: 0.6449 - val_accuracy: 0.8670\n",
            "Epoch 33/50\n",
            "32/32 [==============================] - 0s 6ms/step - loss: 7.1391e-05 - accuracy: 1.0000 - val_loss: 0.6463 - val_accuracy: 0.8670\n",
            "Epoch 34/50\n",
            "32/32 [==============================] - 0s 6ms/step - loss: 6.7499e-05 - accuracy: 1.0000 - val_loss: 0.6479 - val_accuracy: 0.8680\n",
            "Epoch 35/50\n",
            "32/32 [==============================] - 0s 6ms/step - loss: 6.3517e-05 - accuracy: 1.0000 - val_loss: 0.6493 - val_accuracy: 0.8670\n",
            "Epoch 36/50\n",
            "32/32 [==============================] - 0s 6ms/step - loss: 6.0037e-05 - accuracy: 1.0000 - val_loss: 0.6504 - val_accuracy: 0.8670\n",
            "Epoch 37/50\n",
            "32/32 [==============================] - 0s 6ms/step - loss: 5.6937e-05 - accuracy: 1.0000 - val_loss: 0.6519 - val_accuracy: 0.8670\n",
            "Epoch 38/50\n",
            "32/32 [==============================] - 0s 6ms/step - loss: 5.3968e-05 - accuracy: 1.0000 - val_loss: 0.6531 - val_accuracy: 0.8670\n",
            "Epoch 39/50\n",
            "32/32 [==============================] - 0s 6ms/step - loss: 5.1174e-05 - accuracy: 1.0000 - val_loss: 0.6545 - val_accuracy: 0.8670\n",
            "Epoch 40/50\n",
            "32/32 [==============================] - 0s 6ms/step - loss: 4.8662e-05 - accuracy: 1.0000 - val_loss: 0.6556 - val_accuracy: 0.8680\n",
            "Epoch 41/50\n",
            "32/32 [==============================] - 0s 6ms/step - loss: 4.6276e-05 - accuracy: 1.0000 - val_loss: 0.6572 - val_accuracy: 0.8680\n",
            "Epoch 42/50\n",
            "32/32 [==============================] - 0s 6ms/step - loss: 4.4098e-05 - accuracy: 1.0000 - val_loss: 0.6584 - val_accuracy: 0.8680\n",
            "Epoch 43/50\n",
            "32/32 [==============================] - 0s 6ms/step - loss: 4.1989e-05 - accuracy: 1.0000 - val_loss: 0.6595 - val_accuracy: 0.8680\n",
            "Epoch 44/50\n",
            "32/32 [==============================] - 0s 6ms/step - loss: 4.0139e-05 - accuracy: 1.0000 - val_loss: 0.6605 - val_accuracy: 0.8680\n",
            "Epoch 45/50\n",
            "32/32 [==============================] - 0s 6ms/step - loss: 3.8248e-05 - accuracy: 1.0000 - val_loss: 0.6613 - val_accuracy: 0.8680\n",
            "Epoch 46/50\n",
            "32/32 [==============================] - 0s 6ms/step - loss: 3.6636e-05 - accuracy: 1.0000 - val_loss: 0.6629 - val_accuracy: 0.8680\n",
            "Epoch 47/50\n",
            "32/32 [==============================] - 0s 6ms/step - loss: 3.5077e-05 - accuracy: 1.0000 - val_loss: 0.6636 - val_accuracy: 0.8680\n",
            "Epoch 48/50\n",
            "32/32 [==============================] - 0s 6ms/step - loss: 3.3636e-05 - accuracy: 1.0000 - val_loss: 0.6650 - val_accuracy: 0.8670\n",
            "Epoch 49/50\n",
            "32/32 [==============================] - 0s 6ms/step - loss: 3.2217e-05 - accuracy: 1.0000 - val_loss: 0.6662 - val_accuracy: 0.8670\n",
            "Epoch 50/50\n",
            "32/32 [==============================] - 0s 6ms/step - loss: 3.0890e-05 - accuracy: 1.0000 - val_loss: 0.6666 - val_accuracy: 0.8670\n"
          ],
          "name": "stdout"
        }
      ]
    },
    {
      "cell_type": "markdown",
      "metadata": {
        "id": "Okm9j6NCwHsp"
      },
      "source": [
        "Evaluamos en test"
      ]
    },
    {
      "cell_type": "code",
      "metadata": {
        "id": "194RRmusoEC7",
        "colab": {
          "base_uri": "https://localhost:8080/"
        },
        "outputId": "bebb26d0-4413-4fd2-adbf-eb67605c3b8c"
      },
      "source": [
        "score = model.evaluate(X_test,y_test)\n",
        "score"
      ],
      "execution_count": null,
      "outputs": [
        {
          "output_type": "stream",
          "text": [
            "32/32 [==============================] - 0s 2ms/step - loss: 0.6666 - accuracy: 0.8670\n"
          ],
          "name": "stdout"
        },
        {
          "output_type": "execute_result",
          "data": {
            "text/plain": [
              "[0.6666029095649719, 0.8669999837875366]"
            ]
          },
          "metadata": {
            "tags": []
          },
          "execution_count": 15
        }
      ]
    },
    {
      "cell_type": "code",
      "metadata": {
        "id": "1DEu-6oToKYo"
      },
      "source": [
        ""
      ],
      "execution_count": null,
      "outputs": []
    },
    {
      "cell_type": "markdown",
      "metadata": {
        "id": "MNeYOiOEwL5b"
      },
      "source": [
        "Ploteamos la evolución"
      ]
    },
    {
      "cell_type": "code",
      "metadata": {
        "id": "u2arW_sOqI3c",
        "colab": {
          "base_uri": "https://localhost:8080/",
          "height": 284
        },
        "outputId": "913f28d2-a79c-4c55-f45a-bc21849fedef"
      },
      "source": [
        "import matplotlib.pyplot as plt\n",
        "%matplotlib inline\n",
        "plt.figure\n",
        "plt.plot(hist.history['loss'],label='train')\n",
        "plt.plot(hist.history['val_loss'],'r',label='validation')\n",
        "plt.legend()\n"
      ],
      "execution_count": null,
      "outputs": [
        {
          "output_type": "execute_result",
          "data": {
            "text/plain": [
              "<matplotlib.legend.Legend at 0x7f227c7800b8>"
            ]
          },
          "metadata": {
            "tags": []
          },
          "execution_count": 16
        },
        {
          "output_type": "display_data",
          "data": {
            "image/png": "[encoded data removed]",
            "text/plain": [
              "<Figure size 432x288 with 1 Axes>"
            ]
          },
          "metadata": {
            "tags": [],
            "needs_background": "light"
          }
        }
      ]
    },
    {
      "cell_type": "code",
      "metadata": {
        "id": "7mN0MrhorXQu",
        "colab": {
          "base_uri": "https://localhost:8080/",
          "height": 282
        },
        "outputId": "1fdf82bb-bf5a-45bd-f84c-f1cf5aa998c4"
      },
      "source": [
        "# Evolucion en accuracy\n",
        "\n",
        "import matplotlib.pyplot as plt\n",
        "%matplotlib inline\n",
        "plt.figure\n",
        "plt.plot(hist.history['accuracy'],label='train')\n",
        "plt.plot(hist.history['val_accuracy'],'r',label='validation')\n",
        "plt.legend()\n"
      ],
      "execution_count": null,
      "outputs": [
        {
          "output_type": "execute_result",
          "data": {
            "text/plain": [
              "<matplotlib.legend.Legend at 0x7f227c772a58>"
            ]
          },
          "metadata": {
            "tags": []
          },
          "execution_count": 17
        },
        {
          "output_type": "display_data",
          "data": {
            "image/png": "[encoded data removed]",
            "text/plain": [
              "<Figure size 432x288 with 1 Axes>"
            ]
          },
          "metadata": {
            "tags": [],
            "needs_background": "light"
          }
        }
      ]
    },
    {
      "cell_type": "markdown",
      "metadata": {
        "id": "Oz8ttLJoqj-3"
      },
      "source": [
        "# Aplicamos en test"
      ]
    },
    {
      "cell_type": "code",
      "metadata": {
        "id": "PHbEJOmaqmf-"
      },
      "source": [
        "# Predecimos en test\n",
        "preds_test = model.predict(X_test)"
      ],
      "execution_count": null,
      "outputs": []
    },
    {
      "cell_type": "code",
      "metadata": {
        "id": "Y5Vv9euGqZVv",
        "colab": {
          "base_uri": "https://localhost:8080/",
          "height": 302
        },
        "outputId": "64b8d8d0-0fc4-4d94-b21d-4c31d5feec81"
      },
      "source": [
        "import numpy as np\n",
        "# Elegimos una imagen de test\n",
        "idx_mostrar = 90\n",
        "# Mostramos la imagen\n",
        "plt.imshow(np.squeeze(X_test[idx_mostrar,:,:,]),cmap=\"gray\")\n",
        "# Mostramos las probabilidades que da el modelo a cada clase\n",
        "print([\"p(y=%d|x) = %.4f\"%(i,p) for i,p in enumerate(preds_test[idx_mostrar])])"
      ],
      "execution_count": null,
      "outputs": [
        {
          "output_type": "stream",
          "text": [
            "['p(y=0|x) = 0.0000', 'p(y=1|x) = 0.0000', 'p(y=2|x) = 0.0000', 'p(y=3|x) = 0.9997', 'p(y=4|x) = 0.0000', 'p(y=5|x) = 0.0000', 'p(y=6|x) = 0.0000', 'p(y=7|x) = 0.0000', 'p(y=8|x) = 0.0003', 'p(y=9|x) = 0.0000']\n"
          ],
          "name": "stdout"
        },
        {
          "output_type": "display_data",
          "data": {
            "image/png": "[encoded data removed]",
            "text/plain": [
              "<Figure size 432x288 with 1 Axes>"
            ]
          },
          "metadata": {
            "tags": [],
            "needs_background": "light"
          }
        }
      ]
    },
    {
      "cell_type": "code",
      "metadata": {
        "id": "hWtas-PJr4pQ"
      },
      "source": [
        ""
      ],
      "execution_count": null,
      "outputs": []
    }
  ]
}