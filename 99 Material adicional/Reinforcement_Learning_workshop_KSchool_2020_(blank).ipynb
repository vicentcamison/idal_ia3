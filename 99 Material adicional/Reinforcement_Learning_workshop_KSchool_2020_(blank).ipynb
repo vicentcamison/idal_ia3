{
  "nbformat": 4,
  "nbformat_minor": 0,
  "metadata": {
    "kernelspec": {
      "display_name": "Python 3",
      "language": "python",
      "name": "python3"
    },
    "language_info": {
      "codemirror_mode": {
        "name": "ipython",
        "version": 3
      },
      "file_extension": ".py",
      "mimetype": "text/x-python",
      "name": "python",
      "nbconvert_exporter": "python",
      "pygments_lexer": "ipython3",
      "version": "3.6.6"
    },
    "colab": {
      "name": "Copia de Reinforcement Learning workshop KSchool 2020 (blank)",
      "provenance": [],
      "collapsed_sections": [
        "xa4D9TbL3g6W"
      ],
      "toc_visible": true,
      "include_colab_link": true
    },
    "accelerator": "GPU"
  },
  "cells": [
    {
      "cell_type": "markdown",
      "metadata": {
        "id": "view-in-github",
        "colab_type": "text"
      },
      "source": [
        "<a href=\"https://colab.research.google.com/github/vicentcamison/idal_ia3/blob/main/Reinforcement_Learning_workshop_KSchool_2020_(blank).ipynb\" target=\"_parent\"><img src=\"https://colab.research.google.com/assets/colab-badge.svg\" alt=\"Open In Colab\"/></a>"
      ]
    },
    {
      "cell_type": "markdown",
      "metadata": {
        "id": "lCsvJGRx3gu3"
      },
      "source": [
        "# Deep Reinforcement Learning using AlphaZero methodology\n"
      ]
    },
    {
      "cell_type": "markdown",
      "metadata": {
        "id": "STrSJDZx3ysv"
      },
      "source": [
        "Taller Deep Learning KSchool 2020<br/>\n",
        "https://kschool.com/taller-deep-learning/\n",
        "\n",
        "\n",
        "Adapted from https://medium.com/applied-data-science/how-to-build-your-own-alphazero-ai-using-python-and-keras-7f664945c188"
      ]
    },
    {
      "cell_type": "markdown",
      "metadata": {
        "id": "AZe6p_o631TZ"
      },
      "source": [
        "**About me**\n",
        "\n",
        "Israel Herraiz, Strategic Cloud Engineer at Google\n",
        "* http://github.com/iht/\n",
        "* [@herraiz](http://twitter.com/herraiz) on Twitter\n",
        "* [Google Scholar profile](http://bit.ly/isra-scholar)"
      ]
    },
    {
      "cell_type": "markdown",
      "metadata": {
        "id": "ZpMluVSLUKkh"
      },
      "source": [
        "**Please make a copy of this notebook to run it your self**.\n",
        "\n",
        "**GPU alert**: Remember to make sure that your runtime includes a GPU (menu Runtime -> Change runtime type)"
      ]
    },
    {
      "cell_type": "markdown",
      "metadata": {
        "id": "-kZfSp0NUZGf"
      },
      "source": [
        "## Download code from Github and prepare environment"
      ]
    },
    {
      "cell_type": "code",
      "metadata": {
        "id": "apb1bHayTG_S",
        "outputId": "af865cdf-03e4-4209-89a2-183c6336472a",
        "colab": {
          "base_uri": "https://localhost:8080/"
        }
      },
      "source": [
        "!rm -rf DeepReinforcementLearning\n",
        "!git clone https://github.com/iht/DeepReinforcementLearning.git\n",
        "!cd DeepReinforcementLearning && git checkout pydata\n",
        "!cp DeepReinforcementLearning/*.py .\n",
        "!cp -r DeepReinforcementLearning/run ."
      ],
      "execution_count": null,
      "outputs": [
        {
          "output_type": "stream",
          "text": [
            "Cloning into 'DeepReinforcementLearning'...\n",
            "remote: Enumerating objects: 261, done.\u001b[K\n",
            "Receiving objects:   0% (1/261)   \rReceiving objects:   1% (3/261)   \rReceiving objects:   2% (6/261)   \rReceiving objects:   3% (8/261)   \rReceiving objects:   4% (11/261)   \rReceiving objects:   5% (14/261)   \rReceiving objects:   6% (16/261)   \rReceiving objects:   7% (19/261)   \rReceiving objects:   8% (21/261)   \rReceiving objects:   9% (24/261)   \rReceiving objects:  10% (27/261)   \rReceiving objects:  11% (29/261)   \rReceiving objects:  12% (32/261)   \rReceiving objects:  13% (34/261)   \rReceiving objects:  14% (37/261)   \rReceiving objects:  15% (40/261)   \rReceiving objects:  16% (42/261)   \rReceiving objects:  17% (45/261)   \rReceiving objects:  18% (47/261)   \rReceiving objects:  19% (50/261)   \rReceiving objects:  20% (53/261)   \rReceiving objects:  21% (55/261)   \rReceiving objects:  22% (58/261)   \rReceiving objects:  23% (61/261)   \rReceiving objects:  24% (63/261)   \rReceiving objects:  25% (66/261)   \rReceiving objects:  26% (68/261)   \rReceiving objects:  27% (71/261)   \rReceiving objects:  28% (74/261)   \rReceiving objects:  29% (76/261)   \rReceiving objects:  30% (79/261)   \rReceiving objects:  31% (81/261)   \rReceiving objects:  32% (84/261)   \rReceiving objects:  33% (87/261)   \rReceiving objects:  34% (89/261)   \rReceiving objects:  35% (92/261)   \rReceiving objects:  36% (94/261)   \rReceiving objects:  37% (97/261)   \rReceiving objects:  38% (100/261)   \rReceiving objects:  39% (102/261)   \rReceiving objects:  40% (105/261)   \rReceiving objects:  41% (108/261)   \rReceiving objects:  42% (110/261)   \rReceiving objects:  43% (113/261)   \rReceiving objects:  44% (115/261)   \rReceiving objects:  45% (118/261)   \rReceiving objects:  46% (121/261)   \rReceiving objects:  47% (123/261)   \rReceiving objects:  48% (126/261)   \rReceiving objects:  49% (128/261)   \rReceiving objects:  50% (131/261)   \rReceiving objects:  51% (134/261)   \rReceiving objects:  52% (136/261)   \rReceiving objects:  53% (139/261)   \rReceiving objects:  54% (141/261)   \rReceiving objects:  55% (144/261)   \rReceiving objects:  56% (147/261)   \rReceiving objects:  57% (149/261)   \rReceiving objects:  58% (152/261)   \rReceiving objects:  59% (154/261)   \rReceiving objects:  60% (157/261)   \rReceiving objects:  61% (160/261)   \rReceiving objects:  62% (162/261)   \rReceiving objects:  63% (165/261)   \rReceiving objects:  64% (168/261)   \rReceiving objects:  65% (170/261)   \rReceiving objects:  66% (173/261)   \rReceiving objects:  67% (175/261)   \rReceiving objects:  68% (178/261)   \rReceiving objects:  69% (181/261)   \rReceiving objects:  70% (183/261)   \rReceiving objects:  71% (186/261)   \rReceiving objects:  72% (188/261)   \rReceiving objects:  73% (191/261)   \rReceiving objects:  74% (194/261)   \rReceiving objects:  75% (196/261)   \rReceiving objects:  76% (199/261)   \rReceiving objects:  77% (201/261)   \rReceiving objects:  78% (204/261)   \rReceiving objects:  79% (207/261)   \rReceiving objects:  80% (209/261)   \rReceiving objects:  81% (212/261)   \rReceiving objects:  82% (215/261)   \rReceiving objects:  83% (217/261)   \rReceiving objects:  84% (220/261)   \rReceiving objects:  85% (222/261)   \rReceiving objects:  86% (225/261)   \rReceiving objects:  87% (228/261)   \rReceiving objects:  88% (230/261)   \rReceiving objects:  89% (233/261)   \rReceiving objects:  90% (235/261)   \rReceiving objects:  91% (238/261)   \rReceiving objects:  92% (241/261)   \rremote: Total 261 (delta 0), reused 0 (delta 0), pack-reused 261\u001b[K\n",
            "Receiving objects: 100% (261/261), 2.91 MiB | 28.95 MiB/s, done.\n",
            "Resolving deltas: 100% (137/137), done.\n",
            "Branch 'pydata' set up to track remote branch 'pydata' from 'origin'.\n",
            "Switched to a new branch 'pydata'\n"
          ],
          "name": "stdout"
        }
      ]
    },
    {
      "cell_type": "code",
      "metadata": {
        "id": "YKapGlBRyyWf",
        "outputId": "673af1ef-bddf-40f1-8e68-f62abb9d18fd",
        "colab": {
          "base_uri": "https://localhost:8080/"
        }
      },
      "source": [
        "%pylab inline\n",
        "%tensorflow_version 2.x"
      ],
      "execution_count": null,
      "outputs": [
        {
          "output_type": "stream",
          "text": [
            "Populating the interactive namespace from numpy and matplotlib\n"
          ],
          "name": "stdout"
        }
      ]
    },
    {
      "cell_type": "markdown",
      "metadata": {
        "id": "_6ork7G73gvD"
      },
      "source": [
        "Game will control all the mechanisms to play a game, and agent will emulate a player:"
      ]
    },
    {
      "cell_type": "code",
      "metadata": {
        "id": "FbUJ9ps7ba3f"
      },
      "source": [
        "from game import Game\n",
        "from agent import Agent"
      ],
      "execution_count": null,
      "outputs": []
    },
    {
      "cell_type": "code",
      "metadata": {
        "id": "p8hyBgCj3gvF"
      },
      "source": [
        "game = Game()"
      ],
      "execution_count": null,
      "outputs": []
    },
    {
      "cell_type": "markdown",
      "metadata": {
        "id": "tqqMBsWA3gvI"
      },
      "source": [
        "To be able to display the board, we need to create a logger. Here we just print the board to the standard output, to get a graps of the current situation"
      ]
    },
    {
      "cell_type": "code",
      "metadata": {
        "id": "MqCopInw3gvK"
      },
      "source": [
        "class mylogger:\n",
        "    def __init__():\n",
        "        pass\n",
        "    def info(log):\n",
        "        # log is a list of chars resembling the board\n",
        "        print(str(log) + \"\\n\")"
      ],
      "execution_count": null,
      "outputs": []
    },
    {
      "cell_type": "markdown",
      "metadata": {
        "id": "2qqqRHIF3gvO"
      },
      "source": [
        "## Playing a first game by hand"
      ]
    },
    {
      "cell_type": "code",
      "metadata": {
        "id": "X7cLQpBG3gvP",
        "outputId": "850c1efe-6601-45f9-fa4b-01d66f9e2569",
        "colab": {
          "base_uri": "https://localhost:8080/"
        }
      },
      "source": [
        "# Let's play a game by hand\n",
        "game.gameState.render(mylogger)"
      ],
      "execution_count": null,
      "outputs": [
        {
          "output_type": "stream",
          "text": [
            "['-', '-', '-', '-', '-', '-', '-']\n",
            "\n",
            "['-', '-', '-', '-', '-', '-', '-']\n",
            "\n",
            "['-', '-', '-', '-', '-', '-', '-']\n",
            "\n",
            "['-', '-', '-', '-', '-', '-', '-']\n",
            "\n",
            "['-', '-', '-', '-', '-', '-', '-']\n",
            "\n",
            "['-', '-', '-', '-', '-', '-', '-']\n",
            "\n",
            "--------------\n",
            "\n"
          ],
          "name": "stdout"
        }
      ]
    },
    {
      "cell_type": "markdown",
      "metadata": {
        "id": "FNT_sy683gvT"
      },
      "source": [
        "What can we do in the game?"
      ]
    },
    {
      "cell_type": "code",
      "metadata": {
        "id": "r2yPm7ns3gvU",
        "outputId": "8f836889-164b-47cb-f2b7-9a0a2ef48ea5",
        "colab": {
          "base_uri": "https://localhost:8080/"
        }
      },
      "source": [
        "game.gameState.allowedActions"
      ],
      "execution_count": null,
      "outputs": [
        {
          "output_type": "execute_result",
          "data": {
            "text/plain": [
              "[35, 36, 37, 38, 39, 40, 41]"
            ]
          },
          "metadata": {
            "tags": []
          },
          "execution_count": 12
        }
      ]
    },
    {
      "cell_type": "code",
      "metadata": {
        "id": "M731JT90b2RX",
        "outputId": "00295b47-f7b4-4270-9aaa-6c17a0b3fb32",
        "colab": {
          "base_uri": "https://localhost:8080/"
        }
      },
      "source": [
        "game.step(36)"
      ],
      "execution_count": null,
      "outputs": [
        {
          "output_type": "execute_result",
          "data": {
            "text/plain": [
              "(<game.GameState at 0x7fede8938710>, 0, 0, None)"
            ]
          },
          "metadata": {
            "tags": []
          },
          "execution_count": 13
        }
      ]
    },
    {
      "cell_type": "markdown",
      "metadata": {
        "id": "r1iWWBVw3gvX"
      },
      "source": [
        "This is what the board looks like:"
      ]
    },
    {
      "cell_type": "code",
      "metadata": {
        "id": "ws1qnxoA3gvY",
        "outputId": "4a0d4a6c-ca63-4592-9c53-261bccf3abe1",
        "colab": {
          "base_uri": "https://localhost:8080/"
        }
      },
      "source": [
        "game.gameState.render(mylogger)"
      ],
      "execution_count": null,
      "outputs": [
        {
          "output_type": "stream",
          "text": [
            "['-', '-', '-', '-', '-', '-', '-']\n",
            "\n",
            "['-', '-', '-', '-', '-', '-', '-']\n",
            "\n",
            "['-', '-', '-', '-', '-', '-', '-']\n",
            "\n",
            "['-', '-', '-', '-', '-', '-', '-']\n",
            "\n",
            "['-', '-', '-', '-', '-', '-', '-']\n",
            "\n",
            "['-', 'X', '-', '-', '-', '-', '-']\n",
            "\n",
            "--------------\n",
            "\n"
          ],
          "name": "stdout"
        }
      ]
    },
    {
      "cell_type": "markdown",
      "metadata": {
        "id": "XdaBYSsV3gvc"
      },
      "source": [
        "So when we introduce a token by the top, it will fall to the bottom. At the bottom, we have the positions 35 to 41, so those are the only actions we can do now.\n",
        "\n",
        "For instance, let's put a token right in the middle, it will fall to the middle position at the bottom, that's position 38"
      ]
    },
    {
      "cell_type": "code",
      "metadata": {
        "id": "HJchimzQ3gvd",
        "outputId": "5656715d-2550-40e7-81cd-f4768aa063f6",
        "colab": {
          "base_uri": "https://localhost:8080/"
        }
      },
      "source": [
        "game.gameState.allowedActions"
      ],
      "execution_count": null,
      "outputs": [
        {
          "output_type": "execute_result",
          "data": {
            "text/plain": [
              "[29, 35, 37, 38, 39, 40, 41]"
            ]
          },
          "metadata": {
            "tags": []
          },
          "execution_count": 15
        }
      ]
    },
    {
      "cell_type": "code",
      "metadata": {
        "id": "1jeka9decCB7",
        "outputId": "f13a1bee-19c1-4bef-ea3a-6032c0cc5b3a",
        "colab": {
          "base_uri": "https://localhost:8080/"
        }
      },
      "source": [
        "game.step(29)"
      ],
      "execution_count": null,
      "outputs": [
        {
          "output_type": "execute_result",
          "data": {
            "text/plain": [
              "(<game.GameState at 0x7feddc7792b0>, 0, 0, None)"
            ]
          },
          "metadata": {
            "tags": []
          },
          "execution_count": 16
        }
      ]
    },
    {
      "cell_type": "code",
      "metadata": {
        "id": "bwi4zaBicDTV",
        "outputId": "d9a55069-8ce9-4fff-8129-e3ec9495eb9b",
        "colab": {
          "base_uri": "https://localhost:8080/"
        }
      },
      "source": [
        "game.gameState.render(mylogger)"
      ],
      "execution_count": null,
      "outputs": [
        {
          "output_type": "stream",
          "text": [
            "['-', '-', '-', '-', '-', '-', '-']\n",
            "\n",
            "['-', '-', '-', '-', '-', '-', '-']\n",
            "\n",
            "['-', '-', '-', '-', '-', '-', '-']\n",
            "\n",
            "['-', '-', '-', '-', '-', '-', '-']\n",
            "\n",
            "['-', 'O', '-', '-', '-', '-', '-']\n",
            "\n",
            "['-', 'X', '-', '-', '-', '-', '-']\n",
            "\n",
            "--------------\n",
            "\n"
          ],
          "name": "stdout"
        }
      ]
    },
    {
      "cell_type": "markdown",
      "metadata": {
        "id": "874bENPe3gvi"
      },
      "source": [
        "There are two players in this game, 1 and -1. The first player was 1, so the current player should be -1:"
      ]
    },
    {
      "cell_type": "code",
      "metadata": {
        "id": "PfhpCjYN3gvj",
        "outputId": "f83cca70-4099-4478-e68d-4ccdb46232fc",
        "colab": {
          "base_uri": "https://localhost:8080/"
        }
      },
      "source": [
        "game.currentPlayer"
      ],
      "execution_count": null,
      "outputs": [
        {
          "output_type": "execute_result",
          "data": {
            "text/plain": [
              "1"
            ]
          },
          "metadata": {
            "tags": []
          },
          "execution_count": 18
        }
      ]
    },
    {
      "cell_type": "markdown",
      "metadata": {
        "id": "w4sCUi3W3gvq"
      },
      "source": [
        "Let's now see what this player can do:\n"
      ]
    },
    {
      "cell_type": "code",
      "metadata": {
        "id": "CXEsyN3t3gvr",
        "outputId": "07f9b001-0bae-4ed2-c2a6-61794326b256",
        "colab": {
          "base_uri": "https://localhost:8080/"
        }
      },
      "source": [
        "game.gameState.allowedActions"
      ],
      "execution_count": null,
      "outputs": [
        {
          "output_type": "execute_result",
          "data": {
            "text/plain": [
              "[22, 35, 37, 38, 39, 40, 41]"
            ]
          },
          "metadata": {
            "tags": []
          },
          "execution_count": 19
        }
      ]
    },
    {
      "cell_type": "markdown",
      "metadata": {
        "id": "w0cNCExR3gwJ"
      },
      "source": [
        "Because position 38 is taken, now the player -1 could put a token on top of it, that's it, position 31. Let's check it out:"
      ]
    },
    {
      "cell_type": "code",
      "metadata": {
        "id": "XvuE48As3gwW",
        "outputId": "2bef5731-4eea-4b43-cab2-12817e36c700",
        "colab": {
          "base_uri": "https://localhost:8080/"
        }
      },
      "source": [
        "game.step(35)"
      ],
      "execution_count": null,
      "outputs": [
        {
          "output_type": "execute_result",
          "data": {
            "text/plain": [
              "(<game.GameState at 0x7fedd924df60>, 0, 0, None)"
            ]
          },
          "metadata": {
            "tags": []
          },
          "execution_count": 20
        }
      ]
    },
    {
      "cell_type": "markdown",
      "metadata": {
        "id": "J81wuSkH3gwZ"
      },
      "source": [
        "Who's the next player?"
      ]
    },
    {
      "cell_type": "code",
      "metadata": {
        "id": "AeQsKblB3gw0",
        "outputId": "0f5aa0bf-a6c7-422f-9172-dd2073ba651c",
        "colab": {
          "base_uri": "https://localhost:8080/"
        }
      },
      "source": [
        "game.currentPlayer"
      ],
      "execution_count": null,
      "outputs": [
        {
          "output_type": "execute_result",
          "data": {
            "text/plain": [
              "-1"
            ]
          },
          "metadata": {
            "tags": []
          },
          "execution_count": 21
        }
      ]
    },
    {
      "cell_type": "markdown",
      "metadata": {
        "id": "3EOegBSJ3gxU"
      },
      "source": [
        "How is the game going?"
      ]
    },
    {
      "cell_type": "code",
      "metadata": {
        "id": "3KnehkLn3gxa",
        "outputId": "6452b33a-0c47-4e2d-d60e-365ddea8fa2b",
        "colab": {
          "base_uri": "https://localhost:8080/"
        }
      },
      "source": [
        "game.gameState.render(mylogger)"
      ],
      "execution_count": null,
      "outputs": [
        {
          "output_type": "stream",
          "text": [
            "['-', '-', '-', '-', '-', '-', '-']\n",
            "\n",
            "['-', '-', '-', '-', '-', '-', '-']\n",
            "\n",
            "['-', '-', '-', '-', '-', '-', '-']\n",
            "\n",
            "['-', '-', '-', '-', '-', '-', '-']\n",
            "\n",
            "['-', 'O', '-', '-', '-', '-', '-']\n",
            "\n",
            "['X', 'X', '-', '-', '-', '-', '-']\n",
            "\n",
            "--------------\n",
            "\n"
          ],
          "name": "stdout"
        }
      ]
    },
    {
      "cell_type": "code",
      "metadata": {
        "id": "8lpTyHyMcWTc",
        "outputId": "80459cb6-aef1-410d-da7d-c484cb8ff890",
        "colab": {
          "base_uri": "https://localhost:8080/"
        }
      },
      "source": [
        "game.gameState.score"
      ],
      "execution_count": null,
      "outputs": [
        {
          "output_type": "execute_result",
          "data": {
            "text/plain": [
              "(0, 0)"
            ]
          },
          "metadata": {
            "tags": []
          },
          "execution_count": 23
        }
      ]
    },
    {
      "cell_type": "markdown",
      "metadata": {
        "id": "jWHsq_Ka3gx0"
      },
      "source": [
        "This is the count of games won by each one of the players. Let's make player -1 win the game"
      ]
    },
    {
      "cell_type": "code",
      "metadata": {
        "id": "tPW4UMws3gx1"
      },
      "source": [
        ""
      ],
      "execution_count": null,
      "outputs": []
    },
    {
      "cell_type": "code",
      "metadata": {
        "id": "anv8JRhW3gyb"
      },
      "source": [
        ""
      ],
      "execution_count": null,
      "outputs": []
    },
    {
      "cell_type": "code",
      "metadata": {
        "id": "DbLFlN4B3gyu"
      },
      "source": [
        ""
      ],
      "execution_count": null,
      "outputs": []
    },
    {
      "cell_type": "code",
      "metadata": {
        "id": "Vp_99H4B3gzH"
      },
      "source": [
        ""
      ],
      "execution_count": null,
      "outputs": []
    },
    {
      "cell_type": "markdown",
      "metadata": {
        "id": "oAum3Kf-3gzQ"
      },
      "source": [
        "The second element of the tuple is the value. The value 0 means that nothing has happened yet."
      ]
    },
    {
      "cell_type": "code",
      "metadata": {
        "id": "ulheDxVd3gzc",
        "outputId": "1e82ab16-a2bf-4aa4-f428-74697116d358",
        "colab": {
          "base_uri": "https://localhost:8080/"
        }
      },
      "source": [
        "game.gameState.score[0]*game.currentPlayer"
      ],
      "execution_count": null,
      "outputs": [
        {
          "output_type": "execute_result",
          "data": {
            "text/plain": [
              "0"
            ]
          },
          "metadata": {
            "tags": []
          },
          "execution_count": 24
        }
      ]
    },
    {
      "cell_type": "markdown",
      "metadata": {
        "id": "5IH5PH3E3g0Z"
      },
      "source": [
        "If player 1 moves to position 37, then player 1 will win. But player 1 is dumb, so the next moves are:"
      ]
    },
    {
      "cell_type": "code",
      "metadata": {
        "id": "hEYFNL_73g0c"
      },
      "source": [
        ""
      ],
      "execution_count": null,
      "outputs": []
    },
    {
      "cell_type": "code",
      "metadata": {
        "id": "1wMogyph3g09"
      },
      "source": [
        ""
      ],
      "execution_count": null,
      "outputs": []
    },
    {
      "cell_type": "code",
      "metadata": {
        "id": "RqTFK9If3g1O"
      },
      "source": [
        ""
      ],
      "execution_count": null,
      "outputs": []
    },
    {
      "cell_type": "markdown",
      "metadata": {
        "id": "CvJ0o_sZ3g1U"
      },
      "source": [
        "To see the score of the game, we have to check who is the current player:"
      ]
    },
    {
      "cell_type": "code",
      "metadata": {
        "id": "zi4RFfc03g1V"
      },
      "source": [
        ""
      ],
      "execution_count": null,
      "outputs": []
    },
    {
      "cell_type": "markdown",
      "metadata": {
        "id": "IHgRLUWV3g1e"
      },
      "source": [
        "And then get the first value of these tuple. The winner of the game is the multiplication of both values:"
      ]
    },
    {
      "cell_type": "code",
      "metadata": {
        "id": "8NB7tLPN3g1f"
      },
      "source": [
        ""
      ],
      "execution_count": null,
      "outputs": []
    },
    {
      "cell_type": "code",
      "metadata": {
        "id": "gtyPKNZo3g1h"
      },
      "source": [
        ""
      ],
      "execution_count": null,
      "outputs": []
    },
    {
      "cell_type": "markdown",
      "metadata": {
        "id": "-zHe4hTL3g1k"
      },
      "source": [
        "Let's keep playing. We need to clear the board to keep playing, because the game goal is to be the first to make a 4-connect. Once that's done, newer 4-connect will not contribute towards the score:"
      ]
    },
    {
      "cell_type": "code",
      "metadata": {
        "id": "Kc3BdOa73g1l",
        "outputId": "e89f9354-5248-4382-de05-18cf3b5ec376",
        "colab": {
          "base_uri": "https://localhost:8080/"
        }
      },
      "source": [
        "game.reset()"
      ],
      "execution_count": null,
      "outputs": [
        {
          "output_type": "execute_result",
          "data": {
            "text/plain": [
              "<game.GameState at 0x7feda5c0db38>"
            ]
          },
          "metadata": {
            "tags": []
          },
          "execution_count": 33
        }
      ]
    },
    {
      "cell_type": "code",
      "metadata": {
        "id": "S9cSLkKl3g1s",
        "outputId": "b43ff4db-a79a-4b1e-9b42-397fe17c449b",
        "colab": {
          "base_uri": "https://localhost:8080/"
        }
      },
      "source": [
        "game.step(38)\n",
        "game.step(31)\n",
        "game.step(35)\n",
        "game.step(24)\n",
        "game.step(36)\n",
        "game.step(17)"
      ],
      "execution_count": null,
      "outputs": [
        {
          "output_type": "execute_result",
          "data": {
            "text/plain": [
              "(<game.GameState at 0x7fed9e9f72e8>, 0, 0, None)"
            ]
          },
          "metadata": {
            "tags": []
          },
          "execution_count": 34
        }
      ]
    },
    {
      "cell_type": "code",
      "metadata": {
        "id": "mqKCpPGO3g1w",
        "outputId": "c8ce33f3-8705-45eb-8254-4fe266f5be73",
        "colab": {
          "base_uri": "https://localhost:8080/"
        }
      },
      "source": [
        "game.gameState.render(mylogger)"
      ],
      "execution_count": null,
      "outputs": [
        {
          "output_type": "stream",
          "text": [
            "['-', '-', '-', '-', '-', '-', '-']\n",
            "\n",
            "['-', '-', '-', '-', '-', '-', '-']\n",
            "\n",
            "['-', '-', '-', 'O', '-', '-', '-']\n",
            "\n",
            "['-', '-', '-', 'O', '-', '-', '-']\n",
            "\n",
            "['-', '-', '-', 'O', '-', '-', '-']\n",
            "\n",
            "['X', 'X', '-', 'X', '-', '-', '-']\n",
            "\n",
            "--------------\n",
            "\n"
          ],
          "name": "stdout"
        }
      ]
    },
    {
      "cell_type": "markdown",
      "metadata": {
        "id": "chw3Bje53g11"
      },
      "source": [
        "Now player 1 has learnt, and will do the right thing:"
      ]
    },
    {
      "cell_type": "code",
      "metadata": {
        "id": "1eTmW9QO3g12",
        "outputId": "7abd2b9a-a9f2-4380-ee15-afd55ef74939",
        "colab": {
          "base_uri": "https://localhost:8080/"
        }
      },
      "source": [
        "game.currentPlayer"
      ],
      "execution_count": null,
      "outputs": [
        {
          "output_type": "execute_result",
          "data": {
            "text/plain": [
              "1"
            ]
          },
          "metadata": {
            "tags": []
          },
          "execution_count": 36
        }
      ]
    },
    {
      "cell_type": "code",
      "metadata": {
        "id": "S0AVUkVS3g2D",
        "outputId": "d05e4621-6ee7-4927-b95d-2cd098d9b2be",
        "colab": {
          "base_uri": "https://localhost:8080/"
        }
      },
      "source": [
        "game.gameState.allowedActions"
      ],
      "execution_count": null,
      "outputs": [
        {
          "output_type": "execute_result",
          "data": {
            "text/plain": [
              "[10, 28, 29, 37, 39, 40, 41]"
            ]
          },
          "metadata": {
            "tags": []
          },
          "execution_count": 37
        }
      ]
    },
    {
      "cell_type": "code",
      "metadata": {
        "id": "gU82ynA23g2F",
        "outputId": "220e760e-ea81-4345-d7ed-1d6cdc2b6f5b",
        "colab": {
          "base_uri": "https://localhost:8080/"
        }
      },
      "source": [
        "game.step(39)"
      ],
      "execution_count": null,
      "outputs": [
        {
          "output_type": "execute_result",
          "data": {
            "text/plain": [
              "(<game.GameState at 0x7feda5c0d908>, 0, 0, None)"
            ]
          },
          "metadata": {
            "tags": []
          },
          "execution_count": 38
        }
      ]
    },
    {
      "cell_type": "code",
      "metadata": {
        "id": "BdgFz-u93g2I",
        "outputId": "46254f66-1148-481c-eb14-d6b581d24571",
        "colab": {
          "base_uri": "https://localhost:8080/"
        }
      },
      "source": [
        "game.gameState.render(mylogger)"
      ],
      "execution_count": null,
      "outputs": [
        {
          "output_type": "stream",
          "text": [
            "['-', '-', '-', '-', '-', '-', '-']\n",
            "\n",
            "['-', '-', '-', '-', '-', '-', '-']\n",
            "\n",
            "['-', '-', '-', 'O', '-', '-', '-']\n",
            "\n",
            "['-', '-', '-', 'O', '-', '-', '-']\n",
            "\n",
            "['-', '-', '-', 'O', '-', '-', '-']\n",
            "\n",
            "['X', 'X', '-', 'X', 'X', '-', '-']\n",
            "\n",
            "--------------\n",
            "\n"
          ],
          "name": "stdout"
        }
      ]
    },
    {
      "cell_type": "code",
      "metadata": {
        "id": "dq6LxzsA3g2O",
        "outputId": "a877f60a-a4a4-4f03-ef73-cf1becbd1938",
        "colab": {
          "base_uri": "https://localhost:8080/"
        }
      },
      "source": [
        "game.gameState.allowedActions"
      ],
      "execution_count": null,
      "outputs": [
        {
          "output_type": "execute_result",
          "data": {
            "text/plain": [
              "[10, 28, 29, 32, 37, 40, 41]"
            ]
          },
          "metadata": {
            "tags": []
          },
          "execution_count": 41
        }
      ]
    },
    {
      "cell_type": "code",
      "metadata": {
        "id": "x8h3JAw6db2L",
        "outputId": "3fa821d9-b5e9-4355-c7be-8895353b52c3",
        "colab": {
          "base_uri": "https://localhost:8080/"
        }
      },
      "source": [
        "game.step(10)"
      ],
      "execution_count": null,
      "outputs": [
        {
          "output_type": "execute_result",
          "data": {
            "text/plain": [
              "(<game.GameState at 0x7feda5c0d5c0>, -1, 1, None)"
            ]
          },
          "metadata": {
            "tags": []
          },
          "execution_count": 42
        }
      ]
    },
    {
      "cell_type": "code",
      "metadata": {
        "id": "tF0_LcOMde4Y",
        "outputId": "af1e90f5-f7ab-45a1-b96f-ae9af6f15d45",
        "colab": {
          "base_uri": "https://localhost:8080/"
        }
      },
      "source": [
        "game.gameState.render(mylogger)"
      ],
      "execution_count": null,
      "outputs": [
        {
          "output_type": "stream",
          "text": [
            "['-', '-', '-', '-', '-', '-', '-']\n",
            "\n",
            "['-', '-', '-', 'O', '-', '-', '-']\n",
            "\n",
            "['-', '-', '-', 'O', '-', '-', '-']\n",
            "\n",
            "['-', '-', '-', 'O', '-', '-', '-']\n",
            "\n",
            "['-', '-', '-', 'O', '-', '-', '-']\n",
            "\n",
            "['X', 'X', '-', 'X', 'X', '-', '-']\n",
            "\n",
            "--------------\n",
            "\n"
          ],
          "name": "stdout"
        }
      ]
    },
    {
      "cell_type": "code",
      "metadata": {
        "id": "IUn4XwTQ3g2Q",
        "outputId": "d1b1853c-b158-4d1b-b404-a1b699ec82b1",
        "colab": {
          "base_uri": "https://localhost:8080/"
        }
      },
      "source": [
        "print(\"And the winner is %d\" % (game.currentPlayer*game.gameState.score[0]))"
      ],
      "execution_count": null,
      "outputs": [
        {
          "output_type": "stream",
          "text": [
            "And the winner is -1\n"
          ],
          "name": "stdout"
        }
      ]
    },
    {
      "cell_type": "markdown",
      "metadata": {
        "id": "8tXK66kq3g2S"
      },
      "source": [
        "To detect that a game has finished, we can monitor the score, or the value returned by each step. When it is different to 0, that means that there has been a winning move."
      ]
    },
    {
      "cell_type": "markdown",
      "metadata": {
        "id": "zr-L6qGk3g2T"
      },
      "source": [
        "## Playing the game with an agent"
      ]
    },
    {
      "cell_type": "markdown",
      "metadata": {
        "id": "XzwHp3I73g2U"
      },
      "source": [
        "To train a neural network using the results of our games, we need to use an agent. The agent needs to use an untrained neural network as input"
      ]
    },
    {
      "cell_type": "code",
      "metadata": {
        "id": "o5rS3tY13g2V"
      },
      "source": [
        "?Agent"
      ],
      "execution_count": null,
      "outputs": []
    },
    {
      "cell_type": "markdown",
      "metadata": {
        "id": "qTaAYP2W3g2X"
      },
      "source": [
        "For the neural network, we can use any Keras model. Here, we use a function from the game, that needs some configuration:"
      ]
    },
    {
      "cell_type": "code",
      "metadata": {
        "id": "UOIevJir3g2X"
      },
      "source": [
        "from model import Residual_CNN"
      ],
      "execution_count": null,
      "outputs": []
    },
    {
      "cell_type": "code",
      "metadata": {
        "id": "nqfjIvSq3g2b"
      },
      "source": [
        "REG_CONST=0.0001\n",
        "LEARNING_RATE=0.1\n",
        "\n",
        "HIDDEN_CNN_LAYERS = [\n",
        "\t{'filters':75, 'kernel_size': (4,4)}\n",
        "\t , {'filters':75, 'kernel_size': (4,4)}\n",
        "\t , {'filters':75, 'kernel_size': (4,4)}\n",
        "\t , {'filters':75, 'kernel_size': (4,4)}\n",
        "\t , {'filters':75, 'kernel_size': (4,4)}\n",
        "\t , {'filters':75, 'kernel_size': (4,4)}\n",
        "\t]"
      ],
      "execution_count": null,
      "outputs": []
    },
    {
      "cell_type": "code",
      "metadata": {
        "id": "Yr4lH-Fr3g2j"
      },
      "source": [
        "# Create a neural network\n",
        "current_NN = Residual_CNN(REG_CONST, LEARNING_RATE, (2,) + game.grid_shape, game.action_size, HIDDEN_CNN_LAYERS)"
      ],
      "execution_count": null,
      "outputs": []
    },
    {
      "cell_type": "code",
      "metadata": {
        "id": "KpK_NkaOecj_",
        "outputId": "8af72d2c-5bb5-4b85-b928-1855b0262bb8",
        "colab": {
          "base_uri": "https://localhost:8080/"
        }
      },
      "source": [
        "current_NN.model.summary()"
      ],
      "execution_count": null,
      "outputs": [
        {
          "output_type": "stream",
          "text": [
            "Model: \"functional_1\"\n",
            "__________________________________________________________________________________________________\n",
            "Layer (type)                    Output Shape         Param #     Connected to                     \n",
            "==================================================================================================\n",
            "main_input (InputLayer)         [(None, 2, 6, 7)]    0                                            \n",
            "__________________________________________________________________________________________________\n",
            "conv2d (Conv2D)                 (None, 75, 6, 7)     2400        main_input[0][0]                 \n",
            "__________________________________________________________________________________________________\n",
            "batch_normalization (BatchNorma (None, 75, 6, 7)     300         conv2d[0][0]                     \n",
            "__________________________________________________________________________________________________\n",
            "leaky_re_lu (LeakyReLU)         (None, 75, 6, 7)     0           batch_normalization[0][0]        \n",
            "__________________________________________________________________________________________________\n",
            "conv2d_1 (Conv2D)               (None, 75, 6, 7)     90000       leaky_re_lu[0][0]                \n",
            "__________________________________________________________________________________________________\n",
            "batch_normalization_1 (BatchNor (None, 75, 6, 7)     300         conv2d_1[0][0]                   \n",
            "__________________________________________________________________________________________________\n",
            "leaky_re_lu_1 (LeakyReLU)       (None, 75, 6, 7)     0           batch_normalization_1[0][0]      \n",
            "__________________________________________________________________________________________________\n",
            "conv2d_2 (Conv2D)               (None, 75, 6, 7)     90000       leaky_re_lu_1[0][0]              \n",
            "__________________________________________________________________________________________________\n",
            "batch_normalization_2 (BatchNor (None, 75, 6, 7)     300         conv2d_2[0][0]                   \n",
            "__________________________________________________________________________________________________\n",
            "add (Add)                       (None, 75, 6, 7)     0           leaky_re_lu[0][0]                \n",
            "                                                                 batch_normalization_2[0][0]      \n",
            "__________________________________________________________________________________________________\n",
            "leaky_re_lu_2 (LeakyReLU)       (None, 75, 6, 7)     0           add[0][0]                        \n",
            "__________________________________________________________________________________________________\n",
            "conv2d_3 (Conv2D)               (None, 75, 6, 7)     90000       leaky_re_lu_2[0][0]              \n",
            "__________________________________________________________________________________________________\n",
            "batch_normalization_3 (BatchNor (None, 75, 6, 7)     300         conv2d_3[0][0]                   \n",
            "__________________________________________________________________________________________________\n",
            "leaky_re_lu_3 (LeakyReLU)       (None, 75, 6, 7)     0           batch_normalization_3[0][0]      \n",
            "__________________________________________________________________________________________________\n",
            "conv2d_4 (Conv2D)               (None, 75, 6, 7)     90000       leaky_re_lu_3[0][0]              \n",
            "__________________________________________________________________________________________________\n",
            "batch_normalization_4 (BatchNor (None, 75, 6, 7)     300         conv2d_4[0][0]                   \n",
            "__________________________________________________________________________________________________\n",
            "add_1 (Add)                     (None, 75, 6, 7)     0           leaky_re_lu_2[0][0]              \n",
            "                                                                 batch_normalization_4[0][0]      \n",
            "__________________________________________________________________________________________________\n",
            "leaky_re_lu_4 (LeakyReLU)       (None, 75, 6, 7)     0           add_1[0][0]                      \n",
            "__________________________________________________________________________________________________\n",
            "conv2d_5 (Conv2D)               (None, 75, 6, 7)     90000       leaky_re_lu_4[0][0]              \n",
            "__________________________________________________________________________________________________\n",
            "batch_normalization_5 (BatchNor (None, 75, 6, 7)     300         conv2d_5[0][0]                   \n",
            "__________________________________________________________________________________________________\n",
            "leaky_re_lu_5 (LeakyReLU)       (None, 75, 6, 7)     0           batch_normalization_5[0][0]      \n",
            "__________________________________________________________________________________________________\n",
            "conv2d_6 (Conv2D)               (None, 75, 6, 7)     90000       leaky_re_lu_5[0][0]              \n",
            "__________________________________________________________________________________________________\n",
            "batch_normalization_6 (BatchNor (None, 75, 6, 7)     300         conv2d_6[0][0]                   \n",
            "__________________________________________________________________________________________________\n",
            "add_2 (Add)                     (None, 75, 6, 7)     0           leaky_re_lu_4[0][0]              \n",
            "                                                                 batch_normalization_6[0][0]      \n",
            "__________________________________________________________________________________________________\n",
            "leaky_re_lu_6 (LeakyReLU)       (None, 75, 6, 7)     0           add_2[0][0]                      \n",
            "__________________________________________________________________________________________________\n",
            "conv2d_7 (Conv2D)               (None, 75, 6, 7)     90000       leaky_re_lu_6[0][0]              \n",
            "__________________________________________________________________________________________________\n",
            "batch_normalization_7 (BatchNor (None, 75, 6, 7)     300         conv2d_7[0][0]                   \n",
            "__________________________________________________________________________________________________\n",
            "leaky_re_lu_7 (LeakyReLU)       (None, 75, 6, 7)     0           batch_normalization_7[0][0]      \n",
            "__________________________________________________________________________________________________\n",
            "conv2d_8 (Conv2D)               (None, 75, 6, 7)     90000       leaky_re_lu_7[0][0]              \n",
            "__________________________________________________________________________________________________\n",
            "batch_normalization_8 (BatchNor (None, 75, 6, 7)     300         conv2d_8[0][0]                   \n",
            "__________________________________________________________________________________________________\n",
            "add_3 (Add)                     (None, 75, 6, 7)     0           leaky_re_lu_6[0][0]              \n",
            "                                                                 batch_normalization_8[0][0]      \n",
            "__________________________________________________________________________________________________\n",
            "leaky_re_lu_8 (LeakyReLU)       (None, 75, 6, 7)     0           add_3[0][0]                      \n",
            "__________________________________________________________________________________________________\n",
            "conv2d_9 (Conv2D)               (None, 75, 6, 7)     90000       leaky_re_lu_8[0][0]              \n",
            "__________________________________________________________________________________________________\n",
            "batch_normalization_9 (BatchNor (None, 75, 6, 7)     300         conv2d_9[0][0]                   \n",
            "__________________________________________________________________________________________________\n",
            "leaky_re_lu_9 (LeakyReLU)       (None, 75, 6, 7)     0           batch_normalization_9[0][0]      \n",
            "__________________________________________________________________________________________________\n",
            "conv2d_10 (Conv2D)              (None, 75, 6, 7)     90000       leaky_re_lu_9[0][0]              \n",
            "__________________________________________________________________________________________________\n",
            "batch_normalization_10 (BatchNo (None, 75, 6, 7)     300         conv2d_10[0][0]                  \n",
            "__________________________________________________________________________________________________\n",
            "add_4 (Add)                     (None, 75, 6, 7)     0           leaky_re_lu_8[0][0]              \n",
            "                                                                 batch_normalization_10[0][0]     \n",
            "__________________________________________________________________________________________________\n",
            "leaky_re_lu_10 (LeakyReLU)      (None, 75, 6, 7)     0           add_4[0][0]                      \n",
            "__________________________________________________________________________________________________\n",
            "conv2d_11 (Conv2D)              (None, 1, 6, 7)      75          leaky_re_lu_10[0][0]             \n",
            "__________________________________________________________________________________________________\n",
            "batch_normalization_11 (BatchNo (None, 1, 6, 7)      4           conv2d_11[0][0]                  \n",
            "__________________________________________________________________________________________________\n",
            "leaky_re_lu_11 (LeakyReLU)      (None, 1, 6, 7)      0           batch_normalization_11[0][0]     \n",
            "__________________________________________________________________________________________________\n",
            "conv2d_12 (Conv2D)              (None, 2, 6, 7)      150         leaky_re_lu_10[0][0]             \n",
            "__________________________________________________________________________________________________\n",
            "flatten (Flatten)               (None, 42)           0           leaky_re_lu_11[0][0]             \n",
            "__________________________________________________________________________________________________\n",
            "batch_normalization_12 (BatchNo (None, 2, 6, 7)      8           conv2d_12[0][0]                  \n",
            "__________________________________________________________________________________________________\n",
            "dense (Dense)                   (None, 20)           840         flatten[0][0]                    \n",
            "__________________________________________________________________________________________________\n",
            "leaky_re_lu_13 (LeakyReLU)      (None, 2, 6, 7)      0           batch_normalization_12[0][0]     \n",
            "__________________________________________________________________________________________________\n",
            "leaky_re_lu_12 (LeakyReLU)      (None, 20)           0           dense[0][0]                      \n",
            "__________________________________________________________________________________________________\n",
            "flatten_1 (Flatten)             (None, 84)           0           leaky_re_lu_13[0][0]             \n",
            "__________________________________________________________________________________________________\n",
            "value_head (Dense)              (None, 1)            20          leaky_re_lu_12[0][0]             \n",
            "__________________________________________________________________________________________________\n",
            "policy_head (Dense)             (None, 42)           3528        flatten_1[0][0]                  \n",
            "==================================================================================================\n",
            "Total params: 910,325\n",
            "Trainable params: 908,669\n",
            "Non-trainable params: 1,656\n",
            "__________________________________________________________________________________________________\n"
          ],
          "name": "stdout"
        }
      ]
    },
    {
      "cell_type": "code",
      "metadata": {
        "id": "hO5TsM6W3g2p"
      },
      "source": [
        "NUM_OF_SIMULATIONS = 3   # number of simulations the agent will attempt to search for the best next movement\n",
        "CPUCT = 1  # constant controlling the level of exploration"
      ],
      "execution_count": null,
      "outputs": []
    },
    {
      "cell_type": "code",
      "metadata": {
        "id": "jE3RClum3g2v"
      },
      "source": [
        "# Create an agent\n",
        "agent = Agent(\"Hola KSchool!\", game.state_size, game.action_size, NUM_OF_SIMULATIONS, CPUCT, current_NN)"
      ],
      "execution_count": null,
      "outputs": []
    },
    {
      "cell_type": "markdown",
      "metadata": {
        "id": "DRy4Qbui3g2y"
      },
      "source": [
        "Let's start from a blank state"
      ]
    },
    {
      "cell_type": "code",
      "metadata": {
        "id": "4aRbiJ-73g23"
      },
      "source": [
        "state = game.reset()"
      ],
      "execution_count": null,
      "outputs": []
    },
    {
      "cell_type": "code",
      "metadata": {
        "id": "Ay9kdKOL3g25",
        "outputId": "e25c49e6-61e4-4b56-c799-46b9665757d0",
        "colab": {
          "base_uri": "https://localhost:8080/"
        }
      },
      "source": [
        "state.render(mylogger)"
      ],
      "execution_count": null,
      "outputs": [
        {
          "output_type": "stream",
          "text": [
            "['-', '-', '-', '-', '-', '-', '-']\n",
            "\n",
            "['-', '-', '-', '-', '-', '-', '-']\n",
            "\n",
            "['-', '-', '-', '-', '-', '-', '-']\n",
            "\n",
            "['-', '-', '-', '-', '-', '-', '-']\n",
            "\n",
            "['-', '-', '-', '-', '-', '-', '-']\n",
            "\n",
            "['-', '-', '-', '-', '-', '-', '-']\n",
            "\n",
            "--------------\n",
            "\n"
          ],
          "name": "stdout"
        }
      ]
    },
    {
      "cell_type": "markdown",
      "metadata": {
        "id": "93akHk6i3g3T"
      },
      "source": [
        "Now the agent will decide what to do next (using 1 for a deterministic move):"
      ]
    },
    {
      "cell_type": "code",
      "metadata": {
        "id": "PS5L03Rz3g3T"
      },
      "source": [
        "next_action, probs, _, _ = agent.act(state, 0)"
      ],
      "execution_count": null,
      "outputs": []
    },
    {
      "cell_type": "code",
      "metadata": {
        "id": "WZOf6Yjc3g3c",
        "outputId": "ddc176bb-e340-434e-dc46-e499164e74e8",
        "colab": {
          "base_uri": "https://localhost:8080/"
        }
      },
      "source": [
        "next_action"
      ],
      "execution_count": null,
      "outputs": [
        {
          "output_type": "execute_result",
          "data": {
            "text/plain": [
              "41"
            ]
          },
          "metadata": {
            "tags": []
          },
          "execution_count": 57
        }
      ]
    },
    {
      "cell_type": "markdown",
      "metadata": {
        "id": "qIc9eoGt3g3i"
      },
      "source": [
        "Of all the positions in the board, `next_action` is the position with the maximum probability"
      ]
    },
    {
      "cell_type": "code",
      "metadata": {
        "id": "NsgNN4W03g3j",
        "outputId": "f2b1a70f-8752-47b1-c11d-bdda06d9814c",
        "colab": {
          "base_uri": "https://localhost:8080/"
        }
      },
      "source": [
        "game.gameState.allowedActions"
      ],
      "execution_count": null,
      "outputs": [
        {
          "output_type": "execute_result",
          "data": {
            "text/plain": [
              "[35, 36, 37, 38, 39, 40, 41]"
            ]
          },
          "metadata": {
            "tags": []
          },
          "execution_count": 58
        }
      ]
    },
    {
      "cell_type": "code",
      "metadata": {
        "id": "ArWHxYbo3g3o",
        "outputId": "49abeabd-68a2-45fe-a62d-ff63572cc5e6",
        "colab": {
          "base_uri": "https://localhost:8080/"
        }
      },
      "source": [
        "probs"
      ],
      "execution_count": null,
      "outputs": [
        {
          "output_type": "execute_result",
          "data": {
            "text/plain": [
              "array([0. , 0. , 0. , 0. , 0. , 0. , 0. , 0. , 0. , 0. , 0. , 0. , 0. ,\n",
              "       0. , 0. , 0. , 0. , 0. , 0. , 0. , 0. , 0. , 0. , 0. , 0. , 0. ,\n",
              "       0. , 0. , 0. , 0. , 0. , 0. , 0. , 0. , 0. , 0.5, 0. , 0. , 0. ,\n",
              "       0. , 0. , 0.5])"
            ]
          },
          "metadata": {
            "tags": []
          },
          "execution_count": 59
        }
      ]
    },
    {
      "cell_type": "markdown",
      "metadata": {
        "id": "rcTgySRG3g3q"
      },
      "source": [
        "This is a vector with the probability of all the positions in the board. For instance, we can check that all positions with prob > 0 are in fact allowed actions:"
      ]
    },
    {
      "cell_type": "code",
      "metadata": {
        "id": "EmuPGRnA3g3q",
        "outputId": "55d47838-ca5c-4206-aa7b-4ec23154fda4",
        "colab": {
          "base_uri": "https://localhost:8080/"
        }
      },
      "source": [
        "np.where(probs>0)"
      ],
      "execution_count": null,
      "outputs": [
        {
          "output_type": "execute_result",
          "data": {
            "text/plain": [
              "(array([35, 41]),)"
            ]
          },
          "metadata": {
            "tags": []
          },
          "execution_count": 60
        }
      ]
    },
    {
      "cell_type": "code",
      "metadata": {
        "id": "kduwz8Af3g3s"
      },
      "source": [
        "state, score, _, _ = game.step(next_action)"
      ],
      "execution_count": null,
      "outputs": []
    },
    {
      "cell_type": "code",
      "metadata": {
        "id": "BMaFzo6i3g3w",
        "outputId": "b02bcc67-b466-47c2-b09b-06205c09d786",
        "colab": {
          "base_uri": "https://localhost:8080/"
        }
      },
      "source": [
        "state.render(mylogger)"
      ],
      "execution_count": null,
      "outputs": [
        {
          "output_type": "stream",
          "text": [
            "['-', '-', '-', '-', '-', '-', '-']\n",
            "\n",
            "['-', '-', '-', '-', '-', '-', '-']\n",
            "\n",
            "['-', '-', '-', '-', '-', '-', '-']\n",
            "\n",
            "['-', '-', '-', '-', '-', '-', '-']\n",
            "\n",
            "['-', '-', '-', '-', '-', '-', '-']\n",
            "\n",
            "['-', '-', '-', '-', '-', '-', 'X']\n",
            "\n",
            "--------------\n",
            "\n"
          ],
          "name": "stdout"
        }
      ]
    },
    {
      "cell_type": "code",
      "metadata": {
        "id": "zV4U2mDSgn1g",
        "outputId": "4df3c7c1-53e7-419e-80c6-e36321451738",
        "colab": {
          "base_uri": "https://localhost:8080/"
        }
      },
      "source": [
        "score"
      ],
      "execution_count": null,
      "outputs": [
        {
          "output_type": "execute_result",
          "data": {
            "text/plain": [
              "0"
            ]
          },
          "metadata": {
            "tags": []
          },
          "execution_count": 63
        }
      ]
    },
    {
      "cell_type": "markdown",
      "metadata": {
        "id": "qyAldSbQ3g31"
      },
      "source": [
        "In the `act` method, the second argument should be 0 for a deterministic movement, and 1 for a random movement:"
      ]
    },
    {
      "cell_type": "code",
      "metadata": {
        "id": "OjEGZYyw3g31"
      },
      "source": [
        "# Now it is the turn of the second player (who plays randomly)\n",
        "next_action, probs, _, _ = agent.act(state, 1)"
      ],
      "execution_count": null,
      "outputs": []
    },
    {
      "cell_type": "code",
      "metadata": {
        "id": "Cl3mOB893g35",
        "outputId": "181893dc-d773-4593-f05b-13a06f2a99a3",
        "colab": {
          "base_uri": "https://localhost:8080/"
        }
      },
      "source": [
        "probs"
      ],
      "execution_count": null,
      "outputs": [
        {
          "output_type": "execute_result",
          "data": {
            "text/plain": [
              "array([0.        , 0.        , 0.        , 0.        , 0.        ,\n",
              "       0.        , 0.        , 0.        , 0.        , 0.        ,\n",
              "       0.        , 0.        , 0.        , 0.        , 0.        ,\n",
              "       0.        , 0.        , 0.        , 0.        , 0.        ,\n",
              "       0.        , 0.        , 0.        , 0.        , 0.        ,\n",
              "       0.        , 0.        , 0.        , 0.        , 0.        ,\n",
              "       0.        , 0.        , 0.        , 0.        , 0.33333333,\n",
              "       0.33333333, 0.        , 0.        , 0.        , 0.        ,\n",
              "       0.33333333, 0.        ])"
            ]
          },
          "metadata": {
            "tags": []
          },
          "execution_count": 65
        }
      ]
    },
    {
      "cell_type": "code",
      "metadata": {
        "id": "fRKqwd063g37",
        "outputId": "22b7427a-2f20-42b0-bea7-e2690d0e2abc",
        "colab": {
          "base_uri": "https://localhost:8080/"
        }
      },
      "source": [
        "np.where(probs>0)"
      ],
      "execution_count": null,
      "outputs": [
        {
          "output_type": "execute_result",
          "data": {
            "text/plain": [
              "(array([34, 35, 40]),)"
            ]
          },
          "metadata": {
            "tags": []
          },
          "execution_count": 66
        }
      ]
    },
    {
      "cell_type": "code",
      "metadata": {
        "id": "1maacpBt3g3_",
        "outputId": "1a7eca85-c2da-41a8-a06c-a8bf7c684c41",
        "colab": {
          "base_uri": "https://localhost:8080/"
        }
      },
      "source": [
        "next_action"
      ],
      "execution_count": null,
      "outputs": [
        {
          "output_type": "execute_result",
          "data": {
            "text/plain": [
              "40"
            ]
          },
          "metadata": {
            "tags": []
          },
          "execution_count": 67
        }
      ]
    },
    {
      "cell_type": "code",
      "metadata": {
        "id": "6wgtlTrO3g4B",
        "outputId": "3cb8bebc-a292-4353-9369-b93ecd6a36e4",
        "colab": {
          "base_uri": "https://localhost:8080/"
        }
      },
      "source": [
        "state.allowedActions"
      ],
      "execution_count": null,
      "outputs": [
        {
          "output_type": "execute_result",
          "data": {
            "text/plain": [
              "[34, 35, 36, 37, 38, 39, 40]"
            ]
          },
          "metadata": {
            "tags": []
          },
          "execution_count": 68
        }
      ]
    },
    {
      "cell_type": "code",
      "metadata": {
        "id": "rbPZvOKl3g4C"
      },
      "source": [
        "state, score, _, _ = game.step(next_action)"
      ],
      "execution_count": null,
      "outputs": []
    },
    {
      "cell_type": "code",
      "metadata": {
        "id": "RxpFncbDg-jp",
        "outputId": "59373c37-0510-42e1-a96e-e40a871321ca",
        "colab": {
          "base_uri": "https://localhost:8080/"
        }
      },
      "source": [
        "state.render(mylogger)"
      ],
      "execution_count": null,
      "outputs": [
        {
          "output_type": "stream",
          "text": [
            "['-', '-', '-', '-', '-', '-', '-']\n",
            "\n",
            "['-', '-', '-', '-', '-', '-', '-']\n",
            "\n",
            "['-', '-', '-', '-', '-', '-', '-']\n",
            "\n",
            "['-', '-', '-', '-', '-', '-', '-']\n",
            "\n",
            "['-', '-', '-', '-', '-', '-', '-']\n",
            "\n",
            "['-', '-', '-', '-', '-', 'O', 'X']\n",
            "\n",
            "--------------\n",
            "\n"
          ],
          "name": "stdout"
        }
      ]
    },
    {
      "cell_type": "code",
      "metadata": {
        "id": "AHd_qtvMhCbr",
        "outputId": "6939df01-705e-47f0-d2af-fccdda53fb48",
        "colab": {
          "base_uri": "https://localhost:8080/"
        }
      },
      "source": [
        "score"
      ],
      "execution_count": null,
      "outputs": [
        {
          "output_type": "execute_result",
          "data": {
            "text/plain": [
              "0"
            ]
          },
          "metadata": {
            "tags": []
          },
          "execution_count": 71
        }
      ]
    },
    {
      "cell_type": "markdown",
      "metadata": {
        "id": "WLBRtpj33g4E"
      },
      "source": [
        "We can keep playing with this agent, that will try to find the best movements for the game:"
      ]
    },
    {
      "cell_type": "code",
      "metadata": {
        "id": "fMnYGkPZ3g4E"
      },
      "source": [
        ""
      ],
      "execution_count": null,
      "outputs": []
    },
    {
      "cell_type": "code",
      "metadata": {
        "id": "9SxC0VEW3g4G"
      },
      "source": [
        ""
      ],
      "execution_count": null,
      "outputs": []
    },
    {
      "cell_type": "code",
      "metadata": {
        "id": "1qURPVS33g4T"
      },
      "source": [
        ""
      ],
      "execution_count": null,
      "outputs": []
    },
    {
      "cell_type": "markdown",
      "metadata": {
        "id": "ShuFT3903g4Y"
      },
      "source": [
        "## Exercise: a learning agent against a random player\n",
        "\n",
        "Now that you know how to run a learning agent in a game, write a function that given an agent returns the outcome of the game.\n",
        "\n",
        "Don't worry about keeping the memory of the positions. We just want the final outcome of the game, from the learning agent point of view: WIN, DRAW or LOSS.\n",
        "\n",
        "The game will be randomly started either by the random player or the neural network.\n",
        "\n",
        "We will later use this function to run several simulations.\n",
        "\n",
        "Use this logger to keep track of:\n",
        "* each new action suggested by the agent (both for the NN and for the random player)\n",
        "* value after each movement\n",
        "* a render of the board (you can use state.render(logger))\n",
        "* if the movement is done by the NN, the values of the MonteCarlo tree search, and the NN network\n",
        "* a big WARNING if the agent suggest a movement that is not allowed by the state of the board\n",
        "\n",
        "The function will return a tuple, with the result of the game, and the number of movements of the NN"
      ]
    },
    {
      "cell_type": "code",
      "metadata": {
        "id": "3D21Ofyi3g4Y"
      },
      "source": [
        "!mkdir -p logs/"
      ],
      "execution_count": null,
      "outputs": []
    },
    {
      "cell_type": "code",
      "metadata": {
        "id": "uXYV7tIA3g4h"
      },
      "source": [
        "from utils import setup_logger\n",
        "\n",
        "logger_simgame = setup_logger('logger_simgame', 'logs/logger_simgame.log')"
      ],
      "execution_count": null,
      "outputs": []
    },
    {
      "cell_type": "code",
      "metadata": {
        "id": "F3wogbW53g4m"
      },
      "source": [
        "# Student version cell\n",
        "def simgame(game, agent, logger):\n",
        "    \"\"\"Sim a game and return the outcome of the game. \n",
        "    \n",
        "    @param game a Game that will be played by the agent. This game will be reset\n",
        "    @param agent an Agent with an associated neural network\n",
        "    @param logger a logger to keep track of the internal statuses\n",
        "    @return a tuple with the result of the game and the number of movements of the NN\n",
        "    \"\"\"\n",
        "    logger.info(\"---------------------------------------\")\n",
        "    logger.info(\"NEW GAME\")\n",
        "    logger.info(\"---------------------------------------\")\n",
        "    \n",
        "    state = game.reset()\n",
        "    \n",
        "    # 0 -> the neural network starts\n",
        "    # 1 -> the random player starts\n",
        "    who_starts = random.choice([0,1])\n",
        "    \n",
        "    # Tau is the parameter that controls the act method, 0 is random, 1 is neural network\n",
        "    if who_starts == 0:\n",
        "        tau = 0  # NN starts\n",
        "        logger.info(\"Game started by neural network. NN will be the X\")\n",
        "        nn_symbol, rnd_symbol = \"X\", \"O\"\n",
        "    else:\n",
        "        tau = 1  # Random player starts\n",
        "        logger.info(\"Game started by random player. NN will be the O\")\n",
        "        nn_symbol, rnd_symbol = \"O\", \"X\"\n",
        "        \n",
        "    game_is_ended = False\n",
        "    winner = -2  # we init with an impossible value\n",
        "    nn_movements = 0\n",
        "\n",
        "    while not game_is_ended:\n",
        "\n",
        "        next_action, probs, MCTS_value, NN_value = agent.act(state, tau)\n",
        "        state, score, _, _ = game.step(next_action)\n",
        "        \n",
        "        if tau == 0:\n",
        "            logger.info(\"NN (%s) played, moved to %d\" % (nn_symbol, next_action))\n",
        "            tau = 1  \n",
        "            nn_movements += 1          \n",
        "        else:\n",
        "            tau = 0\n",
        "            logger.info(\"Random (%s) played, moved to %d\" % (rnd_symbol, next_action))\n",
        "\n",
        "        logger.info(\"Game score: %d     MCTS: %.4f          NN: %.4f\" % (score, MCTS_value, NN_value))\n",
        "\n",
        "        if score != 0:\n",
        "            game_is_ended = True\n",
        "            winner = score*game.currentPlayer\n",
        "            # If random started, then the result of the game is the opposite\n",
        "            if who_starts == 1:\n",
        "                winner = winner*(-1)\n",
        "            if winner == 1:\n",
        "                logger.info(\" **** The NN has WON! :D ****\")\n",
        "            elif winner == 0:\n",
        "                logger.info(\" **** It is a DRAW :S ****\")\n",
        "            else:\n",
        "                logger.info(\" **** The NN has LOST :'( ****\")\n",
        "\n",
        "    return winner, nn_movements"
      ],
      "execution_count": null,
      "outputs": []
    },
    {
      "cell_type": "code",
      "metadata": {
        "id": "PU32n251isvU",
        "outputId": "1d941f47-4d27-468f-a62f-732bf9cd3a0e",
        "colab": {
          "base_uri": "https://localhost:8080/"
        }
      },
      "source": [
        "simgame(game, agent, logger_simgame)"
      ],
      "execution_count": null,
      "outputs": [
        {
          "output_type": "execute_result",
          "data": {
            "text/plain": [
              "(1, 15)"
            ]
          },
          "metadata": {
            "tags": []
          },
          "execution_count": 78
        }
      ]
    },
    {
      "cell_type": "markdown",
      "metadata": {
        "id": "cMxP1BAW3g4s"
      },
      "source": [
        "### How does the agent learnt?\n",
        "\n",
        "Let's try several times, and plot some stats about the number of wins, and the distribution of the number of movements."
      ]
    },
    {
      "cell_type": "code",
      "metadata": {
        "id": "f0Pm6Fuq3g4s"
      },
      "source": [
        "NUM_OF_SIMULATIONS = 10   # number of simulations of movements the agent will attempt to search for the best next movement\n",
        "CPUCT = 1  # constant controlling the level of exploration"
      ],
      "execution_count": null,
      "outputs": []
    },
    {
      "cell_type": "code",
      "metadata": {
        "id": "nVMPbjH03g4x"
      },
      "source": [
        "REG_CONST=0.0001\n",
        "LEARNING_RATE=0.1\n",
        "\n",
        "HIDDEN_CNN_LAYERS = [\n",
        "\t{'filters':75, 'kernel_size': (4,4)}\n",
        "\t , {'filters':75, 'kernel_size': (4,4)}\n",
        "\t , {'filters':75, 'kernel_size': (4,4)}\n",
        "\t , {'filters':75, 'kernel_size': (4,4)}\n",
        "\t , {'filters':75, 'kernel_size': (4,4)}\n",
        "\t , {'filters':75, 'kernel_size': (4,4)}\n",
        "\t]\n",
        "\n",
        "# Create a game and agent"
      ],
      "execution_count": null,
      "outputs": []
    },
    {
      "cell_type": "code",
      "metadata": {
        "id": "OZW9ftmo3g45"
      },
      "source": [
        "# Play N times, and keep track of the winning average of our agent"
      ],
      "execution_count": null,
      "outputs": []
    },
    {
      "cell_type": "markdown",
      "metadata": {
        "id": "LwDX0Pmc3g47"
      },
      "source": [
        "### Exercise: Learning from this experience\n",
        "\n",
        "So far, we are not learning from this experience. We are just playing with a neural network that is not trained.\n",
        "\n",
        "We can add the movements to a _memory_ and record the outcome of the game too, and then train the neural network with this experience."
      ]
    },
    {
      "cell_type": "code",
      "metadata": {
        "id": "MZaEnAaf3g47"
      },
      "source": [
        "from memory import Memory"
      ],
      "execution_count": null,
      "outputs": []
    },
    {
      "cell_type": "code",
      "metadata": {
        "id": "vDZEe6G_3g49"
      },
      "source": [
        "MEMORY_SIZE=30000"
      ],
      "execution_count": null,
      "outputs": []
    },
    {
      "cell_type": "markdown",
      "metadata": {
        "id": "qlQp0RO73g5B"
      },
      "source": [
        "This Memory object has two kind of memories:\n",
        "\n",
        "* Short term, with the set of movements of a game\n",
        "* Long term, with the full games and their outcomes. This long term memory is used to re-train the agent and gain experience in the game"
      ]
    },
    {
      "cell_type": "code",
      "metadata": {
        "id": "zBQigV5a3g5Q"
      },
      "source": [
        "memory = Memory(MEMORY_SIZE)"
      ],
      "execution_count": null,
      "outputs": []
    },
    {
      "cell_type": "code",
      "metadata": {
        "id": "G-g1Or253g5W",
        "outputId": "d412a67d-b5b8-4e59-84ed-9d209d91e38f"
      },
      "source": [
        "# This prepares the memory for a new game\n",
        "memory.clear_stmemory()\n",
        "# This adds a movement to the memory\n",
        "memory.commit_stmemory\n",
        "# This adds a game to the long term (training) memory\n",
        "memory.commit_ltmemory"
      ],
      "execution_count": null,
      "outputs": [
        {
          "output_type": "execute_result",
          "data": {
            "text/plain": [
              "<bound method Memory.commit_stmemory of <memory.Memory object at 0xb31480208>>"
            ]
          },
          "metadata": {
            "tags": []
          },
          "execution_count": 16
        }
      ]
    },
    {
      "cell_type": "code",
      "metadata": {
        "id": "EejH2qgo3g5l"
      },
      "source": [
        "def simgame(game, agent, logger, memory = None):\n",
        "    \"\"\"Sim a game and return the outcome of the game. \n",
        "    \n",
        "    @param game a Game that will be played by the agent. This game will be reset\n",
        "    @param agent an Agent with an associated neural network\n",
        "    @param logger a logger to keep track of the internal statuses\n",
        "    @param memory a Memory object to record all the movements and outcome of the game\n",
        "    @return a tuple with the result of the game, the number of movements of the NN and the updated memory\n",
        "    \"\"\"\n",
        "    logger.info(\"---------------------------------------\")\n",
        "    logger.info(\"NEW GAME\")\n",
        "    logger.info(\"---------------------------------------\")\n",
        "    \n",
        "    state = game.reset()\n",
        "    \n",
        "    # 0 -> the neural network starts\n",
        "    # 1 -> the random player starts\n",
        "    who_starts = random.choice([0,1])\n",
        "    \n",
        "    # Tau is the parameter that controls the act method, 0 is random, 1 is neural network\n",
        "    if who_starts == 0:\n",
        "        tau = 0  # NN starts\n",
        "        logger.info(\"Game started by neural network. NN will be the X\")\n",
        "        nn_symbol, rnd_symbol = \"X\", \"O\"\n",
        "    else:\n",
        "        tau = 1  # Random player starts\n",
        "        logger.info(\"Game started by random player. NN will be the O\")\n",
        "        nn_symbol, rnd_symbol = \"O\", \"X\"\n",
        "        \n",
        "    game_is_ended = False\n",
        "    winner = -2  # we init with an impossible value\n",
        "    nn_movements = 0\n",
        "\n",
        "    while not game_is_ended:\n",
        "\n",
        "        next_action, probs, MCTS_value, NN_value = agent.act(state, tau)\n",
        "        state, score, _, _ = game.step(next_action)\n",
        "        \n",
        "        # *** HOW SHOULD UPDATE THE MEMORY OBJECT?\n",
        "        memory.commit_stmemory(game.identities, state, probs)\n",
        "        \n",
        "        if tau == 0:\n",
        "            logger.info(\"NN (%s) played, moved to %d\" % (nn_symbol, next_action))\n",
        "            tau = 1            \n",
        "            nn_movements += 1\n",
        "        else:\n",
        "            tau = 0\n",
        "            logger.info(\"Random (%s) played, moved to %d\" % (rnd_symbol, next_action))\n",
        "\n",
        "        logger.info(\"Game score: %d     MCTS: %.4f          NN: %.4f\" % (score, MCTS_value, NN_value))\n",
        "        if score != 0:\n",
        "            game_is_ended = True\n",
        "            winner = score*game.currentPlayer\n",
        "            # If random started, then the result of the game is the opposite\n",
        "            if who_starts == 1:\n",
        "                winner = winner*(-1)\n",
        "            if winner == 1:\n",
        "                logger.info(\" **** The NN has WON! :D ****\")\n",
        "            elif winner == 0:\n",
        "                logger.info(\" **** It is a DRAW :S ****\")\n",
        "            else:\n",
        "                logger.info(\" **** The NN has LOST :'( ****\")\n",
        "\n",
        "            for move in memory.stmemory:\n",
        "              if move['playerTurn'] == state.playerTurn:\n",
        "                move['value'] = winner\n",
        "              else:\n",
        "                move['value'] = -winner\n",
        "\n",
        "            memory.commit_ltmemory()\n",
        "            memory.clear_stmemory()\n",
        "\n",
        "    return winner, nn_movements, memory"
      ],
      "execution_count": null,
      "outputs": []
    },
    {
      "cell_type": "code",
      "metadata": {
        "id": "uOoZm5Kyk07e",
        "outputId": "1c0b13ad-7fcb-4984-9fba-3c4c1e2c418d",
        "colab": {
          "base_uri": "https://localhost:8080/"
        }
      },
      "source": [
        "simgame(game, agent, logger_simgame, memory)"
      ],
      "execution_count": null,
      "outputs": [
        {
          "output_type": "execute_result",
          "data": {
            "text/plain": [
              "(-1, 9, <memory.Memory at 0x7fed422c6a90>)"
            ]
          },
          "metadata": {
            "tags": []
          },
          "execution_count": 83
        }
      ]
    },
    {
      "cell_type": "code",
      "metadata": {
        "id": "kO_8vTK33g5r",
        "outputId": "090dea7a-9cda-4580-9923-d4059d9b698e",
        "colab": {
          "base_uri": "https://localhost:8080/"
        }
      },
      "source": [
        "# Play N times, and keep track of the winning average of our agent\n",
        "for k in range(5):\n",
        "  win, movs, memory = simgame(game, agent, logger_simgame, memory)\n",
        "  print(\"Win: %d   Movs: %d\" % (win, movs))"
      ],
      "execution_count": null,
      "outputs": [
        {
          "output_type": "stream",
          "text": [
            "Win: 1   Movs: 8\n",
            "Win: -1   Movs: 10\n",
            "Win: 1   Movs: 10\n",
            "Win: 1   Movs: 10\n",
            "Win: 1   Movs: 7\n"
          ],
          "name": "stdout"
        }
      ]
    },
    {
      "cell_type": "markdown",
      "metadata": {
        "id": "4lQEt9q83g5u"
      },
      "source": [
        "We can now make our agent learn from this experience:"
      ]
    },
    {
      "cell_type": "code",
      "metadata": {
        "id": "aNON2rC53g5u",
        "outputId": "7b6f761a-fc93-4b2e-bb45-2ca33a8cad22",
        "colab": {
          "base_uri": "https://localhost:8080/",
          "height": 316
        }
      },
      "source": [
        "# How can we learn from this experience?\n",
        "agent.replay(memory.ltmemory)"
      ],
      "execution_count": null,
      "outputs": [
        {
          "output_type": "display_data",
          "data": {
            "image/png": "[encoded data removed]",
            "text/plain": [
              "<Figure size 432x288 with 1 Axes>"
            ]
          },
          "metadata": {
            "tags": []
          }
        },
        {
          "output_type": "stream",
          "text": [
            "\n",
            "\n"
          ],
          "name": "stdout"
        },
        {
          "output_type": "display_data",
          "data": {
            "text/plain": [
              "<Figure size 432x288 with 0 Axes>"
            ]
          },
          "metadata": {
            "tags": []
          }
        }
      ]
    },
    {
      "cell_type": "code",
      "metadata": {
        "id": "Rs06tSWd3g6Q",
        "outputId": "97512d4f-8759-4ed9-bd45-d5ae68669168",
        "colab": {
          "base_uri": "https://localhost:8080/"
        }
      },
      "source": [
        "# Play N times, and keep track of the winning average of our agent\n",
        "# Has the agent improved?\n",
        "for k in range(15):\n",
        "  win, movs, memory = simgame(game, agent, logger_simgame, memory)\n",
        "  print(\"Win: %d   Movs: %d\" % (win, movs))"
      ],
      "execution_count": null,
      "outputs": [
        {
          "output_type": "stream",
          "text": [
            "Win: 1   Movs: 13\n",
            "Win: -1   Movs: 11\n",
            "Win: 1   Movs: 13\n",
            "Win: 1   Movs: 9\n",
            "Win: -1   Movs: 4\n",
            "Win: -1   Movs: 11\n",
            "Win: 1   Movs: 6\n",
            "Win: -1   Movs: 4\n",
            "Win: 1   Movs: 6\n",
            "Win: -1   Movs: 6\n",
            "Win: 1   Movs: 6\n",
            "Win: 1   Movs: 10\n",
            "Win: 1   Movs: 12\n",
            "Win: 1   Movs: 4\n",
            "Win: 1   Movs: 12\n"
          ],
          "name": "stdout"
        }
      ]
    },
    {
      "cell_type": "code",
      "metadata": {
        "id": "ubxLqPFo3g6R"
      },
      "source": [
        "# Can you retrain after every game? (or after every 5-10 games, to save some time)"
      ],
      "execution_count": null,
      "outputs": []
    },
    {
      "cell_type": "code",
      "metadata": {
        "id": "tmzjZBI5mAUb"
      },
      "source": [
        "game = Game()\n",
        "state = game.gameState"
      ],
      "execution_count": null,
      "outputs": []
    },
    {
      "cell_type": "code",
      "metadata": {
        "id": "G16pDLI7mB6j",
        "outputId": "1a701320-fd63-4bf6-ec72-e5165daf3d62",
        "colab": {
          "base_uri": "https://localhost:8080/"
        }
      },
      "source": [
        "next_action, _, _, _ = agent.act(state, 0)\n",
        "state, score, _, _ = game.step(next_action)\n",
        "state.render(mylogger)"
      ],
      "execution_count": null,
      "outputs": [
        {
          "output_type": "stream",
          "text": [
            "['-', '-', '-', '-', '-', '-', '-']\n",
            "\n",
            "['-', '-', '-', '-', '-', '-', '-']\n",
            "\n",
            "['-', '-', '-', '-', '-', '-', 'O']\n",
            "\n",
            "['-', '-', '-', '-', '-', '-', 'X']\n",
            "\n",
            "['-', '-', '-', 'X', '-', '-', 'O']\n",
            "\n",
            "['X', '-', '-', 'X', '-', '-', 'O']\n",
            "\n",
            "--------------\n",
            "\n"
          ],
          "name": "stdout"
        }
      ]
    },
    {
      "cell_type": "code",
      "metadata": {
        "id": "aJMuapdFmIyO",
        "outputId": "1624b6a2-b918-4480-db9f-085509381b06",
        "colab": {
          "base_uri": "https://localhost:8080/"
        }
      },
      "source": [
        "game.gameState.allowedActions"
      ],
      "execution_count": null,
      "outputs": [
        {
          "output_type": "execute_result",
          "data": {
            "text/plain": [
              "[20, 28, 31, 36, 37, 39, 40]"
            ]
          },
          "metadata": {
            "tags": []
          },
          "execution_count": 119
        }
      ]
    },
    {
      "cell_type": "code",
      "metadata": {
        "id": "ArqznkKfmUdp"
      },
      "source": [
        "state, score, _, _ = game.step(20)"
      ],
      "execution_count": null,
      "outputs": []
    },
    {
      "cell_type": "markdown",
      "metadata": {
        "id": "xa4D9TbL3g6W"
      },
      "source": [
        "## Exercise: Using a custom model\n",
        "\n",
        "The models that the agent trains are Keras models, created following the interface defined in model.Gen_Model\n",
        "\n",
        "Could you change the model and use a different architecture? For instance, a model with RNN that could try to learn from the sequences of movements?"
      ]
    },
    {
      "cell_type": "code",
      "metadata": {
        "id": "FvXi-GBy3g6X"
      },
      "source": [
        "from importlib import reload\n",
        "import model\n",
        "reload(model)\n",
        "from model import KSchool_Model  # <--- This is your custom model in model.py\n"
      ],
      "execution_count": null,
      "outputs": []
    },
    {
      "cell_type": "code",
      "metadata": {
        "id": "nV8pA_po3g6Y"
      },
      "source": [
        "# Create an agent with your network"
      ],
      "execution_count": null,
      "outputs": []
    },
    {
      "cell_type": "code",
      "metadata": {
        "id": "8UCPCyE13g6a"
      },
      "source": [
        "# Play N times, and keep track of the winning average of our agent"
      ],
      "execution_count": null,
      "outputs": []
    },
    {
      "cell_type": "code",
      "metadata": {
        "id": "mZEDG8X43g6c"
      },
      "source": [
        ""
      ],
      "execution_count": null,
      "outputs": []
    }
  ]
}