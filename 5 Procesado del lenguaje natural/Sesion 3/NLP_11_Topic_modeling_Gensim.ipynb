{
  "nbformat": 4,
  "nbformat_minor": 0,
  "metadata": {
    "kernelspec": {
      "display_name": "Python 3",
      "language": "python",
      "name": "python3"
    },
    "language_info": {
      "codemirror_mode": {
        "name": "ipython",
        "version": 3
      },
      "file_extension": ".py",
      "mimetype": "text/x-python",
      "name": "python",
      "nbconvert_exporter": "python",
      "pygments_lexer": "ipython3",
      "version": "3.8.5"
    },
    "colab": {
      "name": "NLP_11-Topic modeling Gensim.ipynb",
      "provenance": [],
      "include_colab_link": true
    }
  },
  "cells": [
    {
      "cell_type": "markdown",
      "metadata": {
        "id": "view-in-github",
        "colab_type": "text"
      },
      "source": [
        "<a href=\"https://colab.research.google.com/github/vicentcamison/idal_ia3/blob/main/5%20Procesado%20del%20lenguaje%20natural/Sesion%203/NLP_11_Topic_modeling_Gensim.ipynb\" target=\"_parent\"><img src=\"https://colab.research.google.com/assets/colab-badge.svg\" alt=\"Open In Colab\"/></a>"
      ]
    },
    {
      "cell_type": "markdown",
      "metadata": {
        "id": "oVJsuBujnjYS"
      },
      "source": [
        "# Topic modeling (librería Gensim)\n",
        "Vamos a ver cómo realizar un modelado de temática en grandes volúmenes de texto con la librería `gensim`  \n",
        "\n",
        "Utilizaremos el conjunto de datos *Lee* de `Gensim` (es una versión abreviada del conjunto http://www.socsci.uci.edu/~mdlee/lee_pincombe_welsh_document.PDF).  \n",
        "\n",
        "Para visualizar gráficamente los tópicos es necesario instalar la librería `pyLDAvis` dentro del entorno de Anaconda con el comando:\n",
        "```python\n",
        "conda install -c conda-forge pyldavis \n",
        "```\n",
        "\n",
        "### Cargamos librerías"
      ]
    },
    {
      "cell_type": "code",
      "metadata": {
        "id": "qULySgydnjYc"
      },
      "source": [
        "import os\n",
        "import re\n",
        "import numpy as np\n",
        "import pandas as pd\n",
        "from pprint import pprint\n",
        "import warnings\n",
        "\n",
        "# Gensim\n",
        "import gensim\n",
        "import gensim.corpora as corpora\n",
        "from gensim.utils import simple_preprocess\n",
        "from gensim.models import CoherenceModel, LdaModel, LsiModel, HdpModel\n",
        "warnings.filterwarnings('ignore')\n",
        "\n",
        "# spacy para lematizar\n",
        "import spacy\n",
        "\n",
        "# herramientas de dibujado\n",
        "import pyLDAvis.gensim_models as gensimvis\n",
        "import pyLDAvis\n",
        "import matplotlib.pyplot as plt\n",
        "%matplotlib inline"
      ],
      "execution_count": null,
      "outputs": []
    },
    {
      "cell_type": "markdown",
      "metadata": {
        "id": "QW89RWr2njYd"
      },
      "source": [
        "Utilizamos un generador para obtener los documentos del Corpus línea a línea desde el archivo del conjunto de ejemplo y convertirlos en un listado de tokens."
      ]
    },
    {
      "cell_type": "code",
      "metadata": {
        "id": "hokhBXlgnjYe",
        "outputId": "7fb4ed2b-3274-43d1-d2a8-0a8c0678a193"
      },
      "source": [
        "warnings.filterwarnings(\"ignore\", category=DeprecationWarning)"
      ],
      "execution_count": null,
      "outputs": [
        {
          "output_type": "stream",
          "text": [
            "/home/juan/anaconda3/lib/python3.8/site-packages/ipykernel/ipkernel.py:283: DeprecationWarning: `should_run_async` will not call `transform_cell` automatically in the future. Please pass the result to `transformed_cell` argument and any exception that happen during thetransform in `preprocessing_exc_tuple` in IPython 7.17 and above.\n",
            "  and should_run_async(code)\n"
          ],
          "name": "stderr"
        }
      ]
    },
    {
      "cell_type": "code",
      "metadata": {
        "id": "8H-R2k_tnjYg"
      },
      "source": [
        "nlp = spacy.load('en_core_web_md', disable=['parser', 'ner'])\n",
        "\n",
        "def lemmatize_doc(text, allowed_postags=['NOUN', 'ADJ', 'VERB', 'ADV', 'PROPN']):\n",
        "    \"\"\"Función que devuelve el lema de una string,\n",
        "    excluyendo las palabras cuyo POS_TAG no está en la lista\"\"\"\n",
        "    text_out = [t.lemma_.lower() for t in nlp(text)\n",
        "                if t.pos_ in allowed_postags\n",
        "                and len(t.lemma_)>3\n",
        "                and not t.is_stop]\n",
        "    return text_out\n",
        "\n",
        "class PreprocesaArchivo(object):\n",
        "    \"\"\"Pre-procesa un archivo de texto línea a línea\n",
        "    Entrada: nombre del archivo de texto a procesar (string)\n",
        "    Salida: iterador sobre cada línea normalizado (lista de tokens)\"\"\"\n",
        "    def __init__(self, filename):\n",
        "        self.filename = filename\n",
        " \n",
        "    def __iter__(self):\n",
        "        with open(self.filename) as f:\n",
        "            for line in f:\n",
        "                yield lemmatize_doc(line)"
      ],
      "execution_count": null,
      "outputs": []
    },
    {
      "cell_type": "code",
      "metadata": {
        "id": "yqwKIPnbnjYi"
      },
      "source": [
        "data_dir = '{}'.format(os.sep).join([gensim.__path__[0], 'test', 'test_data'])\n",
        "lee_data_file = data_dir + os.sep + 'lee_background.cor'"
      ],
      "execution_count": null,
      "outputs": []
    },
    {
      "cell_type": "code",
      "metadata": {
        "id": "LEhOUcvDnjYi"
      },
      "source": [
        "texto=PreprocesaArchivo(lee_data_file)"
      ],
      "execution_count": null,
      "outputs": []
    },
    {
      "cell_type": "code",
      "metadata": {
        "id": "COgl8iLcnjYj",
        "outputId": "dcc9a134-5244-496b-e9e2-516cc48bba9f"
      },
      "source": [
        "for t in texto:\n",
        "    print(t)\n",
        "    break"
      ],
      "execution_count": null,
      "outputs": [
        {
          "output_type": "stream",
          "text": [
            "['hundred', 'people', 'force', 'vacate', 'home', 'southern', 'highlands', 'south', 'wales', 'strong', 'wind', 'today', 'push', 'huge', 'bushfire', 'town', 'hill', 'blaze', 'goulburn', 'south', 'west', 'sydney', 'force', 'closure', 'hume', 'highway', 'aedt', 'mark', 'deterioration', 'weather', 'storm', 'cell', 'move', 'east', 'blue', 'mountains', 'force', 'authority', 'decision', 'evacuate', 'people', 'home', 'outlying', 'street', 'hill', 'south', 'wales', 'southern', 'highland', 'estimated', 'resident', 'leave', 'home', 'nearby', 'mittagong', 'south', 'wales', 'rural', 'fire', 'service', 'weather', 'condition', 'cause', 'fire', 'burn', 'finger', 'formation', 'ease', 'fire', 'unit', 'hill', 'optimistic', 'defend', 'property', 'blaze', 'burn', 'year', 'south', 'wales', 'fire', 'crew', 'call', 'fire', 'gunning', 'south', 'goulburn', 'detail', 'available', 'stage', 'fire', 'authority', 'close', 'hume', 'highway', 'direction', 'fire', 'sydney', 'west', 'long', 'threaten', 'property', 'cranebrook', 'area', 'rain', 'fall', 'part', 'illawarra', 'sydney', 'hunter', 'valley', 'north', 'coast', 'bureau', 'meteorology', 'claire', 'richards', 'rain', 'little', 'ease', 'fire', 'burn', 'state', 'fall', 'isolated', 'area', 'generally', 'fall', 'millimetre', 'place', 'significant', 'millimetre', 'relief', 'rain', 'concern', 'fact', 'probably', 'hamper', 'effort', 'firefighter', 'wind', 'gust', 'associate', 'thunderstorm']\n"
          ],
          "name": "stdout"
        }
      ]
    },
    {
      "cell_type": "markdown",
      "metadata": {
        "id": "BtqJEdD3njYk"
      },
      "source": [
        "### Creamos bigramas y trigramas\n",
        "Creamos un modelo para las palabras más frecuentes como bigrama o trigrama para considerar estos tokens juntos en lugar de separados."
      ]
    },
    {
      "cell_type": "code",
      "metadata": {
        "id": "nGBMV3ornjYk"
      },
      "source": [
        "#creamos bigramas y trigramas\n",
        "bigram = gensim.models.Phrases(texto, min_count=5, threshold=50) # higher threshold fewer phrases.\n",
        "#optimizamos una vez entreando\n",
        "bigram_mod = gensim.models.phrases.Phraser(bigram)\n",
        "\n",
        "trigram = gensim.models.Phrases(bigram_mod[texto], min_count=5, threshold=50)  \n",
        "trigram_mod = gensim.models.phrases.Phraser(trigram)\n",
        "\n",
        "def make_trigrams(text):\n",
        "    '''Devuelve un doc convertido en trigramas según el\n",
        "    modelo trigram_mod. La entrada tiene que ser una lista\n",
        "    de de tokens'''\n",
        "    return trigram_mod[bigram_mod[text]]"
      ],
      "execution_count": null,
      "outputs": []
    },
    {
      "cell_type": "markdown",
      "metadata": {
        "id": "X6JsrcqanjYl"
      },
      "source": [
        "Por ejemplo los bigramas que ha encontrado para el documento con índice 1 son:"
      ]
    },
    {
      "cell_type": "code",
      "metadata": {
        "id": "ime_MTOUnjYn",
        "outputId": "b70700ac-13c5-460c-fda5-0c43aad23b94"
      },
      "source": [
        "doc1 = next(iter(texto))\n",
        "print(bigram_mod[doc1])"
      ],
      "execution_count": null,
      "outputs": [
        {
          "output_type": "stream",
          "text": [
            "['hundred', 'people', 'force', 'vacate', 'home', 'southern', 'highlands', 'south_wales', 'strong', 'wind', 'today', 'push', 'huge', 'bushfire', 'town', 'hill', 'blaze', 'goulburn', 'south', 'west', 'sydney', 'force', 'closure', 'hume', 'highway', 'aedt', 'mark', 'deterioration', 'weather', 'storm', 'cell', 'move', 'east', 'blue_mountains', 'force', 'authority', 'decision', 'evacuate', 'people', 'home', 'outlying', 'street', 'hill', 'south_wales', 'southern', 'highland', 'estimated', 'resident', 'leave', 'home', 'nearby', 'mittagong', 'south_wales', 'rural_fire', 'service', 'weather', 'condition', 'cause', 'fire_burn', 'finger', 'formation', 'ease', 'fire', 'unit', 'hill', 'optimistic', 'defend', 'property', 'blaze', 'burn', 'year', 'south_wales', 'fire', 'crew', 'call', 'fire', 'gunning', 'south', 'goulburn', 'detail', 'available', 'stage', 'fire', 'authority', 'close', 'hume', 'highway', 'direction', 'fire', 'sydney', 'west', 'long', 'threaten', 'property', 'cranebrook', 'area', 'rain', 'fall', 'part', 'illawarra', 'sydney', 'hunter', 'valley', 'north', 'coast', 'bureau', 'meteorology', 'claire', 'richards', 'rain', 'little', 'ease', 'fire_burn', 'state', 'fall', 'isolated', 'area', 'generally', 'fall', 'millimetre', 'place', 'significant', 'millimetre', 'relief', 'rain', 'concern', 'fact', 'probably', 'hamper', 'effort', 'firefighter', 'wind', 'gust', 'associate', 'thunderstorm']\n"
          ],
          "name": "stdout"
        }
      ]
    },
    {
      "cell_type": "markdown",
      "metadata": {
        "id": "YtJQm__ZnjYn"
      },
      "source": [
        "Arriba, al considerar bigramas, pares como 'south_wales' aprecen como un único término, sin estar por separado.\n",
        "\n",
        "Si no se hace por bigramas (como aparece debajo), 'south' y 'wales' aparecerían por separado"
      ]
    },
    {
      "cell_type": "code",
      "metadata": {
        "id": "oSLE5_xWnjYo",
        "outputId": "762a8014-fe43-437c-bea5-5f64c8d113f5"
      },
      "source": [
        "print(doc1)"
      ],
      "execution_count": null,
      "outputs": [
        {
          "output_type": "stream",
          "text": [
            "['hundred', 'people', 'force', 'vacate', 'home', 'southern', 'highlands', 'south', 'wales', 'strong', 'wind', 'today', 'push', 'huge', 'bushfire', 'town', 'hill', 'blaze', 'goulburn', 'south', 'west', 'sydney', 'force', 'closure', 'hume', 'highway', 'aedt', 'mark', 'deterioration', 'weather', 'storm', 'cell', 'move', 'east', 'blue', 'mountains', 'force', 'authority', 'decision', 'evacuate', 'people', 'home', 'outlying', 'street', 'hill', 'south', 'wales', 'southern', 'highland', 'estimated', 'resident', 'leave', 'home', 'nearby', 'mittagong', 'south', 'wales', 'rural', 'fire', 'service', 'weather', 'condition', 'cause', 'fire', 'burn', 'finger', 'formation', 'ease', 'fire', 'unit', 'hill', 'optimistic', 'defend', 'property', 'blaze', 'burn', 'year', 'south', 'wales', 'fire', 'crew', 'call', 'fire', 'gunning', 'south', 'goulburn', 'detail', 'available', 'stage', 'fire', 'authority', 'close', 'hume', 'highway', 'direction', 'fire', 'sydney', 'west', 'long', 'threaten', 'property', 'cranebrook', 'area', 'rain', 'fall', 'part', 'illawarra', 'sydney', 'hunter', 'valley', 'north', 'coast', 'bureau', 'meteorology', 'claire', 'richards', 'rain', 'little', 'ease', 'fire', 'burn', 'state', 'fall', 'isolated', 'area', 'generally', 'fall', 'millimetre', 'place', 'significant', 'millimetre', 'relief', 'rain', 'concern', 'fact', 'probably', 'hamper', 'effort', 'firefighter', 'wind', 'gust', 'associate', 'thunderstorm']\n"
          ],
          "name": "stdout"
        }
      ]
    },
    {
      "cell_type": "markdown",
      "metadata": {
        "id": "6dgZ9-7AnjYo"
      },
      "source": [
        "De la misma manera para calcular los **trigramas**, aplicamos este modelo sobre la salida del modelo de bigramas:"
      ]
    },
    {
      "cell_type": "code",
      "metadata": {
        "id": "pU_p6HqunjYo",
        "outputId": "64be05c5-94bd-487f-b050-1a586e8cdd45"
      },
      "source": [
        "print(trigram_mod[bigram_mod[doc1]])"
      ],
      "execution_count": null,
      "outputs": [
        {
          "output_type": "stream",
          "text": [
            "['hundred', 'people', 'force', 'vacate', 'home', 'southern', 'highlands', 'south_wales', 'strong', 'wind', 'today', 'push', 'huge', 'bushfire', 'town', 'hill', 'blaze', 'goulburn', 'south', 'west', 'sydney', 'force', 'closure', 'hume', 'highway', 'aedt', 'mark', 'deterioration', 'weather', 'storm', 'cell', 'move', 'east', 'blue_mountains', 'force', 'authority', 'decision', 'evacuate', 'people', 'home', 'outlying', 'street', 'hill', 'south_wales', 'southern', 'highland', 'estimated', 'resident', 'leave', 'home', 'nearby', 'mittagong', 'south_wales', 'rural_fire_service', 'weather', 'condition', 'cause', 'fire_burn', 'finger', 'formation', 'ease', 'fire', 'unit', 'hill', 'optimistic', 'defend', 'property', 'blaze', 'burn', 'year', 'south_wales', 'fire', 'crew', 'call', 'fire', 'gunning', 'south', 'goulburn', 'detail', 'available', 'stage', 'fire', 'authority', 'close', 'hume', 'highway', 'direction', 'fire', 'sydney', 'west', 'long', 'threaten', 'property', 'cranebrook', 'area', 'rain', 'fall', 'part', 'illawarra', 'sydney', 'hunter', 'valley', 'north', 'coast', 'bureau', 'meteorology', 'claire', 'richards', 'rain', 'little', 'ease', 'fire_burn', 'state', 'fall', 'isolated', 'area', 'generally', 'fall', 'millimetre', 'place', 'significant', 'millimetre', 'relief', 'rain', 'concern', 'fact', 'probably', 'hamper', 'effort', 'firefighter', 'wind', 'gust', 'associate', 'thunderstorm']\n"
          ],
          "name": "stdout"
        }
      ]
    },
    {
      "cell_type": "markdown",
      "metadata": {
        "id": "ggc2o0PQnjYp"
      },
      "source": [
        "Se puede apreciar el trigrama '**rural_fire_service**'"
      ]
    },
    {
      "cell_type": "code",
      "metadata": {
        "id": "_Sla8zsInjYp",
        "outputId": "a59412a1-ef0c-4a20-cfac-1d964fe76f93"
      },
      "source": [
        "print(make_trigrams(doc1))"
      ],
      "execution_count": null,
      "outputs": [
        {
          "output_type": "stream",
          "text": [
            "['hundred', 'people', 'force', 'vacate', 'home', 'southern', 'highlands', 'south_wales', 'strong', 'wind', 'today', 'push', 'huge', 'bushfire', 'town', 'hill', 'blaze', 'goulburn', 'south', 'west', 'sydney', 'force', 'closure', 'hume', 'highway', 'aedt', 'mark', 'deterioration', 'weather', 'storm', 'cell', 'move', 'east', 'blue_mountains', 'force', 'authority', 'decision', 'evacuate', 'people', 'home', 'outlying', 'street', 'hill', 'south_wales', 'southern', 'highland', 'estimated', 'resident', 'leave', 'home', 'nearby', 'mittagong', 'south_wales', 'rural_fire_service', 'weather', 'condition', 'cause', 'fire_burn', 'finger', 'formation', 'ease', 'fire', 'unit', 'hill', 'optimistic', 'defend', 'property', 'blaze', 'burn', 'year', 'south_wales', 'fire', 'crew', 'call', 'fire', 'gunning', 'south', 'goulburn', 'detail', 'available', 'stage', 'fire', 'authority', 'close', 'hume', 'highway', 'direction', 'fire', 'sydney', 'west', 'long', 'threaten', 'property', 'cranebrook', 'area', 'rain', 'fall', 'part', 'illawarra', 'sydney', 'hunter', 'valley', 'north', 'coast', 'bureau', 'meteorology', 'claire', 'richards', 'rain', 'little', 'ease', 'fire_burn', 'state', 'fall', 'isolated', 'area', 'generally', 'fall', 'millimetre', 'place', 'significant', 'millimetre', 'relief', 'rain', 'concern', 'fact', 'probably', 'hamper', 'effort', 'firefighter', 'wind', 'gust', 'associate', 'thunderstorm']\n"
          ],
          "name": "stdout"
        }
      ]
    },
    {
      "cell_type": "markdown",
      "metadata": {
        "id": "ETzlrNXvnjYp"
      },
      "source": [
        "Podemos ver los bigramas y trigramas que ha encontrado en el documento con una búsqueda de patrones regulares:"
      ]
    },
    {
      "cell_type": "code",
      "metadata": {
        "id": "vIYcMAA-njYq",
        "outputId": "55aae0ba-6fb6-44d9-c43b-2dfd8345a6ee"
      },
      "source": [
        "trigram_sentence = ' '.join(make_trigrams(doc1))\n",
        "re.findall(r'\\w+_\\w+', trigram_sentence)"
      ],
      "execution_count": null,
      "outputs": [
        {
          "output_type": "execute_result",
          "data": {
            "text/plain": [
              "['south_wales',\n",
              " 'blue_mountains',\n",
              " 'south_wales',\n",
              " 'south_wales',\n",
              " 'rural_fire_service',\n",
              " 'fire_burn',\n",
              " 'south_wales',\n",
              " 'fire_burn']"
            ]
          },
          "metadata": {
            "tags": []
          },
          "execution_count": 13
        }
      ]
    },
    {
      "cell_type": "markdown",
      "metadata": {
        "id": "YtcYDYuinjYq"
      },
      "source": [
        "Transformamos el corpus de texto con el modelo de trigramas. Creamos un `generador` para no cargar todo el corpus procesado en memoria."
      ]
    },
    {
      "cell_type": "code",
      "metadata": {
        "id": "njWbz663njYq"
      },
      "source": [
        "textos_trigramas = map(make_trigrams, texto) #aplica modelo trigramas"
      ],
      "execution_count": null,
      "outputs": []
    },
    {
      "cell_type": "code",
      "metadata": {
        "id": "RP9kjKkUnjYr",
        "outputId": "5ffb45e7-be87-4266-da7d-450f8c9d9c8f"
      },
      "source": [
        "type(textos_trigramas)"
      ],
      "execution_count": null,
      "outputs": [
        {
          "output_type": "execute_result",
          "data": {
            "text/plain": [
              "map"
            ]
          },
          "metadata": {
            "tags": []
          },
          "execution_count": 15
        }
      ]
    },
    {
      "cell_type": "markdown",
      "metadata": {
        "id": "wYaEU-3injYr"
      },
      "source": [
        "El objeto `texto_trigramas` es un *generator* y por tanto al recorrerlo no podemos volver atrás..."
      ]
    },
    {
      "cell_type": "code",
      "metadata": {
        "id": "oHJWSufxnjYr",
        "outputId": "ff29b92c-0a90-4b4b-a37c-9b6e5a99e938"
      },
      "source": [
        "print(next(textos_trigramas))"
      ],
      "execution_count": null,
      "outputs": [
        {
          "output_type": "stream",
          "text": [
            "['hundred', 'people', 'force', 'vacate', 'home', 'southern', 'highlands', 'south_wales', 'strong', 'wind', 'today', 'push', 'huge', 'bushfire', 'town', 'hill', 'blaze', 'goulburn', 'south', 'west', 'sydney', 'force', 'closure', 'hume', 'highway', 'aedt', 'mark', 'deterioration', 'weather', 'storm', 'cell', 'move', 'east', 'blue_mountains', 'force', 'authority', 'decision', 'evacuate', 'people', 'home', 'outlying', 'street', 'hill', 'south_wales', 'southern', 'highland', 'estimated', 'resident', 'leave', 'home', 'nearby', 'mittagong', 'south_wales', 'rural_fire_service', 'weather', 'condition', 'cause', 'fire_burn', 'finger', 'formation', 'ease', 'fire', 'unit', 'hill', 'optimistic', 'defend', 'property', 'blaze', 'burn', 'year', 'south_wales', 'fire', 'crew', 'call', 'fire', 'gunning', 'south', 'goulburn', 'detail', 'available', 'stage', 'fire', 'authority', 'close', 'hume', 'highway', 'direction', 'fire', 'sydney', 'west', 'long', 'threaten', 'property', 'cranebrook', 'area', 'rain', 'fall', 'part', 'illawarra', 'sydney', 'hunter', 'valley', 'north', 'coast', 'bureau', 'meteorology', 'claire', 'richards', 'rain', 'little', 'ease', 'fire_burn', 'state', 'fall', 'isolated', 'area', 'generally', 'fall', 'millimetre', 'place', 'significant', 'millimetre', 'relief', 'rain', 'concern', 'fact', 'probably', 'hamper', 'effort', 'firefighter', 'wind', 'gust', 'associate', 'thunderstorm']\n"
          ],
          "name": "stdout"
        }
      ]
    },
    {
      "cell_type": "markdown",
      "metadata": {
        "id": "4d47jsu9njYs"
      },
      "source": [
        "### Ejercicio\n",
        "Crea un *streamer* de datos para generar el texto convertido en trigramas a partir de un corpus normalizado"
      ]
    },
    {
      "cell_type": "code",
      "metadata": {
        "id": "EPMQtFXfnjYs"
      },
      "source": [
        "class TrigramCorpus(object):\n",
        "    \"\"\"Pre-procesa un archivo de texto línea a línea\n",
        "    Entrada: nombre del archivo de texto a procesar (string)\n",
        "    Salida: iterador sobre cada línea normalizado (lista de tokens)\"\"\"\n",
        "    def __init__(self, corpus):\n",
        "        self.corpus = corpus\n",
        " \n",
        "    def __iter__(self):\n",
        "        for t in self.corpus:\n",
        "            yield make_trigrams(t)"
      ],
      "execution_count": null,
      "outputs": []
    },
    {
      "cell_type": "markdown",
      "metadata": {
        "id": "DeZEpziynjYs"
      },
      "source": [
        "Crea el objeto `texto_trigramas` como un *streamer* de datos del objeto `texto`"
      ]
    },
    {
      "cell_type": "code",
      "metadata": {
        "id": "cZGGBrCznjYs"
      },
      "source": [
        "textos_trigramas = TrigramCorpus(texto)"
      ],
      "execution_count": null,
      "outputs": []
    },
    {
      "cell_type": "markdown",
      "metadata": {
        "id": "QLdZiaV-njYs"
      },
      "source": [
        "Esto lo que acaba devolviendo es la primera noticial lematizada y limpiada, y en trigramas"
      ]
    },
    {
      "cell_type": "code",
      "metadata": {
        "id": "XwC1tIypnjYt",
        "outputId": "850174b5-b1e5-4a5b-ea29-5bacdec6e3b2"
      },
      "source": [
        "for t in textos_trigramas:\n",
        "    print(t)\n",
        "    break"
      ],
      "execution_count": null,
      "outputs": [
        {
          "output_type": "stream",
          "text": [
            "['hundred', 'people', 'force', 'vacate', 'home', 'southern', 'highlands', 'south_wales', 'strong', 'wind', 'today', 'push', 'huge', 'bushfire', 'town', 'hill', 'blaze', 'goulburn', 'south', 'west', 'sydney', 'force', 'closure', 'hume', 'highway', 'aedt', 'mark', 'deterioration', 'weather', 'storm', 'cell', 'move', 'east', 'blue_mountains', 'force', 'authority', 'decision', 'evacuate', 'people', 'home', 'outlying', 'street', 'hill', 'south_wales', 'southern', 'highland', 'estimated', 'resident', 'leave', 'home', 'nearby', 'mittagong', 'south_wales', 'rural_fire_service', 'weather', 'condition', 'cause', 'fire_burn', 'finger', 'formation', 'ease', 'fire', 'unit', 'hill', 'optimistic', 'defend', 'property', 'blaze', 'burn', 'year', 'south_wales', 'fire', 'crew', 'call', 'fire', 'gunning', 'south', 'goulburn', 'detail', 'available', 'stage', 'fire', 'authority', 'close', 'hume', 'highway', 'direction', 'fire', 'sydney', 'west', 'long', 'threaten', 'property', 'cranebrook', 'area', 'rain', 'fall', 'part', 'illawarra', 'sydney', 'hunter', 'valley', 'north', 'coast', 'bureau', 'meteorology', 'claire', 'richards', 'rain', 'little', 'ease', 'fire_burn', 'state', 'fall', 'isolated', 'area', 'generally', 'fall', 'millimetre', 'place', 'significant', 'millimetre', 'relief', 'rain', 'concern', 'fact', 'probably', 'hamper', 'effort', 'firefighter', 'wind', 'gust', 'associate', 'thunderstorm']\n"
          ],
          "name": "stdout"
        }
      ]
    },
    {
      "cell_type": "markdown",
      "metadata": {
        "id": "ADUHvSGKnjYt"
      },
      "source": [
        "### Creamos el diccionario y el corpus para Topic Modeling\n",
        "Las dos entradas para el modelo LDA son un diccionario de `gensim` y un corpus de texto.  \n",
        "Creamos un streamer que genera el diccionario (atributo `diccionario`) y el corpus (como BoW):"
      ]
    },
    {
      "cell_type": "code",
      "metadata": {
        "id": "hCthy8H4njYt"
      },
      "source": [
        "#para no tener que cargar todo el corpus en memoria creamos un streamer\n",
        "class BOW_Corpus(object):\n",
        "    \"\"\"\n",
        "    Iterable: en cada iteración devuelve el vector bag-of-words\n",
        "    del siguiente documento en el corpus.\n",
        "    \n",
        "    Procesa un documento cada vez usando un generator, así\n",
        "    nunca carga el corpus entero en RAM.\n",
        "    \"\"\"\n",
        "    def __init__(self, corpus):\n",
        "        self.corpus = corpus\n",
        "        #crea el diccionario = mapeo de documentos a sparse vectors\n",
        "        self.diccionario = gensim.corpora.Dictionary(corpus)\n",
        " \n",
        "    def __iter__(self):\n",
        "        \"\"\"\n",
        "        __iter__ es un generator => TxtSubdirsCorpus es un streamed iterable.\n",
        "        \"\"\"\n",
        "        for tokens in self.corpus:\n",
        "            # transforma cada doc (lista de tokens) en un vector sparse uno a uno\n",
        "            yield self.diccionario.doc2bow(tokens)"
      ],
      "execution_count": null,
      "outputs": []
    },
    {
      "cell_type": "code",
      "metadata": {
        "id": "81fXV9H7njYt"
      },
      "source": [
        "corpus_bow = BOW_Corpus(textos_trigramas)"
      ],
      "execution_count": null,
      "outputs": []
    },
    {
      "cell_type": "markdown",
      "metadata": {
        "id": "QF7ySRdynjYu"
      },
      "source": [
        "El diccionario entrenado está en el atributo `dictionary`"
      ]
    },
    {
      "cell_type": "code",
      "metadata": {
        "id": "dByahWRznjYu",
        "outputId": "d90e15e6-2c04-443d-a1f0-b3b93e11959e"
      },
      "source": [
        "len(corpus_bow.diccionario)"
      ],
      "execution_count": null,
      "outputs": [
        {
          "output_type": "execute_result",
          "data": {
            "text/plain": [
              "5151"
            ]
          },
          "metadata": {
            "tags": []
          },
          "execution_count": 23
        }
      ]
    },
    {
      "cell_type": "markdown",
      "metadata": {
        "id": "6VXHh6xwnjYu"
      },
      "source": [
        "## Topic modeling\n",
        "\n",
        "### Modelo LSI\n",
        "Este modelo ordena los temas y saca un listado ordenado. Hay que especificar el número de topics.\n",
        "\n",
        "Vamos a usar el algoritmo Latent Dirichlet Allocation (LDA) de `gensim` con la implementación multicore"
      ]
    },
    {
      "cell_type": "code",
      "metadata": {
        "id": "_vtlJUfWnjYu",
        "outputId": "918585f4-8188-4cc8-e552-5cd1db3b017e"
      },
      "source": [
        "lsimodel = LsiModel(corpus=corpus_bow, num_topics=10, id2word=corpus_bow.diccionario)\n",
        "pprint(lsimodel.show_topics())"
      ],
      "execution_count": null,
      "outputs": [
        {
          "output_type": "stream",
          "text": [
            "[(0,\n",
            "  '-0.379*\"palestinian\" + -0.268*\"israeli\" + -0.257*\"arafat\" + -0.187*\"attack\" '\n",
            "  '+ -0.160*\"force\" + -0.151*\"official\" + -0.149*\"kill\" + -0.139*\"israel\" + '\n",
            "  '-0.137*\"security\" + -0.130*\"people\"'),\n",
            " (1,\n",
            "  '0.362*\"palestinian\" + 0.251*\"israeli\" + 0.248*\"arafat\" + -0.206*\"year\" + '\n",
            "  '-0.204*\"australian\" + -0.202*\"australia\" + -0.174*\"afghanistan\" + '\n",
            "  '-0.157*\"force\" + 0.130*\"israel\" + -0.115*\"people\"'),\n",
            " (2,\n",
            "  '-0.263*\"force\" + -0.263*\"afghanistan\" + 0.242*\"fire\" + -0.170*\"laden\" + '\n",
            "  '-0.169*\"pakistan\" + -0.161*\"afghan\" + 0.150*\"test\" + 0.149*\"sydney\" + '\n",
            "  '0.140*\"australia\" + -0.129*\"tora_bora\"'),\n",
            " (3,\n",
            "  '-0.406*\"fire\" + -0.265*\"area\" + 0.233*\"australia\" + -0.189*\"sydney\" + '\n",
            "  '0.169*\"test\" + -0.169*\"firefighter\" + 0.164*\"australian\" + -0.150*\"north\" + '\n",
            "  '-0.148*\"south\" + -0.139*\"wind\"'),\n",
            " (4,\n",
            "  '-0.265*\"test\" + 0.206*\"union\" + 0.204*\"company\" + 0.200*\"government\" + '\n",
            "  '-0.156*\"match\" + -0.150*\"south_africa\" + -0.136*\"force\" + -0.132*\"wicket\" + '\n",
            "  '-0.130*\"good\" + -0.129*\"play\"'),\n",
            " (5,\n",
            "  '0.306*\"pakistan\" + -0.284*\"australian\" + 0.268*\"attack\" + -0.235*\"force\" + '\n",
            "  '-0.220*\"government\" + 0.202*\"india\" + -0.191*\"afghanistan\" + '\n",
            "  '0.127*\"president\" + 0.116*\"kill\" + 0.116*\"indian\"'),\n",
            " (6,\n",
            "  '0.346*\"pakistan\" + -0.278*\"year\" + 0.228*\"india\" + -0.159*\"people\" + '\n",
            "  '0.156*\"union\" + -0.155*\"child\" + -0.153*\"kill\" + -0.153*\"tell\" + '\n",
            "  '-0.124*\"report\" + 0.121*\"government\"'),\n",
            " (7,\n",
            "  '0.295*\"year\" + 0.293*\"metre\" + 0.267*\"pakistan\" + 0.215*\"race\" + '\n",
            "  '0.187*\"event\" + -0.148*\"union\" + 0.143*\"india\" + -0.131*\"people\" + '\n",
            "  '0.117*\"world\" + -0.115*\"company\"'),\n",
            " (8,\n",
            "  '0.329*\"metre\" + -0.235*\"government\" + -0.232*\"year\" + 0.221*\"company\" + '\n",
            "  '0.213*\"event\" + 0.192*\"union\" + 0.174*\"race\" + 0.146*\"qantas\" + '\n",
            "  '-0.115*\"police\" + -0.113*\"australia\"'),\n",
            " (9,\n",
            "  '-0.263*\"australian\" + -0.213*\"company\" + 0.200*\"government\" + 0.192*\"child\" '\n",
            "  '+ 0.159*\"call\" + -0.146*\"attack\" + 0.143*\"test\" + -0.136*\"fire\" + '\n",
            "  '0.132*\"people\" + 0.131*\"sharon\"')]\n"
          ],
          "name": "stdout"
        }
      ]
    },
    {
      "cell_type": "code",
      "metadata": {
        "id": "gNRSwULfnjYv",
        "outputId": "9932c1f2-afce-4e93-e905-c0e26571efa3"
      },
      "source": [
        "#aplicamos el modelo sobre varios textos\n",
        "for (i,t) in enumerate(corpus_bow):\n",
        "     print(lsimodel[t])\n",
        "     if (i>3):\n",
        "         break"
      ],
      "execution_count": null,
      "outputs": [
        {
          "output_type": "stream",
          "text": [
            "[(0, -3.2517915932505765), (1, -3.19884961176342), (2, 4.113674633712222), (3, -7.6411734921667), (4, -1.2216759754523232), (5, -0.8793934469718164), (6, 1.360635520260103), (7, 0.3769748414467477), (8, -1.5928277909212396), (9, -0.05198026870892421)]\n",
            "[(0, -2.973905234172126), (1, -1.0099181180279395), (2, -1.748567176713547), (3, 0.13470766088353348), (4, 0.09810637982154675), (5, 3.44472480750739), (6, 3.1604910894909826), (7, 2.625081041628847), (8, -0.8282711125776511), (9, -0.8920623751022699)]\n",
            "[(0, -0.8700655500673334), (1, -1.3781763311384674), (2, 0.9809891967084082), (3, 0.3096236809257071), (4, 0.3379612803159599), (5, 0.12613005758493132), (6, -0.520779825135305), (7, 0.4134708077971278), (8, -0.8247220382218388), (9, -0.018987235763715887)]\n",
            "[(0, -1.4552368301889305), (1, -1.1646570551448152), (2, -0.04215584046744926), (3, 0.7120685574876704), (4, 1.048224009329693), (5, 0.2597995968874266), (6, -0.15992672982292322), (7, 0.6807599751240991), (8, -0.7547950785215845), (9, 0.7666809966256042)]\n",
            "[(0, -1.0697722881141074), (1, -1.1813567224646597), (2, 1.1208289722227736), (3, -0.9916288945182995), (4, 0.5681694404625519), (5, 0.22559006134313941), (6, -0.09409699143880851), (7, -0.5417378334219343), (8, 0.6591051372208556), (9, 0.6710633460024038)]\n"
          ],
          "name": "stdout"
        }
      ]
    },
    {
      "cell_type": "markdown",
      "metadata": {
        "id": "RfC-qI12njYv"
      },
      "source": [
        "Si queremos procesar los documentos de un rango en concreto del corpus:"
      ]
    },
    {
      "cell_type": "code",
      "metadata": {
        "id": "UWGUo2DxnjYv",
        "outputId": "2b33f769-9f11-40b2-d462-dc5473e4f82b"
      },
      "source": [
        "import itertools\n",
        "\n",
        "for t in itertools.islice(corpus_bow, 3, 5): #documentos 3 y 4\n",
        "    print(lsimodel[t])"
      ],
      "execution_count": null,
      "outputs": [
        {
          "output_type": "stream",
          "text": [
            "[(0, -1.4552368301889305), (1, -1.1646570551448152), (2, -0.04215584046744926), (3, 0.7120685574876704), (4, 1.048224009329693), (5, 0.2597995968874266), (6, -0.15992672982292322), (7, 0.6807599751240991), (8, -0.7547950785215845), (9, 0.7666809966256042)]\n",
            "[(0, -1.0697722881141074), (1, -1.1813567224646597), (2, 1.1208289722227736), (3, -0.9916288945182995), (4, 0.5681694404625519), (5, 0.22559006134313941), (6, -0.09409699143880851), (7, -0.5417378334219343), (8, 0.6591051372208556), (9, 0.6710633460024038)]\n"
          ],
          "name": "stdout"
        }
      ]
    },
    {
      "cell_type": "markdown",
      "metadata": {
        "id": "gJJVM6TmnjYv"
      },
      "source": [
        "### Modelo LDA\n",
        "Es un modelo generativo que considera cada documento como una mezcla de temas donde cada tema tiene una distribución de las palabras."
      ]
    },
    {
      "cell_type": "code",
      "metadata": {
        "id": "Lz-cucMZnjYw",
        "outputId": "e28e6ed4-b7fd-4227-cbc4-7a42dd5770be"
      },
      "source": [
        "warnings.filterwarnings('ignore')\n",
        "\n",
        "\n",
        "ldamodel = LdaModel(corpus=corpus_bow, num_topics=5, id2word=corpus_bow.diccionario)\n",
        "pprint(ldamodel.print_topics())"
      ],
      "execution_count": null,
      "outputs": [
        {
          "output_type": "stream",
          "text": [
            "[(0,\n",
            "  '0.007*\"people\" + 0.006*\"australia\" + 0.005*\"force\" + 0.004*\"taliban\" + '\n",
            "  '0.004*\"afghanistan\" + 0.004*\"take\" + 0.004*\"area\" + 0.003*\"year\" + '\n",
            "  '0.003*\"today\" + 0.003*\"attack\"'),\n",
            " (1,\n",
            "  '0.006*\"year\" + 0.005*\"attack\" + 0.005*\"people\" + 0.004*\"government\" + '\n",
            "  '0.004*\"palestinian\" + 0.004*\"australian\" + 0.004*\"fire\" + 0.004*\"area\" + '\n",
            "  '0.003*\"report\" + 0.003*\"time\"'),\n",
            " (2,\n",
            "  '0.006*\"palestinian\" + 0.005*\"israeli\" + 0.004*\"government\" + 0.004*\"tell\" + '\n",
            "  '0.004*\"official\" + 0.004*\"attack\" + 0.004*\"australia\" + 0.004*\"people\" + '\n",
            "  '0.004*\"company\" + 0.004*\"kill\"'),\n",
            " (3,\n",
            "  '0.007*\"australia\" + 0.006*\"government\" + 0.005*\"year\" + 0.005*\"australian\" '\n",
            "  '+ 0.005*\"force\" + 0.005*\"people\" + 0.004*\"child\" + 0.003*\"test\" + '\n",
            "  '0.003*\"work\" + 0.003*\"know\"'),\n",
            " (4,\n",
            "  '0.008*\"year\" + 0.008*\"australian\" + 0.006*\"palestinian\" + 0.006*\"israeli\" + '\n",
            "  '0.005*\"australia\" + 0.005*\"arafat\" + 0.004*\"attack\" + 0.004*\"force\" + '\n",
            "  '0.004*\"people\" + 0.004*\"arrest\"')]\n"
          ],
          "name": "stdout"
        }
      ]
    },
    {
      "cell_type": "code",
      "metadata": {
        "id": "Zrf4k-DonjYw",
        "outputId": "cc2b6750-38e7-4216-d643-ac8247d3877d"
      },
      "source": [
        "for t in itertools.islice(corpus_bow, 3, 6): #documentos 3 y 4\n",
        "    print(ldamodel[t])"
      ],
      "execution_count": null,
      "outputs": [
        {
          "output_type": "stream",
          "text": [
            "[(4, 0.98892224)]\n",
            "[(3, 0.9866787)]\n",
            "[(0, 0.5899118), (4, 0.40259966)]\n"
          ],
          "name": "stdout"
        }
      ]
    },
    {
      "cell_type": "markdown",
      "metadata": {
        "id": "mwA2mWWGnjYw"
      },
      "source": [
        "### Visualización de los temas  \n",
        "Podemos visualizarlo gráficamente la distribución de los documentos del Corpus por temas con la librería `pyLDAvis`"
      ]
    },
    {
      "cell_type": "code",
      "metadata": {
        "id": "uQfI8Sw2njYw",
        "outputId": "bcf4722b-c1c5-455f-bcc6-84ef703d78b8"
      },
      "source": [
        "corpus = list(corpus_bow) #necesitamos pasar el BoW a una lista en memoria para pyLDAvis\n",
        "vis_data = gensimvis.prepare(ldamodel, corpus, corpus_bow.diccionario)\n",
        "pyLDAvis.display(vis_data)"
      ],
      "execution_count": null,
      "outputs": [
        {
          "output_type": "execute_result",
          "data": {
            "text/html": [
              "\n",
              "<link rel=\"stylesheet\" type=\"text/css\" href=\"https://cdn.jsdelivr.net/gh/bmabey/pyLDAvis@3.3.1/pyLDAvis/js/ldavis.v1.0.0.css\">\n",
              "\n",
              "\n",
              "<div id=\"ldavis_el368751404914686804321498887726\"></div>\n",
              "<script type=\"text/javascript\">\n",
              "\n",
              "var ldavis_el368751404914686804321498887726_data = {\"mdsDat\": {\"x\": [0.026186878549939806, -0.03232600173563967, 0.000363251974371197, 0.026054785311543337, -0.020278914100214665], \"y\": [0.008577687300522462, -0.025319889282529335, 0.010022032464211024, -0.019650415026647213, 0.026370584544443063], \"topics\": [1, 2, 3, 4, 5], \"cluster\": [1, 1, 1, 1, 1], \"Freq\": [29.28817729067918, 20.717410102704008, 19.943238523373545, 16.59340842008299, 13.45776566316028]}, \"tinfo\": {\"Term\": [\"taliban\", \"israeli\", \"people\", \"australia\", \"palestinian\", \"afghanistan\", \"kandahar\", \"hamas\", \"take\", \"area\", \"claim\", \"space\", \"force\", \"test\", \"tell\", \"child\", \"pakistan\", \"weather\", \"military\", \"united_states\", \"government\", \"city\", \"official\", \"road\", \"work\", \"north\", \"south_wales\", \"company\", \"service\", \"labor\", \"chechen\", \"casino\", \"drug\", \"musical\", \"raduyev\", \"petrol\", \"actor\", \"golden\", \"nomination\", \"salman\", \"crowe\", \"moulin\", \"actress\", \"rouge\", \"comedy\", \"hostage\", \"dagestan\", \"gaming\", \"gambling\", \"emission\", \"bethlehem\", \"fare\", \"abdel\", \"luck\", \"quarrel\", \"rantissi\", \"freeman\", \"alternative\", \"seven\", \"lording\", \"arbitration\", \"virgin\", \"vehicle\", \"good\", \"arrest\", \"israeli\", \"hamas\", \"arafat\", \"australian\", \"industrial_action\", \"india\", \"palestinian\", \"year\", \"militant\", \"radical\", \"sector\", \"palestinians\", \"territory\", \"sheikh\", \"israel\", \"west_bank\", \"escalate\", \"union\", \"staff\", \"follow\", \"police\", \"authority\", \"month\", \"attack\", \"force\", \"kill\", \"australia\", \"carry\", \"lead\", \"early\", \"official\", \"federal\", \"report\", \"fire\", \"time\", \"people\", \"security\", \"government\", \"group\", \"come\", \"tell\", \"take\", \"company\", \"alcohol\", \"midwife\", \"lung_cancer\", \"spill\", \"mcmenamin\", \"motorist\", \"oxide\", \"nitrous\", \"stringer\", \"friedli\", \"picton\", \"bulli\", \"federation\", \"prosecution\", \"trounson\", \"prostitute\", \"phillip\", \"inherit\", \"corowa\", \"toddler\", \"study\", \"constitutional\", \"crude\", \"outburst\", \"incinerate\", \"dairy\", \"organ\", \"gesture\", \"boyd\", \"meat\", \"phillips\", \"mile\", \"cigarette\", \"disease\", \"prefer\", \"antarctic\", \"zeus\", \"reid\", \"highway\", \"road\", \"child\", \"case\", \"cause\", \"project\", \"conference\", \"test\", \"australia\", \"zealand\", \"government\", \"start\", \"work\", \"know\", \"team\", \"match\", \"risk\", \"force\", \"meet\", \"think\", \"australian\", \"number\", \"year\", \"afghan\", \"yesterday\", \"people\", \"afghanistan\", \"give\", \"believe\", \"world\", \"week\", \"want\", \"early\", \"need\", \"time\", \"security\", \"fire\", \"leader\", \"place\", \"expect\", \"attack\", \"today\", \"shuttle\", \"canyone\", \"supervisor\", \"emotional\", \"space\", \"catastrophe\", \"abegglen\", \"sorrow\", \"wrongdoing\", \"kennedy\", \"endeavour\", \"sultan\", \"interlaken\", \"wiget\", \"trip\", \"haitian\", \"intensify\", \"astronaut\", \"dependent\", \"weather\", \"stefan\", \"gambier\", \"onufrienko\", \"rfds\", \"villawood\", \"inexperienced\", \"simulcast\", \"birth\", \"newsradio\", \"11:55am\", \"accompany\", \"ferguson\", \"carl\", \"guide\", \"accident\", \"wall\", \"river\", \"radio\", \"station\", \"receive\", \"swiss\", \"firefighter\", \"area\", \"aircraft\", \"attack\", \"party\", \"line\", \"sydney\", \"adventure_world\", \"call\", \"north\", \"president\", \"year\", \"fire\", \"report\", \"come\", \"people\", \"united_states\", \"time\", \"state\", \"government\", \"palestinian\", \"police\", \"company\", \"australian\", \"local\", \"today\", \"tell\", \"morning\", \"group\", \"official\", \"kill\", \"australia\", \"security\", \"force\", \"believe\", \"south\", \"afghanistan\", \"ruddock\", \"grounding\", \"rodriguez\", \"inevitable\", \"needy\", \"atomic\", \"stateless\", \"nuclear\", \"sheldon\", \"hungry\", \"arabian\", \"kirribilli\", \"hooke\", \"coordination\", \"context\", \"mitsubishi\", \"editor\", \"hilton\", \"10th\", \"modify\", \"illegally\", \"qanta\", \"metre_butterfly\", \"count\", \"carol\", \"satisfactory\", \"rini\", \"us1,000\", \"noise\", \"picket\", \"interrogate\", \"paedophile\", \"factory\", \"product\", \"maintenance_worker\", \"amwu\", \"asset\", \"sharon\", \"bush\", \"giuliani\", \"workers_union\", \"tell\", \"wage_freeze\", \"terrorism\", \"claim\", \"official\", \"israeli\", \"city\", \"palestinian\", \"company\", \"military\", \"airport\", \"british\", \"policy\", \"kill\", \"metre\", \"group\", \"strike\", \"qantas\", \"target\", \"face\", \"hamas\", \"government\", \"attack\", \"week\", \"israel\", \"arafat\", \"come\", \"call\", \"people\", \"afghanistan\", \"australia\", \"want\", \"police\", \"australian\", \"security\", \"year\", \"force\", \"time\", \"union\", \"fire\", \"campbell\", \"kentucky\", \"megawati\", \"lawrence\", \"kilogram\", \"habeel\", \"mohamad\", \"zaeef\", \"tribe\", \"pashtun\", \"petithory\", \"rehman\", \"prosser\", \"california\", \"ammunition\", \"fort\", \"salam\", \"misguided\", \"jefferson\", \"cody\", \"bastion\", \"tennessee\", \"carmen\", \"ambassador\", \"female\", \"elder\", \"brian\", \"forces\", \"generations\", \"momentum\", \"sergeant\", \"rink\", \"kandahar\", \"taliban\", \"homeless\", \"farmer\", \"relationship\", \"truss\", \"powell\", \"centrelink\", \"almao\", \"communication\", \"surrender\", \"obese\", \"people\", \"karzai\", \"take\", \"pentagon\", \"afghanistan\", \"pakistan\", \"southern\", \"force\", \"australia\", \"area\", \"today\", \"cent\", \"united_states\", \"service\", \"osama_laden\", \"south_wales\", \"attempt\", \"injure\", \"information\", \"work\", \"think\", \"north\", \"expect\", \"believe\", \"report\", \"attack\", \"south\", \"claim\", \"laden\", \"year\", \"afghan\", \"include\", \"fire\", \"security\", \"leader\", \"government\", \"tell\", \"month\", \"australian\", \"authority\", \"palestinian\"], \"Freq\": [34.0, 88.0, 127.0, 132.0, 118.0, 65.0, 17.0, 43.0, 54.0, 65.0, 51.0, 12.0, 105.0, 50.0, 70.0, 48.0, 39.0, 16.0, 37.0, 59.0, 113.0, 35.0, 71.0, 16.0, 52.0, 32.0, 34.0, 62.0, 29.0, 20.0, 3.8415675323040492, 3.8416090064860904, 5.373493469479303, 2.9270048482637616, 2.926391622857866, 5.096496522830503, 4.084277180171016, 2.0128332065112917, 2.0124695098380068, 2.0126358623264142, 2.0123888402751353, 2.012323438680378, 2.0121044458839954, 2.0116327340333062, 2.011477319790712, 2.0119223696672317, 2.0119045950177856, 2.0116698784930462, 2.0116789936978905, 2.6190572235663607, 1.9075200037030569, 1.893039019587202, 1.8618935040350557, 2.4500141545691703, 1.8364403199680737, 1.8240617578495417, 1.8000401167033468, 3.001911550752597, 1.7946910866206285, 4.181822633291115, 2.384082054889848, 4.6914860951095045, 5.632261829480601, 29.05867690902513, 29.073170084727465, 46.33953565542097, 24.3155344923031, 37.329294218008066, 60.20590611968213, 7.9177567912167754, 16.247741429350214, 50.33109114887545, 61.487314324520845, 18.556002982465593, 6.639248588799255, 7.764191112164975, 9.719922117929556, 8.34669645469486, 3.955209069898341, 19.887750817577082, 13.184698073669392, 6.023703363270471, 22.23176220409155, 14.781523357815114, 17.077565978836795, 26.82499049282238, 22.307577008862992, 23.135618624282042, 33.90979439625003, 33.56863415542193, 23.708290483825962, 38.92461184727255, 14.1798314206086, 17.31698412623451, 20.530779297231717, 24.09388370218777, 17.47867327584349, 23.093874632177382, 24.561453603795727, 23.18635932356796, 30.682650919278924, 21.109957589993456, 27.281215610481198, 20.03023605362023, 19.180204918034946, 19.718539800930635, 18.155469943364082, 18.544800395712027, 2.6381496694732043, 3.25830491239343, 4.300737199268323, 4.2202719285917825, 3.0063744110124397, 1.7160858075555858, 1.715318361706795, 1.7079137424020174, 1.6981363436613652, 4.404797117848851, 1.675871548362403, 1.6643410009026902, 2.7210015822915627, 1.5785294003654398, 2.0890351527134, 1.5461329013529959, 1.5334390149538328, 1.5361503023255318, 2.0143744871649734, 1.515389127038651, 5.03306075419186, 1.4988744532095608, 0.9901183033070475, 0.9900360136397912, 0.9900410912588286, 0.9898947268751482, 0.9897730252125065, 0.9896486638446549, 0.9896833206095131, 0.9894142873976602, 2.927338288602099, 2.3539943409615094, 2.3858508392191857, 7.153505735881903, 1.926145778771681, 2.809764488446437, 1.4699747411741837, 4.618550694227557, 4.781763423845116, 8.028532630562669, 20.577702696109917, 7.531472091037146, 9.0667068099934, 5.3106472556117525, 4.209786564682492, 18.44127143535918, 39.998667679906795, 7.1050436502352285, 34.5171809496891, 13.876903933282241, 17.26669661154776, 16.784114540020216, 12.393644689958009, 11.146208773262707, 7.043555134441008, 26.345674173020544, 8.00502019172881, 16.522769649361184, 29.804794566096955, 13.233888443484513, 30.451606502992085, 11.9630509896029, 12.875749626490295, 25.45409198355839, 16.680404735361886, 14.395373004223345, 14.32802604441979, 13.305214967059324, 13.444770505401896, 11.909312693596508, 14.001541910475794, 11.175555154579117, 15.48525249771446, 14.487670255616738, 15.310096240955483, 12.644989089027257, 11.74004067192769, 11.644525983201413, 12.717053237513655, 12.02688649375217, 5.048497433065483, 3.707179679716962, 1.584712806223129, 1.5754300281338092, 8.510233340868115, 1.5622774474139036, 2.070017928164866, 1.5525013816000306, 1.5379935397960582, 2.0441298656252114, 5.102740772621167, 3.006663938951962, 4.540603178129232, 1.9670621542607878, 5.9247210509847115, 1.9682282622349991, 1.4427609230566432, 1.9427607123513808, 2.385765985193194, 10.131165321116596, 1.8829501576395091, 2.8203755909621293, 1.4042199295212292, 1.8447669877885307, 1.8262037591707179, 1.3840266324710693, 0.9091805602751405, 0.9091447934237692, 0.9090681390872075, 0.9090262429923257, 3.5687835336401696, 1.7804162929279637, 1.7892999719208533, 7.426146127460681, 4.894575214908368, 2.983557466771018, 9.024313321457587, 9.913217490761053, 8.219476304436805, 11.771618398848464, 5.625242178623332, 8.564813090548629, 20.319753740219685, 7.152284699900164, 27.820667948947943, 10.220950204155598, 8.369127913988963, 14.909961143331163, 5.350580690821294, 16.040367437874185, 11.009789740443274, 14.947220737046079, 33.53707292661972, 20.829780040873256, 18.655829539110677, 17.12093662067732, 27.081278218278577, 16.11282099265562, 18.646171713386803, 13.877419160969023, 22.700346954231467, 21.93548688060549, 16.568958363682064, 14.348596919716602, 21.224288566669955, 11.121559832027604, 14.077599322997342, 14.222474157050085, 11.185102863281283, 13.438052641553059, 13.382664142070604, 13.018077496897071, 15.633424151116555, 13.019685065574759, 14.192456691262299, 11.955402601730137, 11.572497121825602, 11.974488600509641, 3.0357144670770126, 0.9815173659530679, 1.4352507188806845, 0.9473816113479174, 0.9566716972644509, 0.9326897542264923, 0.9304522658275779, 3.1908310728750484, 1.8117274273521478, 0.8951898592208622, 0.8747200777281485, 1.3115297012887595, 1.2664146896833102, 0.8433824585530013, 0.8326982755399343, 1.6680750043457222, 1.225212523114409, 1.1974245710602192, 0.8077752072208881, 1.218764533552251, 0.8035002816780213, 5.299916648028609, 2.8131459231345026, 3.666249943108447, 0.8000674563678033, 0.7989506810496873, 1.1894555722468791, 0.7952069661480214, 0.7944717664891762, 0.7889797495100227, 1.5316244265179262, 2.2594931332113695, 3.5569595992311784, 2.5808339341390933, 3.7355300359933286, 1.951405163081866, 1.9025558613837938, 7.91485548020626, 4.1207276622900055, 2.853538588981486, 3.184433305925462, 19.34644031036899, 4.01136708421932, 7.787221875791733, 14.315584660185333, 18.825038184135423, 22.339094503318915, 10.605898225229913, 28.087918162849768, 16.56877814774674, 10.916104066147668, 5.952261648613576, 6.344009388088207, 5.578553251861309, 15.986565604283674, 8.677306522525127, 15.121758553617713, 9.560257750775683, 6.780991046690597, 6.9541147184676975, 6.571160196723269, 10.766066270461083, 19.933294507732278, 18.303400566782752, 11.134634660396607, 10.328262458653402, 13.587562832621684, 12.344358736364992, 11.02519842563963, 17.151573221872855, 11.826500338331615, 17.20520735710442, 9.05759059563604, 11.990264787408037, 15.779154735421868, 11.287645015033979, 15.170869813364392, 12.938415037120857, 10.888606346569215, 9.480240347358265, 9.752139632901883, 1.5670571965909563, 1.5669881928758973, 1.9731642686912965, 1.464023027227498, 1.4148407602064417, 1.9072369256330581, 1.8195860822091479, 0.8810387009037816, 0.8766271750780666, 2.1694114625771905, 0.865039838789767, 1.7302976832468369, 0.8562917593082645, 0.8502079143122832, 0.8520333191144405, 1.7094050546247042, 0.8496045768218896, 0.8403094936871738, 0.8385186954522804, 0.8347596683373234, 0.837944310203486, 0.8312491174224191, 0.8220129335133795, 1.2335228708511496, 1.2355396850480378, 3.739027136821787, 1.2289628666218633, 0.8130477383973177, 0.8079436100325177, 0.8044784507875345, 2.4001963247217413, 1.97939868628554, 8.210320441331714, 14.500720048047146, 1.932751127808384, 3.124142466323159, 2.230150857128133, 1.83576185141966, 3.662793842851627, 2.1600895737504335, 1.8112893016834932, 1.8016698277911865, 4.174091057749512, 1.4916006394315806, 26.880888708684992, 3.581686520158309, 13.603668401570054, 5.709237962740775, 13.987294712504562, 9.585178522373917, 5.134145713818733, 18.74940548300187, 21.033848546906125, 12.601091959983844, 12.052310754316943, 9.325871985058713, 11.020906466296296, 7.104235495284599, 6.435826349783462, 7.695884028592455, 5.422001988513449, 6.6007450193547434, 5.239412922980896, 8.89631244545605, 9.335447480862515, 6.761200122362245, 8.087014257942714, 8.649571913962982, 9.798549317987339, 11.964835404408115, 7.941130142754234, 8.073032576509659, 6.716569482791712, 12.183306820610229, 6.939576505854966, 7.333609289046549, 8.712454716779865, 8.221871181567792, 7.444002667972631, 8.711858290131952, 7.919173767938955, 7.6153362747204945, 8.147093352907676, 7.4768086466415395, 7.5511274278254525], \"Total\": [34.0, 88.0, 127.0, 132.0, 118.0, 65.0, 17.0, 43.0, 54.0, 65.0, 51.0, 12.0, 105.0, 50.0, 70.0, 48.0, 39.0, 16.0, 37.0, 59.0, 113.0, 35.0, 71.0, 16.0, 52.0, 32.0, 34.0, 62.0, 29.0, 20.0, 4.49469609336649, 4.494905011743905, 6.294469989882513, 3.5796186378032395, 3.5792991807234715, 6.234391423501033, 5.311726161130599, 2.6651944471672557, 2.6648739599795035, 2.66510402900164, 2.6647967272436026, 2.6647773257268987, 2.664599372549914, 2.664225871114556, 2.6640422817039786, 2.6646330833739587, 2.6646183183468604, 2.6644919522556134, 2.6645419454964268, 3.529373874738181, 2.647908866468294, 2.6462348655803276, 2.647156518328323, 3.5002087577752627, 2.640354945240748, 2.640168977421205, 2.628137067593526, 4.4354745477073045, 2.6532432847306584, 6.189589057225167, 3.538192679638718, 7.109728780597854, 8.700529323350604, 50.93323982760607, 52.72056629899901, 88.7077596378161, 43.9442241690458, 73.67520487534728, 135.1612373407786, 13.377890285110446, 31.10531457379583, 118.71980446665161, 152.83017038810726, 37.87777218695468, 11.363883203337766, 13.765404289534152, 18.265779805142028, 15.517868188635447, 6.1469898092455315, 46.36006387945415, 27.756092650394617, 10.45977505966569, 54.84932003647589, 33.09571116139166, 40.13114416638755, 72.6730952646594, 58.54935187302207, 61.68188582744054, 104.71575155390249, 105.7945855398275, 65.64517499939559, 132.79575958230643, 32.30681277982656, 42.9898723306967, 55.867165989406644, 71.61331752347172, 45.014207044371275, 69.17119344979272, 79.1659242353062, 74.53925431137527, 127.25048305167374, 68.12682910778673, 113.143896312266, 63.56759315211381, 62.877293750422965, 70.25288767740423, 54.78182053964955, 62.71929318446027, 3.311567367153131, 4.121991348888313, 5.7495238102360045, 5.7287970402433475, 4.13031028729698, 2.4790287498744306, 2.4793500329364893, 2.4789034373968026, 2.4835005354451916, 6.504377911074479, 2.4766665576855695, 2.475110367040222, 4.132803708356594, 2.4704466500108127, 3.2908298152120454, 2.479868492746313, 2.4672970813257384, 2.4767059212743816, 3.2846126048278315, 2.4739370961357827, 8.297483286564558, 2.476432975079204, 1.6604692979824016, 1.6603669462389457, 1.6604917827555334, 1.6604075764248307, 1.6602847565261696, 1.6601394721698337, 1.6604532571413364, 1.6601424495510322, 4.9906560343504225, 4.086300911222109, 4.147230927648614, 13.165505486499871, 3.327432022738885, 4.958302030208136, 2.510667421016852, 8.491427138917913, 9.07618539011471, 16.319703101367782, 48.90302918830043, 15.988255865341863, 20.011667718876303, 10.734707867457324, 8.359990395600237, 50.70692218733636, 132.79575958230643, 15.917234250459252, 113.143896312266, 37.539295504202556, 52.13424875037829, 51.39311173782481, 35.653314684594726, 31.21222556311654, 16.811115157198678, 105.7945855398275, 20.81982285775933, 58.148102007121295, 135.1612373407786, 42.53985708693952, 152.83017038810726, 37.94566999332769, 42.71320347032051, 127.25048305167374, 65.20056869667796, 52.13188915400982, 51.89772057097935, 47.025550758150004, 49.53801040679142, 40.25370451479429, 55.867165989406644, 37.992991610977505, 74.53925431137527, 68.12682910778673, 79.1659242353062, 50.80206950874689, 44.16419337354656, 45.44830722536726, 104.71575155390249, 64.76201606264098, 7.118035618939795, 5.4964675601696475, 2.354963195973186, 2.3554936654617, 12.76735437228875, 2.3565317768976457, 3.1397879745095483, 2.3568188325551964, 2.357682775388813, 3.18365888150977, 8.018467064249295, 4.734107845264744, 7.171298239193255, 3.14816829065594, 9.502876731379503, 3.2020213417910908, 2.3596814147802077, 3.1943265420204128, 3.928390232681045, 16.699301055578346, 3.1550037976085448, 4.783361018418922, 2.401293089651835, 3.2012441191003593, 3.1723765268289537, 2.4062767340457527, 1.5929101086828203, 1.5928490956289976, 1.5928366529449238, 1.592790909962176, 6.37170655501742, 3.1529191869953745, 3.1929514668697605, 14.503593030981177, 9.57097248479205, 5.600339376362799, 19.49808098465939, 21.825776050103173, 17.985210625826674, 29.212631366958302, 12.162308642354839, 21.14758859619637, 65.44024366673843, 17.230635722393455, 104.71575155390249, 28.08034147580767, 22.07043539132195, 48.01245050280786, 12.15771153218654, 53.724330368509186, 32.4798445693474, 49.71650795438111, 152.83017038810726, 79.1659242353062, 69.17119344979272, 62.877293750422965, 127.25048305167374, 59.352406380927945, 74.53925431137527, 49.19019167677875, 113.143896312266, 118.71980446665161, 72.6730952646594, 62.71929318446027, 135.1612373407786, 38.28743224341913, 64.76201606264098, 70.25288767740423, 39.71859665776662, 63.56759315211381, 71.61331752347172, 65.64517499939559, 132.79575958230643, 68.12682910778673, 105.7945855398275, 51.89772057097935, 48.809367851351055, 65.20056869667796, 5.179836284095729, 1.7217441415228634, 2.590865640616152, 1.716277411130712, 1.7349768656374538, 1.735633191426264, 1.73524219512478, 6.044615348987142, 3.4595319494172165, 1.7348232504566614, 1.713640693455593, 2.58836888577931, 2.575228500380368, 1.7177460584407416, 1.7059567389773935, 3.4400009455597527, 2.5611918318415525, 2.5209346057511777, 1.704260991594953, 2.5725796646562378, 1.7026092163125623, 11.31732127473046, 6.0078945598203575, 7.833799441677375, 1.715350060673126, 1.714374396115596, 2.5547617791161468, 1.712344359972211, 1.7134608677564573, 1.7141377247167515, 3.393972522585947, 5.1257564852778925, 8.345405373476641, 5.9480717585255976, 8.815352921241313, 4.430426341018059, 4.341019197522908, 21.48502313343867, 10.336190952909558, 6.8978722040150195, 7.955818518056187, 70.25288767740423, 10.636921772257331, 23.795939823800875, 51.14256349832256, 71.61331752347172, 88.7077596378161, 35.51374971322569, 118.71980446665161, 62.71929318446027, 37.8282925404059, 17.761348558047693, 19.433095054289925, 16.667000608364443, 65.64517499939559, 29.790853330392682, 63.56759315211381, 35.04079341340391, 22.055779415816733, 23.181475847972386, 21.817574784514935, 43.9442241690458, 113.143896312266, 104.71575155390249, 49.53801040679142, 46.36006387945415, 73.67520487534728, 62.877293750422965, 53.724330368509186, 127.25048305167374, 65.20056869667796, 132.79575958230643, 40.25370451479429, 72.6730952646594, 135.1612373407786, 68.12682910778673, 152.83017038810726, 105.7945855398275, 74.53925431137527, 54.84932003647589, 79.1659242353062, 2.3754683459875388, 2.3756196409734223, 3.1837265668817682, 2.3737129359042357, 2.3732759383450936, 3.2049645403191205, 3.219916490814642, 1.6114901792410747, 1.611546666404943, 4.014776513801395, 1.6053975111401422, 3.2196773466162556, 1.6051659748904896, 1.605149905091765, 1.6144516081074065, 3.244303072524522, 1.6146639706765669, 1.6049041299387832, 1.6047254615883162, 1.6048290395171172, 1.614449341441726, 1.604605731214404, 1.6046396537555363, 2.4082721089174983, 2.415420845606255, 7.328958527027201, 2.413785507243731, 1.6043212849625825, 1.6043183868976874, 1.6043775999726018, 4.892217943089591, 4.027750814011136, 17.962038907388546, 34.487182119193434, 4.010983403489053, 7.004913069643635, 4.8116219442439245, 3.901576190403132, 8.918996893807506, 4.935616916109197, 3.996407480367158, 4.000297486808938, 11.37510264361742, 3.198725142243918, 127.25048305167374, 9.77359845170393, 54.78182053964955, 18.96792135813743, 65.20056869667796, 39.311880251176106, 17.106404705286266, 105.7945855398275, 132.79575958230643, 65.44024366673843, 64.76201606264098, 45.15880778233978, 59.352406380927945, 29.865561946680096, 25.786251974890966, 34.53866847846271, 20.771835762714325, 29.061316630205038, 20.083663392119917, 52.13424875037829, 58.148102007121295, 32.4798445693474, 45.44830722536726, 51.89772057097935, 69.17119344979272, 104.71575155390249, 48.809367851351055, 51.14256349832256, 34.246975488354295, 152.83017038810726, 37.94566999332769, 47.2590334852424, 79.1659242353062, 68.12682910778673, 50.80206950874689, 113.143896312266, 70.25288767740423, 61.68188582744054, 135.1612373407786, 58.54935187302207, 118.71980446665161], \"Category\": [\"Default\", \"Default\", \"Default\", \"Default\", \"Default\", \"Default\", \"Default\", \"Default\", \"Default\", \"Default\", \"Default\", \"Default\", \"Default\", \"Default\", \"Default\", \"Default\", \"Default\", \"Default\", \"Default\", \"Default\", \"Default\", \"Default\", \"Default\", \"Default\", \"Default\", \"Default\", \"Default\", \"Default\", \"Default\", \"Default\", \"Topic1\", \"Topic1\", \"Topic1\", \"Topic1\", \"Topic1\", \"Topic1\", \"Topic1\", \"Topic1\", \"Topic1\", \"Topic1\", \"Topic1\", \"Topic1\", \"Topic1\", \"Topic1\", \"Topic1\", \"Topic1\", \"Topic1\", \"Topic1\", \"Topic1\", \"Topic1\", \"Topic1\", \"Topic1\", \"Topic1\", \"Topic1\", \"Topic1\", \"Topic1\", \"Topic1\", \"Topic1\", \"Topic1\", \"Topic1\", \"Topic1\", \"Topic1\", \"Topic1\", \"Topic1\", \"Topic1\", \"Topic1\", \"Topic1\", \"Topic1\", \"Topic1\", \"Topic1\", \"Topic1\", \"Topic1\", \"Topic1\", \"Topic1\", \"Topic1\", \"Topic1\", \"Topic1\", \"Topic1\", \"Topic1\", \"Topic1\", \"Topic1\", \"Topic1\", \"Topic1\", \"Topic1\", \"Topic1\", \"Topic1\", \"Topic1\", \"Topic1\", \"Topic1\", \"Topic1\", \"Topic1\", \"Topic1\", \"Topic1\", \"Topic1\", \"Topic1\", \"Topic1\", \"Topic1\", \"Topic1\", \"Topic1\", \"Topic1\", \"Topic1\", \"Topic1\", \"Topic1\", \"Topic1\", \"Topic1\", \"Topic1\", \"Topic1\", \"Topic1\", \"Topic2\", \"Topic2\", \"Topic2\", \"Topic2\", \"Topic2\", \"Topic2\", \"Topic2\", \"Topic2\", \"Topic2\", \"Topic2\", \"Topic2\", \"Topic2\", \"Topic2\", \"Topic2\", \"Topic2\", \"Topic2\", \"Topic2\", \"Topic2\", \"Topic2\", \"Topic2\", \"Topic2\", \"Topic2\", \"Topic2\", \"Topic2\", \"Topic2\", \"Topic2\", \"Topic2\", \"Topic2\", \"Topic2\", \"Topic2\", \"Topic2\", \"Topic2\", \"Topic2\", \"Topic2\", \"Topic2\", \"Topic2\", \"Topic2\", \"Topic2\", \"Topic2\", \"Topic2\", \"Topic2\", \"Topic2\", \"Topic2\", \"Topic2\", \"Topic2\", \"Topic2\", \"Topic2\", \"Topic2\", \"Topic2\", \"Topic2\", \"Topic2\", \"Topic2\", \"Topic2\", \"Topic2\", \"Topic2\", \"Topic2\", \"Topic2\", \"Topic2\", \"Topic2\", \"Topic2\", \"Topic2\", \"Topic2\", \"Topic2\", \"Topic2\", \"Topic2\", \"Topic2\", \"Topic2\", \"Topic2\", \"Topic2\", \"Topic2\", \"Topic2\", \"Topic2\", \"Topic2\", \"Topic2\", \"Topic2\", \"Topic2\", \"Topic2\", \"Topic2\", \"Topic2\", \"Topic2\", \"Topic3\", \"Topic3\", \"Topic3\", \"Topic3\", \"Topic3\", \"Topic3\", \"Topic3\", \"Topic3\", \"Topic3\", \"Topic3\", \"Topic3\", \"Topic3\", \"Topic3\", \"Topic3\", \"Topic3\", \"Topic3\", \"Topic3\", \"Topic3\", \"Topic3\", \"Topic3\", \"Topic3\", \"Topic3\", \"Topic3\", \"Topic3\", \"Topic3\", \"Topic3\", \"Topic3\", \"Topic3\", \"Topic3\", \"Topic3\", \"Topic3\", \"Topic3\", \"Topic3\", \"Topic3\", \"Topic3\", \"Topic3\", \"Topic3\", \"Topic3\", \"Topic3\", \"Topic3\", \"Topic3\", \"Topic3\", \"Topic3\", \"Topic3\", \"Topic3\", \"Topic3\", \"Topic3\", \"Topic3\", \"Topic3\", \"Topic3\", \"Topic3\", \"Topic3\", \"Topic3\", \"Topic3\", \"Topic3\", \"Topic3\", \"Topic3\", \"Topic3\", \"Topic3\", \"Topic3\", \"Topic3\", \"Topic3\", \"Topic3\", \"Topic3\", \"Topic3\", \"Topic3\", \"Topic3\", \"Topic3\", \"Topic3\", \"Topic3\", \"Topic3\", \"Topic3\", \"Topic3\", \"Topic3\", \"Topic3\", \"Topic3\", \"Topic3\", \"Topic3\", \"Topic4\", \"Topic4\", \"Topic4\", \"Topic4\", \"Topic4\", \"Topic4\", \"Topic4\", \"Topic4\", \"Topic4\", \"Topic4\", \"Topic4\", \"Topic4\", \"Topic4\", \"Topic4\", \"Topic4\", \"Topic4\", \"Topic4\", \"Topic4\", \"Topic4\", \"Topic4\", \"Topic4\", \"Topic4\", \"Topic4\", \"Topic4\", \"Topic4\", \"Topic4\", \"Topic4\", \"Topic4\", \"Topic4\", \"Topic4\", \"Topic4\", \"Topic4\", \"Topic4\", \"Topic4\", \"Topic4\", \"Topic4\", \"Topic4\", \"Topic4\", \"Topic4\", \"Topic4\", \"Topic4\", \"Topic4\", \"Topic4\", \"Topic4\", \"Topic4\", \"Topic4\", \"Topic4\", \"Topic4\", \"Topic4\", \"Topic4\", \"Topic4\", \"Topic4\", \"Topic4\", \"Topic4\", \"Topic4\", \"Topic4\", \"Topic4\", \"Topic4\", \"Topic4\", \"Topic4\", \"Topic4\", \"Topic4\", \"Topic4\", \"Topic4\", \"Topic4\", \"Topic4\", \"Topic4\", \"Topic4\", \"Topic4\", \"Topic4\", \"Topic4\", \"Topic4\", \"Topic4\", \"Topic4\", \"Topic4\", \"Topic4\", \"Topic4\", \"Topic4\", \"Topic4\", \"Topic4\", \"Topic4\", \"Topic5\", \"Topic5\", \"Topic5\", \"Topic5\", \"Topic5\", \"Topic5\", \"Topic5\", \"Topic5\", \"Topic5\", \"Topic5\", \"Topic5\", \"Topic5\", \"Topic5\", \"Topic5\", \"Topic5\", \"Topic5\", \"Topic5\", \"Topic5\", \"Topic5\", \"Topic5\", \"Topic5\", \"Topic5\", \"Topic5\", \"Topic5\", \"Topic5\", \"Topic5\", \"Topic5\", \"Topic5\", \"Topic5\", \"Topic5\", \"Topic5\", \"Topic5\", \"Topic5\", \"Topic5\", \"Topic5\", \"Topic5\", \"Topic5\", \"Topic5\", \"Topic5\", \"Topic5\", \"Topic5\", \"Topic5\", \"Topic5\", \"Topic5\", \"Topic5\", \"Topic5\", \"Topic5\", \"Topic5\", \"Topic5\", \"Topic5\", \"Topic5\", \"Topic5\", \"Topic5\", \"Topic5\", \"Topic5\", \"Topic5\", \"Topic5\", \"Topic5\", \"Topic5\", \"Topic5\", \"Topic5\", \"Topic5\", \"Topic5\", \"Topic5\", \"Topic5\", \"Topic5\", \"Topic5\", \"Topic5\", \"Topic5\", \"Topic5\", \"Topic5\", \"Topic5\", \"Topic5\", \"Topic5\", \"Topic5\", \"Topic5\", \"Topic5\", \"Topic5\", \"Topic5\", \"Topic5\", \"Topic5\", \"Topic5\", \"Topic5\", \"Topic5\", \"Topic5\"], \"logprob\": [30.0, 29.0, 28.0, 27.0, 26.0, 25.0, 24.0, 23.0, 22.0, 21.0, 20.0, 19.0, 18.0, 17.0, 16.0, 15.0, 14.0, 13.0, 12.0, 11.0, 10.0, 9.0, 8.0, 7.0, 6.0, 5.0, 4.0, 3.0, 2.0, 1.0, -7.6198, -7.6198, -7.2842, -7.8917, -7.8919, -7.3372, -7.5586, -8.2662, -8.2663, -8.2663, -8.2664, -8.2664, -8.2665, -8.2668, -8.2668, -8.2666, -8.2666, -8.2667, -8.2667, -8.0029, -8.3199, -8.3275, -8.3441, -8.0696, -8.3579, -8.3646, -8.3779, -7.8665, -8.3809, -7.535, -8.0969, -7.42, -7.2372, -5.5964, -5.5959, -5.1297, -5.7746, -5.3459, -4.8679, -6.8966, -6.1778, -5.0471, -4.8469, -6.0449, -7.0727, -6.9162, -6.6915, -6.8438, -7.5907, -5.9756, -6.3866, -7.17, -5.8642, -6.2723, -6.1279, -5.6764, -5.8608, -5.8243, -5.442, -5.4521, -5.7999, -5.3041, -6.3139, -6.114, -5.9438, -5.7837, -6.1047, -5.8261, -5.7645, -5.8221, -5.542, -5.916, -5.6595, -5.9685, -6.0118, -5.9841, -6.0667, -6.0455, -7.6494, -7.4383, -7.1607, -7.1796, -7.5188, -8.0794, -8.0799, -8.0842, -8.09, -7.1368, -8.1032, -8.1101, -7.6185, -8.163, -7.8828, -8.1837, -8.192, -8.1902, -7.9192, -8.2038, -7.0035, -8.2148, -8.6294, -8.6295, -8.6295, -8.6297, -8.6298, -8.6299, -8.6299, -8.6301, -7.5454, -7.7634, -7.7499, -6.6519, -7.964, -7.5864, -8.2343, -7.0894, -7.0547, -6.5365, -5.5953, -6.6004, -6.4149, -6.9498, -7.1821, -5.7049, -4.9306, -6.6587, -5.078, -5.9893, -5.7707, -5.7991, -6.1023, -6.2084, -6.6674, -5.3482, -6.5394, -5.8148, -5.2248, -6.0367, -5.2034, -6.1377, -6.0642, -5.3826, -5.8053, -5.9526, -5.9573, -6.0313, -6.0209, -6.1422, -5.9803, -6.2058, -5.8796, -5.9462, -5.891, -6.0822, -6.1565, -6.1647, -6.0766, -6.1324, -6.9623, -7.2711, -8.121, -8.1269, -6.4401, -8.1353, -7.8539, -8.1415, -8.1509, -7.8664, -6.9516, -7.4806, -7.0684, -7.9049, -6.8023, -7.9043, -8.2149, -7.9173, -7.7119, -6.2658, -7.9486, -7.5445, -8.2419, -7.9691, -7.9792, -8.2564, -8.6766, -8.6767, -8.6767, -8.6768, -7.3092, -8.0046, -7.9996, -6.5764, -6.9933, -7.4883, -6.3815, -6.2875, -6.4749, -6.1157, -6.8541, -6.4337, -5.5698, -6.614, -5.2556, -6.257, -6.4569, -5.8794, -6.9042, -5.8063, -6.1826, -5.8769, -5.0688, -5.545, -5.6553, -5.7411, -5.2826, -5.8018, -5.6558, -5.9511, -5.459, -5.4933, -5.7739, -5.9178, -5.5263, -6.1725, -5.9368, -5.9266, -6.1668, -5.9833, -5.9875, -6.0151, -5.832, -6.0149, -5.9287, -6.1002, -6.1328, -6.0986, -7.2871, -8.4162, -8.0362, -8.4516, -8.4418, -8.4672, -8.4696, -7.2372, -7.8032, -8.5082, -8.5314, -8.1263, -8.1613, -8.5679, -8.5806, -7.8859, -8.1944, -8.2174, -8.611, -8.1997, -8.6163, -6.7298, -7.3632, -7.0984, -8.6206, -8.622, -8.224, -8.6267, -8.6276, -8.6345, -7.9712, -7.5824, -7.1286, -7.4494, -7.0796, -7.729, -7.7543, -6.3288, -6.9815, -7.349, -7.2393, -5.435, -7.0084, -6.345, -5.7362, -5.4623, -5.2912, -6.0361, -5.0622, -5.59, -6.0073, -6.6138, -6.55, -6.6786, -5.6258, -6.2368, -5.6814, -6.1399, -6.4834, -6.4582, -6.5148, -6.0211, -5.4051, -5.4904, -5.9875, -6.0626, -5.7884, -5.8843, -5.9973, -5.5554, -5.9272, -5.5523, -6.1939, -5.9134, -5.6388, -5.9738, -5.6781, -5.8373, -6.0098, -6.1483, -6.12, -7.7389, -7.7389, -7.5084, -7.8069, -7.8411, -7.5424, -7.5895, -8.3147, -8.3198, -7.4136, -8.3331, -7.6398, -8.3432, -8.3504, -8.3482, -7.6519, -8.3511, -8.3621, -8.3642, -8.3687, -8.3649, -8.3729, -8.3841, -7.9782, -7.9766, -6.8693, -7.9819, -8.395, -8.4013, -8.4056, -7.3125, -7.5053, -6.0827, -5.5139, -7.5291, -7.0489, -7.386, -7.5806, -6.8899, -7.4179, -7.594, -7.5994, -6.7592, -7.7882, -4.8967, -6.9122, -5.5777, -6.446, -5.5499, -5.9279, -6.5522, -5.2569, -5.1419, -5.6543, -5.6988, -5.9553, -5.7883, -6.2274, -6.3262, -6.1474, -6.4976, -6.3009, -6.5319, -6.0024, -5.9543, -6.2769, -6.0978, -6.0306, -5.9058, -5.7061, -6.116, -6.0995, -6.2835, -5.688, -6.2508, -6.1956, -6.0233, -6.0813, -6.1807, -6.0234, -6.1188, -6.1579, -6.0904, -6.1763, -6.1664], \"loglift\": [30.0, 29.0, 28.0, 27.0, 26.0, 25.0, 24.0, 23.0, 22.0, 21.0, 20.0, 19.0, 18.0, 17.0, 16.0, 15.0, 14.0, 13.0, 12.0, 11.0, 10.0, 9.0, 8.0, 7.0, 6.0, 5.0, 4.0, 3.0, 2.0, 1.0, 1.071, 1.0709, 1.0698, 1.0267, 1.0266, 1.0265, 0.9652, 0.9473, 0.9472, 0.9472, 0.9472, 0.9472, 0.9471, 0.947, 0.947, 0.947, 0.947, 0.9469, 0.9469, 0.9297, 0.9, 0.893, 0.8761, 0.8713, 0.8649, 0.8582, 0.8495, 0.8376, 0.837, 0.8359, 0.8332, 0.8123, 0.7931, 0.6668, 0.6328, 0.5786, 0.6362, 0.5481, 0.4193, 0.7035, 0.5786, 0.3698, 0.3175, 0.5144, 0.6905, 0.6554, 0.5971, 0.6079, 0.7871, 0.3817, 0.4836, 0.6762, 0.3249, 0.422, 0.3736, 0.2313, 0.263, 0.2474, 0.1004, 0.0801, 0.2095, 0.0008, 0.4045, 0.3187, 0.2269, 0.1387, 0.282, 0.131, 0.0576, 0.0602, -0.1945, 0.0564, -0.1945, 0.0731, 0.0407, -0.0426, 0.1236, 0.0095, 1.3469, 1.3391, 1.2839, 1.2686, 1.2566, 1.2064, 1.2058, 1.2017, 1.1941, 1.1844, 1.1836, 1.1773, 1.1562, 1.1263, 1.1198, 1.1017, 1.0986, 1.0965, 1.0853, 1.0841, 1.0743, 1.0721, 1.0572, 1.0571, 1.0571, 1.057, 1.0569, 1.0569, 1.0567, 1.0567, 1.0407, 1.0227, 1.0213, 0.9642, 1.0275, 1.0062, 1.0389, 0.9652, 0.9334, 0.8648, 0.7086, 0.8214, 0.7825, 0.8704, 0.8882, 0.5627, 0.3742, 0.7676, 0.387, 0.579, 0.4692, 0.4551, 0.5175, 0.5445, 0.7043, 0.184, 0.6184, 0.3159, 0.0624, 0.4065, -0.039, 0.4199, 0.375, -0.0351, 0.211, 0.2873, 0.2871, 0.3117, 0.27, 0.3563, 0.1904, 0.3505, 0.0028, 0.0261, -0.0688, 0.1835, 0.2493, 0.2125, -0.5341, -0.1094, 1.2687, 1.2184, 1.2162, 1.2101, 1.2067, 1.2012, 1.1957, 1.1948, 1.1851, 1.1692, 1.1603, 1.1583, 1.1553, 1.142, 1.1398, 1.1256, 1.1203, 1.115, 1.1136, 1.1125, 1.0961, 1.084, 1.0758, 1.0611, 1.06, 1.0592, 1.0515, 1.0515, 1.0514, 1.0514, 1.0326, 1.0408, 1.0332, 0.9429, 0.9417, 0.9826, 0.8419, 0.8231, 0.8292, 0.7034, 0.8412, 0.7084, 0.4427, 0.733, 0.2868, 0.6016, 0.6426, 0.4428, 0.7915, 0.4035, 0.5304, 0.4105, 0.0956, 0.2771, 0.3019, 0.3114, 0.065, 0.3084, 0.2266, 0.3468, 0.006, -0.0764, 0.1338, 0.1373, -0.239, 0.376, 0.0861, 0.015, 0.345, 0.0583, -0.065, -0.0056, -0.5271, -0.0426, -0.3965, 0.1442, 0.173, -0.0824, 1.2618, 1.2342, 1.2055, 1.202, 1.2009, 1.1751, 1.1729, 1.1573, 1.1493, 1.1345, 1.1237, 1.1163, 1.0864, 1.0848, 1.079, 1.0724, 1.0588, 1.0517, 1.0496, 1.0491, 1.0452, 1.0375, 1.0374, 1.0369, 1.0335, 1.0327, 1.0317, 1.0291, 1.0276, 1.0202, 1.0005, 0.977, 0.9434, 0.9612, 0.9376, 0.9762, 0.9713, 0.7975, 0.8765, 0.9135, 0.8805, 0.5066, 0.821, 0.6791, 0.5229, 0.4601, 0.4172, 0.5877, 0.3547, 0.465, 0.5533, 0.7029, 0.6767, 0.7017, 0.3836, 0.5627, 0.3602, 0.4973, 0.6167, 0.5921, 0.5961, 0.3896, 0.0599, 0.052, 0.3035, 0.2946, 0.1057, 0.1682, 0.2125, -0.2079, 0.089, -0.2474, 0.3046, -0.0057, -0.3516, -0.0015, -0.5138, -0.3051, -0.1274, 0.0408, -0.2979, 1.5896, 1.5895, 1.5272, 1.5223, 1.4884, 1.4866, 1.4349, 1.4018, 1.3967, 1.3901, 1.3873, 1.3846, 1.3772, 1.3701, 1.3665, 1.3649, 1.3635, 1.3586, 1.3565, 1.352, 1.3498, 1.3479, 1.3367, 1.3366, 1.3352, 1.3326, 1.3306, 1.3259, 1.3197, 1.3153, 1.2935, 1.2952, 1.2227, 1.1392, 1.2755, 1.1982, 1.2366, 1.2517, 1.1157, 1.1793, 1.2143, 1.208, 1.0031, 1.2427, 0.4509, 1.0018, 0.6126, 0.805, 0.4663, 0.5943, 0.8021, 0.2753, 0.1629, 0.3583, 0.3242, 0.4282, 0.3219, 0.5696, 0.6177, 0.5042, 0.6625, 0.5234, 0.6619, 0.2374, 0.1764, 0.4362, 0.2793, 0.2138, 0.0513, -0.1637, 0.1897, 0.1595, 0.3766, -0.5236, 0.3067, 0.1424, -0.2012, -0.109, 0.0851, -0.5584, -0.1772, -0.0862, -0.8032, -0.0525, -0.7495]}, \"token.table\": {\"Topic\": [4, 3, 1, 3, 1, 2, 3, 4, 5, 1, 2, 3, 4, 1, 3, 1, 1, 2, 3, 4, 5, 1, 2, 3, 4, 5, 1, 2, 3, 4, 5, 1, 2, 3, 4, 5, 1, 2, 3, 4, 5, 2, 3, 4, 5, 1, 4, 5, 5, 1, 4, 2, 4, 5, 4, 1, 2, 3, 4, 5, 1, 1, 2, 3, 4, 5, 1, 2, 3, 4, 5, 1, 4, 1, 3, 4, 1, 2, 3, 4, 5, 1, 2, 3, 4, 5, 1, 2, 3, 4, 5, 1, 2, 3, 4, 5, 1, 2, 3, 4, 5, 5, 1, 2, 3, 4, 5, 1, 3, 2, 5, 1, 2, 3, 4, 5, 2, 1, 2, 3, 4, 5, 5, 1, 2, 3, 4, 5, 5, 2, 3, 1, 3, 5, 4, 1, 2, 3, 4, 5, 1, 2, 3, 4, 5, 1, 3, 1, 2, 3, 4, 5, 1, 2, 3, 4, 5, 2, 4, 5, 1, 1, 2, 3, 4, 5, 2, 4, 1, 2, 3, 4, 5, 1, 2, 3, 4, 5, 5, 1, 2, 3, 4, 5, 1, 1, 3, 5, 1, 2, 3, 4, 5, 1, 2, 3, 4, 5, 2, 4, 4, 2, 5, 1, 2, 3, 4, 1, 2, 1, 2, 3, 5, 1, 2, 3, 4, 5, 1, 1, 2, 3, 4, 5, 2, 4, 1, 2, 3, 4, 5, 1, 3, 1, 3, 1, 2, 3, 4, 1, 2, 3, 4, 5, 1, 2, 3, 4, 5, 1, 2, 3, 4, 5, 1, 3, 5, 1, 2, 3, 4, 5, 2, 5, 5, 3, 1, 2, 3, 4, 5, 1, 2, 3, 4, 5, 1, 2, 3, 4, 5, 1, 2, 3, 4, 5, 5, 4, 5, 1, 2, 3, 5, 2, 3, 4, 1, 1, 5, 2, 1, 3, 4, 1, 2, 3, 4, 5, 1, 1, 2, 3, 4, 5, 1, 2, 3, 4, 5, 4, 1, 2, 3, 4, 5, 1, 2, 3, 4, 5, 2, 5, 1, 3, 1, 2, 3, 4, 5, 1, 2, 3, 5, 3, 4, 2, 5, 3, 4, 1, 4, 4, 2, 1, 2, 3, 4, 5, 1, 2, 3, 4, 5, 1, 2, 4, 4, 3, 1, 2, 3, 4, 5, 2, 1, 2, 3, 4, 5, 3, 1, 2, 3, 2, 3, 4, 1, 2, 3, 4, 5, 1, 2, 3, 4, 5, 5, 1, 2, 3, 4, 5, 1, 2, 4, 5, 1, 3, 5, 1, 2, 3, 4, 5, 5, 4, 1, 2, 3, 4, 5, 1, 2, 3, 4, 5, 1, 2, 3, 4, 5, 5, 1, 2, 3, 4, 5, 1, 2, 3, 4, 5, 1, 2, 3, 4, 5, 1, 2, 3, 4, 5, 1, 4, 5, 1, 2, 5, 1, 2, 3, 4, 1, 2, 3, 4, 5, 2, 2, 1, 2, 3, 4, 5, 2, 5, 1, 2, 3, 4, 5, 1, 2, 3, 4, 2, 2, 3, 5, 1, 2, 3, 4, 5, 1, 2, 3, 4, 5, 5, 2, 4, 1, 3, 4, 2, 5, 5, 1, 2, 3, 4, 5, 1, 2, 3, 4, 5, 2, 1, 1, 1, 2, 3, 4, 5, 4, 3, 2, 4, 1, 1, 2, 3, 4, 5, 1, 2, 3, 4, 1, 2, 3, 4, 5, 2, 5, 1, 2, 3, 4, 5, 3, 2, 1, 2, 3, 4, 5, 2, 2, 1, 2, 3, 4, 1, 2, 3, 4, 5, 1, 2, 3, 4, 5, 1, 2, 3, 4, 5, 1, 2, 3, 4, 5, 2, 5, 1, 2, 3, 4, 5, 1, 2, 3, 4, 5, 5, 1, 3, 2, 2, 3, 4, 4, 2, 1, 2, 3, 4, 5, 1, 2, 3, 4, 5, 1, 2, 3, 4, 5, 1, 2, 3, 4, 5, 2, 4, 1, 2, 3, 4, 5, 1, 3, 4, 2, 3, 4, 2, 5, 2, 1, 2, 3, 4, 1, 2, 3, 4, 5, 1, 1, 2, 3, 4, 5, 1, 2, 3, 4, 5, 1, 1, 1, 2, 3, 4, 5, 2, 5, 1, 2, 4, 2, 3, 5, 1, 2, 3, 4, 5, 3, 4, 2, 4, 1, 3, 5, 1, 2, 3, 4, 5, 1, 2, 3, 4, 5, 1, 2, 3, 4, 5, 2, 4, 1, 2, 4, 5, 1, 4, 1, 2, 3, 4, 5, 1, 2, 3, 4, 5, 1, 3, 5, 1, 2, 3, 4, 5, 1, 1, 2, 3, 4, 5, 1, 2, 4, 5, 1, 3, 4, 1, 3, 3, 3, 1, 2, 3, 4, 5, 1, 2, 3, 4, 5, 1, 2, 3, 4, 5, 1, 3, 4, 2, 5, 1, 2, 3, 4, 5, 1, 2, 3, 4, 5, 1, 2, 3, 4, 5, 4, 1, 2, 3, 4, 5, 2, 3, 1, 2, 3, 4, 5, 2, 1, 2, 3, 5, 3, 4, 3, 1, 2, 3, 4, 5, 1, 2, 3, 4, 1, 2, 3, 4, 5, 1, 2, 3, 4, 5, 1, 2, 3, 4, 5, 1, 2, 3, 4, 5, 1, 2, 3, 4, 5, 1, 2, 3, 4, 5, 5, 1, 2, 3, 4, 5, 1, 2, 3, 4, 5, 1, 2, 3, 4, 5, 1, 2, 3, 4, 5, 1, 2, 3, 4, 5, 1, 2, 3, 4, 5, 2, 5, 1, 2, 3, 5, 2, 3, 5, 1, 2, 3, 4, 5, 1, 2, 3, 4, 5, 4, 1, 3, 4, 5, 3, 1, 4, 5, 1, 2, 4, 1, 2, 3, 4, 5, 1, 2, 3, 4, 5, 1, 2, 3, 4, 5, 1, 2, 3, 4, 5, 1, 2, 3, 4, 5, 2, 3, 1, 2, 3, 4, 5, 1, 3, 4, 1, 2, 3, 4, 5, 3, 1, 2, 3, 4, 5, 1, 2, 3, 4, 5, 5, 1, 2, 3, 4, 5, 2], \"Freq\": [0.5867645888345646, 0.6278287964512222, 0.7555276713531839, 0.6369856870072288, 0.10448259062378103, 0.20896518124756205, 0.5224129531189051, 0.10448259062378103, 0.10448259062378103, 0.1569438252319619, 0.1569438252319619, 0.6277753009278476, 0.1569438252319619, 0.7530508687120651, 0.18826271717801626, 0.7505818775623597, 0.2467569650799616, 0.16450464338664106, 0.41126160846660265, 0.08225232169332053, 0.08225232169332053, 0.15812080801459114, 0.31624161602918227, 0.18447427601702301, 0.15812080801459114, 0.18447427601702301, 0.16871018489383915, 0.2607339221086605, 0.1840474744296427, 0.1840474744296427, 0.21472205350124982, 0.23214465585860417, 0.05803616396465104, 0.4062531477525573, 0.17410849189395314, 0.11607232792930208, 0.16890609348695518, 0.22520812464927356, 0.11260406232463678, 0.33781218697391036, 0.16890609348695518, 0.9059154374319802, 0.25022473431766473, 0.25022473431766473, 0.5004494686353295, 0.6763650580636742, 0.22545501935455806, 0.4152354695705433, 0.6194053726839682, 0.4514238238165639, 0.4514238238165639, 0.605045836603477, 0.2016819455344923, 0.2016819455344923, 0.5835529022034828, 0.5022042363180547, 0.09501161227638873, 0.13573087468055534, 0.19002322455277745, 0.08143852480833319, 0.5652603408258191, 0.275060100504316, 0.15281116694684221, 0.30562233389368443, 0.07640558347342111, 0.1986545170308949, 0.5500699638833473, 0.13277550852356657, 0.0948396489454047, 0.0948396489454047, 0.11380757873448565, 0.23036064907766923, 0.46072129815533847, 0.31305503267912604, 0.6261100653582521, 0.5761586059426795, 0.3246884971502924, 0.1241456018515824, 0.2673905270649467, 0.17189391025603717, 0.11459594017069144, 0.28885265936726046, 0.14442632968363023, 0.19256843957817366, 0.14442632968363023, 0.24071054947271706, 0.29368407637917016, 0.3012144373119694, 0.12048577492478776, 0.128016135857587, 0.15813757958878394, 0.44391425515529664, 0.22195712757764832, 0.15536998930435383, 0.1183771347080791, 0.05918856735403955, 0.3757513840240646, 0.1878756920120323, 0.15371647528257187, 0.15371647528257187, 0.11955725855311146, 0.6194062423209798, 0.2119553590982006, 0.2697613661249826, 0.23122402810712792, 0.11561201405356396, 0.17341802108034593, 0.755313003905434, 0.6278058623030524, 0.6022451976285177, 0.4142870180465565, 0.20583442775457353, 0.20583442775457353, 0.15437582081593015, 0.3087516416318603, 0.15437582081593015, 0.8080447751473939, 0.29024231592350014, 0.09674743864116672, 0.09674743864116672, 0.3869897545646669, 0.09674743864116672, 0.6229947725305014, 0.18613540515828478, 0.18613540515828478, 0.29781664825325566, 0.20474894567411325, 0.11168124309497086, 0.8419392341633382, 0.1819350317368443, 0.7277401269473772, 0.31318985282928813, 0.6263797056585763, 0.623192875521664, 0.5829713846324679, 0.43334513049650203, 0.15476611803446502, 0.18571934164135803, 0.12381289442757201, 0.12381289442757201, 0.2501836368950599, 0.5003672737901198, 0.06254590922376498, 0.06254590922376498, 0.06254590922376498, 0.8898964470993582, 0.8487048719678133, 0.14991254312953664, 0.44973762938860995, 0.14991254312953664, 0.14991254312953664, 0.04997084770984555, 0.3543051906312086, 0.1992966697300548, 0.15500852090115375, 0.0664322232433516, 0.1992966697300548, 0.20260891738500472, 0.40521783477000944, 0.40521783477000944, 0.8899378104569542, 0.18403767924775427, 0.42942125157809335, 0.16358904822022602, 0.12269178616516953, 0.12269178616516953, 0.48224949005527273, 0.24112474502763637, 0.2534229720228136, 0.1126324320101394, 0.1689486480152091, 0.3097391880278833, 0.1689486480152091, 0.3324041431860878, 0.07821273957319713, 0.15642547914639426, 0.27374458850619, 0.15642547914639426, 0.623119332574449, 0.3021758550139921, 0.12723193895325982, 0.2703678702756771, 0.19084790842988975, 0.09542395421494487, 0.7507388353914403, 0.24998140845712608, 0.24998140845712608, 0.49996281691425215, 0.3029370873826678, 0.14349651507600053, 0.22321680122933416, 0.27104897292133434, 0.0637762289226669, 0.11961736230298639, 0.47846944921194556, 0.11961736230298639, 0.23923472460597278, 0.11961736230298639, 0.4038066081590667, 0.5861813357585098, 0.5821582271058943, 0.6088998127390531, 0.30444990636952657, 0.25530395753554797, 0.12765197876777398, 0.12765197876777398, 0.5106079150710959, 0.7505262895113012, 0.6022393796832481, 0.7505765408236058, 0.6022617664472405, 0.5091143907653597, 0.25455719538267985, 0.1519121314446174, 0.5316924600561609, 0.0759560657223087, 0.0759560657223087, 0.1519121314446174, 0.7943480559978531, 0.37589162843846335, 0.2505944189589756, 0.14319681083370034, 0.1252972094794878, 0.10739760812527525, 0.3904432255201198, 0.3904432255201198, 0.13644503462699, 0.13644503462699, 0.13644503462699, 0.13644503462699, 0.54578013850796, 0.8500091252651856, 0.8490789125548254, 0.24942423333221536, 0.6235605833305384, 0.5736261024519363, 0.09560435040865606, 0.09560435040865606, 0.09560435040865606, 0.35204831547762244, 0.26403623660821685, 0.11001509858675701, 0.11001509858675701, 0.17602415773881122, 0.22917304280532405, 0.13750382568319444, 0.22917304280532405, 0.3208422599274537, 0.13750382568319444, 0.11982641408627064, 0.11982641408627064, 0.23965282817254127, 0.47930565634508254, 0.23965282817254127, 0.7557908128314959, 0.4282708393628389, 0.4282708393628389, 0.37765854640608926, 0.222152086121229, 0.17772166889698318, 0.1332912516727374, 0.0666456258363687, 0.72589946479528, 0.24196648826509334, 0.41400652884942973, 0.6343327822194936, 0.31579243521103956, 0.18947546112662372, 0.2652656455772732, 0.1263169740844158, 0.11368527667597424, 0.2837202914510625, 0.09457343048368749, 0.4255804371765937, 0.09457343048368749, 0.18914686096737499, 0.42361114673223316, 0.09967321099581958, 0.17442811924268425, 0.17442811924268425, 0.12459151374477447, 0.32137750553595523, 0.2457592689392599, 0.13233191404421685, 0.12287963446962995, 0.17959331191715144, 0.6233165447426716, 0.3082326088671673, 0.6164652177343346, 0.7609953166679071, 0.614970417568992, 0.153742604392248, 0.153742604392248, 0.2090580234586887, 0.6271740703760661, 0.2090580234586887, 0.7505980543411498, 0.7506121376373117, 0.6233176707110653, 0.6023590287224369, 0.2899444844507075, 0.14497224222535374, 0.4349167266760612, 0.3260959899185317, 0.2685496387564379, 0.19182117054031278, 0.11509270232418767, 0.09591058527015639, 0.7504142904566425, 0.5693727730290947, 0.1767018950779949, 0.09816771948777495, 0.039267087795109984, 0.09816771948777495, 0.23863417188217262, 0.30934059318059415, 0.20328096123296185, 0.1767660532460538, 0.0795447239607242, 0.5808063903824359, 0.3146257237102101, 0.15731286185510504, 0.20450672041163653, 0.23596929278265755, 0.07865643092755252, 0.20684529644424587, 0.20684529644424587, 0.4826390250365737, 0.06894843214808195, 0.06894843214808195, 0.3120159326007486, 0.6240318652014972, 0.31230272795141256, 0.6246054559028251, 0.5461468589745985, 0.022756119123941602, 0.11378059561970802, 0.25031731036335764, 0.045512238247883204, 0.22035689158336189, 0.5508922289584047, 0.11017844579168094, 0.11017844579168094, 0.39667827865055794, 0.39667827865055794, 0.24931541704463928, 0.49863083408927855, 0.38831505625706514, 0.38831505625706514, 0.7505723817958455, 0.5764275984523309, 0.5873338346927058, 0.6022312247402584, 0.3597195868448854, 0.12695985418054778, 0.19043978127082167, 0.16927980557406372, 0.14811982987730576, 0.514381552452742, 0.09644654108488912, 0.1285953881131855, 0.16074423514148187, 0.09644654108488912, 0.5980016153147838, 0.07475020191434797, 0.22425060574304392, 0.5826563896457645, 0.41557979838780507, 0.24895856410149825, 0.1991668512811986, 0.0995834256405993, 0.24895856410149825, 0.24895856410149825, 0.8075242130365263, 0.27528002608406105, 0.13764001304203052, 0.2064600195630458, 0.13764001304203052, 0.2408700228235534, 0.4237860220182075, 0.13944476531943767, 0.13944476531943767, 0.6972238265971884, 0.29463998112691747, 0.29463998112691747, 0.5892799622538349, 0.4314057903803622, 0.08628115807607244, 0.194132605671163, 0.2157028951901811, 0.06471086855705434, 0.5185566650292249, 0.07891079685227335, 0.09018376783116955, 0.24800536153571626, 0.05636485489448097, 0.6231595521705162, 0.1670189011096047, 0.1670189011096047, 0.11134593407306981, 0.1670189011096047, 0.44538373629227923, 0.10231646050750734, 0.40926584203002936, 0.10231646050750734, 0.40926584203002936, 0.3141040033553391, 0.6282080067106782, 0.8418856139699576, 0.36560188925112885, 0.10663388436491258, 0.19803435667769478, 0.2437345928340859, 0.09140047231278221, 0.4213585044380928, 0.3863436952491872, 0.31132576835630993, 0.3307836288785793, 0.17512074470042432, 0.11674716313361623, 0.07783144208907748, 0.09908905963626301, 0.3468117087269205, 0.24772264909065753, 0.09908905963626301, 0.24772264909065753, 0.29199658823595986, 0.2335972705887679, 0.14599829411797993, 0.14599829411797993, 0.2043976117651719, 0.42128093286860013, 0.39544197454760144, 0.23261292620447144, 0.2093516335840243, 0.06978387786134144, 0.09304517048178858, 0.2755793245310516, 0.2558950870645479, 0.19684237466503685, 0.11810542479902211, 0.1377896622655258, 0.27185689333338603, 0.18123792888892404, 0.3624758577778481, 0.04530948222223101, 0.09061896444446202, 0.28730054107743636, 0.1828276170492777, 0.28730054107743636, 0.15670938604223802, 0.10447292402815868, 0.6462464572394773, 0.16156161430986932, 0.16156161430986932, 0.5713944905592439, 0.6957097895444335, 0.17392744738610838, 0.34031535966884036, 0.11343845322294678, 0.11343845322294678, 0.4537538128917871, 0.3203872783688002, 0.3524260062056802, 0.12815491134752008, 0.09611618351064005, 0.09611618351064005, 0.7263376819961159, 0.6023579484221003, 0.14409344500651847, 0.3842491866840492, 0.1921245933420246, 0.1921245933420246, 0.0960622966710123, 0.3140973255688312, 0.6281946511376624, 0.2685387998550006, 0.2014040998912505, 0.1342693999275003, 0.3021061498368757, 0.1342693999275003, 0.16644766149655946, 0.3328953229931189, 0.16644766149655946, 0.4993429844896784, 0.7278035653347719, 0.4894402158459375, 0.24472010792296875, 0.24472010792296875, 0.5016134503956837, 0.10560283166224921, 0.1584042474933738, 0.1584042474933738, 0.0792021237466869, 0.2379171618805354, 0.10574096083579351, 0.21148192167158703, 0.2907876422984322, 0.18504668146263864, 0.6230901780021861, 0.2906975945139693, 0.5813951890279386, 0.3887148816958504, 0.3887148816958504, 0.3887148816958504, 0.31056706062181105, 0.6211341212436221, 0.6232946658050307, 0.37288094699867214, 0.17833436595588667, 0.17833436595588667, 0.1296977206951903, 0.1296977206951903, 0.2265941084864621, 0.25177123165162457, 0.27694835481678703, 0.15106273899097472, 0.10070849266064982, 0.8067675697997877, 0.7505317538884565, 0.8380781037169526, 0.23688579441582022, 0.2895270820637803, 0.2105651505918402, 0.1052825752959201, 0.15792386294388017, 0.5763765614434211, 0.6278107665033607, 0.8068083531725952, 0.5836141453929807, 0.7505045379389661, 0.21551827272616308, 0.15394162337583078, 0.3386715714268277, 0.09236497402549847, 0.21551827272616308, 0.1654364988117174, 0.1654364988117174, 0.1654364988117174, 0.4963094964351522, 0.2585810285520962, 0.3055957610161137, 0.18805892985606998, 0.11753683116004372, 0.11753683116004372, 0.31262454744657936, 0.31262454744657936, 0.335133196309944, 0.125674948616229, 0.181530481334553, 0.265313780412039, 0.097747182257067, 0.4164422928252338, 0.602306318882497, 0.27146248345111035, 0.1551214191149202, 0.1551214191149202, 0.1551214191149202, 0.23268212867238028, 0.6022765041578276, 0.8066630259670284, 0.19509315412704104, 0.19509315412704104, 0.19509315412704104, 0.39018630825408207, 0.2543760292335757, 0.12718801461678786, 0.15262561754014542, 0.20350082338686054, 0.2543760292335757, 0.421159723305011, 0.09265513912710242, 0.18531027825420485, 0.23584944505080616, 0.06738555572880175, 0.5474718356773842, 0.054747183567738424, 0.16424155070321528, 0.16424155070321528, 0.054747183567738424, 0.32050892286170585, 0.10683630762056862, 0.3561210254018954, 0.10683630762056862, 0.10683630762056862, 0.24907986697699125, 0.4981597339539825, 0.21088235892985496, 0.21088235892985496, 0.15816176919739122, 0.15816176919739122, 0.31632353839478244, 0.24361400645851813, 0.19646290843428882, 0.21217994110903193, 0.1335947777353164, 0.21217994110903193, 0.6228986858773731, 0.802002899778173, 0.1604005799556346, 0.8106036419924558, 0.6011233752338687, 0.20037445841128956, 0.20037445841128956, 0.5833836952425994, 0.8075370476472167, 0.249070551497693, 0.2717133289065742, 0.249070551497693, 0.1358566644532871, 0.06792833222664355, 0.3715267651896751, 0.15136275618838615, 0.2339242595638695, 0.16512300675096672, 0.09632175393806391, 0.11999759566795042, 0.17999639350192562, 0.23999519133590083, 0.35999278700385123, 0.11999759566795042, 0.11212023189449745, 0.2242404637889949, 0.11212023189449745, 0.11212023189449745, 0.4484809275779898, 0.6010641198174664, 0.3005320599087332, 0.2614825645423155, 0.18102639083698766, 0.30171065139497943, 0.14079830398432372, 0.10057021713165981, 0.16812171079924548, 0.33624342159849097, 0.5043651323977364, 0.46577886065793095, 0.18631154426317237, 0.18631154426317237, 0.8095702046394107, 0.6229885355427022, 0.8064943789761666, 0.26508039554363977, 0.17672026369575985, 0.08836013184787993, 0.44180065923939965, 0.45339590188450823, 0.13601877056535247, 0.04533959018845082, 0.3173771313191558, 0.04533959018845082, 0.7574739159994414, 0.6159866196041139, 0.08799808851487342, 0.08799808851487342, 0.17599617702974685, 0.08799808851487342, 0.13745215717018314, 0.13745215717018314, 0.45817385723394377, 0.1832695428935775, 0.09163477144678875, 0.8381529032713103, 0.7575272708315464, 0.20539060396957098, 0.17115883664130915, 0.41078120793914197, 0.10269530198478549, 0.13692706931304732, 0.3105901282471542, 0.6211802564943084, 0.11776583413367576, 0.5888291706683788, 0.23553166826735153, 0.20783012705233125, 0.20783012705233125, 0.4156602541046625, 0.33250835865213657, 0.13011196642909692, 0.2746808180169824, 0.13011196642909692, 0.14456885158788546, 0.6247571024236842, 0.3123785512118421, 0.3914259279180085, 0.3914259279180085, 0.24827752415103482, 0.24827752415103482, 0.49655504830206965, 0.23793781451120227, 0.41639117539460396, 0.11896890725560114, 0.11896890725560114, 0.05948445362780057, 0.25643549249456277, 0.15386129549673766, 0.46158388649021304, 0.10257419699782512, 0.05128709849891256, 0.1225512490991565, 0.490204996396626, 0.1225512490991565, 0.06127562454957825, 0.245102498198313, 0.3859713851321842, 0.3859713851321842, 0.7506871026529433, 0.19305629466908436, 0.5791688840072531, 0.6193239077360387, 0.7504397495317318, 0.5833031584383115, 0.581167093369165, 0.14529177334229126, 0.14529177334229126, 0.07264588667114563, 0.14529177334229126, 0.3082486044781989, 0.2054990696521326, 0.19082056467698028, 0.16146355472667562, 0.11742803980121863, 0.20440626554925478, 0.20440626554925478, 0.40881253109850957, 0.20090028812154898, 0.30135043218232344, 0.10045014406077449, 0.13393352541436598, 0.23438366947514047, 0.7537944264327152, 0.2792643025206602, 0.1396321512603301, 0.18617620168044016, 0.3723524033608803, 0.04654405042011004, 0.6507250091717578, 0.16268125229293945, 0.16268125229293945, 0.16268125229293945, 0.2890564430741729, 0.2890564430741729, 0.5781128861483458, 0.14048819836461374, 0.7024409918230686, 0.627781815526867, 0.8486015014703767, 0.28683018478413824, 0.22536657375896577, 0.24585444410068993, 0.08195148136689664, 0.1639029627337933, 0.231624447392596, 0.289530559240745, 0.2026713914685215, 0.057906111848149, 0.231624447392596, 0.1169152743932192, 0.292288185983048, 0.17537291158982882, 0.1169152743932192, 0.292288185983048, 0.23497428774370288, 0.7049228632311086, 0.0783247625812343, 0.6982268654136311, 0.17455671635340778, 0.45323093155038446, 0.1812923726201538, 0.1510769771834615, 0.0906461863100769, 0.1510769771834615, 0.2930262769254298, 0.3729425342687288, 0.1864712671343644, 0.05327750489553269, 0.07991625734329903, 0.32526809623214237, 0.20329256014508898, 0.2846095842031246, 0.10164628007254449, 0.08131702405803559, 0.5762884298281432, 0.2780061965368381, 0.05560123930736763, 0.444809914458941, 0.11120247861473526, 0.11120247861473526, 0.3169568292621353, 0.6339136585242706, 0.3424579991219526, 0.14269083296748025, 0.19976716615447238, 0.2853816659349605, 0.0570763331869921, 0.80531490589813, 0.12051847113922108, 0.6025923556961054, 0.12051847113922108, 0.12051847113922108, 0.6336991251690067, 0.21123304172300225, 0.8492701726378795, 0.2637338839033072, 0.08791129463443574, 0.2637338839033072, 0.08791129463443574, 0.35164517853774296, 0.24666369586713158, 0.24666369586713158, 0.49332739173426315, 0.08222123195571053, 0.31241896305881683, 0.1666234469647023, 0.31241896305881683, 0.08331172348235115, 0.10413965435293894, 0.32857615578825283, 0.10952538526275095, 0.20079653964837674, 0.10952538526275095, 0.2555592322797522, 0.2609665228343245, 0.08698884094477483, 0.11598512125969976, 0.11598512125969976, 0.43494420472387413, 0.34510313547183996, 0.12941367580193996, 0.17255156773591998, 0.3019652435378599, 0.043137891933979995, 0.3085267133592193, 0.33657459639187554, 0.11219153213062519, 0.14023941516328148, 0.08414364909796888, 0.28468580667941273, 0.12810861300573576, 0.19928006467558892, 0.2704515163454421, 0.1138743226717651, 0.6232060502757747, 0.5155347308503897, 0.06444184135629871, 0.12888368271259742, 0.12888368271259742, 0.12888368271259742, 0.2521438549780982, 0.16809590331873214, 0.21011987914841518, 0.3361918066374643, 0.08404795165936607, 0.3155387728107045, 0.3549811194120426, 0.19721173300669032, 0.019721173300669033, 0.09860586650334516, 0.25796198813441884, 0.2923569198856747, 0.18917212463190716, 0.10318479525376753, 0.1547771928806513, 0.30856224968284957, 0.20123624979316276, 0.2548992497380062, 0.14757324984831938, 0.08049449991726511, 0.27794069879772615, 0.1852937991984841, 0.21617609906489813, 0.12352919946565606, 0.1852937991984841, 0.8084279924190236, 0.6205219003870435, 0.10523129240410899, 0.10523129240410899, 0.6313877544246539, 0.10523129240410899, 0.6077494468887111, 0.5126133394291985, 0.5126133394291985, 0.4010988647693274, 0.2005494323846637, 0.12762236606296778, 0.16408589922381575, 0.09115883290211986, 0.23587923141897582, 0.1516366487693416, 0.2695762644788295, 0.1516366487693416, 0.1853336818291953, 0.5839946820137444, 0.6896132151290054, 0.11493553585483424, 0.11493553585483424, 0.11493553585483424, 0.6304421883991058, 0.7032617072039071, 0.14065234144078143, 0.14065234144078143, 0.3760486431734972, 0.1880243215867486, 0.3760486431734972, 0.1785606072768863, 0.1785606072768863, 0.5356818218306589, 0.1785606072768863, 0.1785606072768863, 0.1987394724641999, 0.29810920869629987, 0.14905460434814993, 0.2235819065222249, 0.12421217029012495, 0.1796482373732558, 0.05988274579108527, 0.5988274579108527, 0.05988274579108527, 0.05988274579108527, 0.3027977885430694, 0.26242475007066013, 0.10093259618102313, 0.22205171159825088, 0.10093259618102313, 0.46836563646559143, 0.07205625176393715, 0.1441125035278743, 0.25219688117378003, 0.07205625176393715, 0.3176450264644664, 0.6352900529289328, 0.21099373758445467, 0.32608123081233903, 0.17263123984182654, 0.11508749322788436, 0.17263123984182654, 0.37708250800232906, 0.12569416933410968, 0.37708250800232906, 0.2977104951306425, 0.27644545976416807, 0.1913853182982702, 0.14885524756532126, 0.10632517683237233, 0.8482905422550637, 0.399135850238814, 0.19629631978958065, 0.2224691624281914, 0.09814815989479032, 0.07851852791583225, 0.3043555374869768, 0.3043555374869768, 0.18729571537660109, 0.11705982211037569, 0.09364785768830054, 0.6205436513866601, 0.2512999392394184, 0.43977489366898226, 0.0628249848098546, 0.0628249848098546, 0.1256499696197092, 0.3983004645015816], \"Term\": [\"10th\", \"11:55am\", \"abdel\", \"abegglen\", \"accident\", \"accident\", \"accident\", \"accident\", \"accident\", \"accompany\", \"accompany\", \"accompany\", \"accompany\", \"actor\", \"actor\", \"actress\", \"adventure_world\", \"adventure_world\", \"adventure_world\", \"adventure_world\", \"adventure_world\", \"afghan\", \"afghan\", \"afghan\", \"afghan\", \"afghan\", \"afghanistan\", \"afghanistan\", \"afghanistan\", \"afghanistan\", \"afghanistan\", \"aircraft\", \"aircraft\", \"aircraft\", \"aircraft\", \"aircraft\", \"airport\", \"airport\", \"airport\", \"airport\", \"airport\", \"alcohol\", \"almao\", \"almao\", \"almao\", \"alternative\", \"alternative\", \"ambassador\", \"ammunition\", \"amwu\", \"amwu\", \"antarctic\", \"antarctic\", \"antarctic\", \"arabian\", \"arafat\", \"arafat\", \"arafat\", \"arafat\", \"arafat\", \"arbitration\", \"area\", \"area\", \"area\", \"area\", \"area\", \"arrest\", \"arrest\", \"arrest\", \"arrest\", \"arrest\", \"asset\", \"asset\", \"astronaut\", \"astronaut\", \"atomic\", \"attack\", \"attack\", \"attack\", \"attack\", \"attack\", \"attempt\", \"attempt\", \"attempt\", \"attempt\", \"attempt\", \"australia\", \"australia\", \"australia\", \"australia\", \"australia\", \"australian\", \"australian\", \"australian\", \"australian\", \"australian\", \"authority\", \"authority\", \"authority\", \"authority\", \"authority\", \"bastion\", \"believe\", \"believe\", \"believe\", \"believe\", \"believe\", \"bethlehem\", \"birth\", \"boyd\", \"brian\", \"british\", \"british\", \"british\", \"british\", \"british\", \"bulli\", \"bush\", \"bush\", \"bush\", \"bush\", \"bush\", \"california\", \"call\", \"call\", \"call\", \"call\", \"call\", \"campbell\", \"canyone\", \"canyone\", \"carl\", \"carl\", \"carmen\", \"carol\", \"carry\", \"carry\", \"carry\", \"carry\", \"carry\", \"case\", \"case\", \"case\", \"case\", \"case\", \"casino\", \"catastrophe\", \"cause\", \"cause\", \"cause\", \"cause\", \"cause\", \"cent\", \"cent\", \"cent\", \"cent\", \"cent\", \"centrelink\", \"centrelink\", \"centrelink\", \"chechen\", \"child\", \"child\", \"child\", \"child\", \"child\", \"cigarette\", \"cigarette\", \"city\", \"city\", \"city\", \"city\", \"city\", \"claim\", \"claim\", \"claim\", \"claim\", \"claim\", \"cody\", \"come\", \"come\", \"come\", \"come\", \"come\", \"comedy\", \"communication\", \"communication\", \"communication\", \"company\", \"company\", \"company\", \"company\", \"company\", \"conference\", \"conference\", \"conference\", \"conference\", \"conference\", \"constitutional\", \"context\", \"coordination\", \"corowa\", \"corowa\", \"count\", \"count\", \"count\", \"count\", \"crowe\", \"crude\", \"dagestan\", \"dairy\", \"dependent\", \"dependent\", \"disease\", \"disease\", \"disease\", \"disease\", \"disease\", \"drug\", \"early\", \"early\", \"early\", \"early\", \"early\", \"editor\", \"editor\", \"elder\", \"elder\", \"elder\", \"elder\", \"elder\", \"emission\", \"emotional\", \"endeavour\", \"endeavour\", \"escalate\", \"escalate\", \"escalate\", \"escalate\", \"expect\", \"expect\", \"expect\", \"expect\", \"expect\", \"face\", \"face\", \"face\", \"face\", \"face\", \"factory\", \"factory\", \"factory\", \"factory\", \"factory\", \"fare\", \"farmer\", \"farmer\", \"federal\", \"federal\", \"federal\", \"federal\", \"federal\", \"federation\", \"federation\", \"female\", \"ferguson\", \"fire\", \"fire\", \"fire\", \"fire\", \"fire\", \"firefighter\", \"firefighter\", \"firefighter\", \"firefighter\", \"firefighter\", \"follow\", \"follow\", \"follow\", \"follow\", \"follow\", \"force\", \"force\", \"force\", \"force\", \"force\", \"forces\", \"fort\", \"fort\", \"freeman\", \"friedli\", \"friedli\", \"friedli\", \"gambier\", \"gambier\", \"gambier\", \"gambling\", \"gaming\", \"generations\", \"gesture\", \"giuliani\", \"giuliani\", \"giuliani\", \"give\", \"give\", \"give\", \"give\", \"give\", \"golden\", \"good\", \"good\", \"good\", \"good\", \"good\", \"government\", \"government\", \"government\", \"government\", \"government\", \"grounding\", \"group\", \"group\", \"group\", \"group\", \"group\", \"guide\", \"guide\", \"guide\", \"guide\", \"guide\", \"habeel\", \"habeel\", \"haitian\", \"haitian\", \"hamas\", \"hamas\", \"hamas\", \"hamas\", \"hamas\", \"highway\", \"highway\", \"highway\", \"highway\", \"hilton\", \"hilton\", \"homeless\", \"homeless\", \"hooke\", \"hooke\", \"hostage\", \"hungry\", \"illegally\", \"incinerate\", \"include\", \"include\", \"include\", \"include\", \"include\", \"india\", \"india\", \"india\", \"india\", \"india\", \"industrial_action\", \"industrial_action\", \"industrial_action\", \"inevitable\", \"inexperienced\", \"information\", \"information\", \"information\", \"information\", \"information\", \"inherit\", \"injure\", \"injure\", \"injure\", \"injure\", \"injure\", \"intensify\", \"interlaken\", \"interlaken\", \"interlaken\", \"interrogate\", \"interrogate\", \"interrogate\", \"israel\", \"israel\", \"israel\", \"israel\", \"israel\", \"israeli\", \"israeli\", \"israeli\", \"israeli\", \"israeli\", \"jefferson\", \"kandahar\", \"kandahar\", \"kandahar\", \"kandahar\", \"kandahar\", \"karzai\", \"karzai\", \"karzai\", \"karzai\", \"kennedy\", \"kennedy\", \"kentucky\", \"kill\", \"kill\", \"kill\", \"kill\", \"kill\", \"kilogram\", \"kirribilli\", \"know\", \"know\", \"know\", \"know\", \"know\", \"labor\", \"labor\", \"labor\", \"labor\", \"labor\", \"laden\", \"laden\", \"laden\", \"laden\", \"laden\", \"lawrence\", \"lead\", \"lead\", \"lead\", \"lead\", \"lead\", \"leader\", \"leader\", \"leader\", \"leader\", \"leader\", \"line\", \"line\", \"line\", \"line\", \"line\", \"local\", \"local\", \"local\", \"local\", \"local\", \"lording\", \"lording\", \"lording\", \"luck\", \"lung_cancer\", \"lung_cancer\", \"maintenance_worker\", \"maintenance_worker\", \"maintenance_worker\", \"maintenance_worker\", \"match\", \"match\", \"match\", \"match\", \"match\", \"mcmenamin\", \"meat\", \"meet\", \"meet\", \"meet\", \"meet\", \"meet\", \"megawati\", \"megawati\", \"metre\", \"metre\", \"metre\", \"metre\", \"metre\", \"metre_butterfly\", \"metre_butterfly\", \"metre_butterfly\", \"metre_butterfly\", \"midwife\", \"mile\", \"mile\", \"mile\", \"militant\", \"militant\", \"militant\", \"militant\", \"militant\", \"military\", \"military\", \"military\", \"military\", \"military\", \"misguided\", \"mitsubishi\", \"mitsubishi\", \"modify\", \"modify\", \"modify\", \"mohamad\", \"mohamad\", \"momentum\", \"month\", \"month\", \"month\", \"month\", \"month\", \"morning\", \"morning\", \"morning\", \"morning\", \"morning\", \"motorist\", \"moulin\", \"musical\", \"need\", \"need\", \"need\", \"need\", \"need\", \"needy\", \"newsradio\", \"nitrous\", \"noise\", \"nomination\", \"north\", \"north\", \"north\", \"north\", \"north\", \"nuclear\", \"nuclear\", \"nuclear\", \"nuclear\", \"number\", \"number\", \"number\", \"number\", \"number\", \"obese\", \"obese\", \"official\", \"official\", \"official\", \"official\", \"official\", \"onufrienko\", \"organ\", \"osama_laden\", \"osama_laden\", \"osama_laden\", \"osama_laden\", \"osama_laden\", \"outburst\", \"oxide\", \"paedophile\", \"paedophile\", \"paedophile\", \"paedophile\", \"pakistan\", \"pakistan\", \"pakistan\", \"pakistan\", \"pakistan\", \"palestinian\", \"palestinian\", \"palestinian\", \"palestinian\", \"palestinian\", \"palestinians\", \"palestinians\", \"palestinians\", \"palestinians\", \"palestinians\", \"party\", \"party\", \"party\", \"party\", \"party\", \"pashtun\", \"pashtun\", \"pentagon\", \"pentagon\", \"pentagon\", \"pentagon\", \"pentagon\", \"people\", \"people\", \"people\", \"people\", \"people\", \"petithory\", \"petrol\", \"petrol\", \"phillip\", \"phillips\", \"phillips\", \"phillips\", \"picket\", \"picton\", \"place\", \"place\", \"place\", \"place\", \"place\", \"police\", \"police\", \"police\", \"police\", \"police\", \"policy\", \"policy\", \"policy\", \"policy\", \"policy\", \"powell\", \"powell\", \"powell\", \"powell\", \"powell\", \"prefer\", \"prefer\", \"president\", \"president\", \"president\", \"president\", \"president\", \"product\", \"product\", \"product\", \"project\", \"project\", \"project\", \"prosecution\", \"prosser\", \"prostitute\", \"qanta\", \"qanta\", \"qanta\", \"qanta\", \"qantas\", \"qantas\", \"qantas\", \"qantas\", \"qantas\", \"quarrel\", \"radical\", \"radical\", \"radical\", \"radical\", \"radical\", \"radio\", \"radio\", \"radio\", \"radio\", \"radio\", \"raduyev\", \"rantissi\", \"receive\", \"receive\", \"receive\", \"receive\", \"receive\", \"rehman\", \"rehman\", \"reid\", \"reid\", \"reid\", \"relationship\", \"relationship\", \"relationship\", \"report\", \"report\", \"report\", \"report\", \"report\", \"rfds\", \"rfds\", \"rini\", \"rini\", \"rink\", \"rink\", \"rink\", \"risk\", \"risk\", \"risk\", \"risk\", \"risk\", \"river\", \"river\", \"river\", \"river\", \"river\", \"road\", \"road\", \"road\", \"road\", \"road\", \"rodriguez\", \"rodriguez\", \"rouge\", \"ruddock\", \"ruddock\", \"salam\", \"salman\", \"satisfactory\", \"sector\", \"sector\", \"sector\", \"sector\", \"sector\", \"security\", \"security\", \"security\", \"security\", \"security\", \"sergeant\", \"sergeant\", \"sergeant\", \"service\", \"service\", \"service\", \"service\", \"service\", \"seven\", \"sharon\", \"sharon\", \"sharon\", \"sharon\", \"sharon\", \"sheikh\", \"sheikh\", \"sheikh\", \"sheikh\", \"sheldon\", \"sheldon\", \"sheldon\", \"shuttle\", \"shuttle\", \"simulcast\", \"sorrow\", \"south\", \"south\", \"south\", \"south\", \"south\", \"south_wales\", \"south_wales\", \"south_wales\", \"south_wales\", \"south_wales\", \"southern\", \"southern\", \"southern\", \"southern\", \"southern\", \"space\", \"space\", \"space\", \"spill\", \"spill\", \"staff\", \"staff\", \"staff\", \"staff\", \"staff\", \"start\", \"start\", \"start\", \"start\", \"start\", \"state\", \"state\", \"state\", \"state\", \"state\", \"stateless\", \"station\", \"station\", \"station\", \"station\", \"station\", \"stefan\", \"stefan\", \"strike\", \"strike\", \"strike\", \"strike\", \"strike\", \"stringer\", \"study\", \"study\", \"study\", \"study\", \"sultan\", \"sultan\", \"supervisor\", \"surrender\", \"surrender\", \"surrender\", \"surrender\", \"surrender\", \"swiss\", \"swiss\", \"swiss\", \"swiss\", \"sydney\", \"sydney\", \"sydney\", \"sydney\", \"sydney\", \"take\", \"take\", \"take\", \"take\", \"take\", \"taliban\", \"taliban\", \"taliban\", \"taliban\", \"taliban\", \"target\", \"target\", \"target\", \"target\", \"target\", \"team\", \"team\", \"team\", \"team\", \"team\", \"tell\", \"tell\", \"tell\", \"tell\", \"tell\", \"tennessee\", \"territory\", \"territory\", \"territory\", \"territory\", \"territory\", \"terrorism\", \"terrorism\", \"terrorism\", \"terrorism\", \"terrorism\", \"test\", \"test\", \"test\", \"test\", \"test\", \"think\", \"think\", \"think\", \"think\", \"think\", \"time\", \"time\", \"time\", \"time\", \"time\", \"today\", \"today\", \"today\", \"today\", \"today\", \"toddler\", \"tribe\", \"trip\", \"trip\", \"trip\", \"trip\", \"trounson\", \"truss\", \"truss\", \"union\", \"union\", \"union\", \"union\", \"union\", \"united_states\", \"united_states\", \"united_states\", \"united_states\", \"united_states\", \"us1,000\", \"vehicle\", \"vehicle\", \"vehicle\", \"vehicle\", \"villawood\", \"virgin\", \"virgin\", \"virgin\", \"wage_freeze\", \"wage_freeze\", \"wage_freeze\", \"wall\", \"wall\", \"wall\", \"wall\", \"wall\", \"want\", \"want\", \"want\", \"want\", \"want\", \"weather\", \"weather\", \"weather\", \"weather\", \"weather\", \"week\", \"week\", \"week\", \"week\", \"week\", \"west_bank\", \"west_bank\", \"west_bank\", \"west_bank\", \"west_bank\", \"wiget\", \"wiget\", \"work\", \"work\", \"work\", \"work\", \"work\", \"workers_union\", \"workers_union\", \"workers_union\", \"world\", \"world\", \"world\", \"world\", \"world\", \"wrongdoing\", \"year\", \"year\", \"year\", \"year\", \"year\", \"yesterday\", \"yesterday\", \"yesterday\", \"yesterday\", \"yesterday\", \"zaeef\", \"zealand\", \"zealand\", \"zealand\", \"zealand\", \"zealand\", \"zeus\"]}, \"R\": 30, \"lambda.step\": 0.01, \"plot.opts\": {\"xlab\": \"PC1\", \"ylab\": \"PC2\"}, \"topic.order\": [5, 4, 2, 3, 1]};\n",
              "\n",
              "function LDAvis_load_lib(url, callback){\n",
              "  var s = document.createElement('script');\n",
              "  s.src = url;\n",
              "  s.async = true;\n",
              "  s.onreadystatechange = s.onload = callback;\n",
              "  s.onerror = function(){console.warn(\"failed to load library \" + url);};\n",
              "  document.getElementsByTagName(\"head\")[0].appendChild(s);\n",
              "}\n",
              "\n",
              "if(typeof(LDAvis) !== \"undefined\"){\n",
              "   // already loaded: just create the visualization\n",
              "   !function(LDAvis){\n",
              "       new LDAvis(\"#\" + \"ldavis_el368751404914686804321498887726\", ldavis_el368751404914686804321498887726_data);\n",
              "   }(LDAvis);\n",
              "}else if(typeof define === \"function\" && define.amd){\n",
              "   // require.js is available: use it to load d3/LDAvis\n",
              "   require.config({paths: {d3: \"https://d3js.org/d3.v5\"}});\n",
              "   require([\"d3\"], function(d3){\n",
              "      window.d3 = d3;\n",
              "      LDAvis_load_lib(\"https://cdn.jsdelivr.net/gh/bmabey/pyLDAvis@3.3.1/pyLDAvis/js/ldavis.v3.0.0.js\", function(){\n",
              "        new LDAvis(\"#\" + \"ldavis_el368751404914686804321498887726\", ldavis_el368751404914686804321498887726_data);\n",
              "      });\n",
              "    });\n",
              "}else{\n",
              "    // require.js not available: dynamically load d3 & LDAvis\n",
              "    LDAvis_load_lib(\"https://d3js.org/d3.v5.js\", function(){\n",
              "         LDAvis_load_lib(\"https://cdn.jsdelivr.net/gh/bmabey/pyLDAvis@3.3.1/pyLDAvis/js/ldavis.v3.0.0.js\", function(){\n",
              "                 new LDAvis(\"#\" + \"ldavis_el368751404914686804321498887726\", ldavis_el368751404914686804321498887726_data);\n",
              "            })\n",
              "         });\n",
              "}\n",
              "</script>"
            ],
            "text/plain": [
              "<IPython.core.display.HTML object>"
            ]
          },
          "metadata": {
            "tags": []
          },
          "execution_count": 29
        }
      ]
    },
    {
      "cell_type": "markdown",
      "metadata": {
        "id": "jc5PqklTnjYy"
      },
      "source": [
        "Se ha heco un PCA de las ¿palabras? ¿temas?. Las dos primeras componentes aparecen en la imagen\n",
        "\n",
        "1 - Asigna cada documento a su temática mayoritaria: en este caso, todos los temas tienen un número similar de documentos asociados a cada uno.\n",
        "\n",
        "2 - Al pasar el ratón por encima de cad uno de los temas"
      ]
    },
    {
      "cell_type": "markdown",
      "metadata": {
        "id": "0FUWmK2-njYy"
      },
      "source": [
        "Podemos ver que la separación de temas no es muy buena porque hay algunas palabras muy frecuentes que aparecen en todos los temas. Podemos filtrar estas palabras antes de realizar el LDA del Corpus mediante el método `filter_extremes` de la clase `Dictionary`:"
      ]
    },
    {
      "cell_type": "code",
      "metadata": {
        "id": "VMRrC73-njYy"
      },
      "source": [
        "corpus_bow.diccionario.filter_extremes(no_above=0.7) #filtramos las palabras que aparecen en más del 70% de los documentos"
      ],
      "execution_count": null,
      "outputs": []
    },
    {
      "cell_type": "code",
      "metadata": {
        "id": "WugSoP_TnjYy",
        "outputId": "4abd3d41-bc28-4265-bfac-c979151d9070"
      },
      "source": [
        "len(corpus_bow.diccionario.token2id)"
      ],
      "execution_count": null,
      "outputs": [
        {
          "output_type": "execute_result",
          "data": {
            "text/plain": [
              "1103"
            ]
          },
          "metadata": {
            "tags": []
          },
          "execution_count": 31
        }
      ]
    },
    {
      "cell_type": "markdown",
      "metadata": {
        "id": "fyExSpurnjYz"
      },
      "source": [
        "Volvemos a calcular la matriz LDA del Corpus y la representamos gráficamente para ver si es más expresiva"
      ]
    },
    {
      "cell_type": "code",
      "metadata": {
        "id": "CpkyTkWgnjYz",
        "outputId": "040376de-2a94-44d5-ba70-20e524152390"
      },
      "source": [
        "# Crea corpus (BoW)\n",
        "corpus = [corpus_bow.diccionario.doc2bow(text) for text in textos_trigramas]\n",
        "\n",
        "# Aplica el modelo LDA\n",
        "ldamodel = LdaModel(corpus=corpus, num_topics=5, id2word=corpus_bow.diccionario)\n",
        "\n",
        "# Representa gráficamente\n",
        "vis_data = gensimvis.prepare(ldamodel, corpus, corpus_bow.diccionario)\n",
        "pyLDAvis.display(vis_data)"
      ],
      "execution_count": null,
      "outputs": [
        {
          "output_type": "execute_result",
          "data": {
            "text/html": [
              "\n",
              "<link rel=\"stylesheet\" type=\"text/css\" href=\"https://cdn.jsdelivr.net/gh/bmabey/pyLDAvis@3.3.1/pyLDAvis/js/ldavis.v1.0.0.css\">\n",
              "\n",
              "\n",
              "<div id=\"ldavis_el368751404914686188809528448469\"></div>\n",
              "<script type=\"text/javascript\">\n",
              "\n",
              "var ldavis_el368751404914686188809528448469_data = {\"mdsDat\": {\"x\": [0.02484816079358237, -0.001095879210948507, -0.007247460671129571, 0.02806621707876898, -0.04457103799027332], \"y\": [0.01051738741146049, -0.04055300880572182, -0.006608231862063709, 0.017616066865899966, 0.019027786390425058], \"topics\": [1, 2, 3, 4, 5], \"cluster\": [1, 1, 1, 1, 1], \"Freq\": [24.738764268464724, 21.38613228575137, 18.336317216163962, 17.966422394361985, 17.572363835257956]}, \"tinfo\": {\"Term\": [\"company\", \"year\", \"qantas\", \"test\", \"union\", \"boat\", \"australia\", \"detainee\", \"rate\", \"station\", \"hollingworth\", \"race\", \"labor\", \"palestinian\", \"australian\", \"child\", \"indian\", \"governor_general\", \"people\", \"metre\", \"month\", \"firefighter\", \"director\", \"sydney\", \"project\", \"police\", \"cost\", \"fire\", \"abuse\", \"good\", \"blue_mountains\", \"geoff\", \"undertake\", \"income\", \"event\", \"weather_bureau\", \"champion\", \"territory\", \"jenin\", \"source\", \"overall\", \"karzai\", \"minute\", \"look_forward\", \"link\", \"assessment\", \"army\", \"task\", \"northern_alliance\", \"crime\", \"victory\", \"race\", \"dismiss\", \"york\", \"tennis\", \"word\", \"term\", \"feel\", \"cabinet\", \"wind\", \"country\", \"israeli\", \"palestinian\", \"west_bank\", \"metre\", \"year\", \"india\", \"arafat\", \"peace\", \"family\", \"australian\", \"help\", \"city\", \"federal\", \"force\", \"time\", \"world\", \"cent\", \"security\", \"afghanistan\", \"hour\", \"arrest\", \"australia\", \"kill\", \"expect\", \"fire\", \"today\", \"government\", \"area\", \"take\", \"police\", \"week\", \"come\", \"early\", \"people\", \"attack\", \"authority\", \"official\", \"station\", \"martin\", \"mining\", \"evidence\", \"investigate\", \"construction\", \"labor\", \"commissioner\", \"deliver\", \"debate\", \"royal_commission\", \"criminal\", \"energy\", \"trip\", \"eastern\", \"premier\", \"bill\", \"ship\", \"witness\", \"process\", \"case\", \"strategic\", \"dispute\", \"elder\", \"fighting\", \"japan\", \"foreign_affairs\", \"negotiate\", \"august\", \"secretary\", \"building\", \"union\", \"guide\", \"storm\", \"laden\", \"taliban\", \"official\", \"security\", \"government\", \"power\", \"palestinian\", \"return\", \"united_states\", \"australian\", \"need\", \"fire\", \"people\", \"tell\", \"kill\", \"afghanistan\", \"force\", \"authority\", \"call\", \"attack\", \"think\", \"israeli\", \"afghan\", \"report\", \"area\", \"time\", \"company\", \"year\", \"today\", \"australia\", \"island\", \"andy_bichel\", \"abuse\", \"hollingworth\", \"medical\", \"toll\", \"detainee\", \"scene\", \"toowoomba\", \"governor_general\", \"environment\", \"visa\", \"lack\", \"pace\", \"bowler\", \"squad\", \"victoria\", \"spread\", \"free\", \"temporary\", \"unity\", \"publicly\", \"suggest\", \"archbishop\", \"respond\", \"special\", \"northern_territory\", \"steve_waugh\", \"anglican_school\", \"human\", \"argentina\", \"road\", \"allege\", \"allegation\", \"group\", \"injure\", \"claim\", \"police\", \"people\", \"test\", \"queensland\", \"child\", \"australia\", \"morning\", \"death\", \"attack\", \"power\", \"south_africa\", \"week\", \"match\", \"government\", \"issue\", \"know\", \"work\", \"force\", \"minister\", \"south\", \"follow\", \"afghanistan\", \"believe\", \"israeli\", \"australian\", \"time\", \"report\", \"tell\", \"year\", \"palestinian\", \"area\", \"israel\", \"kill\", \"official\", \"fire\", \"reserve_bank\", \"highway\", \"boat\", \"interest_rate\", \"half\", \"pakistani\", \"recovery\", \"indian\", \"howard\", \"cross\", \"reason\", \"cancer\", \"budget\", \"cover\", \"burn\", \"line\", \"protect\", \"prompt\", \"camp\", \"indonesia\", \"lord\", \"society\", \"ansett\", \"hill\", \"firefighter\", \"criticism\", \"option\", \"flame\", \"asylum_seeker\", \"governor_general\", \"sydney\", \"zealand\", \"tora_bora\", \"pakistan\", \"cause\", \"metre\", \"year\", \"prime_minister\", \"fire\", \"arafat\", \"condition\", \"area\", \"world\", \"child\", \"people\", \"call\", \"attack\", \"australia\", \"damage\", \"president\", \"force\", \"believe\", \"report\", \"tell\", \"test\", \"united_states\", \"early\", \"state\", \"come\", \"official\", \"number\", \"government\", \"time\", \"give\", \"group\", \"take\", \"israeli\", \"profit\", \"qantas\", \"ballot\", \"airlines\", \"employment\", \"project\", \"prisoner\", \"pilot\", \"unemployment\", \"secret\", \"provisional_liquidation\", \"rate\", \"cost\", \"survey\", \"company\", \"wage_freeze\", \"manufacturing\", \"shane\", \"internet\", \"payment\", \"benefit\", \"doug\", \"hayden\", \"initial\", \"radio\", \"civil\", \"package\", \"global\", \"investment\", \"qantas_maintenance_worker\", \"airline\", \"south_african\", \"qanta\", \"cricket\", \"director\", \"collapse\", \"market\", \"month\", \"catch\", \"good\", \"australia\", \"australian\", \"arrest\", \"plane\", \"cent\", \"leave\", \"test\", \"today\", \"place\", \"police\", \"union\", \"plan\", \"year\", \"attack\", \"people\", \"know\", \"september\", \"come\", \"government\", \"lead\", \"find\", \"think\", \"tell\", \"report\", \"force\", \"believe\", \"palestinian\", \"work\"], \"Freq\": [69.0, 173.0, 23.0, 54.0, 60.0, 22.0, 147.0, 23.0, 23.0, 21.0, 15.0, 28.0, 23.0, 136.0, 153.0, 54.0, 27.0, 14.0, 141.0, 33.0, 68.0, 24.0, 30.0, 53.0, 12.0, 80.0, 18.0, 90.0, 16.0, 54.0, 6.7421254352924995, 6.436709515230063, 4.430543742384085, 4.9183655949239, 11.441773690891953, 4.047547087390901, 5.574723912406566, 9.990177088071658, 5.37760500056278, 12.167999673269223, 4.61455805693681, 6.319087015092299, 5.7600045719891435, 4.085254921073312, 3.5774158217568495, 3.1327170303590886, 13.678451425401247, 3.0406277303277056, 7.945266328265949, 4.049225762118905, 8.3231154603847, 14.00257757981373, 3.43333958401546, 10.771380004441669, 5.294750700759735, 4.295283442160176, 8.1737944750654, 8.01681185992703, 7.442814447076271, 14.094554842513675, 16.22294634162465, 41.19599749569042, 54.62436112896475, 14.016908662699421, 14.761769469684424, 64.02670203918906, 14.695558638651015, 30.13425443303415, 13.66919757273733, 13.765788834384837, 43.92240871970718, 13.679046085083492, 15.707062908046879, 18.725633019427338, 34.11263543545447, 26.28414971141746, 18.855307612309872, 18.28908171204555, 24.506052624583834, 23.674858435470046, 18.78446770038044, 19.832365788698898, 35.61021474457356, 22.19367104976588, 17.82619409080174, 24.679165383603088, 22.22528065917969, 27.12816571128863, 20.34278201595893, 18.62794077554205, 19.741772833411424, 16.972584894426237, 18.32617253244353, 17.454234459557682, 21.932339665059995, 18.422679766092457, 16.560348919812466, 16.815402982111756, 13.259846859090798, 6.045186317150134, 3.4105809360454566, 8.3775547565738, 8.122579479385745, 5.030926946637738, 13.662125705257, 5.568095302565042, 4.444393381111964, 5.644452942197036, 6.379251630800102, 3.4212213586699405, 6.058672753650634, 5.539570439340095, 4.714371230464836, 3.367517747356346, 8.642334626067711, 2.839122583091022, 7.007105015258474, 12.042474667784804, 8.726076908052413, 3.6773963666746767, 7.555426933092226, 4.162067128294093, 3.582991078349363, 3.5466259404782416, 3.179580019693053, 3.5834036386069137, 3.461806624773773, 7.495365423633487, 15.168879581686069, 25.43195205746201, 7.598610257838277, 11.318277753384802, 15.940924173089327, 15.740824066591838, 28.61655218114677, 28.13049845794166, 41.686440652035174, 16.127107122727132, 40.28998657647247, 14.724650900753783, 22.36253167990222, 38.23413641685038, 15.335520399395104, 25.622439416829838, 33.598404479812125, 21.684994119957768, 20.890622847709086, 20.821895710267256, 27.771077451623054, 18.952535825079803, 17.97791017791017, 26.86636353929391, 18.882761920754252, 21.97414391455233, 14.212414036146777, 18.439744844551253, 17.580067984265348, 18.28271491139735, 16.678518586056203, 17.123279032015713, 15.480047801041968, 15.552051207075365, 7.663970439024191, 3.9068633912765978, 8.833354990739872, 7.998347117015417, 2.770695568205808, 3.0869224180609116, 11.350529866156455, 3.0223364416822385, 2.523663515828856, 6.836257469936749, 3.8186925394612343, 3.7288568588183573, 2.4728447156788618, 2.4729632898183755, 4.829742287931651, 3.62122148310452, 4.870724624615867, 3.601336559984135, 2.4660233091208497, 2.3429818789200736, 2.8172482943902373, 2.36307899784905, 4.67732022208099, 2.2465834989326683, 5.3697117519769835, 6.557343945512898, 2.6807065795845695, 2.595680737143006, 2.531826766437054, 3.3250075126382, 4.956249716085921, 6.871692373393551, 4.64848315104709, 5.202699078373243, 21.62389551893477, 10.945804788073863, 17.56791576509092, 22.872474021701628, 35.99286784404705, 16.216100308478985, 7.927256929882919, 15.99413910105815, 33.79916481818171, 13.256945717759026, 10.02473923735036, 26.286106121877605, 12.517275444598786, 8.937367267746348, 14.401797799020724, 10.348237436710384, 25.385546311738942, 10.108008625492968, 14.108526024248496, 14.61899687736372, 22.226217014585547, 9.804529094494868, 13.282251115937244, 11.601772897444247, 15.734286868610521, 13.411179133343603, 17.9888148348906, 22.785011820046655, 16.13429133852608, 15.36509730234553, 14.431014147605257, 20.099682046739638, 17.1552681778349, 13.452300804622736, 11.764415894425172, 12.804275964881182, 12.303479483983782, 12.186076713242334, 6.00024485422444, 5.77005629464132, 13.014332854652293, 6.225557674635984, 4.532734598001933, 4.487752539946704, 3.186785313182454, 13.227648790523247, 5.504416526583865, 5.617280656422188, 3.5139449080064313, 4.116573204009255, 2.856922233649333, 2.783726099063266, 3.289942168667225, 10.945557193575373, 5.122313328614464, 2.3372726498427503, 3.508777735452087, 4.017833617998605, 3.2087032550882495, 2.788595188077115, 4.852110769984379, 3.0529888339321416, 9.963509625024857, 3.5240734894113137, 3.616177000381317, 3.2490785141741223, 7.188945682974353, 5.63508625814496, 20.165551801652228, 6.657847657046833, 10.838956729944952, 15.825129985488747, 7.8973869856955, 11.263023205547002, 45.00028418163252, 7.222493772781348, 22.70876301533153, 20.593823524052613, 8.984562594718398, 18.423894269709923, 14.505536840486739, 14.459628845764378, 27.70728600496123, 15.247843093471312, 23.687026252949295, 26.5180249982192, 9.514808618085286, 13.916296876732567, 22.103093250132705, 13.834326250210681, 16.331677976200464, 16.21834207634923, 13.334320449959929, 14.840806498252398, 14.029970761070661, 12.86323501210926, 14.418275817899673, 14.891768612847734, 11.842834810386433, 17.069293129686837, 14.615982660026706, 12.343069063114417, 12.429894304777449, 12.161535404580905, 12.251042615736903, 4.382132863005665, 14.086033790551435, 5.845833626984311, 4.890979129967701, 3.7958043202458223, 6.946137268118993, 4.59703185571674, 5.28373627788621, 4.086821216295317, 4.467691948286818, 3.841684118085052, 11.560223014366347, 8.964609626995, 4.491252816500202, 32.7800438771451, 5.287441050327104, 3.0858550622946694, 3.94238636028432, 2.9855851647053573, 5.224808855366682, 2.631382251728261, 2.992758259172141, 3.8111207976137695, 3.2813253299671654, 11.114635650746244, 3.602706208840344, 2.5152229245113467, 3.7228111588804236, 2.8466527547192184, 3.17819028847373, 9.49123214433154, 5.724630980761962, 5.179809050981346, 7.824130458631567, 11.918963441415814, 7.464878870167142, 6.875807426072098, 22.754696262520035, 8.264255741143936, 17.25161358152794, 36.17487803230664, 36.75500644727502, 17.35800249446861, 8.234858603301987, 15.05111419410814, 13.27782637656774, 15.547709039162728, 19.069422946141778, 14.262520686394192, 19.13946736422493, 15.203388261369934, 12.336670316781461, 27.556718002051156, 20.0924038581179, 22.395694133069497, 13.077350093960137, 10.693156281704338, 13.552854174165834, 16.272578777427576, 11.060796886025319, 10.70812688338432, 12.213175096308793, 12.551230320709863, 12.28312309771787, 13.382061983787318, 11.344385106900551, 12.498840101735217, 11.292583335722465], \"Total\": [69.0, 173.0, 23.0, 54.0, 60.0, 22.0, 147.0, 23.0, 23.0, 21.0, 15.0, 28.0, 23.0, 136.0, 153.0, 54.0, 27.0, 14.0, 141.0, 33.0, 68.0, 24.0, 30.0, 53.0, 12.0, 80.0, 18.0, 90.0, 16.0, 54.0, 10.331879997538342, 10.285871562466255, 7.085688687897607, 8.283069189329863, 19.90266282611196, 7.062380369017706, 10.003147474848843, 18.17607311381625, 10.145639372930441, 23.30493536561564, 8.88942796084856, 12.197624720113296, 11.124742398295512, 7.926486619221599, 6.949682407647997, 6.090448077117365, 27.077863324673434, 6.032421641358187, 15.98876240951048, 8.149494463731115, 16.782153990749872, 28.364930512635386, 6.965976394867206, 22.01306260694797, 10.825978312570147, 8.88514920091358, 17.068475158692483, 16.781106274327755, 15.701506967971993, 29.813359565705163, 35.31072175364904, 98.6665119673515, 136.56691543942057, 31.404626839952975, 33.681636840541195, 173.8066653016281, 35.05856789906237, 81.79253400204907, 33.03513394827351, 33.60109192895085, 153.1198835760353, 34.00184014627635, 40.689013718307415, 52.30839453823391, 119.59508513558309, 84.83868233152143, 54.2732917384671, 52.204770279135836, 79.29103721999954, 75.87487250172299, 54.59889668067727, 59.11664193708174, 147.65433380035648, 73.8955111566834, 51.7286182653049, 90.06679431678013, 75.38794185151559, 127.54202458217716, 75.27348511644234, 62.69934886450842, 80.58315689878893, 54.45295199734435, 70.90322376133363, 62.39595917904529, 141.6265921269499, 115.35457953833118, 65.8503716544692, 79.41721744610106, 21.003860598803882, 9.581720169033089, 5.619475748555536, 14.014988984746536, 13.593633354431557, 8.56231051794863, 23.69409822436596, 10.374615542178265, 8.366691603208032, 10.731878270526286, 12.249295895265268, 6.6704799648999185, 11.924618459220914, 10.915858426206741, 9.298512721355193, 6.693451448633985, 17.18292521783796, 5.692392750571708, 14.196775423566699, 24.635708738917383, 18.056069477674743, 7.649775782832666, 15.80661320320307, 8.733814062749708, 7.572433763067548, 7.556743946518963, 6.802243402830897, 7.6977090232536245, 7.444705905841764, 16.16448321580706, 34.20873849285503, 60.28696551801464, 16.918888951848263, 25.860884316409834, 38.632849502599235, 39.856056819048256, 79.41721744610106, 79.29103721999954, 127.54202458217716, 42.860474552103945, 136.56691543942057, 39.08338405800412, 67.5780047999127, 153.1198835760353, 43.86143641107554, 90.06679431678013, 141.6265921269499, 77.09490379939719, 73.8955111566834, 75.87487250172299, 119.59508513558309, 65.8503716544692, 60.71713706983297, 115.35457953833118, 66.41255523676095, 98.6665119673515, 44.13569426671813, 77.26865637594625, 75.27348511644234, 84.83868233152143, 69.4771796877645, 173.8066653016281, 75.38794185151559, 147.65433380035648, 13.173172015906857, 7.034471602888365, 16.438311117038133, 15.261717099351314, 5.311856787455849, 6.294158621956439, 23.350308941300923, 6.24331112657067, 5.257513400882935, 14.456603167192295, 8.207549958611608, 8.032978653273995, 5.340580850434495, 5.346802959972894, 10.573161889920016, 7.960908506761208, 10.71870272702628, 7.947247959490145, 5.5220525510851015, 5.267217918463718, 6.351682158479578, 5.3782936938765475, 10.708559273842067, 5.168047330814306, 12.54083592415797, 15.44118303612388, 6.336436609710311, 6.183409150754133, 6.081416220492534, 8.12347281182156, 12.295026268589396, 17.452325597584256, 11.62233394415853, 13.270521869613663, 68.7449319123754, 31.945111075317147, 55.87978166969027, 80.58315689878893, 141.6265921269499, 54.878785765752, 22.530216055639045, 54.31673317167001, 147.65433380035648, 44.79510979287915, 31.308148026792125, 115.35457953833118, 42.860474552103945, 27.47862250752778, 54.45295199734435, 34.29446944688739, 127.54202458217716, 33.66531377397753, 56.125537186385294, 59.50787648342363, 119.59508513558309, 33.251775024217416, 55.36244200479854, 44.054698359814054, 75.87487250172299, 57.834904692781194, 98.6665119673515, 153.1198835760353, 84.83868233152143, 77.26865637594625, 77.09490379939719, 173.8066653016281, 136.56691543942057, 75.27348511644234, 51.44510224492738, 73.8955111566834, 79.41721744610106, 90.06679431678013, 8.881887900021711, 9.856217158571166, 22.730096954621303, 10.890457311815377, 8.813360050829376, 9.054261566939774, 6.4859758213409355, 27.431990734740417, 11.57827298317596, 11.844207644283024, 7.449083710755613, 8.851066836792985, 6.169193081363021, 6.205976238642258, 7.418140202480861, 24.942407072739996, 11.675489351353404, 5.352143230319244, 8.103580353381094, 9.300788663820391, 7.490030911093596, 6.546623233403684, 11.727570160520804, 7.453503660716734, 24.93956379725713, 8.828142392882631, 9.11198912972542, 8.230541820365149, 18.328627556182315, 14.456603167192295, 53.58961931159755, 17.316095539478713, 29.304966410094135, 44.45728487007598, 22.087587531933238, 33.681636840541195, 173.8066653016281, 20.18469240401963, 90.06679431678013, 81.79253400204907, 27.745483581918027, 75.27348511644234, 54.2732917384671, 54.31673317167001, 141.6265921269499, 60.71713706983297, 115.35457953833118, 147.65433380035648, 30.694245912432496, 56.07909853332364, 119.59508513558309, 57.834904692781194, 77.26865637594625, 77.09490379939719, 54.878785765752, 67.5780047999127, 62.39595917904529, 55.426006109263284, 70.90322376133363, 79.41721744610106, 47.91980843839893, 127.54202458217716, 84.83868233152143, 58.86572420625579, 68.7449319123754, 62.69934886450842, 98.6665119673515, 6.8673542626577415, 23.35748704127568, 9.697250109676748, 8.378444530763417, 6.647870345611672, 12.341786352881769, 8.4732555494854, 9.756149370678013, 7.5516696877005565, 8.315210943035261, 7.559998820808085, 23.387777565041922, 18.690379089002175, 9.428605359079251, 69.4771796877645, 11.253699964903475, 6.590642963831057, 8.427384876708606, 6.454213936139035, 11.400445672306127, 5.753969796687113, 6.544614444438251, 8.348667694146258, 7.424056627350957, 25.37895091872515, 8.282784637026758, 5.800805515801899, 8.610879837362969, 6.603829235269771, 7.393708109962142, 22.216307254374414, 13.563497206105005, 12.256081586607063, 19.166660480379914, 30.400827132677527, 18.806796728399004, 17.17198722367719, 68.7592608220072, 22.239429254086758, 54.69851684385272, 147.65433380035648, 153.1198835760353, 59.11664193708174, 22.212717746713878, 52.204770279135836, 43.719876655117275, 54.878785765752, 75.38794185151559, 49.624317009706786, 80.58315689878893, 60.28696551801464, 43.40813027565454, 173.8066653016281, 115.35457953833118, 141.6265921269499, 56.125537186385294, 39.76075348416997, 70.90322376133363, 127.54202458217716, 48.229810734256816, 44.834181668484035, 66.41255523676095, 77.09490379939719, 77.26865637594625, 119.59508513558309, 57.834904692781194, 136.56691543942057, 59.50787648342363], \"Category\": [\"Default\", \"Default\", \"Default\", \"Default\", \"Default\", \"Default\", \"Default\", \"Default\", \"Default\", \"Default\", \"Default\", \"Default\", \"Default\", \"Default\", \"Default\", \"Default\", \"Default\", \"Default\", \"Default\", \"Default\", \"Default\", \"Default\", \"Default\", \"Default\", \"Default\", \"Default\", \"Default\", \"Default\", \"Default\", \"Default\", \"Topic1\", \"Topic1\", \"Topic1\", \"Topic1\", \"Topic1\", \"Topic1\", \"Topic1\", \"Topic1\", \"Topic1\", \"Topic1\", \"Topic1\", \"Topic1\", \"Topic1\", \"Topic1\", \"Topic1\", \"Topic1\", \"Topic1\", \"Topic1\", \"Topic1\", \"Topic1\", \"Topic1\", \"Topic1\", \"Topic1\", \"Topic1\", \"Topic1\", \"Topic1\", \"Topic1\", \"Topic1\", \"Topic1\", \"Topic1\", \"Topic1\", \"Topic1\", \"Topic1\", \"Topic1\", \"Topic1\", \"Topic1\", \"Topic1\", \"Topic1\", \"Topic1\", \"Topic1\", \"Topic1\", \"Topic1\", \"Topic1\", \"Topic1\", \"Topic1\", \"Topic1\", \"Topic1\", \"Topic1\", \"Topic1\", \"Topic1\", \"Topic1\", \"Topic1\", \"Topic1\", \"Topic1\", \"Topic1\", \"Topic1\", \"Topic1\", \"Topic1\", \"Topic1\", \"Topic1\", \"Topic1\", \"Topic1\", \"Topic1\", \"Topic1\", \"Topic1\", \"Topic1\", \"Topic1\", \"Topic1\", \"Topic2\", \"Topic2\", \"Topic2\", \"Topic2\", \"Topic2\", \"Topic2\", \"Topic2\", \"Topic2\", \"Topic2\", \"Topic2\", \"Topic2\", \"Topic2\", \"Topic2\", \"Topic2\", \"Topic2\", \"Topic2\", \"Topic2\", \"Topic2\", \"Topic2\", \"Topic2\", \"Topic2\", \"Topic2\", \"Topic2\", \"Topic2\", \"Topic2\", \"Topic2\", \"Topic2\", \"Topic2\", \"Topic2\", \"Topic2\", \"Topic2\", \"Topic2\", \"Topic2\", \"Topic2\", \"Topic2\", \"Topic2\", \"Topic2\", \"Topic2\", \"Topic2\", \"Topic2\", \"Topic2\", \"Topic2\", \"Topic2\", \"Topic2\", \"Topic2\", \"Topic2\", \"Topic2\", \"Topic2\", \"Topic2\", \"Topic2\", \"Topic2\", \"Topic2\", \"Topic2\", \"Topic2\", \"Topic2\", \"Topic2\", \"Topic2\", \"Topic2\", \"Topic2\", \"Topic2\", \"Topic2\", \"Topic2\", \"Topic2\", \"Topic2\", \"Topic3\", \"Topic3\", \"Topic3\", \"Topic3\", \"Topic3\", \"Topic3\", \"Topic3\", \"Topic3\", \"Topic3\", \"Topic3\", \"Topic3\", \"Topic3\", \"Topic3\", \"Topic3\", \"Topic3\", \"Topic3\", \"Topic3\", \"Topic3\", \"Topic3\", \"Topic3\", \"Topic3\", \"Topic3\", \"Topic3\", \"Topic3\", \"Topic3\", \"Topic3\", \"Topic3\", \"Topic3\", \"Topic3\", \"Topic3\", \"Topic3\", \"Topic3\", \"Topic3\", \"Topic3\", \"Topic3\", \"Topic3\", \"Topic3\", \"Topic3\", \"Topic3\", \"Topic3\", \"Topic3\", \"Topic3\", \"Topic3\", \"Topic3\", \"Topic3\", \"Topic3\", \"Topic3\", \"Topic3\", \"Topic3\", \"Topic3\", \"Topic3\", \"Topic3\", \"Topic3\", \"Topic3\", \"Topic3\", \"Topic3\", \"Topic3\", \"Topic3\", \"Topic3\", \"Topic3\", \"Topic3\", \"Topic3\", \"Topic3\", \"Topic3\", \"Topic3\", \"Topic3\", \"Topic3\", \"Topic3\", \"Topic3\", \"Topic3\", \"Topic3\", \"Topic3\", \"Topic4\", \"Topic4\", \"Topic4\", \"Topic4\", \"Topic4\", \"Topic4\", \"Topic4\", \"Topic4\", \"Topic4\", \"Topic4\", \"Topic4\", \"Topic4\", \"Topic4\", \"Topic4\", \"Topic4\", \"Topic4\", \"Topic4\", \"Topic4\", \"Topic4\", \"Topic4\", \"Topic4\", \"Topic4\", \"Topic4\", \"Topic4\", \"Topic4\", \"Topic4\", \"Topic4\", \"Topic4\", \"Topic4\", \"Topic4\", \"Topic4\", \"Topic4\", \"Topic4\", \"Topic4\", \"Topic4\", \"Topic4\", \"Topic4\", \"Topic4\", \"Topic4\", \"Topic4\", \"Topic4\", \"Topic4\", \"Topic4\", \"Topic4\", \"Topic4\", \"Topic4\", \"Topic4\", \"Topic4\", \"Topic4\", \"Topic4\", \"Topic4\", \"Topic4\", \"Topic4\", \"Topic4\", \"Topic4\", \"Topic4\", \"Topic4\", \"Topic4\", \"Topic4\", \"Topic4\", \"Topic4\", \"Topic4\", \"Topic4\", \"Topic4\", \"Topic4\", \"Topic4\", \"Topic4\", \"Topic5\", \"Topic5\", \"Topic5\", \"Topic5\", \"Topic5\", \"Topic5\", \"Topic5\", \"Topic5\", \"Topic5\", \"Topic5\", \"Topic5\", \"Topic5\", \"Topic5\", \"Topic5\", \"Topic5\", \"Topic5\", \"Topic5\", \"Topic5\", \"Topic5\", \"Topic5\", \"Topic5\", \"Topic5\", \"Topic5\", \"Topic5\", \"Topic5\", \"Topic5\", \"Topic5\", \"Topic5\", \"Topic5\", \"Topic5\", \"Topic5\", \"Topic5\", \"Topic5\", \"Topic5\", \"Topic5\", \"Topic5\", \"Topic5\", \"Topic5\", \"Topic5\", \"Topic5\", \"Topic5\", \"Topic5\", \"Topic5\", \"Topic5\", \"Topic5\", \"Topic5\", \"Topic5\", \"Topic5\", \"Topic5\", \"Topic5\", \"Topic5\", \"Topic5\", \"Topic5\", \"Topic5\", \"Topic5\", \"Topic5\", \"Topic5\", \"Topic5\", \"Topic5\", \"Topic5\", \"Topic5\", \"Topic5\", \"Topic5\", \"Topic5\", \"Topic5\", \"Topic5\", \"Topic5\", \"Topic5\"], \"logprob\": [30.0, 29.0, 28.0, 27.0, 26.0, 25.0, 24.0, 23.0, 22.0, 21.0, 20.0, 19.0, 18.0, 17.0, 16.0, 15.0, 14.0, 13.0, 12.0, 11.0, 10.0, 9.0, 8.0, 7.0, 6.0, 5.0, 4.0, 3.0, 2.0, 1.0, -6.5313, -6.5776, -6.9511, -6.8467, -6.0024, -7.0415, -6.7214, -6.138, -6.7574, -5.9408, -6.9104, -6.5961, -6.6887, -7.0323, -7.165, -7.2977, -5.8238, -7.3276, -6.3671, -7.0411, -6.3206, -5.8004, -7.2061, -6.0627, -6.7729, -6.9821, -6.3387, -6.3581, -6.4324, -5.7939, -5.6532, -4.7213, -4.4392, -5.7994, -5.7476, -4.2803, -5.7521, -5.034, -5.8245, -5.8175, -4.6572, -5.8238, -5.6855, -5.5097, -4.91, -5.1707, -5.5028, -5.5333, -5.2407, -5.2752, -5.5066, -5.4523, -4.867, -5.3398, -5.559, -5.2337, -5.3384, -5.1391, -5.4269, -5.515, -5.4569, -5.608, -5.5313, -5.5801, -5.3517, -5.5261, -5.6326, -5.6173, -5.7093, -6.4947, -7.0671, -6.1685, -6.1994, -6.6784, -5.6794, -6.577, -6.8024, -6.5633, -6.441, -7.064, -6.4925, -6.5821, -6.7434, -7.0798, -6.1373, -7.2505, -6.3471, -5.8056, -6.1277, -6.9918, -6.2717, -6.868, -7.0178, -7.028, -7.1373, -7.0177, -7.0522, -6.2797, -5.5748, -5.058, -6.266, -5.8676, -5.5251, -5.5378, -4.94, -4.9572, -4.5638, -5.5135, -4.5979, -5.6045, -5.1866, -4.6503, -5.5638, -5.0505, -4.7795, -5.2174, -5.2547, -5.258, -4.97, -5.3521, -5.4049, -5.0031, -5.3558, -5.2041, -5.6399, -5.3795, -5.4272, -5.3881, -5.4799, -5.4536, -5.5545, -5.5498, -6.1036, -6.7774, -5.9616, -6.0609, -7.1211, -7.013, -5.7109, -7.0341, -7.2144, -6.2179, -6.8002, -6.8241, -7.2348, -7.2347, -6.5654, -6.8533, -6.5569, -6.8588, -7.2375, -7.2887, -7.1044, -7.2802, -6.5974, -7.3307, -6.4594, -6.2596, -7.1541, -7.1863, -7.2112, -6.9387, -6.5395, -6.2127, -6.6036, -6.491, -5.0664, -5.7472, -5.2741, -5.0102, -4.5568, -5.3541, -6.0698, -5.3679, -4.6197, -5.5556, -5.8351, -4.8711, -5.613, -5.9499, -5.4728, -5.8033, -4.906, -5.8268, -5.4934, -5.4578, -5.0389, -5.8573, -5.5537, -5.689, -5.3843, -5.5441, -5.2504, -5.014, -5.3592, -5.4081, -5.4708, -5.1394, -5.2978, -5.541, -5.6751, -5.5904, -5.6303, -5.6399, -6.328, -6.3671, -5.5537, -6.2911, -6.6084, -6.6184, -6.9608, -5.5375, -6.4142, -6.3939, -6.863, -6.7048, -7.07, -7.096, -6.9289, -5.7268, -6.4862, -7.2708, -6.8645, -6.729, -6.9539, -7.0942, -6.5404, -7.0037, -5.8208, -6.8602, -6.8344, -6.9414, -6.1472, -6.3908, -5.1158, -6.224, -5.7366, -5.3582, -6.0532, -5.6982, -4.3131, -6.1426, -4.997, -5.0948, -5.9243, -5.2061, -5.4452, -5.4484, -4.7981, -5.3953, -4.9548, -4.8419, -5.8669, -5.4867, -5.0241, -5.4926, -5.3267, -5.3336, -5.5294, -5.4224, -5.4786, -5.5654, -5.4513, -5.419, -5.6481, -5.2825, -5.4377, -5.6067, -5.5997, -5.6215, -5.6142, -6.6201, -5.4524, -6.3319, -6.5102, -6.7637, -6.1594, -6.5722, -6.433, -6.6898, -6.6007, -6.7517, -5.65, -5.9043, -6.5955, -4.6078, -6.4323, -6.9708, -6.7258, -7.0038, -6.4442, -7.1301, -7.0014, -6.7597, -6.9093, -5.6893, -6.8159, -7.1752, -6.7831, -7.0515, -6.9413, -5.8472, -6.3528, -6.4528, -6.0404, -5.6195, -6.0874, -6.1696, -4.9728, -5.9857, -5.2497, -4.5092, -4.4933, -5.2435, -5.9892, -5.3861, -5.5115, -5.3537, -5.1495, -5.44, -5.1458, -5.3761, -5.585, -4.7814, -5.0973, -4.9887, -5.5267, -5.728, -5.491, -5.3081, -5.6942, -5.7266, -5.5951, -5.5678, -5.5894, -5.5037, -5.6689, -5.572, -5.6735], \"loglift\": [30.0, 29.0, 28.0, 27.0, 26.0, 25.0, 24.0, 23.0, 22.0, 21.0, 20.0, 19.0, 18.0, 17.0, 16.0, 15.0, 14.0, 13.0, 12.0, 11.0, 10.0, 9.0, 8.0, 7.0, 6.0, 5.0, 4.0, 3.0, 2.0, 1.0, 0.9699, 0.928, 0.9272, 0.8756, 0.8432, 0.8401, 0.8121, 0.7983, 0.762, 0.7469, 0.7412, 0.7391, 0.7386, 0.734, 0.7327, 0.732, 0.7139, 0.7117, 0.6975, 0.6974, 0.6955, 0.6909, 0.6893, 0.6821, 0.6816, 0.6699, 0.6605, 0.6581, 0.6503, 0.6476, 0.619, 0.5234, 0.4805, 0.5901, 0.5719, 0.3982, 0.5273, 0.3983, 0.5144, 0.5044, 0.148, 0.4862, 0.445, 0.3695, 0.1424, 0.225, 0.3396, 0.3479, 0.2226, 0.2321, 0.3298, 0.3046, -0.0254, 0.194, 0.3315, 0.1022, 0.1754, -0.1511, 0.0884, 0.1831, -0.0098, 0.2311, 0.0438, 0.1229, -0.4684, -0.4376, 0.0164, -0.1556, 1.0825, 1.0818, 1.0431, 1.0279, 1.0275, 1.0107, 0.9918, 0.9201, 0.9098, 0.8999, 0.89, 0.8747, 0.8653, 0.8641, 0.8632, 0.8555, 0.8552, 0.8468, 0.8363, 0.8267, 0.8153, 0.81, 0.8043, 0.8012, 0.7941, 0.786, 0.7819, 0.7778, 0.7767, 0.7739, 0.7292, 0.6793, 0.742, 0.7161, 0.6572, 0.6134, 0.5217, 0.5062, 0.4242, 0.565, 0.3217, 0.5663, 0.4365, 0.1549, 0.4916, 0.2853, 0.1037, 0.274, 0.2791, 0.2493, 0.0823, 0.297, 0.3253, 0.0853, 0.2848, 0.0405, 0.4093, 0.1096, 0.0881, 0.0076, 0.1156, -0.7751, -0.0407, -0.7083, 1.1546, 1.1082, 1.0752, 1.0502, 1.0454, 0.9838, 0.9749, 0.9708, 0.9623, 0.9474, 0.9311, 0.9288, 0.9263, 0.9252, 0.9128, 0.9086, 0.9075, 0.9048, 0.8901, 0.8862, 0.8833, 0.8739, 0.868, 0.8632, 0.8481, 0.8398, 0.8361, 0.8283, 0.82, 0.803, 0.7877, 0.7642, 0.7799, 0.7599, 0.5397, 0.6252, 0.5392, 0.4369, 0.3264, 0.4772, 0.6517, 0.4737, 0.2218, 0.4787, 0.5575, 0.2173, 0.4654, 0.5731, 0.3663, 0.4981, 0.082, 0.4931, 0.3155, 0.2925, 0.0134, 0.475, 0.2688, 0.362, 0.123, 0.2348, -0.0057, -0.2088, 0.0365, 0.0811, 0.0206, -0.461, -0.3782, -0.0257, 0.2209, -0.0566, -0.1685, -0.304, 1.3245, 1.1812, 1.159, 1.1574, 1.0517, 1.0148, 1.006, 0.9873, 0.9731, 0.9707, 0.9653, 0.9511, 0.9468, 0.9149, 0.9036, 0.893, 0.8928, 0.8882, 0.8796, 0.8773, 0.869, 0.8633, 0.8341, 0.8241, 0.7991, 0.7983, 0.7925, 0.7872, 0.7807, 0.7745, 0.7393, 0.7608, 0.7221, 0.6837, 0.6882, 0.6212, 0.3654, 0.6889, 0.3389, 0.3375, 0.5891, 0.3092, 0.3972, 0.3932, 0.0852, 0.3349, 0.1336, -0.0004, 0.5454, 0.323, 0.0283, 0.2862, 0.1625, 0.1578, 0.3019, 0.2008, 0.2244, 0.256, 0.1238, 0.0428, 0.3189, -0.2945, -0.042, 0.1545, 0.0064, 0.0766, -0.3695, 1.2896, 1.2331, 1.2327, 1.2006, 1.1784, 1.164, 1.1273, 1.1256, 1.1248, 1.1176, 1.0619, 1.0342, 1.0041, 0.9972, 0.9877, 0.9835, 0.98, 0.9791, 0.9679, 0.9586, 0.9565, 0.9564, 0.9547, 0.9224, 0.9132, 0.9063, 0.9032, 0.9003, 0.8973, 0.8945, 0.8884, 0.8762, 0.8776, 0.8429, 0.8025, 0.8148, 0.8236, 0.633, 0.7489, 0.5849, 0.3323, 0.3119, 0.5134, 0.7466, 0.4951, 0.5471, 0.4776, 0.3643, 0.492, 0.3013, 0.3612, 0.4808, -0.1029, -0.0088, -0.1055, 0.2821, 0.4256, 0.0841, -0.3201, 0.2663, 0.3069, 0.0455, -0.0764, -0.1002, -0.4514, 0.11, -0.6523, 0.0769]}, \"token.table\": {\"Topic\": [1, 2, 3, 4, 5, 1, 2, 3, 4, 5, 1, 2, 3, 4, 5, 1, 2, 3, 4, 5, 1, 2, 3, 5, 1, 2, 3, 4, 5, 1, 2, 3, 4, 5, 3, 5, 2, 3, 4, 5, 1, 2, 3, 4, 5, 1, 2, 3, 4, 5, 3, 4, 1, 2, 3, 4, 5, 1, 3, 4, 1, 2, 3, 4, 5, 1, 2, 3, 4, 5, 1, 2, 3, 5, 1, 2, 3, 4, 5, 1, 2, 3, 4, 5, 1, 2, 3, 4, 5, 1, 2, 3, 4, 5, 1, 2, 3, 4, 5, 1, 2, 3, 4, 5, 1, 2, 3, 4, 5, 1, 2, 3, 4, 5, 1, 2, 4, 5, 1, 2, 3, 4, 5, 1, 2, 4, 5, 1, 2, 3, 4, 5, 1, 2, 3, 4, 5, 2, 3, 4, 5, 1, 2, 3, 4, 5, 1, 2, 3, 4, 5, 1, 2, 3, 4, 5, 1, 2, 3, 4, 5, 1, 2, 3, 4, 5, 1, 2, 3, 4, 1, 2, 3, 4, 5, 1, 2, 3, 4, 5, 1, 2, 3, 4, 5, 1, 2, 3, 4, 5, 1, 2, 3, 4, 5, 1, 2, 3, 4, 5, 1, 2, 3, 4, 5, 1, 2, 3, 5, 1, 2, 3, 4, 5, 1, 2, 3, 4, 5, 1, 2, 3, 4, 5, 1, 2, 3, 4, 5, 1, 2, 3, 4, 5, 1, 2, 3, 4, 5, 1, 2, 3, 4, 5, 1, 2, 3, 4, 5, 1, 2, 3, 4, 5, 1, 2, 3, 4, 1, 2, 3, 4, 5, 1, 2, 4, 5, 2, 5, 1, 2, 3, 4, 5, 1, 2, 3, 4, 5, 1, 2, 3, 4, 5, 1, 2, 3, 4, 5, 1, 2, 3, 4, 5, 2, 3, 4, 5, 1, 2, 3, 4, 5, 1, 2, 3, 4, 5, 1, 3, 4, 5, 1, 2, 3, 4, 5, 2, 3, 5, 1, 2, 3, 4, 5, 1, 2, 3, 4, 5, 1, 2, 3, 5, 1, 2, 3, 4, 5, 2, 3, 4, 5, 1, 2, 3, 4, 5, 1, 2, 3, 4, 5, 1, 2, 3, 4, 5, 1, 2, 3, 4, 5, 1, 2, 3, 4, 5, 1, 2, 3, 4, 5, 1, 2, 3, 4, 5, 1, 2, 3, 4, 1, 2, 3, 4, 5, 1, 2, 3, 4, 5, 1, 2, 3, 4, 5, 1, 2, 3, 4, 5, 1, 2, 3, 4, 5, 1, 2, 3, 4, 5, 1, 2, 3, 4, 5, 1, 2, 3, 1, 2, 3, 4, 5, 1, 2, 3, 4, 5, 1, 2, 3, 4, 5, 1, 2, 3, 4, 5, 1, 2, 3, 4, 5, 2, 3, 4, 5, 1, 2, 3, 4, 5, 1, 2, 3, 4, 5, 1, 2, 3, 4, 1, 2, 3, 5, 1, 2, 3, 4, 5, 1, 2, 3, 4, 5, 1, 2, 3, 4, 2, 3, 4, 5, 1, 2, 3, 4, 5, 2, 3, 4, 5, 1, 2, 3, 4, 5, 1, 2, 4, 5, 1, 2, 3, 4, 5, 1, 2, 3, 4, 5, 1, 2, 4, 5, 1, 2, 3, 5, 1, 2, 3, 4, 5, 1, 2, 3, 4, 5, 1, 3, 4, 5, 1, 2, 3, 5, 1, 2, 3, 5, 1, 2, 3, 4, 5, 1, 2, 3, 4, 5, 1, 2, 3, 4, 5, 1, 2, 3, 4, 5, 1, 2, 3, 4, 5, 1, 2, 3, 4, 5, 1, 2, 3, 4, 5, 1, 2, 3, 4, 5, 1, 2, 3, 4, 5, 1, 2, 3, 4, 5, 2, 3, 4, 5, 1, 2, 3, 4, 5, 1, 2, 3, 4, 5, 1, 2, 3, 4, 5, 1, 2, 3, 4, 5, 1, 2, 3, 4, 1, 3, 4, 5, 1, 3, 4, 2, 3, 5, 1, 2, 3, 4, 5, 1, 2, 3, 5, 1, 2, 3, 4, 5, 2, 3, 5, 1, 2, 3, 4, 5, 2, 3, 1, 2, 3, 4, 5, 1, 2, 4, 5, 1, 2, 3, 4, 5, 1, 2, 3, 4, 5, 1, 2, 3, 4, 5, 1, 2, 3, 4, 5, 1, 2, 3, 4, 1, 3, 4, 1, 2, 3, 4, 5, 1, 2, 3, 4, 5, 1, 2, 3, 4, 5, 1, 2, 3, 4, 5, 3, 5, 1, 4, 5, 1, 2, 3, 4, 5, 1, 3, 4, 5, 1, 2, 3, 4, 5, 1, 2, 3, 4, 5, 1, 2, 3, 4, 5, 1, 2, 3, 4, 5, 1, 2, 3, 5, 1, 2, 3, 4, 5, 1, 2, 3, 4, 5, 1, 2, 3, 4, 5, 1, 2, 3, 4, 5, 1, 2, 3, 4, 5, 1, 2, 3, 4, 5, 1, 2, 3, 4, 5, 1, 2, 3, 4, 5, 1, 2, 3, 4, 5, 1, 2, 3, 4, 5, 1, 5, 1, 4, 5, 1, 2, 3, 4, 1, 2, 3, 4, 5, 2, 3, 5, 1, 2, 3, 4, 1, 2, 3, 4, 5, 2, 3, 4, 5, 2, 3, 5, 1, 2, 3, 4, 5, 1, 3, 4, 5, 1, 2, 3, 4, 5, 1, 2, 3, 4, 5, 1, 2, 3, 4, 1, 4, 5, 1, 2, 3, 4, 5, 1, 2, 4, 5, 1, 2, 3, 4, 5, 1, 2, 3, 4, 5, 1, 2, 3, 4, 5, 1, 2, 3, 5, 1, 2, 3, 4, 5, 2, 3, 4, 5, 1, 2, 3, 4, 5, 1, 2, 3, 4, 5, 1, 2, 3, 4, 5, 1, 3, 4, 5, 1, 2, 3, 5, 1, 2, 4, 5, 1, 2, 3, 4, 5, 1, 2, 3, 4, 5, 1, 2, 3, 4, 5, 1, 2, 3, 4, 5, 1, 2, 3, 4, 5, 1, 2, 3, 4, 5, 1, 2, 3, 4, 5, 1, 2, 3, 4, 5, 1, 2, 3, 4, 5, 1, 3, 4, 5, 1, 2, 3, 4, 5, 1, 2, 3, 4, 5, 1, 2, 3, 4, 5, 1, 3, 4, 5, 1, 2, 3, 4, 5, 1, 2, 3, 4, 5, 1, 2, 3, 4, 5, 1, 2, 4, 5, 1, 2, 3, 4, 5, 2, 3, 4, 1, 2, 3, 4, 5, 1, 2, 3, 4, 5, 1, 2, 3, 4, 1, 2, 3, 4, 5, 1, 2, 3, 4, 5, 1, 2, 3, 4, 5, 1, 2, 3, 4, 5, 1, 2, 3, 5, 2, 3, 4, 5, 1, 2, 3, 4, 5, 2, 3, 4, 1, 4, 2, 4, 5, 1, 2, 3, 4, 5, 1, 2, 3, 4, 5, 1, 2, 3, 4, 5, 1, 2, 3, 4, 5, 1, 2, 3, 4, 5, 1, 2, 3, 4, 5, 2, 3, 4, 5, 1, 2, 4, 5, 1, 2, 3, 4, 5, 1, 2, 3, 4, 5, 1, 2, 3, 4, 5, 1, 2, 3, 4, 5, 1, 2, 3, 4, 5, 1, 2, 3, 4, 5, 1, 2, 3, 4, 5, 1, 2, 3, 4, 5, 1, 2, 3, 4, 5, 1, 2, 3, 4, 5], \"Freq\": [0.06083350004025114, 0.06083350004025114, 0.5475015003622603, 0.18250050012075342, 0.18250050012075342, 0.29454617664875044, 0.31720357485250045, 0.09062959281500013, 0.22657398203750032, 0.045314796407500066, 0.31631025145320674, 0.2767714700215559, 0.2108735009688045, 0.10543675048440225, 0.10543675048440225, 0.09002396199783373, 0.18004792399566746, 0.1350359429967506, 0.18004792399566746, 0.4051078289902518, 0.11935389633818859, 0.11935389633818859, 0.23870779267637718, 0.5967694816909429, 0.07535498677634991, 0.22606496032904977, 0.3767749338817496, 0.22606496032904977, 0.15070997355269983, 0.0860412379135438, 0.2581237137406314, 0.430206189567719, 0.1720824758270876, 0.0860412379135438, 0.5686283527475744, 0.2843141763737872, 0.16443538211219655, 0.49330614633658965, 0.3288707642243931, 0.16443538211219655, 0.08526915518837463, 0.17053831037674927, 0.17053831037674927, 0.4263457759418732, 0.17053831037674927, 0.3667816429216931, 0.1344866024046208, 0.11003449287650792, 0.25674715004518517, 0.1344866024046208, 0.38699335976957255, 0.38699335976957255, 0.26569780805367954, 0.23912802724831156, 0.1727035752348917, 0.23912802724831156, 0.06642445201341989, 0.4066685089379356, 0.4066685089379356, 0.08133370178758713, 0.5170275007350065, 0.2215832146007171, 0.14772214306714473, 0.07386107153357237, 0.036930535766786184, 0.33831420974970366, 0.11840997341239629, 0.16915710487485183, 0.10149426292491111, 0.28756707828724815, 0.4925745958284095, 0.16419153194280317, 0.16419153194280317, 0.16419153194280317, 0.10911891759868253, 0.3273567527960476, 0.10911891759868253, 0.38191621159538885, 0.054559458799341265, 0.15604061903774508, 0.23406092855661761, 0.2253920052767429, 0.20805415871699345, 0.17337846559749454, 0.13432364053700402, 0.40297092161101206, 0.13432364053700402, 0.26864728107400804, 0.13432364053700402, 0.24381268787325688, 0.1083611946103364, 0.23026753854696483, 0.18285951590494268, 0.24381268787325688, 0.2873565403290733, 0.24817155755692696, 0.15020910062656104, 0.07183913508226833, 0.24164072709490256, 0.25816103345934915, 0.28853291974868434, 0.16704537459134358, 0.13667348830200837, 0.16704537459134358, 0.20624403592563095, 0.10312201796281548, 0.10312201796281548, 0.10312201796281548, 0.6187321077768929, 0.1729059648860833, 0.1729059648860833, 0.2247777543519083, 0.24206835084051664, 0.19019656137469165, 0.17379305685194188, 0.17379305685194188, 0.17379305685194188, 0.5213791705558257, 0.058197308509605736, 0.5237757765864516, 0.058197308509605736, 0.11639461701921147, 0.2909865425480287, 0.6775146441565145, 0.0967878063080735, 0.193575612616147, 0.0967878063080735, 0.21997266487609238, 0.04399453297521848, 0.04399453297521848, 0.5719289286778402, 0.13198359892565542, 0.09457908716534036, 0.09457908716534036, 0.4728954358267018, 0.09457908716534036, 0.2837372614960211, 0.16209575333619808, 0.16209575333619808, 0.48628726000859424, 0.16209575333619808, 0.17539378136534273, 0.43848445341335684, 0.17539378136534273, 0.08769689068267136, 0.08769689068267136, 0.2696093556348715, 0.13480467781743574, 0.13480467781743574, 0.40441403345230725, 0.13480467781743574, 0.4458170807603775, 0.12737630878867928, 0.19106446318301892, 0.12737630878867928, 0.06368815439433964, 0.21410759181626482, 0.2964566655917513, 0.16469814755097295, 0.24704722132645943, 0.08234907377548648, 0.12340224399487387, 0.12340224399487387, 0.12340224399487387, 0.4936089759794955, 0.12340224399487387, 0.11298073084739364, 0.11298073084739364, 0.22596146169478729, 0.45192292338957457, 0.16614911698857393, 0.4984473509657218, 0.16614911698857393, 0.11076607799238262, 0.05538303899619131, 0.22482591360033174, 0.22482591360033174, 0.13489554816019905, 0.04496518272006635, 0.3597214617605308, 0.18109718837410288, 0.2263714854676286, 0.13582289128057717, 0.36219437674820576, 0.13582289128057717, 0.3447960771353855, 0.057466012855897586, 0.11493202571179517, 0.17239803856769276, 0.28733006427948793, 0.5998112109299544, 0.09996853515499239, 0.09996853515499239, 0.19993707030998478, 0.09996853515499239, 0.29456852549345003, 0.07364213137336251, 0.29456852549345003, 0.2577474598067688, 0.07364213137336251, 0.39322653802249913, 0.14745995175843718, 0.19661326901124956, 0.12288329313203099, 0.14745995175843718, 0.12073234350796383, 0.12073234350796383, 0.36219703052389146, 0.4829293740318553, 0.23264228333682493, 0.2147467230801461, 0.3221200846202191, 0.10737336154007306, 0.1252689217967519, 0.15951679827909673, 0.21268906437212895, 0.15951679827909673, 0.10634453218606447, 0.3722058626512257, 0.25386715927881576, 0.18334850392358915, 0.16924477285254383, 0.1974522349946345, 0.1974522349946345, 0.09638911398060722, 0.5783346838836433, 0.09638911398060722, 0.09638911398060722, 0.09638911398060722, 0.07196607609103253, 0.2446846587095106, 0.17271858261847808, 0.04317964565461952, 0.4749761022008147, 0.18020950996357993, 0.18020950996357993, 0.14416760797086395, 0.32437711793444385, 0.18020950996357993, 0.11679090566778245, 0.5839545283389123, 0.11679090566778245, 0.11679090566778245, 0.11679090566778245, 0.16051038802981077, 0.05350346267660359, 0.05350346267660359, 0.26751731338301793, 0.4815311640894323, 0.4531201630945577, 0.14160005096704928, 0.11328004077363943, 0.22656008154727886, 0.056640020386819714, 0.16113500302714337, 0.16113500302714337, 0.32227000605428674, 0.4834050090814301, 0.10434785976656256, 0.10434785976656256, 0.3130435792996877, 0.10434785976656256, 0.41739143906625026, 0.4908279915768744, 0.1227069978942186, 0.1227069978942186, 0.2454139957884372, 0.4497427495151784, 0.2998284996767856, 0.11327411311423949, 0.11327411311423949, 0.22654822622847898, 0.45309645245695795, 0.11327411311423949, 0.1688589106224731, 0.08442945531123655, 0.08442945531123655, 0.5065767318674194, 0.1688589106224731, 0.09773818873279015, 0.2280557737098437, 0.2280557737098437, 0.32579396244263387, 0.16289698122131693, 0.1916434020583225, 0.1916434020583225, 0.3194056700972042, 0.1597028350486021, 0.1597028350486021, 0.18636066768412207, 0.5590820030523662, 0.09318033384206104, 0.09318033384206104, 0.18636066768412207, 0.47808622448403426, 0.11952155612100857, 0.23904311224201713, 0.11952155612100857, 0.0856519716731668, 0.3426078866926672, 0.4710858442024174, 0.0428259858365834, 0.0428259858365834, 0.09868152556860309, 0.13157536742480413, 0.26315073484960827, 0.09868152556860309, 0.39472610227441235, 0.4306646807202093, 0.1435548935734031, 0.1435548935734031, 0.1435548935734031, 0.06326465936405395, 0.5061172749124316, 0.18979397809216186, 0.06326465936405395, 0.18979397809216186, 0.30559477826835796, 0.15279738913417898, 0.45839216740253697, 0.2724535406406443, 0.2243735040570012, 0.17629346747335808, 0.2243735040570012, 0.09616007316728623, 0.10754408043163456, 0.5377204021581727, 0.10754408043163456, 0.21508816086326912, 0.10754408043163456, 0.228995028475604, 0.457990056951208, 0.114497514237802, 0.114497514237802, 0.1504241129883212, 0.1504241129883212, 0.1504241129883212, 0.1504241129883212, 0.6016964519532848, 0.5031607527333839, 0.33544050182225593, 0.08386012545556398, 0.08386012545556398, 0.24367807812141795, 0.12183903906070898, 0.4873561562428359, 0.12183903906070898, 0.12183903906070898, 0.5526898634673237, 0.05024453304248398, 0.10048906608496797, 0.2512226652124199, 0.05024453304248398, 0.07135217880573205, 0.5708174304458564, 0.21405653641719616, 0.07135217880573205, 0.07135217880573205, 0.3479698589218427, 0.11598995297394755, 0.1353216118029388, 0.2319799059478951, 0.17398492946092134, 0.41665312632109847, 0.1190437503774567, 0.1190437503774567, 0.08928281278309252, 0.2678484383492776, 0.3632304177508694, 0.26764346571116693, 0.09558695203970248, 0.09558695203970248, 0.19117390407940496, 0.47672661558902363, 0.11918165389725591, 0.23836330779451181, 0.059590826948627953, 0.11918165389725591, 0.13205793953289147, 0.5282317581315659, 0.13205793953289147, 0.13205793953289147, 0.17843528536227438, 0.22304410670284297, 0.22304410670284297, 0.13382646402170578, 0.24534851737312727, 0.2775717753656334, 0.2886746463802587, 0.13323445217550403, 0.2553660333363827, 0.05551435507312667, 0.40096932253080575, 0.12029079675924172, 0.04009693225308057, 0.40096932253080575, 0.04009693225308057, 0.24299736805313624, 0.24299736805313624, 0.12149868402656812, 0.36449605207970437, 0.12149868402656812, 0.2269905452155321, 0.2042914906939789, 0.2723886542586385, 0.11349527260776605, 0.2042914906939789, 0.28429261922807886, 0.2341233334819473, 0.18395404773581575, 0.18395404773581575, 0.1087001191166184, 0.2940206460662166, 0.4410309690993249, 0.1470103230331083, 0.1470103230331083, 0.1470103230331083, 0.18109208319712508, 0.18109208319712508, 0.36218416639425016, 0.5833244138391102, 0.09722073563985169, 0.09722073563985169, 0.09722073563985169, 0.09722073563985169, 0.25481721667846086, 0.2208415877879994, 0.1359025155618458, 0.2038537733427687, 0.16987814445230723, 0.23226430257706257, 0.11613215128853129, 0.11613215128853129, 0.11613215128853129, 0.46452860515412514, 0.1828203135479321, 0.10969218812875926, 0.2011023449027253, 0.2011023449027253, 0.3107945330314846, 0.2116949302667178, 0.3293032248593388, 0.19601382432103498, 0.1332894005383038, 0.1254488475654624, 0.06917254270833084, 0.48420779895831595, 0.41503525624998505, 0.06917254270833084, 0.18910484945377842, 0.1454652688105988, 0.3200235913833174, 0.17455832257271856, 0.1600117956916587, 0.11821107199722561, 0.47284428798890243, 0.11821107199722561, 0.17731660799583843, 0.17731660799583843, 0.11346410384151906, 0.11346410384151906, 0.22692820768303812, 0.5673205192075953, 0.11977959078442646, 0.11977959078442646, 0.23955918156885292, 0.47911836313770584, 0.4117424215798857, 0.176461037819951, 0.176461037819951, 0.1470508648499592, 0.0882305189099755, 0.10145880350560049, 0.10145880350560049, 0.10145880350560049, 0.608752821033603, 0.10145880350560049, 0.2683301828294371, 0.13416509141471855, 0.13416509141471855, 0.40249527424415565, 0.06552342659021665, 0.5241874127217332, 0.32761713295108325, 0.06552342659021665, 0.3479923799765017, 0.18315388419815876, 0.20146927261797465, 0.14652310735852703, 0.10989233051889526, 0.2591060000363793, 0.0863686666787931, 0.5182120000727586, 0.1727373333575862, 0.12310006116408308, 0.24620012232816615, 0.3693001834922492, 0.12310006116408308, 0.12310006116408308, 0.603640979655335, 0.120728195931067, 0.120728195931067, 0.241456391862134, 0.42785546868847346, 0.0855710937376947, 0.0570473958251298, 0.25671328121308407, 0.1711421874753894, 0.21872273354195476, 0.07290757784731826, 0.10936136677097738, 0.47389925600756866, 0.14581515569463652, 0.21503552787731875, 0.21503552787731875, 0.4300710557546375, 0.10751776393865937, 0.13469724844445574, 0.13469724844445574, 0.2693944968889115, 0.4040917453333672, 0.1252147782666706, 0.28173325110000885, 0.34434064023334415, 0.1252147782666706, 0.1252147782666706, 0.18364701708441034, 0.09182350854220517, 0.09182350854220517, 0.550941051253231, 0.09182350854220517, 0.15493753536750726, 0.15493753536750726, 0.15493753536750726, 0.4648126061025218, 0.14712769925841757, 0.5885107970336703, 0.07356384962920878, 0.14712769925841757, 0.15142729534240437, 0.30285459068480874, 0.15142729534240437, 0.4542818860272131, 0.07591186077221802, 0.15182372154443605, 0.6072948861777442, 0.07591186077221802, 0.07591186077221802, 0.3110111420096875, 0.2526965528828711, 0.2332583565072656, 0.13606737462923826, 0.09719098187802734, 0.41554119206693757, 0.22297332257250307, 0.1824327184684116, 0.1216218123122744, 0.05067575513011433, 0.17822498374091658, 0.14852081978409715, 0.2970416395681943, 0.23763331165455542, 0.14852081978409715, 0.13233212704800631, 0.5293285081920253, 0.13233212704800631, 0.13233212704800631, 0.13233212704800631, 0.4928225630944945, 0.1971290252377978, 0.0985645126188989, 0.0985645126188989, 0.0985645126188989, 0.49189904900962306, 0.24594952450481153, 0.08198317483493718, 0.08198317483493718, 0.08198317483493718, 0.2977176780515474, 0.28418505632193164, 0.1759240824850053, 0.13532621729615793, 0.10826097383692634, 0.14253761123805525, 0.19598921545232595, 0.24944081966659667, 0.17817201404756905, 0.23162361826183978, 0.04220460262005854, 0.5908644366808196, 0.12661380786017562, 0.04220460262005854, 0.2110230131002927, 0.18724555025108228, 0.37449110050216455, 0.18724555025108228, 0.18724555025108228, 0.15530824356086695, 0.4141553161623119, 0.18119295082101144, 0.12942353630072245, 0.12942353630072245, 0.22807470799770083, 0.18660657927084612, 0.16587251490741878, 0.16587251490741878, 0.22807470799770083, 0.2287289161148521, 0.18298313289188167, 0.11436445805742605, 0.18298313289188167, 0.29734759094930774, 0.20046180729142976, 0.0801847229165719, 0.0801847229165719, 0.4410159760411455, 0.20046180729142976, 0.5755658698299758, 0.14389146745749395, 0.14389146745749395, 0.14389146745749395, 0.5046371983143283, 0.12615929957858207, 0.12615929957858207, 0.12615929957858207, 0.4005323924039693, 0.13351079746798977, 0.4005323924039693, 0.30346052896141495, 0.15173026448070748, 0.45519079344212243, 0.23293751316590164, 0.11646875658295082, 0.11646875658295082, 0.11646875658295082, 0.4076406480403279, 0.10436539393332253, 0.6261923635999351, 0.10436539393332253, 0.10436539393332253, 0.26243298541003823, 0.11663688240446143, 0.2915922060111536, 0.17495532360669214, 0.1457961030055768, 0.18825808752252846, 0.5647742625675853, 0.18825808752252846, 0.44534652727877877, 0.05937953697050384, 0.08906930545575575, 0.3265874533377711, 0.05937953697050384, 0.5338576291162281, 0.17795254303874272, 0.3608829901940677, 0.18044149509703386, 0.3007358251617231, 0.12029433006468924, 0.06014716503234462, 0.5393383311886212, 0.17977944372954038, 0.17977944372954038, 0.08988972186477019, 0.1599784504442974, 0.21815243242404192, 0.1599784504442974, 0.13089145945442515, 0.33450039638353096, 0.24556251900846135, 0.15626705755083903, 0.2902102497372725, 0.11161932682202788, 0.2009147882796502, 0.22799070933926097, 0.3419860640088914, 0.15959349653748267, 0.13679442560355656, 0.11399535466963048, 0.1299087815581428, 0.5196351262325712, 0.1299087815581428, 0.1299087815581428, 0.1299087815581428, 0.5003514215234957, 0.2501757107617478, 0.1250878553808739, 0.1250878553808739, 0.31563481546317185, 0.4734522231947577, 0.15781740773158592, 0.2504183633251798, 0.18781377249388484, 0.16694557555011985, 0.2504183633251798, 0.16694557555011985, 0.21405937587195842, 0.3651601117815761, 0.1511007359096177, 0.18887591988702213, 0.088142095947277, 0.10974552161588608, 0.10974552161588608, 0.10974552161588608, 0.4389820864635443, 0.21949104323177215, 0.5624658889212388, 0.11249317778424776, 0.11249317778424776, 0.22498635556849553, 0.11249317778424776, 0.37405530276173465, 0.37405530276173465, 0.344779702500252, 0.172389851250126, 0.5171695537503781, 0.3149090197683967, 0.11246750706014168, 0.08997400564811334, 0.35989602259245335, 0.11246750706014168, 0.2208904597259139, 0.11044522986295695, 0.4417809194518278, 0.2208904597259139, 0.40273297396394175, 0.2928967083374122, 0.12448110104340018, 0.08786901250122366, 0.08786901250122366, 0.17543173815199034, 0.08771586907599517, 0.08771586907599517, 0.17543173815199034, 0.4385793453799759, 0.42379122851208145, 0.21189561425604073, 0.12108320814630899, 0.21189561425604073, 0.030270802036577248, 0.1553380595381399, 0.24006791019530713, 0.25418955197150167, 0.19770298486672352, 0.1553380595381399, 0.30749836703161426, 0.10249945567720474, 0.10249945567720474, 0.5124972783860238, 0.12090846507421689, 0.2821197518398394, 0.16121128676562252, 0.1410598759199197, 0.2821197518398394, 0.27644590826180326, 0.20733443119635245, 0.1151857951090847, 0.13822295413090163, 0.27644590826180326, 0.09003850959641702, 0.22509627399104254, 0.13505776439462552, 0.18007701919283403, 0.36015403838566806, 0.24819082261966555, 0.13650495244081604, 0.2854194460126154, 0.09927632904786621, 0.23578128148868227, 0.16332063686066636, 0.37330431282438026, 0.30330975416980893, 0.0699945586545713, 0.09332607820609506, 0.14939975402437294, 0.44819926207311883, 0.14939975402437294, 0.14939975402437294, 0.14939975402437294, 0.21398346824118958, 0.2496473796147212, 0.178319556867658, 0.2496473796147212, 0.10699173412059479, 0.24771246942580546, 0.14862748165548328, 0.19816997554064436, 0.34679745719612765, 0.04954249388516109, 0.11801839259536227, 0.11801839259536227, 0.11801839259536227, 0.11801839259536227, 0.5900919629768114, 0.16236593971746152, 0.4870978191523846, 0.16236593971746152, 0.08118296985873076, 0.08118296985873076, 0.2912329732099736, 0.5824659464199472, 0.16205109558820116, 0.24307664338230173, 0.567178834558704, 0.18684103862077547, 0.18684103862077547, 0.18684103862077547, 0.37368207724155095, 0.08564951497164285, 0.1712990299432857, 0.1712990299432857, 0.42824757485821424, 0.08564951497164285, 0.2645503058142304, 0.1322751529071152, 0.5291006116284608, 0.18593257581648048, 0.18593257581648048, 0.37186515163296097, 0.18593257581648048, 0.0815921461466737, 0.2447764384400211, 0.0815921461466737, 0.0815921461466737, 0.4079607307333685, 0.21406412390015922, 0.12843847434009553, 0.042812824780031844, 0.5993795469204458, 0.27050026458378007, 0.27050026458378007, 0.40575039687567016, 0.13315451536689263, 0.1775393538225235, 0.355078707645047, 0.1775393538225235, 0.1775393538225235, 0.49356722357432137, 0.0705096033677602, 0.31729321515492087, 0.1057644050516403, 0.1182081958236711, 0.1576109277648948, 0.1576109277648948, 0.0788054638824474, 0.4334300513534607, 0.2565442562173284, 0.0855147520724428, 0.0427573760362214, 0.1282721281086642, 0.5130885124346568, 0.268489397845299, 0.1342446989226495, 0.1342446989226495, 0.536978795690598, 0.30835760957038416, 0.46253641435557624, 0.15417880478519208, 0.19412787414107932, 0.23295344896929518, 0.19412787414107932, 0.20706973241715126, 0.15530229931286346, 0.11258867610765, 0.11258867610765, 0.6755320566459, 0.11258867610765, 0.15947900220489378, 0.15947900220489378, 0.3986975055122345, 0.15947900220489378, 0.07973950110244689, 0.17910424515981563, 0.3837948110567478, 0.17910424515981563, 0.05117264147423304, 0.20469056589693216, 0.11459790781561165, 0.05729895390780582, 0.40109267735464077, 0.34379372344683495, 0.11459790781561165, 0.08163734540746387, 0.4898240724447832, 0.16327469081492774, 0.2449120362223916, 0.1601714186153783, 0.1601714186153783, 0.480514255846135, 0.1601714186153783, 0.1601714186153783, 0.12026153116868192, 0.12026153116868192, 0.12026153116868192, 0.4810461246747277, 0.12372805077023578, 0.4330481776958252, 0.12372805077023578, 0.12372805077023578, 0.12372805077023578, 0.31529414769333175, 0.3531294454165316, 0.11350589316959943, 0.0882823613541329, 0.13872942498506596, 0.176053001681342, 0.25150428811620285, 0.10060171524648114, 0.176053001681342, 0.2766547169278231, 0.11866077254449062, 0.11866077254449062, 0.23732154508898123, 0.47464309017796247, 0.17567305065160277, 0.5270191519548083, 0.17567305065160277, 0.17567305065160277, 0.30550100848864203, 0.15275050424432102, 0.45825151273296305, 0.15275050424432102, 0.5149123913771901, 0.25745619568859507, 0.12872809784429753, 0.042909365948099173, 0.042909365948099173, 0.2709418056143527, 0.12643950928669792, 0.234816231532439, 0.1625650833686116, 0.1986906574505253, 0.18195963056846273, 0.07278385222738509, 0.3275273350232329, 0.10917577834107764, 0.3275273350232329, 0.07372729796780542, 0.07372729796780542, 0.22118189390341625, 0.22118189390341625, 0.4423637878068325, 0.19428563167612542, 0.1295237544507503, 0.45333314057762597, 0.1295237544507503, 0.06476187722537514, 0.12582972182286797, 0.12582972182286797, 0.5033188872914719, 0.25165944364573595, 0.12582972182286797, 0.12561380389571103, 0.12561380389571103, 0.5024552155828441, 0.12561380389571103, 0.25122760779142206, 0.27063108192262597, 0.2525890097944509, 0.19846279340992573, 0.23454693766627585, 0.054126216384525194, 0.1428308851074189, 0.6189338354654819, 0.1904411801432252, 0.0476102950358063, 0.0476102950358063, 0.16172308440531374, 0.48516925321594123, 0.16172308440531374, 0.3234461688106275, 0.07733687585969033, 0.4253528172282968, 0.1160053137895355, 0.232010627579071, 0.15467375171938066, 0.1307227856591773, 0.5228911426367092, 0.1307227856591773, 0.1307227856591773, 0.1307227856591773, 0.0933832436677745, 0.0933832436677745, 0.4669162183388725, 0.186766487335549, 0.186766487335549, 0.21212044876542693, 0.21212044876542693, 0.10606022438271347, 0.42424089753085387, 0.20526363391462726, 0.18660330355875207, 0.13062231249112644, 0.37320660711750414, 0.09330165177937604, 0.30303345001330845, 0.2232878052729641, 0.17544041842875752, 0.19138954737682637, 0.09569477368841318, 0.2258126046151827, 0.40144463042699147, 0.20072231521349573, 0.10036115760674787, 0.0752708682050609, 0.49731271757133944, 0.16577090585711315, 0.16577090585711315, 0.16577090585711315, 0.15565231174325467, 0.2853625715293002, 0.18159436370046378, 0.2075364156576729, 0.16862333772185922, 0.18985354611864408, 0.37970709223728816, 0.18985354611864408, 0.46185202442115114, 0.09237040488423023, 0.2771112146526907, 0.09237040488423023, 0.09237040488423023, 0.4687003335459542, 0.1757626250797328, 0.058587541693244274, 0.11717508338648855, 0.11717508338648855, 0.5501738432378257, 0.22006953729513026, 0.11003476864756513, 0.11003476864756513, 0.10933186506003924, 0.07288791004002616, 0.29155164016010465, 0.23688570763008504, 0.29155164016010465, 0.2258609075727467, 0.2860904829254792, 0.16563133222001425, 0.15057393838183114, 0.18068872605819736, 0.3064639771089398, 0.21216736876772757, 0.1885932166824245, 0.17680614063977299, 0.11787076042651531, 0.29182385749874024, 0.19897081193095925, 0.14591192874937012, 0.10611776636317827, 0.25202969511254836, 0.15887747037572528, 0.15887747037572528, 0.47663241112717586, 0.15887747037572528, 0.1902039849926131, 0.5706119549778392, 0.1902039849926131, 0.1902039849926131, 0.1706195438012085, 0.2388673613216919, 0.1706195438012085, 0.3753629963626587, 0.0341239087602417, 0.5496590158768667, 0.27482950793843336, 0.18321967195895555, 0.5645181684078248, 0.2822590842039124, 0.2648420922405293, 0.13242104612026465, 0.5296841844810586, 0.08293666727189854, 0.41468333635949267, 0.16587333454379707, 0.06634933381751883, 0.2488100018156956, 0.20716799854407783, 0.3255497119978366, 0.1627748559989183, 0.22196571272579768, 0.08878628509031906, 0.1574386083952559, 0.1574386083952559, 0.4723158251857677, 0.1574386083952559, 0.1574386083952559, 0.0932948721003883, 0.1865897442007766, 0.46647436050194147, 0.0932948721003883, 0.0932948721003883, 0.4766968533603914, 0.05958710667004893, 0.11917421334009785, 0.1787613200101468, 0.11917421334009785, 0.12448682402416578, 0.24897364804833155, 0.4979472960966631, 0.12448682402416578, 0.12448682402416578, 0.35543865683949827, 0.08885966420987457, 0.08885966420987457, 0.44429832104937284, 0.5663812752917969, 0.14159531882294923, 0.14159531882294923, 0.14159531882294923, 0.3121961138273841, 0.1285513409877464, 0.2571026819754928, 0.1836447728396377, 0.09182238641981885, 0.4457941841292378, 0.15921220861758492, 0.15921220861758492, 0.15921220861758492, 0.06368488344703398, 0.46958813779928543, 0.1341680393712244, 0.0670840196856122, 0.2012520590568366, 0.1341680393712244, 0.14087706118672502, 0.4930697141535376, 0.14087706118672502, 0.07043853059336251, 0.14087706118672502, 0.45018940138773544, 0.11254735034693386, 0.11254735034693386, 0.22509470069386772, 0.11254735034693386, 0.2688719703257588, 0.16804498145359928, 0.25206747218039893, 0.11763148701751949, 0.1848494795989592, 0.3500801110711594, 0.18425269003745232, 0.03685053800749046, 0.27637903505617845, 0.14740215202996185, 0.3682252339916477, 0.09780982777903141, 0.1150703856223899, 0.2589083676503773, 0.16109853987134587, 0.4997032987371815, 0.13628271783741314, 0.045427572612471045, 0.18171029044988418, 0.13628271783741314, 0.1732492173631373, 0.05774973912104577, 0.1732492173631373, 0.40424817384732037, 0.2309989564841831], \"Term\": [\"abuse\", \"abuse\", \"abuse\", \"abuse\", \"abuse\", \"afghan\", \"afghan\", \"afghan\", \"afghan\", \"afghan\", \"afghanistan\", \"afghanistan\", \"afghanistan\", \"afghanistan\", \"afghanistan\", \"airline\", \"airline\", \"airline\", \"airline\", \"airline\", \"airlines\", \"airlines\", \"airlines\", \"airlines\", \"allegation\", \"allegation\", \"allegation\", \"allegation\", \"allegation\", \"allege\", \"allege\", \"allege\", \"allege\", \"allege\", \"andy_bichel\", \"andy_bichel\", \"anglican_school\", \"anglican_school\", \"anglican_school\", \"anglican_school\", \"ansett\", \"ansett\", \"ansett\", \"ansett\", \"ansett\", \"arafat\", \"arafat\", \"arafat\", \"arafat\", \"arafat\", \"archbishop\", \"archbishop\", \"area\", \"area\", \"area\", \"area\", \"area\", \"argentina\", \"argentina\", \"argentina\", \"army\", \"army\", \"army\", \"army\", \"army\", \"arrest\", \"arrest\", \"arrest\", \"arrest\", \"arrest\", \"assessment\", \"assessment\", \"assessment\", \"assessment\", \"asylum_seeker\", \"asylum_seeker\", \"asylum_seeker\", \"asylum_seeker\", \"asylum_seeker\", \"attack\", \"attack\", \"attack\", \"attack\", \"attack\", \"august\", \"august\", \"august\", \"august\", \"august\", \"australia\", \"australia\", \"australia\", \"australia\", \"australia\", \"australian\", \"australian\", \"australian\", \"australian\", \"australian\", \"authority\", \"authority\", \"authority\", \"authority\", \"authority\", \"ballot\", \"ballot\", \"ballot\", \"ballot\", \"ballot\", \"believe\", \"believe\", \"believe\", \"believe\", \"believe\", \"benefit\", \"benefit\", \"benefit\", \"benefit\", \"bill\", \"bill\", \"bill\", \"bill\", \"bill\", \"blue_mountains\", \"blue_mountains\", \"blue_mountains\", \"blue_mountains\", \"boat\", \"boat\", \"boat\", \"boat\", \"boat\", \"bowler\", \"bowler\", \"bowler\", \"bowler\", \"bowler\", \"budget\", \"budget\", \"budget\", \"budget\", \"building\", \"building\", \"building\", \"building\", \"building\", \"burn\", \"burn\", \"burn\", \"burn\", \"burn\", \"cabinet\", \"cabinet\", \"cabinet\", \"cabinet\", \"cabinet\", \"call\", \"call\", \"call\", \"call\", \"call\", \"camp\", \"camp\", \"camp\", \"camp\", \"camp\", \"cancer\", \"cancer\", \"cancer\", \"cancer\", \"case\", \"case\", \"case\", \"case\", \"case\", \"catch\", \"catch\", \"catch\", \"catch\", \"catch\", \"cause\", \"cause\", \"cause\", \"cause\", \"cause\", \"cent\", \"cent\", \"cent\", \"cent\", \"cent\", \"champion\", \"champion\", \"champion\", \"champion\", \"champion\", \"child\", \"child\", \"child\", \"child\", \"child\", \"city\", \"city\", \"city\", \"city\", \"city\", \"civil\", \"civil\", \"civil\", \"civil\", \"claim\", \"claim\", \"claim\", \"claim\", \"claim\", \"collapse\", \"collapse\", \"collapse\", \"collapse\", \"collapse\", \"come\", \"come\", \"come\", \"come\", \"come\", \"commissioner\", \"commissioner\", \"commissioner\", \"commissioner\", \"commissioner\", \"company\", \"company\", \"company\", \"company\", \"company\", \"condition\", \"condition\", \"condition\", \"condition\", \"condition\", \"construction\", \"construction\", \"construction\", \"construction\", \"construction\", \"cost\", \"cost\", \"cost\", \"cost\", \"cost\", \"country\", \"country\", \"country\", \"country\", \"country\", \"cover\", \"cover\", \"cover\", \"cover\", \"cricket\", \"cricket\", \"cricket\", \"cricket\", \"cricket\", \"crime\", \"crime\", \"crime\", \"crime\", \"criminal\", \"criminal\", \"criticism\", \"criticism\", \"criticism\", \"criticism\", \"criticism\", \"cross\", \"cross\", \"cross\", \"cross\", \"cross\", \"damage\", \"damage\", \"damage\", \"damage\", \"damage\", \"death\", \"death\", \"death\", \"death\", \"death\", \"debate\", \"debate\", \"debate\", \"debate\", \"debate\", \"deliver\", \"deliver\", \"deliver\", \"deliver\", \"detainee\", \"detainee\", \"detainee\", \"detainee\", \"detainee\", \"director\", \"director\", \"director\", \"director\", \"director\", \"dismiss\", \"dismiss\", \"dismiss\", \"dismiss\", \"dispute\", \"dispute\", \"dispute\", \"dispute\", \"dispute\", \"doug\", \"doug\", \"doug\", \"early\", \"early\", \"early\", \"early\", \"early\", \"eastern\", \"eastern\", \"eastern\", \"eastern\", \"eastern\", \"elder\", \"elder\", \"elder\", \"elder\", \"employment\", \"employment\", \"employment\", \"employment\", \"employment\", \"energy\", \"energy\", \"energy\", \"energy\", \"environment\", \"environment\", \"environment\", \"environment\", \"environment\", \"event\", \"event\", \"event\", \"event\", \"event\", \"evidence\", \"evidence\", \"evidence\", \"evidence\", \"evidence\", \"expect\", \"expect\", \"expect\", \"expect\", \"expect\", \"family\", \"family\", \"family\", \"family\", \"family\", \"federal\", \"federal\", \"federal\", \"federal\", \"federal\", \"feel\", \"feel\", \"feel\", \"feel\", \"feel\", \"fighting\", \"fighting\", \"fighting\", \"fighting\", \"find\", \"find\", \"find\", \"find\", \"find\", \"fire\", \"fire\", \"fire\", \"fire\", \"fire\", \"firefighter\", \"firefighter\", \"firefighter\", \"firefighter\", \"firefighter\", \"flame\", \"flame\", \"flame\", \"flame\", \"flame\", \"follow\", \"follow\", \"follow\", \"follow\", \"follow\", \"force\", \"force\", \"force\", \"force\", \"force\", \"foreign_affairs\", \"foreign_affairs\", \"foreign_affairs\", \"foreign_affairs\", \"foreign_affairs\", \"free\", \"free\", \"free\", \"geoff\", \"geoff\", \"geoff\", \"geoff\", \"geoff\", \"give\", \"give\", \"give\", \"give\", \"give\", \"global\", \"global\", \"global\", \"global\", \"global\", \"good\", \"good\", \"good\", \"good\", \"good\", \"government\", \"government\", \"government\", \"government\", \"government\", \"governor_general\", \"governor_general\", \"governor_general\", \"governor_general\", \"group\", \"group\", \"group\", \"group\", \"group\", \"guide\", \"guide\", \"guide\", \"guide\", \"guide\", \"half\", \"half\", \"half\", \"half\", \"hayden\", \"hayden\", \"hayden\", \"hayden\", \"help\", \"help\", \"help\", \"help\", \"help\", \"highway\", \"highway\", \"highway\", \"highway\", \"highway\", \"hill\", \"hill\", \"hill\", \"hill\", \"hollingworth\", \"hollingworth\", \"hollingworth\", \"hollingworth\", \"hour\", \"hour\", \"hour\", \"hour\", \"hour\", \"howard\", \"howard\", \"howard\", \"howard\", \"human\", \"human\", \"human\", \"human\", \"human\", \"income\", \"income\", \"income\", \"income\", \"india\", \"india\", \"india\", \"india\", \"india\", \"indian\", \"indian\", \"indian\", \"indian\", \"indian\", \"indonesia\", \"indonesia\", \"indonesia\", \"indonesia\", \"initial\", \"initial\", \"initial\", \"initial\", \"injure\", \"injure\", \"injure\", \"injure\", \"injure\", \"interest_rate\", \"interest_rate\", \"interest_rate\", \"interest_rate\", \"interest_rate\", \"internet\", \"internet\", \"internet\", \"internet\", \"investigate\", \"investigate\", \"investigate\", \"investigate\", \"investment\", \"investment\", \"investment\", \"investment\", \"island\", \"island\", \"island\", \"island\", \"island\", \"israel\", \"israel\", \"israel\", \"israel\", \"israel\", \"israeli\", \"israeli\", \"israeli\", \"israeli\", \"israeli\", \"issue\", \"issue\", \"issue\", \"issue\", \"issue\", \"japan\", \"japan\", \"japan\", \"japan\", \"japan\", \"jenin\", \"jenin\", \"jenin\", \"jenin\", \"jenin\", \"karzai\", \"karzai\", \"karzai\", \"karzai\", \"karzai\", \"kill\", \"kill\", \"kill\", \"kill\", \"kill\", \"know\", \"know\", \"know\", \"know\", \"know\", \"labor\", \"labor\", \"labor\", \"labor\", \"labor\", \"lack\", \"lack\", \"lack\", \"lack\", \"laden\", \"laden\", \"laden\", \"laden\", \"laden\", \"lead\", \"lead\", \"lead\", \"lead\", \"lead\", \"leave\", \"leave\", \"leave\", \"leave\", \"leave\", \"line\", \"line\", \"line\", \"line\", \"line\", \"link\", \"link\", \"link\", \"link\", \"look_forward\", \"look_forward\", \"look_forward\", \"look_forward\", \"lord\", \"lord\", \"lord\", \"manufacturing\", \"manufacturing\", \"manufacturing\", \"market\", \"market\", \"market\", \"market\", \"market\", \"martin\", \"martin\", \"martin\", \"martin\", \"match\", \"match\", \"match\", \"match\", \"match\", \"medical\", \"medical\", \"medical\", \"metre\", \"metre\", \"metre\", \"metre\", \"metre\", \"mining\", \"mining\", \"minister\", \"minister\", \"minister\", \"minister\", \"minister\", \"minute\", \"minute\", \"minute\", \"minute\", \"month\", \"month\", \"month\", \"month\", \"month\", \"morning\", \"morning\", \"morning\", \"morning\", \"morning\", \"need\", \"need\", \"need\", \"need\", \"need\", \"negotiate\", \"negotiate\", \"negotiate\", \"negotiate\", \"negotiate\", \"northern_alliance\", \"northern_alliance\", \"northern_alliance\", \"northern_alliance\", \"northern_territory\", \"northern_territory\", \"northern_territory\", \"number\", \"number\", \"number\", \"number\", \"number\", \"official\", \"official\", \"official\", \"official\", \"official\", \"option\", \"option\", \"option\", \"option\", \"option\", \"overall\", \"overall\", \"overall\", \"overall\", \"overall\", \"pace\", \"pace\", \"package\", \"package\", \"package\", \"pakistan\", \"pakistan\", \"pakistan\", \"pakistan\", \"pakistan\", \"pakistani\", \"pakistani\", \"pakistani\", \"pakistani\", \"palestinian\", \"palestinian\", \"palestinian\", \"palestinian\", \"palestinian\", \"payment\", \"payment\", \"payment\", \"payment\", \"payment\", \"peace\", \"peace\", \"peace\", \"peace\", \"peace\", \"people\", \"people\", \"people\", \"people\", \"people\", \"pilot\", \"pilot\", \"pilot\", \"pilot\", \"place\", \"place\", \"place\", \"place\", \"place\", \"plan\", \"plan\", \"plan\", \"plan\", \"plan\", \"plane\", \"plane\", \"plane\", \"plane\", \"plane\", \"police\", \"police\", \"police\", \"police\", \"police\", \"power\", \"power\", \"power\", \"power\", \"power\", \"premier\", \"premier\", \"premier\", \"premier\", \"premier\", \"president\", \"president\", \"president\", \"president\", \"president\", \"prime_minister\", \"prime_minister\", \"prime_minister\", \"prime_minister\", \"prime_minister\", \"prisoner\", \"prisoner\", \"prisoner\", \"prisoner\", \"prisoner\", \"process\", \"process\", \"process\", \"process\", \"process\", \"profit\", \"profit\", \"project\", \"project\", \"project\", \"prompt\", \"prompt\", \"prompt\", \"prompt\", \"protect\", \"protect\", \"protect\", \"protect\", \"protect\", \"provisional_liquidation\", \"provisional_liquidation\", \"provisional_liquidation\", \"publicly\", \"publicly\", \"publicly\", \"publicly\", \"qanta\", \"qanta\", \"qanta\", \"qanta\", \"qanta\", \"qantas\", \"qantas\", \"qantas\", \"qantas\", \"qantas_maintenance_worker\", \"qantas_maintenance_worker\", \"qantas_maintenance_worker\", \"queensland\", \"queensland\", \"queensland\", \"queensland\", \"queensland\", \"race\", \"race\", \"race\", \"race\", \"radio\", \"radio\", \"radio\", \"radio\", \"radio\", \"rate\", \"rate\", \"rate\", \"rate\", \"rate\", \"reason\", \"reason\", \"reason\", \"reason\", \"recovery\", \"recovery\", \"recovery\", \"report\", \"report\", \"report\", \"report\", \"report\", \"reserve_bank\", \"reserve_bank\", \"reserve_bank\", \"reserve_bank\", \"respond\", \"respond\", \"respond\", \"respond\", \"respond\", \"return\", \"return\", \"return\", \"return\", \"return\", \"road\", \"road\", \"road\", \"road\", \"road\", \"royal_commission\", \"royal_commission\", \"royal_commission\", \"royal_commission\", \"scene\", \"scene\", \"scene\", \"scene\", \"scene\", \"secret\", \"secret\", \"secret\", \"secret\", \"secretary\", \"secretary\", \"secretary\", \"secretary\", \"secretary\", \"security\", \"security\", \"security\", \"security\", \"security\", \"september\", \"september\", \"september\", \"september\", \"september\", \"shane\", \"shane\", \"shane\", \"shane\", \"ship\", \"ship\", \"ship\", \"ship\", \"society\", \"society\", \"society\", \"society\", \"source\", \"source\", \"source\", \"source\", \"source\", \"south\", \"south\", \"south\", \"south\", \"south\", \"south_africa\", \"south_africa\", \"south_africa\", \"south_africa\", \"south_africa\", \"south_african\", \"south_african\", \"south_african\", \"south_african\", \"south_african\", \"special\", \"special\", \"special\", \"special\", \"special\", \"spread\", \"spread\", \"spread\", \"spread\", \"spread\", \"squad\", \"squad\", \"squad\", \"squad\", \"squad\", \"state\", \"state\", \"state\", \"state\", \"state\", \"station\", \"station\", \"station\", \"station\", \"station\", \"steve_waugh\", \"steve_waugh\", \"steve_waugh\", \"steve_waugh\", \"storm\", \"storm\", \"storm\", \"storm\", \"storm\", \"strategic\", \"strategic\", \"strategic\", \"strategic\", \"strategic\", \"suggest\", \"suggest\", \"suggest\", \"suggest\", \"suggest\", \"survey\", \"survey\", \"survey\", \"survey\", \"sydney\", \"sydney\", \"sydney\", \"sydney\", \"sydney\", \"take\", \"take\", \"take\", \"take\", \"take\", \"taliban\", \"taliban\", \"taliban\", \"taliban\", \"taliban\", \"task\", \"task\", \"task\", \"task\", \"tell\", \"tell\", \"tell\", \"tell\", \"tell\", \"temporary\", \"temporary\", \"temporary\", \"tennis\", \"tennis\", \"tennis\", \"tennis\", \"tennis\", \"term\", \"term\", \"term\", \"term\", \"term\", \"territory\", \"territory\", \"territory\", \"territory\", \"test\", \"test\", \"test\", \"test\", \"test\", \"think\", \"think\", \"think\", \"think\", \"think\", \"time\", \"time\", \"time\", \"time\", \"time\", \"today\", \"today\", \"today\", \"today\", \"today\", \"toll\", \"toll\", \"toll\", \"toll\", \"toowoomba\", \"toowoomba\", \"toowoomba\", \"toowoomba\", \"tora_bora\", \"tora_bora\", \"tora_bora\", \"tora_bora\", \"tora_bora\", \"trip\", \"trip\", \"trip\", \"undertake\", \"undertake\", \"unemployment\", \"unemployment\", \"unemployment\", \"union\", \"union\", \"union\", \"union\", \"union\", \"united_states\", \"united_states\", \"united_states\", \"united_states\", \"united_states\", \"unity\", \"unity\", \"unity\", \"unity\", \"unity\", \"victoria\", \"victoria\", \"victoria\", \"victoria\", \"victoria\", \"victory\", \"victory\", \"victory\", \"victory\", \"victory\", \"visa\", \"visa\", \"visa\", \"visa\", \"visa\", \"wage_freeze\", \"wage_freeze\", \"wage_freeze\", \"wage_freeze\", \"weather_bureau\", \"weather_bureau\", \"weather_bureau\", \"weather_bureau\", \"week\", \"week\", \"week\", \"week\", \"week\", \"west_bank\", \"west_bank\", \"west_bank\", \"west_bank\", \"west_bank\", \"wind\", \"wind\", \"wind\", \"wind\", \"wind\", \"witness\", \"witness\", \"witness\", \"witness\", \"witness\", \"word\", \"word\", \"word\", \"word\", \"word\", \"work\", \"work\", \"work\", \"work\", \"work\", \"world\", \"world\", \"world\", \"world\", \"world\", \"year\", \"year\", \"year\", \"year\", \"year\", \"york\", \"york\", \"york\", \"york\", \"york\", \"zealand\", \"zealand\", \"zealand\", \"zealand\", \"zealand\"]}, \"R\": 30, \"lambda.step\": 0.01, \"plot.opts\": {\"xlab\": \"PC1\", \"ylab\": \"PC2\"}, \"topic.order\": [4, 5, 3, 1, 2]};\n",
              "\n",
              "function LDAvis_load_lib(url, callback){\n",
              "  var s = document.createElement('script');\n",
              "  s.src = url;\n",
              "  s.async = true;\n",
              "  s.onreadystatechange = s.onload = callback;\n",
              "  s.onerror = function(){console.warn(\"failed to load library \" + url);};\n",
              "  document.getElementsByTagName(\"head\")[0].appendChild(s);\n",
              "}\n",
              "\n",
              "if(typeof(LDAvis) !== \"undefined\"){\n",
              "   // already loaded: just create the visualization\n",
              "   !function(LDAvis){\n",
              "       new LDAvis(\"#\" + \"ldavis_el368751404914686188809528448469\", ldavis_el368751404914686188809528448469_data);\n",
              "   }(LDAvis);\n",
              "}else if(typeof define === \"function\" && define.amd){\n",
              "   // require.js is available: use it to load d3/LDAvis\n",
              "   require.config({paths: {d3: \"https://d3js.org/d3.v5\"}});\n",
              "   require([\"d3\"], function(d3){\n",
              "      window.d3 = d3;\n",
              "      LDAvis_load_lib(\"https://cdn.jsdelivr.net/gh/bmabey/pyLDAvis@3.3.1/pyLDAvis/js/ldavis.v3.0.0.js\", function(){\n",
              "        new LDAvis(\"#\" + \"ldavis_el368751404914686188809528448469\", ldavis_el368751404914686188809528448469_data);\n",
              "      });\n",
              "    });\n",
              "}else{\n",
              "    // require.js not available: dynamically load d3 & LDAvis\n",
              "    LDAvis_load_lib(\"https://d3js.org/d3.v5.js\", function(){\n",
              "         LDAvis_load_lib(\"https://cdn.jsdelivr.net/gh/bmabey/pyLDAvis@3.3.1/pyLDAvis/js/ldavis.v3.0.0.js\", function(){\n",
              "                 new LDAvis(\"#\" + \"ldavis_el368751404914686188809528448469\", ldavis_el368751404914686188809528448469_data);\n",
              "            })\n",
              "         });\n",
              "}\n",
              "</script>"
            ],
            "text/plain": [
              "<IPython.core.display.HTML object>"
            ]
          },
          "metadata": {
            "tags": []
          },
          "execution_count": 32
        }
      ]
    },
    {
      "cell_type": "markdown",
      "metadata": {
        "id": "R6Gsx-DxnjY0"
      },
      "source": [
        "## Selección del número de temas\n",
        "Para seleccionar el número óptimo de temas, debemos hacer un barrido y seleccionar el modelo con mayor valor de coherencia (Topic coherence).  \n",
        "Lo podemos automatizar en una función (nota: *tarda bastante en ejecutarse*)."
      ]
    },
    {
      "cell_type": "code",
      "metadata": {
        "id": "Dt252qhLnjY0"
      },
      "source": [
        "def evaluate_graph(dictionary, corpus, texts, limit, start=1, step=1):\n",
        "    \"\"\"\n",
        "    Function to display num_topics - LDA graph using c_v coherence\n",
        "    \n",
        "    Parameters:\n",
        "    ----------\n",
        "    dictionary : Gensim dictionary\n",
        "    corpus : Gensim corpus\n",
        "    limit : topic limit\n",
        "    start: min number of topics\n",
        "    step: step between topics number swept\n",
        "    \n",
        "    Returns:\n",
        "    -------\n",
        "    lm_list : List of LDA topic models\n",
        "    c_v : Coherence values corresponding to the LDA model with respective number of topics\n",
        "    \"\"\"\n",
        "    c_v = []\n",
        "    lm_list = []\n",
        "    n_topics = list(range(start, limit, step))\n",
        "    for num_topics in n_topics:\n",
        "        lm = LdaModel(corpus=corpus, num_topics=num_topics, id2word=dictionary)\n",
        "        lm_list.append(lm)\n",
        "        cm = CoherenceModel(model=lm, texts=texts, dictionary=dictionary, coherence='c_v')\n",
        "        c_v.append(cm.get_coherence())\n",
        "        \n",
        "    # Show graph\n",
        "    x = n_topics\n",
        "    plt.plot(x, c_v)\n",
        "    plt.xlabel(\"num_topics\")\n",
        "    plt.ylabel(\"Coherence score\")\n",
        "    plt.legend((\"c_v\"), loc='best')\n",
        "    plt.show()\n",
        "    \n",
        "    return lm_list, c_v, n_topics"
      ],
      "execution_count": null,
      "outputs": []
    },
    {
      "cell_type": "code",
      "metadata": {
        "id": "H9IbluLZnjY0",
        "outputId": "9b554f19-f389-45b3-9b04-52242bc5eb30"
      },
      "source": [
        "lmlist, c_v, n = evaluate_graph(dictionary=corpus_bow.diccionario,\n",
        "                                corpus=corpus_bow,\n",
        "                                texts=textos_trigramas,\n",
        "                                limit=20,\n",
        "                                step=2)"
      ],
      "execution_count": null,
      "outputs": [
        {
          "output_type": "display_data",
          "data": {
            "image/png": "[encoded data removed]",
            "text/plain": [
              "<Figure size 432x288 with 1 Axes>"
            ]
          },
          "metadata": {
            "tags": [],
            "needs_background": "light"
          }
        }
      ]
    },
    {
      "cell_type": "markdown",
      "metadata": {
        "id": "Pm0b7nPGnjY1"
      },
      "source": [
        "### Determinar el tema dominante en cada documento\n",
        "Una aplicación práctica del topic modeling es determinar de qué tema trata un documento.  \n",
        "Para hacer esto, se busca el número de tema que tiene una mayor contribución en el documento.  \n",
        "La función `format_topics_sentences()` genera esta información en forma de tabla.  "
      ]
    },
    {
      "cell_type": "code",
      "metadata": {
        "id": "u_Ri8DfpnjY1"
      },
      "source": [
        "def format_topics_sentences(ldamodel, corpus):\n",
        "    # inicializa salida\n",
        "    sent_topics_df = pd.DataFrame()\n",
        "\n",
        "    # obtiene main topic de cada documento\n",
        "    for row in ldamodel[corpus]:\n",
        "        row = sorted(row, key=lambda x: (x[1]), reverse=True)\n",
        "        # Get the Dominant topic, Perc Contribution and Keywords for each document\n",
        "        (topic_num, prop_topic)=row[0]\n",
        "        wp = ldamodel.show_topic(topic_num)\n",
        "        topic_keywords = \", \".join([word for word, prop in wp])\n",
        "        sent_topics_df = sent_topics_df.append(pd.Series([int(topic_num), round(prop_topic,4), topic_keywords]), ignore_index=True)\n",
        "    sent_topics_df.reset_index(inplace=True)\n",
        "    sent_topics_df.columns = ['No_doc','Tema_dominante', 'Contribucion_per', 'Palabras_clave']\n",
        "    sent_topics_df['Tema_dominante'] = sent_topics_df['Tema_dominante'].astype('int')\n",
        "    return(sent_topics_df)"
      ],
      "execution_count": null,
      "outputs": []
    },
    {
      "cell_type": "code",
      "metadata": {
        "id": "U-soy_YfnjY1",
        "outputId": "f46da694-3499-4035-dc8a-829513dca96c"
      },
      "source": [
        "df_topic_sents_keywords = format_topics_sentences(ldamodel=ldamodel, corpus=corpus_bow)\n",
        "\n",
        "df_topic_sents_keywords.head(10)"
      ],
      "execution_count": null,
      "outputs": [
        {
          "output_type": "execute_result",
          "data": {
            "text/html": [
              "<div>\n",
              "<style scoped>\n",
              "    .dataframe tbody tr th:only-of-type {\n",
              "        vertical-align: middle;\n",
              "    }\n",
              "\n",
              "    .dataframe tbody tr th {\n",
              "        vertical-align: top;\n",
              "    }\n",
              "\n",
              "    .dataframe thead th {\n",
              "        text-align: right;\n",
              "    }\n",
              "</style>\n",
              "<table border=\"1\" class=\"dataframe\">\n",
              "  <thead>\n",
              "    <tr style=\"text-align: right;\">\n",
              "      <th></th>\n",
              "      <th>No_doc</th>\n",
              "      <th>Tema_dominante</th>\n",
              "      <th>Contribucion_per</th>\n",
              "      <th>Palabras_clave</th>\n",
              "    </tr>\n",
              "  </thead>\n",
              "  <tbody>\n",
              "    <tr>\n",
              "      <th>0</th>\n",
              "      <td>0</td>\n",
              "      <td>0</td>\n",
              "      <td>0.9921</td>\n",
              "      <td>year, people, australia, attack, fire, force, ...</td>\n",
              "    </tr>\n",
              "    <tr>\n",
              "      <th>1</th>\n",
              "      <td>1</td>\n",
              "      <td>1</td>\n",
              "      <td>0.5178</td>\n",
              "      <td>australian, australia, company, year, month, p...</td>\n",
              "    </tr>\n",
              "    <tr>\n",
              "      <th>2</th>\n",
              "      <td>2</td>\n",
              "      <td>2</td>\n",
              "      <td>0.9687</td>\n",
              "      <td>people, australia, attack, government, police,...</td>\n",
              "    </tr>\n",
              "    <tr>\n",
              "      <th>3</th>\n",
              "      <td>3</td>\n",
              "      <td>3</td>\n",
              "      <td>0.9822</td>\n",
              "      <td>year, palestinian, australian, israeli, austra...</td>\n",
              "    </tr>\n",
              "    <tr>\n",
              "      <th>4</th>\n",
              "      <td>4</td>\n",
              "      <td>3</td>\n",
              "      <td>0.7111</td>\n",
              "      <td>year, palestinian, australian, israeli, austra...</td>\n",
              "    </tr>\n",
              "    <tr>\n",
              "      <th>5</th>\n",
              "      <td>5</td>\n",
              "      <td>2</td>\n",
              "      <td>0.7479</td>\n",
              "      <td>people, australia, attack, government, police,...</td>\n",
              "    </tr>\n",
              "    <tr>\n",
              "      <th>6</th>\n",
              "      <td>6</td>\n",
              "      <td>3</td>\n",
              "      <td>0.9899</td>\n",
              "      <td>year, palestinian, australian, israeli, austra...</td>\n",
              "    </tr>\n",
              "    <tr>\n",
              "      <th>7</th>\n",
              "      <td>7</td>\n",
              "      <td>0</td>\n",
              "      <td>0.9673</td>\n",
              "      <td>year, people, australia, attack, fire, force, ...</td>\n",
              "    </tr>\n",
              "    <tr>\n",
              "      <th>8</th>\n",
              "      <td>8</td>\n",
              "      <td>0</td>\n",
              "      <td>0.9930</td>\n",
              "      <td>year, people, australia, attack, fire, force, ...</td>\n",
              "    </tr>\n",
              "    <tr>\n",
              "      <th>9</th>\n",
              "      <td>9</td>\n",
              "      <td>0</td>\n",
              "      <td>0.9815</td>\n",
              "      <td>year, people, australia, attack, fire, force, ...</td>\n",
              "    </tr>\n",
              "  </tbody>\n",
              "</table>\n",
              "</div>"
            ],
            "text/plain": [
              "   No_doc  Tema_dominante  Contribucion_per  \\\n",
              "0       0               0            0.9921   \n",
              "1       1               1            0.5178   \n",
              "2       2               2            0.9687   \n",
              "3       3               3            0.9822   \n",
              "4       4               3            0.7111   \n",
              "5       5               2            0.7479   \n",
              "6       6               3            0.9899   \n",
              "7       7               0            0.9673   \n",
              "8       8               0            0.9930   \n",
              "9       9               0            0.9815   \n",
              "\n",
              "                                      Palabras_clave  \n",
              "0  year, people, australia, attack, fire, force, ...  \n",
              "1  australian, australia, company, year, month, p...  \n",
              "2  people, australia, attack, government, police,...  \n",
              "3  year, palestinian, australian, israeli, austra...  \n",
              "4  year, palestinian, australian, israeli, austra...  \n",
              "5  people, australia, attack, government, police,...  \n",
              "6  year, palestinian, australian, israeli, austra...  \n",
              "7  year, people, australia, attack, fire, force, ...  \n",
              "8  year, people, australia, attack, fire, force, ...  \n",
              "9  year, people, australia, attack, fire, force, ...  "
            ]
          },
          "metadata": {
            "tags": []
          },
          "execution_count": 36
        }
      ]
    },
    {
      "cell_type": "markdown",
      "metadata": {
        "id": "0cX5kXJinjY2"
      },
      "source": [
        "### Determinar el documento más representativo de cada tema\n",
        "Agrupando por temas, podemos seleccionar el de mayor porcentaje como más representativo."
      ]
    },
    {
      "cell_type": "code",
      "metadata": {
        "id": "ZYYK4LddnjY2",
        "outputId": "56f412d6-1bbb-40ff-b778-51b3f28dace5"
      },
      "source": [
        "# Agrupamos documentos por tema\n",
        "sent_topics_sorted = pd.DataFrame()\n",
        "\n",
        "sent_topics_outdf_grpd = df_topic_sents_keywords.groupby('Tema_dominante')\n",
        "\n",
        "for i, grp in sent_topics_outdf_grpd:\n",
        "    sent_topics_sorted = pd.concat([sent_topics_sorted, \n",
        "                                             grp.sort_values(['Contribucion_per'], ascending=[0]).head(1)], \n",
        "                                            axis=0)\n",
        "\n",
        "# Reset Index    \n",
        "sent_topics_sorted.reset_index(drop=True, inplace=True)\n",
        "\n",
        "# cambiamos nombre de columna\n",
        "sent_topics_sorted.columns = df_topic_sents_keywords.columns\n",
        "\n",
        "# Mostramos\n",
        "sent_topics_sorted"
      ],
      "execution_count": null,
      "outputs": [
        {
          "output_type": "execute_result",
          "data": {
            "text/html": [
              "<div>\n",
              "<style scoped>\n",
              "    .dataframe tbody tr th:only-of-type {\n",
              "        vertical-align: middle;\n",
              "    }\n",
              "\n",
              "    .dataframe tbody tr th {\n",
              "        vertical-align: top;\n",
              "    }\n",
              "\n",
              "    .dataframe thead th {\n",
              "        text-align: right;\n",
              "    }\n",
              "</style>\n",
              "<table border=\"1\" class=\"dataframe\">\n",
              "  <thead>\n",
              "    <tr style=\"text-align: right;\">\n",
              "      <th></th>\n",
              "      <th>No_doc</th>\n",
              "      <th>Tema_dominante</th>\n",
              "      <th>Contribucion_per</th>\n",
              "      <th>Palabras_clave</th>\n",
              "    </tr>\n",
              "  </thead>\n",
              "  <tbody>\n",
              "    <tr>\n",
              "      <th>0</th>\n",
              "      <td>12</td>\n",
              "      <td>0</td>\n",
              "      <td>0.9938</td>\n",
              "      <td>year, people, australia, attack, fire, force, ...</td>\n",
              "    </tr>\n",
              "    <tr>\n",
              "      <th>1</th>\n",
              "      <td>179</td>\n",
              "      <td>1</td>\n",
              "      <td>0.9914</td>\n",
              "      <td>australian, australia, company, year, month, p...</td>\n",
              "    </tr>\n",
              "    <tr>\n",
              "      <th>2</th>\n",
              "      <td>105</td>\n",
              "      <td>2</td>\n",
              "      <td>0.9917</td>\n",
              "      <td>people, australia, attack, government, police,...</td>\n",
              "    </tr>\n",
              "    <tr>\n",
              "      <th>3</th>\n",
              "      <td>131</td>\n",
              "      <td>3</td>\n",
              "      <td>0.9932</td>\n",
              "      <td>year, palestinian, australian, israeli, austra...</td>\n",
              "    </tr>\n",
              "    <tr>\n",
              "      <th>4</th>\n",
              "      <td>200</td>\n",
              "      <td>4</td>\n",
              "      <td>0.9949</td>\n",
              "      <td>government, palestinian, australian, people, o...</td>\n",
              "    </tr>\n",
              "  </tbody>\n",
              "</table>\n",
              "</div>"
            ],
            "text/plain": [
              "   No_doc  Tema_dominante  Contribucion_per  \\\n",
              "0      12               0            0.9938   \n",
              "1     179               1            0.9914   \n",
              "2     105               2            0.9917   \n",
              "3     131               3            0.9932   \n",
              "4     200               4            0.9949   \n",
              "\n",
              "                                      Palabras_clave  \n",
              "0  year, people, australia, attack, fire, force, ...  \n",
              "1  australian, australia, company, year, month, p...  \n",
              "2  people, australia, attack, government, police,...  \n",
              "3  year, palestinian, australian, israeli, austra...  \n",
              "4  government, palestinian, australian, people, o...  "
            ]
          },
          "metadata": {
            "tags": []
          },
          "execution_count": 37
        }
      ]
    },
    {
      "cell_type": "markdown",
      "metadata": {
        "id": "3jhvSuCInjY2"
      },
      "source": [
        "### Distribución de temas entre documentos\n",
        "Por último, podemos analizar el volumen y la distribución de temas entre los documentos del tema.  "
      ]
    },
    {
      "cell_type": "code",
      "metadata": {
        "id": "TiMYEtsfnjY2",
        "outputId": "b618a84b-d96a-4a40-84f4-acad414d83d6"
      },
      "source": [
        "# núm de documentos por cada tema\n",
        "topic_counts = df_topic_sents_keywords['Tema_dominante'].value_counts()\n",
        "\n",
        "# porcentaje de documentos por cada tema\n",
        "topic_contribution = round(topic_counts/topic_counts.sum(), 4)\n",
        "\n",
        "# palabras clave de cada tema\n",
        "topic_num_keywords = sent_topics_sorted[['Tema_dominante', 'Palabras_clave']]\n",
        "\n",
        "# Concatenamos por columna\n",
        "df_dominant_topics = pd.concat([topic_num_keywords, topic_counts, topic_contribution], axis=1)\n",
        "\n",
        "# cambiamos nombre de columna\n",
        "df_dominant_topics.columns = ['Tema_dominante', 'Palabras_clave', 'Num_Documentos', 'Perc_Documentos']\n",
        "\n",
        "# Show\n",
        "df_dominant_topics"
      ],
      "execution_count": null,
      "outputs": [
        {
          "output_type": "execute_result",
          "data": {
            "text/html": [
              "<div>\n",
              "<style scoped>\n",
              "    .dataframe tbody tr th:only-of-type {\n",
              "        vertical-align: middle;\n",
              "    }\n",
              "\n",
              "    .dataframe tbody tr th {\n",
              "        vertical-align: top;\n",
              "    }\n",
              "\n",
              "    .dataframe thead th {\n",
              "        text-align: right;\n",
              "    }\n",
              "</style>\n",
              "<table border=\"1\" class=\"dataframe\">\n",
              "  <thead>\n",
              "    <tr style=\"text-align: right;\">\n",
              "      <th></th>\n",
              "      <th>Tema_dominante</th>\n",
              "      <th>Palabras_clave</th>\n",
              "      <th>Num_Documentos</th>\n",
              "      <th>Perc_Documentos</th>\n",
              "    </tr>\n",
              "  </thead>\n",
              "  <tbody>\n",
              "    <tr>\n",
              "      <th>0</th>\n",
              "      <td>0</td>\n",
              "      <td>year, people, australia, attack, fire, force, ...</td>\n",
              "      <td>54</td>\n",
              "      <td>0.1800</td>\n",
              "    </tr>\n",
              "    <tr>\n",
              "      <th>1</th>\n",
              "      <td>1</td>\n",
              "      <td>australian, australia, company, year, month, p...</td>\n",
              "      <td>56</td>\n",
              "      <td>0.1867</td>\n",
              "    </tr>\n",
              "    <tr>\n",
              "      <th>2</th>\n",
              "      <td>2</td>\n",
              "      <td>people, australia, attack, government, police,...</td>\n",
              "      <td>62</td>\n",
              "      <td>0.2067</td>\n",
              "    </tr>\n",
              "    <tr>\n",
              "      <th>3</th>\n",
              "      <td>3</td>\n",
              "      <td>year, palestinian, australian, israeli, austra...</td>\n",
              "      <td>65</td>\n",
              "      <td>0.2167</td>\n",
              "    </tr>\n",
              "    <tr>\n",
              "      <th>4</th>\n",
              "      <td>4</td>\n",
              "      <td>government, palestinian, australian, people, o...</td>\n",
              "      <td>63</td>\n",
              "      <td>0.2100</td>\n",
              "    </tr>\n",
              "  </tbody>\n",
              "</table>\n",
              "</div>"
            ],
            "text/plain": [
              "   Tema_dominante                                     Palabras_clave  \\\n",
              "0               0  year, people, australia, attack, fire, force, ...   \n",
              "1               1  australian, australia, company, year, month, p...   \n",
              "2               2  people, australia, attack, government, police,...   \n",
              "3               3  year, palestinian, australian, israeli, austra...   \n",
              "4               4  government, palestinian, australian, people, o...   \n",
              "\n",
              "   Num_Documentos  Perc_Documentos  \n",
              "0              54           0.1800  \n",
              "1              56           0.1867  \n",
              "2              62           0.2067  \n",
              "3              65           0.2167  \n",
              "4              63           0.2100  "
            ]
          },
          "metadata": {
            "tags": []
          },
          "execution_count": 38
        }
      ]
    },
    {
      "cell_type": "code",
      "metadata": {
        "id": "euvp4vOmnjY2"
      },
      "source": [
        ""
      ],
      "execution_count": null,
      "outputs": []
    }
  ]
}