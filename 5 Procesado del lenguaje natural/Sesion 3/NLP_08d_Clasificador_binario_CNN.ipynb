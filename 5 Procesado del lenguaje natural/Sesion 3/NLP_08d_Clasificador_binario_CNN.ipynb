{
  "nbformat": 4,
  "nbformat_minor": 0,
  "metadata": {
    "kernelspec": {
      "display_name": "Python 3",
      "language": "python",
      "name": "python3"
    },
    "language_info": {
      "codemirror_mode": {
        "name": "ipython",
        "version": 3
      },
      "file_extension": ".py",
      "mimetype": "text/x-python",
      "name": "python",
      "nbconvert_exporter": "python",
      "pygments_lexer": "ipython3",
      "version": "3.8.5"
    },
    "colab": {
      "name": "NLP_08d-Clasificador binario-CNN.ipynb",
      "provenance": [],
      "toc_visible": true,
      "include_colab_link": true
    }
  },
  "cells": [
    {
      "cell_type": "markdown",
      "metadata": {
        "id": "view-in-github",
        "colab_type": "text"
      },
      "source": [
        "<a href=\"https://colab.research.google.com/github/vicentcamison/idal_ia3/blob/main/5%20Procesado%20del%20lenguaje%20natural/Sesion%203/NLP_08d_Clasificador_binario_CNN.ipynb\" target=\"_parent\"><img src=\"https://colab.research.google.com/assets/colab-badge.svg\" alt=\"Open In Colab\"/></a>"
      ]
    },
    {
      "cell_type": "markdown",
      "metadata": {
        "id": "isRWjj7km1X-"
      },
      "source": [
        "# Clasificador de texto con CNN\n",
        "Implementemos un clasificador con Convolutional Neural Networks aplicado al análisis de sentimiento en Twitter usando la librería `Keras`.  \n",
        "Aplicamos una primera capa de embeddings para convertir las palabras en vectores y luego entrenamos con una red CNN (seleccionando el max-pooling de cada filtro para obtener un vector por tweet).  \n",
        "Para calcular los embeddings usamos:  \n",
        "- Una capa de embeddings propia sobre los tweets\n",
        "- Transfer Learning con los word embeddings de spaCy \n",
        "- Transfer Learning con los word embeddings de GloVe \n",
        "\n",
        "Implementado según el modelo planteado en [Convolutional Neural Networks for Sentence Classification](http://arxiv.org/abs/1408.5882)"
      ]
    },
    {
      "cell_type": "code",
      "metadata": {
        "id": "O_XfbTx05-L2",
        "colab": {
          "base_uri": "https://localhost:8080/"
        },
        "outputId": "43cf49ad-2332-40f4-cfad-1a3182f4690c"
      },
      "source": [
        "#(ejecutar esto sólo si estás en Colab)\n",
        "!python -m spacy download es_core_news_md"
      ],
      "execution_count": 1,
      "outputs": [
        {
          "output_type": "stream",
          "text": [
            "Requirement already satisfied: es_core_news_md==2.2.5 from https://github.com/explosion/spacy-models/releases/download/es_core_news_md-2.2.5/es_core_news_md-2.2.5.tar.gz#egg=es_core_news_md==2.2.5 in /usr/local/lib/python3.7/dist-packages (2.2.5)\n",
            "Requirement already satisfied: spacy>=2.2.2 in /usr/local/lib/python3.7/dist-packages (from es_core_news_md==2.2.5) (2.2.4)\n",
            "Requirement already satisfied: tqdm<5.0.0,>=4.38.0 in /usr/local/lib/python3.7/dist-packages (from spacy>=2.2.2->es_core_news_md==2.2.5) (4.41.1)\n",
            "Requirement already satisfied: preshed<3.1.0,>=3.0.2 in /usr/local/lib/python3.7/dist-packages (from spacy>=2.2.2->es_core_news_md==2.2.5) (3.0.5)\n",
            "Requirement already satisfied: murmurhash<1.1.0,>=0.28.0 in /usr/local/lib/python3.7/dist-packages (from spacy>=2.2.2->es_core_news_md==2.2.5) (1.0.5)\n",
            "Requirement already satisfied: blis<0.5.0,>=0.4.0 in /usr/local/lib/python3.7/dist-packages (from spacy>=2.2.2->es_core_news_md==2.2.5) (0.4.1)\n",
            "Requirement already satisfied: requests<3.0.0,>=2.13.0 in /usr/local/lib/python3.7/dist-packages (from spacy>=2.2.2->es_core_news_md==2.2.5) (2.23.0)\n",
            "Requirement already satisfied: wasabi<1.1.0,>=0.4.0 in /usr/local/lib/python3.7/dist-packages (from spacy>=2.2.2->es_core_news_md==2.2.5) (0.8.2)\n",
            "Requirement already satisfied: cymem<2.1.0,>=2.0.2 in /usr/local/lib/python3.7/dist-packages (from spacy>=2.2.2->es_core_news_md==2.2.5) (2.0.5)\n",
            "Requirement already satisfied: setuptools in /usr/local/lib/python3.7/dist-packages (from spacy>=2.2.2->es_core_news_md==2.2.5) (57.0.0)\n",
            "Requirement already satisfied: numpy>=1.15.0 in /usr/local/lib/python3.7/dist-packages (from spacy>=2.2.2->es_core_news_md==2.2.5) (1.19.5)\n",
            "Requirement already satisfied: plac<1.2.0,>=0.9.6 in /usr/local/lib/python3.7/dist-packages (from spacy>=2.2.2->es_core_news_md==2.2.5) (1.1.3)\n",
            "Requirement already satisfied: thinc==7.4.0 in /usr/local/lib/python3.7/dist-packages (from spacy>=2.2.2->es_core_news_md==2.2.5) (7.4.0)\n",
            "Requirement already satisfied: srsly<1.1.0,>=1.0.2 in /usr/local/lib/python3.7/dist-packages (from spacy>=2.2.2->es_core_news_md==2.2.5) (1.0.5)\n",
            "Requirement already satisfied: catalogue<1.1.0,>=0.0.7 in /usr/local/lib/python3.7/dist-packages (from spacy>=2.2.2->es_core_news_md==2.2.5) (1.0.0)\n",
            "Requirement already satisfied: idna<3,>=2.5 in /usr/local/lib/python3.7/dist-packages (from requests<3.0.0,>=2.13.0->spacy>=2.2.2->es_core_news_md==2.2.5) (2.10)\n",
            "Requirement already satisfied: certifi>=2017.4.17 in /usr/local/lib/python3.7/dist-packages (from requests<3.0.0,>=2.13.0->spacy>=2.2.2->es_core_news_md==2.2.5) (2020.12.5)\n",
            "Requirement already satisfied: urllib3!=1.25.0,!=1.25.1,<1.26,>=1.21.1 in /usr/local/lib/python3.7/dist-packages (from requests<3.0.0,>=2.13.0->spacy>=2.2.2->es_core_news_md==2.2.5) (1.24.3)\n",
            "Requirement already satisfied: chardet<4,>=3.0.2 in /usr/local/lib/python3.7/dist-packages (from requests<3.0.0,>=2.13.0->spacy>=2.2.2->es_core_news_md==2.2.5) (3.0.4)\n",
            "Requirement already satisfied: importlib-metadata>=0.20; python_version < \"3.8\" in /usr/local/lib/python3.7/dist-packages (from catalogue<1.1.0,>=0.0.7->spacy>=2.2.2->es_core_news_md==2.2.5) (4.0.1)\n",
            "Requirement already satisfied: typing-extensions>=3.6.4; python_version < \"3.8\" in /usr/local/lib/python3.7/dist-packages (from importlib-metadata>=0.20; python_version < \"3.8\"->catalogue<1.1.0,>=0.0.7->spacy>=2.2.2->es_core_news_md==2.2.5) (3.7.4.3)\n",
            "Requirement already satisfied: zipp>=0.5 in /usr/local/lib/python3.7/dist-packages (from importlib-metadata>=0.20; python_version < \"3.8\"->catalogue<1.1.0,>=0.0.7->spacy>=2.2.2->es_core_news_md==2.2.5) (3.4.1)\n",
            "\u001b[38;5;2m✔ Download and installation successful\u001b[0m\n",
            "You can now load the model via spacy.load('es_core_news_md')\n"
          ],
          "name": "stdout"
        }
      ]
    },
    {
      "cell_type": "code",
      "metadata": {
        "id": "T6FUfyh-m1YK"
      },
      "source": [
        "import pandas as pd\n",
        "import numpy as np\n",
        "import re, string, spacy\n",
        "from sklearn.feature_extraction.text import CountVectorizer\n",
        "from tensorflow.keras.preprocessing.text import Tokenizer\n",
        "from tensorflow.keras.preprocessing.sequence import pad_sequences\n",
        "from tensorflow.keras.models import Sequential\n",
        "from tensorflow.keras.layers import Dense, Embedding, Dropout, Activation, Conv1D, GlobalMaxPooling1D\n",
        "from sklearn.model_selection import train_test_split\n",
        "from sklearn.metrics import classification_report\n",
        "import matplotlib.pyplot as plt\n",
        "%matplotlib inline\n",
        "\n",
        "pd.options.display.max_colwidth = None\n",
        "np.random.seed(123)"
      ],
      "execution_count": 2,
      "outputs": []
    },
    {
      "cell_type": "code",
      "metadata": {
        "id": "ke3qQOSFm1YN",
        "colab": {
          "base_uri": "https://localhost:8080/",
          "height": 206
        },
        "outputId": "f6a04d70-d774-4037-9757-520db24344e9"
      },
      "source": [
        "# Leemos los datos\n",
        "#LOCAL:\n",
        "#df = pd.read_csv('tweets_all.csv', index_col=None)\n",
        "#GITHUB:\n",
        "df = pd.read_csv('https://raw.githubusercontent.com/vicentcamison/idal_ia3/main/5%20Procesado%20del%20lenguaje%20natural/Sesion%203/tweets_all.csv', index_col=None)\n",
        "\n",
        "#seleccionamos columnas de interés\n",
        "df = df[['content', 'polarity']]\n",
        "\n",
        "#dejamos polaridades definidas\n",
        "df = df[(df['polarity']=='P') | (df['polarity']=='N')]\n",
        "\n",
        "df.head()"
      ],
      "execution_count": 3,
      "outputs": [
        {
          "output_type": "execute_result",
          "data": {
            "text/html": [
              "<div>\n",
              "<style scoped>\n",
              "    .dataframe tbody tr th:only-of-type {\n",
              "        vertical-align: middle;\n",
              "    }\n",
              "\n",
              "    .dataframe tbody tr th {\n",
              "        vertical-align: top;\n",
              "    }\n",
              "\n",
              "    .dataframe thead th {\n",
              "        text-align: right;\n",
              "    }\n",
              "</style>\n",
              "<table border=\"1\" class=\"dataframe\">\n",
              "  <thead>\n",
              "    <tr style=\"text-align: right;\">\n",
              "      <th></th>\n",
              "      <th>content</th>\n",
              "      <th>polarity</th>\n",
              "    </tr>\n",
              "  </thead>\n",
              "  <tbody>\n",
              "    <tr>\n",
              "      <th>1</th>\n",
              "      <td>@myendlesshazza a. que puto mal escribo\\n\\nb. me sigo surrando help \\n\\n3. ha quedado raro el \"cómetelo\" ahí JAJAJAJA</td>\n",
              "      <td>N</td>\n",
              "    </tr>\n",
              "    <tr>\n",
              "      <th>2</th>\n",
              "      <td>@estherct209 jajajaja la tuya y la d mucha gente seguro!! Pero yo no puedo sin mi melena me muero</td>\n",
              "      <td>N</td>\n",
              "    </tr>\n",
              "    <tr>\n",
              "      <th>3</th>\n",
              "      <td>Quiero mogollón a @AlbaBenito99 pero sobretodo por lo rápido que contesta a los wasaps</td>\n",
              "      <td>P</td>\n",
              "    </tr>\n",
              "    <tr>\n",
              "      <th>4</th>\n",
              "      <td>Vale he visto la tia bebiendose su regla y me hs dado muchs grima</td>\n",
              "      <td>N</td>\n",
              "    </tr>\n",
              "    <tr>\n",
              "      <th>5</th>\n",
              "      <td>@Yulian_Poe @guillermoterry1 Ah. mucho más por supuesto! solo que lo incluyo. Me habías entendido mal</td>\n",
              "      <td>P</td>\n",
              "    </tr>\n",
              "  </tbody>\n",
              "</table>\n",
              "</div>"
            ],
            "text/plain": [
              "                                                                                                                 content polarity\n",
              "1  @myendlesshazza a. que puto mal escribo\\n\\nb. me sigo surrando help \\n\\n3. ha quedado raro el \"cómetelo\" ahí JAJAJAJA        N\n",
              "2                     @estherct209 jajajaja la tuya y la d mucha gente seguro!! Pero yo no puedo sin mi melena me muero         N\n",
              "3                                Quiero mogollón a @AlbaBenito99 pero sobretodo por lo rápido que contesta a los wasaps         P\n",
              "4                                                     Vale he visto la tia bebiendose su regla y me hs dado muchs grima         N\n",
              "5                 @Yulian_Poe @guillermoterry1 Ah. mucho más por supuesto! solo que lo incluyo. Me habías entendido mal         P"
            ]
          },
          "metadata": {
            "tags": []
          },
          "execution_count": 3
        }
      ]
    },
    {
      "cell_type": "code",
      "metadata": {
        "id": "KYzV9CwTm1YS",
        "colab": {
          "base_uri": "https://localhost:8080/"
        },
        "outputId": "39be69eb-70bd-449a-d40f-11e146f4f213"
      },
      "source": [
        "df.polarity.value_counts()"
      ],
      "execution_count": 4,
      "outputs": [
        {
          "output_type": "execute_result",
          "data": {
            "text/plain": [
              "N    637\n",
              "P    474\n",
              "Name: polarity, dtype: int64"
            ]
          },
          "metadata": {
            "tags": []
          },
          "execution_count": 4
        }
      ]
    },
    {
      "cell_type": "markdown",
      "metadata": {
        "id": "mHvSoL1em1YU"
      },
      "source": [
        "## Limpieza de texto\n",
        "Usamos Spacy para separar el texto en tokens y mantener sólo las palabras importantes, dejando su lemma"
      ]
    },
    {
      "cell_type": "code",
      "metadata": {
        "id": "BrqsNoVtm1YU"
      },
      "source": [
        "import re, string, spacy\n",
        "nlp=spacy.load('es_core_news_md')\n",
        "\n",
        "pattern2 = re.compile('[{}]'.format(re.escape(string.punctuation))) #elimina símbolos de puntuación\n",
        "\n",
        "def clean_text(text, lemas=False):\n",
        "    \"\"\"Limpiamos las menciones y URL del texto. Luego convertimos en tokens\n",
        "    y eliminamos signos de puntuación.\n",
        "    Si lemas=True extraemos el lema, si no dejamos en minúsculas solamente.\n",
        "    Como salida volvemos a convertir los tokens en cadena de texto\"\"\"\n",
        "    text = re.sub(r'@[\\w_]+|https?://[\\w_./]+', '', text) #elimina menciones y URL\n",
        "    tokens = nlp(text)\n",
        "    tokens = [tok.lemma_.lower() if lemas else tok.lower_ for tok in tokens if not tok.is_punct]\n",
        "    filtered_tokens = [pattern2.sub('', tok) for tok in tokens] #no quitamos stop-words\n",
        "    filtered_text = ' '.join(filtered_tokens)\n",
        "    \n",
        "    return filtered_text\n",
        "    "
      ],
      "execution_count": 5,
      "outputs": []
    },
    {
      "cell_type": "markdown",
      "metadata": {
        "id": "bV-9QfvLm1YV"
      },
      "source": [
        "## Preparamos el conjunto de datos\n",
        "Convertimos el texto en *tokens* y asignamos una ID numérica a cada token.  \n",
        "Convertimos a secuencias de longitud fija.  \n",
        "La longitud de la secuencia viene dada por la longitud en tokens del tweet más largo. Sólo se conservan los tokens de las palabras en el vocabulario."
      ]
    },
    {
      "cell_type": "code",
      "metadata": {
        "id": "Kmts0-j9m1YW"
      },
      "source": [
        "#limpiamos texto y quitamos tweets que se han quedado vacíos\n",
        "df.content=df.content.apply(clean_text, lemas=True)\n",
        "df = df[df['content']!='']\n",
        "\n",
        "#el conjunto de salida es la polaridad, hay que convertir a numérico para Keras\n",
        "#codificamos 'P' como 1 y 'N' se queda como 0\n",
        "Y=(df.polarity=='P').values*1\n",
        "\n",
        "#Separamos entrenamiento y test\n",
        "tweets_train, tweets_test, Y_train, Y_test = train_test_split(df.content,Y, test_size = 0.3, random_state = 42)"
      ],
      "execution_count": 7,
      "outputs": []
    },
    {
      "cell_type": "code",
      "metadata": {
        "id": "gFP8pygCm1YX",
        "colab": {
          "base_uri": "https://localhost:8080/"
        },
        "outputId": "c14fbc43-9f31-4c84-cca9-cd96a180b20c"
      },
      "source": [
        "tokenizer = Tokenizer(split=' ')\n",
        "tokenizer.fit_on_texts(tweets_train.values)\n",
        "X_train = tokenizer.texts_to_sequences(tweets_train.values)\n",
        "X_train = pad_sequences(X_train, padding='post')\n",
        "word_index = tokenizer.word_index\n",
        "print(f'Número de tokens distintos: {len(word_index)}')\n",
        "MAX_SEQUENCE_LENGTH = X_train.shape[1]\n",
        "max_features = len(word_index)+1\n",
        "X_test = tokenizer.texts_to_sequences(tweets_test.values)\n",
        "X_test = pad_sequences(X_test, padding='post', maxlen=MAX_SEQUENCE_LENGTH)"
      ],
      "execution_count": 8,
      "outputs": [
        {
          "output_type": "stream",
          "text": [
            "Número de tokens distintos: 2606\n"
          ],
          "name": "stdout"
        }
      ]
    },
    {
      "cell_type": "code",
      "metadata": {
        "id": "9M0Qzcum5s-3",
        "outputId": "d11b5e38-9be9-43ea-b9f9-ab5a72d221bc",
        "colab": {
          "base_uri": "https://localhost:8080/"
        }
      },
      "source": [
        "#Este es el diccionario de tokens que se ha creado al aplicar el tokenizer\n",
        "print(tokenizer.word_index)"
      ],
      "execution_count": 34,
      "outputs": [
        {
          "output_type": "stream",
          "text": [
            "{'que': 1, 'de': 2, 'ser': 3, 'lo': 4, 'el': 5, 'y': 6, 'no': 7, 'a': 8, 'me': 9, 'uno': 10, 'en': 11, 'haber': 12, 'tener': 13, 'pero': 14, 'estar': 15, 'mi': 16, 'por': 17, 'se': 18, 'yo': 19, 'los': 20, 'ya': 21, 'ir': 22, 'te': 23, 'con': 24, 'poder': 25, 'hacer': 26, 'parir': 27, 'todo': 28, 'bueno': 29, 'ver': 30, 'este': 31, 'si': 32, 'muy': 33, 'ese': 34, 'comer': 35, 'al': 36, 'porque': 37, 'del': 38, 'mucho': 39, 'decir': 40, 'más': 41, 'día': 42, 'o': 43, 'poner': 44, 'coser': 45, 'solo': 46, 'dar': 47, 'cuando': 48, 'su': 49, 'mejor': 50, 'pasar': 51, 'gracia': 52, 'tu': 53, 'querer': 54, 'tan': 55, 'asir': 56, 'gente': 57, 'salir': 58, 'le': 59, 'bien': 60, 'vez': 61, 'qué': 62, 'algo': 63, 'otro': 64, 'nadar': 65, 'mismo': 66, 'ahora': 67, 'mal': 68, 'feliz': 69, 'hoy': 70, 'malo': 71, 'q': 72, 'es': 73, 'saber': 74, 'poco': 75, 'seguir': 76, 'pues': 77, 'menos': 78, 'gran': 79, 'volver': 80, 'dejar': 81, 'dormir': 82, 'hora': 83, 'bonito': 84, 'tú': 85, 'genial': 86, 'vida': 87, 'gustar': 88, 'sin': 89, 'año': 90, 'mañana': 91, 'gracias': 92, 'casar': 93, 'tiempo': 94, 'jugar': 95, 'verdad': 96, 'noche': 97, 'puto': 98, 'creer': 99, 'acabar': 100, 'nuevo': 101, 'sí': 102, 'esperar': 103, 'un': 104, 'llegar': 105, 'ni': 106, 'hasta': 107, 'la': 108, 'venir': 109, 'hablar': 110, 'siempre': 111, 'también': 112, 'grande': 113, 'do': 114, 'triste': 115, 'leer': 116, 'desde': 117, 'quedar': 118, 'parecer': 119, 'verano': 120, 'antes': 121, 'aun': 122, 'él': 123, 'aquí': 124, 'pequeño': 125, 'hola': 126, 'sentir': 127, 'aunque': 128, 'trabajar': 129, 'tanto': 130, 'entrar': 131, 'peor': 132, 'tio': 133, 'mas': 134, 'semana': 135, 'vestir': 136, 'ganar': 137, 'encontrar': 138, 'chico': 139, 'primero': 140, 'conocer': 141, 'sobrar': 142, 'espero': 143, 'llevar': 144, 'foto': 145, 'subir': 146, 'precioso': 147, 'personar': 148, 'tranquilo': 149, 'empezar': 150, '2': 151, 'tengo': 152, 'seriar': 153, 'partir': 154, 'casi': 155, 'cambiar': 156, 'mundo': 157, 'mí': 158, 'escuchar': 159, 'amigo': 160, 'madrid': 161, '😂': 162, 'besitos': 163, 'desear': 164, 'nuestro': 165, 'unir': 166, 'mejorar': 167, 'tardar': 168, 'ti': 169, 'caro': 170, 'odiar': 171, 'quiero': 172, 'valer': 173, 'encantar': 174, 'luego': 175, 'bastante': 176, 'encimar': 177, 'raro': 178, 'final': 179, 'fiesta': 180, 'seguro': 181, 'quedo': 182, 'k': 183, 'morir': 184, 'echar': 185, 'contar': 186, 'nunca': 187, 'ja': 188, 'escribir': 189, 'suerte': 190, 'valencia': 191, 'joder': 192, 'jajajaja': 193, 'felicidad': 194, 'durar': 195, 'normal': 196, 'alguien': 197, 'mierda': 198, '3': 199, 'tal': 200, 'tampoco': 201, 'nadie': 202, 'cómo': 203, 'cada': 204, '5': 205, 'tío': 206, 'claro': 207, 'fin': 208, 'llorar': 209, 'para': 210, 'penar': 211, 'pensar': 212, 'jaja': 213, 'niño': 214, 'igual': 215, 'perro': 216, 'maravilloso': 217, 'jajaja': 218, 'ojalá': 219, 'social': 220, 'amor': 221, 'nosotros': 222, 'feo': 223, 'pelar': 224, 'entender': 225, 'único': 226, 'eh': 227, 'pa': 228, 'conmigo': 229, 'd': 230, 'pobre': 231, 'justar': 232, 'cumpleaños': 233, 'pagar': 234, 'como': 235, 'guay': 236, 'mirar': 237, 'hemo': 238, 'perfecto': 239, 'ahí': 240, 'alguno': 241, 'ideo': 242, '1': 243, 'soñar': 244, 'temporada': 245, 'estoy': 246, 'abrir': 247, 'vídeo': 248, 'paso': 249, 'merecer': 250, '\\ufeff1': 251, 'madre': 252, 'ellos': 253, 'levantar': 254, 'temer': 255, 'formar': 256, 'clase': 257, 'soler': 258, 'cierto': 259, 'amigar': 260, 'preguntar': 261, 'aburrir': 262, 'vosotros': 263, 'muchas': 264, 'muchísimo': 265, 'ayudar': 266, 'meter': 267, 'hacerlo': 268, 'mensaje': 269, 'hacia': 270, 'vivir': 271, 'septiembre': 272, 'próximo': 273, 'necesitar': 274, 'haz': 275, 'soy': 276, 'regalar': 277, 'demasiar': 278, 'ninguno': 279, 'comprar': 280, 'recordar': 281, 'abrazar': 282, '4': 283, 'familia': 284, 'personaje': 285, 'padre': 286, 'tweet': 287, 'propio': 288, 'último': 289, 'después': 290, 'doler': 291, 'largar': 292, 'ah': 293, 'librar': 294, 'quien': 295, 'inglés': 296, 'donde': 297, 'vamos': 298, 'segundar': 299, 'imaginar': 300, 'esto': 301, 'alegrar': 302, 'buenos': 303, 'libro': 304, 'pokemon': 305, 'capítulo': 306, 'bañar': 307, 'cagar': 308, 'espalda': 309, 'gracioso': 310, 'película': 311, 'hermano': 312, 'realidad': 313, 'buen': 314, 'quitar': 315, 'pronto': 316, 'terminar': 317, 'les': 318, 'darle': 319, 'callar': 320, 'hijo': 321, 'además': 322, 'compañero': 323, 'contigo': 324, 'directo': 325, 'nombrar': 326, 'mesar': 327, 'mandar': 328, 'tres': 329, 'así': 330, 'favor': 331, 'pesar': 332, 'deber': 333, 'tuyo': 334, 'favorito': 335, 'gobierno': 336, 'representar': 337, 'página': 338, 'poquito': 339, 'mil': 340, 'verlo': 341, 'tonto': 342, '❤': 343, 'tocar': 344, 'problema': 345, 'viejo': 346, 'junto': 347, 'lado': 348, 'alternativo': 349, 'tambien': 350, 'sad': 351, 'momento': 352, 'miedo': 353, 'resultar': 354, 'cansar': 355, 'especial': 356, 'tw': 357, 'andar': 358, 'notar': 359, 'vacación': 360, 'estudiar': 361, 'nos': 362, 'estupendo': 363, 'capaz': 364, 'asi': 365, 'vender': 366, 'fácil': 367, 'plan': 368, 'voz': 369, 'doblar': 370, 'rt': 371, '2017': 372, 'cenar': 373, 'he': 374, 'enamorar': 375, 'bello': 376, 'eres': 377, 'cultura': 378, 'negro': 379, 'otra': 380, 'b': 381, 'verdadero': 382, 'ejemplo': 383, 'acabo': 384, 'compartir': 385, 'desagradable': 386, 'estable': 387, 'tirar': 388, 'mutuo': 389, 'cuándo': 390, 'engañar': 391, 't': 392, 'litro': 393, 'salud': 394, 'imposible': 395, 'humor': 396, 'insultar': 397, 'educación': 398, 'montar': 399, 'hableconellas': 400, 'entrevistar': 401, 'sortear': 402, 'super': 403, 'galo': 404, 'sevilla': 405, 'españa': 406, 'dia': 407, 'cruel': 408, 'dias': 409, 'faltar': 410, 'cine': 411, 'usar': 412, 'falto': 413, 'entrenar': 414, 'cumplir': 415, 'saludos': 416, 'diferente': 417, 'opinión': 418, '😘': 419, 'fan': 420, 'chino': 421, 'artista': 422, 'ánimo': 423, 'rajoy': 424, 'duro': 425, 'manir': 426, 'una': 427, 'pasear': 428, 'mes': 429, 'i': 430, 'sorpresa': 431, 'culpar': 432, 'hay': 433, 'muerte': 434, 'wifi': 435, 'cama': 436, 'bienvenido': 437, 'link': 438, 'existir': 439, 'izquierdo': 440, 'rotar': 441, 'ideal': 442, 'ke': 443, 'inteligente': 444, 'viajar': 445, 'canal': 446, 'e': 447, 'llamar': 448, 'estrenar': 449, 'allí': 450, 'pie': 451, 'móvil': 452, 'loco': 453, 'rápido': 454, 'abandonar': 455, 'aquel': 456, 'post': 457, 'mediar': 458, 'entonces': 459, 'rayar': 460, 'pedir': 461, 'edición': 462, 'amar': 463, 'horrible': 464, 'cutre': 465, 'ponerme': 466, 'rollo': 467, 'largo': 468, 'interesante': 469, 'calor': 470, 'mar': 471, 'sólo': 472, 'fe': 473, 'aqui': 474, 'olvidar': 475, 'avisar': 476, 'twitter': 477, 'desgraciar': 478, 'decirme': 479, 'porqué': 480, 'médico': 481, 'caer': 482, 'permitir': 483, 'hombre': 484, 'buscar': 485, '😀': 486, 'comenzar': 487, 'coger': 488, 'sino': 489, 'dañar': 490, 'culo': 491, 'pantalón': 492, 'construir': 493, 'clásico': 494, 'mola': 495, 'importante': 496, 'valor': 497, 'aportar': 498, 'curro': 499, 'edificio': 500, 'facil': 501, 'luis': 502, 'ayer': 503, 'cosplay': 504, 'the': 505, '100': 506, 'mosca': 507, 'cualquiera': 508, 'apagar': 509, 'luz': 510, 'pos': 511, 'disfrutar': 512, 'descubrir': 513, 'der': 514, 'práctico': 515, 'vomitar': 516, 'poblar': 517, 'és': 518, 'gravar': 519, 'etcétera': 520, 'cancelar': 521, 'capullo': 522, 'respetar': 523, 'web': 524, 'funcionar': 525, 'ministerio': 526, 'boca': 527, 'tragar': 528, 'par': 529, 'ha': 530, 'visitar': 531, 'pasarlo': 532, 'eso': 533, 'intentar': 534, 'varios': 535, 'señor': 536, 'posible': 537, 'atrever': 538, 'enhorabuena': 539, 'premiar': 540, 'vuestro': 541, 'bloquear': 542, 'perder': 543, 'willy': 544, 'toledo': 545, '30': 546, 'divertir': 547, 'hilar': 548, 'unico': 549, 'enseñar': 550, 'video': 551, 'invitar': 552, 'romper': 553, 'snifff': 554, 'saludo': 555, 'coruña': 556, 'fijar': 557, 'teta': 558, 'tallar': 559, 'estás': 560, 'julio': 561, 'n': 562, 'serio': 563, 'emitir': 564, 'evolucionar': 565, 'celebrar': 566, 'nacer': 567, 'pro': 568, 'listo': 569, 'concertar': 570, 'decepcionar': 571, 'motivación': 572, 'rever': 573, 'color': 574, 'volar': 575, 'minuto': 576, 'está': 577, 'lejos': 578, 'topar': 579, 'decente': 580, 'democrático': 581, 'función': 582, 'politica': 583, 'amiguitos': 584, 'saludar': 585, 'difícil': 586, 'ventana': 587, 'definir': 588, 'sera': 589, 'mio': 590, 'mayor': 591, 'rodilla': 592, 'abrazarte': 593, 'desaparecido': 594, 'combatir': 595, 'lograr': 596, 'contrario': 597, 'etapa': 598, '22': 599, 'promocionar': 600, 'anda': 601, 'tb': 602, 'disparar': 603, 'haciéndolo': 604, 'preocupar': 605, 'querido': 606, 'asentir': 607, 'resignar': 608, 'tras': 609, 'enseriar': 610, 'aparecer': 611, '9': 612, 'leche': 613, 'real': 614, 'respuesta': 615, 'panorama': 616, 'legion': 617, 'home': 618, 'sería': 619, 'espectacular': 620, 'corregir': 621, 'fuerte': 622, 'irme': 623, 'tl': 624, 'convencer': 625, 'ratón': 626, 'envidiar': 627, 'robar': 628, 'picar': 629, 'necesito': 630, 'noticiar': 631, 'enquistar': 632, 'gusto': 633, 'juego': 634, 'vacío': 635, 'sufrir': 636, 'disfruta': 637, 'parar': 638, 'espejar': 639, 'playa': 640, 'esta': 641, 'os': 642, 'agostar': 643, 'feminismo': 644, 'comentar': 645, 'adaptar': 646, 'necesidad': 647, 'confundir': 648, 'aprender': 649, 'tomar': 650, 'conveniente': 651, 'abuelo': 652, 'versión': 653, 'punto': 654, 'golpe': 655, 'menudo': 656, 'descansar': 657, 'bro': 658, '2016': 659, 'parejo': 660, 'aguantar': 661, 'dinero': 662, 'chulada': 663, 'octubre': 664, 'lunes': 665, 'mantener': 666, 'canción': 667, 'enterar': 668, 'jo': 669, 'mirón': 670, 'desierto': 671, '14': 672, 'anterior': 673, 'detallar': 674, 'las': 675, 'interés': 676, 'asustar': 677, 'paranormal': 678, 'reventar': 679, 'us': 680, 'coincidir': 681, 'absurdo': 682, 'apenar': 683, 'millón': 684, 'voy': 685, 'niñuca': 686, 'cortar': 687, 'totalmente': 688, 'cerrar': 689, 'últimamente': 690, 'gato': 691, 'contento': 692, 'quién': 693, 'citar': 694, 'hace': 695, 'skype': 696, 'común': 697, 'moño': 698, 'dios': 699, 'cristal': 700, 'cuerpo': 701, 'cabeza': 702, 'pf': 703, '10': 704, 'bonica': 705, 'ambos': 706, 'muchísima': 707, 'cuanto': 708, 'romano': 709, 'escuela': 710, 'pierna': 711, 'historia': 712, 'explotar': 713, '️': 714, 'examen': 715, 'honor': 716, '✨': 717, 'igualar': 718, 'lleno': 719, 'encima': 720, 'solucionar': 721, 'sacar': 722, 'huerta': 723, 'imagen': 724, 'pll': 725, 'cristina': 726, 'demonio': 727, 'ay': 728, 'ciudad': 729, 'c': 730, 'carretero': 731, 'tercero': 732, 'xq': 733, 'teneis': 734, 'pelear': 735, 'sexy': 736, 'experiencia': 737, 'cosita': 738, 'público': 739, 'diseñar': 740, 'tipo': 741, 'málaga': 742, 'fifa': 743, 'saltar': 744, 'feriar': 745, '12': 746, 'siguiente': 747, 'depresión': 748, 'probar': 749, 'mujer': 750, 'dentro': 751, 'nada': 752, 'han': 753, 'intentándolo': 754, 'sona': 755, 'europa': 756, 'responder': 757, 'sistema': 758, 'parece': 759, 'juan': 760, 'oscuro': 761, 'info': 762, 'caminar': 763, 'acompañar': 764, 'escapar': 765, 'usarlo': 766, 'pes': 767, 'pesimista': 768, 'esperanzar': 769, 'adolescente': 770, 'bilbao': 771, 'sois': 772, 'seguirme': 773, 'pintar': 774, 'cabo': 775, 'cuadro': 776, 'aguar': 777, 'recibir': 778, 'tuit': 779, 'jajajajaja': 780, 'aventurar': 781, 'clasificación': 782, 'recomendar': 783, 'creo': 784, 'despertar': 785, 'p': 786, 'pisar': 787, 'arreglar': 788, 'ave': 789, 'harias': 790, 'verte': 791, 'v': 792, 'calvo': 793, 'musicar': 794, 'comprender': 795, 'rendir': 796, 'ojo': 797, 'calcetín': 798, 'filler': 799, 'profesional': 800, 'fútbol': 801, 'fatal': 802, 'griego': 803, 'chupar': 804, 'crisis': 805, 'rosendo': 806, 'flojos': 807, 'flipante': 808, 'estilar': 809, 'chicaa': 810, 'emotivo': 811, 'alegría': 812, 'defensa': 813, 'gratamente': 814, 'sorprender': 815, 'darnos': 816, 'misión': 817, 'felizmartes': 818, 'optimista': 819, 'seguridad': 820, 'porqe': 821, 'obligatorio': 822, 'situacion': 823, 'lee': 824, 'morder': 825, 'antibiótico': 826, 'milagroso': 827, 'facilísimo': 828, 'articular': 829, 'unicovy': 830, 'muchísimas': 831, 'constancia': 832, 'probarme': 833, 'nozomi': 834, 'verme': 835, 'diamond': 836, 'ace': 837, 'rojo': 838, 'típic': 839, 'correr': 840, 'veloz': 841, 'fantasma': 842, 'alcanzar': 843, 'ai': 844, 'personalidad': 845, 'ancho': 846, 'bc': 847, 'utilizar': 848, 'toca': 849, 'ficción': 850, 'darse': 851, 'vol02': 852, 'sudar': 853, 'limitar': 854, 'aburrirse': 855, 'arruinar': 856, 'berni': 857, 'dulce': 858, 'cansino': 859, 'edad': 860, 'paciencia': 861, 'filip': 862, 'cruyssen': 863, 'increibles': 864, 'fotografia': 865, 'retrato': 866, 'ask': 867, '20': 868, 'rebeca': 869, 'escribirlo': 870, 'seguiré': 871, 'linear': 872, 'fresquita': 873, 'banco': 874, 'rio2016': 875, 'lamentablemente': 876, 'arrendar': 877, 'ganancia': 878, 'brasileño': 879, 'penuria': 880, 'solidaridad': 881, 'fallir': 882, 'pleno': 883, 'utopí': 884, 'audiencia': 885, 'medio': 886, '85': 887, 'imdb': 888, 'manta': 889, 'farmacéutico': 890, 'venderlo': 891, 'pep': 892, 'mevoy': 893, 'unpaseo': 894, 'improvisto': 895, 'grasias': 896, 'hermoso': 897, 'admiración': 898, 'jardi': 899, 'veian': 900, 'rastreador': 901, 'macar': 902, 'lavar': 903, 'ps': 904, 'exterminar': 905, 'mental': 906, 'ridículo': 907, 'jajajaj': 908, 'niall': 909, 'liam': 910, 'libre': 911, 'fugaz': 912, 'irónico': 913, 'vma': 914, 'realidá': 915, 'é': 916, 'asimilar': 917, 'alcohol': 918, 'hablaba': 919, 'debería': 920, 'quedarme': 921, 'serie': 922, 'walter': 923, 'echarle': 924, 'cenizo': 925, 'donie': 926, 'ultimamente': 927, 'macarrón': 928, 'llévame': 929, 'fi': 930, 'willytoledo': 931, 'diciéndole': 932, 'ganador': 933, 'escríbenos': 934, 'privar': 935, 'darte': 936, 'mg': 937, 'adjetivar': 938, 'repelente': 939, 'agente': 940, 'cni': 941, 'burrada': 942, 'heterada': 943, 'caerán': 944, 'prontito': 945, 'alba': 946, 'carrillo': 947, 'modelar': 948, 'profesión': 949, 'lucio': 950, 'vd': 951, 'tapadera': 952, 'nutella': 953, 'algeciras': 954, 'terremoto': 955, 'justamente': 956, 'sostener': 957, 'mason': 958, 'hh': 959, 'podríamos': 960, 'jajajajajajajjaajaja': 961, '2018': 962, 'flipado': 963, 'enmarcar': 964, 'defib': 965, 'kills': 966, 'award': 967, 'siguiéndote': 968, 'figurar': 969, 'madison': 970, 'alicia': 971, 'desmovilizar': 972, 'concha': 973, 'as': 974, 'calle': 975, 'vaticinar': 976, 'club': 977, 'palabra': 978, 'criticar': 979, 'vaya': 980, 'cuba': 981, 'astroymas': 982, 'podcast': 983, 'emberdá': 984, 'dibujo': 985, 'paint': 986, 'mmmm': 987, 'supongo': 988, 'lógico': 989, 'obligarte': 990, 'forzar': 991, 'happyjungkookday': 992, '꾹이생일ㅊㅋ': 993, 'galleta': 994, 'maknae': 995, 'pecar': 996, 'interior': 997, 'cien': 998, 'escotar': 999, 'calladito': 1000, 'radiar': 1001, 'rico': 1002, 'basura': 1003, 'simplemente': 1004, 'enamorarme': 1005, 'superficial': 1006, 'estan': 1007, 'hahahahahahha': 1008, 'estetico': 1009, 'siiiii': 1010, 'programar': 1011, 'ot': 1012, 'enemigo': 1013, 'caramusgo': 1014, 'torete': 1015, 'añadir': 1016, 'sabio': 1017, 'encontre': 1018, 'modo': 1019, 'borrar': 1020, 'rehacer': 1021, 'britney': 1022, 'odisea': 1023, 'shakespeare': 1024, 'hamlet': 1025, 'general': 1026, 'ego': 1027, 'azular': 1028, 'conseguirlo': 1029, 'tinte': 1030, 'kinox': 1031, 'zi': 1032, 'zoy': 1033, 'perzona': 1034, 'lamentar': 1035, 'danos': 1036, 'detalle': 1037, 'clientees': 1038, 'atender': 1039, 'salu2': 1040, 'romántico': 1041, 'dildos': 1042, 'lubricante': 1043, 'masaje': 1044, 'bel': 1045, 'porno': 1046, 'echo': 1047, 'lexa': 1048, 'braga': 1049, 'limpiarlas': 1050, 'dragón': 1051, 'autobús': 1052, 'pantalla': 1053, 'corruppción': 1054, 'tod': 1055, 'trayectoria': 1056, 'político': 1057, 'defendiéndole': 1058, 'diciéndome': 1059, 'paz': 1060, 'coraje': 1061, 'lxs': 1062, 'prepotentxs': 1063, 'ouch': 1064, 'indirecto': 1065, 'preparate': 1066, 'f': 1067, 'reformar': 1068, 'necesitoelviajeaandalucia': 1069, 'mongol': 1070, 'gafo': 1071, 'morar': 1072, 'soportar': 1073, 'bona': 1074, 'nit': 1075, 'pastar': 1076, 'apuntar': 1077, 'laser': 1078, 'pesadito': 1079, 'cerveza': 1080, 'entretener': 1081, 'amore': 1082, 'sprite': 1083, 'lider': 1084, 'gimnasio': 1085, 'made': 1086, 'manifestar': 1087, 'cable': 1088, 'cojonudo': 1089, 'barato': 1090, 'ponerla': 1091, 'azote': 1092, 'culete': 1093, 'iman': 1094, 'miguelrios': 1095, 'insurrección': 1096, 'im': 1097, 'back': 1098, 'lot': 1099, 'graduación': 1100, 'dr': 1101, 'mir': 1102, 'investidurarajoy': 1103, 'noticia': 1104, 'becario': 1105, 'curioso': 1106, 'fortuna': 1107, 'finde': 1108, 'tobillo': 1109, 'competir': 1110, 'sucumbir': 1111, 'maldito': 1112, 'cámara': 1113, 'usarla': 1114, 'perfección': 1115, 'brillar': 1116, 'kk': 1117, 'esteban': 1118, 'estopa': 1119, 'leganes': 1120, 'bromar': 1121, 'barriobajeres': 1122, 'todes': 1123, 'temprano': 1124, 'equivocarme': 1125, 'estacionar': 1126, 'auténtico': 1127, 'gozar': 1128, 'surrando': 1129, 'help': 1130, 'cómetelo': 1131, 'targaryen': 1132, 'paradero': 1133, 'desconocer': 1134, 'pueh': 1135, 'imagenes': 1136, 'ostia': 1137, 'ahi': 1138, 'escaqueas': 1139, 'destino': 1140, 'guada': 1141, 'dawn': 1142, 'beth': 1143, 'daryl': 1144, 'inmediatamente': 1145, 'conservador': 1146, 'thanks': 1147, 'papá': 1148, 'piano': 1149, 'castalla': 1150, 'alicante': 1151, 'oportunamente': 1152, 'moros': 1153, 'cristians': 1154, 'habemos': 1155, 'saturar': 1156, 'idnwhy': 1157, 'ccaa': 1158, 'cargar': 1159, 'nación': 1160, 'nigtwish': 1161, 'fueramos': 1162, 'sentarnos': 1163, 'pistar': 1164, 'disponer': 1165, 'fallecer': 1166, 'contrastar': 1167, 'divorciar': 1168, 'lupus': 1169, 'nenaaaaaa': 1170, 'crecer': 1171, 'enano': 1172, 'extraño': 1173, 'wey': 1174, 'platicar': 1175, 'uy': 1176, 'colocar': 1177, 'portátil': 1178, 'flauta': 1179, 'saxo': 1180, 'nariclete': 1181, 'partitura': 1182, 'desorden': 1183, 'tormenta': 1184, 'solita': 1185, 'buenico': 1186, '💜': 1187, 'low': 1188, 'cost': 1189, 'hostia': 1190, 'asqueroso': 1191, 'ex': 1192, 'pegar': 1193, 'increíble': 1194, 'cri': 1195, 'emergente': 1196, 'disponible': 1197, 'rey': 1198, 'mago': 1199, '👍': 1200, 'mid': 1201, 'remake': 1202, 'vale': 1203, 'funciona': 1204, 'aleluya': 1205, 'boton': 1206, 'palanza': 1207, 'derecho': 1208, 'mediocre': 1209, 'ingenioso': 1210, 'libros': 1211, 'enganchar': 1212, 'buenisismas': 1213, 'macedonio': 1214, 'ibiza': 1215, 'timbal': 1216, 'ruta': 1217, 'sinvergüenza': 1218, 'dormio': 1219, '6': 1220, 'porke': 1221, '2011': 1222, 'respetuoso': 1223, 'respetable': 1224, 'combativo': 1225, 'omar': 1226, 'cod': 1227, 'players': 1228, 'bcn': 1229, 'disfrutarlo': 1230, 'venga': 1231, 'work': 1232, 'from': 1233, 'verlas': 1234, 'conmtval727tour': 1235, 'harley': 1236, 'profesor': 1237, 'reenviar': 1238, 'mascota': 1239, 'planazo': 1240, 'sabado': 1241, 'perverso': 1242, 'reglamentario': 1243, 'putada': 1244, 'lv': 1245, 'ruedecita': 1246, 'jenko': 1247, 'danielle': 1248, 'cojo': 1249, 'avión': 1250, 'equipar': 1251, 'jojojojo': 1252, 'acertar': 1253, 'anoche': 1254, 'quejica': 1255, 'ehhhhhhh': 1256, 'cojón': 1257, 'identidad': 1258, 'trokistas': 1259, 'piedra': 1260, 'gulag': 1261, 'amistar': 1262, 'riri': 1263, 'conformar': 1264, 'vmas': 1265, 'notasdelmisterio': 1266, 'lugar': 1267, 'comerlos': 1268, 'preciar': 1269, 'secundario': 1270, 'ligar': 1271, 'musical': 1272, 'tronos': 1273, 'emulador': 1274, 'rubí': 1275, 'ios': 1276, '934': 1277, 'verda': 1278, 'soi': 1279, 'lameculos': 1280, 'pfff': 1281, 'caia': 1282, 'muchisima': 1283, 'terapia': 1284, 'firstdates112': 1285, 'soltero': 1286, 'vista': 1287, 'dni': 1288, 'pasaporte': 1289, 'presumir': 1290, 'serlo': 1291, 'peculiar': 1292, 'caritativo': 1293, 'molan': 1294, 'speakingio': 1295, 'zack': 1296, 'holman': 1297, 'ensuciar': 1298, 'mano': 1299, 'dependiente': 1300, 'será': 1301, 'salar': 1302, 'mandame': 1303, 'despertarme': 1304, 'intrigante': 1305, 'autoexploración': 1306, 'consciencia': 1307, 'través': 1308, 'pionero': 1309, 'gaona': 1310, 'mariano': 1311, 'brey': 1312, 'francia': 1313, 'partidario': 1314, 'tarjeta': 1315, 'pp': 1316, 'viva': 1317, 'espana': 1318, 'alarmar': 1319, 'noooo': 1320, 'lucena': 1321, 'rottweiler': 1322, 'zumbadisimo': 1323, 'atacar': 1324, 'achucharlo': 1325, 'incantus': 1326, 'conectar': 1327, 'global': 1328, 'talents': 1329, 'actuación': 1330, 'valoración': 1331, 'previo': 1332, 'hermanar': 1333, 'pulgaaas': 1334, 'chachi': 1335, 'careto': 1336, '16': 1337, 'cabrón': 1338, 'silenciar': 1339, 'movil': 1340, 'efecto': 1341, 'plazo': 1342, 'desafección': 1343, 'mayoritario': 1344, 'votante': 1345, 'fomentar': 1346, 'stream': 1347, '24horas': 1348, 'objetivar': 1349, '2012': 1350, '13': 1351, 'novelar': 1352, 'perrie': 1353, 'vergüenza': 1354, 'tantísimo': 1355, 'chocar': 1356, 'pared': 1357, 'súper': 1358, 'gilipollas': 1359, 'patético': 1360, 'prácticamente': 1361, 'repasito': 1362, 'tornear': 1363, 'liga': 1364, 'playstation': 1365, 'jejejeje': 1366, 'tele': 1367, 'nerviosita': 1368, 'vibrador': 1369, 'juguete': 1370, 'concepto': 1371, 'nivel': 1372, 'medir': 1373, '≠': 1374, 'socialismo': 1375, 'buenas': 1376, 'madrugar': 1377, 'fabuloso': 1378, 'sumir': 1379, 'felicitación': 1380, 'retarse': 1381, 'increible': 1382, 'medirse': 1383, 'obstáculo': 1384, 'joyita': 1385, 'coronar': 1386, 'descojona': 1387, 'indignar': 1388, 'corrupciónpp': 1389, 'chatel': 1390, 'primo': 1391, 'funeral': 1392, 'lora': 1393, 'cantar': 1394, 'adaptación': 1395, 'querida': 1396, 'dep': 1397, 'juanga': 1398, 'empatia': 1399, 'distinción': 1400, 'músico': 1401, 'adivinar': 1402, 'pobres': 1403, 'simple': 1404, 'mortal': 1405, 'encargar': 1406, 'estupendísima': 1407, 'barce': 1408, 'nacido': 1409, 'agradecer': 1410, 'tiene': 1411, 'récord': 1412, 'vcfcreo': 1413, 'dificil': 1414, 'acostumbrarse': 1415, 'síndrome': 1416, 'uncharted': 1417, 's': 1418, 'peeeero': 1419, 'debajo': 1420, 'dichoso': 1421, 'máquina': 1422, 'sofocar': 1423, 'aprovechar': 1424, 'currar': 1425, 'liar': 1426, 'malagueño': 1427, 'ole': 1428, 'almeriense': 1429, 'felicitaria': 1430, 'carácter': 1431, 'cual': 1432, 'tocayo': 1433, 'rabiar': 1434, 'extremar': 1435, 'machismo': 1436, 'significa': 1437, 'traerlos': 1438, 'peazo': 1439, 'pletorico': 1440, 'noja': 1441, 'despedirnos': 1442, 'askalvarogango': 1443, 'corazón': 1444, 'seta': 1445, 'sonreir': 1446, 'bicho': 1447, 'original': 1448, 'antiguo': 1449, 'ayudarme': 1450, 'mataró': 1451, 'ración': 1452, 'atención': 1453, 'diario': 1454, 'autoestima': 1455, 'buenisimas': 1456, '😙': 1457, 'expectante': 1458, 'cubreselfem': 1459, 'llevarlo': 1460, 'ahhh': 1461, 'audio': 1462, 'apiadar': 1463, 'andrea': 1464, 'sabran': 1465, 'més': 1466, 'cursar': 1467, 'ccc': 1468, 'refutarme': 1469, 'feéricos': 1470, '32': 1471, 'derretir': 1472, 'acercar': 1473, 'desvivir': 1474, 'aaaa': 1475, 'aaa': 1476, 'jueves': 1477, 'demostrar': 1478, 'conocerme': 1479, 'villa': 1480, 'calidad': 1481, 'freír': 1482, 'abrigar': 1483, 'anunciar': 1484, 'joseba': 1485, 'baby': 1486, 'followspree': 1487, 'verdá': 1488, 'go': 1489, 'galicia': 1490, 'deprimir': 1491, 'sortija': 1492, 'nuestros': 1493, 'animar': 1494, 'verseme': 1495, 'desnudo': 1496, 'envidiosillo': 1497, 'llenar': 1498, 'crushes': 1499, 'atraigo': 1500, 'trendingestreno': 1501, 'david': 1502, 'carrera': 1503, 'coche': 1504, 'empresa': 1505, 'dio': 1506, 'ilusión': 1507, 'boda': 1508, 'jp': 1509, 'conocerte': 1510, 'maite': 1511, 'monada': 1512, 'promocionarse': 1513, 'complicadillo': 1514, 'aprobar': 1515, 'suspender': 1516, 'beber': 1517, 'hígado': 1518, 'amazon': 1519, 'siéntete': 1520, 'afortunado': 1521, 'festival': 1522, 'hemos': 1523, 'metáfora': 1524, 'comparación': 1525, 'teoría': 1526, 'literario': 1527, 'store': 1528, 'canadá': 1529, 'convención': 1530, 'puff': 1531, 'acostumbrarme': 1532, 'diente': 1533, 'norma': 1534, 'estratificar': 1535, '1477': 1536, 'confi': 1537, 'pib': 1538, 'déficit': 1539, '40000': 1540, 'gastar': 1541, 'ingresar': 1542, 'to': 1543, 'ono': 1544, 'venio': 1545, 'giga': 1546, 'jajajja': 1547, 'parque': 1548, 'despierto': 1549, 'prometer': 1550, 'enternecedor': 1551, 'beso': 1552, 'castrón': 1553, 'trocín': 1554, 'tertulio': 1555, 'evolución': 1556, 'involución': 1557, 'piscina': 1558, 'pillo': 1559, 'corte': 1560, 'perfilar': 1561, 'tono': 1562, 'instagram': 1563, 'hotel': 1564, 'quedamos': 1565, 'muuuuuuuuy': 1566, 'invierno': 1567, 'chaqueta': 1568, 'sudadera': 1569, 'abrigo': 1570, 'faltaría': 1571, 'pensaba': 1572, 'discurso': 1573, 'emplear': 1574, 'debatir': 1575, 'tonyysorayaenmalaga': 1576, 'pijama': 1577, 'pq': 1578, 'ronchón': 1579, 'considerable': 1580, 'acuerd': 1581, 'retwitteo': 1582, 'divulgar': 1583, 'reinar': 1584, 'sofía': 1585, 'descuento': 1586, 'estudiante': 1587, 'menor': 1588, '27': 1589, 'montaña': 1590, 'ruso': 1591, 'emocional': 1592, 'pilotar': 1593, 'ovario': 1594, 'putis': 1595, 'ftwd': 1596, 'ameno': 1597, 'twd': 1598, 'hablabamos': 1599, 'manotazo': 1600, 'templar': 1601, 'reglar': 1602, 'destrzando': 1603, 'tripa': 1604, 'fiebre': 1605, 'marear': 1606, 'bus': 1607, 'muuuuuuy': 1608, 'molón': 1609, 'hoya': 1610, 'felicitad': 1611, 'majo': 1612, 'crei': 1613, 'expulsion': 1614, 'parecio': 1615, 'tongo': 1616, 'ares': 1617, 'karlita': 1618, 'consejo': 1619, 'spoiler': 1620, '2015': 1621, 'insultarlos': 1622, 'comisaria': 1623, 'ampliando': 1624, 'denuncia': 1625, 'acoso': 1626, 'hipócrita': 1627, 'camiseta': 1628, 'femimism': 1629, 'hym': 1630, 'cotidiano': 1631, 'bucle': 1632, 'infinito': 1633, 'imprimir': 1634, 'mapa': 1635, 'cualquier': 1636, 'detrás': 1637, 'pau': 1638, 'bronquitis': 1639, '15': 1640, 'queduroesseradulto': 1641, 'omega': 1642, 'constellation': 1643, 'numérico': 1644, 'ojala': 1645, 'presentándome': 1646, 'concursar': 1647, 'shawn': 1648, 'vergonzoso': 1649, 'participar': 1650, 'música': 1651, 'ojú': 1652, 'aún': 1653, 'deberias': 1654, 'mirarte': 1655, 'guille': 1656, 'reír': 1657, 'rie': 1658, 'manchar': 1659, 'divino': 1660, 'potado': 1661, 'arcoiris': 1662, 'kiko': 1663, 'cuartar': 1664, 'río': 1665, 'bbs': 1666, 'vecino': 1667, 'ruido': 1668, 'fórmula': 1669, 'matemático': 1670, 'pasivo': 1671, 'cabesa': 1672, 'master': 1673, 'sensibilidad': 1674, 'valorar': 1675, 'corasonsito': 1676, 'grito': 1677, 'clexa': 1678, 'fanfics': 1679, 'profundo': 1680, 'intagram': 1681, 'seguia': 1682, 'igualmente': 1683, '🙄': 1684, 'fardar': 1685, 'vegano': 1686, 'tuiter': 1687, 'inestimable': 1688, 'colaboración': 1689, 'sonar': 1690, 'lejano': 1691, 'jajaxd': 1692, 'comprobar': 1693, 'linkedin': 1694, 'antiguar': 1695, 'alumno': 1696, 'chisme': 1697, 'expreso': 1698, 'matizar': 1699, 'elementar': 1700, 'cortante': 1701, 'librillo': 1702, 'recien': 1703, 'comprao': 1704, 'polla': 1705, 'vente': 1706, 'piti': 1707, 'horarios': 1708, 'distinto': 1709, 'total': 1710, 'absolutamente': 1711, 'desesperanzar': 1712, 'portavoz': 1713, 'inmenso': 1714, 'minoría': 1715, 'molesto': 1716, 'minorización': 1717, 'plural': 1718, 'cuantas': 1719, 'idioma': 1720, 'oficial': 1721, 'cat': 1722, 'ambientado': 1723, 'italia': 1724, 'comediar': 1725, 'entuerto': 1726, 'teñirme': 1727, '100010': 1728, 'petarda': 1729, 'experto': 1730, 'rosa': 1731, 'freir': 1732, 'huevo': 1733, 'gemelo': 1734, 'haberme': 1735, 'box': 1736, 'kebab': 1737, 'ayudadme': 1738, 'picadura': 1739, 'mosquito': 1740, 'herir': 1741, 'oie': 1742, 'adorar': 1743, 'gante': 1744, 'presión': 1745, 'avanzar': 1746, 'escarmentams': 1747, 'encueshshtasshs': 1748, 'despreciable': 1749, 'peter': 1750, 'iglesias': 1751, 'gobernar': 1752, 'bollero': 1753, 'perrito': 1754, 'condicionar': 1755, 'somos': 1756, 'modesto': 1757, 'abarcar': 1758, 'capturar': 1759, 'actividad': 1760, 'sorprendente': 1761, 'inivitado': 1762, 'mear': 1763, 'españolar': 1764, 'pronunciar': 1765, 'raven': 1766, 'raiven': 1767, 'reiven': 1768, 'links': 1769, 'guardar': 1770, 'summer': 1771, 'finale': 1772, 'hmm': 1773, 'estos': 1774, 'débil': 1775, 'cracias': 1776, 'bendición': 1777, 'paciente': 1778, 'vera': 1779, 'milagro': 1780, 'lapsus': 1781, 'advertir': 1782, 'subsanar': 1783, 'aportación': 1784, 'marginar': 1785, 'humano': 1786, 'manipulable': 1787, 'libreta': 1788, 'somnífero': 1789, 'instantáneo': 1790, 'completamente': 1791, 'vegana': 1792, 'oye': 1793, 'tenemos': 1794, 'presidente': 1795, 'non': 1796, 'grato': 1797, 'segundo': 1798, 'leña': 1799, 'mono': 1800, 'suelto': 1801, 'subnormal': 1802, 'sara': 1803, 'beret': 1804, 'weno': 1805, 'comparar': 1806, 'surrealista': 1807, 'pewdiepie': 1808, 'ufff': 1809, 'dándome': 1810, '11s': 1811, 'pam': 1812, 'preferir': 1813, 'vs': 1814, 'ddh': 1815, 'lvl': 1816, 'nicolás': 1817, '4k': 1818, 'distanciar': 1819, 'pensando': 1820, 'netflix': 1821, 'uhd': 1822, 'nazismo': 1823, 'fangirleo': 1824, 'filosofía': 1825, 'moral': 1826, 'juju': 1827, 'nerea': 1828, 'defender': 1829, 'apoyar': 1830, 'activista': 1831, 'machista': 1832, 'opresor': 1833, 'sincerar': 1834, 'leal': 1835, 'escenario': 1836, 'muwi': 1837, 'revellín': 1838, 'gratuito': 1839, 'preparar': 1840, 'apostar': 1841, 'recuperarme': 1842, '♥': 1843, 'directillo': 1844, 'liverpool': 1845, 'jurar': 1846, 'pantin': 1847, 'classic': 1848, 'gorra': 1849, 'calleron': 1850, 'aplastar': 1851, 'jaj': 1852, 'especie': 1853, 'titanic': 1854, 'tierra': 1855, 'éxito': 1856, 'anfitrión': 1857, 'fernando': 1858, 'jornada': 1859, 'toro': 1860, 'heidegger': 1861, 'tuíter': 1862, 'mclaren': 1863, '15s': 1864, 'qualy': 1865, 'williams': 1866, 'spa': 1867, 'miserable': 1868, 'silmarillion': 1869, 'ajajajaja': 1870, 'benidorm': 1871, 'carrito': 1872, 'bebé': 1873, 'flipados': 1874, 'sabrina': 1875, 'cariñoso': 1876, 'novia': 1877, 'legión': 1878, 'novio': 1879, 'pack': 1880, 'viii': 1881, 'resumir': 1882, 'jamás': 1883, 'chiqui': 1884, '❣': 1885, '💞': 1886, 'precisamente': 1887, 'arte': 1888, 'desplegar': 1889, 'fingelo': 1890, 'expresar': 1891, 'vaso': 1892, 'móstoles': 1893, 'ambientar': 1894, 'recomendación': 1895, 'paintball': 1896, 'losers': 1897, 'casters': 1898, 'vigo': 1899, 'enfrentarnos': 1900, 'apuf': 1901, 'iniciativo': 1902, 'raquel': 1903, 'support': 1904, 'razonar': 1905, 'nop': 1906, 'asunto': 1907, 'sorteo': 1908, 'saludais': 1909, 'hablais': 1910, 'habeis': 1911, 'molando': 1912, 'knifing': 1913, 'tricks': 1914, 'balístico': 1915, 'bof': 1916, 'followexpress': 1917, 'talar': 1918, 'abedul': 1919, 'gigante': 1920, 'esquinar': 1921, 'ríos': 1922, 'rosas': 1923, 'castellana': 1924, 'vital': 1925, 'intentarlo': 1926, 'usa': 1927, 'obligar': 1928, 'embarazar': 1929, 'caua': 1930, 'violación': 1931, 'artículo': 1932, 'carlos': 1933, 'lucas': 1934, 'dramatizar': 1935, 'mandaria': 1936, 'comprarte': 1937, 'burro': 1938, 'tienda': 1939, 'donación': 1940, 'asociacionmariloli': 1941, 'proyecto': 1942, 'completito': 1943, 'fuengirola': 1944, 'peñiscola': 1945, 'valle': 1946, 'jerte': 1947, 'sepul': 1948, 'próximamente': 1949, 'olmillo': 1950, '™': 1951, 'complicar': 1952, 'vendrá': 1953, 'contra': 1954, 'generación': 1955, 'fav': 1956, 'life': 1957, 'conocia': 1958, 'shay': 1959, 'lucy': 1960, 'recuperándome': 1961, 'bird': 1962, 'shit': 1963, 'parodiar': 1964, 'escocia': 1965, 'apenas': 1966, 'plaza': 1967, 'hoguera': 1968, 'san': 1969, 'sensible': 1970, 'igot7': 1971, 'comprartido': 1972, 'isac': 1973, 'emisión': 1974, 'olear': 1975, 'homófobas': 1976, 'había': 1977, 'estornudó': 1978, 'loser': 1979, 'basar': 1980, 'feels': 1981, 'verdaderx': 1982, 'fotógrafx': 1983, 'masculino': 1984, 'razon': 1985, 'alvaro': 1986, 'clash': 1987, 'of': 1988, 'clans': 1989, 'agotar': 1990, 'fuerza': 1991, 'mareo': 1992, 'molinón': 1993, 'sitiar': 1994, 'fanpage': 1995, 'facebook': 1996, 'activo': 1997, 'ohhhhh': 1998, 'vetar': 1999, 'ábaco': 2000, 'sobre': 2001, 'mayoría': 2002, 'escuchal': 2003, 'enlacabezano': 2004, 'losiento': 2005, 'otoño': 2006, 'noviembre': 2007, 'diciembre': 2008, 'bajón': 2009, 'ds': 2010, 'manual': 2011, 'leyenda': 2012, '0': 2013, 'velocidad': 2014, 'impresionante': 2015, 'pes2017': 2016, 'despues': 2017, 'capricho': 2018, 'siiiiii': 2019, 'viernes': 2020, 'jurao': 2021, 'jajajajjjaajjjjajajaa': 2022, 'asistencia': 2023, 'triple': 2024, 'gilipolleces': 2025, 'nicky': 2026, 'mira': 2027, 'mazar': 2028, 'taaaan': 2029, 'estación': 2030, 'puentedevallecas': 2031, 'bici': 2032, 'principio': 2033, 'silvia': 2034, 'notificación': 2035, 'gemeliers': 2036, 'aceptar': 2037, 'guidettinosevende': 2038, 'mandarlo': 2039, 'amuntvalencia': 2040, 'halacelta': 2041, 'entretenido': 2042, 'ojalar': 2043, 'oudiese': 2044, 'acceder': 2045, 'comunidad': 2046, 'furgón': 2047, 'blindar': 2048, 'quiquegonzález': 2049, 'esperando': 2050, 'supershore2': 2051, 'calentar': 2052, 'motor': 2053, 'acapulcoshore3': 2054, '2230': 2055, 'inflar': 2056, 'barriga': 2057, 'mediador': 2058, 'investigaré': 2059, 'salón': 2060, '25': 2061, 'metro': 2062, '50': 2063, 'manteca': 2064, 'cerdo': 2065, 'gominolastristemente': 2066, 'esa': 2067, 'nasa': 2068, 'cansadete': 2069, 'repente': 2070, 'ratejo': 2071, 'beta': 2072, 'battlefield': 2073, 'ganitas': 2074, 'premier': 2075, 'esque': 2076, 'exposición': 2077, 'estropeandose': 2078, 'aire': 2079, 'acondicionar': 2080, 'izdo': 2081, 'autopista': 2082, 'huelva': 2083, 'entrarme': 2084, 'impotencia': 2085, 'esperemos': 2086, 'arribar': 2087, 'despegar': 2088, 'proyectar': 2089, 'bronco': 2090, 'proximo': 2091, 'cajon': 2092, 'jugable': 2093, 'tgs': 2094, 'irresponsable': 2095, 'llévales': 2096, 'bibliografía': 2097, 'evidenciar': 2098, 'subtitulos': 2099, 'bojack': 2100, 'horseman': 2101, 'pais': 2102, 'today': 2103, 'alaska': 2104, 'mario': 2105, 'ye': 2106, 'terrible': 2107, 'vivo': 2108, 'reaccionar': 2109, 'violencia': 2110, 'verbal': 2111, 'físico': 2112, 'agresor': 2113, 'meleno': 2114, 'manguerazo': 2115, 'hijos': 2116, 'puta': 2117, 'preguntadle': 2118, 'dao': 2119, 'crear': 2120, 'colectivo': 2121, 'estatal': 2122, 'división': 2123, 'local': 2124, 'poderoso': 2125, 'over25': 2126, 'aspirante': 2127, 'opción': 2128, 'zona': 2129, 'escoger': 2130, 'permiso': 2131, 'miquel': 2132, 'verla': 2133, 'timeline': 2134, 'all': 2135, 'bran': 2136, 'compis': 2137, 'grandísima': 2138, '29': 2139, 'discursar': 2140, 'sesiondeinvestidura': 2141, 'ché': 2142, 'ciudadanía': 2143, 'diariamente': 2144, 'ola': 2145, 'wapa': 2146, 'stas': 2147, 'spero': 2148, 'sorra': 2149, 'kmo': 2150, 'xikas': 2151, 'machirulo': 2152, 'cojones': 2153, 'jajsakjkjsadjjsjasjajaja': 2154, 'promocion': 2155, 'gestionar': 2156, 'via': 2157, 'rapida': 2158, 'todas': 2159, 'míercoles': 2160, 'seña': 2161, 'stranger': 2162, 'mr': 2163, 'robot': 2164, 'get': 2165, 'down': 2166, 'platónico': 2167, 'gay': 2168, 'demo': 2169, '17': 2170, 'wuouuoo': 2171, 'esport3': 2172, '2ª': 2173, 'rcde': 2174, 'fara': 2175, 'marcar': 2176, 'grotesco': 2177, 'ojeda': 2178, '1030': 2179, 'perdona': 2180, 'comprensible': 2181, 'caere': 2182, 'popular': 2183, 'ea': 2184, 'estare': 2185, 'distraido': 2186, 'cadiz': 2187, 'preocupeis': 2188, 'juicio': 2189, 'lento': 2190, 'carcel': 2191, 'desventura': 2192, 'albert': 2193, 'grifo': 2194, 'decidir': 2195, 'ilustres': 2196, 'jose': 2197, 'insulto': 2198, 'burgos': 2199, 'murcia': 2200, 'sociable': 2201, 'ná': 2202, 'actriz': 2203, 'costar': 2204, 'encontrarte': 2205, 'incitar': 2206, 'lectura': 2207, 'mágico': 2208, 'pillar': 2209, 'frustrante': 2210, 'acordarse': 2211, 'guapis': 2212, 'durante': 2213, 'matricular': 2214, 'opinion': 2215, 'psicologia': 2216, 'fp': 2217, 'infor': 2218, 'atrasar': 2219, 'abrazoteee': 2220, 'corrección': 2221, 'tomás': 2222, 'habéis': 2223, 'dinos': 2224, 'tierramagna': 2225, 'cola': 2226, 'espectáculo': 2227, 'ta': 2228, 'cerrao': 2229, 'estancar': 2230, 'llamandome': 2231, 'instar': 2232, 'histories': 2233, 'buscaré': 2234, 'pinterest': 2235, 'mío': 2236, 'seestrenasietevidas': 2237, 'garfield': 2238, 'vagar': 2239, 'lasaña': 2240, 'sensación': 2241, 'din': 2242, 'eu': 2243, 'na': 2244, 'ofi': 2245, 'lendo': 2246, 'tampouco': 2247, 'teño': 2248, 'cobrar': 2249, 'prat': 2250, 'unminutosindolor': 2251, 'singlar': 2252, 'promocional': 2253, '40globalshow51': 2254, '1010': 2255, 'lindar': 2256, 'león': 2257, 'bae': 2258, 'carta': 2259, 'seprona': 2260, 'cuidar': 2261, 'pepito': 2262, 'mecanicas': 2263, 'rapido': 2264, 'cruzar': 2265, 'marchar': 2266, 'mego': 2267, 'mamaheasesinadoaminovia': 2268, 'despedir': 2269, 'riña': 2270, 'trifulca': 2271, 'cuello': 2272, 'mátalo': 2273, 'posiblemente': 2274, 'yoshi': 2275, 'primer': 2276, 'operación': 2277, 'bikini': 2278, 'superar': 2279, 'can': 2280, 'altafitdonosti': 2281, 'objetivospartan2017': 2282, 'pajarito': 2283, 'reservar': 2284, 'bibo': 2285, 'demandar': 2286, 'aspecto': 2287, 'solar': 2288, 'probablemente': 2289, 'necesario': 2290, 'amargar': 2291, 'capacidad': 2292, 'análisis': 2293, 'visión': 2294, 'l': 2295, 'm': 2296, 'prontisimo': 2297, 'x': 2298, 'j': 2299, 'hambre': 2300, 'hacerme': 2301, 'todavía': 2302, 'ubisoft': 2303, 'sony': 2304, 'lamento': 2305, 'decirles': 2306, 'opacar': 2307, 'spotify': 2308, 'tenerlas': 2309, 'colaborativas': 2310, 'entero': 2311, 'literalmente': 2312, 'caminante': 2313, 'ante': 2314, 'niebla': 2315, 'portar': 2316, 'encantado': 2317, 'visitaros': 2318, 'trailer': 2319, 'pokemongo': 2320, 'minecraft': 2321, 'pokecasas': 2322, 'rts': 2323, 'leila': 2324, 'fuistes': 2325, 'quevaaa': 2326, 'dejandome': 2327, 'esquinita': 2328, 'retuitea': 2329, 'haser': 2330, 'sensual': 2331, 'pase': 2332, 'regalo': 2333, 'suculento': 2334, 'son': 2335, 'frase': 2336, 'complementar': 2337, 'tumblrr': 2338, 'oo': 2339, 'extrañar': 2340, 'hetero': 2341, 'gratis': 2342, 'tweets': 2343, 'brutal': 2344, 'manis': 2345, 'separatista': 2346, 'catalunya': 2347, 'conseguir': 2348, 'anhelar': 2349, 'libertar': 2350, 'lesbiano': 2351, 'machorro': 2352, 'pelis': 2353, 'suponer': 2354, 'incluir': 2355, 'salvo': 2356, 'siento': 2357, 'spam': 2358, 'capitán': 2359, 'kylie': 2360, 'vasco': 2361, 'puré': 2362, 'verdura': 2363, 'pota': 2364, 'gritar': 2365, 'terror': 2366, 'jajajajajajajajajajajajaja': 2367, 'cariño': 2368, '3h': 2369, 'quejar': 2370, 'adiosagosto': 2371, 'legendario': 2372, 'ojino': 2373, 'bandera': 2374, 'japón': 2375, 'productivo': 2376, 'intimidar': 2377, 'prohibirlo': 2378, 'campaña': 2379, 'pedagogía': 2380, 'aplaudir': 2381, 'pseudo': 2382, 'feminista': 2383, 'extudiar': 2384, 'lastimar': 2385, 'java': 2386, 'microsoft': 2387, 'sentimental': 2388, 'pañuelos': 2389, 'palabras': 2390, 'impulsar': 2391, 'confirmao': 2392, 'hueso': 2393, 'mover': 2394, 'abel': 2395, 'resfriar': 2396, 'campar': 2397, 'coleccionista': 2398, 'pagarla': 2399, 'reconocer': 2400, 'perfil': 2401, 'placer': 2402, 'guapo': 2403, 'perdóname': 2404, 'maldad': 2405, 'borrándose': 2406, 'ami': 2407, 'separata': 2408, 'recomer': 2409, 'monótono': 2410, 'ubicación': 2411, 'tuiteo': 2412, 'actualizar': 2413, 'mercar': 2414, 'vaciar': 2415, 'tarde': 2416, 'orzuelo': 2417, 'asimétrico': 2418, 'universidad': 2419, 'jajajajajajajajajajajaja': 2420, 'mentira': 2421, 'jope': 2422, 'tias': 2423, 'intenso': 2424, 'hagais': 2425, 'rodrigo': 2426, 'nani': 2427, 'incógnito': 2428, 'falta': 2429, 'fichar': 2430, 'ow': 2431, 'confirmarlo': 2432, '😊': 2433, 'expo': 2434, 'citizen': 2435, 'mias': 2436, '😏': 2437, 'molaría': 2438, 'grupal': 2439, 'spidey': 2440, 'futuro': 2441, 'maridar': 2442, 'organizar': 2443, 'país': 2444, 'chancla': 2445, 'asco': 2446, 'harto': 2447, 'menda': 2448, 'eriichii': 2449, 'so': 2450, 'marrana': 2451, 'frios': 2452, 'gafar': 2453, 'chicha': 2454, 'xdd': 2455, 'olimpo': 2456, 'duel': 2457, 'darme': 2458, 'chulo': 2459, 'getwellsoonselenafromspain': 2460, 'oir': 2461, 'haran': 2462, 'wow': 2463, 'acordar': 2464, 'server': 2465, 'orishas': 2466, 'esteis': 2467, 'petándolo': 2468, 'victorerubio': 2469, 'recomendarme': 2470, 'seguimiento': 2471, 'artistas': 2472, 'internacional': 2473, 'monólogo': 2474, 'rusia': 2475, 'obviamente': 2476, 'mail': 2477, 'molestar': 2478, 'blme': 2479, 'sparks': 2480, 'ia': 2481, 'fue': 2482, 'espaciar': 2483, 'dinamización': 2484, 'útil': 2485, 'fecho': 2486, 'caducidad': 2487, 'abrumador': 2488, 'erik': 2489, 'esther': 2490, '💗': 2491, 'pocas': 2492, 'manera': 2493, 'ocurrir': 2494, 'adicción': 2495, 'burguer': 2496, 'king': 2497, 'gayumbos': 2498, 'paisano': 2499, 'animal': 2500, 'sentimiento': 2501, 'oír': 2502, 'nini': 2503, 'información': 2504, 'olor': 2505, 'cesar': 2506, 'persiano': 2507, 'quitarte': 2508, 'diversion': 2509, 'vendrás': 2510, 'barcelona': 2511, 'tardeparalaira': 2512, 'crack': 2513, 'froot': 2514, 'loops': 2515, 'ofrecer': 2516, 'rivera': 2517, 'pactar': 2518, 'nivea': 2519, 'lanzar': 2520, 'pelota': 2521, 'avioneta': 2522, '25d': 2523, 'sub': 2524, 'campeón': 2525, 'dominar': 2526, 'anular': 2527, 'hablarme': 2528, 'alta': 2529, 'ok': 2530, 'pastilla': 2531, 'bajar': 2532, '36': 2533, 'perdon': 2534, 'dudar': 2535, 'traves': 2536, 'asklfi': 2537, 'ayudaslfi': 2538, 'convocatorio': 2539, 'interesnate': 2540, 'pervertir': 2541, 'viciar': 2542, 'pasa': 2543, 'please': 2544, 'fín': 2545, 'extra': 2546, 'copar': 2547, 'bar': 2548, 'gb': 2549, 'impartir': 2550, 'actor': 2551, 'puesto': 2552, 'paripe': 2553, 'nombre': 2554, 'hsm': 2555, 'digno': 2556, 'cosas': 2557, 'tostar': 2558, 'calentito': 2559, '300': 2560, 'aforo': 2561, 'tienes': 2562, 'conocio': 2563, 'qt': 2564, 'noto': 2565, 'merlu': 2566, 'tiemp': 2567, 'oque': 2568, 'conmigoooooooo': 2569, 'pueblo': 2570, 'piso': 2571, 'documental': 2572, 'pirámide': 2573, 'moais': 2574, 'predicción': 2575, 'donostiarra': 2576, 'quedarse': 2577, 'casita': 2578, 'donostia': 2579, 'preciosa': 2580, 'sabía': 2581, 'casting': 2582, 'buenísimo': 2583, 'irrespetuoso': 2584, 'grupo': 2585, '600': 2586, 'triplete': 2587, 'rapar': 2588, 'cero': 2589, 'grabar': 2590, 'jejej': 2591, 'chiringuitopiqué': 2592, 'dejarlo': 2593, 'ayay': 2594, 'grrabar': 2595, 'trocito': 2596, 'drown': 2597, 'ukelele': 2598, 'humanidades': 2599, 'latín': 2600, 'latin': 2601, 'iria': 2602, 'tia': 2603, 'contexto': 2604, 'llevarlas': 2605, 'terreno': 2606}\n"
          ],
          "name": "stdout"
        }
      ]
    },
    {
      "cell_type": "code",
      "metadata": {
        "id": "D4AG7tvim1YX",
        "colab": {
          "base_uri": "https://localhost:8080/"
        },
        "outputId": "07344fa6-6b8c-4d02-af13-751345cf960d"
      },
      "source": [
        "X_train.shape"
      ],
      "execution_count": 9,
      "outputs": [
        {
          "output_type": "execute_result",
          "data": {
            "text/plain": [
              "(777, 30)"
            ]
          },
          "metadata": {
            "tags": []
          },
          "execution_count": 9
        }
      ]
    },
    {
      "cell_type": "code",
      "metadata": {
        "id": "QlkmKD_dm1YY",
        "colab": {
          "base_uri": "https://localhost:8080/"
        },
        "outputId": "87c8a60d-48ce-4e20-fb6e-5b113be4ca38"
      },
      "source": [
        "X_train[0]"
      ],
      "execution_count": 10,
      "outputs": [
        {
          "output_type": "execute_result",
          "data": {
            "text/plain": [
              "array([ 15, 375,   6,   8,  61,   9,  26, 490,  37,  18,  22,   8, 804,\n",
              "       491,   2,  64, 216,   6,   7,   9,  40,  65, 805,   0,   0,   0,\n",
              "         0,   0,   0,   0], dtype=int32)"
            ]
          },
          "metadata": {
            "tags": []
          },
          "execution_count": 10
        }
      ]
    },
    {
      "cell_type": "code",
      "metadata": {
        "id": "JhSmMZvtm1Ya",
        "outputId": "ea498497-6687-4175-aeef-598e3e10df84",
        "colab": {
          "base_uri": "https://localhost:8080/",
          "height": 35
        }
      },
      "source": [
        "tweets_train.values[0]"
      ],
      "execution_count": 11,
      "outputs": [
        {
          "output_type": "execute_result",
          "data": {
            "application/vnd.google.colaboratory.intrinsic+json": {
              "type": "string"
            },
            "text/plain": [
              "'  estar enamorar y a vez me hacer dañar porque se ir a chupar culo de otro perro y no me decir nadar   crisis'"
            ]
          },
          "metadata": {
            "tags": []
          },
          "execution_count": 11
        }
      ]
    },
    {
      "cell_type": "code",
      "metadata": {
        "id": "iOhVsMTBm1Ya",
        "outputId": "42a8a4eb-36df-4a83-afde-0c3d41293273",
        "colab": {
          "base_uri": "https://localhost:8080/"
        }
      },
      "source": [
        "word_index['después']"
      ],
      "execution_count": 12,
      "outputs": [
        {
          "output_type": "execute_result",
          "data": {
            "text/plain": [
              "290"
            ]
          },
          "metadata": {
            "tags": []
          },
          "execution_count": 12
        }
      ]
    },
    {
      "cell_type": "code",
      "metadata": {
        "id": "j1k1ND-9m1Yb",
        "outputId": "6a5567a4-be4b-4b87-87da-14f0d3010278",
        "colab": {
          "base_uri": "https://localhost:8080/"
        }
      },
      "source": [
        "print(X_train.shape,Y_train.shape)\n",
        "print(X_test.shape,Y_test.shape)"
      ],
      "execution_count": 13,
      "outputs": [
        {
          "output_type": "stream",
          "text": [
            "(777, 30) (777,)\n",
            "(334, 30) (334,)\n"
          ],
          "name": "stdout"
        }
      ]
    },
    {
      "cell_type": "markdown",
      "metadata": {
        "id": "nLW2R67Nm1Yb"
      },
      "source": [
        "## Word embeddins propios\n",
        "Entrenamos una capa de embedding para aprender los WE con los textos de nuestro problema."
      ]
    },
    {
      "cell_type": "code",
      "metadata": {
        "id": "2R96rc5Wm1Yc",
        "outputId": "e62fdcc8-50b1-4d78-9325-55eeeebb7f55",
        "colab": {
          "base_uri": "https://localhost:8080/"
        }
      },
      "source": [
        "#Creamos el modelo CNN en Keras\n",
        "#Usamos como referencia el ejemplo de Keras: https://github.com/keras-team/keras/blob/master/examples/imdb_cnn.py\n",
        "#pero quitamos la capa oculta intermedia para simplificar el modelo y dejarlo como en el artículo\n",
        "\n",
        "#Parámetros de la red\n",
        "embed_dim = 50\n",
        "filters = 64\n",
        "kernel_size = 3\n",
        "\n",
        "model = Sequential()\n",
        "model.add(Embedding(max_features, embed_dim, input_length = MAX_SEQUENCE_LENGTH))\n",
        "model.add(Dropout(0.2))\n",
        "\n",
        "# añadimos una capa de convolución 1D que aprende\n",
        "# filtros de grupos de palabras de tamaño kernel_size\n",
        "model.add(Conv1D(filters,\n",
        "                 kernel_size,\n",
        "                 padding='valid',\n",
        "                 activation='relu',\n",
        "                 strides=1))\n",
        "\n",
        "# calculamos el max pooling:\n",
        "model.add(GlobalMaxPooling1D())\n",
        "\n",
        "# conectamos a una capa de salida de una unidad con activación sigmoide\n",
        "model.add(Dense(1))\n",
        "model.add(Activation('sigmoid'))\n",
        "\n",
        "# compilamos el modelo\n",
        "model.compile(loss='binary_crossentropy',\n",
        "              optimizer='adam',\n",
        "              metrics=['accuracy'])\n",
        "print(model.summary())"
      ],
      "execution_count": 14,
      "outputs": [
        {
          "output_type": "stream",
          "text": [
            "Model: \"sequential\"\n",
            "_________________________________________________________________\n",
            "Layer (type)                 Output Shape              Param #   \n",
            "=================================================================\n",
            "embedding (Embedding)        (None, 30, 50)            130350    \n",
            "_________________________________________________________________\n",
            "dropout (Dropout)            (None, 30, 50)            0         \n",
            "_________________________________________________________________\n",
            "conv1d (Conv1D)              (None, 28, 64)            9664      \n",
            "_________________________________________________________________\n",
            "global_max_pooling1d (Global (None, 64)                0         \n",
            "_________________________________________________________________\n",
            "dense (Dense)                (None, 1)                 65        \n",
            "_________________________________________________________________\n",
            "activation (Activation)      (None, 1)                 0         \n",
            "=================================================================\n",
            "Total params: 140,079\n",
            "Trainable params: 140,079\n",
            "Non-trainable params: 0\n",
            "_________________________________________________________________\n",
            "None\n"
          ],
          "name": "stdout"
        }
      ]
    },
    {
      "cell_type": "markdown",
      "metadata": {
        "id": "j6MC-Ryom1Yd"
      },
      "source": [
        "### Pregunta:\n",
        "¿de dónde vienen los tamaños de los parámetros de cada capa?"
      ]
    },
    {
      "cell_type": "code",
      "metadata": {
        "id": "WXRqlqKIm1Ye",
        "outputId": "95ba8e30-c105-45c0-99d5-a3c9c8c93ca6",
        "colab": {
          "base_uri": "https://localhost:8080/"
        }
      },
      "source": [
        "#solución\n",
        "print(max_features * embed_dim)\n",
        "print(filters*embed_dim*kernel_size+filters)\n",
        "print(filters+1)"
      ],
      "execution_count": 15,
      "outputs": [
        {
          "output_type": "stream",
          "text": [
            "130350\n",
            "9664\n",
            "65\n"
          ],
          "name": "stdout"
        }
      ]
    },
    {
      "cell_type": "code",
      "metadata": {
        "id": "ITjTPA9Xm1Yf",
        "outputId": "144774f0-bb91-4d13-bb44-856b2f4233ad",
        "colab": {
          "base_uri": "https://localhost:8080/"
        }
      },
      "source": [
        "batch_size = 16\n",
        "history = model.fit(X_train, Y_train, epochs=20, batch_size=batch_size, verbose=2, validation_data=(X_test, Y_test))"
      ],
      "execution_count": 16,
      "outputs": [
        {
          "output_type": "stream",
          "text": [
            "Epoch 1/20\n",
            "49/49 - 2s - loss: 0.6820 - accuracy: 0.5804 - val_loss: 0.6822 - val_accuracy: 0.5569\n",
            "Epoch 2/20\n",
            "49/49 - 0s - loss: 0.6600 - accuracy: 0.5804 - val_loss: 0.6682 - val_accuracy: 0.5569\n",
            "Epoch 3/20\n",
            "49/49 - 0s - loss: 0.6147 - accuracy: 0.6384 - val_loss: 0.6272 - val_accuracy: 0.6647\n",
            "Epoch 4/20\n",
            "49/49 - 0s - loss: 0.5182 - accuracy: 0.8443 - val_loss: 0.5747 - val_accuracy: 0.7275\n",
            "Epoch 5/20\n",
            "49/49 - 0s - loss: 0.3733 - accuracy: 0.8983 - val_loss: 0.5384 - val_accuracy: 0.7545\n",
            "Epoch 6/20\n",
            "49/49 - 0s - loss: 0.2267 - accuracy: 0.9588 - val_loss: 0.5465 - val_accuracy: 0.7695\n",
            "Epoch 7/20\n",
            "49/49 - 0s - loss: 0.1256 - accuracy: 0.9820 - val_loss: 0.5672 - val_accuracy: 0.7515\n",
            "Epoch 8/20\n",
            "49/49 - 0s - loss: 0.0642 - accuracy: 0.9949 - val_loss: 0.6238 - val_accuracy: 0.7365\n",
            "Epoch 9/20\n",
            "49/49 - 0s - loss: 0.0396 - accuracy: 0.9974 - val_loss: 0.6723 - val_accuracy: 0.7395\n",
            "Epoch 10/20\n",
            "49/49 - 0s - loss: 0.0244 - accuracy: 0.9974 - val_loss: 0.6796 - val_accuracy: 0.7455\n",
            "Epoch 11/20\n",
            "49/49 - 0s - loss: 0.0169 - accuracy: 0.9987 - val_loss: 0.7336 - val_accuracy: 0.7335\n",
            "Epoch 12/20\n",
            "49/49 - 0s - loss: 0.0117 - accuracy: 1.0000 - val_loss: 0.7557 - val_accuracy: 0.7275\n",
            "Epoch 13/20\n",
            "49/49 - 0s - loss: 0.0086 - accuracy: 1.0000 - val_loss: 0.7878 - val_accuracy: 0.7275\n",
            "Epoch 14/20\n",
            "49/49 - 0s - loss: 0.0062 - accuracy: 1.0000 - val_loss: 0.8110 - val_accuracy: 0.7305\n",
            "Epoch 15/20\n",
            "49/49 - 0s - loss: 0.0050 - accuracy: 1.0000 - val_loss: 0.8361 - val_accuracy: 0.7425\n",
            "Epoch 16/20\n",
            "49/49 - 0s - loss: 0.0046 - accuracy: 1.0000 - val_loss: 0.8485 - val_accuracy: 0.7246\n",
            "Epoch 17/20\n",
            "49/49 - 0s - loss: 0.0036 - accuracy: 1.0000 - val_loss: 0.8745 - val_accuracy: 0.7246\n",
            "Epoch 18/20\n",
            "49/49 - 0s - loss: 0.0027 - accuracy: 1.0000 - val_loss: 0.8911 - val_accuracy: 0.7216\n",
            "Epoch 19/20\n",
            "49/49 - 0s - loss: 0.0023 - accuracy: 1.0000 - val_loss: 0.9044 - val_accuracy: 0.7186\n",
            "Epoch 20/20\n",
            "49/49 - 0s - loss: 0.0020 - accuracy: 1.0000 - val_loss: 0.9175 - val_accuracy: 0.7156\n"
          ],
          "name": "stdout"
        }
      ]
    },
    {
      "cell_type": "code",
      "metadata": {
        "id": "QF-Ish42m1Yf",
        "outputId": "bda8697f-8d2c-4ab9-9cc3-1baa945c74e5",
        "colab": {
          "base_uri": "https://localhost:8080/",
          "height": 295
        }
      },
      "source": [
        "# Plot training & validation accuracy values\n",
        "plt.plot(history.history['accuracy'])\n",
        "plt.plot(history.history['val_accuracy'])\n",
        "plt.title('WE propios')\n",
        "plt.ylabel('Accuracy')\n",
        "plt.xlabel('Epoch')\n",
        "plt.legend(['Train', 'Test'], loc='upper left')\n",
        "plt.show()"
      ],
      "execution_count": 17,
      "outputs": [
        {
          "output_type": "display_data",
          "data": {
            "image/png": "[encoded data removed]",
            "text/plain": [
              "<Figure size 432x288 with 1 Axes>"
            ]
          },
          "metadata": {
            "tags": [],
            "needs_background": "light"
          }
        }
      ]
    },
    {
      "cell_type": "code",
      "metadata": {
        "id": "-sY9GYg1m1Yf"
      },
      "source": [
        "#los word embeddings aprendidos son los pesos de la primera capa\n",
        "embeddings=model.get_weights()[0]"
      ],
      "execution_count": 18,
      "outputs": []
    },
    {
      "cell_type": "code",
      "metadata": {
        "id": "TNFRGuDqm1Yg",
        "outputId": "c7064046-437f-42a4-a871-c9e08b74cd19",
        "colab": {
          "base_uri": "https://localhost:8080/"
        }
      },
      "source": [
        "embeddings.shape"
      ],
      "execution_count": 19,
      "outputs": [
        {
          "output_type": "execute_result",
          "data": {
            "text/plain": [
              "(2607, 50)"
            ]
          },
          "metadata": {
            "tags": []
          },
          "execution_count": 19
        }
      ]
    },
    {
      "cell_type": "code",
      "metadata": {
        "id": "PFa5jSOJm1Yg",
        "outputId": "010a196c-7528-4567-a95b-2d7f4f686ace",
        "colab": {
          "base_uri": "https://localhost:8080/"
        }
      },
      "source": [
        "embeddings[1]"
      ],
      "execution_count": 20,
      "outputs": [
        {
          "output_type": "execute_result",
          "data": {
            "text/plain": [
              "array([ 0.06848046, -0.03185182,  0.0217838 , -0.03959312,  0.00657247,\n",
              "       -0.037142  ,  0.01262981, -0.01940588, -0.08902517, -0.03203628,\n",
              "        0.04225971,  0.03595794, -0.01213439, -0.06424483, -0.01469962,\n",
              "       -0.03399598,  0.03240829,  0.0078414 , -0.05154438,  0.0204957 ,\n",
              "        0.0585907 ,  0.02564078, -0.02995742, -0.03373651, -0.04984083,\n",
              "        0.01461077,  0.06644509, -0.02141668,  0.10427225,  0.05907809,\n",
              "        0.01692927,  0.02496457,  0.00951653, -0.0157396 , -0.02677639,\n",
              "        0.02135545,  0.02956246, -0.01711577, -0.02729973,  0.05555876,\n",
              "       -0.01156183,  0.02772356, -0.04483744, -0.02107281, -0.03914533,\n",
              "       -0.01220341, -0.03153637, -0.00764413,  0.01661984,  0.01624751],\n",
              "      dtype=float32)"
            ]
          },
          "metadata": {
            "tags": []
          },
          "execution_count": 20
        }
      ]
    },
    {
      "cell_type": "code",
      "metadata": {
        "id": "Zgu8Seqbm1Yg",
        "outputId": "73812d57-1bbd-4e5f-a1e8-4b0fc154ace8",
        "colab": {
          "base_uri": "https://localhost:8080/"
        }
      },
      "source": [
        "score,acc = model.evaluate(X_test, Y_test, verbose = 2, batch_size = batch_size)\n",
        "print(\"score: %.2f\" % (score))\n",
        "print(\"acc: %.2f\" % (acc))"
      ],
      "execution_count": 21,
      "outputs": [
        {
          "output_type": "stream",
          "text": [
            "21/21 - 0s - loss: 0.9175 - accuracy: 0.7156\n",
            "score: 0.92\n",
            "acc: 0.72\n"
          ],
          "name": "stdout"
        }
      ]
    },
    {
      "cell_type": "code",
      "metadata": {
        "id": "gG4lacBpm1Yh",
        "outputId": "236c0fca-9b64-477e-c298-82dafc034c52",
        "colab": {
          "base_uri": "https://localhost:8080/"
        }
      },
      "source": [
        "predict=model.predict(X_test, batch_size=1)\n",
        "prediccion=(predict>0.5).tolist()\n",
        "\n",
        "from sklearn.metrics import classification_report\n",
        "\n",
        "print(classification_report(Y_test, prediccion, target_names=['N','P']))"
      ],
      "execution_count": 22,
      "outputs": [
        {
          "output_type": "stream",
          "text": [
            "              precision    recall  f1-score   support\n",
            "\n",
            "           N       0.72      0.81      0.76       186\n",
            "           P       0.72      0.59      0.65       148\n",
            "\n",
            "    accuracy                           0.72       334\n",
            "   macro avg       0.72      0.70      0.71       334\n",
            "weighted avg       0.72      0.72      0.71       334\n",
            "\n"
          ],
          "name": "stdout"
        }
      ]
    },
    {
      "cell_type": "markdown",
      "metadata": {
        "id": "f0spPUPXm1Yh"
      },
      "source": [
        "### Ejercicio 1\n",
        "Introduce una capa densa de 50 neuronas, con un Dropout con p=0.4 y una función de activación 'ReLU' entre la salida de la capa convolucional (después del MaxPooling) y la capa de salida. Compila y entrena con un tamaño de batch de 16 y 20 épocas."
      ]
    },
    {
      "cell_type": "code",
      "metadata": {
        "id": "IH-zluONm1Yi",
        "outputId": "efe6f2f3-5878-4f5b-cae9-b916fdacba22",
        "colab": {
          "base_uri": "https://localhost:8080/"
        }
      },
      "source": [
        "# Solución\n",
        "#Creamos el modelo CNN en Keras\n",
        "#Usamos como referencia el ejemplo de Keras: https://github.com/keras-team/keras/blob/master/examples/imdb_cnn.py\n",
        "#pero quitamos la capa oculta intermedia para simplificar el modelo y dejarlo como en el artículo\n",
        "\n",
        "#Parámetros de la red\n",
        "embed_dim = 50\n",
        "filters = 64\n",
        "kernel_size = 3\n",
        "\n",
        "model = Sequential()\n",
        "model.add(Embedding(max_features, embed_dim, input_length = MAX_SEQUENCE_LENGTH))\n",
        "model.add(Dropout(0.2))\n",
        "\n",
        "# añadimos una capa de convolución 1D que aprende\n",
        "# filtros de grupos de palabras de tamaño kernel_size\n",
        "model.add(Conv1D(filters,\n",
        "                 kernel_size,\n",
        "                 padding='valid',\n",
        "                 activation='relu',\n",
        "                 strides=1))\n",
        "\n",
        "# calculamos el max pooling:\n",
        "model.add(GlobalMaxPooling1D())\n",
        "\n",
        "model.add(Dense(50, activation='relu'))\n",
        "model.add(Dropout(0.4))\n",
        "\n",
        "# conectamos a una capa de salida de una unidad con activación sigmoide\n",
        "model.add(Dense(1))\n",
        "model.add(Activation('sigmoid'))\n",
        "\n",
        "# compilamos el modelo\n",
        "model.compile(loss='binary_crossentropy',\n",
        "              optimizer='adam',\n",
        "              metrics=['accuracy'])\n",
        "print(model.summary())"
      ],
      "execution_count": 23,
      "outputs": [
        {
          "output_type": "stream",
          "text": [
            "Model: \"sequential_1\"\n",
            "_________________________________________________________________\n",
            "Layer (type)                 Output Shape              Param #   \n",
            "=================================================================\n",
            "embedding_1 (Embedding)      (None, 30, 50)            130350    \n",
            "_________________________________________________________________\n",
            "dropout_1 (Dropout)          (None, 30, 50)            0         \n",
            "_________________________________________________________________\n",
            "conv1d_1 (Conv1D)            (None, 28, 64)            9664      \n",
            "_________________________________________________________________\n",
            "global_max_pooling1d_1 (Glob (None, 64)                0         \n",
            "_________________________________________________________________\n",
            "dense_1 (Dense)              (None, 50)                3250      \n",
            "_________________________________________________________________\n",
            "dropout_2 (Dropout)          (None, 50)                0         \n",
            "_________________________________________________________________\n",
            "dense_2 (Dense)              (None, 1)                 51        \n",
            "_________________________________________________________________\n",
            "activation_1 (Activation)    (None, 1)                 0         \n",
            "=================================================================\n",
            "Total params: 143,315\n",
            "Trainable params: 143,315\n",
            "Non-trainable params: 0\n",
            "_________________________________________________________________\n",
            "None\n"
          ],
          "name": "stdout"
        }
      ]
    },
    {
      "cell_type": "markdown",
      "metadata": {
        "id": "C7-TQLwXm1Yj"
      },
      "source": [
        "Compara los resultados con los anteriores"
      ]
    },
    {
      "cell_type": "code",
      "metadata": {
        "id": "vYwmWA0Zm1Yj",
        "outputId": "2ccb4834-e48b-457b-df02-0efd90406d57",
        "colab": {
          "base_uri": "https://localhost:8080/"
        }
      },
      "source": [
        "batch_size = 16\n",
        "history = model.fit(X_train, Y_train, epochs=20, batch_size=batch_size, verbose=2, validation_data=(X_test, Y_test))"
      ],
      "execution_count": 24,
      "outputs": [
        {
          "output_type": "stream",
          "text": [
            "Epoch 1/20\n",
            "49/49 - 1s - loss: 0.6854 - accuracy: 0.5431 - val_loss: 0.6841 - val_accuracy: 0.5569\n",
            "Epoch 2/20\n",
            "49/49 - 0s - loss: 0.6667 - accuracy: 0.5817 - val_loss: 0.6676 - val_accuracy: 0.5569\n",
            "Epoch 3/20\n",
            "49/49 - 0s - loss: 0.6227 - accuracy: 0.6178 - val_loss: 0.6292 - val_accuracy: 0.6647\n",
            "Epoch 4/20\n",
            "49/49 - 0s - loss: 0.5254 - accuracy: 0.8301 - val_loss: 0.5586 - val_accuracy: 0.7246\n",
            "Epoch 5/20\n",
            "49/49 - 0s - loss: 0.3300 - accuracy: 0.9138 - val_loss: 0.5155 - val_accuracy: 0.7575\n",
            "Epoch 6/20\n",
            "49/49 - 0s - loss: 0.1487 - accuracy: 0.9627 - val_loss: 0.5514 - val_accuracy: 0.7665\n",
            "Epoch 7/20\n",
            "49/49 - 0s - loss: 0.0625 - accuracy: 0.9897 - val_loss: 0.6523 - val_accuracy: 0.7485\n",
            "Epoch 8/20\n",
            "49/49 - 0s - loss: 0.0266 - accuracy: 0.9987 - val_loss: 0.6843 - val_accuracy: 0.7425\n",
            "Epoch 9/20\n",
            "49/49 - 0s - loss: 0.0143 - accuracy: 1.0000 - val_loss: 0.7541 - val_accuracy: 0.7275\n",
            "Epoch 10/20\n",
            "49/49 - 0s - loss: 0.0083 - accuracy: 1.0000 - val_loss: 0.7898 - val_accuracy: 0.7275\n",
            "Epoch 11/20\n",
            "49/49 - 0s - loss: 0.0073 - accuracy: 1.0000 - val_loss: 0.8143 - val_accuracy: 0.7455\n",
            "Epoch 12/20\n",
            "49/49 - 0s - loss: 0.0054 - accuracy: 1.0000 - val_loss: 0.8817 - val_accuracy: 0.7425\n",
            "Epoch 13/20\n",
            "49/49 - 0s - loss: 0.0037 - accuracy: 1.0000 - val_loss: 0.8838 - val_accuracy: 0.7455\n",
            "Epoch 14/20\n",
            "49/49 - 0s - loss: 0.0031 - accuracy: 1.0000 - val_loss: 0.9134 - val_accuracy: 0.7455\n",
            "Epoch 15/20\n",
            "49/49 - 0s - loss: 0.0020 - accuracy: 1.0000 - val_loss: 0.9411 - val_accuracy: 0.7455\n",
            "Epoch 16/20\n",
            "49/49 - 0s - loss: 0.0016 - accuracy: 1.0000 - val_loss: 0.9683 - val_accuracy: 0.7455\n",
            "Epoch 17/20\n",
            "49/49 - 0s - loss: 0.0022 - accuracy: 1.0000 - val_loss: 1.0080 - val_accuracy: 0.7455\n",
            "Epoch 18/20\n",
            "49/49 - 0s - loss: 0.0014 - accuracy: 1.0000 - val_loss: 1.0103 - val_accuracy: 0.7395\n",
            "Epoch 19/20\n",
            "49/49 - 0s - loss: 0.0010 - accuracy: 1.0000 - val_loss: 1.0247 - val_accuracy: 0.7425\n",
            "Epoch 20/20\n",
            "49/49 - 0s - loss: 0.0011 - accuracy: 1.0000 - val_loss: 1.0321 - val_accuracy: 0.7365\n"
          ],
          "name": "stdout"
        }
      ]
    },
    {
      "cell_type": "code",
      "metadata": {
        "id": "1I2xfYEem1Yj",
        "outputId": "b4291bcb-12be-4608-d1a6-f7335e3058d9",
        "colab": {
          "base_uri": "https://localhost:8080/"
        }
      },
      "source": [
        "score,acc = model.evaluate(X_test, Y_test, verbose = 2, batch_size = batch_size)\n",
        "print(\"score: %.2f\" % (score))\n",
        "print(\"acc: %.2f\" % (acc))"
      ],
      "execution_count": 25,
      "outputs": [
        {
          "output_type": "stream",
          "text": [
            "21/21 - 0s - loss: 1.0321 - accuracy: 0.7365\n",
            "score: 1.03\n",
            "acc: 0.74\n"
          ],
          "name": "stdout"
        }
      ]
    },
    {
      "cell_type": "code",
      "metadata": {
        "id": "vyRPhKdTm1Yj",
        "outputId": "e5ce2ee3-0097-44f7-d620-bacdb324468a",
        "colab": {
          "base_uri": "https://localhost:8080/",
          "height": 295
        }
      },
      "source": [
        "plt.plot(history.history['accuracy'])\n",
        "plt.plot(history.history['val_accuracy'])\n",
        "plt.title('WE propios 2 capas')\n",
        "plt.ylabel('Accuracy')\n",
        "plt.xlabel('Epoch')\n",
        "plt.legend(['Train', 'Test'], loc='upper left')\n",
        "plt.show()"
      ],
      "execution_count": 26,
      "outputs": [
        {
          "output_type": "display_data",
          "data": {
            "image/png": "[encoded data removed]",
            "text/plain": [
              "<Figure size 432x288 with 1 Axes>"
            ]
          },
          "metadata": {
            "tags": [],
            "needs_background": "light"
          }
        }
      ]
    },
    {
      "cell_type": "code",
      "metadata": {
        "id": "cADEO2aFm1Yk",
        "outputId": "868ac15f-86e8-4023-9ad9-8a5565f0cfa7",
        "colab": {
          "base_uri": "https://localhost:8080/"
        }
      },
      "source": [
        "predict=model.predict(X_test, batch_size=1)\n",
        "prediccion=(predict>0.5).tolist()\n",
        "\n",
        "from sklearn.metrics import classification_report\n",
        "\n",
        "print(classification_report(Y_test, prediccion, target_names=['N','P']))"
      ],
      "execution_count": 27,
      "outputs": [
        {
          "output_type": "stream",
          "text": [
            "              precision    recall  f1-score   support\n",
            "\n",
            "           N       0.76      0.77      0.76       186\n",
            "           P       0.71      0.70      0.70       148\n",
            "\n",
            "    accuracy                           0.74       334\n",
            "   macro avg       0.73      0.73      0.73       334\n",
            "weighted avg       0.74      0.74      0.74       334\n",
            "\n"
          ],
          "name": "stdout"
        }
      ]
    },
    {
      "cell_type": "markdown",
      "metadata": {
        "id": "mYaNdn2Ym1Yk"
      },
      "source": [
        "## Word embeddings de spaCy\n",
        "Aplicamos Transfer Learning usando los embeddings GloVe incluidos en el modelo de spaCy."
      ]
    },
    {
      "cell_type": "code",
      "metadata": {
        "id": "8dCP6-CJm1Yl"
      },
      "source": [
        "nlp=spacy.load('es_core_news_md')\n",
        "#Rellenamos los vectores con el valor en spaCy para nuestro vocabulario\n",
        "EMBEDDING_DIM = nlp.vocab.vectors_length\n",
        "embedding_matrix = np.zeros((max_features, EMBEDDING_DIM))\n",
        "for word, i in word_index.items():\n",
        "    if(i>max_features):\n",
        "        break\n",
        "    embedding_vector = nlp.vocab[word].vector\n",
        "    if embedding_vector is not None:\n",
        "        # las palabras que no están en spaCy serán cero.\n",
        "        embedding_matrix[i] = embedding_vector"
      ],
      "execution_count": 28,
      "outputs": []
    },
    {
      "cell_type": "code",
      "metadata": {
        "id": "v91D_aZQm1Ym",
        "outputId": "344f569b-45d3-461a-8ff9-258634e6b602",
        "colab": {
          "base_uri": "https://localhost:8080/"
        }
      },
      "source": [
        "embedding_matrix.shape"
      ],
      "execution_count": 29,
      "outputs": [
        {
          "output_type": "execute_result",
          "data": {
            "text/plain": [
              "(2607, 50)"
            ]
          },
          "metadata": {
            "tags": []
          },
          "execution_count": 29
        }
      ]
    },
    {
      "cell_type": "code",
      "metadata": {
        "id": "aJZ6UEf9m1Ym",
        "outputId": "b7882048-bf04-4ced-8978-a3172b6202aa",
        "colab": {
          "base_uri": "https://localhost:8080/"
        }
      },
      "source": [
        "#Creamos el modelo CNN en Keras\n",
        "\n",
        "#parámetros de la red\n",
        "filters = 64\n",
        "kernel_size = 3\n",
        "\n",
        "embedding_layer = Embedding(max_features,\n",
        "                            EMBEDDING_DIM,\n",
        "                            weights=[embedding_matrix],\n",
        "                            input_length=MAX_SEQUENCE_LENGTH,\n",
        "                            trainable=True)\n",
        "\n",
        "model = Sequential()\n",
        "model.add(embedding_layer)\n",
        "model.add(Dropout(0.2))\n",
        "model.add(Conv1D(filters,\n",
        "                 kernel_size,\n",
        "                 padding='valid',\n",
        "                 activation='relu',\n",
        "                 strides=1))\n",
        "model.add(GlobalMaxPooling1D())\n",
        "model.add(Dense(1, activation='sigmoid'))\n",
        "\n",
        "model.compile(loss='binary_crossentropy', optimizer='adam', metrics=['accuracy'])\n",
        "print(model.summary())"
      ],
      "execution_count": 30,
      "outputs": [
        {
          "output_type": "stream",
          "text": [
            "Model: \"sequential_2\"\n",
            "_________________________________________________________________\n",
            "Layer (type)                 Output Shape              Param #   \n",
            "=================================================================\n",
            "embedding_2 (Embedding)      (None, 30, 50)            130350    \n",
            "_________________________________________________________________\n",
            "dropout_3 (Dropout)          (None, 30, 50)            0         \n",
            "_________________________________________________________________\n",
            "conv1d_2 (Conv1D)            (None, 28, 64)            9664      \n",
            "_________________________________________________________________\n",
            "global_max_pooling1d_2 (Glob (None, 64)                0         \n",
            "_________________________________________________________________\n",
            "dense_3 (Dense)              (None, 1)                 65        \n",
            "=================================================================\n",
            "Total params: 140,079\n",
            "Trainable params: 140,079\n",
            "Non-trainable params: 0\n",
            "_________________________________________________________________\n",
            "None\n"
          ],
          "name": "stdout"
        }
      ]
    },
    {
      "cell_type": "code",
      "metadata": {
        "id": "bq1gJPaDm1Ym",
        "outputId": "6119d000-645a-4e94-ea7a-ca045656b0de",
        "colab": {
          "base_uri": "https://localhost:8080/"
        }
      },
      "source": [
        "batch_size = 16\n",
        "history = model.fit(X_train, Y_train, epochs=20, batch_size=batch_size, verbose=2, validation_data=(X_test, Y_test))"
      ],
      "execution_count": 31,
      "outputs": [
        {
          "output_type": "stream",
          "text": [
            "Epoch 1/20\n",
            "49/49 - 1s - loss: 0.7146 - accuracy: 0.5534 - val_loss: 0.6753 - val_accuracy: 0.5898\n",
            "Epoch 2/20\n",
            "49/49 - 0s - loss: 0.6632 - accuracy: 0.5972 - val_loss: 0.6426 - val_accuracy: 0.6497\n",
            "Epoch 3/20\n",
            "49/49 - 0s - loss: 0.6126 - accuracy: 0.6615 - val_loss: 0.6207 - val_accuracy: 0.6796\n",
            "Epoch 4/20\n",
            "49/49 - 0s - loss: 0.5588 - accuracy: 0.7310 - val_loss: 0.5966 - val_accuracy: 0.7036\n",
            "Epoch 5/20\n",
            "49/49 - 0s - loss: 0.5157 - accuracy: 0.7619 - val_loss: 0.5770 - val_accuracy: 0.7126\n",
            "Epoch 6/20\n",
            "49/49 - 0s - loss: 0.4878 - accuracy: 0.7825 - val_loss: 0.5723 - val_accuracy: 0.7156\n",
            "Epoch 7/20\n",
            "49/49 - 0s - loss: 0.4572 - accuracy: 0.8211 - val_loss: 0.5614 - val_accuracy: 0.7575\n",
            "Epoch 8/20\n",
            "49/49 - 0s - loss: 0.3975 - accuracy: 0.8378 - val_loss: 0.6558 - val_accuracy: 0.6018\n",
            "Epoch 9/20\n",
            "49/49 - 0s - loss: 0.4022 - accuracy: 0.8327 - val_loss: 0.5510 - val_accuracy: 0.7335\n",
            "Epoch 10/20\n",
            "49/49 - 0s - loss: 0.3460 - accuracy: 0.8726 - val_loss: 0.5701 - val_accuracy: 0.7246\n",
            "Epoch 11/20\n",
            "49/49 - 0s - loss: 0.3218 - accuracy: 0.8752 - val_loss: 0.5359 - val_accuracy: 0.7575\n",
            "Epoch 12/20\n",
            "49/49 - 0s - loss: 0.2808 - accuracy: 0.8932 - val_loss: 0.5254 - val_accuracy: 0.7695\n",
            "Epoch 13/20\n",
            "49/49 - 0s - loss: 0.2467 - accuracy: 0.9163 - val_loss: 0.5276 - val_accuracy: 0.7635\n",
            "Epoch 14/20\n",
            "49/49 - 0s - loss: 0.2110 - accuracy: 0.9395 - val_loss: 0.5264 - val_accuracy: 0.7665\n",
            "Epoch 15/20\n",
            "49/49 - 0s - loss: 0.1841 - accuracy: 0.9447 - val_loss: 0.5225 - val_accuracy: 0.7695\n",
            "Epoch 16/20\n",
            "49/49 - 0s - loss: 0.1661 - accuracy: 0.9511 - val_loss: 0.5355 - val_accuracy: 0.7605\n",
            "Epoch 17/20\n",
            "49/49 - 0s - loss: 0.1405 - accuracy: 0.9614 - val_loss: 0.5315 - val_accuracy: 0.7545\n",
            "Epoch 18/20\n",
            "49/49 - 0s - loss: 0.1240 - accuracy: 0.9678 - val_loss: 0.5394 - val_accuracy: 0.7665\n",
            "Epoch 19/20\n",
            "49/49 - 0s - loss: 0.1034 - accuracy: 0.9768 - val_loss: 0.5438 - val_accuracy: 0.7575\n",
            "Epoch 20/20\n",
            "49/49 - 0s - loss: 0.0976 - accuracy: 0.9781 - val_loss: 0.5702 - val_accuracy: 0.7425\n"
          ],
          "name": "stdout"
        }
      ]
    },
    {
      "cell_type": "code",
      "metadata": {
        "id": "49864FO2m1Yn"
      },
      "source": [
        "# Plot training & validation accuracy values\n",
        "plt.plot(history.history['accuracy'])\n",
        "plt.plot(history.history['val_accuracy'])\n",
        "plt.title('TF con WE spaCy')\n",
        "plt.ylabel('Accuracy')\n",
        "plt.xlabel('Epoch')\n",
        "plt.legend(['Train', 'Test'], loc='upper left')\n",
        "plt.show()"
      ],
      "execution_count": null,
      "outputs": []
    },
    {
      "cell_type": "code",
      "metadata": {
        "id": "h7swNmJkm1Yn"
      },
      "source": [
        "score,acc = model.evaluate(X_test, Y_test, verbose = 2, batch_size = batch_size)\n",
        "print(\"score: %.2f\" % (score))\n",
        "print(\"acc: %.2f\" % (acc))"
      ],
      "execution_count": null,
      "outputs": []
    },
    {
      "cell_type": "code",
      "metadata": {
        "id": "7-uRtOw3m1Yn"
      },
      "source": [
        "predict=model.predict(X_test, batch_size=1)\n",
        "prediccion=(predict>0.5).tolist()\n",
        "\n",
        "from sklearn.metrics import classification_report\n",
        "\n",
        "print(classification_report(Y_test, prediccion, target_names=['N','P']))"
      ],
      "execution_count": null,
      "outputs": []
    },
    {
      "cell_type": "markdown",
      "metadata": {
        "id": "9JLdT8oGm1Yn"
      },
      "source": [
        "### Word embeddings de FastText\n",
        "Podemos usar cualquier conjunto de *word embeddings* con el formato `KeyedVectors` de Gensim para hacer Transfer Learning.  \n",
        "WE descargados desde https://fasttext.cc/docs/en/crawl-vectors.html"
      ]
    },
    {
      "cell_type": "code",
      "metadata": {
        "id": "rVAVR65rm1Yo"
      },
      "source": [
        "from gensim.models import KeyedVectors\n",
        "modelWE = KeyedVectors.load_word2vec_format('/Users/jovifran/Downloads/fasttext-sbwc.100k.vec')"
      ],
      "execution_count": null,
      "outputs": []
    },
    {
      "cell_type": "code",
      "metadata": {
        "id": "pNGTWqK-m1Yo"
      },
      "source": [
        "from gensim.models.keyedvectors import KeyedVectors\n",
        "#https://github.com/mquezada/starsconf2018-word-embeddings\n",
        "modelWE = KeyedVectors.load_word2vec_format('~/Downloads/fasttext-sbwc.100k.vec')\n",
        "\n",
        "EMBEDDING_DIM = modelWE.vector_size\n",
        "\n",
        "embedding_matrix = np.zeros((max_features, EMBEDDING_DIM))\n",
        "vectores = 0\n",
        "for word, i in word_index.items():\n",
        "    if(i<max_features):\n",
        "        try:\n",
        "            embedding_vector = modelWE[word]\n",
        "        except:\n",
        "            embedding_vector = np.zeros(EMBEDDING_DIM)\n",
        "            # words not found in embedding index will be all-zeros.\n",
        "        embedding_matrix[i] = embedding_vector\n",
        "        vectores += 1\n",
        "        \n",
        "print(\"Cargados {} vectores en la matriz\".format(vectores))"
      ],
      "execution_count": null,
      "outputs": []
    },
    {
      "cell_type": "code",
      "metadata": {
        "id": "ZJVnL695m1Yo"
      },
      "source": [
        "max_features"
      ],
      "execution_count": null,
      "outputs": []
    },
    {
      "cell_type": "code",
      "metadata": {
        "id": "PgegNivkm1Yp"
      },
      "source": [
        "embedding_matrix.shape"
      ],
      "execution_count": null,
      "outputs": []
    },
    {
      "cell_type": "code",
      "metadata": {
        "id": "_2urjHZrm1Yp"
      },
      "source": [
        "#Creamos el modelo CNN en Keras\n",
        "\n",
        "#parámetros de la red\n",
        "filters = 64\n",
        "kernel_size = 3\n",
        "\n",
        "embedding_layer = Embedding(max_features,\n",
        "                            EMBEDDING_DIM,\n",
        "                            weights=[embedding_matrix],\n",
        "                            input_length=MAX_SEQUENCE_LENGTH,\n",
        "                            trainable=True)\n",
        "\n",
        "model = Sequential()\n",
        "model.add(embedding_layer)\n",
        "model.add(Dropout(0.2))\n",
        "model.add(Conv1D(filters,\n",
        "                 kernel_size,\n",
        "                 padding='valid',\n",
        "                 activation='relu',\n",
        "                 strides=1))\n",
        "model.add(GlobalMaxPooling1D())\n",
        "model.add(Dense(1, activation='sigmoid'))\n",
        "\n",
        "model.compile(loss='binary_crossentropy', optimizer='adam', metrics=['accuracy'])\n",
        "print(model.summary())"
      ],
      "execution_count": null,
      "outputs": []
    },
    {
      "cell_type": "code",
      "metadata": {
        "id": "8RY81JFXm1Yp"
      },
      "source": [
        "batch_size = 16\n",
        "history = model.fit(X_train, Y_train, epochs=20, batch_size=batch_size, verbose=2, validation_data=(X_test, Y_test))"
      ],
      "execution_count": null,
      "outputs": []
    },
    {
      "cell_type": "code",
      "metadata": {
        "id": "68zWy5EYm1Yp"
      },
      "source": [
        "# Plot training & validation accuracy values\n",
        "plt.plot(history.history['accuracy'])\n",
        "plt.plot(history.history['val_accuracy'])\n",
        "plt.title('TF con WE FastText')\n",
        "plt.ylabel('Accuracy')\n",
        "plt.xlabel('Epoch')\n",
        "plt.legend(['Train', 'Test'], loc='upper left')\n",
        "plt.show()"
      ],
      "execution_count": null,
      "outputs": []
    },
    {
      "cell_type": "code",
      "metadata": {
        "id": "NA9pjK47m1Yq"
      },
      "source": [
        "score,acc = model.evaluate(X_test, Y_test, verbose = 2, batch_size = batch_size)\n",
        "print(\"score: %.2f\" % (score))\n",
        "print(\"acc: %.2f\" % (acc))"
      ],
      "execution_count": null,
      "outputs": []
    },
    {
      "cell_type": "code",
      "metadata": {
        "id": "_7yiBWidm1Yq"
      },
      "source": [
        "predict=model.predict(X_test, batch_size=1)\n",
        "prediccion=(predict>0.5).tolist()\n",
        "\n",
        "from sklearn.metrics import classification_report\n",
        "\n",
        "print(classification_report(Y_test, prediccion, target_names=['N','P']))"
      ],
      "execution_count": null,
      "outputs": []
    },
    {
      "cell_type": "markdown",
      "metadata": {
        "id": "k1FXatP1m1Ys"
      },
      "source": [
        "### Inferencia en nuevos textos\n",
        "\n",
        "Si queremos utilizar el clasificador con un texto nuevo hay que procesar el texto con la misma secuencia: limpieza, tokenizado y conversión en secuencia de la longitud adecuada:"
      ]
    },
    {
      "cell_type": "code",
      "metadata": {
        "id": "NnsBg0tlm1Ys"
      },
      "source": [
        "twt = 'estoy triste con el partido'\n",
        "#vectorizing the tweet by the pre-fitted tokenizer instance\n",
        "twt = tokenizer.texts_to_sequences([clean_text(twt, lemas=True)]) #hay que pasar el texto a array\n",
        "#padding the tweet to have exactly the same shape as `embedding_2` input"
      ],
      "execution_count": null,
      "outputs": []
    },
    {
      "cell_type": "code",
      "metadata": {
        "id": "OprP5Z-hm1Ys"
      },
      "source": [
        "twt = pad_sequences(twt, maxlen=X_train.shape[1], dtype='int32', padding='post', truncating='post', value=0)\n",
        "sentiment = model.predict(twt,batch_size=1,verbose = 2)\n",
        "if(np.round(sentiment) == 0):\n",
        "    print(\"negativo\")\n",
        "elif (np.round(sentiment) == 1):\n",
        "    print(\"positivo\")"
      ],
      "execution_count": null,
      "outputs": []
    },
    {
      "cell_type": "markdown",
      "metadata": {
        "id": "yxfxU3Vwm1Yt"
      },
      "source": [
        "### Ejercicio 2\n",
        "Repite el entrenamiento con la capa de embeddings de spaCy con `trainable = True` y compara los resultados."
      ]
    },
    {
      "cell_type": "code",
      "metadata": {
        "id": "b3T_90Sim1Yt"
      },
      "source": [
        "## Solución"
      ],
      "execution_count": null,
      "outputs": []
    }
  ]
}