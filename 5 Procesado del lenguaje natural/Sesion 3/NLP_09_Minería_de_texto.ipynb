{
  "nbformat": 4,
  "nbformat_minor": 5,
  "metadata": {
    "kernelspec": {
      "display_name": "Python 3",
      "language": "python",
      "name": "python3"
    },
    "language_info": {
      "codemirror_mode": {
        "name": "ipython",
        "version": 3
      },
      "file_extension": ".py",
      "mimetype": "text/x-python",
      "name": "python",
      "nbconvert_exporter": "python",
      "pygments_lexer": "ipython3",
      "version": "3.8.5"
    },
    "colab": {
      "name": "NLP_09-Minería de texto.ipynb",
      "provenance": [],
      "include_colab_link": true
    }
  },
  "cells": [
    {
      "cell_type": "markdown",
      "metadata": {
        "id": "view-in-github",
        "colab_type": "text"
      },
      "source": [
        "<a href=\"https://colab.research.google.com/github/vicentcamison/idal_ia3/blob/main/5%20Procesado%20del%20lenguaje%20natural/Sesion%203/NLP_09_Mineri%CC%81a_de_texto.ipynb\" target=\"_parent\"><img src=\"https://colab.research.google.com/assets/colab-badge.svg\" alt=\"Open In Colab\"/></a>"
      ]
    },
    {
      "cell_type": "markdown",
      "metadata": {
        "id": "black-thermal"
      },
      "source": [
        "# Minería de texto\n",
        "Vamos a ver distintas técnicas de extracción de la información contenida en el texto, para convertirla en inf. estructurada."
      ],
      "id": "black-thermal"
    },
    {
      "cell_type": "code",
      "metadata": {
        "id": "dynamic-burning"
      },
      "source": [
        "import spacy\n",
        "import pandas as pd\n",
        "from spacy import displacy\n",
        "\n",
        "nlp = spacy.load(\"es_core_news_sm\")"
      ],
      "id": "dynamic-burning",
      "execution_count": null,
      "outputs": []
    },
    {
      "cell_type": "markdown",
      "metadata": {
        "id": "perceived-bridal"
      },
      "source": [
        "## Named Entity Recognition"
      ],
      "id": "perceived-bridal"
    },
    {
      "cell_type": "code",
      "metadata": {
        "id": "acceptable-charleston"
      },
      "source": [
        "doc = nlp(\"El gran escritor Miguel de Cervantes nació en Alcalá de Henares\")"
      ],
      "id": "acceptable-charleston",
      "execution_count": null,
      "outputs": []
    },
    {
      "cell_type": "code",
      "metadata": {
        "id": "portable-clone",
        "outputId": "acf12f57-a784-45a8-e1b9-7596e1436e21"
      },
      "source": [
        "displacy.render(doc, style='ent', jupyter=True)"
      ],
      "id": "portable-clone",
      "execution_count": null,
      "outputs": [
        {
          "output_type": "display_data",
          "data": {
            "text/html": [
              "<span class=\"tex2jax_ignore\"><div class=\"entities\" style=\"line-height: 2.5; direction: ltr\">El gran escritor \n",
              "<mark class=\"entity\" style=\"background: #ddd; padding: 0.45em 0.6em; margin: 0 0.25em; line-height: 1; border-radius: 0.35em;\">\n",
              "    Miguel de Cervantes\n",
              "    <span style=\"font-size: 0.8em; font-weight: bold; line-height: 1; border-radius: 0.35em; vertical-align: middle; margin-left: 0.5rem\">PER</span>\n",
              "</mark>\n",
              " nació en \n",
              "<mark class=\"entity\" style=\"background: #ff9561; padding: 0.45em 0.6em; margin: 0 0.25em; line-height: 1; border-radius: 0.35em;\">\n",
              "    Alcalá de Henares\n",
              "    <span style=\"font-size: 0.8em; font-weight: bold; line-height: 1; border-radius: 0.35em; vertical-align: middle; margin-left: 0.5rem\">LOC</span>\n",
              "</mark>\n",
              "</div></span>"
            ],
            "text/plain": [
              "<IPython.core.display.HTML object>"
            ]
          },
          "metadata": {
            "tags": []
          }
        }
      ]
    },
    {
      "cell_type": "code",
      "metadata": {
        "id": "divided-professor",
        "outputId": "6192c0cb-8a32-46d1-bd4b-8c16f752eb17"
      },
      "source": [
        "entidades = [e for e in doc.ents]\n",
        "entidades"
      ],
      "id": "divided-professor",
      "execution_count": null,
      "outputs": [
        {
          "output_type": "execute_result",
          "data": {
            "text/plain": [
              "[Miguel de Cervantes, Alcalá de Henares]"
            ]
          },
          "metadata": {
            "tags": []
          },
          "execution_count": 4
        }
      ]
    },
    {
      "cell_type": "markdown",
      "metadata": {
        "id": "seven-boutique"
      },
      "source": [
        "Cada entidad es un `span` de texto marcado con una etiqueta en los *tokens* (esquema `IOB`) y un tipo de entidad (propiedad `label` del `span`)"
      ],
      "id": "seven-boutique"
    },
    {
      "cell_type": "code",
      "metadata": {
        "id": "neither-royalty",
        "outputId": "d2371a20-f5aa-4cbc-b826-7185e0c9c98f"
      },
      "source": [
        "type(entidades[0])"
      ],
      "id": "neither-royalty",
      "execution_count": null,
      "outputs": [
        {
          "output_type": "execute_result",
          "data": {
            "text/plain": [
              "spacy.tokens.span.Span"
            ]
          },
          "metadata": {
            "tags": []
          },
          "execution_count": 5
        }
      ]
    },
    {
      "cell_type": "code",
      "metadata": {
        "id": "flush-attention",
        "outputId": "c7757a08-6893-4345-e2ac-4ab31f9c39c3"
      },
      "source": [
        "datos = map(lambda t: {'token': t.orth_,\n",
        "                       'POS': t.pos_,\n",
        "                       'ent_iob': t.ent_iob_,\n",
        "                       'ent_type': t.ent_type_\n",
        "                      }, doc)\n",
        "\n",
        "pd.DataFrame(datos)"
      ],
      "id": "flush-attention",
      "execution_count": null,
      "outputs": [
        {
          "output_type": "execute_result",
          "data": {
            "text/html": [
              "<div>\n",
              "<style scoped>\n",
              "    .dataframe tbody tr th:only-of-type {\n",
              "        vertical-align: middle;\n",
              "    }\n",
              "\n",
              "    .dataframe tbody tr th {\n",
              "        vertical-align: top;\n",
              "    }\n",
              "\n",
              "    .dataframe thead th {\n",
              "        text-align: right;\n",
              "    }\n",
              "</style>\n",
              "<table border=\"1\" class=\"dataframe\">\n",
              "  <thead>\n",
              "    <tr style=\"text-align: right;\">\n",
              "      <th></th>\n",
              "      <th>token</th>\n",
              "      <th>POS</th>\n",
              "      <th>ent_iob</th>\n",
              "      <th>ent_type</th>\n",
              "    </tr>\n",
              "  </thead>\n",
              "  <tbody>\n",
              "    <tr>\n",
              "      <th>0</th>\n",
              "      <td>El</td>\n",
              "      <td>DET</td>\n",
              "      <td>O</td>\n",
              "      <td></td>\n",
              "    </tr>\n",
              "    <tr>\n",
              "      <th>1</th>\n",
              "      <td>gran</td>\n",
              "      <td>ADJ</td>\n",
              "      <td>O</td>\n",
              "      <td></td>\n",
              "    </tr>\n",
              "    <tr>\n",
              "      <th>2</th>\n",
              "      <td>escritor</td>\n",
              "      <td>NOUN</td>\n",
              "      <td>O</td>\n",
              "      <td></td>\n",
              "    </tr>\n",
              "    <tr>\n",
              "      <th>3</th>\n",
              "      <td>Miguel</td>\n",
              "      <td>PROPN</td>\n",
              "      <td>B</td>\n",
              "      <td>PER</td>\n",
              "    </tr>\n",
              "    <tr>\n",
              "      <th>4</th>\n",
              "      <td>de</td>\n",
              "      <td>ADP</td>\n",
              "      <td>I</td>\n",
              "      <td>PER</td>\n",
              "    </tr>\n",
              "    <tr>\n",
              "      <th>5</th>\n",
              "      <td>Cervantes</td>\n",
              "      <td>PROPN</td>\n",
              "      <td>I</td>\n",
              "      <td>PER</td>\n",
              "    </tr>\n",
              "    <tr>\n",
              "      <th>6</th>\n",
              "      <td>nació</td>\n",
              "      <td>VERB</td>\n",
              "      <td>O</td>\n",
              "      <td></td>\n",
              "    </tr>\n",
              "    <tr>\n",
              "      <th>7</th>\n",
              "      <td>en</td>\n",
              "      <td>ADP</td>\n",
              "      <td>O</td>\n",
              "      <td></td>\n",
              "    </tr>\n",
              "    <tr>\n",
              "      <th>8</th>\n",
              "      <td>Alcalá</td>\n",
              "      <td>PROPN</td>\n",
              "      <td>B</td>\n",
              "      <td>LOC</td>\n",
              "    </tr>\n",
              "    <tr>\n",
              "      <th>9</th>\n",
              "      <td>de</td>\n",
              "      <td>ADP</td>\n",
              "      <td>I</td>\n",
              "      <td>LOC</td>\n",
              "    </tr>\n",
              "    <tr>\n",
              "      <th>10</th>\n",
              "      <td>Henares</td>\n",
              "      <td>PROPN</td>\n",
              "      <td>I</td>\n",
              "      <td>LOC</td>\n",
              "    </tr>\n",
              "  </tbody>\n",
              "</table>\n",
              "</div>"
            ],
            "text/plain": [
              "        token    POS ent_iob ent_type\n",
              "0          El    DET       O         \n",
              "1        gran    ADJ       O         \n",
              "2    escritor   NOUN       O         \n",
              "3      Miguel  PROPN       B      PER\n",
              "4          de    ADP       I      PER\n",
              "5   Cervantes  PROPN       I      PER\n",
              "6       nació   VERB       O         \n",
              "7          en    ADP       O         \n",
              "8      Alcalá  PROPN       B      LOC\n",
              "9          de    ADP       I      LOC\n",
              "10    Henares  PROPN       I      LOC"
            ]
          },
          "metadata": {
            "tags": []
          },
          "execution_count": 6
        }
      ]
    },
    {
      "cell_type": "code",
      "metadata": {
        "id": "former-enzyme",
        "outputId": "c6c1e489-eadb-4c5a-d042-7d298ece20aa"
      },
      "source": [
        "doc[entidades[0].start:entidades[0].end]"
      ],
      "id": "former-enzyme",
      "execution_count": null,
      "outputs": [
        {
          "output_type": "execute_result",
          "data": {
            "text/plain": [
              "Miguel de Cervantes"
            ]
          },
          "metadata": {
            "tags": []
          },
          "execution_count": 7
        }
      ]
    },
    {
      "cell_type": "code",
      "metadata": {
        "id": "banned-slovak",
        "outputId": "8f48f19c-ebc0-4970-d3cd-55dcd9f31220"
      },
      "source": [
        "entidades[0].label_"
      ],
      "id": "banned-slovak",
      "execution_count": null,
      "outputs": [
        {
          "output_type": "execute_result",
          "data": {
            "text/plain": [
              "'PER'"
            ]
          },
          "metadata": {
            "tags": []
          },
          "execution_count": 8
        }
      ]
    },
    {
      "cell_type": "markdown",
      "metadata": {
        "id": "biological-surveillance"
      },
      "source": [
        "### Creación de nuevas entidades en spaCy\n",
        "Podemos crear entidades nuevas con el componente `EntityRuler` del pipeline (https://spacy.io/api/entityruler)"
      ],
      "id": "biological-surveillance"
    },
    {
      "cell_type": "code",
      "metadata": {
        "id": "changing-tiger",
        "outputId": "5fd476e9-3240-4ad7-cec9-b29b31b2936f"
      },
      "source": [
        "#Definimos \"escritor\" como profesión\n",
        "#Nota: con el regex que se ha añadido, se detectará tanto 'escritor' como 'escritora'\n",
        "ruler = nlp.add_pipe(\"entity_ruler\")\n",
        "patterns = [{\"label\": \"PROFESION\", \"pattern\": [{\"LOWER\": {\"REGEX\": \"escritora?\"}}]}]\n",
        "ruler.add_patterns(patterns)\n",
        "\n",
        "doc = nlp(\"El gran escritor Miguel de Cervantes nació en Alcalá de Henares\")\n",
        "print([(ent.text, ent.label_) for ent in doc.ents])"
      ],
      "id": "changing-tiger",
      "execution_count": null,
      "outputs": [
        {
          "output_type": "error",
          "ename": "ValueError",
          "evalue": "[E007] 'entity_ruler' already exists in pipeline. Existing names: ['tok2vec', 'morphologizer', 'parser', 'senter', 'ner', 'attribute_ruler', 'lemmatizer', 'entity_ruler']",
          "traceback": [
            "\u001b[0;31m---------------------------------------------------------------------------\u001b[0m",
            "\u001b[0;31mValueError\u001b[0m                                Traceback (most recent call last)",
            "\u001b[0;32m<ipython-input-10-4829d3343174>\u001b[0m in \u001b[0;36m<module>\u001b[0;34m\u001b[0m\n\u001b[1;32m      1\u001b[0m \u001b[0;31m#Definimos \"escritor\" como profesión\u001b[0m\u001b[0;34m\u001b[0m\u001b[0;34m\u001b[0m\u001b[0;34m\u001b[0m\u001b[0m\n\u001b[1;32m      2\u001b[0m \u001b[0;31m#Nota: con el regex que se ha añadido, se detectará tanto 'escritor' como 'escritora'\u001b[0m\u001b[0;34m\u001b[0m\u001b[0;34m\u001b[0m\u001b[0;34m\u001b[0m\u001b[0m\n\u001b[0;32m----> 3\u001b[0;31m \u001b[0mruler\u001b[0m \u001b[0;34m=\u001b[0m \u001b[0mnlp\u001b[0m\u001b[0;34m.\u001b[0m\u001b[0madd_pipe\u001b[0m\u001b[0;34m(\u001b[0m\u001b[0;34m\"entity_ruler\"\u001b[0m\u001b[0;34m)\u001b[0m\u001b[0;34m\u001b[0m\u001b[0;34m\u001b[0m\u001b[0m\n\u001b[0m\u001b[1;32m      4\u001b[0m \u001b[0mpatterns\u001b[0m \u001b[0;34m=\u001b[0m \u001b[0;34m[\u001b[0m\u001b[0;34m{\u001b[0m\u001b[0;34m\"label\"\u001b[0m\u001b[0;34m:\u001b[0m \u001b[0;34m\"PROFESION\"\u001b[0m\u001b[0;34m,\u001b[0m \u001b[0;34m\"pattern\"\u001b[0m\u001b[0;34m:\u001b[0m \u001b[0;34m[\u001b[0m\u001b[0;34m{\u001b[0m\u001b[0;34m\"LOWER\"\u001b[0m\u001b[0;34m:\u001b[0m \u001b[0;34m{\u001b[0m\u001b[0;34m\"REGEX\"\u001b[0m\u001b[0;34m:\u001b[0m \u001b[0;34m\"escritora?\"\u001b[0m\u001b[0;34m}\u001b[0m\u001b[0;34m}\u001b[0m\u001b[0;34m]\u001b[0m\u001b[0;34m}\u001b[0m\u001b[0;34m]\u001b[0m\u001b[0;34m\u001b[0m\u001b[0;34m\u001b[0m\u001b[0m\n\u001b[1;32m      5\u001b[0m \u001b[0mruler\u001b[0m\u001b[0;34m.\u001b[0m\u001b[0madd_patterns\u001b[0m\u001b[0;34m(\u001b[0m\u001b[0mpatterns\u001b[0m\u001b[0;34m)\u001b[0m\u001b[0;34m\u001b[0m\u001b[0;34m\u001b[0m\u001b[0m\n",
            "\u001b[0;32m~/anaconda3/lib/python3.8/site-packages/spacy/language.py\u001b[0m in \u001b[0;36madd_pipe\u001b[0;34m(self, factory_name, name, before, after, first, last, source, config, raw_config, validate)\u001b[0m\n\u001b[1;32m    750\u001b[0m         \u001b[0mname\u001b[0m \u001b[0;34m=\u001b[0m \u001b[0mname\u001b[0m \u001b[0;32mif\u001b[0m \u001b[0mname\u001b[0m \u001b[0;32mis\u001b[0m \u001b[0;32mnot\u001b[0m \u001b[0;32mNone\u001b[0m \u001b[0;32melse\u001b[0m \u001b[0mfactory_name\u001b[0m\u001b[0;34m\u001b[0m\u001b[0;34m\u001b[0m\u001b[0m\n\u001b[1;32m    751\u001b[0m         \u001b[0;32mif\u001b[0m \u001b[0mname\u001b[0m \u001b[0;32min\u001b[0m \u001b[0mself\u001b[0m\u001b[0;34m.\u001b[0m\u001b[0mcomponent_names\u001b[0m\u001b[0;34m:\u001b[0m\u001b[0;34m\u001b[0m\u001b[0;34m\u001b[0m\u001b[0m\n\u001b[0;32m--> 752\u001b[0;31m             \u001b[0;32mraise\u001b[0m \u001b[0mValueError\u001b[0m\u001b[0;34m(\u001b[0m\u001b[0mErrors\u001b[0m\u001b[0;34m.\u001b[0m\u001b[0mE007\u001b[0m\u001b[0;34m.\u001b[0m\u001b[0mformat\u001b[0m\u001b[0;34m(\u001b[0m\u001b[0mname\u001b[0m\u001b[0;34m=\u001b[0m\u001b[0mname\u001b[0m\u001b[0;34m,\u001b[0m \u001b[0mopts\u001b[0m\u001b[0;34m=\u001b[0m\u001b[0mself\u001b[0m\u001b[0;34m.\u001b[0m\u001b[0mcomponent_names\u001b[0m\u001b[0;34m)\u001b[0m\u001b[0;34m)\u001b[0m\u001b[0;34m\u001b[0m\u001b[0;34m\u001b[0m\u001b[0m\n\u001b[0m\u001b[1;32m    753\u001b[0m         \u001b[0;32mif\u001b[0m \u001b[0msource\u001b[0m \u001b[0;32mis\u001b[0m \u001b[0;32mnot\u001b[0m \u001b[0;32mNone\u001b[0m\u001b[0;34m:\u001b[0m\u001b[0;34m\u001b[0m\u001b[0;34m\u001b[0m\u001b[0m\n\u001b[1;32m    754\u001b[0m             \u001b[0;31m# We're loading the component from a model. After loading the\u001b[0m\u001b[0;34m\u001b[0m\u001b[0;34m\u001b[0m\u001b[0;34m\u001b[0m\u001b[0m\n",
            "\u001b[0;31mValueError\u001b[0m: [E007] 'entity_ruler' already exists in pipeline. Existing names: ['tok2vec', 'morphologizer', 'parser', 'senter', 'ner', 'attribute_ruler', 'lemmatizer', 'entity_ruler']"
          ]
        }
      ]
    },
    {
      "cell_type": "code",
      "metadata": {
        "id": "sacred-territory",
        "outputId": "26edbb50-c3f7-4678-c309-f837ebb8bff3"
      },
      "source": [
        "datos = map(lambda t: {'token': t.orth_,\n",
        "                       'POS': t.pos_,\n",
        "                       'ent_iob': t.ent_iob_,\n",
        "                       'ent_type': t.ent_type_\n",
        "                      }, doc)\n",
        "\n",
        "pd.DataFrame(datos)"
      ],
      "id": "sacred-territory",
      "execution_count": null,
      "outputs": [
        {
          "output_type": "execute_result",
          "data": {
            "text/html": [
              "<div>\n",
              "<style scoped>\n",
              "    .dataframe tbody tr th:only-of-type {\n",
              "        vertical-align: middle;\n",
              "    }\n",
              "\n",
              "    .dataframe tbody tr th {\n",
              "        vertical-align: top;\n",
              "    }\n",
              "\n",
              "    .dataframe thead th {\n",
              "        text-align: right;\n",
              "    }\n",
              "</style>\n",
              "<table border=\"1\" class=\"dataframe\">\n",
              "  <thead>\n",
              "    <tr style=\"text-align: right;\">\n",
              "      <th></th>\n",
              "      <th>token</th>\n",
              "      <th>POS</th>\n",
              "      <th>ent_iob</th>\n",
              "      <th>ent_type</th>\n",
              "    </tr>\n",
              "  </thead>\n",
              "  <tbody>\n",
              "    <tr>\n",
              "      <th>0</th>\n",
              "      <td>El</td>\n",
              "      <td>DET</td>\n",
              "      <td>O</td>\n",
              "      <td></td>\n",
              "    </tr>\n",
              "    <tr>\n",
              "      <th>1</th>\n",
              "      <td>gran</td>\n",
              "      <td>ADJ</td>\n",
              "      <td>O</td>\n",
              "      <td></td>\n",
              "    </tr>\n",
              "    <tr>\n",
              "      <th>2</th>\n",
              "      <td>escritor</td>\n",
              "      <td>NOUN</td>\n",
              "      <td>B</td>\n",
              "      <td>PROFESION</td>\n",
              "    </tr>\n",
              "    <tr>\n",
              "      <th>3</th>\n",
              "      <td>Miguel</td>\n",
              "      <td>PROPN</td>\n",
              "      <td>B</td>\n",
              "      <td>PER</td>\n",
              "    </tr>\n",
              "    <tr>\n",
              "      <th>4</th>\n",
              "      <td>de</td>\n",
              "      <td>ADP</td>\n",
              "      <td>I</td>\n",
              "      <td>PER</td>\n",
              "    </tr>\n",
              "    <tr>\n",
              "      <th>5</th>\n",
              "      <td>Cervantes</td>\n",
              "      <td>PROPN</td>\n",
              "      <td>I</td>\n",
              "      <td>PER</td>\n",
              "    </tr>\n",
              "    <tr>\n",
              "      <th>6</th>\n",
              "      <td>nació</td>\n",
              "      <td>VERB</td>\n",
              "      <td>O</td>\n",
              "      <td></td>\n",
              "    </tr>\n",
              "    <tr>\n",
              "      <th>7</th>\n",
              "      <td>en</td>\n",
              "      <td>ADP</td>\n",
              "      <td>O</td>\n",
              "      <td></td>\n",
              "    </tr>\n",
              "    <tr>\n",
              "      <th>8</th>\n",
              "      <td>Alcalá</td>\n",
              "      <td>PROPN</td>\n",
              "      <td>B</td>\n",
              "      <td>LOC</td>\n",
              "    </tr>\n",
              "    <tr>\n",
              "      <th>9</th>\n",
              "      <td>de</td>\n",
              "      <td>ADP</td>\n",
              "      <td>I</td>\n",
              "      <td>LOC</td>\n",
              "    </tr>\n",
              "    <tr>\n",
              "      <th>10</th>\n",
              "      <td>Henares</td>\n",
              "      <td>PROPN</td>\n",
              "      <td>I</td>\n",
              "      <td>LOC</td>\n",
              "    </tr>\n",
              "  </tbody>\n",
              "</table>\n",
              "</div>"
            ],
            "text/plain": [
              "        token    POS ent_iob   ent_type\n",
              "0          El    DET       O           \n",
              "1        gran    ADJ       O           \n",
              "2    escritor   NOUN       B  PROFESION\n",
              "3      Miguel  PROPN       B        PER\n",
              "4          de    ADP       I        PER\n",
              "5   Cervantes  PROPN       I        PER\n",
              "6       nació   VERB       O           \n",
              "7          en    ADP       O           \n",
              "8      Alcalá  PROPN       B        LOC\n",
              "9          de    ADP       I        LOC\n",
              "10    Henares  PROPN       I        LOC"
            ]
          },
          "metadata": {
            "tags": []
          },
          "execution_count": 11
        }
      ]
    },
    {
      "cell_type": "markdown",
      "metadata": {
        "id": "tribal-scheme"
      },
      "source": [
        "Tal y como se puede comprobar en la tabla de arriba, el ent_iob sirve para ver dónde comienza y acaba cada entidad. Por ejemplo, Miguel de Cervantes lo detecta como una única entidad:\n",
        "- **I**: Token is **inside** an entity\n",
        "- **O**: Token is **outside** an entity\n",
        "- **B**: Token is at the **beginning** of an entity"
      ],
      "id": "tribal-scheme"
    },
    {
      "cell_type": "markdown",
      "metadata": {
        "id": "dramatic-stack"
      },
      "source": [
        "Podemos añadir nuevas profesiones"
      ],
      "id": "dramatic-stack"
    },
    {
      "cell_type": "code",
      "metadata": {
        "id": "documentary-graphic",
        "outputId": "5466fa01-b5e3-4d48-888b-20ee71ba52a6"
      },
      "source": [
        "patterns = [{\"label\": \"PROFESION\", \"pattern\": [{\"LOWER\": \"matador\"},{\"LOWER\": \"de\"},{\"LOWER\": \"toros\"}]}]\n",
        "ruler.add_patterns(patterns)\n",
        "\n",
        "doc = nlp(\"El padre de Miguel Bosé era el matador de toros Luis Miguel Dominguín\")\n",
        "print([(ent.text, ent.label_) for ent in doc.ents])"
      ],
      "id": "documentary-graphic",
      "execution_count": null,
      "outputs": [
        {
          "output_type": "stream",
          "text": [
            "[('Miguel Bosé', 'PER'), ('matador de toros', 'PROFESION'), ('Luis Miguel Dominguín', 'PER')]\n"
          ],
          "name": "stdout"
        }
      ]
    },
    {
      "cell_type": "code",
      "metadata": {
        "id": "attempted-playlist",
        "outputId": "18413479-c362-4b66-875a-63a54e282e20"
      },
      "source": [
        "datos = map(lambda t: {'token': t.orth_,\n",
        "                       'POS': t.pos_,\n",
        "                       'ent_iob': t.ent_iob_,\n",
        "                       'ent_type': t.ent_type_\n",
        "                      }, doc)\n",
        "\n",
        "pd.DataFrame(datos)"
      ],
      "id": "attempted-playlist",
      "execution_count": null,
      "outputs": [
        {
          "output_type": "execute_result",
          "data": {
            "text/html": [
              "<div>\n",
              "<style scoped>\n",
              "    .dataframe tbody tr th:only-of-type {\n",
              "        vertical-align: middle;\n",
              "    }\n",
              "\n",
              "    .dataframe tbody tr th {\n",
              "        vertical-align: top;\n",
              "    }\n",
              "\n",
              "    .dataframe thead th {\n",
              "        text-align: right;\n",
              "    }\n",
              "</style>\n",
              "<table border=\"1\" class=\"dataframe\">\n",
              "  <thead>\n",
              "    <tr style=\"text-align: right;\">\n",
              "      <th></th>\n",
              "      <th>token</th>\n",
              "      <th>POS</th>\n",
              "      <th>ent_iob</th>\n",
              "      <th>ent_type</th>\n",
              "    </tr>\n",
              "  </thead>\n",
              "  <tbody>\n",
              "    <tr>\n",
              "      <th>0</th>\n",
              "      <td>El</td>\n",
              "      <td>DET</td>\n",
              "      <td>O</td>\n",
              "      <td></td>\n",
              "    </tr>\n",
              "    <tr>\n",
              "      <th>1</th>\n",
              "      <td>padre</td>\n",
              "      <td>NOUN</td>\n",
              "      <td>O</td>\n",
              "      <td></td>\n",
              "    </tr>\n",
              "    <tr>\n",
              "      <th>2</th>\n",
              "      <td>de</td>\n",
              "      <td>ADP</td>\n",
              "      <td>O</td>\n",
              "      <td></td>\n",
              "    </tr>\n",
              "    <tr>\n",
              "      <th>3</th>\n",
              "      <td>Miguel</td>\n",
              "      <td>PROPN</td>\n",
              "      <td>B</td>\n",
              "      <td>PER</td>\n",
              "    </tr>\n",
              "    <tr>\n",
              "      <th>4</th>\n",
              "      <td>Bosé</td>\n",
              "      <td>PROPN</td>\n",
              "      <td>I</td>\n",
              "      <td>PER</td>\n",
              "    </tr>\n",
              "    <tr>\n",
              "      <th>5</th>\n",
              "      <td>era</td>\n",
              "      <td>AUX</td>\n",
              "      <td>O</td>\n",
              "      <td></td>\n",
              "    </tr>\n",
              "    <tr>\n",
              "      <th>6</th>\n",
              "      <td>el</td>\n",
              "      <td>DET</td>\n",
              "      <td>O</td>\n",
              "      <td></td>\n",
              "    </tr>\n",
              "    <tr>\n",
              "      <th>7</th>\n",
              "      <td>matador</td>\n",
              "      <td>NOUN</td>\n",
              "      <td>B</td>\n",
              "      <td>PROFESION</td>\n",
              "    </tr>\n",
              "    <tr>\n",
              "      <th>8</th>\n",
              "      <td>de</td>\n",
              "      <td>ADP</td>\n",
              "      <td>I</td>\n",
              "      <td>PROFESION</td>\n",
              "    </tr>\n",
              "    <tr>\n",
              "      <th>9</th>\n",
              "      <td>toros</td>\n",
              "      <td>NOUN</td>\n",
              "      <td>I</td>\n",
              "      <td>PROFESION</td>\n",
              "    </tr>\n",
              "    <tr>\n",
              "      <th>10</th>\n",
              "      <td>Luis</td>\n",
              "      <td>PROPN</td>\n",
              "      <td>B</td>\n",
              "      <td>PER</td>\n",
              "    </tr>\n",
              "    <tr>\n",
              "      <th>11</th>\n",
              "      <td>Miguel</td>\n",
              "      <td>PROPN</td>\n",
              "      <td>I</td>\n",
              "      <td>PER</td>\n",
              "    </tr>\n",
              "    <tr>\n",
              "      <th>12</th>\n",
              "      <td>Dominguín</td>\n",
              "      <td>PROPN</td>\n",
              "      <td>I</td>\n",
              "      <td>PER</td>\n",
              "    </tr>\n",
              "  </tbody>\n",
              "</table>\n",
              "</div>"
            ],
            "text/plain": [
              "        token    POS ent_iob   ent_type\n",
              "0          El    DET       O           \n",
              "1       padre   NOUN       O           \n",
              "2          de    ADP       O           \n",
              "3      Miguel  PROPN       B        PER\n",
              "4        Bosé  PROPN       I        PER\n",
              "5         era    AUX       O           \n",
              "6          el    DET       O           \n",
              "7     matador   NOUN       B  PROFESION\n",
              "8          de    ADP       I  PROFESION\n",
              "9       toros   NOUN       I  PROFESION\n",
              "10       Luis  PROPN       B        PER\n",
              "11     Miguel  PROPN       I        PER\n",
              "12  Dominguín  PROPN       I        PER"
            ]
          },
          "metadata": {
            "tags": []
          },
          "execution_count": 13
        }
      ]
    },
    {
      "cell_type": "code",
      "metadata": {
        "id": "mental-relevance",
        "outputId": "db8407dd-1deb-44f5-e7a7-64e4bd33e870"
      },
      "source": [
        "doc = nlp(\"Luis Miguel era matador de toros y Rosalía de Castro era escritora\")\n",
        "datos = map(lambda t: {'token': t.orth_,\n",
        "                       'POS': t.pos_,\n",
        "                       'ent_iob': t.ent_iob_,\n",
        "                       'ent_type': t.ent_type_\n",
        "                      }, doc)\n",
        "\n",
        "pd.DataFrame(datos)"
      ],
      "id": "mental-relevance",
      "execution_count": null,
      "outputs": [
        {
          "output_type": "execute_result",
          "data": {
            "text/html": [
              "<div>\n",
              "<style scoped>\n",
              "    .dataframe tbody tr th:only-of-type {\n",
              "        vertical-align: middle;\n",
              "    }\n",
              "\n",
              "    .dataframe tbody tr th {\n",
              "        vertical-align: top;\n",
              "    }\n",
              "\n",
              "    .dataframe thead th {\n",
              "        text-align: right;\n",
              "    }\n",
              "</style>\n",
              "<table border=\"1\" class=\"dataframe\">\n",
              "  <thead>\n",
              "    <tr style=\"text-align: right;\">\n",
              "      <th></th>\n",
              "      <th>token</th>\n",
              "      <th>POS</th>\n",
              "      <th>ent_iob</th>\n",
              "      <th>ent_type</th>\n",
              "    </tr>\n",
              "  </thead>\n",
              "  <tbody>\n",
              "    <tr>\n",
              "      <th>0</th>\n",
              "      <td>Luis</td>\n",
              "      <td>PROPN</td>\n",
              "      <td>B</td>\n",
              "      <td>PER</td>\n",
              "    </tr>\n",
              "    <tr>\n",
              "      <th>1</th>\n",
              "      <td>Miguel</td>\n",
              "      <td>PROPN</td>\n",
              "      <td>I</td>\n",
              "      <td>PER</td>\n",
              "    </tr>\n",
              "    <tr>\n",
              "      <th>2</th>\n",
              "      <td>era</td>\n",
              "      <td>AUX</td>\n",
              "      <td>O</td>\n",
              "      <td></td>\n",
              "    </tr>\n",
              "    <tr>\n",
              "      <th>3</th>\n",
              "      <td>matador</td>\n",
              "      <td>NOUN</td>\n",
              "      <td>B</td>\n",
              "      <td>PROFESION</td>\n",
              "    </tr>\n",
              "    <tr>\n",
              "      <th>4</th>\n",
              "      <td>de</td>\n",
              "      <td>ADP</td>\n",
              "      <td>I</td>\n",
              "      <td>PROFESION</td>\n",
              "    </tr>\n",
              "    <tr>\n",
              "      <th>5</th>\n",
              "      <td>toros</td>\n",
              "      <td>NOUN</td>\n",
              "      <td>I</td>\n",
              "      <td>PROFESION</td>\n",
              "    </tr>\n",
              "    <tr>\n",
              "      <th>6</th>\n",
              "      <td>y</td>\n",
              "      <td>CCONJ</td>\n",
              "      <td>O</td>\n",
              "      <td></td>\n",
              "    </tr>\n",
              "    <tr>\n",
              "      <th>7</th>\n",
              "      <td>Rosalía</td>\n",
              "      <td>PROPN</td>\n",
              "      <td>B</td>\n",
              "      <td>PER</td>\n",
              "    </tr>\n",
              "    <tr>\n",
              "      <th>8</th>\n",
              "      <td>de</td>\n",
              "      <td>ADP</td>\n",
              "      <td>I</td>\n",
              "      <td>PER</td>\n",
              "    </tr>\n",
              "    <tr>\n",
              "      <th>9</th>\n",
              "      <td>Castro</td>\n",
              "      <td>PROPN</td>\n",
              "      <td>I</td>\n",
              "      <td>PER</td>\n",
              "    </tr>\n",
              "    <tr>\n",
              "      <th>10</th>\n",
              "      <td>era</td>\n",
              "      <td>AUX</td>\n",
              "      <td>O</td>\n",
              "      <td></td>\n",
              "    </tr>\n",
              "    <tr>\n",
              "      <th>11</th>\n",
              "      <td>escritora</td>\n",
              "      <td>VERB</td>\n",
              "      <td>B</td>\n",
              "      <td>PROFESION</td>\n",
              "    </tr>\n",
              "  </tbody>\n",
              "</table>\n",
              "</div>"
            ],
            "text/plain": [
              "        token    POS ent_iob   ent_type\n",
              "0        Luis  PROPN       B        PER\n",
              "1      Miguel  PROPN       I        PER\n",
              "2         era    AUX       O           \n",
              "3     matador   NOUN       B  PROFESION\n",
              "4          de    ADP       I  PROFESION\n",
              "5       toros   NOUN       I  PROFESION\n",
              "6           y  CCONJ       O           \n",
              "7     Rosalía  PROPN       B        PER\n",
              "8          de    ADP       I        PER\n",
              "9      Castro  PROPN       I        PER\n",
              "10        era    AUX       O           \n",
              "11  escritora   VERB       B  PROFESION"
            ]
          },
          "metadata": {
            "tags": []
          },
          "execution_count": 14
        }
      ]
    },
    {
      "cell_type": "code",
      "metadata": {
        "id": "convinced-reference",
        "outputId": "9980fee8-059e-4b03-9e60-892e597774e3"
      },
      "source": [
        "patterns = [{\"label\": \"ANIMAL\", \"pattern\": [{\"LEMMA\": \"gato\"},{\"LEMMA\": \"montés\", 'OP': '?'}]},\n",
        "           {\"label\": \"ANIMAL\", \"pattern\": [{\"LEMMA\": \"perro\"}]}]\n",
        "ruler.add_patterns(patterns)\n",
        "\n",
        "doc = nlp(\"Gatos y perros son animales de compañía.\")\n",
        "print([(ent.text, ent.label_) for ent in doc.ents])"
      ],
      "id": "convinced-reference",
      "execution_count": null,
      "outputs": [
        {
          "output_type": "stream",
          "text": [
            "[('Gatos', 'ANIMAL'), ('perros', 'ANIMAL')]\n"
          ],
          "name": "stdout"
        }
      ]
    },
    {
      "cell_type": "code",
      "metadata": {
        "id": "neural-dominant",
        "outputId": "f89ef9e8-5e4c-45df-8234-6fee5f2b3fff"
      },
      "source": [
        "datos = map(lambda t: {'token': t.orth_,\n",
        "                       'POS': t.pos_,\n",
        "                       'lemma': t.lemma_,\n",
        "                       'ent_iob': t.ent_iob_,\n",
        "                       'ent_type': t.ent_type_\n",
        "                      }, doc)\n",
        "\n",
        "pd.DataFrame(datos)"
      ],
      "id": "neural-dominant",
      "execution_count": null,
      "outputs": [
        {
          "output_type": "execute_result",
          "data": {
            "text/html": [
              "<div>\n",
              "<style scoped>\n",
              "    .dataframe tbody tr th:only-of-type {\n",
              "        vertical-align: middle;\n",
              "    }\n",
              "\n",
              "    .dataframe tbody tr th {\n",
              "        vertical-align: top;\n",
              "    }\n",
              "\n",
              "    .dataframe thead th {\n",
              "        text-align: right;\n",
              "    }\n",
              "</style>\n",
              "<table border=\"1\" class=\"dataframe\">\n",
              "  <thead>\n",
              "    <tr style=\"text-align: right;\">\n",
              "      <th></th>\n",
              "      <th>token</th>\n",
              "      <th>POS</th>\n",
              "      <th>lemma</th>\n",
              "      <th>ent_iob</th>\n",
              "      <th>ent_type</th>\n",
              "    </tr>\n",
              "  </thead>\n",
              "  <tbody>\n",
              "    <tr>\n",
              "      <th>0</th>\n",
              "      <td>Gatos</td>\n",
              "      <td>NOUN</td>\n",
              "      <td>gato</td>\n",
              "      <td>B</td>\n",
              "      <td>ANIMAL</td>\n",
              "    </tr>\n",
              "    <tr>\n",
              "      <th>1</th>\n",
              "      <td>y</td>\n",
              "      <td>CCONJ</td>\n",
              "      <td>y</td>\n",
              "      <td>O</td>\n",
              "      <td></td>\n",
              "    </tr>\n",
              "    <tr>\n",
              "      <th>2</th>\n",
              "      <td>perros</td>\n",
              "      <td>NOUN</td>\n",
              "      <td>perro</td>\n",
              "      <td>B</td>\n",
              "      <td>ANIMAL</td>\n",
              "    </tr>\n",
              "    <tr>\n",
              "      <th>3</th>\n",
              "      <td>son</td>\n",
              "      <td>AUX</td>\n",
              "      <td>ser</td>\n",
              "      <td>O</td>\n",
              "      <td></td>\n",
              "    </tr>\n",
              "    <tr>\n",
              "      <th>4</th>\n",
              "      <td>animales</td>\n",
              "      <td>NOUN</td>\n",
              "      <td>animal</td>\n",
              "      <td>O</td>\n",
              "      <td></td>\n",
              "    </tr>\n",
              "    <tr>\n",
              "      <th>5</th>\n",
              "      <td>de</td>\n",
              "      <td>ADP</td>\n",
              "      <td>de</td>\n",
              "      <td>O</td>\n",
              "      <td></td>\n",
              "    </tr>\n",
              "    <tr>\n",
              "      <th>6</th>\n",
              "      <td>compañía</td>\n",
              "      <td>NOUN</td>\n",
              "      <td>compañía</td>\n",
              "      <td>O</td>\n",
              "      <td></td>\n",
              "    </tr>\n",
              "    <tr>\n",
              "      <th>7</th>\n",
              "      <td>.</td>\n",
              "      <td>PUNCT</td>\n",
              "      <td>.</td>\n",
              "      <td>O</td>\n",
              "      <td></td>\n",
              "    </tr>\n",
              "  </tbody>\n",
              "</table>\n",
              "</div>"
            ],
            "text/plain": [
              "      token    POS     lemma ent_iob ent_type\n",
              "0     Gatos   NOUN      gato       B   ANIMAL\n",
              "1         y  CCONJ         y       O         \n",
              "2    perros   NOUN     perro       B   ANIMAL\n",
              "3       son    AUX       ser       O         \n",
              "4  animales   NOUN    animal       O         \n",
              "5        de    ADP        de       O         \n",
              "6  compañía   NOUN  compañía       O         \n",
              "7         .  PUNCT         .       O         "
            ]
          },
          "metadata": {
            "tags": []
          },
          "execution_count": 16
        }
      ]
    },
    {
      "cell_type": "code",
      "metadata": {
        "id": "outdoor-excerpt",
        "outputId": "095524ad-ddaa-4f30-a05d-4549140b83e1"
      },
      "source": [
        "doc = nlp(\"El gato montés es más grande que los gatos callejeros\")\n",
        "\n",
        "datos = map(lambda t: {'token': t.orth_,\n",
        "                       'POS': t.pos_,\n",
        "                       'lemma': t.lemma_,\n",
        "                       'ent_iob': t.ent_iob_,\n",
        "                       'ent_type': t.ent_type_\n",
        "                      }, doc)\n",
        "\n",
        "pd.DataFrame(datos)"
      ],
      "id": "outdoor-excerpt",
      "execution_count": null,
      "outputs": [
        {
          "output_type": "execute_result",
          "data": {
            "text/html": [
              "<div>\n",
              "<style scoped>\n",
              "    .dataframe tbody tr th:only-of-type {\n",
              "        vertical-align: middle;\n",
              "    }\n",
              "\n",
              "    .dataframe tbody tr th {\n",
              "        vertical-align: top;\n",
              "    }\n",
              "\n",
              "    .dataframe thead th {\n",
              "        text-align: right;\n",
              "    }\n",
              "</style>\n",
              "<table border=\"1\" class=\"dataframe\">\n",
              "  <thead>\n",
              "    <tr style=\"text-align: right;\">\n",
              "      <th></th>\n",
              "      <th>token</th>\n",
              "      <th>POS</th>\n",
              "      <th>lemma</th>\n",
              "      <th>ent_iob</th>\n",
              "      <th>ent_type</th>\n",
              "    </tr>\n",
              "  </thead>\n",
              "  <tbody>\n",
              "    <tr>\n",
              "      <th>0</th>\n",
              "      <td>El</td>\n",
              "      <td>DET</td>\n",
              "      <td>el</td>\n",
              "      <td>O</td>\n",
              "      <td></td>\n",
              "    </tr>\n",
              "    <tr>\n",
              "      <th>1</th>\n",
              "      <td>gato</td>\n",
              "      <td>NOUN</td>\n",
              "      <td>gato</td>\n",
              "      <td>B</td>\n",
              "      <td>ANIMAL</td>\n",
              "    </tr>\n",
              "    <tr>\n",
              "      <th>2</th>\n",
              "      <td>montés</td>\n",
              "      <td>PROPN</td>\n",
              "      <td>montés</td>\n",
              "      <td>I</td>\n",
              "      <td>ANIMAL</td>\n",
              "    </tr>\n",
              "    <tr>\n",
              "      <th>3</th>\n",
              "      <td>es</td>\n",
              "      <td>AUX</td>\n",
              "      <td>ser</td>\n",
              "      <td>O</td>\n",
              "      <td></td>\n",
              "    </tr>\n",
              "    <tr>\n",
              "      <th>4</th>\n",
              "      <td>más</td>\n",
              "      <td>ADV</td>\n",
              "      <td>más</td>\n",
              "      <td>O</td>\n",
              "      <td></td>\n",
              "    </tr>\n",
              "    <tr>\n",
              "      <th>5</th>\n",
              "      <td>grande</td>\n",
              "      <td>ADJ</td>\n",
              "      <td>grande</td>\n",
              "      <td>O</td>\n",
              "      <td></td>\n",
              "    </tr>\n",
              "    <tr>\n",
              "      <th>6</th>\n",
              "      <td>que</td>\n",
              "      <td>SCONJ</td>\n",
              "      <td>que</td>\n",
              "      <td>O</td>\n",
              "      <td></td>\n",
              "    </tr>\n",
              "    <tr>\n",
              "      <th>7</th>\n",
              "      <td>los</td>\n",
              "      <td>DET</td>\n",
              "      <td>el</td>\n",
              "      <td>O</td>\n",
              "      <td></td>\n",
              "    </tr>\n",
              "    <tr>\n",
              "      <th>8</th>\n",
              "      <td>gatos</td>\n",
              "      <td>NOUN</td>\n",
              "      <td>gato</td>\n",
              "      <td>B</td>\n",
              "      <td>ANIMAL</td>\n",
              "    </tr>\n",
              "    <tr>\n",
              "      <th>9</th>\n",
              "      <td>callejeros</td>\n",
              "      <td>ADJ</td>\n",
              "      <td>callejero</td>\n",
              "      <td>O</td>\n",
              "      <td></td>\n",
              "    </tr>\n",
              "  </tbody>\n",
              "</table>\n",
              "</div>"
            ],
            "text/plain": [
              "        token    POS      lemma ent_iob ent_type\n",
              "0          El    DET         el       O         \n",
              "1        gato   NOUN       gato       B   ANIMAL\n",
              "2      montés  PROPN     montés       I   ANIMAL\n",
              "3          es    AUX        ser       O         \n",
              "4         más    ADV        más       O         \n",
              "5      grande    ADJ     grande       O         \n",
              "6         que  SCONJ        que       O         \n",
              "7         los    DET         el       O         \n",
              "8       gatos   NOUN       gato       B   ANIMAL\n",
              "9  callejeros    ADJ  callejero       O         "
            ]
          },
          "metadata": {
            "tags": []
          },
          "execution_count": 17
        }
      ]
    },
    {
      "cell_type": "code",
      "metadata": {
        "id": "challenging-findings",
        "outputId": "2d813bd4-fe31-489d-d059-6888451c0e81"
      },
      "source": [
        "print([(ent.text, ent.label_) for ent in doc.ents])"
      ],
      "id": "challenging-findings",
      "execution_count": null,
      "outputs": [
        {
          "output_type": "stream",
          "text": [
            "[('gato montés', 'ANIMAL'), ('gatos', 'ANIMAL')]\n"
          ],
          "name": "stdout"
        }
      ]
    },
    {
      "cell_type": "code",
      "metadata": {
        "id": "needed-uniform",
        "outputId": "6de5f91d-5d66-48e1-cc73-0eac21dcbb8f"
      },
      "source": [
        "doc = nlp(\"El escritor Miguel de Cervantes tenía un gato llamado Juan\")\n",
        "print([(ent.text, ent.label_) for ent in doc.ents])"
      ],
      "id": "needed-uniform",
      "execution_count": null,
      "outputs": [
        {
          "output_type": "stream",
          "text": [
            "[('escritor', 'PROFESION'), ('Miguel de Cervantes', 'PER'), ('gato', 'ANIMAL'), ('Juan', 'PER')]\n"
          ],
          "name": "stdout"
        }
      ]
    },
    {
      "cell_type": "markdown",
      "metadata": {
        "id": "noted-worcester"
      },
      "source": [
        "## Entity linking\n",
        "Usamos la API de DBPedia Spotlight (https://www.dbpedia-spotlight.org/api) para relacionar entidades propias del texto con entradas en la BBDD de conocomientos [dbpedia](http://dbpedia.org)."
      ],
      "id": "noted-worcester"
    },
    {
      "cell_type": "code",
      "metadata": {
        "id": "italian-distance",
        "outputId": "6d150366-d951-4306-fa26-dd9669b2fab3"
      },
      "source": [
        "import requests\n",
        "from IPython.core.display import display, HTML\n",
        "# An API Error Exception\n",
        "class APIError(Exception):\n",
        "    def __init__(self, status):\n",
        "            self.status = status\n",
        "    def __str__(self):\n",
        "            return \"APIError: status={}\".format(self.status)\n",
        "      \n",
        "# Base URL for Spotlight API\n",
        "base_url = \"http://api.dbpedia-spotlight.org/en/annotate\"\n",
        "# Parameters \n",
        "# 'text' - text to be annotated \n",
        "# 'confidence' -   confidence score for linking\n",
        "text = \"The Space Shuttle was a partially reusable low Earth orbital spacecraft system operated from April 12, 1981, to July 21, 2011, by the National Aeronautics and Space Administration in the United States. Launched from the Kennedy Space Center in Florida, five Space Shuttle orbiter vehicles flew on a total of 135 missions during 30 years.\"\n",
        "\n",
        "params = {\"text\": text, \"confidence\": 0.5}\n",
        "# Response content type\n",
        "headers = {'accept': 'text/html'}\n",
        "# GET Request\n",
        "res = requests.get(base_url, params=params, headers=headers)\n",
        "if res.status_code != 200:\n",
        "    # Something went wrong\n",
        "    raise APIError(res.status_code)\n",
        "# Display the result as HTML in Jupyter Notebook\n",
        "display(HTML(res.text))"
      ],
      "id": "italian-distance",
      "execution_count": null,
      "outputs": [
        {
          "output_type": "display_data",
          "data": {
            "text/html": [
              "<!DOCTYPE HTML PUBLIC \"-//W3C//DTD HTML 4.01 Transitional//EN\" \"http://www.w3.org/TR/html4/loose.dtd\">\n",
              "<html>\n",
              "<head>\n",
              "<title>DBpedia Spotlight annotation</title>\n",
              "<meta http-equiv=\"Content-type\" content=\"text/html;charset=UTF-8\">\n",
              "</head>\n",
              "<body>\n",
              "<div>\n",
              "The <a href=\"http://dbpedia.org/resource/Space_Shuttle\" title=\"http://dbpedia.org/resource/Space_Shuttle\" target=\"_blank\">Space Shuttle</a> was a partially reusable low <a href=\"http://dbpedia.org/resource/Earth\" title=\"http://dbpedia.org/resource/Earth\" target=\"_blank\">Earth</a> orbital <a href=\"http://dbpedia.org/resource/Spacecraft\" title=\"http://dbpedia.org/resource/Spacecraft\" target=\"_blank\">spacecraft</a> system operated from April 12, 1981, to July 21, 2011, by the National Aeronautics and Space Administration in the <a href=\"http://dbpedia.org/resource/United_States\" title=\"http://dbpedia.org/resource/United_States\" target=\"_blank\">United States</a>. Launched from the <a href=\"http://dbpedia.org/resource/Kennedy_Space_Center\" title=\"http://dbpedia.org/resource/Kennedy_Space_Center\" target=\"_blank\">Kennedy Space Center</a> in <a href=\"http://dbpedia.org/resource/Florida\" title=\"http://dbpedia.org/resource/Florida\" target=\"_blank\">Florida</a>, five <a href=\"http://dbpedia.org/resource/Space_Shuttle_orbiter\" title=\"http://dbpedia.org/resource/Space_Shuttle_orbiter\" target=\"_blank\">Space Shuttle orbiter</a> vehicles flew on a total of 135 missions during 30 years.\n",
              "</div>\n",
              "</body>\n",
              "</html>"
            ],
            "text/plain": [
              "<IPython.core.display.HTML object>"
            ]
          },
          "metadata": {
            "tags": []
          }
        }
      ]
    },
    {
      "cell_type": "markdown",
      "metadata": {
        "id": "gentle-choir"
      },
      "source": [
        "Tal y como se puede comprobar, con un umbral de **0.5** cosas como la NASA (National Aeronautics and Space Administration) no lo detect como entidad.\n",
        "Subir el umbral hace que se detecten menos entidades, y bajar el umbral hace que se detecten más\n",
        "Por ejemplo, probemos con **0.7** y con **0.3**:"
      ],
      "id": "gentle-choir"
    },
    {
      "cell_type": "code",
      "metadata": {
        "id": "brazilian-store",
        "outputId": "f92e7ab9-8d48-4384-860a-080c7496c08f"
      },
      "source": [
        "params = {\"text\": text, \"confidence\": 0.7}\n",
        "# Response content type\n",
        "headers = {'accept': 'text/html'}\n",
        "# GET Request\n",
        "res = requests.get(base_url, params=params, headers=headers)\n",
        "if res.status_code != 200:\n",
        "    # Something went wrong\n",
        "    raise APIError(res.status_code)\n",
        "# Display the result as HTML in Jupyter Notebook\n",
        "display(HTML(res.text))"
      ],
      "id": "brazilian-store",
      "execution_count": null,
      "outputs": [
        {
          "output_type": "display_data",
          "data": {
            "text/html": [
              "<!DOCTYPE HTML PUBLIC \"-//W3C//DTD HTML 4.01 Transitional//EN\" \"http://www.w3.org/TR/html4/loose.dtd\">\n",
              "<html>\n",
              "<head>\n",
              "<title>DBpedia Spotlight annotation</title>\n",
              "<meta http-equiv=\"Content-type\" content=\"text/html;charset=UTF-8\">\n",
              "</head>\n",
              "<body>\n",
              "<div>\n",
              "The <a href=\"http://dbpedia.org/resource/Space_Shuttle\" title=\"http://dbpedia.org/resource/Space_Shuttle\" target=\"_blank\">Space Shuttle</a> was a partially reusable low <a href=\"http://dbpedia.org/resource/Earth\" title=\"http://dbpedia.org/resource/Earth\" target=\"_blank\">Earth</a> orbital spacecraft system operated from April 12, 1981, to July 21, 2011, by the National Aeronautics and Space Administration in the <a href=\"http://dbpedia.org/resource/United_States\" title=\"http://dbpedia.org/resource/United_States\" target=\"_blank\">United States</a>. Launched from the <a href=\"http://dbpedia.org/resource/Kennedy_Space_Center\" title=\"http://dbpedia.org/resource/Kennedy_Space_Center\" target=\"_blank\">Kennedy Space Center</a> in <a href=\"http://dbpedia.org/resource/Florida\" title=\"http://dbpedia.org/resource/Florida\" target=\"_blank\">Florida</a>, five <a href=\"http://dbpedia.org/resource/Space_Shuttle_orbiter\" title=\"http://dbpedia.org/resource/Space_Shuttle_orbiter\" target=\"_blank\">Space Shuttle orbiter</a> vehicles flew on a total of 135 missions during 30 years.\n",
              "</div>\n",
              "</body>\n",
              "</html>"
            ],
            "text/plain": [
              "<IPython.core.display.HTML object>"
            ]
          },
          "metadata": {
            "tags": []
          }
        }
      ]
    },
    {
      "cell_type": "code",
      "metadata": {
        "id": "present-colombia",
        "outputId": "4c304e7f-05a9-4b46-9bbc-a0fb435ccedf"
      },
      "source": [
        "params = {\"text\": text, \"confidence\": 0.3}\n",
        "# Response content type\n",
        "headers = {'accept': 'text/html'}\n",
        "# GET Request\n",
        "res = requests.get(base_url, params=params, headers=headers)\n",
        "if res.status_code != 200:\n",
        "    # Something went wrong\n",
        "    raise APIError(res.status_code)\n",
        "# Display the result as HTML in Jupyter Notebook\n",
        "display(HTML(res.text))"
      ],
      "id": "present-colombia",
      "execution_count": null,
      "outputs": [
        {
          "output_type": "display_data",
          "data": {
            "text/html": [
              "<!DOCTYPE HTML PUBLIC \"-//W3C//DTD HTML 4.01 Transitional//EN\" \"http://www.w3.org/TR/html4/loose.dtd\">\n",
              "<html>\n",
              "<head>\n",
              "<title>DBpedia Spotlight annotation</title>\n",
              "<meta http-equiv=\"Content-type\" content=\"text/html;charset=UTF-8\">\n",
              "</head>\n",
              "<body>\n",
              "<div>\n",
              "The <a href=\"http://dbpedia.org/resource/Space_Shuttle\" title=\"http://dbpedia.org/resource/Space_Shuttle\" target=\"_blank\">Space Shuttle</a> was a <a href=\"http://dbpedia.org/resource/Reusable_launch_system\" title=\"http://dbpedia.org/resource/Reusable_launch_system\" target=\"_blank\">partially reusable</a> low <a href=\"http://dbpedia.org/resource/Earth\" title=\"http://dbpedia.org/resource/Earth\" target=\"_blank\">Earth</a> <a href=\"http://dbpedia.org/resource/Orbital_spaceflight\" title=\"http://dbpedia.org/resource/Orbital_spaceflight\" target=\"_blank\">orbital</a> <a href=\"http://dbpedia.org/resource/Spacecraft\" title=\"http://dbpedia.org/resource/Spacecraft\" target=\"_blank\">spacecraft</a> <a href=\"http://dbpedia.org/resource/System\" title=\"http://dbpedia.org/resource/System\" target=\"_blank\">system</a> <a href=\"http://dbpedia.org/resource/Surgery\" title=\"http://dbpedia.org/resource/Surgery\" target=\"_blank\">operated</a> from <a href=\"http://dbpedia.org/resource/April_12\" title=\"http://dbpedia.org/resource/April_12\" target=\"_blank\">April 12</a>, 1981, to <a href=\"http://dbpedia.org/resource/July_21\" title=\"http://dbpedia.org/resource/July_21\" target=\"_blank\">July 21</a>, 2011, by the <a href=\"http://dbpedia.org/resource/New_Zealand_National_Party\" title=\"http://dbpedia.org/resource/New_Zealand_National_Party\" target=\"_blank\">National</a> <a href=\"http://dbpedia.org/resource/Aeronautics\" title=\"http://dbpedia.org/resource/Aeronautics\" target=\"_blank\">Aeronautics</a> and <a href=\"http://dbpedia.org/resource/Outer_space\" title=\"http://dbpedia.org/resource/Outer_space\" target=\"_blank\">Space</a> <a href=\"http://dbpedia.org/resource/Business_administration\" title=\"http://dbpedia.org/resource/Business_administration\" target=\"_blank\">Administration</a> in the <a href=\"http://dbpedia.org/resource/United_States\" title=\"http://dbpedia.org/resource/United_States\" target=\"_blank\">United States</a>. <a href=\"http://dbpedia.org/resource/Ceremonial_ship_launching\" title=\"http://dbpedia.org/resource/Ceremonial_ship_launching\" target=\"_blank\">Launched</a> from the <a href=\"http://dbpedia.org/resource/Kennedy_Space_Center\" title=\"http://dbpedia.org/resource/Kennedy_Space_Center\" target=\"_blank\">Kennedy Space Center</a> in <a href=\"http://dbpedia.org/resource/Florida\" title=\"http://dbpedia.org/resource/Florida\" target=\"_blank\">Florida</a>, five <a href=\"http://dbpedia.org/resource/Space_Shuttle_orbiter\" title=\"http://dbpedia.org/resource/Space_Shuttle_orbiter\" target=\"_blank\">Space Shuttle orbiter</a> <a href=\"http://dbpedia.org/resource/Vehicle\" title=\"http://dbpedia.org/resource/Vehicle\" target=\"_blank\">vehicles</a> <a href=\"http://dbpedia.org/resource/Australia_and_the_Empire_Air_Training_Scheme\" title=\"http://dbpedia.org/resource/Australia_and_the_Empire_Air_Training_Scheme\" target=\"_blank\">flew</a> on a <a href=\"http://dbpedia.org/resource/Solar_eclipse\" title=\"http://dbpedia.org/resource/Solar_eclipse\" target=\"_blank\">total</a> of 135 <a href=\"http://dbpedia.org/resource/Military_operation\" title=\"http://dbpedia.org/resource/Military_operation\" target=\"_blank\">missions</a> during 30 years.\n",
              "</div>\n",
              "</body>\n",
              "</html>"
            ],
            "text/plain": [
              "<IPython.core.display.HTML object>"
            ]
          },
          "metadata": {
            "tags": []
          }
        }
      ]
    },
    {
      "cell_type": "code",
      "metadata": {
        "id": "worth-position",
        "outputId": "77a9c534-83c4-4930-ee47-2fbd03aa00cc"
      },
      "source": [
        "res.headers"
      ],
      "id": "worth-position",
      "execution_count": null,
      "outputs": [
        {
          "output_type": "execute_result",
          "data": {
            "text/plain": [
              "{'Date': 'Fri, 07 May 2021 17:18:25 GMT', 'Server': 'grizzly/1.9.48', 'Access-Control-Allow-Origin': '*', 'Content-Type': 'text/html', 'Vary': 'Accept-Encoding', 'Content-Encoding': 'gzip', 'Content-Length': '814', 'Keep-Alive': 'timeout=5, max=100', 'Connection': 'Keep-Alive'}"
            ]
          },
          "metadata": {
            "tags": []
          },
          "execution_count": 23
        }
      ]
    },
    {
      "cell_type": "code",
      "metadata": {
        "id": "refined-transport",
        "outputId": "9eea00e6-6f57-49cc-d65a-33c36bd74235"
      },
      "source": [
        "res.text"
      ],
      "id": "refined-transport",
      "execution_count": null,
      "outputs": [
        {
          "output_type": "execute_result",
          "data": {
            "text/plain": [
              "'<!DOCTYPE HTML PUBLIC \"-//W3C//DTD HTML 4.01 Transitional//EN\" \"http://www.w3.org/TR/html4/loose.dtd\">\\n<html>\\n<head>\\n<title>DBpedia Spotlight annotation</title>\\n<meta http-equiv=\"Content-type\" content=\"text/html;charset=UTF-8\">\\n</head>\\n<body>\\n<div>\\nThe <a href=\"http://dbpedia.org/resource/Space_Shuttle\" title=\"http://dbpedia.org/resource/Space_Shuttle\" target=\"_blank\">Space Shuttle</a> was a <a href=\"http://dbpedia.org/resource/Reusable_launch_system\" title=\"http://dbpedia.org/resource/Reusable_launch_system\" target=\"_blank\">partially reusable</a> low <a href=\"http://dbpedia.org/resource/Earth\" title=\"http://dbpedia.org/resource/Earth\" target=\"_blank\">Earth</a> <a href=\"http://dbpedia.org/resource/Orbital_spaceflight\" title=\"http://dbpedia.org/resource/Orbital_spaceflight\" target=\"_blank\">orbital</a> <a href=\"http://dbpedia.org/resource/Spacecraft\" title=\"http://dbpedia.org/resource/Spacecraft\" target=\"_blank\">spacecraft</a> <a href=\"http://dbpedia.org/resource/System\" title=\"http://dbpedia.org/resource/System\" target=\"_blank\">system</a> <a href=\"http://dbpedia.org/resource/Surgery\" title=\"http://dbpedia.org/resource/Surgery\" target=\"_blank\">operated</a> from <a href=\"http://dbpedia.org/resource/April_12\" title=\"http://dbpedia.org/resource/April_12\" target=\"_blank\">April 12</a>, 1981, to <a href=\"http://dbpedia.org/resource/July_21\" title=\"http://dbpedia.org/resource/July_21\" target=\"_blank\">July 21</a>, 2011, by the <a href=\"http://dbpedia.org/resource/New_Zealand_National_Party\" title=\"http://dbpedia.org/resource/New_Zealand_National_Party\" target=\"_blank\">National</a> <a href=\"http://dbpedia.org/resource/Aeronautics\" title=\"http://dbpedia.org/resource/Aeronautics\" target=\"_blank\">Aeronautics</a> and <a href=\"http://dbpedia.org/resource/Outer_space\" title=\"http://dbpedia.org/resource/Outer_space\" target=\"_blank\">Space</a> <a href=\"http://dbpedia.org/resource/Business_administration\" title=\"http://dbpedia.org/resource/Business_administration\" target=\"_blank\">Administration</a> in the <a href=\"http://dbpedia.org/resource/United_States\" title=\"http://dbpedia.org/resource/United_States\" target=\"_blank\">United States</a>. <a href=\"http://dbpedia.org/resource/Ceremonial_ship_launching\" title=\"http://dbpedia.org/resource/Ceremonial_ship_launching\" target=\"_blank\">Launched</a> from the <a href=\"http://dbpedia.org/resource/Kennedy_Space_Center\" title=\"http://dbpedia.org/resource/Kennedy_Space_Center\" target=\"_blank\">Kennedy Space Center</a> in <a href=\"http://dbpedia.org/resource/Florida\" title=\"http://dbpedia.org/resource/Florida\" target=\"_blank\">Florida</a>, five <a href=\"http://dbpedia.org/resource/Space_Shuttle_orbiter\" title=\"http://dbpedia.org/resource/Space_Shuttle_orbiter\" target=\"_blank\">Space Shuttle orbiter</a> <a href=\"http://dbpedia.org/resource/Vehicle\" title=\"http://dbpedia.org/resource/Vehicle\" target=\"_blank\">vehicles</a> <a href=\"http://dbpedia.org/resource/Australia_and_the_Empire_Air_Training_Scheme\" title=\"http://dbpedia.org/resource/Australia_and_the_Empire_Air_Training_Scheme\" target=\"_blank\">flew</a> on a <a href=\"http://dbpedia.org/resource/Solar_eclipse\" title=\"http://dbpedia.org/resource/Solar_eclipse\" target=\"_blank\">total</a> of 135 <a href=\"http://dbpedia.org/resource/Military_operation\" title=\"http://dbpedia.org/resource/Military_operation\" target=\"_blank\">missions</a> during 30 years.\\n</div>\\n</body>\\n</html>'"
            ]
          },
          "metadata": {
            "tags": []
          },
          "execution_count": 24
        }
      ]
    },
    {
      "cell_type": "markdown",
      "metadata": {
        "id": "coupled-dragon"
      },
      "source": [
        "Podemos hacer la petición en formato JSON, lo que devuelve más información para cada entidad detectada:"
      ],
      "id": "coupled-dragon"
    },
    {
      "cell_type": "code",
      "metadata": {
        "id": "sticky-spectrum",
        "outputId": "ef1b1a78-3095-438f-80b5-dcd3779eb535"
      },
      "source": [
        "headers = {'accept': 'application/json'}\n",
        "# GET Request\n",
        "res = requests.get(base_url, params=params, headers=headers)\n",
        "if res.status_code != 200:\n",
        "    # Something went wrong\n",
        "    raise APIError(res.status_code)\n",
        "# Display the result as HTML in Jupyter Notebook\n",
        "respuesta = res.json()\n",
        "respuesta"
      ],
      "id": "sticky-spectrum",
      "execution_count": null,
      "outputs": [
        {
          "output_type": "execute_result",
          "data": {
            "text/plain": [
              "{'@text': 'The Space Shuttle was a partially reusable low Earth orbital spacecraft system operated from April 12, 1981, to July 21, 2011, by the National Aeronautics and Space Administration in the United States. Launched from the Kennedy Space Center in Florida, five Space Shuttle orbiter vehicles flew on a total of 135 missions during 30 years.',\n",
              " '@confidence': '0.3',\n",
              " '@support': '0',\n",
              " '@types': '',\n",
              " '@sparql': '',\n",
              " '@policy': 'whitelist',\n",
              " 'Resources': [{'@URI': 'http://dbpedia.org/resource/Space_Shuttle',\n",
              "   '@support': '5777',\n",
              "   '@types': 'Wikidata:Q41291,DBpedia:MeanOfTransportation,DBpedia:Rocket',\n",
              "   '@surfaceForm': 'Space Shuttle',\n",
              "   '@offset': '4',\n",
              "   '@similarityScore': '0.8328158026333504',\n",
              "   '@percentageOfSecondRank': '0.20065367572673085'},\n",
              "  {'@URI': 'http://dbpedia.org/resource/Reusable_launch_system',\n",
              "   '@support': '411',\n",
              "   '@types': '',\n",
              "   '@surfaceForm': 'partially reusable',\n",
              "   '@offset': '24',\n",
              "   '@similarityScore': '1.0',\n",
              "   '@percentageOfSecondRank': '0.0'},\n",
              "  {'@URI': 'http://dbpedia.org/resource/Earth',\n",
              "   '@support': '39464',\n",
              "   '@types': 'Wikidata:Q634,Schema:Place,DBpedia:Place,DBpedia:Location,DBpedia:CelestialBody,DBpedia:Planet',\n",
              "   '@surfaceForm': 'Earth',\n",
              "   '@offset': '47',\n",
              "   '@similarityScore': '0.9999996999217042',\n",
              "   '@percentageOfSecondRank': '2.9994956205765455E-7'},\n",
              "  {'@URI': 'http://dbpedia.org/resource/Orbital_spaceflight',\n",
              "   '@support': '445',\n",
              "   '@types': '',\n",
              "   '@surfaceForm': 'orbital',\n",
              "   '@offset': '53',\n",
              "   '@similarityScore': '0.9926678521739385',\n",
              "   '@percentageOfSecondRank': '0.007318660649155427'},\n",
              "  {'@URI': 'http://dbpedia.org/resource/Spacecraft',\n",
              "   '@support': '6197',\n",
              "   '@types': '',\n",
              "   '@surfaceForm': 'spacecraft',\n",
              "   '@offset': '61',\n",
              "   '@similarityScore': '0.9978066732515668',\n",
              "   '@percentageOfSecondRank': '0.002195252535406448'},\n",
              "  {'@URI': 'http://dbpedia.org/resource/System',\n",
              "   '@support': '10090',\n",
              "   '@types': '',\n",
              "   '@surfaceForm': 'system',\n",
              "   '@offset': '72',\n",
              "   '@similarityScore': '0.9988176913781831',\n",
              "   '@percentageOfSecondRank': '8.351504002860814E-4'},\n",
              "  {'@URI': 'http://dbpedia.org/resource/Surgery',\n",
              "   '@support': '8457',\n",
              "   '@types': '',\n",
              "   '@surfaceForm': 'operated',\n",
              "   '@offset': '79',\n",
              "   '@similarityScore': '0.6365472027733461',\n",
              "   '@percentageOfSecondRank': '0.16482744907193844'},\n",
              "  {'@URI': 'http://dbpedia.org/resource/April_12',\n",
              "   '@support': '878',\n",
              "   '@types': '',\n",
              "   '@surfaceForm': 'April 12',\n",
              "   '@offset': '93',\n",
              "   '@similarityScore': '0.9999999415026098',\n",
              "   '@percentageOfSecondRank': '5.849675822718066E-8'},\n",
              "  {'@URI': 'http://dbpedia.org/resource/July_21',\n",
              "   '@support': '862',\n",
              "   '@types': '',\n",
              "   '@surfaceForm': 'July 21',\n",
              "   '@offset': '112',\n",
              "   '@similarityScore': '0.9999894072000753',\n",
              "   '@percentageOfSecondRank': '1.0292292738519437E-5'},\n",
              "  {'@URI': 'http://dbpedia.org/resource/New_Zealand_National_Party',\n",
              "   '@support': '3854',\n",
              "   '@types': 'Wikidata:Q7278,Wikidata:Q43229,Wikidata:Q24229398,DUL:SocialPerson,DUL:Agent,Schema:Organization,DBpedia:Organisation,DBpedia:Agent,DBpedia:PoliticalParty',\n",
              "   '@surfaceForm': 'National',\n",
              "   '@offset': '134',\n",
              "   '@similarityScore': '0.5320702517874208',\n",
              "   '@percentageOfSecondRank': '0.7338741147812001'},\n",
              "  {'@URI': 'http://dbpedia.org/resource/Aeronautics',\n",
              "   '@support': '1069',\n",
              "   '@types': '',\n",
              "   '@surfaceForm': 'Aeronautics',\n",
              "   '@offset': '143',\n",
              "   '@similarityScore': '0.9999787320110027',\n",
              "   '@percentageOfSecondRank': '1.2703387894897682E-5'},\n",
              "  {'@URI': 'http://dbpedia.org/resource/Outer_space',\n",
              "   '@support': '4506',\n",
              "   '@types': '',\n",
              "   '@surfaceForm': 'Space',\n",
              "   '@offset': '159',\n",
              "   '@similarityScore': '0.9959190110782483',\n",
              "   '@percentageOfSecondRank': '0.0040977108677569965'},\n",
              "  {'@URI': 'http://dbpedia.org/resource/Business_administration',\n",
              "   '@support': '3217',\n",
              "   '@types': '',\n",
              "   '@surfaceForm': 'Administration',\n",
              "   '@offset': '165',\n",
              "   '@similarityScore': '0.5605804770009665',\n",
              "   '@percentageOfSecondRank': '0.32879669040891485'},\n",
              "  {'@URI': 'http://dbpedia.org/resource/United_States',\n",
              "   '@support': '553243',\n",
              "   '@types': 'Wikidata:Q6256,Schema:Place,Schema:Country,DBpedia:PopulatedPlace,DBpedia:Place,DBpedia:Location,DBpedia:Country',\n",
              "   '@surfaceForm': 'United States',\n",
              "   '@offset': '187',\n",
              "   '@similarityScore': '0.9999902069064087',\n",
              "   '@percentageOfSecondRank': '5.3338384727637225E-6'},\n",
              "  {'@URI': 'http://dbpedia.org/resource/Ceremonial_ship_launching',\n",
              "   '@support': '9605',\n",
              "   '@types': '',\n",
              "   '@surfaceForm': 'Launched',\n",
              "   '@offset': '202',\n",
              "   '@similarityScore': '0.9999976795634417',\n",
              "   '@percentageOfSecondRank': '2.2887640436218316E-6'},\n",
              "  {'@URI': 'http://dbpedia.org/resource/Kennedy_Space_Center',\n",
              "   '@support': '2083',\n",
              "   '@types': 'Wikidata:Q43229,Wikidata:Q24229398,DUL:SocialPerson,DUL:Agent,Schema:Organization,DBpedia:Agent,DBpedia:Organisation',\n",
              "   '@surfaceForm': 'Kennedy Space Center',\n",
              "   '@offset': '220',\n",
              "   '@similarityScore': '0.999999973114598',\n",
              "   '@percentageOfSecondRank': '2.6885412490420064E-8'},\n",
              "  {'@URI': 'http://dbpedia.org/resource/Florida',\n",
              "   '@support': '96204',\n",
              "   '@types': 'Wikidata:Q3455524,Schema:Place,Schema:AdministrativeArea,DBpedia:Region,DBpedia:PopulatedPlace,DBpedia:Place,DBpedia:Location,DBpedia:AdministrativeRegion',\n",
              "   '@surfaceForm': 'Florida',\n",
              "   '@offset': '244',\n",
              "   '@similarityScore': '0.9999397770575329',\n",
              "   '@percentageOfSecondRank': '4.802580496319042E-5'},\n",
              "  {'@URI': 'http://dbpedia.org/resource/Space_Shuttle_orbiter',\n",
              "   '@support': '462',\n",
              "   '@types': '',\n",
              "   '@surfaceForm': 'Space Shuttle orbiter',\n",
              "   '@offset': '258',\n",
              "   '@similarityScore': '1.0',\n",
              "   '@percentageOfSecondRank': '0.0'},\n",
              "  {'@URI': 'http://dbpedia.org/resource/Vehicle',\n",
              "   '@support': '4204',\n",
              "   '@types': '',\n",
              "   '@surfaceForm': 'vehicles',\n",
              "   '@offset': '280',\n",
              "   '@similarityScore': '0.9675053509064248',\n",
              "   '@percentageOfSecondRank': '0.011004677765132358'},\n",
              "  {'@URI': 'http://dbpedia.org/resource/Australia_and_the_Empire_Air_Training_Scheme',\n",
              "   '@support': '83',\n",
              "   '@types': '',\n",
              "   '@surfaceForm': 'flew',\n",
              "   '@offset': '289',\n",
              "   '@similarityScore': '0.9999857240887124',\n",
              "   '@percentageOfSecondRank': '0.0'},\n",
              "  {'@URI': 'http://dbpedia.org/resource/Solar_eclipse',\n",
              "   '@support': '4161',\n",
              "   '@types': '',\n",
              "   '@surfaceForm': 'total',\n",
              "   '@offset': '299',\n",
              "   '@similarityScore': '0.9771285742422754',\n",
              "   '@percentageOfSecondRank': '0.02334048142433919'},\n",
              "  {'@URI': 'http://dbpedia.org/resource/Military_operation',\n",
              "   '@support': '1641',\n",
              "   '@types': '',\n",
              "   '@surfaceForm': 'missions',\n",
              "   '@offset': '312',\n",
              "   '@similarityScore': '0.6945994707038791',\n",
              "   '@percentageOfSecondRank': '0.3507493116544678'}]}"
            ]
          },
          "metadata": {
            "tags": []
          },
          "execution_count": 25
        }
      ]
    },
    {
      "cell_type": "markdown",
      "metadata": {
        "id": "instrumental-fraction"
      },
      "source": [
        "La respuesta JSON se puede iterar como un diccionario de claves-valores:"
      ],
      "id": "instrumental-fraction"
    },
    {
      "cell_type": "code",
      "metadata": {
        "id": "matched-astrology",
        "outputId": "17618c83-5bc0-498a-c232-5a8e990fc450"
      },
      "source": [
        "for key, value in respuesta.items():\n",
        "    print(f\"{key} : {value}\\n\")"
      ],
      "id": "matched-astrology",
      "execution_count": null,
      "outputs": [
        {
          "output_type": "stream",
          "text": [
            "@text : The Space Shuttle was a partially reusable low Earth orbital spacecraft system operated from April 12, 1981, to July 21, 2011, by the National Aeronautics and Space Administration in the United States. Launched from the Kennedy Space Center in Florida, five Space Shuttle orbiter vehicles flew on a total of 135 missions during 30 years.\n",
            "\n",
            "@confidence : 0.3\n",
            "\n",
            "@support : 0\n",
            "\n",
            "@types : \n",
            "\n",
            "@sparql : \n",
            "\n",
            "@policy : whitelist\n",
            "\n",
            "Resources : [{'@URI': 'http://dbpedia.org/resource/Space_Shuttle', '@support': '5777', '@types': 'Wikidata:Q41291,DBpedia:MeanOfTransportation,DBpedia:Rocket', '@surfaceForm': 'Space Shuttle', '@offset': '4', '@similarityScore': '0.8328158026333504', '@percentageOfSecondRank': '0.20065367572673085'}, {'@URI': 'http://dbpedia.org/resource/Reusable_launch_system', '@support': '411', '@types': '', '@surfaceForm': 'partially reusable', '@offset': '24', '@similarityScore': '1.0', '@percentageOfSecondRank': '0.0'}, {'@URI': 'http://dbpedia.org/resource/Earth', '@support': '39464', '@types': 'Wikidata:Q634,Schema:Place,DBpedia:Place,DBpedia:Location,DBpedia:CelestialBody,DBpedia:Planet', '@surfaceForm': 'Earth', '@offset': '47', '@similarityScore': '0.9999996999217042', '@percentageOfSecondRank': '2.9994956205765455E-7'}, {'@URI': 'http://dbpedia.org/resource/Orbital_spaceflight', '@support': '445', '@types': '', '@surfaceForm': 'orbital', '@offset': '53', '@similarityScore': '0.9926678521739385', '@percentageOfSecondRank': '0.007318660649155427'}, {'@URI': 'http://dbpedia.org/resource/Spacecraft', '@support': '6197', '@types': '', '@surfaceForm': 'spacecraft', '@offset': '61', '@similarityScore': '0.9978066732515668', '@percentageOfSecondRank': '0.002195252535406448'}, {'@URI': 'http://dbpedia.org/resource/System', '@support': '10090', '@types': '', '@surfaceForm': 'system', '@offset': '72', '@similarityScore': '0.9988176913781831', '@percentageOfSecondRank': '8.351504002860814E-4'}, {'@URI': 'http://dbpedia.org/resource/Surgery', '@support': '8457', '@types': '', '@surfaceForm': 'operated', '@offset': '79', '@similarityScore': '0.6365472027733461', '@percentageOfSecondRank': '0.16482744907193844'}, {'@URI': 'http://dbpedia.org/resource/April_12', '@support': '878', '@types': '', '@surfaceForm': 'April 12', '@offset': '93', '@similarityScore': '0.9999999415026098', '@percentageOfSecondRank': '5.849675822718066E-8'}, {'@URI': 'http://dbpedia.org/resource/July_21', '@support': '862', '@types': '', '@surfaceForm': 'July 21', '@offset': '112', '@similarityScore': '0.9999894072000753', '@percentageOfSecondRank': '1.0292292738519437E-5'}, {'@URI': 'http://dbpedia.org/resource/New_Zealand_National_Party', '@support': '3854', '@types': 'Wikidata:Q7278,Wikidata:Q43229,Wikidata:Q24229398,DUL:SocialPerson,DUL:Agent,Schema:Organization,DBpedia:Organisation,DBpedia:Agent,DBpedia:PoliticalParty', '@surfaceForm': 'National', '@offset': '134', '@similarityScore': '0.5320702517874208', '@percentageOfSecondRank': '0.7338741147812001'}, {'@URI': 'http://dbpedia.org/resource/Aeronautics', '@support': '1069', '@types': '', '@surfaceForm': 'Aeronautics', '@offset': '143', '@similarityScore': '0.9999787320110027', '@percentageOfSecondRank': '1.2703387894897682E-5'}, {'@URI': 'http://dbpedia.org/resource/Outer_space', '@support': '4506', '@types': '', '@surfaceForm': 'Space', '@offset': '159', '@similarityScore': '0.9959190110782483', '@percentageOfSecondRank': '0.0040977108677569965'}, {'@URI': 'http://dbpedia.org/resource/Business_administration', '@support': '3217', '@types': '', '@surfaceForm': 'Administration', '@offset': '165', '@similarityScore': '0.5605804770009665', '@percentageOfSecondRank': '0.32879669040891485'}, {'@URI': 'http://dbpedia.org/resource/United_States', '@support': '553243', '@types': 'Wikidata:Q6256,Schema:Place,Schema:Country,DBpedia:PopulatedPlace,DBpedia:Place,DBpedia:Location,DBpedia:Country', '@surfaceForm': 'United States', '@offset': '187', '@similarityScore': '0.9999902069064087', '@percentageOfSecondRank': '5.3338384727637225E-6'}, {'@URI': 'http://dbpedia.org/resource/Ceremonial_ship_launching', '@support': '9605', '@types': '', '@surfaceForm': 'Launched', '@offset': '202', '@similarityScore': '0.9999976795634417', '@percentageOfSecondRank': '2.2887640436218316E-6'}, {'@URI': 'http://dbpedia.org/resource/Kennedy_Space_Center', '@support': '2083', '@types': 'Wikidata:Q43229,Wikidata:Q24229398,DUL:SocialPerson,DUL:Agent,Schema:Organization,DBpedia:Agent,DBpedia:Organisation', '@surfaceForm': 'Kennedy Space Center', '@offset': '220', '@similarityScore': '0.999999973114598', '@percentageOfSecondRank': '2.6885412490420064E-8'}, {'@URI': 'http://dbpedia.org/resource/Florida', '@support': '96204', '@types': 'Wikidata:Q3455524,Schema:Place,Schema:AdministrativeArea,DBpedia:Region,DBpedia:PopulatedPlace,DBpedia:Place,DBpedia:Location,DBpedia:AdministrativeRegion', '@surfaceForm': 'Florida', '@offset': '244', '@similarityScore': '0.9999397770575329', '@percentageOfSecondRank': '4.802580496319042E-5'}, {'@URI': 'http://dbpedia.org/resource/Space_Shuttle_orbiter', '@support': '462', '@types': '', '@surfaceForm': 'Space Shuttle orbiter', '@offset': '258', '@similarityScore': '1.0', '@percentageOfSecondRank': '0.0'}, {'@URI': 'http://dbpedia.org/resource/Vehicle', '@support': '4204', '@types': '', '@surfaceForm': 'vehicles', '@offset': '280', '@similarityScore': '0.9675053509064248', '@percentageOfSecondRank': '0.011004677765132358'}, {'@URI': 'http://dbpedia.org/resource/Australia_and_the_Empire_Air_Training_Scheme', '@support': '83', '@types': '', '@surfaceForm': 'flew', '@offset': '289', '@similarityScore': '0.9999857240887124', '@percentageOfSecondRank': '0.0'}, {'@URI': 'http://dbpedia.org/resource/Solar_eclipse', '@support': '4161', '@types': '', '@surfaceForm': 'total', '@offset': '299', '@similarityScore': '0.9771285742422754', '@percentageOfSecondRank': '0.02334048142433919'}, {'@URI': 'http://dbpedia.org/resource/Military_operation', '@support': '1641', '@types': '', '@surfaceForm': 'missions', '@offset': '312', '@similarityScore': '0.6945994707038791', '@percentageOfSecondRank': '0.3507493116544678'}]\n",
            "\n"
          ],
          "name": "stdout"
        }
      ]
    },
    {
      "cell_type": "markdown",
      "metadata": {
        "id": "golden-magnet"
      },
      "source": [
        "Además podemos acceder directamente a una clave o a una clave anidada:"
      ],
      "id": "golden-magnet"
    },
    {
      "cell_type": "code",
      "metadata": {
        "id": "fluid-passenger",
        "outputId": "eae02228-9a88-4041-df56-3a7186fb7be4"
      },
      "source": [
        "respuesta['@text']"
      ],
      "id": "fluid-passenger",
      "execution_count": null,
      "outputs": [
        {
          "output_type": "execute_result",
          "data": {
            "text/plain": [
              "'The Space Shuttle was a partially reusable low Earth orbital spacecraft system operated from April 12, 1981, to July 21, 2011, by the National Aeronautics and Space Administration in the United States. Launched from the Kennedy Space Center in Florida, five Space Shuttle orbiter vehicles flew on a total of 135 missions during 30 years.'"
            ]
          },
          "metadata": {
            "tags": []
          },
          "execution_count": 27
        }
      ]
    },
    {
      "cell_type": "code",
      "metadata": {
        "id": "harmful-jenny",
        "outputId": "a15cb15d-890e-4e9b-fe93-ce6dd228e4e5"
      },
      "source": [
        "type(respuesta['Resources'])"
      ],
      "id": "harmful-jenny",
      "execution_count": null,
      "outputs": [
        {
          "output_type": "execute_result",
          "data": {
            "text/plain": [
              "list"
            ]
          },
          "metadata": {
            "tags": []
          },
          "execution_count": 28
        }
      ]
    },
    {
      "cell_type": "code",
      "metadata": {
        "id": "serial-layer",
        "outputId": "99e06f1a-c2c0-48a9-ccd5-ded86ece4c4e"
      },
      "source": [
        "respuesta['Resources'][0]['@URI']"
      ],
      "id": "serial-layer",
      "execution_count": null,
      "outputs": [
        {
          "output_type": "execute_result",
          "data": {
            "text/plain": [
              "'http://dbpedia.org/resource/Space_Shuttle'"
            ]
          },
          "metadata": {
            "tags": []
          },
          "execution_count": 29
        }
      ]
    },
    {
      "cell_type": "markdown",
      "metadata": {
        "id": "lonely-pavilion"
      },
      "source": [
        "# Extracción de palabras clave\n",
        "Usamos la librería `textacy` sobre `spaCy` (https://textacy.readthedocs.io/en/latest/). \\\n",
        "Instalamos con:\n",
        "```\n",
        "conda install -c conda-forge textacy\n",
        "```"
      ],
      "id": "lonely-pavilion"
    },
    {
      "cell_type": "code",
      "metadata": {
        "id": "cooked-brooklyn",
        "outputId": "033d5315-a254-4a25-a706-19978ede6e9e"
      },
      "source": [
        "with open('articulo.txt', 'r') as f:\n",
        "    texto = f.read()\n",
        "    \n",
        "texto"
      ],
      "id": "cooked-brooklyn",
      "execution_count": null,
      "outputs": [
        {
          "output_type": "execute_result",
          "data": {
            "text/plain": [
              "'La Policía Nacional, en colaboración con la policía marroquí, ha desarticulado una \"importante y peligrosa\" célula del Estado Islámico (ISIS, en sus siglas en inglés) que pretendía impulsar atentados yihadistas en España y en otros países de Europa: \"Tenía como objetivo materializar la estrategia de la organización terrorista en occidente\", aseguran fuentes de la investigación, que aseguran que estaban en contacto con yihadistas ubicados en Siria. Los agentes de la Comisaría General de Información (CGI) y los de la Dirección General de Vigilancia del Territorio del Reino de Marruecos (DGST) han detenido en total a cinco personas, dos en España, en las localidades de Lorca (Murcia) y Abadiño (Bizkaia); y otras tres en Marruecos, que integraban la red de la organización terrorista.'"
            ]
          },
          "metadata": {
            "tags": []
          },
          "execution_count": 32
        }
      ]
    },
    {
      "cell_type": "code",
      "metadata": {
        "id": "fancy-track"
      },
      "source": [
        "doc = nlp(texto)"
      ],
      "id": "fancy-track",
      "execution_count": null,
      "outputs": []
    },
    {
      "cell_type": "code",
      "metadata": {
        "id": "jewish-serial",
        "outputId": "303cb8c7-f21e-4271-9dd5-e0438b6c89a6"
      },
      "source": [
        "len(doc)"
      ],
      "id": "jewish-serial",
      "execution_count": null,
      "outputs": [
        {
          "output_type": "execute_result",
          "data": {
            "text/plain": [
              "148"
            ]
          },
          "metadata": {
            "tags": []
          },
          "execution_count": 34
        }
      ]
    },
    {
      "cell_type": "code",
      "metadata": {
        "id": "amazing-welding"
      },
      "source": [
        "from textacy.extract import keyterms as kt\n",
        "#https://textacy.readthedocs.io/en/latest/api_reference/extract.html#keyterms"
      ],
      "id": "amazing-welding",
      "execution_count": null,
      "outputs": []
    },
    {
      "cell_type": "code",
      "metadata": {
        "id": "provincial-restriction",
        "outputId": "4d0143ea-04cd-4573-fea2-57e3674f543c"
      },
      "source": [
        "kt.textrank(doc, normalize=\"lemma\", topn=10)"
      ],
      "id": "provincial-restriction",
      "execution_count": null,
      "outputs": [
        {
          "output_type": "execute_result",
          "data": {
            "text/plain": [
              "[('atentado yihadista', 0.024277581688875352),\n",
              " ('yihadista ubicado', 0.022993375155304988),\n",
              " ('organización terrorista', 0.019293287969168793),\n",
              " ('policía marroquí', 0.01655092427910999),\n",
              " ('Policía Nacional', 0.01655092427910999),\n",
              " ('Marruecos', 0.013426001804612698),\n",
              " ('España', 0.010335310756957202),\n",
              " ('objetivo', 0.010071860790802918),\n",
              " ('persona', 0.008953298332459406),\n",
              " ('Islámico', 0.008799611873242349)]"
            ]
          },
          "metadata": {
            "tags": []
          },
          "execution_count": 36
        }
      ]
    },
    {
      "cell_type": "code",
      "metadata": {
        "id": "foreign-jacob",
        "outputId": "a49459c7-1154-4f1b-9345-8cfcc36648ba"
      },
      "source": [
        "kt.textrank(doc, normalize=\"lower\", topn=10)"
      ],
      "id": "foreign-jacob",
      "execution_count": null,
      "outputs": [
        {
          "output_type": "execute_result",
          "data": {
            "text/plain": [
              "[('atentados yihadistas', 0.023920483241090973),\n",
              " ('yihadistas ubicados', 0.022783778625400142),\n",
              " ('policía nacional', 0.019458089819428884),\n",
              " ('policía marroquí', 0.019458089819428884),\n",
              " ('organización terrorista', 0.01927156573993427),\n",
              " ('marruecos', 0.013310520633285614),\n",
              " ('españa', 0.010349544701617894),\n",
              " ('objetivo', 0.009858232010108544),\n",
              " ('personas', 0.008780788680023245),\n",
              " ('islámico', 0.008563872991708348)]"
            ]
          },
          "metadata": {
            "tags": []
          },
          "execution_count": 37
        }
      ]
    },
    {
      "cell_type": "code",
      "metadata": {
        "id": "blessed-automation",
        "outputId": "23216985-2e78-4936-da98-a78c61be3b29"
      },
      "source": [
        "kt.sgrank(doc, normalize=\"lower\", topn=0.1)"
      ],
      "id": "blessed-automation",
      "execution_count": null,
      "outputs": [
        {
          "output_type": "execute_result",
          "data": {
            "text/plain": [
              "[('organización terrorista', 0.460942936743379),\n",
              " ('yihadistas ubicados', 0.19821659390486374),\n",
              " ('policía marroquí', 0.04730287324545998),\n",
              " ('atentados yihadistas', 0.046543802059051204),\n",
              " ('policía nacional', 0.037396076179293546)]"
            ]
          },
          "metadata": {
            "tags": []
          },
          "execution_count": 38
        }
      ]
    },
    {
      "cell_type": "code",
      "metadata": {
        "id": "mental-newfoundland",
        "outputId": "2f641eea-c51d-4444-c033-17d41c9601c5"
      },
      "source": [
        "#con un texto más largo\n",
        "with open('cañas y barro.txt', 'r') as f:\n",
        "    texto = f.read()"
      ],
      "id": "mental-newfoundland",
      "execution_count": null,
      "outputs": [
        {
          "output_type": "error",
          "ename": "FileNotFoundError",
          "evalue": "[Errno 2] No such file or directory: 'cañas y barro.txt'",
          "traceback": [
            "\u001b[0;31m---------------------------------------------------------------------------\u001b[0m",
            "\u001b[0;31mFileNotFoundError\u001b[0m                         Traceback (most recent call last)",
            "\u001b[0;32m<ipython-input-39-1adbf6546eab>\u001b[0m in \u001b[0;36m<module>\u001b[0;34m\u001b[0m\n\u001b[1;32m      1\u001b[0m \u001b[0;31m#con un texto más largo\u001b[0m\u001b[0;34m\u001b[0m\u001b[0;34m\u001b[0m\u001b[0;34m\u001b[0m\u001b[0m\n\u001b[0;32m----> 2\u001b[0;31m \u001b[0;32mwith\u001b[0m \u001b[0mopen\u001b[0m\u001b[0;34m(\u001b[0m\u001b[0;34m'cañas y barro.txt'\u001b[0m\u001b[0;34m,\u001b[0m \u001b[0;34m'r'\u001b[0m\u001b[0;34m)\u001b[0m \u001b[0;32mas\u001b[0m \u001b[0mf\u001b[0m\u001b[0;34m:\u001b[0m\u001b[0;34m\u001b[0m\u001b[0;34m\u001b[0m\u001b[0m\n\u001b[0m\u001b[1;32m      3\u001b[0m     \u001b[0mtexto\u001b[0m \u001b[0;34m=\u001b[0m \u001b[0mf\u001b[0m\u001b[0;34m.\u001b[0m\u001b[0mread\u001b[0m\u001b[0;34m(\u001b[0m\u001b[0;34m)\u001b[0m\u001b[0;34m\u001b[0m\u001b[0;34m\u001b[0m\u001b[0m\n",
            "\u001b[0;31mFileNotFoundError\u001b[0m: [Errno 2] No such file or directory: 'cañas y barro.txt'"
          ]
        }
      ]
    },
    {
      "cell_type": "code",
      "metadata": {
        "id": "structured-greeting"
      },
      "source": [
        "doc = nlp(texto)"
      ],
      "id": "structured-greeting",
      "execution_count": null,
      "outputs": []
    },
    {
      "cell_type": "code",
      "metadata": {
        "id": "every-thirty"
      },
      "source": [
        "kt.sgrank(doc, normalize=\"lower\", topn=10)"
      ],
      "id": "every-thirty",
      "execution_count": null,
      "outputs": []
    },
    {
      "cell_type": "code",
      "metadata": {
        "id": "juvenile-candy"
      },
      "source": [
        ""
      ],
      "id": "juvenile-candy",
      "execution_count": null,
      "outputs": []
    }
  ]
}