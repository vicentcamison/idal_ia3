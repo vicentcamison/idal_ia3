{
  "nbformat": 4,
  "nbformat_minor": 5,
  "metadata": {
    "kernelspec": {
      "display_name": "Python 3",
      "language": "python",
      "name": "python3"
    },
    "language_info": {
      "codemirror_mode": {
        "name": "ipython",
        "version": 3
      },
      "file_extension": ".py",
      "mimetype": "text/x-python",
      "name": "python",
      "nbconvert_exporter": "python",
      "pygments_lexer": "ipython3",
      "version": "3.8.5"
    },
    "colab": {
      "name": "NLP_06a-Extracción de características básicas.ipynb",
      "provenance": [],
      "include_colab_link": true
    }
  },
  "cells": [
    {
      "cell_type": "markdown",
      "metadata": {
        "id": "view-in-github",
        "colab_type": "text"
      },
      "source": [
        "<a href=\"https://colab.research.google.com/github/vicentcamison/idal_ia3/blob/main/5%20Procesado%20del%20lenguaje%20natural/Sesion%202/NLP_06a_Extraccio%CC%81n_de_caracteri%CC%81sticas_ba%CC%81sicas.ipynb\" target=\"_parent\"><img src=\"https://colab.research.google.com/assets/colab-badge.svg\" alt=\"Open In Colab\"/></a>"
      ]
    },
    {
      "cell_type": "markdown",
      "metadata": {
        "id": "sacred-spectrum"
      },
      "source": [
        "# Extracción de características básicas\n",
        "Vemos distintas métricas y características que podemos extraer del texto.\\\n",
        "Usamos la librería `textacy` sobre `spaCy` (https://textacy.readthedocs.io/en/latest/). \\\n",
        "Instalamos con:\n",
        "```\n",
        "conda install -c conda-forge textacy\n",
        "```\n",
        "## Estadísticos básicos del texto\n",
        "Podemos extraer alguna información estadística de cada documento completo con la clase `textacy.text_stats.api.TextStats` de `textaCy` (https://textacy.readthedocs.io/en/latest/api_reference/text_stats.html)"
      ],
      "id": "sacred-spectrum"
    },
    {
      "cell_type": "code",
      "metadata": {
        "id": "reflected-harbor"
      },
      "source": [
        "import spacy\n",
        "import textacy"
      ],
      "id": "reflected-harbor",
      "execution_count": null,
      "outputs": []
    },
    {
      "cell_type": "code",
      "metadata": {
        "id": "north-tours"
      },
      "source": [
        "nlp = spacy.load('es_core_news_sm')"
      ],
      "id": "north-tours",
      "execution_count": null,
      "outputs": []
    },
    {
      "cell_type": "code",
      "metadata": {
        "id": "equal-omaha",
        "outputId": "71018df8-f4ef-4bf0-832f-3a8d6d7615f5"
      },
      "source": [
        "with open('articulo.txt', 'r') as f:\n",
        "    texto = f.read()\n",
        "texto"
      ],
      "id": "equal-omaha",
      "execution_count": null,
      "outputs": [
        {
          "output_type": "execute_result",
          "data": {
            "text/plain": [
              "'La Policía Nacional, en colaboración con la policía marroquí, ha desarticulado una \"importante y peligrosa\" célula del Estado Islámico (ISIS, en sus siglas en inglés) que pretendía impulsar atentados yihadistas en España y en otros países de Europa: \"Tenía como objetivo materializar la estrategia de la organización terrorista en occidente\", aseguran fuentes de la investigación, que aseguran que estaban en contacto con yihadistas ubicados en Siria. Los agentes de la Comisaría General de Información (CGI) y los de la Dirección General de Vigilancia del Territorio del Reino de Marruecos (DGST) han detenido en total a cinco personas, dos en España, en las localidades de Lorca (Murcia) y Abadiño (Bizkaia); y otras tres en Marruecos, que integraban la red de la organización terrorista.'"
            ]
          },
          "metadata": {
            "tags": []
          },
          "execution_count": 3
        }
      ]
    },
    {
      "cell_type": "code",
      "metadata": {
        "id": "incorporated-funds",
        "outputId": "2559c7f8-b262-4ea0-b9ae-8529b7db331e"
      },
      "source": [
        "doc = nlp(texto)\n",
        "len(doc)"
      ],
      "id": "incorporated-funds",
      "execution_count": null,
      "outputs": [
        {
          "output_type": "execute_result",
          "data": {
            "text/plain": [
              "148"
            ]
          },
          "metadata": {
            "tags": []
          },
          "execution_count": 4
        }
      ]
    },
    {
      "cell_type": "code",
      "metadata": {
        "id": "technical-karaoke"
      },
      "source": [
        "from textacy import text_stats\n",
        "ts = text_stats.api.TextStats(doc)"
      ],
      "id": "technical-karaoke",
      "execution_count": null,
      "outputs": []
    },
    {
      "cell_type": "code",
      "metadata": {
        "id": "occupied-definition",
        "outputId": "3071e330-6183-42cf-a1a2-02275d934e9e"
      },
      "source": [
        "#el objeto ts contiene múltiples descriptores del texto\n",
        "dir(ts)"
      ],
      "id": "occupied-definition",
      "execution_count": null,
      "outputs": [
        {
          "output_type": "execute_result",
          "data": {
            "text/plain": [
              "['__class__',\n",
              " '__delattr__',\n",
              " '__dict__',\n",
              " '__dir__',\n",
              " '__doc__',\n",
              " '__eq__',\n",
              " '__format__',\n",
              " '__ge__',\n",
              " '__getattribute__',\n",
              " '__gt__',\n",
              " '__hash__',\n",
              " '__init__',\n",
              " '__init_subclass__',\n",
              " '__le__',\n",
              " '__lt__',\n",
              " '__module__',\n",
              " '__ne__',\n",
              " '__new__',\n",
              " '__reduce__',\n",
              " '__reduce_ex__',\n",
              " '__repr__',\n",
              " '__setattr__',\n",
              " '__sizeof__',\n",
              " '__str__',\n",
              " '__subclasshook__',\n",
              " '__weakref__',\n",
              " '_entropy',\n",
              " '_n_chars',\n",
              " '_n_chars_per_word',\n",
              " '_n_long_words',\n",
              " '_n_monosyllable_words',\n",
              " '_n_polysyllable_words',\n",
              " '_n_sents',\n",
              " '_n_syllables',\n",
              " '_n_syllables_per_word',\n",
              " '_n_unique_words',\n",
              " '_n_words',\n",
              " 'automated_readability_index',\n",
              " 'automatic_arabic_readability_index',\n",
              " 'coleman_liau_index',\n",
              " 'doc',\n",
              " 'entropy',\n",
              " 'flesch_kincaid_grade_level',\n",
              " 'flesch_reading_ease',\n",
              " 'gulpease_index',\n",
              " 'gunning_fog_index',\n",
              " 'lang',\n",
              " 'lix',\n",
              " 'mu_legibility_index',\n",
              " 'n_chars',\n",
              " 'n_chars_per_word',\n",
              " 'n_long_words',\n",
              " 'n_monosyllable_words',\n",
              " 'n_polysyllable_words',\n",
              " 'n_sents',\n",
              " 'n_syllables',\n",
              " 'n_syllables_per_word',\n",
              " 'n_unique_words',\n",
              " 'n_words',\n",
              " 'perspicuity_index',\n",
              " 'smog_index',\n",
              " 'wiener_sachtextformel',\n",
              " 'words']"
            ]
          },
          "metadata": {
            "tags": []
          },
          "execution_count": 6
        }
      ]
    },
    {
      "cell_type": "code",
      "metadata": {
        "id": "natural-spelling",
        "outputId": "e5197deb-a86d-4543-ab1f-2d1760484b2d"
      },
      "source": [
        "ts.lang"
      ],
      "id": "natural-spelling",
      "execution_count": null,
      "outputs": [
        {
          "output_type": "execute_result",
          "data": {
            "text/plain": [
              "'es'"
            ]
          },
          "metadata": {
            "tags": []
          },
          "execution_count": 7
        }
      ]
    },
    {
      "cell_type": "code",
      "metadata": {
        "id": "general-formula",
        "outputId": "bdf3644d-ff13-41a0-b757-0a01cac6781d"
      },
      "source": [
        "ts.n_unique_words"
      ],
      "id": "general-formula",
      "execution_count": null,
      "outputs": [
        {
          "output_type": "execute_result",
          "data": {
            "text/plain": [
              "75"
            ]
          },
          "metadata": {
            "tags": []
          },
          "execution_count": 8
        }
      ]
    },
    {
      "cell_type": "code",
      "metadata": {
        "id": "short-monitoring",
        "outputId": "5e8de2cc-468a-432d-81af-0ec09d8707b7"
      },
      "source": [
        "ts.entropy"
      ],
      "id": "short-monitoring",
      "execution_count": null,
      "outputs": [
        {
          "output_type": "execute_result",
          "data": {
            "text/plain": [
              "5.778250788922503"
            ]
          },
          "metadata": {
            "tags": []
          },
          "execution_count": 9
        }
      ]
    },
    {
      "cell_type": "markdown",
      "metadata": {
        "id": "liberal-sleep"
      },
      "source": [
        "Hay varios índices de la legibilidad del texto:"
      ],
      "id": "liberal-sleep"
    },
    {
      "cell_type": "code",
      "metadata": {
        "id": "structural-faculty",
        "outputId": "c15cd837-8bc9-4ff5-e939-8499ecddad80"
      },
      "source": [
        "ts.gunning_fog_index"
      ],
      "id": "structural-faculty",
      "execution_count": null,
      "outputs": [
        {
          "output_type": "execute_result",
          "data": {
            "text/plain": [
              "39.80983606557377"
            ]
          },
          "metadata": {
            "tags": []
          },
          "execution_count": 10
        }
      ]
    },
    {
      "cell_type": "markdown",
      "metadata": {
        "id": "reasonable-shopping"
      },
      "source": [
        "Algunos son específicos para textos en español:"
      ],
      "id": "reasonable-shopping"
    },
    {
      "cell_type": "code",
      "metadata": {
        "id": "unlikely-right",
        "outputId": "e4a5e738-cc29-4cdf-ddba-5237236819f5"
      },
      "source": [
        "ts.perspicuity_index"
      ],
      "id": "unlikely-right",
      "execution_count": null,
      "outputs": [
        {
          "output_type": "execute_result",
          "data": {
            "text/plain": [
              "14.08581967213118"
            ]
          },
          "metadata": {
            "tags": []
          },
          "execution_count": 11
        }
      ]
    },
    {
      "cell_type": "code",
      "metadata": {
        "id": "weekly-ensemble",
        "outputId": "cc96b090-721f-4954-ce72-64928912ca37"
      },
      "source": [
        "ts.mu_legibility_index"
      ],
      "id": "weekly-ensemble",
      "execution_count": null,
      "outputs": [
        {
          "output_type": "execute_result",
          "data": {
            "text/plain": [
              "47.83963604651872"
            ]
          },
          "metadata": {
            "tags": []
          },
          "execution_count": 12
        }
      ]
    },
    {
      "cell_type": "markdown",
      "metadata": {
        "id": "static-virgin"
      },
      "source": [
        "también se puede calcular específicamente alguno de estos parámetros con su función correspondiente:"
      ],
      "id": "static-virgin"
    },
    {
      "cell_type": "code",
      "metadata": {
        "id": "guilty-ensemble",
        "outputId": "24ca7ade-5c15-4080-fc4e-54b4269c620e"
      },
      "source": [
        "text_stats.basics.n_unique_words(doc)"
      ],
      "id": "guilty-ensemble",
      "execution_count": null,
      "outputs": [
        {
          "output_type": "execute_result",
          "data": {
            "text/plain": [
              "75"
            ]
          },
          "metadata": {
            "tags": []
          },
          "execution_count": 13
        }
      ]
    },
    {
      "cell_type": "markdown",
      "metadata": {
        "id": "accurate-progress"
      },
      "source": [
        "Para calcular el nº de emojis, hashtags, etc. del texto podemos usar expresiones regulares o la función `replace` de la librería `textaCy` para detectar y contar estos elementos. (https://textacy.readthedocs.io/en/latest/api_reference/preprocessing.html)"
      ],
      "id": "accurate-progress"
    },
    {
      "cell_type": "code",
      "metadata": {
        "id": "weird-footage",
        "outputId": "2e642cbd-1f01-4a54-9151-16fbc5bc8965"
      },
      "source": [
        "from textacy import preprocessing\n",
        "preproc = preprocessing.make_pipeline(\n",
        "     preprocessing.replace.hashtags,\n",
        "    preprocessing.replace.user_handles,\n",
        "    preprocessing.replace.emojis,\n",
        "    )\n",
        "\n",
        "texto = preproc(\"@spacy_io is OSS for industrial-strength NLP in #Python developed by @explosion_ai 💥 😀\")\n",
        "texto"
      ],
      "id": "weird-footage",
      "execution_count": null,
      "outputs": [
        {
          "output_type": "execute_result",
          "data": {
            "text/plain": [
              "'_USER_ is OSS for industrial-strength NLP in _TAG_ developed by _USER_ _EMOJI_ _EMOJI_'"
            ]
          },
          "metadata": {
            "tags": []
          },
          "execution_count": 14
        }
      ]
    },
    {
      "cell_type": "code",
      "metadata": {
        "id": "rolled-casino",
        "outputId": "f88608c3-5134-400f-c30c-7b881ad9c9ef"
      },
      "source": [
        "import re\n",
        "#menciones\n",
        "len(re.findall(\"_USER_\", texto))"
      ],
      "id": "rolled-casino",
      "execution_count": null,
      "outputs": [
        {
          "output_type": "execute_result",
          "data": {
            "text/plain": [
              "2"
            ]
          },
          "metadata": {
            "tags": []
          },
          "execution_count": 15
        }
      ]
    },
    {
      "cell_type": "code",
      "metadata": {
        "id": "modern-potential",
        "outputId": "ea63969a-4ab3-4e21-89a6-e56bcad15066"
      },
      "source": [
        "#Emojis\n",
        "len(re.findall(\"_EMOJI_\", texto))"
      ],
      "id": "modern-potential",
      "execution_count": null,
      "outputs": [
        {
          "output_type": "execute_result",
          "data": {
            "text/plain": [
              "2"
            ]
          },
          "metadata": {
            "tags": []
          },
          "execution_count": 16
        }
      ]
    },
    {
      "cell_type": "markdown",
      "metadata": {
        "id": "challenging-jenny"
      },
      "source": [
        "### Ejercicio\n",
        "Cuenta el nº de hashtags en el texto"
      ],
      "id": "challenging-jenny"
    },
    {
      "cell_type": "code",
      "metadata": {
        "id": "bibliographic-moldova",
        "outputId": "bcef95d0-3631-4d66-a126-d53f71f574d8"
      },
      "source": [
        "len(re.findall(\"_TAG_\", texto))"
      ],
      "id": "bibliographic-moldova",
      "execution_count": null,
      "outputs": [
        {
          "output_type": "execute_result",
          "data": {
            "text/plain": [
              "1"
            ]
          },
          "metadata": {
            "tags": []
          },
          "execution_count": 17
        }
      ]
    }
  ]
}