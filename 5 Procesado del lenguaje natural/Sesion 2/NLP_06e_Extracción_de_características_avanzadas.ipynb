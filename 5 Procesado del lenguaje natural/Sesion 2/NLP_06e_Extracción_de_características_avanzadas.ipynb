{
  "nbformat": 4,
  "nbformat_minor": 5,
  "metadata": {
    "kernelspec": {
      "display_name": "Python 3",
      "language": "python",
      "name": "python3"
    },
    "language_info": {
      "codemirror_mode": {
        "name": "ipython",
        "version": 3
      },
      "file_extension": ".py",
      "mimetype": "text/x-python",
      "name": "python",
      "nbconvert_exporter": "python",
      "pygments_lexer": "ipython3",
      "version": "3.8.8"
    },
    "colab": {
      "name": "NLP_06e-Extracción de características avanzadas.ipynb",
      "provenance": [],
      "include_colab_link": true
    }
  },
  "cells": [
    {
      "cell_type": "markdown",
      "metadata": {
        "id": "view-in-github",
        "colab_type": "text"
      },
      "source": [
        "<a href=\"https://colab.research.google.com/github/vicentcamison/idal_ia3/blob/main/5%20Procesado%20del%20lenguaje%20natural/Sesion%202/NLP_06e_Extraccio%CC%81n_de_caracteri%CC%81sticas_avanzadas.ipynb\" target=\"_parent\"><img src=\"https://colab.research.google.com/assets/colab-badge.svg\" alt=\"Open In Colab\"/></a>"
      ]
    },
    {
      "cell_type": "markdown",
      "metadata": {
        "id": "critical-activation"
      },
      "source": [
        "# Extracción de características avanzadas\n",
        "Aquí vamos a utilizar los datos generados mediante el pre-procesado de los textos medante librerías de NLP para sacar características avanzadas (a nivel de documento).\n",
        "\n",
        "## Detección de entidades\n",
        "El Reconocimiento de entidades nombradas (NER, *Named Entity Recognition*) es una tarea de extracción de información que busca localizar y clasificar en categorías predefinidas, como personas, organizaciones, lugares, expresiones de tiempo y cantidades, las entidades nombradas encontradas en un texto.\\\n",
        "La librería `spaCy` identifica ciertas entidades propias que aparecen en el texto. Podemos acceder a las entidades de un documento a través de su atributo `doc.ents`."
      ],
      "id": "critical-activation"
    },
    {
      "cell_type": "code",
      "metadata": {
        "id": "swiss-outline"
      },
      "source": [
        "import spacy\n",
        "from spacy import displacy\n",
        "\n",
        "nlp = spacy.load(\"es_core_news_sm\")"
      ],
      "id": "swiss-outline",
      "execution_count": null,
      "outputs": []
    },
    {
      "cell_type": "code",
      "metadata": {
        "id": "satisfied-proposal"
      },
      "source": [
        "doc = nlp(\"El gran escritor Miguel de Cervantes nació en Alcalá de Henares\")"
      ],
      "id": "satisfied-proposal",
      "execution_count": null,
      "outputs": []
    },
    {
      "cell_type": "code",
      "metadata": {
        "id": "alleged-childhood"
      },
      "source": [
        "entidades = [e for e in doc.ents]\n",
        "entidades"
      ],
      "id": "alleged-childhood",
      "execution_count": null,
      "outputs": []
    },
    {
      "cell_type": "markdown",
      "metadata": {
        "id": "public-shape"
      },
      "source": [
        "Podemos ver visualmente las entidades detectadas:"
      ],
      "id": "public-shape"
    },
    {
      "cell_type": "code",
      "metadata": {
        "id": "passive-spell"
      },
      "source": [
        "displacy.render(doc, style='ent', jupyter=True)"
      ],
      "id": "passive-spell",
      "execution_count": null,
      "outputs": []
    },
    {
      "cell_type": "markdown",
      "metadata": {
        "id": "adjusted-kitchen"
      },
      "source": [
        "Internamente, cada entidad se trata en `spaCy` como un *span* del texto. Este *span* viene definido por una marca en los *tokens* del objeto `Doc` siguiendo el esquema BIO (Begin, In, Out) y su etiqueta."
      ],
      "id": "adjusted-kitchen"
    },
    {
      "cell_type": "code",
      "metadata": {
        "id": "political-polish"
      },
      "source": [
        "type(entidades[0])"
      ],
      "id": "political-polish",
      "execution_count": null,
      "outputs": []
    },
    {
      "cell_type": "code",
      "metadata": {
        "id": "frequent-dubai"
      },
      "source": [
        "datos = map(lambda t: {'token': t.orth_,\n",
        "                       'POS': t.pos_,\n",
        "                       'ent_iob': t.ent_iob_,\n",
        "                       'ent_type': t.ent_type_\n",
        "                      }, doc)\n",
        "\n",
        "pd.DataFrame(datos)"
      ],
      "id": "frequent-dubai",
      "execution_count": null,
      "outputs": []
    },
    {
      "cell_type": "markdown",
      "metadata": {
        "id": "cosmetic-partition"
      },
      "source": [
        "Podemos contar las entidades del texto como una característica descriptiva del mismo:"
      ],
      "id": "cosmetic-partition"
    },
    {
      "cell_type": "code",
      "metadata": {
        "id": "bottom-forge"
      },
      "source": [
        "text_raw = open('cañas y barro.txt', encoding=\"utf8\").read()\n",
        "libro = nlp(text_raw)"
      ],
      "id": "bottom-forge",
      "execution_count": null,
      "outputs": []
    },
    {
      "cell_type": "code",
      "metadata": {
        "id": "awful-architecture"
      },
      "source": [
        "len(libro)"
      ],
      "id": "awful-architecture",
      "execution_count": null,
      "outputs": []
    },
    {
      "cell_type": "code",
      "metadata": {
        "id": "offshore-belize"
      },
      "source": [
        "len(libro.ents)"
      ],
      "id": "offshore-belize",
      "execution_count": null,
      "outputs": []
    },
    {
      "cell_type": "markdown",
      "metadata": {
        "id": "julian-ministry"
      },
      "source": [
        "Estos son los distintos tipos de entidades que aparecen en el libro:  "
      ],
      "id": "julian-ministry"
    },
    {
      "cell_type": "code",
      "metadata": {
        "id": "disabled-arizona"
      },
      "source": [
        "{w.label_:spacy.explain(w.label_) for w in libro.ents}"
      ],
      "id": "disabled-arizona",
      "execution_count": null,
      "outputs": []
    },
    {
      "cell_type": "code",
      "metadata": {
        "id": "english-weekend"
      },
      "source": [
        "from collections import Counter\n",
        "Counter([e.label_ for e in libro.ents]).most_common()"
      ],
      "id": "english-weekend",
      "execution_count": null,
      "outputs": []
    },
    {
      "cell_type": "markdown",
      "metadata": {
        "id": "czech-developer"
      },
      "source": [
        "Se puede hacer un filtrado/limpieza de las entidades detectadas con la librería `textaCy` (https://textacy.readthedocs.io/en/latest/api_reference/extract.html#textacy.extract.basics.entities)"
      ],
      "id": "czech-developer"
    },
    {
      "cell_type": "code",
      "metadata": {
        "id": "lined-annex"
      },
      "source": [
        "from textacy import extract\n",
        "\n",
        "entidades = extract.basics.entities(libro, exclude_types=\"MISC\")"
      ],
      "id": "lined-annex",
      "execution_count": null,
      "outputs": []
    },
    {
      "cell_type": "code",
      "metadata": {
        "id": "pursuant-corruption"
      },
      "source": [
        "type(entidades)"
      ],
      "id": "pursuant-corruption",
      "execution_count": null,
      "outputs": []
    },
    {
      "cell_type": "markdown",
      "metadata": {
        "id": "activated-negotiation"
      },
      "source": [
        "### Ejercicio 1\n",
        "Cuenta las entidades de cada tipo que se han detectado después del filtrado:"
      ],
      "id": "activated-negotiation"
    },
    {
      "cell_type": "code",
      "metadata": {
        "id": "premium-hudson"
      },
      "source": [
        ""
      ],
      "id": "premium-hudson",
      "execution_count": null,
      "outputs": []
    },
    {
      "cell_type": "markdown",
      "metadata": {
        "id": "comparative-interference"
      },
      "source": [
        "### Ejercicio 2\n",
        "Lista las 10 entidades de tipo `PER` más frecuentes que aparecen en la novela:"
      ],
      "id": "comparative-interference"
    },
    {
      "cell_type": "code",
      "metadata": {
        "id": "upset-prophet"
      },
      "source": [
        ""
      ],
      "id": "upset-prophet",
      "execution_count": null,
      "outputs": []
    },
    {
      "cell_type": "markdown",
      "metadata": {
        "id": "lasting-error"
      },
      "source": [
        "Se puede utilizar el análisis de dependencias, el análisis morfológico (POS) y la detección de entidades para extraer ciertos términos del texto.\\\n",
        "Por ejemplo, vamos a extraer los adjetivos más utilizados por Blasco Ibáñez para describir cada personaje. Para eso, hacemos un barrido de todas las frases en las que aparece el personaje y buscamos los tokens de tipo `adj` que dependen gramaticalmente de la entidad propia del personaje."
      ],
      "id": "lasting-error"
    },
    {
      "cell_type": "code",
      "metadata": {
        "id": "designed-cholesterol"
      },
      "source": [
        "def adjectivesDescribingCharacters(text, character):\n",
        "    sents = [sent for sent in text.sents if character in sent.text]\n",
        "    adjectives = []\n",
        "    for sent in sents: \n",
        "        for word in sent: \n",
        "            if character in word.text:\n",
        "                for child in word.children: \n",
        "                    if child.pos_ == 'ADJ': \n",
        "                        adjectives.append(child.text.strip())\n",
        "    return Counter(adjectives).most_common(10)"
      ],
      "id": "designed-cholesterol",
      "execution_count": null,
      "outputs": []
    },
    {
      "cell_type": "code",
      "metadata": {
        "id": "perceived-surname"
      },
      "source": [
        "adjectivesDescribingCharacters(libro, \"Tonet\")"
      ],
      "id": "perceived-surname",
      "execution_count": null,
      "outputs": []
    },
    {
      "cell_type": "markdown",
      "metadata": {
        "id": "industrial-suicide"
      },
      "source": [
        "## Extracción de palabras clave\n",
        "Se puede obtener un listado de las palabras más importantes de un documento. Usos:\n",
        "- Creación de índices para una búsqueda de documentos\n",
        "- Clasificación (*clustering*) no supervisado de documentos\n",
        "- Recomendadores\n",
        "- Generación automática de resúmenes de texto\\\n",
        "\n",
        "La librería `textaCy` ofrece distintos algoritmos de extracción de palabras clave: https://textacy.readthedocs.io/en/latest/api_reference/extract.html#module-textacy.extract.keyterms"
      ],
      "id": "industrial-suicide"
    },
    {
      "cell_type": "code",
      "metadata": {
        "id": "appreciated-robertson"
      },
      "source": [
        "with open('articulo.txt', 'r') as f:\n",
        "    texto = f.read()"
      ],
      "id": "appreciated-robertson",
      "execution_count": null,
      "outputs": []
    },
    {
      "cell_type": "code",
      "metadata": {
        "id": "pediatric-british"
      },
      "source": [
        "texto"
      ],
      "id": "pediatric-british",
      "execution_count": null,
      "outputs": []
    },
    {
      "cell_type": "code",
      "metadata": {
        "id": "organizational-pavilion"
      },
      "source": [
        "doc = nlp(texto)\n",
        "len(doc)"
      ],
      "id": "organizational-pavilion",
      "execution_count": null,
      "outputs": []
    },
    {
      "cell_type": "code",
      "metadata": {
        "id": "pretty-consumption"
      },
      "source": [
        "from textacy.extract import keyterms as kt\n",
        "\n",
        "kt.textrank(doc, normalize=\"lemma\", topn=10)"
      ],
      "id": "pretty-consumption",
      "execution_count": null,
      "outputs": []
    },
    {
      "cell_type": "code",
      "metadata": {
        "id": "infrared-correspondence"
      },
      "source": [
        "kt.sgrank(doc, normalize=\"lower\", topn=0.1)"
      ],
      "id": "infrared-correspondence",
      "execution_count": null,
      "outputs": []
    },
    {
      "cell_type": "code",
      "metadata": {
        "id": "surrounded-architecture"
      },
      "source": [
        ""
      ],
      "id": "surrounded-architecture",
      "execution_count": null,
      "outputs": []
    }
  ]
}