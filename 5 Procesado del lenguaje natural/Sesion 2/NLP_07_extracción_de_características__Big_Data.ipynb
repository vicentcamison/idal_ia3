{
  "nbformat": 4,
  "nbformat_minor": 5,
  "metadata": {
    "kernelspec": {
      "display_name": "Python 3",
      "language": "python",
      "name": "python3"
    },
    "language_info": {
      "codemirror_mode": {
        "name": "ipython",
        "version": 3
      },
      "file_extension": ".py",
      "mimetype": "text/x-python",
      "name": "python",
      "nbconvert_exporter": "python",
      "pygments_lexer": "ipython3",
      "version": "3.8.5"
    },
    "colab": {
      "name": "NLP_07-extracción de características Big Data.ipynb",
      "provenance": [],
      "include_colab_link": true
    }
  },
  "cells": [
    {
      "cell_type": "markdown",
      "metadata": {
        "id": "view-in-github",
        "colab_type": "text"
      },
      "source": [
        "<a href=\"https://colab.research.google.com/github/vicentcamison/idal_ia3/blob/main/5%20Procesado%20del%20lenguaje%20natural/Sesion%202/NLP_07_extraccio%CC%81n_de_caracteri%CC%81sticas__Big_Data.ipynb\" target=\"_parent\"><img src=\"https://colab.research.google.com/assets/colab-badge.svg\" alt=\"Open In Colab\"/></a>"
      ]
    },
    {
      "cell_type": "markdown",
      "metadata": {
        "id": "persistent-shopper"
      },
      "source": [
        "# Extracción de características en grandes volúmenes de datos\n",
        "Para extraer las características de un corpus muy grande de textos, conviene procesarlo mediante objetos *stream*. Así no se carga todo el corpus en memoria sino que se analiza documento a documento."
      ],
      "id": "persistent-shopper"
    },
    {
      "cell_type": "markdown",
      "metadata": {
        "id": "registered-thanks"
      },
      "source": [
        "## Conjunto de textos de \"mundocine\"\n",
        "Vamos a utilizar un conjunto de datos formado por una serie de críticas de películas de cine, almacenadas en formato XML en el directorio `'criticas'` (una crítica por archivo). Hemos preparado una función de tipo `generator` que procesa el directorio donde están los archivos de las críticas y devuelve por cada archivo XML una tupla con 4 valores: \n",
        " - Nombre de la película (*string*)\n",
        " - Resumen breve de la crítica (*string*)\n",
        " - Texto de la crítica (*string*)\n",
        " - Valoración de la película (*int* de 1 a 5)"
      ],
      "id": "registered-thanks"
    },
    {
      "cell_type": "code",
      "metadata": {
        "id": "efficient-maker"
      },
      "source": [
        "import os, re\n",
        "from xml.dom.minidom import parseString\n",
        "\n",
        "def parse_folder(path):\n",
        "    \"\"\"generator that reads the contents of XML files in a folder\n",
        "    Returns the <body> of the <review> in each XML file.\n",
        "    XML files encoded as 'latin-1'\"\"\"\n",
        "    for file in sorted([f for f in os.listdir(path) if f.endswith('.xml')],\n",
        "                        key=lambda x: int(re.match(r'\\d+',x).group())):\n",
        "        with open(os.path.join(path, file), encoding='latin-1') as f:\n",
        "            doc=parseString(re.sub(r'(<>)|&|(<-)', '', f.read()))\n",
        "\n",
        "            titulo = doc.documentElement.attributes[\"title\"].value\n",
        "\n",
        "            btxt = \"\"\n",
        "            review_bod = doc.getElementsByTagName(\"body\")\n",
        "            if len(review_bod) > 0:\n",
        "                for node in review_bod[0].childNodes:\n",
        "                    if node.nodeType == node.TEXT_NODE:\n",
        "                        btxt += node.data + \" \"\n",
        "\n",
        "            rtxt = \"\"\n",
        "            review_summ = doc.getElementsByTagName(\"summary\")\n",
        "            if len(review_summ) > 0:\n",
        "                for node in review_summ[0].childNodes:\n",
        "                    if node.nodeType == node.TEXT_NODE:\n",
        "                        rtxt += node.data + \" \"\n",
        "                        \n",
        "            rank = int(doc.documentElement.attributes[\"rank\"].value)\n",
        "            \n",
        "            yield titulo, rtxt, btxt, rank\n"
      ],
      "id": "efficient-maker",
      "execution_count": null,
      "outputs": []
    },
    {
      "cell_type": "markdown",
      "metadata": {
        "id": "jewish-position"
      },
      "source": [
        "Para entender lo que hace **yield**, dejo por aquí este enlace donde se explica.\n",
        "\n",
        "Así por encima, yield es útil para crear un generador y no cargar todos los datos a la vez. Únicamente cargará un elemento, y actuará como un iterador, tal y como se puede apreciar en el ejercico 1.\n",
        "\n",
        "Para una explicación mejor, consultar este link:\n",
        "https://stackoverflow.com/questions/231767/what-does-the-yield-keyword-do"
      ],
      "id": "jewish-position"
    },
    {
      "cell_type": "markdown",
      "metadata": {
        "id": "cathedral-consistency"
      },
      "source": [
        "### Ejercicio 1\n",
        "Carga la primera crítica del directorio usando el método `next` sobre la función `parse_folder` en el objeto `critica`. Muestra sus 4 valores."
      ],
      "id": "cathedral-consistency"
    },
    {
      "cell_type": "code",
      "metadata": {
        "id": "secondary-multiple"
      },
      "source": [
        "critica = parse_folder('criticas')"
      ],
      "id": "secondary-multiple",
      "execution_count": null,
      "outputs": []
    },
    {
      "cell_type": "code",
      "metadata": {
        "id": "parental-cliff",
        "outputId": "fcef71b5-455b-4c63-ee6e-f3a43a01ebba"
      },
      "source": [
        "next(critica)"
      ],
      "id": "parental-cliff",
      "execution_count": null,
      "outputs": [
        {
          "output_type": "execute_result",
          "data": {
            "text/plain": [
              "('Los Increibles',\n",
              " '¿Por qué las peliculas animadas son mucho mejores que las normales? ',\n",
              " 'Es que no la cagan en ninguna, todas las pelis que hacen son cada vez mejores. Incluso no caen en los estereotipos en los que es tan fácil caer, que es repetirse y repetirse, como la mierda de American Pie 3, que es volver a hacer los mismos chistes, mal contados y previsibles a la milla. ¿Qué se esconde detrás de esas peliculas? ¿Cómo es que no te aburren ni un solo momento? ¿Cómo es que entretienen por igual a niños que a mayores? No tengo ni puta idea, lanzo las preguntas al aire, si alguien las sabe, que las responda ahora mismo en alto en su casa. Esta vez me ha pasado algo que no me habia pasado nunca antes con una pelicula (bueno si, con Pocahontas un poquito). Y es que la madre y la niña me han puesto brutito. La madre al comienzo de la pelicula esta quesito, ella toda mona, y luego al final de la peli cuando se pone en plan luchadora tambien, en cambio cuando esta de madre es el bajon de pene total. La hijita al principio mola asi en plan siniestra pseudo freak. Pero no pa follar todavia, solo para darle apretones y muerdos. Es despues, cuando se echa to el pelo pa los laos cuando esta para hacer maldades. ¿Por qué veo hasta en los dibujos animados posibles féminas dispuestas para el apareamiento? ¿Por qué me pone la mujer por ser mujer, tanto al natural, en pelicula o en dibujo animado? Supongo que es un defecto fisico propio de mi hobbie por leer comics eroticos. Son dibujitos, si, pero te ponen como motos acuaticas, echando espuma de agua por todos los lados. Joder, yo quiero ver la segunda parte de los Increibles, y la tercera. Por que coño no hacen mas de ese tipo de pelis y se dejan de tanto coñazo de tiros, asesinos en serie, polis malos y buenos, desastres naturales donde todos se salvan, dramones aburridos, comedietas que no hacen reir, superheroes que no cuentan nada, y mil y una pelis para adolescentes que es como para matarlos a todos? Hagan mas pelis asi! Y a ser posible con mas tias buenas! En esta peli hay una frase que me encanta, que es cuando el padre le dice a la madre, que qué mania tienen los yankis en engrandecer y festejar continuamente la mediocridad. En referencia a ir a la fiesta de fin de curso o eso que hacen los yankis cuando acaban los estudios, en mi cole se llamaba fiesta de fin de curso. Alli daban diplomas creo. Pues eso, id a ver esa gran pelicula que es divertida, ingeniosa, con mucha accion y entreteniemiento. Que para una vez que sacan una peli que esta bien, hay que decirlo!  ',\n",
              " 5)"
            ]
          },
          "metadata": {
            "tags": []
          },
          "execution_count": 7
        }
      ]
    },
    {
      "cell_type": "code",
      "metadata": {
        "id": "adjacent-bridges",
        "outputId": "7c4b9f7f-f07d-48e4-c59c-2bdda03a99e3"
      },
      "source": [
        "#es un iterador:\n",
        "\n",
        "next(critica)"
      ],
      "id": "adjacent-bridges",
      "execution_count": null,
      "outputs": [
        {
          "output_type": "execute_result",
          "data": {
            "text/plain": [
              "('La casa de cera',\n",
              " 'Casquería, terror y cera a partes iguales ',\n",
              " 'Tras una insufrible primera media hora, la casa de cera se empieza a calentar, nunca mejor dicho, y nos empieza a \"deleitar\" con el gore terror más asqueroso que he visto hace tiempo. Es de risa el comienzo de la peli, con unos personajes más planos que el escáner cerebral de Mariah Carey y una chispa americana que ríete tu de Juanito Navarro. La casa de cera comienza a tomar forma a los 40 minutos más o menos cuando a una de las rubias tontas del grupo se le ocurre seguir el rastro del mal olor que hay en el bosque. El comienzo se torna grotesco y surrealista cuando después de sacarla de un lodazal de sangre de la que ella misma podría haber salido perfectamente, los chicos encuentran una mano sepultada entre la sangraza y las pieles. Entonces hace aparición en la peli el tercer hermano matarife con el cheroki tuneao de mierda hasta la bandera, un papel que las mentes de pensamiento bineuronal no tardarán en identificar como \"el malo\".Hasta ese momento la peli es más bien de risa que de terror. Pero la cosa se pone seria cuando aparecen en escena los dos hermanos del pueblo fantasma, y las escenas se van haciendo cada vez más intensas en cuanto al gore y a unos cuantos detalles más que os dejo que descubráis.Joder que me mareé cuando uno de ellos pronuncia la célebre frase \"no te preocupes, te vamos a sacar de ahí\", no os la perdais porque esa escena es realmente acojonante. Como también acojonante es cuando se quema la casa de cera que por lo que tengo entendido en el rodaje era de cera de verdad, algo que se nota en pantalla.En fin, que cuando sales del cine se agradece y no sabes si recomendársela a tu peor enemigo o volver a verla pero sin taparte la cara jejeje ',\n",
              " 2)"
            ]
          },
          "metadata": {
            "tags": []
          },
          "execution_count": 9
        }
      ]
    },
    {
      "cell_type": "code",
      "metadata": {
        "id": "derived-obligation",
        "outputId": "f4b862ac-b44a-48a7-a3be-9b03a3386c78"
      },
      "source": [
        "#afecta también a los for. Comenzará desde el tercer elemento en este for, y no desde el primero,\n",
        "# ya que es afectado por los dos next(critica) hechos anteriormente\n",
        "for c in critica:\n",
        "    print(c)\n",
        "    break"
      ],
      "id": "derived-obligation",
      "execution_count": null,
      "outputs": [
        {
          "output_type": "stream",
          "text": [
            "('Spiderman 2', 'Poniendo a parir una peli que no cuenta nada ', 'Es un dolor esto del cine. Yo ya voy con miedo. Primero por las colas tan largas, segundo por ver quien te toca al lado, y tercero por los guiones cada vez mas gilipollescos que se curran. El cine esta cayendo en picado, como la tele, como el mundo editorial, donde cualquier gualtrapa que por solo salir en la tele te \"escribe\" un \"libro\". Lo de Spiderman es para coger al director y darle cuatro ostias. Pero a cuento de que te mete tanta filosofia de cura en boca de tantos personajes de la peli?, nos quieren dejar vivir un poco?. Yo voy al cine a ver a Spiderman como zurra a los malos, no a enmierdarme en su vida privada y sus problemas psicologicos. Me la suda la novia de Spiderman, esa lerda con cara de pastora de los montes de Usurbil que parece que no folla nunca, y que es una pretenciosa que le dice al final que le va a salvar la vida, y que le monta un pollo porque no ha podido ir a ver su mierda de obra de teatro. Pero que tipo de personaje es este? Menuda subnor? Y la vieja? Una petarda que no para de dar consejillos en plan Reverendo Smith, vete a dar consejos a tu puta madre, vieja chocha! Pon la tele y dejame en paz, pesada. Y Spiderman, menudo tontolava, un superheroe que no tiene un puto duro. Que aprenda de Batman, que esta forrao en la baticueva haciendose pajas sin hacer nada espiando a las vecinas con microcámaras Es que ya me toca los huevos, que se dedique a coger a los malos y en cambio no sea capaz de hacer que le embarguen la casa a su tia May. Anda y que te den por culo, mediocre. Haz como octopus, roba por ahí algo y dejanos en paz, llorona, que no paras de dar el coñazo toda la peli con esa cara de mico que tienes, hijoputa. Resulta revelador lo de que no le salga la tela de araña, eso en mi pueblo se llama gatillazo, y es que es normal, es un friki de puta madre, un lerdo. Solo es alguien cuando se pone la mascara de Spiderman. Es como mucha gente en la vida real, que no es nadie sino se pone una \"careta\" Lo unico destacable de la peli es la accion, que esta de puta madre, y cuando Spider va y viene por los edificios volando. Y los golpes de humor, hay varios, sobre todo protagonizados por el Editor del periodico, un personaje que representa perfectamente al tipico cabronazo agarrao que no da nada por nada. Brillante El buen observador vera que la peli alterna accion-relacion. La accion cojonuda, venga paqui palla, en cambio cuando mete la absurda y anodina relacion entre la pastora y el mico, la peli cae hasta limites insospechados. Dan vergüenza ajena los dos, como pueden ser tan gilipollas? Es que no saben el significado de la palabra mamada o pajon castellano? No, en esas pelis no meten sexo ni por asomo, son todos unos moñas y dan por culo todo el rato, pero claro, los tios quieren llegar a todos los publicos, y ellos entienden que los niños no tienen sexualidad, cuando en los años 80, cuando muchos de nosotros ibamos al cine o veiamos la tele, veiamos cosas mas jevys, o que coño, hoy mismo, que cualquiera ponga la tele a las 6 de la tarde y vera un monton de ponzoña increible, seres anonimos hablando de cómo follan con este o el otro. No voy a hablar mas de esta peli, perdon, de este desproposito. Me jode haber pagado por semejante mierdon, la proxima vez me bajare la peli de internet y paga supu. Que le den a Spiderman, aquel idolo de mi juventud de los comics, va a ver Spiderman 3 su prima la de Atapuerca..  ', 2)\n"
          ],
          "name": "stdout"
        }
      ]
    },
    {
      "cell_type": "markdown",
      "metadata": {
        "id": "laden-nebraska"
      },
      "source": [
        "## Extracción de características básicas\n",
        "Utilizando la librería `textaCy` procesamos cada documento y generamos una serie de estadísticos. \\\n",
        "Guardaremos los resultados en un objeto `DataFrame` de Pandas.\\\n",
        "Como característica de cada crítica vamos a extraer:\n",
        "- Título de la película\n",
        "- Longitud (en caracteres) del resumen\n",
        "- Longitud (en caracteres) del texto de la crítica\n",
        "- Puntuación de la crítica\n",
        "\n",
        "### Ejercicio 2\n",
        "Completa el código siguiente para generar el `DataFrame`"
      ],
      "id": "laden-nebraska"
    },
    {
      "cell_type": "code",
      "metadata": {
        "id": "fewer-teddy"
      },
      "source": [
        "import pandas as pd\n",
        "\n",
        "#creamos una lista en blanco\n",
        "datos = []\n",
        "\n",
        "#recorremos las críticas y calculamos sus métricas\n",
        "for c in parse_folder(\"criticas\"):\n",
        "    datos.append({\n",
        "        'título': c[0],\n",
        "        'LongResumen': len(c[1]),\n",
        "        'LongCritica': len(c[2]),\n",
        "        'puntuación': c[3]\n",
        "    })\n",
        "\n",
        "resumen = pd.DataFrame(datos)"
      ],
      "id": "fewer-teddy",
      "execution_count": null,
      "outputs": []
    },
    {
      "cell_type": "code",
      "metadata": {
        "id": "young-priority",
        "outputId": "6e69a723-5fdb-4d28-f2af-8e2b1b8780ba"
      },
      "source": [
        "resumen"
      ],
      "id": "young-priority",
      "execution_count": null,
      "outputs": [
        {
          "output_type": "execute_result",
          "data": {
            "text/html": [
              "<div>\n",
              "<style scoped>\n",
              "    .dataframe tbody tr th:only-of-type {\n",
              "        vertical-align: middle;\n",
              "    }\n",
              "\n",
              "    .dataframe tbody tr th {\n",
              "        vertical-align: top;\n",
              "    }\n",
              "\n",
              "    .dataframe thead th {\n",
              "        text-align: right;\n",
              "    }\n",
              "</style>\n",
              "<table border=\"1\" class=\"dataframe\">\n",
              "  <thead>\n",
              "    <tr style=\"text-align: right;\">\n",
              "      <th></th>\n",
              "      <th>título</th>\n",
              "      <th>LongResumen</th>\n",
              "      <th>LongCritica</th>\n",
              "      <th>puntuación</th>\n",
              "    </tr>\n",
              "  </thead>\n",
              "  <tbody>\n",
              "    <tr>\n",
              "      <th>0</th>\n",
              "      <td>La guerra de los mundos</td>\n",
              "      <td>32</td>\n",
              "      <td>2951</td>\n",
              "      <td>1</td>\n",
              "    </tr>\n",
              "    <tr>\n",
              "      <th>1</th>\n",
              "      <td>Stars Wars III La venganza de los Sith</td>\n",
              "      <td>30</td>\n",
              "      <td>3954</td>\n",
              "      <td>3</td>\n",
              "    </tr>\n",
              "    <tr>\n",
              "      <th>2</th>\n",
              "      <td>Los Increibles</td>\n",
              "      <td>68</td>\n",
              "      <td>2467</td>\n",
              "      <td>5</td>\n",
              "    </tr>\n",
              "    <tr>\n",
              "      <th>3</th>\n",
              "      <td>Spiderman 2</td>\n",
              "      <td>45</td>\n",
              "      <td>3403</td>\n",
              "      <td>2</td>\n",
              "    </tr>\n",
              "    <tr>\n",
              "      <th>4</th>\n",
              "      <td>La casa de cera</td>\n",
              "      <td>42</td>\n",
              "      <td>1696</td>\n",
              "      <td>2</td>\n",
              "    </tr>\n",
              "    <tr>\n",
              "      <th>5</th>\n",
              "      <td>El internado</td>\n",
              "      <td>31</td>\n",
              "      <td>1163</td>\n",
              "      <td>2</td>\n",
              "    </tr>\n",
              "    <tr>\n",
              "      <th>6</th>\n",
              "      <td>La llave del mal</td>\n",
              "      <td>36</td>\n",
              "      <td>1781</td>\n",
              "      <td>3</td>\n",
              "    </tr>\n",
              "    <tr>\n",
              "      <th>7</th>\n",
              "      <td>May</td>\n",
              "      <td>28</td>\n",
              "      <td>3343</td>\n",
              "      <td>4</td>\n",
              "    </tr>\n",
              "    <tr>\n",
              "      <th>8</th>\n",
              "      <td>Cinderella Man</td>\n",
              "      <td>33</td>\n",
              "      <td>2885</td>\n",
              "      <td>2</td>\n",
              "    </tr>\n",
              "    <tr>\n",
              "      <th>9</th>\n",
              "      <td>La Novia Cadaver</td>\n",
              "      <td>40</td>\n",
              "      <td>736</td>\n",
              "      <td>3</td>\n",
              "    </tr>\n",
              "    <tr>\n",
              "      <th>10</th>\n",
              "      <td>Harry poter y el caliz de fuego</td>\n",
              "      <td>47</td>\n",
              "      <td>5127</td>\n",
              "      <td>4</td>\n",
              "    </tr>\n",
              "    <tr>\n",
              "      <th>11</th>\n",
              "      <td>Match point</td>\n",
              "      <td>19</td>\n",
              "      <td>2847</td>\n",
              "      <td>5</td>\n",
              "    </tr>\n",
              "    <tr>\n",
              "      <th>12</th>\n",
              "      <td>King Kong</td>\n",
              "      <td>12</td>\n",
              "      <td>2623</td>\n",
              "      <td>5</td>\n",
              "    </tr>\n",
              "    <tr>\n",
              "      <th>13</th>\n",
              "      <td>El jardinero fiel</td>\n",
              "      <td>43</td>\n",
              "      <td>2078</td>\n",
              "      <td>4</td>\n",
              "    </tr>\n",
              "    <tr>\n",
              "      <th>14</th>\n",
              "      <td>Doom</td>\n",
              "      <td>25</td>\n",
              "      <td>1790</td>\n",
              "      <td>3</td>\n",
              "    </tr>\n",
              "    <tr>\n",
              "      <th>15</th>\n",
              "      <td>Las cronicas de Narnia</td>\n",
              "      <td>55</td>\n",
              "      <td>1451</td>\n",
              "      <td>3</td>\n",
              "    </tr>\n",
              "    <tr>\n",
              "      <th>16</th>\n",
              "      <td>Una historia violenta</td>\n",
              "      <td>32</td>\n",
              "      <td>981</td>\n",
              "      <td>2</td>\n",
              "    </tr>\n",
              "    <tr>\n",
              "      <th>17</th>\n",
              "      <td>Saw 2</td>\n",
              "      <td>50</td>\n",
              "      <td>3886</td>\n",
              "      <td>3</td>\n",
              "    </tr>\n",
              "    <tr>\n",
              "      <th>18</th>\n",
              "      <td>Crash</td>\n",
              "      <td>30</td>\n",
              "      <td>1478</td>\n",
              "      <td>3</td>\n",
              "    </tr>\n",
              "    <tr>\n",
              "      <th>19</th>\n",
              "      <td>Jarhead</td>\n",
              "      <td>69</td>\n",
              "      <td>3413</td>\n",
              "      <td>5</td>\n",
              "    </tr>\n",
              "    <tr>\n",
              "      <th>20</th>\n",
              "      <td>Memorias de una Geisha</td>\n",
              "      <td>71</td>\n",
              "      <td>2597</td>\n",
              "      <td>3</td>\n",
              "    </tr>\n",
              "    <tr>\n",
              "      <th>21</th>\n",
              "      <td>Brokeback mountain</td>\n",
              "      <td>70</td>\n",
              "      <td>5027</td>\n",
              "      <td>2</td>\n",
              "    </tr>\n",
              "    <tr>\n",
              "      <th>22</th>\n",
              "      <td>Alone in the dark</td>\n",
              "      <td>57</td>\n",
              "      <td>1519</td>\n",
              "      <td>1</td>\n",
              "    </tr>\n",
              "    <tr>\n",
              "      <th>23</th>\n",
              "      <td>Munich</td>\n",
              "      <td>45</td>\n",
              "      <td>4669</td>\n",
              "      <td>2</td>\n",
              "    </tr>\n",
              "    <tr>\n",
              "      <th>24</th>\n",
              "      <td>Terror en la niebla</td>\n",
              "      <td>37</td>\n",
              "      <td>4637</td>\n",
              "      <td>1</td>\n",
              "    </tr>\n",
              "    <tr>\n",
              "      <th>25</th>\n",
              "      <td>Secretos de familia</td>\n",
              "      <td>52</td>\n",
              "      <td>1541</td>\n",
              "      <td>2</td>\n",
              "    </tr>\n",
              "    <tr>\n",
              "      <th>26</th>\n",
              "      <td>Underworld evolution</td>\n",
              "      <td>75</td>\n",
              "      <td>1579</td>\n",
              "      <td>3</td>\n",
              "    </tr>\n",
              "    <tr>\n",
              "      <th>27</th>\n",
              "      <td>Lutero</td>\n",
              "      <td>69</td>\n",
              "      <td>3083</td>\n",
              "      <td>2</td>\n",
              "    </tr>\n",
              "    <tr>\n",
              "      <th>28</th>\n",
              "      <td>Camaron</td>\n",
              "      <td>22</td>\n",
              "      <td>1448</td>\n",
              "      <td>3</td>\n",
              "    </tr>\n",
              "  </tbody>\n",
              "</table>\n",
              "</div>"
            ],
            "text/plain": [
              "                                    título  LongResumen  LongCritica  \\\n",
              "0                  La guerra de los mundos           32         2951   \n",
              "1   Stars Wars III La venganza de los Sith           30         3954   \n",
              "2                           Los Increibles           68         2467   \n",
              "3                              Spiderman 2           45         3403   \n",
              "4                          La casa de cera           42         1696   \n",
              "5                             El internado           31         1163   \n",
              "6                         La llave del mal           36         1781   \n",
              "7                                      May           28         3343   \n",
              "8                           Cinderella Man           33         2885   \n",
              "9                         La Novia Cadaver           40          736   \n",
              "10         Harry poter y el caliz de fuego           47         5127   \n",
              "11                             Match point           19         2847   \n",
              "12                               King Kong           12         2623   \n",
              "13                       El jardinero fiel           43         2078   \n",
              "14                                    Doom           25         1790   \n",
              "15                  Las cronicas de Narnia           55         1451   \n",
              "16                   Una historia violenta           32          981   \n",
              "17                                   Saw 2           50         3886   \n",
              "18                                   Crash           30         1478   \n",
              "19                                 Jarhead           69         3413   \n",
              "20                  Memorias de una Geisha           71         2597   \n",
              "21                      Brokeback mountain           70         5027   \n",
              "22                       Alone in the dark           57         1519   \n",
              "23                                  Munich           45         4669   \n",
              "24                     Terror en la niebla           37         4637   \n",
              "25                     Secretos de familia           52         1541   \n",
              "26                    Underworld evolution           75         1579   \n",
              "27                                  Lutero           69         3083   \n",
              "28                                 Camaron           22         1448   \n",
              "\n",
              "    puntuación  \n",
              "0            1  \n",
              "1            3  \n",
              "2            5  \n",
              "3            2  \n",
              "4            2  \n",
              "5            2  \n",
              "6            3  \n",
              "7            4  \n",
              "8            2  \n",
              "9            3  \n",
              "10           4  \n",
              "11           5  \n",
              "12           5  \n",
              "13           4  \n",
              "14           3  \n",
              "15           3  \n",
              "16           2  \n",
              "17           3  \n",
              "18           3  \n",
              "19           5  \n",
              "20           3  \n",
              "21           2  \n",
              "22           1  \n",
              "23           2  \n",
              "24           1  \n",
              "25           2  \n",
              "26           3  \n",
              "27           2  \n",
              "28           3  "
            ]
          },
          "metadata": {
            "tags": []
          },
          "execution_count": 12
        }
      ]
    },
    {
      "cell_type": "markdown",
      "metadata": {
        "id": "biblical-replacement"
      },
      "source": [
        "## Limpieza de texto\n",
        "Para poder extraer las características vectoriales del corpus es conveniente realizar primero una limpieza y pre-procedado de cada documento.\\\n",
        "Vamos a suponer que queremos preparar este conjunto de textos para entrenar un modelo que prediga la puntuación de cada crítica a partir del texto de la crítica.\\\n",
        "Realizaremos el siguiente procesado:\n",
        "- Introducir un espacio después de determinados signos de puntuación (\".\", \"?\") para que el tokenizado sea correcto\n",
        "- Separar el texto en *tokens*\n",
        "- Eliminar los *tokens* de tipo *stop-word*, signos de puntuación o espacios o de longitud 1\n",
        "- Convertir las entidades de tipo `PER` al token *persona*\n",
        "- Lematizar el texto y pasarlo a minúsculas"
      ],
      "id": "biblical-replacement"
    },
    {
      "cell_type": "code",
      "metadata": {
        "id": "received-belle"
      },
      "source": [
        "import spacy\n",
        "\n",
        "nlp = spacy.load(\"es_core_news_sm\")\n",
        "\n",
        "def normaliza(texto):\n",
        "    #separamos después de ciertos signos de puntuación\n",
        "    texto = re.sub(r\"([\\.\\?])\", r\"\\1 \", texto)\n",
        "    doc = nlp(texto)\n",
        "    tokens = [t for t in doc if not t.is_punct and not t.is_stop and not t.is_space and len(t.text)>1]\n",
        "    palabras = []\n",
        "    for t in tokens:\n",
        "        if t.ent_iob_=='B' and t.ent_type_=='PER':\n",
        "            palabras.append('persona')\n",
        "        elif t.ent_iob_=='I' and t.ent_type_=='PER':\n",
        "            continue\n",
        "        else:\n",
        "            palabras.append(t.lemma_.lower())\n",
        "    salida = ' '.join(palabras)\n",
        "    \n",
        "    return salida"
      ],
      "id": "received-belle",
      "execution_count": null,
      "outputs": []
    },
    {
      "cell_type": "markdown",
      "metadata": {
        "id": "domestic-gates"
      },
      "source": [
        "### Ejercicio 3\n",
        "Comprueba su funcionamiento en la crítica previamente descargada (variable `critica`)"
      ],
      "id": "domestic-gates"
    },
    {
      "cell_type": "code",
      "metadata": {
        "id": "positive-intervention"
      },
      "source": [
        "criticas = parse_folder('criticas')\n",
        "critica = next(criticas)"
      ],
      "id": "positive-intervention",
      "execution_count": null,
      "outputs": []
    },
    {
      "cell_type": "code",
      "metadata": {
        "id": "biblical-rally",
        "outputId": "da124b8f-11c1-425e-dea1-07c4e2b855d8"
      },
      "source": [
        "normaliza(critica[2])"
      ],
      "id": "biblical-rally",
      "execution_count": null,
      "outputs": [
        {
          "output_type": "execute_result",
          "data": {
            "text/plain": [
              "'gustar cine masa pelicula ver mundo parecer coñazo insufribl porquar prota tonto culo suerte peli lograr vencer convertir listo chorrada comienzo pelicula esfumar arte magia volver maduro inteligente peli persona huir huir dar tiro cabron meter par actor echarl comer aparte niña viejo metida cuerpo niña ver él hablar version original dar él freak cine creeran gracia nena puta madre causar pavor cria persona maduro horroroso niño niño ver él rol asusta hijo adolescente cruise subnormal dar él bofetada ver hueso mano fiel reflejo denominar manipulacion militar chico matar bicho ningun arma hale loco pensar venir saco quereis decir fanatismo locura alguien querer luchar medio muerte seguro jodar sobremanerir pelicula aparecer mongo abuelo familia salir dio viejo aparecer traje domingo maquillada sinsorgadar faltar persona volver exmujer mundo tranquilos contar peli pasar peli acabar restar misterio bodrio persona paso convertir director efecto especial contar historia disteis norteamericano guardar compostura gritar momento dificil sensato tranquilizar él discutir chorrada puta peli parar gritar pegar él gracia comienzo peli suelo empezar resquebrajar él gente quedar mirar pasar joder estario correr puta escondiéndome ver bicho lanzar rayo machacar to dios escondo seguir hablar mierda queriar conseguir pagaser entrada cine prima bajarar internet ver calidad peli aceptable pasar él palante mando forward mano morir'"
            ]
          },
          "metadata": {
            "tags": []
          },
          "execution_count": 16
        }
      ]
    },
    {
      "cell_type": "markdown",
      "metadata": {
        "id": "smoking-determination"
      },
      "source": [
        "### Análisis morfológico\n",
        "En una crítica tiene mucha importancia los adjetivos utilizados.\\\n",
        "Crea una función para filtrar sólo los adjetivos utilizados en cada crítica (utiliza el lema de cada adjetivo)."
      ],
      "id": "smoking-determination"
    },
    {
      "cell_type": "code",
      "metadata": {
        "id": "closing-referral"
      },
      "source": [
        "def extraer_adj(texto):\n",
        "    texto = re.sub(r\"([\\.\\?])\", r\"\\1 \", texto)\n",
        "    doc = nlp(texto)\n",
        "    tokens = [t.lemma_ for t in doc if t.pos_==\"ADJ\"]\n",
        "    \n",
        "    return ' '.join(tokens)"
      ],
      "id": "closing-referral",
      "execution_count": null,
      "outputs": []
    },
    {
      "cell_type": "markdown",
      "metadata": {
        "id": "blessed-institute"
      },
      "source": [
        "Comprobamos su funcionamiento en la crítica previamente descargada (variable `critica`)"
      ],
      "id": "blessed-institute"
    },
    {
      "cell_type": "code",
      "metadata": {
        "id": "explicit-equipment",
        "outputId": "b7e79fe8-31d2-4f81-8106-df110ebfb71e"
      },
      "source": [
        "extraer_adj(critica[2])"
      ],
      "id": "explicit-equipment",
      "execution_count": null,
      "outputs": [
        {
          "output_type": "execute_result",
          "data": {
            "text/plain": [
              "'insufribl maduro inteligente solo viejo original claro grande ver maduro horroroso asusta adolescente subnormal militar hale loco seguro viejo mejor igual solo bueno especial dificil peli estario aceptable'"
            ]
          },
          "metadata": {
            "tags": []
          },
          "execution_count": 18
        }
      ]
    },
    {
      "cell_type": "markdown",
      "metadata": {
        "id": "tropical-struggle"
      },
      "source": [
        "## Extracción de características *sparse* con `scikit-learn`\n",
        "Vamos a calculas las matrices de características *bag-of-words* y *tfidf* del conjunto de textos anterior.\\\n",
        "Vamos a usar la librería `scikit-learn` para vectorizar los documentos."
      ],
      "id": "tropical-struggle"
    },
    {
      "cell_type": "code",
      "metadata": {
        "id": "tropical-treasure"
      },
      "source": [
        "#Para no tener que cargar todas las críticas en memoria,\n",
        "#creamos un generador que devuelve iterativamente el\n",
        "#texto procesado de cada crítica\n",
        "\n",
        "def generaCritica(criticas):\n",
        "    \"\"\"Función de tipo generator que devuelve el\n",
        "    texto normalizado de cada crítica.\n",
        "    Entrada:\n",
        "    criticas: objeto 'parse_folder' que itera\n",
        "    sobre el directio de las críticas\n",
        "    Salida:\n",
        "    texto normalizado de cada crítica\"\"\"\n",
        "    for c in criticas:\n",
        "        yield normaliza(c[2])"
      ],
      "id": "tropical-treasure",
      "execution_count": null,
      "outputs": []
    },
    {
      "cell_type": "markdown",
      "metadata": {
        "id": "activated-pantyhose"
      },
      "source": [
        "Comprobamos su funcionamiento generando el texto normalizado de la primera crítica"
      ],
      "id": "activated-pantyhose"
    },
    {
      "cell_type": "code",
      "metadata": {
        "id": "consolidated-penny",
        "outputId": "3ebc594b-4362-48c0-b9d0-3ccafc8139be"
      },
      "source": [
        "next(generaCritica(parse_folder(\"criticas\")))"
      ],
      "id": "consolidated-penny",
      "execution_count": null,
      "outputs": [
        {
          "output_type": "execute_result",
          "data": {
            "text/plain": [
              "'gustar cine masa pelicula ver mundo parecer coñazo insufribl porquar prota tonto culo suerte peli lograr vencer convertir listo chorrada comienzo pelicula esfumar arte magia volver maduro inteligente peli persona huir huir dar tiro cabron meter par actor echarl comer aparte niña viejo metida cuerpo niña ver él hablar version original dar él freak cine creeran gracia nena puta madre causar pavor cria persona maduro horroroso niño niño ver él rol asusta hijo adolescente cruise subnormal dar él bofetada ver hueso mano fiel reflejo denominar manipulacion militar chico matar bicho ningun arma hale loco pensar venir saco quereis decir fanatismo locura alguien querer luchar medio muerte seguro jodar sobremanerir pelicula aparecer mongo abuelo familia salir dio viejo aparecer traje domingo maquillada sinsorgadar faltar persona volver exmujer mundo tranquilos contar peli pasar peli acabar restar misterio bodrio persona paso convertir director efecto especial contar historia disteis norteamericano guardar compostura gritar momento dificil sensato tranquilizar él discutir chorrada puta peli parar gritar pegar él gracia comienzo peli suelo empezar resquebrajar él gente quedar mirar pasar joder estario correr puta escondiéndome ver bicho lanzar rayo machacar to dios escondo seguir hablar mierda queriar conseguir pagaser entrada cine prima bajarar internet ver calidad peli aceptable pasar él palante mando forward mano morir'"
            ]
          },
          "metadata": {
            "tags": []
          },
          "execution_count": 20
        }
      ]
    },
    {
      "cell_type": "markdown",
      "metadata": {
        "id": "utility-truck"
      },
      "source": [
        "Vectorizamos todo el conjunto de datos usando las funciones de `scikit-learn`.\\\n",
        "Estas funciones admiten un objeto `generator` como argumento de entrada."
      ],
      "id": "utility-truck"
    },
    {
      "cell_type": "code",
      "metadata": {
        "id": "similar-tamil",
        "outputId": "f7d500ac-f71e-4739-def5-7695d4db0f3f"
      },
      "source": [
        "from sklearn.feature_extraction.text import CountVectorizer\n",
        "\n",
        "vect = CountVectorizer()\n",
        "\n",
        "criticas = generaCritica(parse_folder(\"criticas\"))\n",
        "BoW_criticas = vect.fit_transform(criticas)\n",
        "BoW_criticas"
      ],
      "id": "similar-tamil",
      "execution_count": null,
      "outputs": [
        {
          "output_type": "execute_result",
          "data": {
            "text/plain": [
              "<29x2549 sparse matrix of type '<class 'numpy.int64'>'\n",
              "\twith 4129 stored elements in Compressed Sparse Row format>"
            ]
          },
          "metadata": {
            "tags": []
          },
          "execution_count": 21
        }
      ]
    },
    {
      "cell_type": "code",
      "metadata": {
        "id": "uniform-salmon",
        "outputId": "f4da85af-c105-4307-cea2-9d6669f31137"
      },
      "source": [
        "criticas = generaCritica(parse_folder('criticas'))\n",
        "vect.fit(criticas)\n",
        "BoW_criticas = vect.transform(criticas)\n",
        "BoW_criticas"
      ],
      "id": "uniform-salmon",
      "execution_count": null,
      "outputs": [
        {
          "output_type": "execute_result",
          "data": {
            "text/plain": [
              "<0x2549 sparse matrix of type '<class 'numpy.int64'>'\n",
              "\twith 0 stored elements in Compressed Sparse Row format>"
            ]
          },
          "metadata": {
            "tags": []
          },
          "execution_count": 22
        }
      ]
    },
    {
      "cell_type": "code",
      "metadata": {
        "id": "placed-weather",
        "outputId": "4d510572-725d-4906-df47-6dbcd5750ff8"
      },
      "source": [
        "BoW_criticas = vect.transform(generaCritica(parse_folder('criticas')))\n",
        "BoW_criticas"
      ],
      "id": "placed-weather",
      "execution_count": null,
      "outputs": [
        {
          "output_type": "execute_result",
          "data": {
            "text/plain": [
              "<29x2549 sparse matrix of type '<class 'numpy.int64'>'\n",
              "\twith 4129 stored elements in Compressed Sparse Row format>"
            ]
          },
          "metadata": {
            "tags": []
          },
          "execution_count": 23
        }
      ]
    },
    {
      "cell_type": "markdown",
      "metadata": {
        "id": "textile-detector"
      },
      "source": [
        "### Ejercicio 4\n",
        "Genera distintas variantes de matrices de características para el conjunto de las críticas. Prueba con:\n",
        "- Matriz TF-IDF\n",
        "- Matriz BoW con unigramas y bigramas\n",
        "- Matriz TF-IDF eliminando las palabras menos frecuentes y las más frecuentes (mínimo de 2 y máximo de 5 documentos)\n",
        "- Muestra cuáles son las palabras más frecuentes eliminadas (*atributo stop_words_ del vectorizador*)"
      ],
      "id": "textile-detector"
    },
    {
      "cell_type": "code",
      "metadata": {
        "id": "exceptional-thought",
        "outputId": "977aaa43-c58f-41eb-9b3d-b32ee9edffcd"
      },
      "source": [
        "#matriz TF-IDF\n",
        "from sklearn.feature_extraction.text import TfidfVectorizer\n",
        "\n",
        "vect = TfidfVectorizer()\n",
        "\n",
        "TFIDF_criticas = vect.fit_transform(generaCritica(parse_folder('criticas')))\n",
        "TFIDF_criticas"
      ],
      "id": "exceptional-thought",
      "execution_count": null,
      "outputs": [
        {
          "output_type": "execute_result",
          "data": {
            "text/plain": [
              "<29x2549 sparse matrix of type '<class 'numpy.float64'>'\n",
              "\twith 4129 stored elements in Compressed Sparse Row format>"
            ]
          },
          "metadata": {
            "tags": []
          },
          "execution_count": 24
        }
      ]
    },
    {
      "cell_type": "code",
      "metadata": {
        "id": "acoustic-height",
        "outputId": "158d4f46-8dab-4a68-feac-87bd6de03630"
      },
      "source": [
        "#BoW de unigramas y bigramas\n",
        "vect = CountVectorizer(ngram_range=(1,2))\n",
        "\n",
        "BoW_criticas = vect.fit_transform(generaCritica(parse_folder('criticas')))\n",
        "BoW_criticas"
      ],
      "id": "acoustic-height",
      "execution_count": null,
      "outputs": [
        {
          "output_type": "execute_result",
          "data": {
            "text/plain": [
              "<29x7567 sparse matrix of type '<class 'numpy.int64'>'\n",
              "\twith 9253 stored elements in Compressed Sparse Row format>"
            ]
          },
          "metadata": {
            "tags": []
          },
          "execution_count": 26
        }
      ]
    },
    {
      "cell_type": "markdown",
      "metadata": {
        "id": "answering-birthday"
      },
      "source": [
        "En el caso de BoW, el tamaño es mayor que el TF-IDF ya que estamos teniendo en cuenta tanto unigramas (conjuntos de 1 palabra) y bigramas (conjuntos de 2 palabras)"
      ],
      "id": "answering-birthday"
    },
    {
      "cell_type": "code",
      "metadata": {
        "id": "illegal-cover",
        "outputId": "fdf6d891-d141-4b64-fcf3-4eb6bda4a851"
      },
      "source": [
        "#Matriz TF-IDF eliminando las palabras menos frecuentes y las más frecuentes (mínimo de 2 y máximo de 5 documentos)\n",
        "\n",
        "vect = TfidfVectorizer(min_df=2, max_df=5)\n",
        "\n",
        "TFIDF_criticas = vect.fit_transform(generaCritica(parse_folder('criticas')))\n",
        "TFIDF_criticas"
      ],
      "id": "illegal-cover",
      "execution_count": null,
      "outputs": [
        {
          "output_type": "execute_result",
          "data": {
            "text/plain": [
              "<29x566 sparse matrix of type '<class 'numpy.float64'>'\n",
              "\twith 1523 stored elements in Compressed Sparse Row format>"
            ]
          },
          "metadata": {
            "tags": []
          },
          "execution_count": 27
        }
      ]
    },
    {
      "cell_type": "code",
      "metadata": {
        "id": "infectious-audio",
        "outputId": "513c84b1-9e48-4bed-db17-7ed8541bef64"
      },
      "source": [
        "#Palabras más frecuencias eliminadas (atributo 'stop_words_' del vectorizador)\n",
        "\n",
        "vect.stop_words_"
      ],
      "id": "infectious-audio",
      "execution_count": null,
      "outputs": [
        {
          "output_type": "execute_result",
          "data": {
            "text/plain": [
              "{'cocaina',\n",
              " 'laureado',\n",
              " 'descarga',\n",
              " 'escena',\n",
              " 'medicina',\n",
              " 'aliviar',\n",
              " 'afincado',\n",
              " 'digno',\n",
              " 'maravillosa',\n",
              " 'esfumar',\n",
              " 'sobrepasar',\n",
              " 'erotico',\n",
              " 'asimilar',\n",
              " 'crimen',\n",
              " 'talante',\n",
              " 'regreso',\n",
              " 'curso',\n",
              " 'unico',\n",
              " 'radical',\n",
              " 'destructiva',\n",
              " 'mckee',\n",
              " 'espós',\n",
              " 'localización',\n",
              " 'caserón',\n",
              " 'pallo',\n",
              " 'dejarir',\n",
              " 'tecnico',\n",
              " 'superávit',\n",
              " 'heredero',\n",
              " 'planteamiento',\n",
              " 'calibrar',\n",
              " 'recreado',\n",
              " 'mejora',\n",
              " 'geisha',\n",
              " 'hecho',\n",
              " 'apoderar',\n",
              " 'serkis',\n",
              " 'retomar',\n",
              " 'mago',\n",
              " 'retórico',\n",
              " 'post',\n",
              " 'esdla',\n",
              " 'fallecido',\n",
              " 'inconveniente',\n",
              " 'mínimo',\n",
              " 'mater',\n",
              " 'kôji',\n",
              " 'acertado',\n",
              " 'llevado',\n",
              " 'suegro',\n",
              " 'personaje',\n",
              " 'divertir',\n",
              " 'actor',\n",
              " 'loca',\n",
              " 'intranqulidad',\n",
              " 'superación',\n",
              " 'globos',\n",
              " 'escondiéndome',\n",
              " 'contraterrorismo',\n",
              " 'setenta',\n",
              " 'omnipresente',\n",
              " 'espantoso',\n",
              " 'confundir',\n",
              " 'anti',\n",
              " 'nacionalista',\n",
              " 'match',\n",
              " 'irritar',\n",
              " 'exageración',\n",
              " 'descrito',\n",
              " 'originalidad',\n",
              " 'cercano',\n",
              " 'significar',\n",
              " 'técnica',\n",
              " 'anakin',\n",
              " 'veiamos',\n",
              " 'tranquilizar',\n",
              " 'luchador',\n",
              " 'cruise',\n",
              " 'casco',\n",
              " 'portar',\n",
              " 'consumar',\n",
              " 'célebre',\n",
              " 'escaso',\n",
              " 'envidiada',\n",
              " 'transformación',\n",
              " 'ejecución',\n",
              " 'racista',\n",
              " 'vinagre',\n",
              " 'moralidad',\n",
              " 'él',\n",
              " 'brother',\n",
              " 'frustración',\n",
              " 'gloria',\n",
              " 'cuerpo',\n",
              " 'torno',\n",
              " 'superproducción',\n",
              " 'explotar',\n",
              " 'vietnam',\n",
              " 'auténtico',\n",
              " 'arrebato',\n",
              " 'reinado',\n",
              " 'metáfora',\n",
              " 'suplente',\n",
              " 'lentamente',\n",
              " 'cadena',\n",
              " 'minimamente',\n",
              " 'terminar',\n",
              " 'arrebatadoramente',\n",
              " 'razonablemente',\n",
              " 'convivir',\n",
              " 'teoria',\n",
              " 'americán',\n",
              " 'pagar',\n",
              " 'mola',\n",
              " 'cabron',\n",
              " 'asqueroso',\n",
              " 'esperéis',\n",
              " 'golpe',\n",
              " 'fuí',\n",
              " 'causarir',\n",
              " 'voz',\n",
              " 'tostón',\n",
              " 'charla',\n",
              " 'vicioso',\n",
              " 'tigre',\n",
              " 'creencia',\n",
              " 'rayo',\n",
              " 'patraña',\n",
              " 'obedecer',\n",
              " 'huelar',\n",
              " 'cualquiera',\n",
              " 'realista',\n",
              " 'tambeir',\n",
              " 'alabado',\n",
              " 'tochazo',\n",
              " 'tardar',\n",
              " 'dirigido',\n",
              " 'perfección',\n",
              " 'tipico',\n",
              " 'genuino',\n",
              " 'virtud',\n",
              " 'imprevisible',\n",
              " 'clón',\n",
              " 'point',\n",
              " 'tradicional',\n",
              " 'sigo',\n",
              " 'apabullant',\n",
              " 'mujer',\n",
              " 'bandera',\n",
              " 'exceso',\n",
              " 'exclusivamente',\n",
              " 'acelerar',\n",
              " 'rural',\n",
              " 'desproposito',\n",
              " 'manera',\n",
              " 'hobbie',\n",
              " 'entreteniemiento',\n",
              " 'usar',\n",
              " 'octopu',\n",
              " 'vacia',\n",
              " 'ver',\n",
              " 'poquito',\n",
              " 'rol',\n",
              " 'acabar',\n",
              " 'stress',\n",
              " 'supuesto',\n",
              " 'protestante',\n",
              " 'cotidiano',\n",
              " 'descender',\n",
              " 'sobrevalorado',\n",
              " 'armada',\n",
              " 'tonteo',\n",
              " 'insulto',\n",
              " 'quidditch',\n",
              " 'cosa',\n",
              " 'fallido',\n",
              " 'ryan',\n",
              " 'otorgar',\n",
              " 'reconocer',\n",
              " 'discutir',\n",
              " 'convicción',\n",
              " 'resquebrajar',\n",
              " 'ministro',\n",
              " 'desencadenación',\n",
              " 'encierro',\n",
              " 'dificil',\n",
              " 'angustioso',\n",
              " 'priori',\n",
              " 'superheroe',\n",
              " 'madura',\n",
              " 'lao',\n",
              " 'tremendo',\n",
              " 'comen',\n",
              " 'placer',\n",
              " 'precoz',\n",
              " 'utópico',\n",
              " 'integrante',\n",
              " 'pagaser',\n",
              " 'curioso',\n",
              " 'verde',\n",
              " 'humanil',\n",
              " 'grotesco',\n",
              " 'palestino',\n",
              " 'acojonar',\n",
              " 'sintetizado',\n",
              " 'globo',\n",
              " 'maldición',\n",
              " 'disparo',\n",
              " 'katanon',\n",
              " 'one',\n",
              " 'operación',\n",
              " 'sensación',\n",
              " 'pseudo',\n",
              " 'wainwright',\n",
              " 'gratuito',\n",
              " 'fín',\n",
              " 'altura',\n",
              " 'respondar',\n",
              " 'lange',\n",
              " 'sabeís',\n",
              " 'violento',\n",
              " 'atrevar',\n",
              " 'precuela',\n",
              " 'sucumbir',\n",
              " 'piedra',\n",
              " 'atenerme',\n",
              " 'rematar',\n",
              " 'final',\n",
              " 'asiático',\n",
              " 'unido',\n",
              " 'europeo',\n",
              " 'acaso',\n",
              " 'tenso',\n",
              " 'burda',\n",
              " 'psiquiátrico',\n",
              " 'falla',\n",
              " 'regalar',\n",
              " 'sopor',\n",
              " 'veiar',\n",
              " 'whopper',\n",
              " 'sioux',\n",
              " 'mm',\n",
              " 'nuevamente',\n",
              " 'debilidad',\n",
              " 'absatracción',\n",
              " 'escondo',\n",
              " 'orden',\n",
              " 'acostumbrado',\n",
              " 'sable',\n",
              " 'desierto',\n",
              " 'contestar',\n",
              " 'explotarir',\n",
              " 'instante',\n",
              " 'tele',\n",
              " 'cubo',\n",
              " 'paja',\n",
              " 'simio',\n",
              " 'evacuado',\n",
              " 'animal',\n",
              " 'gorila',\n",
              " 'precisamente',\n",
              " 'prolífico',\n",
              " 'deportivo',\n",
              " 'serio',\n",
              " 'pie',\n",
              " 'acuatica',\n",
              " 'merecedor',\n",
              " 'fracasar',\n",
              " 'psicología',\n",
              " 'facultad',\n",
              " 'sensibilidad',\n",
              " 'situar',\n",
              " 'traera',\n",
              " 'colaborador',\n",
              " 'calentar',\n",
              " 'ayudar',\n",
              " 'pañuelo',\n",
              " 'rodeado',\n",
              " 'mendes',\n",
              " 'crowe',\n",
              " 'indiferencia',\n",
              " 'mierdon',\n",
              " 'mongo',\n",
              " 'acojonante',\n",
              " 'didáctico',\n",
              " 'heterosexual',\n",
              " 'yakusho',\n",
              " 'may',\n",
              " 'político',\n",
              " 'niebla',\n",
              " 'olor',\n",
              " 'jajadar',\n",
              " 'magnifico',\n",
              " 'jefe',\n",
              " 'sesgado',\n",
              " 'merecido',\n",
              " 'madison',\n",
              " 'expulsión',\n",
              " 'dvd',\n",
              " 'mediocre',\n",
              " 'terrorismo',\n",
              " 'cercanía',\n",
              " 'veterano',\n",
              " 'samurai',\n",
              " 'país',\n",
              " 'festival',\n",
              " 'opera',\n",
              " 'luchadorar',\n",
              " 'requerido',\n",
              " 'glorioso',\n",
              " 'dark',\n",
              " 'tedio',\n",
              " 'contratad',\n",
              " 'perdido',\n",
              " 'camaron',\n",
              " 'esporadico',\n",
              " 'tornar',\n",
              " 'terror',\n",
              " 'resumir',\n",
              " 'evolucionar',\n",
              " 'suyo',\n",
              " 'rodear',\n",
              " 'únicamente',\n",
              " 'reconocido',\n",
              " 'autentico',\n",
              " 'vena',\n",
              " 'comprometido',\n",
              " 'sastre',\n",
              " 'smallville',\n",
              " 'proyecto',\n",
              " 'obscuro',\n",
              " 'garret',\n",
              " 'cariz',\n",
              " 'preludio',\n",
              " 'suspense',\n",
              " 'interior',\n",
              " 'vera',\n",
              " 'estereotipo',\n",
              " 'peli',\n",
              " 'edición',\n",
              " 'festejar',\n",
              " 'contener',\n",
              " 'recorrido',\n",
              " 'raíz',\n",
              " 'hut',\n",
              " 'necronomicón',\n",
              " 'humanos',\n",
              " 'espléndido',\n",
              " 'irregular',\n",
              " 'digamo',\n",
              " 'clichés',\n",
              " 'truño',\n",
              " 'up',\n",
              " 'trasladarlos',\n",
              " 'rapido',\n",
              " 'prosaico',\n",
              " 'piel',\n",
              " 'pan',\n",
              " 'subnormal',\n",
              " 'excepción',\n",
              " 'espera',\n",
              " 'parto',\n",
              " 'juzgar',\n",
              " 'resolver',\n",
              " 'salir',\n",
              " 'rehén',\n",
              " 'sumergirno',\n",
              " 'etc',\n",
              " 'chocolate',\n",
              " 'esperar',\n",
              " 'triangulo',\n",
              " 'boxeador',\n",
              " 'herido',\n",
              " 'abusar',\n",
              " 'percepción',\n",
              " 'arrepientar',\n",
              " 'aterradoramente',\n",
              " 'india',\n",
              " 'efectillo',\n",
              " 'inocentemente',\n",
              " 'frente',\n",
              " 'teta',\n",
              " 'prisionero',\n",
              " 'mamar',\n",
              " 'blanco',\n",
              " 'bastar',\n",
              " 'comparar',\n",
              " 'paliza',\n",
              " 'soldado',\n",
              " 'adorar',\n",
              " 'expresar',\n",
              " 'forrao',\n",
              " 'preparado',\n",
              " 'diez',\n",
              " 'indico',\n",
              " 'normal',\n",
              " 'persona',\n",
              " 'aceptable',\n",
              " 'carismático',\n",
              " 'insoportable',\n",
              " 'banda',\n",
              " 'cabronazo',\n",
              " 'lastima',\n",
              " 'exacerbar',\n",
              " 'lucky',\n",
              " 'memo',\n",
              " 'irresistible',\n",
              " 'festivo',\n",
              " 'centrar',\n",
              " 'mano',\n",
              " 'lleno',\n",
              " 'engrandecir',\n",
              " 'conflicto',\n",
              " 'transformar',\n",
              " 'maldito',\n",
              " 'avanzar',\n",
              " 'anorexico',\n",
              " 'brazo',\n",
              " 'falacia',\n",
              " 'cabecilla',\n",
              " 'tipo',\n",
              " 'pueblecito',\n",
              " 'moto',\n",
              " 'tercero',\n",
              " 'naturaleza',\n",
              " 'recurrir',\n",
              " 'meme',\n",
              " 'acentuar',\n",
              " 'bautizado',\n",
              " 'distancia',\n",
              " 'costero',\n",
              " 'leido',\n",
              " 'rastro',\n",
              " 'hora',\n",
              " 'sublime',\n",
              " 'jugar',\n",
              " 'milenaria',\n",
              " 'peculiar',\n",
              " 'batallita',\n",
              " 'tren',\n",
              " 'dibujo',\n",
              " 'advertencia',\n",
              " '1998',\n",
              " 'comar',\n",
              " 'liar',\n",
              " 'decepcionar',\n",
              " 'prisión',\n",
              " 'carrerilla',\n",
              " 'cubrir',\n",
              " 'peso',\n",
              " 'promocionado',\n",
              " 'cole',\n",
              " 'vencer',\n",
              " 'flojo',\n",
              " 'ii',\n",
              " 'embriagadora',\n",
              " 'contrastar',\n",
              " 'pretencioso',\n",
              " 'planeta',\n",
              " 'internacional',\n",
              " 'campaña',\n",
              " 'mundo',\n",
              " 'marcial',\n",
              " 'johnatan',\n",
              " 'half',\n",
              " 'adecuado',\n",
              " 'colorido',\n",
              " 'aprendar',\n",
              " 'selvo',\n",
              " 'volar',\n",
              " 'zen',\n",
              " 'golf',\n",
              " 'personalidad',\n",
              " 'allá',\n",
              " 'papa',\n",
              " 'recobrar',\n",
              " 'escritor',\n",
              " 'cruz',\n",
              " 'severo',\n",
              " 'asfixiante',\n",
              " 'fiennes',\n",
              " 'anaquino',\n",
              " 'tronco',\n",
              " 'diálogo',\n",
              " 'encuentro',\n",
              " 'belleza',\n",
              " 'mania',\n",
              " 'dúo',\n",
              " 'niño',\n",
              " 'cagan',\n",
              " 'lucir',\n",
              " 'estarar',\n",
              " 'colegiala',\n",
              " 'jevys',\n",
              " 'trinchera',\n",
              " 'tedioso',\n",
              " 'jardín',\n",
              " 'romántico',\n",
              " 'aplaudir',\n",
              " 'párroco',\n",
              " 'métalica',\n",
              " 'ibar',\n",
              " 'pasar',\n",
              " 'peligro',\n",
              " 'ultimamente',\n",
              " 'israel',\n",
              " 'escucher',\n",
              " 'corte',\n",
              " 'compitar',\n",
              " 'narrativo',\n",
              " 'barrio',\n",
              " 'funcional',\n",
              " 'estreñido',\n",
              " 'tiniebla',\n",
              " 'precioso',\n",
              " 'existencia',\n",
              " 'juego',\n",
              " 'respiro',\n",
              " 'conmovedor',\n",
              " 'pantalla',\n",
              " 'provenir',\n",
              " 'reseña',\n",
              " 'interesante',\n",
              " 'reino',\n",
              " 'encerrar',\n",
              " 'curtido',\n",
              " 'azkaban',\n",
              " 'apurar',\n",
              " 'denunciar',\n",
              " 'ambigua',\n",
              " 'inspirar',\n",
              " 'machacar',\n",
              " 'rompecabeza',\n",
              " 'pulso',\n",
              " 'vacío',\n",
              " 'sobrecogedor',\n",
              " 'lost',\n",
              " 'adorada',\n",
              " 'esposa',\n",
              " 'noticia',\n",
              " 'ganador',\n",
              " 'evidentemente',\n",
              " 'enfrentar',\n",
              " 'llegar',\n",
              " 'tontolava',\n",
              " 'chorrada',\n",
              " 'despertar',\n",
              " 'soborno',\n",
              " 'pd',\n",
              " 'sepultado',\n",
              " 'gas',\n",
              " 'captar',\n",
              " 'defender',\n",
              " 'malo',\n",
              " 'conjunto',\n",
              " 'wats',\n",
              " 'puto',\n",
              " 'cacería',\n",
              " 'pre',\n",
              " 'ciudad',\n",
              " 'iglesia',\n",
              " 'candidata',\n",
              " 'fisico',\n",
              " 'politico',\n",
              " 'pareja',\n",
              " 'puñetazo',\n",
              " 'gong',\n",
              " 'naomi',\n",
              " 'responder',\n",
              " 'rumbo',\n",
              " 'microcámara',\n",
              " 'repudiar',\n",
              " 'agua',\n",
              " 'impedir',\n",
              " 'criticar',\n",
              " 'industria',\n",
              " 'periodico',\n",
              " 'narración',\n",
              " 'inicial',\n",
              " 'vudú',\n",
              " 'exigir',\n",
              " 'millon',\n",
              " 'oficial',\n",
              " 'privado',\n",
              " '35',\n",
              " 'venenoso',\n",
              " 'marido',\n",
              " 'paciente',\n",
              " 'cerrar',\n",
              " 'exceptuar',\n",
              " 'telediario',\n",
              " 'número',\n",
              " 'obviamente',\n",
              " 'gustar',\n",
              " 'gualtrapa',\n",
              " 'dulzón',\n",
              " 'transmitido',\n",
              " 'parecido',\n",
              " 'leif',\n",
              " 'doble',\n",
              " 'peor',\n",
              " 'hale',\n",
              " 'encumbrar',\n",
              " 'carta',\n",
              " 'irak',\n",
              " 'entender',\n",
              " 'lógica',\n",
              " 'milla',\n",
              " 'alegría',\n",
              " 'concentrado',\n",
              " 'visión',\n",
              " 'pincelada',\n",
              " 'calculadamente',\n",
              " 'sovretodo',\n",
              " 'hablar',\n",
              " 'giran',\n",
              " 'lerda',\n",
              " 'ingenio',\n",
              " 'baticueva',\n",
              " 'negativo',\n",
              " 'ajenar',\n",
              " 'espiar',\n",
              " 'genero',\n",
              " 'cara',\n",
              " 'movimiento',\n",
              " 'anillos',\n",
              " 'siniestrar',\n",
              " 'profundización',\n",
              " 'entendeis',\n",
              " 'atrapa',\n",
              " 'bruja',\n",
              " 'mental',\n",
              " 'alegato',\n",
              " 'cerrojo',\n",
              " 'oler',\n",
              " 'ingeniós',\n",
              " 'teatro',\n",
              " 'sumo',\n",
              " 'stalingrado',\n",
              " 'japón',\n",
              " 'vinegar',\n",
              " 'tonta',\n",
              " 'dantesco',\n",
              " 'susodicho',\n",
              " 'innecesario',\n",
              " 'disteis',\n",
              " 'farmaceútico',\n",
              " 'centrado',\n",
              " 'desastre',\n",
              " 'saw',\n",
              " 'jigsaw',\n",
              " 'molestar',\n",
              " 'abismo',\n",
              " 'calzoncillo',\n",
              " 'adolecir',\n",
              " 'fenomenal',\n",
              " 'enfoque',\n",
              " 'espiritu',\n",
              " 'menor',\n",
              " 'boxeo',\n",
              " 'haz',\n",
              " 'quemar',\n",
              " 'emocionante',\n",
              " 'gruyerir',\n",
              " 'haciéndola',\n",
              " 'anticipación',\n",
              " 'atención',\n",
              " 'pajon',\n",
              " 'enojado',\n",
              " 'encontrarar',\n",
              " 'calificar',\n",
              " 'ring',\n",
              " 'munich',\n",
              " 'ópera',\n",
              " 'terrorifico',\n",
              " 'parado',\n",
              " 'remakes',\n",
              " 'careta',\n",
              " 'hacer',\n",
              " 'anteriormente',\n",
              " 'escrito',\n",
              " 'jedis',\n",
              " 'horfanato',\n",
              " 'andi',\n",
              " 'salvario',\n",
              " 'compuesta',\n",
              " 'monton',\n",
              " 'film',\n",
              " 'cinderella',\n",
              " 'meramente',\n",
              " 'olímpicos',\n",
              " 'detractor',\n",
              " 'sorpresa',\n",
              " 'monopoli',\n",
              " 'andar',\n",
              " 'tudela',\n",
              " 'predispuesto',\n",
              " 'viendo',\n",
              " 'lentitud',\n",
              " 'laca',\n",
              " 'progreso',\n",
              " 'acto',\n",
              " 'representado',\n",
              " 'atractivo',\n",
              " 'distinto',\n",
              " 'món',\n",
              " 'horror',\n",
              " 'taiwán',\n",
              " 'forma',\n",
              " 'interesar',\n",
              " 'perturbadoro',\n",
              " 'dosis',\n",
              " 'mojar',\n",
              " 'pacífica',\n",
              " 'atapuerca',\n",
              " 'monotonir',\n",
              " 'añadido',\n",
              " 'compañera',\n",
              " 'entretenida',\n",
              " 'precedente',\n",
              " 'rhys',\n",
              " 'espíritu',\n",
              " 'grande',\n",
              " 'zatoichi',\n",
              " 'venganza',\n",
              " 'capacidad',\n",
              " 'metálico',\n",
              " 'fiasco',\n",
              " 'experimento',\n",
              " 'horroroso',\n",
              " 'titular',\n",
              " 'juegos',\n",
              " 'loco',\n",
              " 'juventud',\n",
              " 'pésimo',\n",
              " 'dollar',\n",
              " 'biografía',\n",
              " 'novio',\n",
              " 'filmar',\n",
              " 'deleitar',\n",
              " 'últimamente',\n",
              " 'guión',\n",
              " 'soprendente',\n",
              " 'narran',\n",
              " 'vero',\n",
              " 'superviviente',\n",
              " 'compenetrarno',\n",
              " 'inverosímil',\n",
              " 'mil',\n",
              " 'dejamar',\n",
              " 'parámetro',\n",
              " 'comedia',\n",
              " 'jesica',\n",
              " 'insigne',\n",
              " 'levantar',\n",
              " 'innovador',\n",
              " 'salvador',\n",
              " 'abordar',\n",
              " 'bienvenidos',\n",
              " 'impactante',\n",
              " 'fraude',\n",
              " 'nostalgia',\n",
              " 'ledger',\n",
              " 'actores',\n",
              " 'cerebral',\n",
              " 'procurar',\n",
              " 'evento',\n",
              " 'mártir',\n",
              " 'físico',\n",
              " 'cobrar',\n",
              " '1933',\n",
              " 'lelo',\n",
              " 'soñar',\n",
              " 'principal',\n",
              " 'matiz',\n",
              " 'toña',\n",
              " 'bso',\n",
              " 'arrastrar',\n",
              " 'influencia',\n",
              " 'gilipol',\n",
              " 'abajo',\n",
              " 'huerfano',\n",
              " 'organización',\n",
              " 'suficientemente',\n",
              " 'sumamente',\n",
              " 'disfrutar',\n",
              " 'fruto',\n",
              " 'antagonismo',\n",
              " 'alivio',\n",
              " 'cuestión',\n",
              " 'atencion',\n",
              " 'toma',\n",
              " 'merecidamente',\n",
              " 'mendigar',\n",
              " 'depredador',\n",
              " 'universal',\n",
              " 'no',\n",
              " 'reir',\n",
              " 'cantar',\n",
              " 'perspectiva',\n",
              " 'colocación',\n",
              " 'recomendable',\n",
              " 'ocasión',\n",
              " 'posteriormente',\n",
              " 'cantidad',\n",
              " 'man',\n",
              " 'pamela',\n",
              " 'monte',\n",
              " 'chaval',\n",
              " 'metafórico',\n",
              " 'off',\n",
              " 'manía',\n",
              " 'trabajado',\n",
              " 'introducción',\n",
              " 'desgraciadamente',\n",
              " 'homosexualidad',\n",
              " 'sabor',\n",
              " 'marcha',\n",
              " 'vaquero',\n",
              " 'jovencito',\n",
              " 'sacais',\n",
              " 'pegamento',\n",
              " 'duras',\n",
              " 'cién',\n",
              " 'chismorreo',\n",
              " 'enrarecir',\n",
              " 'cadáver',\n",
              " 'homenaje',\n",
              " 'anécdota',\n",
              " 'atrevido',\n",
              " 'simultáneamente',\n",
              " 'velocidad',\n",
              " 'delito',\n",
              " 'salsa',\n",
              " 'increíbl',\n",
              " 'concentrar',\n",
              " 'respuesta',\n",
              " 'dibujito',\n",
              " 'jedaisharta',\n",
              " 'arraigado',\n",
              " 'ilógico',\n",
              " 'metida',\n",
              " 'dardo',\n",
              " 'poseer',\n",
              " 'colocar',\n",
              " 'mito',\n",
              " 'favorecer',\n",
              " 'mágico',\n",
              " 'mico',\n",
              " 'fascinación',\n",
              " 'azar',\n",
              " 'regularidad',\n",
              " 'explicación',\n",
              " 'narnia',\n",
              " 'jardinero',\n",
              " 'pangea',\n",
              " 'televisión',\n",
              " 'caracter',\n",
              " 'entretenimiento',\n",
              " 'insospechado',\n",
              " 'menuda',\n",
              " 'jarhead',\n",
              " 'individuo',\n",
              " 'ojito',\n",
              " 'subnor',\n",
              " 'detective',\n",
              " 'rebelde',\n",
              " 'vedado',\n",
              " '1980',\n",
              " 'rodea',\n",
              " 'liderizar',\n",
              " 'escáner',\n",
              " 'cheroki',\n",
              " 'encuadr',\n",
              " 'judú',\n",
              " 'mamen',\n",
              " 'funeral',\n",
              " 'peca',\n",
              " 'poniendo',\n",
              " 'pollo',\n",
              " 'influido',\n",
              " 'remediar',\n",
              " 'palante',\n",
              " 'manido',\n",
              " 'campo',\n",
              " 'vuelta',\n",
              " 'diferenciar',\n",
              " 'jejeje',\n",
              " 'significado',\n",
              " 'solondz',\n",
              " 'dement',\n",
              " 'racional',\n",
              " 'fenix',\n",
              " 'escoger',\n",
              " 'estela',\n",
              " 'humanidad',\n",
              " 'aslan',\n",
              " 'particular',\n",
              " 'utilizar',\n",
              " 'seabiscuit',\n",
              " 'secundario',\n",
              " 'mareé',\n",
              " 'obsesión',\n",
              " 'hielo',\n",
              " 'control',\n",
              " 'mitológico',\n",
              " 'cós',\n",
              " 'septimo',\n",
              " 'dormido',\n",
              " 'imperdonabl',\n",
              " 'explícito',\n",
              " 'inmortal',\n",
              " 'pastar',\n",
              " 'reflejo',\n",
              " 'aplicadito',\n",
              " 'decisión',\n",
              " 'pudiéramos',\n",
              " 'ingeniero',\n",
              " 'prefabricado',\n",
              " 'sobresalir',\n",
              " 'puntito',\n",
              " 'obviar',\n",
              " 'ficticio',\n",
              " 'engaño',\n",
              " 'inexpresivo',\n",
              " 'tremendamente',\n",
              " 'sobra',\n",
              " 'alternar',\n",
              " 'mentira',\n",
              " 'baby',\n",
              " 'dispuesto',\n",
              " 'evidente',\n",
              " 'remakir',\n",
              " 'compañero',\n",
              " 'percatado',\n",
              " 'costa',\n",
              " 'tradición',\n",
              " 'apareamiento',\n",
              " 'dar',\n",
              " 'bonito',\n",
              " 'halloweir',\n",
              " 'efectivamente',\n",
              " 'borde',\n",
              " 'aceptación',\n",
              " 'valía',\n",
              " 'vampiro',\n",
              " 'vetar',\n",
              " 'biopic',\n",
              " 'bell',\n",
              " 'aburrimiento',\n",
              " 'sencillo',\n",
              " 'pagina',\n",
              " 'empeñar',\n",
              " 'azúcar',\n",
              " 'recrear',\n",
              " 'cronicas',\n",
              " 'suplir',\n",
              " 'vagamente',\n",
              " 'creador',\n",
              " 'cojón',\n",
              " 'antesustos',\n",
              " 'mes',\n",
              " 'habitante',\n",
              " 'gilipollesco',\n",
              " 'maquillada',\n",
              " 'susto',\n",
              " 'inquieto',\n",
              " 'orleans',\n",
              " 'puristar',\n",
              " 'cuidado',\n",
              " 'idolo',\n",
              " 'sábana',\n",
              " 'sexy',\n",
              " 'arquetipo',\n",
              " 'porqué',\n",
              " 'indígena',\n",
              " 'mossad',\n",
              " 'comunidad',\n",
              " 'plantear',\n",
              " '2002',\n",
              " 'rodaje',\n",
              " 'propuesta',\n",
              " 'disipar',\n",
              " 'blood',\n",
              " 'churro',\n",
              " 'bajon',\n",
              " 'bello',\n",
              " 'desmantelamiento',\n",
              " 'resolutivo',\n",
              " 'defraudó',\n",
              " 'valiente',\n",
              " 'rasgo',\n",
              " 'estadounidense',\n",
              " 'montaña',\n",
              " 'best',\n",
              " 'subir',\n",
              " 'paraje',\n",
              " 'vader',\n",
              " 'probablemente',\n",
              " 'comestibl',\n",
              " ...}"
            ]
          },
          "metadata": {
            "tags": []
          },
          "execution_count": 28
        }
      ]
    },
    {
      "cell_type": "code",
      "metadata": {
        "id": "sized-panic",
        "outputId": "d0faa8f4-f437-426c-c64f-858489e9d7a9"
      },
      "source": [
        "len(vect.stop_words_)"
      ],
      "id": "sized-panic",
      "execution_count": null,
      "outputs": [
        {
          "output_type": "execute_result",
          "data": {
            "text/plain": [
              "1983"
            ]
          },
          "metadata": {
            "tags": []
          },
          "execution_count": 29
        }
      ]
    },
    {
      "cell_type": "markdown",
      "metadata": {
        "id": "incorrect-provider"
      },
      "source": [
        "## Extracción de Word embeddings\n",
        "Ahora vamos a calcular los *word vectors* de las palabras de nuestro conjunto de datos, usando la clase `word2vec` de la librería `gensim`.\\\n",
        "Esta librería acepta como argumento de entrada un objeto `iterador` que generará el texto pre-procesado de la siguiente crítica en la secuencia.\\\n",
        "Vamos a usar las funciones de pre-procesado de la librería `gensim`.\\\n",
        "Primero definimos un objeto de tipo `streamed iterable` para recorrer las críticas. Se diferencia de un simple `generator` en que cada vez que se llama, se puede reiniciar la generación de la secuencia (necesario para el modelo `word2vec`)"
      ],
      "id": "incorrect-provider"
    },
    {
      "cell_type": "code",
      "metadata": {
        "id": "quantitative-institute"
      },
      "source": [
        "from gensim.utils import simple_preprocess\n",
        "        \n",
        "class PreprocesaCriticas(object):\n",
        "    \"\"\"Pre-procesa el corpus de críticas con la función 'simple_preprocess'\n",
        "    de la librería gensim\n",
        "    Entrada: directorio de críticas\n",
        "    Salida: iterador sobre las críticas (como lista de tokens)\"\"\"\n",
        "    def __init__(self, dirname):\n",
        "        self.dirname = dirname\n",
        " \n",
        "    def __iter__(self):\n",
        "        for c in parse_folder(self.dirname):\n",
        "            yield normaliza(c[2]).split(' ')"
      ],
      "id": "quantitative-institute",
      "execution_count": null,
      "outputs": []
    },
    {
      "cell_type": "code",
      "metadata": {
        "id": "impossible-hormone"
      },
      "source": [
        "#instanciamos un objeto para nuestro directorio\n",
        "criticas = PreprocesaCriticas(\"criticas\")"
      ],
      "id": "impossible-hormone",
      "execution_count": null,
      "outputs": []
    },
    {
      "cell_type": "markdown",
      "metadata": {
        "id": "looking-denmark"
      },
      "source": [
        "Para probar su funcionamiento con la primera crítica usamos el método `next` convirtiéndolo en *iterable*"
      ],
      "id": "looking-denmark"
    },
    {
      "cell_type": "code",
      "metadata": {
        "id": "checked-albert",
        "outputId": "89d9ce8f-0f64-41fd-98d6-9cd2d0aa77a1"
      },
      "source": [
        "criticas_iter = iter(criticas)\n",
        "print(next(criticas_iter))"
      ],
      "id": "checked-albert",
      "execution_count": null,
      "outputs": [
        {
          "output_type": "stream",
          "text": [
            "['gustar', 'cine', 'masa', 'pelicula', 'ver', 'mundo', 'parecer', 'coñazo', 'insufribl', 'porquar', 'prota', 'tonto', 'culo', 'suerte', 'peli', 'lograr', 'vencer', 'convertir', 'listo', 'chorrada', 'comienzo', 'pelicula', 'esfumar', 'arte', 'magia', 'volver', 'maduro', 'inteligente', 'peli', 'persona', 'huir', 'huir', 'dar', 'tiro', 'cabron', 'meter', 'par', 'actor', 'echarl', 'comer', 'aparte', 'niña', 'viejo', 'metida', 'cuerpo', 'niña', 'ver', 'él', 'hablar', 'version', 'original', 'dar', 'él', 'freak', 'cine', 'creeran', 'gracia', 'nena', 'puta', 'madre', 'causar', 'pavor', 'cria', 'persona', 'maduro', 'horroroso', 'niño', 'niño', 'ver', 'él', 'rol', 'asusta', 'hijo', 'adolescente', 'cruise', 'subnormal', 'dar', 'él', 'bofetada', 'ver', 'hueso', 'mano', 'fiel', 'reflejo', 'denominar', 'manipulacion', 'militar', 'chico', 'matar', 'bicho', 'ningun', 'arma', 'hale', 'loco', 'pensar', 'venir', 'saco', 'quereis', 'decir', 'fanatismo', 'locura', 'alguien', 'querer', 'luchar', 'medio', 'muerte', 'seguro', 'jodar', 'sobremanerir', 'pelicula', 'aparecer', 'mongo', 'abuelo', 'familia', 'salir', 'dio', 'viejo', 'aparecer', 'traje', 'domingo', 'maquillada', 'sinsorgadar', 'faltar', 'persona', 'volver', 'exmujer', 'mundo', 'tranquilos', 'contar', 'peli', 'pasar', 'peli', 'acabar', 'restar', 'misterio', 'bodrio', 'persona', 'paso', 'convertir', 'director', 'efecto', 'especial', 'contar', 'historia', 'disteis', 'norteamericano', 'guardar', 'compostura', 'gritar', 'momento', 'dificil', 'sensato', 'tranquilizar', 'él', 'discutir', 'chorrada', 'puta', 'peli', 'parar', 'gritar', 'pegar', 'él', 'gracia', 'comienzo', 'peli', 'suelo', 'empezar', 'resquebrajar', 'él', 'gente', 'quedar', 'mirar', 'pasar', 'joder', 'estario', 'correr', 'puta', 'escondiéndome', 'ver', 'bicho', 'lanzar', 'rayo', 'machacar', 'to', 'dios', 'escondo', 'seguir', 'hablar', 'mierda', 'queriar', 'conseguir', 'pagaser', 'entrada', 'cine', 'prima', 'bajarar', 'internet', 'ver', 'calidad', 'peli', 'aceptable', 'pasar', 'él', 'palante', 'mando', 'forward', 'mano', 'morir']\n"
          ],
          "name": "stdout"
        }
      ]
    },
    {
      "cell_type": "markdown",
      "metadata": {
        "id": "middle-wellington"
      },
      "source": [
        "Al contrario que el objeto generado con la función `generaCriticas` el objeto de `PreprocesaCriticas` se reinicia cada vez que lo iteramos"
      ],
      "id": "middle-wellington"
    },
    {
      "cell_type": "code",
      "metadata": {
        "id": "super-lancaster",
        "outputId": "e8e46e14-101a-4e52-d46c-3142791d9b42"
      },
      "source": [
        "criticas = PreprocesaCriticas(\"criticas\")\n",
        "for c in criticas:\n",
        "    print(c)\n",
        "    break"
      ],
      "id": "super-lancaster",
      "execution_count": null,
      "outputs": [
        {
          "output_type": "stream",
          "text": [
            "['gustar', 'cine', 'masa', 'pelicula', 'ver', 'mundo', 'parecer', 'coñazo', 'insufribl', 'porquar', 'prota', 'tonto', 'culo', 'suerte', 'peli', 'lograr', 'vencer', 'convertir', 'listo', 'chorrada', 'comienzo', 'pelicula', 'esfumar', 'arte', 'magia', 'volver', 'maduro', 'inteligente', 'peli', 'persona', 'huir', 'huir', 'dar', 'tiro', 'cabron', 'meter', 'par', 'actor', 'echarl', 'comer', 'aparte', 'niña', 'viejo', 'metida', 'cuerpo', 'niña', 'ver', 'él', 'hablar', 'version', 'original', 'dar', 'él', 'freak', 'cine', 'creeran', 'gracia', 'nena', 'puta', 'madre', 'causar', 'pavor', 'cria', 'persona', 'maduro', 'horroroso', 'niño', 'niño', 'ver', 'él', 'rol', 'asusta', 'hijo', 'adolescente', 'cruise', 'subnormal', 'dar', 'él', 'bofetada', 'ver', 'hueso', 'mano', 'fiel', 'reflejo', 'denominar', 'manipulacion', 'militar', 'chico', 'matar', 'bicho', 'ningun', 'arma', 'hale', 'loco', 'pensar', 'venir', 'saco', 'quereis', 'decir', 'fanatismo', 'locura', 'alguien', 'querer', 'luchar', 'medio', 'muerte', 'seguro', 'jodar', 'sobremanerir', 'pelicula', 'aparecer', 'mongo', 'abuelo', 'familia', 'salir', 'dio', 'viejo', 'aparecer', 'traje', 'domingo', 'maquillada', 'sinsorgadar', 'faltar', 'persona', 'volver', 'exmujer', 'mundo', 'tranquilos', 'contar', 'peli', 'pasar', 'peli', 'acabar', 'restar', 'misterio', 'bodrio', 'persona', 'paso', 'convertir', 'director', 'efecto', 'especial', 'contar', 'historia', 'disteis', 'norteamericano', 'guardar', 'compostura', 'gritar', 'momento', 'dificil', 'sensato', 'tranquilizar', 'él', 'discutir', 'chorrada', 'puta', 'peli', 'parar', 'gritar', 'pegar', 'él', 'gracia', 'comienzo', 'peli', 'suelo', 'empezar', 'resquebrajar', 'él', 'gente', 'quedar', 'mirar', 'pasar', 'joder', 'estario', 'correr', 'puta', 'escondiéndome', 'ver', 'bicho', 'lanzar', 'rayo', 'machacar', 'to', 'dios', 'escondo', 'seguir', 'hablar', 'mierda', 'queriar', 'conseguir', 'pagaser', 'entrada', 'cine', 'prima', 'bajarar', 'internet', 'ver', 'calidad', 'peli', 'aceptable', 'pasar', 'él', 'palante', 'mando', 'forward', 'mano', 'morir']\n"
          ],
          "name": "stdout"
        }
      ]
    },
    {
      "cell_type": "code",
      "metadata": {
        "id": "behavioral-newark",
        "outputId": "d8ad20a8-b66e-417e-a6fc-440352a7697b"
      },
      "source": [
        "for c in criticas:\n",
        "    print(c)\n",
        "    break"
      ],
      "id": "behavioral-newark",
      "execution_count": null,
      "outputs": [
        {
          "output_type": "stream",
          "text": [
            "['gustar', 'cine', 'masa', 'pelicula', 'ver', 'mundo', 'parecer', 'coñazo', 'insufribl', 'porquar', 'prota', 'tonto', 'culo', 'suerte', 'peli', 'lograr', 'vencer', 'convertir', 'listo', 'chorrada', 'comienzo', 'pelicula', 'esfumar', 'arte', 'magia', 'volver', 'maduro', 'inteligente', 'peli', 'persona', 'huir', 'huir', 'dar', 'tiro', 'cabron', 'meter', 'par', 'actor', 'echarl', 'comer', 'aparte', 'niña', 'viejo', 'metida', 'cuerpo', 'niña', 'ver', 'él', 'hablar', 'version', 'original', 'dar', 'él', 'freak', 'cine', 'creeran', 'gracia', 'nena', 'puta', 'madre', 'causar', 'pavor', 'cria', 'persona', 'maduro', 'horroroso', 'niño', 'niño', 'ver', 'él', 'rol', 'asusta', 'hijo', 'adolescente', 'cruise', 'subnormal', 'dar', 'él', 'bofetada', 'ver', 'hueso', 'mano', 'fiel', 'reflejo', 'denominar', 'manipulacion', 'militar', 'chico', 'matar', 'bicho', 'ningun', 'arma', 'hale', 'loco', 'pensar', 'venir', 'saco', 'quereis', 'decir', 'fanatismo', 'locura', 'alguien', 'querer', 'luchar', 'medio', 'muerte', 'seguro', 'jodar', 'sobremanerir', 'pelicula', 'aparecer', 'mongo', 'abuelo', 'familia', 'salir', 'dio', 'viejo', 'aparecer', 'traje', 'domingo', 'maquillada', 'sinsorgadar', 'faltar', 'persona', 'volver', 'exmujer', 'mundo', 'tranquilos', 'contar', 'peli', 'pasar', 'peli', 'acabar', 'restar', 'misterio', 'bodrio', 'persona', 'paso', 'convertir', 'director', 'efecto', 'especial', 'contar', 'historia', 'disteis', 'norteamericano', 'guardar', 'compostura', 'gritar', 'momento', 'dificil', 'sensato', 'tranquilizar', 'él', 'discutir', 'chorrada', 'puta', 'peli', 'parar', 'gritar', 'pegar', 'él', 'gracia', 'comienzo', 'peli', 'suelo', 'empezar', 'resquebrajar', 'él', 'gente', 'quedar', 'mirar', 'pasar', 'joder', 'estario', 'correr', 'puta', 'escondiéndome', 'ver', 'bicho', 'lanzar', 'rayo', 'machacar', 'to', 'dios', 'escondo', 'seguir', 'hablar', 'mierda', 'queriar', 'conseguir', 'pagaser', 'entrada', 'cine', 'prima', 'bajarar', 'internet', 'ver', 'calidad', 'peli', 'aceptable', 'pasar', 'él', 'palante', 'mando', 'forward', 'mano', 'morir']\n"
          ],
          "name": "stdout"
        }
      ]
    },
    {
      "cell_type": "code",
      "metadata": {
        "id": "legitimate-zimbabwe",
        "outputId": "ac2e96bc-4d20-4af2-a528-3f91d3187b13"
      },
      "source": [
        "criticas = generaCritica(parse_folder(\"criticas\"))\n",
        "for c in criticas:\n",
        "    print(c)\n",
        "    break"
      ],
      "id": "legitimate-zimbabwe",
      "execution_count": null,
      "outputs": [
        {
          "output_type": "stream",
          "text": [
            "gustar cine masa pelicula ver mundo parecer coñazo insufribl porquar prota tonto culo suerte peli lograr vencer convertir listo chorrada comienzo pelicula esfumar arte magia volver maduro inteligente peli persona huir huir dar tiro cabron meter par actor echarl comer aparte niña viejo metida cuerpo niña ver él hablar version original dar él freak cine creeran gracia nena puta madre causar pavor cria persona maduro horroroso niño niño ver él rol asusta hijo adolescente cruise subnormal dar él bofetada ver hueso mano fiel reflejo denominar manipulacion militar chico matar bicho ningun arma hale loco pensar venir saco quereis decir fanatismo locura alguien querer luchar medio muerte seguro jodar sobremanerir pelicula aparecer mongo abuelo familia salir dio viejo aparecer traje domingo maquillada sinsorgadar faltar persona volver exmujer mundo tranquilos contar peli pasar peli acabar restar misterio bodrio persona paso convertir director efecto especial contar historia disteis norteamericano guardar compostura gritar momento dificil sensato tranquilizar él discutir chorrada puta peli parar gritar pegar él gracia comienzo peli suelo empezar resquebrajar él gente quedar mirar pasar joder estario correr puta escondiéndome ver bicho lanzar rayo machacar to dios escondo seguir hablar mierda queriar conseguir pagaser entrada cine prima bajarar internet ver calidad peli aceptable pasar él palante mando forward mano morir\n"
          ],
          "name": "stdout"
        }
      ]
    },
    {
      "cell_type": "code",
      "metadata": {
        "id": "iraqi-singapore",
        "outputId": "03185266-94b2-4cea-fb3b-cec52e000eb7"
      },
      "source": [
        "for c in criticas:\n",
        "    print(c)\n",
        "    break"
      ],
      "id": "iraqi-singapore",
      "execution_count": null,
      "outputs": [
        {
          "output_type": "stream",
          "text": [
            "sioux decia amigo trilogia pelicula llegar entrar consideración malo suda medio peli momento momento soporífero aguantar memo charla nidito amor tochazo rollo meter politico batallita molar sobresaliente escasez mental retarded anakin pelicula anterior aparecer tio listo ver liar palpatine burda palabrerio chantajeadoro quedar tonto ver anaquino venir persona quino joaquin sueño persona pasar obscuro escribiar encontrarar remedio calle preguntar tia ver soñar malo decir él solucion sueño dejar meterl puntita tolai caer juego persona caer mir él transalpinobueno hablar persona emperador malo maloso liante viejo habeis percatado rollo recordar extrañamente persona accion irak matar traera paz enemigo enredar gente cós malo hacer él armada clón quitar sombrero semejante telaraña montado tomar mr bush irak jedaisharta gracia jedai jedi vida retorno jedi deciar niño alguien decir retorno jedai dar toña marica hablar anterioridad ser comen follar alquien ver follar jedi comer preguntar coño habrar inspirado lucas cosa jedi tia teta azul tio esmirriao feo cojón persona pimiento verde tudela bastonlos jedis cosa persona the hut jedi apurar jajadar vaderme llamar atencion cambiar vader peinado pelicula episodio niño aplicadito peinado lleno laca salir zorro plan leif garret locar perdio pelo corto pelo pelo sinonimo chico malo melenas terror nena introspeccion personaje persona vader dire traje inspirado antiguo samurais casco rollo montar espadita calcar rollo samurais katana niño katana dio sable laser katana sable katanon samurai echar batallita comienzo peli polla vinagre cock in vinegar aburrir lucha sable laser ver pijo historia director obiwan rodeado mil madre cambio clón rebelar jedis ver matar teniar jedis sexto sentido huelar peligro peli agujero guion queso gruyerir entretener charla anakino pamela tostón virgen falso euro madera peli mamar él mamen\n"
          ],
          "name": "stdout"
        }
      ]
    },
    {
      "cell_type": "markdown",
      "metadata": {
        "id": "immediate-background"
      },
      "source": [
        "Calculamos los vectores de palabras de todo el corpus con el modelo `word2vec` que acepta como argumento de entrada un objeto de tipo `iterator` como el creado"
      ],
      "id": "immediate-background"
    },
    {
      "cell_type": "code",
      "metadata": {
        "id": "tamil-objective",
        "outputId": "9d9036c4-b365-4d5d-acde-5e77ce60fe4c"
      },
      "source": [
        "#Cálculo de los vectores de palabras\n",
        "from gensim.models import Word2Vec\n",
        "\n",
        "criticas = PreprocesaCriticas('criticas')\n",
        "\n",
        "model = Word2Vec(criticas, #iterador con los documentos\n",
        "                               size=10,          #tamaño del vector\n",
        "                               window=5,         #nº de términos adyacentes que usamos para el cálculo\n",
        "                               min_count=5,      #nº mínimo de apariciones del término para contarlo\n",
        "                               iter=100\n",
        "                              )\n",
        "\n",
        "#una vez entrenado el modelo nos quedamos con los vectores calculados\n",
        "#si no se van a actualizar los vectores con nuevos documentos\n",
        "model = model.wv\n",
        "len(model.vocab)"
      ],
      "id": "tamil-objective",
      "execution_count": null,
      "outputs": [
        {
          "output_type": "execute_result",
          "data": {
            "text/plain": [
              "189"
            ]
          },
          "metadata": {
            "tags": []
          },
          "execution_count": 39
        }
      ]
    },
    {
      "cell_type": "markdown",
      "metadata": {
        "id": "amateur-diploma"
      },
      "source": [
        "Seleccinamos aleatoriamente 25 palabras del conjunto calculado"
      ],
      "id": "amateur-diploma"
    },
    {
      "cell_type": "code",
      "metadata": {
        "id": "progressive-ethiopia"
      },
      "source": [
        "import numpy as np\n",
        "\n",
        "palabras_sample = np.random.choice(model.index2word, 25, replace=False)"
      ],
      "id": "progressive-ethiopia",
      "execution_count": null,
      "outputs": []
    },
    {
      "cell_type": "code",
      "metadata": {
        "id": "miniature-python",
        "outputId": "e48eba30-a85f-485e-ad1a-27ad526f7203"
      },
      "source": [
        "palabras_sample"
      ],
      "id": "miniature-python",
      "execution_count": null,
      "outputs": [
        {
          "output_type": "execute_result",
          "data": {
            "text/plain": [
              "array(['único', 'representar', 'hora', 'yo', 'poner', 'madre', 'terror',\n",
              "       'lleno', 'original', 'principal', 'trama', 'problema', 'cara',\n",
              "       'contar', 'pantalla', 'tele', 'director', 'actor', 'escribir',\n",
              "       'muerte', 'tipo', 'demostrar', 'saber', 'venir', 'niña'],\n",
              "      dtype='<U13')"
            ]
          },
          "metadata": {
            "tags": []
          },
          "execution_count": 41
        }
      ]
    },
    {
      "cell_type": "code",
      "metadata": {
        "id": "soviet-jordan",
        "outputId": "5264c4eb-889c-4c76-ef37-5a8f1c2ca185"
      },
      "source": [
        "model['desarrollar']"
      ],
      "id": "soviet-jordan",
      "execution_count": null,
      "outputs": [
        {
          "output_type": "error",
          "ename": "KeyError",
          "evalue": "\"word 'desarrollar' not in vocabulary\"",
          "traceback": [
            "\u001b[0;31m---------------------------------------------------------------------------\u001b[0m",
            "\u001b[0;31mKeyError\u001b[0m                                  Traceback (most recent call last)",
            "\u001b[0;32m<ipython-input-43-93b5e0b1f6c0>\u001b[0m in \u001b[0;36m<module>\u001b[0;34m\u001b[0m\n\u001b[0;32m----> 1\u001b[0;31m \u001b[0mmodel\u001b[0m\u001b[0;34m[\u001b[0m\u001b[0;34m'desarrollar'\u001b[0m\u001b[0;34m]\u001b[0m\u001b[0;34m\u001b[0m\u001b[0;34m\u001b[0m\u001b[0m\n\u001b[0m",
            "\u001b[0;32m~/anaconda3/lib/python3.8/site-packages/gensim/models/keyedvectors.py\u001b[0m in \u001b[0;36m__getitem__\u001b[0;34m(self, entities)\u001b[0m\n\u001b[1;32m    351\u001b[0m         \u001b[0;32mif\u001b[0m \u001b[0misinstance\u001b[0m\u001b[0;34m(\u001b[0m\u001b[0mentities\u001b[0m\u001b[0;34m,\u001b[0m \u001b[0mstring_types\u001b[0m\u001b[0;34m)\u001b[0m\u001b[0;34m:\u001b[0m\u001b[0;34m\u001b[0m\u001b[0;34m\u001b[0m\u001b[0m\n\u001b[1;32m    352\u001b[0m             \u001b[0;31m# allow calls like trained_model['office'], as a shorthand for trained_model[['office']]\u001b[0m\u001b[0;34m\u001b[0m\u001b[0;34m\u001b[0m\u001b[0;34m\u001b[0m\u001b[0m\n\u001b[0;32m--> 353\u001b[0;31m             \u001b[0;32mreturn\u001b[0m \u001b[0mself\u001b[0m\u001b[0;34m.\u001b[0m\u001b[0mget_vector\u001b[0m\u001b[0;34m(\u001b[0m\u001b[0mentities\u001b[0m\u001b[0;34m)\u001b[0m\u001b[0;34m\u001b[0m\u001b[0;34m\u001b[0m\u001b[0m\n\u001b[0m\u001b[1;32m    354\u001b[0m \u001b[0;34m\u001b[0m\u001b[0m\n\u001b[1;32m    355\u001b[0m         \u001b[0;32mreturn\u001b[0m \u001b[0mvstack\u001b[0m\u001b[0;34m(\u001b[0m\u001b[0;34m[\u001b[0m\u001b[0mself\u001b[0m\u001b[0;34m.\u001b[0m\u001b[0mget_vector\u001b[0m\u001b[0;34m(\u001b[0m\u001b[0mentity\u001b[0m\u001b[0;34m)\u001b[0m \u001b[0;32mfor\u001b[0m \u001b[0mentity\u001b[0m \u001b[0;32min\u001b[0m \u001b[0mentities\u001b[0m\u001b[0;34m]\u001b[0m\u001b[0;34m)\u001b[0m\u001b[0;34m\u001b[0m\u001b[0;34m\u001b[0m\u001b[0m\n",
            "\u001b[0;32m~/anaconda3/lib/python3.8/site-packages/gensim/models/keyedvectors.py\u001b[0m in \u001b[0;36mget_vector\u001b[0;34m(self, word)\u001b[0m\n\u001b[1;32m    469\u001b[0m \u001b[0;34m\u001b[0m\u001b[0m\n\u001b[1;32m    470\u001b[0m     \u001b[0;32mdef\u001b[0m \u001b[0mget_vector\u001b[0m\u001b[0;34m(\u001b[0m\u001b[0mself\u001b[0m\u001b[0;34m,\u001b[0m \u001b[0mword\u001b[0m\u001b[0;34m)\u001b[0m\u001b[0;34m:\u001b[0m\u001b[0;34m\u001b[0m\u001b[0;34m\u001b[0m\u001b[0m\n\u001b[0;32m--> 471\u001b[0;31m         \u001b[0;32mreturn\u001b[0m \u001b[0mself\u001b[0m\u001b[0;34m.\u001b[0m\u001b[0mword_vec\u001b[0m\u001b[0;34m(\u001b[0m\u001b[0mword\u001b[0m\u001b[0;34m)\u001b[0m\u001b[0;34m\u001b[0m\u001b[0;34m\u001b[0m\u001b[0m\n\u001b[0m\u001b[1;32m    472\u001b[0m \u001b[0;34m\u001b[0m\u001b[0m\n\u001b[1;32m    473\u001b[0m     \u001b[0;32mdef\u001b[0m \u001b[0mwords_closer_than\u001b[0m\u001b[0;34m(\u001b[0m\u001b[0mself\u001b[0m\u001b[0;34m,\u001b[0m \u001b[0mw1\u001b[0m\u001b[0;34m,\u001b[0m \u001b[0mw2\u001b[0m\u001b[0;34m)\u001b[0m\u001b[0;34m:\u001b[0m\u001b[0;34m\u001b[0m\u001b[0;34m\u001b[0m\u001b[0m\n",
            "\u001b[0;32m~/anaconda3/lib/python3.8/site-packages/gensim/models/keyedvectors.py\u001b[0m in \u001b[0;36mword_vec\u001b[0;34m(self, word, use_norm)\u001b[0m\n\u001b[1;32m    466\u001b[0m             \u001b[0;32mreturn\u001b[0m \u001b[0mresult\u001b[0m\u001b[0;34m\u001b[0m\u001b[0;34m\u001b[0m\u001b[0m\n\u001b[1;32m    467\u001b[0m         \u001b[0;32melse\u001b[0m\u001b[0;34m:\u001b[0m\u001b[0;34m\u001b[0m\u001b[0;34m\u001b[0m\u001b[0m\n\u001b[0;32m--> 468\u001b[0;31m             \u001b[0;32mraise\u001b[0m \u001b[0mKeyError\u001b[0m\u001b[0;34m(\u001b[0m\u001b[0;34m\"word '%s' not in vocabulary\"\u001b[0m \u001b[0;34m%\u001b[0m \u001b[0mword\u001b[0m\u001b[0;34m)\u001b[0m\u001b[0;34m\u001b[0m\u001b[0;34m\u001b[0m\u001b[0m\n\u001b[0m\u001b[1;32m    469\u001b[0m \u001b[0;34m\u001b[0m\u001b[0m\n\u001b[1;32m    470\u001b[0m     \u001b[0;32mdef\u001b[0m \u001b[0mget_vector\u001b[0m\u001b[0;34m(\u001b[0m\u001b[0mself\u001b[0m\u001b[0;34m,\u001b[0m \u001b[0mword\u001b[0m\u001b[0;34m)\u001b[0m\u001b[0;34m:\u001b[0m\u001b[0;34m\u001b[0m\u001b[0;34m\u001b[0m\u001b[0m\n",
            "\u001b[0;31mKeyError\u001b[0m: \"word 'desarrollar' not in vocabulary\""
          ]
        }
      ]
    },
    {
      "cell_type": "markdown",
      "metadata": {
        "id": "celtic-jackson"
      },
      "source": [
        "### Ejercicio 5\n",
        "Comprueba cómo funciona el modelo buscando las palabras más similares semánticamente a \"trama\", \"peli\" y \"película\""
      ],
      "id": "celtic-jackson"
    },
    {
      "cell_type": "code",
      "metadata": {
        "id": "signal-separation",
        "outputId": "fe32fa47-58a3-4c1d-831a-e357b22b9217"
      },
      "source": [
        "model.similarity('peli', 'pelicula')"
      ],
      "id": "signal-separation",
      "execution_count": null,
      "outputs": [
        {
          "output_type": "execute_result",
          "data": {
            "text/plain": [
              "0.7882221"
            ]
          },
          "metadata": {
            "tags": []
          },
          "execution_count": 42
        }
      ]
    },
    {
      "cell_type": "code",
      "metadata": {
        "id": "naked-paintball",
        "outputId": "5c4bf90e-d031-45b2-a603-0e3cb5bf4e15"
      },
      "source": [
        "model.similarity('pelicula', 'película')"
      ],
      "id": "naked-paintball",
      "execution_count": null,
      "outputs": [
        {
          "output_type": "execute_result",
          "data": {
            "text/plain": [
              "0.17501305"
            ]
          },
          "metadata": {
            "tags": []
          },
          "execution_count": 44
        }
      ]
    },
    {
      "cell_type": "markdown",
      "metadata": {
        "id": "beautiful-remark"
      },
      "source": [
        "EL resultado de arriba es directamente un **problema en el preprocesado**.\n",
        "\n",
        "Al no haber eliminado los acentos en el preprocesado (o no haber corregido las palabras correctamente), tenemos dos entradas distintas para película: con acento y sin acento.\n",
        "\n",
        "No sólo eso, sino que el modelo ha encontrado una similaridad baja para esas palabras, por lo que podría estar confunidendo al modelo"
      ],
      "id": "beautiful-remark"
    },
    {
      "cell_type": "markdown",
      "metadata": {
        "id": "animal-cinema"
      },
      "source": [
        "## Extracción de características *sparse* con `gensim`\n",
        "Vamos a generar las matrices TF-IDF y BoW del corpus con la librería Gensim mediante *data streming* para no tener que cargar en memoria los textos.\\\n",
        "No podemos usar simplemente un generador con el *corpus* para crear el modelo BoW/TF-IDF porque necesitamos re-iniciar la iteración sobre los textos después de crear el diccionario. Por tanto creamos una clase sobre el generador del *corpus* que genere un *streamed iterable*"
      ],
      "id": "animal-cinema"
    },
    {
      "cell_type": "markdown",
      "metadata": {
        "id": "catholic-collective"
      },
      "source": [
        "*Este conjunto de códigos está hecho de prueba por el profesor para ir viendo y probando*"
      ],
      "id": "catholic-collective"
    },
    {
      "cell_type": "code",
      "metadata": {
        "id": "assisted-assumption"
      },
      "source": [
        "import gensim\n",
        "\n",
        "diccionario = gensim.corpora.Dictionary(criticas)"
      ],
      "id": "assisted-assumption",
      "execution_count": null,
      "outputs": []
    },
    {
      "cell_type": "code",
      "metadata": {
        "id": "raising-state",
        "outputId": "71aab928-dbd3-42a0-ce8e-1d7430566460"
      },
      "source": [
        "len(diccionario.token2id)"
      ],
      "id": "raising-state",
      "execution_count": null,
      "outputs": [
        {
          "output_type": "execute_result",
          "data": {
            "text/plain": [
              "2550"
            ]
          },
          "metadata": {
            "tags": []
          },
          "execution_count": 46
        }
      ]
    },
    {
      "cell_type": "code",
      "metadata": {
        "id": "statewide-animal"
      },
      "source": [
        "bow = [diccionario.doc2bow(v) for v in criticas] #bag of words"
      ],
      "id": "statewide-animal",
      "execution_count": null,
      "outputs": []
    },
    {
      "cell_type": "code",
      "metadata": {
        "id": "adjusted-carrier",
        "outputId": "835b0c07-5f56-441c-b33f-36cb05141710"
      },
      "source": [
        "len(bow)"
      ],
      "id": "adjusted-carrier",
      "execution_count": null,
      "outputs": [
        {
          "output_type": "execute_result",
          "data": {
            "text/plain": [
              "29"
            ]
          },
          "metadata": {
            "tags": []
          },
          "execution_count": 48
        }
      ]
    },
    {
      "cell_type": "code",
      "metadata": {
        "id": "expired-welsh",
        "outputId": "0990a253-3a16-4864-94b2-ad33783a6406"
      },
      "source": [
        "print(bow[0]) #(id de la palabra, frecuencia de la palabra)"
      ],
      "id": "expired-welsh",
      "execution_count": null,
      "outputs": [
        {
          "output_type": "stream",
          "text": [
            "[(0, 1), (1, 1), (2, 1), (3, 1), (4, 1), (5, 1), (6, 2), (7, 1), (8, 1), (9, 1), (10, 1), (11, 1), (12, 2), (13, 1), (14, 1), (15, 1), (16, 1), (17, 1), (18, 1), (19, 2), (20, 3), (21, 1), (22, 2), (23, 1), (24, 1), (25, 2), (26, 2), (27, 1), (28, 1), (29, 1), (30, 1), (31, 1), (32, 1), (33, 1), (34, 3), (35, 1), (36, 1), (37, 1), (38, 1), (39, 1), (40, 1), (41, 1), (42, 1), (43, 1), (44, 1), (45, 1), (46, 1), (47, 1), (48, 1), (49, 1), (50, 1), (51, 1), (52, 1), (53, 1), (54, 1), (55, 1), (56, 1), (57, 1), (58, 1), (59, 1), (60, 1), (61, 2), (62, 2), (63, 1), (64, 1), (65, 2), (66, 1), (67, 1), (68, 1), (69, 1), (70, 1), (71, 2), (72, 1), (73, 1), (74, 1), (75, 1), (76, 1), (77, 1), (78, 1), (79, 1), (80, 1), (81, 1), (82, 1), (83, 1), (84, 1), (85, 2), (86, 1), (87, 1), (88, 1), (89, 2), (90, 1), (91, 1), (92, 1), (93, 1), (94, 1), (95, 1), (96, 1), (97, 1), (98, 1), (99, 1), (100, 1), (101, 1), (102, 1), (103, 1), (104, 2), (105, 1), (106, 1), (107, 2), (108, 2), (109, 1), (110, 1), (111, 1), (112, 1), (113, 1), (114, 1), (115, 1), (116, 3), (117, 1), (118, 1), (119, 1), (120, 7), (121, 3), (122, 1), (123, 4), (124, 1), (125, 1), (126, 1), (127, 3), (128, 1), (129, 1), (130, 1), (131, 1), (132, 1), (133, 1), (134, 1), (135, 1), (136, 1), (137, 1), (138, 1), (139, 1), (140, 1), (141, 1), (142, 1), (143, 1), (144, 1), (145, 1), (146, 1), (147, 1), (148, 1), (149, 1), (150, 1), (151, 1), (152, 1), (153, 1), (154, 1), (155, 6), (156, 1), (157, 2), (158, 2), (159, 8)]\n"
          ],
          "name": "stdout"
        }
      ]
    },
    {
      "cell_type": "markdown",
      "metadata": {
        "id": "official-coral"
      },
      "source": [
        "*Fin del conjunto de códigos de prueba*\n",
        "\n",
        "*En estos códigos de arriba hemos cargado todo el bag of words a la vez.*\n",
        "\n",
        "*La idea sería cargarlo de forma iterativa como se ha hecho antes (al principio del notebook) con cada crítica, y no tenerlo todo a la vez en memoria*"
      ],
      "id": "official-coral"
    },
    {
      "cell_type": "code",
      "metadata": {
        "id": "peaceful-range"
      },
      "source": [
        "import gensim\n",
        "\n",
        "def iter_criticas(top_directory):\n",
        "    \"\"\"\n",
        "    Generator: itera sobre todos los documentos del \n",
        "    directorio, devolviendo un documento cada vez,\n",
        "    como lista de tokens.\n",
        "    \"\"\"\n",
        "    for c in parse_folder(top_directory):\n",
        "        yield normaliza(c[2]).split(' ')\n",
        " \n",
        "class TxtSubdirsCorpus(object):\n",
        "    \"\"\"\n",
        "    Iterable: en cada iteración devuelve el vector bag-of-words\n",
        "    del siguiente documento (crítica).\n",
        "    \n",
        "    Procesa un documento cada vez usando un generator, así\n",
        "    nunca carga el corpus entero en RAM.\n",
        "    \"\"\"\n",
        "    def __init__(self, top_dir):\n",
        "        self.top_dir = top_dir\n",
        "        #crea el diccionario = mapeo de documentos a sparse vectors\n",
        "        self.dictionary = gensim.corpora.Dictionary(iter_criticas(top_dir))\n",
        " \n",
        "    def __iter__(self):\n",
        "        \"\"\"\n",
        "        __iter__ es un generator => TxtSubdirsCorpus es un streamed iterable.\n",
        "        \"\"\"\n",
        "        for tokens in iter_criticas(self.top_dir):\n",
        "            # transforma cada doc (lista de tokens) en un vector sparse uno a uno\n",
        "            yield self.dictionary.doc2bow(tokens)"
      ],
      "id": "peaceful-range",
      "execution_count": null,
      "outputs": []
    },
    {
      "cell_type": "markdown",
      "metadata": {
        "id": "hispanic-loading"
      },
      "source": [
        "Para crear el BoW del *corpus* simplemente recorremos el objeto `TxtSubdirsCorpus` instanciado para el directorio de las críticas"
      ],
      "id": "hispanic-loading"
    },
    {
      "cell_type": "code",
      "metadata": {
        "id": "authentic-silicon"
      },
      "source": [
        "corpus = TxtSubdirsCorpus('criticas')\n",
        " \n",
        "# generamos el BoW\n",
        "for vector in corpus:\n",
        "    print(vector)\n",
        "    break"
      ],
      "id": "authentic-silicon",
      "execution_count": null,
      "outputs": []
    },
    {
      "cell_type": "code",
      "metadata": {
        "id": "automotive-attraction"
      },
      "source": [
        ""
      ],
      "id": "automotive-attraction",
      "execution_count": null,
      "outputs": []
    }
  ]
}