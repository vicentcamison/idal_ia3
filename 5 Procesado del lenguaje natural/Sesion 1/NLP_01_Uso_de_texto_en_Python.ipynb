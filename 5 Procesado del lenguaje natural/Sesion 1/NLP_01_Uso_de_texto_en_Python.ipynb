{
  "nbformat": 4,
  "nbformat_minor": 5,
  "metadata": {
    "kernelspec": {
      "display_name": "Python 3",
      "language": "python",
      "name": "python3"
    },
    "language_info": {
      "codemirror_mode": {
        "name": "ipython",
        "version": 3
      },
      "file_extension": ".py",
      "mimetype": "text/x-python",
      "name": "python",
      "nbconvert_exporter": "python",
      "pygments_lexer": "ipython3",
      "version": "3.8.5"
    },
    "colab": {
      "name": "NLP_01-Uso de texto en Python.ipynb",
      "provenance": [],
      "include_colab_link": true
    }
  },
  "cells": [
    {
      "cell_type": "markdown",
      "metadata": {
        "id": "view-in-github",
        "colab_type": "text"
      },
      "source": [
        "<a href=\"https://colab.research.google.com/github/vicentcamison/idal_ia3/blob/main/5%20Procesado%20del%20lenguaje%20natural/Sesion%201/NLP_01_Uso_de_texto_en_Python.ipynb\" target=\"_parent\"><img src=\"https://colab.research.google.com/assets/colab-badge.svg\" alt=\"Open In Colab\"/></a>"
      ]
    },
    {
      "cell_type": "markdown",
      "metadata": {
        "id": "political-consent"
      },
      "source": [
        "## Uso de texto en Python\n",
        "Declaración de variables de tipo `string`"
      ],
      "id": "political-consent"
    },
    {
      "cell_type": "code",
      "metadata": {
        "id": "graduate-price"
      },
      "source": [
        "texto = \"Texto 'normal' en Python\""
      ],
      "id": "graduate-price",
      "execution_count": null,
      "outputs": []
    },
    {
      "cell_type": "code",
      "metadata": {
        "id": "white-makeup",
        "outputId": "47f0bbe4-c4ab-4340-9a3a-3ec441f8a2d3"
      },
      "source": [
        "type(texto)"
      ],
      "id": "white-makeup",
      "execution_count": null,
      "outputs": [
        {
          "output_type": "execute_result",
          "data": {
            "text/plain": [
              "str"
            ]
          },
          "metadata": {
            "tags": []
          },
          "execution_count": 2
        }
      ]
    },
    {
      "cell_type": "code",
      "metadata": {
        "id": "speaking-niagara",
        "outputId": "8014de35-3f4b-4617-deea-7f4e2044d7b6"
      },
      "source": [
        "len(texto)"
      ],
      "id": "speaking-niagara",
      "execution_count": null,
      "outputs": [
        {
          "output_type": "execute_result",
          "data": {
            "text/plain": [
              "24"
            ]
          },
          "metadata": {
            "tags": []
          },
          "execution_count": 3
        }
      ]
    },
    {
      "cell_type": "markdown",
      "metadata": {
        "id": "healthy-mattress"
      },
      "source": [
        "Los objetos de tipo `string` son elementos iterables compuestos por sus caracteres:"
      ],
      "id": "healthy-mattress"
    },
    {
      "cell_type": "code",
      "metadata": {
        "id": "sapphire-easter",
        "outputId": "86e4c2e8-4d7a-465c-dcbc-a3b43f4eeb1b"
      },
      "source": [
        "for t in texto:\n",
        "    print(t)"
      ],
      "id": "sapphire-easter",
      "execution_count": null,
      "outputs": [
        {
          "output_type": "stream",
          "text": [
            "T\n",
            "e\n",
            "x\n",
            "t\n",
            "o\n",
            " \n",
            "'\n",
            "n\n",
            "o\n",
            "r\n",
            "m\n",
            "a\n",
            "l\n",
            "'\n",
            " \n",
            "e\n",
            "n\n",
            " \n",
            "P\n",
            "y\n",
            "t\n",
            "h\n",
            "o\n",
            "n\n"
          ],
          "name": "stdout"
        }
      ]
    },
    {
      "cell_type": "code",
      "metadata": {
        "id": "fitting-supplement",
        "outputId": "78e9eac6-41fa-45e5-ba0d-7badb2239599"
      },
      "source": [
        "#podemos indexar cada elemento (caracter) del texto\n",
        "texto[0:5]"
      ],
      "id": "fitting-supplement",
      "execution_count": null,
      "outputs": [
        {
          "output_type": "execute_result",
          "data": {
            "text/plain": [
              "'Texto'"
            ]
          },
          "metadata": {
            "tags": []
          },
          "execution_count": 5
        }
      ]
    },
    {
      "cell_type": "code",
      "metadata": {
        "id": "sudden-webster",
        "outputId": "0e4b52b9-51c6-4791-a91d-4b267c364992"
      },
      "source": [
        "#los iterables también se recorren como list comprehension:\n",
        "lista = [t for t in texto]\n",
        "print(lista)"
      ],
      "id": "sudden-webster",
      "execution_count": null,
      "outputs": [
        {
          "output_type": "stream",
          "text": [
            "['T', 'e', 'x', 't', 'o', ' ', \"'\", 'n', 'o', 'r', 'm', 'a', 'l', \"'\", ' ', 'e', 'n', ' ', 'P', 'y', 't', 'h', 'o', 'n']\n"
          ],
          "name": "stdout"
        }
      ]
    },
    {
      "cell_type": "markdown",
      "metadata": {
        "id": "floppy-player"
      },
      "source": [
        "*Nota:* Las list comprenhension se ven en detalle al final del notebook."
      ],
      "id": "floppy-player"
    },
    {
      "cell_type": "code",
      "metadata": {
        "id": "noble-original",
        "outputId": "0622f679-64f1-4eaf-e98e-f1f7aa3ad798"
      },
      "source": [
        "type(lista)"
      ],
      "id": "noble-original",
      "execution_count": null,
      "outputs": [
        {
          "output_type": "execute_result",
          "data": {
            "text/plain": [
              "list"
            ]
          },
          "metadata": {
            "tags": []
          },
          "execution_count": 7
        }
      ]
    },
    {
      "cell_type": "markdown",
      "metadata": {
        "id": "happy-revelation"
      },
      "source": [
        "### Ejercicio\n",
        "¿De qué tipo es cada elemento de la lista anterior?"
      ],
      "id": "happy-revelation"
    },
    {
      "cell_type": "code",
      "metadata": {
        "id": "gentle-swing",
        "outputId": "5e019439-7386-46bb-e934-1b6578f8b0e5"
      },
      "source": [
        "type(lista[0])"
      ],
      "id": "gentle-swing",
      "execution_count": null,
      "outputs": [
        {
          "output_type": "execute_result",
          "data": {
            "text/plain": [
              "str"
            ]
          },
          "metadata": {
            "tags": []
          },
          "execution_count": 8
        }
      ]
    },
    {
      "cell_type": "markdown",
      "metadata": {
        "id": "continental-equilibrium"
      },
      "source": [
        "### Caracteres unicode en Python\n",
        "Todos los objetos `string` aceptan caracteres unicode."
      ],
      "id": "continental-equilibrium"
    },
    {
      "cell_type": "code",
      "metadata": {
        "id": "plain-philadelphia"
      },
      "source": [
        "#caracteres unicode\n",
        "texto2 = \"áèï😀🛵\""
      ],
      "id": "plain-philadelphia",
      "execution_count": null,
      "outputs": []
    },
    {
      "cell_type": "code",
      "metadata": {
        "id": "tight-camcorder",
        "outputId": "40b50cd9-0ee0-4a5e-b31f-1eb9cf475cdc"
      },
      "source": [
        "[t for t in texto2]"
      ],
      "id": "tight-camcorder",
      "execution_count": null,
      "outputs": [
        {
          "output_type": "execute_result",
          "data": {
            "text/plain": [
              "['á', 'è', 'ï', '😀', '🛵']"
            ]
          },
          "metadata": {
            "tags": []
          },
          "execution_count": 10
        }
      ]
    },
    {
      "cell_type": "markdown",
      "metadata": {
        "id": "eleven-cruise"
      },
      "source": [
        "Texto en otros alfabetos (http://xahlee.info/comp/unicode_index.html)"
      ],
      "id": "eleven-cruise"
    },
    {
      "cell_type": "code",
      "metadata": {
        "id": "knowing-financing",
        "outputId": "37b960b7-ecd8-4b77-c862-e94ae4d5a4ce"
      },
      "source": [
        "#chino\n",
        "texto3 = \"林花謝了春紅 太匆匆\"\n",
        "[t for t in texto3]"
      ],
      "id": "knowing-financing",
      "execution_count": null,
      "outputs": [
        {
          "output_type": "execute_result",
          "data": {
            "text/plain": [
              "['林', '花', '謝', '了', '春', '紅', ' ', '太', '匆', '匆']"
            ]
          },
          "metadata": {
            "tags": []
          },
          "execution_count": 11
        }
      ]
    },
    {
      "cell_type": "code",
      "metadata": {
        "id": "great-conditions",
        "outputId": "d874fec4-fbd0-4b35-8c1f-912563710c91"
      },
      "source": [
        "#cirílico:\n",
        "texto4 = \"БбвГгДдѭ\"\n",
        "[t for t in texto4]"
      ],
      "id": "great-conditions",
      "execution_count": null,
      "outputs": [
        {
          "output_type": "execute_result",
          "data": {
            "text/plain": [
              "['Б', 'б', 'в', 'Г', 'г', 'Д', 'д', 'ѭ']"
            ]
          },
          "metadata": {
            "tags": []
          },
          "execution_count": 12
        }
      ]
    },
    {
      "cell_type": "code",
      "metadata": {
        "id": "ignored-calculator",
        "outputId": "07ec55ec-1a59-4b69-b2f3-2f03a0124155"
      },
      "source": [
        "#griego:\n",
        "texto5 = \"αβγδε\"\n",
        "[t for t in texto5]"
      ],
      "id": "ignored-calculator",
      "execution_count": null,
      "outputs": [
        {
          "output_type": "execute_result",
          "data": {
            "text/plain": [
              "['α', 'β', 'γ', 'δ', 'ε']"
            ]
          },
          "metadata": {
            "tags": []
          },
          "execution_count": 13
        }
      ]
    },
    {
      "cell_type": "markdown",
      "metadata": {
        "id": "separated-trader"
      },
      "source": [
        "## Métodos sobre strings\n",
        "Métodos que devuelven `string`/lista de `string`:\n",
        "- `lower`\n",
        "- `upper`\n",
        "- `tittle`\n",
        "- `len`"
      ],
      "id": "separated-trader"
    },
    {
      "cell_type": "code",
      "metadata": {
        "id": "distant-spell",
        "outputId": "0d18b086-c2a8-41ad-d470-a18a3e3f29d1"
      },
      "source": [
        "\"texto\".upper()"
      ],
      "id": "distant-spell",
      "execution_count": null,
      "outputs": [
        {
          "output_type": "execute_result",
          "data": {
            "text/plain": [
              "'TEXTO'"
            ]
          },
          "metadata": {
            "tags": []
          },
          "execution_count": 14
        }
      ]
    },
    {
      "cell_type": "code",
      "metadata": {
        "id": "loose-activity",
        "outputId": "be050260-d000-4305-cbc4-d46339601a18"
      },
      "source": [
        "texto.title()"
      ],
      "id": "loose-activity",
      "execution_count": null,
      "outputs": [
        {
          "output_type": "execute_result",
          "data": {
            "text/plain": [
              "\"Texto 'Normal' En Python\""
            ]
          },
          "metadata": {
            "tags": []
          },
          "execution_count": 15
        }
      ]
    },
    {
      "cell_type": "code",
      "metadata": {
        "id": "artificial-butler",
        "outputId": "7832b18e-ef88-4f9b-d9a1-79b8b337fd17"
      },
      "source": [
        "\"la casa, azul\".title()\n",
        "#La función title trata al texto como si se tratara de un título,\n",
        "# capitailizando todas las letras iniciales"
      ],
      "id": "artificial-butler",
      "execution_count": null,
      "outputs": [
        {
          "output_type": "execute_result",
          "data": {
            "text/plain": [
              "'La Casa, Azul'"
            ]
          },
          "metadata": {
            "tags": []
          },
          "execution_count": 16
        }
      ]
    },
    {
      "cell_type": "markdown",
      "metadata": {
        "id": "differential-attack"
      },
      "source": [
        "Lo podemos aplicar a los elementos *str* de una lista mediante una *list comprenhension*"
      ],
      "id": "differential-attack"
    },
    {
      "cell_type": "code",
      "metadata": {
        "id": "acceptable-headline",
        "outputId": "fe4f555d-f843-4065-da01-b953101d6606"
      },
      "source": [
        "#creamos una lista de las palabras de nuestro texto\n",
        "lista2 = texto.split(\" \")\n",
        "lista2"
      ],
      "id": "acceptable-headline",
      "execution_count": null,
      "outputs": [
        {
          "output_type": "execute_result",
          "data": {
            "text/plain": [
              "['Texto', \"'normal'\", 'en', 'Python']"
            ]
          },
          "metadata": {
            "tags": []
          },
          "execution_count": 17
        }
      ]
    },
    {
      "cell_type": "code",
      "metadata": {
        "id": "destroyed-commissioner",
        "outputId": "84701e6b-7dc7-450f-9e50-d376acab6189"
      },
      "source": [
        "#también podemos convertir una lista en string\n",
        "','.join(lista2)"
      ],
      "id": "destroyed-commissioner",
      "execution_count": null,
      "outputs": [
        {
          "output_type": "execute_result",
          "data": {
            "text/plain": [
              "\"Texto,'normal',en,Python\""
            ]
          },
          "metadata": {
            "tags": []
          },
          "execution_count": 18
        }
      ]
    },
    {
      "cell_type": "code",
      "metadata": {
        "id": "earned-official",
        "outputId": "5e6e5ab2-85bb-46a6-eb46-2cc877b6c080"
      },
      "source": [
        "'e'.join(lista2)"
      ],
      "id": "earned-official",
      "execution_count": null,
      "outputs": [
        {
          "output_type": "execute_result",
          "data": {
            "text/plain": [
              "\"Textoe'normal'eenePython\""
            ]
          },
          "metadata": {
            "tags": []
          },
          "execution_count": 19
        }
      ]
    },
    {
      "cell_type": "code",
      "metadata": {
        "id": "happy-branch",
        "outputId": "6ffa236b-9195-4433-ec5f-a8d7a2762b20"
      },
      "source": [
        "'mmm'.join(lista2)"
      ],
      "id": "happy-branch",
      "execution_count": null,
      "outputs": [
        {
          "output_type": "execute_result",
          "data": {
            "text/plain": [
              "\"Textommm'normal'mmmenmmmPython\""
            ]
          },
          "metadata": {
            "tags": []
          },
          "execution_count": 20
        }
      ]
    },
    {
      "cell_type": "code",
      "metadata": {
        "id": "dirty-harrison",
        "outputId": "762f8400-c937-419e-da3a-07f98b0d4873"
      },
      "source": [
        "#aplicamos método a cada elemento de la lista\n",
        "[c.upper() for c in lista2]"
      ],
      "id": "dirty-harrison",
      "execution_count": null,
      "outputs": [
        {
          "output_type": "execute_result",
          "data": {
            "text/plain": [
              "['TEXTO', \"'NORMAL'\", 'EN', 'PYTHON']"
            ]
          },
          "metadata": {
            "tags": []
          },
          "execution_count": 21
        }
      ]
    },
    {
      "cell_type": "markdown",
      "metadata": {
        "id": "former-contrary"
      },
      "source": [
        "Métodos de comparación:  \n",
        "`s.startswith(t)\n",
        "s.endswith(t)\n",
        "t in s\n",
        "s.isupper(); s.islower(); s.istitle()\n",
        "s.isalpha(); s.isdigit(); s.isalnum()`"
      ],
      "id": "former-contrary"
    },
    {
      "cell_type": "code",
      "metadata": {
        "id": "driving-island",
        "outputId": "8a8bd4e4-1c82-4342-8747-57ad1817b8e8"
      },
      "source": [
        "'Texto'.startswith('t')"
      ],
      "id": "driving-island",
      "execution_count": null,
      "outputs": [
        {
          "output_type": "execute_result",
          "data": {
            "text/plain": [
              "False"
            ]
          },
          "metadata": {
            "tags": []
          },
          "execution_count": 22
        }
      ]
    },
    {
      "cell_type": "code",
      "metadata": {
        "id": "national-telling",
        "outputId": "c841f277-eeea-43b1-a93b-05d75860292f"
      },
      "source": [
        "'Texto'.startswith('T')"
      ],
      "id": "national-telling",
      "execution_count": null,
      "outputs": [
        {
          "output_type": "execute_result",
          "data": {
            "text/plain": [
              "True"
            ]
          },
          "metadata": {
            "tags": []
          },
          "execution_count": 23
        }
      ]
    },
    {
      "cell_type": "code",
      "metadata": {
        "id": "identical-fifth",
        "outputId": "f095722e-79a6-4fe0-d792-9a6122d89763"
      },
      "source": [
        "'ex' in texto"
      ],
      "id": "identical-fifth",
      "execution_count": null,
      "outputs": [
        {
          "output_type": "execute_result",
          "data": {
            "text/plain": [
              "True"
            ]
          },
          "metadata": {
            "tags": []
          },
          "execution_count": 24
        }
      ]
    },
    {
      "cell_type": "code",
      "metadata": {
        "id": "formal-humanity",
        "outputId": "a8107e90-15db-4564-a87d-d6d6d65a0b25"
      },
      "source": [
        "'Texto'.istitle()"
      ],
      "id": "formal-humanity",
      "execution_count": null,
      "outputs": [
        {
          "output_type": "execute_result",
          "data": {
            "text/plain": [
              "True"
            ]
          },
          "metadata": {
            "tags": []
          },
          "execution_count": 25
        }
      ]
    },
    {
      "cell_type": "code",
      "metadata": {
        "id": "amber-assets",
        "outputId": "fac7bcb8-6f08-408f-fb94-3f35b40f5cbc"
      },
      "source": [
        "'TexTo'.istitle()"
      ],
      "id": "amber-assets",
      "execution_count": null,
      "outputs": [
        {
          "output_type": "execute_result",
          "data": {
            "text/plain": [
              "False"
            ]
          },
          "metadata": {
            "tags": []
          },
          "execution_count": 26
        }
      ]
    },
    {
      "cell_type": "markdown",
      "metadata": {
        "id": "neither-variation"
      },
      "source": [
        "Podemos combinar las funciones de comparación con las list comprehension"
      ],
      "id": "neither-variation"
    },
    {
      "cell_type": "code",
      "metadata": {
        "id": "insured-orange",
        "outputId": "2c5278b8-1021-4029-befe-c90e1c98fe22"
      },
      "source": [
        "#palabras que empiezan en mayúscula\n",
        "[w for w in lista2 if w.istitle()]"
      ],
      "id": "insured-orange",
      "execution_count": null,
      "outputs": [
        {
          "output_type": "execute_result",
          "data": {
            "text/plain": [
              "['Texto', 'Python']"
            ]
          },
          "metadata": {
            "tags": []
          },
          "execution_count": 27
        }
      ]
    },
    {
      "cell_type": "markdown",
      "metadata": {
        "id": "geological-polymer"
      },
      "source": [
        "### Ejercicio"
      ],
      "id": "geological-polymer"
    },
    {
      "cell_type": "code",
      "metadata": {
        "id": "substantial-plaza",
        "outputId": "b494c5ea-df93-4402-c124-81dfb782115a"
      },
      "source": [
        "#palabras terminadas en `n`\n",
        "[w for w in lista2 if w.endswith('n')]"
      ],
      "id": "substantial-plaza",
      "execution_count": null,
      "outputs": [
        {
          "output_type": "execute_result",
          "data": {
            "text/plain": [
              "['en', 'Python']"
            ]
          },
          "metadata": {
            "tags": []
          },
          "execution_count": 29
        }
      ]
    },
    {
      "cell_type": "markdown",
      "metadata": {
        "id": "forty-patient"
      },
      "source": [
        "## Uso de texto en Pandas\n",
        "https://pandas.pydata.org/pandas-docs/stable/user_guide/text.html"
      ],
      "id": "forty-patient"
    },
    {
      "cell_type": "code",
      "metadata": {
        "id": "banner-airline",
        "outputId": "cb513aea-c3d3-4fce-e4d1-b76d5afcce0c"
      },
      "source": [
        "import pandas as pd\n",
        "import numpy as np\n",
        "pd.__version__"
      ],
      "id": "banner-airline",
      "execution_count": null,
      "outputs": [
        {
          "output_type": "execute_result",
          "data": {
            "text/plain": [
              "'1.2.2'"
            ]
          },
          "metadata": {
            "tags": []
          },
          "execution_count": 30
        }
      ]
    },
    {
      "cell_type": "code",
      "metadata": {
        "id": "intensive-colors",
        "outputId": "1ee7de1d-0a39-4252-a0b9-374cbc7595dc"
      },
      "source": [
        "pd.Series(lista2)"
      ],
      "id": "intensive-colors",
      "execution_count": null,
      "outputs": [
        {
          "output_type": "execute_result",
          "data": {
            "text/plain": [
              "0       Texto\n",
              "1    'normal'\n",
              "2          en\n",
              "3      Python\n",
              "dtype: object"
            ]
          },
          "metadata": {
            "tags": []
          },
          "execution_count": 31
        }
      ]
    },
    {
      "cell_type": "markdown",
      "metadata": {
        "id": "increased-biotechnology"
      },
      "source": [
        "Hay que especificar a pandas que el dataframe contiene todo strings.\n",
        "\n",
        "La diferencia en la forma de funcionar de los elementos de un dataframe objeto a string está en **cómo se gestionan los nans en string**"
      ],
      "id": "increased-biotechnology"
    },
    {
      "cell_type": "code",
      "metadata": {
        "id": "diagnostic-merit",
        "outputId": "36177fe3-e512-4cca-b5b5-7fc4b6f9e874"
      },
      "source": [
        "pd.Series(lista2, dtype=\"string\") #string es un nuevo dtype de Pandas 1.0"
      ],
      "id": "diagnostic-merit",
      "execution_count": null,
      "outputs": [
        {
          "output_type": "execute_result",
          "data": {
            "text/plain": [
              "0       Texto\n",
              "1    'normal'\n",
              "2          en\n",
              "3      Python\n",
              "dtype: string"
            ]
          },
          "metadata": {
            "tags": []
          },
          "execution_count": 32
        }
      ]
    },
    {
      "cell_type": "markdown",
      "metadata": {
        "id": "composed-permit"
      },
      "source": [
        "Los métodos string en pandas utilizan .str. antes de escribir el método. Es decir, para comprobar la longitu de los strings dentro de un dataframe, no se hace con la función df.len() sino con df.**str**.len()"
      ],
      "id": "composed-permit"
    },
    {
      "cell_type": "code",
      "metadata": {
        "id": "alternate-hungary",
        "outputId": "d77e0c20-a895-4a83-ff28-b30886e5249e"
      },
      "source": [
        "#podemos usar los métodos de str sobre los elementos del array\n",
        "s = pd.Series(\n",
        "     [\"A\", \"B\", \"C\", \"Aaba\", \"Baca\", np.nan, \"CABA\", \"dog\", \"cat\"],\n",
        "     dtype=\"string\"\n",
        " )\n",
        "s"
      ],
      "id": "alternate-hungary",
      "execution_count": null,
      "outputs": [
        {
          "output_type": "execute_result",
          "data": {
            "text/plain": [
              "0       A\n",
              "1       B\n",
              "2       C\n",
              "3    Aaba\n",
              "4    Baca\n",
              "5    <NA>\n",
              "6    CABA\n",
              "7     dog\n",
              "8     cat\n",
              "dtype: string"
            ]
          },
          "metadata": {
            "tags": []
          },
          "execution_count": 33
        }
      ]
    },
    {
      "cell_type": "code",
      "metadata": {
        "id": "choice-banner",
        "outputId": "f2300d4d-0a6f-4871-8408-7e707614ecc4"
      },
      "source": [
        "s.str.len()"
      ],
      "id": "choice-banner",
      "execution_count": null,
      "outputs": [
        {
          "output_type": "execute_result",
          "data": {
            "text/plain": [
              "0       1\n",
              "1       1\n",
              "2       1\n",
              "3       4\n",
              "4       4\n",
              "5    <NA>\n",
              "6       4\n",
              "7       3\n",
              "8       3\n",
              "dtype: Int64"
            ]
          },
          "metadata": {
            "tags": []
          },
          "execution_count": 34
        }
      ]
    },
    {
      "cell_type": "code",
      "metadata": {
        "id": "roman-potential",
        "outputId": "9975242e-6785-4678-ea92-fa1c0f6c26b0"
      },
      "source": [
        "#convertir serie s en mayúsculas\n",
        "s.str.upper()"
      ],
      "id": "roman-potential",
      "execution_count": null,
      "outputs": [
        {
          "output_type": "execute_result",
          "data": {
            "text/plain": [
              "0       A\n",
              "1       B\n",
              "2       C\n",
              "3    AABA\n",
              "4    BACA\n",
              "5    <NA>\n",
              "6    CABA\n",
              "7     DOG\n",
              "8     CAT\n",
              "dtype: string"
            ]
          },
          "metadata": {
            "tags": []
          },
          "execution_count": 37
        }
      ]
    },
    {
      "cell_type": "markdown",
      "metadata": {
        "id": "beginning-passenger"
      },
      "source": [
        "Dividir, expandir, reemplazar, o concatenar texto (extraer lo veremos con RegEx)"
      ],
      "id": "beginning-passenger"
    },
    {
      "cell_type": "code",
      "metadata": {
        "id": "diverse-windows",
        "outputId": "40644e84-9bae-41d0-978f-ef3e81c8689e"
      },
      "source": [
        "#split devuelve una Serie de listas\n",
        "s2 = pd.Series([\"a_b_c\", \"c_d_e\", np.nan, \"f_g_h_k\"], dtype=\"string\")\n",
        "s2.str.split(\"_\")"
      ],
      "id": "diverse-windows",
      "execution_count": null,
      "outputs": [
        {
          "output_type": "execute_result",
          "data": {
            "text/plain": [
              "0       [a, b, c]\n",
              "1       [c, d, e]\n",
              "2            <NA>\n",
              "3    [f, g, h, k]\n",
              "dtype: object"
            ]
          },
          "metadata": {
            "tags": []
          },
          "execution_count": 35
        }
      ]
    },
    {
      "cell_type": "code",
      "metadata": {
        "id": "threatened-tuesday",
        "outputId": "2742f9f4-78e6-4c01-d9a2-2ce1ba341adb"
      },
      "source": [
        "#podemos acceder a los elementos de la lista con get o []\n",
        "s2.str.split(\"_\").str.get(1)"
      ],
      "id": "threatened-tuesday",
      "execution_count": null,
      "outputs": [
        {
          "output_type": "execute_result",
          "data": {
            "text/plain": [
              "0       b\n",
              "1       d\n",
              "2    <NA>\n",
              "3       g\n",
              "dtype: object"
            ]
          },
          "metadata": {
            "tags": []
          },
          "execution_count": 36
        }
      ]
    },
    {
      "cell_type": "code",
      "metadata": {
        "id": "loved-europe",
        "outputId": "0f55ebe1-546a-4b66-b822-7202fb77cf34"
      },
      "source": [
        "s2.str.split(\"_\").str[2]"
      ],
      "id": "loved-europe",
      "execution_count": null,
      "outputs": [
        {
          "output_type": "execute_result",
          "data": {
            "text/plain": [
              "0       c\n",
              "1       e\n",
              "2    <NA>\n",
              "3       h\n",
              "dtype: object"
            ]
          },
          "metadata": {
            "tags": []
          },
          "execution_count": 38
        }
      ]
    },
    {
      "cell_type": "markdown",
      "metadata": {
        "id": "partial-miniature"
      },
      "source": [
        "Expandir un string dentro de un dataframe va a aumentar las dimensiones del dataframe. El tamaño de la nueva dimensión del dataframe será igual al string mayor expandido (en este ejemplo, la fila 3). Los elementos que se quedan vacíos se rellenan con nan"
      ],
      "id": "partial-miniature"
    },
    {
      "cell_type": "code",
      "metadata": {
        "id": "integral-gnome",
        "outputId": "a6938bb0-feb3-4fec-d018-6306a2447ef8"
      },
      "source": [
        "#podemos expandir la lista a un dataframe\n",
        "s2.str.split(\"_\", expand=True)"
      ],
      "id": "integral-gnome",
      "execution_count": null,
      "outputs": [
        {
          "output_type": "execute_result",
          "data": {
            "text/html": [
              "<div>\n",
              "<style scoped>\n",
              "    .dataframe tbody tr th:only-of-type {\n",
              "        vertical-align: middle;\n",
              "    }\n",
              "\n",
              "    .dataframe tbody tr th {\n",
              "        vertical-align: top;\n",
              "    }\n",
              "\n",
              "    .dataframe thead th {\n",
              "        text-align: right;\n",
              "    }\n",
              "</style>\n",
              "<table border=\"1\" class=\"dataframe\">\n",
              "  <thead>\n",
              "    <tr style=\"text-align: right;\">\n",
              "      <th></th>\n",
              "      <th>0</th>\n",
              "      <th>1</th>\n",
              "      <th>2</th>\n",
              "      <th>3</th>\n",
              "    </tr>\n",
              "  </thead>\n",
              "  <tbody>\n",
              "    <tr>\n",
              "      <th>0</th>\n",
              "      <td>a</td>\n",
              "      <td>b</td>\n",
              "      <td>c</td>\n",
              "      <td>&lt;NA&gt;</td>\n",
              "    </tr>\n",
              "    <tr>\n",
              "      <th>1</th>\n",
              "      <td>c</td>\n",
              "      <td>d</td>\n",
              "      <td>e</td>\n",
              "      <td>&lt;NA&gt;</td>\n",
              "    </tr>\n",
              "    <tr>\n",
              "      <th>2</th>\n",
              "      <td>&lt;NA&gt;</td>\n",
              "      <td>&lt;NA&gt;</td>\n",
              "      <td>&lt;NA&gt;</td>\n",
              "      <td>&lt;NA&gt;</td>\n",
              "    </tr>\n",
              "    <tr>\n",
              "      <th>3</th>\n",
              "      <td>f</td>\n",
              "      <td>g</td>\n",
              "      <td>h</td>\n",
              "      <td>k</td>\n",
              "    </tr>\n",
              "  </tbody>\n",
              "</table>\n",
              "</div>"
            ],
            "text/plain": [
              "      0     1     2     3\n",
              "0     a     b     c  <NA>\n",
              "1     c     d     e  <NA>\n",
              "2  <NA>  <NA>  <NA>  <NA>\n",
              "3     f     g     h     k"
            ]
          },
          "metadata": {
            "tags": []
          },
          "execution_count": 39
        }
      ]
    },
    {
      "cell_type": "code",
      "metadata": {
        "id": "reasonable-joint",
        "outputId": "3ac08da6-21b0-44d7-8a9a-ff877cdfe3d3"
      },
      "source": [
        "s3 = pd.Series(\n",
        "     [\"A\", \"B\", \"C\", \"Aaba\", \"Baca\", \"\", np.nan, \"CABA\", \"dog\", \"cat\"],\n",
        "     dtype=\"string\",\n",
        " )\n",
        "s3"
      ],
      "id": "reasonable-joint",
      "execution_count": null,
      "outputs": [
        {
          "output_type": "execute_result",
          "data": {
            "text/plain": [
              "0       A\n",
              "1       B\n",
              "2       C\n",
              "3    Aaba\n",
              "4    Baca\n",
              "5        \n",
              "6    <NA>\n",
              "7    CABA\n",
              "8     dog\n",
              "9     cat\n",
              "dtype: string"
            ]
          },
          "metadata": {
            "tags": []
          },
          "execution_count": 40
        }
      ]
    },
    {
      "cell_type": "code",
      "metadata": {
        "id": "prospective-devil",
        "outputId": "c9873ccd-a80e-4eee-f89d-e2bd7e797177"
      },
      "source": [
        "#reemplazar texto (elemento a elemento)\n",
        "s3.str.replace(\"a\", \"X\", case=True)"
      ],
      "id": "prospective-devil",
      "execution_count": null,
      "outputs": [
        {
          "output_type": "execute_result",
          "data": {
            "text/plain": [
              "0       A\n",
              "1       B\n",
              "2       C\n",
              "3    AXbX\n",
              "4    BXcX\n",
              "5        \n",
              "6    <NA>\n",
              "7    CABA\n",
              "8     dog\n",
              "9     cXt\n",
              "dtype: string"
            ]
          },
          "metadata": {
            "tags": []
          },
          "execution_count": 41
        }
      ]
    },
    {
      "cell_type": "code",
      "metadata": {
        "id": "marked-contest",
        "outputId": "00d60aa9-4a02-420f-cf37-4d77c66c7538"
      },
      "source": [
        "s = pd.Series([\"a\", \"b\", \"c\", \"d\"], dtype=\"string\")\n",
        "s"
      ],
      "id": "marked-contest",
      "execution_count": null,
      "outputs": [
        {
          "output_type": "execute_result",
          "data": {
            "text/plain": [
              "0    a\n",
              "1    b\n",
              "2    c\n",
              "3    d\n",
              "dtype: string"
            ]
          },
          "metadata": {
            "tags": []
          },
          "execution_count": 42
        }
      ]
    },
    {
      "cell_type": "code",
      "metadata": {
        "id": "deluxe-disease",
        "outputId": "22312985-a47d-483f-ec10-e9b803d53ea1"
      },
      "source": [
        "#concatenar texto (elementos de una Serie)\n",
        "s.str.cat(sep=\",\")"
      ],
      "id": "deluxe-disease",
      "execution_count": null,
      "outputs": [
        {
          "output_type": "execute_result",
          "data": {
            "text/plain": [
              "'a,b,c,d'"
            ]
          },
          "metadata": {
            "tags": []
          },
          "execution_count": 43
        }
      ]
    },
    {
      "cell_type": "markdown",
      "metadata": {
        "id": "hungarian-writing"
      },
      "source": [
        "Al concatenar los strings de una serie de pandas no obtengo un objeto de pandas, sino que ya obtengo directamente un **string**"
      ],
      "id": "hungarian-writing"
    },
    {
      "cell_type": "code",
      "metadata": {
        "id": "eight-bracelet",
        "outputId": "4c77fcf0-abf3-49c9-bbb3-630a59036640"
      },
      "source": [
        "type(s.str.cat(sep=\",\"))"
      ],
      "id": "eight-bracelet",
      "execution_count": null,
      "outputs": [
        {
          "output_type": "execute_result",
          "data": {
            "text/plain": [
              "str"
            ]
          },
          "metadata": {
            "tags": []
          },
          "execution_count": 44
        }
      ]
    },
    {
      "cell_type": "code",
      "metadata": {
        "id": "prescribed-simon",
        "outputId": "7e431c13-58eb-4bf3-e7cb-0e46944fc943"
      },
      "source": [
        "#podemos concatenar los elementos de una Serie con otra de igual longitud\n",
        "s.str.cat([\"A\", \"B\", \"C\", \"D\"])"
      ],
      "id": "prescribed-simon",
      "execution_count": null,
      "outputs": [
        {
          "output_type": "execute_result",
          "data": {
            "text/plain": [
              "0    aA\n",
              "1    bB\n",
              "2    cC\n",
              "3    dD\n",
              "dtype: string"
            ]
          },
          "metadata": {
            "tags": []
          },
          "execution_count": 45
        }
      ]
    },
    {
      "cell_type": "markdown",
      "metadata": {
        "id": "gorgeous-gallery"
      },
      "source": [
        "Funciones de comparación: comprobar si un elemento contiene o empieza por un patrón"
      ],
      "id": "gorgeous-gallery"
    },
    {
      "cell_type": "code",
      "metadata": {
        "id": "lucky-biotechnology",
        "outputId": "8e07f3cd-fec6-44f4-e2be-9c8229cfeb5c"
      },
      "source": [
        "s3"
      ],
      "id": "lucky-biotechnology",
      "execution_count": null,
      "outputs": [
        {
          "output_type": "execute_result",
          "data": {
            "text/plain": [
              "0       A\n",
              "1       B\n",
              "2       C\n",
              "3    Aaba\n",
              "4    Baca\n",
              "5        \n",
              "6    <NA>\n",
              "7    CABA\n",
              "8     dog\n",
              "9     cat\n",
              "dtype: string"
            ]
          },
          "metadata": {
            "tags": []
          },
          "execution_count": 46
        }
      ]
    },
    {
      "cell_type": "code",
      "metadata": {
        "id": "concrete-circulation",
        "outputId": "0fe20da0-52d7-487b-f7f0-072d8a62a59f"
      },
      "source": [
        "s3.str.match(\"A\") #comienza por el patrón"
      ],
      "id": "concrete-circulation",
      "execution_count": null,
      "outputs": [
        {
          "output_type": "execute_result",
          "data": {
            "text/plain": [
              "0     True\n",
              "1    False\n",
              "2    False\n",
              "3     True\n",
              "4    False\n",
              "5    False\n",
              "6     <NA>\n",
              "7    False\n",
              "8    False\n",
              "9    False\n",
              "dtype: boolean"
            ]
          },
          "metadata": {
            "tags": []
          },
          "execution_count": 47
        }
      ]
    },
    {
      "cell_type": "code",
      "metadata": {
        "id": "headed-relative",
        "outputId": "7a05602f-6d13-420b-9534-402d0da0bd6a"
      },
      "source": [
        "pd.concat([s3, s3.str.startswith(\"A\")], axis=1) #comienza por patrón"
      ],
      "id": "headed-relative",
      "execution_count": null,
      "outputs": [
        {
          "output_type": "execute_result",
          "data": {
            "text/html": [
              "<div>\n",
              "<style scoped>\n",
              "    .dataframe tbody tr th:only-of-type {\n",
              "        vertical-align: middle;\n",
              "    }\n",
              "\n",
              "    .dataframe tbody tr th {\n",
              "        vertical-align: top;\n",
              "    }\n",
              "\n",
              "    .dataframe thead th {\n",
              "        text-align: right;\n",
              "    }\n",
              "</style>\n",
              "<table border=\"1\" class=\"dataframe\">\n",
              "  <thead>\n",
              "    <tr style=\"text-align: right;\">\n",
              "      <th></th>\n",
              "      <th>0</th>\n",
              "      <th>1</th>\n",
              "    </tr>\n",
              "  </thead>\n",
              "  <tbody>\n",
              "    <tr>\n",
              "      <th>0</th>\n",
              "      <td>A</td>\n",
              "      <td>True</td>\n",
              "    </tr>\n",
              "    <tr>\n",
              "      <th>1</th>\n",
              "      <td>B</td>\n",
              "      <td>False</td>\n",
              "    </tr>\n",
              "    <tr>\n",
              "      <th>2</th>\n",
              "      <td>C</td>\n",
              "      <td>False</td>\n",
              "    </tr>\n",
              "    <tr>\n",
              "      <th>3</th>\n",
              "      <td>Aaba</td>\n",
              "      <td>True</td>\n",
              "    </tr>\n",
              "    <tr>\n",
              "      <th>4</th>\n",
              "      <td>Baca</td>\n",
              "      <td>False</td>\n",
              "    </tr>\n",
              "    <tr>\n",
              "      <th>5</th>\n",
              "      <td></td>\n",
              "      <td>False</td>\n",
              "    </tr>\n",
              "    <tr>\n",
              "      <th>6</th>\n",
              "      <td>&lt;NA&gt;</td>\n",
              "      <td>&lt;NA&gt;</td>\n",
              "    </tr>\n",
              "    <tr>\n",
              "      <th>7</th>\n",
              "      <td>CABA</td>\n",
              "      <td>False</td>\n",
              "    </tr>\n",
              "    <tr>\n",
              "      <th>8</th>\n",
              "      <td>dog</td>\n",
              "      <td>False</td>\n",
              "    </tr>\n",
              "    <tr>\n",
              "      <th>9</th>\n",
              "      <td>cat</td>\n",
              "      <td>False</td>\n",
              "    </tr>\n",
              "  </tbody>\n",
              "</table>\n",
              "</div>"
            ],
            "text/plain": [
              "      0      1\n",
              "0     A   True\n",
              "1     B  False\n",
              "2     C  False\n",
              "3  Aaba   True\n",
              "4  Baca  False\n",
              "5        False\n",
              "6  <NA>   <NA>\n",
              "7  CABA  False\n",
              "8   dog  False\n",
              "9   cat  False"
            ]
          },
          "metadata": {
            "tags": []
          },
          "execution_count": 48
        }
      ]
    },
    {
      "cell_type": "code",
      "metadata": {
        "id": "civic-strategy",
        "outputId": "5f2e5445-034c-4a7c-aa65-1b76e10875b3"
      },
      "source": [
        "pd.concat([s3, s3.str.contains(\"A\")], axis=1) #contiene el patrón"
      ],
      "id": "civic-strategy",
      "execution_count": null,
      "outputs": [
        {
          "output_type": "execute_result",
          "data": {
            "text/html": [
              "<div>\n",
              "<style scoped>\n",
              "    .dataframe tbody tr th:only-of-type {\n",
              "        vertical-align: middle;\n",
              "    }\n",
              "\n",
              "    .dataframe tbody tr th {\n",
              "        vertical-align: top;\n",
              "    }\n",
              "\n",
              "    .dataframe thead th {\n",
              "        text-align: right;\n",
              "    }\n",
              "</style>\n",
              "<table border=\"1\" class=\"dataframe\">\n",
              "  <thead>\n",
              "    <tr style=\"text-align: right;\">\n",
              "      <th></th>\n",
              "      <th>0</th>\n",
              "      <th>1</th>\n",
              "    </tr>\n",
              "  </thead>\n",
              "  <tbody>\n",
              "    <tr>\n",
              "      <th>0</th>\n",
              "      <td>A</td>\n",
              "      <td>True</td>\n",
              "    </tr>\n",
              "    <tr>\n",
              "      <th>1</th>\n",
              "      <td>B</td>\n",
              "      <td>False</td>\n",
              "    </tr>\n",
              "    <tr>\n",
              "      <th>2</th>\n",
              "      <td>C</td>\n",
              "      <td>False</td>\n",
              "    </tr>\n",
              "    <tr>\n",
              "      <th>3</th>\n",
              "      <td>Aaba</td>\n",
              "      <td>True</td>\n",
              "    </tr>\n",
              "    <tr>\n",
              "      <th>4</th>\n",
              "      <td>Baca</td>\n",
              "      <td>False</td>\n",
              "    </tr>\n",
              "    <tr>\n",
              "      <th>5</th>\n",
              "      <td></td>\n",
              "      <td>False</td>\n",
              "    </tr>\n",
              "    <tr>\n",
              "      <th>6</th>\n",
              "      <td>&lt;NA&gt;</td>\n",
              "      <td>&lt;NA&gt;</td>\n",
              "    </tr>\n",
              "    <tr>\n",
              "      <th>7</th>\n",
              "      <td>CABA</td>\n",
              "      <td>True</td>\n",
              "    </tr>\n",
              "    <tr>\n",
              "      <th>8</th>\n",
              "      <td>dog</td>\n",
              "      <td>False</td>\n",
              "    </tr>\n",
              "    <tr>\n",
              "      <th>9</th>\n",
              "      <td>cat</td>\n",
              "      <td>False</td>\n",
              "    </tr>\n",
              "  </tbody>\n",
              "</table>\n",
              "</div>"
            ],
            "text/plain": [
              "      0      1\n",
              "0     A   True\n",
              "1     B  False\n",
              "2     C  False\n",
              "3  Aaba   True\n",
              "4  Baca  False\n",
              "5        False\n",
              "6  <NA>   <NA>\n",
              "7  CABA   True\n",
              "8   dog  False\n",
              "9   cat  False"
            ]
          },
          "metadata": {
            "tags": []
          },
          "execution_count": 49
        }
      ]
    },
    {
      "cell_type": "code",
      "metadata": {
        "id": "another-statement",
        "outputId": "635824b7-bd6c-46e4-a045-3eb1020bde27"
      },
      "source": [
        "pd.concat([s3, s3.str.fullmatch(\"A\")], axis=1) #es igual al patrón"
      ],
      "id": "another-statement",
      "execution_count": null,
      "outputs": [
        {
          "output_type": "execute_result",
          "data": {
            "text/html": [
              "<div>\n",
              "<style scoped>\n",
              "    .dataframe tbody tr th:only-of-type {\n",
              "        vertical-align: middle;\n",
              "    }\n",
              "\n",
              "    .dataframe tbody tr th {\n",
              "        vertical-align: top;\n",
              "    }\n",
              "\n",
              "    .dataframe thead th {\n",
              "        text-align: right;\n",
              "    }\n",
              "</style>\n",
              "<table border=\"1\" class=\"dataframe\">\n",
              "  <thead>\n",
              "    <tr style=\"text-align: right;\">\n",
              "      <th></th>\n",
              "      <th>0</th>\n",
              "      <th>1</th>\n",
              "    </tr>\n",
              "  </thead>\n",
              "  <tbody>\n",
              "    <tr>\n",
              "      <th>0</th>\n",
              "      <td>A</td>\n",
              "      <td>True</td>\n",
              "    </tr>\n",
              "    <tr>\n",
              "      <th>1</th>\n",
              "      <td>B</td>\n",
              "      <td>False</td>\n",
              "    </tr>\n",
              "    <tr>\n",
              "      <th>2</th>\n",
              "      <td>C</td>\n",
              "      <td>False</td>\n",
              "    </tr>\n",
              "    <tr>\n",
              "      <th>3</th>\n",
              "      <td>Aaba</td>\n",
              "      <td>False</td>\n",
              "    </tr>\n",
              "    <tr>\n",
              "      <th>4</th>\n",
              "      <td>Baca</td>\n",
              "      <td>False</td>\n",
              "    </tr>\n",
              "    <tr>\n",
              "      <th>5</th>\n",
              "      <td></td>\n",
              "      <td>False</td>\n",
              "    </tr>\n",
              "    <tr>\n",
              "      <th>6</th>\n",
              "      <td>&lt;NA&gt;</td>\n",
              "      <td>&lt;NA&gt;</td>\n",
              "    </tr>\n",
              "    <tr>\n",
              "      <th>7</th>\n",
              "      <td>CABA</td>\n",
              "      <td>False</td>\n",
              "    </tr>\n",
              "    <tr>\n",
              "      <th>8</th>\n",
              "      <td>dog</td>\n",
              "      <td>False</td>\n",
              "    </tr>\n",
              "    <tr>\n",
              "      <th>9</th>\n",
              "      <td>cat</td>\n",
              "      <td>False</td>\n",
              "    </tr>\n",
              "  </tbody>\n",
              "</table>\n",
              "</div>"
            ],
            "text/plain": [
              "      0      1\n",
              "0     A   True\n",
              "1     B  False\n",
              "2     C  False\n",
              "3  Aaba  False\n",
              "4  Baca  False\n",
              "5        False\n",
              "6  <NA>   <NA>\n",
              "7  CABA  False\n",
              "8   dog  False\n",
              "9   cat  False"
            ]
          },
          "metadata": {
            "tags": []
          },
          "execution_count": 50
        }
      ]
    },
    {
      "cell_type": "markdown",
      "metadata": {
        "id": "usual-amber"
      },
      "source": [
        "El listado completo de métodos para *strings* está en https://pandas.pydata.org/pandas-docs/stable/user_guide/text.html#method-summary"
      ],
      "id": "usual-amber"
    },
    {
      "cell_type": "markdown",
      "metadata": {
        "id": "whole-statement"
      },
      "source": [
        "## Generator comprenhension y List comprenhension"
      ],
      "id": "whole-statement"
    },
    {
      "cell_type": "code",
      "metadata": {
        "id": "alpine-wrong"
      },
      "source": [
        "#la función range es un caso especial de generator\n",
        "x=range(10)"
      ],
      "id": "alpine-wrong",
      "execution_count": null,
      "outputs": []
    },
    {
      "cell_type": "code",
      "metadata": {
        "id": "young-importance",
        "outputId": "df3125fd-280b-44ab-b089-8abdb0b186ba"
      },
      "source": [
        "x"
      ],
      "id": "young-importance",
      "execution_count": null,
      "outputs": [
        {
          "output_type": "execute_result",
          "data": {
            "text/plain": [
              "range(0, 10)"
            ]
          },
          "metadata": {
            "tags": []
          },
          "execution_count": 52
        }
      ]
    },
    {
      "cell_type": "code",
      "metadata": {
        "id": "governing-jersey",
        "outputId": "408ca546-7805-4caf-a6db-df9bee1523e9"
      },
      "source": [
        "#los generadores son iterables\n",
        "for i in x:\n",
        "    print(i)"
      ],
      "id": "governing-jersey",
      "execution_count": null,
      "outputs": [
        {
          "output_type": "stream",
          "text": [
            "0\n",
            "1\n",
            "2\n",
            "3\n",
            "4\n",
            "5\n",
            "6\n",
            "7\n",
            "8\n",
            "9\n"
          ],
          "name": "stdout"
        }
      ]
    },
    {
      "cell_type": "code",
      "metadata": {
        "id": "ranking-secretary",
        "outputId": "30d06852-4f67-4099-f187-959881adc14c"
      },
      "source": [
        "#generator comprenhension\n",
        "gen = (i**2 for i in range(10))\n",
        "gen"
      ],
      "id": "ranking-secretary",
      "execution_count": null,
      "outputs": [
        {
          "output_type": "execute_result",
          "data": {
            "text/plain": [
              "<generator object <genexpr> at 0x7fd22b38b4a0>"
            ]
          },
          "metadata": {
            "tags": []
          },
          "execution_count": 63
        }
      ]
    },
    {
      "cell_type": "markdown",
      "metadata": {
        "id": "foster-frost"
      },
      "source": [
        "Los `generator` se pueden recorrer con un bucle `for` pero también con la función `next()`.  "
      ],
      "id": "foster-frost"
    },
    {
      "cell_type": "code",
      "metadata": {
        "id": "alpha-girlfriend",
        "outputId": "1c3f7015-e080-4c78-ec3b-877c167df5b8"
      },
      "source": [
        "next(gen)"
      ],
      "id": "alpha-girlfriend",
      "execution_count": null,
      "outputs": [
        {
          "output_type": "execute_result",
          "data": {
            "text/plain": [
              "0"
            ]
          },
          "metadata": {
            "tags": []
          },
          "execution_count": 64
        }
      ]
    },
    {
      "cell_type": "markdown",
      "metadata": {
        "id": "selected-integral"
      },
      "source": [
        "Los `generator` se consumen al iterar sobre ellos, por lo que no es posible volver a generar el mismo miembro. En el siguiente bucle se comienza por el 2º elemento"
      ],
      "id": "selected-integral"
    },
    {
      "cell_type": "code",
      "metadata": {
        "id": "bridal-maldives",
        "outputId": "33e61b39-1e39-46ec-c16a-3b37f0e51e7a"
      },
      "source": [
        "for i in gen:\n",
        "    print(i)"
      ],
      "id": "bridal-maldives",
      "execution_count": null,
      "outputs": [
        {
          "output_type": "stream",
          "text": [
            "1\n",
            "4\n",
            "9\n",
            "16\n",
            "25\n",
            "36\n",
            "49\n",
            "64\n",
            "81\n"
          ],
          "name": "stdout"
        }
      ]
    },
    {
      "cell_type": "code",
      "metadata": {
        "id": "global-smith",
        "outputId": "e07e1507-bac9-4057-ac75-a1c616e32af6"
      },
      "source": [
        "import sys\n",
        "sys.getsizeof(gen)"
      ],
      "id": "global-smith",
      "execution_count": null,
      "outputs": [
        {
          "output_type": "execute_result",
          "data": {
            "text/plain": [
              "112"
            ]
          },
          "metadata": {
            "tags": []
          },
          "execution_count": 57
        }
      ]
    },
    {
      "cell_type": "markdown",
      "metadata": {
        "id": "thorough-wesley"
      },
      "source": [
        "Podemos volcar los contenidos de un iterador (o generador) a una lista, que sí ocupa memoria por cada uno de sus elementos."
      ],
      "id": "thorough-wesley"
    },
    {
      "cell_type": "code",
      "metadata": {
        "id": "fitted-confidentiality"
      },
      "source": [
        "gen = (i**2 for i in range(10))\n",
        "lista_gen = list(gen)"
      ],
      "id": "fitted-confidentiality",
      "execution_count": null,
      "outputs": []
    },
    {
      "cell_type": "code",
      "metadata": {
        "id": "premier-approach",
        "outputId": "3c8c0c82-3eff-48d7-cdab-e124fafcd6b5"
      },
      "source": [
        "lista_gen"
      ],
      "id": "premier-approach",
      "execution_count": null,
      "outputs": [
        {
          "output_type": "execute_result",
          "data": {
            "text/plain": [
              "[0, 1, 4, 9, 16, 25, 36, 49, 64, 81]"
            ]
          },
          "metadata": {
            "tags": []
          },
          "execution_count": 59
        }
      ]
    },
    {
      "cell_type": "code",
      "metadata": {
        "id": "front-browse",
        "outputId": "dc65aade-2391-4d73-c504-c0a312309821"
      },
      "source": [
        "sys.getsizeof(gen)"
      ],
      "id": "front-browse",
      "execution_count": null,
      "outputs": [
        {
          "output_type": "execute_result",
          "data": {
            "text/plain": [
              "112"
            ]
          },
          "metadata": {
            "tags": []
          },
          "execution_count": 60
        }
      ]
    },
    {
      "cell_type": "code",
      "metadata": {
        "id": "curious-agency",
        "outputId": "5009ea56-c96f-4f6b-ca5d-a54847693e91"
      },
      "source": [
        "sys.getsizeof(lista_gen)"
      ],
      "id": "curious-agency",
      "execution_count": null,
      "outputs": [
        {
          "output_type": "execute_result",
          "data": {
            "text/plain": [
              "152"
            ]
          },
          "metadata": {
            "tags": []
          },
          "execution_count": 66
        }
      ]
    },
    {
      "cell_type": "code",
      "metadata": {
        "id": "perceived-oxygen"
      },
      "source": [
        "#lo anterior equivale a un list comprenhension de los mismos valores\n",
        "lista = [i**2 for i in range(10)]"
      ],
      "id": "perceived-oxygen",
      "execution_count": null,
      "outputs": []
    },
    {
      "cell_type": "code",
      "metadata": {
        "id": "consistent-methodology",
        "outputId": "bbb76472-23ec-4b88-cfe5-59129538bad1"
      },
      "source": [
        "lista"
      ],
      "id": "consistent-methodology",
      "execution_count": null,
      "outputs": [
        {
          "output_type": "execute_result",
          "data": {
            "text/plain": [
              "[0, 1, 4, 9, 16, 25, 36, 49, 64, 81]"
            ]
          },
          "metadata": {
            "tags": []
          },
          "execution_count": 68
        }
      ]
    },
    {
      "cell_type": "code",
      "metadata": {
        "id": "exotic-explorer",
        "outputId": "156d78ea-9685-4a4b-bfe7-f7c0e350f3e1"
      },
      "source": [
        "#una lista no la puedo tratar como un iterador: no implementa el método next()\n",
        "next(lista)"
      ],
      "id": "exotic-explorer",
      "execution_count": null,
      "outputs": [
        {
          "output_type": "error",
          "ename": "TypeError",
          "evalue": "'list' object is not an iterator",
          "traceback": [
            "\u001b[0;31m---------------------------------------------------------------------------\u001b[0m",
            "\u001b[0;31mTypeError\u001b[0m                                 Traceback (most recent call last)",
            "\u001b[0;32m<ipython-input-69-d2ece4aec803>\u001b[0m in \u001b[0;36m<module>\u001b[0;34m\u001b[0m\n\u001b[1;32m      1\u001b[0m \u001b[0;31m#una lista no la puedo tratar como un iterador: no se puede usar next\u001b[0m\u001b[0;34m\u001b[0m\u001b[0;34m\u001b[0m\u001b[0;34m\u001b[0m\u001b[0m\n\u001b[0;32m----> 2\u001b[0;31m \u001b[0mnext\u001b[0m\u001b[0;34m(\u001b[0m\u001b[0mlista\u001b[0m\u001b[0;34m)\u001b[0m\u001b[0;34m\u001b[0m\u001b[0;34m\u001b[0m\u001b[0m\n\u001b[0m",
            "\u001b[0;31mTypeError\u001b[0m: 'list' object is not an iterator"
          ]
        }
      ]
    },
    {
      "cell_type": "code",
      "metadata": {
        "id": "personalized-beast"
      },
      "source": [
        "#un iterator es un objeto iterable que implementa el método next()\n",
        "gen_lista = iter(lista)"
      ],
      "id": "personalized-beast",
      "execution_count": null,
      "outputs": []
    },
    {
      "cell_type": "code",
      "metadata": {
        "id": "wrong-sustainability",
        "outputId": "2c515927-5e55-4645-8388-43cf0a7c9473"
      },
      "source": [
        "gen_lista"
      ],
      "id": "wrong-sustainability",
      "execution_count": null,
      "outputs": [
        {
          "output_type": "execute_result",
          "data": {
            "text/plain": [
              "<list_iterator at 0x7fd22b403550>"
            ]
          },
          "metadata": {
            "tags": []
          },
          "execution_count": 71
        }
      ]
    },
    {
      "cell_type": "code",
      "metadata": {
        "id": "floral-huntington",
        "outputId": "119e4674-a1c2-4f1d-c6c8-17ef0a2ba144"
      },
      "source": [
        "next(gen_lista)"
      ],
      "id": "floral-huntington",
      "execution_count": null,
      "outputs": [
        {
          "output_type": "execute_result",
          "data": {
            "text/plain": [
              "0"
            ]
          },
          "metadata": {
            "tags": []
          },
          "execution_count": 72
        }
      ]
    },
    {
      "cell_type": "code",
      "metadata": {
        "id": "first-disposition",
        "outputId": "df20b388-57b8-4453-e3c8-a040405572e6"
      },
      "source": [
        "next(gen_lista)"
      ],
      "id": "first-disposition",
      "execution_count": null,
      "outputs": [
        {
          "output_type": "execute_result",
          "data": {
            "text/plain": [
              "1"
            ]
          },
          "metadata": {
            "tags": []
          },
          "execution_count": 73
        }
      ]
    },
    {
      "cell_type": "code",
      "metadata": {
        "id": "intelligent-syndicate",
        "outputId": "8d095f83-97a0-4916-bfd1-e5c0101c91fb"
      },
      "source": [
        "for i in gen_lista:\n",
        "    print(i)"
      ],
      "id": "intelligent-syndicate",
      "execution_count": null,
      "outputs": [
        {
          "output_type": "stream",
          "text": [
            "4\n",
            "9\n",
            "16\n",
            "25\n",
            "36\n",
            "49\n",
            "64\n",
            "81\n"
          ],
          "name": "stdout"
        }
      ]
    },
    {
      "cell_type": "code",
      "metadata": {
        "id": "declared-detection",
        "outputId": "64d244dc-8eb3-481d-b8fa-57d5fb63656f"
      },
      "source": [
        "sys.getsizeof(gen_lista)"
      ],
      "id": "declared-detection",
      "execution_count": null,
      "outputs": [
        {
          "output_type": "execute_result",
          "data": {
            "text/plain": [
              "48"
            ]
          },
          "metadata": {
            "tags": []
          },
          "execution_count": 75
        }
      ]
    },
    {
      "cell_type": "code",
      "metadata": {
        "id": "designing-salad"
      },
      "source": [
        "#también podemos generar tuplas con los generadores\n",
        "gen = ((i, i**2) for i in range(10))"
      ],
      "id": "designing-salad",
      "execution_count": null,
      "outputs": []
    },
    {
      "cell_type": "code",
      "metadata": {
        "id": "widespread-government",
        "outputId": "4b8320bf-6b7d-43a0-9b36-8243fa75d930"
      },
      "source": [
        "sys.getsizeof(gen)"
      ],
      "id": "widespread-government",
      "execution_count": null,
      "outputs": [
        {
          "output_type": "execute_result",
          "data": {
            "text/plain": [
              "112"
            ]
          },
          "metadata": {
            "tags": []
          },
          "execution_count": 77
        }
      ]
    },
    {
      "cell_type": "code",
      "metadata": {
        "id": "working-irish",
        "outputId": "55e34e4b-e1a1-40fa-8c0b-c874d5d91be2"
      },
      "source": [
        "for i in gen:\n",
        "    print(i)\n"
      ],
      "id": "working-irish",
      "execution_count": null,
      "outputs": [
        {
          "output_type": "stream",
          "text": [
            "(0, 0)\n",
            "(1, 1)\n",
            "(2, 4)\n",
            "(3, 9)\n",
            "(4, 16)\n",
            "(5, 25)\n",
            "(6, 36)\n",
            "(7, 49)\n",
            "(8, 64)\n",
            "(9, 81)\n"
          ],
          "name": "stdout"
        }
      ]
    },
    {
      "cell_type": "code",
      "metadata": {
        "id": "premium-actress",
        "outputId": "5e10f164-4e6e-4a15-c42f-c596b203e1cb"
      },
      "source": [
        "for i,j in ((i, i**2) for i in range(10)):\n",
        "    print(f\"El cuadrado de {i} es {j}\")"
      ],
      "id": "premium-actress",
      "execution_count": null,
      "outputs": [
        {
          "output_type": "stream",
          "text": [
            "El cuadrado de 0 es 0\n",
            "El cuadrado de 1 es 1\n",
            "El cuadrado de 2 es 4\n",
            "El cuadrado de 3 es 9\n",
            "El cuadrado de 4 es 16\n",
            "El cuadrado de 5 es 25\n",
            "El cuadrado de 6 es 36\n",
            "El cuadrado de 7 es 49\n",
            "El cuadrado de 8 es 64\n",
            "El cuadrado de 9 es 81\n"
          ],
          "name": "stdout"
        }
      ]
    },
    {
      "cell_type": "markdown",
      "metadata": {
        "id": "royal-steal"
      },
      "source": [
        "### Enumerating iterables\n",
        "The built-in enumerate function allows us to iterate over an iterable, while keeping track of the iteration count.\n",
        "\n",
        "Es decir, es una 'extensión' de iter. **Iter()** simplemente me ofrece el output del iterador, mientras que **enumerate()** me ofrece también el índice del elemento iterado"
      ],
      "id": "royal-steal"
    },
    {
      "cell_type": "code",
      "metadata": {
        "id": "refined-magic",
        "outputId": "14e446b8-7de6-4f4e-f3d2-47dad8440b6c"
      },
      "source": [
        "enumerate(lista)"
      ],
      "id": "refined-magic",
      "execution_count": null,
      "outputs": [
        {
          "output_type": "execute_result",
          "data": {
            "text/plain": [
              "<enumerate at 0x7fd22b1fc140>"
            ]
          },
          "metadata": {
            "tags": []
          },
          "execution_count": 80
        }
      ]
    },
    {
      "cell_type": "code",
      "metadata": {
        "id": "boring-yugoslavia",
        "outputId": "d1bac5da-0c09-4477-d961-0ba0e94bc7a3"
      },
      "source": [
        "for i,j in enumerate(lista2):\n",
        "    print(i,j)"
      ],
      "id": "boring-yugoslavia",
      "execution_count": null,
      "outputs": [
        {
          "output_type": "stream",
          "text": [
            "0 Texto\n",
            "1 'normal'\n",
            "2 en\n",
            "3 Python\n"
          ],
          "name": "stdout"
        }
      ]
    },
    {
      "cell_type": "code",
      "metadata": {
        "id": "architectural-homeless",
        "outputId": "19ec381c-3f4c-461a-ca02-6033fab867ad"
      },
      "source": [
        "for (i, p) in enumerate(\"Esta es una frase\".split(' ')):\n",
        "    print(f\"Palabra {i}: {p}\")"
      ],
      "id": "architectural-homeless",
      "execution_count": null,
      "outputs": [
        {
          "output_type": "stream",
          "text": [
            "Palabra 0: Esta\n",
            "Palabra 1: es\n",
            "Palabra 2: una\n",
            "Palabra 3: frase\n"
          ],
          "name": "stdout"
        }
      ]
    },
    {
      "cell_type": "markdown",
      "metadata": {
        "id": "understood-trust"
      },
      "source": [
        "Podemos usar una expresión `if-else` dentro de la *comprenhension*"
      ],
      "id": "understood-trust"
    },
    {
      "cell_type": "code",
      "metadata": {
        "id": "vertical-browser",
        "outputId": "6262b6c6-0fa2-4884-83d9-c84d77e6a1d8"
      },
      "source": [
        "['impar' if i%2 else 'par' for i in range(10)]"
      ],
      "id": "vertical-browser",
      "execution_count": null,
      "outputs": [
        {
          "output_type": "execute_result",
          "data": {
            "text/plain": [
              "['par',\n",
              " 'impar',\n",
              " 'par',\n",
              " 'impar',\n",
              " 'par',\n",
              " 'impar',\n",
              " 'par',\n",
              " 'impar',\n",
              " 'par',\n",
              " 'impar']"
            ]
          },
          "metadata": {
            "tags": []
          },
          "execution_count": 83
        }
      ]
    },
    {
      "cell_type": "code",
      "metadata": {
        "id": "private-israeli",
        "outputId": "e727950f-3787-46c2-ecd2-f5a34abb1f68"
      },
      "source": [
        "#devolviendo una tupla con (valor, par/impar)\n",
        "[(i,'impar' if i%2 else 'par') for i in range(10)]"
      ],
      "id": "private-israeli",
      "execution_count": null,
      "outputs": [
        {
          "output_type": "execute_result",
          "data": {
            "text/plain": [
              "[(0, 'par'),\n",
              " (1, 'impar'),\n",
              " (2, 'par'),\n",
              " (3, 'impar'),\n",
              " (4, 'par'),\n",
              " (5, 'impar'),\n",
              " (6, 'par'),\n",
              " (7, 'impar'),\n",
              " (8, 'par'),\n",
              " (9, 'impar')]"
            ]
          },
          "metadata": {
            "tags": []
          },
          "execution_count": 84
        }
      ]
    },
    {
      "cell_type": "code",
      "metadata": {
        "id": "attractive-regular",
        "outputId": "afbaef13-afb2-4980-8e39-365c42288f47"
      },
      "source": [
        "#podemos combinar con funciones sobre str\n",
        "[c.upper() if len(c)>3 else c for c in lista2 if c.endswith('n')]"
      ],
      "id": "attractive-regular",
      "execution_count": null,
      "outputs": [
        {
          "output_type": "execute_result",
          "data": {
            "text/plain": [
              "['en', 'PYTHON']"
            ]
          },
          "metadata": {
            "tags": []
          },
          "execution_count": 85
        }
      ]
    },
    {
      "cell_type": "code",
      "metadata": {
        "id": "strategic-carol"
      },
      "source": [
        "#también lo podemos hacer sobre un generador\n",
        "gen = (c.upper() if len(c)>3 else c for c in lista2 if c.endswith('n'))"
      ],
      "id": "strategic-carol",
      "execution_count": null,
      "outputs": []
    },
    {
      "cell_type": "code",
      "metadata": {
        "id": "helpful-frost",
        "outputId": "5f9a1a4e-de8c-41f5-9ca1-951c4395377b"
      },
      "source": [
        "gen"
      ],
      "id": "helpful-frost",
      "execution_count": null,
      "outputs": [
        {
          "output_type": "execute_result",
          "data": {
            "text/plain": [
              "<generator object <genexpr> at 0x7fd22ae02ba0>"
            ]
          },
          "metadata": {
            "tags": []
          },
          "execution_count": 87
        }
      ]
    },
    {
      "cell_type": "code",
      "metadata": {
        "id": "sharing-aggregate",
        "outputId": "101d42fb-8015-4bdb-cafe-beb267066c0f"
      },
      "source": [
        "for i in gen:\n",
        "    print(i)"
      ],
      "id": "sharing-aggregate",
      "execution_count": null,
      "outputs": [
        {
          "output_type": "stream",
          "text": [
            "en\n",
            "PYTHON\n"
          ],
          "name": "stdout"
        }
      ]
    },
    {
      "cell_type": "code",
      "metadata": {
        "id": "coordinate-violin"
      },
      "source": [
        ""
      ],
      "id": "coordinate-violin",
      "execution_count": null,
      "outputs": []
    }
  ]
}