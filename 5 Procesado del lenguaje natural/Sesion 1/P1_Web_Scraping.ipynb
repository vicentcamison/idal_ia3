{
  "nbformat": 4,
  "nbformat_minor": 0,
  "metadata": {
    "kernelspec": {
      "display_name": "Python 3",
      "language": "python",
      "name": "python3"
    },
    "language_info": {
      "codemirror_mode": {
        "name": "ipython",
        "version": 3
      },
      "file_extension": ".py",
      "mimetype": "text/x-python",
      "name": "python",
      "nbconvert_exporter": "python",
      "pygments_lexer": "ipython3",
      "version": "3.8.5"
    },
    "colab": {
      "name": "P1_Web Scraping.ipynb",
      "provenance": [],
      "include_colab_link": true
    }
  },
  "cells": [
    {
      "cell_type": "markdown",
      "metadata": {
        "id": "view-in-github",
        "colab_type": "text"
      },
      "source": [
        "<a href=\"https://colab.research.google.com/github/vicentcamison/idal_ia3/blob/main/5%20Procesado%20del%20lenguaje%20natural/Sesion%201/P1_Web_Scraping.ipynb\" target=\"_parent\"><img src=\"https://colab.research.google.com/assets/colab-badge.svg\" alt=\"Open In Colab\"/></a>"
      ]
    },
    {
      "cell_type": "markdown",
      "metadata": {
        "id": "TswKfonqsQZY"
      },
      "source": [
        "# Práctica 2 de PLN: web scraping\n",
        "En esta práctica vamos a realizar distintos ejercicios sobre captura de contenidos web (web scraping) usando las librerñias `request` y `BeautifulSoup`."
      ]
    },
    {
      "cell_type": "markdown",
      "metadata": {
        "id": "vRj7d-BzsQZd"
      },
      "source": [
        "### Nombres:\n",
        "Introduce en esta celda los nombres de los dos integrantes del grupo:\\\n",
        "*Alumno 1* \\\n",
        "*Alumno 2*"
      ]
    },
    {
      "cell_type": "code",
      "metadata": {
        "id": "ClTC0YRTsQZe"
      },
      "source": [
        "import requests\n",
        "from bs4 import BeautifulSoup"
      ],
      "execution_count": null,
      "outputs": []
    },
    {
      "cell_type": "markdown",
      "metadata": {
        "id": "7Jzk7xnSsQZf"
      },
      "source": [
        "## Parte 1: captura de una noticia\n",
        "En este parte vamos a descargarnos una noticia de una página web y guardar su contenido en disco."
      ]
    },
    {
      "cell_type": "code",
      "metadata": {
        "id": "xwzB70MbsQZg"
      },
      "source": [
        "url = \"https://elpais.com/sociedad/2019/11/13/actualidad/1573632952_315974.html\"\n",
        "try:\n",
        "    page = requests.get(url)\n",
        "except:\n",
        "    print(\"Error al abrir la URL\")"
      ],
      "execution_count": null,
      "outputs": []
    },
    {
      "cell_type": "code",
      "metadata": {
        "id": "bsCUT5_ZsQZg"
      },
      "source": [
        "# parseamos el html usando BeautifulSoup y lo guardamos en la variable `soup`\n",
        "soup = BeautifulSoup(page.text, 'html.parser')"
      ],
      "execution_count": null,
      "outputs": []
    },
    {
      "cell_type": "markdown",
      "metadata": {
        "id": "Ub7mn1KVsQZi"
      },
      "source": [
        "El contenido del artículo (texto del cuerpo) se encuentra dentro de un `<div>` de la página con el id `cuerpo_noticia` (puedes inspeccionar la estructura HTML de la página en el navegador para comprobarlo)"
      ]
    },
    {
      "cell_type": "code",
      "metadata": {
        "id": "AiL1dIGAsQZi",
        "outputId": "c55c3851-90c7-45ea-e9bc-76be761343d7"
      },
      "source": [
        "# Buscamos el <div> correspondiente y sacamos su contenido:\n",
        "content = soup.find('div', {\"id\": \"cuerpo_noticia\"})\n",
        "\n",
        "article = []\n",
        "for i in content.find_all('p'):\n",
        "    article.append(i.text)\n",
        "    \n",
        "print('\\n'.join(article))"
      ],
      "execution_count": null,
      "outputs": [
        {
          "output_type": "stream",
          "text": [
            "Los venecianos viven en esta época del año refrescando cada minuto la aplicación del Centro de Previsión de Mareas, que permite saber hasta qué nivel puede llegar el acqua alta. El martes había luna llena y muchos se temieron lo peor, pero se fueron a cenar con el último dato de 140 centímetros. Pasadas las diez empezaron a sonar las sirenas. Un viento de más de 120 kilómetros por hora formó un pequeño maremoto en la laguna que provocó una subida de hasta 187 centímetros, la mayor desde la histórica catástrofe de 1966. Muchas de las 71 góndolas de la Riva Degli Schiavoni rompieron las amarras y salieron flotando hasta dar contra las columnas del Palacio Ducal. Algunos barrios se quedaron a oscuras y el agua entró violentamente en la basílica de San Marcos. Luego comenzó una subida por toda la isla que causó dos muertos, anegó restaurantes, palacios y comercios y obligó a cerrar escuelas. La ciudad está en alerta hasta el viernes por riesgo de que este episodio se repita.\n",
            "La ciudad empieza a estar harta de algo que todo el mundo cree que se podría evitar. Los efectos del cambio climático, que han aumentado la frecuencia y la intensidad de las tradicionales mareas de otoño (el año pasado sucedió algo parecido), un fuerte temporal y la negligencia en la construcción de un sistema de diques que dura ya 40 años dejaron la segunda peor inundación del siglo. Los daños en el patrimonio artístico de la ciudad de 1966 no se repitieron: los venecianos toman ya grandes precauciones en estas épocas. Pero este miércoles por la mañana, en medio de un paisaje apocalíptico con vaporetos y lanchas sobre la acera, podían verse todavía los efectos en la vida de la gente. El primer ministro, Giuseppe Conte, ha llegado a la ciudad por la tarde y ha asegurado que tomará medidas. “Hay una petición del gobernador Zaia para declarar el estado de emergencia y no veo razones para negarlo. Prepararemos los primeros fondos para la participación del Gobierno en esta emergencia”, ha dicho. Y la ministra de Infraestructuras y Transportes, Paola de Micheli, ha anunciado que se convocará un comité para tomar decisiones de largo recorrido en Venecia. “Haremos un gran proyecto para Venecia”.\n",
            "Los vecinos ya no creen en las promesas políticas. Marco Gazzetta achicaba agua en su negocio de máscaras junto a la plaza Rialto. Cuando fue a abrir por la mañana sabía que encontraría todo el género flotando. “La app nos dio otro resultado. Nos fuimos a casa pensando que no superaría los 140 centímetros”, protestaba. Katia, en un negocio de bisutería, les excusaba. “No es culpa suya, el viento lo cambió todo. No sé cómo se puede prevenir algo así”. El recuerdo de la terrible inundación del 4 de noviembre de 1966 comenzó a materializarse a las 21.00. A esa hora, un viento superior al previsto se levantó, empujando con fuerza el agua del Adriático a la laguna de Venecia. El Centro de Previsión de las Mareas de Venecia no acertó con la previsión. A las 22.40 la marea era de 180 centímetros y a las 23.00 alcanzaba ya los 187. Un técnico de dicho organismo asegura a este periódico que “se formó un pequeño ciclón sobre Venecia, con vientos de hasta 120 kilómetros por hora que empeoraron la situación”. “Es algo muy anómalo y puede estar relacionado con el cambio climático”, apunta.\n",
            "Javier Jordà, científico del Instituto Español de Oceanografía en Baleares y autor de una investigación que muestra cómo la subida del nivel del mar haría aumentar la frecuencia de inundaciones en Venecia a final de siglo, coincide y vincula lo que está ocurriendo al calentamiento: “Lo que antes pasaba una vez, se convertirá en norma. Hay que tener en cuenta que al incremento del nivel del mar se suma que la ciudad se está hundiendo, lo que hace que el efecto de la subida del agua se multiplique”.\n",
            "El nivel del mar en noviembre\n",
            "en Venecia\n",
            "Mediciones en la Punta della Salute en metros\n",
            "Tamaño\n",
            "comparativo\n",
            "1,80 m\n",
            "2,0\n",
            "22.50\n",
            "1,87 m\n",
            "1,5\n",
            "1,0\n",
            "0,5\n",
            "0,0\n",
            "Día 1 \n",
            "5 \n",
            "10 \n",
            "13\n",
            "Previsiones para los próximos días\n",
            "Tamaño\n",
            "comparativo\n",
            "1,80 m\n",
            "2,0\n",
            "1,5\n",
            "1,0\n",
            "0,5\n",
            "0,0\n",
            "13\n",
            "14\n",
            "15\n",
            "16\n",
            "17 nov.\n",
            "Fuente: Comune di Venezia.\n",
            "Y. Clemente / EL PAÍS\n",
            "El nivel del mar en noviembre en Venecia\n",
            "Mediciones en la Punta della Salute\n",
            "Tamaño\n",
            "comparativo\n",
            "1,80 m\n",
            "Metros\n",
            "2,0\n",
            "22.50\n",
            "1,87 m\n",
            "1,5\n",
            "1,0\n",
            "0,5\n",
            "0,0\n",
            "Día 1 \n",
            "5 \n",
            "10 \n",
            "13\n",
            "Previsiones para los próximos días\n",
            "Tamaño\n",
            "comparativo\n",
            "1,80 m\n",
            "Metros\n",
            "2,0\n",
            "1,5\n",
            "1,0\n",
            "0,5\n",
            "0,0\n",
            "13\n",
            "14\n",
            "15\n",
            "16\n",
            "17 nov.\n",
            "Fuente: Comune di Venezia.\n",
            "Y. Clemente / EL PAÍS\n",
            "El nivel del mar en noviembre en Venecia\n",
            "Mediciones en la Punta della Salute\n",
            "Previsiones para los\n",
            "próximos días\n",
            "Tamaño\n",
            "comparativo\n",
            "1,80 m\n",
            "Metros\n",
            "2,0\n",
            "22.50\n",
            "1,87 m\n",
            "1,5\n",
            "1,0\n",
            "0,5\n",
            "0,0\n",
            "13\n",
            "14\n",
            "15\n",
            "16\n",
            "17 nov.\n",
            "Día 1 \n",
            "5 \n",
            "10 \n",
            "13\n",
            "Fuente: Comune di Venezia.\n",
            "Y. Clemente / EL PAÍS\n",
            "Los daños en viviendas y comercios fueron enormes. “Centenares de miles de euros”, denunció el alcalde de la ciudad, Luigi Brugnaro, que pidió declarar el estado de emergencia. Pero la peor parte, como sucedió ya el año pasado, se la llevó la basílica de San Pedro, que se encuentra en la parte más baja de la isla y es incapaz de contener las embestidas del agua. El templo bizantino, que se inundó por sexta vez en 1.200 años, tuvo que evacuar a los fieles al término de la misa de las ocho, explica su director, Giuseppe Marieschi, mientras muestra pedazos de los mosaicos arrancados del suelo y la base de las columnas de mármol carcomidas por la sal del agua de marina. “Si eso pasase una vez cada 100 años, sería un problema. Pero si pasa varias veces en una década es un riesgo enorme para la iglesia”, señala. La cripta, donde están las sepulturas de algunos de los patriarcas, quedó completamente inundada. “Los daños son irreparables”, advirtió el patriarca de Venecia, Francesco Moraglia.\n",
            "Situazione drammatica pic.twitter.com/gS63ZK2j3Q\n",
            "El ingeniero jefe de la basílica, Pierpaolo Campostrini, fue aún más directo. “Es una indecencia. El martes por la mañana, cuando la marea era de 140 centímetros se debió probar el Mose (acrónimo de Módulo Experimental Electromecánico). Se habría evitado el desastre en la basílica. La marea ha demostrado que Venecia no es segura. Esto es casi como el Apocalipsis, estuvimos al borde del desastre. El mar entró e inundó el suelo y los mosaicos, rompió ventanas e inundó la cripta. Más allá de los daños en el suelo y los mosaicos, el agua podría crear problemas de estabilidad en las columnas que sostienen el edificio”, advirtió.\n",
            "Los responsables de la basílica están valorando pedir la construcción de una suerte de barrera que pueda frenar el agua en caso de inundaciones en la plaza de San Marcos, revela Capostrini. Un atajo, en suma, para resolver la parálisis en la que lleva sumida la finalización del sistema de contención de las inundaciones, que resume cuatro décadas de despropósitos y corrupción. En 2003 se empezaron a construir 78 diques flotantes en el marco del proyecto Mose. Las esclusas deberían cerrar la laguna en caso de subida de las aguas del Adriático. Pero problemas de sobrecostes y corrupción retrasaron su puesta en funcionamiento. Hasta entonces, los venecianos solo podrán encomendarse al cielo o seguir refrescando aplicación de las mareas antes de cerrar sus negocios o irse a la cama.\n",
            "Con información de Esther Sánchez.\n",
            "Esther Sánchez\n",
            "Gabriel Jordà (Salamanca, septiembre 1975) publicó hace siete años un estudio junto con otros dos científicos en el que se mostraba que una subida moderada del nivel del mar haría aumentar la frecuencia de inundaciones en la ciudad de Venecia a final de siglo.\n",
            "\n",
            "P. ¿Cómo influye el cambio climático en el acqua alta?\n",
            "R. Si este episodio de acqua alta, que no ha sido de los más fuertes, se hubiera producido en los años cincuenta habría sido moderado sin llegar a las cifras que ha alcanzado. Las mareas continúan siendo las mismas, pero la subida del nivel del mar ha multiplicado sus consecuencias. Todo ello sumado a que Venecia se está hundiendo.\n",
            "P. ¿Qué le espera a la ciudad?\n",
            "R. </CF>Si se estudian las mareas que superan los 140 centímetros, las excepcionales, su pico máximo que ahora puede durar 10 minutos podría llegar a prolongarse durante un mes al año. Y una inundación de 90 centímetros, que se califica de molesta, podría pasar de los dos o tres días al año actuales a dos meses en un escenario optimista y a siete meses en uno pesimista.\n",
            "P. ¿Cuánto ha crecido el Mediterráneo?\n",
            "R. Tomando como referencia los inicios del siglo XX, ha subido entre 20 y 25 centímetros. Detrás de su crecida se encuentra el aumento de la temperatura del Mediterráneo y del Atlántico, además del deshielo. Todo ello provoca su expansión.\n",
            "P. ¿Desaparecerá Venecia?\n",
            "R. La humanidad es muy resiliente y quizá se encuentren sistemas para salvarla, pero estará inundada durante más tiempo. En el peor escenario puede sufrir mareas nueve meses al año y eso sería un problema enorme.\n",
            "P. ¿Hay soluciones?\n",
            "R. Si se cambia de política y se cumple el Acuerdo de París, Venecia pasaría de estar inundada dos terceras partes del año a una. El mar seguirá subiendo por la inercia, pero la diferencia sería brutal y beneficiaria a la ciudad.\n",
            "P. ¿Ocurre algo similar en España?\n",
            "R. El mar sube igual, pero al no existir mareas de ese tipo no hay eventos tan espectaculares. Aquí se nota en las tormentas con olas grandes, de cuatro o cinco metros, que son más devastadoras, porque aunque el oleaje sea del mismo tamaño, los diques se quedan pequeños al estar el mar más alto y los temporales destrozan puertos, paseos marítimos, negocios, playas...\n"
          ],
          "name": "stdout"
        }
      ]
    },
    {
      "cell_type": "markdown",
      "metadata": {
        "id": "JTWwTKctsQZo"
      },
      "source": [
        "Aquí se han colado algunos párrafos que no pertenecen al cuerpo de la noticio, sino que están en secciones interiores. Lo podemos evitar usando el parámetro `recursive=False`.  \n",
        "Además el último párrafo no forma parte del cuerpo de la memoria, lo podemos filtrar con `class_=False` porque tiene un atributo de clase específico"
      ]
    },
    {
      "cell_type": "code",
      "metadata": {
        "id": "XvyeRvOysQZp",
        "outputId": "8302ae92-8b0f-46ad-ceaa-68ea76dee330"
      },
      "source": [
        "#optimizando el código\n",
        "content = soup.find('div', {\"id\": \"cuerpo_noticia\"}).find_all('p', class_=False, recursive=False)\n",
        "\n",
        "article = ('\\n').join([i.text for i in content])\n",
        "\n",
        "print(article)"
      ],
      "execution_count": null,
      "outputs": [
        {
          "output_type": "stream",
          "text": [
            "Los venecianos viven en esta época del año refrescando cada minuto la aplicación del Centro de Previsión de Mareas, que permite saber hasta qué nivel puede llegar el acqua alta. El martes había luna llena y muchos se temieron lo peor, pero se fueron a cenar con el último dato de 140 centímetros. Pasadas las diez empezaron a sonar las sirenas. Un viento de más de 120 kilómetros por hora formó un pequeño maremoto en la laguna que provocó una subida de hasta 187 centímetros, la mayor desde la histórica catástrofe de 1966. Muchas de las 71 góndolas de la Riva Degli Schiavoni rompieron las amarras y salieron flotando hasta dar contra las columnas del Palacio Ducal. Algunos barrios se quedaron a oscuras y el agua entró violentamente en la basílica de San Marcos. Luego comenzó una subida por toda la isla que causó dos muertos, anegó restaurantes, palacios y comercios y obligó a cerrar escuelas. La ciudad está en alerta hasta el viernes por riesgo de que este episodio se repita.\n",
            "La ciudad empieza a estar harta de algo que todo el mundo cree que se podría evitar. Los efectos del cambio climático, que han aumentado la frecuencia y la intensidad de las tradicionales mareas de otoño (el año pasado sucedió algo parecido), un fuerte temporal y la negligencia en la construcción de un sistema de diques que dura ya 40 años dejaron la segunda peor inundación del siglo. Los daños en el patrimonio artístico de la ciudad de 1966 no se repitieron: los venecianos toman ya grandes precauciones en estas épocas. Pero este miércoles por la mañana, en medio de un paisaje apocalíptico con vaporetos y lanchas sobre la acera, podían verse todavía los efectos en la vida de la gente. El primer ministro, Giuseppe Conte, ha llegado a la ciudad por la tarde y ha asegurado que tomará medidas. “Hay una petición del gobernador Zaia para declarar el estado de emergencia y no veo razones para negarlo. Prepararemos los primeros fondos para la participación del Gobierno en esta emergencia”, ha dicho. Y la ministra de Infraestructuras y Transportes, Paola de Micheli, ha anunciado que se convocará un comité para tomar decisiones de largo recorrido en Venecia. “Haremos un gran proyecto para Venecia”.\n",
            "Los vecinos ya no creen en las promesas políticas. Marco Gazzetta achicaba agua en su negocio de máscaras junto a la plaza Rialto. Cuando fue a abrir por la mañana sabía que encontraría todo el género flotando. “La app nos dio otro resultado. Nos fuimos a casa pensando que no superaría los 140 centímetros”, protestaba. Katia, en un negocio de bisutería, les excusaba. “No es culpa suya, el viento lo cambió todo. No sé cómo se puede prevenir algo así”. El recuerdo de la terrible inundación del 4 de noviembre de 1966 comenzó a materializarse a las 21.00. A esa hora, un viento superior al previsto se levantó, empujando con fuerza el agua del Adriático a la laguna de Venecia. El Centro de Previsión de las Mareas de Venecia no acertó con la previsión. A las 22.40 la marea era de 180 centímetros y a las 23.00 alcanzaba ya los 187. Un técnico de dicho organismo asegura a este periódico que “se formó un pequeño ciclón sobre Venecia, con vientos de hasta 120 kilómetros por hora que empeoraron la situación”. “Es algo muy anómalo y puede estar relacionado con el cambio climático”, apunta.\n",
            "Javier Jordà, científico del Instituto Español de Oceanografía en Baleares y autor de una investigación que muestra cómo la subida del nivel del mar haría aumentar la frecuencia de inundaciones en Venecia a final de siglo, coincide y vincula lo que está ocurriendo al calentamiento: “Lo que antes pasaba una vez, se convertirá en norma. Hay que tener en cuenta que al incremento del nivel del mar se suma que la ciudad se está hundiendo, lo que hace que el efecto de la subida del agua se multiplique”.\n",
            "Los daños en viviendas y comercios fueron enormes. “Centenares de miles de euros”, denunció el alcalde de la ciudad, Luigi Brugnaro, que pidió declarar el estado de emergencia. Pero la peor parte, como sucedió ya el año pasado, se la llevó la basílica de San Pedro, que se encuentra en la parte más baja de la isla y es incapaz de contener las embestidas del agua. El templo bizantino, que se inundó por sexta vez en 1.200 años, tuvo que evacuar a los fieles al término de la misa de las ocho, explica su director, Giuseppe Marieschi, mientras muestra pedazos de los mosaicos arrancados del suelo y la base de las columnas de mármol carcomidas por la sal del agua de marina. “Si eso pasase una vez cada 100 años, sería un problema. Pero si pasa varias veces en una década es un riesgo enorme para la iglesia”, señala. La cripta, donde están las sepulturas de algunos de los patriarcas, quedó completamente inundada. “Los daños son irreparables”, advirtió el patriarca de Venecia, Francesco Moraglia.\n",
            "El ingeniero jefe de la basílica, Pierpaolo Campostrini, fue aún más directo. “Es una indecencia. El martes por la mañana, cuando la marea era de 140 centímetros se debió probar el Mose (acrónimo de Módulo Experimental Electromecánico). Se habría evitado el desastre en la basílica. La marea ha demostrado que Venecia no es segura. Esto es casi como el Apocalipsis, estuvimos al borde del desastre. El mar entró e inundó el suelo y los mosaicos, rompió ventanas e inundó la cripta. Más allá de los daños en el suelo y los mosaicos, el agua podría crear problemas de estabilidad en las columnas que sostienen el edificio”, advirtió.\n",
            "Los responsables de la basílica están valorando pedir la construcción de una suerte de barrera que pueda frenar el agua en caso de inundaciones en la plaza de San Marcos, revela Capostrini. Un atajo, en suma, para resolver la parálisis en la que lleva sumida la finalización del sistema de contención de las inundaciones, que resume cuatro décadas de despropósitos y corrupción. En 2003 se empezaron a construir 78 diques flotantes en el marco del proyecto Mose. Las esclusas deberían cerrar la laguna en caso de subida de las aguas del Adriático. Pero problemas de sobrecostes y corrupción retrasaron su puesta en funcionamiento. Hasta entonces, los venecianos solo podrán encomendarse al cielo o seguir refrescando aplicación de las mareas antes de cerrar sus negocios o irse a la cama.\n"
          ],
          "name": "stdout"
        }
      ]
    },
    {
      "cell_type": "markdown",
      "metadata": {
        "id": "8ano1SwfsQZr"
      },
      "source": [
        "Si quisiéramos hacer un filtrado más específico de párrafos o contenidos, podemos definir una función lógica que devuelva a `find_all` los elementos a considerar:\n",
        "```python\n",
        "def has_class_but_no_id(tag):\n",
        "    return tag.has_attr('class') and not tag.has_attr('id')\n",
        "```\n",
        "\n",
        "Que luego usamos con:\n",
        "\n",
        "```python\n",
        "content.findAll(has_class_but_no_id)\n",
        "```\n"
      ]
    },
    {
      "cell_type": "code",
      "metadata": {
        "id": "YfmgNIHzsQZs",
        "outputId": "e10d2300-d218-429e-cee2-ca8c6f9319d1"
      },
      "source": [
        "#Por ejemplo los párrafos que contienen la palabra basílica\n",
        "def contiene_basilica(tag):\n",
        "    return tag.name=='p' and 'basílica' in tag.text\n",
        "\n",
        "content = soup.find('div', {\"id\": \"cuerpo_noticia\"})\n",
        "content.find_all(contiene_basilica)"
      ],
      "execution_count": null,
      "outputs": [
        {
          "output_type": "execute_result",
          "data": {
            "text/plain": [
              "[<p>Los venecianos viven en esta época del año refrescando cada minuto la aplicación del Centro de Previsión de Mareas, que permite saber hasta qué nivel puede llegar el <em>acqua alta</em>. El martes había luna llena y muchos se temieron lo peor, pero se fueron a cenar con el último dato de 140 centímetros. Pasadas las diez empezaron a sonar las sirenas. Un viento de más de 120 kilómetros por hora formó un pequeño maremoto en la laguna que provocó una subida de hasta 187 centímetros, la mayor desde la histórica catástrofe de 1966. Muchas de las 71 góndolas de la Riva Degli Schiavoni rompieron las amarras y salieron flotando hasta dar contra las columnas del Palacio Ducal. Algunos barrios se quedaron a oscuras y el agua entró violentamente en la basílica de San Marcos. Luego comenzó una subida por toda la isla que causó dos muertos, anegó restaurantes, palacios y comercios y obligó a cerrar escuelas. La ciudad está en alerta hasta el viernes por riesgo de que este episodio se repita.</p>,\n",
              " <p>Los daños en viviendas y comercios fueron enormes. “Centenares de miles de euros”, denunció el alcalde de la ciudad, Luigi Brugnaro, que pidió declarar el estado de emergencia. Pero la peor parte, como sucedió ya el año pasado, se la llevó la basílica de San Pedro, que se encuentra en la parte más baja de la isla y es incapaz de contener las embestidas del agua. El templo bizantino, que se inundó por sexta vez en 1.200 años, tuvo que evacuar a los fieles al término de la misa de las ocho, explica su director, Giuseppe Marieschi, mientras muestra pedazos de los mosaicos arrancados del suelo y la base de las columnas de mármol carcomidas por la sal del agua de marina. “Si eso pasase una vez cada 100 años, sería un problema. Pero si pasa varias veces en una década es un riesgo enorme para la iglesia”, señala. La cripta, donde están las sepulturas de algunos de los patriarcas, quedó completamente inundada. “Los daños son irreparables”, advirtió el patriarca de Venecia, Francesco Moraglia.</p>,\n",
              " <p>El ingeniero jefe de la basílica, Pierpaolo Campostrini, fue aún más directo. “Es una indecencia. El martes por la mañana, cuando la marea era de 140 centímetros <a href=\"//elpais.com/sociedad/2019/11/13/actualidad/1573656253_882619.html\" target=\"_blank\">se debió probar el Mose (acrónimo de Módulo Experimental Electromecánico).</a> Se habría evitado el desastre en la basílica. La marea ha demostrado que Venecia no es segura. Esto es casi como el Apocalipsis, estuvimos al borde del desastre. El mar entró e inundó el suelo y los mosaicos, rompió ventanas e inundó la cripta. Más allá de los daños en el suelo y los mosaicos, el agua podría crear problemas de estabilidad en las columnas que sostienen el edificio”, advirtió.</p>,\n",
              " <p>Los responsables de la basílica están valorando pedir la construcción de una suerte de barrera que pueda frenar el agua en caso de inundaciones en la plaza de San Marcos, revela Capostrini. Un atajo, en suma, para resolver la parálisis en la que lleva sumida la finalización del sistema de contención de las inundaciones, que resume cuatro décadas de despropósitos y corrupción. En 2003 se empezaron a construir 78 diques flotantes en el marco del proyecto Mose. Las esclusas deberían cerrar la laguna en caso de subida de las aguas del Adriático. Pero problemas de sobrecostes y corrupción retrasaron su puesta en funcionamiento. Hasta entonces, los venecianos solo podrán encomendarse al cielo o seguir refrescando aplicación de las mareas antes de cerrar sus negocios o irse a la cama.</p>]"
            ]
          },
          "metadata": {
            "tags": []
          },
          "execution_count": 62
        }
      ]
    },
    {
      "cell_type": "markdown",
      "metadata": {
        "id": "kOOc56wesQZt"
      },
      "source": [
        "### Ejercicio 1\n",
        "Busca los párrafos dentro de la etiqueta `<div>` con el cuerpo de la noticia que contengan un elemento de tipo enlace (`<a>`)"
      ]
    },
    {
      "cell_type": "code",
      "metadata": {
        "id": "FBqutQ2msQZt",
        "outputId": "fd7244c7-5ad7-47e1-ca2a-090a268825de"
      },
      "source": [
        "## Solución\n",
        "content2 = soup.find('div', {\"id\": \"cuerpo_noticia\"})\n",
        "\n",
        "#Por ejemplo los párrafos que contienen el tag <a> (enlace)\n",
        "def contiene_enlace(tag):\n",
        "    return tag.name=='a' in tag.text\n",
        "\n",
        "content2.find_all(contiene_enlace)"
      ],
      "execution_count": null,
      "outputs": [
        {
          "output_type": "execute_result",
          "data": {
            "text/plain": [
              "[<a href=\"//elpais.com/tag/cambio_climatico/a\" target=\"_blank\">cambio climático</a>,\n",
              " <a href=\"//elpais.com/elpais/2019/11/13/album/1573633185_469059.html\">\n",
              " <span class=\"apoyo-tipo\">FOTOGALERÍA</span>\n",
              " Las inundaciones en Venecia, en imágenes\n",
              " </a>,\n",
              " <a href=\"//elpais.com/cultura/2017/08/23/actualidad/1503509938_525170.html\">\n",
              " El día en que Venecia se ahogó\n",
              " </a>,\n",
              " <a href=\"//elpais.com/sociedad/2019/11/13/actualidad/1573656253_882619.html\" target=\"_blank\">se debió probar el Mose (acrónimo de Módulo Experimental Electromecánico).</a>]"
            ]
          },
          "metadata": {
            "tags": []
          },
          "execution_count": 63
        }
      ]
    },
    {
      "cell_type": "markdown",
      "metadata": {
        "id": "QrJCMvE6sQZu"
      },
      "source": [
        "## Parte 2: captura de datos meteorológicos\n",
        "En este parte vamos a capturar datos meteorológicos de la Comunitat Valenciana desde la página de la [AVAMET (Associació valenciana de meteorologia)](https://www.avamet.org)."
      ]
    },
    {
      "cell_type": "code",
      "metadata": {
        "id": "eIF2hyuysQZu"
      },
      "source": [
        "#esta página contiene los datos meteorológicos de un día concreto\n",
        "fecha = '2021-02-10'\n",
        "r = requests.get(\"https://www.avamet.org/mx-meteoxarxa.php\", params={'id':fecha})"
      ],
      "execution_count": null,
      "outputs": []
    },
    {
      "cell_type": "code",
      "metadata": {
        "id": "1Hzc5ogDsQZv"
      },
      "source": [
        "soup = BeautifulSoup(r.text, \"html.parser\")"
      ],
      "execution_count": null,
      "outputs": []
    },
    {
      "cell_type": "markdown",
      "metadata": {
        "id": "abHxBTMMsQZv"
      },
      "source": [
        "Los datos de todos los municipios de la CV están en una tabla de clase `tDades`"
      ]
    },
    {
      "cell_type": "code",
      "metadata": {
        "id": "TPdIROkysQZv"
      },
      "source": [
        "tabla = soup.find(\"table\", class_=\"tDades\")"
      ],
      "execution_count": null,
      "outputs": []
    },
    {
      "cell_type": "markdown",
      "metadata": {
        "id": "wcDpFZO0sQZv"
      },
      "source": [
        "Dentro de la tabla, los datos están en las filas (`<tr>`) que tienen un elemento`<td class='rEsta'>`. Definimos una función para filtrar etiquetas con esta clase y buscamos todos los elementos internos a la tabla:"
      ]
    },
    {
      "cell_type": "code",
      "metadata": {
        "id": "f8TbXWGWsQZw"
      },
      "source": [
        "def clase_rEsta(tag):\n",
        "    return tag.find(class_=\"rEsta\")"
      ],
      "execution_count": null,
      "outputs": []
    },
    {
      "cell_type": "code",
      "metadata": {
        "id": "ZiwkRKthsQZw"
      },
      "source": [
        "loc = tabla.find_all(clase_rEsta)"
      ],
      "execution_count": null,
      "outputs": []
    },
    {
      "cell_type": "code",
      "metadata": {
        "id": "FDV3pE9isQZw",
        "outputId": "1c5c99c1-b5cd-4e19-9a4d-7bf9bad45ee6"
      },
      "source": [
        "len(loc)"
      ],
      "execution_count": null,
      "outputs": [
        {
          "output_type": "execute_result",
          "data": {
            "text/plain": [
              "678"
            ]
          },
          "metadata": {
            "tags": []
          },
          "execution_count": 69
        }
      ]
    },
    {
      "cell_type": "markdown",
      "metadata": {
        "id": "JYO4AAJxsQZx"
      },
      "source": [
        "Nos fijamos por ejemplo en el primer elemento de esta lista:"
      ]
    },
    {
      "cell_type": "code",
      "metadata": {
        "id": "gIDPQpJzsQZx",
        "outputId": "e7fcee65-1005-4848-d0b6-a74e32b7c0e3"
      },
      "source": [
        "print(loc[0].prettify())"
      ],
      "execution_count": null,
      "outputs": [
        {
          "output_type": "stream",
          "text": [
            "<tr>\n",
            " <td class=\"rEsta\">\n",
            "  <a class=\"negre\" href=\"mx-fitxa.php?id=c01m038e20\">\n",
            "   <img alt=\"\" height=\"13\" src=\"imatges/2017/clas/estrela-mx-.png\" title=\"\" width=\"13\">\n",
            "    Castellfort\n",
            "    <span class=\"rEstaDmxo\">\n",
            "     <span class=\"ptda\">\n",
            "     </span>\n",
            "     AEMET\n",
            "    </span>\n",
            "   </img>\n",
            "  </a>\n",
            " </td>\n",
            " <td class=\"rValm colornT16\">\n",
            "  2,4\n",
            " </td>\n",
            " <td class=\"rValm colornT17\">\n",
            "  4,7\n",
            " </td>\n",
            " <td class=\"rValm colornT18\">\n",
            "  7,0\n",
            " </td>\n",
            " <td class=\"rVal\">\n",
            " </td>\n",
            " <td class=\"rValm colorP\">\n",
            "  0,0\n",
            " </td>\n",
            " <td class=\"rVal\">\n",
            " </td>\n",
            " <td class=\"rVal\">\n",
            " </td>\n",
            " <td class=\"rVal\">\n",
            "  <b>\n",
            "  </b>\n",
            " </td>\n",
            "</tr>\n",
            "\n"
          ],
          "name": "stdout"
        }
      ]
    },
    {
      "cell_type": "markdown",
      "metadata": {
        "id": "3AoP0V5GsQZy"
      },
      "source": [
        "Vemos que algunas de las celdas de esta fila tienen elementos de tipo `<span>`. Si no nos interesan los podríamos eliminar con el método `.decompose()` del Tag. Pero como el texto nos interesa insertamos un espacio para separar el contenido al extraer el texto posteriormente con `.text()`:"
      ]
    },
    {
      "cell_type": "code",
      "metadata": {
        "id": "iaF4lwLKsQZy",
        "outputId": "d96fce87-e865-44e3-884f-f33023c92c3d"
      },
      "source": [
        "for t in loc:\n",
        "    for t in t.find_all('span', class_=\"rEstaDmxo\"):\n",
        "        t.insert_before(' ')\n",
        "print(loc[0].prettify())"
      ],
      "execution_count": null,
      "outputs": [
        {
          "output_type": "stream",
          "text": [
            "<tr>\n",
            " <td class=\"rEsta\">\n",
            "  <a class=\"negre\" href=\"mx-fitxa.php?id=c01m038e20\">\n",
            "   <img alt=\"\" height=\"13\" src=\"imatges/2017/clas/estrela-mx-.png\" title=\"\" width=\"13\">\n",
            "    Castellfort\n",
            "    <span class=\"rEstaDmxo\">\n",
            "     <span class=\"ptda\">\n",
            "     </span>\n",
            "     AEMET\n",
            "    </span>\n",
            "   </img>\n",
            "  </a>\n",
            " </td>\n",
            " <td class=\"rValm colornT16\">\n",
            "  2,4\n",
            " </td>\n",
            " <td class=\"rValm colornT17\">\n",
            "  4,7\n",
            " </td>\n",
            " <td class=\"rValm colornT18\">\n",
            "  7,0\n",
            " </td>\n",
            " <td class=\"rVal\">\n",
            " </td>\n",
            " <td class=\"rValm colorP\">\n",
            "  0,0\n",
            " </td>\n",
            " <td class=\"rVal\">\n",
            " </td>\n",
            " <td class=\"rVal\">\n",
            " </td>\n",
            " <td class=\"rVal\">\n",
            "  <b>\n",
            "  </b>\n",
            " </td>\n",
            "</tr>\n",
            "\n"
          ],
          "name": "stdout"
        }
      ]
    },
    {
      "cell_type": "code",
      "metadata": {
        "id": "cLiKXVNksQZz",
        "outputId": "c65e7445-2e75-4709-a2c8-053e0c735980"
      },
      "source": [
        "#Cada celda <td> dentro de la fila es una columna de la tabla\n",
        "[t.text.strip() for t in loc[0].find_all(\"td\")]"
      ],
      "execution_count": null,
      "outputs": [
        {
          "output_type": "execute_result",
          "data": {
            "text/plain": [
              "['Castellfort AEMET', '2,4', '4,7', '7,0', '', '0,0', '', '', '']"
            ]
          },
          "metadata": {
            "tags": []
          },
          "execution_count": 72
        }
      ]
    },
    {
      "cell_type": "code",
      "metadata": {
        "id": "jKxZ83KJsQZ1",
        "outputId": "f693eb1d-e019-41b7-9280-6187cde87a57"
      },
      "source": [
        "[t for t in loc[0].find_all(\"td\")]"
      ],
      "execution_count": null,
      "outputs": [
        {
          "output_type": "execute_result",
          "data": {
            "text/plain": [
              "[<td class=\"rEsta\"><a class=\"negre\" href=\"mx-fitxa.php?id=c01m038e20\"><img alt=\"\" height=\"13\" src=\"imatges/2017/clas/estrela-mx-.png\" title=\"\" width=\"13\"> Castellfort <span class=\"rEstaDmxo\"><span class=\"ptda\"></span>AEMET</span></img></a> </td>,\n",
              " <td class=\"rValm colornT16\">2,4 </td>,\n",
              " <td class=\"rValm colornT17\">4,7 </td>,\n",
              " <td class=\"rValm colornT18\">7,0 </td>,\n",
              " <td class=\"rVal\"> </td>,\n",
              " <td class=\"rValm colorP\">0,0 </td>,\n",
              " <td class=\"rVal\"> </td>,\n",
              " <td class=\"rVal\"> </td>,\n",
              " <td class=\"rVal\"><b> </b></td>]"
            ]
          },
          "metadata": {
            "tags": []
          },
          "execution_count": 73
        }
      ]
    },
    {
      "cell_type": "code",
      "metadata": {
        "id": "cXKXEFRhsQZ1"
      },
      "source": [
        "#Capturamos toda la tabla\n",
        "datos = [[t.text.strip() for t in l.find_all(\"td\")] for l in loc]"
      ],
      "execution_count": null,
      "outputs": []
    },
    {
      "cell_type": "code",
      "metadata": {
        "id": "Vc2RGeSYsQZ2",
        "outputId": "95788157-a7f5-472c-eccc-ec35a792254f"
      },
      "source": [
        "#Todas las filas tienen los mismos datos\n",
        "len(datos[0])"
      ],
      "execution_count": null,
      "outputs": [
        {
          "output_type": "execute_result",
          "data": {
            "text/plain": [
              "9"
            ]
          },
          "metadata": {
            "tags": []
          },
          "execution_count": 75
        }
      ]
    },
    {
      "cell_type": "markdown",
      "metadata": {
        "id": "FR8qOMLRsQZ2"
      },
      "source": [
        "Ahora exportamos la tabla como un DataFrame de `pandas`:"
      ]
    },
    {
      "cell_type": "code",
      "metadata": {
        "id": "sxYZW4vJsQZ2"
      },
      "source": [
        "import pandas as pd"
      ],
      "execution_count": null,
      "outputs": []
    },
    {
      "cell_type": "code",
      "metadata": {
        "id": "M0E5YD09sQZ4"
      },
      "source": [
        "data_matrix = pd.DataFrame(datos)"
      ],
      "execution_count": null,
      "outputs": []
    },
    {
      "cell_type": "code",
      "metadata": {
        "id": "SsP6mRt0sQZ4",
        "outputId": "bffc68c8-bfc5-43c7-c8e4-c5d9b0de5191"
      },
      "source": [
        "data_matrix.info()"
      ],
      "execution_count": null,
      "outputs": [
        {
          "output_type": "stream",
          "text": [
            "<class 'pandas.core.frame.DataFrame'>\n",
            "RangeIndex: 678 entries, 0 to 677\n",
            "Data columns (total 9 columns):\n",
            " #   Column  Non-Null Count  Dtype \n",
            "---  ------  --------------  ----- \n",
            " 0   0       678 non-null    object\n",
            " 1   1       678 non-null    object\n",
            " 2   2       678 non-null    object\n",
            " 3   3       678 non-null    object\n",
            " 4   4       678 non-null    object\n",
            " 5   5       678 non-null    object\n",
            " 6   6       678 non-null    object\n",
            " 7   7       678 non-null    object\n",
            " 8   8       678 non-null    object\n",
            "dtypes: object(9)\n",
            "memory usage: 47.8+ KB\n"
          ],
          "name": "stdout"
        }
      ]
    },
    {
      "cell_type": "code",
      "metadata": {
        "id": "NbYr77G_sQZ5"
      },
      "source": [
        "#Definimos el nombre de las columnas\n",
        "data_matrix.columns = ['localidad','Temp','Tmax','Tmin','Humedad','Precip',\n",
        "                      'Vel.viento','Dir.viento','Vmax_viento']"
      ],
      "execution_count": null,
      "outputs": []
    },
    {
      "cell_type": "code",
      "metadata": {
        "id": "88SccO5zsQZ6",
        "outputId": "40256c94-6f6c-4b8a-80fb-8bd2cd5f1d5b"
      },
      "source": [
        "data_matrix.head(5)"
      ],
      "execution_count": null,
      "outputs": [
        {
          "output_type": "execute_result",
          "data": {
            "text/html": [
              "<div>\n",
              "<style scoped>\n",
              "    .dataframe tbody tr th:only-of-type {\n",
              "        vertical-align: middle;\n",
              "    }\n",
              "\n",
              "    .dataframe tbody tr th {\n",
              "        vertical-align: top;\n",
              "    }\n",
              "\n",
              "    .dataframe thead th {\n",
              "        text-align: right;\n",
              "    }\n",
              "</style>\n",
              "<table border=\"1\" class=\"dataframe\">\n",
              "  <thead>\n",
              "    <tr style=\"text-align: right;\">\n",
              "      <th></th>\n",
              "      <th>localidad</th>\n",
              "      <th>Temp</th>\n",
              "      <th>Tmax</th>\n",
              "      <th>Tmin</th>\n",
              "      <th>Humedad</th>\n",
              "      <th>Precip</th>\n",
              "      <th>Vel.viento</th>\n",
              "      <th>Dir.viento</th>\n",
              "      <th>Vmax_viento</th>\n",
              "    </tr>\n",
              "  </thead>\n",
              "  <tbody>\n",
              "    <tr>\n",
              "      <th>0</th>\n",
              "      <td>Castellfort AEMET</td>\n",
              "      <td>2,4</td>\n",
              "      <td>4,7</td>\n",
              "      <td>7,0</td>\n",
              "      <td></td>\n",
              "      <td>0,0</td>\n",
              "      <td></td>\n",
              "      <td></td>\n",
              "      <td></td>\n",
              "    </tr>\n",
              "    <tr>\n",
              "      <th>1</th>\n",
              "      <td>Cinctorres</td>\n",
              "      <td>4,4</td>\n",
              "      <td>7,4</td>\n",
              "      <td>9,9</td>\n",
              "      <td>61</td>\n",
              "      <td>0,6</td>\n",
              "      <td>16,9</td>\n",
              "      <td>NO</td>\n",
              "      <td>74,0</td>\n",
              "    </tr>\n",
              "    <tr>\n",
              "      <th>2</th>\n",
              "      <td>Forcall</td>\n",
              "      <td>1,6</td>\n",
              "      <td>7,9</td>\n",
              "      <td>12,3</td>\n",
              "      <td>64</td>\n",
              "      <td>0,8</td>\n",
              "      <td>9,2</td>\n",
              "      <td>NO</td>\n",
              "      <td>51,5</td>\n",
              "    </tr>\n",
              "    <tr>\n",
              "      <th>3</th>\n",
              "      <td>Morella centre</td>\n",
              "      <td>4,4</td>\n",
              "      <td>7,4</td>\n",
              "      <td>10,6</td>\n",
              "      <td>64</td>\n",
              "      <td>1,2</td>\n",
              "      <td>10,6</td>\n",
              "      <td>O</td>\n",
              "      <td>56,3</td>\n",
              "    </tr>\n",
              "    <tr>\n",
              "      <th>4</th>\n",
              "      <td>Morella Fàbrica Giner</td>\n",
              "      <td>0,6</td>\n",
              "      <td>7,8</td>\n",
              "      <td>11,4</td>\n",
              "      <td>66</td>\n",
              "      <td>1,2</td>\n",
              "      <td>2,4</td>\n",
              "      <td>O</td>\n",
              "      <td>35,4</td>\n",
              "    </tr>\n",
              "  </tbody>\n",
              "</table>\n",
              "</div>"
            ],
            "text/plain": [
              "               localidad Temp Tmax  Tmin Humedad Precip Vel.viento Dir.viento  \\\n",
              "0      Castellfort AEMET  2,4  4,7   7,0            0,0                         \n",
              "1             Cinctorres  4,4  7,4   9,9      61    0,6       16,9         NO   \n",
              "2                Forcall  1,6  7,9  12,3      64    0,8        9,2         NO   \n",
              "3         Morella centre  4,4  7,4  10,6      64    1,2       10,6          O   \n",
              "4  Morella Fàbrica Giner  0,6  7,8  11,4      66    1,2        2,4          O   \n",
              "\n",
              "  Vmax_viento  \n",
              "0              \n",
              "1        74,0  \n",
              "2        51,5  \n",
              "3        56,3  \n",
              "4        35,4  "
            ]
          },
          "metadata": {
            "tags": []
          },
          "execution_count": 80
        }
      ]
    },
    {
      "cell_type": "markdown",
      "metadata": {
        "id": "9Ydg0mjbsQZ6"
      },
      "source": [
        "### Ejercicio 2\n",
        "Crea un script para capturar los datos de un territorio y una fecha concretas a través de la URL:\\\n",
        "`https://www.avamet.org/mx-meteoxarxa.php?id={fecha}&territori={territorio}`\\\n",
        "Los códigos de cada territorio están en el elemento `select` siguiente:"
      ]
    },
    {
      "cell_type": "code",
      "metadata": {
        "id": "HYFahfUesQZ6",
        "outputId": "cb729c60-2200-4576-a42f-27fcdc6c5a89"
      },
      "source": [
        "soup.find(\"select\", attrs={'name':\"freg_territori\"})"
      ],
      "execution_count": null,
      "outputs": [
        {
          "output_type": "execute_result",
          "data": {
            "text/plain": [
              "<select class=\"formBasic\" name=\"freg_territori\" onchange=\"location.href='mx-meteoxarxa.php?id=2021-02-10&amp;territori=' + this.value\">\n",
              "<option selected=\"\" style=\"font-weight:800;\" value=\"pv\">TOT EL TERRITORI</option>\n",
              "<option style=\"font-weight:800;\" value=\"p12\">Prov. Castelló</option>\n",
              "<option value=\"c01\">   els Ports</option>\n",
              "<option value=\"c02\">   l′Alt Maestrat</option>\n",
              "<option value=\"c03\">   el Baix Maestrat</option>\n",
              "<option value=\"c04\">   l′Alcalatén</option>\n",
              "<option value=\"c05\">   la Plana Alta</option>\n",
              "<option value=\"c06\">   la Plana Baixa</option>\n",
              "<option value=\"c07\">   l′Alt Palància</option>\n",
              "<option value=\"c08\">   l′Alt Millars</option>\n",
              "<option style=\"font-weight:800;\" value=\"p46\">Prov. València</option>\n",
              "<option value=\"c09\">   el Racó d′Ademús</option>\n",
              "<option value=\"c10\">   els Serrans</option>\n",
              "<option value=\"c11\">   el Camp de Túria</option>\n",
              "<option value=\"c12\">   el Camp de Morvedre</option>\n",
              "<option value=\"c13\">   l′Horta Nord</option>\n",
              "<option value=\"c14\">   l′Horta Oest</option>\n",
              "<option value=\"c15\">   València</option>\n",
              "<option value=\"c16\">   l′Horta Sud</option>\n",
              "<option value=\"c17\">   la Plana d′Utiel-Requena</option>\n",
              "<option value=\"c18\">   la Foia de Bunyol</option>\n",
              "<option value=\"c19\">   la Vall de Cofrents-Aiora</option>\n",
              "<option value=\"c20\">   la Ribera Alta</option>\n",
              "<option value=\"c21\">   la Ribera Baixa</option>\n",
              "<option value=\"c22\">   la Canal de Navarrés</option>\n",
              "<option value=\"c23\">   la Costera</option>\n",
              "<option value=\"c24\">   la Vall d′Albaida</option>\n",
              "<option value=\"c25\">   la Safor</option>\n",
              "<option style=\"font-weight:800;\" value=\"p03\">Prov. Alacant</option>\n",
              "<option value=\"c26\">   el Comtat</option>\n",
              "<option value=\"c27\">   l′Alcoià</option>\n",
              "<option value=\"c28\">   l′Alt Vinalopó</option>\n",
              "<option value=\"c29\">   el Vinalopó Mitjà</option>\n",
              "<option value=\"c30\">   la Marina Alta</option>\n",
              "<option value=\"c31\">   la Marina Baixa</option>\n",
              "<option value=\"c32\">   l′Alacantí</option>\n",
              "<option value=\"c33\">   el Baix Vinalopó</option>\n",
              "<option value=\"c34\">   el Baix Segura</option>\n",
              "</select>"
            ]
          },
          "metadata": {
            "tags": []
          },
          "execution_count": 81
        }
      ]
    },
    {
      "cell_type": "code",
      "metadata": {
        "id": "GqJzLPYvsQZ7",
        "outputId": "f449ed6d-d835-4359-cd65-f50cf6b9f373"
      },
      "source": [
        "# Solución\n",
        "\n",
        "fecha = '2021-01-15'\n",
        "territorio='c15'\n",
        "\n",
        "r = requests.get(\"https://www.avamet.org/mx-meteoxarxa.php\", params={'id':fecha, 'territori':territorio})\n",
        "\n",
        "soup = BeautifulSoup(r.text, \"html.parser\")\n",
        "\n",
        "tabla = soup.find(\"table\", class_=\"tDades\")\n",
        "\n",
        "loc = tabla.find_all(clase_rEsta)\n",
        "\n",
        "for t in loc:\n",
        "    for t in t.find_all('span', class_=\"rEstaDmxo\"):\n",
        "        t.insert_before(' ')\n",
        "\n",
        "datos = [[t.text.strip() for t in l.find_all(\"td\")] for l in loc]\n",
        "\n",
        "data_matrix = pd.DataFrame(datos)\n",
        "\n",
        "data_matrix.columns = ['localidad','Temp','Tmax','Tmin','Humedad','Precip',\n",
        "                      'Vel.viento','Dir.viento','Vmax_viento']\n",
        "\n",
        "data_matrix"
      ],
      "execution_count": null,
      "outputs": [
        {
          "output_type": "execute_result",
          "data": {
            "text/html": [
              "<div>\n",
              "<style scoped>\n",
              "    .dataframe tbody tr th:only-of-type {\n",
              "        vertical-align: middle;\n",
              "    }\n",
              "\n",
              "    .dataframe tbody tr th {\n",
              "        vertical-align: top;\n",
              "    }\n",
              "\n",
              "    .dataframe thead th {\n",
              "        text-align: right;\n",
              "    }\n",
              "</style>\n",
              "<table border=\"1\" class=\"dataframe\">\n",
              "  <thead>\n",
              "    <tr style=\"text-align: right;\">\n",
              "      <th></th>\n",
              "      <th>localidad</th>\n",
              "      <th>Temp</th>\n",
              "      <th>Tmax</th>\n",
              "      <th>Tmin</th>\n",
              "      <th>Humedad</th>\n",
              "      <th>Precip</th>\n",
              "      <th>Vel.viento</th>\n",
              "      <th>Dir.viento</th>\n",
              "      <th>Vmax_viento</th>\n",
              "    </tr>\n",
              "  </thead>\n",
              "  <tbody>\n",
              "    <tr>\n",
              "      <th>0</th>\n",
              "      <td>València Camins al Grau</td>\n",
              "      <td>6,7</td>\n",
              "      <td>11,6</td>\n",
              "      <td>18,4</td>\n",
              "      <td>48</td>\n",
              "      <td>0,0</td>\n",
              "      <td>6,9</td>\n",
              "      <td>OSO</td>\n",
              "      <td>36,7</td>\n",
              "    </tr>\n",
              "    <tr>\n",
              "      <th>1</th>\n",
              "      <td>València l'Olivereta</td>\n",
              "      <td>5,9</td>\n",
              "      <td>11,3</td>\n",
              "      <td>18,2</td>\n",
              "      <td>50</td>\n",
              "      <td>0,0</td>\n",
              "      <td>5,8</td>\n",
              "      <td>O</td>\n",
              "      <td>37,0</td>\n",
              "    </tr>\n",
              "    <tr>\n",
              "      <th>2</th>\n",
              "      <td>València Sant Isidre</td>\n",
              "      <td>2,3</td>\n",
              "      <td>13,5</td>\n",
              "      <td>18,6</td>\n",
              "      <td>35</td>\n",
              "      <td>0,0</td>\n",
              "      <td>3,1</td>\n",
              "      <td>ONO</td>\n",
              "      <td>14,8</td>\n",
              "    </tr>\n",
              "    <tr>\n",
              "      <th>3</th>\n",
              "      <td>València Altocúmulo</td>\n",
              "      <td>5,8</td>\n",
              "      <td>11,1</td>\n",
              "      <td>17,7</td>\n",
              "      <td>51</td>\n",
              "      <td>0,0</td>\n",
              "      <td>7,1</td>\n",
              "      <td>SE</td>\n",
              "      <td>38,6</td>\n",
              "    </tr>\n",
              "    <tr>\n",
              "      <th>4</th>\n",
              "      <td>València l'Albufera/Tancat de la Pipa</td>\n",
              "      <td>5,5</td>\n",
              "      <td>9,9</td>\n",
              "      <td>16,6</td>\n",
              "      <td>65</td>\n",
              "      <td>0,0</td>\n",
              "      <td>10,6</td>\n",
              "      <td>SO</td>\n",
              "      <td>22,5</td>\n",
              "    </tr>\n",
              "    <tr>\n",
              "      <th>5</th>\n",
              "      <td>València Vivers AEMET</td>\n",
              "      <td>5,9</td>\n",
              "      <td>12,6</td>\n",
              "      <td>19,2</td>\n",
              "      <td></td>\n",
              "      <td>0,0</td>\n",
              "      <td></td>\n",
              "      <td></td>\n",
              "      <td>32,0</td>\n",
              "    </tr>\n",
              "    <tr>\n",
              "      <th>6</th>\n",
              "      <td>València aeroport AEMET</td>\n",
              "      <td>2,4</td>\n",
              "      <td>10,1</td>\n",
              "      <td>17,9</td>\n",
              "      <td></td>\n",
              "      <td>0,0</td>\n",
              "      <td></td>\n",
              "      <td></td>\n",
              "      <td>45,0</td>\n",
              "    </tr>\n",
              "    <tr>\n",
              "      <th>7</th>\n",
              "      <td>València Micalet</td>\n",
              "      <td>6,3</td>\n",
              "      <td>11,4</td>\n",
              "      <td>18,1</td>\n",
              "      <td>52</td>\n",
              "      <td>0,0</td>\n",
              "      <td>5,8</td>\n",
              "      <td>O</td>\n",
              "      <td>41,8</td>\n",
              "    </tr>\n",
              "    <tr>\n",
              "      <th>8</th>\n",
              "      <td>València Penya-roja</td>\n",
              "      <td>6,9</td>\n",
              "      <td>12,0</td>\n",
              "      <td>19,2</td>\n",
              "      <td>44</td>\n",
              "      <td>0,0</td>\n",
              "      <td>11,4</td>\n",
              "      <td>NO</td>\n",
              "      <td>45,4</td>\n",
              "    </tr>\n",
              "    <tr>\n",
              "      <th>9</th>\n",
              "      <td>València l'Albufera/Racó de l'Olla (Centre d'I...</td>\n",
              "      <td>3,4</td>\n",
              "      <td>8,7</td>\n",
              "      <td>17,3</td>\n",
              "      <td>73</td>\n",
              "      <td>0,0</td>\n",
              "      <td>9,7</td>\n",
              "      <td>OSO</td>\n",
              "      <td>24,1</td>\n",
              "    </tr>\n",
              "    <tr>\n",
              "      <th>10</th>\n",
              "      <td>València Col·legi San Pedro Pascual</td>\n",
              "      <td>5,3</td>\n",
              "      <td>10,9</td>\n",
              "      <td>18,4</td>\n",
              "      <td>49</td>\n",
              "      <td>0,0</td>\n",
              "      <td>4,8</td>\n",
              "      <td>SO</td>\n",
              "      <td>20,5</td>\n",
              "    </tr>\n",
              "    <tr>\n",
              "      <th>11</th>\n",
              "      <td>València Col·legi Diocesà San Juan Bosco</td>\n",
              "      <td>5,4</td>\n",
              "      <td>11,2</td>\n",
              "      <td>19,1</td>\n",
              "      <td>50</td>\n",
              "      <td>0,0</td>\n",
              "      <td>6,6</td>\n",
              "      <td>OSO</td>\n",
              "      <td>33,1</td>\n",
              "    </tr>\n",
              "  </tbody>\n",
              "</table>\n",
              "</div>"
            ],
            "text/plain": [
              "                                            localidad Temp  Tmax  Tmin  \\\n",
              "0                             València Camins al Grau  6,7  11,6  18,4   \n",
              "1                                València l'Olivereta  5,9  11,3  18,2   \n",
              "2                                València Sant Isidre  2,3  13,5  18,6   \n",
              "3                                 València Altocúmulo  5,8  11,1  17,7   \n",
              "4               València l'Albufera/Tancat de la Pipa  5,5   9,9  16,6   \n",
              "5                               València Vivers AEMET  5,9  12,6  19,2   \n",
              "6                             València aeroport AEMET  2,4  10,1  17,9   \n",
              "7                                    València Micalet  6,3  11,4  18,1   \n",
              "8                                 València Penya-roja  6,9  12,0  19,2   \n",
              "9   València l'Albufera/Racó de l'Olla (Centre d'I...  3,4   8,7  17,3   \n",
              "10                València Col·legi San Pedro Pascual  5,3  10,9  18,4   \n",
              "11           València Col·legi Diocesà San Juan Bosco  5,4  11,2  19,1   \n",
              "\n",
              "   Humedad Precip Vel.viento Dir.viento Vmax_viento  \n",
              "0       48    0,0        6,9        OSO        36,7  \n",
              "1       50    0,0        5,8          O        37,0  \n",
              "2       35    0,0        3,1        ONO        14,8  \n",
              "3       51    0,0        7,1         SE        38,6  \n",
              "4       65    0,0       10,6         SO        22,5  \n",
              "5             0,0                              32,0  \n",
              "6             0,0                              45,0  \n",
              "7       52    0,0        5,8          O        41,8  \n",
              "8       44    0,0       11,4         NO        45,4  \n",
              "9       73    0,0        9,7        OSO        24,1  \n",
              "10      49    0,0        4,8         SO        20,5  \n",
              "11      50    0,0        6,6        OSO        33,1  "
            ]
          },
          "metadata": {
            "tags": []
          },
          "execution_count": 82
        }
      ]
    },
    {
      "cell_type": "markdown",
      "metadata": {
        "id": "dBiX7piHsQZ7"
      },
      "source": [
        "### ejercicio extra:\n",
        "Captura los datos durante un mes de la estación de 'València Camins al Grau' y representa gráficamente su temperatura media "
      ]
    },
    {
      "cell_type": "code",
      "metadata": {
        "id": "cZqJGjQosQZ8"
      },
      "source": [
        "# Vamos a guardarnos en una función el procedimiento hecho en el ejercicio anterior\n",
        "\n",
        "fecha = '2021-02-10'\n",
        "territorio='c05'\n",
        "\n",
        "def get_info_matrix(fecha, territorio):\n",
        "\n",
        "    r = requests.get(\"https://www.avamet.org/mx-meteoxarxa.php\", params={'id':fecha, 'territori':territorio})\n",
        "\n",
        "    soup = BeautifulSoup(r.text, \"html.parser\")\n",
        "\n",
        "    tabla = soup.find(\"table\", class_=\"tDades\")\n",
        "\n",
        "    loc = tabla.find_all(clase_rEsta)\n",
        "\n",
        "    for t in loc:\n",
        "        for t in t.find_all('span', class_=\"rEstaDmxo\"):\n",
        "            t.insert_before(' ')\n",
        "\n",
        "    datos = [[t.text.strip() for t in l.find_all(\"td\")] for l in loc]\n",
        "\n",
        "    data_matrix = pd.DataFrame(datos)\n",
        "\n",
        "    data_matrix.columns = ['localidad','Temp','Tmax','Tmin','Humedad','Precip',\n",
        "                          'Vel.viento','Dir.viento','Vmax_viento']\n",
        "\n",
        "    return data_matrix"
      ],
      "execution_count": null,
      "outputs": []
    },
    {
      "cell_type": "code",
      "metadata": {
        "id": "jM73REs0sQZ8"
      },
      "source": [
        "# Creamos una lista con todas las fechas que vamos a necesitar\n",
        "fechas = pd.date_range(start='20210111',end='20210210',freq='D').strftime('%Y-%m-%d').values"
      ],
      "execution_count": null,
      "outputs": []
    },
    {
      "cell_type": "code",
      "metadata": {
        "id": "ZBvC2xwHsQZ8",
        "outputId": "7171e668-1f26-4e43-9aad-74565cea6792"
      },
      "source": [
        "fechas"
      ],
      "execution_count": null,
      "outputs": [
        {
          "output_type": "execute_result",
          "data": {
            "text/plain": [
              "array(['2021-01-11', '2021-01-12', '2021-01-13', '2021-01-14',\n",
              "       '2021-01-15', '2021-01-16', '2021-01-17', '2021-01-18',\n",
              "       '2021-01-19', '2021-01-20', '2021-01-21', '2021-01-22',\n",
              "       '2021-01-23', '2021-01-24', '2021-01-25', '2021-01-26',\n",
              "       '2021-01-27', '2021-01-28', '2021-01-29', '2021-01-30',\n",
              "       '2021-01-31', '2021-02-01', '2021-02-02', '2021-02-03',\n",
              "       '2021-02-04', '2021-02-05', '2021-02-06', '2021-02-07',\n",
              "       '2021-02-08', '2021-02-09', '2021-02-10'], dtype=object)"
            ]
          },
          "metadata": {
            "tags": []
          },
          "execution_count": 85
        }
      ]
    },
    {
      "cell_type": "code",
      "metadata": {
        "id": "Q31Aoo7IsQZ9",
        "outputId": "9a2286a6-2185-46b7-f203-df25221ce7f7"
      },
      "source": [
        "get_info_matrix(fechas[0], 'c15')"
      ],
      "execution_count": null,
      "outputs": [
        {
          "output_type": "execute_result",
          "data": {
            "text/html": [
              "<div>\n",
              "<style scoped>\n",
              "    .dataframe tbody tr th:only-of-type {\n",
              "        vertical-align: middle;\n",
              "    }\n",
              "\n",
              "    .dataframe tbody tr th {\n",
              "        vertical-align: top;\n",
              "    }\n",
              "\n",
              "    .dataframe thead th {\n",
              "        text-align: right;\n",
              "    }\n",
              "</style>\n",
              "<table border=\"1\" class=\"dataframe\">\n",
              "  <thead>\n",
              "    <tr style=\"text-align: right;\">\n",
              "      <th></th>\n",
              "      <th>localidad</th>\n",
              "      <th>Temp</th>\n",
              "      <th>Tmax</th>\n",
              "      <th>Tmin</th>\n",
              "      <th>Humedad</th>\n",
              "      <th>Precip</th>\n",
              "      <th>Vel.viento</th>\n",
              "      <th>Dir.viento</th>\n",
              "      <th>Vmax_viento</th>\n",
              "    </tr>\n",
              "  </thead>\n",
              "  <tbody>\n",
              "    <tr>\n",
              "      <th>0</th>\n",
              "      <td>València Camins al Grau</td>\n",
              "      <td>4,6</td>\n",
              "      <td>6,6</td>\n",
              "      <td>10,1</td>\n",
              "      <td>65</td>\n",
              "      <td>0,0</td>\n",
              "      <td>3,4</td>\n",
              "      <td>S</td>\n",
              "      <td>16,6</td>\n",
              "    </tr>\n",
              "    <tr>\n",
              "      <th>1</th>\n",
              "      <td>València l'Olivereta</td>\n",
              "      <td>3,7</td>\n",
              "      <td>6,2</td>\n",
              "      <td>11,0</td>\n",
              "      <td>68</td>\n",
              "      <td>0,0</td>\n",
              "      <td>3,2</td>\n",
              "      <td>OSO</td>\n",
              "      <td>16,1</td>\n",
              "    </tr>\n",
              "    <tr>\n",
              "      <th>2</th>\n",
              "      <td>València Sant Isidre</td>\n",
              "      <td>3,3</td>\n",
              "      <td>5,9</td>\n",
              "      <td>10,9</td>\n",
              "      <td>63</td>\n",
              "      <td>0,0</td>\n",
              "      <td>1,7</td>\n",
              "      <td>O</td>\n",
              "      <td>8,0</td>\n",
              "    </tr>\n",
              "    <tr>\n",
              "      <th>3</th>\n",
              "      <td>València Altocúmulo</td>\n",
              "      <td>3,4</td>\n",
              "      <td>6,1</td>\n",
              "      <td>10,8</td>\n",
              "      <td>68</td>\n",
              "      <td>0,0</td>\n",
              "      <td>4,0</td>\n",
              "      <td>SE</td>\n",
              "      <td>20,9</td>\n",
              "    </tr>\n",
              "    <tr>\n",
              "      <th>4</th>\n",
              "      <td>València l'Albufera/Tancat de la Pipa</td>\n",
              "      <td>3,7</td>\n",
              "      <td>6,0</td>\n",
              "      <td>10,6</td>\n",
              "      <td>79</td>\n",
              "      <td>0,0</td>\n",
              "      <td>5,6</td>\n",
              "      <td>NO</td>\n",
              "      <td>19,3</td>\n",
              "    </tr>\n",
              "    <tr>\n",
              "      <th>5</th>\n",
              "      <td>València Vivers AEMET</td>\n",
              "      <td>3,5</td>\n",
              "      <td>7,4</td>\n",
              "      <td>11,4</td>\n",
              "      <td></td>\n",
              "      <td>0,0</td>\n",
              "      <td></td>\n",
              "      <td></td>\n",
              "      <td>16,0</td>\n",
              "    </tr>\n",
              "    <tr>\n",
              "      <th>6</th>\n",
              "      <td>València aeroport AEMET</td>\n",
              "      <td>-0,3</td>\n",
              "      <td>4,9</td>\n",
              "      <td>10,1</td>\n",
              "      <td></td>\n",
              "      <td>0,0</td>\n",
              "      <td></td>\n",
              "      <td></td>\n",
              "      <td>24,0</td>\n",
              "    </tr>\n",
              "    <tr>\n",
              "      <th>7</th>\n",
              "      <td>València Micalet</td>\n",
              "      <td>4,0</td>\n",
              "      <td>6,5</td>\n",
              "      <td>10,7</td>\n",
              "      <td>67</td>\n",
              "      <td>0,0</td>\n",
              "      <td>2,7</td>\n",
              "      <td>ONO</td>\n",
              "      <td>17,7</td>\n",
              "    </tr>\n",
              "    <tr>\n",
              "      <th>8</th>\n",
              "      <td>València Penya-roja</td>\n",
              "      <td>5,5</td>\n",
              "      <td>7,5</td>\n",
              "      <td>11,7</td>\n",
              "      <td>62</td>\n",
              "      <td>0,0</td>\n",
              "      <td>6,6</td>\n",
              "      <td>O</td>\n",
              "      <td>22,0</td>\n",
              "    </tr>\n",
              "    <tr>\n",
              "      <th>9</th>\n",
              "      <td>València l'Albufera/Racó de l'Olla (Centre d'I...</td>\n",
              "      <td>0,5</td>\n",
              "      <td>4,7</td>\n",
              "      <td>10,4</td>\n",
              "      <td>85</td>\n",
              "      <td>0,0</td>\n",
              "      <td>5,3</td>\n",
              "      <td>NO</td>\n",
              "      <td>20,9</td>\n",
              "    </tr>\n",
              "    <tr>\n",
              "      <th>10</th>\n",
              "      <td>València Col·legi Diocesà San Juan Bosco</td>\n",
              "      <td>3,3</td>\n",
              "      <td>6,2</td>\n",
              "      <td>11,6</td>\n",
              "      <td>67</td>\n",
              "      <td>0,0</td>\n",
              "      <td>4,2</td>\n",
              "      <td>O</td>\n",
              "      <td>14,8</td>\n",
              "    </tr>\n",
              "  </tbody>\n",
              "</table>\n",
              "</div>"
            ],
            "text/plain": [
              "                                            localidad  Temp Tmax  Tmin  \\\n",
              "0                             València Camins al Grau   4,6  6,6  10,1   \n",
              "1                                València l'Olivereta   3,7  6,2  11,0   \n",
              "2                                València Sant Isidre   3,3  5,9  10,9   \n",
              "3                                 València Altocúmulo   3,4  6,1  10,8   \n",
              "4               València l'Albufera/Tancat de la Pipa   3,7  6,0  10,6   \n",
              "5                               València Vivers AEMET   3,5  7,4  11,4   \n",
              "6                             València aeroport AEMET  -0,3  4,9  10,1   \n",
              "7                                    València Micalet   4,0  6,5  10,7   \n",
              "8                                 València Penya-roja   5,5  7,5  11,7   \n",
              "9   València l'Albufera/Racó de l'Olla (Centre d'I...   0,5  4,7  10,4   \n",
              "10           València Col·legi Diocesà San Juan Bosco   3,3  6,2  11,6   \n",
              "\n",
              "   Humedad Precip Vel.viento Dir.viento Vmax_viento  \n",
              "0       65    0,0        3,4          S        16,6  \n",
              "1       68    0,0        3,2        OSO        16,1  \n",
              "2       63    0,0        1,7          O         8,0  \n",
              "3       68    0,0        4,0         SE        20,9  \n",
              "4       79    0,0        5,6         NO        19,3  \n",
              "5             0,0                              16,0  \n",
              "6             0,0                              24,0  \n",
              "7       67    0,0        2,7        ONO        17,7  \n",
              "8       62    0,0        6,6          O        22,0  \n",
              "9       85    0,0        5,3         NO        20,9  \n",
              "10      67    0,0        4,2          O        14,8  "
            ]
          },
          "metadata": {
            "tags": []
          },
          "execution_count": 86
        }
      ]
    },
    {
      "cell_type": "code",
      "metadata": {
        "id": "-Va8ifTWsQZ9",
        "outputId": "4fcb37fb-f65c-4d87-d5e0-2382aa8c7c83"
      },
      "source": [
        "# Tenemos que encontrar dónde está la estación de València Camins al Grau\n",
        "# Después de una consulta rápida, Valencia Camins al Grau se encuentra en 'c15' y es la primera entrada\n",
        "\n",
        "[get_info_matrix(index, 'c15').loc[0, 'Temp'] for index in fechas]"
      ],
      "execution_count": null,
      "outputs": [
        {
          "output_type": "execute_result",
          "data": {
            "text/plain": [
              "['4,6',\n",
              " '2,0',\n",
              " '3,7',\n",
              " '5,0',\n",
              " '6,7',\n",
              " '5,8',\n",
              " '7,5',\n",
              " '8,2',\n",
              " '6,5',\n",
              " '6,5',\n",
              " '10,5',\n",
              " '12,5',\n",
              " '10,4',\n",
              " '10,4',\n",
              " '13,9',\n",
              " '10,7',\n",
              " '14,6',\n",
              " '15,2',\n",
              " '16,7',\n",
              " '14,4',\n",
              " '12,7',\n",
              " '16,7',\n",
              " '14,6',\n",
              " '14,2',\n",
              " '12,1',\n",
              " '12,2',\n",
              " '11,2',\n",
              " '12,2',\n",
              " '12,5',\n",
              " '12,5',\n",
              " '13,7']"
            ]
          },
          "metadata": {
            "tags": []
          },
          "execution_count": 87
        }
      ]
    },
    {
      "cell_type": "markdown",
      "metadata": {
        "id": "6IkGrdC0sQZ9"
      },
      "source": [
        "## Parte 3: datos de la Wikipedia\n",
        "En esta parte vamos a obtener las URL de las entradas en la wikipedia para todas las provincias de España y vamos a obtener de ellas sus datos básicos en forma de tabla.\\\n",
        "El listado de las provincias de España se puede descargar de la página de la wikipedia siguiente:\\\n",
        "https://es.wikipedia.org/wiki/Provincia_(España)"
      ]
    },
    {
      "cell_type": "code",
      "metadata": {
        "id": "gcLD87qcsQZ-"
      },
      "source": [
        "r = requests.get(\"https://es.wikipedia.org/wiki/Provincia_(España)\")\n",
        "soup = BeautifulSoup(r.text, \"html.parser\")"
      ],
      "execution_count": null,
      "outputs": []
    },
    {
      "cell_type": "code",
      "metadata": {
        "id": "2Gl3GGi_sQZ-"
      },
      "source": [
        "tabla = soup.find(\"table\", class_=\"wikitable\")"
      ],
      "execution_count": null,
      "outputs": []
    },
    {
      "cell_type": "code",
      "metadata": {
        "id": "Bo7pn2vDsQZ-"
      },
      "source": [
        "#todas las columnas de la tabla\n",
        "provincias = tabla.find_all(\"tr\")"
      ],
      "execution_count": null,
      "outputs": []
    },
    {
      "cell_type": "code",
      "metadata": {
        "id": "Cqi6JCzFsQZ_",
        "outputId": "421a1164-481b-4e2c-9520-26d900b4dfc7"
      },
      "source": [
        "#los datos están en la primera celda de cada columna (la primera columna es de encabezado)\n",
        "print(provincias[1].td.prettify())"
      ],
      "execution_count": null,
      "outputs": [
        {
          "output_type": "stream",
          "text": [
            "<td>\n",
            " <b>\n",
            "  <span style=\"display:none;\">\n",
            "   Álava\n",
            "  </span>\n",
            "  <span class=\"flagicon\">\n",
            "   <a class=\"image\" href=\"/wiki/Archivo:Flag_of_%C3%81lava.svg\">\n",
            "    <img alt=\"Álava.svg\" class=\"thumbborder\" data-file-height=\"500\" data-file-width=\"750\" decoding=\"async\" height=\"13\" src=\"//upload.wikimedia.org/wikipedia/commons/thumb/1/1f/Flag_of_%C3%81lava.svg/20px-Flag_of_%C3%81lava.svg.png\" srcset=\"//upload.wikimedia.org/wikipedia/commons/thumb/1/1f/Flag_of_%C3%81lava.svg/30px-Flag_of_%C3%81lava.svg.png 1.5x, //upload.wikimedia.org/wikipedia/commons/thumb/1/1f/Flag_of_%C3%81lava.svg/40px-Flag_of_%C3%81lava.svg.png 2x\" width=\"20\"/>\n",
            "   </a>\n",
            "  </span>\n",
            "  <a href=\"/wiki/%C3%81lava\" title=\"Álava\">\n",
            "   Álava\n",
            "  </a>\n",
            " </b>\n",
            "</td>\n",
            "\n"
          ],
          "name": "stdout"
        }
      ]
    },
    {
      "cell_type": "code",
      "metadata": {
        "id": "ykszLIQisQZ_",
        "outputId": "155facdd-22a6-4e62-d096-fe4288455d90"
      },
      "source": [
        "provincias[1].td.find_all(\"a\")"
      ],
      "execution_count": null,
      "outputs": [
        {
          "output_type": "execute_result",
          "data": {
            "text/plain": [
              "[<a class=\"image\" href=\"/wiki/Archivo:Flag_of_%C3%81lava.svg\"><img alt=\"Álava.svg\" class=\"thumbborder\" data-file-height=\"500\" data-file-width=\"750\" decoding=\"async\" height=\"13\" src=\"//upload.wikimedia.org/wikipedia/commons/thumb/1/1f/Flag_of_%C3%81lava.svg/20px-Flag_of_%C3%81lava.svg.png\" srcset=\"//upload.wikimedia.org/wikipedia/commons/thumb/1/1f/Flag_of_%C3%81lava.svg/30px-Flag_of_%C3%81lava.svg.png 1.5x, //upload.wikimedia.org/wikipedia/commons/thumb/1/1f/Flag_of_%C3%81lava.svg/40px-Flag_of_%C3%81lava.svg.png 2x\" width=\"20\"/></a>,\n",
              " <a href=\"/wiki/%C3%81lava\" title=\"Álava\">Álava</a>]"
            ]
          },
          "metadata": {
            "tags": []
          },
          "execution_count": 92
        }
      ]
    },
    {
      "cell_type": "code",
      "metadata": {
        "id": "ZwnaWT_psQZ_"
      },
      "source": [
        "enlaces = []\n",
        "for p in provincias:\n",
        "    if p.td:\n",
        "        refs = p.td.find_all('a')\n",
        "        for r in refs:\n",
        "            if r.has_attr('title'):\n",
        "            #if r.parent.find('a', class_=None) or r.parent.find('a', class_='mw-redirect'):\n",
        "                enlaces.append(r)"
      ],
      "execution_count": null,
      "outputs": []
    },
    {
      "cell_type": "code",
      "metadata": {
        "id": "5TKkrXdhsQaA",
        "outputId": "8e1d650a-b0cc-49fb-f2ef-485f33abb24f"
      },
      "source": [
        "enlaces"
      ],
      "execution_count": null,
      "outputs": [
        {
          "output_type": "execute_result",
          "data": {
            "text/plain": [
              "[<a href=\"/wiki/%C3%81lava\" title=\"Álava\">Álava</a>,\n",
              " <a href=\"/wiki/Provincia_de_Albacete\" title=\"Provincia de Albacete\">Albacete</a>,\n",
              " <a href=\"/wiki/Provincia_de_Alicante\" title=\"Provincia de Alicante\">Alicante</a>,\n",
              " <a href=\"/wiki/Provincia_de_Almer%C3%ADa\" title=\"Provincia de Almería\">Almería</a>,\n",
              " <a class=\"mw-redirect\" href=\"/wiki/Principado_de_Asturias\" title=\"Principado de Asturias\">Asturias</a>,\n",
              " <a href=\"/wiki/Provincia_de_%C3%81vila\" title=\"Provincia de Ávila\">Ávila</a>,\n",
              " <a href=\"/wiki/Provincia_de_Badajoz\" title=\"Provincia de Badajoz\">Badajoz</a>,\n",
              " <a href=\"/wiki/Provincia_de_Barcelona\" title=\"Provincia de Barcelona\">Barcelona</a>,\n",
              " <a href=\"/wiki/Provincia_de_Burgos\" title=\"Provincia de Burgos\">Burgos</a>,\n",
              " <a href=\"/wiki/Provincia_de_C%C3%A1ceres\" title=\"Provincia de Cáceres\">Cáceres</a>,\n",
              " <a href=\"/wiki/Provincia_de_C%C3%A1diz\" title=\"Provincia de Cádiz\">Cádiz</a>,\n",
              " <a href=\"/wiki/Cantabria\" title=\"Cantabria\">Cantabria</a>,\n",
              " <a href=\"/wiki/Provincia_de_Castell%C3%B3n\" title=\"Provincia de Castellón\">Castellón</a>,\n",
              " <a href=\"/wiki/Provincia_de_Ciudad_Real\" title=\"Provincia de Ciudad Real\">Ciudad Real</a>,\n",
              " <a href=\"/wiki/Provincia_de_C%C3%B3rdoba_(Espa%C3%B1a)\" title=\"Provincia de Córdoba (España)\">Córdoba</a>,\n",
              " <a href=\"/wiki/Provincia_de_La_Coru%C3%B1a\" title=\"Provincia de La Coruña\">La Coruña</a>,\n",
              " <a href=\"/wiki/Provincia_de_Cuenca\" title=\"Provincia de Cuenca\">Cuenca</a>,\n",
              " <a href=\"/wiki/Provincia_de_Gerona\" title=\"Provincia de Gerona\">Gerona</a>,\n",
              " <a href=\"/wiki/Provincia_de_Granada\" title=\"Provincia de Granada\">Granada</a>,\n",
              " <a href=\"/wiki/Provincia_de_Guadalajara\" title=\"Provincia de Guadalajara\">Guadalajara</a>,\n",
              " <a href=\"/wiki/Guip%C3%BAzcoa\" title=\"Guipúzcoa\">Guipúzcoa</a>,\n",
              " <a href=\"/wiki/Provincia_de_Huelva\" title=\"Provincia de Huelva\">Huelva</a>,\n",
              " <a href=\"/wiki/Provincia_de_Huesca\" title=\"Provincia de Huesca\">Huesca</a>,\n",
              " <a href=\"/wiki/Islas_Baleares\" title=\"Islas Baleares\">Baleares</a>,\n",
              " <a href=\"/wiki/Provincia_de_Ja%C3%A9n_(Espa%C3%B1a)\" title=\"Provincia de Jaén (España)\">Jaén</a>,\n",
              " <a href=\"/wiki/Provincia_de_Le%C3%B3n\" title=\"Provincia de León\">León</a>,\n",
              " <a href=\"/wiki/Provincia_de_L%C3%A9rida\" title=\"Provincia de Lérida\">Lérida</a>,\n",
              " <a href=\"/wiki/Provincia_de_Lugo\" title=\"Provincia de Lugo\">Lugo</a>,\n",
              " <a href=\"/wiki/Comunidad_de_Madrid\" title=\"Comunidad de Madrid\">Madrid</a>,\n",
              " <a href=\"/wiki/Provincia_de_M%C3%A1laga\" title=\"Provincia de Málaga\">Málaga</a>,\n",
              " <a href=\"/wiki/Regi%C3%B3n_de_Murcia\" title=\"Región de Murcia\">Murcia</a>,\n",
              " <a href=\"/wiki/Navarra\" title=\"Navarra\">Navarra</a>,\n",
              " <a href=\"/wiki/Provincia_de_Orense\" title=\"Provincia de Orense\">Orense</a>,\n",
              " <a href=\"/wiki/Provincia_de_Palencia\" title=\"Provincia de Palencia\">Palencia</a>,\n",
              " <a href=\"/wiki/Provincia_de_Las_Palmas\" title=\"Provincia de Las Palmas\">Las Palmas</a>,\n",
              " <a href=\"/wiki/Provincia_de_Pontevedra\" title=\"Provincia de Pontevedra\">Pontevedra</a>,\n",
              " <a href=\"/wiki/La_Rioja_(Espa%C3%B1a)\" title=\"La Rioja (España)\">La Rioja</a>,\n",
              " <a href=\"/wiki/Provincia_de_Salamanca\" title=\"Provincia de Salamanca\">Salamanca</a>,\n",
              " <a href=\"/wiki/Provincia_de_Segovia\" title=\"Provincia de Segovia\">Segovia</a>,\n",
              " <a href=\"/wiki/Provincia_de_Sevilla\" title=\"Provincia de Sevilla\">Sevilla</a>,\n",
              " <a href=\"/wiki/Provincia_de_Soria\" title=\"Provincia de Soria\">Soria</a>,\n",
              " <a href=\"/wiki/Provincia_de_Tarragona\" title=\"Provincia de Tarragona\">Tarragona</a>,\n",
              " <a href=\"/wiki/Provincia_de_Santa_Cruz_de_Tenerife\" title=\"Provincia de Santa Cruz de Tenerife\">Santa Cruz de Tenerife</a>,\n",
              " <a href=\"/wiki/Provincia_de_Teruel\" title=\"Provincia de Teruel\">Teruel</a>,\n",
              " <a href=\"/wiki/Provincia_de_Toledo\" title=\"Provincia de Toledo\">Toledo</a>,\n",
              " <a href=\"/wiki/Provincia_de_Valencia\" title=\"Provincia de Valencia\">Valencia</a>,\n",
              " <a href=\"/wiki/Provincia_de_Valladolid\" title=\"Provincia de Valladolid\">Valladolid</a>,\n",
              " <a href=\"/wiki/Vizcaya\" title=\"Vizcaya\">Vizcaya</a>,\n",
              " <a href=\"/wiki/Provincia_de_Zamora\" title=\"Provincia de Zamora\">Zamora</a>,\n",
              " <a href=\"/wiki/Provincia_de_Zaragoza\" title=\"Provincia de Zaragoza\">Zaragoza</a>,\n",
              " <a href=\"/wiki/Ceuta\" title=\"Ceuta\">Ceuta</a>,\n",
              " <a href=\"/wiki/Melilla\" title=\"Melilla\">Melilla</a>]"
            ]
          },
          "metadata": {
            "tags": []
          },
          "execution_count": 94
        }
      ]
    },
    {
      "cell_type": "code",
      "metadata": {
        "id": "yEf_1zkxsQaA"
      },
      "source": [
        "enlaces_df = pd.DataFrame({'provincia': [e.attrs['title'] for e in enlaces],\n",
        "                           'enlace': [e.attrs['href'] for e in enlaces]})"
      ],
      "execution_count": null,
      "outputs": []
    },
    {
      "cell_type": "code",
      "metadata": {
        "id": "Yipo4FHqsQaA",
        "outputId": "3413443a-3508-4c36-ff58-2950c7866d30"
      },
      "source": [
        "enlaces_df"
      ],
      "execution_count": null,
      "outputs": [
        {
          "output_type": "execute_result",
          "data": {
            "text/html": [
              "<div>\n",
              "<style scoped>\n",
              "    .dataframe tbody tr th:only-of-type {\n",
              "        vertical-align: middle;\n",
              "    }\n",
              "\n",
              "    .dataframe tbody tr th {\n",
              "        vertical-align: top;\n",
              "    }\n",
              "\n",
              "    .dataframe thead th {\n",
              "        text-align: right;\n",
              "    }\n",
              "</style>\n",
              "<table border=\"1\" class=\"dataframe\">\n",
              "  <thead>\n",
              "    <tr style=\"text-align: right;\">\n",
              "      <th></th>\n",
              "      <th>provincia</th>\n",
              "      <th>enlace</th>\n",
              "    </tr>\n",
              "  </thead>\n",
              "  <tbody>\n",
              "    <tr>\n",
              "      <th>0</th>\n",
              "      <td>Álava</td>\n",
              "      <td>/wiki/%C3%81lava</td>\n",
              "    </tr>\n",
              "    <tr>\n",
              "      <th>1</th>\n",
              "      <td>Provincia de Albacete</td>\n",
              "      <td>/wiki/Provincia_de_Albacete</td>\n",
              "    </tr>\n",
              "    <tr>\n",
              "      <th>2</th>\n",
              "      <td>Provincia de Alicante</td>\n",
              "      <td>/wiki/Provincia_de_Alicante</td>\n",
              "    </tr>\n",
              "    <tr>\n",
              "      <th>3</th>\n",
              "      <td>Provincia de Almería</td>\n",
              "      <td>/wiki/Provincia_de_Almer%C3%ADa</td>\n",
              "    </tr>\n",
              "    <tr>\n",
              "      <th>4</th>\n",
              "      <td>Principado de Asturias</td>\n",
              "      <td>/wiki/Principado_de_Asturias</td>\n",
              "    </tr>\n",
              "    <tr>\n",
              "      <th>5</th>\n",
              "      <td>Provincia de Ávila</td>\n",
              "      <td>/wiki/Provincia_de_%C3%81vila</td>\n",
              "    </tr>\n",
              "    <tr>\n",
              "      <th>6</th>\n",
              "      <td>Provincia de Badajoz</td>\n",
              "      <td>/wiki/Provincia_de_Badajoz</td>\n",
              "    </tr>\n",
              "    <tr>\n",
              "      <th>7</th>\n",
              "      <td>Provincia de Barcelona</td>\n",
              "      <td>/wiki/Provincia_de_Barcelona</td>\n",
              "    </tr>\n",
              "    <tr>\n",
              "      <th>8</th>\n",
              "      <td>Provincia de Burgos</td>\n",
              "      <td>/wiki/Provincia_de_Burgos</td>\n",
              "    </tr>\n",
              "    <tr>\n",
              "      <th>9</th>\n",
              "      <td>Provincia de Cáceres</td>\n",
              "      <td>/wiki/Provincia_de_C%C3%A1ceres</td>\n",
              "    </tr>\n",
              "    <tr>\n",
              "      <th>10</th>\n",
              "      <td>Provincia de Cádiz</td>\n",
              "      <td>/wiki/Provincia_de_C%C3%A1diz</td>\n",
              "    </tr>\n",
              "    <tr>\n",
              "      <th>11</th>\n",
              "      <td>Cantabria</td>\n",
              "      <td>/wiki/Cantabria</td>\n",
              "    </tr>\n",
              "    <tr>\n",
              "      <th>12</th>\n",
              "      <td>Provincia de Castellón</td>\n",
              "      <td>/wiki/Provincia_de_Castell%C3%B3n</td>\n",
              "    </tr>\n",
              "    <tr>\n",
              "      <th>13</th>\n",
              "      <td>Provincia de Ciudad Real</td>\n",
              "      <td>/wiki/Provincia_de_Ciudad_Real</td>\n",
              "    </tr>\n",
              "    <tr>\n",
              "      <th>14</th>\n",
              "      <td>Provincia de Córdoba (España)</td>\n",
              "      <td>/wiki/Provincia_de_C%C3%B3rdoba_(Espa%C3%B1a)</td>\n",
              "    </tr>\n",
              "    <tr>\n",
              "      <th>15</th>\n",
              "      <td>Provincia de La Coruña</td>\n",
              "      <td>/wiki/Provincia_de_La_Coru%C3%B1a</td>\n",
              "    </tr>\n",
              "    <tr>\n",
              "      <th>16</th>\n",
              "      <td>Provincia de Cuenca</td>\n",
              "      <td>/wiki/Provincia_de_Cuenca</td>\n",
              "    </tr>\n",
              "    <tr>\n",
              "      <th>17</th>\n",
              "      <td>Provincia de Gerona</td>\n",
              "      <td>/wiki/Provincia_de_Gerona</td>\n",
              "    </tr>\n",
              "    <tr>\n",
              "      <th>18</th>\n",
              "      <td>Provincia de Granada</td>\n",
              "      <td>/wiki/Provincia_de_Granada</td>\n",
              "    </tr>\n",
              "    <tr>\n",
              "      <th>19</th>\n",
              "      <td>Provincia de Guadalajara</td>\n",
              "      <td>/wiki/Provincia_de_Guadalajara</td>\n",
              "    </tr>\n",
              "    <tr>\n",
              "      <th>20</th>\n",
              "      <td>Guipúzcoa</td>\n",
              "      <td>/wiki/Guip%C3%BAzcoa</td>\n",
              "    </tr>\n",
              "    <tr>\n",
              "      <th>21</th>\n",
              "      <td>Provincia de Huelva</td>\n",
              "      <td>/wiki/Provincia_de_Huelva</td>\n",
              "    </tr>\n",
              "    <tr>\n",
              "      <th>22</th>\n",
              "      <td>Provincia de Huesca</td>\n",
              "      <td>/wiki/Provincia_de_Huesca</td>\n",
              "    </tr>\n",
              "    <tr>\n",
              "      <th>23</th>\n",
              "      <td>Islas Baleares</td>\n",
              "      <td>/wiki/Islas_Baleares</td>\n",
              "    </tr>\n",
              "    <tr>\n",
              "      <th>24</th>\n",
              "      <td>Provincia de Jaén (España)</td>\n",
              "      <td>/wiki/Provincia_de_Ja%C3%A9n_(Espa%C3%B1a)</td>\n",
              "    </tr>\n",
              "    <tr>\n",
              "      <th>25</th>\n",
              "      <td>Provincia de León</td>\n",
              "      <td>/wiki/Provincia_de_Le%C3%B3n</td>\n",
              "    </tr>\n",
              "    <tr>\n",
              "      <th>26</th>\n",
              "      <td>Provincia de Lérida</td>\n",
              "      <td>/wiki/Provincia_de_L%C3%A9rida</td>\n",
              "    </tr>\n",
              "    <tr>\n",
              "      <th>27</th>\n",
              "      <td>Provincia de Lugo</td>\n",
              "      <td>/wiki/Provincia_de_Lugo</td>\n",
              "    </tr>\n",
              "    <tr>\n",
              "      <th>28</th>\n",
              "      <td>Comunidad de Madrid</td>\n",
              "      <td>/wiki/Comunidad_de_Madrid</td>\n",
              "    </tr>\n",
              "    <tr>\n",
              "      <th>29</th>\n",
              "      <td>Provincia de Málaga</td>\n",
              "      <td>/wiki/Provincia_de_M%C3%A1laga</td>\n",
              "    </tr>\n",
              "    <tr>\n",
              "      <th>30</th>\n",
              "      <td>Región de Murcia</td>\n",
              "      <td>/wiki/Regi%C3%B3n_de_Murcia</td>\n",
              "    </tr>\n",
              "    <tr>\n",
              "      <th>31</th>\n",
              "      <td>Navarra</td>\n",
              "      <td>/wiki/Navarra</td>\n",
              "    </tr>\n",
              "    <tr>\n",
              "      <th>32</th>\n",
              "      <td>Provincia de Orense</td>\n",
              "      <td>/wiki/Provincia_de_Orense</td>\n",
              "    </tr>\n",
              "    <tr>\n",
              "      <th>33</th>\n",
              "      <td>Provincia de Palencia</td>\n",
              "      <td>/wiki/Provincia_de_Palencia</td>\n",
              "    </tr>\n",
              "    <tr>\n",
              "      <th>34</th>\n",
              "      <td>Provincia de Las Palmas</td>\n",
              "      <td>/wiki/Provincia_de_Las_Palmas</td>\n",
              "    </tr>\n",
              "    <tr>\n",
              "      <th>35</th>\n",
              "      <td>Provincia de Pontevedra</td>\n",
              "      <td>/wiki/Provincia_de_Pontevedra</td>\n",
              "    </tr>\n",
              "    <tr>\n",
              "      <th>36</th>\n",
              "      <td>La Rioja (España)</td>\n",
              "      <td>/wiki/La_Rioja_(Espa%C3%B1a)</td>\n",
              "    </tr>\n",
              "    <tr>\n",
              "      <th>37</th>\n",
              "      <td>Provincia de Salamanca</td>\n",
              "      <td>/wiki/Provincia_de_Salamanca</td>\n",
              "    </tr>\n",
              "    <tr>\n",
              "      <th>38</th>\n",
              "      <td>Provincia de Segovia</td>\n",
              "      <td>/wiki/Provincia_de_Segovia</td>\n",
              "    </tr>\n",
              "    <tr>\n",
              "      <th>39</th>\n",
              "      <td>Provincia de Sevilla</td>\n",
              "      <td>/wiki/Provincia_de_Sevilla</td>\n",
              "    </tr>\n",
              "    <tr>\n",
              "      <th>40</th>\n",
              "      <td>Provincia de Soria</td>\n",
              "      <td>/wiki/Provincia_de_Soria</td>\n",
              "    </tr>\n",
              "    <tr>\n",
              "      <th>41</th>\n",
              "      <td>Provincia de Tarragona</td>\n",
              "      <td>/wiki/Provincia_de_Tarragona</td>\n",
              "    </tr>\n",
              "    <tr>\n",
              "      <th>42</th>\n",
              "      <td>Provincia de Santa Cruz de Tenerife</td>\n",
              "      <td>/wiki/Provincia_de_Santa_Cruz_de_Tenerife</td>\n",
              "    </tr>\n",
              "    <tr>\n",
              "      <th>43</th>\n",
              "      <td>Provincia de Teruel</td>\n",
              "      <td>/wiki/Provincia_de_Teruel</td>\n",
              "    </tr>\n",
              "    <tr>\n",
              "      <th>44</th>\n",
              "      <td>Provincia de Toledo</td>\n",
              "      <td>/wiki/Provincia_de_Toledo</td>\n",
              "    </tr>\n",
              "    <tr>\n",
              "      <th>45</th>\n",
              "      <td>Provincia de Valencia</td>\n",
              "      <td>/wiki/Provincia_de_Valencia</td>\n",
              "    </tr>\n",
              "    <tr>\n",
              "      <th>46</th>\n",
              "      <td>Provincia de Valladolid</td>\n",
              "      <td>/wiki/Provincia_de_Valladolid</td>\n",
              "    </tr>\n",
              "    <tr>\n",
              "      <th>47</th>\n",
              "      <td>Vizcaya</td>\n",
              "      <td>/wiki/Vizcaya</td>\n",
              "    </tr>\n",
              "    <tr>\n",
              "      <th>48</th>\n",
              "      <td>Provincia de Zamora</td>\n",
              "      <td>/wiki/Provincia_de_Zamora</td>\n",
              "    </tr>\n",
              "    <tr>\n",
              "      <th>49</th>\n",
              "      <td>Provincia de Zaragoza</td>\n",
              "      <td>/wiki/Provincia_de_Zaragoza</td>\n",
              "    </tr>\n",
              "    <tr>\n",
              "      <th>50</th>\n",
              "      <td>Ceuta</td>\n",
              "      <td>/wiki/Ceuta</td>\n",
              "    </tr>\n",
              "    <tr>\n",
              "      <th>51</th>\n",
              "      <td>Melilla</td>\n",
              "      <td>/wiki/Melilla</td>\n",
              "    </tr>\n",
              "  </tbody>\n",
              "</table>\n",
              "</div>"
            ],
            "text/plain": [
              "                              provincia  \\\n",
              "0                                 Álava   \n",
              "1                 Provincia de Albacete   \n",
              "2                 Provincia de Alicante   \n",
              "3                  Provincia de Almería   \n",
              "4                Principado de Asturias   \n",
              "5                    Provincia de Ávila   \n",
              "6                  Provincia de Badajoz   \n",
              "7                Provincia de Barcelona   \n",
              "8                   Provincia de Burgos   \n",
              "9                  Provincia de Cáceres   \n",
              "10                   Provincia de Cádiz   \n",
              "11                            Cantabria   \n",
              "12               Provincia de Castellón   \n",
              "13             Provincia de Ciudad Real   \n",
              "14        Provincia de Córdoba (España)   \n",
              "15               Provincia de La Coruña   \n",
              "16                  Provincia de Cuenca   \n",
              "17                  Provincia de Gerona   \n",
              "18                 Provincia de Granada   \n",
              "19             Provincia de Guadalajara   \n",
              "20                            Guipúzcoa   \n",
              "21                  Provincia de Huelva   \n",
              "22                  Provincia de Huesca   \n",
              "23                       Islas Baleares   \n",
              "24           Provincia de Jaén (España)   \n",
              "25                    Provincia de León   \n",
              "26                  Provincia de Lérida   \n",
              "27                    Provincia de Lugo   \n",
              "28                  Comunidad de Madrid   \n",
              "29                  Provincia de Málaga   \n",
              "30                     Región de Murcia   \n",
              "31                              Navarra   \n",
              "32                  Provincia de Orense   \n",
              "33                Provincia de Palencia   \n",
              "34              Provincia de Las Palmas   \n",
              "35              Provincia de Pontevedra   \n",
              "36                    La Rioja (España)   \n",
              "37               Provincia de Salamanca   \n",
              "38                 Provincia de Segovia   \n",
              "39                 Provincia de Sevilla   \n",
              "40                   Provincia de Soria   \n",
              "41               Provincia de Tarragona   \n",
              "42  Provincia de Santa Cruz de Tenerife   \n",
              "43                  Provincia de Teruel   \n",
              "44                  Provincia de Toledo   \n",
              "45                Provincia de Valencia   \n",
              "46              Provincia de Valladolid   \n",
              "47                              Vizcaya   \n",
              "48                  Provincia de Zamora   \n",
              "49                Provincia de Zaragoza   \n",
              "50                                Ceuta   \n",
              "51                              Melilla   \n",
              "\n",
              "                                           enlace  \n",
              "0                                /wiki/%C3%81lava  \n",
              "1                     /wiki/Provincia_de_Albacete  \n",
              "2                     /wiki/Provincia_de_Alicante  \n",
              "3                 /wiki/Provincia_de_Almer%C3%ADa  \n",
              "4                    /wiki/Principado_de_Asturias  \n",
              "5                   /wiki/Provincia_de_%C3%81vila  \n",
              "6                      /wiki/Provincia_de_Badajoz  \n",
              "7                    /wiki/Provincia_de_Barcelona  \n",
              "8                       /wiki/Provincia_de_Burgos  \n",
              "9                 /wiki/Provincia_de_C%C3%A1ceres  \n",
              "10                  /wiki/Provincia_de_C%C3%A1diz  \n",
              "11                                /wiki/Cantabria  \n",
              "12              /wiki/Provincia_de_Castell%C3%B3n  \n",
              "13                 /wiki/Provincia_de_Ciudad_Real  \n",
              "14  /wiki/Provincia_de_C%C3%B3rdoba_(Espa%C3%B1a)  \n",
              "15              /wiki/Provincia_de_La_Coru%C3%B1a  \n",
              "16                      /wiki/Provincia_de_Cuenca  \n",
              "17                      /wiki/Provincia_de_Gerona  \n",
              "18                     /wiki/Provincia_de_Granada  \n",
              "19                 /wiki/Provincia_de_Guadalajara  \n",
              "20                           /wiki/Guip%C3%BAzcoa  \n",
              "21                      /wiki/Provincia_de_Huelva  \n",
              "22                      /wiki/Provincia_de_Huesca  \n",
              "23                           /wiki/Islas_Baleares  \n",
              "24     /wiki/Provincia_de_Ja%C3%A9n_(Espa%C3%B1a)  \n",
              "25                   /wiki/Provincia_de_Le%C3%B3n  \n",
              "26                 /wiki/Provincia_de_L%C3%A9rida  \n",
              "27                        /wiki/Provincia_de_Lugo  \n",
              "28                      /wiki/Comunidad_de_Madrid  \n",
              "29                 /wiki/Provincia_de_M%C3%A1laga  \n",
              "30                    /wiki/Regi%C3%B3n_de_Murcia  \n",
              "31                                  /wiki/Navarra  \n",
              "32                      /wiki/Provincia_de_Orense  \n",
              "33                    /wiki/Provincia_de_Palencia  \n",
              "34                  /wiki/Provincia_de_Las_Palmas  \n",
              "35                  /wiki/Provincia_de_Pontevedra  \n",
              "36                   /wiki/La_Rioja_(Espa%C3%B1a)  \n",
              "37                   /wiki/Provincia_de_Salamanca  \n",
              "38                     /wiki/Provincia_de_Segovia  \n",
              "39                     /wiki/Provincia_de_Sevilla  \n",
              "40                       /wiki/Provincia_de_Soria  \n",
              "41                   /wiki/Provincia_de_Tarragona  \n",
              "42      /wiki/Provincia_de_Santa_Cruz_de_Tenerife  \n",
              "43                      /wiki/Provincia_de_Teruel  \n",
              "44                      /wiki/Provincia_de_Toledo  \n",
              "45                    /wiki/Provincia_de_Valencia  \n",
              "46                  /wiki/Provincia_de_Valladolid  \n",
              "47                                  /wiki/Vizcaya  \n",
              "48                      /wiki/Provincia_de_Zamora  \n",
              "49                    /wiki/Provincia_de_Zaragoza  \n",
              "50                                    /wiki/Ceuta  \n",
              "51                                  /wiki/Melilla  "
            ]
          },
          "metadata": {
            "tags": []
          },
          "execution_count": 96
        }
      ]
    },
    {
      "cell_type": "markdown",
      "metadata": {
        "id": "BGkWP4xzsQaB"
      },
      "source": [
        "Por ejemplo, creamos la sopa para la primera provincia:"
      ]
    },
    {
      "cell_type": "code",
      "metadata": {
        "id": "YxLGJnDSsQaB"
      },
      "source": [
        "r = requests.get(\"https://es.wikipedia.org\"+enlaces_df['enlace'][12])\n",
        "soup = BeautifulSoup(r.text, \"html.parser\")"
      ],
      "execution_count": null,
      "outputs": []
    },
    {
      "cell_type": "markdown",
      "metadata": {
        "id": "4rCZNdFksQaB"
      },
      "source": [
        "Vamos a extraer en un data frame la información geográfica de la tabla de la barra lateral derecha (atributo de clase `infobox`):"
      ]
    },
    {
      "cell_type": "code",
      "metadata": {
        "id": "U7JE3b8msQaB"
      },
      "source": [
        "tabla = soup.find(\"table\", class_=\"infobox\")"
      ],
      "execution_count": null,
      "outputs": []
    },
    {
      "cell_type": "markdown",
      "metadata": {
        "id": "Elx8o4Q1sQaB"
      },
      "source": [
        "Si inspeccionas su estructura HTML verás una serie de tags `tr` de las que cuelgan pares de tags `th` y `td` asociadas. Capturaremos sus textos en dos listas: `dato` y `valor`, respectivamante."
      ]
    },
    {
      "cell_type": "code",
      "metadata": {
        "id": "5sRJ80s0sQaB"
      },
      "source": [
        "dato, valor = [],[]\n",
        "for t in tabla.find_all(\"tr\"):\n",
        "    if t.th:\n",
        "        if t.td:\n",
        "            dato.append(t.th.text)\n",
        "            #valor.append(t.td.text) # aparecen caracteres especiales!\n",
        "            valor.append(' '.join([text for text in t.td.stripped_strings]))"
      ],
      "execution_count": null,
      "outputs": []
    },
    {
      "cell_type": "code",
      "metadata": {
        "id": "ApP5NbFGsQaC",
        "outputId": "24aeaed2-3c6c-4e06-d02d-f247fddbbc72"
      },
      "source": [
        "datos = pd.DataFrame({'Dato': dato, 'Valor': valor})\n",
        "datos"
      ],
      "execution_count": null,
      "outputs": [
        {
          "output_type": "execute_result",
          "data": {
            "text/html": [
              "<div>\n",
              "<style scoped>\n",
              "    .dataframe tbody tr th:only-of-type {\n",
              "        vertical-align: middle;\n",
              "    }\n",
              "\n",
              "    .dataframe tbody tr th {\n",
              "        vertical-align: top;\n",
              "    }\n",
              "\n",
              "    .dataframe thead th {\n",
              "        text-align: right;\n",
              "    }\n",
              "</style>\n",
              "<table border=\"1\" class=\"dataframe\">\n",
              "  <thead>\n",
              "    <tr style=\"text-align: right;\">\n",
              "      <th></th>\n",
              "      <th>Dato</th>\n",
              "      <th>Valor</th>\n",
              "    </tr>\n",
              "  </thead>\n",
              "  <tbody>\n",
              "    <tr>\n",
              "      <th>0</th>\n",
              "      <td>Coordenadas</td>\n",
              "      <td>40°10′00″N 0°10′00″O ﻿ / ﻿ 40.166666666667, -0...</td>\n",
              "    </tr>\n",
              "    <tr>\n",
              "      <th>1</th>\n",
              "      <td>Capital</td>\n",
              "      <td>Castellón de la Plana</td>\n",
              "    </tr>\n",
              "    <tr>\n",
              "      <th>2</th>\n",
              "      <td>Idioma oficial</td>\n",
              "      <td>Castellano y valenciano</td>\n",
              "    </tr>\n",
              "    <tr>\n",
              "      <th>3</th>\n",
              "      <td>Entidad</td>\n",
              "      <td>Provincia</td>\n",
              "    </tr>\n",
              "    <tr>\n",
              "      <th>4</th>\n",
              "      <td>• País</td>\n",
              "      <td>España</td>\n",
              "    </tr>\n",
              "    <tr>\n",
              "      <th>5</th>\n",
              "      <td>• Comunidad</td>\n",
              "      <td>Comunidad Valenciana</td>\n",
              "    </tr>\n",
              "    <tr>\n",
              "      <th>6</th>\n",
              "      <td>CongresoSenadoCortes Valencianas</td>\n",
              "      <td>5 diputados 4 senadores 24 diputados autonómicos</td>\n",
              "    </tr>\n",
              "    <tr>\n",
              "      <th>7</th>\n",
              "      <td>Subdivisiones</td>\n",
              "      <td>135 municipios 5 partidos judiciales</td>\n",
              "    </tr>\n",
              "    <tr>\n",
              "      <th>8</th>\n",
              "      <td>Fundación</td>\n",
              "      <td>División territorial de 1833</td>\n",
              "    </tr>\n",
              "    <tr>\n",
              "      <th>9</th>\n",
              "      <td>Superficie</td>\n",
              "      <td>Puesto 38.º</td>\n",
              "    </tr>\n",
              "    <tr>\n",
              "      <th>10</th>\n",
              "      <td>• Total</td>\n",
              "      <td>6611.93 km² ( 1,23 % )</td>\n",
              "    </tr>\n",
              "    <tr>\n",
              "      <th>11</th>\n",
              "      <td>Población (2020)</td>\n",
              "      <td>Puesto 28.º</td>\n",
              "    </tr>\n",
              "    <tr>\n",
              "      <th>12</th>\n",
              "      <td>• Total</td>\n",
              "      <td>585 590 hab. ( 1,31 % )</td>\n",
              "    </tr>\n",
              "    <tr>\n",
              "      <th>13</th>\n",
              "      <td>• Densidad</td>\n",
              "      <td>87,25 hab/km²</td>\n",
              "    </tr>\n",
              "    <tr>\n",
              "      <th>14</th>\n",
              "      <td>Gentilicio</td>\n",
              "      <td>castellonense</td>\n",
              "    </tr>\n",
              "    <tr>\n",
              "      <th>15</th>\n",
              "      <td>Huso horario</td>\n",
              "      <td>UTC+01:00</td>\n",
              "    </tr>\n",
              "    <tr>\n",
              "      <th>16</th>\n",
              "      <td>Código postal</td>\n",
              "      <td>12 [ 1 ] ​</td>\n",
              "    </tr>\n",
              "    <tr>\n",
              "      <th>17</th>\n",
              "      <td>Prefijo telefónico</td>\n",
              "      <td>964</td>\n",
              "    </tr>\n",
              "    <tr>\n",
              "      <th>18</th>\n",
              "      <td>ISO 3166-2</td>\n",
              "      <td>ES-CS</td>\n",
              "    </tr>\n",
              "  </tbody>\n",
              "</table>\n",
              "</div>"
            ],
            "text/plain": [
              "                                Dato  \\\n",
              "0                        Coordenadas   \n",
              "1                            Capital   \n",
              "2                     Idioma oficial   \n",
              "3                            Entidad   \n",
              "4                             • País   \n",
              "5                        • Comunidad   \n",
              "6   CongresoSenadoCortes Valencianas   \n",
              "7                      Subdivisiones   \n",
              "8                          Fundación   \n",
              "9                         Superficie   \n",
              "10                           • Total   \n",
              "11                  Población (2020)   \n",
              "12                           • Total   \n",
              "13                        • Densidad   \n",
              "14                        Gentilicio   \n",
              "15                      Huso horario   \n",
              "16                     Código postal   \n",
              "17                Prefijo telefónico   \n",
              "18                        ISO 3166-2   \n",
              "\n",
              "                                                Valor  \n",
              "0   40°10′00″N 0°10′00″O ﻿ / ﻿ 40.166666666667, -0...  \n",
              "1                               Castellón de la Plana  \n",
              "2                             Castellano y valenciano  \n",
              "3                                           Provincia  \n",
              "4                                              España  \n",
              "5                                Comunidad Valenciana  \n",
              "6    5 diputados 4 senadores 24 diputados autonómicos  \n",
              "7                135 municipios 5 partidos judiciales  \n",
              "8                        División territorial de 1833  \n",
              "9                                         Puesto 38.º  \n",
              "10                             6611.93 km² ( 1,23 % )  \n",
              "11                                        Puesto 28.º  \n",
              "12                            585 590 hab. ( 1,31 % )  \n",
              "13                                      87,25 hab/km²  \n",
              "14                                      castellonense  \n",
              "15                                          UTC+01:00  \n",
              "16                                         12 [ 1 ] ​  \n",
              "17                                                964  \n",
              "18                                              ES-CS  "
            ]
          },
          "metadata": {
            "tags": []
          },
          "execution_count": 100
        }
      ]
    },
    {
      "cell_type": "markdown",
      "metadata": {
        "id": "rGRu9b_wsQaC"
      },
      "source": [
        "### Ejercicio 3\n",
        "Crea una tabla (dataframe) con la capital, la superficie y la población de cada provincia de España.\\\n",
        "Para encontrar en la tabla estos datos podemos hacer:"
      ]
    },
    {
      "cell_type": "code",
      "metadata": {
        "id": "P9l7kjB3sQaC",
        "outputId": "b55512c3-a5e6-465c-fd74-045307fa517a"
      },
      "source": [
        "tabla.find(string='Capital').next.text"
      ],
      "execution_count": null,
      "outputs": [
        {
          "output_type": "execute_result",
          "data": {
            "text/plain": [
              "'\\nCastellón de la Plana'"
            ]
          },
          "metadata": {
            "tags": []
          },
          "execution_count": 109
        }
      ]
    },
    {
      "cell_type": "code",
      "metadata": {
        "id": "3SVadI7VsQaC",
        "outputId": "0b1a885c-3683-4db0-d357-beaf8e3c3c10"
      },
      "source": [
        "tabla.find(string='Superficie').parent.parent.parent.next_sibling.text"
      ],
      "execution_count": null,
      "outputs": [
        {
          "output_type": "execute_result",
          "data": {
            "text/plain": [
              "'\\xa0• Total\\n6611.93 km²\\xa0(1,23\\xa0%)'"
            ]
          },
          "metadata": {
            "tags": []
          },
          "execution_count": 102
        }
      ]
    },
    {
      "cell_type": "code",
      "metadata": {
        "id": "0Med-wItsQaD",
        "outputId": "888c74da-62c1-4669-c36d-180fc9ff082f"
      },
      "source": [
        "tabla.find(string='Población').parent.parent.parent.next_sibling.text"
      ],
      "execution_count": null,
      "outputs": [
        {
          "output_type": "execute_result",
          "data": {
            "text/plain": [
              "'\\xa0• Total\\n585\\xa0590\\xa0hab.\\xa0(1,31\\xa0%)'"
            ]
          },
          "metadata": {
            "tags": []
          },
          "execution_count": 103
        }
      ]
    },
    {
      "cell_type": "markdown",
      "metadata": {
        "id": "Y9i6MKTCsQaD"
      },
      "source": [
        "Tendrás que usar expresiones regulares para extraer de estos strings el texto buscado."
      ]
    },
    {
      "cell_type": "code",
      "metadata": {
        "id": "Liwco6qJsQaE"
      },
      "source": [
        "import re"
      ],
      "execution_count": null,
      "outputs": []
    },
    {
      "cell_type": "code",
      "metadata": {
        "id": "VkJua0qqsQaF",
        "outputId": "9dad4972-775a-4ef8-d612-bd81edb8dbd5"
      },
      "source": [
        "#solución\n",
        "df = pd.DataFrame(columns=['Capital', 'Superficie', 'Población'])\n",
        "\n",
        "for i in range(enlaces_df.shape[0]-2):\n",
        "    \n",
        "    r = requests.get(\"https://es.wikipedia.org\"+enlaces_df['enlace'][i])\n",
        "    soup = BeautifulSoup(r.text, \"html.parser\")\n",
        "    \n",
        "    tabla = soup.find(\"table\", class_=\"infobox\")\n",
        "    \n",
        "    capital = tabla.find(string='Capital').next.text\n",
        "    superficie = tabla.find(string='Superficie').parent.parent.parent.next_sibling.text\n",
        "    poblacion = tabla.find(string='Población').parent.parent.parent.next_sibling.text\n",
        "    \n",
        "    df.loc[i, 'Capital'] = tabla.find(string='Capital').next.text\n",
        "    df.loc[i, 'Superficie'] = tabla.find(string='Superficie').parent.parent.parent.next_sibling.text\n",
        "    df.loc[i, 'Población'] = tabla.find(string='Población').parent.parent.parent.next_sibling.text\n",
        "    \n",
        "df"
      ],
      "execution_count": null,
      "outputs": [
        {
          "output_type": "execute_result",
          "data": {
            "text/html": [
              "<div>\n",
              "<style scoped>\n",
              "    .dataframe tbody tr th:only-of-type {\n",
              "        vertical-align: middle;\n",
              "    }\n",
              "\n",
              "    .dataframe tbody tr th {\n",
              "        vertical-align: top;\n",
              "    }\n",
              "\n",
              "    .dataframe thead th {\n",
              "        text-align: right;\n",
              "    }\n",
              "</style>\n",
              "<table border=\"1\" class=\"dataframe\">\n",
              "  <thead>\n",
              "    <tr style=\"text-align: right;\">\n",
              "      <th></th>\n",
              "      <th>Capital</th>\n",
              "      <th>Superficie</th>\n",
              "      <th>Población</th>\n",
              "    </tr>\n",
              "  </thead>\n",
              "  <tbody>\n",
              "    <tr>\n",
              "      <th>0</th>\n",
              "      <td>\\nVitoria</td>\n",
              "      <td>• Total\\n3037 km² (0,60 %)</td>\n",
              "      <td>• Total\\n326 574 hab. (0,69 %)</td>\n",
              "    </tr>\n",
              "    <tr>\n",
              "      <th>1</th>\n",
              "      <td>\\nAlbacete</td>\n",
              "      <td>• Total\\n14 926 km² (0,84 %)</td>\n",
              "      <td>• Total\\n388 270 hab. (0,81 %)</td>\n",
              "    </tr>\n",
              "    <tr>\n",
              "      <th>2</th>\n",
              "      <td>\\nAlicante</td>\n",
              "      <td>• Total\\n5816 km² (1,16 %)</td>\n",
              "      <td>• Total\\n1 825 332 hab. (4,11 %)</td>\n",
              "    </tr>\n",
              "    <tr>\n",
              "      <th>3</th>\n",
              "      <td>\\nAlmería</td>\n",
              "      <td>• Total\\n8774 km² (1,73 %)</td>\n",
              "      <td>• Total\\n706 672 hab. (1,52 %)</td>\n",
              "    </tr>\n",
              "    <tr>\n",
              "      <th>4</th>\n",
              "      <td>\\nOviedo</td>\n",
              "      <td>• Total\\n10 603,57 km² (2,1 %)</td>\n",
              "      <td>• Total\\n&amp;&amp;&amp;&amp;&amp;&amp;&amp;&amp;01 018 784,&amp;&amp;&amp;&amp;&amp;01 018 784[1...</td>\n",
              "    </tr>\n",
              "    <tr>\n",
              "      <th>5</th>\n",
              "      <td>\\nÁvila</td>\n",
              "      <td>• Total\\n8050.15 km²(1,60 % de España)</td>\n",
              "      <td>• Total\\n160 700 hab.(0,37 % de España)</td>\n",
              "    </tr>\n",
              "    <tr>\n",
              "      <th>6</th>\n",
              "      <td>\\nBadajoz</td>\n",
              "      <td>• Total\\n21 766 km² (4,30 %)</td>\n",
              "      <td>• Total\\n676,376 hab. (1,47 %)</td>\n",
              "    </tr>\n",
              "    <tr>\n",
              "      <th>7</th>\n",
              "      <td>\\nBarcelona</td>\n",
              "      <td>• Total\\n7726[1]​ km² (1,53 %)</td>\n",
              "      <td>• Total\\n5 743 402[2]​ hab. (12,05 %)</td>\n",
              "    </tr>\n",
              "    <tr>\n",
              "      <th>8</th>\n",
              "      <td>\\nBurgos</td>\n",
              "      <td>• Total\\n&amp;&amp;&amp;&amp;&amp;&amp;&amp;&amp;&amp;&amp;014022.&amp;&amp;&amp;&amp;&amp;014 022 km²(2,...</td>\n",
              "      <td>• Total\\n358 171 hab.(0,78% de España)</td>\n",
              "    </tr>\n",
              "    <tr>\n",
              "      <th>9</th>\n",
              "      <td>\\nCáceres</td>\n",
              "      <td>• Total\\n19 868 km² (3,94 %)</td>\n",
              "      <td>• Total\\n392,931 hab. (0,88 %)</td>\n",
              "    </tr>\n",
              "    <tr>\n",
              "      <th>10</th>\n",
              "      <td>\\n Cádiz</td>\n",
              "      <td>• Total\\n7435,85 km² (1,47 %)</td>\n",
              "      <td>• Total\\n1 251 149 hab. (2,64 %)</td>\n",
              "    </tr>\n",
              "    <tr>\n",
              "      <th>11</th>\n",
              "      <td>\\nSantander[1]​</td>\n",
              "      <td>• Total\\n5321 km² (1,05 %)</td>\n",
              "      <td>• Total\\n582,796 hab. (1,23 %)</td>\n",
              "    </tr>\n",
              "    <tr>\n",
              "      <th>12</th>\n",
              "      <td>\\nCastellón de la Plana</td>\n",
              "      <td>• Total\\n6611.93 km² (1,23 %)</td>\n",
              "      <td>• Total\\n585 590 hab. (1,31 %)</td>\n",
              "    </tr>\n",
              "    <tr>\n",
              "      <th>13</th>\n",
              "      <td>\\nCiudad Real</td>\n",
              "      <td>• Total\\n19 813 km² (3,63 %)</td>\n",
              "      <td>• Total\\n495,045 hab. (1,04 %)</td>\n",
              "    </tr>\n",
              "    <tr>\n",
              "      <th>14</th>\n",
              "      <td>\\nCórdoba</td>\n",
              "      <td>• Total\\n13 771 km² (2,72 %)</td>\n",
              "      <td>• Total\\n785,240 (2018) hab. (1,66 %)</td>\n",
              "    </tr>\n",
              "    <tr>\n",
              "      <th>15</th>\n",
              "      <td>\\nLa Coruña</td>\n",
              "      <td>• Total\\n7950 km² (1,58 %)</td>\n",
              "      <td>• Total\\n1,120,294 hab. (2,45 %)</td>\n",
              "    </tr>\n",
              "    <tr>\n",
              "      <th>16</th>\n",
              "      <td>\\nCuenca</td>\n",
              "      <td>• Total\\n17 141 km² (3,4 %)</td>\n",
              "      <td>• Total\\n197 222 hab. (0,45 %)</td>\n",
              "    </tr>\n",
              "    <tr>\n",
              "      <th>17</th>\n",
              "      <td>\\nGerona</td>\n",
              "      <td>• Total\\n5910 km²(1,17 %)</td>\n",
              "      <td>• Total\\n761,947 hab.(1,6 %)</td>\n",
              "    </tr>\n",
              "    <tr>\n",
              "      <th>18</th>\n",
              "      <td>\\n Granada</td>\n",
              "      <td>• Total\\n12.531 km² (2,50 %)</td>\n",
              "      <td>• Total\\n919,168 hab. (1,95 %)</td>\n",
              "    </tr>\n",
              "    <tr>\n",
              "      <th>19</th>\n",
              "      <td>\\nGuadalajara</td>\n",
              "      <td>• Total\\n12 167 km² (2,41 %)</td>\n",
              "      <td>• Total\\n261 955 hab. (0,52 %)</td>\n",
              "    </tr>\n",
              "    <tr>\n",
              "      <th>20</th>\n",
              "      <td>\\nSan Sebastián</td>\n",
              "      <td>• Total\\n1997 km² (0,39 %)</td>\n",
              "      <td>• Total\\n727 121 hab. (1,52 %)</td>\n",
              "    </tr>\n",
              "    <tr>\n",
              "      <th>21</th>\n",
              "      <td>\\nHuelva</td>\n",
              "      <td>• Total\\n10 128[1]​ km² (2,00 %)</td>\n",
              "      <td>• Total\\n524 278[2]​ hab. (1,11 %)</td>\n",
              "    </tr>\n",
              "    <tr>\n",
              "      <th>22</th>\n",
              "      <td>\\nHuesca</td>\n",
              "      <td>• Total\\n15 626 km² (3,10 %)</td>\n",
              "      <td>• Total\\n219 702 hab.(0,48 %)</td>\n",
              "    </tr>\n",
              "    <tr>\n",
              "      <th>23</th>\n",
              "      <td>\\nPalma (ciudad más poblada)</td>\n",
              "      <td>• Total\\n5040 km² (1,0 %)</td>\n",
              "      <td>• Total\\n&amp;&amp;&amp;&amp;&amp;&amp;&amp;&amp;01 171 543,&amp;&amp;&amp;&amp;&amp;01 171 543[2...</td>\n",
              "    </tr>\n",
              "    <tr>\n",
              "      <th>24</th>\n",
              "      <td>\\nJaén</td>\n",
              "      <td>• Total\\n13 496 km² (2,67 %)</td>\n",
              "      <td>• Total\\n638 099 hab. (1,35 %)</td>\n",
              "    </tr>\n",
              "    <tr>\n",
              "      <th>25</th>\n",
              "      <td>\\nLeón</td>\n",
              "      <td>• Total\\n15581 km²(3,09% de España)</td>\n",
              "      <td>• Total\\n468,316 hab.</td>\n",
              "    </tr>\n",
              "    <tr>\n",
              "      <th>26</th>\n",
              "      <td>\\nLérida</td>\n",
              "      <td>• Total\\n12.172 km² (2,41 %)</td>\n",
              "      <td>• Total\\n443 032 hab. (0,93 %)</td>\n",
              "    </tr>\n",
              "    <tr>\n",
              "      <th>27</th>\n",
              "      <td>\\nLugo</td>\n",
              "      <td>• Total\\n9856 km² (1,95 %)</td>\n",
              "      <td>• Total\\n327,946 hab. (0,76 %)</td>\n",
              "    </tr>\n",
              "    <tr>\n",
              "      <th>28</th>\n",
              "      <td>\\nMadrid (ciudad más poblada)</td>\n",
              "      <td>• Total\\n8021,80 km² (1,6 %)</td>\n",
              "      <td>• Total\\n&amp;&amp;&amp;&amp;&amp;&amp;&amp;&amp;06 779 888,&amp;&amp;&amp;&amp;&amp;06 779 888[1...</td>\n",
              "    </tr>\n",
              "    <tr>\n",
              "      <th>29</th>\n",
              "      <td>\\nMálaga</td>\n",
              "      <td>• Total\\n7308 km² (1,44 %)</td>\n",
              "      <td>• Total\\n1 683 271 hab. (3,53 %)</td>\n",
              "    </tr>\n",
              "    <tr>\n",
              "      <th>30</th>\n",
              "      <td>\\nMurcia (ejecutiva y judicial)Cartagena (legi...</td>\n",
              "      <td>• Total\\n11 313 km² (2,9 %)</td>\n",
              "      <td>• Total\\n&amp;&amp;&amp;&amp;&amp;&amp;&amp;&amp;01 511 251,&amp;&amp;&amp;&amp;&amp;01 511 251[1...</td>\n",
              "    </tr>\n",
              "    <tr>\n",
              "      <th>31</th>\n",
              "      <td>\\nPamplona (ciudad más poblada)</td>\n",
              "      <td>• Total\\n10 391 km² (2,05 %)</td>\n",
              "      <td>• Total\\n&amp;&amp;&amp;&amp;&amp;&amp;&amp;&amp;&amp;0 661 197,&amp;&amp;&amp;&amp;&amp;0661 197[2]​...</td>\n",
              "    </tr>\n",
              "    <tr>\n",
              "      <th>32</th>\n",
              "      <td>\\nOrense</td>\n",
              "      <td>• Total\\n7273 km² (1,44 %)</td>\n",
              "      <td>• Total\\n307,651 hab. (0,71 %)</td>\n",
              "    </tr>\n",
              "    <tr>\n",
              "      <th>33</th>\n",
              "      <td>\\n Palencia</td>\n",
              "      <td>• Total\\n8.052 km²(1,60% de España)</td>\n",
              "      <td>• Total\\n162,035 hab.(0,36% de España)</td>\n",
              "    </tr>\n",
              "    <tr>\n",
              "      <th>34</th>\n",
              "      <td>\\nLas Palmas de Gran Canaria</td>\n",
              "      <td>• Total\\n4066 km² (0,81 %)</td>\n",
              "      <td>• Total\\n1 131 065[1]​ hab. (2,38 %)[1]​</td>\n",
              "    </tr>\n",
              "    <tr>\n",
              "      <th>35</th>\n",
              "      <td>\\nPontevedra</td>\n",
              "      <td>• Total\\n4495 km² (0,89 %)</td>\n",
              "      <td>• Total\\n942,731 hab. (2,04 %)</td>\n",
              "    </tr>\n",
              "    <tr>\n",
              "      <th>36</th>\n",
              "      <td>\\nLogroño[1]​ (ciudad más poblada)</td>\n",
              "      <td>• Total\\n5045 km² (1,0%)</td>\n",
              "      <td>• Total\\n&amp;&amp;&amp;&amp;&amp;&amp;&amp;&amp;&amp;0 319 914,&amp;&amp;&amp;&amp;&amp;0319 914[2]​...</td>\n",
              "    </tr>\n",
              "    <tr>\n",
              "      <th>37</th>\n",
              "      <td>\\nSalamanca</td>\n",
              "      <td>• Total\\n12 349,06 km²(2,45% de España)</td>\n",
              "      <td>• Total\\n333 603 hab.(0,75% de España)</td>\n",
              "    </tr>\n",
              "    <tr>\n",
              "      <th>38</th>\n",
              "      <td>\\nSegovia</td>\n",
              "      <td>• Total\\n6920.65 km²(1,35% de España)</td>\n",
              "      <td>• Total\\n153,342 hab.(0,34% de España)</td>\n",
              "    </tr>\n",
              "    <tr>\n",
              "      <th>39</th>\n",
              "      <td>\\nSevilla</td>\n",
              "      <td>• Total\\n14 036 km² (2,77 %)</td>\n",
              "      <td>• Total\\n1 939 887 hab. (6,27 %)</td>\n",
              "    </tr>\n",
              "    <tr>\n",
              "      <th>40</th>\n",
              "      <td>\\nSoria</td>\n",
              "      <td>• Total\\n10 306,42 km²(2,04 % de España)</td>\n",
              "      <td>• Total\\n89 752 hab.(0,20 % de España)</td>\n",
              "    </tr>\n",
              "    <tr>\n",
              "      <th>41</th>\n",
              "      <td>\\nTarragona</td>\n",
              "      <td>• Total\\n6303 km² (1,25 %)</td>\n",
              "      <td>• Total\\n804 664 hab. (1,71 %)</td>\n",
              "    </tr>\n",
              "    <tr>\n",
              "      <th>42</th>\n",
              "      <td>\\nSanta Cruz de Tenerife</td>\n",
              "      <td>• Total\\n3381 km² (0,67 %)</td>\n",
              "      <td>• Total\\n1 044 887[1]​ hab. (2,20 %)</td>\n",
              "    </tr>\n",
              "    <tr>\n",
              "      <th>43</th>\n",
              "      <td>\\nTeruel</td>\n",
              "      <td>• Total\\n14 804 km² (2,93 %)</td>\n",
              "      <td>• Total\\n134 176 hab. (0,31 %)</td>\n",
              "    </tr>\n",
              "    <tr>\n",
              "      <th>44</th>\n",
              "      <td>\\nToledo</td>\n",
              "      <td>• Total\\n15.369 km² (3,05 %)</td>\n",
              "      <td>• Total\\n686 841 hab. (1,49 %)</td>\n",
              "    </tr>\n",
              "    <tr>\n",
              "      <th>45</th>\n",
              "      <td>\\nValencia</td>\n",
              "      <td>• Total\\n10 841,82 km² (2,13 %)</td>\n",
              "      <td>• Total\\n2,565,124 hab. (5,51 %)</td>\n",
              "    </tr>\n",
              "    <tr>\n",
              "      <th>46</th>\n",
              "      <td>\\nValladolid</td>\n",
              "      <td>• Total\\n8111 km²(1,61% de España)</td>\n",
              "      <td>• Total\\n520,716 hab.(1,11% de España)</td>\n",
              "    </tr>\n",
              "    <tr>\n",
              "      <th>47</th>\n",
              "      <td>\\nBilbao</td>\n",
              "      <td>• Total\\n2217 km² (0,44 %)</td>\n",
              "      <td>• Total\\n1 148 302 hab. (2,46 %)</td>\n",
              "    </tr>\n",
              "    <tr>\n",
              "      <th>48</th>\n",
              "      <td>\\nZamora 41°30′13″N 5°44′49″O﻿ / ﻿41.503709, -...</td>\n",
              "      <td>• Total\\n10 561 km²</td>\n",
              "      <td>• Total\\n168 720 hab.</td>\n",
              "    </tr>\n",
              "    <tr>\n",
              "      <th>49</th>\n",
              "      <td>\\nZaragoza</td>\n",
              "      <td>• Total\\n17 274 km² (3,41 %)</td>\n",
              "      <td>• Total\\n953 486 hab. (2,05 %)</td>\n",
              "    </tr>\n",
              "  </tbody>\n",
              "</table>\n",
              "</div>"
            ],
            "text/plain": [
              "                                              Capital  \\\n",
              "0                                           \\nVitoria   \n",
              "1                                          \\nAlbacete   \n",
              "2                                          \\nAlicante   \n",
              "3                                           \\nAlmería   \n",
              "4                                            \\nOviedo   \n",
              "5                                             \\nÁvila   \n",
              "6                                           \\nBadajoz   \n",
              "7                                         \\nBarcelona   \n",
              "8                                            \\nBurgos   \n",
              "9                                           \\nCáceres   \n",
              "10                                           \\n Cádiz   \n",
              "11                                    \\nSantander[1]​   \n",
              "12                            \\nCastellón de la Plana   \n",
              "13                                      \\nCiudad Real   \n",
              "14                                          \\nCórdoba   \n",
              "15                                        \\nLa Coruña   \n",
              "16                                           \\nCuenca   \n",
              "17                                           \\nGerona   \n",
              "18                                         \\n Granada   \n",
              "19                                      \\nGuadalajara   \n",
              "20                                    \\nSan Sebastián   \n",
              "21                                           \\nHuelva   \n",
              "22                                          \\nHuesca    \n",
              "23                       \\nPalma (ciudad más poblada)   \n",
              "24                                             \\nJaén   \n",
              "25                                             \\nLeón   \n",
              "26                                           \\nLérida   \n",
              "27                                             \\nLugo   \n",
              "28                      \\nMadrid (ciudad más poblada)   \n",
              "29                                           \\nMálaga   \n",
              "30  \\nMurcia (ejecutiva y judicial)Cartagena (legi...   \n",
              "31                    \\nPamplona (ciudad más poblada)   \n",
              "32                                           \\nOrense   \n",
              "33                                        \\n Palencia   \n",
              "34                       \\nLas Palmas de Gran Canaria   \n",
              "35                                       \\nPontevedra   \n",
              "36                 \\nLogroño[1]​ (ciudad más poblada)   \n",
              "37                                        \\nSalamanca   \n",
              "38                                          \\nSegovia   \n",
              "39                                          \\nSevilla   \n",
              "40                                            \\nSoria   \n",
              "41                                        \\nTarragona   \n",
              "42                           \\nSanta Cruz de Tenerife   \n",
              "43                                           \\nTeruel   \n",
              "44                                           \\nToledo   \n",
              "45                                         \\nValencia   \n",
              "46                                       \\nValladolid   \n",
              "47                                           \\nBilbao   \n",
              "48  \\nZamora 41°30′13″N 5°44′49″O﻿ / ﻿41.503709, -...   \n",
              "49                                         \\nZaragoza   \n",
              "\n",
              "                                           Superficie  \\\n",
              "0                          • Total\\n3037 km² (0,60 %)   \n",
              "1                        • Total\\n14 926 km² (0,84 %)   \n",
              "2                          • Total\\n5816 km² (1,16 %)   \n",
              "3                          • Total\\n8774 km² (1,73 %)   \n",
              "4                      • Total\\n10 603,57 km² (2,1 %)   \n",
              "5              • Total\\n8050.15 km²(1,60 % de España)   \n",
              "6                        • Total\\n21 766 km² (4,30 %)   \n",
              "7                      • Total\\n7726[1]​ km² (1,53 %)   \n",
              "8    • Total\\n&&&&&&&&&&014022.&&&&&014 022 km²(2,...   \n",
              "9                        • Total\\n19 868 km² (3,94 %)   \n",
              "10                      • Total\\n7435,85 km² (1,47 %)   \n",
              "11                         • Total\\n5321 km² (1,05 %)   \n",
              "12                      • Total\\n6611.93 km² (1,23 %)   \n",
              "13                       • Total\\n19 813 km² (3,63 %)   \n",
              "14                       • Total\\n13 771 km² (2,72 %)   \n",
              "15                         • Total\\n7950 km² (1,58 %)   \n",
              "16                        • Total\\n17 141 km² (3,4 %)   \n",
              "17                          • Total\\n5910 km²(1,17 %)   \n",
              "18                       • Total\\n12.531 km² (2,50 %)   \n",
              "19                       • Total\\n12 167 km² (2,41 %)   \n",
              "20                         • Total\\n1997 km² (0,39 %)   \n",
              "21                   • Total\\n10 128[1]​ km² (2,00 %)   \n",
              "22                       • Total\\n15 626 km² (3,10 %)   \n",
              "23                          • Total\\n5040 km² (1,0 %)   \n",
              "24                       • Total\\n13 496 km² (2,67 %)   \n",
              "25                • Total\\n15581 km²(3,09% de España)   \n",
              "26                       • Total\\n12.172 km² (2,41 %)   \n",
              "27                         • Total\\n9856 km² (1,95 %)   \n",
              "28                       • Total\\n8021,80 km² (1,6 %)   \n",
              "29                         • Total\\n7308 km² (1,44 %)   \n",
              "30                        • Total\\n11 313 km² (2,9 %)   \n",
              "31                       • Total\\n10 391 km² (2,05 %)   \n",
              "32                         • Total\\n7273 km² (1,44 %)   \n",
              "33                • Total\\n8.052 km²(1,60% de España)   \n",
              "34                         • Total\\n4066 km² (0,81 %)   \n",
              "35                         • Total\\n4495 km² (0,89 %)   \n",
              "36                           • Total\\n5045 km² (1,0%)   \n",
              "37            • Total\\n12 349,06 km²(2,45% de España)   \n",
              "38              • Total\\n6920.65 km²(1,35% de España)   \n",
              "39                       • Total\\n14 036 km² (2,77 %)   \n",
              "40           • Total\\n10 306,42 km²(2,04 % de España)   \n",
              "41                         • Total\\n6303 km² (1,25 %)   \n",
              "42                         • Total\\n3381 km² (0,67 %)   \n",
              "43                       • Total\\n14 804 km² (2,93 %)   \n",
              "44                       • Total\\n15.369 km² (3,05 %)   \n",
              "45                    • Total\\n10 841,82 km² (2,13 %)   \n",
              "46                 • Total\\n8111 km²(1,61% de España)   \n",
              "47                         • Total\\n2217 km² (0,44 %)   \n",
              "48                                • Total\\n10 561 km²   \n",
              "49                       • Total\\n17 274 km² (3,41 %)   \n",
              "\n",
              "                                            Población  \n",
              "0                      • Total\\n326 574 hab. (0,69 %)  \n",
              "1                      • Total\\n388 270 hab. (0,81 %)  \n",
              "2                    • Total\\n1 825 332 hab. (4,11 %)  \n",
              "3                      • Total\\n706 672 hab. (1,52 %)  \n",
              "4    • Total\\n&&&&&&&&01 018 784,&&&&&01 018 784[1...  \n",
              "5             • Total\\n160 700 hab.(0,37 % de España)  \n",
              "6                      • Total\\n676,376 hab. (1,47 %)  \n",
              "7               • Total\\n5 743 402[2]​ hab. (12,05 %)  \n",
              "8              • Total\\n358 171 hab.(0,78% de España)  \n",
              "9                      • Total\\n392,931 hab. (0,88 %)  \n",
              "10                   • Total\\n1 251 149 hab. (2,64 %)  \n",
              "11                     • Total\\n582,796 hab. (1,23 %)  \n",
              "12                     • Total\\n585 590 hab. (1,31 %)  \n",
              "13                     • Total\\n495,045 hab. (1,04 %)  \n",
              "14              • Total\\n785,240 (2018) hab. (1,66 %)  \n",
              "15                   • Total\\n1,120,294 hab. (2,45 %)  \n",
              "16                     • Total\\n197 222 hab. (0,45 %)  \n",
              "17                       • Total\\n761,947 hab.(1,6 %)  \n",
              "18                     • Total\\n919,168 hab. (1,95 %)  \n",
              "19                     • Total\\n261 955 hab. (0,52 %)  \n",
              "20                     • Total\\n727 121 hab. (1,52 %)  \n",
              "21                 • Total\\n524 278[2]​ hab. (1,11 %)  \n",
              "22                      • Total\\n219 702 hab.(0,48 %)  \n",
              "23   • Total\\n&&&&&&&&01 171 543,&&&&&01 171 543[2...  \n",
              "24                     • Total\\n638 099 hab. (1,35 %)  \n",
              "25                              • Total\\n468,316 hab.  \n",
              "26                     • Total\\n443 032 hab. (0,93 %)  \n",
              "27                     • Total\\n327,946 hab. (0,76 %)  \n",
              "28   • Total\\n&&&&&&&&06 779 888,&&&&&06 779 888[1...  \n",
              "29                   • Total\\n1 683 271 hab. (3,53 %)  \n",
              "30   • Total\\n&&&&&&&&01 511 251,&&&&&01 511 251[1...  \n",
              "31   • Total\\n&&&&&&&&&0 661 197,&&&&&0661 197[2]​...  \n",
              "32                     • Total\\n307,651 hab. (0,71 %)  \n",
              "33             • Total\\n162,035 hab.(0,36% de España)  \n",
              "34           • Total\\n1 131 065[1]​ hab. (2,38 %)[1]​  \n",
              "35                     • Total\\n942,731 hab. (2,04 %)  \n",
              "36   • Total\\n&&&&&&&&&0 319 914,&&&&&0319 914[2]​...  \n",
              "37             • Total\\n333 603 hab.(0,75% de España)  \n",
              "38             • Total\\n153,342 hab.(0,34% de España)  \n",
              "39                   • Total\\n1 939 887 hab. (6,27 %)  \n",
              "40             • Total\\n89 752 hab.(0,20 % de España)  \n",
              "41                     • Total\\n804 664 hab. (1,71 %)  \n",
              "42               • Total\\n1 044 887[1]​ hab. (2,20 %)  \n",
              "43                     • Total\\n134 176 hab. (0,31 %)  \n",
              "44                     • Total\\n686 841 hab. (1,49 %)  \n",
              "45                   • Total\\n2,565,124 hab. (5,51 %)  \n",
              "46             • Total\\n520,716 hab.(1,11% de España)  \n",
              "47                   • Total\\n1 148 302 hab. (2,46 %)  \n",
              "48                              • Total\\n168 720 hab.  \n",
              "49                     • Total\\n953 486 hab. (2,05 %)  "
            ]
          },
          "metadata": {
            "tags": []
          },
          "execution_count": 113
        }
      ]
    }
  ]
}