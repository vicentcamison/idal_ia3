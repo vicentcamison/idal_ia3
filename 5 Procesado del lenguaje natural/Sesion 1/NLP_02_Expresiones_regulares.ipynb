{
  "nbformat": 4,
  "nbformat_minor": 5,
  "metadata": {
    "kernelspec": {
      "display_name": "Python 3",
      "language": "python",
      "name": "python3"
    },
    "language_info": {
      "codemirror_mode": {
        "name": "ipython",
        "version": 3
      },
      "file_extension": ".py",
      "mimetype": "text/x-python",
      "name": "python",
      "nbconvert_exporter": "python",
      "pygments_lexer": "ipython3",
      "version": "3.8.5"
    },
    "colab": {
      "name": "NLP_02-Expresiones regulares.ipynb",
      "provenance": [],
      "include_colab_link": true
    }
  },
  "cells": [
    {
      "cell_type": "markdown",
      "metadata": {
        "id": "view-in-github",
        "colab_type": "text"
      },
      "source": [
        "<a href=\"https://colab.research.google.com/github/vicentcamison/idal_ia3/blob/main/5%20Procesado%20del%20lenguaje%20natural/Sesion%201/NLP_02_Expresiones_regulares.ipynb\" target=\"_parent\"><img src=\"https://colab.research.google.com/assets/colab-badge.svg\" alt=\"Open In Colab\"/></a>"
      ]
    },
    {
      "cell_type": "markdown",
      "metadata": {
        "id": "fabulous-difficulty"
      },
      "source": [
        "# Expresiones regulares en Python\n",
        "El módulo `re` tiene las siguientes funciones de Regex:\n",
        "- `findall`: Returns a list containing all matches  \n",
        "- `search`: Returns a Match object if there is a match anywhere in the string  \n",
        "- `match`: Returns a Match object if there is a match at the start of the string  \n",
        "- `split`: Returns a list where the string has been split at each match  \n",
        "- `sub`: Replaces one or many matches with a string  "
      ],
      "id": "fabulous-difficulty"
    },
    {
      "cell_type": "code",
      "metadata": {
        "id": "standard-purchase"
      },
      "source": [
        "import re"
      ],
      "id": "standard-purchase",
      "execution_count": null,
      "outputs": []
    },
    {
      "cell_type": "markdown",
      "metadata": {
        "id": "activated-threat"
      },
      "source": [
        "Las expresiones regulares son patrones formados por:  \n",
        "- texto  \n",
        "- Metacaracteres  \n",
        "- Secuencias especiales  \n",
        "- Sets  "
      ],
      "id": "activated-threat"
    },
    {
      "cell_type": "code",
      "metadata": {
        "id": "adapted-space"
      },
      "source": [
        "texto = 'El Sol aparece por la mañana entre las montañas y los ríos'"
      ],
      "id": "adapted-space",
      "execution_count": null,
      "outputs": []
    },
    {
      "cell_type": "markdown",
      "metadata": {
        "id": "structured-membrane"
      },
      "source": [
        "### Texto"
      ],
      "id": "structured-membrane"
    },
    {
      "cell_type": "code",
      "metadata": {
        "id": "typical-attraction",
        "outputId": "e954fff5-37a4-4ef0-c31a-341c0e75359d"
      },
      "source": [
        "re.search(\"aña\", texto)"
      ],
      "id": "typical-attraction",
      "execution_count": null,
      "outputs": [
        {
          "output_type": "execute_result",
          "data": {
            "text/plain": [
              "<re.Match object; span=(23, 26), match='aña'>"
            ]
          },
          "metadata": {
            "tags": []
          },
          "execution_count": 3
        }
      ]
    },
    {
      "cell_type": "code",
      "metadata": {
        "id": "native-stroke",
        "outputId": "264c93ee-cfba-486d-d59d-64daf68c40ec"
      },
      "source": [
        "#indexamos del inicio al final del span\n",
        "texto[23:26]"
      ],
      "id": "native-stroke",
      "execution_count": null,
      "outputs": [
        {
          "output_type": "execute_result",
          "data": {
            "text/plain": [
              "'aña'"
            ]
          },
          "metadata": {
            "tags": []
          },
          "execution_count": 4
        }
      ]
    },
    {
      "cell_type": "markdown",
      "metadata": {
        "id": "thousand-sleeping"
      },
      "source": [
        "Los objetos de tipo `re.Match` tienen distintos atributos, pero el texto marcado está en el atributo `group(0)` o elemento [0]"
      ],
      "id": "thousand-sleeping"
    },
    {
      "cell_type": "code",
      "metadata": {
        "id": "independent-slovakia",
        "outputId": "28d48b68-be3b-4927-a7ac-cc9624e1811e"
      },
      "source": [
        "m = re.search(\"aña\", texto)\n",
        "m[0].upper() #m[0] equivale a  re.search(\"aña\", texto).group(0)"
      ],
      "id": "independent-slovakia",
      "execution_count": null,
      "outputs": [
        {
          "output_type": "execute_result",
          "data": {
            "text/plain": [
              "'AÑA'"
            ]
          },
          "metadata": {
            "tags": []
          },
          "execution_count": 5
        }
      ]
    },
    {
      "cell_type": "code",
      "metadata": {
        "id": "adequate-singer",
        "outputId": "1792b426-3561-48b9-a3ce-5374fbfd720a"
      },
      "source": [
        "texto[m.start():m.end()]"
      ],
      "id": "adequate-singer",
      "execution_count": null,
      "outputs": [
        {
          "output_type": "execute_result",
          "data": {
            "text/plain": [
              "'aña'"
            ]
          },
          "metadata": {
            "tags": []
          },
          "execution_count": 6
        }
      ]
    },
    {
      "cell_type": "markdown",
      "metadata": {
        "id": "musical-experiment"
      },
      "source": [
        "Los objetos `re.match` también se pueden usar como valor booleano (`True` si el patrón regular existe en la cadena de texto."
      ],
      "id": "musical-experiment"
    },
    {
      "cell_type": "code",
      "metadata": {
        "id": "russian-texas",
        "outputId": "84bd40ec-69b0-406b-ba2d-f697ba0fd99c"
      },
      "source": [
        "if re.search(\"aña\", texto):\n",
        "    print(\"True\")\n",
        "else:\n",
        "    print(\"False\")"
      ],
      "id": "russian-texas",
      "execution_count": null,
      "outputs": [
        {
          "output_type": "stream",
          "text": [
            "True\n"
          ],
          "name": "stdout"
        }
      ]
    },
    {
      "cell_type": "markdown",
      "metadata": {
        "id": "cooked-graphic"
      },
      "source": [
        "Para buscar todas las apariciones del patrón en el texto (sólo el texto) usamos `re.findall()`"
      ],
      "id": "cooked-graphic"
    },
    {
      "cell_type": "code",
      "metadata": {
        "id": "oriented-isolation",
        "outputId": "af1ab944-8b36-4d85-bc26-3e47fd1abbe2"
      },
      "source": [
        "re.findall(\"aña\", texto)"
      ],
      "id": "oriented-isolation",
      "execution_count": null,
      "outputs": [
        {
          "output_type": "execute_result",
          "data": {
            "text/plain": [
              "['aña', 'aña']"
            ]
          },
          "metadata": {
            "tags": []
          },
          "execution_count": 8
        }
      ]
    },
    {
      "cell_type": "markdown",
      "metadata": {
        "id": "chief-institute"
      },
      "source": [
        "Para obtener un objeto `Match` por cada patrón encontrado hay que usar la función `re.finditer()`"
      ],
      "id": "chief-institute"
    },
    {
      "cell_type": "code",
      "metadata": {
        "id": "apart-aurora",
        "outputId": "a8d26ae6-e7a5-4573-83c8-600e0fdd03e4"
      },
      "source": [
        "patrones = re.finditer(\"aña\", texto)\n",
        "patrones"
      ],
      "id": "apart-aurora",
      "execution_count": null,
      "outputs": [
        {
          "output_type": "execute_result",
          "data": {
            "text/plain": [
              "<callable_iterator at 0x7f05e47013d0>"
            ]
          },
          "metadata": {
            "tags": []
          },
          "execution_count": 9
        }
      ]
    },
    {
      "cell_type": "code",
      "metadata": {
        "id": "welsh-telephone",
        "outputId": "0091b9d4-74c1-4b97-c9eb-c28ecb87711f"
      },
      "source": [
        "for p in patrones:\n",
        "    print(p)"
      ],
      "id": "welsh-telephone",
      "execution_count": null,
      "outputs": [
        {
          "output_type": "stream",
          "text": [
            "<re.Match object; span=(23, 26), match='aña'>\n",
            "<re.Match object; span=(43, 46), match='aña'>\n"
          ],
          "name": "stdout"
        }
      ]
    },
    {
      "cell_type": "markdown",
      "metadata": {
        "id": "general-parks"
      },
      "source": [
        "#### Metacaracteres"
      ],
      "id": "general-parks"
    },
    {
      "cell_type": "code",
      "metadata": {
        "id": "welcome-chuck",
        "outputId": "8f7fa2f6-e683-40ba-efe7-11427305c693"
      },
      "source": [
        "texto"
      ],
      "id": "welcome-chuck",
      "execution_count": null,
      "outputs": [
        {
          "output_type": "execute_result",
          "data": {
            "text/plain": [
              "'El Sol aparece por la mañana entre las montañas y los ríos'"
            ]
          },
          "metadata": {
            "tags": []
          },
          "execution_count": 13
        }
      ]
    },
    {
      "cell_type": "code",
      "metadata": {
        "id": "steady-biography",
        "outputId": "b787f5d9-4a10-45bc-a300-94ba48ae03f7"
      },
      "source": [
        "re.findall(\"l.s\", texto)\n",
        "# el metacarácter '.' hace un match con cualquier caracter excepto una newline o un espacio"
      ],
      "id": "steady-biography",
      "execution_count": null,
      "outputs": [
        {
          "output_type": "execute_result",
          "data": {
            "text/plain": [
              "['las', 'los']"
            ]
          },
          "metadata": {
            "tags": []
          },
          "execution_count": 11
        }
      ]
    },
    {
      "cell_type": "code",
      "metadata": {
        "id": "assigned-front",
        "outputId": "6ff03596-a8c1-44bd-cc4e-89c3f0a9fab8"
      },
      "source": [
        "re.findall(\"las?\", texto)\n",
        "# el metacarácter '?' hace un match con el carácter anterior: debe encontrarlo 0 o 1 veces"
      ],
      "id": "assigned-front",
      "execution_count": null,
      "outputs": [
        {
          "output_type": "execute_result",
          "data": {
            "text/plain": [
              "['la', 'las']"
            ]
          },
          "metadata": {
            "tags": []
          },
          "execution_count": 12
        }
      ]
    },
    {
      "cell_type": "code",
      "metadata": {
        "id": "sealed-greenhouse",
        "outputId": "b39680da-3c2f-4334-db46-791cdfb3b961"
      },
      "source": [
        "re.findall(\"las?\", 'la, las, lass, lasss')"
      ],
      "id": "sealed-greenhouse",
      "execution_count": null,
      "outputs": [
        {
          "output_type": "execute_result",
          "data": {
            "text/plain": [
              "['la', 'las', 'las', 'las']"
            ]
          },
          "metadata": {
            "tags": []
          },
          "execution_count": 14
        }
      ]
    },
    {
      "cell_type": "code",
      "metadata": {
        "id": "hearing-midwest",
        "outputId": "a3441cd8-804c-443e-c398-29cf37d7f4c5"
      },
      "source": [
        "re.findall(\"las+\", 'la, las, lass, lasss')\n",
        "# el metacarácter '+' hace un match con el crácter anterior: debe encontrarlo 1 o más veces"
      ],
      "id": "hearing-midwest",
      "execution_count": null,
      "outputs": [
        {
          "output_type": "execute_result",
          "data": {
            "text/plain": [
              "['las', 'lass', 'lasss']"
            ]
          },
          "metadata": {
            "tags": []
          },
          "execution_count": 15
        }
      ]
    },
    {
      "cell_type": "code",
      "metadata": {
        "id": "presidential-tournament",
        "outputId": "645eda3a-5b81-412f-bba0-ec71459ea321"
      },
      "source": [
        "re.findall(\"las*\", 'la, las, lass, lasss')\n",
        "# el metacarácter '*' hace un match con el crácter anterior: debe encontrarlo 0 o más veces"
      ],
      "id": "presidential-tournament",
      "execution_count": null,
      "outputs": [
        {
          "output_type": "execute_result",
          "data": {
            "text/plain": [
              "['la', 'las', 'lass', 'lasss']"
            ]
          },
          "metadata": {
            "tags": []
          },
          "execution_count": 16
        }
      ]
    },
    {
      "cell_type": "markdown",
      "metadata": {
        "id": "single-explanation"
      },
      "source": [
        "### Secuencias especiales"
      ],
      "id": "single-explanation"
    },
    {
      "cell_type": "code",
      "metadata": {
        "id": "interesting-miller"
      },
      "source": [
        "texto2 = \"La caña es débil\""
      ],
      "id": "interesting-miller",
      "execution_count": null,
      "outputs": []
    },
    {
      "cell_type": "markdown",
      "metadata": {
        "id": "breeding-incentive"
      },
      "source": [
        "`\\w`: caracteres alfanuméricos (unicode)"
      ],
      "id": "breeding-incentive"
    },
    {
      "cell_type": "code",
      "metadata": {
        "id": "alive-authentication",
        "outputId": "6019598f-ed9f-4634-d08f-43c49a93b8cb"
      },
      "source": [
        "re.findall(\"\\w\", texto2)"
      ],
      "id": "alive-authentication",
      "execution_count": null,
      "outputs": [
        {
          "output_type": "execute_result",
          "data": {
            "text/plain": [
              "['L', 'a', 'c', 'a', 'ñ', 'a', 'e', 's', 'd', 'é', 'b', 'i', 'l']"
            ]
          },
          "metadata": {
            "tags": []
          },
          "execution_count": 18
        }
      ]
    },
    {
      "cell_type": "code",
      "metadata": {
        "id": "toxic-boundary",
        "outputId": "d2fcf75b-cc83-4985-c069-8a4d8106605c"
      },
      "source": [
        "re.findall(\"\\w+\", texto2)"
      ],
      "id": "toxic-boundary",
      "execution_count": null,
      "outputs": [
        {
          "output_type": "execute_result",
          "data": {
            "text/plain": [
              "['La', 'caña', 'es', 'débil']"
            ]
          },
          "metadata": {
            "tags": []
          },
          "execution_count": 19
        }
      ]
    },
    {
      "cell_type": "code",
      "metadata": {
        "id": "golden-daisy",
        "outputId": "c9c51766-fb0b-4cec-b3ef-95a9704ba2cd"
      },
      "source": [
        "#cuidado porque el rango de caracteres A-Z no incluye caracteres unicode\n",
        "# (es decir, caracteres como 'ñ' o acentos)\n",
        "re.findall(\"[A-Za-z0-9_]+\", texto2)"
      ],
      "id": "golden-daisy",
      "execution_count": null,
      "outputs": [
        {
          "output_type": "execute_result",
          "data": {
            "text/plain": [
              "['La', 'ca', 'a', 'es', 'd', 'bil']"
            ]
          },
          "metadata": {
            "tags": []
          },
          "execution_count": 20
        }
      ]
    },
    {
      "cell_type": "code",
      "metadata": {
        "id": "compatible-plumbing",
        "outputId": "d240bfd2-c6aa-4939-add9-9049d481dc29"
      },
      "source": [
        "#La '\\w' sí que identifica caracteres unicode extraños incluso\n",
        "re.findall(\"\\w+\", \"mañana, adiøs\")"
      ],
      "id": "compatible-plumbing",
      "execution_count": null,
      "outputs": [
        {
          "output_type": "execute_result",
          "data": {
            "text/plain": [
              "['mañana', 'adiøs']"
            ]
          },
          "metadata": {
            "tags": []
          },
          "execution_count": 21
        }
      ]
    },
    {
      "cell_type": "code",
      "metadata": {
        "id": "magnetic-eagle"
      },
      "source": [
        "texto2 = \"Hay 35 alumnos en 1º, pero sólo 7 en 4º\""
      ],
      "id": "magnetic-eagle",
      "execution_count": null,
      "outputs": []
    },
    {
      "cell_type": "markdown",
      "metadata": {
        "id": "conditional-policy"
      },
      "source": [
        "`\\d`: dígitos"
      ],
      "id": "conditional-policy"
    },
    {
      "cell_type": "code",
      "metadata": {
        "id": "popular-jefferson",
        "outputId": "8bf5fde0-9916-487b-febc-6a4910b7acd8"
      },
      "source": [
        "re.findall(\"\\d+\", texto2)\n",
        "# Como se puede apreciar, identifica únicamente los dígitos sin distinguir si se trata\n",
        "# de un cardinal o ordinal"
      ],
      "id": "popular-jefferson",
      "execution_count": null,
      "outputs": [
        {
          "output_type": "execute_result",
          "data": {
            "text/plain": [
              "['35', '1', '7', '4']"
            ]
          },
          "metadata": {
            "tags": []
          },
          "execution_count": 23
        }
      ]
    },
    {
      "cell_type": "code",
      "metadata": {
        "id": "parliamentary-student",
        "outputId": "fb4b2dc0-fc7a-4832-f347-f446b6f27da0"
      },
      "source": [
        "re.findall(r\"\\w+\", texto2)\n",
        "# Ponerle una r delante del texto a Python le dice que ha de tratar el texto de forma 'raw'\n",
        "# Es decir, Python normalmente ignorará las barras \\ en los strings ('\\n', por ejemplo, lo\n",
        "# tomará como un salto de línea).\n",
        "\n",
        "# Una mejor explicación la podemos encontrar en stack overflow, en el texto siguiente:"
      ],
      "id": "parliamentary-student",
      "execution_count": null,
      "outputs": [
        {
          "output_type": "execute_result",
          "data": {
            "text/plain": [
              "['Hay', '35', 'alumnos', 'en', '1º', 'pero', 'sólo', '7', 'en', '4º']"
            ]
          },
          "metadata": {
            "tags": []
          },
          "execution_count": 24
        }
      ]
    },
    {
      "cell_type": "markdown",
      "metadata": {
        "id": "executive-london"
      },
      "source": [
        "\n",
        "\n",
        "r means the string will be treated as raw string.\n",
        "\n",
        "    When an 'r' or 'R' prefix is present, a character following a backslash is included in the string without change, and all backslashes are left in the string. For example, the string literal r\"\\n\" consists of two characters: a backslash and a lowercase 'n'. String quotes can be escaped with a backslash, but the backslash remains in the string; for example, r\"\\\"\" is a valid string literal consisting of two characters: a backslash and a double quote; r\"\\\" is not a valid string literal (even a raw string cannot end in an odd number of backslashes). Specifically, a raw string cannot end in a single backslash (since the backslash would escape the following quote character). Note also that a single backslash followed by a newline is interpreted as those two characters as part of the string, not as a line continuation.\n",
        "\n",
        "\n",
        "Por defecto, es conveniente usar la **r** delante de todas las expresiones regulares, así nos evitamos problemas\n"
      ],
      "id": "executive-london"
    },
    {
      "cell_type": "markdown",
      "metadata": {
        "id": "accredited-diamond"
      },
      "source": [
        "`\\b`: inicio o fin de palabra"
      ],
      "id": "accredited-diamond"
    },
    {
      "cell_type": "code",
      "metadata": {
        "id": "signal-dallas"
      },
      "source": [
        "texto = \"la blanca lavandería\""
      ],
      "id": "signal-dallas",
      "execution_count": null,
      "outputs": []
    },
    {
      "cell_type": "code",
      "metadata": {
        "id": "major-slovakia",
        "outputId": "4db8f8d2-f862-4bb7-b4c5-dc56344d6eef"
      },
      "source": [
        "re.findall(r\"\\bla\\w*\", texto) #palabras que COMIENZAN por 'la'"
      ],
      "id": "major-slovakia",
      "execution_count": null,
      "outputs": [
        {
          "output_type": "execute_result",
          "data": {
            "text/plain": [
              "['la', 'lavandería']"
            ]
          },
          "metadata": {
            "tags": []
          },
          "execution_count": 26
        }
      ]
    },
    {
      "cell_type": "code",
      "metadata": {
        "id": "classified-devil",
        "outputId": "b556e35a-df57-4756-b0d0-7c4c04181c59"
      },
      "source": [
        "#por contra\n",
        "re.findall(r\"la\\w*\", texto) #palabras que CONTIENEN 'la'"
      ],
      "id": "classified-devil",
      "execution_count": null,
      "outputs": [
        {
          "output_type": "execute_result",
          "data": {
            "text/plain": [
              "['la', 'lanca', 'lavandería']"
            ]
          },
          "metadata": {
            "tags": []
          },
          "execution_count": 27
        }
      ]
    },
    {
      "cell_type": "code",
      "metadata": {
        "id": "joint-belfast",
        "outputId": "77440fc3-fa7a-4bc4-b2f4-6467df040e72"
      },
      "source": [
        "re.findall(r\"\\w*os\\b\", \"los ríos y otras oscuras formaciones geológicas\") #palabras que terminan en 'os'"
      ],
      "id": "joint-belfast",
      "execution_count": null,
      "outputs": [
        {
          "output_type": "execute_result",
          "data": {
            "text/plain": [
              "['los', 'ríos']"
            ]
          },
          "metadata": {
            "tags": []
          },
          "execution_count": 28
        }
      ]
    },
    {
      "cell_type": "code",
      "metadata": {
        "id": "arctic-executive",
        "outputId": "ef9e9ff8-0941-4a43-91e2-67029d217ad5"
      },
      "source": [
        "#por contra\n",
        "re.findall(r\"\\w*os\", \"los ríos y otras oscuras formaciones geológicas\")"
      ],
      "id": "arctic-executive",
      "execution_count": null,
      "outputs": [
        {
          "output_type": "execute_result",
          "data": {
            "text/plain": [
              "['los', 'ríos', 'os']"
            ]
          },
          "metadata": {
            "tags": []
          },
          "execution_count": 29
        }
      ]
    },
    {
      "cell_type": "markdown",
      "metadata": {
        "id": "moderate-freeware"
      },
      "source": [
        "### Sets"
      ],
      "id": "moderate-freeware"
    },
    {
      "cell_type": "code",
      "metadata": {
        "id": "structural-karen"
      },
      "source": [
        "texto = 'los soles y las lisas'"
      ],
      "id": "structural-karen",
      "execution_count": null,
      "outputs": []
    },
    {
      "cell_type": "code",
      "metadata": {
        "id": "second-basin",
        "outputId": "4fcf9f08-428f-4615-84d0-780cf1896854"
      },
      "source": [
        "re.findall(\"l\\ws\", texto)"
      ],
      "id": "second-basin",
      "execution_count": null,
      "outputs": [
        {
          "output_type": "execute_result",
          "data": {
            "text/plain": [
              "['los', 'les', 'las', 'lis']"
            ]
          },
          "metadata": {
            "tags": []
          },
          "execution_count": 31
        }
      ]
    },
    {
      "cell_type": "code",
      "metadata": {
        "id": "loved-showcase",
        "outputId": "d9745e8e-36f4-4a78-9121-23d783dbb6dd"
      },
      "source": [
        "re.findall(\"l[oa]s\", texto)"
      ],
      "id": "loved-showcase",
      "execution_count": null,
      "outputs": [
        {
          "output_type": "execute_result",
          "data": {
            "text/plain": [
              "['los', 'las']"
            ]
          },
          "metadata": {
            "tags": []
          },
          "execution_count": 32
        }
      ]
    },
    {
      "cell_type": "code",
      "metadata": {
        "id": "democratic-parish",
        "outputId": "4d345231-3507-4cde-b584-252e57912079"
      },
      "source": [
        "re.findall(\"[a-zA-Z]+\", texto) #cuidado: la `ñ` no está en el alfabeto a-z"
      ],
      "id": "democratic-parish",
      "execution_count": null,
      "outputs": [
        {
          "output_type": "execute_result",
          "data": {
            "text/plain": [
              "['los', 'soles', 'y', 'las', 'lisas']"
            ]
          },
          "metadata": {
            "tags": []
          },
          "execution_count": 33
        }
      ]
    },
    {
      "cell_type": "markdown",
      "metadata": {
        "id": "prostate-count"
      },
      "source": [
        "### cuantificadores"
      ],
      "id": "prostate-count"
    },
    {
      "cell_type": "code",
      "metadata": {
        "id": "familiar-principal"
      },
      "source": [
        "texto = 'El Sol aparece por la mañana entre las montañas y los ríos'"
      ],
      "id": "familiar-principal",
      "execution_count": null,
      "outputs": []
    },
    {
      "cell_type": "code",
      "metadata": {
        "id": "micro-hebrew",
        "outputId": "bd820950-e596-4b0b-b898-04c055b07372"
      },
      "source": [
        "re.findall(\"\\w{4,}\", texto) #palabras de 4 o más caracteres\n",
        "\n",
        "#Literalmente, la expresión regular dice: encuéntrame 4 o más caracteres unicode sin estar separados por\n",
        "# salto de línea o espacio"
      ],
      "id": "micro-hebrew",
      "execution_count": null,
      "outputs": [
        {
          "output_type": "execute_result",
          "data": {
            "text/plain": [
              "['aparece', 'mañana', 'entre', 'montañas', 'ríos']"
            ]
          },
          "metadata": {
            "tags": []
          },
          "execution_count": 35
        }
      ]
    },
    {
      "cell_type": "code",
      "metadata": {
        "id": "suffering-smile",
        "outputId": "d6b48d08-7ed5-454a-bad9-4e453299b70c"
      },
      "source": [
        "re.findall(r\"\\b\\w{2,4}\\b\", texto) #palabras dentre 2 y 4 caracteres\n",
        "\n",
        "#Literalmente, la expresión regular dice: encuéntrame de 2 a 4 caracteres unicode, y que tanto a la izquierda como\n",
        "# a la derecha de este conjunto de caracteres encuentre el inicio y final de palabra"
      ],
      "id": "suffering-smile",
      "execution_count": null,
      "outputs": [
        {
          "output_type": "execute_result",
          "data": {
            "text/plain": [
              "['El', 'Sol', 'por', 'la', 'las', 'los', 'ríos']"
            ]
          },
          "metadata": {
            "tags": []
          },
          "execution_count": 37
        }
      ]
    },
    {
      "cell_type": "markdown",
      "metadata": {
        "id": "occasional-spray"
      },
      "source": [
        "### Ejercicio\n",
        "Detecta palabras que empiezan por `m` con una longitud entre 3 y 5 caracteres en el siguiente texto"
      ],
      "id": "occasional-spray"
    },
    {
      "cell_type": "code",
      "metadata": {
        "id": "judicial-services",
        "outputId": "2613666c-0545-4d64-c26e-d1f206fed94d"
      },
      "source": [
        "texto = 'más o menos me da igual, mastodonte inhumano'\n",
        "re.findall(r\"\\bm\\w{2,4}\\b\", texto)"
      ],
      "id": "judicial-services",
      "execution_count": null,
      "outputs": [
        {
          "output_type": "execute_result",
          "data": {
            "text/plain": [
              "['más', 'menos']"
            ]
          },
          "metadata": {
            "tags": []
          },
          "execution_count": 39
        }
      ]
    },
    {
      "cell_type": "markdown",
      "metadata": {
        "id": "running-variety"
      },
      "source": [
        "### Captura de grupos\n",
        "Un grupo es un patrón RegEx que queremos obtener (capturar) dentro de una patrón de expresión regular más amplio"
      ],
      "id": "running-variety"
    },
    {
      "cell_type": "code",
      "metadata": {
        "id": "retained-democracy"
      },
      "source": [
        "texto = 'Hay 35 alumnos en 1º pero sólo 7 en 4º'"
      ],
      "id": "retained-democracy",
      "execution_count": null,
      "outputs": []
    },
    {
      "cell_type": "markdown",
      "metadata": {
        "id": "adequate-buffer"
      },
      "source": [
        "Si nosotros queremos capturar los números ordinales, podemos hacerlo encontrando los caracteres que van seguidos de º:"
      ],
      "id": "adequate-buffer"
    },
    {
      "cell_type": "code",
      "metadata": {
        "id": "civic-lecture",
        "outputId": "c88098f9-2513-411a-84bb-fe4989d5894d"
      },
      "source": [
        "re.findall(r\"\\dº\", texto)"
      ],
      "id": "civic-lecture",
      "execution_count": null,
      "outputs": [
        {
          "output_type": "execute_result",
          "data": {
            "text/plain": [
              "['1º', '4º']"
            ]
          },
          "metadata": {
            "tags": []
          },
          "execution_count": 43
        }
      ]
    },
    {
      "cell_type": "markdown",
      "metadata": {
        "id": "clear-prague"
      },
      "source": [
        "Sin embargo, si nuestro interés está en capturar únicamente el dígito, eliminando el ordinal, podemos poner entre paréntesis aquellos elementos que queremos que se nos devuelvan:"
      ],
      "id": "clear-prague"
    },
    {
      "cell_type": "code",
      "metadata": {
        "id": "solar-inside",
        "outputId": "8b507344-0612-4448-b07e-49f52362a72b"
      },
      "source": [
        "re.findall(r\"(\\d)º\", texto) #capturamos 1 dígito sólo si va seguido de 'º'"
      ],
      "id": "solar-inside",
      "execution_count": null,
      "outputs": [
        {
          "output_type": "execute_result",
          "data": {
            "text/plain": [
              "['1', '4']"
            ]
          },
          "metadata": {
            "tags": []
          },
          "execution_count": 44
        }
      ]
    },
    {
      "cell_type": "code",
      "metadata": {
        "id": "accepting-motion",
        "outputId": "ff7aa42d-dfd1-423c-f7b9-ffa2770d44b0"
      },
      "source": [
        "#Si hay varios grupos findall devuelve una tupla\n",
        "texto = 'Hay 35 alumnos en 1A pero sólo 7 en 4B'\n",
        "re.findall(r\"(\\d)([A-Z])\", texto) #capturamos 1 dígito sólo si va seguido de 'º'"
      ],
      "id": "accepting-motion",
      "execution_count": null,
      "outputs": [
        {
          "output_type": "execute_result",
          "data": {
            "text/plain": [
              "[('1', 'A'), ('4', 'B')]"
            ]
          },
          "metadata": {
            "tags": []
          },
          "execution_count": 45
        }
      ]
    },
    {
      "cell_type": "code",
      "metadata": {
        "id": "compact-cycling",
        "outputId": "fa547d4a-7d22-469b-c8c9-d64d7dff9091"
      },
      "source": [
        "#obtener una fecha con patrón yyyy-mm-dd\n",
        "fechas = \"2021-3-21, 2020-12-1, 2019-11-25, 2018-11\"\n",
        "re.findall(\"\\d{4}-\\d{1,2}-\\d{1,2}\", fechas)"
      ],
      "id": "compact-cycling",
      "execution_count": null,
      "outputs": [
        {
          "output_type": "execute_result",
          "data": {
            "text/plain": [
              "['2021-3-21', '2020-12-1', '2019-11-25']"
            ]
          },
          "metadata": {
            "tags": []
          },
          "execution_count": 46
        }
      ]
    },
    {
      "cell_type": "code",
      "metadata": {
        "id": "emotional-spotlight",
        "outputId": "b6ed4889-e8ba-40f4-d0a8-17a6f74b6b48"
      },
      "source": [
        "#obtener sólo el mes en un patrón yyyy-mm-dd\n",
        "re.findall(\"\\d{4}-(\\d{1,2})-\\d{1,2}\", fechas)"
      ],
      "id": "emotional-spotlight",
      "execution_count": null,
      "outputs": [
        {
          "output_type": "execute_result",
          "data": {
            "text/plain": [
              "['3', '12', '11']"
            ]
          },
          "metadata": {
            "tags": []
          },
          "execution_count": 47
        }
      ]
    },
    {
      "cell_type": "markdown",
      "metadata": {
        "id": "reverse-sugar"
      },
      "source": [
        "Si queremos usar los paréntesis para aplicar un metacaracter o un cuantificador a un patrón, usamos un *non-capturing group* mediante la sintaxis expecial `(?:...)`"
      ],
      "id": "reverse-sugar"
    },
    {
      "cell_type": "code",
      "metadata": {
        "id": "opened-sister",
        "outputId": "1eb40989-1598-4836-9161-4fdb97b9ead1"
      },
      "source": [
        "#Encuentra todos los números\n",
        "re.findall(r\"\\d+(?:[\\.,]\\d+)*\", \"34.5 34,56 5 3.476,76\")\n",
        "\n",
        "#Explicado de otra forma, usar un paréntesis donde los dos primeros caracteres son '(?:' implica que\n",
        "# no se va a utilizar para captura, sino para agrupar metacaracteres.\n",
        "# A efectos de la '*' final, se va a usar el contenido íntegro del paréntesis como si se tratara de\n",
        "# un único metacaracter\n",
        "\n",
        "# El metacaracter completo explicado quiere decir:\n",
        "#  \\d+ : un conjunto de uno o más metacaracteres numéricos\n",
        "#  (?:[\\.,]d+)* un conjunto de 0 o más veces (por el * del final) de una coma o punto [\\.,]\n",
        "#                seguido de uno o más dígitos \\d+\n",
        "\n",
        "# Esto me encuentra combinaciones de números, con comas y puntos por enmedio"
      ],
      "id": "opened-sister",
      "execution_count": null,
      "outputs": [
        {
          "output_type": "execute_result",
          "data": {
            "text/plain": [
              "['34.5', '34,56', '5', '3.476,76']"
            ]
          },
          "metadata": {
            "tags": []
          },
          "execution_count": 48
        }
      ]
    },
    {
      "cell_type": "markdown",
      "metadata": {
        "id": "isolated-jersey"
      },
      "source": [
        "### Ejercicio\n",
        "El mes de la última fecha (2018-11) no se ha detectado, ¿cómo podemos detectarlo?"
      ],
      "id": "isolated-jersey"
    },
    {
      "cell_type": "code",
      "metadata": {
        "id": "numeric-costa",
        "outputId": "77a338de-8bab-4f6c-d814-c1ebfb064349"
      },
      "source": [
        "re.findall(\"\\d{4}-(\\d{1,2})(?:-\\d{1,2})?\", fechas)\n",
        "#Hemos pasado de \"\\d{4}-(\\d{1,2})-\\d{1,2}\" a \"\\d{4}-(\\d{1,2})(?:-\\d{1,2})?\"\n",
        "# Si comparamos la parte que ha cambiado: -\\d{1,2}\" -> (?:-\\d{1,2})?\n",
        "# Lo que hemos hecho es introducir todo el conjunto final entre paréntesis (?:  ),\n",
        "# y ponerle al final un ?, para decirle al regex que el día podría aparecer 0 o 1 veces"
      ],
      "id": "numeric-costa",
      "execution_count": null,
      "outputs": [
        {
          "output_type": "execute_result",
          "data": {
            "text/plain": [
              "['3', '12', '11', '11']"
            ]
          },
          "metadata": {
            "tags": []
          },
          "execution_count": 51
        }
      ]
    },
    {
      "cell_type": "markdown",
      "metadata": {
        "id": "three-conjunction"
      },
      "source": [
        "## Grupos numerados\n",
        "Podemos asignar un nombre a cada grupo y luego referenciarlo en el objeto `re.Match`"
      ],
      "id": "three-conjunction"
    },
    {
      "cell_type": "code",
      "metadata": {
        "id": "welsh-coffee"
      },
      "source": [
        "#buscamos letra seguida de dígito\n",
        "objeto = re.search(r\"(?P<letra>[ab])?(?P<dígito>\\d)\", \"a3, b4, 5\")"
      ],
      "id": "welsh-coffee",
      "execution_count": null,
      "outputs": []
    },
    {
      "cell_type": "code",
      "metadata": {
        "id": "dried-refrigerator",
        "outputId": "7336dfd0-7d93-44d2-fbf5-71757a5ca1c5"
      },
      "source": [
        "objeto.groupdict()"
      ],
      "id": "dried-refrigerator",
      "execution_count": null,
      "outputs": [
        {
          "output_type": "execute_result",
          "data": {
            "text/plain": [
              "{'letra': 'a', 'dígito': '3'}"
            ]
          },
          "metadata": {
            "tags": []
          },
          "execution_count": 53
        }
      ]
    },
    {
      "cell_type": "code",
      "metadata": {
        "id": "homeless-savings",
        "outputId": "54b64a76-9327-40bc-a497-a50971e23ee7"
      },
      "source": [
        "objeto['letra'] #grupo capturado 'letter'"
      ],
      "id": "homeless-savings",
      "execution_count": null,
      "outputs": [
        {
          "output_type": "execute_result",
          "data": {
            "text/plain": [
              "'a'"
            ]
          },
          "metadata": {
            "tags": []
          },
          "execution_count": 54
        }
      ]
    },
    {
      "cell_type": "code",
      "metadata": {
        "id": "through-church",
        "outputId": "bf43ee87-43ec-4a1b-d92b-685c8e66d9c2"
      },
      "source": [
        "objeto[0] #texto completo capturado por el patrón"
      ],
      "id": "through-church",
      "execution_count": null,
      "outputs": [
        {
          "output_type": "execute_result",
          "data": {
            "text/plain": [
              "'a3'"
            ]
          },
          "metadata": {
            "tags": []
          },
          "execution_count": 56
        }
      ]
    },
    {
      "cell_type": "code",
      "metadata": {
        "id": "august-madrid",
        "outputId": "bcd55b3a-3944-4ffe-cc84-9202466c9808"
      },
      "source": [
        "#Para buscar todos los matches hay que usar una búsqueda iterativa\n",
        "for objeto in re.finditer(r\"(?P<letra>[ab])?(?P<dígito>\\d)\", \"a3, b4\"):\n",
        "    print(objeto.groupdict())"
      ],
      "id": "august-madrid",
      "execution_count": null,
      "outputs": [
        {
          "output_type": "stream",
          "text": [
            "{'letra': 'a', 'dígito': '3'}\n",
            "{'letra': 'b', 'dígito': '4'}\n"
          ],
          "name": "stdout"
        }
      ]
    },
    {
      "cell_type": "markdown",
      "metadata": {
        "id": "caring-oxygen"
      },
      "source": [
        "### División y substitución de texto\n",
        "usando `re.split()` y `re.sub()`"
      ],
      "id": "caring-oxygen"
    },
    {
      "cell_type": "code",
      "metadata": {
        "id": "loving-efficiency",
        "outputId": "3f68bcbc-0ca8-4308-d35d-760d85d42016"
      },
      "source": [
        "#Usando un patrón para dividir\n",
        "texto3 = \"Los pájaros cantan, las nubes se levantan. Que sí, que no, que caiga un chaparrón.\"\n",
        "re.split(r\"[,.\\s]+\", texto3)\n",
        "# divide el texto cuando encuentra una coma, punto o espacio (\\s)"
      ],
      "id": "loving-efficiency",
      "execution_count": null,
      "outputs": [
        {
          "output_type": "execute_result",
          "data": {
            "text/plain": [
              "['Los',\n",
              " 'pájaros',\n",
              " 'cantan',\n",
              " 'las',\n",
              " 'nubes',\n",
              " 'se',\n",
              " 'levantan',\n",
              " 'Que',\n",
              " 'sí',\n",
              " 'que',\n",
              " 'no',\n",
              " 'que',\n",
              " 'caiga',\n",
              " 'un',\n",
              " 'chaparrón',\n",
              " '']"
            ]
          },
          "metadata": {
            "tags": []
          },
          "execution_count": 58
        }
      ]
    },
    {
      "cell_type": "code",
      "metadata": {
        "id": "guilty-orientation",
        "outputId": "41248ed9-04fc-4b21-8fc7-5260e1c0f87f"
      },
      "source": [
        "#substitución de texto\n",
        "texto = 'El Sol aparece por la mañana entre las montañas y los ríos'\n",
        "re.sub(\" \", \"_\", texto)"
      ],
      "id": "guilty-orientation",
      "execution_count": null,
      "outputs": [
        {
          "output_type": "execute_result",
          "data": {
            "text/plain": [
              "'El_Sol_aparece_por_la_mañana_entre_las_montañas_y_los_ríos'"
            ]
          },
          "metadata": {
            "tags": []
          },
          "execution_count": 59
        }
      ]
    },
    {
      "cell_type": "code",
      "metadata": {
        "id": "dirty-english"
      },
      "source": [
        "#substitución de un patrón\n",
        "re.sub(\"l[ao]s\", \"l@s\", texto)"
      ],
      "id": "dirty-english",
      "execution_count": null,
      "outputs": []
    },
    {
      "cell_type": "code",
      "metadata": {
        "id": "reduced-western"
      },
      "source": [
        "#substitución de un grupo capturado\n",
        "\n",
        "#cada grupo que se le señale, le asignará el grupo \\1, \\2, \\3, etc...\n",
        "\n",
        "fechas = \"2021-3-21, 2020-12-1, 2019-11-25, 2018-11\"\n",
        "re.sub(\"(\\d{4})-(\\d{1,2})-(\\d{1,2})\", r\"\\3/\\2/\\1\", fechas)"
      ],
      "id": "reduced-western",
      "execution_count": null,
      "outputs": []
    },
    {
      "cell_type": "code",
      "metadata": {
        "id": "sunset-canadian",
        "outputId": "2f529083-262e-4b90-b33e-cb1ef2530f58"
      },
      "source": [
        "#Uso de una función sobre el texto a substituir\n",
        "def mayusculas(m):\n",
        "    return m[0].upper() #el elemento 0 de un objeto Match es el texto encontrado\n",
        "\n",
        "re.sub(r\"\\b\\w{3}\\b\", mayusculas, texto) #pasa a may. palabras de 3 letras"
      ],
      "id": "sunset-canadian",
      "execution_count": null,
      "outputs": [
        {
          "output_type": "execute_result",
          "data": {
            "text/plain": [
              "'El SOL aparece POR la mañana entre LAS montañas y LOS ríos'"
            ]
          },
          "metadata": {
            "tags": []
          },
          "execution_count": 60
        }
      ]
    },
    {
      "cell_type": "markdown",
      "metadata": {
        "id": "monthly-chorus"
      },
      "source": [
        "## Uso de RegEx en Pandas"
      ],
      "id": "monthly-chorus"
    },
    {
      "cell_type": "code",
      "metadata": {
        "id": "mental-marriage"
      },
      "source": [
        "import pandas as pd\n",
        "import numpy as np"
      ],
      "id": "mental-marriage",
      "execution_count": null,
      "outputs": []
    },
    {
      "cell_type": "code",
      "metadata": {
        "id": "continent-tamil",
        "outputId": "c0dfaf25-810e-4b49-c8cc-931e7e7896f1"
      },
      "source": [
        "s = pd.Series(\n",
        "     [\"A\", \"B\", \"C\", \"Aaba\", \"Baca\", \"\", np.nan, \"CABA\", \"dog\", \"cat\"],\n",
        "     dtype=\"string\",\n",
        " )\n",
        "s"
      ],
      "id": "continent-tamil",
      "execution_count": null,
      "outputs": [
        {
          "output_type": "execute_result",
          "data": {
            "text/plain": [
              "0       A\n",
              "1       B\n",
              "2       C\n",
              "3    Aaba\n",
              "4    Baca\n",
              "5        \n",
              "6    <NA>\n",
              "7    CABA\n",
              "8     dog\n",
              "9     cat\n",
              "dtype: string"
            ]
          },
          "metadata": {
            "tags": []
          },
          "execution_count": 62
        }
      ]
    },
    {
      "cell_type": "markdown",
      "metadata": {
        "id": "brazilian-mathematics"
      },
      "source": [
        "### `str.replace()`"
      ],
      "id": "brazilian-mathematics"
    },
    {
      "cell_type": "code",
      "metadata": {
        "id": "multiple-message",
        "outputId": "1befc38c-a1ba-4235-90c9-47ba4784ff70"
      },
      "source": [
        "s.str.replace(\"A\\w+|B\\w+\", \"XX\", regex=True)"
      ],
      "id": "multiple-message",
      "execution_count": null,
      "outputs": [
        {
          "output_type": "execute_result",
          "data": {
            "text/plain": [
              "0       A\n",
              "1       B\n",
              "2       C\n",
              "3      XX\n",
              "4      XX\n",
              "5        \n",
              "6    <NA>\n",
              "7     CXX\n",
              "8     dog\n",
              "9     cat\n",
              "dtype: string"
            ]
          },
          "metadata": {
            "tags": []
          },
          "execution_count": 63
        }
      ]
    },
    {
      "cell_type": "markdown",
      "metadata": {
        "id": "falling-computer"
      },
      "source": [
        "### `str.extract()`y `str.extractall()`"
      ],
      "id": "falling-computer"
    },
    {
      "cell_type": "code",
      "metadata": {
        "id": "introductory-parking",
        "outputId": "ce0e5fbe-44af-4438-d6de-6ccc359c56f3"
      },
      "source": [
        "#The extract method accepts a regular expression with at least one capture group.\n",
        "pd.Series(\n",
        "     [\"a1\", \"b2\", \"c3\"],\n",
        "     dtype=\"string\",\n",
        " ).str.extract(r\"([ab])(\\d)\")"
      ],
      "id": "introductory-parking",
      "execution_count": null,
      "outputs": [
        {
          "output_type": "execute_result",
          "data": {
            "text/html": [
              "<div>\n",
              "<style scoped>\n",
              "    .dataframe tbody tr th:only-of-type {\n",
              "        vertical-align: middle;\n",
              "    }\n",
              "\n",
              "    .dataframe tbody tr th {\n",
              "        vertical-align: top;\n",
              "    }\n",
              "\n",
              "    .dataframe thead th {\n",
              "        text-align: right;\n",
              "    }\n",
              "</style>\n",
              "<table border=\"1\" class=\"dataframe\">\n",
              "  <thead>\n",
              "    <tr style=\"text-align: right;\">\n",
              "      <th></th>\n",
              "      <th>0</th>\n",
              "      <th>1</th>\n",
              "    </tr>\n",
              "  </thead>\n",
              "  <tbody>\n",
              "    <tr>\n",
              "      <th>0</th>\n",
              "      <td>a</td>\n",
              "      <td>1</td>\n",
              "    </tr>\n",
              "    <tr>\n",
              "      <th>1</th>\n",
              "      <td>b</td>\n",
              "      <td>2</td>\n",
              "    </tr>\n",
              "    <tr>\n",
              "      <th>2</th>\n",
              "      <td>&lt;NA&gt;</td>\n",
              "      <td>&lt;NA&gt;</td>\n",
              "    </tr>\n",
              "  </tbody>\n",
              "</table>\n",
              "</div>"
            ],
            "text/plain": [
              "      0     1\n",
              "0     a     1\n",
              "1     b     2\n",
              "2  <NA>  <NA>"
            ]
          },
          "metadata": {
            "tags": []
          },
          "execution_count": 64
        }
      ]
    },
    {
      "cell_type": "code",
      "metadata": {
        "id": "desperate-escape",
        "outputId": "d5650069-fc06-4f8e-e92b-08cc7c2a6039"
      },
      "source": [
        "#Podemos hacer un grupo opcional.\n",
        "pd.Series(\n",
        "     [\"a1\", \"b2\", \"c3\", \"ab\"],\n",
        "     dtype=\"string\",\n",
        " ).str.extract(r\"([ab])?(\\d)\")"
      ],
      "id": "desperate-escape",
      "execution_count": null,
      "outputs": [
        {
          "output_type": "execute_result",
          "data": {
            "text/html": [
              "<div>\n",
              "<style scoped>\n",
              "    .dataframe tbody tr th:only-of-type {\n",
              "        vertical-align: middle;\n",
              "    }\n",
              "\n",
              "    .dataframe tbody tr th {\n",
              "        vertical-align: top;\n",
              "    }\n",
              "\n",
              "    .dataframe thead th {\n",
              "        text-align: right;\n",
              "    }\n",
              "</style>\n",
              "<table border=\"1\" class=\"dataframe\">\n",
              "  <thead>\n",
              "    <tr style=\"text-align: right;\">\n",
              "      <th></th>\n",
              "      <th>0</th>\n",
              "      <th>1</th>\n",
              "    </tr>\n",
              "  </thead>\n",
              "  <tbody>\n",
              "    <tr>\n",
              "      <th>0</th>\n",
              "      <td>a</td>\n",
              "      <td>1</td>\n",
              "    </tr>\n",
              "    <tr>\n",
              "      <th>1</th>\n",
              "      <td>b</td>\n",
              "      <td>2</td>\n",
              "    </tr>\n",
              "    <tr>\n",
              "      <th>2</th>\n",
              "      <td>&lt;NA&gt;</td>\n",
              "      <td>3</td>\n",
              "    </tr>\n",
              "    <tr>\n",
              "      <th>3</th>\n",
              "      <td>&lt;NA&gt;</td>\n",
              "      <td>&lt;NA&gt;</td>\n",
              "    </tr>\n",
              "  </tbody>\n",
              "</table>\n",
              "</div>"
            ],
            "text/plain": [
              "      0     1\n",
              "0     a     1\n",
              "1     b     2\n",
              "2  <NA>     3\n",
              "3  <NA>  <NA>"
            ]
          },
          "metadata": {
            "tags": []
          },
          "execution_count": 65
        }
      ]
    },
    {
      "cell_type": "code",
      "metadata": {
        "id": "massive-space",
        "outputId": "789d3b07-8729-468f-ee1d-768e167947d9"
      },
      "source": [
        "#Podemos poner nombres a los grupos.\n",
        "pd.Series(\n",
        "     [\"a1,b7\", \"b2\", \"c3\"],\n",
        "     dtype=\"string\",\n",
        " ).str.extract(r\"(?P<letter>[ab])?(?P<digit>\\d)\")"
      ],
      "id": "massive-space",
      "execution_count": null,
      "outputs": [
        {
          "output_type": "execute_result",
          "data": {
            "text/html": [
              "<div>\n",
              "<style scoped>\n",
              "    .dataframe tbody tr th:only-of-type {\n",
              "        vertical-align: middle;\n",
              "    }\n",
              "\n",
              "    .dataframe tbody tr th {\n",
              "        vertical-align: top;\n",
              "    }\n",
              "\n",
              "    .dataframe thead th {\n",
              "        text-align: right;\n",
              "    }\n",
              "</style>\n",
              "<table border=\"1\" class=\"dataframe\">\n",
              "  <thead>\n",
              "    <tr style=\"text-align: right;\">\n",
              "      <th></th>\n",
              "      <th>letter</th>\n",
              "      <th>digit</th>\n",
              "    </tr>\n",
              "  </thead>\n",
              "  <tbody>\n",
              "    <tr>\n",
              "      <th>0</th>\n",
              "      <td>a</td>\n",
              "      <td>1</td>\n",
              "    </tr>\n",
              "    <tr>\n",
              "      <th>1</th>\n",
              "      <td>b</td>\n",
              "      <td>2</td>\n",
              "    </tr>\n",
              "    <tr>\n",
              "      <th>2</th>\n",
              "      <td>&lt;NA&gt;</td>\n",
              "      <td>3</td>\n",
              "    </tr>\n",
              "  </tbody>\n",
              "</table>\n",
              "</div>"
            ],
            "text/plain": [
              "  letter digit\n",
              "0      a     1\n",
              "1      b     2\n",
              "2   <NA>     3"
            ]
          },
          "metadata": {
            "tags": []
          },
          "execution_count": 66
        }
      ]
    },
    {
      "cell_type": "markdown",
      "metadata": {
        "id": "occupational-pioneer"
      },
      "source": [
        "The `extractall` method returns every match. The result of `extractall` is always a DataFrame with a MultiIndex on its rows. The last level of the MultiIndex is named `match` and indicates the order in the subject."
      ],
      "id": "occupational-pioneer"
    },
    {
      "cell_type": "code",
      "metadata": {
        "id": "instrumental-entity",
        "outputId": "5be1cbd4-adb2-4b06-9d0f-4803594db494"
      },
      "source": [
        "s2 = pd.Series([\"a1a2\", \"b1\", \"c1\"], index=[\"A\", \"B\", \"C\"], dtype=\"string\")\n",
        "s2"
      ],
      "id": "instrumental-entity",
      "execution_count": null,
      "outputs": [
        {
          "output_type": "execute_result",
          "data": {
            "text/plain": [
              "A    a1a2\n",
              "B      b1\n",
              "C      c1\n",
              "dtype: string"
            ]
          },
          "metadata": {
            "tags": []
          },
          "execution_count": 67
        }
      ]
    },
    {
      "cell_type": "code",
      "metadata": {
        "id": "boolean-water",
        "outputId": "8177d131-b053-4b58-bd91-8f0cafd2c5d7"
      },
      "source": [
        "s2.str.extractall(\"(?P<letter>[a-z])(?P<digit>[0-9])\")"
      ],
      "id": "boolean-water",
      "execution_count": null,
      "outputs": [
        {
          "output_type": "execute_result",
          "data": {
            "text/html": [
              "<div>\n",
              "<style scoped>\n",
              "    .dataframe tbody tr th:only-of-type {\n",
              "        vertical-align: middle;\n",
              "    }\n",
              "\n",
              "    .dataframe tbody tr th {\n",
              "        vertical-align: top;\n",
              "    }\n",
              "\n",
              "    .dataframe thead th {\n",
              "        text-align: right;\n",
              "    }\n",
              "</style>\n",
              "<table border=\"1\" class=\"dataframe\">\n",
              "  <thead>\n",
              "    <tr style=\"text-align: right;\">\n",
              "      <th></th>\n",
              "      <th></th>\n",
              "      <th>letter</th>\n",
              "      <th>digit</th>\n",
              "    </tr>\n",
              "    <tr>\n",
              "      <th></th>\n",
              "      <th>match</th>\n",
              "      <th></th>\n",
              "      <th></th>\n",
              "    </tr>\n",
              "  </thead>\n",
              "  <tbody>\n",
              "    <tr>\n",
              "      <th rowspan=\"2\" valign=\"top\">A</th>\n",
              "      <th>0</th>\n",
              "      <td>a</td>\n",
              "      <td>1</td>\n",
              "    </tr>\n",
              "    <tr>\n",
              "      <th>1</th>\n",
              "      <td>a</td>\n",
              "      <td>2</td>\n",
              "    </tr>\n",
              "    <tr>\n",
              "      <th>B</th>\n",
              "      <th>0</th>\n",
              "      <td>b</td>\n",
              "      <td>1</td>\n",
              "    </tr>\n",
              "    <tr>\n",
              "      <th>C</th>\n",
              "      <th>0</th>\n",
              "      <td>c</td>\n",
              "      <td>1</td>\n",
              "    </tr>\n",
              "  </tbody>\n",
              "</table>\n",
              "</div>"
            ],
            "text/plain": [
              "        letter digit\n",
              "  match             \n",
              "A 0          a     1\n",
              "  1          a     2\n",
              "B 0          b     1\n",
              "C 0          c     1"
            ]
          },
          "metadata": {
            "tags": []
          },
          "execution_count": 68
        }
      ]
    },
    {
      "cell_type": "markdown",
      "metadata": {
        "id": "scenic-intensity"
      },
      "source": [
        "### `match`, `fullmatch`, `contains`"
      ],
      "id": "scenic-intensity"
    },
    {
      "cell_type": "code",
      "metadata": {
        "id": "drawn-pharmacology",
        "outputId": "5d8074b7-8d9c-4f5f-a238-1d1f2a064dd9"
      },
      "source": [
        "s = pd.Series(\n",
        "     [\"1\", \"2\", \"3a\", \"3b\", \"03c\", \"4dx\", \"5b\"],\n",
        "     dtype=\"string\",\n",
        " )\n",
        "s"
      ],
      "id": "drawn-pharmacology",
      "execution_count": null,
      "outputs": [
        {
          "output_type": "execute_result",
          "data": {
            "text/plain": [
              "0      1\n",
              "1      2\n",
              "2     3a\n",
              "3     3b\n",
              "4    03c\n",
              "5    4dx\n",
              "6     5b\n",
              "dtype: string"
            ]
          },
          "metadata": {
            "tags": []
          },
          "execution_count": 69
        }
      ]
    },
    {
      "cell_type": "code",
      "metadata": {
        "id": "adjacent-workplace",
        "outputId": "a9cf89c4-0777-45bc-e0df-af8f8c8c428e"
      },
      "source": [
        "pd.concat([s,s.str.contains(r\"[0-3][a-z]\")], axis=1)"
      ],
      "id": "adjacent-workplace",
      "execution_count": null,
      "outputs": [
        {
          "output_type": "execute_result",
          "data": {
            "text/html": [
              "<div>\n",
              "<style scoped>\n",
              "    .dataframe tbody tr th:only-of-type {\n",
              "        vertical-align: middle;\n",
              "    }\n",
              "\n",
              "    .dataframe tbody tr th {\n",
              "        vertical-align: top;\n",
              "    }\n",
              "\n",
              "    .dataframe thead th {\n",
              "        text-align: right;\n",
              "    }\n",
              "</style>\n",
              "<table border=\"1\" class=\"dataframe\">\n",
              "  <thead>\n",
              "    <tr style=\"text-align: right;\">\n",
              "      <th></th>\n",
              "      <th>0</th>\n",
              "      <th>1</th>\n",
              "    </tr>\n",
              "  </thead>\n",
              "  <tbody>\n",
              "    <tr>\n",
              "      <th>0</th>\n",
              "      <td>1</td>\n",
              "      <td>False</td>\n",
              "    </tr>\n",
              "    <tr>\n",
              "      <th>1</th>\n",
              "      <td>2</td>\n",
              "      <td>False</td>\n",
              "    </tr>\n",
              "    <tr>\n",
              "      <th>2</th>\n",
              "      <td>3a</td>\n",
              "      <td>True</td>\n",
              "    </tr>\n",
              "    <tr>\n",
              "      <th>3</th>\n",
              "      <td>3b</td>\n",
              "      <td>True</td>\n",
              "    </tr>\n",
              "    <tr>\n",
              "      <th>4</th>\n",
              "      <td>03c</td>\n",
              "      <td>True</td>\n",
              "    </tr>\n",
              "    <tr>\n",
              "      <th>5</th>\n",
              "      <td>4dx</td>\n",
              "      <td>False</td>\n",
              "    </tr>\n",
              "    <tr>\n",
              "      <th>6</th>\n",
              "      <td>5b</td>\n",
              "      <td>False</td>\n",
              "    </tr>\n",
              "  </tbody>\n",
              "</table>\n",
              "</div>"
            ],
            "text/plain": [
              "     0      1\n",
              "0    1  False\n",
              "1    2  False\n",
              "2   3a   True\n",
              "3   3b   True\n",
              "4  03c   True\n",
              "5  4dx  False\n",
              "6   5b  False"
            ]
          },
          "metadata": {
            "tags": []
          },
          "execution_count": 70
        }
      ]
    },
    {
      "cell_type": "code",
      "metadata": {
        "id": "sharing-rochester",
        "outputId": "35f5e4a1-ef05-449b-c302-0c22fe1136d6"
      },
      "source": [
        "pd.concat([s,s.str.match(r\"[0-9][a-z]\")], axis=1)"
      ],
      "id": "sharing-rochester",
      "execution_count": null,
      "outputs": [
        {
          "output_type": "execute_result",
          "data": {
            "text/html": [
              "<div>\n",
              "<style scoped>\n",
              "    .dataframe tbody tr th:only-of-type {\n",
              "        vertical-align: middle;\n",
              "    }\n",
              "\n",
              "    .dataframe tbody tr th {\n",
              "        vertical-align: top;\n",
              "    }\n",
              "\n",
              "    .dataframe thead th {\n",
              "        text-align: right;\n",
              "    }\n",
              "</style>\n",
              "<table border=\"1\" class=\"dataframe\">\n",
              "  <thead>\n",
              "    <tr style=\"text-align: right;\">\n",
              "      <th></th>\n",
              "      <th>0</th>\n",
              "      <th>1</th>\n",
              "    </tr>\n",
              "  </thead>\n",
              "  <tbody>\n",
              "    <tr>\n",
              "      <th>0</th>\n",
              "      <td>1</td>\n",
              "      <td>False</td>\n",
              "    </tr>\n",
              "    <tr>\n",
              "      <th>1</th>\n",
              "      <td>2</td>\n",
              "      <td>False</td>\n",
              "    </tr>\n",
              "    <tr>\n",
              "      <th>2</th>\n",
              "      <td>3a</td>\n",
              "      <td>True</td>\n",
              "    </tr>\n",
              "    <tr>\n",
              "      <th>3</th>\n",
              "      <td>3b</td>\n",
              "      <td>True</td>\n",
              "    </tr>\n",
              "    <tr>\n",
              "      <th>4</th>\n",
              "      <td>03c</td>\n",
              "      <td>False</td>\n",
              "    </tr>\n",
              "    <tr>\n",
              "      <th>5</th>\n",
              "      <td>4dx</td>\n",
              "      <td>True</td>\n",
              "    </tr>\n",
              "    <tr>\n",
              "      <th>6</th>\n",
              "      <td>5b</td>\n",
              "      <td>True</td>\n",
              "    </tr>\n",
              "  </tbody>\n",
              "</table>\n",
              "</div>"
            ],
            "text/plain": [
              "     0      1\n",
              "0    1  False\n",
              "1    2  False\n",
              "2   3a   True\n",
              "3   3b   True\n",
              "4  03c  False\n",
              "5  4dx   True\n",
              "6   5b   True"
            ]
          },
          "metadata": {
            "tags": []
          },
          "execution_count": 71
        }
      ]
    },
    {
      "cell_type": "code",
      "metadata": {
        "id": "agreed-recipient",
        "outputId": "a97a9d34-133a-4a57-9607-c05ebf2676de"
      },
      "source": [
        "pd.concat([s,s.str.fullmatch(r\"[0-9][a-z]\")], axis=1)"
      ],
      "id": "agreed-recipient",
      "execution_count": null,
      "outputs": [
        {
          "output_type": "execute_result",
          "data": {
            "text/html": [
              "<div>\n",
              "<style scoped>\n",
              "    .dataframe tbody tr th:only-of-type {\n",
              "        vertical-align: middle;\n",
              "    }\n",
              "\n",
              "    .dataframe tbody tr th {\n",
              "        vertical-align: top;\n",
              "    }\n",
              "\n",
              "    .dataframe thead th {\n",
              "        text-align: right;\n",
              "    }\n",
              "</style>\n",
              "<table border=\"1\" class=\"dataframe\">\n",
              "  <thead>\n",
              "    <tr style=\"text-align: right;\">\n",
              "      <th></th>\n",
              "      <th>0</th>\n",
              "      <th>1</th>\n",
              "    </tr>\n",
              "  </thead>\n",
              "  <tbody>\n",
              "    <tr>\n",
              "      <th>0</th>\n",
              "      <td>1</td>\n",
              "      <td>False</td>\n",
              "    </tr>\n",
              "    <tr>\n",
              "      <th>1</th>\n",
              "      <td>2</td>\n",
              "      <td>False</td>\n",
              "    </tr>\n",
              "    <tr>\n",
              "      <th>2</th>\n",
              "      <td>3a</td>\n",
              "      <td>True</td>\n",
              "    </tr>\n",
              "    <tr>\n",
              "      <th>3</th>\n",
              "      <td>3b</td>\n",
              "      <td>True</td>\n",
              "    </tr>\n",
              "    <tr>\n",
              "      <th>4</th>\n",
              "      <td>03c</td>\n",
              "      <td>False</td>\n",
              "    </tr>\n",
              "    <tr>\n",
              "      <th>5</th>\n",
              "      <td>4dx</td>\n",
              "      <td>False</td>\n",
              "    </tr>\n",
              "    <tr>\n",
              "      <th>6</th>\n",
              "      <td>5b</td>\n",
              "      <td>True</td>\n",
              "    </tr>\n",
              "  </tbody>\n",
              "</table>\n",
              "</div>"
            ],
            "text/plain": [
              "     0      1\n",
              "0    1  False\n",
              "1    2  False\n",
              "2   3a   True\n",
              "3   3b   True\n",
              "4  03c  False\n",
              "5  4dx  False\n",
              "6   5b   True"
            ]
          },
          "metadata": {
            "tags": []
          },
          "execution_count": 72
        }
      ]
    },
    {
      "cell_type": "code",
      "metadata": {
        "id": "liable-neighborhood"
      },
      "source": [
        ""
      ],
      "id": "liable-neighborhood",
      "execution_count": null,
      "outputs": []
    }
  ]
}