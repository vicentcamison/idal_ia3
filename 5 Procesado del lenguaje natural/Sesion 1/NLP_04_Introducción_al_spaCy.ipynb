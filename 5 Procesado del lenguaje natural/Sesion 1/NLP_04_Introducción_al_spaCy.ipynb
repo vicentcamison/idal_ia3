{
  "nbformat": 4,
  "nbformat_minor": 0,
  "metadata": {
    "kernelspec": {
      "display_name": "Python 3",
      "language": "python",
      "name": "python3"
    },
    "language_info": {
      "codemirror_mode": {
        "name": "ipython",
        "version": 3
      },
      "file_extension": ".py",
      "mimetype": "text/x-python",
      "name": "python",
      "nbconvert_exporter": "python",
      "pygments_lexer": "ipython3",
      "version": "3.8.5"
    },
    "colab": {
      "name": "NLP_04-Introducción al spaCy.ipynb",
      "provenance": [],
      "include_colab_link": true
    }
  },
  "cells": [
    {
      "cell_type": "markdown",
      "metadata": {
        "id": "view-in-github",
        "colab_type": "text"
      },
      "source": [
        "<a href=\"https://colab.research.google.com/github/vicentcamison/idal_ia3/blob/main/5%20Procesado%20del%20lenguaje%20natural/Sesion%201/NLP_04_Introduccio%CC%81n_al_spaCy.ipynb\" target=\"_parent\"><img src=\"https://colab.research.google.com/assets/colab-badge.svg\" alt=\"Open In Colab\"/></a>"
      ]
    },
    {
      "cell_type": "markdown",
      "metadata": {
        "id": "v3o2MNwqkIDN"
      },
      "source": [
        "# Introducción a la librería spaCy\n",
        "En este *notebook* vamos a describir el uso de la librería `spaCy` para el Procesado de Lenguaje Natural."
      ]
    },
    {
      "cell_type": "code",
      "metadata": {
        "id": "EugcAQgNkIDa"
      },
      "source": [
        "import spacy\n",
        "import pandas as pd\n",
        "import re"
      ],
      "execution_count": null,
      "outputs": []
    },
    {
      "cell_type": "markdown",
      "metadata": {
        "id": "YOqt5AUckIDb"
      },
      "source": [
        "Cargamos la librería y el modelo de lenguaje para el español. Vemos las principales características de la librería y del modelo."
      ]
    },
    {
      "cell_type": "code",
      "metadata": {
        "id": "bLe5X6wYkIDc",
        "outputId": "dab173ca-23b1-483b-d2e8-4ab4f42ff522"
      },
      "source": [
        "spacy.info()"
      ],
      "execution_count": null,
      "outputs": [
        {
          "output_type": "execute_result",
          "data": {
            "text/plain": [
              "{'spacy_version': '3.0.5',\n",
              " 'location': '/home/juan/anaconda3/lib/python3.8/site-packages/spacy',\n",
              " 'platform': 'Linux-5.8.0-49-generic-x86_64-with-glibc2.10',\n",
              " 'python_version': '3.8.5',\n",
              " 'pipelines': {'es_core_news_sm': '3.0.0'}}"
            ]
          },
          "metadata": {
            "tags": []
          },
          "execution_count": 2
        }
      ]
    },
    {
      "cell_type": "markdown",
      "metadata": {
        "id": "fo-soIZokIDg"
      },
      "source": [
        "Comprobamos los modelos de lenguaje instalados (compatible con todas las versiones de `spaCy`)"
      ]
    },
    {
      "cell_type": "code",
      "metadata": {
        "id": "YYY4c3AakIDg",
        "outputId": "85e94a15-746a-4c00-c7fa-0b3ad81bb9b0"
      },
      "source": [
        "!python -m spacy validate"
      ],
      "execution_count": null,
      "outputs": [
        {
          "output_type": "stream",
          "text": [
            "2021-04-17 10:08:41.429845: W tensorflow/stream_executor/platform/default/dso_loader.cc:60] Could not load dynamic library 'libcudart.so.11.0'; dlerror: libcudart.so.11.0: cannot open shared object file: No such file or directory; LD_LIBRARY_PATH: /usr/local/cuda-11.2/lib64:\n",
            "2021-04-17 10:08:41.429867: I tensorflow/stream_executor/cuda/cudart_stub.cc:29] Ignore above cudart dlerror if you do not have a GPU set up on your machine.\n",
            "\u001b[2K\u001b[38;5;2m✔ Loaded compatibility table\u001b[0m\n",
            "\u001b[1m\n",
            "================= Installed pipeline packages (spaCy v3.0.5) =================\u001b[0m\n",
            "\u001b[38;5;4mℹ spaCy installation:\n",
            "/home/juan/anaconda3/lib/python3.8/site-packages/spacy\u001b[0m\n",
            "\n",
            "NAME              SPACY            VERSION                            \n",
            "es_core_news_sm   >=3.0.0,<3.1.0   \u001b[38;5;2m3.0.0\u001b[0m   \u001b[38;5;2m✔\u001b[0m\n",
            "\n"
          ],
          "name": "stdout"
        }
      ]
    },
    {
      "cell_type": "code",
      "metadata": {
        "id": "uQ-mkY0PkIDh"
      },
      "source": [
        "nlp = spacy.load(\"es_core_news_sm\")"
      ],
      "execution_count": null,
      "outputs": []
    },
    {
      "cell_type": "markdown",
      "metadata": {
        "id": "PiCEqTrtkIDi"
      },
      "source": [
        "## Arquitectura del modelo\n",
        "Para cada modelo, `spaCy` tiene un vocabulario de palabras ya conocidas que almacena en un `stringStore` global"
      ]
    },
    {
      "cell_type": "markdown",
      "metadata": {
        "id": "Qth6Ix9CkIDi"
      },
      "source": [
        "Cada modelo tiene un conjunto de lexemas del idioma definidos en su Vocabulario"
      ]
    },
    {
      "cell_type": "code",
      "metadata": {
        "id": "HcSjBP3xkIDj",
        "outputId": "bc6ed7b9-38ca-4d80-83f2-f4f2209c1d3b"
      },
      "source": [
        "nlp.vocab"
      ],
      "execution_count": null,
      "outputs": [
        {
          "output_type": "execute_result",
          "data": {
            "text/plain": [
              "<spacy.vocab.Vocab at 0x7fdc3cd47b80>"
            ]
          },
          "metadata": {
            "tags": []
          },
          "execution_count": 5
        }
      ]
    },
    {
      "cell_type": "code",
      "metadata": {
        "id": "6yPHzistkIDk",
        "outputId": "36d5fdf4-53ef-4986-a8b0-fab27ce51d67"
      },
      "source": [
        "nlp.vocab[\"ciudad\"]"
      ],
      "execution_count": null,
      "outputs": [
        {
          "output_type": "execute_result",
          "data": {
            "text/plain": [
              "<spacy.lexeme.Lexeme at 0x7fdc3cd78340>"
            ]
          },
          "metadata": {
            "tags": []
          },
          "execution_count": 6
        }
      ]
    },
    {
      "cell_type": "code",
      "metadata": {
        "id": "3BRS8aCDkIDm",
        "outputId": "572af2d7-c4c0-452d-b2d9-a295a473b143"
      },
      "source": [
        "nlp.vocab[\"ciudad\"].text"
      ],
      "execution_count": null,
      "outputs": [
        {
          "output_type": "execute_result",
          "data": {
            "text/plain": [
              "'ciudad'"
            ]
          },
          "metadata": {
            "tags": []
          },
          "execution_count": 7
        }
      ]
    },
    {
      "cell_type": "code",
      "metadata": {
        "id": "6xyb7O3fkIDn",
        "outputId": "e0ad358f-fad9-4c6e-92c9-7c736dd12c07"
      },
      "source": [
        "dir(spacy.lexeme.Lexeme)"
      ],
      "execution_count": null,
      "outputs": [
        {
          "output_type": "execute_result",
          "data": {
            "text/plain": [
              "['__class__',\n",
              " '__delattr__',\n",
              " '__dir__',\n",
              " '__doc__',\n",
              " '__eq__',\n",
              " '__format__',\n",
              " '__ge__',\n",
              " '__getattribute__',\n",
              " '__gt__',\n",
              " '__hash__',\n",
              " '__init__',\n",
              " '__init_subclass__',\n",
              " '__le__',\n",
              " '__lt__',\n",
              " '__ne__',\n",
              " '__new__',\n",
              " '__pyx_vtable__',\n",
              " '__reduce__',\n",
              " '__reduce_ex__',\n",
              " '__repr__',\n",
              " '__setattr__',\n",
              " '__setstate__',\n",
              " '__sizeof__',\n",
              " '__str__',\n",
              " '__subclasshook__',\n",
              " 'check_flag',\n",
              " 'cluster',\n",
              " 'flags',\n",
              " 'has_vector',\n",
              " 'is_alpha',\n",
              " 'is_ascii',\n",
              " 'is_bracket',\n",
              " 'is_currency',\n",
              " 'is_digit',\n",
              " 'is_left_punct',\n",
              " 'is_lower',\n",
              " 'is_oov',\n",
              " 'is_punct',\n",
              " 'is_quote',\n",
              " 'is_right_punct',\n",
              " 'is_space',\n",
              " 'is_stop',\n",
              " 'is_title',\n",
              " 'is_upper',\n",
              " 'lang',\n",
              " 'lang_',\n",
              " 'like_email',\n",
              " 'like_num',\n",
              " 'like_url',\n",
              " 'lower',\n",
              " 'lower_',\n",
              " 'norm',\n",
              " 'norm_',\n",
              " 'orth',\n",
              " 'orth_',\n",
              " 'prefix',\n",
              " 'prefix_',\n",
              " 'prob',\n",
              " 'rank',\n",
              " 'sentiment',\n",
              " 'set_attrs',\n",
              " 'set_flag',\n",
              " 'shape',\n",
              " 'shape_',\n",
              " 'similarity',\n",
              " 'suffix',\n",
              " 'suffix_',\n",
              " 'text',\n",
              " 'vector',\n",
              " 'vector_norm',\n",
              " 'vocab']"
            ]
          },
          "metadata": {
            "tags": []
          },
          "execution_count": 8
        }
      ]
    },
    {
      "cell_type": "code",
      "metadata": {
        "id": "1R43vAs-kIDo",
        "outputId": "c561a221-88a5-453e-b741-aac4cc987bf1"
      },
      "source": [
        "\"albaricoque\" in nlp.vocab"
      ],
      "execution_count": null,
      "outputs": [
        {
          "output_type": "execute_result",
          "data": {
            "text/plain": [
              "False"
            ]
          },
          "metadata": {
            "tags": []
          },
          "execution_count": 9
        }
      ]
    },
    {
      "cell_type": "code",
      "metadata": {
        "id": "Sdt0iYNvkIDp",
        "outputId": "27df5760-9fc4-4f92-9d98-857b8f2bf705"
      },
      "source": [
        "nlp.vocab[\"albaricoque\"]"
      ],
      "execution_count": null,
      "outputs": [
        {
          "output_type": "execute_result",
          "data": {
            "text/plain": [
              "<spacy.lexeme.Lexeme at 0x7fdc3cd75b80>"
            ]
          },
          "metadata": {
            "tags": []
          },
          "execution_count": 10
        }
      ]
    },
    {
      "cell_type": "code",
      "metadata": {
        "id": "JVJiQBkikIDp",
        "outputId": "f2721543-b633-4c6b-db14-325312a0a1b9"
      },
      "source": [
        "\"albaricoque\" in nlp.vocab"
      ],
      "execution_count": null,
      "outputs": [
        {
          "output_type": "execute_result",
          "data": {
            "text/plain": [
              "True"
            ]
          },
          "metadata": {
            "tags": []
          },
          "execution_count": 11
        }
      ]
    },
    {
      "cell_type": "markdown",
      "metadata": {
        "id": "c61b1frHkIDq"
      },
      "source": [
        "## Procesado de texto\n",
        "spaCy ejecuta todos los análisis del texto con una sola instrucción. Esta instrucción ejecuta un *pipeline* (procesado secuencial) que implementa:  \n",
        "\n",
        "- División en tokens  \n",
        "- Lematizado\n",
        "- Análisis gramatical\n",
        "- Análisis de dependencias\n",
        "- *Name Entity Recognition* (NER)"
      ]
    },
    {
      "cell_type": "code",
      "metadata": {
        "id": "uaMuEVqkkIDr"
      },
      "source": [
        "# Ejemplo de texto\n",
        "texto = \"La gata de Juan es muy bonita.\""
      ],
      "execution_count": null,
      "outputs": []
    },
    {
      "cell_type": "markdown",
      "metadata": {
        "id": "VwaWG8yNkIDs"
      },
      "source": [
        "Lo primero que hacemos es analizar el texto y generar un objeto de tipo `Doc`"
      ]
    },
    {
      "cell_type": "code",
      "metadata": {
        "id": "eeVrz1LlkIDs",
        "outputId": "e863d7f9-b08d-4b75-8866-33e6b8f3eb43"
      },
      "source": [
        "doc = nlp(texto)\n",
        "type(doc)"
      ],
      "execution_count": null,
      "outputs": [
        {
          "output_type": "execute_result",
          "data": {
            "text/plain": [
              "spacy.tokens.doc.Doc"
            ]
          },
          "metadata": {
            "tags": []
          },
          "execution_count": 13
        }
      ]
    },
    {
      "cell_type": "markdown",
      "metadata": {
        "id": "0RzUkLy0kIDt"
      },
      "source": [
        "## Exploramos el documento\n",
        "\n",
        "Al analizar un texto, spaCy lo divide en una lista de `tokens`, que se acceden iterando sobre el objeto `Doc`\n"
      ]
    },
    {
      "cell_type": "code",
      "metadata": {
        "id": "sJcx46gNkIDt",
        "outputId": "8fd74f3b-9c6c-464d-81b0-e283427c7b89"
      },
      "source": [
        "[t for t in doc]"
      ],
      "execution_count": null,
      "outputs": [
        {
          "output_type": "execute_result",
          "data": {
            "text/plain": [
              "[La, gata, de, Juan, es, muy, bonita, .]"
            ]
          },
          "metadata": {
            "tags": []
          },
          "execution_count": 14
        }
      ]
    },
    {
      "cell_type": "markdown",
      "metadata": {
        "id": "4Nby5EG7kIDu"
      },
      "source": [
        "Esta división es distinta de la simple división por espacios:"
      ]
    },
    {
      "cell_type": "code",
      "metadata": {
        "id": "V_gj27nGkIDu",
        "outputId": "f166a567-3e91-4647-9598-704c205f3220"
      },
      "source": [
        "texto.split(' ')"
      ],
      "execution_count": null,
      "outputs": [
        {
          "output_type": "execute_result",
          "data": {
            "text/plain": [
              "['La', 'gata', 'de', 'Juan', 'es', 'muy', 'bonita.']"
            ]
          },
          "metadata": {
            "tags": []
          },
          "execution_count": 15
        }
      ]
    },
    {
      "cell_type": "code",
      "metadata": {
        "id": "ukAjkh5ckIDu",
        "outputId": "191a9b13-302e-44cd-d4f3-59c6676ab90d"
      },
      "source": [
        "type(doc[0])"
      ],
      "execution_count": null,
      "outputs": [
        {
          "output_type": "execute_result",
          "data": {
            "text/plain": [
              "spacy.tokens.token.Token"
            ]
          },
          "metadata": {
            "tags": []
          },
          "execution_count": 16
        }
      ]
    },
    {
      "cell_type": "markdown",
      "metadata": {
        "id": "NT4vwB84kIDv"
      },
      "source": [
        "Cada token tiene una serie de atributos:"
      ]
    },
    {
      "cell_type": "code",
      "metadata": {
        "id": "FWXHO5UnkIDv",
        "outputId": "d37718b1-8f9e-4804-91bc-f416c9b767c6"
      },
      "source": [
        "print([prop for prop in dir(spacy.tokens.token.Token) if not prop.startswith('__')])"
      ],
      "execution_count": null,
      "outputs": [
        {
          "output_type": "stream",
          "text": [
            "['_', 'ancestors', 'check_flag', 'children', 'cluster', 'conjuncts', 'dep', 'dep_', 'doc', 'ent_id', 'ent_id_', 'ent_iob', 'ent_iob_', 'ent_kb_id', 'ent_kb_id_', 'ent_type', 'ent_type_', 'get_extension', 'has_dep', 'has_extension', 'has_head', 'has_morph', 'has_vector', 'head', 'i', 'idx', 'iob_strings', 'is_alpha', 'is_ancestor', 'is_ascii', 'is_bracket', 'is_currency', 'is_digit', 'is_left_punct', 'is_lower', 'is_oov', 'is_punct', 'is_quote', 'is_right_punct', 'is_sent_end', 'is_sent_start', 'is_space', 'is_stop', 'is_title', 'is_upper', 'lang', 'lang_', 'left_edge', 'lefts', 'lemma', 'lemma_', 'lex', 'lex_id', 'like_email', 'like_num', 'like_url', 'lower', 'lower_', 'morph', 'n_lefts', 'n_rights', 'nbor', 'norm', 'norm_', 'orth', 'orth_', 'pos', 'pos_', 'prefix', 'prefix_', 'prob', 'rank', 'remove_extension', 'right_edge', 'rights', 'sent', 'sent_start', 'sentiment', 'set_extension', 'set_morph', 'shape', 'shape_', 'similarity', 'subtree', 'suffix', 'suffix_', 'tag', 'tag_', 'tensor', 'text', 'text_with_ws', 'vector', 'vector_norm', 'vocab', 'whitespace_']\n"
          ],
          "name": "stdout"
        }
      ]
    },
    {
      "cell_type": "code",
      "metadata": {
        "id": "CiSjxeb5kIDw",
        "outputId": "4d2f7f92-a7be-4745-93c6-7a61f805005f"
      },
      "source": [
        "doc[0]"
      ],
      "execution_count": null,
      "outputs": [
        {
          "output_type": "execute_result",
          "data": {
            "text/plain": [
              "La"
            ]
          },
          "metadata": {
            "tags": []
          },
          "execution_count": 20
        }
      ]
    },
    {
      "cell_type": "markdown",
      "metadata": {
        "id": "eT3l6e0NkIDw"
      },
      "source": [
        "Lugar en memoria en la que ha guardado la palabra:"
      ]
    },
    {
      "cell_type": "code",
      "metadata": {
        "id": "f8bZwRzokIDw",
        "outputId": "ceeae8aa-d70f-4d63-a652-647b5a7e9d4a"
      },
      "source": [
        "doc[0].orth"
      ],
      "execution_count": null,
      "outputs": [
        {
          "output_type": "execute_result",
          "data": {
            "text/plain": [
              "6239908149323985340"
            ]
          },
          "metadata": {
            "tags": []
          },
          "execution_count": 21
        }
      ]
    },
    {
      "cell_type": "code",
      "metadata": {
        "id": "_gyjxuk7kIDx",
        "outputId": "7cd24195-7afa-464f-fea0-269b5646b0bf"
      },
      "source": [
        "doc[0].tag"
      ],
      "execution_count": null,
      "outputs": [
        {
          "output_type": "execute_result",
          "data": {
            "text/plain": [
              "90"
            ]
          },
          "metadata": {
            "tags": []
          },
          "execution_count": 18
        }
      ]
    },
    {
      "cell_type": "code",
      "metadata": {
        "id": "4RQ3ltMIkIDx",
        "outputId": "ddd7c2ce-f66c-4ecf-f2f0-ec5ec9fa12af"
      },
      "source": [
        "doc[0].tag_"
      ],
      "execution_count": null,
      "outputs": [
        {
          "output_type": "execute_result",
          "data": {
            "text/plain": [
              "'DET'"
            ]
          },
          "metadata": {
            "tags": []
          },
          "execution_count": 19
        }
      ]
    },
    {
      "cell_type": "markdown",
      "metadata": {
        "id": "5oiB-n-pkIDx"
      },
      "source": [
        "'DET' quiere decir que la palabra 'La' en el contexto en el que se encuentra, es un determinante (análisis morfológico)"
      ]
    },
    {
      "cell_type": "markdown",
      "metadata": {
        "id": "3MuW9yeAkIDx"
      },
      "source": [
        "Cada propiedad tiene dos atributos:  \n",
        "- `propiedad`: ID único o *hash* que identifica el valor en un diccionario común a todos los Docs (Vocab)\n",
        "- `propiedad_`: valor de la propiedad  "
      ]
    },
    {
      "cell_type": "code",
      "metadata": {
        "id": "LrM6g7J6kIDy",
        "outputId": "70a8313c-4e59-4c7e-fad4-3f579599dae1"
      },
      "source": [
        "nlp.vocab.strings[doc[0].tag]"
      ],
      "execution_count": null,
      "outputs": [
        {
          "output_type": "execute_result",
          "data": {
            "text/plain": [
              "'DET'"
            ]
          },
          "metadata": {
            "tags": []
          },
          "execution_count": 23
        }
      ]
    },
    {
      "cell_type": "markdown",
      "metadata": {
        "id": "dl65NEoLkIDy"
      },
      "source": [
        "Veamos los atributos de algunos de los tokens:"
      ]
    },
    {
      "cell_type": "code",
      "metadata": {
        "id": "BBissdydkIDz",
        "outputId": "187cf495-00c8-47db-bc59-a15def52d2ea"
      },
      "source": [
        "token=doc[3]\n",
        "print(\"TOKEN:\", token)\n",
        "print(\"original:\", token.orth, token.orth_)\n",
        "print(\"lowercased:\", token.lower, token.lower_)\n",
        "print(\"lemma:\", token.lemma, token.lemma_)\n",
        "print(\"shape:\", token.shape, token.shape_)\n",
        "print(\"prefix:\", token.prefix, token.prefix_)\n",
        "print(\"suffix:\", token.suffix, token.suffix_)\n",
        "print(\"log probability:\", token.prob)\n",
        "print(\"Brown cluster id:\", token.cluster)\n",
        "print(\"POS:\", token.pos, token.pos_)\n",
        "print(\"tag:\", token.tag, token.tag_)\n",
        "print(\"morphology:\", token.morph)\n",
        "print(\"Dependency parsing:\", token.dep, token.dep_)\n"
      ],
      "execution_count": null,
      "outputs": [
        {
          "output_type": "stream",
          "text": [
            "TOKEN: Juan\n",
            "original: 12079884900455715477 Juan\n",
            "lowercased: 5414139780887730998 juan\n",
            "lemma: 12079884900455715477 Juan\n",
            "shape: 10887629174180191697 Xxxx\n",
            "prefix: 18003918085672799305 J\n",
            "suffix: 15055317959408037229 uan\n",
            "log probability: -20.0\n",
            "Brown cluster id: 0\n",
            "POS: 96 PROPN\n",
            "tag: 96 PROPN\n",
            "morphology: \n",
            "Dependency parsing: 426 nmod\n"
          ],
          "name": "stdout"
        }
      ]
    },
    {
      "cell_type": "markdown",
      "metadata": {
        "id": "Zk_A4Q2-kIDz"
      },
      "source": [
        "Las propiedades más importantes son (https://spacy.io/api/token#attributes):  \n",
        "* `orth_`: texto del token\n",
        "* `lemma_`: lema (palabra base)\n",
        "* `shape_`: forma ortográfica del token\n",
        "* `pos_`: Part-of-Speech (genérico)\n",
        "* `tag_`: POS detallado\n",
        "* `morph`: Análisis morfológico\n",
        "* `dep_`: Tipo de dependencia del token (análisis de dependencias)"
      ]
    },
    {
      "cell_type": "code",
      "metadata": {
        "id": "zh9xa2FckIDz",
        "outputId": "809fafe7-d506-4e4e-a3db-567df4dbb9c0"
      },
      "source": [
        "pd.set_option('display.max_colwidth', None)\n",
        "\n",
        "datos = map(lambda t: {'token': t.orth_,\n",
        "                       'lema': t.lemma_,\n",
        "                       'shape': t.shape_,\n",
        "                       'POS': t.pos_,\n",
        "                       'TAG': t.tag_,\n",
        "                       'Descripción TAG': spacy.explain(t.tag_),\n",
        "                       'dependencia': t.dep_,\n",
        "                       'Descripción dep': spacy.explain(t.dep_),\n",
        "                       'Morfología': t.morph}, doc)\n",
        "\n",
        "pd.DataFrame(datos)"
      ],
      "execution_count": null,
      "outputs": [
        {
          "output_type": "execute_result",
          "data": {
            "text/html": [
              "<div>\n",
              "<style scoped>\n",
              "    .dataframe tbody tr th:only-of-type {\n",
              "        vertical-align: middle;\n",
              "    }\n",
              "\n",
              "    .dataframe tbody tr th {\n",
              "        vertical-align: top;\n",
              "    }\n",
              "\n",
              "    .dataframe thead th {\n",
              "        text-align: right;\n",
              "    }\n",
              "</style>\n",
              "<table border=\"1\" class=\"dataframe\">\n",
              "  <thead>\n",
              "    <tr style=\"text-align: right;\">\n",
              "      <th></th>\n",
              "      <th>token</th>\n",
              "      <th>lema</th>\n",
              "      <th>shape</th>\n",
              "      <th>POS</th>\n",
              "      <th>TAG</th>\n",
              "      <th>Descripción TAG</th>\n",
              "      <th>dependencia</th>\n",
              "      <th>Descripción dep</th>\n",
              "      <th>Morfología</th>\n",
              "    </tr>\n",
              "  </thead>\n",
              "  <tbody>\n",
              "    <tr>\n",
              "      <th>0</th>\n",
              "      <td>La</td>\n",
              "      <td>el</td>\n",
              "      <td>Xx</td>\n",
              "      <td>DET</td>\n",
              "      <td>DET</td>\n",
              "      <td>determiner</td>\n",
              "      <td>det</td>\n",
              "      <td>determiner</td>\n",
              "      <td>(Definite=Def, Gender=Fem, Number=Sing, PronType=Art)</td>\n",
              "    </tr>\n",
              "    <tr>\n",
              "      <th>1</th>\n",
              "      <td>gata</td>\n",
              "      <td>gata</td>\n",
              "      <td>xxxx</td>\n",
              "      <td>NOUN</td>\n",
              "      <td>NOUN</td>\n",
              "      <td>noun</td>\n",
              "      <td>nsubj</td>\n",
              "      <td>nominal subject</td>\n",
              "      <td>(Gender=Fem, Number=Sing)</td>\n",
              "    </tr>\n",
              "    <tr>\n",
              "      <th>2</th>\n",
              "      <td>de</td>\n",
              "      <td>de</td>\n",
              "      <td>xx</td>\n",
              "      <td>ADP</td>\n",
              "      <td>ADP</td>\n",
              "      <td>adposition</td>\n",
              "      <td>case</td>\n",
              "      <td>case marking</td>\n",
              "      <td>(AdpType=Prep)</td>\n",
              "    </tr>\n",
              "    <tr>\n",
              "      <th>3</th>\n",
              "      <td>Juan</td>\n",
              "      <td>Juan</td>\n",
              "      <td>Xxxx</td>\n",
              "      <td>PROPN</td>\n",
              "      <td>PROPN</td>\n",
              "      <td>proper noun</td>\n",
              "      <td>nmod</td>\n",
              "      <td>modifier of nominal</td>\n",
              "      <td>()</td>\n",
              "    </tr>\n",
              "    <tr>\n",
              "      <th>4</th>\n",
              "      <td>es</td>\n",
              "      <td>ser</td>\n",
              "      <td>xx</td>\n",
              "      <td>AUX</td>\n",
              "      <td>AUX</td>\n",
              "      <td>auxiliary</td>\n",
              "      <td>cop</td>\n",
              "      <td>copula</td>\n",
              "      <td>(Mood=Ind, Number=Sing, Person=3, Tense=Pres, VerbForm=Fin)</td>\n",
              "    </tr>\n",
              "    <tr>\n",
              "      <th>5</th>\n",
              "      <td>muy</td>\n",
              "      <td>mucho</td>\n",
              "      <td>xxx</td>\n",
              "      <td>ADV</td>\n",
              "      <td>ADV</td>\n",
              "      <td>adverb</td>\n",
              "      <td>advmod</td>\n",
              "      <td>adverbial modifier</td>\n",
              "      <td>()</td>\n",
              "    </tr>\n",
              "    <tr>\n",
              "      <th>6</th>\n",
              "      <td>bonita</td>\n",
              "      <td>bonito</td>\n",
              "      <td>xxxx</td>\n",
              "      <td>ADJ</td>\n",
              "      <td>ADJ</td>\n",
              "      <td>adjective</td>\n",
              "      <td>ROOT</td>\n",
              "      <td>None</td>\n",
              "      <td>(Gender=Fem, Number=Sing)</td>\n",
              "    </tr>\n",
              "    <tr>\n",
              "      <th>7</th>\n",
              "      <td>.</td>\n",
              "      <td>.</td>\n",
              "      <td>.</td>\n",
              "      <td>PUNCT</td>\n",
              "      <td>PUNCT</td>\n",
              "      <td>punctuation</td>\n",
              "      <td>punct</td>\n",
              "      <td>punctuation</td>\n",
              "      <td>(PunctType=Peri)</td>\n",
              "    </tr>\n",
              "  </tbody>\n",
              "</table>\n",
              "</div>"
            ],
            "text/plain": [
              "    token    lema shape    POS    TAG Descripción TAG dependencia  \\\n",
              "0      La      el    Xx    DET    DET      determiner         det   \n",
              "1    gata    gata  xxxx   NOUN   NOUN            noun       nsubj   \n",
              "2      de      de    xx    ADP    ADP      adposition        case   \n",
              "3    Juan    Juan  Xxxx  PROPN  PROPN     proper noun        nmod   \n",
              "4      es     ser    xx    AUX    AUX       auxiliary         cop   \n",
              "5     muy   mucho   xxx    ADV    ADV          adverb      advmod   \n",
              "6  bonita  bonito  xxxx    ADJ    ADJ       adjective        ROOT   \n",
              "7       .       .     .  PUNCT  PUNCT     punctuation       punct   \n",
              "\n",
              "       Descripción dep  \\\n",
              "0           determiner   \n",
              "1      nominal subject   \n",
              "2         case marking   \n",
              "3  modifier of nominal   \n",
              "4               copula   \n",
              "5   adverbial modifier   \n",
              "6                 None   \n",
              "7          punctuation   \n",
              "\n",
              "                                                    Morfología  \n",
              "0        (Definite=Def, Gender=Fem, Number=Sing, PronType=Art)  \n",
              "1                                    (Gender=Fem, Number=Sing)  \n",
              "2                                               (AdpType=Prep)  \n",
              "3                                                           ()  \n",
              "4  (Mood=Ind, Number=Sing, Person=3, Tense=Pres, VerbForm=Fin)  \n",
              "5                                                           ()  \n",
              "6                                    (Gender=Fem, Number=Sing)  \n",
              "7                                             (PunctType=Peri)  "
            ]
          },
          "metadata": {
            "tags": []
          },
          "execution_count": 24
        }
      ]
    },
    {
      "cell_type": "markdown",
      "metadata": {
        "id": "I9ZG4rrvkID0"
      },
      "source": [
        "### Diferencia entre token y lexema"
      ]
    },
    {
      "cell_type": "code",
      "metadata": {
        "id": "4rTgdKfSkID0",
        "outputId": "03b76892-0ee7-47b3-e303-b0b53914e96e"
      },
      "source": [
        "parsedData = nlp(\"Me he cansado de estar cansado\")\n",
        "datos = map(lambda t: {'token': t.orth_,\n",
        "                       'lema': t.lemma_,\n",
        "                       'shape': t.shape_,\n",
        "                       'POS': t.pos_,\n",
        "                       'POS detallado': t.tag_,\n",
        "                       'dependencia': t.dep_,\n",
        "                       'Descripción dep': spacy.explain(t.dep_)},\n",
        "                        parsedData)\n",
        "\n",
        "pd.DataFrame(datos)"
      ],
      "execution_count": null,
      "outputs": [
        {
          "output_type": "execute_result",
          "data": {
            "text/html": [
              "<div>\n",
              "<style scoped>\n",
              "    .dataframe tbody tr th:only-of-type {\n",
              "        vertical-align: middle;\n",
              "    }\n",
              "\n",
              "    .dataframe tbody tr th {\n",
              "        vertical-align: top;\n",
              "    }\n",
              "\n",
              "    .dataframe thead th {\n",
              "        text-align: right;\n",
              "    }\n",
              "</style>\n",
              "<table border=\"1\" class=\"dataframe\">\n",
              "  <thead>\n",
              "    <tr style=\"text-align: right;\">\n",
              "      <th></th>\n",
              "      <th>token</th>\n",
              "      <th>lema</th>\n",
              "      <th>shape</th>\n",
              "      <th>POS</th>\n",
              "      <th>POS detallado</th>\n",
              "      <th>dependencia</th>\n",
              "      <th>Descripción dep</th>\n",
              "    </tr>\n",
              "  </thead>\n",
              "  <tbody>\n",
              "    <tr>\n",
              "      <th>0</th>\n",
              "      <td>Me</td>\n",
              "      <td>yo</td>\n",
              "      <td>Xx</td>\n",
              "      <td>PRON</td>\n",
              "      <td>PRON</td>\n",
              "      <td>iobj</td>\n",
              "      <td>indirect object</td>\n",
              "    </tr>\n",
              "    <tr>\n",
              "      <th>1</th>\n",
              "      <td>he</td>\n",
              "      <td>haber</td>\n",
              "      <td>xx</td>\n",
              "      <td>AUX</td>\n",
              "      <td>AUX</td>\n",
              "      <td>aux</td>\n",
              "      <td>auxiliary</td>\n",
              "    </tr>\n",
              "    <tr>\n",
              "      <th>2</th>\n",
              "      <td>cansado</td>\n",
              "      <td>cansar</td>\n",
              "      <td>xxxx</td>\n",
              "      <td>VERB</td>\n",
              "      <td>VERB</td>\n",
              "      <td>ROOT</td>\n",
              "      <td>None</td>\n",
              "    </tr>\n",
              "    <tr>\n",
              "      <th>3</th>\n",
              "      <td>de</td>\n",
              "      <td>de</td>\n",
              "      <td>xx</td>\n",
              "      <td>ADP</td>\n",
              "      <td>ADP</td>\n",
              "      <td>case</td>\n",
              "      <td>case marking</td>\n",
              "    </tr>\n",
              "    <tr>\n",
              "      <th>4</th>\n",
              "      <td>estar</td>\n",
              "      <td>estar</td>\n",
              "      <td>xxxx</td>\n",
              "      <td>AUX</td>\n",
              "      <td>AUX</td>\n",
              "      <td>aux</td>\n",
              "      <td>auxiliary</td>\n",
              "    </tr>\n",
              "    <tr>\n",
              "      <th>5</th>\n",
              "      <td>cansado</td>\n",
              "      <td>cansado</td>\n",
              "      <td>xxxx</td>\n",
              "      <td>ADJ</td>\n",
              "      <td>ADJ</td>\n",
              "      <td>xcomp</td>\n",
              "      <td>open clausal complement</td>\n",
              "    </tr>\n",
              "  </tbody>\n",
              "</table>\n",
              "</div>"
            ],
            "text/plain": [
              "     token     lema shape   POS POS detallado dependencia  \\\n",
              "0       Me       yo    Xx  PRON          PRON        iobj   \n",
              "1       he    haber    xx   AUX           AUX         aux   \n",
              "2  cansado   cansar  xxxx  VERB          VERB        ROOT   \n",
              "3       de       de    xx   ADP           ADP        case   \n",
              "4    estar    estar  xxxx   AUX           AUX         aux   \n",
              "5  cansado  cansado  xxxx   ADJ           ADJ       xcomp   \n",
              "\n",
              "           Descripción dep  \n",
              "0          indirect object  \n",
              "1                auxiliary  \n",
              "2                     None  \n",
              "3             case marking  \n",
              "4                auxiliary  \n",
              "5  open clausal complement  "
            ]
          },
          "metadata": {
            "tags": []
          },
          "execution_count": 25
        }
      ]
    },
    {
      "cell_type": "code",
      "metadata": {
        "id": "pWTLrgoGkID1",
        "outputId": "c4a8de52-a9d1-4946-b7a8-84c2d41a9fcf"
      },
      "source": [
        "parsedData[2]"
      ],
      "execution_count": null,
      "outputs": [
        {
          "output_type": "execute_result",
          "data": {
            "text/plain": [
              "cansado"
            ]
          },
          "metadata": {
            "tags": []
          },
          "execution_count": 26
        }
      ]
    },
    {
      "cell_type": "code",
      "metadata": {
        "id": "AqpehSX9kID1",
        "outputId": "5ea0e055-eb28-492a-9895-8d7c161ed080"
      },
      "source": [
        "parsedData[5]"
      ],
      "execution_count": null,
      "outputs": [
        {
          "output_type": "execute_result",
          "data": {
            "text/plain": [
              "cansado"
            ]
          },
          "metadata": {
            "tags": []
          },
          "execution_count": 27
        }
      ]
    },
    {
      "cell_type": "code",
      "metadata": {
        "id": "qaffCal7kID1",
        "outputId": "a06b3205-3e8b-410f-ccda-a2fa234dc653"
      },
      "source": [
        "parsedData[2]==parsedData[5]"
      ],
      "execution_count": null,
      "outputs": [
        {
          "output_type": "execute_result",
          "data": {
            "text/plain": [
              "False"
            ]
          },
          "metadata": {
            "tags": []
          },
          "execution_count": 28
        }
      ]
    },
    {
      "cell_type": "code",
      "metadata": {
        "id": "m4oaZFQmkID2",
        "outputId": "277170b0-2bed-4056-fffe-dd1a9aebdec3"
      },
      "source": [
        "parsedData[2].orth"
      ],
      "execution_count": null,
      "outputs": [
        {
          "output_type": "execute_result",
          "data": {
            "text/plain": [
              "13205991698470524012"
            ]
          },
          "metadata": {
            "tags": []
          },
          "execution_count": 29
        }
      ]
    },
    {
      "cell_type": "code",
      "metadata": {
        "id": "6sywn-MakID3",
        "outputId": "61bf746b-1036-4f4e-afba-f56f07718113"
      },
      "source": [
        "nlp.vocab.strings[parsedData[2].orth]"
      ],
      "execution_count": null,
      "outputs": [
        {
          "output_type": "execute_result",
          "data": {
            "text/plain": [
              "'cansado'"
            ]
          },
          "metadata": {
            "tags": []
          },
          "execution_count": 30
        }
      ]
    },
    {
      "cell_type": "code",
      "metadata": {
        "id": "eTnpapIYkIEB",
        "outputId": "cc168fef-eca2-4482-f6e4-0a90e33e9378"
      },
      "source": [
        "parsedData[2].orth==parsedData[5].orth"
      ],
      "execution_count": null,
      "outputs": [
        {
          "output_type": "execute_result",
          "data": {
            "text/plain": [
              "True"
            ]
          },
          "metadata": {
            "tags": []
          },
          "execution_count": 31
        }
      ]
    },
    {
      "cell_type": "markdown",
      "metadata": {
        "id": "nZ7xLZgBkIEB"
      },
      "source": [
        "## Análisis gramatical\n",
        "Los documentos SpaCy también dividen en texto en oraciones (*sentences*) que son objetos del tipo `spacy.tokens.span.Span`. Podemos iterar con el generador `doc.sents` usando `next()`, `list()`, un bucle o con una comprensión de lista."
      ]
    },
    {
      "cell_type": "code",
      "metadata": {
        "id": "Lns5J9IIkIEC"
      },
      "source": [
        "texto = \"Al Sr. Daniel siempre le gustaron las catedrales. La de su ciudad era tan alta, \\\n",
        "que al mirarla desde su pequeña estatura, tenía que torcer el cuello de tal forma que \\\n",
        "le costaba no marearse. Lo que más temía era que sus pies se despegasen de la tierra \\\n",
        "y la Catedral le arrastrara con ella hasta los cielos. Aun así, un espíritu \\\n",
        "aventurero le llevaba cada tarde hasta la Plaza Mayor.\"\n",
        "doc = nlp(texto)"
      ],
      "execution_count": null,
      "outputs": []
    },
    {
      "cell_type": "code",
      "metadata": {
        "id": "zOGIbl5dkIEC",
        "outputId": "653b0154-a78e-491d-c609-f158c05ae35f"
      },
      "source": [
        "datos = map(lambda t: {'token': t.orth_,\n",
        "                       'lema': t.lemma_,\n",
        "                       'shape': t.shape_,\n",
        "                       'POS': t.pos_,\n",
        "                       'POS detallado': t.tag_,\n",
        "                       'dependencia': t.dep_,\n",
        "                       'Descripción dep': spacy.explain(t.dep_)},\n",
        "                        doc)\n",
        "\n",
        "pd.DataFrame(datos).head(60)"
      ],
      "execution_count": null,
      "outputs": [
        {
          "output_type": "execute_result",
          "data": {
            "text/html": [
              "<div>\n",
              "<style scoped>\n",
              "    .dataframe tbody tr th:only-of-type {\n",
              "        vertical-align: middle;\n",
              "    }\n",
              "\n",
              "    .dataframe tbody tr th {\n",
              "        vertical-align: top;\n",
              "    }\n",
              "\n",
              "    .dataframe thead th {\n",
              "        text-align: right;\n",
              "    }\n",
              "</style>\n",
              "<table border=\"1\" class=\"dataframe\">\n",
              "  <thead>\n",
              "    <tr style=\"text-align: right;\">\n",
              "      <th></th>\n",
              "      <th>token</th>\n",
              "      <th>lema</th>\n",
              "      <th>shape</th>\n",
              "      <th>POS</th>\n",
              "      <th>POS detallado</th>\n",
              "      <th>dependencia</th>\n",
              "      <th>Descripción dep</th>\n",
              "    </tr>\n",
              "  </thead>\n",
              "  <tbody>\n",
              "    <tr>\n",
              "      <th>0</th>\n",
              "      <td>Al</td>\n",
              "      <td>al</td>\n",
              "      <td>Xx</td>\n",
              "      <td>ADP</td>\n",
              "      <td>ADP</td>\n",
              "      <td>case</td>\n",
              "      <td>case marking</td>\n",
              "    </tr>\n",
              "    <tr>\n",
              "      <th>1</th>\n",
              "      <td>Sr.</td>\n",
              "      <td>Sr.</td>\n",
              "      <td>Xx.</td>\n",
              "      <td>PROPN</td>\n",
              "      <td>PROPN</td>\n",
              "      <td>obj</td>\n",
              "      <td>object</td>\n",
              "    </tr>\n",
              "    <tr>\n",
              "      <th>2</th>\n",
              "      <td>Daniel</td>\n",
              "      <td>Daniel</td>\n",
              "      <td>Xxxxx</td>\n",
              "      <td>PROPN</td>\n",
              "      <td>PROPN</td>\n",
              "      <td>flat</td>\n",
              "      <td>flat multiword expression</td>\n",
              "    </tr>\n",
              "    <tr>\n",
              "      <th>3</th>\n",
              "      <td>siempre</td>\n",
              "      <td>siempre</td>\n",
              "      <td>xxxx</td>\n",
              "      <td>ADV</td>\n",
              "      <td>ADV</td>\n",
              "      <td>advmod</td>\n",
              "      <td>adverbial modifier</td>\n",
              "    </tr>\n",
              "    <tr>\n",
              "      <th>4</th>\n",
              "      <td>le</td>\n",
              "      <td>él</td>\n",
              "      <td>xx</td>\n",
              "      <td>PRON</td>\n",
              "      <td>PRON</td>\n",
              "      <td>obj</td>\n",
              "      <td>object</td>\n",
              "    </tr>\n",
              "    <tr>\n",
              "      <th>5</th>\n",
              "      <td>gustaron</td>\n",
              "      <td>gustar</td>\n",
              "      <td>xxxx</td>\n",
              "      <td>VERB</td>\n",
              "      <td>VERB</td>\n",
              "      <td>ROOT</td>\n",
              "      <td>None</td>\n",
              "    </tr>\n",
              "    <tr>\n",
              "      <th>6</th>\n",
              "      <td>las</td>\n",
              "      <td>el</td>\n",
              "      <td>xxx</td>\n",
              "      <td>DET</td>\n",
              "      <td>DET</td>\n",
              "      <td>det</td>\n",
              "      <td>determiner</td>\n",
              "    </tr>\n",
              "    <tr>\n",
              "      <th>7</th>\n",
              "      <td>catedrales</td>\n",
              "      <td>catedral</td>\n",
              "      <td>xxxx</td>\n",
              "      <td>NOUN</td>\n",
              "      <td>NOUN</td>\n",
              "      <td>obj</td>\n",
              "      <td>object</td>\n",
              "    </tr>\n",
              "    <tr>\n",
              "      <th>8</th>\n",
              "      <td>.</td>\n",
              "      <td>.</td>\n",
              "      <td>.</td>\n",
              "      <td>PUNCT</td>\n",
              "      <td>PUNCT</td>\n",
              "      <td>punct</td>\n",
              "      <td>punctuation</td>\n",
              "    </tr>\n",
              "    <tr>\n",
              "      <th>9</th>\n",
              "      <td>La</td>\n",
              "      <td>el</td>\n",
              "      <td>Xx</td>\n",
              "      <td>DET</td>\n",
              "      <td>DET</td>\n",
              "      <td>mark</td>\n",
              "      <td>marker</td>\n",
              "    </tr>\n",
              "    <tr>\n",
              "      <th>10</th>\n",
              "      <td>de</td>\n",
              "      <td>de</td>\n",
              "      <td>xx</td>\n",
              "      <td>ADP</td>\n",
              "      <td>ADP</td>\n",
              "      <td>case</td>\n",
              "      <td>case marking</td>\n",
              "    </tr>\n",
              "    <tr>\n",
              "      <th>11</th>\n",
              "      <td>su</td>\n",
              "      <td>su</td>\n",
              "      <td>xx</td>\n",
              "      <td>DET</td>\n",
              "      <td>DET</td>\n",
              "      <td>det</td>\n",
              "      <td>determiner</td>\n",
              "    </tr>\n",
              "    <tr>\n",
              "      <th>12</th>\n",
              "      <td>ciudad</td>\n",
              "      <td>ciudad</td>\n",
              "      <td>xxxx</td>\n",
              "      <td>NOUN</td>\n",
              "      <td>NOUN</td>\n",
              "      <td>nsubj</td>\n",
              "      <td>nominal subject</td>\n",
              "    </tr>\n",
              "    <tr>\n",
              "      <th>13</th>\n",
              "      <td>era</td>\n",
              "      <td>ser</td>\n",
              "      <td>xxx</td>\n",
              "      <td>AUX</td>\n",
              "      <td>AUX</td>\n",
              "      <td>cop</td>\n",
              "      <td>copula</td>\n",
              "    </tr>\n",
              "    <tr>\n",
              "      <th>14</th>\n",
              "      <td>tan</td>\n",
              "      <td>tanto</td>\n",
              "      <td>xxx</td>\n",
              "      <td>ADV</td>\n",
              "      <td>ADV</td>\n",
              "      <td>advmod</td>\n",
              "      <td>adverbial modifier</td>\n",
              "    </tr>\n",
              "    <tr>\n",
              "      <th>15</th>\n",
              "      <td>alta</td>\n",
              "      <td>alto</td>\n",
              "      <td>xxxx</td>\n",
              "      <td>ADJ</td>\n",
              "      <td>ADJ</td>\n",
              "      <td>ROOT</td>\n",
              "      <td>None</td>\n",
              "    </tr>\n",
              "    <tr>\n",
              "      <th>16</th>\n",
              "      <td>,</td>\n",
              "      <td>,</td>\n",
              "      <td>,</td>\n",
              "      <td>PUNCT</td>\n",
              "      <td>PUNCT</td>\n",
              "      <td>punct</td>\n",
              "      <td>punctuation</td>\n",
              "    </tr>\n",
              "    <tr>\n",
              "      <th>17</th>\n",
              "      <td>que</td>\n",
              "      <td>que</td>\n",
              "      <td>xxx</td>\n",
              "      <td>SCONJ</td>\n",
              "      <td>SCONJ</td>\n",
              "      <td>mark</td>\n",
              "      <td>marker</td>\n",
              "    </tr>\n",
              "    <tr>\n",
              "      <th>18</th>\n",
              "      <td>al</td>\n",
              "      <td>al</td>\n",
              "      <td>xx</td>\n",
              "      <td>ADP</td>\n",
              "      <td>ADP</td>\n",
              "      <td>mark</td>\n",
              "      <td>marker</td>\n",
              "    </tr>\n",
              "    <tr>\n",
              "      <th>19</th>\n",
              "      <td>mirarla</td>\n",
              "      <td>mirar él</td>\n",
              "      <td>xxxx</td>\n",
              "      <td>VERB</td>\n",
              "      <td>VERB</td>\n",
              "      <td>obl</td>\n",
              "      <td>oblique nominal</td>\n",
              "    </tr>\n",
              "    <tr>\n",
              "      <th>20</th>\n",
              "      <td>desde</td>\n",
              "      <td>desde</td>\n",
              "      <td>xxxx</td>\n",
              "      <td>ADP</td>\n",
              "      <td>ADP</td>\n",
              "      <td>case</td>\n",
              "      <td>case marking</td>\n",
              "    </tr>\n",
              "    <tr>\n",
              "      <th>21</th>\n",
              "      <td>su</td>\n",
              "      <td>su</td>\n",
              "      <td>xx</td>\n",
              "      <td>DET</td>\n",
              "      <td>DET</td>\n",
              "      <td>det</td>\n",
              "      <td>determiner</td>\n",
              "    </tr>\n",
              "    <tr>\n",
              "      <th>22</th>\n",
              "      <td>pequeña</td>\n",
              "      <td>pequeño</td>\n",
              "      <td>xxxx</td>\n",
              "      <td>ADJ</td>\n",
              "      <td>ADJ</td>\n",
              "      <td>amod</td>\n",
              "      <td>adjectival modifier</td>\n",
              "    </tr>\n",
              "    <tr>\n",
              "      <th>23</th>\n",
              "      <td>estatura</td>\n",
              "      <td>estatura</td>\n",
              "      <td>xxxx</td>\n",
              "      <td>NOUN</td>\n",
              "      <td>NOUN</td>\n",
              "      <td>obl</td>\n",
              "      <td>oblique nominal</td>\n",
              "    </tr>\n",
              "    <tr>\n",
              "      <th>24</th>\n",
              "      <td>,</td>\n",
              "      <td>,</td>\n",
              "      <td>,</td>\n",
              "      <td>PUNCT</td>\n",
              "      <td>PUNCT</td>\n",
              "      <td>punct</td>\n",
              "      <td>punctuation</td>\n",
              "    </tr>\n",
              "    <tr>\n",
              "      <th>25</th>\n",
              "      <td>tenía</td>\n",
              "      <td>tener</td>\n",
              "      <td>xxxx</td>\n",
              "      <td>VERB</td>\n",
              "      <td>VERB</td>\n",
              "      <td>advcl</td>\n",
              "      <td>adverbial clause modifier</td>\n",
              "    </tr>\n",
              "    <tr>\n",
              "      <th>26</th>\n",
              "      <td>que</td>\n",
              "      <td>que</td>\n",
              "      <td>xxx</td>\n",
              "      <td>SCONJ</td>\n",
              "      <td>SCONJ</td>\n",
              "      <td>cc</td>\n",
              "      <td>coordinating conjunction</td>\n",
              "    </tr>\n",
              "    <tr>\n",
              "      <th>27</th>\n",
              "      <td>torcer</td>\n",
              "      <td>torcer</td>\n",
              "      <td>xxxx</td>\n",
              "      <td>VERB</td>\n",
              "      <td>VERB</td>\n",
              "      <td>conj</td>\n",
              "      <td>conjunct</td>\n",
              "    </tr>\n",
              "    <tr>\n",
              "      <th>28</th>\n",
              "      <td>el</td>\n",
              "      <td>el</td>\n",
              "      <td>xx</td>\n",
              "      <td>DET</td>\n",
              "      <td>DET</td>\n",
              "      <td>det</td>\n",
              "      <td>determiner</td>\n",
              "    </tr>\n",
              "    <tr>\n",
              "      <th>29</th>\n",
              "      <td>cuello</td>\n",
              "      <td>cuello</td>\n",
              "      <td>xxxx</td>\n",
              "      <td>NOUN</td>\n",
              "      <td>NOUN</td>\n",
              "      <td>obj</td>\n",
              "      <td>object</td>\n",
              "    </tr>\n",
              "    <tr>\n",
              "      <th>30</th>\n",
              "      <td>de</td>\n",
              "      <td>de</td>\n",
              "      <td>xx</td>\n",
              "      <td>ADP</td>\n",
              "      <td>ADP</td>\n",
              "      <td>case</td>\n",
              "      <td>case marking</td>\n",
              "    </tr>\n",
              "    <tr>\n",
              "      <th>31</th>\n",
              "      <td>tal</td>\n",
              "      <td>tal</td>\n",
              "      <td>xxx</td>\n",
              "      <td>DET</td>\n",
              "      <td>DET</td>\n",
              "      <td>det</td>\n",
              "      <td>determiner</td>\n",
              "    </tr>\n",
              "    <tr>\n",
              "      <th>32</th>\n",
              "      <td>forma</td>\n",
              "      <td>forma</td>\n",
              "      <td>xxxx</td>\n",
              "      <td>NOUN</td>\n",
              "      <td>NOUN</td>\n",
              "      <td>nmod</td>\n",
              "      <td>modifier of nominal</td>\n",
              "    </tr>\n",
              "    <tr>\n",
              "      <th>33</th>\n",
              "      <td>que</td>\n",
              "      <td>que</td>\n",
              "      <td>xxx</td>\n",
              "      <td>SCONJ</td>\n",
              "      <td>SCONJ</td>\n",
              "      <td>mark</td>\n",
              "      <td>marker</td>\n",
              "    </tr>\n",
              "    <tr>\n",
              "      <th>34</th>\n",
              "      <td>le</td>\n",
              "      <td>él</td>\n",
              "      <td>xx</td>\n",
              "      <td>PRON</td>\n",
              "      <td>PRON</td>\n",
              "      <td>obj</td>\n",
              "      <td>object</td>\n",
              "    </tr>\n",
              "    <tr>\n",
              "      <th>35</th>\n",
              "      <td>costaba</td>\n",
              "      <td>costar</td>\n",
              "      <td>xxxx</td>\n",
              "      <td>VERB</td>\n",
              "      <td>VERB</td>\n",
              "      <td>acl</td>\n",
              "      <td>clausal modifier of noun (adjectival clause)</td>\n",
              "    </tr>\n",
              "    <tr>\n",
              "      <th>36</th>\n",
              "      <td>no</td>\n",
              "      <td>no</td>\n",
              "      <td>xx</td>\n",
              "      <td>ADV</td>\n",
              "      <td>ADV</td>\n",
              "      <td>advmod</td>\n",
              "      <td>adverbial modifier</td>\n",
              "    </tr>\n",
              "    <tr>\n",
              "      <th>37</th>\n",
              "      <td>marearse</td>\n",
              "      <td>marear él</td>\n",
              "      <td>xxxx</td>\n",
              "      <td>VERB</td>\n",
              "      <td>VERB</td>\n",
              "      <td>advcl</td>\n",
              "      <td>adverbial clause modifier</td>\n",
              "    </tr>\n",
              "    <tr>\n",
              "      <th>38</th>\n",
              "      <td>.</td>\n",
              "      <td>.</td>\n",
              "      <td>.</td>\n",
              "      <td>PUNCT</td>\n",
              "      <td>PUNCT</td>\n",
              "      <td>punct</td>\n",
              "      <td>punctuation</td>\n",
              "    </tr>\n",
              "    <tr>\n",
              "      <th>39</th>\n",
              "      <td>Lo</td>\n",
              "      <td>él</td>\n",
              "      <td>Xx</td>\n",
              "      <td>PRON</td>\n",
              "      <td>PRON</td>\n",
              "      <td>det</td>\n",
              "      <td>determiner</td>\n",
              "    </tr>\n",
              "    <tr>\n",
              "      <th>40</th>\n",
              "      <td>que</td>\n",
              "      <td>que</td>\n",
              "      <td>xxx</td>\n",
              "      <td>PRON</td>\n",
              "      <td>PRON</td>\n",
              "      <td>nsubj</td>\n",
              "      <td>nominal subject</td>\n",
              "    </tr>\n",
              "    <tr>\n",
              "      <th>41</th>\n",
              "      <td>más</td>\n",
              "      <td>más</td>\n",
              "      <td>xxx</td>\n",
              "      <td>ADV</td>\n",
              "      <td>ADV</td>\n",
              "      <td>advmod</td>\n",
              "      <td>adverbial modifier</td>\n",
              "    </tr>\n",
              "    <tr>\n",
              "      <th>42</th>\n",
              "      <td>temía</td>\n",
              "      <td>temío</td>\n",
              "      <td>xxxx</td>\n",
              "      <td>ADJ</td>\n",
              "      <td>ADJ</td>\n",
              "      <td>csubj</td>\n",
              "      <td>clausal subject</td>\n",
              "    </tr>\n",
              "    <tr>\n",
              "      <th>43</th>\n",
              "      <td>era</td>\n",
              "      <td>ser</td>\n",
              "      <td>xxx</td>\n",
              "      <td>AUX</td>\n",
              "      <td>AUX</td>\n",
              "      <td>ROOT</td>\n",
              "      <td>None</td>\n",
              "    </tr>\n",
              "    <tr>\n",
              "      <th>44</th>\n",
              "      <td>que</td>\n",
              "      <td>que</td>\n",
              "      <td>xxx</td>\n",
              "      <td>SCONJ</td>\n",
              "      <td>SCONJ</td>\n",
              "      <td>mark</td>\n",
              "      <td>marker</td>\n",
              "    </tr>\n",
              "    <tr>\n",
              "      <th>45</th>\n",
              "      <td>sus</td>\n",
              "      <td>su</td>\n",
              "      <td>xxx</td>\n",
              "      <td>DET</td>\n",
              "      <td>DET</td>\n",
              "      <td>det</td>\n",
              "      <td>determiner</td>\n",
              "    </tr>\n",
              "    <tr>\n",
              "      <th>46</th>\n",
              "      <td>pies</td>\n",
              "      <td>pie</td>\n",
              "      <td>xxxx</td>\n",
              "      <td>NOUN</td>\n",
              "      <td>NOUN</td>\n",
              "      <td>nsubj</td>\n",
              "      <td>nominal subject</td>\n",
              "    </tr>\n",
              "    <tr>\n",
              "      <th>47</th>\n",
              "      <td>se</td>\n",
              "      <td>él</td>\n",
              "      <td>xx</td>\n",
              "      <td>PRON</td>\n",
              "      <td>PRON</td>\n",
              "      <td>obj</td>\n",
              "      <td>object</td>\n",
              "    </tr>\n",
              "    <tr>\n",
              "      <th>48</th>\n",
              "      <td>despegasen</td>\n",
              "      <td>despegar</td>\n",
              "      <td>xxxx</td>\n",
              "      <td>VERB</td>\n",
              "      <td>VERB</td>\n",
              "      <td>ccomp</td>\n",
              "      <td>clausal complement</td>\n",
              "    </tr>\n",
              "    <tr>\n",
              "      <th>49</th>\n",
              "      <td>de</td>\n",
              "      <td>de</td>\n",
              "      <td>xx</td>\n",
              "      <td>ADP</td>\n",
              "      <td>ADP</td>\n",
              "      <td>case</td>\n",
              "      <td>case marking</td>\n",
              "    </tr>\n",
              "    <tr>\n",
              "      <th>50</th>\n",
              "      <td>la</td>\n",
              "      <td>el</td>\n",
              "      <td>xx</td>\n",
              "      <td>DET</td>\n",
              "      <td>DET</td>\n",
              "      <td>det</td>\n",
              "      <td>determiner</td>\n",
              "    </tr>\n",
              "    <tr>\n",
              "      <th>51</th>\n",
              "      <td>tierra</td>\n",
              "      <td>tierra</td>\n",
              "      <td>xxxx</td>\n",
              "      <td>NOUN</td>\n",
              "      <td>NOUN</td>\n",
              "      <td>obj</td>\n",
              "      <td>object</td>\n",
              "    </tr>\n",
              "    <tr>\n",
              "      <th>52</th>\n",
              "      <td>y</td>\n",
              "      <td>y</td>\n",
              "      <td>x</td>\n",
              "      <td>CCONJ</td>\n",
              "      <td>CCONJ</td>\n",
              "      <td>cc</td>\n",
              "      <td>coordinating conjunction</td>\n",
              "    </tr>\n",
              "    <tr>\n",
              "      <th>53</th>\n",
              "      <td>la</td>\n",
              "      <td>el</td>\n",
              "      <td>xx</td>\n",
              "      <td>DET</td>\n",
              "      <td>DET</td>\n",
              "      <td>det</td>\n",
              "      <td>determiner</td>\n",
              "    </tr>\n",
              "    <tr>\n",
              "      <th>54</th>\n",
              "      <td>Catedral</td>\n",
              "      <td>Catedral</td>\n",
              "      <td>Xxxxx</td>\n",
              "      <td>PROPN</td>\n",
              "      <td>PROPN</td>\n",
              "      <td>nsubj</td>\n",
              "      <td>nominal subject</td>\n",
              "    </tr>\n",
              "    <tr>\n",
              "      <th>55</th>\n",
              "      <td>le</td>\n",
              "      <td>él</td>\n",
              "      <td>xx</td>\n",
              "      <td>PRON</td>\n",
              "      <td>PRON</td>\n",
              "      <td>obj</td>\n",
              "      <td>object</td>\n",
              "    </tr>\n",
              "    <tr>\n",
              "      <th>56</th>\n",
              "      <td>arrastrara</td>\n",
              "      <td>arrastrar</td>\n",
              "      <td>xxxx</td>\n",
              "      <td>VERB</td>\n",
              "      <td>VERB</td>\n",
              "      <td>conj</td>\n",
              "      <td>conjunct</td>\n",
              "    </tr>\n",
              "    <tr>\n",
              "      <th>57</th>\n",
              "      <td>con</td>\n",
              "      <td>con</td>\n",
              "      <td>xxx</td>\n",
              "      <td>ADP</td>\n",
              "      <td>ADP</td>\n",
              "      <td>case</td>\n",
              "      <td>case marking</td>\n",
              "    </tr>\n",
              "    <tr>\n",
              "      <th>58</th>\n",
              "      <td>ella</td>\n",
              "      <td>él</td>\n",
              "      <td>xxxx</td>\n",
              "      <td>PRON</td>\n",
              "      <td>PRON</td>\n",
              "      <td>obl</td>\n",
              "      <td>oblique nominal</td>\n",
              "    </tr>\n",
              "    <tr>\n",
              "      <th>59</th>\n",
              "      <td>hasta</td>\n",
              "      <td>hasta</td>\n",
              "      <td>xxxx</td>\n",
              "      <td>ADP</td>\n",
              "      <td>ADP</td>\n",
              "      <td>case</td>\n",
              "      <td>case marking</td>\n",
              "    </tr>\n",
              "  </tbody>\n",
              "</table>\n",
              "</div>"
            ],
            "text/plain": [
              "         token       lema  shape    POS POS detallado dependencia  \\\n",
              "0           Al         al     Xx    ADP           ADP        case   \n",
              "1          Sr.        Sr.    Xx.  PROPN         PROPN         obj   \n",
              "2       Daniel     Daniel  Xxxxx  PROPN         PROPN        flat   \n",
              "3      siempre    siempre   xxxx    ADV           ADV      advmod   \n",
              "4           le         él     xx   PRON          PRON         obj   \n",
              "5     gustaron     gustar   xxxx   VERB          VERB        ROOT   \n",
              "6          las         el    xxx    DET           DET         det   \n",
              "7   catedrales   catedral   xxxx   NOUN          NOUN         obj   \n",
              "8            .          .      .  PUNCT         PUNCT       punct   \n",
              "9           La         el     Xx    DET           DET        mark   \n",
              "10          de         de     xx    ADP           ADP        case   \n",
              "11          su         su     xx    DET           DET         det   \n",
              "12      ciudad     ciudad   xxxx   NOUN          NOUN       nsubj   \n",
              "13         era        ser    xxx    AUX           AUX         cop   \n",
              "14         tan      tanto    xxx    ADV           ADV      advmod   \n",
              "15        alta       alto   xxxx    ADJ           ADJ        ROOT   \n",
              "16           ,          ,      ,  PUNCT         PUNCT       punct   \n",
              "17         que        que    xxx  SCONJ         SCONJ        mark   \n",
              "18          al         al     xx    ADP           ADP        mark   \n",
              "19     mirarla   mirar él   xxxx   VERB          VERB         obl   \n",
              "20       desde      desde   xxxx    ADP           ADP        case   \n",
              "21          su         su     xx    DET           DET         det   \n",
              "22     pequeña    pequeño   xxxx    ADJ           ADJ        amod   \n",
              "23    estatura   estatura   xxxx   NOUN          NOUN         obl   \n",
              "24           ,          ,      ,  PUNCT         PUNCT       punct   \n",
              "25       tenía      tener   xxxx   VERB          VERB       advcl   \n",
              "26         que        que    xxx  SCONJ         SCONJ          cc   \n",
              "27      torcer     torcer   xxxx   VERB          VERB        conj   \n",
              "28          el         el     xx    DET           DET         det   \n",
              "29      cuello     cuello   xxxx   NOUN          NOUN         obj   \n",
              "30          de         de     xx    ADP           ADP        case   \n",
              "31         tal        tal    xxx    DET           DET         det   \n",
              "32       forma      forma   xxxx   NOUN          NOUN        nmod   \n",
              "33         que        que    xxx  SCONJ         SCONJ        mark   \n",
              "34          le         él     xx   PRON          PRON         obj   \n",
              "35     costaba     costar   xxxx   VERB          VERB         acl   \n",
              "36          no         no     xx    ADV           ADV      advmod   \n",
              "37    marearse  marear él   xxxx   VERB          VERB       advcl   \n",
              "38           .          .      .  PUNCT         PUNCT       punct   \n",
              "39          Lo         él     Xx   PRON          PRON         det   \n",
              "40         que        que    xxx   PRON          PRON       nsubj   \n",
              "41         más        más    xxx    ADV           ADV      advmod   \n",
              "42       temía      temío   xxxx    ADJ           ADJ       csubj   \n",
              "43         era        ser    xxx    AUX           AUX        ROOT   \n",
              "44         que        que    xxx  SCONJ         SCONJ        mark   \n",
              "45         sus         su    xxx    DET           DET         det   \n",
              "46        pies        pie   xxxx   NOUN          NOUN       nsubj   \n",
              "47          se         él     xx   PRON          PRON         obj   \n",
              "48  despegasen   despegar   xxxx   VERB          VERB       ccomp   \n",
              "49          de         de     xx    ADP           ADP        case   \n",
              "50          la         el     xx    DET           DET         det   \n",
              "51      tierra     tierra   xxxx   NOUN          NOUN         obj   \n",
              "52           y          y      x  CCONJ         CCONJ          cc   \n",
              "53          la         el     xx    DET           DET         det   \n",
              "54    Catedral   Catedral  Xxxxx  PROPN         PROPN       nsubj   \n",
              "55          le         él     xx   PRON          PRON         obj   \n",
              "56  arrastrara  arrastrar   xxxx   VERB          VERB        conj   \n",
              "57         con        con    xxx    ADP           ADP        case   \n",
              "58        ella         él   xxxx   PRON          PRON         obl   \n",
              "59       hasta      hasta   xxxx    ADP           ADP        case   \n",
              "\n",
              "                                 Descripción dep  \n",
              "0                                   case marking  \n",
              "1                                         object  \n",
              "2                      flat multiword expression  \n",
              "3                             adverbial modifier  \n",
              "4                                         object  \n",
              "5                                           None  \n",
              "6                                     determiner  \n",
              "7                                         object  \n",
              "8                                    punctuation  \n",
              "9                                         marker  \n",
              "10                                  case marking  \n",
              "11                                    determiner  \n",
              "12                               nominal subject  \n",
              "13                                        copula  \n",
              "14                            adverbial modifier  \n",
              "15                                          None  \n",
              "16                                   punctuation  \n",
              "17                                        marker  \n",
              "18                                        marker  \n",
              "19                               oblique nominal  \n",
              "20                                  case marking  \n",
              "21                                    determiner  \n",
              "22                           adjectival modifier  \n",
              "23                               oblique nominal  \n",
              "24                                   punctuation  \n",
              "25                     adverbial clause modifier  \n",
              "26                      coordinating conjunction  \n",
              "27                                      conjunct  \n",
              "28                                    determiner  \n",
              "29                                        object  \n",
              "30                                  case marking  \n",
              "31                                    determiner  \n",
              "32                           modifier of nominal  \n",
              "33                                        marker  \n",
              "34                                        object  \n",
              "35  clausal modifier of noun (adjectival clause)  \n",
              "36                            adverbial modifier  \n",
              "37                     adverbial clause modifier  \n",
              "38                                   punctuation  \n",
              "39                                    determiner  \n",
              "40                               nominal subject  \n",
              "41                            adverbial modifier  \n",
              "42                               clausal subject  \n",
              "43                                          None  \n",
              "44                                        marker  \n",
              "45                                    determiner  \n",
              "46                               nominal subject  \n",
              "47                                        object  \n",
              "48                            clausal complement  \n",
              "49                                  case marking  \n",
              "50                                    determiner  \n",
              "51                                        object  \n",
              "52                      coordinating conjunction  \n",
              "53                                    determiner  \n",
              "54                               nominal subject  \n",
              "55                                        object  \n",
              "56                                      conjunct  \n",
              "57                                  case marking  \n",
              "58                               oblique nominal  \n",
              "59                                  case marking  "
            ]
          },
          "metadata": {
            "tags": []
          },
          "execution_count": 40
        }
      ]
    },
    {
      "cell_type": "code",
      "metadata": {
        "id": "Mm-YyKdAkIED"
      },
      "source": [
        "frases = doc.sents"
      ],
      "execution_count": null,
      "outputs": []
    },
    {
      "cell_type": "code",
      "metadata": {
        "id": "KBkiSLhykIED",
        "outputId": "ead04940-4334-454c-e027-4a14c2255c54"
      },
      "source": [
        "next(frases)"
      ],
      "execution_count": null,
      "outputs": [
        {
          "output_type": "execute_result",
          "data": {
            "text/plain": [
              "Al Sr. Daniel siempre le gustaron las catedrales."
            ]
          },
          "metadata": {
            "tags": []
          },
          "execution_count": 34
        }
      ]
    },
    {
      "cell_type": "code",
      "metadata": {
        "id": "UIf1RzYikIEE",
        "outputId": "2ca90701-84a9-4554-cc54-e5415127ef20"
      },
      "source": [
        "type(next(doc.sents))"
      ],
      "execution_count": null,
      "outputs": [
        {
          "output_type": "execute_result",
          "data": {
            "text/plain": [
              "spacy.tokens.span.Span"
            ]
          },
          "metadata": {
            "tags": []
          },
          "execution_count": 35
        }
      ]
    },
    {
      "cell_type": "code",
      "metadata": {
        "id": "8CasUs_ckIEE",
        "outputId": "bd9d5ebd-0484-446c-d895-f2980de0b2cf"
      },
      "source": [
        "for i, sent in enumerate(doc.sents):\n",
        "    print(\"Oración {}:\\n{}\\n\".format(i,sent))"
      ],
      "execution_count": null,
      "outputs": [
        {
          "output_type": "stream",
          "text": [
            "Oración 0:\n",
            "Al Sr. Daniel siempre le gustaron las catedrales.\n",
            "\n",
            "Oración 1:\n",
            "La de su ciudad era tan alta, que al mirarla desde su pequeña estatura, tenía que torcer el cuello de tal forma que le costaba no marearse.\n",
            "\n",
            "Oración 2:\n",
            "Lo que más temía era que sus pies se despegasen de la tierra y la Catedral le arrastrara con ella hasta los cielos.\n",
            "\n",
            "Oración 3:\n",
            "Aun así, un espíritu aventurero le llevaba cada tarde hasta la Plaza Mayor.\n",
            "\n"
          ],
          "name": "stdout"
        }
      ]
    },
    {
      "cell_type": "markdown",
      "metadata": {
        "id": "iop-SQbQkIEF"
      },
      "source": [
        "Cada sentencia también tiene sus propios atributos, distintos de los de los tokens. Para spaCy las oraciones son objetos de tipo `spacy.tokens.span.Span`"
      ]
    },
    {
      "cell_type": "code",
      "metadata": {
        "id": "1TkWCxoQkIEF",
        "outputId": "8318647a-f362-41d0-c798-58fab49d2d4f"
      },
      "source": [
        "print([prop for prop in dir(spacy.tokens.span.Span) if not prop.startswith('_')])"
      ],
      "execution_count": null,
      "outputs": [
        {
          "output_type": "stream",
          "text": [
            "['as_doc', 'char_span', 'conjuncts', 'doc', 'end', 'end_char', 'ent_id', 'ent_id_', 'ents', 'get_extension', 'get_lca_matrix', 'has_extension', 'has_vector', 'kb_id', 'kb_id_', 'label', 'label_', 'lefts', 'lemma_', 'n_lefts', 'n_rights', 'noun_chunks', 'orth_', 'remove_extension', 'rights', 'root', 'sent', 'sentiment', 'set_extension', 'similarity', 'start', 'start_char', 'subtree', 'tensor', 'text', 'text_with_ws', 'to_array', 'vector', 'vector_norm', 'vocab']\n"
          ],
          "name": "stdout"
        }
      ]
    },
    {
      "cell_type": "markdown",
      "metadata": {
        "id": "DT9i1hq2kIEF"
      },
      "source": [
        "Algunas propiedades de `Span` son distintas que las de cada `Token`:"
      ]
    },
    {
      "cell_type": "code",
      "metadata": {
        "id": "yV-Dsp6FkIEF",
        "outputId": "52fbed22-0f08-4359-c5e5-6256f6046544"
      },
      "source": [
        "[prop for prop in dir(spacy.tokens.span.Span) if\n",
        " not prop.startswith('_') and not prop in dir(spacy.tokens.token.Token)]"
      ],
      "execution_count": null,
      "outputs": [
        {
          "output_type": "execute_result",
          "data": {
            "text/plain": [
              "['as_doc',\n",
              " 'char_span',\n",
              " 'end',\n",
              " 'end_char',\n",
              " 'ents',\n",
              " 'get_lca_matrix',\n",
              " 'kb_id',\n",
              " 'kb_id_',\n",
              " 'label',\n",
              " 'label_',\n",
              " 'noun_chunks',\n",
              " 'root',\n",
              " 'start',\n",
              " 'start_char',\n",
              " 'to_array']"
            ]
          },
          "metadata": {
            "tags": []
          },
          "execution_count": 38
        }
      ]
    },
    {
      "cell_type": "markdown",
      "metadata": {
        "id": "9JIZC1KikIEG"
      },
      "source": [
        "### Ejercicio 1\n",
        "Obtén la palabra raíz -atributo `root`- de cada oración del texto anterior y muéstrala.  \n",
        "La respuesta es  \n",
        "```python  \n",
        "[gustaron, alta, era, llevaba]\n",
        "```"
      ]
    },
    {
      "cell_type": "code",
      "metadata": {
        "id": "VLCCtaa3kIEH",
        "outputId": "cfe25a8d-3363-469a-8adc-00c54509004b"
      },
      "source": [
        "# COMPLETAR\n",
        "\n",
        "#Ayuda\n",
        "#Las oraciones del texto son accesibles con el iterable doc.sents\n",
        "#La raíz de la oración es el atributo root\n",
        "\n",
        "raices = [s.root for s in doc.sents]\n",
        "raices"
      ],
      "execution_count": null,
      "outputs": [
        {
          "output_type": "execute_result",
          "data": {
            "text/plain": [
              "[gustaron, alta, era, llevaba]"
            ]
          },
          "metadata": {
            "tags": []
          },
          "execution_count": 43
        }
      ]
    },
    {
      "cell_type": "markdown",
      "metadata": {
        "id": "0JUju1gJkIEH"
      },
      "source": [
        "Lo que hace internamente el objeto root es almacenar el token de la raiz de la palabra"
      ]
    },
    {
      "cell_type": "code",
      "metadata": {
        "id": "4OG4HjyokIEH",
        "outputId": "41bf37ca-f9f7-4e79-9432-d7322ec7b266"
      },
      "source": [
        "type(raices[0])"
      ],
      "execution_count": null,
      "outputs": [
        {
          "output_type": "execute_result",
          "data": {
            "text/plain": [
              "spacy.tokens.token.Token"
            ]
          },
          "metadata": {
            "tags": []
          },
          "execution_count": 44
        }
      ]
    },
    {
      "cell_type": "markdown",
      "metadata": {
        "id": "3vUy1x3lkIEH"
      },
      "source": [
        "### Part of Speech (POS)\n",
        "La librería `spaCy` determina el tipo gramatical (POS) de cada palabra en nuestro texto. Creamos un diccionario con los distintos POS de nuestro texto de ejemplo, usando el *hash* de cada POS como clave del diccionario:"
      ]
    },
    {
      "cell_type": "code",
      "metadata": {
        "id": "Rde1oklSkIEI",
        "outputId": "80f14231-8f78-42e9-97a7-e1b13daffc24"
      },
      "source": [
        "{w.pos: (w.pos_, spacy.explain(w.pos_)) for w in doc} "
      ],
      "execution_count": null,
      "outputs": [
        {
          "output_type": "execute_result",
          "data": {
            "text/plain": [
              "{85: ('ADP', 'adposition'),\n",
              " 96: ('PROPN', 'proper noun'),\n",
              " 86: ('ADV', 'adverb'),\n",
              " 95: ('PRON', 'pronoun'),\n",
              " 100: ('VERB', 'verb'),\n",
              " 90: ('DET', 'determiner'),\n",
              " 92: ('NOUN', 'noun'),\n",
              " 97: ('PUNCT', 'punctuation'),\n",
              " 87: ('AUX', 'auxiliary'),\n",
              " 84: ('ADJ', 'adjective'),\n",
              " 98: ('SCONJ', 'subordinating conjunction'),\n",
              " 89: ('CCONJ', 'coordinating conjunction')}"
            ]
          },
          "metadata": {
            "tags": []
          },
          "execution_count": 45
        }
      ]
    },
    {
      "cell_type": "markdown",
      "metadata": {
        "id": "sHNNhl7SkIEI"
      },
      "source": [
        "Cada tipo gramatical (POS) se subdivide en distintas etiquetas según su análisis mnorfológico(atributo `morph`).  \n",
        "Por ejemplo en nuestro texto tenemos los siguientes `tag`:"
      ]
    },
    {
      "cell_type": "code",
      "metadata": {
        "id": "kV85FRUHkIEI",
        "outputId": "c235b21c-1275-433b-b28f-c0e011449c12"
      },
      "source": [
        "pd.DataFrame(set([(w.pos_, w.morph) for w in doc]), columns=['POS', 'morph']).sort_values(by='POS')"
      ],
      "execution_count": null,
      "outputs": [
        {
          "output_type": "execute_result",
          "data": {
            "text/html": [
              "<div>\n",
              "<style scoped>\n",
              "    .dataframe tbody tr th:only-of-type {\n",
              "        vertical-align: middle;\n",
              "    }\n",
              "\n",
              "    .dataframe tbody tr th {\n",
              "        vertical-align: top;\n",
              "    }\n",
              "\n",
              "    .dataframe thead th {\n",
              "        text-align: right;\n",
              "    }\n",
              "</style>\n",
              "<table border=\"1\" class=\"dataframe\">\n",
              "  <thead>\n",
              "    <tr style=\"text-align: right;\">\n",
              "      <th></th>\n",
              "      <th>POS</th>\n",
              "      <th>morph</th>\n",
              "    </tr>\n",
              "  </thead>\n",
              "  <tbody>\n",
              "    <tr>\n",
              "      <th>1</th>\n",
              "      <td>ADJ</td>\n",
              "      <td>(Gender=Fem, Number=Sing)</td>\n",
              "    </tr>\n",
              "    <tr>\n",
              "      <th>33</th>\n",
              "      <td>ADJ</td>\n",
              "      <td>(Gender=Masc, Number=Sing)</td>\n",
              "    </tr>\n",
              "    <tr>\n",
              "      <th>34</th>\n",
              "      <td>ADP</td>\n",
              "      <td>(AdpType=Prep)</td>\n",
              "    </tr>\n",
              "    <tr>\n",
              "      <th>9</th>\n",
              "      <td>ADP</td>\n",
              "      <td>(AdpType=Preppron)</td>\n",
              "    </tr>\n",
              "    <tr>\n",
              "      <th>4</th>\n",
              "      <td>ADV</td>\n",
              "      <td>()</td>\n",
              "    </tr>\n",
              "    <tr>\n",
              "      <th>32</th>\n",
              "      <td>ADV</td>\n",
              "      <td>(Degree=Cmp)</td>\n",
              "    </tr>\n",
              "    <tr>\n",
              "      <th>23</th>\n",
              "      <td>ADV</td>\n",
              "      <td>(Polarity=Neg)</td>\n",
              "    </tr>\n",
              "    <tr>\n",
              "      <th>19</th>\n",
              "      <td>AUX</td>\n",
              "      <td>(Mood=Ind, Number=Sing, Person=3, Tense=Imp, VerbForm=Fin)</td>\n",
              "    </tr>\n",
              "    <tr>\n",
              "      <th>11</th>\n",
              "      <td>CCONJ</td>\n",
              "      <td>()</td>\n",
              "    </tr>\n",
              "    <tr>\n",
              "      <th>0</th>\n",
              "      <td>DET</td>\n",
              "      <td>(Definite=Ind, Gender=Masc, Number=Sing, PronType=Art)</td>\n",
              "    </tr>\n",
              "    <tr>\n",
              "      <th>28</th>\n",
              "      <td>DET</td>\n",
              "      <td>(Number=Sing, PronType=Dem)</td>\n",
              "    </tr>\n",
              "    <tr>\n",
              "      <th>25</th>\n",
              "      <td>DET</td>\n",
              "      <td>(Definite=Def, Gender=Masc, Number=Plur, PronType=Art)</td>\n",
              "    </tr>\n",
              "    <tr>\n",
              "      <th>22</th>\n",
              "      <td>DET</td>\n",
              "      <td>(Definite=Def, Gender=Fem, Number=Sing, PronType=Art)</td>\n",
              "    </tr>\n",
              "    <tr>\n",
              "      <th>21</th>\n",
              "      <td>DET</td>\n",
              "      <td>(Number=Sing, PronType=Tot)</td>\n",
              "    </tr>\n",
              "    <tr>\n",
              "      <th>37</th>\n",
              "      <td>DET</td>\n",
              "      <td>(Number=Plur, Person=3, Poss=Yes, PronType=Prs)</td>\n",
              "    </tr>\n",
              "    <tr>\n",
              "      <th>8</th>\n",
              "      <td>DET</td>\n",
              "      <td>(Definite=Def, Gender=Fem, Number=Plur, PronType=Art)</td>\n",
              "    </tr>\n",
              "    <tr>\n",
              "      <th>14</th>\n",
              "      <td>DET</td>\n",
              "      <td>(Definite=Def, Gender=Masc, Number=Sing, PronType=Art)</td>\n",
              "    </tr>\n",
              "    <tr>\n",
              "      <th>6</th>\n",
              "      <td>DET</td>\n",
              "      <td>(Number=Sing, Person=3, Poss=Yes, PronType=Prs)</td>\n",
              "    </tr>\n",
              "    <tr>\n",
              "      <th>18</th>\n",
              "      <td>NOUN</td>\n",
              "      <td>(Gender=Fem, Number=Sing)</td>\n",
              "    </tr>\n",
              "    <tr>\n",
              "      <th>17</th>\n",
              "      <td>NOUN</td>\n",
              "      <td>(Gender=Masc, Number=Plur)</td>\n",
              "    </tr>\n",
              "    <tr>\n",
              "      <th>10</th>\n",
              "      <td>NOUN</td>\n",
              "      <td>(Gender=Masc, Number=Sing)</td>\n",
              "    </tr>\n",
              "    <tr>\n",
              "      <th>27</th>\n",
              "      <td>NOUN</td>\n",
              "      <td>()</td>\n",
              "    </tr>\n",
              "    <tr>\n",
              "      <th>16</th>\n",
              "      <td>PRON</td>\n",
              "      <td>(Case=Acc, Definite=Def, Gender=Masc, Number=Sing, Person=3, PrepCase=Npr, PronType=Prs)</td>\n",
              "    </tr>\n",
              "    <tr>\n",
              "      <th>2</th>\n",
              "      <td>PRON</td>\n",
              "      <td>(Case=Acc, Case=Dat, Person=3, PrepCase=Npr, PronType=Prs, Reflex=Yes)</td>\n",
              "    </tr>\n",
              "    <tr>\n",
              "      <th>5</th>\n",
              "      <td>PRON</td>\n",
              "      <td>(Case=Acc, Case=Nom, Gender=Fem, Number=Sing, Person=3, PronType=Prs)</td>\n",
              "    </tr>\n",
              "    <tr>\n",
              "      <th>24</th>\n",
              "      <td>PRON</td>\n",
              "      <td>(PronType=Int, PronType=Rel)</td>\n",
              "    </tr>\n",
              "    <tr>\n",
              "      <th>30</th>\n",
              "      <td>PRON</td>\n",
              "      <td>(Case=Dat, Number=Sing, Person=3, PronType=Prs)</td>\n",
              "    </tr>\n",
              "    <tr>\n",
              "      <th>13</th>\n",
              "      <td>PROPN</td>\n",
              "      <td>()</td>\n",
              "    </tr>\n",
              "    <tr>\n",
              "      <th>35</th>\n",
              "      <td>PUNCT</td>\n",
              "      <td>(PunctType=Comm)</td>\n",
              "    </tr>\n",
              "    <tr>\n",
              "      <th>26</th>\n",
              "      <td>PUNCT</td>\n",
              "      <td>(PunctType=Peri)</td>\n",
              "    </tr>\n",
              "    <tr>\n",
              "      <th>31</th>\n",
              "      <td>SCONJ</td>\n",
              "      <td>()</td>\n",
              "    </tr>\n",
              "    <tr>\n",
              "      <th>7</th>\n",
              "      <td>VERB</td>\n",
              "      <td>(VerbForm=Inf)</td>\n",
              "    </tr>\n",
              "    <tr>\n",
              "      <th>12</th>\n",
              "      <td>VERB</td>\n",
              "      <td>(Case=Acc, Gender=Fem, Number=Sing, Person=3, PrepCase=Npr, PronType=Prs, VerbForm=Inf)</td>\n",
              "    </tr>\n",
              "    <tr>\n",
              "      <th>3</th>\n",
              "      <td>VERB</td>\n",
              "      <td>(Case=Acc, Case=Dat, Person=3, PrepCase=Npr, PronType=Prs, Reflex=Yes, VerbForm=Inf)</td>\n",
              "    </tr>\n",
              "    <tr>\n",
              "      <th>20</th>\n",
              "      <td>VERB</td>\n",
              "      <td>(Mood=Ind, Number=Plur, Person=3, Tense=Past, VerbForm=Fin)</td>\n",
              "    </tr>\n",
              "    <tr>\n",
              "      <th>36</th>\n",
              "      <td>VERB</td>\n",
              "      <td>(Mood=Ind, Number=Sing, Person=3, Tense=Imp, VerbForm=Fin)</td>\n",
              "    </tr>\n",
              "    <tr>\n",
              "      <th>29</th>\n",
              "      <td>VERB</td>\n",
              "      <td>(Mood=Sub, Number=Sing, Person=3, Tense=Imp, VerbForm=Fin)</td>\n",
              "    </tr>\n",
              "    <tr>\n",
              "      <th>15</th>\n",
              "      <td>VERB</td>\n",
              "      <td>(Mood=Sub, Number=Plur, Person=3, Tense=Imp, VerbForm=Fin)</td>\n",
              "    </tr>\n",
              "  </tbody>\n",
              "</table>\n",
              "</div>"
            ],
            "text/plain": [
              "      POS  \\\n",
              "1     ADJ   \n",
              "33    ADJ   \n",
              "34    ADP   \n",
              "9     ADP   \n",
              "4     ADV   \n",
              "32    ADV   \n",
              "23    ADV   \n",
              "19    AUX   \n",
              "11  CCONJ   \n",
              "0     DET   \n",
              "28    DET   \n",
              "25    DET   \n",
              "22    DET   \n",
              "21    DET   \n",
              "37    DET   \n",
              "8     DET   \n",
              "14    DET   \n",
              "6     DET   \n",
              "18   NOUN   \n",
              "17   NOUN   \n",
              "10   NOUN   \n",
              "27   NOUN   \n",
              "16   PRON   \n",
              "2    PRON   \n",
              "5    PRON   \n",
              "24   PRON   \n",
              "30   PRON   \n",
              "13  PROPN   \n",
              "35  PUNCT   \n",
              "26  PUNCT   \n",
              "31  SCONJ   \n",
              "7    VERB   \n",
              "12   VERB   \n",
              "3    VERB   \n",
              "20   VERB   \n",
              "36   VERB   \n",
              "29   VERB   \n",
              "15   VERB   \n",
              "\n",
              "                                                                                       morph  \n",
              "1                                                                  (Gender=Fem, Number=Sing)  \n",
              "33                                                                (Gender=Masc, Number=Sing)  \n",
              "34                                                                            (AdpType=Prep)  \n",
              "9                                                                         (AdpType=Preppron)  \n",
              "4                                                                                         ()  \n",
              "32                                                                              (Degree=Cmp)  \n",
              "23                                                                            (Polarity=Neg)  \n",
              "19                                (Mood=Ind, Number=Sing, Person=3, Tense=Imp, VerbForm=Fin)  \n",
              "11                                                                                        ()  \n",
              "0                                     (Definite=Ind, Gender=Masc, Number=Sing, PronType=Art)  \n",
              "28                                                               (Number=Sing, PronType=Dem)  \n",
              "25                                    (Definite=Def, Gender=Masc, Number=Plur, PronType=Art)  \n",
              "22                                     (Definite=Def, Gender=Fem, Number=Sing, PronType=Art)  \n",
              "21                                                               (Number=Sing, PronType=Tot)  \n",
              "37                                           (Number=Plur, Person=3, Poss=Yes, PronType=Prs)  \n",
              "8                                      (Definite=Def, Gender=Fem, Number=Plur, PronType=Art)  \n",
              "14                                    (Definite=Def, Gender=Masc, Number=Sing, PronType=Art)  \n",
              "6                                            (Number=Sing, Person=3, Poss=Yes, PronType=Prs)  \n",
              "18                                                                 (Gender=Fem, Number=Sing)  \n",
              "17                                                                (Gender=Masc, Number=Plur)  \n",
              "10                                                                (Gender=Masc, Number=Sing)  \n",
              "27                                                                                        ()  \n",
              "16  (Case=Acc, Definite=Def, Gender=Masc, Number=Sing, Person=3, PrepCase=Npr, PronType=Prs)  \n",
              "2                     (Case=Acc, Case=Dat, Person=3, PrepCase=Npr, PronType=Prs, Reflex=Yes)  \n",
              "5                      (Case=Acc, Case=Nom, Gender=Fem, Number=Sing, Person=3, PronType=Prs)  \n",
              "24                                                              (PronType=Int, PronType=Rel)  \n",
              "30                                           (Case=Dat, Number=Sing, Person=3, PronType=Prs)  \n",
              "13                                                                                        ()  \n",
              "35                                                                          (PunctType=Comm)  \n",
              "26                                                                          (PunctType=Peri)  \n",
              "31                                                                                        ()  \n",
              "7                                                                             (VerbForm=Inf)  \n",
              "12   (Case=Acc, Gender=Fem, Number=Sing, Person=3, PrepCase=Npr, PronType=Prs, VerbForm=Inf)  \n",
              "3       (Case=Acc, Case=Dat, Person=3, PrepCase=Npr, PronType=Prs, Reflex=Yes, VerbForm=Inf)  \n",
              "20                               (Mood=Ind, Number=Plur, Person=3, Tense=Past, VerbForm=Fin)  \n",
              "36                                (Mood=Ind, Number=Sing, Person=3, Tense=Imp, VerbForm=Fin)  \n",
              "29                                (Mood=Sub, Number=Sing, Person=3, Tense=Imp, VerbForm=Fin)  \n",
              "15                                (Mood=Sub, Number=Plur, Person=3, Tense=Imp, VerbForm=Fin)  "
            ]
          },
          "metadata": {
            "tags": []
          },
          "execution_count": 46
        }
      ]
    },
    {
      "cell_type": "markdown",
      "metadata": {
        "id": "pGeFZOZikIEJ"
      },
      "source": [
        "### Ejercicio 2\n",
        "Crea una lista de Python con todas las palabras del texto `doc` que sean del tipo NOMBRE y además sean de género Femenino.  \n",
        "Ayuda: tendrás que usar una comprensión de lista filtrando mediante una función de búsqueda de texto (o patrón regular) sobre el valor del atributo `morph` "
      ]
    },
    {
      "cell_type": "code",
      "metadata": {
        "id": "RbOV26v1kIEJ",
        "outputId": "1b37fe5b-f500-4f60-ec1d-22921412d000"
      },
      "source": [
        "## Completar\n",
        "\n",
        "[w for w in doc if w.pos_=='NOUN' and 'Gender=Fem' in w.morph]"
      ],
      "execution_count": null,
      "outputs": [
        {
          "output_type": "execute_result",
          "data": {
            "text/plain": [
              "[ciudad, estatura, tierra]"
            ]
          },
          "metadata": {
            "tags": []
          },
          "execution_count": 50
        }
      ]
    },
    {
      "cell_type": "markdown",
      "metadata": {
        "id": "ebOyo2yckIEJ"
      },
      "source": [
        "Curioso en este caso el funcionamiento de 'Gender=Fem'. Pensaba que funcionaría igual que en la situación de w.pos_, pero no.\n",
        "\n",
        "**En teoría, esto también se podría resolver usando EXPRESIONES REGULARES**"
      ]
    },
    {
      "cell_type": "markdown",
      "metadata": {
        "id": "5dynxpevkIEJ"
      },
      "source": [
        "### Análisis de dependencias (dependency parsing)\n",
        "La librería `spaCy`también analiza las relaciones entre palabras de una frase."
      ]
    },
    {
      "cell_type": "code",
      "metadata": {
        "id": "i_-PmMBSkIEK",
        "outputId": "8a70683d-355f-4895-b53d-c1cb4a4ffdcf"
      },
      "source": [
        "doc = nlp(\"El perro de Juan se comió mi bocadillo.\")\n",
        "dependencias = [(t.text, t.dep_, spacy.explain(t.dep_)) for t in doc]\n",
        "pd.DataFrame(list(dependencias), columns=['texto', 'dependencia', 'explicación'])"
      ],
      "execution_count": null,
      "outputs": [
        {
          "output_type": "execute_result",
          "data": {
            "text/html": [
              "<div>\n",
              "<style scoped>\n",
              "    .dataframe tbody tr th:only-of-type {\n",
              "        vertical-align: middle;\n",
              "    }\n",
              "\n",
              "    .dataframe tbody tr th {\n",
              "        vertical-align: top;\n",
              "    }\n",
              "\n",
              "    .dataframe thead th {\n",
              "        text-align: right;\n",
              "    }\n",
              "</style>\n",
              "<table border=\"1\" class=\"dataframe\">\n",
              "  <thead>\n",
              "    <tr style=\"text-align: right;\">\n",
              "      <th></th>\n",
              "      <th>texto</th>\n",
              "      <th>dependencia</th>\n",
              "      <th>explicación</th>\n",
              "    </tr>\n",
              "  </thead>\n",
              "  <tbody>\n",
              "    <tr>\n",
              "      <th>0</th>\n",
              "      <td>El</td>\n",
              "      <td>det</td>\n",
              "      <td>determiner</td>\n",
              "    </tr>\n",
              "    <tr>\n",
              "      <th>1</th>\n",
              "      <td>perro</td>\n",
              "      <td>nsubj</td>\n",
              "      <td>nominal subject</td>\n",
              "    </tr>\n",
              "    <tr>\n",
              "      <th>2</th>\n",
              "      <td>de</td>\n",
              "      <td>case</td>\n",
              "      <td>case marking</td>\n",
              "    </tr>\n",
              "    <tr>\n",
              "      <th>3</th>\n",
              "      <td>Juan</td>\n",
              "      <td>nmod</td>\n",
              "      <td>modifier of nominal</td>\n",
              "    </tr>\n",
              "    <tr>\n",
              "      <th>4</th>\n",
              "      <td>se</td>\n",
              "      <td>obj</td>\n",
              "      <td>object</td>\n",
              "    </tr>\n",
              "    <tr>\n",
              "      <th>5</th>\n",
              "      <td>comió</td>\n",
              "      <td>ROOT</td>\n",
              "      <td>None</td>\n",
              "    </tr>\n",
              "    <tr>\n",
              "      <th>6</th>\n",
              "      <td>mi</td>\n",
              "      <td>det</td>\n",
              "      <td>determiner</td>\n",
              "    </tr>\n",
              "    <tr>\n",
              "      <th>7</th>\n",
              "      <td>bocadillo</td>\n",
              "      <td>obj</td>\n",
              "      <td>object</td>\n",
              "    </tr>\n",
              "    <tr>\n",
              "      <th>8</th>\n",
              "      <td>.</td>\n",
              "      <td>punct</td>\n",
              "      <td>punctuation</td>\n",
              "    </tr>\n",
              "  </tbody>\n",
              "</table>\n",
              "</div>"
            ],
            "text/plain": [
              "       texto dependencia          explicación\n",
              "0         El         det           determiner\n",
              "1      perro       nsubj      nominal subject\n",
              "2         de        case         case marking\n",
              "3       Juan        nmod  modifier of nominal\n",
              "4         se         obj               object\n",
              "5      comió        ROOT                 None\n",
              "6         mi         det           determiner\n",
              "7  bocadillo         obj               object\n",
              "8          .       punct          punctuation"
            ]
          },
          "metadata": {
            "tags": []
          },
          "execution_count": 51
        }
      ]
    },
    {
      "cell_type": "markdown",
      "metadata": {
        "id": "El9KOSMVkIEK"
      },
      "source": [
        "Cada palabra tiene un tipo de dependencia determinado dentro de la frase. \n",
        "La lista completa está en https://spacy.io/docs/api/annotation  \n",
        "La dependencia `root` coincide con el atributo `root` de cada sentencia."
      ]
    },
    {
      "cell_type": "code",
      "metadata": {
        "id": "gUsUyetHkIEK",
        "outputId": "f5126e3f-549e-4f95-f4da-79be6ca83b6a"
      },
      "source": [
        "sent=next(doc.sents)\n",
        "sent.root"
      ],
      "execution_count": null,
      "outputs": [
        {
          "output_type": "execute_result",
          "data": {
            "text/plain": [
              "comió"
            ]
          },
          "metadata": {
            "tags": []
          },
          "execution_count": 52
        }
      ]
    },
    {
      "cell_type": "markdown",
      "metadata": {
        "id": "oZM5w0dUkIEK"
      },
      "source": [
        "Cada raíz tiene una serie de hijos (tokens que dependen gramaticalmente de esa raíz)."
      ]
    },
    {
      "cell_type": "code",
      "metadata": {
        "id": "dhkBadpNkIEL",
        "outputId": "a1dba9a1-0755-4b9c-de24-5cf13deeec7c"
      },
      "source": [
        "list(sent.root.children)\n",
        "\n",
        "#Es curioso como se realiza el análisis sintáctico. NO de la forma en que se nos explicó en lengua y literatura,\n",
        "# sino como raíces y jerarquías.\n",
        "\n",
        "# Por ejemplo, en este caso, los hijos directos del verbo (elemento principal de la frase) son el núcleo\n",
        "# del sujeto, el reflexivo del verbo: el verbo completo es comerse, el 'se' no tiene significado adicional, no\n",
        "# está haciendo de CI. Por último, bocadillo es el CD.\n",
        "# El punto también es importante."
      ],
      "execution_count": null,
      "outputs": [
        {
          "output_type": "execute_result",
          "data": {
            "text/plain": [
              "[perro, se, bocadillo, .]"
            ]
          },
          "metadata": {
            "tags": []
          },
          "execution_count": 53
        }
      ]
    },
    {
      "cell_type": "markdown",
      "metadata": {
        "id": "QY74zhfQkIEL"
      },
      "source": [
        "Podemos extender el análisis a cada palabra del texto."
      ]
    },
    {
      "cell_type": "code",
      "metadata": {
        "id": "kyfDGan8kIEL",
        "outputId": "e0b7b20e-f4f3-4fe4-e630-9be837ff396e"
      },
      "source": [
        "for word in sent: \n",
        "    print(word, ': ', str(list(word.children)))\n",
        "    \n",
        "# 'Perro' es el núcleo del sujeto: 'El' y 'Juan' son sus complementos\n",
        "# 'Juan' tiene complemento a 'de', ya que lo usa de conector\n",
        "# 'Comió' ha sido comentado anteriormente\n",
        "# 'Bocadillo' tiene complemento a 'mi', ya que lo usa de conector"
      ],
      "execution_count": null,
      "outputs": [
        {
          "output_type": "stream",
          "text": [
            "El :  []\n",
            "perro :  [El, Juan]\n",
            "de :  []\n",
            "Juan :  [de]\n",
            "se :  []\n",
            "comió :  [perro, se, bocadillo, .]\n",
            "mi :  []\n",
            "bocadillo :  [mi]\n",
            ". :  []\n"
          ],
          "name": "stdout"
        }
      ]
    },
    {
      "cell_type": "markdown",
      "metadata": {
        "id": "jcQx8ESokIEM"
      },
      "source": [
        "Además, cada palabra tiene una palabra de la que depende (`.head`) y unas palabras que dependen de ella (`children`) a izquierda (`.lefts`) y a derecha (`.rights`)."
      ]
    },
    {
      "cell_type": "code",
      "metadata": {
        "id": "0XXiS_8WkIEM",
        "outputId": "e564dd14-d070-43a1-df8e-4ef06580bb81"
      },
      "source": [
        "dependencias = map(lambda t: {\n",
        "    'Palabra': t.orth_,\n",
        "    'tipo de dependencia': f\"{t.dep_} ({spacy.explain(t.dep_)})\",\n",
        "    'HEAD': t.head.orth_},\n",
        "    doc)\n",
        "\n",
        "pd.DataFrame(dependencias)"
      ],
      "execution_count": null,
      "outputs": [
        {
          "output_type": "execute_result",
          "data": {
            "text/html": [
              "<div>\n",
              "<style scoped>\n",
              "    .dataframe tbody tr th:only-of-type {\n",
              "        vertical-align: middle;\n",
              "    }\n",
              "\n",
              "    .dataframe tbody tr th {\n",
              "        vertical-align: top;\n",
              "    }\n",
              "\n",
              "    .dataframe thead th {\n",
              "        text-align: right;\n",
              "    }\n",
              "</style>\n",
              "<table border=\"1\" class=\"dataframe\">\n",
              "  <thead>\n",
              "    <tr style=\"text-align: right;\">\n",
              "      <th></th>\n",
              "      <th>Palabra</th>\n",
              "      <th>tipo de dependencia</th>\n",
              "      <th>HEAD</th>\n",
              "    </tr>\n",
              "  </thead>\n",
              "  <tbody>\n",
              "    <tr>\n",
              "      <th>0</th>\n",
              "      <td>El</td>\n",
              "      <td>det (determiner)</td>\n",
              "      <td>perro</td>\n",
              "    </tr>\n",
              "    <tr>\n",
              "      <th>1</th>\n",
              "      <td>perro</td>\n",
              "      <td>nsubj (nominal subject)</td>\n",
              "      <td>comió</td>\n",
              "    </tr>\n",
              "    <tr>\n",
              "      <th>2</th>\n",
              "      <td>de</td>\n",
              "      <td>case (case marking)</td>\n",
              "      <td>Juan</td>\n",
              "    </tr>\n",
              "    <tr>\n",
              "      <th>3</th>\n",
              "      <td>Juan</td>\n",
              "      <td>nmod (modifier of nominal)</td>\n",
              "      <td>perro</td>\n",
              "    </tr>\n",
              "    <tr>\n",
              "      <th>4</th>\n",
              "      <td>se</td>\n",
              "      <td>obj (object)</td>\n",
              "      <td>comió</td>\n",
              "    </tr>\n",
              "    <tr>\n",
              "      <th>5</th>\n",
              "      <td>comió</td>\n",
              "      <td>ROOT (None)</td>\n",
              "      <td>comió</td>\n",
              "    </tr>\n",
              "    <tr>\n",
              "      <th>6</th>\n",
              "      <td>mi</td>\n",
              "      <td>det (determiner)</td>\n",
              "      <td>bocadillo</td>\n",
              "    </tr>\n",
              "    <tr>\n",
              "      <th>7</th>\n",
              "      <td>bocadillo</td>\n",
              "      <td>obj (object)</td>\n",
              "      <td>comió</td>\n",
              "    </tr>\n",
              "    <tr>\n",
              "      <th>8</th>\n",
              "      <td>.</td>\n",
              "      <td>punct (punctuation)</td>\n",
              "      <td>comió</td>\n",
              "    </tr>\n",
              "  </tbody>\n",
              "</table>\n",
              "</div>"
            ],
            "text/plain": [
              "     Palabra         tipo de dependencia       HEAD\n",
              "0         El            det (determiner)      perro\n",
              "1      perro     nsubj (nominal subject)      comió\n",
              "2         de         case (case marking)       Juan\n",
              "3       Juan  nmod (modifier of nominal)      perro\n",
              "4         se                obj (object)      comió\n",
              "5      comió                 ROOT (None)      comió\n",
              "6         mi            det (determiner)  bocadillo\n",
              "7  bocadillo                obj (object)      comió\n",
              "8          .         punct (punctuation)      comió"
            ]
          },
          "metadata": {
            "tags": []
          },
          "execution_count": 56
        }
      ]
    },
    {
      "cell_type": "code",
      "metadata": {
        "id": "jPA0_KNjkIEM",
        "outputId": "de73534a-9814-4204-b933-0ad784c1def5"
      },
      "source": [
        "dependencias = map(lambda token: {\n",
        "    'dep. izquierdas': [t.orth_ for t in token.lefts],\n",
        "    'palabra[tipo de dependencia]': f\"{token.orth_} [{token.dep_}]\",\n",
        "    'dep.derechas': [t.orth_ for t in token.rights]},\n",
        "    doc)\n",
        "\n",
        "pd.DataFrame(dependencias)"
      ],
      "execution_count": null,
      "outputs": [
        {
          "output_type": "execute_result",
          "data": {
            "text/html": [
              "<div>\n",
              "<style scoped>\n",
              "    .dataframe tbody tr th:only-of-type {\n",
              "        vertical-align: middle;\n",
              "    }\n",
              "\n",
              "    .dataframe tbody tr th {\n",
              "        vertical-align: top;\n",
              "    }\n",
              "\n",
              "    .dataframe thead th {\n",
              "        text-align: right;\n",
              "    }\n",
              "</style>\n",
              "<table border=\"1\" class=\"dataframe\">\n",
              "  <thead>\n",
              "    <tr style=\"text-align: right;\">\n",
              "      <th></th>\n",
              "      <th>dep. izquierdas</th>\n",
              "      <th>palabra[tipo de dependencia]</th>\n",
              "      <th>dep.derechas</th>\n",
              "    </tr>\n",
              "  </thead>\n",
              "  <tbody>\n",
              "    <tr>\n",
              "      <th>0</th>\n",
              "      <td>[]</td>\n",
              "      <td>El [det]</td>\n",
              "      <td>[]</td>\n",
              "    </tr>\n",
              "    <tr>\n",
              "      <th>1</th>\n",
              "      <td>[El]</td>\n",
              "      <td>perro [nsubj]</td>\n",
              "      <td>[Juan]</td>\n",
              "    </tr>\n",
              "    <tr>\n",
              "      <th>2</th>\n",
              "      <td>[]</td>\n",
              "      <td>de [case]</td>\n",
              "      <td>[]</td>\n",
              "    </tr>\n",
              "    <tr>\n",
              "      <th>3</th>\n",
              "      <td>[de]</td>\n",
              "      <td>Juan [nmod]</td>\n",
              "      <td>[]</td>\n",
              "    </tr>\n",
              "    <tr>\n",
              "      <th>4</th>\n",
              "      <td>[]</td>\n",
              "      <td>se [obj]</td>\n",
              "      <td>[]</td>\n",
              "    </tr>\n",
              "    <tr>\n",
              "      <th>5</th>\n",
              "      <td>[perro, se]</td>\n",
              "      <td>comió [ROOT]</td>\n",
              "      <td>[bocadillo, .]</td>\n",
              "    </tr>\n",
              "    <tr>\n",
              "      <th>6</th>\n",
              "      <td>[]</td>\n",
              "      <td>mi [det]</td>\n",
              "      <td>[]</td>\n",
              "    </tr>\n",
              "    <tr>\n",
              "      <th>7</th>\n",
              "      <td>[mi]</td>\n",
              "      <td>bocadillo [obj]</td>\n",
              "      <td>[]</td>\n",
              "    </tr>\n",
              "    <tr>\n",
              "      <th>8</th>\n",
              "      <td>[]</td>\n",
              "      <td>. [punct]</td>\n",
              "      <td>[]</td>\n",
              "    </tr>\n",
              "  </tbody>\n",
              "</table>\n",
              "</div>"
            ],
            "text/plain": [
              "  dep. izquierdas palabra[tipo de dependencia]    dep.derechas\n",
              "0              []                     El [det]              []\n",
              "1            [El]                perro [nsubj]          [Juan]\n",
              "2              []                    de [case]              []\n",
              "3            [de]                  Juan [nmod]              []\n",
              "4              []                     se [obj]              []\n",
              "5     [perro, se]                 comió [ROOT]  [bocadillo, .]\n",
              "6              []                     mi [det]              []\n",
              "7            [mi]              bocadillo [obj]              []\n",
              "8              []                    . [punct]              []"
            ]
          },
          "metadata": {
            "tags": []
          },
          "execution_count": 57
        }
      ]
    },
    {
      "cell_type": "markdown",
      "metadata": {
        "id": "fULt2srGkIEN"
      },
      "source": [
        "Podemos representar gráficamente las dependencias con el módulo de visualización `displaCy`:"
      ]
    },
    {
      "cell_type": "code",
      "metadata": {
        "id": "iIMzQMwjkIEN",
        "outputId": "00763736-b10b-441f-9124-42665351db9b"
      },
      "source": [
        "from spacy import displacy\n",
        "\n",
        "displacy.render(doc, style='dep', jupyter=True, options={'distance':120})"
      ],
      "execution_count": null,
      "outputs": [
        {
          "output_type": "display_data",
          "data": {
            "text/html": [
              "<span class=\"tex2jax_ignore\"><svg xmlns=\"http://www.w3.org/2000/svg\" xmlns:xlink=\"http://www.w3.org/1999/xlink\" xml:lang=\"es\" id=\"200265cb86464b8d818dfcfd2e3be459-0\" class=\"displacy\" width=\"1010\" height=\"317.0\" direction=\"ltr\" style=\"max-width: none; height: 317.0px; color: #000000; background: #ffffff; font-family: Arial; direction: ltr\">\n",
              "<text class=\"displacy-token\" fill=\"currentColor\" text-anchor=\"middle\" y=\"227.0\">\n",
              "    <tspan class=\"displacy-word\" fill=\"currentColor\" x=\"50\">El</tspan>\n",
              "    <tspan class=\"displacy-tag\" dy=\"2em\" fill=\"currentColor\" x=\"50\">DET</tspan>\n",
              "</text>\n",
              "\n",
              "<text class=\"displacy-token\" fill=\"currentColor\" text-anchor=\"middle\" y=\"227.0\">\n",
              "    <tspan class=\"displacy-word\" fill=\"currentColor\" x=\"170\">perro</tspan>\n",
              "    <tspan class=\"displacy-tag\" dy=\"2em\" fill=\"currentColor\" x=\"170\">PROPN</tspan>\n",
              "</text>\n",
              "\n",
              "<text class=\"displacy-token\" fill=\"currentColor\" text-anchor=\"middle\" y=\"227.0\">\n",
              "    <tspan class=\"displacy-word\" fill=\"currentColor\" x=\"290\">de</tspan>\n",
              "    <tspan class=\"displacy-tag\" dy=\"2em\" fill=\"currentColor\" x=\"290\">ADP</tspan>\n",
              "</text>\n",
              "\n",
              "<text class=\"displacy-token\" fill=\"currentColor\" text-anchor=\"middle\" y=\"227.0\">\n",
              "    <tspan class=\"displacy-word\" fill=\"currentColor\" x=\"410\">Juan</tspan>\n",
              "    <tspan class=\"displacy-tag\" dy=\"2em\" fill=\"currentColor\" x=\"410\">PROPN</tspan>\n",
              "</text>\n",
              "\n",
              "<text class=\"displacy-token\" fill=\"currentColor\" text-anchor=\"middle\" y=\"227.0\">\n",
              "    <tspan class=\"displacy-word\" fill=\"currentColor\" x=\"530\">se</tspan>\n",
              "    <tspan class=\"displacy-tag\" dy=\"2em\" fill=\"currentColor\" x=\"530\">PRON</tspan>\n",
              "</text>\n",
              "\n",
              "<text class=\"displacy-token\" fill=\"currentColor\" text-anchor=\"middle\" y=\"227.0\">\n",
              "    <tspan class=\"displacy-word\" fill=\"currentColor\" x=\"650\">comió</tspan>\n",
              "    <tspan class=\"displacy-tag\" dy=\"2em\" fill=\"currentColor\" x=\"650\">VERB</tspan>\n",
              "</text>\n",
              "\n",
              "<text class=\"displacy-token\" fill=\"currentColor\" text-anchor=\"middle\" y=\"227.0\">\n",
              "    <tspan class=\"displacy-word\" fill=\"currentColor\" x=\"770\">mi</tspan>\n",
              "    <tspan class=\"displacy-tag\" dy=\"2em\" fill=\"currentColor\" x=\"770\">DET</tspan>\n",
              "</text>\n",
              "\n",
              "<text class=\"displacy-token\" fill=\"currentColor\" text-anchor=\"middle\" y=\"227.0\">\n",
              "    <tspan class=\"displacy-word\" fill=\"currentColor\" x=\"890\">bocadillo.</tspan>\n",
              "    <tspan class=\"displacy-tag\" dy=\"2em\" fill=\"currentColor\" x=\"890\">NOUN</tspan>\n",
              "</text>\n",
              "\n",
              "<g class=\"displacy-arrow\">\n",
              "    <path class=\"displacy-arc\" id=\"arrow-200265cb86464b8d818dfcfd2e3be459-0-0\" stroke-width=\"2px\" d=\"M70,182.0 C70,122.0 160.0,122.0 160.0,182.0\" fill=\"none\" stroke=\"currentColor\"/>\n",
              "    <text dy=\"1.25em\" style=\"font-size: 0.8em; letter-spacing: 1px\">\n",
              "        <textPath xlink:href=\"#arrow-200265cb86464b8d818dfcfd2e3be459-0-0\" class=\"displacy-label\" startOffset=\"50%\" side=\"left\" fill=\"currentColor\" text-anchor=\"middle\">det</textPath>\n",
              "    </text>\n",
              "    <path class=\"displacy-arrowhead\" d=\"M70,184.0 L62,172.0 78,172.0\" fill=\"currentColor\"/>\n",
              "</g>\n",
              "\n",
              "<g class=\"displacy-arrow\">\n",
              "    <path class=\"displacy-arc\" id=\"arrow-200265cb86464b8d818dfcfd2e3be459-0-1\" stroke-width=\"2px\" d=\"M190,182.0 C190,2.0 650.0,2.0 650.0,182.0\" fill=\"none\" stroke=\"currentColor\"/>\n",
              "    <text dy=\"1.25em\" style=\"font-size: 0.8em; letter-spacing: 1px\">\n",
              "        <textPath xlink:href=\"#arrow-200265cb86464b8d818dfcfd2e3be459-0-1\" class=\"displacy-label\" startOffset=\"50%\" side=\"left\" fill=\"currentColor\" text-anchor=\"middle\">nsubj</textPath>\n",
              "    </text>\n",
              "    <path class=\"displacy-arrowhead\" d=\"M190,184.0 L182,172.0 198,172.0\" fill=\"currentColor\"/>\n",
              "</g>\n",
              "\n",
              "<g class=\"displacy-arrow\">\n",
              "    <path class=\"displacy-arc\" id=\"arrow-200265cb86464b8d818dfcfd2e3be459-0-2\" stroke-width=\"2px\" d=\"M310,182.0 C310,122.0 400.0,122.0 400.0,182.0\" fill=\"none\" stroke=\"currentColor\"/>\n",
              "    <text dy=\"1.25em\" style=\"font-size: 0.8em; letter-spacing: 1px\">\n",
              "        <textPath xlink:href=\"#arrow-200265cb86464b8d818dfcfd2e3be459-0-2\" class=\"displacy-label\" startOffset=\"50%\" side=\"left\" fill=\"currentColor\" text-anchor=\"middle\">case</textPath>\n",
              "    </text>\n",
              "    <path class=\"displacy-arrowhead\" d=\"M310,184.0 L302,172.0 318,172.0\" fill=\"currentColor\"/>\n",
              "</g>\n",
              "\n",
              "<g class=\"displacy-arrow\">\n",
              "    <path class=\"displacy-arc\" id=\"arrow-200265cb86464b8d818dfcfd2e3be459-0-3\" stroke-width=\"2px\" d=\"M190,182.0 C190,62.0 405.0,62.0 405.0,182.0\" fill=\"none\" stroke=\"currentColor\"/>\n",
              "    <text dy=\"1.25em\" style=\"font-size: 0.8em; letter-spacing: 1px\">\n",
              "        <textPath xlink:href=\"#arrow-200265cb86464b8d818dfcfd2e3be459-0-3\" class=\"displacy-label\" startOffset=\"50%\" side=\"left\" fill=\"currentColor\" text-anchor=\"middle\">nmod</textPath>\n",
              "    </text>\n",
              "    <path class=\"displacy-arrowhead\" d=\"M405.0,184.0 L413.0,172.0 397.0,172.0\" fill=\"currentColor\"/>\n",
              "</g>\n",
              "\n",
              "<g class=\"displacy-arrow\">\n",
              "    <path class=\"displacy-arc\" id=\"arrow-200265cb86464b8d818dfcfd2e3be459-0-4\" stroke-width=\"2px\" d=\"M550,182.0 C550,122.0 640.0,122.0 640.0,182.0\" fill=\"none\" stroke=\"currentColor\"/>\n",
              "    <text dy=\"1.25em\" style=\"font-size: 0.8em; letter-spacing: 1px\">\n",
              "        <textPath xlink:href=\"#arrow-200265cb86464b8d818dfcfd2e3be459-0-4\" class=\"displacy-label\" startOffset=\"50%\" side=\"left\" fill=\"currentColor\" text-anchor=\"middle\">obj</textPath>\n",
              "    </text>\n",
              "    <path class=\"displacy-arrowhead\" d=\"M550,184.0 L542,172.0 558,172.0\" fill=\"currentColor\"/>\n",
              "</g>\n",
              "\n",
              "<g class=\"displacy-arrow\">\n",
              "    <path class=\"displacy-arc\" id=\"arrow-200265cb86464b8d818dfcfd2e3be459-0-5\" stroke-width=\"2px\" d=\"M790,182.0 C790,122.0 880.0,122.0 880.0,182.0\" fill=\"none\" stroke=\"currentColor\"/>\n",
              "    <text dy=\"1.25em\" style=\"font-size: 0.8em; letter-spacing: 1px\">\n",
              "        <textPath xlink:href=\"#arrow-200265cb86464b8d818dfcfd2e3be459-0-5\" class=\"displacy-label\" startOffset=\"50%\" side=\"left\" fill=\"currentColor\" text-anchor=\"middle\">det</textPath>\n",
              "    </text>\n",
              "    <path class=\"displacy-arrowhead\" d=\"M790,184.0 L782,172.0 798,172.0\" fill=\"currentColor\"/>\n",
              "</g>\n",
              "\n",
              "<g class=\"displacy-arrow\">\n",
              "    <path class=\"displacy-arc\" id=\"arrow-200265cb86464b8d818dfcfd2e3be459-0-6\" stroke-width=\"2px\" d=\"M670,182.0 C670,62.0 885.0,62.0 885.0,182.0\" fill=\"none\" stroke=\"currentColor\"/>\n",
              "    <text dy=\"1.25em\" style=\"font-size: 0.8em; letter-spacing: 1px\">\n",
              "        <textPath xlink:href=\"#arrow-200265cb86464b8d818dfcfd2e3be459-0-6\" class=\"displacy-label\" startOffset=\"50%\" side=\"left\" fill=\"currentColor\" text-anchor=\"middle\">obj</textPath>\n",
              "    </text>\n",
              "    <path class=\"displacy-arrowhead\" d=\"M885.0,184.0 L893.0,172.0 877.0,172.0\" fill=\"currentColor\"/>\n",
              "</g>\n",
              "</svg></span>"
            ],
            "text/plain": [
              "<IPython.core.display.HTML object>"
            ]
          },
          "metadata": {
            "tags": []
          }
        }
      ]
    },
    {
      "cell_type": "markdown",
      "metadata": {
        "id": "-goHHSQWkIEN"
      },
      "source": [
        "También se pueden obtener los **sintagmas nominales** (*noun phrases*) de la oración. Cada NP tiene un sustantivo como raíz, acompañado ocasionalmente de las palabras que describen el sustantivo.  "
      ]
    },
    {
      "cell_type": "code",
      "metadata": {
        "id": "fnGody1qkIEO",
        "outputId": "9f602d2c-d4bc-439b-cd75-8f0baeced6ac"
      },
      "source": [
        "chunks = map(lambda chunk: {'NP': chunk.text,\n",
        "                            'root': chunk.root.text,\n",
        "                            'Dep.': chunk.root.dep_,\n",
        "                            'head': chunk.root.head.text},\n",
        "             doc.noun_chunks)\n",
        "\n",
        "pd.DataFrame(chunks)"
      ],
      "execution_count": null,
      "outputs": [
        {
          "output_type": "execute_result",
          "data": {
            "text/html": [
              "<div>\n",
              "<style scoped>\n",
              "    .dataframe tbody tr th:only-of-type {\n",
              "        vertical-align: middle;\n",
              "    }\n",
              "\n",
              "    .dataframe tbody tr th {\n",
              "        vertical-align: top;\n",
              "    }\n",
              "\n",
              "    .dataframe thead th {\n",
              "        text-align: right;\n",
              "    }\n",
              "</style>\n",
              "<table border=\"1\" class=\"dataframe\">\n",
              "  <thead>\n",
              "    <tr style=\"text-align: right;\">\n",
              "      <th></th>\n",
              "      <th>NP</th>\n",
              "      <th>root</th>\n",
              "      <th>Dep.</th>\n",
              "      <th>head</th>\n",
              "    </tr>\n",
              "  </thead>\n",
              "  <tbody>\n",
              "    <tr>\n",
              "      <th>0</th>\n",
              "      <td>El perro</td>\n",
              "      <td>perro</td>\n",
              "      <td>nsubj</td>\n",
              "      <td>comió</td>\n",
              "    </tr>\n",
              "    <tr>\n",
              "      <th>1</th>\n",
              "      <td>Juan</td>\n",
              "      <td>Juan</td>\n",
              "      <td>nmod</td>\n",
              "      <td>perro</td>\n",
              "    </tr>\n",
              "    <tr>\n",
              "      <th>2</th>\n",
              "      <td>se</td>\n",
              "      <td>se</td>\n",
              "      <td>obj</td>\n",
              "      <td>comió</td>\n",
              "    </tr>\n",
              "    <tr>\n",
              "      <th>3</th>\n",
              "      <td>mi bocadillo</td>\n",
              "      <td>bocadillo</td>\n",
              "      <td>obj</td>\n",
              "      <td>comió</td>\n",
              "    </tr>\n",
              "  </tbody>\n",
              "</table>\n",
              "</div>"
            ],
            "text/plain": [
              "             NP       root   Dep.   head\n",
              "0      El perro      perro  nsubj  comió\n",
              "1          Juan       Juan   nmod  perro\n",
              "2            se         se    obj  comió\n",
              "3  mi bocadillo  bocadillo    obj  comió"
            ]
          },
          "metadata": {
            "tags": []
          },
          "execution_count": 59
        }
      ]
    },
    {
      "cell_type": "markdown",
      "metadata": {
        "id": "luqpKhEmkIEO"
      },
      "source": [
        "# Búsqueda de patrones\n",
        "Spacy tiene una clase `Matcher` que permite buscar tokens con un patrón definido en los objetos `Doc`.  \n",
        "Se puede buscar por el texto del token o por los atributos del token.  \n",
        "Ref: https://spacy.io/usage/rule-based-matching"
      ]
    },
    {
      "cell_type": "code",
      "metadata": {
        "id": "meG4SjJ6kIEO"
      },
      "source": [
        "from spacy.matcher import Matcher\n",
        "\n",
        "#inicializamos sobre el vocabulario\n",
        "matcher = Matcher(nlp.vocab)"
      ],
      "execution_count": null,
      "outputs": []
    },
    {
      "cell_type": "code",
      "metadata": {
        "id": "bLTlfZvGkIEP",
        "outputId": "d2287a28-c06b-4429-d68e-d447655ef9ce"
      },
      "source": [
        "#definimos un patrón de texto a buscar\n",
        "patron = [{\"TEXT\": \"iPhone\"}, {\"TEXT\": \"X\"}] #Patrón: texto 'iPhone' seguido de texto 'X'\n",
        "matcher.add(\"iphone_x\", [patron])\n",
        "\n",
        "#procesamos un documento con el patrón\n",
        "doc = nlp(\"El iPhone X salió después del iPhone 8, pero nunca sacaron el iPhone 9\")\n",
        "\n",
        "#llamamos al matcher\n",
        "matches = matcher(doc)\n",
        "\n",
        "#iteramos sobre los resultados\n",
        "for match_id, start, end in matches:\n",
        "    matched_span = doc[start:end]\n",
        "    print(matched_span.text)"
      ],
      "execution_count": null,
      "outputs": [
        {
          "output_type": "stream",
          "text": [
            "iPhone X\n"
          ],
          "name": "stdout"
        }
      ]
    },
    {
      "cell_type": "markdown",
      "metadata": {
        "id": "YdfGIr5ykIEQ"
      },
      "source": [
        "Podemos buscar por atributos del token:"
      ]
    },
    {
      "cell_type": "code",
      "metadata": {
        "id": "Ano6A6bpkIEQ",
        "outputId": "65b445e1-4753-4207-a8cd-950e81e66b70"
      },
      "source": [
        "patron = [{\"TEXT\": \"iPhone\"}, {\"IS_DIGIT\": True}] #Patrón: texto 'iPhone' seguido token con la atributo 'IS_DIGIT' a True\n",
        "matcher.add(\"iphone_NN\", [patron])\n",
        "#llamamos al matcher\n",
        "matches = matcher(doc)\n",
        "\n",
        "#iteramos sobre los resultados\n",
        "for match_id, start, end in matches:\n",
        "    matched_span = doc[start:end] #span del match en el documento\n",
        "    string_id = nlp.vocab.strings[match_id] #identificador del match\n",
        "    print(f\"{string_id}: {matched_span.text}\")"
      ],
      "execution_count": null,
      "outputs": [
        {
          "output_type": "stream",
          "text": [
            "iphone_x: iPhone X\n",
            "iphone_NN: iPhone 8\n",
            "iphone_NN: iPhone 9\n"
          ],
          "name": "stdout"
        }
      ]
    },
    {
      "cell_type": "code",
      "metadata": {
        "id": "tl6UrH30kIEQ",
        "outputId": "fdd3540d-5569-4066-abfe-c227d33e2455"
      },
      "source": [
        "doc = nlp(\"A mí me gusta bailar y a Pedro le gustaba tocar la trompeta pero no le gusta María y el gusta el iPhone X\")\n",
        "\n",
        "patron = [{\"LEMMA\": \"gustar\"}, {\"POS\": \"PROPN\"}]\n",
        "matcher.add(\"gustar_persona\", [patron])\n",
        "#llamamos al matcher\n",
        "matches = matcher(doc)\n",
        "\n",
        "#iteramos sobre el resultado\n",
        "for match_id, start, end in matches:\n",
        "    matched_span = doc[start:end]\n",
        "    string_id = nlp.vocab.strings[match_id]\n",
        "    print(f\"{string_id}: {matched_span.text}\")"
      ],
      "execution_count": null,
      "outputs": [
        {
          "output_type": "stream",
          "text": [
            "gustar_persona: gusta María\n",
            "iphone_x: iPhone X\n"
          ],
          "name": "stdout"
        }
      ]
    },
    {
      "cell_type": "markdown",
      "metadata": {
        "id": "bC-HX7d7kIER"
      },
      "source": [
        "### Ejercicio 3\n",
        "Creamos un nuevo patrón para \"gustar\" + verbo"
      ]
    },
    {
      "cell_type": "code",
      "metadata": {
        "id": "fCsxkwE0kIER",
        "outputId": "d760400f-7ac3-4a1b-dd3c-f70082c464d1"
      },
      "source": [
        "patron = [{'LEMMA':'gustar'}, {'POS':'VERB'}]\n",
        "matcher.add(\"gustar_verbo\", [patron])\n",
        "#llamamos al matcher\n",
        "matches = matcher(doc)\n",
        "\n",
        "#iteramos sobre el resultado\n",
        "for match_id, start, end in matches:\n",
        "    matched_span = doc[start:end]\n",
        "    string_id = nlp.vocab.strings[match_id]\n",
        "    print(f\"{string_id}: {matched_span.text}\")"
      ],
      "execution_count": null,
      "outputs": [
        {
          "output_type": "stream",
          "text": [
            "gustar_verbo: gusta bailar\n",
            "gustar_verbo: gustaba tocar\n",
            "gustar_persona: gusta María\n",
            "iphone_x: iPhone X\n"
          ],
          "name": "stdout"
        }
      ]
    },
    {
      "cell_type": "markdown",
      "metadata": {
        "id": "nCTJb5EYkIER"
      },
      "source": [
        "### Ejercicio 4\n",
        "Busca todas las secuencias de texto formadas por nombre seguido de adjetivo en el texto siguiente."
      ]
    },
    {
      "cell_type": "code",
      "metadata": {
        "id": "-WzhO3oOkIER",
        "outputId": "62bfc6f6-4685-4852-a2b5-9dcfa2253558"
      },
      "source": [
        "texto = \"En el agua muerta, de una brillantez de estaño, permanecía inmóvil la barca-correo: \\\n",
        "un gran ataúd cargado de personas y paquetes, con la borda casi a flor de agua. La vela triangular, \\\n",
        "con remiendos obscuros, estaba rematada por un guiñapo incoloro que en otros tiempos había sido una \\\n",
        "bandera española y delataba el carácter oficial de la vieja embarcación.\"\n",
        "\n",
        "#solución\n",
        "doc = nlp(texto)\n",
        "patron = [{'POS':'NOUN'}, {'POS':'ADJ'}]\n",
        "matcher.add(\"Nom_adj\", [patron])\n",
        "#llamamos al matcher\n",
        "matches = matcher(doc)\n",
        "\n",
        "#iteramos sobre el resultado\n",
        "for match_id, start, end in matches:\n",
        "    matched_span = doc[start:end]\n",
        "    string_id = nlp.vocab.strings[match_id]\n",
        "    print(f\"{string_id}: {matched_span.text}\")"
      ],
      "execution_count": null,
      "outputs": [
        {
          "output_type": "stream",
          "text": [
            "Nom_adj: agua muerta\n",
            "Nom_adj: ataúd cargado\n",
            "Nom_adj: vela triangular\n",
            "Nom_adj: guiñapo incoloro\n",
            "Nom_adj: bandera española\n",
            "Nom_adj: carácter oficial\n"
          ],
          "name": "stdout"
        }
      ]
    },
    {
      "cell_type": "code",
      "metadata": {
        "id": "sDvpPc4pkIES"
      },
      "source": [
        ""
      ],
      "execution_count": null,
      "outputs": []
    }
  ]
}