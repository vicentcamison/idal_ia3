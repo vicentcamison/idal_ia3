{
  "nbformat": 4,
  "nbformat_minor": 0,
  "metadata": {
    "kernelspec": {
      "display_name": "Python 3",
      "language": "python",
      "name": "python3"
    },
    "language_info": {
      "codemirror_mode": {
        "name": "ipython",
        "version": 3
      },
      "file_extension": ".py",
      "mimetype": "text/x-python",
      "name": "python",
      "nbconvert_exporter": "python",
      "pygments_lexer": "ipython3",
      "version": "3.8.5"
    },
    "colab": {
      "name": "NLP_03-Web scraping.ipynb",
      "provenance": [],
      "include_colab_link": true
    }
  },
  "cells": [
    {
      "cell_type": "markdown",
      "metadata": {
        "id": "view-in-github",
        "colab_type": "text"
      },
      "source": [
        "<a href=\"https://colab.research.google.com/github/vicentcamison/idal_ia3/blob/main/5%20Procesado%20del%20lenguaje%20natural/Sesion%201/NLP_03_Web_scraping.ipynb\" target=\"_parent\"><img src=\"https://colab.research.google.com/assets/colab-badge.svg\" alt=\"Open In Colab\"/></a>"
      ]
    },
    {
      "cell_type": "markdown",
      "metadata": {
        "id": "8Ymjqq3uxRjI"
      },
      "source": [
        "# Web Scraping con Python\n",
        "Vamos a usar las librerías [Requests](https://requests.kennethreitz.org/en/master/) y [BeautifulSoup](https://www.crummy.com/software/BeautifulSoup/bs4/doc/) para hacer web scraping. Instalación (en Anaconda):\n",
        "```\n",
        "conda install requests beautifulsoup4\n",
        "```"
      ]
    },
    {
      "cell_type": "code",
      "metadata": {
        "id": "x8s_7EkSxRjU"
      },
      "source": [
        "import requests\n",
        "from bs4 import BeautifulSoup"
      ],
      "execution_count": null,
      "outputs": []
    },
    {
      "cell_type": "code",
      "metadata": {
        "id": "IXoteTKlxRjW"
      },
      "source": [
        "#r = requests.get(\"https://es.wikipedia.org/wiki/Web_scraping\")\n",
        "r = requests.get(\"https://idal.uv.es/ejemplo.html\")"
      ],
      "execution_count": null,
      "outputs": []
    },
    {
      "cell_type": "code",
      "metadata": {
        "id": "1km_YoxFxRjW",
        "outputId": "0782d47d-3e87-473e-9af4-c685e6f16718"
      },
      "source": [
        "type(r)"
      ],
      "execution_count": null,
      "outputs": [
        {
          "output_type": "execute_result",
          "data": {
            "text/plain": [
              "requests.models.Response"
            ]
          },
          "metadata": {
            "tags": []
          },
          "execution_count": 5
        }
      ]
    },
    {
      "cell_type": "code",
      "metadata": {
        "id": "99Bw6lUqxRjZ",
        "outputId": "22c6be54-13de-4c46-e7a2-c716aba4a9fa"
      },
      "source": [
        "r.url"
      ],
      "execution_count": null,
      "outputs": [
        {
          "output_type": "execute_result",
          "data": {
            "text/plain": [
              "'https://idal.uv.es/ejemplo.html'"
            ]
          },
          "metadata": {
            "tags": []
          },
          "execution_count": 6
        }
      ]
    },
    {
      "cell_type": "markdown",
      "metadata": {
        "id": "TsEKev2yxRja"
      },
      "source": [
        "Para obtener la respuesta completa (código HTML de la página) como una cadena de texto accedemos al atributo `text`:"
      ]
    },
    {
      "cell_type": "code",
      "metadata": {
        "id": "2IOgM6qqxRjb",
        "outputId": "bab18917-f655-4537-8496-469f8eb56641"
      },
      "source": [
        "print(r.text)"
      ],
      "execution_count": null,
      "outputs": [
        {
          "output_type": "stream",
          "text": [
            "<!DOCTYPE html>\n",
            "<html lang=\"es\">\n",
            "<head>\n",
            "  <title>Página de ejemplo</title>\n",
            "  <meta charset=\"UTF-8\"/>\n",
            "  <meta name=\"viewport\" content=\"width=device-width, initial-scale=1\">\n",
            "  <link rel=\"stylesheet\" href=\"https://maxcdn.bootstrapcdn.com/bootstrap/3.4.0/css/bootstrap.min.css\">\n",
            "</head>\n",
            "<body>\n",
            "\n",
            "  <div class=\"jumbotron text-center\">\n",
            "    <h1>Página de ejemplo</h1>\n",
            "    <p>Página <em>HTML</em> con texto de ejemplo para hacer web scraping</p> \n",
            "  </div>\n",
            "  \n",
            "  <div class=\"container\">\n",
            "    <div class=\"row\">\n",
            "      <div class=\"col-sm-4\">\n",
            "        <h3>Columna 1</h3>\n",
            "        <p>Lorem ipsum dolor sit amet, consectetur adipisicing elit...</p>\n",
            "        <p>Ut enim ad minim veniam, quis nostrud exercitation ullamco laboris...</p>\n",
            "        <a class=\"btn\" href=\"#\" title=\"IDAL\">Enlace 1</a>\n",
            "      </div>\n",
            "      <div class=\"col-sm-4\">\n",
            "        <h3>Columna 2</h3>\n",
            "        <p>Lorem ipsum dolor sit amet, consectetur adipisicing elit...</p>\n",
            "        <p>Ut enim ad minim veniam, quis nostrud exercitation ullamco laboris...</p>\n",
            "        <a class=\"btn\" href=\"#\" title=\"IDAL\">Enlace 2</a>\n",
            "      </div>\n",
            "      <div class=\"col-sm-4\" id=\"col4\">\n",
            "        <h3>Columna 3</h3>        \n",
            "        <p>Lorem ipsum dolor sit amet, consectetur adipisicing elit...</p>\n",
            "        <p>Ut enim ad minim veniam, quis nostrud exercitation ullamco laboris...</p>\n",
            "        <a class=\"btn\" href=\"#\" title=\"IDAL\">Enlace 3</a>\n",
            "      </div>\n",
            "    </div>\n",
            "    <div class=\"row\" id=\"enlaces\">   \n",
            "      <h2>Algunos enlaces de prueba</h2>\n",
            "      <ul>\n",
            "        <li><a class=\"enlace\" href=\"https://idal.uv.es\" title=\"IDAL\">Intelligent Data Analysis Laboratory</a></li>\n",
            "        <li><a class=\"enlace\" href=\"http://etse.uv.es\" title=\"ETSE\">Escola Tècnica Superior d'Enginyeria</a></li>\n",
            "        <li><a class=\"enlace\" href=\"http://uv.es\" title=\"UV\">Universitat de València</a></li>\n",
            "      </ul>\n",
            "    </div>\n",
            "  </div>\n",
            "</body>\n",
            "</html>\n"
          ],
          "name": "stdout"
        }
      ]
    },
    {
      "cell_type": "markdown",
      "metadata": {
        "id": "RgBa0fSIxRjc"
      },
      "source": [
        "El objeto devuelto es de un tipo específico con unos atributos determinados:"
      ]
    },
    {
      "cell_type": "code",
      "metadata": {
        "id": "ae7EgtL9xRjc",
        "outputId": "551e662d-ce5f-4b83-e2df-c5fcf03df62a"
      },
      "source": [
        "type(r)"
      ],
      "execution_count": null,
      "outputs": [
        {
          "output_type": "execute_result",
          "data": {
            "text/plain": [
              "requests.models.Response"
            ]
          },
          "metadata": {
            "tags": []
          },
          "execution_count": 8
        }
      ]
    },
    {
      "cell_type": "code",
      "metadata": {
        "id": "54nQy_hpxRjd",
        "outputId": "73584445-6805-4a2d-f1ce-674d956c03e2"
      },
      "source": [
        "[s for s in dir(r) if not s.startswith('_')]"
      ],
      "execution_count": null,
      "outputs": [
        {
          "output_type": "execute_result",
          "data": {
            "text/plain": [
              "['apparent_encoding',\n",
              " 'close',\n",
              " 'connection',\n",
              " 'content',\n",
              " 'cookies',\n",
              " 'elapsed',\n",
              " 'encoding',\n",
              " 'headers',\n",
              " 'history',\n",
              " 'is_permanent_redirect',\n",
              " 'is_redirect',\n",
              " 'iter_content',\n",
              " 'iter_lines',\n",
              " 'json',\n",
              " 'links',\n",
              " 'next',\n",
              " 'ok',\n",
              " 'raise_for_status',\n",
              " 'raw',\n",
              " 'reason',\n",
              " 'request',\n",
              " 'status_code',\n",
              " 'text',\n",
              " 'url']"
            ]
          },
          "metadata": {
            "tags": []
          },
          "execution_count": 9
        }
      ]
    },
    {
      "cell_type": "markdown",
      "metadata": {
        "id": "TLVnzHnexRje"
      },
      "source": [
        "Podemos ver el código de respuesta del servidor (útil para detectar errores 4XX o 5XX):"
      ]
    },
    {
      "cell_type": "code",
      "metadata": {
        "id": "j7j2VMzAxRjg",
        "outputId": "61be49f0-ba83-4291-f4f1-8d609b9223f8"
      },
      "source": [
        "r.status_code"
      ],
      "execution_count": null,
      "outputs": [
        {
          "output_type": "execute_result",
          "data": {
            "text/plain": [
              "200"
            ]
          },
          "metadata": {
            "tags": []
          },
          "execution_count": 10
        }
      ]
    },
    {
      "cell_type": "markdown",
      "metadata": {
        "id": "Rr13E-mrxRjh"
      },
      "source": [
        "Para comprobar el tipo de respuesta (Content Type) y ver si es HTML, JSON, XML, etc.:"
      ]
    },
    {
      "cell_type": "code",
      "metadata": {
        "id": "5DwuM3WjxRji",
        "outputId": "0546c41b-87a6-4764-9912-3e516490fe4a"
      },
      "source": [
        "r.headers[\"content-type\"]"
      ],
      "execution_count": null,
      "outputs": [
        {
          "output_type": "execute_result",
          "data": {
            "text/plain": [
              "'text/html; charset=UTF-8'"
            ]
          },
          "metadata": {
            "tags": []
          },
          "execution_count": 12
        }
      ]
    },
    {
      "cell_type": "markdown",
      "metadata": {
        "id": "wauMfgvrxRjj"
      },
      "source": [
        "Si el servidor diera la información de la codificación incorrecta (p. ej. ISO-8859-1 para una página UTF-8) podemos forzar una nueva codificación"
      ]
    },
    {
      "cell_type": "code",
      "metadata": {
        "id": "9fuia3rDxRjj",
        "outputId": "4628cbc1-52d3-4d29-8b0c-ee4794e5c36a"
      },
      "source": [
        "r.encoding"
      ],
      "execution_count": null,
      "outputs": [
        {
          "output_type": "execute_result",
          "data": {
            "text/plain": [
              "'UTF-8'"
            ]
          },
          "metadata": {
            "tags": []
          },
          "execution_count": 11
        }
      ]
    },
    {
      "cell_type": "code",
      "metadata": {
        "id": "7MZdJgN2xRjk"
      },
      "source": [
        "r.encoding='UTF-8' #cambiar a ISO-8859-1 para comprobar que muestra mal los acentos"
      ],
      "execution_count": null,
      "outputs": []
    },
    {
      "cell_type": "markdown",
      "metadata": {
        "id": "DYWMxXPdxRjk"
      },
      "source": [
        "Podemos ver todas las cabeceras devueltas:"
      ]
    },
    {
      "cell_type": "code",
      "metadata": {
        "id": "y7f5KxC2xRjk",
        "outputId": "7e114d49-2b77-4e7c-ad81-5998064cb930"
      },
      "source": [
        "r.headers"
      ],
      "execution_count": null,
      "outputs": [
        {
          "output_type": "execute_result",
          "data": {
            "text/plain": [
              "{'Date': 'Sun, 25 Apr 2021 19:55:59 GMT', 'Server': 'Apache/2.4.29 (Ubuntu)', 'Last-Modified': 'Wed, 10 Feb 2021 10:11:14 GMT', 'ETag': '\"73d-5baf89f8467b1-gzip\"', 'Accept-Ranges': 'bytes', 'Vary': 'Accept-Encoding', 'Content-Encoding': 'gzip', 'Content-Length': '673', 'Keep-Alive': 'timeout=5, max=100', 'Connection': 'Keep-Alive', 'Content-Type': 'text/html; charset=UTF-8'}"
            ]
          },
          "metadata": {
            "tags": []
          },
          "execution_count": 13
        }
      ]
    },
    {
      "cell_type": "markdown",
      "metadata": {
        "id": "GE_ESJUNxRjl"
      },
      "source": [
        "O una cabecera en concreto"
      ]
    },
    {
      "cell_type": "code",
      "metadata": {
        "id": "Z0mgQGRkxRjm",
        "outputId": "acda30b7-a941-4af5-b7c0-e68d617519bb"
      },
      "source": [
        "r.headers['Content-Type']"
      ],
      "execution_count": null,
      "outputs": [
        {
          "output_type": "execute_result",
          "data": {
            "text/plain": [
              "'text/html; charset=UTF-8'"
            ]
          },
          "metadata": {
            "tags": []
          },
          "execution_count": 14
        }
      ]
    },
    {
      "cell_type": "markdown",
      "metadata": {
        "id": "Hr1WfwS6xRjm"
      },
      "source": [
        "### Extraer contenido del HTML\n",
        "Usar expresiones regulares para buscar patrones HTML no está recomendado. Es mejor usar una librería para \"parsear\" el HTML y extraer el contenido de las etiquetas específicas.  \n",
        "Aún así, las RegEx se pueden usar para buscar patrones específicos como listas de precios, direcciones de correo, números de teléfono.  \n",
        "Podemos ejecutar una RegEx en el texto de respuesta para buscar un patrón específico, como p. ej. una URL:"
      ]
    },
    {
      "cell_type": "code",
      "metadata": {
        "id": "ChSFZxIqxRjm",
        "outputId": "582cc5eb-9462-496e-e6d1-c2b73ed018be"
      },
      "source": [
        "import re\n",
        "\n",
        "re.findall(r'https?://[\\w_./]+', r.text)\n",
        "#La expresión regular quiere decir, de forma literal:\n",
        "# Buscar todos los conjuntos que contengan http, y quizás una s detrás (s?)\n",
        "# que además contenga detrás ://, y un conjunto de caracteres alfanuméricos \\w con barras y puntos [\\w_./]+\n",
        "# Además, este conjunto [\\w_./] ha de aparecer una o más veces, por eso el signo +"
      ],
      "execution_count": null,
      "outputs": [
        {
          "output_type": "execute_result",
          "data": {
            "text/plain": [
              "['https://maxcdn.bootstrapcdn.com/bootstrap/3.4.0/css/bootstrap.min.css',\n",
              " 'https://idal.uv.es',\n",
              " 'http://etse.uv.es',\n",
              " 'http://uv.es']"
            ]
          },
          "metadata": {
            "tags": []
          },
          "execution_count": 15
        }
      ]
    },
    {
      "cell_type": "markdown",
      "metadata": {
        "id": "JPVBxBJ-xRjn"
      },
      "source": [
        "## Librería BeautifulSoup\n",
        "La librería BeautifulSoup se utiliza para extraer contenidos desde una página HTML. Tiene una API muy simple a la vez que potente.  \n",
        "Para empezar, hay que convertir el HTML del texto de respuesta en una estructura DOM jerárquica que se pueda recorrer y buscar.\n"
      ]
    },
    {
      "cell_type": "code",
      "metadata": {
        "id": "WI58HlaZxRjo"
      },
      "source": [
        "soup = BeautifulSoup(r.text, \"html.parser\")"
      ],
      "execution_count": null,
      "outputs": []
    },
    {
      "cell_type": "code",
      "metadata": {
        "id": "Bc2yI-7IxRjo",
        "outputId": "d929c0d1-6d72-4495-8505-ff91a8bdce7d"
      },
      "source": [
        "type(soup)"
      ],
      "execution_count": null,
      "outputs": [
        {
          "output_type": "execute_result",
          "data": {
            "text/plain": [
              "bs4.BeautifulSoup"
            ]
          },
          "metadata": {
            "tags": []
          },
          "execution_count": 17
        }
      ]
    },
    {
      "cell_type": "markdown",
      "metadata": {
        "id": "9z0xtotSxRjp"
      },
      "source": [
        "Podemos referirnos a cada elemento del DOM por su nombre dentro del objeto `soup` (si hay varias apariciones sólo devuelve la primera)"
      ]
    },
    {
      "cell_type": "code",
      "metadata": {
        "id": "GZQL9beuxRjp",
        "outputId": "5acf808b-7d66-4732-acc6-07bc8cadcb61"
      },
      "source": [
        "#Busca la aparición de la etiqueta <title> dentro del documento HTML y la devuelve, incluyendo\n",
        "# las etiquetas\n",
        "soup.title"
      ],
      "execution_count": null,
      "outputs": [
        {
          "output_type": "execute_result",
          "data": {
            "text/plain": [
              "<title>Página de ejemplo</title>"
            ]
          },
          "metadata": {
            "tags": []
          },
          "execution_count": 18
        }
      ]
    },
    {
      "cell_type": "code",
      "metadata": {
        "id": "VKY7rd0txRjq"
      },
      "source": [
        "titulo = soup.title.text\n",
        "print(titulo)"
      ],
      "execution_count": null,
      "outputs": []
    },
    {
      "cell_type": "code",
      "metadata": {
        "id": "uu82nGnwxRjq",
        "outputId": "68962aa9-7ab5-483d-f72e-b702a8c2b53e"
      },
      "source": [
        "# Los enlaces son etiquetas de tipo a\n",
        "# soup.a busca la primera etiqueta que aparece\n",
        "soup.a"
      ],
      "execution_count": null,
      "outputs": [
        {
          "output_type": "execute_result",
          "data": {
            "text/plain": [
              "<a class=\"btn\" href=\"#\" title=\"IDAL\">Enlace 1</a>"
            ]
          },
          "metadata": {
            "tags": []
          },
          "execution_count": 19
        }
      ]
    },
    {
      "cell_type": "code",
      "metadata": {
        "id": "V15TlQfFxRjr",
        "outputId": "40e0085c-487b-4c49-e7a4-9a408f11ca9f"
      },
      "source": [
        "#Podemos también decirle que muestre alguno de los atributos, como por ejemplo\n",
        "# el texto que aparece para ser clicado\n",
        "soup.a.text"
      ],
      "execution_count": null,
      "outputs": [
        {
          "output_type": "execute_result",
          "data": {
            "text/plain": [
              "'Enlace 1'"
            ]
          },
          "metadata": {
            "tags": []
          },
          "execution_count": 21
        }
      ]
    },
    {
      "cell_type": "code",
      "metadata": {
        "id": "dwLdVrIwxRjr",
        "outputId": "25e2cd44-179e-4039-ef03-2d2c253d897a"
      },
      "source": [
        "# o por ejemplo también la clase (podemos comprobar que la devuelve bien si lo comparamos\n",
        "# con el output de soup.a dos celdas más arriba)\n",
        "soup.a['class']"
      ],
      "execution_count": null,
      "outputs": [
        {
          "output_type": "execute_result",
          "data": {
            "text/plain": [
              "['btn']"
            ]
          },
          "metadata": {
            "tags": []
          },
          "execution_count": 20
        }
      ]
    },
    {
      "cell_type": "code",
      "metadata": {
        "id": "fITE96qYxRjs",
        "outputId": "d2237454-a6f9-486e-ac97-04943a83317d"
      },
      "source": [
        "soup.a['title']"
      ],
      "execution_count": null,
      "outputs": [
        {
          "output_type": "execute_result",
          "data": {
            "text/plain": [
              "'IDAL'"
            ]
          },
          "metadata": {
            "tags": []
          },
          "execution_count": 24
        }
      ]
    },
    {
      "cell_type": "markdown",
      "metadata": {
        "id": "_CoJOVKtxRjt"
      },
      "source": [
        "El método `find_all` devuelve una lista con todas las etiquetas que encuentra. El método `find` sólo devuelve el primer resultado de la búsqueda.   \n",
        "En ambos casos, cada etiqueta contiene todo su contenido en la estructura DOM."
      ]
    },
    {
      "cell_type": "code",
      "metadata": {
        "id": "UWVLJKtJxRjt",
        "outputId": "1a20b3bb-0caf-40e2-f6b0-5fc703f5d474"
      },
      "source": [
        "link = soup.find(\"a\")\n",
        "link"
      ],
      "execution_count": null,
      "outputs": [
        {
          "output_type": "execute_result",
          "data": {
            "text/plain": [
              "<a class=\"btn\" href=\"#\" title=\"IDAL\">Enlace 1</a>"
            ]
          },
          "metadata": {
            "tags": []
          },
          "execution_count": 25
        }
      ]
    },
    {
      "cell_type": "code",
      "metadata": {
        "id": "iHAbdyhSxRjt",
        "outputId": "dc86c374-600c-42c5-c98a-a123cccc398d"
      },
      "source": [
        "type(link)"
      ],
      "execution_count": null,
      "outputs": [
        {
          "output_type": "execute_result",
          "data": {
            "text/plain": [
              "bs4.element.Tag"
            ]
          },
          "metadata": {
            "tags": []
          },
          "execution_count": 26
        }
      ]
    },
    {
      "cell_type": "markdown",
      "metadata": {
        "id": "TBMnvXXHxRjt"
      },
      "source": [
        "De cada enlace podemos obtener sus atributos"
      ]
    },
    {
      "cell_type": "code",
      "metadata": {
        "id": "cdE930uexRju",
        "outputId": "c3080076-23fa-45b2-9544-7f18eba3acb5"
      },
      "source": [
        "link.get('class') #equivalente a link['class']"
      ],
      "execution_count": null,
      "outputs": [
        {
          "output_type": "execute_result",
          "data": {
            "text/plain": [
              "['btn']"
            ]
          },
          "metadata": {
            "tags": []
          },
          "execution_count": 27
        }
      ]
    },
    {
      "cell_type": "code",
      "metadata": {
        "id": "s63tb8HHxRju",
        "outputId": "2ab3c463-9861-4b86-fb8d-779e7af49041"
      },
      "source": [
        "link.attrs"
      ],
      "execution_count": null,
      "outputs": [
        {
          "output_type": "execute_result",
          "data": {
            "text/plain": [
              "{'class': ['btn'], 'href': '#', 'title': 'IDAL'}"
            ]
          },
          "metadata": {
            "tags": []
          },
          "execution_count": 28
        }
      ]
    },
    {
      "cell_type": "markdown",
      "metadata": {
        "id": "uOTwXYEaxRjv"
      },
      "source": [
        "Podemos encadenar varias etiquetas a buscar"
      ]
    },
    {
      "cell_type": "code",
      "metadata": {
        "id": "hX1MxLqsxRjv",
        "outputId": "99779f7e-fe6e-45c0-f518-7719fb47dd80"
      },
      "source": [
        "soup.find('p').find('em')\n",
        "# En este caso, va a buscar la primera etiqueta que encuentre del tipo <p> y, en su contendio,\n",
        "# (es decir, en el interior de <p>[...]</p>), va a buscar la primera etiqueta que encuentre\n",
        "# del tipo <em>\n",
        "# El contenido de esa segunda etiqueta, incluyendo los tags, es lo que se devolverá"
      ],
      "execution_count": null,
      "outputs": [
        {
          "output_type": "execute_result",
          "data": {
            "text/plain": [
              "<em>HTML</em>"
            ]
          },
          "metadata": {
            "tags": []
          },
          "execution_count": 29
        }
      ]
    },
    {
      "cell_type": "markdown",
      "metadata": {
        "id": "efegx17-xRjw"
      },
      "source": [
        "Podemos acotar la búsqueda a una clase específica de la etiqueta (p.ej. `<a class=\"enlace\">...</a>`)"
      ]
    },
    {
      "cell_type": "code",
      "metadata": {
        "id": "8fgOMPC9xRjw",
        "outputId": "12a9842c-cd51-4e45-ac73-fb24396b0f1c"
      },
      "source": [
        "tag = soup.find(\"a\", class_=\"enlace\")\n",
        "print(tag)"
      ],
      "execution_count": null,
      "outputs": [
        {
          "output_type": "stream",
          "text": [
            "<a class=\"enlace\" href=\"https://idal.uv.es\" title=\"IDAL\">Intelligent Data Analysis Laboratory</a>\n"
          ],
          "name": "stdout"
        }
      ]
    },
    {
      "cell_type": "code",
      "metadata": {
        "id": "GJ_qSchVxRjw",
        "outputId": "31da222a-25e4-410a-de34-912d357fe91c"
      },
      "source": [
        "#o simplemente\n",
        "tag = soup.find(\"a\", \"enlace\")\n",
        "print(tag)"
      ],
      "execution_count": null,
      "outputs": [
        {
          "output_type": "stream",
          "text": [
            "<a class=\"enlace\" href=\"https://idal.uv.es\" title=\"IDAL\">Intelligent Data Analysis Laboratory</a>\n"
          ],
          "name": "stdout"
        }
      ]
    },
    {
      "cell_type": "markdown",
      "metadata": {
        "id": "pwZgW0ivxRjy"
      },
      "source": [
        "Podemos buscar una etiqueta con un atributo ID específico (p.ej.: `<div id=\"col4\">...</div>`)"
      ]
    },
    {
      "cell_type": "code",
      "metadata": {
        "id": "DOTSv5oUxRjy",
        "outputId": "d50e7130-4228-4718-cb49-e6a32bf6480c"
      },
      "source": [
        "tag = soup.find(\"div\", id=\"col4\")\n",
        "print(tag)"
      ],
      "execution_count": null,
      "outputs": [
        {
          "output_type": "stream",
          "text": [
            "<div class=\"col-sm-4\" id=\"col4\">\n",
            "<h3>Columna 3</h3>\n",
            "<p>Lorem ipsum dolor sit amet, consectetur adipisicing elit...</p>\n",
            "<p>Ut enim ad minim veniam, quis nostrud exercitation ullamco laboris...</p>\n",
            "<a class=\"btn\" href=\"#\" title=\"IDAL\">Enlace 3</a>\n",
            "</div>\n"
          ],
          "name": "stdout"
        }
      ]
    },
    {
      "cell_type": "markdown",
      "metadata": {
        "id": "BJLJbQkvxRjy"
      },
      "source": [
        "Si ahora quisiéramos únicamente quedarnos con el párrafo **h3**, lo que tendríamos que hacer es lo siguiente:"
      ]
    },
    {
      "cell_type": "code",
      "metadata": {
        "id": "arA-mnpIxRjy",
        "outputId": "39e43a8d-0d2b-414d-d251-d50060b17a3a"
      },
      "source": [
        "tag = soup.find(\"div\", id=\"col4\").find(\"h3\")\n",
        "print(tag)"
      ],
      "execution_count": null,
      "outputs": [
        {
          "output_type": "stream",
          "text": [
            "<h3>Columna 3</h3>\n"
          ],
          "name": "stdout"
        }
      ]
    },
    {
      "cell_type": "markdown",
      "metadata": {
        "id": "2LdVJN9oxRjy"
      },
      "source": [
        "El objeto que devuelve `find()` es del tipo `Tag`\n"
      ]
    },
    {
      "cell_type": "code",
      "metadata": {
        "id": "_9gPz1atxRjz",
        "outputId": "384611ef-1bab-4a6b-8ce9-c72f57aeebd2"
      },
      "source": [
        "type(tag)"
      ],
      "execution_count": null,
      "outputs": [
        {
          "output_type": "execute_result",
          "data": {
            "text/plain": [
              "bs4.element.Tag"
            ]
          },
          "metadata": {
            "tags": []
          },
          "execution_count": 34
        }
      ]
    },
    {
      "cell_type": "code",
      "metadata": {
        "id": "4mJILBDyxRj1",
        "outputId": "ca7f30e4-fdec-4031-a9c4-59974d45abca"
      },
      "source": [
        "#atributos y métodos de Tag\n",
        "[s for s in dir(tag) if not s.startswith('_')]"
      ],
      "execution_count": null,
      "outputs": [
        {
          "output_type": "execute_result",
          "data": {
            "text/plain": [
              "['append',\n",
              " 'attrs',\n",
              " 'can_be_empty_element',\n",
              " 'cdata_list_attributes',\n",
              " 'childGenerator',\n",
              " 'children',\n",
              " 'clear',\n",
              " 'contents',\n",
              " 'decode',\n",
              " 'decode_contents',\n",
              " 'decompose',\n",
              " 'decomposed',\n",
              " 'descendants',\n",
              " 'encode',\n",
              " 'encode_contents',\n",
              " 'extend',\n",
              " 'extract',\n",
              " 'fetchNextSiblings',\n",
              " 'fetchParents',\n",
              " 'fetchPrevious',\n",
              " 'fetchPreviousSiblings',\n",
              " 'find',\n",
              " 'findAll',\n",
              " 'findAllNext',\n",
              " 'findAllPrevious',\n",
              " 'findChild',\n",
              " 'findChildren',\n",
              " 'findNext',\n",
              " 'findNextSibling',\n",
              " 'findNextSiblings',\n",
              " 'findParent',\n",
              " 'findParents',\n",
              " 'findPrevious',\n",
              " 'findPreviousSibling',\n",
              " 'findPreviousSiblings',\n",
              " 'find_all',\n",
              " 'find_all_next',\n",
              " 'find_all_previous',\n",
              " 'find_next',\n",
              " 'find_next_sibling',\n",
              " 'find_next_siblings',\n",
              " 'find_parent',\n",
              " 'find_parents',\n",
              " 'find_previous',\n",
              " 'find_previous_sibling',\n",
              " 'find_previous_siblings',\n",
              " 'format_string',\n",
              " 'formatter_for_name',\n",
              " 'get',\n",
              " 'getText',\n",
              " 'get_attribute_list',\n",
              " 'get_text',\n",
              " 'has_attr',\n",
              " 'has_key',\n",
              " 'hidden',\n",
              " 'index',\n",
              " 'insert',\n",
              " 'insert_after',\n",
              " 'insert_before',\n",
              " 'isSelfClosing',\n",
              " 'is_empty_element',\n",
              " 'known_xml',\n",
              " 'name',\n",
              " 'namespace',\n",
              " 'next',\n",
              " 'nextGenerator',\n",
              " 'nextSibling',\n",
              " 'nextSiblingGenerator',\n",
              " 'next_element',\n",
              " 'next_elements',\n",
              " 'next_sibling',\n",
              " 'next_siblings',\n",
              " 'parent',\n",
              " 'parentGenerator',\n",
              " 'parents',\n",
              " 'parserClass',\n",
              " 'parser_class',\n",
              " 'prefix',\n",
              " 'preserve_whitespace_tags',\n",
              " 'prettify',\n",
              " 'previous',\n",
              " 'previousGenerator',\n",
              " 'previousSibling',\n",
              " 'previousSiblingGenerator',\n",
              " 'previous_element',\n",
              " 'previous_elements',\n",
              " 'previous_sibling',\n",
              " 'previous_siblings',\n",
              " 'recursiveChildGenerator',\n",
              " 'renderContents',\n",
              " 'replaceWith',\n",
              " 'replaceWithChildren',\n",
              " 'replace_with',\n",
              " 'replace_with_children',\n",
              " 'select',\n",
              " 'select_one',\n",
              " 'setup',\n",
              " 'smooth',\n",
              " 'sourceline',\n",
              " 'sourcepos',\n",
              " 'string',\n",
              " 'strings',\n",
              " 'stripped_strings',\n",
              " 'text',\n",
              " 'unwrap',\n",
              " 'wrap']"
            ]
          },
          "metadata": {
            "tags": []
          },
          "execution_count": 35
        }
      ]
    },
    {
      "cell_type": "markdown",
      "metadata": {
        "id": "jeY50sJ7xRj1"
      },
      "source": [
        "Para buscar todas las etiquetas de un tipo en el árbol DOM (por ejemplo los enlaces `<a>` de una página) "
      ]
    },
    {
      "cell_type": "code",
      "metadata": {
        "id": "Wgb7Oyx3xRj1",
        "outputId": "44a58e55-652b-48a5-eb9f-9ea8169aa714"
      },
      "source": [
        "soup.find_all(\"a\")"
      ],
      "execution_count": null,
      "outputs": [
        {
          "output_type": "execute_result",
          "data": {
            "text/plain": [
              "[<a class=\"btn\" href=\"#\" title=\"IDAL\">Enlace 1</a>,\n",
              " <a class=\"btn\" href=\"#\" title=\"IDAL\">Enlace 2</a>,\n",
              " <a class=\"btn\" href=\"#\" title=\"IDAL\">Enlace 3</a>,\n",
              " <a class=\"enlace\" href=\"https://idal.uv.es\" title=\"IDAL\">Intelligent Data Analysis Laboratory</a>,\n",
              " <a class=\"enlace\" href=\"http://etse.uv.es\" title=\"ETSE\">Escola Tècnica Superior d'Enginyeria</a>,\n",
              " <a class=\"enlace\" href=\"http://uv.es\" title=\"UV\">Universitat de València</a>]"
            ]
          },
          "metadata": {
            "tags": []
          },
          "execution_count": 36
        }
      ]
    },
    {
      "cell_type": "code",
      "metadata": {
        "id": "lOJLR7xPxRj1",
        "outputId": "a0e1196c-93b2-417b-9aa2-d3f6b6bd1312"
      },
      "source": [
        "type(soup.find_all(\"a\")[0])"
      ],
      "execution_count": null,
      "outputs": [
        {
          "output_type": "execute_result",
          "data": {
            "text/plain": [
              "bs4.element.Tag"
            ]
          },
          "metadata": {
            "tags": []
          },
          "execution_count": 37
        }
      ]
    },
    {
      "cell_type": "code",
      "metadata": {
        "id": "9HiFK2KSxRj1",
        "outputId": "db321ee2-9b52-42f7-e995-54324e44d018"
      },
      "source": [
        "len(soup.find_all(\"a\"))"
      ],
      "execution_count": null,
      "outputs": [
        {
          "output_type": "execute_result",
          "data": {
            "text/plain": [
              "6"
            ]
          },
          "metadata": {
            "tags": []
          },
          "execution_count": 41
        }
      ]
    },
    {
      "cell_type": "code",
      "metadata": {
        "id": "9Qxioju6xRj2",
        "outputId": "3f2cc32d-cb31-4a44-b908-ff1c54812429"
      },
      "source": [
        "#hay un shortcut para find_all\n",
        "soup(\"a\")"
      ],
      "execution_count": null,
      "outputs": [
        {
          "output_type": "execute_result",
          "data": {
            "text/plain": [
              "[<a class=\"btn\" href=\"#\" title=\"IDAL\">Enlace 1</a>,\n",
              " <a class=\"btn\" href=\"#\" title=\"IDAL\">Enlace 2</a>,\n",
              " <a class=\"btn\" href=\"#\" title=\"IDAL\">Enlace 3</a>,\n",
              " <a class=\"enlace\" href=\"https://idal.uv.es\" title=\"IDAL\">Intelligent Data Analysis Laboratory</a>,\n",
              " <a class=\"enlace\" href=\"http://etse.uv.es\" title=\"ETSE\">Escola Tècnica Superior d'Enginyeria</a>,\n",
              " <a class=\"enlace\" href=\"http://uv.es\" title=\"UV\">Universitat de València</a>]"
            ]
          },
          "metadata": {
            "tags": []
          },
          "execution_count": 38
        }
      ]
    },
    {
      "cell_type": "code",
      "metadata": {
        "id": "HcXmrp9gxRj2",
        "outputId": "6060aae5-7168-4655-9142-d2505d8d5343"
      },
      "source": [
        "#busca todas las etiquetas 'a' o 'p'\n",
        "soup.find_all([\"a\", \"p\"])"
      ],
      "execution_count": null,
      "outputs": [
        {
          "output_type": "execute_result",
          "data": {
            "text/plain": [
              "[<p>Página <em>HTML</em> con texto de ejemplo para hacer web scraping</p>,\n",
              " <p>Lorem ipsum dolor sit amet, consectetur adipisicing elit...</p>,\n",
              " <p>Ut enim ad minim veniam, quis nostrud exercitation ullamco laboris...</p>,\n",
              " <a class=\"btn\" href=\"#\" title=\"IDAL\">Enlace 1</a>,\n",
              " <p>Lorem ipsum dolor sit amet, consectetur adipisicing elit...</p>,\n",
              " <p>Ut enim ad minim veniam, quis nostrud exercitation ullamco laboris...</p>,\n",
              " <a class=\"btn\" href=\"#\" title=\"IDAL\">Enlace 2</a>,\n",
              " <p>Lorem ipsum dolor sit amet, consectetur adipisicing elit...</p>,\n",
              " <p>Ut enim ad minim veniam, quis nostrud exercitation ullamco laboris...</p>,\n",
              " <a class=\"btn\" href=\"#\" title=\"IDAL\">Enlace 3</a>,\n",
              " <a class=\"enlace\" href=\"https://idal.uv.es\" title=\"IDAL\">Intelligent Data Analysis Laboratory</a>,\n",
              " <a class=\"enlace\" href=\"http://etse.uv.es\" title=\"ETSE\">Escola Tècnica Superior d'Enginyeria</a>,\n",
              " <a class=\"enlace\" href=\"http://uv.es\" title=\"UV\">Universitat de València</a>]"
            ]
          },
          "metadata": {
            "tags": []
          },
          "execution_count": 39
        }
      ]
    },
    {
      "cell_type": "code",
      "metadata": {
        "id": "qC4R6OTgxRj3",
        "outputId": "50e2f147-4fd1-486a-f73e-e4c9f57dce89"
      },
      "source": [
        "len(soup.find_all([\"a\", \"p\"]))"
      ],
      "execution_count": null,
      "outputs": [
        {
          "output_type": "execute_result",
          "data": {
            "text/plain": [
              "13"
            ]
          },
          "metadata": {
            "tags": []
          },
          "execution_count": 42
        }
      ]
    },
    {
      "cell_type": "code",
      "metadata": {
        "id": "Xvc66kq2xRj3",
        "outputId": "87ea0a29-8ef6-459f-c54c-10c1be37ffe1"
      },
      "source": [
        "#Se pueden usar expresiones regulares en las búsquedas.\n",
        "# En este caso, buscamos una que contenga 'h' y uno o más caracteres numéricos (\\d+).\n",
        "# Lo que acaba encontrando son los párrafos\n",
        "soup.find_all(re.compile(\"h\\d+\"))"
      ],
      "execution_count": null,
      "outputs": [
        {
          "output_type": "execute_result",
          "data": {
            "text/plain": [
              "[<h1>Página de ejemplo</h1>,\n",
              " <h3>Columna 1</h3>,\n",
              " <h3>Columna 2</h3>,\n",
              " <h3>Columna 3</h3>,\n",
              " <h2>Algunos enlaces de prueba</h2>]"
            ]
          },
          "metadata": {
            "tags": []
          },
          "execution_count": 43
        }
      ]
    },
    {
      "cell_type": "code",
      "metadata": {
        "id": "rJDSQ-zhxRj4"
      },
      "source": [
        "titulos = soup.find_all(re.compile(\"h\\d+\"))"
      ],
      "execution_count": null,
      "outputs": []
    },
    {
      "cell_type": "code",
      "metadata": {
        "id": "6eiRJQqTxRj4",
        "outputId": "aedd3586-80ec-4ac2-8d62-aab4fc32fddc"
      },
      "source": [
        "#Cada elemento (tag) encontrado por soup tiene sus atributos.\n",
        "# Por ejemplo, el atributo 'name' hace referencia al nombre del tag HTML\n",
        "[t.name for t in titulos]"
      ],
      "execution_count": null,
      "outputs": [
        {
          "output_type": "execute_result",
          "data": {
            "text/plain": [
              "['h1', 'h3', 'h3', 'h3', 'h2']"
            ]
          },
          "metadata": {
            "tags": []
          },
          "execution_count": 45
        }
      ]
    },
    {
      "cell_type": "markdown",
      "metadata": {
        "id": "fSKte4WlxRj4"
      },
      "source": [
        "Podemos filtrar por un atributo del Tag (por defecto es la clase si no indicamos otra cosa"
      ]
    },
    {
      "cell_type": "code",
      "metadata": {
        "id": "1xRAIpUjxRj5",
        "outputId": "02d66780-fcde-43f4-cb04-33becd0bb655"
      },
      "source": [
        "for link in soup.find_all('a', class_=\"enlace\"):\n",
        "    print(link)"
      ],
      "execution_count": null,
      "outputs": [
        {
          "output_type": "stream",
          "text": [
            "<a class=\"enlace\" href=\"https://idal.uv.es\" title=\"IDAL\">Intelligent Data Analysis Laboratory</a>\n",
            "<a class=\"enlace\" href=\"http://etse.uv.es\" title=\"ETSE\">Escola Tècnica Superior d'Enginyeria</a>\n",
            "<a class=\"enlace\" href=\"http://uv.es\" title=\"UV\">Universitat de València</a>\n"
          ],
          "name": "stdout"
        }
      ]
    },
    {
      "cell_type": "markdown",
      "metadata": {
        "id": "OO6SC17cxRj5"
      },
      "source": [
        "También podemos obtener los atributos de cada uno de los elementos de una lista de etiquetas obtenida con `find_all` o `select`"
      ]
    },
    {
      "cell_type": "code",
      "metadata": {
        "id": "BZtBUqAgxRj5",
        "outputId": "200d7eaa-80d0-422c-e0f2-97c3710865ca"
      },
      "source": [
        "for link in soup.find_all('a', class_=\"enlace\"):\n",
        "    print(link[\"href\"])"
      ],
      "execution_count": null,
      "outputs": [
        {
          "output_type": "stream",
          "text": [
            "https://idal.uv.es\n",
            "http://etse.uv.es\n",
            "http://uv.es\n"
          ],
          "name": "stdout"
        }
      ]
    },
    {
      "cell_type": "code",
      "metadata": {
        "id": "psHvkK_qxRj6",
        "outputId": "669a8cfb-c174-4f58-d06c-5cb5f236991f"
      },
      "source": [
        "for link in soup.find_all('a', class_=\"enlace\"):\n",
        "    print(link[\"title\"])"
      ],
      "execution_count": null,
      "outputs": [
        {
          "output_type": "stream",
          "text": [
            "IDAL\n",
            "ETSE\n",
            "UV\n"
          ],
          "name": "stdout"
        }
      ]
    },
    {
      "cell_type": "code",
      "metadata": {
        "id": "8zU7DAcYxRj6",
        "outputId": "cec3cdee-be11-45e9-fd26-51074bfe4679"
      },
      "source": [
        "enlaces = soup.find_all(\"a\", \"btn\")\n",
        "for e in enlaces:\n",
        "    print(e)"
      ],
      "execution_count": null,
      "outputs": [
        {
          "output_type": "stream",
          "text": [
            "<a class=\"btn\" href=\"#\" title=\"IDAL\">Enlace 1</a>\n",
            "<a class=\"btn\" href=\"#\" title=\"IDAL\">Enlace 2</a>\n",
            "<a class=\"btn\" href=\"#\" title=\"IDAL\">Enlace 3</a>\n"
          ],
          "name": "stdout"
        }
      ]
    },
    {
      "cell_type": "markdown",
      "metadata": {
        "id": "KkbBYYhFxRj6"
      },
      "source": [
        "Podemos hacer una búsqueda de otra etiqueta anidada dentro de la primera búsqueda (útil por ejemplo para buscar elementos genéricos dentro de una sección específica de la página)"
      ]
    },
    {
      "cell_type": "code",
      "metadata": {
        "id": "Gvrm2oi9xRj7",
        "outputId": "df9ecb07-e442-4690-8519-6645794b4584"
      },
      "source": [
        "tags = soup.find(\"div\", id=\"col4\").find_all(\"a\")\n",
        "print(tags)"
      ],
      "execution_count": null,
      "outputs": [
        {
          "output_type": "stream",
          "text": [
            "[<a class=\"btn\" href=\"#\" title=\"IDAL\">Enlace 3</a>]\n"
          ],
          "name": "stdout"
        }
      ]
    },
    {
      "cell_type": "markdown",
      "metadata": {
        "id": "Aq2jqL-txRj7"
      },
      "source": [
        "Repetimos esta búsqueda especificando un selector CSS (más simple que lo anterior si se conoce la sintaxis CSS)"
      ]
    },
    {
      "cell_type": "code",
      "metadata": {
        "id": "v0F6oIDIxRj7",
        "outputId": "89869977-2a3a-49d5-e17a-862fd342d248"
      },
      "source": [
        "tags = soup.select(\"#col4 a\")\n",
        "print(tags)"
      ],
      "execution_count": null,
      "outputs": [
        {
          "output_type": "stream",
          "text": [
            "[<a class=\"btn\" href=\"#\" title=\"IDAL\">Enlace 3</a>]\n"
          ],
          "name": "stdout"
        }
      ]
    },
    {
      "cell_type": "code",
      "metadata": {
        "id": "POoTXmbaxRj8"
      },
      "source": [
        "type(tags)"
      ],
      "execution_count": null,
      "outputs": []
    },
    {
      "cell_type": "markdown",
      "metadata": {
        "id": "e74G4XCcxRj8"
      },
      "source": [
        "El atributo `contents` del resultado de una etiqueta individual (objeto `bs4.element.Tag`) contiene una lista de objetos con su contenido interno (que incluye tanto los nodos de texto como la representación e texto de todo el HTML anidado).  \n",
        "Si el objeto sólo contiene texto es del tipo `NavigableString`, y si contiene etiqueta es del tipo `Tag`. Los saltos de línea (`\\n`) entre las etiquetas se consideran elementos de texto y aparecen en la lista devuelta."
      ]
    },
    {
      "cell_type": "code",
      "metadata": {
        "id": "fOD085MvxRj9",
        "outputId": "536c4f52-dd7e-48de-f2b3-b60223c226ce"
      },
      "source": [
        "print(soup.find(\"title\"))"
      ],
      "execution_count": null,
      "outputs": [
        {
          "output_type": "stream",
          "text": [
            "<title>Página de ejemplo</title>\n"
          ],
          "name": "stdout"
        }
      ]
    },
    {
      "cell_type": "code",
      "metadata": {
        "id": "KXjGklcoxRj9",
        "outputId": "075d66b7-7a5d-4438-ba57-485114c769ec"
      },
      "source": [
        "inner_contents = soup.find(\"title\").contents\n",
        "print(inner_contents)"
      ],
      "execution_count": null,
      "outputs": [
        {
          "output_type": "stream",
          "text": [
            "['Página de ejemplo']\n"
          ],
          "name": "stdout"
        }
      ]
    },
    {
      "cell_type": "code",
      "metadata": {
        "id": "_ei7B2-exRj-",
        "outputId": "5b905fdd-5eaa-4e93-9d5e-e1405f81f1cf"
      },
      "source": [
        "soup.find(\"div\", id=\"col4\")"
      ],
      "execution_count": null,
      "outputs": [
        {
          "output_type": "execute_result",
          "data": {
            "text/plain": [
              "<div class=\"col-sm-4\" id=\"col4\">\n",
              "<h3>Columna 3</h3>\n",
              "<p>Lorem ipsum dolor sit amet, consectetur adipisicing elit...</p>\n",
              "<p>Ut enim ad minim veniam, quis nostrud exercitation ullamco laboris...</p>\n",
              "<a class=\"btn\" href=\"#\" title=\"IDAL\">Enlace 3</a>\n",
              "</div>"
            ]
          },
          "metadata": {
            "tags": []
          },
          "execution_count": 54
        }
      ]
    },
    {
      "cell_type": "markdown",
      "metadata": {
        "id": "SfheRlilxRj-"
      },
      "source": [
        "### Ejercicio\n",
        "Muestra el contenido interno del div `#col4`"
      ]
    },
    {
      "cell_type": "code",
      "metadata": {
        "id": "sR3sRd_DxRj_",
        "outputId": "01f02913-ebfc-4e3c-8b87-d263c54758a6"
      },
      "source": [
        "inner_contents = soup.find(\"div\", id=\"col4\").contents\n",
        "print(inner_contents)"
      ],
      "execution_count": null,
      "outputs": [
        {
          "output_type": "stream",
          "text": [
            "['\\n', <h3>Columna 3</h3>, '\\n', <p>Lorem ipsum dolor sit amet, consectetur adipisicing elit...</p>, '\\n', <p>Ut enim ad minim veniam, quis nostrud exercitation ullamco laboris...</p>, '\\n', <a class=\"btn\" href=\"#\" title=\"IDAL\">Enlace 3</a>, '\\n']\n"
          ],
          "name": "stdout"
        }
      ]
    },
    {
      "cell_type": "code",
      "metadata": {
        "id": "4ZlCiMqoxRj_",
        "outputId": "6135ac6e-8249-47f9-d954-edac12b20fa3"
      },
      "source": [
        "inner_contents[0]"
      ],
      "execution_count": null,
      "outputs": [
        {
          "output_type": "execute_result",
          "data": {
            "text/plain": [
              "'\\n'"
            ]
          },
          "metadata": {
            "tags": []
          },
          "execution_count": 56
        }
      ]
    },
    {
      "cell_type": "code",
      "metadata": {
        "id": "CSnmiQAJxRkA",
        "outputId": "4ccf468f-dd6b-47fe-ea6f-dacba53eba1f"
      },
      "source": [
        "type(inner_contents[0])"
      ],
      "execution_count": null,
      "outputs": [
        {
          "output_type": "execute_result",
          "data": {
            "text/plain": [
              "bs4.element.NavigableString"
            ]
          },
          "metadata": {
            "tags": []
          },
          "execution_count": 57
        }
      ]
    },
    {
      "cell_type": "code",
      "metadata": {
        "id": "_cyP-7wSxRkA",
        "outputId": "12fb61c8-9d80-40ec-a087-f6ad4837928d"
      },
      "source": [
        "inner_contents[1]"
      ],
      "execution_count": null,
      "outputs": [
        {
          "output_type": "execute_result",
          "data": {
            "text/plain": [
              "<h3>Columna 3</h3>"
            ]
          },
          "metadata": {
            "tags": []
          },
          "execution_count": 58
        }
      ]
    },
    {
      "cell_type": "code",
      "metadata": {
        "id": "lVgcpnLpxRkA",
        "outputId": "d5782a15-4621-449d-fdbf-2b7deb429985"
      },
      "source": [
        "type(inner_contents[1])"
      ],
      "execution_count": null,
      "outputs": [
        {
          "output_type": "execute_result",
          "data": {
            "text/plain": [
              "bs4.element.Tag"
            ]
          },
          "metadata": {
            "tags": []
          },
          "execution_count": 59
        }
      ]
    },
    {
      "cell_type": "markdown",
      "metadata": {
        "id": "9W4vhnqFxRkB"
      },
      "source": [
        "El atributo `text` del objeto `bs4.element.Tag` contiene una lista de strings con los textos contenidos en la etiqueta, ignorando todas las etiquetas HTML (como por ejemplo `<span>`, `<strong>` o `<i>`):"
      ]
    },
    {
      "cell_type": "code",
      "metadata": {
        "id": "hFJbWR7ixRkB",
        "outputId": "912e2a6c-26d8-48b5-bd18-952ab365f918"
      },
      "source": [
        "inner_text = soup.find(\"div\", id=\"col4\").text.strip()\n",
        "print(inner_text)"
      ],
      "execution_count": null,
      "outputs": [
        {
          "output_type": "stream",
          "text": [
            "Columna 3\n",
            "Lorem ipsum dolor sit amet, consectetur adipisicing elit...\n",
            "Ut enim ad minim veniam, quis nostrud exercitation ullamco laboris...\n",
            "Enlace 3\n"
          ],
          "name": "stdout"
        }
      ]
    },
    {
      "cell_type": "markdown",
      "metadata": {
        "id": "DonTjPcsxRkC"
      },
      "source": [
        "Aquí el método `strip()` simplemente elimina las líneas en blanco (`\\n`) del resultado.  "
      ]
    },
    {
      "cell_type": "markdown",
      "metadata": {
        "id": "IZqFZB0OxRkC"
      },
      "source": [
        "### Búsqueda por función\n",
        "Podemos definir una función booleana para hacer la búsqueda de elementos en el árbol DOM"
      ]
    },
    {
      "cell_type": "code",
      "metadata": {
        "id": "Tg_KGB2qxRkC",
        "outputId": "03701829-1671-4e2b-a2ba-d157f3f2fd84"
      },
      "source": [
        "def etiquetas(tag):\n",
        "    return tag.has_attr('id')\n",
        "\n",
        "soup.find_all(etiquetas)"
      ],
      "execution_count": null,
      "outputs": [
        {
          "output_type": "execute_result",
          "data": {
            "text/plain": [
              "[<div class=\"col-sm-4\" id=\"col4\">\n",
              " <h3>Columna 3</h3>\n",
              " <p>Lorem ipsum dolor sit amet, consectetur adipisicing elit...</p>\n",
              " <p>Ut enim ad minim veniam, quis nostrud exercitation ullamco laboris...</p>\n",
              " <a class=\"btn\" href=\"#\" title=\"IDAL\">Enlace 3</a>\n",
              " </div>,\n",
              " <div class=\"row\" id=\"enlaces\">\n",
              " <h2>Algunos enlaces de prueba</h2>\n",
              " <ul>\n",
              " <li><a class=\"enlace\" href=\"https://idal.uv.es\" title=\"IDAL\">Intelligent Data Analysis Laboratory</a></li>\n",
              " <li><a class=\"enlace\" href=\"http://etse.uv.es\" title=\"ETSE\">Escola Tècnica Superior d'Enginyeria</a></li>\n",
              " <li><a class=\"enlace\" href=\"http://uv.es\" title=\"UV\">Universitat de València</a></li>\n",
              " </ul>\n",
              " </div>]"
            ]
          },
          "metadata": {
            "tags": []
          },
          "execution_count": 61
        }
      ]
    },
    {
      "cell_type": "markdown",
      "metadata": {
        "id": "t8FHtFnDxRkD"
      },
      "source": [
        "### Ejercicio\n",
        "Lista todos los Tags que cumplan el filtrado de la función `etiquetas()` y muéstralos como una lista de tuplas `(tag.name, tag.attrs)`"
      ]
    },
    {
      "cell_type": "code",
      "metadata": {
        "id": "8HffDrA6xRkD",
        "outputId": "e232f33f-8961-4267-f688-36508bb69158"
      },
      "source": [
        "[(t.name, t.attrs) for t in soup.find_all(etiquetas)]"
      ],
      "execution_count": null,
      "outputs": [
        {
          "output_type": "execute_result",
          "data": {
            "text/plain": [
              "[('div', {'class': ['col-sm-4'], 'id': 'col4'}),\n",
              " ('div', {'class': ['row'], 'id': 'enlaces'})]"
            ]
          },
          "metadata": {
            "tags": []
          },
          "execution_count": 62
        }
      ]
    },
    {
      "cell_type": "markdown",
      "metadata": {
        "id": "8GhGTwQxxRkD"
      },
      "source": [
        "## Navegación por la estructura DOM\n",
        "Cada elemento `Tag` guarda información de su posición dentro del árbol de etiquetas HTML del documento (estructura DOM) de manera que se puede navegar desde cada etiqueta a sus etiquetas relacionadas:\n",
        "### Navegar hacia abajo\n",
        "Podemos usar los nombres de las etiquetas como atributos encadenados del objeto `soup` para recorrer el árbol hacia abajo:"
      ]
    },
    {
      "cell_type": "code",
      "metadata": {
        "id": "LoOox4xlxRkE",
        "outputId": "1f2e852b-e175-46fc-b827-3f6c4970b305"
      },
      "source": [
        "soup.div.h1 #busca la primera etiqueta <h1> dentro de la primera etiqueta <div> "
      ],
      "execution_count": null,
      "outputs": [
        {
          "output_type": "execute_result",
          "data": {
            "text/plain": [
              "<h1>Página de ejemplo</h1>"
            ]
          },
          "metadata": {
            "tags": []
          },
          "execution_count": 63
        }
      ]
    },
    {
      "cell_type": "code",
      "metadata": {
        "id": "3sbkl6VmxRkE",
        "outputId": "a12afaec-ebcb-44a6-f6d8-45c09a7866da"
      },
      "source": [
        "soup(\"div\")[1].h3"
      ],
      "execution_count": null,
      "outputs": [
        {
          "output_type": "execute_result",
          "data": {
            "text/plain": [
              "<h3>Columna 1</h3>"
            ]
          },
          "metadata": {
            "tags": []
          },
          "execution_count": 64
        }
      ]
    },
    {
      "cell_type": "markdown",
      "metadata": {
        "id": "alsnFhrbxRkE"
      },
      "source": [
        "Todos los hijos de una etiqueta están en su atributo `contents`:"
      ]
    },
    {
      "cell_type": "code",
      "metadata": {
        "id": "sbCEiVqRxRkF",
        "outputId": "7c0aec50-7903-4088-e0e5-458174d2b556"
      },
      "source": [
        "soup.div.contents"
      ],
      "execution_count": null,
      "outputs": [
        {
          "output_type": "execute_result",
          "data": {
            "text/plain": [
              "['\\n',\n",
              " <h1>Página de ejemplo</h1>,\n",
              " '\\n',\n",
              " <p>Página <em>HTML</em> con texto de ejemplo para hacer web scraping</p>,\n",
              " '\\n']"
            ]
          },
          "metadata": {
            "tags": []
          },
          "execution_count": 65
        }
      ]
    },
    {
      "cell_type": "markdown",
      "metadata": {
        "id": "f7jDCZczxRkF"
      },
      "source": [
        "Las etiquetas que sólo contienen texto aparecen en la lista de `contents` como un objeto `NavigableString`"
      ]
    },
    {
      "cell_type": "code",
      "metadata": {
        "id": "bwqhl9HmxRkF",
        "outputId": "9830e6f5-3c7b-40b9-d951-c4512afbdfe3"
      },
      "source": [
        "soup.div.h1.contents"
      ],
      "execution_count": null,
      "outputs": [
        {
          "output_type": "execute_result",
          "data": {
            "text/plain": [
              "['Página de ejemplo']"
            ]
          },
          "metadata": {
            "tags": []
          },
          "execution_count": 66
        }
      ]
    },
    {
      "cell_type": "code",
      "metadata": {
        "id": "3I3o_W9mxRkG",
        "outputId": "5bd8e82e-cd64-4ba1-9358-6e07cc2d42d3"
      },
      "source": [
        "type(soup.div.h1.contents[0])"
      ],
      "execution_count": null,
      "outputs": [
        {
          "output_type": "execute_result",
          "data": {
            "text/plain": [
              "bs4.element.NavigableString"
            ]
          },
          "metadata": {
            "tags": []
          },
          "execution_count": 67
        }
      ]
    },
    {
      "cell_type": "markdown",
      "metadata": {
        "id": "ZqkYXaQfxRkH"
      },
      "source": [
        "Podemos iterar sobre los descendientes de una etiqueta con el iterador `children`:"
      ]
    },
    {
      "cell_type": "code",
      "metadata": {
        "id": "bTKcyWT6xRkH",
        "outputId": "a177e9ba-f397-451b-e089-4193c4f188a8"
      },
      "source": [
        "soup.div.children"
      ],
      "execution_count": null,
      "outputs": [
        {
          "output_type": "execute_result",
          "data": {
            "text/plain": [
              "<list_iterator at 0x7f7e756ca8b0>"
            ]
          },
          "metadata": {
            "tags": []
          },
          "execution_count": 68
        }
      ]
    },
    {
      "cell_type": "code",
      "metadata": {
        "id": "j83_mKPnxRkI",
        "outputId": "0d318515-6170-40ca-aa49-d01a47cd0367"
      },
      "source": [
        "[child for child in soup.div.children]"
      ],
      "execution_count": null,
      "outputs": [
        {
          "output_type": "execute_result",
          "data": {
            "text/plain": [
              "['\\n',\n",
              " <h1>Página de ejemplo</h1>,\n",
              " '\\n',\n",
              " <p>Página <em>HTML</em> con texto de ejemplo para hacer web scraping</p>,\n",
              " '\\n']"
            ]
          },
          "metadata": {
            "tags": []
          },
          "execution_count": 69
        }
      ]
    },
    {
      "cell_type": "code",
      "metadata": {
        "id": "tfiV8Y_1xRkK",
        "outputId": "0d728ded-5aa3-4fab-8367-fc8c6f1ded73"
      },
      "source": [
        "#la lista que genera children es equivalente a contents\n",
        "list(soup.div.children)==soup.div.contents"
      ],
      "execution_count": null,
      "outputs": [
        {
          "output_type": "execute_result",
          "data": {
            "text/plain": [
              "True"
            ]
          },
          "metadata": {
            "tags": []
          },
          "execution_count": 70
        }
      ]
    },
    {
      "cell_type": "markdown",
      "metadata": {
        "id": "L9dTPN5qxRkK"
      },
      "source": [
        "Con `contents` y `children` consideran sólo los descencientes directos de una etiqueta. Con `descendants` accedemos iterativamente a todos sus descendientes:"
      ]
    },
    {
      "cell_type": "code",
      "metadata": {
        "id": "LWGq7TBWxRkL",
        "outputId": "fca214a4-6ebd-45bd-adcb-bebde2e2d80f"
      },
      "source": [
        "soup.div.p"
      ],
      "execution_count": null,
      "outputs": [
        {
          "output_type": "execute_result",
          "data": {
            "text/plain": [
              "<p>Página <em>HTML</em> con texto de ejemplo para hacer web scraping</p>"
            ]
          },
          "metadata": {
            "tags": []
          },
          "execution_count": 71
        }
      ]
    },
    {
      "cell_type": "code",
      "metadata": {
        "id": "om8J3KKsxRkL",
        "outputId": "29d89d96-6d27-4521-f341-3ce6df0e1437"
      },
      "source": [
        "soup.div.p"
      ],
      "execution_count": null,
      "outputs": [
        {
          "output_type": "execute_result",
          "data": {
            "text/plain": [
              "<p>Página <em>HTML</em> con texto de ejemplo para hacer web scraping</p>"
            ]
          },
          "metadata": {
            "tags": []
          },
          "execution_count": 72
        }
      ]
    },
    {
      "cell_type": "code",
      "metadata": {
        "id": "C-ZcI1EBxRkL",
        "outputId": "ec422c5a-090a-4689-c0e4-19929fd098cc"
      },
      "source": [
        "soup.div.p.descendants"
      ],
      "execution_count": null,
      "outputs": [
        {
          "output_type": "execute_result",
          "data": {
            "text/plain": [
              "<generator object Tag.descendants at 0x7f7e756bac10>"
            ]
          },
          "metadata": {
            "tags": []
          },
          "execution_count": 73
        }
      ]
    },
    {
      "cell_type": "code",
      "metadata": {
        "id": "hMp6w_6bxRkM",
        "outputId": "e880175a-20e3-4458-d73a-b80dace76034"
      },
      "source": [
        "[child for child in soup.div.p.descendants]"
      ],
      "execution_count": null,
      "outputs": [
        {
          "output_type": "execute_result",
          "data": {
            "text/plain": [
              "['Página ',\n",
              " <em>HTML</em>,\n",
              " 'HTML',\n",
              " ' con texto de ejemplo para hacer web scraping']"
            ]
          },
          "metadata": {
            "tags": []
          },
          "execution_count": 74
        }
      ]
    },
    {
      "cell_type": "markdown",
      "metadata": {
        "id": "a4bTaNEpxRkN"
      },
      "source": [
        "Para obtener sólo el texto de una etiqueta usamos `string` o para obtener iterativamente todos los textos contenidos usamos el iterador `strings`:"
      ]
    },
    {
      "cell_type": "code",
      "metadata": {
        "id": "sLZLnasfxRkN",
        "outputId": "28d5f9cd-7175-4d26-95bc-e7c991860f68"
      },
      "source": [
        "soup.div.h1.string"
      ],
      "execution_count": null,
      "outputs": [
        {
          "output_type": "execute_result",
          "data": {
            "text/plain": [
              "'Página de ejemplo'"
            ]
          },
          "metadata": {
            "tags": []
          },
          "execution_count": 75
        }
      ]
    },
    {
      "cell_type": "code",
      "metadata": {
        "id": "YxQmlfWVxRkN",
        "outputId": "463e2eca-89fb-4ebf-d723-40f51a7a49cc"
      },
      "source": [
        "#si una etiqueta contiene otras etiquetas el atributo string está vacío\n",
        "soup.div.p"
      ],
      "execution_count": null,
      "outputs": [
        {
          "output_type": "execute_result",
          "data": {
            "text/plain": [
              "<p>Página <em>HTML</em> con texto de ejemplo para hacer web scraping</p>"
            ]
          },
          "metadata": {
            "tags": []
          },
          "execution_count": 76
        }
      ]
    },
    {
      "cell_type": "code",
      "metadata": {
        "id": "nP1tnxBcxRkN"
      },
      "source": [
        "soup.div.p.string"
      ],
      "execution_count": null,
      "outputs": []
    },
    {
      "cell_type": "code",
      "metadata": {
        "id": "EMqkqnXlxRkO",
        "outputId": "6c7f0515-315a-4090-9bd3-cd050443ea92"
      },
      "source": [
        "#iteramos por todos los elementos contenidos para obtener su string\n",
        "[s for s in soup.div.p.strings]"
      ],
      "execution_count": null,
      "outputs": [
        {
          "output_type": "execute_result",
          "data": {
            "text/plain": [
              "['Página ', 'HTML', ' con texto de ejemplo para hacer web scraping']"
            ]
          },
          "metadata": {
            "tags": []
          },
          "execution_count": 78
        }
      ]
    },
    {
      "cell_type": "markdown",
      "metadata": {
        "id": "gf0Xng9UxRkO"
      },
      "source": [
        "### Navegar hacia arriba\n",
        "Con `parent` obtenemos la etiqueta superior a una dada, y con `parents` obtenemos iterativamente todos sus ascendientes:"
      ]
    },
    {
      "cell_type": "code",
      "metadata": {
        "id": "__Y5hxrzxRkc",
        "outputId": "1e02690f-e70c-4669-c15a-c13e2305cf70"
      },
      "source": [
        "soup.div.h1.parent"
      ],
      "execution_count": null,
      "outputs": [
        {
          "output_type": "execute_result",
          "data": {
            "text/plain": [
              "<div class=\"jumbotron text-center\">\n",
              "<h1>Página de ejemplo</h1>\n",
              "<p>Página <em>HTML</em> con texto de ejemplo para hacer web scraping</p>\n",
              "</div>"
            ]
          },
          "metadata": {
            "tags": []
          },
          "execution_count": 79
        }
      ]
    },
    {
      "cell_type": "markdown",
      "metadata": {
        "id": "wL548UUQxRkc"
      },
      "source": [
        "### Ejercicio\n",
        "Busca el ascendiente directo del div `#col4`"
      ]
    },
    {
      "cell_type": "code",
      "metadata": {
        "id": "3qk2eaZzxRkc",
        "outputId": "75c17cec-d84c-4605-ae77-8e60427288a6"
      },
      "source": [
        "soup.find('div', id='col4').parent"
      ],
      "execution_count": null,
      "outputs": [
        {
          "output_type": "execute_result",
          "data": {
            "text/plain": [
              "<div class=\"row\">\n",
              "<div class=\"col-sm-4\">\n",
              "<h3>Columna 1</h3>\n",
              "<p>Lorem ipsum dolor sit amet, consectetur adipisicing elit...</p>\n",
              "<p>Ut enim ad minim veniam, quis nostrud exercitation ullamco laboris...</p>\n",
              "<a class=\"btn\" href=\"#\" title=\"IDAL\">Enlace 1</a>\n",
              "</div>\n",
              "<div class=\"col-sm-4\">\n",
              "<h3>Columna 2</h3>\n",
              "<p>Lorem ipsum dolor sit amet, consectetur adipisicing elit...</p>\n",
              "<p>Ut enim ad minim veniam, quis nostrud exercitation ullamco laboris...</p>\n",
              "<a class=\"btn\" href=\"#\" title=\"IDAL\">Enlace 2</a>\n",
              "</div>\n",
              "<div class=\"col-sm-4\" id=\"col4\">\n",
              "<h3>Columna 3</h3>\n",
              "<p>Lorem ipsum dolor sit amet, consectetur adipisicing elit...</p>\n",
              "<p>Ut enim ad minim veniam, quis nostrud exercitation ullamco laboris...</p>\n",
              "<a class=\"btn\" href=\"#\" title=\"IDAL\">Enlace 3</a>\n",
              "</div>\n",
              "</div>"
            ]
          },
          "metadata": {
            "tags": []
          },
          "execution_count": 83
        }
      ]
    },
    {
      "cell_type": "markdown",
      "metadata": {
        "id": "tIZF_SBkxRkd"
      },
      "source": [
        "### Ejercicio\n",
        "Itera sobre los ascendientes del div `#col4` y muestra su nombre y atributos"
      ]
    },
    {
      "cell_type": "code",
      "metadata": {
        "id": "O2AoJsHaxRkd",
        "outputId": "fd8dd547-af71-4b24-a2cc-b52a1ca905df"
      },
      "source": [
        "for p in soup.find('div', id='col4').parents:\n",
        "    print(p.name, p.attrs)"
      ],
      "execution_count": null,
      "outputs": [
        {
          "output_type": "stream",
          "text": [
            "div {'class': ['row']}\n",
            "div {'class': ['container']}\n",
            "body {}\n",
            "html {'lang': 'es'}\n",
            "[document] {}\n"
          ],
          "name": "stdout"
        }
      ]
    },
    {
      "cell_type": "markdown",
      "metadata": {
        "id": "2ziZPkU9xRkd"
      },
      "source": [
        "### Navegar hacia los lados\n",
        "Los métodos `next_sibling` y `previous_sibling` acceden a la etiqueta posterior o anterior del mismo nivel. Los métodos `next_siblings` y `previous_siblings` lo hacen iterativamente"
      ]
    },
    {
      "cell_type": "code",
      "metadata": {
        "id": "p6QgblNPxRkd",
        "outputId": "5237cc07-9ce0-498b-8ea9-b376ceefbfd5"
      },
      "source": [
        "soup.find(\"div\", id=\"enlaces\")"
      ],
      "execution_count": null,
      "outputs": [
        {
          "output_type": "execute_result",
          "data": {
            "text/plain": [
              "<div class=\"row\" id=\"enlaces\">\n",
              "<h2>Algunos enlaces de prueba</h2>\n",
              "<ul>\n",
              "<li><a class=\"enlace\" href=\"https://idal.uv.es\" title=\"IDAL\">Intelligent Data Analysis Laboratory</a></li>\n",
              "<li><a class=\"enlace\" href=\"http://etse.uv.es\" title=\"ETSE\">Escola Tècnica Superior d'Enginyeria</a></li>\n",
              "<li><a class=\"enlace\" href=\"http://uv.es\" title=\"UV\">Universitat de València</a></li>\n",
              "</ul>\n",
              "</div>"
            ]
          },
          "metadata": {
            "tags": []
          },
          "execution_count": 88
        }
      ]
    },
    {
      "cell_type": "code",
      "metadata": {
        "id": "RAuhVew1xRke",
        "outputId": "8c7c3cd8-9d90-465f-98b2-0d6430fc3da9"
      },
      "source": [
        "soup.find(\"div\", id=\"enlaces\").ul.contents"
      ],
      "execution_count": null,
      "outputs": [
        {
          "output_type": "execute_result",
          "data": {
            "text/plain": [
              "['\\n',\n",
              " <li><a class=\"enlace\" href=\"https://idal.uv.es\" title=\"IDAL\">Intelligent Data Analysis Laboratory</a></li>,\n",
              " '\\n',\n",
              " <li><a class=\"enlace\" href=\"http://etse.uv.es\" title=\"ETSE\">Escola Tècnica Superior d'Enginyeria</a></li>,\n",
              " '\\n',\n",
              " <li><a class=\"enlace\" href=\"http://uv.es\" title=\"UV\">Universitat de València</a></li>,\n",
              " '\\n']"
            ]
          },
          "metadata": {
            "tags": []
          },
          "execution_count": 89
        }
      ]
    },
    {
      "cell_type": "code",
      "metadata": {
        "id": "gMtMI3gaxRke",
        "outputId": "3953ec57-81bb-4abb-cefe-c23045b9f516"
      },
      "source": [
        "soup.find(\"div\", id=\"enlaces\").li.previous_sibling"
      ],
      "execution_count": null,
      "outputs": [
        {
          "output_type": "execute_result",
          "data": {
            "text/plain": [
              "'\\n'"
            ]
          },
          "metadata": {
            "tags": []
          },
          "execution_count": 90
        }
      ]
    },
    {
      "cell_type": "code",
      "metadata": {
        "id": "uv3_9XntxRke",
        "outputId": "7c92d08c-fb2b-4474-8fdc-9d7d2ab37983"
      },
      "source": [
        "soup.find(\"div\", id=\"enlaces\").li.next_sibling.next_sibling"
      ],
      "execution_count": null,
      "outputs": [
        {
          "output_type": "execute_result",
          "data": {
            "text/plain": [
              "<li><a class=\"enlace\" href=\"http://etse.uv.es\" title=\"ETSE\">Escola Tècnica Superior d'Enginyeria</a></li>"
            ]
          },
          "metadata": {
            "tags": []
          },
          "execution_count": 91
        }
      ]
    },
    {
      "cell_type": "code",
      "metadata": {
        "id": "k880P4GBxRkf",
        "outputId": "6e03af03-c34b-4f85-9204-af7411b0e4b4"
      },
      "source": [
        "soup.find(\"div\", id=\"enlaces\").find(\"a\",{\"title\": \"ETSE\"}).parent"
      ],
      "execution_count": null,
      "outputs": [
        {
          "output_type": "execute_result",
          "data": {
            "text/plain": [
              "<li><a class=\"enlace\" href=\"http://etse.uv.es\" title=\"ETSE\">Escola Tècnica Superior d'Enginyeria</a></li>"
            ]
          },
          "metadata": {
            "tags": []
          },
          "execution_count": 92
        }
      ]
    },
    {
      "cell_type": "code",
      "metadata": {
        "id": "Gn6OCl6QxRkf"
      },
      "source": [
        "#buscamos elementos hermanos a continuación del <li> intermedio\n",
        "enlace_etse = soup.find(\"div\", id=\"enlaces\").find(\"a\",{\"title\": \"ETSE\"})\n",
        "[tag for tag in enlace_etse.parent.next_siblings]"
      ],
      "execution_count": null,
      "outputs": []
    },
    {
      "cell_type": "code",
      "metadata": {
        "id": "MhagYa5MxRkf",
        "outputId": "6516d81a-6b6a-4d3d-df23-0737a8251848"
      },
      "source": [
        "#buscamos elementos hermanos anteriores al <li> final\n",
        "\n",
        "[tag for tag in soup.find(\"div\", id=\"enlaces\").find(\"a\",{\"title\": \"UV\"}).parent.previous_siblings]"
      ],
      "execution_count": null,
      "outputs": [
        {
          "output_type": "execute_result",
          "data": {
            "text/plain": [
              "['\\n',\n",
              " <li><a class=\"enlace\" href=\"http://etse.uv.es\" title=\"ETSE\">Escola Tècnica Superior d'Enginyeria</a></li>,\n",
              " '\\n',\n",
              " <li><a class=\"enlace\" href=\"https://idal.uv.es\" title=\"IDAL\">Intelligent Data Analysis Laboratory</a></li>,\n",
              " '\\n']"
            ]
          },
          "metadata": {
            "tags": []
          },
          "execution_count": 93
        }
      ]
    },
    {
      "cell_type": "markdown",
      "metadata": {
        "id": "-jMVQ-fVxRkg"
      },
      "source": [
        "### Ejemplo completo\n",
        "Del siguiente código HTML vamos a extraer los ítems listados y su precio"
      ]
    },
    {
      "cell_type": "code",
      "metadata": {
        "id": "gLbJM10oxRkg"
      },
      "source": [
        "texto = \"\"\"\n",
        "<body>\n",
        "<div id=\"listings_prices\">\n",
        " <div class=\"item\">\n",
        "  <li class=\"item_name\">Watch</li>\n",
        "  <div class=\"main_price\">Price: $66.68</div>\n",
        "  <div class=\"discounted_price\">Discounted price: $46.68</div>\n",
        "   </div>\n",
        "   <div class=\"item\">\n",
        "  <li class=\"item_name\">Phone</li>\n",
        "  <div class=\"main_price\">Price: $566.68</div>\n",
        "   </div>\n",
        "</div>\n",
        "</body>\n",
        "\"\"\""
      ],
      "execution_count": null,
      "outputs": []
    },
    {
      "cell_type": "code",
      "metadata": {
        "id": "8-WAsb1uxRkh",
        "outputId": "7ecd64f2-ca4e-4ae9-872b-e2a9f50067b4"
      },
      "source": [
        "soup = BeautifulSoup(texto, \"html.parser\")\n",
        "for product in soup.find_all(\"div\", \"item\"):\n",
        "    product_title = product.find(\"li\").text \n",
        "    product_price = re.search(r'\\$\\d+\\.\\d+', product.find(\"div\", \"main_price\").text)[0]\n",
        "    print(f\"{product_title} is selling for {product_price}\")"
      ],
      "execution_count": null,
      "outputs": [
        {
          "output_type": "stream",
          "text": [
            "Watch is selling for $66.68\n",
            "Phone is selling for $566.68\n"
          ],
          "name": "stdout"
        }
      ]
    },
    {
      "cell_type": "code",
      "metadata": {
        "id": "BtY1fOIzxRkh"
      },
      "source": [
        ""
      ],
      "execution_count": null,
      "outputs": []
    }
  ]
}