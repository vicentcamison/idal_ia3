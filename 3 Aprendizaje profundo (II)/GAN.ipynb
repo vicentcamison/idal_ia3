{
  "nbformat": 4,
  "nbformat_minor": 0,
  "metadata": {
    "colab": {
      "name": "Untitled2.ipynb",
      "provenance": [],
      "authorship_tag": "ABX9TyO1hVwPnUX2HM8nVpLbNbvZ",
      "include_colab_link": true
    },
    "kernelspec": {
      "name": "python3",
      "display_name": "Python 3"
    }
  },
  "cells": [
    {
      "cell_type": "markdown",
      "metadata": {
        "id": "view-in-github",
        "colab_type": "text"
      },
      "source": [
        "<a href=\"https://colab.research.google.com/github/vicentcamison/idal_ia3/blob/main/3%20Aprendizaje%20profundo%20(II)/GAN.ipynb\" target=\"_parent\"><img src=\"https://colab.research.google.com/assets/colab-badge.svg\" alt=\"Open In Colab\"/></a>"
      ]
    },
    {
      "cell_type": "code",
      "metadata": {
        "id": "N_zyeJVjPxzH"
      },
      "source": [
        "import numpy as np\n",
        "import pandas as pd\n",
        "import matplotlib.pyplot as plt\n",
        "\n",
        "import torch\n",
        "import torchvision\n",
        "from torchvision import transforms\n",
        "import torchvision.datasets as datasets\n",
        "from torch.utils.data import DataLoader, Subset\n",
        "from torch import nn\n",
        "import torch.nn.functional as F\n",
        "\n",
        "from sklearn.model_selection import train_test_split"
      ],
      "execution_count": 3,
      "outputs": []
    },
    {
      "cell_type": "markdown",
      "metadata": {
        "id": "P2kiXnudPmyF"
      },
      "source": [
        "We are going to create a GAN to generate files that are similar to Bob Ross"
      ]
    },
    {
      "cell_type": "code",
      "metadata": {
        "colab": {
          "base_uri": "https://localhost:8080/"
        },
        "id": "d6DzjWi9Py-Y",
        "outputId": "d2616fc6-419b-45bd-8292-5f79e4364e55"
      },
      "source": [
        "# Access to the BOB ROSS images folder\n",
        "from google.colab import drive\n",
        "drive.mount('/content/gdrive')"
      ],
      "execution_count": null,
      "outputs": [
        {
          "output_type": "stream",
          "text": [
            "Mounted at /content/gdrive\n"
          ],
          "name": "stdout"
        }
      ]
    },
    {
      "cell_type": "code",
      "metadata": {
        "id": "1XE9urSNQRO2"
      },
      "source": [
        "#!ls gdrive/MyDrive/UNIVERSIDAD/Master\\ Propio\\ IA\\ UV/3\\ Aprendizaje\\ profundo\\ (II)/Datasets/Bob\\ Ross/train/images\n",
        "directory = 'gdrive/MyDrive/UNIVERSIDAD/Master Propio IA UV/3 Aprendizaje profundo (II)/Datasets/Bob Ross/train/images'"
      ],
      "execution_count": null,
      "outputs": []
    },
    {
      "cell_type": "code",
      "metadata": {
        "id": "qiqPg6aZkZ6Q"
      },
      "source": [
        "transform = transforms.Compose([\n",
        "  transforms.ToTensor()\n",
        "])"
      ],
      "execution_count": null,
      "outputs": []
    },
    {
      "cell_type": "code",
      "metadata": {
        "id": "epRJvIEal0F9"
      },
      "source": [
        "directory = \"gdrive/MyDrive/UNIVERSIDAD/Master Propio IA UV/3 Aprendizaje profundo (II)/Datasets/Bob Ross/train\""
      ],
      "execution_count": null,
      "outputs": []
    },
    {
      "cell_type": "code",
      "metadata": {
        "id": "ouR64zMJUOv9"
      },
      "source": [
        "folder = datasets.ImageFolder(root = directory, transform=transform)"
      ],
      "execution_count": null,
      "outputs": []
    },
    {
      "cell_type": "code",
      "metadata": {
        "colab": {
          "base_uri": "https://localhost:8080/"
        },
        "id": "bULShk2RnB-j",
        "outputId": "7f06448d-020b-4b5e-ff70-d663e083716f"
      },
      "source": [
        "folder"
      ],
      "execution_count": null,
      "outputs": [
        {
          "output_type": "execute_result",
          "data": {
            "text/plain": [
              "Dataset ImageFolder\n",
              "    Number of datapoints: 500\n",
              "    Root location: gdrive/MyDrive/UNIVERSIDAD/Master Propio IA UV/3 Aprendizaje profundo (II)/Datasets/Bob Ross/train\n",
              "    StandardTransform\n",
              "Transform: Compose(\n",
              "               ToTensor()\n",
              "           )"
            ]
          },
          "metadata": {
            "tags": []
          },
          "execution_count": 7
        }
      ]
    },
    {
      "cell_type": "code",
      "metadata": {
        "id": "5J0nx2cWnPb6"
      },
      "source": [
        "batch_size = 20\n",
        "\n",
        "folder_loader = DataLoader(folder, batch_size=batch_size, shuffle=True, num_workers=2)"
      ],
      "execution_count": null,
      "outputs": []
    },
    {
      "cell_type": "code",
      "metadata": {
        "id": "B7ZVNGgHpSYF"
      },
      "source": [
        ""
      ],
      "execution_count": null,
      "outputs": []
    },
    {
      "cell_type": "code",
      "metadata": {
        "id": "b7QLYk12poRL"
      },
      "source": [
        "def train_val_dataset(dataset, val_split=0.25):\n",
        "  train_idx, val_idx = train_test_split(list(range(len(dataset))), test_size=val_split, shuffle=True)\n",
        "  datasets = {}\n",
        "  datasets['train'] = Subset(dataset, train_idx)\n",
        "  datasets['val'] = Subset(dataset, val_idx)\n",
        "  return datasets"
      ],
      "execution_count": null,
      "outputs": []
    },
    {
      "cell_type": "code",
      "metadata": {
        "id": "Dccd9C5KtKIu"
      },
      "source": [
        "datasets = train_val_dataset(folder)"
      ],
      "execution_count": null,
      "outputs": []
    },
    {
      "cell_type": "markdown",
      "metadata": {
        "id": "iy7DyQ5JldQo"
      },
      "source": [
        "### Small experiment to check how grad works in PyTorch tensors"
      ]
    },
    {
      "cell_type": "code",
      "metadata": {
        "id": "5Roc4V70eKPz"
      },
      "source": [
        "x = torch.randn(5)\n",
        "w = torch.randn(3,5).requires_grad_()\n",
        "b = torch.randn(3).requires_grad_()\n",
        "\n",
        "y = torch.randn(3)"
      ],
      "execution_count": null,
      "outputs": []
    },
    {
      "cell_type": "code",
      "metadata": {
        "id": "CR6ZeZdfgcPo"
      },
      "source": [
        "def linear(x, w, b):\n",
        "  return x @ w.t() + b\n",
        "\n",
        "def mse(pred, real):\n",
        "  return (pred - real).pow(2).mean()"
      ],
      "execution_count": null,
      "outputs": []
    },
    {
      "cell_type": "code",
      "metadata": {
        "id": "CkC82pgiggX7"
      },
      "source": [
        "result = linear(x, w, b)\n",
        "loss = mse(result, y)"
      ],
      "execution_count": null,
      "outputs": []
    },
    {
      "cell_type": "code",
      "metadata": {
        "id": "QTdbAgKZlGXU",
        "colab": {
          "base_uri": "https://localhost:8080/"
        },
        "outputId": "0ae5d083-636a-4ca8-fa23-f66683f7c280"
      },
      "source": [
        "loss"
      ],
      "execution_count": null,
      "outputs": [
        {
          "output_type": "execute_result",
          "data": {
            "text/plain": [
              "tensor(5.4519, grad_fn=<MeanBackward0>)"
            ]
          },
          "metadata": {
            "tags": []
          },
          "execution_count": 29
        }
      ]
    },
    {
      "cell_type": "code",
      "metadata": {
        "id": "KaMdUEaLg7A_"
      },
      "source": [
        "loss.backward()"
      ],
      "execution_count": null,
      "outputs": []
    },
    {
      "cell_type": "code",
      "metadata": {
        "id": "EwzSISXGg_tH",
        "colab": {
          "base_uri": "https://localhost:8080/"
        },
        "outputId": "2948c403-5815-427f-b139-ca659f047d02"
      },
      "source": [
        "w.grad"
      ],
      "execution_count": null,
      "outputs": [
        {
          "output_type": "execute_result",
          "data": {
            "text/plain": [
              "tensor([[ 0.9431, -0.0135, -0.7908,  0.0409,  0.9231],\n",
              "        [ 1.6658, -0.0239, -1.3967,  0.0723,  1.6304],\n",
              "        [ 3.4015, -0.0488, -2.8520,  0.1475,  3.3292]])"
            ]
          },
          "metadata": {
            "tags": []
          },
          "execution_count": 31
        }
      ]
    },
    {
      "cell_type": "code",
      "metadata": {
        "id": "d8IdSrxylWDa",
        "colab": {
          "base_uri": "https://localhost:8080/"
        },
        "outputId": "14f1d481-4c06-4c9d-ab2d-10e8fbc581a7"
      },
      "source": [
        "w.data"
      ],
      "execution_count": null,
      "outputs": [
        {
          "output_type": "execute_result",
          "data": {
            "text/plain": [
              "tensor([[ 1.2697, -0.6939,  0.1321, -0.1466, -0.3914],\n",
              "        [-1.2386, -1.8907, -1.8679, -1.9964,  0.7666],\n",
              "        [ 0.6081,  0.5699,  0.1135, -0.5932,  0.5787]])"
            ]
          },
          "metadata": {
            "tags": []
          },
          "execution_count": 32
        }
      ]
    },
    {
      "cell_type": "code",
      "metadata": {
        "id": "9dcjZCNElXfy",
        "colab": {
          "base_uri": "https://localhost:8080/"
        },
        "outputId": "8c50e76d-5a98-409b-e66b-9456e2e0b15e"
      },
      "source": [
        "w"
      ],
      "execution_count": null,
      "outputs": [
        {
          "output_type": "execute_result",
          "data": {
            "text/plain": [
              "tensor([[ 1.2697, -0.6939,  0.1321, -0.1466, -0.3914],\n",
              "        [-1.2386, -1.8907, -1.8679, -1.9964,  0.7666],\n",
              "        [ 0.6081,  0.5699,  0.1135, -0.5932,  0.5787]], requires_grad=True)"
            ]
          },
          "metadata": {
            "tags": []
          },
          "execution_count": 33
        }
      ]
    },
    {
      "cell_type": "code",
      "metadata": {
        "id": "6jG8Q-kylZD0",
        "colab": {
          "base_uri": "https://localhost:8080/"
        },
        "outputId": "59b2245c-91ae-44a7-a843-c7a6a75d9f03"
      },
      "source": [
        "b.data"
      ],
      "execution_count": null,
      "outputs": [
        {
          "output_type": "execute_result",
          "data": {
            "text/plain": [
              "tensor([ 0.5760,  0.7353, -1.4715])"
            ]
          },
          "metadata": {
            "tags": []
          },
          "execution_count": 34
        }
      ]
    },
    {
      "cell_type": "code",
      "metadata": {
        "id": "NUo0Bn-Ala0a",
        "colab": {
          "base_uri": "https://localhost:8080/"
        },
        "outputId": "b8d55fed-fca9-468e-9dae-871cdd398132"
      },
      "source": [
        "b.grad"
      ],
      "execution_count": null,
      "outputs": [
        {
          "output_type": "execute_result",
          "data": {
            "text/plain": [
              "tensor([-0.6515, -1.1507, -2.3496])"
            ]
          },
          "metadata": {
            "tags": []
          },
          "execution_count": 35
        }
      ]
    },
    {
      "cell_type": "code",
      "metadata": {
        "id": "0qrO6A0elbnA",
        "colab": {
          "base_uri": "https://localhost:8080/"
        },
        "outputId": "1d7b82bc-a8fe-4f90-bc60-4da00e70fd68"
      },
      "source": [
        "a1 = torch.randn(1,3).requires_grad_()\n",
        "a1.shape"
      ],
      "execution_count": null,
      "outputs": [
        {
          "output_type": "execute_result",
          "data": {
            "text/plain": [
              "torch.Size([1, 3])"
            ]
          },
          "metadata": {
            "tags": []
          },
          "execution_count": 46
        }
      ]
    },
    {
      "cell_type": "code",
      "metadata": {
        "id": "TT3MuWl0soih",
        "colab": {
          "base_uri": "https://localhost:8080/"
        },
        "outputId": "573bf177-8c42-40bb-ceb3-8704528aff9e"
      },
      "source": [
        "aa1 = a1.squeeze()\n",
        "aa1.shape"
      ],
      "execution_count": null,
      "outputs": [
        {
          "output_type": "execute_result",
          "data": {
            "text/plain": [
              "torch.Size([3])"
            ]
          },
          "metadata": {
            "tags": []
          },
          "execution_count": 43
        }
      ]
    },
    {
      "cell_type": "code",
      "metadata": {
        "id": "hjoGU4iCsvf0",
        "colab": {
          "base_uri": "https://localhost:8080/"
        },
        "outputId": "f4fb91b9-0472-48af-833f-5067a43e8b24"
      },
      "source": [
        "a2 = torch.randn(2,3).requires_grad_()\n",
        "a2.shape"
      ],
      "execution_count": null,
      "outputs": [
        {
          "output_type": "execute_result",
          "data": {
            "text/plain": [
              "torch.Size([2, 3])"
            ]
          },
          "metadata": {
            "tags": []
          },
          "execution_count": 45
        }
      ]
    },
    {
      "cell_type": "code",
      "metadata": {
        "id": "yyBMGK7fs3x0",
        "colab": {
          "base_uri": "https://localhost:8080/"
        },
        "outputId": "5bb9cb3a-5426-40eb-be84-cecfca10cb6e"
      },
      "source": [
        "aa2 = a2.squeeze()\n",
        "aa2.shape #The squeeze function does nothing because there is no dimension to squeeze"
      ],
      "execution_count": null,
      "outputs": [
        {
          "output_type": "execute_result",
          "data": {
            "text/plain": [
              "torch.Size([2, 3])"
            ]
          },
          "metadata": {
            "tags": []
          },
          "execution_count": 47
        }
      ]
    },
    {
      "cell_type": "markdown",
      "metadata": {
        "id": "ZaVXHesWll3X"
      },
      "source": [
        "### Continuing with building the Bob Ross generator"
      ]
    },
    {
      "cell_type": "code",
      "metadata": {
        "id": "Tn78mMb5lpmN"
      },
      "source": [
        "##Right now, the generator only generates one image per execution,\n",
        "## maybe it should be readapted to generate a BATCH of images\n",
        "\n",
        "class Generator(nn.Module):\n",
        "  def __init__(self, noise_size, image_size):\n",
        "    super.__init__()\n",
        "\n",
        "    self.hidden_channels = 10\n",
        "    self.output_channels = 3\n",
        "    self.hidden_size = self.hidden_channels * image_size ** 2\n",
        "\n",
        "    self.linear = nn.Linear(noise_size, hidden_size)\n",
        "    self.conv1 = nn.ConvTranspose2d(self.hidden_channels, self.hidden_channels//2, (3,3))\n",
        "    self.conv2 = nn.ConvTranspose2d(self.hidden_channels//2, self.output_channels, (3,3))\n",
        "\n",
        "\n",
        "\n",
        "  def forward(self, x):\n",
        "    x = F.relu(self.linear(x))\n",
        "    x = x.view(image_size, image_size, -1)\n",
        "    x = F.relu(F.upsample_bilinear(self.conv1(self.conv1(x)))) ##THIS IS NOT GOING TO WORK. THE CHANNELS DON'T MATCH\n",
        "    x = F.relu(F.upsample_bilinear(self.conv2(self.conv2(x))))\n"
      ],
      "execution_count": null,
      "outputs": []
    },
    {
      "cell_type": "code",
      "metadata": {
        "id": "EqGdW9FrjX9B"
      },
      "source": [
        "class Discriminator(nn.Module):\n",
        "  def __init__(self, image_size):\n",
        "    super.__init__()\n",
        "\n",
        "    self.im_width, self.im_height, self.im_channels = image_size\n",
        "\n",
        "    self.conv1_1 = nn.Conv2d(self.im_channels, 16, (3,3))\n",
        "    self.conv1_2 = nn.Conv2d(16, 16, (3,3))\n",
        "    self.conv2_1 = nn.Conv2d(16, 32, (3,3))\n",
        "    self.conv2_2 = nn.Conv2d(32, 32, (3,3))\n",
        "    self.conv3_1 = nn.Conv2d(32, 64, (3,3))\n",
        "    self.conv3_2 = nn.Conv2d(64, 64, (3,3))\n",
        "    self.pool = nn.MaxPool2d(kernel_size=(2,2))\n",
        "\n",
        "    self.dense1 = nn.Linear(128, 32)\n",
        "    self.dense2 = nn.Linear(32, 2)\n",
        "\n",
        "  def forward(self, x):\n",
        "    x = F.relu(self_conv1_1(x))\n",
        "    x = F.relu(self_conv1_2(x))\n",
        "    x = F.batch_norm(self.pool(x))\n",
        "    x = F.relu(self.conv2_1(x))\n",
        "    x = F.relu(self.conv2_2(x))\n",
        "    x = F.batch_norm(self.pool(x))\n",
        "    x = F.relu(self.conv3_1(x))\n",
        "    x = F.relu(self.conv3_2(x))\n",
        "    x = F.batch_norm(self.pool(x))\n",
        "    x = nn.Flatten(x)\n",
        "    x = F.relu(self.dense1(x))\n",
        "    x = F.softmax(self.dense2(x))"
      ],
      "execution_count": null,
      "outputs": []
    },
    {
      "cell_type": "code",
      "metadata": {
        "id": "9hV501H50zRc",
        "outputId": "4eec324f-1041-4b6e-b357-ab1e87fee3b1",
        "colab": {
          "base_uri": "https://localhost:8080/",
          "height": 202
        }
      },
      "source": [
        "x = torch.randn(5, 32, 32, 3)\n",
        "m = F.avg_pool2d(kernel_size=)\n",
        "y = F.avg_pool2d(x)\n",
        "y.shape"
      ],
      "execution_count": 4,
      "outputs": [
        {
          "output_type": "error",
          "ename": "TypeError",
          "evalue": "ignored",
          "traceback": [
            "\u001b[0;31m---------------------------------------------------------------------------\u001b[0m",
            "\u001b[0;31mTypeError\u001b[0m                                 Traceback (most recent call last)",
            "\u001b[0;32m<ipython-input-4-b827ec35207b>\u001b[0m in \u001b[0;36m<module>\u001b[0;34m()\u001b[0m\n\u001b[1;32m      1\u001b[0m \u001b[0mx\u001b[0m \u001b[0;34m=\u001b[0m \u001b[0mtorch\u001b[0m\u001b[0;34m.\u001b[0m\u001b[0mrandn\u001b[0m\u001b[0;34m(\u001b[0m\u001b[0;36m5\u001b[0m\u001b[0;34m,\u001b[0m \u001b[0;36m32\u001b[0m\u001b[0;34m,\u001b[0m \u001b[0;36m32\u001b[0m\u001b[0;34m,\u001b[0m \u001b[0;36m3\u001b[0m\u001b[0;34m)\u001b[0m\u001b[0;34m\u001b[0m\u001b[0;34m\u001b[0m\u001b[0m\n\u001b[0;32m----> 2\u001b[0;31m \u001b[0my\u001b[0m \u001b[0;34m=\u001b[0m \u001b[0mF\u001b[0m\u001b[0;34m.\u001b[0m\u001b[0mavg_pool2d\u001b[0m\u001b[0;34m(\u001b[0m\u001b[0mx\u001b[0m\u001b[0;34m)\u001b[0m\u001b[0;34m\u001b[0m\u001b[0;34m\u001b[0m\u001b[0m\n\u001b[0m\u001b[1;32m      3\u001b[0m \u001b[0my\u001b[0m\u001b[0;34m.\u001b[0m\u001b[0mshape\u001b[0m\u001b[0;34m\u001b[0m\u001b[0;34m\u001b[0m\u001b[0m\n",
            "\u001b[0;31mTypeError\u001b[0m: avg_pool2d() missing 1 required positional arguments: \"kernel_size\""
          ]
        }
      ]
    }
  ]
}