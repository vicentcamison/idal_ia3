{
  "nbformat": 4,
  "nbformat_minor": 0,
  "metadata": {
    "colab": {
      "name": "Untitled2.ipynb",
      "provenance": [],
      "authorship_tag": "ABX9TyOZjIID4kFeNqMuYTaqvV4c",
      "include_colab_link": true
    },
    "kernelspec": {
      "name": "python3",
      "display_name": "Python 3"
    }
  },
  "cells": [
    {
      "cell_type": "markdown",
      "metadata": {
        "id": "view-in-github",
        "colab_type": "text"
      },
      "source": [
        "<a href=\"https://colab.research.google.com/github/vicentcamison/idal_ia3/blob/main/3%20Aprendizaje%20profundo%20(II)/GAN.ipynb\" target=\"_parent\"><img src=\"https://colab.research.google.com/assets/colab-badge.svg\" alt=\"Open In Colab\"/></a>"
      ]
    },
    {
      "cell_type": "code",
      "metadata": {
        "id": "N_zyeJVjPxzH"
      },
      "source": [
        "import numpy as np\n",
        "import pandas as pd\n",
        "import matplotlib.pyplot as plt\n",
        "\n",
        "import torch\n",
        "import torchvision\n",
        "from torchvision import transforms\n",
        "import torchvision.datasets as datasets\n",
        "from torch.utils.data import DataLoader, Subset\n",
        "\n",
        "from sklearn.model_selection import train_test_split"
      ],
      "execution_count": 1,
      "outputs": []
    },
    {
      "cell_type": "markdown",
      "metadata": {
        "id": "P2kiXnudPmyF"
      },
      "source": [
        "We are going to create a GAN to generate files that are similar to Bob Ross"
      ]
    },
    {
      "cell_type": "code",
      "metadata": {
        "colab": {
          "base_uri": "https://localhost:8080/"
        },
        "id": "d6DzjWi9Py-Y",
        "outputId": "d2616fc6-419b-45bd-8292-5f79e4364e55"
      },
      "source": [
        "# Access to the BOB ROSS images folder\n",
        "from google.colab import drive\n",
        "drive.mount('/content/gdrive')"
      ],
      "execution_count": 2,
      "outputs": [
        {
          "output_type": "stream",
          "text": [
            "Mounted at /content/gdrive\n"
          ],
          "name": "stdout"
        }
      ]
    },
    {
      "cell_type": "code",
      "metadata": {
        "id": "1XE9urSNQRO2"
      },
      "source": [
        "#!ls gdrive/MyDrive/UNIVERSIDAD/Master\\ Propio\\ IA\\ UV/3\\ Aprendizaje\\ profundo\\ (II)/Datasets/Bob\\ Ross/train/images\n",
        "directory = 'gdrive/MyDrive/UNIVERSIDAD/Master Propio IA UV/3 Aprendizaje profundo (II)/Datasets/Bob Ross/train/images'"
      ],
      "execution_count": 3,
      "outputs": []
    },
    {
      "cell_type": "code",
      "metadata": {
        "id": "qiqPg6aZkZ6Q"
      },
      "source": [
        "transform = transforms.Compose([\n",
        "  transforms.ToTensor()\n",
        "])"
      ],
      "execution_count": 4,
      "outputs": []
    },
    {
      "cell_type": "code",
      "metadata": {
        "id": "epRJvIEal0F9"
      },
      "source": [
        "directory = \"gdrive/MyDrive/UNIVERSIDAD/Master Propio IA UV/3 Aprendizaje profundo (II)/Datasets/Bob Ross/train\""
      ],
      "execution_count": 5,
      "outputs": []
    },
    {
      "cell_type": "code",
      "metadata": {
        "id": "ouR64zMJUOv9"
      },
      "source": [
        "folder = datasets.ImageFolder(root = directory, transform=transform)"
      ],
      "execution_count": 6,
      "outputs": []
    },
    {
      "cell_type": "code",
      "metadata": {
        "colab": {
          "base_uri": "https://localhost:8080/"
        },
        "id": "bULShk2RnB-j",
        "outputId": "7f06448d-020b-4b5e-ff70-d663e083716f"
      },
      "source": [
        "folder"
      ],
      "execution_count": 7,
      "outputs": [
        {
          "output_type": "execute_result",
          "data": {
            "text/plain": [
              "Dataset ImageFolder\n",
              "    Number of datapoints: 500\n",
              "    Root location: gdrive/MyDrive/UNIVERSIDAD/Master Propio IA UV/3 Aprendizaje profundo (II)/Datasets/Bob Ross/train\n",
              "    StandardTransform\n",
              "Transform: Compose(\n",
              "               ToTensor()\n",
              "           )"
            ]
          },
          "metadata": {
            "tags": []
          },
          "execution_count": 7
        }
      ]
    },
    {
      "cell_type": "code",
      "metadata": {
        "id": "5J0nx2cWnPb6"
      },
      "source": [
        "batch_size = 20\n",
        "\n",
        "folder_loader = DataLoader(folder, batch_size=batch_size, shuffle=True, num_workers=2)"
      ],
      "execution_count": 8,
      "outputs": []
    },
    {
      "cell_type": "code",
      "metadata": {
        "id": "B7ZVNGgHpSYF"
      },
      "source": [
        ""
      ],
      "execution_count": 8,
      "outputs": []
    },
    {
      "cell_type": "code",
      "metadata": {
        "id": "b7QLYk12poRL"
      },
      "source": [
        "def train_val_dataset(dataset, val_split=0.25):\n",
        "  train_idx, val_idx = train_test_split(list(range(len(dataset))), test_size=val_split, shuffle=True)\n",
        "  datasets = {}\n",
        "  datasets['train'] = Subset(dataset, train_idx)\n",
        "  datasets['val'] = Subset(dataset, val_idx)\n",
        "  return datasets"
      ],
      "execution_count": 9,
      "outputs": []
    },
    {
      "cell_type": "code",
      "metadata": {
        "id": "Dccd9C5KtKIu"
      },
      "source": [
        "datasets = train_val_dataset(folder)"
      ],
      "execution_count": 10,
      "outputs": []
    },
    {
      "cell_type": "markdown",
      "metadata": {
        "id": "iy7DyQ5JldQo"
      },
      "source": [
        "### Small experiment to check how grad works in PyTorch tensors"
      ]
    },
    {
      "cell_type": "code",
      "metadata": {
        "id": "5Roc4V70eKPz"
      },
      "source": [
        "x = torch.randn(5)\n",
        "w = torch.randn(3,5).requires_grad_()\n",
        "b = torch.randn(3).requires_grad_()\n",
        "\n",
        "y = torch.randn(3)"
      ],
      "execution_count": 26,
      "outputs": []
    },
    {
      "cell_type": "code",
      "metadata": {
        "id": "CR6ZeZdfgcPo"
      },
      "source": [
        "def linear(x, w, b):\n",
        "  return x @ w.t() + b\n",
        "\n",
        "def mse(pred, real):\n",
        "  return (pred - real).pow(2).mean()"
      ],
      "execution_count": 22,
      "outputs": []
    },
    {
      "cell_type": "code",
      "metadata": {
        "id": "CkC82pgiggX7"
      },
      "source": [
        "result = linear(x, w, b)\n",
        "loss = mse(result, y)"
      ],
      "execution_count": 28,
      "outputs": []
    },
    {
      "cell_type": "code",
      "metadata": {
        "id": "QTdbAgKZlGXU",
        "outputId": "0ae5d083-636a-4ca8-fa23-f66683f7c280",
        "colab": {
          "base_uri": "https://localhost:8080/"
        }
      },
      "source": [
        "loss"
      ],
      "execution_count": 29,
      "outputs": [
        {
          "output_type": "execute_result",
          "data": {
            "text/plain": [
              "tensor(5.4519, grad_fn=<MeanBackward0>)"
            ]
          },
          "metadata": {
            "tags": []
          },
          "execution_count": 29
        }
      ]
    },
    {
      "cell_type": "code",
      "metadata": {
        "id": "KaMdUEaLg7A_"
      },
      "source": [
        "loss.backward()"
      ],
      "execution_count": 30,
      "outputs": []
    },
    {
      "cell_type": "code",
      "metadata": {
        "id": "EwzSISXGg_tH",
        "outputId": "2948c403-5815-427f-b139-ca659f047d02",
        "colab": {
          "base_uri": "https://localhost:8080/"
        }
      },
      "source": [
        "w.grad"
      ],
      "execution_count": 31,
      "outputs": [
        {
          "output_type": "execute_result",
          "data": {
            "text/plain": [
              "tensor([[ 0.9431, -0.0135, -0.7908,  0.0409,  0.9231],\n",
              "        [ 1.6658, -0.0239, -1.3967,  0.0723,  1.6304],\n",
              "        [ 3.4015, -0.0488, -2.8520,  0.1475,  3.3292]])"
            ]
          },
          "metadata": {
            "tags": []
          },
          "execution_count": 31
        }
      ]
    },
    {
      "cell_type": "code",
      "metadata": {
        "id": "d8IdSrxylWDa",
        "outputId": "14f1d481-4c06-4c9d-ab2d-10e8fbc581a7",
        "colab": {
          "base_uri": "https://localhost:8080/"
        }
      },
      "source": [
        "w.data"
      ],
      "execution_count": 32,
      "outputs": [
        {
          "output_type": "execute_result",
          "data": {
            "text/plain": [
              "tensor([[ 1.2697, -0.6939,  0.1321, -0.1466, -0.3914],\n",
              "        [-1.2386, -1.8907, -1.8679, -1.9964,  0.7666],\n",
              "        [ 0.6081,  0.5699,  0.1135, -0.5932,  0.5787]])"
            ]
          },
          "metadata": {
            "tags": []
          },
          "execution_count": 32
        }
      ]
    },
    {
      "cell_type": "code",
      "metadata": {
        "id": "9dcjZCNElXfy",
        "outputId": "8c50e76d-5a98-409b-e66b-9456e2e0b15e",
        "colab": {
          "base_uri": "https://localhost:8080/"
        }
      },
      "source": [
        "w"
      ],
      "execution_count": 33,
      "outputs": [
        {
          "output_type": "execute_result",
          "data": {
            "text/plain": [
              "tensor([[ 1.2697, -0.6939,  0.1321, -0.1466, -0.3914],\n",
              "        [-1.2386, -1.8907, -1.8679, -1.9964,  0.7666],\n",
              "        [ 0.6081,  0.5699,  0.1135, -0.5932,  0.5787]], requires_grad=True)"
            ]
          },
          "metadata": {
            "tags": []
          },
          "execution_count": 33
        }
      ]
    },
    {
      "cell_type": "code",
      "metadata": {
        "id": "6jG8Q-kylZD0",
        "outputId": "59b2245c-91ae-44a7-a843-c7a6a75d9f03",
        "colab": {
          "base_uri": "https://localhost:8080/"
        }
      },
      "source": [
        "b.data"
      ],
      "execution_count": 34,
      "outputs": [
        {
          "output_type": "execute_result",
          "data": {
            "text/plain": [
              "tensor([ 0.5760,  0.7353, -1.4715])"
            ]
          },
          "metadata": {
            "tags": []
          },
          "execution_count": 34
        }
      ]
    },
    {
      "cell_type": "code",
      "metadata": {
        "id": "NUo0Bn-Ala0a",
        "outputId": "b8d55fed-fca9-468e-9dae-871cdd398132",
        "colab": {
          "base_uri": "https://localhost:8080/"
        }
      },
      "source": [
        "b.grad"
      ],
      "execution_count": 35,
      "outputs": [
        {
          "output_type": "execute_result",
          "data": {
            "text/plain": [
              "tensor([-0.6515, -1.1507, -2.3496])"
            ]
          },
          "metadata": {
            "tags": []
          },
          "execution_count": 35
        }
      ]
    },
    {
      "cell_type": "code",
      "metadata": {
        "id": "0qrO6A0elbnA",
        "outputId": "1d7b82bc-a8fe-4f90-bc60-4da00e70fd68",
        "colab": {
          "base_uri": "https://localhost:8080/"
        }
      },
      "source": [
        "a1 = torch.randn(1,3).requires_grad_()\n",
        "a1.shape"
      ],
      "execution_count": 46,
      "outputs": [
        {
          "output_type": "execute_result",
          "data": {
            "text/plain": [
              "torch.Size([1, 3])"
            ]
          },
          "metadata": {
            "tags": []
          },
          "execution_count": 46
        }
      ]
    },
    {
      "cell_type": "code",
      "metadata": {
        "id": "TT3MuWl0soih",
        "outputId": "573bf177-8c42-40bb-ceb3-8704528aff9e",
        "colab": {
          "base_uri": "https://localhost:8080/"
        }
      },
      "source": [
        "aa1 = a1.squeeze()\n",
        "aa1.shape"
      ],
      "execution_count": 43,
      "outputs": [
        {
          "output_type": "execute_result",
          "data": {
            "text/plain": [
              "torch.Size([3])"
            ]
          },
          "metadata": {
            "tags": []
          },
          "execution_count": 43
        }
      ]
    },
    {
      "cell_type": "code",
      "metadata": {
        "id": "hjoGU4iCsvf0",
        "outputId": "f4fb91b9-0472-48af-833f-5067a43e8b24",
        "colab": {
          "base_uri": "https://localhost:8080/"
        }
      },
      "source": [
        "a2 = torch.randn(2,3).requires_grad_()\n",
        "a2.shape"
      ],
      "execution_count": 45,
      "outputs": [
        {
          "output_type": "execute_result",
          "data": {
            "text/plain": [
              "torch.Size([2, 3])"
            ]
          },
          "metadata": {
            "tags": []
          },
          "execution_count": 45
        }
      ]
    },
    {
      "cell_type": "code",
      "metadata": {
        "id": "yyBMGK7fs3x0",
        "outputId": "5bb9cb3a-5426-40eb-be84-cecfca10cb6e",
        "colab": {
          "base_uri": "https://localhost:8080/"
        }
      },
      "source": [
        "aa2 = a2.squeeze()\n",
        "aa2.shape #The squeeze function does nothing because there is no dimension to squeeze"
      ],
      "execution_count": 47,
      "outputs": [
        {
          "output_type": "execute_result",
          "data": {
            "text/plain": [
              "torch.Size([2, 3])"
            ]
          },
          "metadata": {
            "tags": []
          },
          "execution_count": 47
        }
      ]
    },
    {
      "cell_type": "markdown",
      "metadata": {
        "id": "ZaVXHesWll3X"
      },
      "source": [
        "### Continuing with building the Bob Ross generator"
      ]
    },
    {
      "cell_type": "code",
      "metadata": {
        "id": "Tn78mMb5lpmN"
      },
      "source": [
        ""
      ],
      "execution_count": null,
      "outputs": []
    }
  ]
}