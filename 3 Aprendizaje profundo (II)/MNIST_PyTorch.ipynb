{
  "nbformat": 4,
  "nbformat_minor": 0,
  "metadata": {
    "kernelspec": {
      "display_name": "Python 3",
      "language": "python",
      "name": "python3"
    },
    "language_info": {
      "codemirror_mode": {
        "name": "ipython",
        "version": 3
      },
      "file_extension": ".py",
      "mimetype": "text/x-python",
      "name": "python",
      "nbconvert_exporter": "python",
      "pygments_lexer": "ipython3",
      "version": "3.8.3"
    },
    "colab": {
      "name": "MNIST PyTorch.ipynb",
      "provenance": [],
      "include_colab_link": true
    }
  },
  "cells": [
    {
      "cell_type": "markdown",
      "metadata": {
        "id": "view-in-github",
        "colab_type": "text"
      },
      "source": [
        "<a href=\"https://colab.research.google.com/github/vicentcamison/idal_ia3/blob/main/3%20Aprendizaje%20profundo%20(II)/MNIST_PyTorch.ipynb\" target=\"_parent\"><img src=\"https://colab.research.google.com/assets/colab-badge.svg\" alt=\"Open In Colab\"/></a>"
      ]
    },
    {
      "cell_type": "markdown",
      "metadata": {
        "id": "Gog1fuiODEJW"
      },
      "source": [
        "# Objectives\n",
        "### Gain conttol of plots and subplots in MNIST (or FASHION-MNIST)\n",
        "### Build a neural network that recognises MNIST (or FASHION-MNIST)\n",
        "### HEATMAPS\n",
        "### An excuse to read papers/documents to further understand what I'm doing  (O'Reily PyTorch book, for example)"
      ]
    },
    {
      "cell_type": "code",
      "metadata": {
        "id": "5opX6SYPDEJg"
      },
      "source": [
        "import numpy as np\n",
        "import pandas as pd\n",
        "import matplotlib.pyplot as plt\n",
        "\n",
        "import torch\n",
        "import torchvision\n",
        "import torchvision.datasets as datasets"
      ],
      "execution_count": null,
      "outputs": []
    },
    {
      "cell_type": "code",
      "metadata": {
        "id": "Tgh6CJFfDEJj"
      },
      "source": [
        "mnist_trainset = datasets.MNIST(root='./data', train=True, download=True, transform=None)"
      ],
      "execution_count": null,
      "outputs": []
    },
    {
      "cell_type": "markdown",
      "metadata": {
        "id": "WkXdMV9GDEJk"
      },
      "source": [
        "#### Let's try to understand what we're woring with. What is mnist_trainset? Is it the entire training set? Is it just an iterator?"
      ]
    },
    {
      "cell_type": "code",
      "metadata": {
        "id": "ujRltBflDEJl",
        "outputId": "8c49175d-e76f-4349-b944-78ba5d8f8102"
      },
      "source": [
        "type(mnist_trainset)"
      ],
      "execution_count": null,
      "outputs": [
        {
          "output_type": "execute_result",
          "data": {
            "text/plain": [
              "torchvision.datasets.mnist.MNIST"
            ]
          },
          "metadata": {
            "tags": []
          },
          "execution_count": 3
        }
      ]
    },
    {
      "cell_type": "markdown",
      "metadata": {
        "id": "3Jif-XSaDEJn"
      },
      "source": [
        "#### This doesn't help"
      ]
    },
    {
      "cell_type": "code",
      "metadata": {
        "id": "uyzMyIpWDEJo",
        "outputId": "9522987d-8a7b-4f31-ddda-3b306e9cb103"
      },
      "source": [
        "type(mnist_trainset.data)"
      ],
      "execution_count": null,
      "outputs": [
        {
          "output_type": "execute_result",
          "data": {
            "text/plain": [
              "torch.Tensor"
            ]
          },
          "metadata": {
            "tags": []
          },
          "execution_count": 4
        }
      ]
    },
    {
      "cell_type": "markdown",
      "metadata": {
        "id": "_ur_NcI9DEJp"
      },
      "source": [
        "#### OK. Accessing the data property lets us access a torch tensor. What are the properties of this tensor? What does it contain?"
      ]
    },
    {
      "cell_type": "code",
      "metadata": {
        "id": "4L29QX1LDEJq",
        "outputId": "a1024e47-58c9-4009-d145-afe83efdd498"
      },
      "source": [
        "mnist_trainset.data.shape"
      ],
      "execution_count": null,
      "outputs": [
        {
          "output_type": "execute_result",
          "data": {
            "text/plain": [
              "torch.Size([60000, 28, 28])"
            ]
          },
          "metadata": {
            "tags": []
          },
          "execution_count": 5
        }
      ]
    },
    {
      "cell_type": "code",
      "metadata": {
        "id": "a3YAj62YDEJr",
        "outputId": "97c0322b-26dc-410e-f20e-84a3c8e7695e"
      },
      "source": [
        "plt.imshow(mnist_trainset.data[0,:,:])"
      ],
      "execution_count": null,
      "outputs": [
        {
          "output_type": "execute_result",
          "data": {
            "text/plain": [
              "<matplotlib.image.AxesImage at 0x7fbc02b9c580>"
            ]
          },
          "metadata": {
            "tags": []
          },
          "execution_count": 6
        },
        {
          "output_type": "display_data",
          "data": {
            "image/png": "[encoded data removed]",
            "text/plain": [
              "<Figure size 432x288 with 1 Axes>"
            ]
          },
          "metadata": {
            "tags": [],
            "needs_background": "light"
          }
        }
      ]
    },
    {
      "cell_type": "markdown",
      "metadata": {
        "id": "1mQ3rRpDDEJs"
      },
      "source": [
        "#### How is this tensor normalised? Is it [-1, 1], or [0, 1], or [0, 255]?"
      ]
    },
    {
      "cell_type": "code",
      "metadata": {
        "id": "SeCJNTtRDEJt",
        "outputId": "fcae45d5-b854-4ef7-e237-fc1867c0b314"
      },
      "source": [
        "print(mnist_trainset.data[0,:,:].max().max(), mnist_trainset.data[0,:,:].min().min())"
      ],
      "execution_count": null,
      "outputs": [
        {
          "output_type": "stream",
          "text": [
            "tensor(255, dtype=torch.uint8) tensor(0, dtype=torch.uint8)\n"
          ],
          "name": "stdout"
        }
      ]
    },
    {
      "cell_type": "markdown",
      "metadata": {
        "id": "0Amrj8WiDEJu"
      },
      "source": [
        "#### We've found the data. We now need to find the labels. We'll also explore what we can find inside this before going into building the iterator"
      ]
    },
    {
      "cell_type": "code",
      "metadata": {
        "id": "k7Z7AX_sDEJu",
        "outputId": "ab7f2740-007c-4f86-c8c3-c73a7508a28a"
      },
      "source": [
        "mnist_trainset.classes"
      ],
      "execution_count": null,
      "outputs": [
        {
          "output_type": "execute_result",
          "data": {
            "text/plain": [
              "['0 - zero',\n",
              " '1 - one',\n",
              " '2 - two',\n",
              " '3 - three',\n",
              " '4 - four',\n",
              " '5 - five',\n",
              " '6 - six',\n",
              " '7 - seven',\n",
              " '8 - eight',\n",
              " '9 - nine']"
            ]
          },
          "metadata": {
            "tags": []
          },
          "execution_count": 7
        }
      ]
    },
    {
      "cell_type": "code",
      "metadata": {
        "id": "Pid19xusDEJv",
        "outputId": "7c80fdab-f2a3-46c0-ae36-b03c56b8a481"
      },
      "source": [
        "mnist_trainset.train_data.shape"
      ],
      "execution_count": null,
      "outputs": [
        {
          "output_type": "stream",
          "text": [
            "/home/juan/anaconda3/lib/python3.8/site-packages/torchvision/datasets/mnist.py:55: UserWarning: train_data has been renamed data\n",
            "  warnings.warn(\"train_data has been renamed data\")\n"
          ],
          "name": "stderr"
        },
        {
          "output_type": "execute_result",
          "data": {
            "text/plain": [
              "torch.Size([60000, 28, 28])"
            ]
          },
          "metadata": {
            "tags": []
          },
          "execution_count": 8
        }
      ]
    },
    {
      "cell_type": "code",
      "metadata": {
        "id": "n1klStAvDEJw",
        "outputId": "4156bafd-50ea-4f0e-8513-401ce6ee927b"
      },
      "source": [
        "mnist_trainset.test_data.shape"
      ],
      "execution_count": null,
      "outputs": [
        {
          "output_type": "stream",
          "text": [
            "/home/juan/anaconda3/lib/python3.8/site-packages/torchvision/datasets/mnist.py:60: UserWarning: test_data has been renamed data\n",
            "  warnings.warn(\"test_data has been renamed data\")\n"
          ],
          "name": "stderr"
        },
        {
          "output_type": "execute_result",
          "data": {
            "text/plain": [
              "torch.Size([60000, 28, 28])"
            ]
          },
          "metadata": {
            "tags": []
          },
          "execution_count": 9
        }
      ]
    },
    {
      "cell_type": "markdown",
      "metadata": {
        "id": "9qtwjZZADEJx"
      },
      "source": [
        "#### It seems that both train data and test data end up in the same place: data"
      ]
    },
    {
      "cell_type": "code",
      "metadata": {
        "id": "TUdnZJhWDEJx",
        "outputId": "aafb70ff-aa2a-4c0b-e5ff-b6b6d54f63f5"
      },
      "source": [
        "mnist_trainset.train_labels"
      ],
      "execution_count": null,
      "outputs": [
        {
          "output_type": "stream",
          "text": [
            "/home/juan/anaconda3/lib/python3.8/site-packages/torchvision/datasets/mnist.py:45: UserWarning: train_labels has been renamed targets\n",
            "  warnings.warn(\"train_labels has been renamed targets\")\n"
          ],
          "name": "stderr"
        },
        {
          "output_type": "execute_result",
          "data": {
            "text/plain": [
              "tensor([5, 0, 4,  ..., 5, 6, 8])"
            ]
          },
          "metadata": {
            "tags": []
          },
          "execution_count": 10
        }
      ]
    },
    {
      "cell_type": "code",
      "metadata": {
        "id": "dJMRLi1iDEJx",
        "outputId": "5e702e0c-1dc0-467e-e325-930386901def"
      },
      "source": [
        "mnist_trainset.targets[0]"
      ],
      "execution_count": null,
      "outputs": [
        {
          "output_type": "execute_result",
          "data": {
            "text/plain": [
              "tensor(5)"
            ]
          },
          "metadata": {
            "tags": []
          },
          "execution_count": 11
        }
      ]
    },
    {
      "cell_type": "code",
      "metadata": {
        "id": "ILK0RG5lDEJy",
        "outputId": "c0158065-8dca-4091-e9ac-9f56d329cf13"
      },
      "source": [
        "mnist_trainset.targets.shape"
      ],
      "execution_count": null,
      "outputs": [
        {
          "output_type": "execute_result",
          "data": {
            "text/plain": [
              "torch.Size([60000])"
            ]
          },
          "metadata": {
            "tags": []
          },
          "execution_count": 12
        }
      ]
    },
    {
      "cell_type": "markdown",
      "metadata": {
        "id": "UrZPzgeUDEJz"
      },
      "source": [
        "#### OK. So it seems that the targets are stored in the 'targets' variable\n",
        "## Now it's time to build the iterator\n",
        "#### I will have to check how we've built it in class. But I just want to look at one or two lines of code\n",
        "\n",
        "I just checked and it uses the **torch.utils.data.DataLoader** to do this.\n",
        "What are the advantages of using this as opposed to accessing the data directly?\n",
        "Does it have anything to do with knowing what device to use?"
      ]
    },
    {
      "cell_type": "code",
      "metadata": {
        "id": "ihRnWuj1DEJz"
      },
      "source": [
        "batch_size = 4\n",
        "\n",
        "train_data = datasets.MNIST(root='./data', train=True, download=True, transform=None)\n",
        "train_iter = torch.utils.data.DataLoader(train_data, batch_size=batch_size, shuffle=True, num_workers=2)\n",
        "\n",
        "test_data = datasets.MNIST(root='./data', train=False, download=True, transform=None)\n",
        "test_iter = torch.utils.data.DataLoader(test_data, batch_size=batch_size, shuffle=True, num_workers=2)"
      ],
      "execution_count": null,
      "outputs": []
    },
    {
      "cell_type": "markdown",
      "metadata": {
        "id": "mXb-rfV7DEJz"
      },
      "source": [
        "#### Let's explore this. I want to be able to plot, visualize and have the visualization tools under control. This is teh opportunity to fully learn about subplots, titles, etc..."
      ]
    },
    {
      "cell_type": "code",
      "metadata": {
        "id": "qpDqSzpVDEJz"
      },
      "source": [
        ""
      ],
      "execution_count": null,
      "outputs": []
    }
  ]
}