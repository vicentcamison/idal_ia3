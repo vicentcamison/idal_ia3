{
  "nbformat": 4,
  "nbformat_minor": 0,
  "metadata": {
    "colab": {
      "name": "Untitled5.ipynb",
      "provenance": [],
      "authorship_tag": "ABX9TyNvqV6WTPEU0FKNXphNPfsX",
      "include_colab_link": true
    },
    "kernelspec": {
      "name": "python3",
      "display_name": "Python 3"
    }
  },
  "cells": [
    {
      "cell_type": "markdown",
      "metadata": {
        "id": "view-in-github",
        "colab_type": "text"
      },
      "source": [
        "<a href=\"https://colab.research.google.com/github/vicentcamison/idal_ia3/blob/main/3%20Aprendizaje%20profundo%20(II)/Sesion%206/5_PyTorch_test.ipynb\" target=\"_parent\"><img src=\"https://colab.research.google.com/assets/colab-badge.svg\" alt=\"Open In Colab\"/></a>"
      ]
    },
    {
      "cell_type": "markdown",
      "metadata": {
        "id": "SvOrTYv2eKux"
      },
      "source": [
        "*    Crea una RNN basada en una LSTM de 2 capas, con entradas de 10 features y salidas de 20\n",
        "features.\n",
        "*    Como entrada, genera un tensor aleatorio (torch.randn) de 3 batches, secuencias de longitud\n",
        "5 y el número de features admitido por la LSTM anterior.\n",
        "*    Intenta calcular mentalmente los tamaños de las salidas de la red: output, h_n, c_n.\n",
        "*    Evalúa la salida de la RNN. Comprueba los las dimensiones de los tensores generados:\n",
        "output, h_n, c_n. ¿se corresponden con lo esperado?\n",
        "*    Repite el proceso incluyendo estados iniciales h_0 y c_0 aleatorios.\n",
        "*    Comprobar que el estado oculto de la 2a capa coincide con la output del último time step."
      ]
    },
    {
      "cell_type": "code",
      "metadata": {
        "id": "4chBbY-VeFzt"
      },
      "source": [
        "import torch"
      ],
      "execution_count": 1,
      "outputs": []
    },
    {
      "cell_type": "code",
      "metadata": {
        "colab": {
          "base_uri": "https://localhost:8080/"
        },
        "id": "UvdwFpZUeY0P",
        "outputId": "854358db-4673-4094-dc88-24e65722d920"
      },
      "source": [
        "model = torch.nn.Sequential(\n",
        "                             torch.nn.LSTM(input_size=(10), hidden_size=(20), num_layers=2)\n",
        ")\n",
        "model"
      ],
      "execution_count": 6,
      "outputs": [
        {
          "output_type": "execute_result",
          "data": {
            "text/plain": [
              "Sequential(\n",
              "  (0): LSTM(10, 20, num_layers=2)\n",
              ")"
            ]
          },
          "metadata": {
            "tags": []
          },
          "execution_count": 6
        }
      ]
    },
    {
      "cell_type": "code",
      "metadata": {
        "id": "mA8MLJh0fFOR"
      },
      "source": [
        "X = torch.randn(size=(5, 3, 10)) #3 batches, secuencias de longitud 5 y 10 features\n",
        "# El órden es [seq_len, batch, input_size]"
      ],
      "execution_count": 10,
      "outputs": []
    },
    {
      "cell_type": "code",
      "metadata": {
        "colab": {
          "base_uri": "https://localhost:8080/"
        },
        "id": "feUZZSyXfSdS",
        "outputId": "97deaba5-de40-44a0-c309-fa3c57d14b15"
      },
      "source": [
        "Y, (h_n, c_n) = model(X)\n",
        "print(Y.shape, '\\n\\n', h_n.shape,'\\n\\n', c_n.shape)"
      ],
      "execution_count": 11,
      "outputs": [
        {
          "output_type": "stream",
          "text": [
            "torch.Size([5, 3, 20]) \n",
            "\n",
            " torch.Size([2, 3, 20]) \n",
            "\n",
            " torch.Size([2, 3, 20])\n"
          ],
          "name": "stdout"
        }
      ]
    },
    {
      "cell_type": "code",
      "metadata": {
        "id": "_Jn93e2NfsNC"
      },
      "source": [
        "# La salida de la Y es 3 batches (se conserva el número de batches, como siempre, los 5 time steps y las 20 features)\n",
        "# En cuanto a los pesos internos parece que se pierde uno de los batches.\n",
        "# Si soy sincero, ahora mismo no entiendo la forma de este output, le pegaré un pensamiento..."
      ],
      "execution_count": null,
      "outputs": []
    },
    {
      "cell_type": "code",
      "metadata": {
        "colab": {
          "base_uri": "https://localhost:8080/"
        },
        "id": "T1XhGDn_gAbX",
        "outputId": "f82d143d-1b9a-4a20-c156-96240153595e"
      },
      "source": [
        "# REPETIMOS AHORA ESTE PROCESO PERO CON ESTADOS INICIALES h_0 y c_0 ALEATORIOS\n",
        "# A partir dek apartado anterior, sabemos la forma de las entradas y salidas\n",
        "rnn = torch.nn.LSTM(10, 20, 2)\n",
        "h_0 = torch.randn(size=(2,3,20))\n",
        "c_0 = torch.randn(size=(2,3,20))\n",
        "\n",
        "Y, (h_n, c_n) = rnn(X, (h_0, c_0))\n",
        "print(Y.shape, '\\n\\n', h_n.shape,'\\n\\n', c_n.shape)"
      ],
      "execution_count": 17,
      "outputs": [
        {
          "output_type": "stream",
          "text": [
            "torch.Size([5, 3, 20]) \n",
            "\n",
            " torch.Size([2, 3, 20]) \n",
            "\n",
            " torch.Size([2, 3, 20])\n"
          ],
          "name": "stdout"
        }
      ]
    },
    {
      "cell_type": "code",
      "metadata": {
        "colab": {
          "base_uri": "https://localhost:8080/"
        },
        "id": "f0EuIyv1g7kJ",
        "outputId": "18830808-9880-4506-fe95-ba5e218c1448"
      },
      "source": [
        "#SON EQUIVALENTES\n",
        "print(Y[4,:,:])\n",
        "print(h_n[1,:,:])"
      ],
      "execution_count": 18,
      "outputs": [
        {
          "output_type": "stream",
          "text": [
            "tensor([[ 0.0675,  0.0601, -0.0551,  0.0193, -0.0891,  0.1053, -0.1408, -0.0896,\n",
            "          0.0853, -0.1040, -0.1295,  0.0623,  0.0184,  0.2602, -0.0240, -0.0227,\n",
            "         -0.1162,  0.0199,  0.0406, -0.0903],\n",
            "        [ 0.0602,  0.0008, -0.0724,  0.0164, -0.0624,  0.0794, -0.1193, -0.0548,\n",
            "          0.0816, -0.0335, -0.1576,  0.0491,  0.0747,  0.1215,  0.0020,  0.0324,\n",
            "         -0.0758,  0.0358,  0.0215, -0.1375],\n",
            "        [ 0.0702, -0.0863, -0.1058,  0.0815, -0.1375,  0.0794, -0.1519, -0.0659,\n",
            "          0.0902, -0.0626, -0.1195,  0.0400,  0.0557,  0.2259,  0.0404,  0.0138,\n",
            "         -0.0742, -0.0231,  0.1028, -0.0499]], grad_fn=<SliceBackward>)\n",
            "tensor([[ 0.0675,  0.0601, -0.0551,  0.0193, -0.0891,  0.1053, -0.1408, -0.0896,\n",
            "          0.0853, -0.1040, -0.1295,  0.0623,  0.0184,  0.2602, -0.0240, -0.0227,\n",
            "         -0.1162,  0.0199,  0.0406, -0.0903],\n",
            "        [ 0.0602,  0.0008, -0.0724,  0.0164, -0.0624,  0.0794, -0.1193, -0.0548,\n",
            "          0.0816, -0.0335, -0.1576,  0.0491,  0.0747,  0.1215,  0.0020,  0.0324,\n",
            "         -0.0758,  0.0358,  0.0215, -0.1375],\n",
            "        [ 0.0702, -0.0863, -0.1058,  0.0815, -0.1375,  0.0794, -0.1519, -0.0659,\n",
            "          0.0902, -0.0626, -0.1195,  0.0400,  0.0557,  0.2259,  0.0404,  0.0138,\n",
            "         -0.0742, -0.0231,  0.1028, -0.0499]], grad_fn=<SliceBackward>)\n"
          ],
          "name": "stdout"
        }
      ]
    }
  ]
}