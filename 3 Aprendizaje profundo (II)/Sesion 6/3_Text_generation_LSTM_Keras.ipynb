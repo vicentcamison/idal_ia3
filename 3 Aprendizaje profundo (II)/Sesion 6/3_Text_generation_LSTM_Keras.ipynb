{
  "nbformat": 4,
  "nbformat_minor": 0,
  "metadata": {
    "colab": {
      "name": "Text_generation_LSTM_Keras.ipynb",
      "provenance": [],
      "collapsed_sections": [],
      "include_colab_link": true
    },
    "kernelspec": {
      "name": "python3",
      "display_name": "Python 3"
    },
    "accelerator": "GPU"
  },
  "cells": [
    {
      "cell_type": "markdown",
      "metadata": {
        "id": "view-in-github",
        "colab_type": "text"
      },
      "source": [
        "<a href=\"https://colab.research.google.com/github/vicentcamison/idal_ia3/blob/main/3%20Aprendizaje%20profundo%20(II)/Sesion%206/3_Text_generation_LSTM_Keras.ipynb\" target=\"_parent\"><img src=\"https://colab.research.google.com/assets/colab-badge.svg\" alt=\"Open In Colab\"/></a>"
      ]
    },
    {
      "cell_type": "markdown",
      "metadata": {
        "id": "bjbz7Oy1s8uW"
      },
      "source": [
        "# Text generation using LSTMs: Alice in Wonderland"
      ]
    },
    {
      "cell_type": "code",
      "metadata": {
        "id": "ZAGtgPhgs22s",
        "colab": {
          "base_uri": "https://localhost:8080/",
          "height": 341
        },
        "outputId": "0cfb53e2-1c29-4512-82c1-10e306462c58"
      },
      "source": [
        "import numpy as np\r\n",
        "import sys\r\n",
        "from keras.models import Sequential\r\n",
        "from keras.layers import Dense\r\n",
        "from keras.layers import Dropout\r\n",
        "from keras.layers import LSTM\r\n",
        "from keras.callbacks import ModelCheckpoint\r\n",
        "from keras.utils import np_utils\r\n",
        "\r\n",
        "# He puesto el texto en github: no abriremos desde un archivo sino desde una página web\r\n",
        "# y para ello necesitamos esto:\r\n",
        "from gazpacho import Soup"
      ],
      "execution_count": 9,
      "outputs": [
        {
          "output_type": "error",
          "ename": "ModuleNotFoundError",
          "evalue": "ignored",
          "traceback": [
            "\u001b[0;31m---------------------------------------------------------------------------\u001b[0m",
            "\u001b[0;31mModuleNotFoundError\u001b[0m                       Traceback (most recent call last)",
            "\u001b[0;32m<ipython-input-9-6fe28f6069ec>\u001b[0m in \u001b[0;36m<module>\u001b[0;34m()\u001b[0m\n\u001b[1;32m     10\u001b[0m \u001b[0;31m# He puesto el texto en github: no abriremos desde un archivo sino desde una página web\u001b[0m\u001b[0;34m\u001b[0m\u001b[0;34m\u001b[0m\u001b[0;34m\u001b[0m\u001b[0m\n\u001b[1;32m     11\u001b[0m \u001b[0;31m# y para ello necesitamos esto:\u001b[0m\u001b[0;34m\u001b[0m\u001b[0;34m\u001b[0m\u001b[0;34m\u001b[0m\u001b[0m\n\u001b[0;32m---> 12\u001b[0;31m \u001b[0;32mfrom\u001b[0m \u001b[0mgazpacho\u001b[0m \u001b[0;32mimport\u001b[0m \u001b[0mSoup\u001b[0m\u001b[0;34m\u001b[0m\u001b[0;34m\u001b[0m\u001b[0m\n\u001b[0m",
            "\u001b[0;31mModuleNotFoundError\u001b[0m: No module named 'gazpacho'",
            "",
            "\u001b[0;31m---------------------------------------------------------------------------\u001b[0;32m\nNOTE: If your import is failing due to a missing package, you can\nmanually install dependencies using either !pip or !apt.\n\nTo view examples of installing some common dependencies, click the\n\"Open Examples\" button below.\n\u001b[0;31m---------------------------------------------------------------------------\u001b[0m\n"
          ]
        }
      ]
    },
    {
      "cell_type": "code",
      "metadata": {
        "id": "AMR-4Fk_tRge"
      },
      "source": [
        "# load ascii text and covert to lowercase\r\n",
        "filename = 'https://raw.githubusercontent.com/vicentcamison/idal_ia3/main/3%20Aprendizaje%20profundo%20(II)/Sesion%206/pg11.txt'\r\n",
        "raw_text = str(Soup.get(filename)) # completar: leer el text en codificación utf-8\r\n",
        "#raw_text = # completar: pasar a minúscula"
      ],
      "execution_count": 6,
      "outputs": []
    },
    {
      "cell_type": "code",
      "metadata": {
        "colab": {
          "base_uri": "https://localhost:8080/"
        },
        "id": "Vx5Wv_FPVjtI",
        "outputId": "3fd65432-c53e-458c-87c8-7e3329ff3bfd"
      },
      "source": [
        "print(raw_text)"
      ],
      "execution_count": 8,
      "outputs": [
        {
          "output_type": "stream",
          "text": [
            "b'<!doctype html><html itemscope=\"\" itemtype=\"http://schema.org/WebPage\" lang=\"en\"><head><meta content=\"Search the world\\'s information, including webpages, images, videos and more. Google has many special features to help you find exactly what you\\'re looking for.\" name=\"description\"><meta content=\"noodp\" name=\"robots\"><meta content=\"text/html; charset=UTF-8\" http-equiv=\"Content-Type\"><meta content=\"/logos/doodles/2021/lunar-new-year-2021-multiple-countries-6753651837108857-l.png\" itemprop=\"image\"><meta content=\"Lunar New Year 2021\" property=\"twitter:title\"><meta content=\"Happy Lunar New Year 2021! #GoogleDoodle\" property=\"twitter:description\"><meta content=\"Happy Lunar New Year 2021! #GoogleDoodle\" property=\"og:description\"><meta content=\"summary_large_image\" property=\"twitter:card\"><meta content=\"@GoogleDoodles\" property=\"twitter:site\"><meta content=\"https://www.google.com/logos/doodles/2021/lunar-new-year-2021-multiple-countries-6753651837108857-2x.png\" property=\"twitter:image\"><meta content=\"https://www.google.com/logos/doodles/2021/lunar-new-year-2021-multiple-countries-6753651837108857-2x.png\" property=\"og:image\"><meta content=\"933\" property=\"og:image:width\"><meta content=\"400\" property=\"og:image:height\"><title>Google</title><script nonce=\"Abz3EC08AT54QdHsHMvLHw==\">(function(){window.google={kEI:\\'vP8mYPa0Mvuv5NoP0bS8-A0\\',kEXPI:\\'0,1359409,954,5105,206,3204,10,1590,926,1390,383,246,5,1354,1300,3636,314,1665,677,2998,7,1117169,1232,1196529,521,328985,51223,16115,28684,9188,8384,4859,1361,9291,3021,2822,1924,12841,4020,978,13228,2054,920,873,10622,1142,6290,7096,4517,2777,919,2278,7,87,2709,1593,1279,2212,530,149,1103,840,517,1466,56,158,4100,108,204,1135,1,3,2669,2023,1777,520,4166,103,328,1284,464,2479,5846,3227,1990,855,8,5598,6755,5096,1475,6401,4929,108,1483,1372,552,908,2,940,5014,10311,432,3,1546,44,1,820,1,4624,148,5990,5337,2648,4,1528,2304,1236,1145,4658,74,1717,125,4,137,2627,459,1555,3791,276,1036,4598,1426,374,340,1458,2026,1297,1753,2658,3903,1,339,518,912,564,299,820,31,901,1,401,374,2177,3233,1055,1,3271,2214,2305,638,37,2062,2,1482,3177,322,2359,55,5433,1357,559,28,11,731,665,2145,3655,1345,1212,479,142,369,1057,906,778,4,359,17,50,99,2972,6,908,3,163,1003,2375,1,5324,25,636,90,432,492,1652,697,713,384,658,235,115,362,127,321,1,2446,1,1186,371,256,39,244,709,263,3374,1941,617,1116,144,237,299,1,428,229,2,60,1193,186,752,880,545,355,327,401,31,699,2160,710,77,139,1365,190,2,77,261,224,113,438,224,60,173,405,175,120,125,524,8,1,26,444,110,97,1,3,53,1,192,237,108,654,373,102,208,230,27,1160,74,426,4,885,293,316,22,1244,1,198,30,145,4537,5692047,13,3857,35,62,8797949,549,333,444,1,2,80,1,900,896,1,9,2,2551,1,748,141,59,736,563,1,4265,1,1,2,1331,3299,248,595,1,2608,155,17,13,72,42,4,80,1,2,25,4,74,1,23957163,2781349,1229481,438,2,108,565\\',kBL:\\'XyrI\\'};google.sn=\\'webhp\\';google.kHL=\\'en\\';})();(function(){\\ngoogle.lc=[];google.li=0;google.getEI=function(a){for(var b;a&&(!a.getAttribute||!(b=a.getAttribute(\"eid\")));)a=a.parentNode;return b||google.kEI};google.getLEI=function(a){for(var b=null;a&&(!a.getAttribute||!(b=a.getAttribute(\"leid\")));)a=a.parentNode;return b};google.ml=function(){return null};google.time=function(){return Date.now()};google.log=function(a,b,c,d,f){if(c=google.logUrl(a,b,c,d,f)){a=new Image;var e=google.lc,g=google.li;e[g]=a;a.onerror=a.onload=a.onabort=function(){delete e[g]};a.src=c;google.li=g+1}};google.logUrl=function(a,b,c,d,f){var e=\"\";c||-1!=b.search(\"&ei=\")||(e=\"&ei=\"+google.getEI(d),-1==b.search(\"&lei=\")&&(d=google.getLEI(d))&&(e+=\"&lei=\"+d));d=\"\";!c&&window._cshid&&-1==b.search(\"&cshid=\")&&\"slh\"!=a&&(d=\"&cshid=\"+window._cshid);c=c||\"/\"+(f||\"gen_204\")+\"?atyp=i&ct=\"+a+\"&cad=\"+b+e+\"&zx=\"+Date.now()+d;/^http:/i.test(c)&&\"https:\"==window.location.protocol&&(google.ml(Error(\"a\"),!1,{src:c,glmm:1}),c=\"\");return c};}).call(this);(function(){google.y={};google.x=function(a,b){if(a)var c=a.id;else{do c=Math.random();while(google.y[c])}google.y[c]=[a,b];return!1};google.lm=[];google.plm=function(a){google.lm.push.apply(google.lm,a)};google.lq=[];google.load=function(a,b,c){google.lq.push([[a],b,c])};google.loadAll=function(a,b){google.lq.push([a,b])};google.bx=!1;google.lx=function(){};}).call(this);google.f={};(function(){\\ndocument.documentElement.addEventListener(\"submit\",function(b){var a;if(a=b.target){var c=a.getAttribute(\"data-submitfalse\");a=\"1\"==c||\"q\"==c&&!a.elements.q.value?!0:!1}else a=!1;a&&(b.preventDefault(),b.stopPropagation())},!0);document.documentElement.addEventListener(\"click\",function(b){var a;a:{for(a=b.target;a&&a!=document.documentElement;a=a.parentElement)if(\"A\"==a.tagName){a=\"1\"==a.getAttribute(\"data-nohref\");break a}a=!1}a&&b.preventDefault()},!0);}).call(this);\\nvar a=window.location,b=a.href.indexOf(\"#\");if(0<=b){var c=a.href.substring(b+1);/(^|&)q=/.test(c)&&-1==c.indexOf(\"#\")&&a.replace(\"/search?\"+c.replace(/(^|&)fp=[^&]*/g,\"\")+\"&cad=h\")};</script><style>#gbar,#guser{font-size:13px;padding-top:1px !important;}#gbar{height:22px}#guser{padding-bottom:7px !important;text-align:right}.gbh,.gbd{border-top:1px solid #c9d7f1;font-size:1px}.gbh{height:0;position:absolute;top:24px;width:100%}@media all{.gb1{height:22px;margin-right:.5em;vertical-align:top}#gbar{float:left}}a.gb1,a.gb4{text-decoration:underline !important}a.gb1,a.gb4{color:#00c !important}.gbi .gb4{color:#dd8e27 !important}.gbf .gb4{color:#900 !important}\\n</style><style>body,td,a,p,.h{font-family:arial,sans-serif}body{margin:0;overflow-y:scroll}#gog{padding:3px 8px 0}td{line-height:.8em}.gac_m td{line-height:17px}form{margin-bottom:20px}.h{color:#1558d6}em{font-weight:bold;font-style:normal}.lst{height:25px;width:496px}.gsfi,.lst{font:18px arial,sans-serif}.gsfs{font:17px arial,sans-serif}.ds{display:inline-box;display:inline-block;margin:3px 0 4px;margin-left:4px}input{font-family:inherit}body{background:#fff;color:#000}a{color:#4b11a8;text-decoration:none}a:hover,a:active{text-decoration:underline}.fl a{color:#1558d6}a:visited{color:#4b11a8}.sblc{padding-top:5px}.sblc a{display:block;margin:2px 0;margin-left:13px;font-size:11px}.lsbb{background:#f8f9fa;border:solid 1px;border-color:#dadce0 #70757a #70757a #dadce0;height:30px}.lsbb{display:block}#WqQANb a{display:inline-block;margin:0 12px}.lsb{background:url(/images/nav_logo229.png) 0 -261px repeat-x;border:none;color:#000;cursor:pointer;height:30px;margin:0;outline:0;font:15px arial,sans-serif;vertical-align:top}.lsb:active{background:#dadce0}.lst:focus{outline:none}</style><script nonce=\"Abz3EC08AT54QdHsHMvLHw==\"></script></head><body bgcolor=\"#fff\"><script nonce=\"Abz3EC08AT54QdHsHMvLHw==\">(function(){var src=\\'/images/nav_logo229.png\\';var iesg=false;document.body.onload = function(){window.n && window.n();if (document.images){new Image().src=src;}\\nif (!iesg){document.f&&document.f.q.focus();document.gbqf&&document.gbqf.q.focus();}\\n}\\n})();</script><div id=\"mngb\"><div id=gbar><nobr><b class=gb1>Search</b> <a class=gb1 href=\"http://www.google.com/imghp?hl=en&tab=wi\">Images</a> <a class=gb1 href=\"http://maps.google.com/maps?hl=en&tab=wl\">Maps</a> <a class=gb1 href=\"https://play.google.com/?hl=en&tab=w8\">Play</a> <a class=gb1 href=\"http://www.youtube.com/?gl=US&tab=w1\">YouTube</a> <a class=gb1 href=\"https://news.google.com/?tab=wn\">News</a> <a class=gb1 href=\"https://mail.google.com/mail/?tab=wm\">Gmail</a> <a class=gb1 href=\"https://drive.google.com/?tab=wo\">Drive</a> <a class=gb1 style=\"text-decoration:none\" href=\"https://www.google.com/intl/en/about/products?tab=wh\"><u>More</u> &raquo;</a></nobr></div><div id=guser width=100%><nobr><span id=gbn class=gbi></span><span id=gbf class=gbf></span><span id=gbe></span><a href=\"http://www.google.com/history/optout?hl=en\" class=gb4>Web History</a> | <a  href=\"/preferences?hl=en\" class=gb4>Settings</a> | <a target=_top id=gb_70 href=\"https://accounts.google.com/ServiceLogin?hl=en&passive=true&continue=http://www.google.com/&ec=GAZAAQ\" class=gb4>Sign in</a></nobr></div><div class=gbh style=left:0></div><div class=gbh style=right:0></div></div><center><br clear=\"all\" id=\"lgpd\"><div id=\"lga\"><a href=\"/search?ie=UTF-8&amp;q=Lunar+New+Year&amp;oi=ddle&amp;ct=174786444&amp;hl=en&amp;sa=X&amp;ved=0ahUKEwj2gvydseXuAhX7F1kFHVEaD98QPQgD\"><img alt=\"Lunar New Year 2021\" border=\"0\" height=\"200\" src=\"/logos/doodles/2021/lunar-new-year-2021-multiple-countries-6753651837108857-l.png\" title=\"Lunar New Year 2021\" width=\"466\" id=\"hplogo\"><br></a><br></div><form action=\"/search\" name=\"f\"><table cellpadding=\"0\" cellspacing=\"0\"><tr valign=\"top\"><td width=\"25%\">&nbsp;</td><td align=\"center\" nowrap=\"\"><input name=\"ie\" value=\"ISO-8859-1\" type=\"hidden\"><input value=\"en\" name=\"hl\" type=\"hidden\"><input name=\"source\" type=\"hidden\" value=\"hp\"><input name=\"biw\" type=\"hidden\"><input name=\"bih\" type=\"hidden\"><div class=\"ds\" style=\"height:32px;margin:4px 0\"><input class=\"lst\" style=\"margin:0;padding:5px 8px 0 6px;vertical-align:top;color:#000\" autocomplete=\"off\" value=\"\" title=\"Google Search\" maxlength=\"2048\" name=\"q\" size=\"57\"></div><br style=\"line-height:0\"><span class=\"ds\"><span class=\"lsbb\"><input class=\"lsb\" value=\"Google Search\" name=\"btnG\" type=\"submit\"></span></span><span class=\"ds\"><span class=\"lsbb\"><input class=\"lsb\" id=\"tsuid1\" value=\"I\\'m Feeling Lucky\" name=\"btnI\" type=\"submit\"><script nonce=\"Abz3EC08AT54QdHsHMvLHw==\">(function(){var id=\\'tsuid1\\';document.getElementById(id).onclick = function(){if (this.form.q.value){this.checked = 1;if (this.form.iflsig)this.form.iflsig.disabled = false;}\\nelse top.location=\\'/doodles/\\';};})();</script><input value=\"AINFCbYAAAAAYCcNzLxo_cSs5Jh-tEhL1XsIkiM2xGKy\" name=\"iflsig\" type=\"hidden\"></span></span></td><td class=\"fl sblc\" align=\"left\" nowrap=\"\" width=\"25%\"><a href=\"/advanced_search?hl=en&amp;authuser=0\">Advanced search</a></td></tr></table><input id=\"gbv\" name=\"gbv\" type=\"hidden\" value=\"1\"><script nonce=\"Abz3EC08AT54QdHsHMvLHw==\">(function(){var a,b=\"1\";if(document&&document.getElementById)if(\"undefined\"!=typeof XMLHttpRequest)b=\"2\";else if(\"undefined\"!=typeof ActiveXObject){var c,d,e=[\"MSXML2.XMLHTTP.6.0\",\"MSXML2.XMLHTTP.3.0\",\"MSXML2.XMLHTTP\",\"Microsoft.XMLHTTP\"];for(c=0;d=e[c++];)try{new ActiveXObject(d),b=\"2\"}catch(h){}}a=b;if(\"2\"==a&&-1==location.search.indexOf(\"&gbv=2\")){var f=google.gbvu,g=document.getElementById(\"gbv\");g&&(g.value=a);f&&window.setTimeout(function(){location.href=f},0)};}).call(this);</script></form><div id=\"gac_scont\"></div><div style=\"font-size:83%;min-height:3.5em\"><br></div><span id=\"footer\"><div style=\"font-size:10pt\"><div style=\"margin:19px auto;text-align:center\" id=\"WqQANb\"><a href=\"/intl/en/ads/\">Advertising\\xa0Programs</a><a href=\"/services/\">Business Solutions</a><a href=\"/intl/en/about.html\">About Google</a></div></div><p style=\"font-size:8pt;color:#70757a\">&copy; 2021 - <a href=\"/intl/en/policies/privacy/\">Privacy</a> - <a href=\"/intl/en/policies/terms/\">Terms</a></p></span></center><script nonce=\"Abz3EC08AT54QdHsHMvLHw==\">(function(){window.google.cdo={height:0,width:0};(function(){var a=window.innerWidth,b=window.innerHeight;if(!a||!b){var c=window.document,d=\"CSS1Compat\"==c.compatMode?c.documentElement:c.body;a=d.clientWidth;b=d.clientHeight}a&&b&&(a!=google.cdo.width||b!=google.cdo.height)&&google.log(\"\",\"\",\"/client_204?&atyp=i&biw=\"+a+\"&bih=\"+b+\"&ei=\"+google.kEI);}).call(this);})();(function(){var u=\\'/xjs/_/js/k\\\\x3dxjs.hp.en_US.TfxTXQuR2rI.O/m\\\\x3dsb_he,d/am\\\\x3dAHiCOA/d\\\\x3d1/rs\\\\x3dACT90oEG3cxVMIJiUJW9OMc-hO7o1WhxBw\\';\\nvar d=this||self,e=/^[\\\\w+/_-]+[=]{0,2}$/,f=null,g=function(a){return(a=a.querySelector&&a.querySelector(\"script[nonce]\"))&&(a=a.nonce||a.getAttribute(\"nonce\"))&&e.test(a)?a:\"\"},h=function(a){return a};var l;var n=function(a,b){this.g=b===m?a:\"\"};n.prototype.toString=function(){return this.g+\"\"};var m={};function p(){var a=u;google.lx=function(){q(a);google.lx=function(){}};google.bx||google.lx()}\\nfunction q(a){var b=document;var c=\"SCRIPT\";\"application/xhtml+xml\"===b.contentType&&(c=c.toLowerCase());c=b.createElement(c);if(void 0===l){b=null;var k=d.trustedTypes;if(k&&k.createPolicy){try{b=k.createPolicy(\"goog#html\",{createHTML:h,createScript:h,createScriptURL:h})}catch(r){d.console&&d.console.error(r.message)}l=b}else l=b}a=(b=l)?b.createScriptURL(a):a;a=new n(a,m);c.src=a instanceof n&&a.constructor===n?a.g:\"type_error:TrustedResourceUrl\";(a=c.ownerDocument&&c.ownerDocument.defaultView)&&\\na!=d?a=g(a.document):(null===f&&(f=g(d.document)),a=f);a&&c.setAttribute(\"nonce\",a);google.timers&&google.timers.load&&google.tick&&google.tick(\"load\",\"xjsls\");document.body.appendChild(c)};setTimeout(function(){p()},0);})();(function(){window.google.xjsu=\\'/xjs/_/js/k\\\\x3dxjs.hp.en_US.TfxTXQuR2rI.O/m\\\\x3dsb_he,d/am\\\\x3dAHiCOA/d\\\\x3d1/rs\\\\x3dACT90oEG3cxVMIJiUJW9OMc-hO7o1WhxBw\\';})();function _DumpException(e){throw e;}\\nfunction _F_installCss(c){}\\n(function(){google.jl={dw:false,em:[],emw:false,lls:\\'default\\',pdt:0,snet:true,uwp:true};})();(function(){var pmc=\\'{\\\\x22d\\\\x22:{},\\\\x22sb_he\\\\x22:{\\\\x22agen\\\\x22:true,\\\\x22cgen\\\\x22:true,\\\\x22client\\\\x22:\\\\x22heirloom-hp\\\\x22,\\\\x22dh\\\\x22:true,\\\\x22dhqt\\\\x22:true,\\\\x22ds\\\\x22:\\\\x22\\\\x22,\\\\x22ffql\\\\x22:\\\\x22en\\\\x22,\\\\x22fl\\\\x22:true,\\\\x22host\\\\x22:\\\\x22google.com\\\\x22,\\\\x22isbh\\\\x22:28,\\\\x22jsonp\\\\x22:true,\\\\x22msgs\\\\x22:{\\\\x22cibl\\\\x22:\\\\x22Clear Search\\\\x22,\\\\x22dym\\\\x22:\\\\x22Did you mean:\\\\x22,\\\\x22lcky\\\\x22:\\\\x22I\\\\\\\\u0026#39;m Feeling Lucky\\\\x22,\\\\x22lml\\\\x22:\\\\x22Learn more\\\\x22,\\\\x22oskt\\\\x22:\\\\x22Input tools\\\\x22,\\\\x22psrc\\\\x22:\\\\x22This search was removed from your \\\\\\\\u003Ca href\\\\x3d\\\\\\\\\\\\x22/history\\\\\\\\\\\\x22\\\\\\\\u003EWeb History\\\\\\\\u003C/a\\\\\\\\u003E\\\\x22,\\\\x22psrl\\\\x22:\\\\x22Remove\\\\x22,\\\\x22sbit\\\\x22:\\\\x22Search by image\\\\x22,\\\\x22srch\\\\x22:\\\\x22Google Search\\\\x22},\\\\x22nrft\\\\x22:false,\\\\x22ovr\\\\x22:{},\\\\x22pq\\\\x22:\\\\x22\\\\x22,\\\\x22refpd\\\\x22:true,\\\\x22rfs\\\\x22:[],\\\\x22sbas\\\\x22:\\\\x220 3px 8px 0 rgba(0,0,0,0.2),0 0 0 1px rgba(0,0,0,0.08)\\\\x22,\\\\x22sbpl\\\\x22:16,\\\\x22sbpr\\\\x22:16,\\\\x22scd\\\\x22:10,\\\\x22stok\\\\x22:\\\\x227neIcwrvl0JwOkO4narzWRZbn1o\\\\x22,\\\\x22uhde\\\\x22:false}}\\';google.pmc=JSON.parse(pmc);})();</script>        </body></html>'\n"
          ],
          "name": "stdout"
        }
      ]
    },
    {
      "cell_type": "code",
      "metadata": {
        "colab": {
          "base_uri": "https://localhost:8080/"
        },
        "id": "ktBcygk5wnNX",
        "outputId": "77ee3479-fd2c-4c3d-c3e2-d651cd0fecd4"
      },
      "source": [
        "raw_text[0:99]"
      ],
      "execution_count": 4,
      "outputs": [
        {
          "output_type": "execute_result",
          "data": {
            "text/plain": [
              "b'<!doctype html><html itemscope=\"\" itemtype=\"http://schema.org/WebPage\" lang=\"en\"><head><meta conten'"
            ]
          },
          "metadata": {
            "tags": []
          },
          "execution_count": 4
        }
      ]
    },
    {
      "cell_type": "code",
      "metadata": {
        "colab": {
          "base_uri": "https://localhost:8080/",
          "height": 35
        },
        "id": "T_U2ygxNgw5o",
        "outputId": "fb31a73c-65a2-48f5-dbf7-371935c605de"
      },
      "source": [
        "# remove non-alphanumeric characters except spaces\r\n",
        "import re\r\n",
        "raw_text = re.sub(# completar, raw_text)\r\n",
        "raw_text[0:99]"
      ],
      "execution_count": null,
      "outputs": [
        {
          "output_type": "execute_result",
          "data": {
            "application/vnd.google.colaboratory.intrinsic+json": {
              "type": "string"
            },
            "text/plain": [
              "' project gutenberg s alice s adventures in wonderland by lewis carroll this ebook is for the use of'"
            ]
          },
          "metadata": {
            "tags": []
          },
          "execution_count": 5
        }
      ]
    },
    {
      "cell_type": "code",
      "metadata": {
        "colab": {
          "base_uri": "https://localhost:8080/"
        },
        "id": "E0ZprgVmXQlV",
        "outputId": "17e41de0-3d2d-4aeb-b14a-fb0085f771dd"
      },
      "source": [
        "# create mapping of unique chars to integers\r\n",
        "chars = sorted(# completar)\r\n",
        "char_to_int = dict(# completar)\r\n",
        "char_to_int"
      ],
      "execution_count": null,
      "outputs": [
        {
          "output_type": "execute_result",
          "data": {
            "text/plain": [
              "{' ': 0,\n",
              " 'a': 1,\n",
              " 'b': 2,\n",
              " 'c': 3,\n",
              " 'd': 4,\n",
              " 'e': 5,\n",
              " 'f': 6,\n",
              " 'g': 7,\n",
              " 'h': 8,\n",
              " 'i': 9,\n",
              " 'j': 10,\n",
              " 'k': 11,\n",
              " 'l': 12,\n",
              " 'm': 13,\n",
              " 'n': 14,\n",
              " 'o': 15,\n",
              " 'p': 16,\n",
              " 'q': 17,\n",
              " 'r': 18,\n",
              " 's': 19,\n",
              " 't': 20,\n",
              " 'u': 21,\n",
              " 'v': 22,\n",
              " 'w': 23,\n",
              " 'x': 24,\n",
              " 'y': 25,\n",
              " 'z': 26}"
            ]
          },
          "metadata": {
            "tags": []
          },
          "execution_count": 6
        }
      ]
    },
    {
      "cell_type": "code",
      "metadata": {
        "colab": {
          "base_uri": "https://localhost:8080/"
        },
        "id": "NB5SFPiPXp11",
        "outputId": "044818a4-e214-4cc9-d791-42b0e0f37eb0"
      },
      "source": [
        "n_chars = # completar\r\n",
        "n_vocab = # completar\r\n",
        "print(\"Total Characters: \", n_chars)\r\n",
        "print(\"Total Vocab: \", n_vocab)"
      ],
      "execution_count": null,
      "outputs": [
        {
          "output_type": "stream",
          "text": [
            "Total Characters:  153409\n",
            "Total Vocab:  27\n"
          ],
          "name": "stdout"
        }
      ]
    },
    {
      "cell_type": "code",
      "metadata": {
        "colab": {
          "base_uri": "https://localhost:8080/"
        },
        "id": "XCkmb9ZUYrfL",
        "outputId": "06e8ac09-8ebe-4208-f0b2-b2c839f83232"
      },
      "source": [
        "# prepare the dataset of input to output pairs encoded as integers\r\n",
        "seq_length = 100\r\n",
        "dataX = []\r\n",
        "dataY = []\r\n",
        "for i in range(0, n_chars - seq_length, 1):\r\n",
        "\tseq_in = raw_text[# completar]\r\n",
        "\tseq_out = raw_text[# completar]\r\n",
        "\tdataX.append(# completar)\r\n",
        "\tdataY.append(# completar)\r\n",
        "n_patterns = # completar\r\n",
        "print(\"Total Patterns: \", n_patterns)"
      ],
      "execution_count": null,
      "outputs": [
        {
          "output_type": "stream",
          "text": [
            "Total Patterns:  153309\n"
          ],
          "name": "stdout"
        }
      ]
    },
    {
      "cell_type": "code",
      "metadata": {
        "id": "t98FqG0AY3qD"
      },
      "source": [
        "# reshape X to be [samples, time steps, features]\r\n",
        "X = np.reshape(dataX, # completar)\r\n",
        "# normalize\r\n",
        "X = X / float(n_vocab)\r\n",
        "# one hot encode the output variable\r\n",
        "y = np_utils.to_categorical(# completar)"
      ],
      "execution_count": null,
      "outputs": []
    },
    {
      "cell_type": "code",
      "metadata": {
        "id": "WJmmSeu4ZY4b"
      },
      "source": [
        "# define the LSTM model\r\n",
        "model = # completar\r\n",
        "model.add(# completar)\r\n",
        "model.add(# completar)\r\n",
        "model.add(# completar)\r\n",
        "model.compile(# completar)"
      ],
      "execution_count": null,
      "outputs": []
    },
    {
      "cell_type": "code",
      "metadata": {
        "id": "TAml68-uZ0Y2"
      },
      "source": [
        "# define the checkpoint\r\n",
        "filepath=\"weights-improvement-{epoch:02d}-{loss:.4f}.hdf5\"\r\n",
        "checkpoint = ModelCheckpoint(filepath, monitor='loss', verbose=1, save_best_only=True, mode='min')\r\n",
        "callbacks_list = [checkpoint]"
      ],
      "execution_count": null,
      "outputs": []
    },
    {
      "cell_type": "code",
      "metadata": {
        "id": "tUGEvA4DZrmn"
      },
      "source": [
        "model.fit(# completar, callbacks=callbacks_list)"
      ],
      "execution_count": null,
      "outputs": []
    },
    {
      "cell_type": "markdown",
      "metadata": {
        "id": "E9Pot0fpfHBa"
      },
      "source": [
        "# Generating Text with an LSTM Network"
      ]
    },
    {
      "cell_type": "code",
      "metadata": {
        "id": "2Y1wMsJ5Z_p4"
      },
      "source": [
        "# load the network weights\r\n",
        "filename = # completar\r\n",
        "model.load_weights(# completar)\r\n",
        "model.compile(# completar)"
      ],
      "execution_count": null,
      "outputs": []
    },
    {
      "cell_type": "code",
      "metadata": {
        "id": "6ttMM7JBfgGB"
      },
      "source": [
        "int_to_char = dict(# completar)"
      ],
      "execution_count": null,
      "outputs": []
    },
    {
      "cell_type": "code",
      "metadata": {
        "id": "o4EpwrDgrin6"
      },
      "source": [
        "# function to use instead of argmax to increase variety of selected class to avoid word loops\r\n",
        "def sample_prediction_rnd(prediction):\r\n",
        "  rnd_idx = np.random.choice(len(prediction[0]), p=prediction[0]) # random choice weighted by probs in prediction[0]\r\n",
        "  return rnd_idx"
      ],
      "execution_count": null,
      "outputs": []
    },
    {
      "cell_type": "code",
      "metadata": {
        "id": "huAbhYVs2mae"
      },
      "source": [
        "# second version of the function above, where a diversity value (temperature) can be selected\r\n",
        "def sample_prediction_temp(preds, temperature=1.0):\r\n",
        "    # helper function to sample an index from a probability array\r\n",
        "    preds = np.asarray(preds).astype(\"float64\")\r\n",
        "    preds = np.log(preds) / temperature\r\n",
        "    exp_preds = np.exp(preds)\r\n",
        "    preds = exp_preds / np.sum(exp_preds)\r\n",
        "    probas = np.random.multinomial(1, preds, 1)\r\n",
        "    return np.argmax(probas)"
      ],
      "execution_count": null,
      "outputs": []
    },
    {
      "cell_type": "code",
      "metadata": {
        "colab": {
          "base_uri": "https://localhost:8080/"
        },
        "id": "bseP6FJdftey",
        "outputId": "ff88bc15-65da-4f46-82dd-9a45aee97031"
      },
      "source": [
        "# pick a random seed\r\n",
        "start = numpy.random.randint(0, len(dataX)-1)\r\n",
        "pattern = dataX[start]\r\n",
        "print(\"\\\"\", ''.join(# completar secuencia inicial de palabras]), \"\\\"\")\r\n",
        "# generate characters\r\n",
        "print(\"Generated:\")\r\n",
        "for i in range(100):\r\n",
        "  x = np.reshape(pattern, # completar tamaño requerido)\r\n",
        "  x = x / # completar con normalizacion\r\n",
        "  prediction = model.predict(# completar)\r\n",
        "  index = np.argmax(# completar)  # classic solution\r\n",
        "  result = int_to_char[# completar]\r\n",
        "  seq_in = [int_to_char[value] for # completar]\r\n",
        "  sys.stdout.write(# completar)\r\n",
        "  pattern.append(# completar)\r\n",
        "  pattern = pattern[1:len(pattern)]\r\n",
        "print(\"\\nDone.\")"
      ],
      "execution_count": null,
      "outputs": [
        {
          "output_type": "stream",
          "text": [
            "Seed:\n",
            "\" emed to be almost out of sight they were getting so far off oh my poor little feet i wonder who will \"\n",
            "Generated:\n",
            " some semember the tame thing would be no the srop little thing and the white rabbit went on and she\n",
            "Done.\n"
          ],
          "name": "stdout"
        }
      ]
    }
  ]
}