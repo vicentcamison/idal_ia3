{
  "nbformat": 4,
  "nbformat_minor": 0,
  "metadata": {
    "colab": {
      "name": "Untitled4.ipynb",
      "provenance": [],
      "authorship_tag": "ABX9TyP3E6O99Y2lRzBNE5ZCVsmx",
      "include_colab_link": true
    },
    "kernelspec": {
      "name": "python3",
      "display_name": "Python 3"
    }
  },
  "cells": [
    {
      "cell_type": "markdown",
      "metadata": {
        "id": "view-in-github",
        "colab_type": "text"
      },
      "source": [
        "<a href=\"https://colab.research.google.com/github/vicentcamison/idal_ia3/blob/main/3%20Aprendizaje%20profundo%20(II)/Sesion%206/0_Test_LSTM_Keras.ipynb\" target=\"_parent\"><img src=\"https://colab.research.google.com/assets/colab-badge.svg\" alt=\"Open In Colab\"/></a>"
      ]
    },
    {
      "cell_type": "code",
      "metadata": {
        "id": "jVeTzZPDa06k"
      },
      "source": [
        "import numpy as np\n",
        "import pandas as pd\n",
        "import matplotlib.pyplot as plt\n",
        "\n",
        "\n",
        "from tensorflow.keras.models import Sequential\n",
        "from tensorflow.keras.layers import Dense, LSTM\n",
        "\n",
        "import tensorflow as tf"
      ],
      "execution_count": 8,
      "outputs": []
    },
    {
      "cell_type": "markdown",
      "metadata": {
        "id": "lB7koVOtbUbf"
      },
      "source": [
        "EJERCICIO: Crea una secuencia temporal (np.array) de 10 números reales (10 time steps). Crea\n",
        "un modelo compuesto por una capa LSTM de 4 salidas conectada a una capa densa de 1\n",
        "neurona. Evalúa la salida del modelo para la secuencia anterior en cada instante de tiempo. Nota:\n",
        "recuerda que LSTM() requiere entradas tridimensionales, aunque tengamos sólo una secuencia.\n",
        "\n",
        "*    Prueba a poner return_sequences=False. Observa la salida en ese caso.\n",
        "*    Repite el ejercicio pero con un array de 10 time steps y 2 features.\n",
        "*    Apila una segunda capa LSTM de 4 salidas tras la primera y antes de la capa densa. Recuerda\n",
        "que la primera LSTM tiene que tener return_sequences=True. Observa la salida."
      ]
    },
    {
      "cell_type": "code",
      "metadata": {
        "colab": {
          "base_uri": "https://localhost:8080/"
        },
        "id": "URThUR-faEGs",
        "outputId": "efd647a4-aec7-475f-d1f2-582b86a5a24d"
      },
      "source": [
        "sequence = np.arange(0, 10, 1, dtype='float32')\n",
        "# Ponemos dtype='float32' porque en caso contrario tira error\n",
        "\n",
        "sequence = np.reshape(sequence, newshape=(1, -1, 1))\n",
        "\n",
        "# las tres dimensiones de la entrada son (samples, time_steps, n_features)\n",
        "# Se puede especificar la input_shape en la capa LSTM de forma input_shape=(time_steps, n_features)\n",
        "model = Sequential()\n",
        "model.add(LSTM(4, input_shape=(10, 1), return_sequences=True))\n",
        "model.add(Dense(1))\n",
        "\n",
        "y = model(sequence)\n",
        "y"
      ],
      "execution_count": 29,
      "outputs": [
        {
          "output_type": "execute_result",
          "data": {
            "text/plain": [
              "<tf.Tensor: shape=(1, 10, 1), dtype=float32, numpy=\n",
              "array([[[ 0.        ],\n",
              "        [-0.00340474],\n",
              "        [ 0.01981339],\n",
              "        [ 0.07457829],\n",
              "        [ 0.13796529],\n",
              "        [ 0.1901667 ],\n",
              "        [ 0.22562914],\n",
              "        [ 0.24615547],\n",
              "        [ 0.25519532],\n",
              "        [ 0.25592828]]], dtype=float32)>"
            ]
          },
          "metadata": {
            "tags": []
          },
          "execution_count": 29
        }
      ]
    },
    {
      "cell_type": "markdown",
      "metadata": {
        "id": "grbPQuYXdk7h"
      },
      "source": [
        "Obtenemos un array de tamaño (1,10, 1) con los valores de la neuronafinal en cada paso (en este caso, están pasados por una dense monodimensional que lo condensa a un número por cada t a pesar de tener 4 células la LSTM y, por tanto, 4 pesos)\n",
        "\n",
        "Si ahora hacemos **return_sequences = false**:"
      ]
    },
    {
      "cell_type": "code",
      "metadata": {
        "colab": {
          "base_uri": "https://localhost:8080/"
        },
        "id": "GoBKKN_gaSdZ",
        "outputId": "4c67b1b0-ec56-4309-8d2b-7ef46f015a4a"
      },
      "source": [
        "model_false = Sequential()\n",
        "model_false.add(LSTM(4, input_shape=(10, 1), return_sequences=False))\n",
        "model_false.add(Dense(1))\n",
        "\n",
        "y = model_false(sequence)\n",
        "y"
      ],
      "execution_count": 30,
      "outputs": [
        {
          "output_type": "execute_result",
          "data": {
            "text/plain": [
              "<tf.Tensor: shape=(1, 1), dtype=float32, numpy=array([[-0.15947077]], dtype=float32)>"
            ]
          },
          "metadata": {
            "tags": []
          },
          "execution_count": 30
        }
      ]
    },
    {
      "cell_type": "markdown",
      "metadata": {
        "id": "8fJOoocPeGc8"
      },
      "source": [
        "Obtenemos únicamente el último valor\n",
        "\n",
        "Repitiendo el ejercicio pero con un array de 10 time steps y 2 features:"
      ]
    },
    {
      "cell_type": "code",
      "metadata": {
        "colab": {
          "base_uri": "https://localhost:8080/"
        },
        "id": "UIB07p9QeEMX",
        "outputId": "000a6224-7f52-4956-fe4d-68bac56eae7e"
      },
      "source": [
        "sequence_2 = np.append(sequence, sequence, axis=2)\n",
        "\n",
        "model2 = Sequential()\n",
        "model2.add(LSTM(4, return_sequences=True))\n",
        "model2.add(Dense(1))\n",
        "\n",
        "model2_false = Sequential()\n",
        "model2_false.add(LSTM(4, return_sequences=False))\n",
        "model2_false.add(Dense(1))\n",
        "\n",
        "y1 = model2(sequence_2)\n",
        "y2 = model2_false(sequence_2)\n",
        "\n",
        "print(y1,'\\n\\n', y2)"
      ],
      "execution_count": 33,
      "outputs": [
        {
          "output_type": "stream",
          "text": [
            "tf.Tensor(\n",
            "[[[ 0.        ]\n",
            "  [ 0.09082129]\n",
            "  [ 0.1462333 ]\n",
            "  [ 0.15326193]\n",
            "  [ 0.14590923]\n",
            "  [ 0.12960206]\n",
            "  [ 0.10198941]\n",
            "  [ 0.06646319]\n",
            "  [ 0.02931612]\n",
            "  [-0.00467111]]], shape=(1, 10, 1), dtype=float32) \n",
            "\n",
            " tf.Tensor([[-0.02317992]], shape=(1, 1), dtype=float32)\n"
          ],
          "name": "stdout"
        }
      ]
    },
    {
      "cell_type": "markdown",
      "metadata": {
        "id": "ajg9hQCph595"
      },
      "source": [
        "Las shapes de las salidas son las mismas que con una única feature. Es decir, igual que en redes neuronales normales (dense, por ejemplo) el número de features no influye en la forma de la salida (obvio, pero es interesante verlo.\n",
        "\n",
        "Aplicamos ahora una segunda capa LSTM de 4 salidas tras la primera y antes de la capa densa. Recuerda que la primera LSTM tiene que tener return_sequences=True. Observa la salida"
      ]
    },
    {
      "cell_type": "code",
      "metadata": {
        "colab": {
          "base_uri": "https://localhost:8080/"
        },
        "id": "JysuV9dQh5LS",
        "outputId": "a5693053-58c7-4117-848f-7b674e665185"
      },
      "source": [
        "model3 = Sequential()\n",
        "model3.add(LSTM(4, return_sequences=True))\n",
        "model3.add(LSTM(4))\n",
        "model3.add(Dense(1))\n",
        "\n",
        "y = model3(sequence)\n",
        "y"
      ],
      "execution_count": 35,
      "outputs": [
        {
          "output_type": "execute_result",
          "data": {
            "text/plain": [
              "<tf.Tensor: shape=(1, 1), dtype=float32, numpy=array([[-0.2654268]], dtype=float32)>"
            ]
          },
          "metadata": {
            "tags": []
          },
          "execution_count": 35
        }
      ]
    },
    {
      "cell_type": "markdown",
      "metadata": {
        "id": "ft_fGv5qjdtO"
      },
      "source": [
        "Sólo se obtiene un único número. A pesar de que se le dice a la primera LSTM que return_sequences = True, estos resultados pasan a la segunda LSTM (que no tiene return_sequences=True) y se comprimen a un único resultado"
      ]
    }
  ]
}