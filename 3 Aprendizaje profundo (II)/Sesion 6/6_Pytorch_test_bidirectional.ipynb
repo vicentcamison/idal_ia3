{
  "nbformat": 4,
  "nbformat_minor": 0,
  "metadata": {
    "colab": {
      "name": "Untitled6.ipynb",
      "provenance": [],
      "authorship_tag": "ABX9TyORIeFieAJrRag+mH5/anM9",
      "include_colab_link": true
    },
    "kernelspec": {
      "name": "python3",
      "display_name": "Python 3"
    }
  },
  "cells": [
    {
      "cell_type": "markdown",
      "metadata": {
        "id": "view-in-github",
        "colab_type": "text"
      },
      "source": [
        "<a href=\"https://colab.research.google.com/github/vicentcamison/idal_ia3/blob/main/3%20Aprendizaje%20profundo%20(II)/Sesion%206/6_Pytorch_test_bidirectional.ipynb\" target=\"_parent\"><img src=\"https://colab.research.google.com/assets/colab-badge.svg\" alt=\"Open In Colab\"/></a>"
      ]
    },
    {
      "cell_type": "code",
      "metadata": {
        "id": "-a_C1ghXjky9"
      },
      "source": [
        "import torch\n",
        "from torch import nn"
      ],
      "execution_count": 2,
      "outputs": []
    },
    {
      "cell_type": "code",
      "metadata": {
        "id": "y_X3SUukjmUq"
      },
      "source": [
        "bilstm = nn.LSTM(10, 20, 2, bidirectional=True)\n",
        "input = torch.randn(5, 3, 10)\n",
        "h0 = torch.randn(4, 3, 20)\n",
        "c0 = torch.randn(4, 3, 20)\n",
        "output, (hn, cn) = bilstm(input, (h0, c0))"
      ],
      "execution_count": 3,
      "outputs": []
    },
    {
      "cell_type": "markdown",
      "metadata": {
        "id": "kL-Ubp0_j7Bp"
      },
      "source": [
        "Comparamos la forma de los estados *cell* y *oculto* para el caso *bidirectional=True* y comparamos con la LSTM Normal. Examinamos también en ambos casos la forma del *output*"
      ]
    },
    {
      "cell_type": "code",
      "metadata": {
        "colab": {
          "base_uri": "https://localhost:8080/"
        },
        "id": "Ij_gLgdfj6HU",
        "outputId": "677752ac-af35-47a4-f332-0c289de047d7"
      },
      "source": [
        "print(hn.shape)\n",
        "print(cn.shape)\n",
        "print(output.shape)"
      ],
      "execution_count": 4,
      "outputs": [
        {
          "output_type": "stream",
          "text": [
            "torch.Size([4, 3, 20])\n",
            "torch.Size([4, 3, 20])\n",
            "torch.Size([5, 3, 40])\n"
          ],
          "name": "stdout"
        }
      ]
    },
    {
      "cell_type": "code",
      "metadata": {
        "id": "-n6dxhb6kLhj"
      },
      "source": [
        "lstm = nn.LSTM(10, 20, 2, bidirectional=False)\n",
        "output_, (hn_, cn_) = lstm(input)"
      ],
      "execution_count": 8,
      "outputs": []
    },
    {
      "cell_type": "code",
      "metadata": {
        "colab": {
          "base_uri": "https://localhost:8080/"
        },
        "id": "P6tsafDMkSdh",
        "outputId": "5e6341b4-9b51-4a66-a624-d64b70b45aee"
      },
      "source": [
        "print(hn_.shape)\n",
        "print(cn_.shape)\n",
        "print(output_.shape)"
      ],
      "execution_count": 9,
      "outputs": [
        {
          "output_type": "stream",
          "text": [
            "torch.Size([2, 3, 20])\n",
            "torch.Size([2, 3, 20])\n",
            "torch.Size([5, 3, 20])\n"
          ],
          "name": "stdout"
        }
      ]
    },
    {
      "cell_type": "markdown",
      "metadata": {
        "id": "iaFmF9eokhna"
      },
      "source": [
        "Conclusiones:\n",
        "*    Los outputs son **equivalentes** en *bidirectional=True* y *bidirectional=False*\n",
        "*    El tamaño de los pesos ha de contener en el primer índice el **doble** de la cantidad de capas de la red, ya que se estarían teniendo en cuenta tanto el flujo de 'izquierda a derecha', como el de 'derecha a izquierda': una matriz sería necesaria para cada caso:\n",
        "Capa 1: [0: forward, 1: backward], capa 2: [2: forward, 3: backward]"
      ]
    }
  ]
}