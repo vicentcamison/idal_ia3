{
  "nbformat": 4,
  "nbformat_minor": 0,
  "metadata": {
    "kernelspec": {
      "display_name": "Python 3",
      "language": "python",
      "name": "python3"
    },
    "language_info": {
      "codemirror_mode": {
        "name": "ipython",
        "version": 3
      },
      "file_extension": ".py",
      "mimetype": "text/x-python",
      "name": "python",
      "nbconvert_exporter": "python",
      "pygments_lexer": "ipython3",
      "version": "3.7.3"
    },
    "colab": {
      "name": "01-Pytorch-Basico.ipynb",
      "provenance": [],
      "collapsed_sections": [
        "lXzB-rhEltUN",
        "vvD50Nf_ltUN"
      ],
      "include_colab_link": true
    }
  },
  "cells": [
    {
      "cell_type": "markdown",
      "metadata": {
        "id": "view-in-github",
        "colab_type": "text"
      },
      "source": [
        "<a href=\"https://colab.research.google.com/github/vicentcamison/idal_ia3/blob/main/3%20Aprendizaje%20profundo%20(II)/Sesion%201/01_Pytorch_Basico.ipynb\" target=\"_parent\"><img src=\"https://colab.research.google.com/assets/colab-badge.svg\" alt=\"Open In Colab\"/></a>"
      ]
    },
    {
      "cell_type": "markdown",
      "metadata": {
        "id": "AVBv0eq8108q"
      },
      "source": [
        "![IDAL](https://i.imgur.com/tIKXIG1.jpg)  \n",
        "\n",
        "#**Máster en Inteligencia Artificial Avanzada y Aplicada:  IA^3**\n",
        "---\n"
      ]
    },
    {
      "cell_type": "markdown",
      "metadata": {
        "id": "VZZRnhKHlmxp"
      },
      "source": [
        "#<strong><center>Tensores en Pytorch</center></strong>\n",
        "\n",
        "# Tensores y operaciones básicas\n",
        "Esta sección cubre: \n",
        "* Convertir arrays NumPy a tensores PyTorch \n",
        "* Crear tensores desde cero\n",
        "\n",
        "## Realizamos la importación de modulos habitual"
      ]
    },
    {
      "cell_type": "code",
      "metadata": {
        "id": "9lcxzjoFlmxr"
      },
      "source": [
        "import torch\n",
        "import numpy as np"
      ],
      "execution_count": null,
      "outputs": []
    },
    {
      "cell_type": "markdown",
      "metadata": {
        "id": "_CJ-Bsrxlmxs"
      },
      "source": [
        "Comprobamos version de PyTorch"
      ]
    },
    {
      "cell_type": "code",
      "metadata": {
        "id": "f5l1VMiwlmxt",
        "colab": {
          "base_uri": "https://localhost:8080/",
          "height": 35
        },
        "outputId": "d964ce38-b978-45d7-a827-c17947a0b19c"
      },
      "source": [
        "torch.__version__"
      ],
      "execution_count": null,
      "outputs": [
        {
          "output_type": "execute_result",
          "data": {
            "application/vnd.google.colaboratory.intrinsic+json": {
              "type": "string"
            },
            "text/plain": [
              "'1.7.0+cu101'"
            ]
          },
          "metadata": {
            "tags": []
          },
          "execution_count": 3
        }
      ]
    },
    {
      "cell_type": "markdown",
      "metadata": {
        "id": "bKisj_jKlmxw"
      },
      "source": [
        "## Conversión de arrays NumPy a tensores PyTorch\n",
        "Un <a href='https://pytorch.org/docs/stable/tensors.html'><strong><tt>torch.Tensor</tt></strong></a> es una matriz multi-dimensional que contiene elementos de un mismo tipo de datos.<br>\n",
        "Los cálculos entre tensores solo se pueden dar si los tensores son del mismo dtype.<br>\n",
        "En pytorch, los tensores son usados también como sustitución de Numpy para usar la potencia y posibilidades de GPUs."
      ]
    },
    {
      "cell_type": "code",
      "metadata": {
        "id": "lLAllnXLlmxx",
        "outputId": "ac17248e-2728-4de0-ab0b-a6f31c6ab249"
      },
      "source": [
        "arr = np.array([1,2,3,4,5])\n",
        "print(arr)\n",
        "print(arr.dtype)\n",
        "print(type(arr))"
      ],
      "execution_count": null,
      "outputs": [
        {
          "output_type": "stream",
          "text": [
            "[1 2 3 4 5]\n",
            "int32\n",
            "<class 'numpy.ndarray'>\n"
          ],
          "name": "stdout"
        }
      ]
    },
    {
      "cell_type": "code",
      "metadata": {
        "id": "oz1OWfvElmxy",
        "outputId": "43487eda-1972-4f85-90ea-6a6d2c9b7f1f"
      },
      "source": [
        "x = torch.from_numpy(arr)\n",
        "# Equivalente a x = torch.as_tensor(arr)\n",
        "\n",
        "print(x)"
      ],
      "execution_count": null,
      "outputs": [
        {
          "output_type": "stream",
          "text": [
            "tensor([1, 2, 3, 4, 5], dtype=torch.int32)\n"
          ],
          "name": "stdout"
        }
      ]
    },
    {
      "cell_type": "code",
      "metadata": {
        "id": "Sv-ceY6olmx0",
        "outputId": "397fc9bb-0634-4668-c410-b7dc7b62c556"
      },
      "source": [
        "# Imprimimos el tipo de datos que contiene el tensor\n",
        "print(x.dtype)"
      ],
      "execution_count": null,
      "outputs": [
        {
          "output_type": "stream",
          "text": [
            "torch.int32\n"
          ],
          "name": "stdout"
        }
      ]
    },
    {
      "cell_type": "code",
      "metadata": {
        "id": "Z9q-4ggclmx1",
        "outputId": "028b2e26-ff3d-48aa-87b9-f65ad6475350"
      },
      "source": [
        "# Imprimimos en tipo de objeto que es el tensor\n",
        "print(type(x))\n",
        "print(x.type()) # más especifico!"
      ],
      "execution_count": null,
      "outputs": [
        {
          "output_type": "stream",
          "text": [
            "<class 'torch.Tensor'>\n",
            "torch.IntTensor\n"
          ],
          "name": "stdout"
        }
      ]
    },
    {
      "cell_type": "code",
      "metadata": {
        "id": "HEuEvx7slmx2",
        "outputId": "28890003-81b8-4430-a744-116c7262b680"
      },
      "source": [
        "arr2 = np.arange(0.,12.).reshape(4,3)\n",
        "print(arr2)"
      ],
      "execution_count": null,
      "outputs": [
        {
          "output_type": "stream",
          "text": [
            "[[ 0.  1.  2.]\n",
            " [ 3.  4.  5.]\n",
            " [ 6.  7.  8.]\n",
            " [ 9. 10. 11.]]\n"
          ],
          "name": "stdout"
        }
      ]
    },
    {
      "cell_type": "code",
      "metadata": {
        "id": "bqL1ZSgZlmx3",
        "outputId": "48d17f54-d4f1-4564-c2ab-25afffe7281b"
      },
      "source": [
        "x2 = torch.from_numpy(arr2)\n",
        "print(x2)\n",
        "print(x2.type())"
      ],
      "execution_count": null,
      "outputs": [
        {
          "output_type": "stream",
          "text": [
            "tensor([[ 0.,  1.,  2.],\n",
            "        [ 3.,  4.,  5.],\n",
            "        [ 6.,  7.,  8.],\n",
            "        [ 9., 10., 11.]], dtype=torch.float64)\n",
            "torch.DoubleTensor\n"
          ],
          "name": "stdout"
        }
      ]
    },
    {
      "cell_type": "markdown",
      "metadata": {
        "id": "jKN8-qCRlmx4"
      },
      "source": [
        "Aquí <tt>torch.DoubleTensor</tt> se refiere a datos \"64-bit floating point\"."
      ]
    },
    {
      "cell_type": "markdown",
      "metadata": {
        "id": "GTvOGNcMlmx4"
      },
      "source": [
        "## Tipos de datos en Tensores\n",
        "Puedes consultar aquí en detalle los <a href='https://pytorch.org/docs/stable/tensors.html'>tipos de datos en Tensores</a>\n",
        "<table style=\"display: inline-block\">\n",
        "<tr><th>TYPE</th><th>NAME</th><th>EQUIVALENT</th><th>TENSOR TYPE</th></tr>\n",
        "<tr><td>32-bit integer (signed)</td><td>torch.int32</td><td>torch.int</td><td>IntTensor</td></tr>\n",
        "<tr><td>64-bit integer (signed)</td><td>torch.int64</td><td>torch.long</td><td>LongTensor</td></tr>\n",
        "<tr><td>16-bit integer (signed)</td><td>torch.int16</td><td>torch.short</td><td>ShortTensor</td></tr>\n",
        "<tr><td>32-bit floating point</td><td>torch.float32</td><td>torch.float</td><td>FloatTensor</td></tr>\n",
        "<tr><td>64-bit floating point</td><td>torch.float64</td><td>torch.double</td><td>DoubleTensor</td></tr>\n",
        "<tr><td>16-bit floating point</td><td>torch.float16</td><td>torch.half</td><td>HalfTensor</td></tr>\n",
        "<tr><td>8-bit integer (signed)</td><td>torch.int8</td><td></td><td>CharTensor</td></tr>\n",
        "<tr><td>8-bit integer (unsigned)</td><td>torch.uint8</td><td></td><td>ByteTensor</td></tr></table>"
      ]
    },
    {
      "cell_type": "markdown",
      "metadata": {
        "id": "rNdPMJrYlmx5"
      },
      "source": [
        "## Copiar vs. compartir"
      ]
    },
    {
      "cell_type": "markdown",
      "metadata": {
        "id": "TDwABI40lmx6"
      },
      "source": [
        "<a href='https://pytorch.org/docs/stable/torch.html#torch.from_numpy'><strong><tt>torch.from_numpy()</tt></strong></a><br>\n",
        "<a href='https://pytorch.org/docs/stable/torch.html#torch.as_tensor'><strong><tt>torch.as_tensor()</tt></strong></a><br>\n",
        "<a href='https://pytorch.org/docs/stable/torch.html#torch.tensor'><strong><tt>torch.tensor()</tt></strong></a><br>\n",
        "\n",
        "Hay diferentes funciones disponibles para <a href='https://pytorch.org/docs/stable/torch.html#creation-ops'>crear tensores</a>. Cuando usamos <a href='https://pytorch.org/docs/stable/torch.html#torch.from_numpy'><strong><tt>torch.from_numpy()</tt></strong></a> y <a href='https://pytorch.org/docs/stable/torch.html#torch.as_tensor'><strong><tt>torch.as_tensor()</tt></strong></a>, el tensor PyTorch y el array origen NumPy comparten la misma memoria. Esto significa que el cambio en uno afecta al otro. Sin embargo, la función <a href='https://pytorch.org/docs/stable/torch.html#torch.tensor'><strong><tt>torch.tensor()</tt></strong></a> siempre hace una copia nueva del tensor. "
      ]
    },
    {
      "cell_type": "code",
      "metadata": {
        "id": "hBsc-04elmx6"
      },
      "source": [
        "# torch.from_numpy()\n",
        "arr = np.arange(0,5)\n",
        "t = torch.from_numpy(arr)\n",
        "print(t)"
      ],
      "execution_count": null,
      "outputs": []
    },
    {
      "cell_type": "code",
      "metadata": {
        "id": "k2jedzPSlmx7"
      },
      "source": [
        "arr[2]=77\n",
        "print(t)"
      ],
      "execution_count": null,
      "outputs": []
    },
    {
      "cell_type": "code",
      "metadata": {
        "id": "V-kMxUIelmx8"
      },
      "source": [
        "# torch.tensor()\n",
        "arr = np.arange(0,5)\n",
        "t = torch.tensor(arr)\n",
        "print(t)"
      ],
      "execution_count": null,
      "outputs": []
    },
    {
      "cell_type": "code",
      "metadata": {
        "id": "gHQv4cSFlmx9"
      },
      "source": [
        "arr[2]=77\n",
        "print(t)"
      ],
      "execution_count": null,
      "outputs": []
    },
    {
      "cell_type": "code",
      "metadata": {
        "id": "KsIjF8Yylmx-"
      },
      "source": [
        "arr"
      ],
      "execution_count": null,
      "outputs": []
    },
    {
      "cell_type": "markdown",
      "metadata": {
        "id": "OdlBo5y8lmx-"
      },
      "source": [
        "## Clases constructoras\n",
        "<a href='https://pytorch.org/docs/stable/tensors.html'><strong><tt>torch.Tensor()</tt></strong></a><br>\n",
        "<a href='https://pytorch.org/docs/stable/tensors.html'><strong><tt>torch.FloatTensor()</tt></strong></a><br>\n",
        "<a href='https://pytorch.org/docs/stable/tensors.html'><strong><tt>torch.LongTensor()</tt></strong></a>, etc.<br>\n",
        "\n",
        "Hay una diferencia entre emplear la función predeterminada <font color=black><tt>torch.tensor(data)</tt></font> y la clase constructora <font color=black><tt>torch.Tensor(data)</tt></font>.<br>\n",
        "La función predeterminada adjudica el tipo de datos de los datos suministrados o del argumento \"dtype\" que se le pase. <br>\n",
        "La clase constructora <tt>torch.Tensor()</tt> es simplemente un alias para <tt>torch.FloatTensor(data)</tt>. Consideremos lo siguiente:"
      ]
    },
    {
      "cell_type": "code",
      "metadata": {
        "id": "yCpyPohZlmx_"
      },
      "source": [
        "data = np.array([1,2,3])"
      ],
      "execution_count": null,
      "outputs": []
    },
    {
      "cell_type": "code",
      "metadata": {
        "id": "5I2-20qAlmx_",
        "outputId": "ae2864d2-4068-41e8-dc99-0a9469d7bcbc"
      },
      "source": [
        "a = torch.Tensor(data)  # Equivalente a cc = torch.FloatTensor(data)\n",
        "print(a, a.type())"
      ],
      "execution_count": null,
      "outputs": [
        {
          "output_type": "stream",
          "text": [
            "tensor([1., 2., 3.]) torch.FloatTensor\n"
          ],
          "name": "stdout"
        }
      ]
    },
    {
      "cell_type": "code",
      "metadata": {
        "id": "Ntt_2H8almyA",
        "outputId": "6138dad7-3e3f-4f45-9912-cc8483b43106"
      },
      "source": [
        "b = torch.tensor(data)\n",
        "print(b, b.type())"
      ],
      "execution_count": null,
      "outputs": [
        {
          "output_type": "stream",
          "text": [
            "tensor([1, 2, 3], dtype=torch.int32) torch.IntTensor\n"
          ],
          "name": "stdout"
        }
      ]
    },
    {
      "cell_type": "code",
      "metadata": {
        "id": "hC_-JDn6lmyB",
        "outputId": "23c6914a-aa21-438c-c28e-53e3ab56a442"
      },
      "source": [
        "c = torch.tensor(data, dtype=torch.long)\n",
        "print(c, c.type())"
      ],
      "execution_count": null,
      "outputs": [
        {
          "output_type": "stream",
          "text": [
            "tensor([1, 2, 3]) torch.LongTensor\n"
          ],
          "name": "stdout"
        }
      ]
    },
    {
      "cell_type": "code",
      "metadata": {
        "id": "RNLmqWw8lmyC",
        "outputId": "28236775-c238-44b1-e509-59357e25db1c"
      },
      "source": [
        "a.dtype"
      ],
      "execution_count": null,
      "outputs": [
        {
          "output_type": "execute_result",
          "data": {
            "text/plain": [
              "torch.float32"
            ]
          },
          "metadata": {
            "tags": []
          },
          "execution_count": 18
        }
      ]
    },
    {
      "cell_type": "code",
      "metadata": {
        "id": "maM0xiUmsMc1"
      },
      "source": [
        "b.dtype"
      ],
      "execution_count": null,
      "outputs": []
    },
    {
      "cell_type": "markdown",
      "metadata": {
        "id": "uW-pM_L0lmyE"
      },
      "source": [
        "## Creando tensores desde cero\n",
        "### Inicializando tensores con <tt>.empty()</tt>\n",
        "<a href='https://pytorch.org/docs/stable/torch.html#torch.empty'>\n",
        "# <strong><tt>torch.empty()</tt></strong></a> devuelve un tensor <em>no inicializado</em>. Esencialmente un bloque de memoria es reservado de acerdo al tamaño del tensor, y ningún valor ya dispuesto en dicho bloque es retornado. Es similar al comportamiento de <tt>numpy.empty()</tt>."
      ]
    },
    {
      "cell_type": "code",
      "metadata": {
        "id": "8sbJnyT4lmyE",
        "outputId": "b9595a4d-ef8a-4cf5-806f-715793c9edbb"
      },
      "source": [
        "x = torch.empty(4, 3)\n",
        "print(x)"
      ],
      "execution_count": null,
      "outputs": [
        {
          "output_type": "stream",
          "text": [
            "tensor([[0., 0., 0.],\n",
            "        [0., 0., 0.],\n",
            "        [0., 0., 0.],\n",
            "        [0., 0., 0.]])\n"
          ],
          "name": "stdout"
        }
      ]
    },
    {
      "cell_type": "markdown",
      "metadata": {
        "id": "DpuN0YUalmyF"
      },
      "source": [
        "### Inicialización de tensores con <tt>.zeros()</tt> and <tt>.ones()</tt>\n",
        "<a href='https://pytorch.org/docs/stable/torch.html#torch.zeros'><strong><tt>torch.zeros(size)</tt></strong></a><br>\n",
        "<a href='https://pytorch.org/docs/stable/torch.html#torch.ones'><strong><tt>torch.ones(size)</tt></strong></a><br>\n",
        "Es aconsejable pasar como argumento el dtype que queremos. "
      ]
    },
    {
      "cell_type": "code",
      "metadata": {
        "id": "pfOEQgcxlmyF",
        "outputId": "d6dd0e9e-b55e-430b-d1c6-a3a39cf8a37c"
      },
      "source": [
        "x = torch.zeros(4, 3, dtype=torch.int64)\n",
        "print(x)"
      ],
      "execution_count": null,
      "outputs": [
        {
          "output_type": "stream",
          "text": [
            "tensor([[0, 0, 0],\n",
            "        [0, 0, 0],\n",
            "        [0, 0, 0],\n",
            "        [0, 0, 0]])\n"
          ],
          "name": "stdout"
        }
      ]
    },
    {
      "cell_type": "markdown",
      "metadata": {
        "id": "uoKASDHSlmyG"
      },
      "source": [
        "### Tensores desde rangos\n",
        "<a href='https://pytorch.org/docs/stable/torch.html#torch.arange'><strong><tt>torch.arange(start,end,step)</tt></strong></a><br>\n",
        "<a href='https://pytorch.org/docs/stable/torch.html#torch.linspace'><strong><tt>torch.linspace(start,end,steps)</tt></strong></a><br>\n",
        "\n",
        "Nota: con <tt>.arange()</tt>, <tt>end</tt> es exclusivo, mientras que con <tt>linspace()</tt>, <tt>end</tt> es inclusivo."
      ]
    },
    {
      "cell_type": "code",
      "metadata": {
        "id": "NbZllptQlmyH",
        "outputId": "c6998144-a46f-4fcc-9fc8-77aa2c7cdff5"
      },
      "source": [
        "x = torch.arange(0,18,2).reshape(3,3)\n",
        "print(x)"
      ],
      "execution_count": null,
      "outputs": [
        {
          "output_type": "stream",
          "text": [
            "tensor([[ 0,  2,  4],\n",
            "        [ 6,  8, 10],\n",
            "        [12, 14, 16]])\n"
          ],
          "name": "stdout"
        }
      ]
    },
    {
      "cell_type": "code",
      "metadata": {
        "id": "1f9iYa6AlmyH",
        "outputId": "1db275d6-c856-4e4e-f930-f2be7404f616"
      },
      "source": [
        "x = torch.linspace(0,18,12).reshape(3,4)\n",
        "print(x)"
      ],
      "execution_count": null,
      "outputs": [
        {
          "output_type": "stream",
          "text": [
            "tensor([[ 0.0000,  1.6364,  3.2727,  4.9091],\n",
            "        [ 6.5455,  8.1818,  9.8182, 11.4545],\n",
            "        [13.0909, 14.7273, 16.3636, 18.0000]])\n"
          ],
          "name": "stdout"
        }
      ]
    },
    {
      "cell_type": "markdown",
      "metadata": {
        "id": "vaifWyUplmyI"
      },
      "source": [
        "### Tensores desde datos\n",
        "<tt>torch.tensor()</tt> adjudica el tipo de dato (dtype) basado en los datos suministrados:"
      ]
    },
    {
      "cell_type": "code",
      "metadata": {
        "id": "6h2i7SsilmyJ",
        "outputId": "3d49a039-0055-48d3-9034-e27a99541f34"
      },
      "source": [
        "x = torch.tensor([1, 2, 3, 4])\n",
        "print(x)\n",
        "print(x.dtype)\n",
        "print(x.type())"
      ],
      "execution_count": null,
      "outputs": [
        {
          "output_type": "stream",
          "text": [
            "tensor([1, 2, 3, 4])\n",
            "torch.int64\n",
            "torch.LongTensor\n"
          ],
          "name": "stdout"
        }
      ]
    },
    {
      "cell_type": "markdown",
      "metadata": {
        "id": "1U0eMQPRlmyJ"
      },
      "source": [
        "Alternativamente puedes establecer el tipo de dato segun el método de tensor empleado. Para listado de los tipos de tensores ver https://pytorch.org/docs/stable/tensors.html"
      ]
    },
    {
      "cell_type": "code",
      "metadata": {
        "id": "LY21d8B8lmyK",
        "outputId": "9f01823f-650f-4ee9-ccee-1a4108c31995"
      },
      "source": [
        "x = torch.FloatTensor([5,6,7])\n",
        "print(x)\n",
        "print(x.dtype)\n",
        "print(x.type())"
      ],
      "execution_count": null,
      "outputs": [
        {
          "output_type": "stream",
          "text": [
            "tensor([5., 6., 7.])\n",
            "torch.float32\n",
            "torch.FloatTensor\n"
          ],
          "name": "stdout"
        }
      ]
    },
    {
      "cell_type": "markdown",
      "metadata": {
        "id": "GyoTA243lmyL"
      },
      "source": [
        "También puedes pasar el tipo de dato como un argumento. Para una lista de tipos de datos dtypes visitar https://pytorch.org/docs/stable/tensor_attributes.html#torch.torch.dtype<br>"
      ]
    },
    {
      "cell_type": "code",
      "metadata": {
        "id": "wOqa7_V9lmyL",
        "outputId": "5617c803-7a98-4785-be4d-096a518072d0"
      },
      "source": [
        "x = torch.tensor([8,9,-3], dtype=torch.int)\n",
        "print(x)\n",
        "print(x.dtype)\n",
        "print(x.type())"
      ],
      "execution_count": null,
      "outputs": [
        {
          "output_type": "stream",
          "text": [
            "tensor([ 8,  9, -3], dtype=torch.int32)\n",
            "torch.int32\n",
            "torch.IntTensor\n"
          ],
          "name": "stdout"
        }
      ]
    },
    {
      "cell_type": "markdown",
      "metadata": {
        "id": "vH2Fm0oKlmyM"
      },
      "source": [
        "### Cambiando el dtype de tensores existentes\n",
        "\n",
        "Para cambiar el dtype no debes usar <tt>x = torch.tensor(x, dtype=torch.type)</tt> ya que dará un error de intento inapropiado de clonado de tensor.<br>\n",
        "En su lugar se debe emplear el metodo <tt>.type()</tt>."
      ]
    },
    {
      "cell_type": "code",
      "metadata": {
        "id": "W1GoayN_lmyM",
        "outputId": "f58e4b18-c95b-4379-c55e-00e92796b95e"
      },
      "source": [
        "print('Old:', x.type())\n",
        "\n",
        "x = x.type(torch.int64)\n",
        "\n",
        "print('New:', x.type())"
      ],
      "execution_count": null,
      "outputs": [
        {
          "output_type": "stream",
          "text": [
            "Old: torch.IntTensor\n",
            "New: torch.LongTensor\n"
          ],
          "name": "stdout"
        }
      ]
    },
    {
      "cell_type": "markdown",
      "metadata": {
        "id": "afFlesoolmyN"
      },
      "source": [
        "### Tensores de números aleatorios\n",
        "<a href='https://pytorch.org/docs/stable/torch.html#torch.rand'><strong><tt>torch.rand(size)</tt></strong></a> devuelve muestras aleaorias con una distribución uniforme entre [0, 1]<br>\n",
        "<a href='https://pytorch.org/docs/stable/torch.html#torch.randn'><strong><tt>torch.randn(size)</tt></strong></a> devuelve muestras con una distribución \"standard normal\" con [σ = 1]<br>\n",
        "&nbsp;&nbsp;&nbsp;&nbsp;A diferencia de <tt>rand</tt> que es uniforme, valores cercanos a cero son más probables a aparecer en este tipo de generación.<br>\n",
        "<a href='https://pytorch.org/docs/stable/torch.html#torch.randint'><strong><tt>torch.randint(low,high,size)</tt></strong></a> devuelve enteros aleatorios desde low (incluido) hasta high (excluido)"
      ]
    },
    {
      "cell_type": "code",
      "metadata": {
        "id": "iDqxqLsNlmyO",
        "outputId": "4032f31d-dc7b-47de-e533-8afcbb34cd42"
      },
      "source": [
        "x = torch.rand(4, 3)\n",
        "print(x)"
      ],
      "execution_count": null,
      "outputs": [
        {
          "output_type": "stream",
          "text": [
            "tensor([[0.6903, 0.5668, 0.2982],\n",
            "        [0.5100, 0.0158, 0.5680],\n",
            "        [0.3702, 0.2814, 0.8415],\n",
            "        [0.2881, 0.1485, 0.5383]])\n"
          ],
          "name": "stdout"
        }
      ]
    },
    {
      "cell_type": "code",
      "metadata": {
        "id": "1VNc2vQylmyP",
        "outputId": "0786ca5b-d92d-4a01-ba73-400fc3600a57"
      },
      "source": [
        "x = torch.randn(4, 3)\n",
        "print(x)"
      ],
      "execution_count": null,
      "outputs": [
        {
          "output_type": "stream",
          "text": [
            "tensor([[ 0.4940, -0.4624, -0.0472],\n",
            "        [-0.4358,  1.2171, -0.5911],\n",
            "        [-0.3954, -0.6879,  0.1546],\n",
            "        [ 0.0378, -0.2952, -0.9932]])\n"
          ],
          "name": "stdout"
        }
      ]
    },
    {
      "cell_type": "code",
      "metadata": {
        "id": "pfYy0uJplmyQ",
        "outputId": "c2260c34-5ab7-405d-eaad-3012227dbbbf"
      },
      "source": [
        "x = torch.randint(0, 5, (4, 3))\n",
        "print(x)"
      ],
      "execution_count": null,
      "outputs": [
        {
          "output_type": "stream",
          "text": [
            "tensor([[2, 3, 4],\n",
            "        [4, 2, 0],\n",
            "        [0, 0, 2],\n",
            "        [0, 4, 3]])\n"
          ],
          "name": "stdout"
        }
      ]
    },
    {
      "cell_type": "markdown",
      "metadata": {
        "id": "t2_Ck2TClmyR"
      },
      "source": [
        "### Tensores de números aleatorios que toman un tamaño de entrada (input size)\n",
        "<a href='https://pytorch.org/docs/stable/torch.html#torch.rand_like'><strong><tt>torch.rand_like(input)</tt></strong></a><br>\n",
        "<a href='https://pytorch.org/docs/stable/torch.html#torch.randn_like'><strong><tt>torch.randn_like(input)</tt></strong></a><br>\n",
        "<a href='https://pytorch.org/docs/stable/torch.html#torch.randint_like'><strong><tt>torch.randint_like(input,low,high)</tt></strong></a><br> Estos métodos retornan tensores con números aleatorios con las mismas dimensiones que <tt>input</tt>"
      ]
    },
    {
      "cell_type": "code",
      "metadata": {
        "id": "xWpiBHhhlmyR",
        "outputId": "6718b1eb-b656-4edf-cd37-955d70946804"
      },
      "source": [
        "x = torch.zeros(2,5)\n",
        "print(x)"
      ],
      "execution_count": null,
      "outputs": [
        {
          "output_type": "stream",
          "text": [
            "tensor([[0., 0., 0., 0., 0.],\n",
            "        [0., 0., 0., 0., 0.]])\n"
          ],
          "name": "stdout"
        }
      ]
    },
    {
      "cell_type": "code",
      "metadata": {
        "id": "Q125f1nplmyS",
        "outputId": "a06432ff-3f91-40ea-cfb9-2f64b4183be5"
      },
      "source": [
        "x2 = torch.randn_like(x)\n",
        "print(x2)"
      ],
      "execution_count": null,
      "outputs": [
        {
          "output_type": "stream",
          "text": [
            "tensor([[ 2.1885,  1.1244,  1.2341, -0.6041, -0.6106],\n",
            "        [ 0.3541,  0.2141,  1.1287,  0.3832, -0.4670]])\n"
          ],
          "name": "stdout"
        }
      ]
    },
    {
      "cell_type": "markdown",
      "metadata": {
        "id": "nuwZ6BqPlmyT"
      },
      "source": [
        "La misma sintáxis puede ser empleada con<br>\n",
        "<a href='https://pytorch.org/docs/stable/torch.html#torch.zeros_like'><strong><tt>torch.zeros_like(input)</tt></strong></a><br>\n",
        "<a href='https://pytorch.org/docs/stable/torch.html#torch.ones_like'><strong><tt>torch.ones_like(input)</tt></strong></a>"
      ]
    },
    {
      "cell_type": "code",
      "metadata": {
        "id": "6XP_qivLlmyU",
        "outputId": "1837570f-c779-4cef-bcf8-3640b841a67f"
      },
      "source": [
        "x3 = torch.ones_like(x2)\n",
        "print(x3)"
      ],
      "execution_count": null,
      "outputs": [
        {
          "output_type": "stream",
          "text": [
            "tensor([[1., 1., 1., 1., 1.],\n",
            "        [1., 1., 1., 1., 1.]])\n"
          ],
          "name": "stdout"
        }
      ]
    },
    {
      "cell_type": "markdown",
      "metadata": {
        "id": "okgqGPiTlmyU"
      },
      "source": [
        "### Estableciendo una semilla (seed) aleatoria\n",
        "<a href='https://pytorch.org/docs/stable/torch.html#torch.manual_seed'><strong><tt>torch.manual_seed(int)</tt></strong></a> es empleado para obtener resultados reproducibles"
      ]
    },
    {
      "cell_type": "code",
      "metadata": {
        "id": "n3yP1eiKlmyV",
        "outputId": "dcdd9bbe-4de6-4617-9a1b-d3f70130c59c"
      },
      "source": [
        "torch.manual_seed(42)\n",
        "x = torch.rand(2, 3)\n",
        "print(x)"
      ],
      "execution_count": null,
      "outputs": [
        {
          "output_type": "stream",
          "text": [
            "tensor([[0.8823, 0.9150, 0.3829],\n",
            "        [0.9593, 0.3904, 0.6009]])\n"
          ],
          "name": "stdout"
        }
      ]
    },
    {
      "cell_type": "code",
      "metadata": {
        "id": "KpyaOXurlmyW",
        "outputId": "05486f40-141f-4798-d36e-68b1fce7fc07"
      },
      "source": [
        "torch.manual_seed(42)\n",
        "x = torch.rand(2, 3)\n",
        "print(x)"
      ],
      "execution_count": null,
      "outputs": [
        {
          "output_type": "stream",
          "text": [
            "tensor([[0.8823, 0.9150, 0.3829],\n",
            "        [0.9593, 0.3904, 0.6009]])\n"
          ],
          "name": "stdout"
        }
      ]
    },
    {
      "cell_type": "code",
      "metadata": {
        "id": "1if2_GfdlmyX",
        "outputId": "b33ae729-c9d8-43e4-afda-6a241e31c5a7"
      },
      "source": [
        "x = torch.rand(2, 3)\n",
        "print(x)\n"
      ],
      "execution_count": null,
      "outputs": [
        {
          "output_type": "stream",
          "text": [
            "tensor([[0.2566, 0.7936, 0.9408],\n",
            "        [0.1332, 0.9346, 0.5936]])\n"
          ],
          "name": "stdout"
        }
      ]
    },
    {
      "cell_type": "code",
      "metadata": {
        "id": "scEZVvw8lmyX",
        "outputId": "a19abd32-abb8-459c-9894-14654000aced"
      },
      "source": [
        "torch.manual_seed(42)\n",
        "x = torch.rand(2, 3)\n",
        "print(x)"
      ],
      "execution_count": null,
      "outputs": [
        {
          "output_type": "stream",
          "text": [
            "tensor([[0.8823, 0.9150, 0.3829],\n",
            "        [0.9593, 0.3904, 0.6009]])\n"
          ],
          "name": "stdout"
        }
      ]
    },
    {
      "cell_type": "markdown",
      "metadata": {
        "id": "yUHjaEv2lmyZ"
      },
      "source": [
        "## Atributos de los tensores\n",
        "Además <tt>dtype</tt>, podemos obtener otros <a href='https://pytorch.org/docs/stable/tensor_attributes.html'>atributos de tensores</a> como <tt>shape</tt>, <tt>device</tt> and <tt>layout</tt>"
      ]
    },
    {
      "cell_type": "code",
      "metadata": {
        "id": "xTkUoFvqlmya",
        "outputId": "d7c74984-1f27-4883-9f09-7b6f54f52db9"
      },
      "source": [
        "x.shape"
      ],
      "execution_count": null,
      "outputs": [
        {
          "output_type": "execute_result",
          "data": {
            "text/plain": [
              "torch.Size([2, 3])"
            ]
          },
          "metadata": {
            "tags": []
          },
          "execution_count": 37
        }
      ]
    },
    {
      "cell_type": "code",
      "metadata": {
        "id": "UmLtn144lmya",
        "outputId": "25d4d6ba-e0fe-4d89-8c0c-8caaac18d721"
      },
      "source": [
        "x.size()  # equivalente a x.shape"
      ],
      "execution_count": null,
      "outputs": [
        {
          "output_type": "execute_result",
          "data": {
            "text/plain": [
              "torch.Size([2, 3])"
            ]
          },
          "metadata": {
            "tags": []
          },
          "execution_count": 38
        }
      ]
    },
    {
      "cell_type": "code",
      "metadata": {
        "id": "exi9Abq2lmyc",
        "outputId": "4ad90c0c-8ea6-44d9-c10f-4a7dcf6a5567"
      },
      "source": [
        "x.device"
      ],
      "execution_count": null,
      "outputs": [
        {
          "output_type": "execute_result",
          "data": {
            "text/plain": [
              "device(type='cpu')"
            ]
          },
          "metadata": {
            "tags": []
          },
          "execution_count": 39
        }
      ]
    },
    {
      "cell_type": "markdown",
      "metadata": {
        "id": "aNmte7Islmyc"
      },
      "source": [
        "PyTorch soporta el uso de múltiples <a href='https://pytorch.org/docs/stable/tensor_attributes.html#torch-device'>devices</a>, beneficiandose de la potencia de una o más GPUs en lugar de una CPU.<br>\r\n",
        "No vamos a explorar eso en este notebook, pero es importante saber que esas operaciones entre tensores solo pueden tener lugar si los tensores estan alojados en la memoria del mismo dispositivo (device)"
      ]
    },
    {
      "cell_type": "code",
      "metadata": {
        "scrolled": true,
        "id": "T6oGAXmClmyc",
        "outputId": "4efb36fe-7a98-4432-efc8-50ff383d0896"
      },
      "source": [
        "x.layout"
      ],
      "execution_count": null,
      "outputs": [
        {
          "output_type": "execute_result",
          "data": {
            "text/plain": [
              "torch.strided"
            ]
          },
          "metadata": {
            "tags": []
          },
          "execution_count": 40
        }
      ]
    },
    {
      "cell_type": "markdown",
      "metadata": {
        "id": "AtFAVgUAlmyd"
      },
      "source": [
        "PyTorch tiene una clase para contener las opciones de disposicion de memoria o  <a href='https://pytorch.org/docs/stable/tensor_attributes.html#torch.torch.layout'>memory layout</a>. La configuración por defecto es <a href='https://en.wikipedia.org/wiki/Stride_of_an_array'>strided</a> y en principio es la que vamos a emplear en estas sesiones. "
      ]
    },
    {
      "cell_type": "markdown",
      "metadata": {
        "collapsed": true,
        "id": "pWx_dGzIltTx"
      },
      "source": [
        "# Operaciones con tensores \n",
        "* Indexado y subselección\n",
        "* Redimensionado de tensores ( vistas de tensores)\n",
        "* Aritmética y operaciones matemáticas con tensores\n",
        "* Productos\n",
        "* Multiplicacion de matrices \n",
        "* Y más operaciones...\n",
        "\n"
      ]
    },
    {
      "cell_type": "markdown",
      "metadata": {
        "id": "xEQxZ4qLltTz"
      },
      "source": [
        "## Indexado y subselección (slicing)\n",
        "Extraer valores específicos de un tensor funciona igual que con los arrays de Numpy<br>\n",
        "\n",
        "\n",
        "![Indexing](https://imgur.com/DDsVVeE.png)\n",
        "\n",
        "Fuente de imagen: http://www.scipy-lectures.org/_images/numpy_indexing.png"
      ]
    },
    {
      "cell_type": "code",
      "metadata": {
        "scrolled": true,
        "id": "Woo2I20AltTz",
        "outputId": "debdce73-654a-4f3c-f38a-c78f79a2f311"
      },
      "source": [
        "x = torch.arange(6).reshape(3,2)\n",
        "print(x)"
      ],
      "execution_count": null,
      "outputs": [
        {
          "output_type": "stream",
          "text": [
            "tensor([[0, 1],\n",
            "        [2, 3],\n",
            "        [4, 5]])\n"
          ],
          "name": "stdout"
        }
      ]
    },
    {
      "cell_type": "code",
      "metadata": {
        "id": "Azd6gdZnltT0",
        "outputId": "0186573c-3e4f-48ad-c65e-cbad0779029b"
      },
      "source": [
        "# Accediendo a la columna de la derecha\n",
        "x[:,1]"
      ],
      "execution_count": null,
      "outputs": [
        {
          "output_type": "execute_result",
          "data": {
            "text/plain": [
              "tensor([1, 3, 5])"
            ]
          },
          "metadata": {
            "tags": []
          },
          "execution_count": 3
        }
      ]
    },
    {
      "cell_type": "code",
      "metadata": {
        "id": "C7HckuO0ltT1",
        "outputId": "b1a7869a-0f04-41f7-f021-8eb9b7df2130"
      },
      "source": [
        "# Accediendo a la columna de la derecha, como una \"rebanada\" (3,1), i.e. manteniendo el formato original del array.\n",
        "x[:,1:]"
      ],
      "execution_count": null,
      "outputs": [
        {
          "output_type": "execute_result",
          "data": {
            "text/plain": [
              "tensor([[1],\n",
              "        [3],\n",
              "        [5]])"
            ]
          },
          "metadata": {
            "tags": []
          },
          "execution_count": 4
        }
      ]
    },
    {
      "cell_type": "markdown",
      "metadata": {
        "id": "mccQ3x4AltT2"
      },
      "source": [
        "## Redimensionando tensores con <tt>.view()</tt>\n",
        "<a href='https://pytorch.org/docs/master/tensors.html#torch.Tensor.view'><strong><tt>view()</tt></strong></a> y <a href='https://pytorch.org/docs/master/torch.html#torch.reshape'><strong><tt>reshape()</tt></strong></a> hacen esencialmente lo mismo, retornan un tensor redimensionado sin cambiar el tensor original en cuestion. <br>\n",
        "Las diferencias se pueden revisar con más detalle <a href='https://stackoverflow.com/questions/49643225/whats-the-difference-between-reshape-and-view-in-pytorch'>aquí</a>."
      ]
    },
    {
      "cell_type": "code",
      "metadata": {
        "id": "OcOq8EfoltT2",
        "colab": {
          "base_uri": "https://localhost:8080/"
        },
        "outputId": "d2ba5658-4051-490d-a76e-e9dbc3382b69"
      },
      "source": [
        "x = torch.arange(10)\n",
        "print(x)"
      ],
      "execution_count": null,
      "outputs": [
        {
          "output_type": "stream",
          "text": [
            "tensor([0, 1, 2, 3, 4, 5, 6, 7, 8, 9])\n"
          ],
          "name": "stdout"
        }
      ]
    },
    {
      "cell_type": "code",
      "metadata": {
        "id": "WxHH-eEiltT3",
        "colab": {
          "base_uri": "https://localhost:8080/"
        },
        "outputId": "43cb1717-4f66-4a92-c3a9-afce1e6474d0"
      },
      "source": [
        "x.view(2,5)"
      ],
      "execution_count": null,
      "outputs": [
        {
          "output_type": "execute_result",
          "data": {
            "text/plain": [
              "tensor([[0, 1, 2, 3, 4],\n",
              "        [5, 6, 7, 8, 9]])"
            ]
          },
          "metadata": {
            "tags": []
          },
          "execution_count": 5
        }
      ]
    },
    {
      "cell_type": "code",
      "metadata": {
        "id": "WTkUgUwLltT4",
        "colab": {
          "base_uri": "https://localhost:8080/"
        },
        "outputId": "fb59011f-9c27-4db1-d153-d09e8f9c635f"
      },
      "source": [
        "x.view(5,2)"
      ],
      "execution_count": null,
      "outputs": [
        {
          "output_type": "execute_result",
          "data": {
            "text/plain": [
              "tensor([[0, 1],\n",
              "        [2, 3],\n",
              "        [4, 5],\n",
              "        [6, 7],\n",
              "        [8, 9]])"
            ]
          },
          "metadata": {
            "tags": []
          },
          "execution_count": 6
        }
      ]
    },
    {
      "cell_type": "code",
      "metadata": {
        "id": "-PXzNtIlltT4",
        "colab": {
          "base_uri": "https://localhost:8080/"
        },
        "outputId": "557f6c95-6978-40be-bd17-74a5242acb3c"
      },
      "source": [
        "# x no ha cambiado su forma\n",
        "x"
      ],
      "execution_count": null,
      "outputs": [
        {
          "output_type": "execute_result",
          "data": {
            "text/plain": [
              "tensor([0, 1, 2, 3, 4, 5, 6, 7, 8, 9])"
            ]
          },
          "metadata": {
            "tags": []
          },
          "execution_count": 7
        }
      ]
    },
    {
      "cell_type": "markdown",
      "metadata": {
        "id": "LIwfhJw_ltT5"
      },
      "source": [
        "### View refleja los datos actualizados"
      ]
    },
    {
      "cell_type": "code",
      "metadata": {
        "id": "_Il7069UltT5",
        "colab": {
          "base_uri": "https://localhost:8080/"
        },
        "outputId": "78d437a5-e8d7-45d4-f27d-126f9649b514"
      },
      "source": [
        "z = x.view(2,5)\n",
        "x[0]=234\n",
        "print(z)"
      ],
      "execution_count": null,
      "outputs": [
        {
          "output_type": "stream",
          "text": [
            "tensor([[234,   1,   2,   3,   4],\n",
            "        [  5,   6,   7,   8,   9]])\n"
          ],
          "name": "stdout"
        }
      ]
    },
    {
      "cell_type": "code",
      "metadata": {
        "colab": {
          "base_uri": "https://localhost:8080/"
        },
        "id": "ecCw8R6wxTrW",
        "outputId": "1e3bbe82-d254-40ef-8c6b-f95c95fc52c3"
      },
      "source": [
        "z[0,0] = 12\r\n",
        "print(z)"
      ],
      "execution_count": null,
      "outputs": [
        {
          "output_type": "stream",
          "text": [
            "tensor([[12,  1,  2,  3,  4],\n",
            "        [ 5,  6,  7,  8,  9]])\n"
          ],
          "name": "stdout"
        }
      ]
    },
    {
      "cell_type": "code",
      "metadata": {
        "colab": {
          "base_uri": "https://localhost:8080/"
        },
        "id": "Akhc99YCxvcJ",
        "outputId": "bd11c322-c353-4ca5-dc15-36c4380126cc"
      },
      "source": [
        "print(x) # Los cambios en z afectan a x (es solo una \"vista\" de x)"
      ],
      "execution_count": null,
      "outputs": [
        {
          "output_type": "stream",
          "text": [
            "tensor([12,  1,  2,  3,  4,  5,  6,  7,  8,  9])\n"
          ],
          "name": "stdout"
        }
      ]
    },
    {
      "cell_type": "markdown",
      "metadata": {
        "id": "P-F6rBQ7ltT6"
      },
      "source": [
        "### Las vistas pueden inferir el tamaño \n",
        "Pasando el valor <tt>-1</tt> PyTorch inferirá el valor correcto para el tensor dado<br> \n",
        "(Inferir es obtener el número de la dimensión automáticamente)"
      ]
    },
    {
      "cell_type": "code",
      "metadata": {
        "id": "4Ex7VtVJltT6",
        "outputId": "6841cd9f-c5c0-479c-e19e-6b6a69e560cb"
      },
      "source": [
        "x.view(2,-1)"
      ],
      "execution_count": null,
      "outputs": [
        {
          "output_type": "execute_result",
          "data": {
            "text/plain": [
              "tensor([[234,   1,   2,   3,   4],\n",
              "        [  5,   6,   7,   8,   9]])"
            ]
          },
          "metadata": {
            "tags": []
          },
          "execution_count": 13
        }
      ]
    },
    {
      "cell_type": "code",
      "metadata": {
        "id": "8rPT-879ltT7",
        "outputId": "0c9c3874-8c48-49e1-d2f2-e9cf3c254770"
      },
      "source": [
        "x.view(-1,5)"
      ],
      "execution_count": null,
      "outputs": [
        {
          "output_type": "execute_result",
          "data": {
            "text/plain": [
              "tensor([[234,   1,   2,   3,   4],\n",
              "        [  5,   6,   7,   8,   9]])"
            ]
          },
          "metadata": {
            "tags": []
          },
          "execution_count": 11
        }
      ]
    },
    {
      "cell_type": "markdown",
      "metadata": {
        "id": "vfgLliVWltT7"
      },
      "source": [
        "### Adoptar la forma de otro tensor con <tt>.view_as()</tt>\n",
        "<a href='https://pytorch.org/docs/master/tensors.html#torch.Tensor.view_as'><strong><tt>view_as(input)</tt></strong></a> solo funcionará con tensores que tienen el mismo número de elementos."
      ]
    },
    {
      "cell_type": "code",
      "metadata": {
        "id": "4tU8Qp8TltT8",
        "outputId": "4d736002-1854-4db4-beaa-286b6cb2bbd1"
      },
      "source": [
        "x.view_as(z)"
      ],
      "execution_count": null,
      "outputs": [
        {
          "output_type": "execute_result",
          "data": {
            "text/plain": [
              "tensor([[234,   1,   2,   3,   4],\n",
              "        [  5,   6,   7,   8,   9]])"
            ]
          },
          "metadata": {
            "tags": []
          },
          "execution_count": 14
        }
      ]
    },
    {
      "cell_type": "markdown",
      "metadata": {
        "id": "ZuTIHhDyltT8"
      },
      "source": [
        "## Aritmética de Tensores\n",
        "La suma de tensores se puede realizar de diferentes formas según el resultado que queramos.<br>\n",
        "Como una simple expresión:"
      ]
    },
    {
      "cell_type": "code",
      "metadata": {
        "id": "fgz3qsyDltT9",
        "outputId": "427dc7be-5653-4cad-e1a7-ea58dbde2fc8"
      },
      "source": [
        "a = torch.tensor([1.,2.,3.])\n",
        "b = torch.tensor([4.,5.,6.])\n",
        "print(a + b)"
      ],
      "execution_count": null,
      "outputs": [
        {
          "output_type": "stream",
          "text": [
            "tensor([5., 7., 9.])\n"
          ],
          "name": "stdout"
        }
      ]
    },
    {
      "cell_type": "markdown",
      "metadata": {
        "id": "PePC58TSltT9"
      },
      "source": [
        "Como argumentos que pasamos en una función de torch:"
      ]
    },
    {
      "cell_type": "code",
      "metadata": {
        "id": "EjERhGNVltT-",
        "outputId": "272f327d-5f83-4657-866d-e74398e5d6e8"
      },
      "source": [
        "print(torch.add(a, b))"
      ],
      "execution_count": null,
      "outputs": [
        {
          "output_type": "stream",
          "text": [
            "tensor([5., 7., 9.])\n"
          ],
          "name": "stdout"
        }
      ]
    },
    {
      "cell_type": "markdown",
      "metadata": {
        "id": "XVp5Qo4vltT-"
      },
      "source": [
        "A un tensor de salida que indicamos como argumento:"
      ]
    },
    {
      "cell_type": "code",
      "metadata": {
        "id": "rNzoSb97ltT-",
        "outputId": "9295634a-81f7-481d-ffd9-8facd491069d"
      },
      "source": [
        "result = torch.empty(3)\n",
        "torch.add(a, b, out=result)  # equivale a result=torch.add(a,b)\n",
        "print(result)"
      ],
      "execution_count": null,
      "outputs": [
        {
          "output_type": "stream",
          "text": [
            "tensor([5., 7., 9.])\n"
          ],
          "name": "stdout"
        }
      ]
    },
    {
      "cell_type": "markdown",
      "metadata": {
        "id": "kIxu1ljcltT_"
      },
      "source": [
        "Operando in situ sobre el tensor"
      ]
    },
    {
      "cell_type": "code",
      "metadata": {
        "id": "OEzHF40IltT_"
      },
      "source": [
        "a.add_(b)  # equivale a a=torch.add(a,b)\n",
        "print(a)"
      ],
      "execution_count": null,
      "outputs": []
    },
    {
      "cell_type": "markdown",
      "metadata": {
        "id": "oKpDI4K0ltUA"
      },
      "source": [
        "<div class=\"alert alert-info\"><strong>NOTA:</strong> Cualquier operación que modifica a un tensor in situ debe incluir como sufijo un guión bajo _.\n",
        "    <br>En el ejemplo: <tt>a.add_(b)</tt> modifica <tt>a</tt>.</div>"
      ]
    },
    {
      "cell_type": "markdown",
      "metadata": {
        "id": "uCLQCvBWltUA"
      },
      "source": [
        "### Operaciones Básicas para Tensores\n",
        "<table style=\"display: inline-block\">\n",
        "<caption style=\"text-align: center\"><strong>Arithmetic</strong></caption>\n",
        "<tr><th>OPERATION</th><th>FUNCTION</th><th>DESCRIPTION</th></tr>\n",
        "<tr><td>a + b</td><td>a.add(b)</td><td>element wise addition</td></tr>\n",
        "<tr><td>a - b</td><td>a.sub(b)</td><td>subtraction</td></tr>\n",
        "<tr><td>a * b</td><td>a.mul(b)</td><td>multiplication</td></tr>\n",
        "<tr><td>a / b</td><td>a.div(b)</td><td>division</td></tr>\n",
        "<tr><td>a % b</td><td>a.fmod(b)</td><td>modulo (remainder after division)</td></tr>\n",
        "<tr><td>a<sup>b</sup></td><td>a.pow(b)</td><td>power</td></tr>\n",
        "<tr><td>&nbsp;</td><td></td><td></td></tr>\n",
        "</table>"
      ]
    },
    {
      "cell_type": "markdown",
      "metadata": {
        "id": "Jl29DawBltUB"
      },
      "source": [
        "<table style=\"display: inline-block\">\n",
        "<caption style=\"text-align: center\"><strong>Monomial Operations</strong></caption>\n",
        "<tr><th>OPERATION</th><th>FUNCTION</th><th>DESCRIPTION</th></tr>\n",
        "<tr><td>|a|</td><td>torch.abs(a)</td><td>absolute value</td></tr>\n",
        "<tr><td>1/a</td><td>torch.reciprocal(a)</td><td>reciprocal</td></tr>\n",
        "<tr><td>$\\sqrt{a}$</td><td>torch.sqrt(a)</td><td>square root</td></tr>\n",
        "<tr><td>log(a)</td><td>torch.log(a)</td><td>natural log</td></tr>\n",
        "<tr><td>e<sup>a</sup></td><td>torch.exp(a)</td><td>exponential</td></tr>\n",
        "<tr><td>12.34  ==>  12.</td><td>torch.trunc(a)</td><td>truncated integer</td></tr>\n",
        "<tr><td>12.34  ==>  0.34</td><td>torch.frac(a)</td><td>fractional component</td></tr>\n",
        "</table>"
      ]
    },
    {
      "cell_type": "markdown",
      "metadata": {
        "id": "uNAzlJXVltUB"
      },
      "source": [
        "<table style=\"display: inline-block\">\n",
        "<caption style=\"text-align: center\"><strong>Trigonometry</strong></caption>\n",
        "<tr><th>OPERATION</th><th>FUNCTION</th><th>DESCRIPTION</th></tr>\n",
        "<tr><td>sin(a)</td><td>torch.sin(a)</td><td>sine</td></tr>\n",
        "<tr><td>cos(a)</td><td>torch.sin(a)</td><td>cosine</td></tr>\n",
        "<tr><td>tan(a)</td><td>torch.sin(a)</td><td>tangent</td></tr>\n",
        "<tr><td>arcsin(a)</td><td>torch.asin(a)</td><td>arc sine</td></tr>\n",
        "<tr><td>arccos(a)</td><td>torch.acos(a)</td><td>arc cosine</td></tr>\n",
        "<tr><td>arctan(a)</td><td>torch.atan(a)</td><td>arc tangent</td></tr>\n",
        "<tr><td>sinh(a)</td><td>torch.sinh(a)</td><td>hyperbolic sine</td></tr>\n",
        "<tr><td>cosh(a)</td><td>torch.cosh(a)</td><td>hyperbolic cosine</td></tr>\n",
        "<tr><td>tanh(a)</td><td>torch.tanh(a)</td><td>hyperbolic tangent</td></tr>\n",
        "</table>"
      ]
    },
    {
      "cell_type": "markdown",
      "metadata": {
        "id": "vbKgb_R3ltUC"
      },
      "source": [
        "<table style=\"display: inline-block\">\n",
        "<caption style=\"text-align: center\"><strong>Summary Statistics</strong></caption>\n",
        "<tr><th>OPERATION</th><th>FUNCTION</th><th>DESCRIPTION</th></tr>\n",
        "<tr><td>$\\sum a$</td><td>torch.sum(a)</td><td>sum</td></tr>\n",
        "<tr><td>$\\bar a$</td><td>torch.mean(a)</td><td>mean</td></tr>\n",
        "<tr><td>a<sub>max</sub></td><td>torch.max(a)</td><td>maximum</td></tr>\n",
        "<tr><td>a<sub>min</sub></td><td>torch.min(a)</td><td>minimum</td></tr>\n",
        "<tr><td colspan=\"3\">torch.max(a,b) returns a tensor of size a<br>containing the element wise max between a and b</td></tr>\n",
        "</table>"
      ]
    },
    {
      "cell_type": "markdown",
      "metadata": {
        "id": "Ynqzm67dltUD"
      },
      "source": [
        "<div class=\"alert alert-info\"><strong>NOTA:</strong> Muchas operaciones aritméticas requieren valores flotantes. Aquellas que trabajan con enteros retornarán tensores de enteros.<br>\n",
        "Por ejemplo, <tt>torch.div(a,b)</tt> realizará una dicisión con redondeo (truncando el decimal) si empleamos tipo entero, y una división clásica si empleamos floats.</div>"
      ]
    },
    {
      "cell_type": "markdown",
      "metadata": {
        "id": "S9bj4403ltUD"
      },
      "source": [
        "#### Observemos diferentes formas de operaciones: "
      ]
    },
    {
      "cell_type": "code",
      "metadata": {
        "id": "4fbCT2PpltUE",
        "outputId": "1711debf-4652-48cc-ee7c-d61a1a7754d4"
      },
      "source": [
        "a = torch.tensor([1,2,3], dtype=torch.float)\n",
        "b = torch.tensor([4,5,6], dtype=torch.float)\n",
        "print(torch.add(a,b).sum())"
      ],
      "execution_count": null,
      "outputs": [
        {
          "output_type": "stream",
          "text": [
            "tensor(21.)\n"
          ],
          "name": "stdout"
        }
      ]
    },
    {
      "cell_type": "code",
      "metadata": {
        "id": "ct4KsMgEltUF",
        "outputId": "c5a56983-5061-4d93-e1f6-e41bc11754a8"
      },
      "source": [
        "a = torch.tensor([1,2,3], dtype=torch.float)\n",
        "b = torch.tensor([4,5,6], dtype=torch.float)\n",
        "print(sum(a + b))"
      ],
      "execution_count": null,
      "outputs": [
        {
          "output_type": "stream",
          "text": [
            "tensor(21.)\n"
          ],
          "name": "stdout"
        }
      ]
    },
    {
      "cell_type": "code",
      "metadata": {
        "id": "oFbgMs4LltUF",
        "outputId": "793310d2-62b4-4c39-8c76-6ab23ddcc1a3"
      },
      "source": [
        "a = torch.tensor([1,2,3], dtype=torch.float)\n",
        "b = torch.tensor([4,5,6], dtype=torch.float)\n",
        "print(sum(a.add_(b)))"
      ],
      "execution_count": null,
      "outputs": [
        {
          "output_type": "stream",
          "text": [
            "tensor(21.)\n"
          ],
          "name": "stdout"
        }
      ]
    },
    {
      "cell_type": "code",
      "metadata": {
        "id": "7LvVVgH6ltUG",
        "outputId": "5880a086-4e0a-4259-bab4-4ef75a655fad"
      },
      "source": [
        "a"
      ],
      "execution_count": null,
      "outputs": [
        {
          "output_type": "execute_result",
          "data": {
            "text/plain": [
              "tensor([5., 7., 9.])"
            ]
          },
          "metadata": {
            "tags": []
          },
          "execution_count": 38
        }
      ]
    },
    {
      "cell_type": "markdown",
      "metadata": {
        "id": "ToaRDphMltUG"
      },
      "source": [
        "## Producto escalar (dot product)\n",
        "El producto escalar <a href='https://en.wikipedia.org/wiki/Dot_product'>dot product</a> es la suma de los productos de los correspondientes elementos de dos tensores 1D. Si los tensores son dos vectores, el producto escalar será:<br>\n",
        "\n",
        "$\\begin{bmatrix} a & b & c \\end{bmatrix} \\;\\cdot\\; \\begin{bmatrix} d & e & f \\end{bmatrix} = ad + be + cf$\n",
        "\n",
        "Si los tensores incluyen a un tensor columna, entonces el producto escalar será igual a la suma de del resultado de las matrices multiplicadas. Por eljemplo:<br>\n",
        "$\\begin{bmatrix} a & b & c \\end{bmatrix} \\;\\cdot\\; \\begin{bmatrix} d \\\\ e \\\\ f \\end{bmatrix} = ad + be + cf$<br><br>\n",
        "El producto escalar (Dot products) puede ser expresado como <a href='https://pytorch.org/docs/stable/torch.html#torch.dot'><strong><tt>torch.dot(a,b)</tt></strong></a> o `a.dot(b)` o `b.dot(a)`"
      ]
    },
    {
      "cell_type": "code",
      "metadata": {
        "scrolled": true,
        "id": "ve9_OrXAltUH",
        "outputId": "356a192c-4f23-4a34-e2c3-43985b4277a5"
      },
      "source": [
        "a = torch.tensor([1,2,3], dtype=torch.float)\n",
        "b = torch.tensor([4,5,6], dtype=torch.float)\n",
        "print(a.mul(b)) # para referencia\n",
        "print()\n",
        "print(a.dot(b))"
      ],
      "execution_count": null,
      "outputs": [
        {
          "output_type": "stream",
          "text": [
            "tensor([ 4., 10., 18.])\n",
            "\n",
            "tensor(32.)\n"
          ],
          "name": "stdout"
        }
      ]
    },
    {
      "cell_type": "markdown",
      "metadata": {
        "id": "GB1_DSw7ltUI"
      },
      "source": [
        "<div class=\"alert alert-info\"><strong>NOTA:</strong> Hay una ligera diferencia entre <tt>torch.dot()</tt> y <tt>numpy.dot()</tt>. Mientras <tt>torch.dot()</tt> solo acepta argumentos de 1D y devuelve el producto escalar, <tt>numpy.dot()</tt> también acepta argumentos 2D y realiza una multiplicación de matrices.<br>Vemos la multiplicacin de matrices en Pytorch a continuación"
      ]
    },
    {
      "cell_type": "markdown",
      "metadata": {
        "id": "i721jrEqltUI"
      },
      "source": [
        "## Multiplicación de matrices\n",
        "La multiplicación de matrices 2D <a href='https://en.wikipedia.org/wiki/Matrix_multiplication'>(Matrix multiplication)</a> es posible cuando el número de columnas en el tensor <strong><tt>A</tt></strong> es igual el número de filas del tensor <strong><tt>B</tt></strong>. En este caso el producto del tensor  <strong><tt>A</tt></strong> de dimensiones $(x,y)$ y el tensor <strong><tt>B</tt></strong> con dimensiones $(y,z)$ resulta en un tensor de tamaño $(x,z)$\n",
        "\n",
        "![MatrixMultiplication](https://i.imgur.com/2xdyiul.jpg)\n",
        "\n",
        "\n",
        "$\\begin{bmatrix} a & b & c \\\\\n",
        "d & e & f \\end{bmatrix} \\;\\times\\; \\begin{bmatrix} m & n \\\\ p & q \\\\ r & s \\end{bmatrix} = \\begin{bmatrix} (am+bp+cr) & (an+bq+cs) \\\\\n",
        "(dm+ep+fr) & (dn+eq+fs) \\end{bmatrix}$</div></div>\n",
        "\n",
        "<div style=\"clear:both\">Image source: <a href='https://commons.wikimedia.org/wiki/File:Matrix_multiplication_diagram_2.svg'>https://commons.wikimedia.org/wiki/File:Matrix_multiplication_diagram_2.svg</a></div>\n",
        "\n",
        "La multiplicación de matrices en Pytorch puede ser calculada empleando <a href='https://pytorch.org/docs/stable/torch.html#torch.mm'><strong><tt>torch.mm(a,b)</tt></strong></a> o `a.mm(b)` *o* `a @ b`"
      ]
    },
    {
      "cell_type": "code",
      "metadata": {
        "id": "poRZgY8jltUJ",
        "outputId": "fadf7fdf-01fc-4450-91c7-39b106d5c6af"
      },
      "source": [
        "a = torch.tensor([[0,2,4],[1,3,5]], dtype=torch.float)\n",
        "b = torch.tensor([[6,7],[8,9],[10,11]], dtype=torch.float)\n",
        "\n",
        "print('a: ',a.size())\n",
        "print('b: ',b.size())\n",
        "print('a x b: ',torch.mm(a,b).size())"
      ],
      "execution_count": null,
      "outputs": [
        {
          "output_type": "stream",
          "text": [
            "a:  torch.Size([2, 3])\n",
            "b:  torch.Size([3, 2])\n",
            "a x b:  torch.Size([2, 2])\n"
          ],
          "name": "stdout"
        }
      ]
    },
    {
      "cell_type": "code",
      "metadata": {
        "id": "tWspQWHEltUJ",
        "outputId": "8aa1c3ff-c186-4a59-cfd2-d75d160e492a"
      },
      "source": [
        "print(torch.mm(a,b))"
      ],
      "execution_count": null,
      "outputs": [
        {
          "output_type": "stream",
          "text": [
            "tensor([[56., 62.],\n",
            "        [80., 89.]])\n"
          ],
          "name": "stdout"
        }
      ]
    },
    {
      "cell_type": "code",
      "metadata": {
        "id": "4igAkxOvltUJ",
        "outputId": "8912bcd3-4558-4759-8539-80dcff284e15"
      },
      "source": [
        "print(a.mm(b))"
      ],
      "execution_count": null,
      "outputs": [
        {
          "output_type": "stream",
          "text": [
            "tensor([[56., 62.],\n",
            "        [80., 89.]])\n"
          ],
          "name": "stdout"
        }
      ]
    },
    {
      "cell_type": "code",
      "metadata": {
        "id": "OlS2_i4cltUK",
        "outputId": "123f00e2-e09e-4a92-ab74-a777a3bc3b59"
      },
      "source": [
        "print(a @ b)"
      ],
      "execution_count": null,
      "outputs": [
        {
          "output_type": "stream",
          "text": [
            "tensor([[56., 62.],\n",
            "        [80., 89.]])\n"
          ],
          "name": "stdout"
        }
      ]
    },
    {
      "cell_type": "markdown",
      "metadata": {
        "id": "DJIJEJqCltUK"
      },
      "source": [
        "### Multiplicación de matrices con broadcasting\n",
        "Multiplicación de matrices que implica <a href='https://pytorch.org/docs/stable/notes/broadcasting.html#broadcasting-semantics'>broadcasting</a> se puede realizar empleando <a href='https://pytorch.org/docs/stable/torch.html#torch.matmul'><strong><tt>torch.matmul(a,b)</tt></strong></a> o `a.matmul(b)` o `a @ b`"
      ]
    },
    {
      "cell_type": "code",
      "metadata": {
        "id": "gXkhC4_NltUL",
        "outputId": "2ece1abe-6635-463f-d564-a0041dd54424"
      },
      "source": [
        "t1 = torch.randn(2, 3, 4)\n",
        "t2 = torch.randn(4, 5)\n",
        "\n",
        "print(torch.matmul(t1, t2).size())"
      ],
      "execution_count": null,
      "outputs": [
        {
          "output_type": "stream",
          "text": [
            "torch.Size([2, 3, 5])\n"
          ],
          "name": "stdout"
        }
      ]
    },
    {
      "cell_type": "markdown",
      "metadata": {
        "id": "6UsLLBJ-ltUL"
      },
      "source": [
        "Sin embargo, la misma operatión da <tt><strong>RuntimeError</strong></tt> con <tt>torch.mm()</tt>:"
      ]
    },
    {
      "cell_type": "code",
      "metadata": {
        "id": "2UKLo8FrltUL",
        "outputId": "66c5993c-ce7d-4d00-c981-b9ede7e39c93"
      },
      "source": [
        "print(torch.mm(t1, t2).size())"
      ],
      "execution_count": null,
      "outputs": [
        {
          "output_type": "error",
          "ename": "RuntimeError",
          "evalue": "matrices expected, got 3D, 2D tensors at ..\\aten\\src\\TH/generic/THTensorMath.cpp:956",
          "traceback": [
            "\u001b[1;31m---------------------------------------------------------------------------\u001b[0m",
            "\u001b[1;31mRuntimeError\u001b[0m                              Traceback (most recent call last)",
            "\u001b[1;32m<ipython-input-45-edaac219da2b>\u001b[0m in \u001b[0;36m<module>\u001b[1;34m\u001b[0m\n\u001b[1;32m----> 1\u001b[1;33m \u001b[0mprint\u001b[0m\u001b[1;33m(\u001b[0m\u001b[0mtorch\u001b[0m\u001b[1;33m.\u001b[0m\u001b[0mmm\u001b[0m\u001b[1;33m(\u001b[0m\u001b[0mt1\u001b[0m\u001b[1;33m,\u001b[0m \u001b[0mt2\u001b[0m\u001b[1;33m)\u001b[0m\u001b[1;33m.\u001b[0m\u001b[0msize\u001b[0m\u001b[1;33m(\u001b[0m\u001b[1;33m)\u001b[0m\u001b[1;33m)\u001b[0m\u001b[1;33m\u001b[0m\u001b[1;33m\u001b[0m\u001b[0m\n\u001b[0m",
            "\u001b[1;31mRuntimeError\u001b[0m: matrices expected, got 3D, 2D tensors at ..\\aten\\src\\TH/generic/THTensorMath.cpp:956"
          ]
        }
      ]
    },
    {
      "cell_type": "markdown",
      "metadata": {
        "id": "JSlSQJlbltUM"
      },
      "source": [
        "___\n",
        "# Operaciones avanzadas"
      ]
    },
    {
      "cell_type": "markdown",
      "metadata": {
        "id": "lXzB-rhEltUN"
      },
      "source": [
        "## L2 o norma Euclídea (distancia euclídea)\n",
        "Ver <a href='https://pytorch.org/docs/stable/torch.html#torch.norm'><strong><tt>torch.norm()</tt></strong></a>\n",
        "\n",
        "La <a href='https://en.wikipedia.org/wiki/Norm_(mathematics)#Euclidean_norm'>norma Euclídea</a> para el vector $x$ donde $x=(x_1,x_2,...,x_n)$ es calculada como <br>\n",
        "\n",
        "${\\displaystyle \\left\\|{\\boldsymbol {x}}\\right\\|_{2}:={\\sqrt {x_{1}^{2}+\\cdots +x_{n}^{2}}}}$\n",
        "\n",
        "\n",
        "Cuando se aplica a una matriz, <tt>torch.norm()</tt> retorna la norma matricial o <a href='https://en.wikipedia.org/wiki/Matrix_norm#Frobenius_norm'>Frobenius norm</a> por defecto."
      ]
    },
    {
      "cell_type": "code",
      "metadata": {
        "id": "To__Yz5jltUN",
        "outputId": "498346a6-a73d-418c-f0e4-521cfee136af"
      },
      "source": [
        "x = torch.tensor([2.,5.,8.,14.])\n",
        "x.norm()"
      ],
      "execution_count": null,
      "outputs": [
        {
          "output_type": "execute_result",
          "data": {
            "text/plain": [
              "tensor(17.)"
            ]
          },
          "metadata": {
            "tags": []
          },
          "execution_count": 46
        }
      ]
    },
    {
      "cell_type": "markdown",
      "metadata": {
        "id": "vvD50Nf_ltUN"
      },
      "source": [
        "## Número de elementos\n",
        "Ver <a href='https://pytorch.org/docs/stable/torch.html#torch.numel'><strong><tt>torch.numel()</tt></strong></a>\n",
        "\n",
        "Retorna el numero de elementos en un tensor."
      ]
    },
    {
      "cell_type": "code",
      "metadata": {
        "id": "hls-47JfltUO",
        "outputId": "d452bd20-b7f1-4355-899a-866d9e29e646"
      },
      "source": [
        "x = torch.ones(3,7)\n",
        "x.numel()"
      ],
      "execution_count": null,
      "outputs": [
        {
          "output_type": "execute_result",
          "data": {
            "text/plain": [
              "21"
            ]
          },
          "metadata": {
            "tags": []
          },
          "execution_count": 47
        }
      ]
    },
    {
      "cell_type": "markdown",
      "metadata": {
        "id": "Y-Wbp_VAltUO"
      },
      "source": [
        "Esto es espcialmente útil en ciertos cálculos como el error cuadrático medio ($Mean Squared Error$):<br>\n",
        "<tt>\n",
        "def mse(t1, t2):<br>\n",
        "&nbsp;&nbsp;&nbsp;&nbsp;diff = t1 - t2<br>\n",
        "    &nbsp;&nbsp;&nbsp;&nbsp;return torch.sum(diff * diff) / diff<strong>.numel()</strong></tt>"
      ]
    },
    {
      "cell_type": "markdown",
      "metadata": {
        "id": "6wa65Vr1B85K"
      },
      "source": [
        ""
      ]
    },
    {
      "cell_type": "markdown",
      "metadata": {
        "id": "PJnSCwuj_GE6"
      },
      "source": [
        "## Gradientes con tensores\n",
        "\n",
        "Podemos combinar tensores en las operaciones artiméticas habituales. Veamos un ejemplo:"
      ]
    },
    {
      "cell_type": "code",
      "metadata": {
        "id": "w1ip8DUi_GE6",
        "colab": {
          "base_uri": "https://localhost:8080/"
        },
        "outputId": "4fda771c-a2d5-41c2-9bc7-001dd088638d"
      },
      "source": [
        "# Creamos tensores. Atención a los argumentos...\n",
        "x = torch.tensor(3.)\n",
        "w = torch.tensor(4., requires_grad=True)\n",
        "b = torch.tensor(5., requires_grad=True)\n",
        "x, w, b"
      ],
      "execution_count": null,
      "outputs": [
        {
          "output_type": "execute_result",
          "data": {
            "text/plain": [
              "(tensor(3.), tensor(4., requires_grad=True), tensor(5., requires_grad=True))"
            ]
          },
          "metadata": {
            "tags": []
          },
          "execution_count": 3
        }
      ]
    },
    {
      "cell_type": "markdown",
      "metadata": {
        "id": "sY8ds-wN_GE7"
      },
      "source": [
        "Hemos creado tres tensores: `x`, `w`, and `b`, todos ellos números. `w` y `b` tienen un parámetro adicional `requires_grad` puesto a `True`. Veremos lo que hace en las siguientes celdas\n",
        "\n",
        "Vamos a crear un tensor `y` que combina dichos tensores."
      ]
    },
    {
      "cell_type": "code",
      "metadata": {
        "id": "yCCamx4k_GE7",
        "colab": {
          "base_uri": "https://localhost:8080/"
        },
        "outputId": "2e68f1c9-d28e-45e3-b435-f800dd1784d3"
      },
      "source": [
        "y = w * x + b\n",
        "y"
      ],
      "execution_count": null,
      "outputs": [
        {
          "output_type": "execute_result",
          "data": {
            "text/plain": [
              "tensor(17., grad_fn=<AddBackward0>)"
            ]
          },
          "metadata": {
            "tags": []
          },
          "execution_count": 4
        }
      ]
    },
    {
      "cell_type": "markdown",
      "metadata": {
        "id": "AD2qOIi-_GE7"
      },
      "source": [
        "Como es de esperar, `y` es un tensor con el valor `3 * 4 + 5 = 17`. \n",
        "Lo que hace a Pytorch único es que **podemos calcular automáticamente** la derivada de `y` w.r.t. (con respecto a) los tensores que tienen configurado `requires_grad` a `True` en este caso w and b. Esta funcionalidad de PyTorch se llama _autograd_ (automatic gradients).\n",
        "\n",
        "Para calcular las derivadas, tenemos que invocar el método `.backward` en el resultado `y`."
      ]
    },
    {
      "cell_type": "code",
      "metadata": {
        "id": "zZYQstan_GE8"
      },
      "source": [
        "# Calcular derivadas\n",
        "y.backward()"
      ],
      "execution_count": null,
      "outputs": []
    },
    {
      "cell_type": "markdown",
      "metadata": {
        "id": "i4v7zusU_GE8"
      },
      "source": [
        "Las derivadas de `y` con respecto a los tensores de entrada estan almacenadas en el atributo`.grad` de los respectivos tensores."
      ]
    },
    {
      "cell_type": "code",
      "metadata": {
        "id": "xe4VBmk4_GE9",
        "colab": {
          "base_uri": "https://localhost:8080/"
        },
        "outputId": "be605b6c-1456-432d-ce8e-d5923cb84884"
      },
      "source": [
        "# Mostrar gradientes\n",
        "print('dy/dx:', x.grad)\n",
        "print('dy/dw:', w.grad)\n",
        "print('dy/db:', b.grad)"
      ],
      "execution_count": null,
      "outputs": [
        {
          "output_type": "stream",
          "text": [
            "dy/dx: None\n",
            "dy/dw: tensor(3.)\n",
            "dy/db: tensor(1.)\n"
          ],
          "name": "stdout"
        }
      ]
    },
    {
      "cell_type": "markdown",
      "metadata": {
        "id": "bsxsE7JP_GE9"
      },
      "source": [
        "Como era de esperar, `dy/dw` tiene el mismo valor que `x`, i.e., `3`, y `dy/db` tiene el valor `1`. Observa que `x.grad` es `None` porque `x` no tiene `requires_grad` puesto a `True`. <br> \n",
        "El nombre  \"grad\" en `w.grad` es una abreviatura para _gradient_, que es otra denominación de la derivada. El término _gradient_ es principalmente usado cuaddo se trabaja con vectores y matrices y es especialmente útil en la computación de redes neuronales. "
      ]
    },
    {
      "cell_type": "markdown",
      "metadata": {
        "id": "n2QOf-HEltUP"
      },
      "source": [
        "## Fin del Notebook"
      ]
    },
    {
      "cell_type": "markdown",
      "metadata": {
        "id": "BZDr1zYmBkRV"
      },
      "source": [
        "Referencias y modelos empleados para el Notebook: \r\n",
        "\r\n",
        "*   Documentación de [Pytorch](https://pytorch.org/docs/stable/index.html) \r\n",
        "*   [PyTorch Tutorial for Deep Learning Researchers](https://github.com/yunjey/pytorch-tutorial) by Yunjey Choi\r\n",
        "*   [FastAI](https://www.fast.ai/) development notebooks by Jeremy Howard.\r\n",
        "*   Documentación y cursos en [Pierian Data](https://www.pieriandata.com/)\r\n"
      ]
    }
  ]
}