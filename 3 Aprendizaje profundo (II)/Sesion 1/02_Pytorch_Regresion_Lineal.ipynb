{
  "nbformat": 4,
  "nbformat_minor": 0,
  "metadata": {
    "kernelspec": {
      "display_name": "Python 3",
      "language": "python",
      "name": "python3"
    },
    "language_info": {
      "codemirror_mode": {
        "name": "ipython",
        "version": 3
      },
      "file_extension": ".py",
      "mimetype": "text/x-python",
      "name": "python",
      "nbconvert_exporter": "python",
      "pygments_lexer": "ipython3",
      "version": "3.8.5"
    },
    "colab": {
      "name": "02-Pytorch-Regresion_Lineal.ipynb",
      "provenance": [],
      "collapsed_sections": [
        "8RQ6rbisrLy0",
        "CP0-TRTLrLy2",
        "SwGf-LYnrLy8",
        "0KmMqA8IrLzA",
        "EI0qiKAFrLzD",
        "3K1ZnLVvrLzE",
        "vBXlTCArrLzH",
        "1KWQ_1_rrLzL",
        "4nSexto8rLzR",
        "n2QOf-HEltUP"
      ],
      "include_colab_link": true
    }
  },
  "cells": [
    {
      "cell_type": "markdown",
      "metadata": {
        "id": "view-in-github",
        "colab_type": "text"
      },
      "source": [
        "<a href=\"https://colab.research.google.com/github/vicentcamison/idal_ia3/blob/main/3%20Aprendizaje%20profundo%20(II)/Sesion%201/02_Pytorch_Regresion_Lineal.ipynb\" target=\"_parent\"><img src=\"https://colab.research.google.com/assets/colab-badge.svg\" alt=\"Open In Colab\"/></a>"
      ]
    },
    {
      "cell_type": "markdown",
      "metadata": {
        "id": "ghPSdPkCrLyk"
      },
      "source": [
        "![IDAL](https://i.imgur.com/tIKXIG1.jpg)  \n",
        "\n",
        "#**Máster en Inteligencia Artificial Avanzada y Aplicada:  IA^3**\n",
        "---\n"
      ]
    },
    {
      "cell_type": "markdown",
      "metadata": {
        "id": "9WOIeW_unJDd"
      },
      "source": [
        "#<center>**Regresion Lineal y descenso de gradiente con PyTorch**</center>"
      ]
    },
    {
      "cell_type": "markdown",
      "metadata": {
        "id": "uriFNBrirLyw"
      },
      "source": [
        "Este notebook cubre los siguientes aspectos:\n",
        "\n",
        "- Regresion lineal y ajuste empleando descenso de gradiente\n",
        "- Implementación de modelos de este tipo empleando tensores Pytorch\n",
        "- Entrenamiento del modelo de regresion lineal usando el descenso de gradiente\n",
        "- Implementación de ambos empleando las clases y métodos específicamente preparados en Pytorch"
      ]
    },
    {
      "cell_type": "markdown",
      "metadata": {
        "id": "8RQ6rbisrLy0"
      },
      "source": [
        "## Regresión lineal\n",
        "\n",
        "En este notebook vamos a repasar una de las técnicas básicas y fundacionales del aprendizaje máquina y de las redes neuronales: la *regresión lineal*. \n",
        "Vamos a crear un modelo que prediga la cosecha a recoger de manzanas y naranjas (*target variables*) a partir de las observaciones de temperatura, lluvia y humedad (*input variables o features*) en una región. Estos son los datos de entrenamiento:\n",
        "\n",
        "![linear-regression-training-data](https://i.imgur.com/6Ujttb4.png)\n",
        "\n",
        "En un modelo de regresión lineal cada variable dependiente o *target* es estimada como la suma ponderada de las variables de entrada, más un valor constante de ajuste, conocido como *bias* :\n",
        "\n",
        "```\n",
        "yield_apple  = w11 * temp + w12 * rainfall + w13 * humidity + b1\n",
        "yield_orange = w21 * temp + w22 * rainfall + w23 * humidity + b2\n",
        "```\n",
        "\n",
        "Visualmente esto significa que la cosecha de manzanas es una función lineal *o planar*  de la temperatura, la lluvía y la humedad:\n",
        "\n",
        "![linear-regression-graph](https://i.imgur.com/4DJ9f8X.png)"
      ]
    },
    {
      "cell_type": "markdown",
      "metadata": {
        "id": "qu9QdXVjrLy1"
      },
      "source": [
        "La parte de aprendizaje en una función de regresión lineal consiste en obtener un conjunto de pesos o coeficientes `w11, w12,... w23, b1 y b2` empleando los datos de entrenamiento, con la finalidad de poder hacer predicciones para nuevos datos. \n",
        "Los pesos *aprendidos* serán empleados para predecir los valores de cosecha de manzanas y naranjas en una región empleando los datos de temperatura, lluvia y humedad de esa región. . \n",
        "\n",
        "El entrenamiento que vamos a realizar consiste en ir ajustando los pesos ligeramente muchas veces para ir obteniendo mejores predicciones a partir de los valores resultantes conocidos y empleando una técnica de optimización ampliamente usada y conocida llamada *descenso de gradiente*.\n",
        "\n",
        "Empezamos por importar Numpy y Pytorch."
      ]
    },
    {
      "cell_type": "code",
      "metadata": {
        "id": "sOgTUnE1rLy1"
      },
      "source": [
        "import numpy as np\n",
        "import torch"
      ],
      "execution_count": null,
      "outputs": []
    },
    {
      "cell_type": "markdown",
      "metadata": {
        "id": "CP0-TRTLrLy2"
      },
      "source": [
        "## Datos de entrenamiento\n",
        "\n",
        "Vamos a emplear para representar los datos de entrenamiento dos matrices: `inputs` y `targets`, cada fila será una observación y cada coluumna una variable\n",
        "."
      ]
    },
    {
      "cell_type": "code",
      "metadata": {
        "id": "3ZL_bN93rLy2"
      },
      "source": [
        "# Input (temp, rainfall, humidity)\n",
        "inputs = np.array([[73, 67, 43], \n",
        "                   [91, 88, 64], \n",
        "                   [87, 134, 58], \n",
        "                   [102, 43, 37], \n",
        "                   [69, 96, 70]], dtype='float32')"
      ],
      "execution_count": null,
      "outputs": []
    },
    {
      "cell_type": "code",
      "metadata": {
        "id": "MWPWDvZwrLy3"
      },
      "source": [
        "# Targets (apples, oranges)\n",
        "targets = np.array([[56, 70], \n",
        "                    [81, 101], \n",
        "                    [119, 133], \n",
        "                    [22, 37], \n",
        "                    [103, 119]], dtype='float32')"
      ],
      "execution_count": null,
      "outputs": []
    },
    {
      "cell_type": "markdown",
      "metadata": {
        "id": "lH_7f7IlrLy4"
      },
      "source": [
        "Separamos las entradas y los targets porque hemos de trabajar separadamente con cada una de ellas. Por otro lado, se han creado como arrays Numpy porque es la forma habitual en que los vamos a encontrar: importación de los datos CSV como arrays, prepararlos y finalmente convertirlos a tensores de Pytorch.\n",
        "\n",
        "Los convertimos a tensores PyTorch."
      ]
    },
    {
      "cell_type": "code",
      "metadata": {
        "id": "Hi62YPcXrLy5",
        "colab": {
          "base_uri": "https://localhost:8080/"
        },
        "outputId": "217c7298-9903-410d-f28f-631229d92c1b"
      },
      "source": [
        "inputs = torch.from_numpy(inputs)\n",
        "targets = torch.from_numpy(targets)\n",
        "print(inputs)\n",
        "print(targets)"
      ],
      "execution_count": null,
      "outputs": [
        {
          "output_type": "stream",
          "text": [
            "tensor([[ 73.,  67.,  43.],\n",
            "        [ 91.,  88.,  64.],\n",
            "        [ 87., 134.,  58.],\n",
            "        [102.,  43.,  37.],\n",
            "        [ 69.,  96.,  70.]])\n",
            "tensor([[ 56.,  70.],\n",
            "        [ 81., 101.],\n",
            "        [119., 133.],\n",
            "        [ 22.,  37.],\n",
            "        [103., 119.]])\n"
          ],
          "name": "stdout"
        }
      ]
    },
    {
      "cell_type": "markdown",
      "metadata": {
        "id": "SwGf-LYnrLy8"
      },
      "source": [
        "## Modelo de regresion lineal desde cero\n",
        "\n",
        "Los pesos y ajustes (`w11, w12,... w23, b1 y b2`) son representados como matrices, que en un primer momento contienen valores iniciales aleatorios. \n",
        "can also be represented as matrices, initialized as random values. \n",
        "La primera fila de `w` y el primer elemento de `b` son los coeficientes necesarios para calcular la primera variable, i.e., la cosecha de manzanas, y de forma similar la segunda para las naranjas."
      ]
    },
    {
      "cell_type": "code",
      "metadata": {
        "id": "z0-el_zmrLy9",
        "colab": {
          "base_uri": "https://localhost:8080/"
        },
        "outputId": "267981cd-89be-45d2-ca7f-3ebf5b42924e"
      },
      "source": [
        "# Weights and biases\n",
        "w = torch.randn(2, 3, requires_grad=True)\n",
        "b = torch.randn(2, requires_grad=True)\n",
        "print(w)\n",
        "print(b)"
      ],
      "execution_count": null,
      "outputs": [
        {
          "output_type": "stream",
          "text": [
            "tensor([[ 0.9166,  0.6997,  0.1608],\n",
            "        [ 0.1950,  1.1911, -0.1897]], requires_grad=True)\n",
            "tensor([-0.6453, -0.4256], requires_grad=True)\n"
          ],
          "name": "stdout"
        }
      ]
    },
    {
      "cell_type": "markdown",
      "metadata": {
        "id": "9CDG649GrLy-"
      },
      "source": [
        "`torch.randn` crea un tensor con las dimensiones dadas con elementos tomados de forma aleatoria de una [distribución normal](https://en.wikipedia.org/wiki/Normal_distribution) con media 0 y desviación estandard 1.\n",
        "\n",
        "Por tanto, nuestro *modelo* es real y simplemente una función que realiza una multiplicación de matrices entre las entradas `inputs` y los pesos `w` (transpuestos) y añade el factor bias `b` (replicado para cada observación, diferente para cada target).\n",
        "\n",
        "![matrix-mult](https://i.imgur.com/WGXLFvA.png)\n",
        "\n",
        "Empelando las operaciones disponibles en Pytorch, podemos definir el modelo como sigue:"
      ]
    },
    {
      "cell_type": "code",
      "metadata": {
        "id": "6ZnQB-BBrLy-"
      },
      "source": [
        "def model(x):\n",
        "    return x @ w.t() + b"
      ],
      "execution_count": null,
      "outputs": []
    },
    {
      "cell_type": "markdown",
      "metadata": {
        "id": "s7Ym5lihrLy-"
      },
      "source": [
        "`@` representa la multuiplicación de matrices en PyTorch, y el método `.t` devuelve un tensor transpuesto.\n",
        "\n",
        "La matriz obtenida al emplear los datos de entrada con los coeficientes del modelo es un conjunto de predicciones para las variables objetivo *targets*."
      ]
    },
    {
      "cell_type": "code",
      "metadata": {
        "id": "pg7Ymw0PrLy_",
        "colab": {
          "base_uri": "https://localhost:8080/"
        },
        "outputId": "9aba37c2-ab91-4b7c-c54c-9d9b18bdf6bc"
      },
      "source": [
        "# Genero predicciones (iniciales)\n",
        "preds = model(inputs)\n",
        "print(preds)"
      ],
      "execution_count": null,
      "outputs": [
        {
          "output_type": "stream",
          "text": [
            "tensor([[120.0627,  85.4586],\n",
            "        [154.6328, 109.9984],\n",
            "        [182.1895, 165.1476],\n",
            "        [128.8848,  63.6666],\n",
            "        [141.0309, 114.0980]], grad_fn=<AddBackward0>)\n"
          ],
          "name": "stdout"
        }
      ]
    },
    {
      "cell_type": "code",
      "metadata": {
        "id": "FkH2oYmmrLzA",
        "colab": {
          "base_uri": "https://localhost:8080/"
        },
        "outputId": "832142e6-7f04-43a7-8988-ee2d92ead60c"
      },
      "source": [
        "# Comparamos con los targets reales\n",
        "print(targets)"
      ],
      "execution_count": null,
      "outputs": [
        {
          "output_type": "stream",
          "text": [
            "tensor([[ 56.,  70.],\n",
            "        [ 81., 101.],\n",
            "        [119., 133.],\n",
            "        [ 22.,  37.],\n",
            "        [103., 119.]])\n"
          ],
          "name": "stdout"
        }
      ]
    },
    {
      "cell_type": "markdown",
      "metadata": {
        "id": "OZGtGJcjrLzA"
      },
      "source": [
        "Podemos ver una gran diferencia entre las predicciones obtenidas inicialmente y los valores reales. Esto ocurre porque los pesos y bias empleados han sido inicializados aleatoriamente y no podemos esperar que esos valores se correspondan y funcionen bien directamente. Un modelo inicializado aleatoriamente no está preparado para funcionar. Se trata simplemente de un inicio.\r\n"
      ]
    },
    {
      "cell_type": "markdown",
      "metadata": {
        "id": "0KmMqA8IrLzA"
      },
      "source": [
        "## Función de pérdida o de coste\n",
        "\n",
        "Antes de mejorar el modelo, necesitamos evaluar como de bien está funcionando. Para ello comparamos los resultados obtenidos con los resultados que se deberían obtener. En este caso vamos a emplear como función evluadora el error cuadrático medio o **mean squared error** (MSE). \n",
        "Desglosando el pseeudo código para calcularlo sería algo así:\n",
        "* Calculamos la diferencia entre las dos matrices(`preds` y `targets`).\n",
        "* Elevamos al cuadrado todos los elementos y de esa forma evitamos valores negativos. \n",
        "* Calculamos la media de los elementos en una matriz resultante.\n",
        "\n",
        "El resultado de este cálculo es un único número (MSE)."
      ]
    },
    {
      "cell_type": "code",
      "metadata": {
        "id": "F0fTNoWxrLzB"
      },
      "source": [
        "# MSE \n",
        "def mse(t1, t2):\n",
        "    diff = t1 - t2\n",
        "    return torch.sum(diff * diff) / diff.numel()"
      ],
      "execution_count": null,
      "outputs": []
    },
    {
      "cell_type": "markdown",
      "metadata": {
        "id": "D95gt0_CrLzB"
      },
      "source": [
        "`torch.sum` retorna la suma de todos los elementos de un tensor. El método `.numel` retorna el número de elementos de un tensor. \r\n",
        "\r\n",
        "Calculamos el MSE para las predicciones que hemos obtenidos con nuestro modelo. "
      ]
    },
    {
      "cell_type": "code",
      "metadata": {
        "id": "63YeUzDTrLzC",
        "colab": {
          "base_uri": "https://localhost:8080/"
        },
        "outputId": "c3940492-ab92-4bb8-90b3-8b947aa63d68"
      },
      "source": [
        "loss = mse(preds, targets)\n",
        "print(loss)"
      ],
      "execution_count": null,
      "outputs": [
        {
          "output_type": "stream",
          "text": [
            "tensor(2847.7983, grad_fn=<DivBackward0>)\n"
          ],
          "name": "stdout"
        }
      ]
    },
    {
      "cell_type": "markdown",
      "metadata": {
        "id": "cprvF2KhrLzC"
      },
      "source": [
        "Así es como podemos interpretar el resultado: *de media, cada elemento en la predicción difiere de su valor correcto la raíz cuadrada del error obtenido*.\r\n",
        "Y eso es bastante malo, dado que los resultados que pretendemos predecir están en un rango de entre 50-200. El resultado se suele llamar *loss* porque implica la pérdida que introduce el modelo entre lo que obtenemos y lo que deberíamos obtener. Cuanto **menor es la pérdida** o error, **mejor es el modelo**. "
      ]
    },
    {
      "cell_type": "markdown",
      "metadata": {
        "id": "EI0qiKAFrLzD"
      },
      "source": [
        "## Cálculo de gradientes\n",
        "\n",
        "Con Pytorch podemos calcular automáticamente los gradientes o derivadas del error con respecto de los pesos y del bias, porque hemos definido el parámetro `requires_grad` a `True`. Vamos a ver lo útil que resulta esta funcionalidad."
      ]
    },
    {
      "cell_type": "code",
      "metadata": {
        "id": "beq8p1gTrLzD"
      },
      "source": [
        "# Calculamos gradientes\n",
        "loss.backward()"
      ],
      "execution_count": null,
      "outputs": []
    },
    {
      "cell_type": "markdown",
      "metadata": {
        "id": "G7BcKtcUrLzD"
      },
      "source": [
        "Los gradientes están ahora guardados en la propiedad `.grad` de cada tensor. Nótese que la derivada del error w.r.t. a una matriz de pesos es una matriz también de las mismas dimensiones."
      ]
    },
    {
      "cell_type": "code",
      "metadata": {
        "id": "-0ZMorGtrLzE",
        "colab": {
          "base_uri": "https://localhost:8080/"
        },
        "outputId": "396c101b-a07c-454e-da05-8ac084cae06e"
      },
      "source": [
        "# Gradients for weights\n",
        "print(w)\n",
        "print(w.grad)"
      ],
      "execution_count": null,
      "outputs": [
        {
          "output_type": "stream",
          "text": [
            "tensor([[ 0.9166,  0.6997,  0.1608],\n",
            "        [ 0.1950,  1.1911, -0.1897]], requires_grad=True)\n",
            "tensor([[6080.2061, 5497.2588, 3549.8174],\n",
            "        [1425.1848, 1362.2859,  749.7397]])\n"
          ],
          "name": "stdout"
        }
      ]
    },
    {
      "cell_type": "markdown",
      "metadata": {
        "id": "3K1ZnLVvrLzE"
      },
      "source": [
        "## Ajuste de pesos y bias para reducir el error\n",
        "\n",
        "La pérdida es una [función cuadrática](https://en.wikipedia.org/wiki/Quadratic_function) de nuestros pesos y biases,  y nuestro objetivo es encontrar el conjunto de pesos donde la pérdida sea la más baja. Si dibujamos un gráfico de la pérdida con respecto a cualquiera de los pesos y bias, tendría el aspecto de la figura que se muestra abajo. Un importante detalle sobre cálculo es que el gradiente indica precisamente el ratio de cambio de la pérdida, es decir, la [pendiente](https://en.wikipedia.org/wiki/Slope) con respecto a los pesos y biases.\n",
        "\n",
        "Si el gradiente es **positivo**\n",
        "\n",
        "* **incrementar** el peso de esa variable ligeramente **incrementará** el error (*loss*) \n",
        "* **reducir** el peso ligeramente **reducirá** el error.\n",
        "\n",
        "![postive-gradient](https://i.imgur.com/WLzJ4xP.png)\n",
        "\n",
        "Si el gradiente es **negativo**:\n",
        "\n",
        "* **incrementar** el peso de esa variable ligeramente **reducirá** el error (*loss*) \n",
        "* **reducir** el peso ligeramente **aumentará** el error.\n",
        "\n",
        "![negative=gradient](https://i.imgur.com/dvG2fxU.png)\n",
        "\n",
        "El incremento o reducción del error cambiando el peso de un elemento es proporcional al gradiente del error con respecto a dicho elemento (*variable*). \n",
        "Esta observación supone la base del algoritmo de optimización por *descenso de gradiente* que será el que emplearemos para mejorar nuestro modelo (por  _descenso_ a lo largo del _gradiente_).\n",
        "\n",
        "Dadas las relaciones descritas entre incremento/reducción del peso e incremento reducción del error, la forma en que podemos reducirlo consistirá en **restar** al peso de cada variable una pequeña cantidad proporcional al gradiente con respecto a dicha variable. "
      ]
    },
    {
      "cell_type": "code",
      "metadata": {
        "id": "afl_XeJBrLzF",
        "colab": {
          "base_uri": "https://localhost:8080/"
        },
        "outputId": "c4f7fa6f-47b6-47d2-de07-a783d07500e2"
      },
      "source": [
        "w\n",
        "w.grad"
      ],
      "execution_count": null,
      "outputs": [
        {
          "output_type": "execute_result",
          "data": {
            "text/plain": [
              "tensor([[6080.2061, 5497.2588, 3549.8174],\n",
              "        [1425.1848, 1362.2859,  749.7397]])"
            ]
          },
          "metadata": {
            "tags": []
          },
          "execution_count": 149
        }
      ]
    },
    {
      "cell_type": "code",
      "metadata": {
        "id": "rBNco83TrLzF"
      },
      "source": [
        "# Actualizamos los pesos y bias\n",
        "with torch.no_grad():\n",
        "    w -= w.grad * 1e-5\n",
        "    b -= b.grad * 1e-5"
      ],
      "execution_count": null,
      "outputs": []
    },
    {
      "cell_type": "markdown",
      "metadata": {
        "id": "REY7fBs3rLzG"
      },
      "source": [
        "Como se puede observar, hemos multiplicado los gradientes obteenidos por un número muy pequeño (`10^-5` en este caso). Esto es para asegurar que no modificamos los pesos en cantidades muy grandes. Queremos ir tomando pequeños pasos hacia la dirección de descenso siempre, no un gran salto que nos pueda desviar. Este número es lo que llamamos el ratio de aprendizaje *learning rate* del algoritmo.\n",
        "\n",
        "Podemos usar `torch.no_grad` para indicar a PyTorch que no queremos que internamente vaya calculando gradientescuando actualizamos los pesos, ya que no es necesario y únicamente provocamos más carga computacional. "
      ]
    },
    {
      "cell_type": "code",
      "metadata": {
        "id": "-C_24VbFrLzG",
        "colab": {
          "base_uri": "https://localhost:8080/"
        },
        "outputId": "905c4c6b-93db-4521-811e-177a3901464d"
      },
      "source": [
        "# Verificamos que la pérdida se ha reducido (probablemente muy poco)\n",
        "loss = mse(preds, targets)\n",
        "print(loss)"
      ],
      "execution_count": null,
      "outputs": [
        {
          "output_type": "stream",
          "text": [
            "tensor(2847.7983, grad_fn=<DivBackward0>)\n"
          ],
          "name": "stdout"
        }
      ]
    },
    {
      "cell_type": "markdown",
      "metadata": {
        "id": "cVnMi-FrrLzG"
      },
      "source": [
        "A continuación, será necesario resetear los gradientes a cero empleando el   método `.zero_()`. Necesitamos hacer esto porque PyTorch acumula los gradientes. Si no lo hacemos, la próxima vez que invocamos el método `.backward` en la función de pérdida, los nuevos valores de gradientes se sumarían a los existentes, lo que llevaría a resultados incorrectos e inesperados."
      ]
    },
    {
      "cell_type": "code",
      "metadata": {
        "id": "_oXTtLdlrLzH",
        "colab": {
          "base_uri": "https://localhost:8080/"
        },
        "outputId": "93ea96d6-978e-427d-cced-5e4001ca1406"
      },
      "source": [
        "w.grad.zero_()\n",
        "b.grad.zero_()\n",
        "print(w.grad)\n",
        "print(b.grad)"
      ],
      "execution_count": null,
      "outputs": [
        {
          "output_type": "stream",
          "text": [
            "tensor([[0., 0., 0.],\n",
            "        [0., 0., 0.]])\n",
            "tensor([0., 0.])\n"
          ],
          "name": "stdout"
        }
      ]
    },
    {
      "cell_type": "markdown",
      "metadata": {
        "id": "vBXlTCArrLzH"
      },
      "source": [
        "## Entrenamiento del modelo usando descenso de gradiente\n",
        "\n",
        "Como hemos visto, podemos reducir la pérdida y mejorar nuestro modelo empleando la técnica de descenso de gradiente. Así pues, podemos _entrenar_ el modelo siguiendo los siguientes pasos: \n",
        "\n",
        "1. Generamos predicciones\n",
        "\n",
        "2. Calculamos el error/pérdida\n",
        "\n",
        "3. Calculamos los gradientes c.r.a. los pesos y biases\n",
        "\n",
        "4. Ajustamos los pesos restando una pequeña cantidad proporcianal a los gradientes obtenidos\n",
        "\n",
        "5. Reseteamos los gradientes a cero para repetir la operación\n",
        "\n",
        "Vamos a implementar esto paso a paso."
      ]
    },
    {
      "cell_type": "code",
      "metadata": {
        "id": "betZe18grLzI",
        "colab": {
          "base_uri": "https://localhost:8080/"
        },
        "outputId": "408962d4-8663-47a9-aa70-05209c695b01"
      },
      "source": [
        "# Generamos predicciones\n",
        "preds = model(inputs)\n",
        "print(preds)"
      ],
      "execution_count": null,
      "outputs": [
        {
          "output_type": "stream",
          "text": [
            "tensor([[110.4138,  83.1829],\n",
            "        [141.9897, 107.0227],\n",
            "        [167.4738, 161.6472],\n",
            "        [119.0050,  61.3496],\n",
            "        [129.0726, 111.2818]], grad_fn=<AddBackward0>)\n"
          ],
          "name": "stdout"
        }
      ]
    },
    {
      "cell_type": "code",
      "metadata": {
        "id": "uCScDDI9rLzI",
        "colab": {
          "base_uri": "https://localhost:8080/"
        },
        "outputId": "780f9670-e4d1-44e6-81c5-11194d23f311"
      },
      "source": [
        "# Calculamos el error/pérdida\n",
        "loss = mse(preds, targets)\n",
        "print(loss)"
      ],
      "execution_count": null,
      "outputs": [
        {
          "output_type": "stream",
          "text": [
            "tensor(2080.3271, grad_fn=<DivBackward0>)\n"
          ],
          "name": "stdout"
        }
      ]
    },
    {
      "cell_type": "code",
      "metadata": {
        "id": "O5rA2H86rLzI",
        "colab": {
          "base_uri": "https://localhost:8080/"
        },
        "outputId": "43a09304-8ec6-4d66-ea94-1fc6315b566e"
      },
      "source": [
        "# Calculamos los gradientes\n",
        "loss.backward()\n",
        "print(w.grad)\n",
        "print(b.grad)"
      ],
      "execution_count": null,
      "outputs": [
        {
          "output_type": "stream",
          "text": [
            "tensor([[5086.6040, 4436.5000, 2893.7773],\n",
            "        [1190.7651, 1111.6128,  594.9033]])\n",
            "tensor([57.3910, 12.8968])\n"
          ],
          "name": "stdout"
        }
      ]
    },
    {
      "cell_type": "code",
      "metadata": {
        "id": "ekrB7z46rLzJ"
      },
      "source": [
        "# Ajustamos los pesos\n",
        "with torch.no_grad():\n",
        "    w -= w.grad * 1e-5\n",
        "    b -= b.grad * 1e-5\n",
        "    w.grad.zero_()\n",
        "    b.grad.zero_()"
      ],
      "execution_count": null,
      "outputs": []
    },
    {
      "cell_type": "markdown",
      "metadata": {
        "id": "RlsdvI9brLzK"
      },
      "source": [
        "Veamos los pesos y biases."
      ]
    },
    {
      "cell_type": "code",
      "metadata": {
        "id": "KR2m6382rLzK",
        "colab": {
          "base_uri": "https://localhost:8080/"
        },
        "outputId": "23295d4b-4bde-481c-d279-0f7c13ba1f12"
      },
      "source": [
        "print(w)\n",
        "print(b)"
      ],
      "execution_count": null,
      "outputs": [
        {
          "output_type": "stream",
          "text": [
            "tensor([[ 0.8049,  0.6004,  0.0964],\n",
            "        [ 0.1689,  1.1664, -0.2032]], requires_grad=True)\n",
            "tensor([-0.6465, -0.4259], requires_grad=True)\n"
          ],
          "name": "stdout"
        }
      ]
    },
    {
      "cell_type": "markdown",
      "metadata": {
        "id": "xNfv2tnnrLzK"
      },
      "source": [
        "Con los nuevos pesos y biases, el modelo tiene un error menor."
      ]
    },
    {
      "cell_type": "code",
      "metadata": {
        "id": "W_9o6GIrrLzL",
        "colab": {
          "base_uri": "https://localhost:8080/"
        },
        "outputId": "05884255-c136-4879-96c1-8bd0aff3fb64"
      },
      "source": [
        "# Calculamos la pérdida\n",
        "preds = model(inputs)\n",
        "loss = mse(preds, targets)\n",
        "print(loss)"
      ],
      "execution_count": null,
      "outputs": [
        {
          "output_type": "stream",
          "text": [
            "tensor(1561.4432, grad_fn=<DivBackward0>)\n"
          ],
          "name": "stdout"
        }
      ]
    },
    {
      "cell_type": "markdown",
      "metadata": {
        "id": "O2ZUarC0rLzL"
      },
      "source": [
        "Podemos observar que tenemos una mejora significativa, ajustando los pesos y biases segun esta técnica."
      ]
    },
    {
      "cell_type": "markdown",
      "metadata": {
        "id": "1KWQ_1_rrLzL"
      },
      "source": [
        "## Entrenar durante múltiples ciclos/épocas (epochs)\n",
        "\n",
        "Para reducir el error aún más, podemos repetir el proceso de ajustar pesos y biases usando los gradientes múltiples veces. Cada iteración se llama ciclo o época (_epoch_). Vamos a entrenar el modelo 100 epochs."
      ]
    },
    {
      "cell_type": "code",
      "metadata": {
        "id": "XEFGWWRBrLzM"
      },
      "source": [
        "for i in range(100):\n",
        "    preds = model(inputs)\n",
        "    loss = mse(preds, targets)\n",
        "    loss.backward()\n",
        "    with torch.no_grad():\n",
        "        w -= w.grad * 1e-5\n",
        "        b -= b.grad * 1e-5\n",
        "        w.grad.zero_()\n",
        "        b.grad.zero_()"
      ],
      "execution_count": null,
      "outputs": []
    },
    {
      "cell_type": "code",
      "metadata": {
        "id": "WEhIdxZZrLzM",
        "colab": {
          "base_uri": "https://localhost:8080/"
        },
        "outputId": "4e451408-e7fb-42db-848a-22fec179eaf7"
      },
      "source": [
        "# Calculamos el nuevo error\n",
        "preds = model(inputs)\n",
        "loss = mse(preds, targets)\n",
        "print(loss)"
      ],
      "execution_count": null,
      "outputs": [
        {
          "output_type": "stream",
          "text": [
            "tensor(193.7239, grad_fn=<DivBackward0>)\n"
          ],
          "name": "stdout"
        }
      ]
    },
    {
      "cell_type": "markdown",
      "metadata": {
        "id": "4P8SPCQ2rLzN"
      },
      "source": [
        "\r\n",
        "El error ahora es bastante menor que en el momento inicial. Vamos a ver las nuevas predicciones y compremoslas con los valores target."
      ]
    },
    {
      "cell_type": "code",
      "metadata": {
        "id": "LMg3ZeRbrLzN",
        "colab": {
          "base_uri": "https://localhost:8080/"
        },
        "outputId": "4bf56742-95bc-464f-c6ee-1b39f84c0595"
      },
      "source": [
        "# Prediciones\n",
        "preds"
      ],
      "execution_count": null,
      "outputs": [
        {
          "output_type": "execute_result",
          "data": {
            "text/plain": [
              "tensor([[ 62.2215,  71.9770],\n",
              "        [ 81.4283,  93.5824],\n",
              "        [112.3330, 146.3954],\n",
              "        [ 50.6808,  46.2971],\n",
              "        [ 83.1643, 101.3068]], grad_fn=<AddBackward0>)"
            ]
          },
          "metadata": {
            "tags": []
          },
          "execution_count": 161
        }
      ]
    },
    {
      "cell_type": "code",
      "metadata": {
        "id": "6zULhmNirLzO",
        "colab": {
          "base_uri": "https://localhost:8080/"
        },
        "outputId": "6d9aaa6e-4cf3-4fbd-dbf6-c6741e34ef60"
      },
      "source": [
        "# Targets\n",
        "targets"
      ],
      "execution_count": null,
      "outputs": [
        {
          "output_type": "execute_result",
          "data": {
            "text/plain": [
              "tensor([[ 56.,  70.],\n",
              "        [ 81., 101.],\n",
              "        [119., 133.],\n",
              "        [ 22.,  37.],\n",
              "        [103., 119.]])"
            ]
          },
          "metadata": {
            "tags": []
          },
          "execution_count": 162
        }
      ]
    },
    {
      "cell_type": "markdown",
      "metadata": {
        "id": "Q4C2tOm4rLzO"
      },
      "source": [
        "Observamos que las predicciones son ahora bastante cercanas a los objetivos. Podemos mejorar estos resultados entrenando más ciclos. "
      ]
    },
    {
      "cell_type": "markdown",
      "metadata": {
        "id": "4nSexto8rLzR"
      },
      "source": [
        "## Regresión lineal empleando las funciones propias de Pytorch\n",
        "\n",
        "Hasta ahora hemos implementado la regresión lineal y el descenso de gradiente empleando operaciones básicas sobre tensores. Sin embargo, dado que estas operaciones son un patrón común en deep learning, Pytorch provee una serie de **funciones y clases propias** específicamente preparadas para facilitar la creación y entrenamiento con tan solo unas cuantas líneas de código. \n",
        "\n",
        "Empezaremos importando el paqete `torch.nn` de PyTorch, el cual contiene las clases de utilidad para construir redes neuronales (_neural networks_)."
      ]
    },
    {
      "cell_type": "code",
      "metadata": {
        "id": "qqm585tErLzR"
      },
      "source": [
        "import torch.nn as nn"
      ],
      "execution_count": null,
      "outputs": []
    },
    {
      "cell_type": "markdown",
      "metadata": {
        "id": "HZgYP8ZsrLzR"
      },
      "source": [
        "Igual que antes, vamos a representar las entradas y salidas como matrices."
      ]
    },
    {
      "cell_type": "code",
      "metadata": {
        "id": "9Agf0fskrLzR"
      },
      "source": [
        "# Input (temp, rainfall, humidity)\n",
        "inputs = np.array([[73, 67, 43], \n",
        "                   [91, 88, 64], \n",
        "                   [87, 134, 58], \n",
        "                   [102, 43, 37], \n",
        "                   [69, 96, 70], \n",
        "                   [74, 66, 43], \n",
        "                   [91, 87, 65], \n",
        "                   [88, 134, 59], \n",
        "                   [101, 44, 37], \n",
        "                   [68, 96, 71], \n",
        "                   [73, 66, 44], \n",
        "                   [92, 87, 64], \n",
        "                   [87, 135, 57], \n",
        "                   [103, 43, 36], \n",
        "                   [68, 97, 70]], \n",
        "                  dtype='float32')\n",
        "\n",
        "# Targets (apples, oranges)\n",
        "targets = np.array([[56, 70], \n",
        "                    [81, 101], \n",
        "                    [119, 133], \n",
        "                    [22, 37], \n",
        "                    [103, 119],\n",
        "                    [57, 69], \n",
        "                    [80, 102], \n",
        "                    [118, 132], \n",
        "                    [21, 38], \n",
        "                    [104, 118], \n",
        "                    [57, 69], \n",
        "                    [82, 100], \n",
        "                    [118, 134], \n",
        "                    [20, 38], \n",
        "                    [102, 120]], \n",
        "                   dtype='float32')\n",
        "\n",
        "inputs = torch.from_numpy(inputs)\n",
        "targets = torch.from_numpy(targets)"
      ],
      "execution_count": null,
      "outputs": []
    },
    {
      "cell_type": "code",
      "metadata": {
        "id": "7YSJX-qQrLzS",
        "colab": {
          "base_uri": "https://localhost:8080/"
        },
        "outputId": "e60d4894-0bb5-4d2e-b1ea-e33c6f279f53"
      },
      "source": [
        "inputs"
      ],
      "execution_count": null,
      "outputs": [
        {
          "output_type": "execute_result",
          "data": {
            "text/plain": [
              "tensor([[ 73.,  67.,  43.],\n",
              "        [ 91.,  88.,  64.],\n",
              "        [ 87., 134.,  58.],\n",
              "        [102.,  43.,  37.],\n",
              "        [ 69.,  96.,  70.],\n",
              "        [ 74.,  66.,  43.],\n",
              "        [ 91.,  87.,  65.],\n",
              "        [ 88., 134.,  59.],\n",
              "        [101.,  44.,  37.],\n",
              "        [ 68.,  96.,  71.],\n",
              "        [ 73.,  66.,  44.],\n",
              "        [ 92.,  87.,  64.],\n",
              "        [ 87., 135.,  57.],\n",
              "        [103.,  43.,  36.],\n",
              "        [ 68.,  97.,  70.]])"
            ]
          },
          "metadata": {
            "tags": []
          },
          "execution_count": 185
        }
      ]
    },
    {
      "cell_type": "markdown",
      "metadata": {
        "id": "XxL_xNkbrLzS"
      },
      "source": [
        "Vamos a usar 15 observaciones de entrenamiento para ilustrar como trabajar con conjuntos más grandes en pequeños lotes (_batches_). "
      ]
    },
    {
      "cell_type": "markdown",
      "metadata": {
        "id": "14AZDfjFrLzT"
      },
      "source": [
        "## Dataset y DataLoader\n",
        "\n",
        "Vamos a crear un `TensorDataset`, el cual va a permitir acceder a las filas de `inputs` y sus respectivos `targets` como tuplas, además de proveer APIs estandard para trabajar con muchos diferentes datasets en PyTorch."
      ]
    },
    {
      "cell_type": "code",
      "metadata": {
        "id": "v0Mxl6D6rLzT"
      },
      "source": [
        "from torch.utils.data import TensorDataset"
      ],
      "execution_count": null,
      "outputs": []
    },
    {
      "cell_type": "code",
      "metadata": {
        "id": "BE4xRZFarLzT",
        "colab": {
          "base_uri": "https://localhost:8080/"
        },
        "outputId": "9d23c7ee-f885-4b26-c26b-90617307a75a"
      },
      "source": [
        "# Define dataset\n",
        "train_ds = TensorDataset(inputs, targets)\n",
        "train_ds[0:5]"
      ],
      "execution_count": null,
      "outputs": [
        {
          "output_type": "execute_result",
          "data": {
            "text/plain": [
              "(tensor([[ 73.,  67.,  43.],\n",
              "         [ 91.,  88.,  64.],\n",
              "         [ 87., 134.,  58.],\n",
              "         [102.,  43.,  37.],\n",
              "         [ 69.,  96.,  70.]]), tensor([[ 56.,  70.],\n",
              "         [ 81., 101.],\n",
              "         [119., 133.],\n",
              "         [ 22.,  37.],\n",
              "         [103., 119.]]))"
            ]
          },
          "metadata": {
            "tags": []
          },
          "execution_count": 188
        }
      ]
    },
    {
      "cell_type": "markdown",
      "metadata": {
        "id": "UGTUR0WKrLzU"
      },
      "source": [
        "`TensorDataset` nos permite acceder a una pequeña sección de los datos de entrenamiento usando la notación de índices de array (`[0:3]` en el código anterior). Devuelve una tupla con dos elementos. The first element contains the input variables for the selected rows, and the second contains the targets."
      ]
    },
    {
      "cell_type": "markdown",
      "metadata": {
        "id": "7myFSQiIrLzU"
      },
      "source": [
        "Vamos a crear también un  `DataLoader`, el cual irá dividiendo los datos en lotes (_batches_) de un tamaño predefinido mientras hace el entrenamiento. tambien aporta otras utilidades como el barajeo (_shuffling_) y el muestreo aleatorio de los datos."
      ]
    },
    {
      "cell_type": "code",
      "metadata": {
        "id": "RIahdUBxrLzU"
      },
      "source": [
        "from torch.utils.data import DataLoader"
      ],
      "execution_count": null,
      "outputs": []
    },
    {
      "cell_type": "code",
      "metadata": {
        "id": "ZvIVfKUirLzU"
      },
      "source": [
        "# Definimos el data loader\n",
        "batch_size = 5\n",
        "train_dl = DataLoader(train_ds, batch_size, shuffle=True)"
      ],
      "execution_count": null,
      "outputs": []
    },
    {
      "cell_type": "markdown",
      "metadata": {
        "id": "5GSjfNphrLzV"
      },
      "source": [
        "Ahora podemos usar el data loader en un bucle `for`. Veamos un ejemplo:"
      ]
    },
    {
      "cell_type": "code",
      "metadata": {
        "id": "IZVM1j_CrLzV",
        "colab": {
          "base_uri": "https://localhost:8080/"
        },
        "outputId": "51de9ad6-8652-4dd4-9994-6e24a6e160db"
      },
      "source": [
        "for xb, yb in train_dl:\n",
        "    print(xb)\n",
        "    print(yb)\n",
        "    break"
      ],
      "execution_count": null,
      "outputs": [
        {
          "output_type": "stream",
          "text": [
            "tensor([[101.,  44.,  37.],\n",
            "        [ 91.,  87.,  65.],\n",
            "        [ 87., 135.,  57.],\n",
            "        [ 68.,  97.,  70.],\n",
            "        [103.,  43.,  36.]])\n",
            "tensor([[ 21.,  38.],\n",
            "        [ 80., 102.],\n",
            "        [118., 134.],\n",
            "        [102., 120.],\n",
            "        [ 20.,  38.]])\n"
          ],
          "name": "stdout"
        }
      ]
    },
    {
      "cell_type": "markdown",
      "metadata": {
        "id": "PNBYpzThrLzV"
      },
      "source": [
        "En cada iteración, el data loader devuelve un lote de datos con el tamaño indicado. Si `shuffle` es `True`, \"barajará\" los datos antes de crear los lotes. Esto ayuda a alatorizar las entradas al algoritmo de optimización, lo cual redunda en una reducción del error más rápida."
      ]
    },
    {
      "cell_type": "markdown",
      "metadata": {
        "id": "plceojdqrLzW"
      },
      "source": [
        "## nn.Linear\n",
        "\n",
        "En lugar de inicializar los pesos y biases manualmente, podemos definir el modelo usando la clase `nn.Linear` de PyTorch, la cual lo hace automáticamente."
      ]
    },
    {
      "cell_type": "code",
      "metadata": {
        "id": "KmOcrDJArLzW",
        "colab": {
          "base_uri": "https://localhost:8080/"
        },
        "outputId": "22ce5d69-aed7-44ba-8589-df2487bd28dc"
      },
      "source": [
        "# Define modelo\n",
        "model = nn.Linear(3, 2)\n",
        "print(model.weight)\n",
        "print(model.bias)"
      ],
      "execution_count": null,
      "outputs": [
        {
          "output_type": "stream",
          "text": [
            "Parameter containing:\n",
            "tensor([[-0.5069, -0.1571, -0.0276],\n",
            "        [-0.1433,  0.3280,  0.1520]], requires_grad=True)\n",
            "Parameter containing:\n",
            "tensor([-0.1595,  0.4075], requires_grad=True)\n"
          ],
          "name": "stdout"
        }
      ]
    },
    {
      "cell_type": "markdown",
      "metadata": {
        "id": "gpXQNIXFJCy-"
      },
      "source": [
        "**NOTA IMPORTANTE:** \r\n",
        "*La clase \"nn.Linear\" empleada no se refiere directamente a una regresion lineal. En realidad lo que describe es un tipo de red neuronal empleado. En concreto este es un modelo en el que las capas estan totalmente conectadas unas con otras, denominadas \"fully connected\" o \"dense\" (de forma similar a Keras). Más adelante veremos que los modelos de redes neuronales pueden estar compuestos de capas de este tipo, de capas convolucionales y otros tipos.*"
      ]
    },
    {
      "cell_type": "markdown",
      "metadata": {
        "id": "eFyWBxK9rLzW"
      },
      "source": [
        "Los modelos en PyTorch tienen un método muy útil llamado `.parameters`, el cual retorna una lista conteniendo todas las matrices de pesos y biases presentes en ese modelo. Para nuestro modelo de regresion lineal, tenemos una matriz de pesos y otra de biases."
      ]
    },
    {
      "cell_type": "code",
      "metadata": {
        "id": "PXgzbBafrLzX",
        "colab": {
          "base_uri": "https://localhost:8080/"
        },
        "outputId": "53d462a1-dd98-43c8-dde5-13783a0e883b"
      },
      "source": [
        "# Parametros\n",
        "list(model.parameters())"
      ],
      "execution_count": null,
      "outputs": [
        {
          "output_type": "execute_result",
          "data": {
            "text/plain": [
              "[Parameter containing:\n",
              " tensor([[-0.5069, -0.1571, -0.0276],\n",
              "         [-0.1433,  0.3280,  0.1520]], requires_grad=True),\n",
              " Parameter containing:\n",
              " tensor([-0.1595,  0.4075], requires_grad=True)]"
            ]
          },
          "metadata": {
            "tags": []
          },
          "execution_count": 199
        }
      ]
    },
    {
      "cell_type": "markdown",
      "metadata": {
        "id": "pgMML2MZrLzX"
      },
      "source": [
        "Ahora podemos usar el modelo generado para realizar nuestras predicciones."
      ]
    },
    {
      "cell_type": "code",
      "metadata": {
        "id": "nGHn-WjwrLzY",
        "colab": {
          "base_uri": "https://localhost:8080/"
        },
        "outputId": "a13a0fff-08ca-4a5d-9e73-d07ed296a406"
      },
      "source": [
        "# Genera prediciones\n",
        "preds = model(inputs)\n",
        "preds"
      ],
      "execution_count": null,
      "outputs": [
        {
          "output_type": "execute_result",
          "data": {
            "text/plain": [
              "tensor([[-48.8758,  18.4596],\n",
              "        [-61.8790,  25.9599],\n",
              "        [-66.9144,  40.7090],\n",
              "        [-59.6375,   5.5216],\n",
              "        [-52.1510,  32.6471],\n",
              "        [-49.2255,  17.9883],\n",
              "        [-61.7495,  25.7838],\n",
              "        [-67.4489,  40.7177],\n",
              "        [-59.2878,   5.9928],\n",
              "        [-51.6718,  32.9423],\n",
              "        [-48.7462,  18.2835],\n",
              "        [-62.2287,  25.4886],\n",
              "        [-67.0439,  40.8850],\n",
              "        [-60.1167,   5.2264],\n",
              "        [-51.8013,  33.1184]], grad_fn=<AddmmBackward>)"
            ]
          },
          "metadata": {
            "tags": []
          },
          "execution_count": 200
        }
      ]
    },
    {
      "cell_type": "markdown",
      "metadata": {
        "id": "AOIc9oSQrLzY"
      },
      "source": [
        "## Funcion de error o pérdida \n",
        "\n",
        "En lugar de definir una función de error manualmente, podemos usar la función propia de Pytorch `mse_loss`.\n"
      ]
    },
    {
      "cell_type": "code",
      "metadata": {
        "id": "bSJcJY6orLzY"
      },
      "source": [
        "# Importa nn.functional\n",
        "import torch.nn.functional as F"
      ],
      "execution_count": null,
      "outputs": []
    },
    {
      "cell_type": "markdown",
      "metadata": {
        "id": "pWYGEHSarLzZ"
      },
      "source": [
        "El paquete `nn.functional` contiene muchas otras y útiles funciones de cálculo de error entre otras utilidades. "
      ]
    },
    {
      "cell_type": "code",
      "metadata": {
        "id": "ZljPEP0srLzZ"
      },
      "source": [
        "# Definimos la función de loss\n",
        "loss_fn = F.mse_loss"
      ],
      "execution_count": null,
      "outputs": []
    },
    {
      "cell_type": "markdown",
      "metadata": {
        "id": "XneC34O9rLzZ"
      },
      "source": [
        "Calculamos el error para las predicciones de nuestro modelo de la siguiente forma: "
      ]
    },
    {
      "cell_type": "code",
      "metadata": {
        "id": "crqM8TDhrLzZ",
        "colab": {
          "base_uri": "https://localhost:8080/"
        },
        "outputId": "9aad88fd-6b72-47dd-81f6-4686a5007fec"
      },
      "source": [
        "loss = loss_fn(model(inputs), targets)\n",
        "print(loss)"
      ],
      "execution_count": null,
      "outputs": [
        {
          "output_type": "stream",
          "text": [
            "tensor(12171.1182, grad_fn=<MseLossBackward>)\n"
          ],
          "name": "stdout"
        }
      ]
    },
    {
      "cell_type": "markdown",
      "metadata": {
        "id": "29J0-Tn6rLza"
      },
      "source": [
        "## Optimización\n",
        "\n",
        "En lugar de manualmente manipular los pesos y biases del modelo a través de los gradientes, podemos usar el optimizador propio `optim.SGD`. SGD es la abreviatura de \"stochastic gradient descent\". El término estocástico indica que las muestras son seleccionadas en lotes aleatorios en lugar de individualmente."
      ]
    },
    {
      "cell_type": "code",
      "metadata": {
        "id": "EgOLXduIrLza"
      },
      "source": [
        "# Define optimizador\n",
        "opt = torch.optim.SGD(model.parameters(), lr=1e-5)"
      ],
      "execution_count": null,
      "outputs": []
    },
    {
      "cell_type": "markdown",
      "metadata": {
        "id": "wAnliLuxrLza"
      },
      "source": [
        "Obsérvese que los parámetros del modelo son pasados como argumento a `optim.SGD` de forma que el optimizador sepa qué matrices de pesos y biases osn las que tiene que ir modificando durante el proceso de actualización. También podemos especificar el ratio de aprendizaje \"lr\" que controla la cantidad con que los parametros son modificados."
      ]
    },
    {
      "cell_type": "markdown",
      "metadata": {
        "id": "DAYgy6btrLzb"
      },
      "source": [
        "## Entrenamiento del modelo\n",
        "\n",
        "Vamos ahora a realizar el entrenamiento del modelo. Seguiremos el mismo proceso que ya hemos visto para implementar el descenso de gradiente:\n",
        "\n",
        "1. Generamos predicciones\n",
        "\n",
        "2. Calculamos el error/pérdida\n",
        "\n",
        "3. Calculamos los gradientes c.r.a. los pesos y biases\n",
        "\n",
        "4. Ajustamos los pesos restando una pequeña cantidad proporcianal a los gradientes obtenidos\n",
        "\n",
        "5. Reseteamos los gradientes a cero para repetir la operación\n",
        "\n",
        "El único cambio es que ahora vamos a trabajar con lotes de datos en lugar de emplear el dataset de entrenamiento completo en cada iteracion. \n",
        "\n",
        "Vamos a definir una función `fit` que realizará el entrenamiento de esa forma para un número dado de ciclos (_epochs_)."
      ]
    },
    {
      "cell_type": "code",
      "metadata": {
        "id": "y5rMu6BPrLzb"
      },
      "source": [
        "def fit(num_epochs, model, loss_fn, opt, train_dl):\n",
        "    \n",
        "    # Repetir para el número especificado de epochs\n",
        "    for epoch in range(num_epochs):\n",
        "        \n",
        "        # Entrena por lotes de datos\n",
        "        for xb,yb in train_dl:\n",
        "            \n",
        "            # 1. Generamos predicciones\n",
        "            pred = model(xb)\n",
        "            \n",
        "            # 2. Calculamos el error/pérdida\n",
        "            loss = loss_fn(pred, yb)\n",
        "            \n",
        "            # 3. Calculamos los gradientes\n",
        "            loss.backward()\n",
        "            \n",
        "            # 4. Actualizamos los parámetros\n",
        "            opt.step()\n",
        "            \n",
        "            # 5. Reseteamos los gradientes a cero\n",
        "            opt.zero_grad()\n",
        "        \n",
        "        # Imprimimos el progreso\n",
        "        if (epoch+1) % 10 == 0:\n",
        "            print('Epoch [{}/{}], Loss: {:.4f}'.format(epoch+1, num_epochs, loss.item()))"
      ],
      "execution_count": null,
      "outputs": []
    },
    {
      "cell_type": "markdown",
      "metadata": {
        "id": "uKYTBgY1rLzb"
      },
      "source": [
        "Algunso detalles sobre la función definida: \n",
        "\n",
        "* Usamos el data loader definido previamente para obtener lotes de datos para cada iteración.\n",
        "\n",
        "* En lugar de actualizar los parametros (pesos y biases) manualmente, usamos `opt.step` para realiarlo y `opt.zero_grad` para resetear a cer los gradientes. \n",
        "\n",
        "* Se ha añadido unas líneas de log que imprimen el error del último lote entrenado cada 10 iteraciones, de forma que podemos seguir en progreso de entrenamiento. `loss.item` retorna el valor actual almacenado en el tensor de error _loss_.\n",
        "\n",
        "Vamos a entrenar 100 veces:"
      ]
    },
    {
      "cell_type": "code",
      "metadata": {
        "id": "8r-JEYySrLzc",
        "colab": {
          "base_uri": "https://localhost:8080/"
        },
        "outputId": "de3bf938-727a-4b9b-b472-d703f0ca333b"
      },
      "source": [
        "fit(100, model, loss_fn, opt, train_dl)"
      ],
      "execution_count": null,
      "outputs": [
        {
          "output_type": "stream",
          "text": [
            "Epoch [10/100], Loss: 2.1418\n",
            "Epoch [20/100], Loss: 2.0998\n",
            "Epoch [30/100], Loss: 3.4288\n",
            "Epoch [40/100], Loss: 2.3197\n",
            "Epoch [50/100], Loss: 1.8748\n",
            "Epoch [60/100], Loss: 2.7060\n",
            "Epoch [70/100], Loss: 3.8567\n",
            "Epoch [80/100], Loss: 1.8621\n",
            "Epoch [90/100], Loss: 3.2764\n",
            "Epoch [100/100], Loss: 4.4229\n"
          ],
          "name": "stdout"
        }
      ]
    },
    {
      "cell_type": "markdown",
      "metadata": {
        "id": "2JExdgXXrLzc"
      },
      "source": [
        "Let's generate predictions using our model and verify that they're close to our targets."
      ]
    },
    {
      "cell_type": "code",
      "metadata": {
        "id": "45dkmCS8rLzc",
        "colab": {
          "base_uri": "https://localhost:8080/"
        },
        "outputId": "3364876a-d294-4979-e35e-ca0b7e767196"
      },
      "source": [
        "# Generate predictions\n",
        "preds = model(inputs)\n",
        "preds"
      ],
      "execution_count": null,
      "outputs": [
        {
          "output_type": "execute_result",
          "data": {
            "text/plain": [
              "tensor([[ 57.0265,  70.6090],\n",
              "        [ 81.5314,  99.4352],\n",
              "        [119.4317, 135.0975],\n",
              "        [ 21.1773,  38.3652],\n",
              "        [100.7327, 116.2961],\n",
              "        [ 55.7693,  69.5041],\n",
              "        [ 81.2846,  99.3270],\n",
              "        [119.6716, 135.5839],\n",
              "        [ 22.4345,  39.4702],\n",
              "        [101.7430, 117.2928],\n",
              "        [ 56.7797,  70.5008],\n",
              "        [ 80.2742,  98.3303],\n",
              "        [119.6786, 135.2058],\n",
              "        [ 20.1670,  37.3685],\n",
              "        [101.9899, 117.4011]], grad_fn=<AddmmBackward>)"
            ]
          },
          "metadata": {
            "tags": []
          },
          "execution_count": 212
        }
      ]
    },
    {
      "cell_type": "code",
      "metadata": {
        "id": "2yKivQFPrLzd",
        "colab": {
          "base_uri": "https://localhost:8080/"
        },
        "outputId": "7a96bebd-ebd7-423d-95c4-225f61bbbaec"
      },
      "source": [
        "# Compare with targets\n",
        "targets"
      ],
      "execution_count": null,
      "outputs": [
        {
          "output_type": "execute_result",
          "data": {
            "text/plain": [
              "tensor([[ 56.,  70.],\n",
              "        [ 81., 101.],\n",
              "        [119., 133.],\n",
              "        [ 22.,  37.],\n",
              "        [103., 119.],\n",
              "        [ 57.,  69.],\n",
              "        [ 80., 102.],\n",
              "        [118., 132.],\n",
              "        [ 21.,  38.],\n",
              "        [104., 118.],\n",
              "        [ 57.,  69.],\n",
              "        [ 82., 100.],\n",
              "        [118., 134.],\n",
              "        [ 20.,  38.],\n",
              "        [102., 120.]])"
            ]
          },
          "metadata": {
            "tags": []
          },
          "execution_count": 213
        }
      ]
    },
    {
      "cell_type": "markdown",
      "metadata": {
        "id": "nydotCibrLzd"
      },
      "source": [
        "Ahora las predicciones son bastante cercanas a nuestros valores objetivos. Hemos entrenado un modelo razonablemente bueno que nos permite predecir la cosecha a partir de tres variables temperatura, lluvias y humedad en una región. Podemos emplear el modelo para realizar predicciones para otra región pasandole un lote con una sola fila como entrada: "
      ]
    },
    {
      "cell_type": "code",
      "metadata": {
        "id": "3ONCHxZ3rLze",
        "colab": {
          "base_uri": "https://localhost:8080/"
        },
        "outputId": "ebcaf7a1-5acb-4773-be91-95e2e6439665"
      },
      "source": [
        "model(torch.tensor([[75, 63, 44.]]))"
      ],
      "execution_count": null,
      "outputs": [
        {
          "output_type": "execute_result",
          "data": {
            "text/plain": [
              "tensor([[54.0608, 69.3553]], grad_fn=<AddmmBackward>)"
            ]
          },
          "metadata": {
            "tags": []
          },
          "execution_count": 182
        }
      ]
    },
    {
      "cell_type": "markdown",
      "metadata": {
        "id": "7YO3RYSarLze"
      },
      "source": [
        "El modelo predice una cosecha de 54.3 tons/hect. de manzanas, y 68.3 tons/hect. de naranjas."
      ]
    },
    {
      "cell_type": "markdown",
      "metadata": {
        "id": "n2QOf-HEltUP"
      },
      "source": [
        "## Fin del Notebook"
      ]
    },
    {
      "cell_type": "markdown",
      "metadata": {
        "id": "BZDr1zYmBkRV"
      },
      "source": [
        "Referencias y modelos empleados para el Notebook: \r\n",
        "\r\n",
        "*   Documentación de [Pytorch](https://pytorch.org/docs/stable/index.html) \r\n",
        "*   [PyTorch Tutorial for Deep Learning Researchers](https://github.com/yunjey/pytorch-tutorial) by Yunjey Choi\r\n",
        "*   [FastAI](https://www.fast.ai/) development notebooks by Jeremy Howard.\r\n",
        "*   Documentación y cursos en [Pierian Data](https://www.pieriandata.com/)\r\n",
        "*   Tutoriales y notebooks del curso \"Deep Learning with Pytorch: Zero to GANs\" de [Aakash N S](https://jovian.ai/aakashns)\r\n",
        "\r\n",
        "\r\n",
        "\r\n"
      ]
    }
  ]
}