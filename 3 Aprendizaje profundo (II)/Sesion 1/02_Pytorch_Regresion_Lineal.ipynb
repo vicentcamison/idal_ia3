{
  "nbformat": 4,
  "nbformat_minor": 0,
  "metadata": {
    "kernelspec": {
      "display_name": "Python 3",
      "language": "python",
      "name": "python3"
    },
    "language_info": {
      "codemirror_mode": {
        "name": "ipython",
        "version": 3
      },
      "file_extension": ".py",
      "mimetype": "text/x-python",
      "name": "python",
      "nbconvert_exporter": "python",
      "pygments_lexer": "ipython3",
      "version": "3.8.5"
    },
    "colab": {
      "name": "02-Pytorch-Regresion_Lineal.ipynb",
      "provenance": [],
      "collapsed_sections": [
        "8RQ6rbisrLy0",
        "CP0-TRTLrLy2",
        "SwGf-LYnrLy8",
        "0KmMqA8IrLzA",
        "EI0qiKAFrLzD",
        "3K1ZnLVvrLzE",
        "vBXlTCArrLzH",
        "1KWQ_1_rrLzL",
        "4nSexto8rLzR",
        "n2QOf-HEltUP"
      ],
      "include_colab_link": true
    }
  },
  "cells": [
    {
      "cell_type": "markdown",
      "metadata": {
        "id": "view-in-github",
        "colab_type": "text"
      },
      "source": [
        "<a href=\"https://colab.research.google.com/github/vicentcamison/idal_ia3/blob/main/3%20Aprendizaje%20profundo%20(II)/Sesion%201/02_Pytorch_Regresion_Lineal.ipynb\" target=\"_parent\"><img src=\"https://colab.research.google.com/assets/colab-badge.svg\" alt=\"Open In Colab\"/></a>"
      ]
    },
    {
      "cell_type": "markdown",
      "metadata": {
        "id": "ghPSdPkCrLyk"
      },
      "source": [
        "![IDAL](https://i.imgur.com/tIKXIG1.jpg)  \n",
        "\n",
        "#**Máster en Inteligencia Artificial Avanzada y Aplicada:  IA^3**\n",
        "---\n"
      ]
    },
    {
      "cell_type": "markdown",
      "metadata": {
        "id": "9WOIeW_unJDd"
      },
      "source": [
        "#<center>**Regresion Lineal y descenso de gradiente con PyTorch**</center>"
      ]
    },
    {
      "cell_type": "markdown",
      "metadata": {
        "id": "uriFNBrirLyw"
      },
      "source": [
        "Este notebook cubre los siguientes aspectos:\n",
        "\n",
        "- Regresion lineal y ajuste empleando descenso de gradiente\n",
        "- Implementación de modelos de este tipo empleando tensores Pytorch\n",
        "- Entrenamiento del modelo de regresion lineal usando el descenso de gradiente\n",
        "- Implementación de ambos empleando las clases y métodos específicamente preparados en Pytorch"
      ]
    },
    {
      "cell_type": "markdown",
      "metadata": {
        "id": "8RQ6rbisrLy0"
      },
      "source": [
        "## Regresión lineal\n",
        "\n",
        "En este notebook vamos a repasar una de las técnicas básicas y fundacionales del aprendizaje máquina y de las redes neuronales: la *regresión lineal*. \n",
        "Vamos a crear un modelo que prediga la cosecha a recoger de manzanas y naranjas (*target variables*) a partir de las observaciones de temperatura, lluvia y humedad (*input variables o features*) en una región. Estos son los datos de entrenamiento:\n",
        "\n",
        "![linear-regression-training-data](https://i.imgur.com/6Ujttb4.png)\n",
        "\n",
        "En un modelo de regresión lineal cada variable dependiente o *target* es estimada como la suma ponderada de las variables de entrada, más un valor constante de ajuste, conocido como *bias* :\n",
        "\n",
        "```\n",
        "yield_apple  = w11 * temp + w12 * rainfall + w13 * humidity + b1\n",
        "yield_orange = w21 * temp + w22 * rainfall + w23 * humidity + b2\n",
        "```\n",
        "\n",
        "Visualmente esto significa que la cosecha de manzanas es una función lineal *o planar*  de la temperatura, la lluvía y la humedad:\n",
        "\n",
        "![linear-regression-graph](https://i.imgur.com/4DJ9f8X.png)"
      ]
    },
    {
      "cell_type": "markdown",
      "metadata": {
        "id": "qu9QdXVjrLy1"
      },
      "source": [
        "La parte de aprendizaje en una función de regresión lineal consiste en obtener un conjunto de pesos o coeficientes `w11, w12,... w23, b1 y b2` empleando los datos de entrenamiento, con la finalidad de poder hacer predicciones para nuevos datos. \n",
        "Los pesos *aprendidos* serán empleados para predecir los valores de cosecha de manzanas y naranjas en una región empleando los datos de temperatura, lluvia y humedad de esa región. . \n",
        "\n",
        "El entrenamiento que vamos a realizar consiste en ir ajustando los pesos ligeramente muchas veces para ir obteniendo mejores predicciones a partir de los valores resultantes conocidos y empleando una técnica de optimización ampliamente usada y conocida llamada *descenso de gradiente*.\n",
        "\n",
        "Empezamos por importar Numpy y Pytorch."
      ]
    },
    {
      "cell_type": "code",
      "metadata": {
        "id": "sOgTUnE1rLy1"
      },
      "source": [
        "import numpy as np\n",
        "import torch"
      ],
      "execution_count": 1,
      "outputs": []
    },
    {
      "cell_type": "markdown",
      "metadata": {
        "id": "CP0-TRTLrLy2"
      },
      "source": [
        "## Datos de entrenamiento\n",
        "\n",
        "Vamos a emplear para representar los datos de entrenamiento dos matrices: `inputs` y `targets`, cada fila será una observación y cada coluumna una variable\n",
        "."
      ]
    },
    {
      "cell_type": "code",
      "metadata": {
        "id": "3ZL_bN93rLy2"
      },
      "source": [
        "# Input (temp, rainfall, humidity)\n",
        "inputs = np.array([[73, 67, 43], \n",
        "                   [91, 88, 64], \n",
        "                   [87, 134, 58], \n",
        "                   [102, 43, 37], \n",
        "                   [69, 96, 70]], dtype='float32')"
      ],
      "execution_count": 2,
      "outputs": []
    },
    {
      "cell_type": "code",
      "metadata": {
        "id": "MWPWDvZwrLy3"
      },
      "source": [
        "# Targets (apples, oranges)\n",
        "targets = np.array([[56, 70], \n",
        "                    [81, 101], \n",
        "                    [119, 133], \n",
        "                    [22, 37], \n",
        "                    [103, 119]], dtype='float32')"
      ],
      "execution_count": 3,
      "outputs": []
    },
    {
      "cell_type": "markdown",
      "metadata": {
        "id": "lH_7f7IlrLy4"
      },
      "source": [
        "Separamos las entradas y los targets porque hemos de trabajar separadamente con cada una de ellas. Por otro lado, se han creado como arrays Numpy porque es la forma habitual en que los vamos a encontrar: importación de los datos CSV como arrays, prepararlos y finalmente convertirlos a tensores de Pytorch.\n",
        "\n",
        "Los convertimos a tensores PyTorch."
      ]
    },
    {
      "cell_type": "code",
      "metadata": {
        "id": "Hi62YPcXrLy5",
        "colab": {
          "base_uri": "https://localhost:8080/"
        },
        "outputId": "158524d0-ba42-485e-fe00-013b59336fe3"
      },
      "source": [
        "inputs = torch.from_numpy(inputs)\n",
        "targets = torch.from_numpy(targets)\n",
        "print(inputs)\n",
        "print(targets)"
      ],
      "execution_count": 4,
      "outputs": [
        {
          "output_type": "stream",
          "text": [
            "tensor([[ 73.,  67.,  43.],\n",
            "        [ 91.,  88.,  64.],\n",
            "        [ 87., 134.,  58.],\n",
            "        [102.,  43.,  37.],\n",
            "        [ 69.,  96.,  70.]])\n",
            "tensor([[ 56.,  70.],\n",
            "        [ 81., 101.],\n",
            "        [119., 133.],\n",
            "        [ 22.,  37.],\n",
            "        [103., 119.]])\n"
          ],
          "name": "stdout"
        }
      ]
    },
    {
      "cell_type": "markdown",
      "metadata": {
        "id": "SwGf-LYnrLy8"
      },
      "source": [
        "## Modelo de regresion lineal desde cero\n",
        "\n",
        "Los pesos y ajustes (`w11, w12,... w23, b1 y b2`) son representados como matrices, que en un primer momento contienen valores iniciales aleatorios. \n",
        "can also be represented as matrices, initialized as random values. \n",
        "La primera fila de `w` y el primer elemento de `b` son los coeficientes necesarios para calcular la primera variable, i.e., la cosecha de manzanas, y de forma similar la segunda para las naranjas."
      ]
    },
    {
      "cell_type": "code",
      "metadata": {
        "id": "z0-el_zmrLy9",
        "colab": {
          "base_uri": "https://localhost:8080/"
        },
        "outputId": "392c7934-8b49-477c-90f8-9ac094cb57ba"
      },
      "source": [
        "# Weights and biases\n",
        "w = torch.randn(2, 3, requires_grad=True)\n",
        "b = torch.randn(2, requires_grad=True)\n",
        "print(w)\n",
        "print(b)"
      ],
      "execution_count": 5,
      "outputs": [
        {
          "output_type": "stream",
          "text": [
            "tensor([[ 0.6115,  1.4081, -0.6614],\n",
            "        [-1.0776, -1.8938, -1.6659]], requires_grad=True)\n",
            "tensor([0.7506, 0.0218], requires_grad=True)\n"
          ],
          "name": "stdout"
        }
      ]
    },
    {
      "cell_type": "markdown",
      "metadata": {
        "id": "9CDG649GrLy-"
      },
      "source": [
        "`torch.randn` crea un tensor con las dimensiones dadas con elementos tomados de forma aleatoria de una [distribución normal](https://en.wikipedia.org/wiki/Normal_distribution) con media 0 y desviación estandard 1.\n",
        "\n",
        "Por tanto, nuestro *modelo* es real y simplemente una función que realiza una multiplicación de matrices entre las entradas `inputs` y los pesos `w` (transpuestos) y añade el factor bias `b` (replicado para cada observación, diferente para cada target).\n",
        "\n",
        "![matrix-mult](https://i.imgur.com/WGXLFvA.png)\n",
        "\n",
        "Empelando las operaciones disponibles en Pytorch, podemos definir el modelo como sigue:"
      ]
    },
    {
      "cell_type": "code",
      "metadata": {
        "id": "6ZnQB-BBrLy-"
      },
      "source": [
        "def model(x):\n",
        "    return x @ w.t() + b"
      ],
      "execution_count": 6,
      "outputs": []
    },
    {
      "cell_type": "markdown",
      "metadata": {
        "id": "s7Ym5lihrLy-"
      },
      "source": [
        "`@` representa la multuiplicación de matrices en PyTorch, y el método `.t` devuelve un tensor transpuesto.\n",
        "\n",
        "La matriz obtenida al emplear los datos de entrada con los coeficientes del modelo es un conjunto de predicciones para las variables objetivo *targets*."
      ]
    },
    {
      "cell_type": "code",
      "metadata": {
        "id": "pg7Ymw0PrLy_",
        "colab": {
          "base_uri": "https://localhost:8080/"
        },
        "outputId": "b9235e32-75b2-484f-9f87-bf637bee21d9"
      },
      "source": [
        "# Genero predicciones (iniciales)\n",
        "preds = model(inputs)\n",
        "print(preds)"
      ],
      "execution_count": 7,
      "outputs": [
        {
          "output_type": "stream",
          "text": [
            "tensor([[ 111.2937, -277.1577],\n",
            "        [ 137.9816, -371.3073],\n",
            "        [ 204.2786, -444.1143],\n",
            "        [  99.2002, -252.9617],\n",
            "        [ 131.8253, -372.7462]], grad_fn=<AddBackward0>)\n"
          ],
          "name": "stdout"
        }
      ]
    },
    {
      "cell_type": "code",
      "metadata": {
        "id": "FkH2oYmmrLzA",
        "colab": {
          "base_uri": "https://localhost:8080/"
        },
        "outputId": "15b3c086-574b-4b3a-dc09-43f86a0bea8d"
      },
      "source": [
        "# Comparamos con los targets reales\n",
        "print(targets)"
      ],
      "execution_count": 8,
      "outputs": [
        {
          "output_type": "stream",
          "text": [
            "tensor([[ 56.,  70.],\n",
            "        [ 81., 101.],\n",
            "        [119., 133.],\n",
            "        [ 22.,  37.],\n",
            "        [103., 119.]])\n"
          ],
          "name": "stdout"
        }
      ]
    },
    {
      "cell_type": "markdown",
      "metadata": {
        "id": "OZGtGJcjrLzA"
      },
      "source": [
        "Podemos ver una gran diferencia entre las predicciones obtenidas inicialmente y los valores reales. Esto ocurre porque los pesos y bias empleados han sido inicializados aleatoriamente y no podemos esperar que esos valores se correspondan y funcionen bien directamente. Un modelo inicializado aleatoriamente no está preparado para funcionar. Se trata simplemente de un inicio.\r\n"
      ]
    },
    {
      "cell_type": "markdown",
      "metadata": {
        "id": "0KmMqA8IrLzA"
      },
      "source": [
        "## Función de pérdida o de coste\n",
        "\n",
        "Antes de mejorar el modelo, necesitamos evaluar como de bien está funcionando. Para ello comparamos los resultados obtenidos con los resultados que se deberían obtener. En este caso vamos a emplear como función evluadora el error cuadrático medio o **mean squared error** (MSE). \n",
        "Desglosando el pseeudo código para calcularlo sería algo así:\n",
        "* Calculamos la diferencia entre las dos matrices(`preds` y `targets`).\n",
        "* Elevamos al cuadrado todos los elementos y de esa forma evitamos valores negativos. \n",
        "* Calculamos la media de los elementos en una matriz resultante.\n",
        "\n",
        "El resultado de este cálculo es un único número (MSE)."
      ]
    },
    {
      "cell_type": "code",
      "metadata": {
        "id": "F0fTNoWxrLzB"
      },
      "source": [
        "# MSE \n",
        "def mse(t1, t2):\n",
        "    diff = t1 - t2\n",
        "    return torch.sum(diff * diff) / diff.numel()"
      ],
      "execution_count": 9,
      "outputs": []
    },
    {
      "cell_type": "markdown",
      "metadata": {
        "id": "D95gt0_CrLzB"
      },
      "source": [
        "`torch.sum` retorna la suma de todos los elementos de un tensor. El método `.numel` retorna el número de elementos de un tensor. \r\n",
        "\r\n",
        "Calculamos el MSE para las predicciones que hemos obtenidos con nuestro modelo. "
      ]
    },
    {
      "cell_type": "code",
      "metadata": {
        "id": "63YeUzDTrLzC",
        "colab": {
          "base_uri": "https://localhost:8080/"
        },
        "outputId": "b1a9368b-d3ba-42a9-d127-40f9e795ba35"
      },
      "source": [
        "loss = mse(preds, targets)\n",
        "print(loss)"
      ],
      "execution_count": 10,
      "outputs": [
        {
          "output_type": "stream",
          "text": [
            "tensor(102291.3047, grad_fn=<DivBackward0>)\n"
          ],
          "name": "stdout"
        }
      ]
    },
    {
      "cell_type": "markdown",
      "metadata": {
        "id": "cprvF2KhrLzC"
      },
      "source": [
        "Así es como podemos interpretar el resultado: *de media, cada elemento en la predicción difiere de su valor correcto la raíz cuadrada del error obtenido*.\r\n",
        "Y eso es bastante malo, dado que los resultados que pretendemos predecir están en un rango de entre 50-200. El resultado se suele llamar *loss* porque implica la pérdida que introduce el modelo entre lo que obtenemos y lo que deberíamos obtener. Cuanto **menor es la pérdida** o error, **mejor es el modelo**. "
      ]
    },
    {
      "cell_type": "markdown",
      "metadata": {
        "id": "EI0qiKAFrLzD"
      },
      "source": [
        "## Cálculo de gradientes\n",
        "\n",
        "Con Pytorch podemos calcular automáticamente los gradientes o derivadas del error con respecto de los pesos y del bias, porque hemos definido el parámetro `requires_grad` a `True`. Vamos a ver lo útil que resulta esta funcionalidad."
      ]
    },
    {
      "cell_type": "code",
      "metadata": {
        "id": "beq8p1gTrLzD"
      },
      "source": [
        "# Calculamos gradientes\n",
        "loss.backward()"
      ],
      "execution_count": 11,
      "outputs": []
    },
    {
      "cell_type": "markdown",
      "metadata": {
        "id": "G7BcKtcUrLzD"
      },
      "source": [
        "Los gradientes están ahora guardados en la propiedad `.grad` de cada tensor. Nótese que la derivada del error w.r.t. a una matriz de pesos es una matriz también de las mismas dimensiones."
      ]
    },
    {
      "cell_type": "code",
      "metadata": {
        "id": "-0ZMorGtrLzE",
        "colab": {
          "base_uri": "https://localhost:8080/"
        },
        "outputId": "6594fb4a-fce7-4e6f-8e16-8516153baf01"
      },
      "source": [
        "# Gradients for weights\n",
        "print(w)\n",
        "print(w.grad)"
      ],
      "execution_count": 12,
      "outputs": [
        {
          "output_type": "stream",
          "text": [
            "tensor([[ 0.6115,  1.4081, -0.6614],\n",
            "        [-1.0776, -1.8938, -1.6659]], requires_grad=True)\n",
            "tensor([[  5300.8716,   5246.6440,   3168.9565],\n",
            "        [-36407.5977, -40366.3789, -24755.7773]])\n"
          ],
          "name": "stdout"
        }
      ]
    },
    {
      "cell_type": "markdown",
      "metadata": {
        "id": "3K1ZnLVvrLzE"
      },
      "source": [
        "## Ajuste de pesos y bias para reducir el error\n",
        "\n",
        "La pérdida es una [función cuadrática](https://en.wikipedia.org/wiki/Quadratic_function) de nuestros pesos y biases,  y nuestro objetivo es encontrar el conjunto de pesos donde la pérdida sea la más baja. Si dibujamos un gráfico de la pérdida con respecto a cualquiera de los pesos y bias, tendría el aspecto de la figura que se muestra abajo. Un importante detalle sobre cálculo es que el gradiente indica precisamente el ratio de cambio de la pérdida, es decir, la [pendiente](https://en.wikipedia.org/wiki/Slope) con respecto a los pesos y biases.\n",
        "\n",
        "Si el gradiente es **positivo**\n",
        "\n",
        "* **incrementar** el peso de esa variable ligeramente **incrementará** el error (*loss*) \n",
        "* **reducir** el peso ligeramente **reducirá** el error.\n",
        "\n",
        "![postive-gradient](https://i.imgur.com/WLzJ4xP.png)\n",
        "\n",
        "Si el gradiente es **negativo**:\n",
        "\n",
        "* **incrementar** el peso de esa variable ligeramente **reducirá** el error (*loss*) \n",
        "* **reducir** el peso ligeramente **aumentará** el error.\n",
        "\n",
        "![negative=gradient](https://i.imgur.com/dvG2fxU.png)\n",
        "\n",
        "El incremento o reducción del error cambiando el peso de un elemento es proporcional al gradiente del error con respecto a dicho elemento (*variable*). \n",
        "Esta observación supone la base del algoritmo de optimización por *descenso de gradiente* que será el que emplearemos para mejorar nuestro modelo (por  _descenso_ a lo largo del _gradiente_).\n",
        "\n",
        "Dadas las relaciones descritas entre incremento/reducción del peso e incremento reducción del error, la forma en que podemos reducirlo consistirá en **restar** al peso de cada variable una pequeña cantidad proporcional al gradiente con respecto a dicha variable. "
      ]
    },
    {
      "cell_type": "code",
      "metadata": {
        "id": "afl_XeJBrLzF",
        "colab": {
          "base_uri": "https://localhost:8080/"
        },
        "outputId": "994ab11f-2c80-4a18-eb47-c00a1edc8bca"
      },
      "source": [
        "w\n",
        "w.grad"
      ],
      "execution_count": 13,
      "outputs": [
        {
          "output_type": "execute_result",
          "data": {
            "text/plain": [
              "tensor([[  5300.8716,   5246.6440,   3168.9565],\n",
              "        [-36407.5977, -40366.3789, -24755.7773]])"
            ]
          },
          "metadata": {
            "tags": []
          },
          "execution_count": 13
        }
      ]
    },
    {
      "cell_type": "code",
      "metadata": {
        "id": "rBNco83TrLzF"
      },
      "source": [
        "# Actualizamos los pesos y bias\n",
        "with torch.no_grad():\n",
        "    w -= w.grad * 1e-5\n",
        "    b -= b.grad * 1e-5"
      ],
      "execution_count": 14,
      "outputs": []
    },
    {
      "cell_type": "markdown",
      "metadata": {
        "id": "REY7fBs3rLzG"
      },
      "source": [
        "Como se puede observar, hemos multiplicado los gradientes obteenidos por un número muy pequeño (`10^-5` en este caso). Esto es para asegurar que no modificamos los pesos en cantidades muy grandes. Queremos ir tomando pequeños pasos hacia la dirección de descenso siempre, no un gran salto que nos pueda desviar. Este número es lo que llamamos el ratio de aprendizaje *learning rate* del algoritmo.\n",
        "\n",
        "Podemos usar `torch.no_grad` para indicar a PyTorch que no queremos que internamente vaya calculando gradientescuando actualizamos los pesos, ya que no es necesario y únicamente provocamos más carga computacional. "
      ]
    },
    {
      "cell_type": "code",
      "metadata": {
        "id": "-C_24VbFrLzG",
        "colab": {
          "base_uri": "https://localhost:8080/"
        },
        "outputId": "037f6fcc-1fad-4416-dad5-22c05976c9a1"
      },
      "source": [
        "# Verificamos que la pérdida se ha reducido (probablemente muy poco)\n",
        "loss = mse(preds, targets)\n",
        "print(loss)"
      ],
      "execution_count": 15,
      "outputs": [
        {
          "output_type": "stream",
          "text": [
            "tensor(102291.3047, grad_fn=<DivBackward0>)\n"
          ],
          "name": "stdout"
        }
      ]
    },
    {
      "cell_type": "markdown",
      "metadata": {
        "id": "cVnMi-FrrLzG"
      },
      "source": [
        "A continuación, será necesario resetear los gradientes a cero empleando el   método `.zero_()`. Necesitamos hacer esto porque PyTorch acumula los gradientes. Si no lo hacemos, la próxima vez que invocamos el método `.backward` en la función de pérdida, los nuevos valores de gradientes se sumarían a los existentes, lo que llevaría a resultados incorrectos e inesperados."
      ]
    },
    {
      "cell_type": "code",
      "metadata": {
        "id": "_oXTtLdlrLzH",
        "colab": {
          "base_uri": "https://localhost:8080/"
        },
        "outputId": "ec6dc94d-7984-417a-fff3-aed62a219fb4"
      },
      "source": [
        "w.grad.zero_()\n",
        "b.grad.zero_()\n",
        "print(w.grad)\n",
        "print(b.grad)"
      ],
      "execution_count": 16,
      "outputs": [
        {
          "output_type": "stream",
          "text": [
            "tensor([[0., 0., 0.],\n",
            "        [0., 0., 0.]])\n",
            "tensor([0., 0.])\n"
          ],
          "name": "stdout"
        }
      ]
    },
    {
      "cell_type": "markdown",
      "metadata": {
        "id": "vBXlTCArrLzH"
      },
      "source": [
        "## Entrenamiento del modelo usando descenso de gradiente\n",
        "\n",
        "Como hemos visto, podemos reducir la pérdida y mejorar nuestro modelo empleando la técnica de descenso de gradiente. Así pues, podemos _entrenar_ el modelo siguiendo los siguientes pasos: \n",
        "\n",
        "1. Generamos predicciones\n",
        "\n",
        "2. Calculamos el error/pérdida\n",
        "\n",
        "3. Calculamos los gradientes c.r.a. los pesos y biases\n",
        "\n",
        "4. Ajustamos los pesos restando una pequeña cantidad proporcianal a los gradientes obtenidos\n",
        "\n",
        "5. Reseteamos los gradientes a cero para repetir la operación\n",
        "\n",
        "Vamos a implementar esto paso a paso."
      ]
    },
    {
      "cell_type": "code",
      "metadata": {
        "id": "betZe18grLzI",
        "colab": {
          "base_uri": "https://localhost:8080/"
        },
        "outputId": "a93578f2-e3df-44a1-ad32-98234276aa11"
      },
      "source": [
        "# Generamos predicciones\n",
        "preds = model(inputs)\n",
        "print(preds)"
      ],
      "execution_count": 17,
      "outputs": [
        {
          "output_type": "stream",
          "text": [
            "tensor([[ 102.5455, -212.8853],\n",
            "        [ 126.5120, -286.8059],\n",
            "        [ 190.7978, -343.9860],\n",
            "        [  90.3641, -189.3044],\n",
            "        [ 120.9120, -291.5398]], grad_fn=<AddBackward0>)\n"
          ],
          "name": "stdout"
        }
      ]
    },
    {
      "cell_type": "code",
      "metadata": {
        "id": "uCScDDI9rLzI",
        "colab": {
          "base_uri": "https://localhost:8080/"
        },
        "outputId": "35bbfc4c-8ab0-4dc7-9cc2-6b56e4c055e7"
      },
      "source": [
        "# Calculamos el error/pérdida\n",
        "loss = mse(preds, targets)\n",
        "print(loss)"
      ],
      "execution_count": 18,
      "outputs": [
        {
          "output_type": "stream",
          "text": [
            "tensor(69207.6953, grad_fn=<DivBackward0>)\n"
          ],
          "name": "stdout"
        }
      ]
    },
    {
      "cell_type": "code",
      "metadata": {
        "id": "O5rA2H86rLzI",
        "colab": {
          "base_uri": "https://localhost:8080/"
        },
        "outputId": "14d4a0e3-341d-4b17-8d64-68c0a39fc916"
      },
      "source": [
        "# Calculamos los gradientes\n",
        "loss.backward()\n",
        "print(w.grad)\n",
        "print(b.grad)"
      ],
      "execution_count": 19,
      "outputs": [
        {
          "output_type": "stream",
          "text": [
            "tensor([[  4398.9775,   4280.7432,   2572.3613],\n",
            "        [-29769.8086, -33227.8516, -20351.9766]])\n",
            "tensor([  50.0263, -356.9043])\n"
          ],
          "name": "stdout"
        }
      ]
    },
    {
      "cell_type": "code",
      "metadata": {
        "id": "ekrB7z46rLzJ"
      },
      "source": [
        "# Ajustamos los pesos\n",
        "with torch.no_grad():\n",
        "    w -= w.grad * 1e-5\n",
        "    b -= b.grad * 1e-5\n",
        "    w.grad.zero_()\n",
        "    b.grad.zero_()"
      ],
      "execution_count": 20,
      "outputs": []
    },
    {
      "cell_type": "markdown",
      "metadata": {
        "id": "RlsdvI9brLzK"
      },
      "source": [
        "Veamos los pesos y biases."
      ]
    },
    {
      "cell_type": "code",
      "metadata": {
        "id": "KR2m6382rLzK",
        "colab": {
          "base_uri": "https://localhost:8080/"
        },
        "outputId": "bf6489ef-0d44-4343-81a8-029558d70f5b"
      },
      "source": [
        "print(w)\n",
        "print(b)"
      ],
      "execution_count": 21,
      "outputs": [
        {
          "output_type": "stream",
          "text": [
            "tensor([[ 0.5145,  1.3129, -0.7188],\n",
            "        [-0.4158, -1.1578, -1.2148]], requires_grad=True)\n",
            "tensor([0.7495, 0.0297], requires_grad=True)\n"
          ],
          "name": "stdout"
        }
      ]
    },
    {
      "cell_type": "markdown",
      "metadata": {
        "id": "xNfv2tnnrLzK"
      },
      "source": [
        "Con los nuevos pesos y biases, el modelo tiene un error menor."
      ]
    },
    {
      "cell_type": "code",
      "metadata": {
        "id": "W_9o6GIrrLzL",
        "colab": {
          "base_uri": "https://localhost:8080/"
        },
        "outputId": "786f457f-6ed3-4b4a-b397-cf0b667a46fc"
      },
      "source": [
        "# Calculamos la pérdida\n",
        "preds = model(inputs)\n",
        "loss = mse(preds, targets)\n",
        "print(loss)"
      ],
      "execution_count": 22,
      "outputs": [
        {
          "output_type": "stream",
          "text": [
            "tensor(46910.3438, grad_fn=<DivBackward0>)\n"
          ],
          "name": "stdout"
        }
      ]
    },
    {
      "cell_type": "markdown",
      "metadata": {
        "id": "O2ZUarC0rLzL"
      },
      "source": [
        "Podemos observar que tenemos una mejora significativa, ajustando los pesos y biases segun esta técnica."
      ]
    },
    {
      "cell_type": "markdown",
      "metadata": {
        "id": "1KWQ_1_rrLzL"
      },
      "source": [
        "## Entrenar durante múltiples ciclos/épocas (epochs)\n",
        "\n",
        "Para reducir el error aún más, podemos repetir el proceso de ajustar pesos y biases usando los gradientes múltiples veces. Cada iteración se llama ciclo o época (_epoch_). Vamos a entrenar el modelo 100 epochs."
      ]
    },
    {
      "cell_type": "code",
      "metadata": {
        "id": "XEFGWWRBrLzM"
      },
      "source": [
        "for i in range(100):\n",
        "    preds = model(inputs)\n",
        "    loss = mse(preds, targets)\n",
        "    loss.backward()\n",
        "    with torch.no_grad():\n",
        "        w -= w.grad * 1e-5\n",
        "        b -= b.grad * 1e-5\n",
        "        w.grad.zero_()\n",
        "        b.grad.zero_()"
      ],
      "execution_count": 23,
      "outputs": []
    },
    {
      "cell_type": "code",
      "metadata": {
        "id": "WEhIdxZZrLzM",
        "colab": {
          "base_uri": "https://localhost:8080/"
        },
        "outputId": "195681a7-adf8-48d7-c700-49da97360260"
      },
      "source": [
        "# Calculamos el nuevo error\n",
        "preds = model(inputs)\n",
        "loss = mse(preds, targets)\n",
        "print(loss)"
      ],
      "execution_count": 24,
      "outputs": [
        {
          "output_type": "stream",
          "text": [
            "tensor(345.8965, grad_fn=<DivBackward0>)\n"
          ],
          "name": "stdout"
        }
      ]
    },
    {
      "cell_type": "markdown",
      "metadata": {
        "id": "4P8SPCQ2rLzN"
      },
      "source": [
        "\r\n",
        "El error ahora es bastante menor que en el momento inicial. Vamos a ver las nuevas predicciones y compremoslas con los valores target."
      ]
    },
    {
      "cell_type": "code",
      "metadata": {
        "id": "LMg3ZeRbrLzN",
        "colab": {
          "base_uri": "https://localhost:8080/"
        },
        "outputId": "b11bbff0-75dc-4339-82ef-6b9738e30b2e"
      },
      "source": [
        "# Prediciones\n",
        "preds"
      ],
      "execution_count": 25,
      "outputs": [
        {
          "output_type": "execute_result",
          "data": {
            "text/plain": [
              "tensor([[ 60.5799,  76.8604],\n",
              "        [ 73.5442,  97.5357],\n",
              "        [132.9075, 129.5551],\n",
              "        [ 39.0977,  74.2889],\n",
              "        [ 76.4837,  91.9419]], grad_fn=<AddBackward0>)"
            ]
          },
          "metadata": {
            "tags": []
          },
          "execution_count": 25
        }
      ]
    },
    {
      "cell_type": "code",
      "metadata": {
        "id": "6zULhmNirLzO",
        "colab": {
          "base_uri": "https://localhost:8080/"
        },
        "outputId": "4034caad-81fc-45b4-858e-296359e49d43"
      },
      "source": [
        "# Targets\n",
        "targets"
      ],
      "execution_count": 26,
      "outputs": [
        {
          "output_type": "execute_result",
          "data": {
            "text/plain": [
              "tensor([[ 56.,  70.],\n",
              "        [ 81., 101.],\n",
              "        [119., 133.],\n",
              "        [ 22.,  37.],\n",
              "        [103., 119.]])"
            ]
          },
          "metadata": {
            "tags": []
          },
          "execution_count": 26
        }
      ]
    },
    {
      "cell_type": "markdown",
      "metadata": {
        "id": "Q4C2tOm4rLzO"
      },
      "source": [
        "Observamos que las predicciones son ahora bastante cercanas a los objetivos. Podemos mejorar estos resultados entrenando más ciclos. "
      ]
    },
    {
      "cell_type": "markdown",
      "metadata": {
        "id": "4nSexto8rLzR"
      },
      "source": [
        "## Regresión lineal empleando las funciones propias de Pytorch\n",
        "\n",
        "Hasta ahora hemos implementado la regresión lineal y el descenso de gradiente empleando operaciones básicas sobre tensores. Sin embargo, dado que estas operaciones son un patrón común en deep learning, Pytorch provee una serie de **funciones y clases propias** específicamente preparadas para facilitar la creación y entrenamiento con tan solo unas cuantas líneas de código. \n",
        "\n",
        "Empezaremos importando el paqete `torch.nn` de PyTorch, el cual contiene las clases de utilidad para construir redes neuronales (_neural networks_)."
      ]
    },
    {
      "cell_type": "code",
      "metadata": {
        "id": "qqm585tErLzR"
      },
      "source": [
        "import torch.nn as nn"
      ],
      "execution_count": 29,
      "outputs": []
    },
    {
      "cell_type": "markdown",
      "metadata": {
        "id": "HZgYP8ZsrLzR"
      },
      "source": [
        "Igual que antes, vamos a representar las entradas y salidas como matrices."
      ]
    },
    {
      "cell_type": "code",
      "metadata": {
        "id": "9Agf0fskrLzR"
      },
      "source": [
        "# Input (temp, rainfall, humidity)\n",
        "inputs = np.array([[73, 67, 43], \n",
        "                   [91, 88, 64], \n",
        "                   [87, 134, 58], \n",
        "                   [102, 43, 37], \n",
        "                   [69, 96, 70], \n",
        "                   [74, 66, 43], \n",
        "                   [91, 87, 65], \n",
        "                   [88, 134, 59], \n",
        "                   [101, 44, 37], \n",
        "                   [68, 96, 71], \n",
        "                   [73, 66, 44], \n",
        "                   [92, 87, 64], \n",
        "                   [87, 135, 57], \n",
        "                   [103, 43, 36], \n",
        "                   [68, 97, 70]], \n",
        "                  dtype='float32')\n",
        "\n",
        "# Targets (apples, oranges)\n",
        "targets = np.array([[56, 70], \n",
        "                    [81, 101], \n",
        "                    [119, 133], \n",
        "                    [22, 37], \n",
        "                    [103, 119],\n",
        "                    [57, 69], \n",
        "                    [80, 102], \n",
        "                    [118, 132], \n",
        "                    [21, 38], \n",
        "                    [104, 118], \n",
        "                    [57, 69], \n",
        "                    [82, 100], \n",
        "                    [118, 134], \n",
        "                    [20, 38], \n",
        "                    [102, 120]], \n",
        "                   dtype='float32')\n",
        "\n",
        "inputs = torch.from_numpy(inputs)\n",
        "targets = torch.from_numpy(targets)"
      ],
      "execution_count": 30,
      "outputs": []
    },
    {
      "cell_type": "code",
      "metadata": {
        "id": "7YSJX-qQrLzS",
        "colab": {
          "base_uri": "https://localhost:8080/"
        },
        "outputId": "2361e88a-03f2-4140-e40e-622c71dfd853"
      },
      "source": [
        "inputs"
      ],
      "execution_count": 31,
      "outputs": [
        {
          "output_type": "execute_result",
          "data": {
            "text/plain": [
              "tensor([[ 73.,  67.,  43.],\n",
              "        [ 91.,  88.,  64.],\n",
              "        [ 87., 134.,  58.],\n",
              "        [102.,  43.,  37.],\n",
              "        [ 69.,  96.,  70.],\n",
              "        [ 74.,  66.,  43.],\n",
              "        [ 91.,  87.,  65.],\n",
              "        [ 88., 134.,  59.],\n",
              "        [101.,  44.,  37.],\n",
              "        [ 68.,  96.,  71.],\n",
              "        [ 73.,  66.,  44.],\n",
              "        [ 92.,  87.,  64.],\n",
              "        [ 87., 135.,  57.],\n",
              "        [103.,  43.,  36.],\n",
              "        [ 68.,  97.,  70.]])"
            ]
          },
          "metadata": {
            "tags": []
          },
          "execution_count": 31
        }
      ]
    },
    {
      "cell_type": "markdown",
      "metadata": {
        "id": "XxL_xNkbrLzS"
      },
      "source": [
        "Vamos a usar 15 observaciones de entrenamiento para ilustrar como trabajar con conjuntos más grandes en pequeños lotes (_batches_). "
      ]
    },
    {
      "cell_type": "markdown",
      "metadata": {
        "id": "14AZDfjFrLzT"
      },
      "source": [
        "## Dataset y DataLoader\n",
        "\n",
        "Vamos a crear un `TensorDataset`, el cual va a permitir acceder a las filas de `inputs` y sus respectivos `targets` como tuplas, además de proveer APIs estandard para trabajar con muchos diferentes datasets en PyTorch."
      ]
    },
    {
      "cell_type": "code",
      "metadata": {
        "id": "v0Mxl6D6rLzT"
      },
      "source": [
        "from torch.utils.data import TensorDataset"
      ],
      "execution_count": 32,
      "outputs": []
    },
    {
      "cell_type": "code",
      "metadata": {
        "id": "BE4xRZFarLzT",
        "colab": {
          "base_uri": "https://localhost:8080/"
        },
        "outputId": "dbc8142c-401c-4be8-de4a-534991627b87"
      },
      "source": [
        "# Define dataset\n",
        "train_ds = TensorDataset(inputs, targets)\n",
        "train_ds[0:5]"
      ],
      "execution_count": 33,
      "outputs": [
        {
          "output_type": "execute_result",
          "data": {
            "text/plain": [
              "(tensor([[ 73.,  67.,  43.],\n",
              "         [ 91.,  88.,  64.],\n",
              "         [ 87., 134.,  58.],\n",
              "         [102.,  43.,  37.],\n",
              "         [ 69.,  96.,  70.]]), tensor([[ 56.,  70.],\n",
              "         [ 81., 101.],\n",
              "         [119., 133.],\n",
              "         [ 22.,  37.],\n",
              "         [103., 119.]]))"
            ]
          },
          "metadata": {
            "tags": []
          },
          "execution_count": 33
        }
      ]
    },
    {
      "cell_type": "markdown",
      "metadata": {
        "id": "UGTUR0WKrLzU"
      },
      "source": [
        "`TensorDataset` nos permite acceder a una pequeña sección de los datos de entrenamiento usando la notación de índices de array (`[0:3]` en el código anterior). Devuelve una tupla con dos elementos. The first element contains the input variables for the selected rows, and the second contains the targets."
      ]
    },
    {
      "cell_type": "markdown",
      "metadata": {
        "id": "7myFSQiIrLzU"
      },
      "source": [
        "Vamos a crear también un  `DataLoader`, el cual irá dividiendo los datos en lotes (_batches_) de un tamaño predefinido mientras hace el entrenamiento. tambien aporta otras utilidades como el barajeo (_shuffling_) y el muestreo aleatorio de los datos."
      ]
    },
    {
      "cell_type": "code",
      "metadata": {
        "id": "RIahdUBxrLzU"
      },
      "source": [
        "from torch.utils.data import DataLoader"
      ],
      "execution_count": 34,
      "outputs": []
    },
    {
      "cell_type": "code",
      "metadata": {
        "id": "ZvIVfKUirLzU"
      },
      "source": [
        "# Definimos el data loader\n",
        "batch_size = 5\n",
        "train_dl = DataLoader(train_ds, batch_size, shuffle=True)"
      ],
      "execution_count": 35,
      "outputs": []
    },
    {
      "cell_type": "markdown",
      "metadata": {
        "id": "5GSjfNphrLzV"
      },
      "source": [
        "Ahora podemos usar el data loader en un bucle `for`. Veamos un ejemplo:"
      ]
    },
    {
      "cell_type": "code",
      "metadata": {
        "id": "IZVM1j_CrLzV",
        "colab": {
          "base_uri": "https://localhost:8080/"
        },
        "outputId": "b8b51840-08cb-429f-c524-14f79960691d"
      },
      "source": [
        "for xb, yb in train_dl:\n",
        "    print(xb)\n",
        "    print(yb)\n",
        "    break"
      ],
      "execution_count": 36,
      "outputs": [
        {
          "output_type": "stream",
          "text": [
            "tensor([[ 69.,  96.,  70.],\n",
            "        [ 74.,  66.,  43.],\n",
            "        [ 91.,  88.,  64.],\n",
            "        [ 68.,  96.,  71.],\n",
            "        [ 88., 134.,  59.]])\n",
            "tensor([[103., 119.],\n",
            "        [ 57.,  69.],\n",
            "        [ 81., 101.],\n",
            "        [104., 118.],\n",
            "        [118., 132.]])\n"
          ],
          "name": "stdout"
        }
      ]
    },
    {
      "cell_type": "markdown",
      "metadata": {
        "id": "PNBYpzThrLzV"
      },
      "source": [
        "En cada iteración, el data loader devuelve un lote de datos con el tamaño indicado. Si `shuffle` es `True`, \"barajará\" los datos antes de crear los lotes. Esto ayuda a alatorizar las entradas al algoritmo de optimización, lo cual redunda en una reducción del error más rápida."
      ]
    },
    {
      "cell_type": "markdown",
      "metadata": {
        "id": "plceojdqrLzW"
      },
      "source": [
        "## nn.Linear\n",
        "\n",
        "En lugar de inicializar los pesos y biases manualmente, podemos definir el modelo usando la clase `nn.Linear` de PyTorch, la cual lo hace automáticamente."
      ]
    },
    {
      "cell_type": "code",
      "metadata": {
        "id": "KmOcrDJArLzW",
        "colab": {
          "base_uri": "https://localhost:8080/"
        },
        "outputId": "b0331617-8e4f-4f75-aa7a-758d3ab8d07d"
      },
      "source": [
        "# Define modelo\n",
        "model = nn.Linear(3, 2)\n",
        "print(model.weight)\n",
        "print(model.bias)"
      ],
      "execution_count": 37,
      "outputs": [
        {
          "output_type": "stream",
          "text": [
            "Parameter containing:\n",
            "tensor([[ 0.5090,  0.3376,  0.1861],\n",
            "        [ 0.3067, -0.0285,  0.0413]], requires_grad=True)\n",
            "Parameter containing:\n",
            "tensor([0.1154, 0.4751], requires_grad=True)\n"
          ],
          "name": "stdout"
        }
      ]
    },
    {
      "cell_type": "markdown",
      "metadata": {
        "id": "gpXQNIXFJCy-"
      },
      "source": [
        "**NOTA IMPORTANTE:** \r\n",
        "*La clase \"nn.Linear\" empleada no se refiere directamente a una regresion lineal. En realidad lo que describe es un tipo de red neuronal empleado. En concreto este es un modelo en el que las capas estan totalmente conectadas unas con otras, denominadas \"fully connected\" o \"dense\" (de forma similar a Keras). Más adelante veremos que los modelos de redes neuronales pueden estar compuestos de capas de este tipo, de capas convolucionales y otros tipos.*"
      ]
    },
    {
      "cell_type": "markdown",
      "metadata": {
        "id": "eFyWBxK9rLzW"
      },
      "source": [
        "Los modelos en PyTorch tienen un método muy útil llamado `.parameters`, el cual retorna una lista conteniendo todas las matrices de pesos y biases presentes en ese modelo. Para nuestro modelo de regresion lineal, tenemos una matriz de pesos y otra de biases."
      ]
    },
    {
      "cell_type": "code",
      "metadata": {
        "id": "PXgzbBafrLzX",
        "colab": {
          "base_uri": "https://localhost:8080/"
        },
        "outputId": "6fa8f504-07f7-402f-b9b4-05d9c4f296de"
      },
      "source": [
        "# Parametros\n",
        "list(model.parameters())"
      ],
      "execution_count": 38,
      "outputs": [
        {
          "output_type": "execute_result",
          "data": {
            "text/plain": [
              "[Parameter containing:\n",
              " tensor([[ 0.5090,  0.3376,  0.1861],\n",
              "         [ 0.3067, -0.0285,  0.0413]], requires_grad=True),\n",
              " Parameter containing:\n",
              " tensor([0.1154, 0.4751], requires_grad=True)]"
            ]
          },
          "metadata": {
            "tags": []
          },
          "execution_count": 38
        }
      ]
    },
    {
      "cell_type": "markdown",
      "metadata": {
        "id": "pgMML2MZrLzX"
      },
      "source": [
        "Ahora podemos usar el modelo generado para realizar nuestras predicciones."
      ]
    },
    {
      "cell_type": "code",
      "metadata": {
        "id": "nGHn-WjwrLzY",
        "colab": {
          "base_uri": "https://localhost:8080/"
        },
        "outputId": "84ba8754-9629-4c0a-d018-4da35b200dc1"
      },
      "source": [
        "# Genera prediciones\n",
        "preds = model(inputs)\n",
        "preds"
      ],
      "execution_count": 39,
      "outputs": [
        {
          "output_type": "execute_result",
          "data": {
            "text/plain": [
              "tensor([[ 67.8939,  22.7255],\n",
              "        [ 88.0535,  28.5131],\n",
              "        [100.4303,  25.7275],\n",
              "        [ 73.4364,  32.0554],\n",
              "        [ 80.6725,  21.7859],\n",
              "        [ 68.0653,  23.0606],\n",
              "        [ 87.9020,  28.5829],\n",
              "        [101.1254,  26.0754],\n",
              "        [ 73.2650,  31.7202],\n",
              "        [ 80.3496,  21.5205],\n",
              "        [ 67.7424,  22.7952],\n",
              "        [ 88.2249,  28.8483],\n",
              "        [100.5818,  25.6577],\n",
              "        [ 73.7593,  32.3208],\n",
              "        [ 80.5011,  21.4508]], grad_fn=<AddmmBackward>)"
            ]
          },
          "metadata": {
            "tags": []
          },
          "execution_count": 39
        }
      ]
    },
    {
      "cell_type": "markdown",
      "metadata": {
        "id": "AOIc9oSQrLzY"
      },
      "source": [
        "## Funcion de error o pérdida \n",
        "\n",
        "En lugar de definir una función de error manualmente, podemos usar la función propia de Pytorch `mse_loss`.\n"
      ]
    },
    {
      "cell_type": "code",
      "metadata": {
        "id": "bSJcJY6orLzY"
      },
      "source": [
        "# Importa nn.functional\n",
        "import torch.nn.functional as F"
      ],
      "execution_count": 40,
      "outputs": []
    },
    {
      "cell_type": "markdown",
      "metadata": {
        "id": "pWYGEHSarLzZ"
      },
      "source": [
        "El paquete `nn.functional` contiene muchas otras y útiles funciones de cálculo de error entre otras utilidades. "
      ]
    },
    {
      "cell_type": "code",
      "metadata": {
        "id": "ZljPEP0srLzZ"
      },
      "source": [
        "# Definimos la función de loss\n",
        "loss_fn = F.mse_loss"
      ],
      "execution_count": 41,
      "outputs": []
    },
    {
      "cell_type": "markdown",
      "metadata": {
        "id": "XneC34O9rLzZ"
      },
      "source": [
        "Calculamos el error para las predicciones de nuestro modelo de la siguiente forma: "
      ]
    },
    {
      "cell_type": "code",
      "metadata": {
        "id": "crqM8TDhrLzZ",
        "colab": {
          "base_uri": "https://localhost:8080/"
        },
        "outputId": "4ce9d7dc-f3b1-4568-a5ed-0f2ea06d93cf"
      },
      "source": [
        "loss = loss_fn(model(inputs), targets)\n",
        "print(loss)"
      ],
      "execution_count": 42,
      "outputs": [
        {
          "output_type": "stream",
          "text": [
            "tensor(3215.6758, grad_fn=<MseLossBackward>)\n"
          ],
          "name": "stdout"
        }
      ]
    },
    {
      "cell_type": "markdown",
      "metadata": {
        "id": "29J0-Tn6rLza"
      },
      "source": [
        "## Optimización\n",
        "\n",
        "En lugar de manualmente manipular los pesos y biases del modelo a través de los gradientes, podemos usar el optimizador propio `optim.SGD`. SGD es la abreviatura de \"stochastic gradient descent\". El término estocástico indica que las muestras son seleccionadas en lotes aleatorios en lugar de individualmente."
      ]
    },
    {
      "cell_type": "code",
      "metadata": {
        "id": "EgOLXduIrLza"
      },
      "source": [
        "# Define optimizador\n",
        "opt = torch.optim.SGD(model.parameters(), lr=1e-5)"
      ],
      "execution_count": 43,
      "outputs": []
    },
    {
      "cell_type": "markdown",
      "metadata": {
        "id": "wAnliLuxrLza"
      },
      "source": [
        "Obsérvese que los parámetros del modelo son pasados como argumento a `optim.SGD` de forma que el optimizador sepa qué matrices de pesos y biases osn las que tiene que ir modificando durante el proceso de actualización. También podemos especificar el ratio de aprendizaje \"lr\" que controla la cantidad con que los parametros son modificados."
      ]
    },
    {
      "cell_type": "markdown",
      "metadata": {
        "id": "DAYgy6btrLzb"
      },
      "source": [
        "## Entrenamiento del modelo\n",
        "\n",
        "Vamos ahora a realizar el entrenamiento del modelo. Seguiremos el mismo proceso que ya hemos visto para implementar el descenso de gradiente:\n",
        "\n",
        "1. Generamos predicciones\n",
        "\n",
        "2. Calculamos el error/pérdida\n",
        "\n",
        "3. Calculamos los gradientes c.r.a. los pesos y biases\n",
        "\n",
        "4. Ajustamos los pesos restando una pequeña cantidad proporcianal a los gradientes obtenidos\n",
        "\n",
        "5. Reseteamos los gradientes a cero para repetir la operación\n",
        "\n",
        "El único cambio es que ahora vamos a trabajar con lotes de datos en lugar de emplear el dataset de entrenamiento completo en cada iteracion. \n",
        "\n",
        "Vamos a definir una función `fit` que realizará el entrenamiento de esa forma para un número dado de ciclos (_epochs_)."
      ]
    },
    {
      "cell_type": "code",
      "metadata": {
        "id": "y5rMu6BPrLzb"
      },
      "source": [
        "def fit(num_epochs, model, loss_fn, opt, train_dl):\n",
        "    \n",
        "    # Repetir para el número especificado de epochs\n",
        "    for epoch in range(num_epochs):\n",
        "        \n",
        "        # Entrena por lotes de datos\n",
        "        for xb,yb in train_dl:\n",
        "            \n",
        "            # 1. Generamos predicciones\n",
        "            pred = model(xb)\n",
        "            \n",
        "            # 2. Calculamos el error/pérdida\n",
        "            loss = loss_fn(pred, yb)\n",
        "            \n",
        "            # 3. Calculamos los gradientes\n",
        "            loss.backward()\n",
        "            \n",
        "            # 4. Actualizamos los parámetros\n",
        "            opt.step()\n",
        "            \n",
        "            # 5. Reseteamos los gradientes a cero\n",
        "            opt.zero_grad()\n",
        "        \n",
        "        # Imprimimos el progreso\n",
        "        if (epoch+1) % 10 == 0:\n",
        "            print('Epoch [{}/{}], Loss: {:.4f}'.format(epoch+1, num_epochs, loss.item()))"
      ],
      "execution_count": 44,
      "outputs": []
    },
    {
      "cell_type": "markdown",
      "metadata": {
        "id": "uKYTBgY1rLzb"
      },
      "source": [
        "Algunso detalles sobre la función definida: \n",
        "\n",
        "* Usamos el data loader definido previamente para obtener lotes de datos para cada iteración.\n",
        "\n",
        "* En lugar de actualizar los parametros (pesos y biases) manualmente, usamos `opt.step` para realiarlo y `opt.zero_grad` para resetear a cer los gradientes. \n",
        "\n",
        "* Se ha añadido unas líneas de log que imprimen el error del último lote entrenado cada 10 iteraciones, de forma que podemos seguir en progreso de entrenamiento. `loss.item` retorna el valor actual almacenado en el tensor de error _loss_.\n",
        "\n",
        "Vamos a entrenar 100 veces:"
      ]
    },
    {
      "cell_type": "code",
      "metadata": {
        "id": "8r-JEYySrLzc",
        "colab": {
          "base_uri": "https://localhost:8080/"
        },
        "outputId": "3c72b63a-1bac-4300-92e1-1cd69930d301"
      },
      "source": [
        "fit(100, model, loss_fn, opt, train_dl)"
      ],
      "execution_count": 45,
      "outputs": [
        {
          "output_type": "stream",
          "text": [
            "Epoch [10/100], Loss: 895.9182\n",
            "Epoch [20/100], Loss: 384.4688\n",
            "Epoch [30/100], Loss: 311.8351\n",
            "Epoch [40/100], Loss: 427.4907\n",
            "Epoch [50/100], Loss: 96.2343\n",
            "Epoch [60/100], Loss: 6.8680\n",
            "Epoch [70/100], Loss: 46.7235\n",
            "Epoch [80/100], Loss: 60.9518\n",
            "Epoch [90/100], Loss: 40.7088\n",
            "Epoch [100/100], Loss: 18.6057\n"
          ],
          "name": "stdout"
        }
      ]
    },
    {
      "cell_type": "markdown",
      "metadata": {
        "id": "2JExdgXXrLzc"
      },
      "source": [
        "Let's generate predictions using our model and verify that they're close to our targets."
      ]
    },
    {
      "cell_type": "code",
      "metadata": {
        "id": "45dkmCS8rLzc",
        "colab": {
          "base_uri": "https://localhost:8080/"
        },
        "outputId": "91296d6b-efbc-40f7-a577-f75b56d72a6f"
      },
      "source": [
        "# Generate predictions\n",
        "preds = model(inputs)\n",
        "preds"
      ],
      "execution_count": 46,
      "outputs": [
        {
          "output_type": "execute_result",
          "data": {
            "text/plain": [
              "tensor([[ 58.3403,  71.9047],\n",
              "        [ 80.3898,  98.2444],\n",
              "        [119.1160, 134.9996],\n",
              "        [ 28.9864,  46.1990],\n",
              "        [ 94.2999, 109.7181],\n",
              "        [ 57.2534,  70.9688],\n",
              "        [ 79.8839,  97.8627],\n",
              "        [119.2644, 135.3887],\n",
              "        [ 30.0733,  47.1350],\n",
              "        [ 94.8808, 110.2724],\n",
              "        [ 57.8343,  71.5230],\n",
              "        [ 79.3030,  97.3085],\n",
              "        [119.6219, 135.3813],\n",
              "        [ 28.4055,  45.6448],\n",
              "        [ 95.3868, 110.6541]], grad_fn=<AddmmBackward>)"
            ]
          },
          "metadata": {
            "tags": []
          },
          "execution_count": 46
        }
      ]
    },
    {
      "cell_type": "code",
      "metadata": {
        "id": "2yKivQFPrLzd",
        "colab": {
          "base_uri": "https://localhost:8080/"
        },
        "outputId": "b7568568-e9f5-44f1-a2e6-cbf0df50520d"
      },
      "source": [
        "# Compare with targets\n",
        "targets"
      ],
      "execution_count": 47,
      "outputs": [
        {
          "output_type": "execute_result",
          "data": {
            "text/plain": [
              "tensor([[ 56.,  70.],\n",
              "        [ 81., 101.],\n",
              "        [119., 133.],\n",
              "        [ 22.,  37.],\n",
              "        [103., 119.],\n",
              "        [ 57.,  69.],\n",
              "        [ 80., 102.],\n",
              "        [118., 132.],\n",
              "        [ 21.,  38.],\n",
              "        [104., 118.],\n",
              "        [ 57.,  69.],\n",
              "        [ 82., 100.],\n",
              "        [118., 134.],\n",
              "        [ 20.,  38.],\n",
              "        [102., 120.]])"
            ]
          },
          "metadata": {
            "tags": []
          },
          "execution_count": 47
        }
      ]
    },
    {
      "cell_type": "markdown",
      "metadata": {
        "id": "nydotCibrLzd"
      },
      "source": [
        "Ahora las predicciones son bastante cercanas a nuestros valores objetivos. Hemos entrenado un modelo razonablemente bueno que nos permite predecir la cosecha a partir de tres variables temperatura, lluvias y humedad en una región. Podemos emplear el modelo para realizar predicciones para otra región pasandole un lote con una sola fila como entrada: "
      ]
    },
    {
      "cell_type": "code",
      "metadata": {
        "id": "3ONCHxZ3rLze",
        "colab": {
          "base_uri": "https://localhost:8080/"
        },
        "outputId": "ebcaf7a1-5acb-4773-be91-95e2e6439665"
      },
      "source": [
        "model(torch.tensor([[75, 63, 44.]]))"
      ],
      "execution_count": null,
      "outputs": [
        {
          "output_type": "execute_result",
          "data": {
            "text/plain": [
              "tensor([[54.0608, 69.3553]], grad_fn=<AddmmBackward>)"
            ]
          },
          "metadata": {
            "tags": []
          },
          "execution_count": 182
        }
      ]
    },
    {
      "cell_type": "markdown",
      "metadata": {
        "id": "7YO3RYSarLze"
      },
      "source": [
        "El modelo predice una cosecha de 54.3 tons/hect. de manzanas, y 68.3 tons/hect. de naranjas."
      ]
    },
    {
      "cell_type": "markdown",
      "metadata": {
        "id": "n2QOf-HEltUP"
      },
      "source": [
        "## Fin del Notebook"
      ]
    },
    {
      "cell_type": "markdown",
      "metadata": {
        "id": "BZDr1zYmBkRV"
      },
      "source": [
        "Referencias y modelos empleados para el Notebook: \r\n",
        "\r\n",
        "*   Documentación de [Pytorch](https://pytorch.org/docs/stable/index.html) \r\n",
        "*   [PyTorch Tutorial for Deep Learning Researchers](https://github.com/yunjey/pytorch-tutorial) by Yunjey Choi\r\n",
        "*   [FastAI](https://www.fast.ai/) development notebooks by Jeremy Howard.\r\n",
        "*   Documentación y cursos en [Pierian Data](https://www.pieriandata.com/)\r\n",
        "*   Tutoriales y notebooks del curso \"Deep Learning with Pytorch: Zero to GANs\" de [Aakash N S](https://jovian.ai/aakashns)\r\n",
        "\r\n",
        "\r\n",
        "\r\n"
      ]
    }
  ]
}