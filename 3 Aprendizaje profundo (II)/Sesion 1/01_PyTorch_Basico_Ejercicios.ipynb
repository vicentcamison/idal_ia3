{
  "nbformat": 4,
  "nbformat_minor": 0,
  "metadata": {
    "kernelspec": {
      "display_name": "Python 3",
      "language": "python",
      "name": "python3"
    },
    "language_info": {
      "codemirror_mode": {
        "name": "ipython",
        "version": 3
      },
      "file_extension": ".py",
      "mimetype": "text/x-python",
      "name": "python",
      "nbconvert_exporter": "python",
      "pygments_lexer": "ipython3",
      "version": "3.7.3"
    },
    "colab": {
      "name": "01-PyTorch_Basico_Ejercicios.ipynb",
      "provenance": [],
      "collapsed_sections": [
        "n2QOf-HEltUP"
      ],
      "include_colab_link": true
    }
  },
  "cells": [
    {
      "cell_type": "markdown",
      "metadata": {
        "id": "view-in-github",
        "colab_type": "text"
      },
      "source": [
        "<a href=\"https://colab.research.google.com/github/vicentcamison/idal_ia3/blob/main/3%20Aprendizaje%20profundo%20(II)/Sesion%201/01_PyTorch_Basico_Ejercicios.ipynb\" target=\"_parent\"><img src=\"https://colab.research.google.com/assets/colab-badge.svg\" alt=\"Open In Colab\"/></a>"
      ]
    },
    {
      "cell_type": "markdown",
      "metadata": {
        "id": "AVBv0eq8108q"
      },
      "source": [
        "![IDAL](https://i.imgur.com/tIKXIG1.jpg)  \n",
        "\n",
        "#**Máster en Inteligencia Artificial Avanzada y Aplicada:  IA^3**\n",
        "---\n"
      ]
    },
    {
      "cell_type": "markdown",
      "metadata": {
        "collapsed": true,
        "id": "VEvbppY2MddM"
      },
      "source": [
        "# PyTorch Basico Ejercicios \n",
        "\n",
        "En estos ejercicos crearemos algunos tensores y realizaremos operaciones básicos sobre ellos.\n"
      ]
    },
    {
      "cell_type": "markdown",
      "metadata": {
        "id": "a-WqWFLrFX0N"
      },
      "source": [
        "### 1. Realiza las importaciones standard\n",
        "Importa torch and NumPy"
      ]
    },
    {
      "cell_type": "code",
      "metadata": {
        "id": "7-iBtl_qFX0O"
      },
      "source": [
        "# TU CÓDIGO AQUÍ\n",
        "\n",
        "import torch\n",
        "import numpy as np"
      ],
      "execution_count": 1,
      "outputs": []
    },
    {
      "cell_type": "markdown",
      "metadata": {
        "id": "-WEIgHwpFX0P"
      },
      "source": [
        "### 2. Configura una semilla para los generadores de ambos Numpy y Pytorch con el valor \"42\"\n",
        "Esto permite reproducir los mismos resultados \"aleatorios\""
      ]
    },
    {
      "cell_type": "code",
      "metadata": {
        "id": "t3FGQjvFFX0P",
        "outputId": "c790b7eb-786b-4cb2-ec39-56e09140c571",
        "colab": {
          "base_uri": "https://localhost:8080/"
        }
      },
      "source": [
        "# TU CÓDIGO AQUÍ\n",
        "np.random.seed(42)\n",
        "torch.manual_seed(42)"
      ],
      "execution_count": 3,
      "outputs": [
        {
          "output_type": "execute_result",
          "data": {
            "text/plain": [
              "<torch._C.Generator at 0x7fa2b56a9b58>"
            ]
          },
          "metadata": {
            "tags": []
          },
          "execution_count": 3
        }
      ]
    },
    {
      "cell_type": "markdown",
      "metadata": {
        "id": "m7-jK-a9FX0Q"
      },
      "source": [
        "### 3. Crea un NumPy array llamado \"arr\" que contenga 6 enteros aleatorios entre 0 (incluido) y 5 (excluido)"
      ]
    },
    {
      "cell_type": "code",
      "metadata": {
        "id": "Xp5Yr_jyFX0Q",
        "outputId": "435e7363-6766-428d-c67b-09404fd4f759",
        "colab": {
          "base_uri": "https://localhost:8080/"
        }
      },
      "source": [
        "# TU CÓDIGO AQUÍ\n",
        "arr = np.random.randint(0,5,size=6)\n",
        "print(arr)"
      ],
      "execution_count": 4,
      "outputs": [
        {
          "output_type": "stream",
          "text": [
            "[3 4 2 4 4 1]\n"
          ],
          "name": "stdout"
        }
      ]
    },
    {
      "cell_type": "code",
      "metadata": {
        "colab": {
          "base_uri": "https://localhost:8080/"
        },
        "id": "2wCuVmuVFX0R",
        "outputId": "0769aa05-8d5b-4990-a981-77bd1bcf1a4c"
      },
      "source": [
        "# No escribas aquí. Compara tu resultado con lo que se muestra:"
      ],
      "execution_count": null,
      "outputs": [
        {
          "output_type": "stream",
          "text": [
            "[3 4 2 4 4 1]\n"
          ],
          "name": "stdout"
        }
      ]
    },
    {
      "cell_type": "markdown",
      "metadata": {
        "id": "VNKMiwSBFX0T"
      },
      "source": [
        "### 4. Crea a tensor \"x\" del array anterior "
      ]
    },
    {
      "cell_type": "code",
      "metadata": {
        "id": "ecB12BtPFX0T",
        "outputId": "09da94b4-52cf-4386-95b1-79b9b87c9ab6",
        "colab": {
          "base_uri": "https://localhost:8080/"
        }
      },
      "source": [
        "# TU CÓDIGO AQUÍ\n",
        "\n",
        "x = torch.from_numpy(arr)\n",
        "print(x)"
      ],
      "execution_count": 5,
      "outputs": [
        {
          "output_type": "stream",
          "text": [
            "tensor([3, 4, 2, 4, 4, 1])\n"
          ],
          "name": "stdout"
        }
      ]
    },
    {
      "cell_type": "code",
      "metadata": {
        "colab": {
          "base_uri": "https://localhost:8080/"
        },
        "id": "gF-3xtRPFX0U",
        "outputId": "effa235d-c341-4cc3-876c-04bdffce48e2"
      },
      "source": [
        "# No escribas aquí. Compara tu resultado con lo que se muestra:"
      ],
      "execution_count": null,
      "outputs": [
        {
          "output_type": "stream",
          "text": [
            "tensor([3, 4, 2, 4, 4, 1])\n"
          ],
          "name": "stdout"
        }
      ]
    },
    {
      "cell_type": "markdown",
      "metadata": {
        "id": "ZeLzZWH8FX0U"
      },
      "source": [
        "### 5. Cambia el tipo de dato (`dtype`) de x de 'int32' a 'int64'\n",
        "Nota: 'int64' tambien se puesde llamar 'LongTensor'"
      ]
    },
    {
      "cell_type": "code",
      "metadata": {
        "id": "H0hrptRGFX0V",
        "outputId": "67df72e3-8f44-402d-afed-1b2397dce031",
        "colab": {
          "base_uri": "https://localhost:8080/"
        }
      },
      "source": [
        "# TU CÓDIGO AQUÍ\n",
        "\n",
        "x = x.type(torch.LongTensor)\n",
        "#x = x.long()\n",
        "print(x.type())"
      ],
      "execution_count": 16,
      "outputs": [
        {
          "output_type": "stream",
          "text": [
            "torch.LongTensor\n"
          ],
          "name": "stdout"
        }
      ]
    },
    {
      "cell_type": "code",
      "metadata": {
        "colab": {
          "base_uri": "https://localhost:8080/"
        },
        "id": "SOGD2bfOFX0V",
        "outputId": "a0d4cdd5-366e-480f-e8e7-6e7e0779f585"
      },
      "source": [
        "# No escribas aquí. Compara tu resultado con lo que se muestra:"
      ],
      "execution_count": null,
      "outputs": [
        {
          "output_type": "stream",
          "text": [
            "torch.LongTensor\n"
          ],
          "name": "stdout"
        }
      ]
    },
    {
      "cell_type": "markdown",
      "metadata": {
        "id": "vRIev8pKFX0W"
      },
      "source": [
        "### 6. Cambia la forma del tensor a un 3x2 tensor\n",
        "Hay varias formas de hacer esto"
      ]
    },
    {
      "cell_type": "code",
      "metadata": {
        "id": "l4bMCN17FX0W",
        "outputId": "b061b70d-9dce-4d0a-e4a7-7202c79a4637",
        "colab": {
          "base_uri": "https://localhost:8080/"
        }
      },
      "source": [
        "# TU CÓDIGO AQUÍ\n",
        "\n",
        "x = torch.reshape(x, (3,2))\n",
        "print(x)"
      ],
      "execution_count": 8,
      "outputs": [
        {
          "output_type": "stream",
          "text": [
            "tensor([[3, 4],\n",
            "        [2, 4],\n",
            "        [4, 1]])\n"
          ],
          "name": "stdout"
        }
      ]
    },
    {
      "cell_type": "code",
      "metadata": {
        "colab": {
          "base_uri": "https://localhost:8080/"
        },
        "id": "liSfn9nXFX0X",
        "outputId": "1c578862-f555-4f23-8dba-4193ae02bfea"
      },
      "source": [
        "# No escribas aquí. Compara tu resultado con lo que se muestra:"
      ],
      "execution_count": null,
      "outputs": [
        {
          "output_type": "stream",
          "text": [
            "tensor([[3, 4],\n",
            "        [2, 4],\n",
            "        [4, 1]])\n"
          ],
          "name": "stdout"
        }
      ]
    },
    {
      "cell_type": "markdown",
      "metadata": {
        "id": "-crPCW01FX0X"
      },
      "source": [
        "### 7. Retorna la columna de la derecha del tensor the right-hand column of tensor x\r\n",
        "\r\n",
        "Atención a la forma de hacerlo. Hay varias posibilidades y cada una entrega los datos de forma diferente"
      ]
    },
    {
      "cell_type": "code",
      "metadata": {
        "id": "_Bd2N5_uLTdd",
        "outputId": "1069eb76-785d-479c-e4a8-aad44266b268",
        "colab": {
          "base_uri": "https://localhost:8080/"
        }
      },
      "source": [
        "# # TU CÓDIGO AQUÍ\n",
        "print(x[:,1:])"
      ],
      "execution_count": 17,
      "outputs": [
        {
          "output_type": "stream",
          "text": [
            "tensor([[4],\n",
            "        [4],\n",
            "        [1]])\n"
          ],
          "name": "stdout"
        }
      ]
    },
    {
      "cell_type": "code",
      "metadata": {
        "colab": {
          "base_uri": "https://localhost:8080/"
        },
        "id": "psHUi5tFFX0Y",
        "outputId": "f864cce7-fda2-4aca-9c4c-d2018371b597"
      },
      "source": [
        "# No escribas aquí. Compara tu resultado con lo que se muestra:"
      ],
      "execution_count": null,
      "outputs": [
        {
          "output_type": "stream",
          "text": [
            "tensor([[4],\n",
            "        [4],\n",
            "        [1]])\n"
          ],
          "name": "stdout"
        }
      ]
    },
    {
      "cell_type": "code",
      "metadata": {
        "id": "i_qBV5xFNo03",
        "outputId": "e407bd35-7b2b-45da-a530-e1b0b8eb3fde",
        "colab": {
          "base_uri": "https://localhost:8080/"
        }
      },
      "source": [
        "# TU CÓDIGO AQUÍ\n",
        "print(x[:,1])"
      ],
      "execution_count": 10,
      "outputs": [
        {
          "output_type": "stream",
          "text": [
            "tensor([4, 4, 1])\n"
          ],
          "name": "stdout"
        }
      ]
    },
    {
      "cell_type": "code",
      "metadata": {
        "colab": {
          "base_uri": "https://localhost:8080/"
        },
        "id": "lL2nx3aUKP_X",
        "outputId": "e7f5fa40-348c-4efc-d861-2a208b1c652c"
      },
      "source": [
        "# No escribas aquí. Compara tu resultado con lo que se muestra:"
      ],
      "execution_count": null,
      "outputs": [
        {
          "output_type": "stream",
          "text": [
            "tensor([4, 4, 1])\n"
          ],
          "name": "stdout"
        }
      ]
    },
    {
      "cell_type": "markdown",
      "metadata": {
        "id": "seXrwOn0FX0Y"
      },
      "source": [
        "### 8. Sin cambiar x, retorna un tensor con los valores cuadradaticos de x\n",
        "Hay varias formas de hacer esto"
      ]
    },
    {
      "cell_type": "code",
      "metadata": {
        "id": "imgbmhh1LUPK",
        "outputId": "48c02743-ed8a-4ca6-835e-3e15a797d9c2",
        "colab": {
          "base_uri": "https://localhost:8080/"
        }
      },
      "source": [
        "# TU CÓDIGO AQUÍ\n",
        "\n",
        "print(x**2)"
      ],
      "execution_count": 11,
      "outputs": [
        {
          "output_type": "stream",
          "text": [
            "tensor([[ 9, 16],\n",
            "        [ 4, 16],\n",
            "        [16,  1]])\n"
          ],
          "name": "stdout"
        }
      ]
    },
    {
      "cell_type": "code",
      "metadata": {
        "id": "IHqa4hm-FX0c",
        "outputId": "b7b9ba98-dae2-4ab5-e436-ca0adaf5602f"
      },
      "source": [
        "# No escribas aquí. Compara tu resultado con lo que se muestra:"
      ],
      "execution_count": null,
      "outputs": [
        {
          "output_type": "stream",
          "text": [
            "tensor([[ 9, 16],\n",
            "        [ 4, 16],\n",
            "        [16,  1]])\n"
          ],
          "name": "stdout"
        }
      ]
    },
    {
      "cell_type": "markdown",
      "metadata": {
        "id": "j0mS61beFX0d"
      },
      "source": [
        "### 9. Crea un tensor \"y\" con el mismo número de elementos que x, de forma que pueda realizar una multoplicación de matrices.\n",
        "\n",
        "Utiliza funciones de Pytorch directamente para crear un tensor de enteros aleatorios entre 0 (incluido) y 5 (excluido). \n",
        "\n",
        "Ten en cuenta qué forma debe tener para hacer la multiplicación de matrices..."
      ]
    },
    {
      "cell_type": "code",
      "metadata": {
        "id": "TTGQAF9aFX0d",
        "outputId": "7204a311-797e-4dbe-d127-686d939e5b96",
        "colab": {
          "base_uri": "https://localhost:8080/"
        }
      },
      "source": [
        "# TU CÓDIGO AQUÍ\n",
        "\n",
        "y = torch.from_numpy(np.random.randint(0,5,size=(2,3)))\n",
        "print(y)"
      ],
      "execution_count": 13,
      "outputs": [
        {
          "output_type": "stream",
          "text": [
            "tensor([[2, 2, 2],\n",
            "        [4, 3, 2]])\n"
          ],
          "name": "stdout"
        }
      ]
    },
    {
      "cell_type": "code",
      "metadata": {
        "id": "VV3yGlzpFX0d",
        "outputId": "59fcb726-f93c-417c-87c1-cdf1d4abfa7e"
      },
      "source": [
        "# No escribas aquí. Compara tu resultado con lo que se muestra:"
      ],
      "execution_count": null,
      "outputs": [
        {
          "output_type": "stream",
          "text": [
            "tensor([[2, 2, 1],\n",
            "        [4, 1, 0]])\n"
          ],
          "name": "stdout"
        }
      ]
    },
    {
      "cell_type": "markdown",
      "metadata": {
        "id": "eERlJ1WiFX0e"
      },
      "source": [
        "### 10. Realiza el producto de matrices entre x e y"
      ]
    },
    {
      "cell_type": "code",
      "metadata": {
        "id": "ltMQrGtSFX0e",
        "outputId": "b148de25-b5e1-4feb-d82e-d65ee98c88b2",
        "colab": {
          "base_uri": "https://localhost:8080/"
        }
      },
      "source": [
        "# TU CÓDIGO AQUÍ\n",
        "\n",
        "print(torch.matmul(x, y))"
      ],
      "execution_count": 14,
      "outputs": [
        {
          "output_type": "stream",
          "text": [
            "tensor([[22, 18, 14],\n",
            "        [20, 16, 12],\n",
            "        [12, 11, 10]])\n"
          ],
          "name": "stdout"
        }
      ]
    },
    {
      "cell_type": "code",
      "metadata": {
        "id": "hBGN5ITuFX0f",
        "outputId": "a3d13bb5-573c-49a4-dab4-8d041442b865"
      },
      "source": [
        "# No escribas aquí. Compara tu resultado con lo que se muestra:"
      ],
      "execution_count": null,
      "outputs": [
        {
          "output_type": "stream",
          "text": [
            "tensor([[22, 10,  3],\n",
            "        [20,  8,  2],\n",
            "        [12,  9,  4]])\n"
          ],
          "name": "stdout"
        }
      ]
    },
    {
      "cell_type": "markdown",
      "metadata": {
        "id": "dqMUG9NWFX0f"
      },
      "source": [
        "## Enhorabuena! Vamos calentando motores..."
      ]
    },
    {
      "cell_type": "markdown",
      "metadata": {
        "id": "n2QOf-HEltUP"
      },
      "source": [
        "## Fin del Notebook"
      ]
    },
    {
      "cell_type": "markdown",
      "metadata": {
        "id": "BZDr1zYmBkRV"
      },
      "source": [
        "Referencias y modelos empleados para el Notebook: \r\n",
        "\r\n",
        "*   Documentación de [Pytorch](https://pytorch.org/docs/stable/index.html) \r\n",
        "*   [PyTorch Tutorial for Deep Learning Researchers](https://github.com/yunjey/pytorch-tutorial) by Yunjey Choi\r\n",
        "*   [FastAI](https://www.fast.ai/) development notebooks by Jeremy Howard.\r\n",
        "*   Documentación y cursos en [Pierian Data](https://www.pieriandata.com/)\r\n"
      ]
    }
  ]
}