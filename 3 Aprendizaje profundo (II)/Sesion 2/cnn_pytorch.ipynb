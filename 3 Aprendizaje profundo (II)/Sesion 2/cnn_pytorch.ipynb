{
  "nbformat": 4,
  "nbformat_minor": 0,
  "metadata": {
    "colab": {
      "name": "cnn_pytorch.ipynb",
      "provenance": [],
      "authorship_tag": "ABX9TyMg6SPdGwoZyBGqNElkb3fl",
      "include_colab_link": true
    },
    "kernelspec": {
      "name": "python3",
      "display_name": "Python 3"
    }
  },
  "cells": [
    {
      "cell_type": "markdown",
      "metadata": {
        "id": "view-in-github",
        "colab_type": "text"
      },
      "source": [
        "<a href=\"https://colab.research.google.com/github/vicentcamison/idal_ia3/blob/main/3%20Aprendizaje%20profundo%20(II)/Sesion%202/cnn_pytorch.ipynb\" target=\"_parent\"><img src=\"https://colab.research.google.com/assets/colab-badge.svg\" alt=\"Open In Colab\"/></a>"
      ]
    },
    {
      "cell_type": "code",
      "metadata": {
        "id": "hNHMylUNsjMi"
      },
      "source": [
        "import numpy as np\n",
        "import pandas as pd\n",
        "import matplotlib.pyplot as plt\n",
        "\n",
        "import torch\n",
        "import torch.nn as nn\n",
        "import torch.nn.functional as F\n",
        "import torch.optim as optim\n",
        "from torch.utils.data import Dataset, DataLoader\n",
        "\n",
        "import torchvision\n",
        "import torchvision.transforms as transforms"
      ],
      "execution_count": null,
      "outputs": []
    },
    {
      "cell_type": "code",
      "metadata": {
        "id": "RldjBspDkrZu",
        "colab": {
          "base_uri": "https://localhost:8080/"
        },
        "outputId": "82c73859-9dab-4758-d935-6c6681f51cf5"
      },
      "source": [
        "device = torch.device(\"cuda:0\" if torch.cuda.is_available() else \"cpu\")\n",
        "print(device)"
      ],
      "execution_count": null,
      "outputs": [
        {
          "output_type": "stream",
          "text": [
            "cpu\n"
          ],
          "name": "stdout"
        }
      ]
    },
    {
      "cell_type": "code",
      "metadata": {
        "id": "x0gCbHgJsy0J"
      },
      "source": [
        "input_1d = torch.randn(10, dtype=torch.float)\n",
        "input_2d = torch.randn(2,5, dtype=torch.float)\n",
        "input_2d_img = torch.randn(3, 10, 3, dtype=torch.float)"
      ],
      "execution_count": null,
      "outputs": []
    },
    {
      "cell_type": "code",
      "metadata": {
        "colab": {
          "base_uri": "https://localhost:8080/"
        },
        "id": "IPg9wP58tm_s",
        "outputId": "8f300923-eb15-4a1f-a50b-7771171ebe94"
      },
      "source": [
        "input_2d_img"
      ],
      "execution_count": null,
      "outputs": [
        {
          "output_type": "execute_result",
          "data": {
            "text/plain": [
              "tensor([[[-0.0544, -0.4868,  2.4613],\n",
              "         [-1.5481,  1.5498,  1.3548],\n",
              "         [ 1.4361, -1.0990,  0.7821],\n",
              "         [ 0.7744, -1.1267, -0.3519],\n",
              "         [ 0.6887, -0.2963, -2.3854],\n",
              "         [ 2.4260, -1.0811, -0.2520],\n",
              "         [ 1.0133, -0.4325,  2.5755],\n",
              "         [-0.3654,  0.3024,  2.0008],\n",
              "         [ 0.4906,  0.3306,  0.7618],\n",
              "         [ 0.5280,  0.4236, -2.0748]],\n",
              "\n",
              "        [[ 0.3671,  0.1908, -0.4536],\n",
              "         [-0.2864, -0.2781,  0.7195],\n",
              "         [ 0.1774,  0.9590, -1.2340],\n",
              "         [ 0.1827, -1.9651, -1.4165],\n",
              "         [-0.3403, -0.5598,  0.1680],\n",
              "         [ 0.1688,  1.7271,  0.3822],\n",
              "         [ 0.2856,  1.1516,  0.6177],\n",
              "         [ 1.2140,  2.5443,  0.4420],\n",
              "         [-0.8987,  0.3699,  1.1989],\n",
              "         [ 1.2867, -0.1928, -1.4054]],\n",
              "\n",
              "        [[-0.3557,  1.1903, -0.1732],\n",
              "         [ 0.1881,  2.0234,  0.5225],\n",
              "         [-0.1435, -0.1126, -0.6896],\n",
              "         [ 2.0196,  1.8368, -0.2762],\n",
              "         [ 0.2629,  0.2415,  2.1507],\n",
              "         [ 0.1594,  1.1416, -0.5449],\n",
              "         [ 0.9918, -1.0004, -0.9745],\n",
              "         [-0.6375, -0.8384,  2.0012],\n",
              "         [ 1.1323, -0.1973, -0.9076],\n",
              "         [ 2.4956, -0.4120,  0.6599]]])"
            ]
          },
          "metadata": {
            "tags": []
          },
          "execution_count": 50
        }
      ]
    },
    {
      "cell_type": "code",
      "metadata": {
        "colab": {
          "base_uri": "https://localhost:8080/"
        },
        "id": "eLJrypuct8Qs",
        "outputId": "2255861f-fb28-426a-d5f6-f016afd15ffa"
      },
      "source": [
        "## -- CONV 1D --\n",
        "\n",
        "input_1d = input_1d.unsqueeze(0).unsqueeze(0)\n",
        "input_1d.shape"
      ],
      "execution_count": null,
      "outputs": [
        {
          "output_type": "execute_result",
          "data": {
            "text/plain": [
              "torch.Size([1, 1, 10])"
            ]
          },
          "metadata": {
            "tags": []
          },
          "execution_count": 51
        }
      ]
    },
    {
      "cell_type": "code",
      "metadata": {
        "colab": {
          "base_uri": "https://localhost:8080/"
        },
        "id": "IgjTJrMqulkN",
        "outputId": "4c7ca383-8ef0-4403-9369-d17e4e9e22a0"
      },
      "source": [
        "cnn1d_1 = nn.Conv1d(in_channels=1, out_channels=5, kernel_size=2, stride=2, padding=1)\n",
        "\n",
        "print('cnn1d_1: \\n')\n",
        "print(cnn1d_1(input_1d).shape, '\\n')\n",
        "print(cnn1d_1(input_1d))"
      ],
      "execution_count": null,
      "outputs": [
        {
          "output_type": "stream",
          "text": [
            "cnn1d_1: \n",
            "\n",
            "torch.Size([1, 5, 6]) \n",
            "\n",
            "tensor([[[ 0.5096,  0.3993,  0.4346,  0.5027, -0.4903,  1.2785],\n",
            "         [-0.0844,  0.2502,  0.0338, -0.3273, -1.1764,  0.5537],\n",
            "         [ 0.2284, -1.3790, -0.4804,  1.0551,  0.1509,  0.9968],\n",
            "         [ 0.1818,  0.7278,  0.4417, -0.0530,  0.9290, -0.5984],\n",
            "         [-0.1782, -0.6798, -0.4191,  0.0324, -0.9438,  0.5955]]],\n",
            "       grad_fn=<SqueezeBackward1>)\n"
          ],
          "name": "stdout"
        }
      ]
    },
    {
      "cell_type": "code",
      "metadata": {
        "colab": {
          "base_uri": "https://localhost:8080/"
        },
        "id": "KrsqQYwhxBS8",
        "outputId": "0a3bae94-477b-4e0d-e75b-54a28c320b2f"
      },
      "source": [
        "## -- CONV 1D A ENTRADAS 2D --\n",
        "#También se puede aplicar la convolución 1D a tensores 2D\n",
        "#lo preparamos primero añadiendo la capa de 'color'\n",
        "\n",
        "input_2d = input_2d.unsqueeze(0)\n",
        "input_2d.shape"
      ],
      "execution_count": null,
      "outputs": [
        {
          "output_type": "execute_result",
          "data": {
            "text/plain": [
              "torch.Size([1, 2, 5])"
            ]
          },
          "metadata": {
            "tags": []
          },
          "execution_count": 53
        }
      ]
    },
    {
      "cell_type": "code",
      "metadata": {
        "colab": {
          "base_uri": "https://localhost:8080/"
        },
        "id": "sgtKE9e2xR4i",
        "outputId": "f43aa3ca-b34d-4b93-f772-d9b1d6fc7866"
      },
      "source": [
        "cnn1d_5 = nn.Conv1d(in_channels=2, out_channels=1, kernel_size=3, stride=1)\n",
        "\n",
        "print('cnn1d_5: \\n')\n",
        "print(cnn1d_5(input_2d).shape, '\\n')\n",
        "print(cnn1d_5(input_2d))\n",
        "\n",
        "#En este caso, está cogiendo lo que normalmente identificamos como el EJE Y,\n",
        "# como el número de canales de entrada (como si fueran dos colores distintos,\n",
        "# o incluso interpretado como el resultado de dos filtros 'previos')"
      ],
      "execution_count": null,
      "outputs": [
        {
          "output_type": "stream",
          "text": [
            "cnn1d_5: \n",
            "\n",
            "torch.Size([1, 1, 3]) \n",
            "\n",
            "tensor([[[ 0.3273, -0.5478,  1.9878]]], grad_fn=<SqueezeBackward1>)\n"
          ],
          "name": "stdout"
        }
      ]
    },
    {
      "cell_type": "code",
      "metadata": {
        "colab": {
          "base_uri": "https://localhost:8080/"
        },
        "id": "MyIV0z-5yIm3",
        "outputId": "61381ca6-02f0-4a3f-aa5d-773d030e041d"
      },
      "source": [
        "cnn1d_6 = nn.Conv1d(in_channels=2, out_channels=5, kernel_size=2, stride=2, padding=1)\n",
        "\n",
        "print('cnn1d_6: \\n')\n",
        "print(cnn1d_6(input_2d).shape, '\\n')\n",
        "print(cnn1d_6(input_2d))"
      ],
      "execution_count": null,
      "outputs": [
        {
          "output_type": "stream",
          "text": [
            "cnn1d_6: \n",
            "\n",
            "torch.Size([1, 5, 3]) \n",
            "\n",
            "tensor([[[-0.3771,  0.1380, -0.0916],\n",
            "         [ 0.3593,  0.4794,  1.4011],\n",
            "         [ 0.3752,  0.3616,  1.0828],\n",
            "         [-0.1182, -0.2909, -0.7387],\n",
            "         [ 0.1998, -0.0550, -0.1297]]], grad_fn=<SqueezeBackward1>)\n"
          ],
          "name": "stdout"
        }
      ]
    },
    {
      "cell_type": "code",
      "metadata": {
        "colab": {
          "base_uri": "https://localhost:8080/"
        },
        "id": "htUaExsw06mU",
        "outputId": "e522911e-37fc-4c15-f958-67945dbde9cf"
      },
      "source": [
        "## -- CONV 2D -- \n",
        "\n",
        "# Añadimos una nueva dimensión que (supongo) representa la cantidad\n",
        "# de datos que tenemos (en este caso, sólo tenemos 1 imágen)\n",
        "\n",
        "input_2d_img = input_2d_img.unsqueeze(0)\n",
        "input_2d_img.shape"
      ],
      "execution_count": null,
      "outputs": [
        {
          "output_type": "execute_result",
          "data": {
            "text/plain": [
              "torch.Size([1, 3, 10, 3])"
            ]
          },
          "metadata": {
            "tags": []
          },
          "execution_count": 56
        }
      ]
    },
    {
      "cell_type": "code",
      "metadata": {
        "colab": {
          "base_uri": "https://localhost:8080/"
        },
        "id": "8UsCsHE71QfF",
        "outputId": "b4e7d61f-d5a4-4cd0-eae9-312bed5c68bc"
      },
      "source": [
        "# Creamos la capa convolucional\n",
        "cnn2d_1 = nn.Conv2d(in_channels=3, out_channels=3, kernel_size=3, stride=1)\n",
        "\n",
        "print('cnn2d_1: \\n')\n",
        "print(cnn2d_1(input_2d_img).shape, '\\n')\n",
        "print(cnn2d_1(input_2d_img))"
      ],
      "execution_count": null,
      "outputs": [
        {
          "output_type": "stream",
          "text": [
            "cnn2d_1: \n",
            "\n",
            "torch.Size([1, 3, 8, 1]) \n",
            "\n",
            "tensor([[[[-0.0967],\n",
            "          [ 0.8574],\n",
            "          [-0.3754],\n",
            "          [ 0.5634],\n",
            "          [ 0.8096],\n",
            "          [-0.9046],\n",
            "          [-1.0489],\n",
            "          [ 0.7761]],\n",
            "\n",
            "         [[-0.6125],\n",
            "          [ 0.6857],\n",
            "          [ 0.5271],\n",
            "          [ 0.4835],\n",
            "          [ 0.0284],\n",
            "          [ 0.1551],\n",
            "          [-0.1700],\n",
            "          [-0.8534]],\n",
            "\n",
            "         [[ 0.0723],\n",
            "          [-1.3686],\n",
            "          [-0.1435],\n",
            "          [-0.3495],\n",
            "          [ 0.1465],\n",
            "          [ 0.2665],\n",
            "          [ 0.0450],\n",
            "          [ 0.5455]]]], grad_fn=<ThnnConv2DBackward>)\n"
          ],
          "name": "stdout"
        }
      ]
    },
    {
      "cell_type": "code",
      "metadata": {
        "colab": {
          "base_uri": "https://localhost:8080/"
        },
        "id": "YDhfJRXu16Kp",
        "outputId": "1c276dcb-cc38-4fee-e76b-a4ce13810376"
      },
      "source": [
        "cnn2d_2 = nn.Conv2d(in_channels=3, out_channels=5, kernel_size=2, padding=1)\n",
        "\n",
        "print('cnn2d_2 \\n')\n",
        "print(cnn2d_2(input_2d_img).shape, '\\n')\n",
        "print(cnn2d_2(input_2d_img))"
      ],
      "execution_count": null,
      "outputs": [
        {
          "output_type": "stream",
          "text": [
            "cnn2d_2 \n",
            "\n",
            "torch.Size([1, 5, 11, 4]) \n",
            "\n",
            "tensor([[[[ 0.1813,  0.5050,  0.5328, -0.3988],\n",
            "          [ 0.1293,  0.8883,  0.4461,  0.0829],\n",
            "          [ 0.4657,  0.0246,  0.4771, -0.4220],\n",
            "          [ 0.5573,  0.4396, -0.1813,  0.0985],\n",
            "          [ 0.1421,  0.5485,  1.6716,  1.4015],\n",
            "          [ 0.2979,  0.4425,  1.3544,  0.7910],\n",
            "          [ 0.2209,  0.1290,  0.2060, -0.5830],\n",
            "          [ 0.1161,  0.7448,  0.2340, -0.2863],\n",
            "          [ 0.3559, -0.3338, -0.9009,  0.3169],\n",
            "          [ 0.9924,  1.0399, -0.4414, -0.0427],\n",
            "          [ 0.1183,  0.3562,  0.4301,  0.8160]],\n",
            "\n",
            "         [[-0.2333, -0.7368,  0.2523,  0.3719],\n",
            "          [-0.4786, -0.7825,  0.4459,  0.1981],\n",
            "          [-0.0045, -0.9896, -0.6864,  0.3838],\n",
            "          [-0.5478,  0.0484,  0.7064, -0.2305],\n",
            "          [-0.6595, -0.3192, -1.6534, -0.8798],\n",
            "          [ 0.0457, -0.2774, -1.3361, -0.9987],\n",
            "          [-0.4069,  0.0507,  0.0585,  0.1578],\n",
            "          [-0.5669, -0.4883, -0.5090,  1.0434],\n",
            "          [-0.2870,  0.5944,  0.1810, -0.3421],\n",
            "          [-0.9398, -0.1377, -0.2961,  0.1997],\n",
            "          [-0.9523, -0.0208, -0.1953, -0.9818]],\n",
            "\n",
            "         [[ 0.1167,  0.2261,  1.1378,  0.4827],\n",
            "          [-0.0394,  1.0044,  0.8526,  1.0038],\n",
            "          [ 0.7032, -1.0919,  0.2821,  0.7609],\n",
            "          [ 0.7832,  1.5888,  0.5765,  0.3720],\n",
            "          [ 0.1288,  0.2216, -0.6470,  0.1478],\n",
            "          [ 0.8289,  0.3085, -0.3599, -0.6973],\n",
            "          [ 0.4760,  0.7197,  0.3809,  0.2420],\n",
            "          [-0.3692,  0.1118,  0.8744,  1.6571],\n",
            "          [ 0.9271,  1.0202,  0.1437,  0.4764],\n",
            "          [ 0.5163,  0.6489,  0.2275,  0.8150],\n",
            "          [-0.1624,  0.4513,  0.3679, -0.5914]],\n",
            "\n",
            "         [[ 0.0888,  0.5724, -0.1594, -0.5522],\n",
            "          [ 0.7332,  0.1931, -0.4077,  0.3253],\n",
            "          [-0.2858, -0.6656,  1.3168, -0.1425],\n",
            "          [ 0.4798,  1.1041, -0.3396,  0.2420],\n",
            "          [-0.3140, -0.3253,  1.5462,  1.0657],\n",
            "          [-0.4449, -0.1161,  0.3718,  0.5351],\n",
            "          [ 0.1586,  0.2192, -0.2944, -0.6385],\n",
            "          [-0.1332,  0.9105,  0.3385, -0.3774],\n",
            "          [ 0.8457,  0.0892, -1.4520,  0.8520],\n",
            "          [-0.0759,  0.8379,  1.1373,  0.0019],\n",
            "          [-0.0788,  0.5952, -0.3705,  0.4554]],\n",
            "\n",
            "         [[-0.0448, -0.0323,  0.8445,  0.6396],\n",
            "          [-0.3510,  0.3131,  1.4371, -0.0165],\n",
            "          [ 0.3217,  0.4469,  0.1633,  0.0264],\n",
            "          [ 0.5410,  0.1237,  0.8348, -0.2184],\n",
            "          [ 0.4709,  0.8153,  0.1989, -0.2503],\n",
            "          [ 0.8959,  0.0393, -0.4871,  0.5952],\n",
            "          [ 0.6199, -1.0662,  0.5322,  0.6000],\n",
            "          [-0.3012, -1.1494,  0.8040,  0.1786],\n",
            "          [ 0.1643, -0.3552,  0.0437,  0.0026],\n",
            "          [ 0.4383,  0.4777, -0.3183, -0.5208],\n",
            "          [-0.1359,  0.3132,  0.1241,  0.5011]]]],\n",
            "       grad_fn=<ThnnConv2DBackward>)\n"
          ],
          "name": "stdout"
        }
      ]
    },
    {
      "cell_type": "markdown",
      "metadata": {
        "id": "X5_ZZDp1OY5q"
      },
      "source": [
        "# RED CONVOLUCIONAL DE CLASIFICACIÓN DE IMÁGENES CIFAR-10"
      ]
    },
    {
      "cell_type": "code",
      "metadata": {
        "id": "hawR_KebOXEF"
      },
      "source": [
        "#preparamos la nueva normalziación de la imagen: de [0, 1] a [-1, 1]\n",
        "transform = transforms.Compose(\n",
        "    [transforms.ToTensor(),\n",
        "     transforms.Normalize((0.5, 0.5, 0.5), (0.5, 0.5, 0.5))])"
      ],
      "execution_count": null,
      "outputs": []
    },
    {
      "cell_type": "code",
      "metadata": {
        "id": "mHchmp7LQvbL",
        "colab": {
          "base_uri": "https://localhost:8080/"
        },
        "outputId": "8834bdee-b810-46e2-dd7d-f2bbc240d190"
      },
      "source": [
        "#Descargamos los conjuntos necesarios para train y test\n",
        "batch_size = 4\n",
        "trainset = torchvision.datasets.CIFAR10(root='./data', train=True,\n",
        "                                        download=True, transform=transform)\n",
        "trainloader = torch.utils.data.DataLoader(trainset, batch_size=batch_size,\n",
        "                                          shuffle=True, num_workers=2)\n",
        "\n",
        "testset = torchvision.datasets.CIFAR10(root='./data', train=False,\n",
        "                                       download=True, transform=transform)\n",
        "testloader = torch.utils.data.DataLoader(testset, batch_size=batch_size,\n",
        "                                         shuffle=False, num_workers=2)\n",
        "\n",
        "classes = ('plane', 'car', 'bird', 'cat',\n",
        "           'deer', 'dog', 'frog', 'horse', 'ship', 'truck')"
      ],
      "execution_count": null,
      "outputs": [
        {
          "output_type": "stream",
          "text": [
            "Files already downloaded and verified\n",
            "Files already downloaded and verified\n"
          ],
          "name": "stdout"
        }
      ]
    },
    {
      "cell_type": "code",
      "metadata": {
        "id": "2HD3M--HSF5Z",
        "colab": {
          "base_uri": "https://localhost:8080/",
          "height": 155
        },
        "outputId": "2f49cd5f-ab67-46df-cebd-e6df2e2de4f4"
      },
      "source": [
        "#Probemos a montar un código encargado de mostrar algunas imágenes\n",
        "\n",
        "def imshow(img):\n",
        "  img = img / 2 + 0.5 # desnormalización de la imágen\n",
        "  npimg = img.numpy()\n",
        "  plt.imshow(np.transpose(npimg, (1, 2, 0)))\n",
        "  plt.show()\n",
        "\n",
        "#Cogemos un conjunto de imágenes\n",
        "dataiter = iter(trainloader) #generamos el iterador\n",
        "images, labels = dataiter.next()\n",
        "\n",
        "#Mostramos las imágenes\n",
        "imshow(torchvision.utils.make_grid(images))\n",
        "#Mostramos las labels\n",
        "print(' '.join('%5s' % classes[labels[j]] for j in range(labels.size(0))))"
      ],
      "execution_count": null,
      "outputs": [
        {
          "output_type": "display_data",
          "data": {
            "image/png": "[encoded data removed]",
            "text/plain": [
              "<Figure size 432x288 with 1 Axes>"
            ]
          },
          "metadata": {
            "tags": [],
            "needs_background": "light"
          }
        },
        {
          "output_type": "stream",
          "text": [
            "truck  frog  frog plane\n"
          ],
          "name": "stdout"
        }
      ]
    },
    {
      "cell_type": "code",
      "metadata": {
        "id": "qdI3cYqFTxE0"
      },
      "source": [
        "# Definimos la CNN\n",
        "\n",
        "class Net(nn.Module):\n",
        "  def __init__(self):\n",
        "    super(Net, self).__init__()\n",
        "    self.conv1 = nn.Conv2d(3, 6, 5)\n",
        "    self.pool = nn.MaxPool2d(2,2)\n",
        "    self.conv2 = nn.Conv2d(6, 16, 5)\n",
        "    self.fc1 = nn.Linear(16*5*5, 120)\n",
        "    self.fc2 = nn.Linear(120, 84)\n",
        "    self.fc3 = nn.Linear(84, 10)\n",
        "\n",
        "  def forward(self, x):\n",
        "    x = self.pool(F.relu(self.conv1(x)))\n",
        "    x = self.pool(F.relu(self.conv2(x)))\n",
        "    x = x.view(-1, 16*5*5) #creo que esto era equivalente a un flatten\n",
        "    x = F.relu(self.fc1(x))\n",
        "    x = F.relu(self.fc2(x))\n",
        "    x = self.fc3(x)\n",
        "    return x\n",
        "\n",
        "net = Net()"
      ],
      "execution_count": null,
      "outputs": []
    },
    {
      "cell_type": "code",
      "metadata": {
        "id": "GIjhmWwfUrPc",
        "colab": {
          "base_uri": "https://localhost:8080/"
        },
        "outputId": "49cc1390-9f0a-4c31-ca41-a19334fc5ae6"
      },
      "source": [
        "#para copiar los pesos a a memoria de la GPU para realizar los cálculos,\n",
        "# necesitamos esta línea de código\n",
        "\n",
        "net.to(device)"
      ],
      "execution_count": null,
      "outputs": [
        {
          "output_type": "execute_result",
          "data": {
            "text/plain": [
              "Net(\n",
              "  (conv1): Conv2d(3, 6, kernel_size=(5, 5), stride=(1, 1))\n",
              "  (pool): MaxPool2d(kernel_size=2, stride=2, padding=0, dilation=1, ceil_mode=False)\n",
              "  (conv2): Conv2d(6, 16, kernel_size=(5, 5), stride=(1, 1))\n",
              "  (fc1): Linear(in_features=400, out_features=120, bias=True)\n",
              "  (fc2): Linear(in_features=120, out_features=84, bias=True)\n",
              "  (fc3): Linear(in_features=84, out_features=10, bias=True)\n",
              ")"
            ]
          },
          "metadata": {
            "tags": []
          },
          "execution_count": 63
        }
      ]
    },
    {
      "cell_type": "code",
      "metadata": {
        "id": "kiYq4eHyUzga"
      },
      "source": [
        "#LOSS FUNCTION Y OPTIMIZADOR\n",
        "\n",
        "criterion = nn.CrossEntropyLoss()\n",
        "optimizer = optim.SGD(net.parameters(), lr=0.001, momentum=0.9)"
      ],
      "execution_count": null,
      "outputs": []
    },
    {
      "cell_type": "code",
      "metadata": {
        "id": "mh_oebsoViFh",
        "colab": {
          "base_uri": "https://localhost:8080/"
        },
        "outputId": "582c93c9-d242-464d-bd71-45532be3b7cf"
      },
      "source": [
        "#ENTRENAMIENTO\n",
        "\n",
        "#el comportamiento de algunas capas no es el mismo en entrenamiento o en test,\n",
        "# (como por ejemplo, dropout o batch normalization), es interesante definirlo\n",
        "net.train()\n",
        "\n",
        "train_loss = []\n",
        "epochs = 10\n",
        "for epoch in range(epochs):\n",
        "\n",
        "  running_loss = 0.0\n",
        "  for data in trainloader: #este es el iterable que se ha construido unas celdas atrás\n",
        "    # cogemos los inputas, que vienen en formato [input, label]\n",
        "    inputs, labels = data\n",
        "    inputs, labels = inputs.to(device), labels.to(device)\n",
        "    #hacemos cero los parámetros del gradiente\n",
        "    # PyTorch acumula los gradientes en pasadas backward sucesivas\n",
        "    optimizer.zero_grad()\n",
        "    # forward + backward + optimizar\n",
        "    outputs = net(inputs)\n",
        "    loss = criterion(outputs, labels)\n",
        "    loss.backward()\n",
        "    optimizer.step()\n",
        "    #el loss se devuelve como una media sobre todo el batch_size: deshacemos la media\n",
        "    running_loss += loss.item() * inputs.size(0)\n",
        "\n",
        "  loss = running_loss / len(trainloader) #media sobre el número de batches\n",
        "  # esto ha servido para evitar el sesgo en el cálculo del loss para el último batch\n",
        "  train_loss.append(loss)\n",
        "  print('epoch [%d/%d] loss: %.3f' %\n",
        "        (epoch + 1, epochs, loss))\n",
        "  \n",
        "print('Finished Training')"
      ],
      "execution_count": null,
      "outputs": [
        {
          "output_type": "stream",
          "text": [
            "epoch [1/10] loss: 6.824\n",
            "epoch [2/10] loss: 5.318\n",
            "epoch [3/10] loss: 4.769\n",
            "epoch [4/10] loss: 4.404\n",
            "epoch [5/10] loss: 4.140\n",
            "epoch [6/10] loss: 3.921\n",
            "epoch [7/10] loss: 3.747\n",
            "epoch [8/10] loss: 3.585\n",
            "epoch [9/10] loss: 3.447\n",
            "epoch [10/10] loss: 3.333\n",
            "Finished Training\n"
          ],
          "name": "stdout"
        }
      ]
    },
    {
      "cell_type": "code",
      "metadata": {
        "id": "HFtMplVZYpX5",
        "colab": {
          "base_uri": "https://localhost:8080/",
          "height": 155
        },
        "outputId": "f1385b56-8d00-4da6-bbb2-be251e430d4d"
      },
      "source": [
        "#  --Veamos si nuestra CNN ha aprendido usando otro batch de imagenes--\n",
        "\n",
        "images, labels = dataiter.next()\n",
        "\n",
        "#printeamos las imágenes\n",
        "imshow(torchvision.utils.make_grid(images))\n",
        "print('GroundTruth: ', ' '.join('%5s' % classes[labels[j]] for j in range(labels.size(0))))"
      ],
      "execution_count": null,
      "outputs": [
        {
          "output_type": "display_data",
          "data": {
            "image/png": "[encoded data removed]",
            "text/plain": [
              "<Figure size 432x288 with 1 Axes>"
            ]
          },
          "metadata": {
            "tags": [],
            "needs_background": "light"
          }
        },
        {
          "output_type": "stream",
          "text": [
            "GroundTruth:   frog  frog   cat  ship\n"
          ],
          "name": "stdout"
        }
      ]
    },
    {
      "cell_type": "code",
      "metadata": {
        "id": "ISit5q3xZGBD",
        "colab": {
          "base_uri": "https://localhost:8080/"
        },
        "outputId": "c65b30b2-f026-4ef4-e79c-40a8855c3eec"
      },
      "source": [
        "#  --Predicción para 4 imágenes--\n",
        "images, labels = images.to(device), labels.to(device)\n",
        "outputs = net(images)\n",
        "_, predicted = torch.max(outputs, 1) #CLASIFICACIÓN\n",
        "print('Predicted: ', ' '.join('%5s' % classes[predicted[j]]\n",
        "                              for j in range(predicted.size(0))))"
      ],
      "execution_count": null,
      "outputs": [
        {
          "output_type": "stream",
          "text": [
            "Predicted:   frog  frog   cat  ship\n"
          ],
          "name": "stdout"
        }
      ]
    },
    {
      "cell_type": "code",
      "metadata": {
        "id": "4dhFsFjLaOtc",
        "colab": {
          "base_uri": "https://localhost:8080/"
        },
        "outputId": "09800bae-ca12-4927-dc75-50ca9a112ec8"
      },
      "source": [
        "#  --Tasa de acierto para todo el test set--\n",
        "\n",
        "net.eval()\n",
        "correct = 0\n",
        "total = 0\n",
        "with torch.no_grad():\n",
        "  for data in testloader:\n",
        "    images, labels = data\n",
        "    images, labels = images.to(device), labels.to(device)\n",
        "    outputs = net(images)\n",
        "    _, predicted = torch.max(outputs, 1)\n",
        "    total += labels.size(0)\n",
        "    correct += (predicted == labels).sum().item()\n",
        "\n",
        "print('Accuracy of the network on the 10.000 test images: %d %%' % (\n",
        "    100 * correct / total))"
      ],
      "execution_count": null,
      "outputs": [
        {
          "output_type": "stream",
          "text": [
            "Accuracy of the network on the 10.000 test images: 64 %\n"
          ],
          "name": "stdout"
        }
      ]
    },
    {
      "cell_type": "code",
      "metadata": {
        "id": "D6SK94ZXe_cc",
        "colab": {
          "base_uri": "https://localhost:8080/",
          "height": 202
        },
        "outputId": "5893e52c-ab03-4404-abd2-cb264d1f1162"
      },
      "source": [
        "# -- TASAS DE ACIERTO POR CLASE --\n",
        "# Veamos qué clases se detectan mejor\n",
        "\n",
        "class_correct = list(0. for i in range(10))\n",
        "class_total = list(0. for i in range(10))\n",
        "\n",
        "#todo lo que está dentro del 'with' no calcula el gradiente\n",
        "# es importante usarlo para no llenar la memoria de la gpu de cosas que no sirven pa na\n",
        "with torch.no_grad():\n",
        "  for data in testloader:\n",
        "    images, labels = dataimages, labels = images.to(device), labels.to(device)\n",
        "    outputs = net(images)\n",
        "    _, predicted = torch.max(outputs, 1)\n",
        "    c = (predicted == labels).squeeze()\n",
        "    #ahora no sólo nos interesa la tasa de acierto global, sino que tenemos que\n",
        "    # ver además de qué clase se trata\n",
        "    for i in range(labels.size(0)):\n",
        "      label = labels[i]\n",
        "      class_correct[label] += c[i].item()\n",
        "      class_total[label] += 1\n",
        "\n",
        "for i in range(10):\n",
        "  print('Accuracy of %5s : %2d %%' % (\n",
        "      classes[i], 100 * class_correct[i] / class_total[i]))"
      ],
      "execution_count": null,
      "outputs": [
        {
          "output_type": "error",
          "ename": "ZeroDivisionError",
          "evalue": "ignored",
          "traceback": [
            "\u001b[0;31m---------------------------------------------------------------------------\u001b[0m",
            "\u001b[0;31mZeroDivisionError\u001b[0m                         Traceback (most recent call last)",
            "\u001b[0;32m<ipython-input-69-88f6942de6c9>\u001b[0m in \u001b[0;36m<module>\u001b[0;34m()\u001b[0m\n\u001b[1;32m     22\u001b[0m \u001b[0;32mfor\u001b[0m \u001b[0mi\u001b[0m \u001b[0;32min\u001b[0m \u001b[0mrange\u001b[0m\u001b[0;34m(\u001b[0m\u001b[0;36m10\u001b[0m\u001b[0;34m)\u001b[0m\u001b[0;34m:\u001b[0m\u001b[0;34m\u001b[0m\u001b[0;34m\u001b[0m\u001b[0m\n\u001b[1;32m     23\u001b[0m   print('Accuracy of %5s : %2d %%' % (\n\u001b[0;32m---> 24\u001b[0;31m       classes[i], 100 * class_correct[i] / class_total[i]))\n\u001b[0m",
            "\u001b[0;31mZeroDivisionError\u001b[0m: float division by zero"
          ]
        }
      ]
    },
    {
      "cell_type": "markdown",
      "metadata": {
        "id": "vHGRLBV5iauA"
      },
      "source": [
        "# Cuestiones\n",
        "1.   ¿Cuál es el speed-up alcanzado al usar la GPU frente a CPU? Interpreta el resultado\n",
        "2.   Trata de aumentar el ancho de la red (2º argumento de la primera nn.Conv2d y 1º argumento de la segunda nn.Conv2d). ¿Cömo varía el speed-up respecto al caso anterior?\n",
        "3.   Intenta definir la misma red CNN de manera secuencial"
      ]
    },
    {
      "cell_type": "code",
      "metadata": {
        "id": "zvI_Kzx2iY-i"
      },
      "source": [
        ""
      ],
      "execution_count": null,
      "outputs": []
    }
  ]
}