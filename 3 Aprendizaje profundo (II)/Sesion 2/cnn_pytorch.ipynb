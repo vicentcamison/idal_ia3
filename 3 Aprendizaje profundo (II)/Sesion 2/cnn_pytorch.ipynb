{
  "nbformat": 4,
  "nbformat_minor": 0,
  "metadata": {
    "colab": {
      "name": "cnn_pytorch.ipynb",
      "provenance": [],
      "authorship_tag": "ABX9TyMLGprdrStefDh24ZcFedgX",
      "include_colab_link": true
    },
    "kernelspec": {
      "name": "python3",
      "display_name": "Python 3"
    },
    "widgets": {
      "application/vnd.jupyter.widget-state+json": {
        "05a67200b0f74ffdbcfe74cf26f740e6": {
          "model_module": "@jupyter-widgets/controls",
          "model_name": "HBoxModel",
          "state": {
            "_view_name": "HBoxView",
            "_dom_classes": [],
            "_model_name": "HBoxModel",
            "_view_module": "@jupyter-widgets/controls",
            "_model_module_version": "1.5.0",
            "_view_count": null,
            "_view_module_version": "1.5.0",
            "box_style": "",
            "layout": "IPY_MODEL_36acf924ea7045aca332805e8f6a0f9c",
            "_model_module": "@jupyter-widgets/controls",
            "children": [
              "IPY_MODEL_60d1f93565c84fdb839385b3276a079b",
              "IPY_MODEL_68f6968c7e484bf0ac7d51f80ef75567"
            ]
          }
        },
        "36acf924ea7045aca332805e8f6a0f9c": {
          "model_module": "@jupyter-widgets/base",
          "model_name": "LayoutModel",
          "state": {
            "_view_name": "LayoutView",
            "grid_template_rows": null,
            "right": null,
            "justify_content": null,
            "_view_module": "@jupyter-widgets/base",
            "overflow": null,
            "_model_module_version": "1.2.0",
            "_view_count": null,
            "flex_flow": null,
            "width": null,
            "min_width": null,
            "border": null,
            "align_items": null,
            "bottom": null,
            "_model_module": "@jupyter-widgets/base",
            "top": null,
            "grid_column": null,
            "overflow_y": null,
            "overflow_x": null,
            "grid_auto_flow": null,
            "grid_area": null,
            "grid_template_columns": null,
            "flex": null,
            "_model_name": "LayoutModel",
            "justify_items": null,
            "grid_row": null,
            "max_height": null,
            "align_content": null,
            "visibility": null,
            "align_self": null,
            "height": null,
            "min_height": null,
            "padding": null,
            "grid_auto_rows": null,
            "grid_gap": null,
            "max_width": null,
            "order": null,
            "_view_module_version": "1.2.0",
            "grid_template_areas": null,
            "object_position": null,
            "object_fit": null,
            "grid_auto_columns": null,
            "margin": null,
            "display": null,
            "left": null
          }
        },
        "60d1f93565c84fdb839385b3276a079b": {
          "model_module": "@jupyter-widgets/controls",
          "model_name": "FloatProgressModel",
          "state": {
            "_view_name": "ProgressView",
            "style": "IPY_MODEL_6cf05033241b4ecba9203a206822de2a",
            "_dom_classes": [],
            "description": "",
            "_model_name": "FloatProgressModel",
            "bar_style": "info",
            "max": 1,
            "_view_module": "@jupyter-widgets/controls",
            "_model_module_version": "1.5.0",
            "value": 1,
            "_view_count": null,
            "_view_module_version": "1.5.0",
            "orientation": "horizontal",
            "min": 0,
            "description_tooltip": null,
            "_model_module": "@jupyter-widgets/controls",
            "layout": "IPY_MODEL_22e73c1e703d4cf794e90c482e6a52a9"
          }
        },
        "68f6968c7e484bf0ac7d51f80ef75567": {
          "model_module": "@jupyter-widgets/controls",
          "model_name": "HTMLModel",
          "state": {
            "_view_name": "HTMLView",
            "style": "IPY_MODEL_1c9f661c23f445618337f0dac96e806f",
            "_dom_classes": [],
            "description": "",
            "_model_name": "HTMLModel",
            "placeholder": "​",
            "_view_module": "@jupyter-widgets/controls",
            "_model_module_version": "1.5.0",
            "value": " 170500096/? [00:20&lt;00:00, 48061851.79it/s]",
            "_view_count": null,
            "_view_module_version": "1.5.0",
            "description_tooltip": null,
            "_model_module": "@jupyter-widgets/controls",
            "layout": "IPY_MODEL_14bc9d1a123c4f9faa63d7bd4161b9e4"
          }
        },
        "6cf05033241b4ecba9203a206822de2a": {
          "model_module": "@jupyter-widgets/controls",
          "model_name": "ProgressStyleModel",
          "state": {
            "_view_name": "StyleView",
            "_model_name": "ProgressStyleModel",
            "description_width": "initial",
            "_view_module": "@jupyter-widgets/base",
            "_model_module_version": "1.5.0",
            "_view_count": null,
            "_view_module_version": "1.2.0",
            "bar_color": null,
            "_model_module": "@jupyter-widgets/controls"
          }
        },
        "22e73c1e703d4cf794e90c482e6a52a9": {
          "model_module": "@jupyter-widgets/base",
          "model_name": "LayoutModel",
          "state": {
            "_view_name": "LayoutView",
            "grid_template_rows": null,
            "right": null,
            "justify_content": null,
            "_view_module": "@jupyter-widgets/base",
            "overflow": null,
            "_model_module_version": "1.2.0",
            "_view_count": null,
            "flex_flow": null,
            "width": null,
            "min_width": null,
            "border": null,
            "align_items": null,
            "bottom": null,
            "_model_module": "@jupyter-widgets/base",
            "top": null,
            "grid_column": null,
            "overflow_y": null,
            "overflow_x": null,
            "grid_auto_flow": null,
            "grid_area": null,
            "grid_template_columns": null,
            "flex": null,
            "_model_name": "LayoutModel",
            "justify_items": null,
            "grid_row": null,
            "max_height": null,
            "align_content": null,
            "visibility": null,
            "align_self": null,
            "height": null,
            "min_height": null,
            "padding": null,
            "grid_auto_rows": null,
            "grid_gap": null,
            "max_width": null,
            "order": null,
            "_view_module_version": "1.2.0",
            "grid_template_areas": null,
            "object_position": null,
            "object_fit": null,
            "grid_auto_columns": null,
            "margin": null,
            "display": null,
            "left": null
          }
        },
        "1c9f661c23f445618337f0dac96e806f": {
          "model_module": "@jupyter-widgets/controls",
          "model_name": "DescriptionStyleModel",
          "state": {
            "_view_name": "StyleView",
            "_model_name": "DescriptionStyleModel",
            "description_width": "",
            "_view_module": "@jupyter-widgets/base",
            "_model_module_version": "1.5.0",
            "_view_count": null,
            "_view_module_version": "1.2.0",
            "_model_module": "@jupyter-widgets/controls"
          }
        },
        "14bc9d1a123c4f9faa63d7bd4161b9e4": {
          "model_module": "@jupyter-widgets/base",
          "model_name": "LayoutModel",
          "state": {
            "_view_name": "LayoutView",
            "grid_template_rows": null,
            "right": null,
            "justify_content": null,
            "_view_module": "@jupyter-widgets/base",
            "overflow": null,
            "_model_module_version": "1.2.0",
            "_view_count": null,
            "flex_flow": null,
            "width": null,
            "min_width": null,
            "border": null,
            "align_items": null,
            "bottom": null,
            "_model_module": "@jupyter-widgets/base",
            "top": null,
            "grid_column": null,
            "overflow_y": null,
            "overflow_x": null,
            "grid_auto_flow": null,
            "grid_area": null,
            "grid_template_columns": null,
            "flex": null,
            "_model_name": "LayoutModel",
            "justify_items": null,
            "grid_row": null,
            "max_height": null,
            "align_content": null,
            "visibility": null,
            "align_self": null,
            "height": null,
            "min_height": null,
            "padding": null,
            "grid_auto_rows": null,
            "grid_gap": null,
            "max_width": null,
            "order": null,
            "_view_module_version": "1.2.0",
            "grid_template_areas": null,
            "object_position": null,
            "object_fit": null,
            "grid_auto_columns": null,
            "margin": null,
            "display": null,
            "left": null
          }
        }
      }
    }
  },
  "cells": [
    {
      "cell_type": "markdown",
      "metadata": {
        "id": "view-in-github",
        "colab_type": "text"
      },
      "source": [
        "<a href=\"https://colab.research.google.com/github/vicentcamison/idal_ia3/blob/main/3%20Aprendizaje%20profundo%20(II)/Sesion%202/cnn_pytorch.ipynb\" target=\"_parent\"><img src=\"https://colab.research.google.com/assets/colab-badge.svg\" alt=\"Open In Colab\"/></a>"
      ]
    },
    {
      "cell_type": "code",
      "metadata": {
        "id": "hNHMylUNsjMi"
      },
      "source": [
        "import numpy as np\n",
        "import pandas as pd\n",
        "import matplotlib.pyplot as plt\n",
        "\n",
        "import torch\n",
        "import torch.nn as nn\n",
        "import torch.optim as optim\n",
        "from torch.utils.data import Dataset, DataLoader\n",
        "\n",
        "import torchvision\n",
        "import torchvision.transforms as transforms"
      ],
      "execution_count": 17,
      "outputs": []
    },
    {
      "cell_type": "code",
      "metadata": {
        "id": "x0gCbHgJsy0J"
      },
      "source": [
        "input_1d = torch.randn(10, dtype=torch.float)\n",
        "input_2d = torch.randn(2,5, dtype=torch.float)\n",
        "input_2d_img = torch.randn(3, 10, 3, dtype=torch.float)"
      ],
      "execution_count": 2,
      "outputs": []
    },
    {
      "cell_type": "code",
      "metadata": {
        "colab": {
          "base_uri": "https://localhost:8080/"
        },
        "id": "IPg9wP58tm_s",
        "outputId": "e3ee37af-d8ac-4960-8ec3-6c1c44326535"
      },
      "source": [
        "input_2d_img"
      ],
      "execution_count": 3,
      "outputs": [
        {
          "output_type": "execute_result",
          "data": {
            "text/plain": [
              "tensor([[[ 0.5195, -0.1711,  0.5969],\n",
              "         [ 0.9062, -2.4171,  0.0238],\n",
              "         [ 1.0271, -1.4922,  0.0559],\n",
              "         [ 1.2680, -1.4272, -0.6667],\n",
              "         [-1.1467,  0.4410, -0.1610],\n",
              "         [-0.3196, -1.0356, -0.4848],\n",
              "         [ 2.0695, -0.4047,  0.5028],\n",
              "         [ 0.3343,  0.7310,  1.5320],\n",
              "         [ 1.1636,  0.7997, -0.3871],\n",
              "         [ 0.5816, -0.5731,  0.4139]],\n",
              "\n",
              "        [[-1.6657, -0.9579,  1.5706],\n",
              "         [ 1.3050,  0.3626, -1.2140],\n",
              "         [ 0.8365,  0.1244,  1.0164],\n",
              "         [ 0.9444, -0.7130,  0.4535],\n",
              "         [ 2.2395,  2.1042,  0.3904],\n",
              "         [ 1.8754, -0.1293,  0.8909],\n",
              "         [-0.2177,  0.4149,  0.2269],\n",
              "         [-0.2074, -1.3316,  0.6020],\n",
              "         [-1.8794,  0.9597, -0.2987],\n",
              "         [ 0.5174,  0.7474, -1.8351]],\n",
              "\n",
              "        [[-0.2816, -0.2430, -0.4722],\n",
              "         [-2.4882, -1.1090,  0.9332],\n",
              "         [-1.4173,  1.5437, -0.1800],\n",
              "         [ 0.0840, -1.1888, -0.0872],\n",
              "         [-0.5138, -1.5388, -0.9161],\n",
              "         [ 0.7086,  1.4258, -0.7066],\n",
              "         [-0.1006,  0.3804,  1.0790],\n",
              "         [ 0.9571,  2.3485, -1.5420],\n",
              "         [-0.6410,  1.1300, -1.1041],\n",
              "         [-0.2957, -0.7485,  1.3737]]])"
            ]
          },
          "metadata": {
            "tags": []
          },
          "execution_count": 3
        }
      ]
    },
    {
      "cell_type": "code",
      "metadata": {
        "colab": {
          "base_uri": "https://localhost:8080/"
        },
        "id": "eLJrypuct8Qs",
        "outputId": "ee51b591-0e6a-48a7-8008-c344c20d2bc5"
      },
      "source": [
        "## -- CONV 1D --\n",
        "\n",
        "input_1d = input_1d.unsqueeze(0).unsqueeze(0)\n",
        "input_1d.shape"
      ],
      "execution_count": 4,
      "outputs": [
        {
          "output_type": "execute_result",
          "data": {
            "text/plain": [
              "torch.Size([1, 1, 10])"
            ]
          },
          "metadata": {
            "tags": []
          },
          "execution_count": 4
        }
      ]
    },
    {
      "cell_type": "code",
      "metadata": {
        "colab": {
          "base_uri": "https://localhost:8080/"
        },
        "id": "IgjTJrMqulkN",
        "outputId": "aab8f356-b5bc-49a2-88c4-22ef45a350cc"
      },
      "source": [
        "cnn1d_1 = nn.Conv1d(in_channels=1, out_channels=5, kernel_size=2, stride=2, padding=1)\n",
        "\n",
        "print('cnn1d_1: \\n')\n",
        "print(cnn1d_1(input_1d).shape, '\\n')\n",
        "print(cnn1d_1(input_1d))"
      ],
      "execution_count": 5,
      "outputs": [
        {
          "output_type": "stream",
          "text": [
            "cnn1d_1: \n",
            "\n",
            "torch.Size([1, 5, 6]) \n",
            "\n",
            "tensor([[[ 0.0465,  1.0551, -0.3253,  0.7824, -0.3402,  0.0207],\n",
            "         [ 0.2863,  0.2606, -0.3028,  0.3402,  0.6236,  0.4811],\n",
            "         [ 0.0530,  1.4305, -1.0862,  1.1346, -0.1297,  0.2226],\n",
            "         [ 0.2328, -0.8728,  0.7657, -0.5890,  0.5882,  0.2205],\n",
            "         [-0.5983, -0.6690, -1.5299, -0.5337, -0.0473, -0.2858]]],\n",
            "       grad_fn=<SqueezeBackward1>)\n"
          ],
          "name": "stdout"
        }
      ]
    },
    {
      "cell_type": "code",
      "metadata": {
        "colab": {
          "base_uri": "https://localhost:8080/"
        },
        "id": "KrsqQYwhxBS8",
        "outputId": "71924f02-9c36-4079-f4c7-75b090959f3a"
      },
      "source": [
        "## -- CONV 1D A ENTRADAS 2D --\n",
        "#También se puede aplicar la convolución 1D a tensores 2D\n",
        "#lo preparamos primero añadiendo la capa de 'color'\n",
        "\n",
        "input_2d = input_2d.unsqueeze(0)\n",
        "input_2d.shape"
      ],
      "execution_count": 6,
      "outputs": [
        {
          "output_type": "execute_result",
          "data": {
            "text/plain": [
              "torch.Size([1, 2, 5])"
            ]
          },
          "metadata": {
            "tags": []
          },
          "execution_count": 6
        }
      ]
    },
    {
      "cell_type": "code",
      "metadata": {
        "colab": {
          "base_uri": "https://localhost:8080/"
        },
        "id": "sgtKE9e2xR4i",
        "outputId": "fc3b0ba2-f5ba-42f1-c2b9-2f777fea4073"
      },
      "source": [
        "cnn1d_5 = nn.Conv1d(in_channels=2, out_channels=1, kernel_size=3, stride=1)\n",
        "\n",
        "print('cnn1d_5: \\n')\n",
        "print(cnn1d_5(input_2d).shape, '\\n')\n",
        "print(cnn1d_5(input_2d))\n",
        "\n",
        "#En este caso, está cogiendo lo que normalmente identificamos como el EJE Y,\n",
        "# como el número de canales de entrada (como si fueran dos colores distintos,\n",
        "# o incluso interpretado como el resultado de dos filtros 'previos')"
      ],
      "execution_count": 7,
      "outputs": [
        {
          "output_type": "stream",
          "text": [
            "cnn1d_5: \n",
            "\n",
            "torch.Size([1, 1, 3]) \n",
            "\n",
            "tensor([[[0.6709, 0.4380, 1.2022]]], grad_fn=<SqueezeBackward1>)\n"
          ],
          "name": "stdout"
        }
      ]
    },
    {
      "cell_type": "code",
      "metadata": {
        "colab": {
          "base_uri": "https://localhost:8080/"
        },
        "id": "MyIV0z-5yIm3",
        "outputId": "1269b395-6da1-4501-938d-e71ea56fbb66"
      },
      "source": [
        "cnn1d_6 = nn.Conv1d(in_channels=2, out_channels=5, kernel_size=2, stride=2, padding=1)\n",
        "\n",
        "print('cnn1d_6: \\n')\n",
        "print(cnn1d_6(input_2d).shape, '\\n')\n",
        "print(cnn1d_6(input_2d))"
      ],
      "execution_count": 8,
      "outputs": [
        {
          "output_type": "stream",
          "text": [
            "cnn1d_6: \n",
            "\n",
            "torch.Size([1, 5, 3]) \n",
            "\n",
            "tensor([[[-0.0234, -0.2856, -0.2539],\n",
            "         [-0.0724, -0.1339, -1.0275],\n",
            "         [-0.4206, -0.7485, -0.7801],\n",
            "         [ 0.7449,  0.6344,  0.6163],\n",
            "         [-0.6926, -0.7094, -1.2723]]], grad_fn=<SqueezeBackward1>)\n"
          ],
          "name": "stdout"
        }
      ]
    },
    {
      "cell_type": "code",
      "metadata": {
        "colab": {
          "base_uri": "https://localhost:8080/"
        },
        "id": "htUaExsw06mU",
        "outputId": "a7d27785-4b42-4ce1-fe7c-6749979a15a8"
      },
      "source": [
        "## -- CONV 2D -- \n",
        "\n",
        "# Añadimos una nueva dimensión que (supongo) representa la cantidad\n",
        "# de datos que tenemos (en este caso, sólo tenemos 1 imágen)\n",
        "\n",
        "input_2d_img = input_2d_img.unsqueeze(0)\n",
        "input_2d_img.shape"
      ],
      "execution_count": 9,
      "outputs": [
        {
          "output_type": "execute_result",
          "data": {
            "text/plain": [
              "torch.Size([1, 3, 10, 3])"
            ]
          },
          "metadata": {
            "tags": []
          },
          "execution_count": 9
        }
      ]
    },
    {
      "cell_type": "code",
      "metadata": {
        "colab": {
          "base_uri": "https://localhost:8080/"
        },
        "id": "8UsCsHE71QfF",
        "outputId": "0371768f-5225-4214-ecb5-7c2a540763db"
      },
      "source": [
        "# Creamos la capa convolucional\n",
        "cnn2d_1 = nn.Conv2d(in_channels=3, out_channels=3, kernel_size=3, stride=1)\n",
        "\n",
        "print('cnn2d_1: \\n')\n",
        "print(cnn2d_1(input_2d_img).shape, '\\n')\n",
        "print(cnn2d_1(input_2d_img))"
      ],
      "execution_count": 10,
      "outputs": [
        {
          "output_type": "stream",
          "text": [
            "cnn2d_1: \n",
            "\n",
            "torch.Size([1, 3, 8, 1]) \n",
            "\n",
            "tensor([[[[ 0.2512],\n",
            "          [-1.2630],\n",
            "          [-0.3316],\n",
            "          [ 0.5616],\n",
            "          [-0.6740],\n",
            "          [ 0.3358],\n",
            "          [-0.1217],\n",
            "          [ 0.6293]],\n",
            "\n",
            "         [[-0.0680],\n",
            "          [-0.4617],\n",
            "          [-0.8562],\n",
            "          [ 0.1502],\n",
            "          [ 0.0998],\n",
            "          [ 0.1271],\n",
            "          [ 0.3306],\n",
            "          [ 0.0837]],\n",
            "\n",
            "         [[ 0.1836],\n",
            "          [-0.2810],\n",
            "          [-0.9041],\n",
            "          [-1.1916],\n",
            "          [ 0.8463],\n",
            "          [ 0.5640],\n",
            "          [-0.6077],\n",
            "          [-0.3083]]]], grad_fn=<ThnnConv2DBackward>)\n"
          ],
          "name": "stdout"
        }
      ]
    },
    {
      "cell_type": "code",
      "metadata": {
        "colab": {
          "base_uri": "https://localhost:8080/"
        },
        "id": "YDhfJRXu16Kp",
        "outputId": "c6904e05-817c-4ccb-a4c0-a92fa983e039"
      },
      "source": [
        "cnn2d_2 = nn.Conv2d(in_channels=3, out_channels=5, kernel_size=2, padding=1)\n",
        "\n",
        "print('cnn2d_2 \\n')\n",
        "print(cnn2d_2(input_2d_img).shape, '\\n')\n",
        "print(cnn2d_2(input_2d_img))"
      ],
      "execution_count": 11,
      "outputs": [
        {
          "output_type": "stream",
          "text": [
            "cnn2d_2 \n",
            "\n",
            "torch.Size([1, 5, 11, 4]) \n",
            "\n",
            "tensor([[[[ 5.2761e-01, -7.5252e-02, -4.9044e-01,  4.4881e-01],\n",
            "          [-1.1572e-01,  4.7376e-01,  1.2513e+00, -3.8309e-01],\n",
            "          [ 2.5347e-01, -1.9906e-01,  1.2402e-01,  2.3870e-01],\n",
            "          [ 4.6539e-02, -1.4598e-01,  8.6947e-01,  4.5133e-01],\n",
            "          [-1.8386e-01,  1.2426e-01,  8.5034e-01,  6.1110e-01],\n",
            "          [-5.5098e-01,  1.1666e+00, -1.3205e-01,  5.7697e-01],\n",
            "          [ 4.6274e-02, -3.7147e-01,  2.7773e-01, -5.2538e-02],\n",
            "          [ 4.0874e-01, -6.4477e-01, -8.5906e-01,  2.9004e-01],\n",
            "          [ 5.8595e-01, -9.2320e-01,  2.6399e-01,  6.6359e-03],\n",
            "          [ 7.5217e-02, -3.7936e-01,  9.4541e-01, -8.1720e-01],\n",
            "          [ 2.1690e-01, -2.2577e-02,  1.5911e-01, -1.7606e-01]],\n",
            "\n",
            "         [[ 3.2370e-01, -2.9311e-01, -4.2195e-01,  3.4286e-01],\n",
            "          [-9.9083e-01, -2.8231e-01,  1.3147e+00, -5.1385e-01],\n",
            "          [ 4.2090e-02,  1.5423e+00,  1.1348e-01, -1.0913e-01],\n",
            "          [ 1.4981e-01, -6.1935e-02,  1.9072e-01,  2.2618e-01],\n",
            "          [-9.1579e-01,  7.1604e-02,  1.3709e+00,  5.0987e-01],\n",
            "          [ 3.9873e-01,  1.2559e+00, -1.5414e-01,  6.9670e-01],\n",
            "          [ 8.0716e-01, -3.7220e-01,  4.6421e-01,  4.5744e-03],\n",
            "          [-2.2419e-01,  1.1031e-01, -1.2696e+00, -9.5785e-02],\n",
            "          [ 2.3751e-01, -1.1855e+00, -1.4434e+00,  2.9831e-01],\n",
            "          [-6.3584e-01, -6.1978e-01,  7.3315e-01, -4.6937e-01],\n",
            "          [-4.3865e-02,  2.4716e-01, -2.4505e-01, -6.1422e-01]],\n",
            "\n",
            "         [[-1.2747e-01, -2.6303e-01,  4.4820e-01,  3.8571e-01],\n",
            "          [ 8.0039e-01, -1.3833e-01, -5.1942e-01,  9.4642e-01],\n",
            "          [ 7.7301e-01,  5.5957e-01,  4.2118e-01,  3.2914e-02],\n",
            "          [ 5.1782e-01,  9.8681e-01, -3.1981e-01,  6.3797e-01],\n",
            "          [ 1.0910e+00,  1.7237e+00, -1.2969e-01,  3.4299e-02],\n",
            "          [ 7.3775e-01,  1.1456e+00,  1.8162e+00,  3.2744e-01],\n",
            "          [ 1.2672e-01,  5.5514e-01,  4.9649e-03,  7.4263e-01],\n",
            "          [ 1.5319e-01,  2.8759e-01,  9.2764e-01,  6.9450e-02],\n",
            "          [-2.0790e-01, -3.3406e-01,  7.4988e-01,  5.5481e-01],\n",
            "          [ 3.6370e-01,  4.7492e-01, -3.0393e-02,  2.0933e-01],\n",
            "          [ 3.4081e-01,  6.1990e-01,  2.3189e-01, -1.5947e-01]],\n",
            "\n",
            "         [[ 1.4372e-01,  4.3256e-01,  1.9675e-02, -1.4897e-01],\n",
            "          [-6.4319e-01,  7.1175e-01,  1.7585e+00, -4.2552e-01],\n",
            "          [ 1.3740e-01, -7.7799e-01, -8.8840e-02,  4.0359e-01],\n",
            "          [ 1.0580e-01, -1.0178e+00,  1.8604e+00,  3.7481e-02],\n",
            "          [ 5.7134e-01, -1.0322e+00,  1.0124e-01,  3.8657e-01],\n",
            "          [ 2.5043e-01,  4.0032e-01, -6.9926e-01,  6.6591e-02],\n",
            "          [-1.2239e-01, -6.3033e-01,  6.3404e-01, -5.2873e-01],\n",
            "          [ 5.3130e-01, -4.5543e-01, -8.3662e-01,  1.2619e-01],\n",
            "          [-1.5364e-02,  8.8863e-02,  5.6463e-01, -1.9480e-01],\n",
            "          [-1.9471e-01,  2.2068e-01,  3.7894e-01, -1.8552e-01],\n",
            "          [ 3.4551e-01, -1.1093e-01, -3.2974e-01,  6.4485e-01]],\n",
            "\n",
            "         [[ 5.2435e-01,  8.5473e-01, -2.4480e-02,  5.9801e-02],\n",
            "          [-1.3440e-01,  7.8274e-02, -3.7666e-01,  3.6126e-01],\n",
            "          [-9.3033e-01,  9.9720e-03,  7.1427e-01, -1.5620e-03],\n",
            "          [-4.7507e-01,  7.0651e-01, -1.0405e-01, -5.9963e-02],\n",
            "          [-2.8140e-01, -1.6886e+00,  7.4088e-02,  2.1860e-01],\n",
            "          [-5.4313e-01, -4.4826e-01, -5.0563e-01,  1.7593e-02],\n",
            "          [ 1.0707e-01,  1.0586e+00, -1.2971e-01,  4.9758e-01],\n",
            "          [ 4.0778e-01,  4.3541e-01,  7.5388e-01,  2.1496e-01],\n",
            "          [ 8.0349e-01,  1.4062e+00, -5.0729e-01, -7.0085e-02],\n",
            "          [ 1.8490e-01,  1.5254e-01, -2.0030e-01,  9.4764e-01],\n",
            "          [ 1.0161e-01, -2.0774e-01,  1.0291e+00,  8.4462e-02]]]],\n",
            "       grad_fn=<ThnnConv2DBackward>)\n"
          ],
          "name": "stdout"
        }
      ]
    },
    {
      "cell_type": "markdown",
      "metadata": {
        "id": "X5_ZZDp1OY5q"
      },
      "source": [
        "# RED CONVOLUCIONAL DE CLASIFICACIÓN DE IMÁGENES CIFAR-10"
      ]
    },
    {
      "cell_type": "code",
      "metadata": {
        "id": "hawR_KebOXEF"
      },
      "source": [
        "#preparamos la nueva normalziación de la imagen: de [0, 1] a [-1, 1]\n",
        "transform = transforms.Compose(\n",
        "    [transforms.ToTensor(),\n",
        "     transforms.Normalize((0.5, 0.5, 0.5), (0.5, 0.5, 0.5))])"
      ],
      "execution_count": 15,
      "outputs": []
    },
    {
      "cell_type": "code",
      "metadata": {
        "id": "mHchmp7LQvbL",
        "outputId": "a3bad6c1-b03e-476a-f1e4-3f42139f150a",
        "colab": {
          "base_uri": "https://localhost:8080/",
          "height": 101,
          "referenced_widgets": [
            "05a67200b0f74ffdbcfe74cf26f740e6",
            "36acf924ea7045aca332805e8f6a0f9c",
            "60d1f93565c84fdb839385b3276a079b",
            "68f6968c7e484bf0ac7d51f80ef75567",
            "6cf05033241b4ecba9203a206822de2a",
            "22e73c1e703d4cf794e90c482e6a52a9",
            "1c9f661c23f445618337f0dac96e806f",
            "14bc9d1a123c4f9faa63d7bd4161b9e4"
          ]
        }
      },
      "source": [
        "#Descargamos los conjuntos necesarios para train y test\n",
        "batch_size = 4\n",
        "trainset = torchvision.datasets.CIFAR10(root='./data', train=True,\n",
        "                                        download=True, transform=transform)\n",
        "trainloader = torch.utils.data.DataLoader(trainset, batch_size=batch_size,\n",
        "                                          shuffle=True, num_workers=2)\n",
        "\n",
        "testset = torchvision.datasets.CIFAR10(root='./data', train=False,\n",
        "                                       download=True, transform=transform)\n",
        "testloader = torch.utils.data.DataLoader(testset, batch_size=batch_size,\n",
        "                                         shuffle=False, num_workers=2)\n",
        "\n",
        "classes = ('plane', 'car', 'bird', 'cat',\n",
        "           'deer', 'dog', 'frog', 'horse', 'ship', 'truck')"
      ],
      "execution_count": 16,
      "outputs": [
        {
          "output_type": "stream",
          "text": [
            "Downloading https://www.cs.toronto.edu/~kriz/cifar-10-python.tar.gz to ./data/cifar-10-python.tar.gz\n"
          ],
          "name": "stdout"
        },
        {
          "output_type": "display_data",
          "data": {
            "application/vnd.jupyter.widget-view+json": {
              "model_id": "05a67200b0f74ffdbcfe74cf26f740e6",
              "version_minor": 0,
              "version_major": 2
            },
            "text/plain": [
              "HBox(children=(FloatProgress(value=1.0, bar_style='info', max=1.0), HTML(value='')))"
            ]
          },
          "metadata": {
            "tags": []
          }
        },
        {
          "output_type": "stream",
          "text": [
            "Extracting ./data/cifar-10-python.tar.gz to ./data\n",
            "Files already downloaded and verified\n"
          ],
          "name": "stdout"
        }
      ]
    },
    {
      "cell_type": "code",
      "metadata": {
        "id": "2HD3M--HSF5Z",
        "outputId": "97d81d3e-b60c-4cb9-c449-504e92f9777b",
        "colab": {
          "base_uri": "https://localhost:8080/",
          "height": 155
        }
      },
      "source": [
        "#Probemos a montar un código encargado de mostrar algunas imágenes\n",
        "\n",
        "def imshow(img):\n",
        "  img = img / 2 + 0.5 # desnormalización de la imágen\n",
        "  npimg = img.numpy()\n",
        "  plt.imshow(np.transpose(npimg, (1, 2, 0)))\n",
        "  plt.show()\n",
        "\n",
        "#Cogemos un conjunto de imágenes\n",
        "dataiter = iter(trainloader) #generamos el iterador\n",
        "images, labels = dataiter.next()\n",
        "\n",
        "#Mostramos las imágenes\n",
        "imshow(torchvision.utils.make_grid(images))\n",
        "#Mostramos las labels\n",
        "print(' '.join('%5s' % classes[labels[j]] for j in range(labels.size(0))))"
      ],
      "execution_count": 19,
      "outputs": [
        {
          "output_type": "display_data",
          "data": {
            "image/png": "[encoded data removed]",
            "text/plain": [
              "<Figure size 432x288 with 1 Axes>"
            ]
          },
          "metadata": {
            "tags": [],
            "needs_background": "light"
          }
        },
        {
          "output_type": "stream",
          "text": [
            " frog   car   dog  frog\n"
          ],
          "name": "stdout"
        }
      ]
    },
    {
      "cell_type": "code",
      "metadata": {
        "id": "qdI3cYqFTxE0"
      },
      "source": [
        "# Definimos la CNN\n",
        "\n",
        "class Net(nn.Module):\n",
        "  def __init__(self):\n",
        "    super(Net, self).__init__()\n",
        "    self.conv1 = nn.Conv2d(3, 6, 5)\n",
        "    self.pool = nn.MaxPool2d(2,2)\n",
        "    self.conv2 = nn.Conv2d(6, 16, 5)\n",
        "    self.fc1 = nn.Linear(16*5*5, 120)\n",
        "    self.fc2 = nn.Linear(120, 84)\n",
        "    self.fc3 = nn.Linear(84, 10)\n",
        "\n",
        "  def forward(self, x):\n",
        "    x = self.pool(F.relu(self.conv1(x)))\n",
        "    x = self.pool(F.relu(self.conv2(x)))\n",
        "    x = x.view(-1, 16*5*5) #creo que esto era equivalente a un flatten\n",
        "    x = F.relu(self.fc1(x))\n",
        "    x = F.relu(self.fc2(x))\n",
        "    x = self.fc3(x)\n",
        "    return x\n",
        "\n",
        "net = Net()"
      ],
      "execution_count": 20,
      "outputs": []
    },
    {
      "cell_type": "code",
      "metadata": {
        "id": "GIjhmWwfUrPc",
        "outputId": "c6215a44-6c73-40a0-a5be-827a4eecc2bb",
        "colab": {
          "base_uri": "https://localhost:8080/",
          "height": 202
        }
      },
      "source": [
        "#para copiar los pesos a a memoria de la GPU para realizar los cálculos,\n",
        "# necesitamos esta línea de código\n",
        "\n",
        "net.to(device)"
      ],
      "execution_count": 21,
      "outputs": [
        {
          "output_type": "error",
          "ename": "NameError",
          "evalue": "ignored",
          "traceback": [
            "\u001b[0;31m---------------------------------------------------------------------------\u001b[0m",
            "\u001b[0;31mNameError\u001b[0m                                 Traceback (most recent call last)",
            "\u001b[0;32m<ipython-input-21-26711fd77309>\u001b[0m in \u001b[0;36m<module>\u001b[0;34m()\u001b[0m\n\u001b[1;32m      2\u001b[0m \u001b[0;31m# necesitamos esta línea de código\u001b[0m\u001b[0;34m\u001b[0m\u001b[0;34m\u001b[0m\u001b[0;34m\u001b[0m\u001b[0m\n\u001b[1;32m      3\u001b[0m \u001b[0;34m\u001b[0m\u001b[0m\n\u001b[0;32m----> 4\u001b[0;31m \u001b[0mnet\u001b[0m\u001b[0;34m.\u001b[0m\u001b[0mto\u001b[0m\u001b[0;34m(\u001b[0m\u001b[0mdevice\u001b[0m\u001b[0;34m)\u001b[0m\u001b[0;34m\u001b[0m\u001b[0;34m\u001b[0m\u001b[0m\n\u001b[0m",
            "\u001b[0;31mNameError\u001b[0m: name 'device' is not defined"
          ]
        }
      ]
    },
    {
      "cell_type": "code",
      "metadata": {
        "id": "kiYq4eHyUzga"
      },
      "source": [
        "#LOSS FUNCTION Y OPTIMIZADOR\n",
        "\n",
        "criterion = nn.CrossEntropyLoss()\n",
        "optimizer = optim.SGD(net.parameters(), lr=0.001, momentum=0.9)"
      ],
      "execution_count": 22,
      "outputs": []
    },
    {
      "cell_type": "code",
      "metadata": {
        "id": "mh_oebsoViFh",
        "outputId": "059f54cc-8cff-44ee-d997-98265b5549f3",
        "colab": {
          "base_uri": "https://localhost:8080/",
          "height": 237
        }
      },
      "source": [
        "#ENTRENAMIENTO\n",
        "\n",
        "#el comportamiento de algunas capas no es el mismo en entrenamiento o en test,\n",
        "# (como por ejemplo, dropout o batch normalization), es interesante definirlo\n",
        "net.train()\n",
        "\n",
        "train_loss = []\n",
        "epochs = 10\n",
        "for epoch in range(epochs):\n",
        "\n",
        "  running_loss = 0.0\n",
        "  for data in trainloader: #este es el iterable que se ha construido unas celdas atrás\n",
        "    # cogemos los inputas, que vienen en formato [input, label]\n",
        "    inputs, labels = data\n",
        "    inputs, labels = inputs.to(device), labels.to(device)\n",
        "    #hacemos cero los parámetros del gradiente\n",
        "    # PyTorch acumula los gradientes en pasadas backward sucesivas\n",
        "    optimizer.zero_grad()\n",
        "    # forward + backward + optimizar\n",
        "    outputs = net(inputs)\n",
        "    loss = criterion(outputs, labels)\n",
        "    loss.backward()\n",
        "    optimizer.step()\n",
        "    #el loss se devuelve como una media sobre todo el batch_size: deshacemos la media\n",
        "    running_loss += loss.item() * inputs.size(0)\n",
        "\n",
        "  loss = running_loss / len(trainloader) #media sobre el número de batches\n",
        "  # esto ha servido para evitar el sesgo en el cálculo del loss para el último batch\n",
        "  train_loss.append(loss)\n",
        "  print('epoch [%d/%d] loss: %.3f' %\n",
        "        (epoch + 1, epochs, loss))\n",
        "  \n",
        "print('Finished Training')"
      ],
      "execution_count": 23,
      "outputs": [
        {
          "output_type": "error",
          "ename": "NameError",
          "evalue": "ignored",
          "traceback": [
            "\u001b[0;31m---------------------------------------------------------------------------\u001b[0m",
            "\u001b[0;31mNameError\u001b[0m                                 Traceback (most recent call last)",
            "\u001b[0;32m<ipython-input-23-c85278d90031>\u001b[0m in \u001b[0;36m<module>\u001b[0;34m()\u001b[0m\n\u001b[1;32m     13\u001b[0m     \u001b[0;31m# cogemos los inputas, que vienen en formato [input, label]\u001b[0m\u001b[0;34m\u001b[0m\u001b[0;34m\u001b[0m\u001b[0;34m\u001b[0m\u001b[0m\n\u001b[1;32m     14\u001b[0m     \u001b[0minputs\u001b[0m\u001b[0;34m,\u001b[0m \u001b[0mlabels\u001b[0m \u001b[0;34m=\u001b[0m \u001b[0mdata\u001b[0m\u001b[0;34m\u001b[0m\u001b[0;34m\u001b[0m\u001b[0m\n\u001b[0;32m---> 15\u001b[0;31m     \u001b[0minputs\u001b[0m\u001b[0;34m,\u001b[0m \u001b[0mlabels\u001b[0m \u001b[0;34m=\u001b[0m \u001b[0minputs\u001b[0m\u001b[0;34m.\u001b[0m\u001b[0mto\u001b[0m\u001b[0;34m(\u001b[0m\u001b[0mdevice\u001b[0m\u001b[0;34m)\u001b[0m\u001b[0;34m,\u001b[0m \u001b[0mlabels\u001b[0m\u001b[0;34m.\u001b[0m\u001b[0mto\u001b[0m\u001b[0;34m(\u001b[0m\u001b[0mdevice\u001b[0m\u001b[0;34m)\u001b[0m\u001b[0;34m\u001b[0m\u001b[0;34m\u001b[0m\u001b[0m\n\u001b[0m\u001b[1;32m     16\u001b[0m     \u001b[0;31m#hacemos cero los parámetros del gradiente\u001b[0m\u001b[0;34m\u001b[0m\u001b[0;34m\u001b[0m\u001b[0;34m\u001b[0m\u001b[0m\n\u001b[1;32m     17\u001b[0m     \u001b[0;31m# PyTorch acumula los gradientes en pasadas backward sucesivas\u001b[0m\u001b[0;34m\u001b[0m\u001b[0;34m\u001b[0m\u001b[0;34m\u001b[0m\u001b[0m\n",
            "\u001b[0;31mNameError\u001b[0m: name 'device' is not defined"
          ]
        }
      ]
    },
    {
      "cell_type": "code",
      "metadata": {
        "id": "HFtMplVZYpX5",
        "outputId": "5b7c2cfe-00c3-4674-e353-36c0d7a5f19e",
        "colab": {
          "base_uri": "https://localhost:8080/",
          "height": 155
        }
      },
      "source": [
        "#  --Veamos si nuestra CNN ha aprendido usando otro batch de imagenes--\n",
        "\n",
        "images, labels = dataiter.next()\n",
        "\n",
        "#printeamos las imágenes\n",
        "imshow(torchvision.utils.make_grid(images))\n",
        "print('GroundTruth: ', ' '.join('%5s' % classes[labels[j]] for j in range(labels.size(0))))"
      ],
      "execution_count": 24,
      "outputs": [
        {
          "output_type": "display_data",
          "data": {
            "image/png": "[encoded data removed]",
            "text/plain": [
              "<Figure size 432x288 with 1 Axes>"
            ]
          },
          "metadata": {
            "tags": [],
            "needs_background": "light"
          }
        },
        {
          "output_type": "stream",
          "text": [
            "GroundTruth:    car   car truck  frog\n"
          ],
          "name": "stdout"
        }
      ]
    },
    {
      "cell_type": "code",
      "metadata": {
        "id": "ISit5q3xZGBD",
        "outputId": "6de1a8a0-4a18-4162-f8d6-5c4c7bee27c2",
        "colab": {
          "base_uri": "https://localhost:8080/",
          "height": 237
        }
      },
      "source": [
        "#  --Predicción para 4 imágenes--\n",
        "images, labels = images.to(device), labels.to(device)\n",
        "outputs = net(images)\n",
        "_, predicted = torch.max(outputs, 1) #CLASIFICACIÓN\n",
        "print('Predicted: ', ' '.join('%5s' % classes[predicted[j]]\n",
        "                              for j in range(predicted.size(0))))"
      ],
      "execution_count": 25,
      "outputs": [
        {
          "output_type": "error",
          "ename": "NameError",
          "evalue": "ignored",
          "traceback": [
            "\u001b[0;31m---------------------------------------------------------------------------\u001b[0m",
            "\u001b[0;31mNameError\u001b[0m                                 Traceback (most recent call last)",
            "\u001b[0;32m<ipython-input-25-19ee0b475697>\u001b[0m in \u001b[0;36m<module>\u001b[0;34m()\u001b[0m\n\u001b[1;32m      1\u001b[0m \u001b[0;31m#  --Predicción para 4 imágenes--\u001b[0m\u001b[0;34m\u001b[0m\u001b[0;34m\u001b[0m\u001b[0;34m\u001b[0m\u001b[0m\n\u001b[0;32m----> 2\u001b[0;31m \u001b[0mimages\u001b[0m\u001b[0;34m,\u001b[0m \u001b[0mlabels\u001b[0m \u001b[0;34m=\u001b[0m \u001b[0mimages\u001b[0m\u001b[0;34m.\u001b[0m\u001b[0mto\u001b[0m\u001b[0;34m(\u001b[0m\u001b[0mdevice\u001b[0m\u001b[0;34m)\u001b[0m\u001b[0;34m,\u001b[0m \u001b[0mlabels\u001b[0m\u001b[0;34m.\u001b[0m\u001b[0mto\u001b[0m\u001b[0;34m(\u001b[0m\u001b[0mdevice\u001b[0m\u001b[0;34m)\u001b[0m\u001b[0;34m\u001b[0m\u001b[0;34m\u001b[0m\u001b[0m\n\u001b[0m\u001b[1;32m      3\u001b[0m \u001b[0moutputs\u001b[0m \u001b[0;34m=\u001b[0m \u001b[0mnet\u001b[0m\u001b[0;34m(\u001b[0m\u001b[0mimages\u001b[0m\u001b[0;34m)\u001b[0m\u001b[0;34m\u001b[0m\u001b[0;34m\u001b[0m\u001b[0m\n\u001b[1;32m      4\u001b[0m \u001b[0m_\u001b[0m\u001b[0;34m,\u001b[0m \u001b[0mpredicted\u001b[0m \u001b[0;34m=\u001b[0m \u001b[0mtorch\u001b[0m\u001b[0;34m.\u001b[0m\u001b[0mmax\u001b[0m\u001b[0;34m(\u001b[0m\u001b[0moutputs\u001b[0m\u001b[0;34m,\u001b[0m \u001b[0;36m1\u001b[0m\u001b[0;34m)\u001b[0m \u001b[0;31m#CLASIFICACIÓN\u001b[0m\u001b[0;34m\u001b[0m\u001b[0;34m\u001b[0m\u001b[0m\n\u001b[1;32m      5\u001b[0m print('Predicted: ', ' '.join('%5s' % classes[predicted[j]]\n",
            "\u001b[0;31mNameError\u001b[0m: name 'device' is not defined"
          ]
        }
      ]
    },
    {
      "cell_type": "code",
      "metadata": {
        "id": "4dhFsFjLaOtc",
        "outputId": "847e873d-cda5-4163-876e-926a8912bc2c",
        "colab": {
          "base_uri": "https://localhost:8080/",
          "height": 237
        }
      },
      "source": [
        "#  --Tasa de acierto para todo el test set--\n",
        "\n",
        "net.eval()\n",
        "correct = 0\n",
        "total = 0\n",
        "with torch.no_grad():\n",
        "  for data in testloader:\n",
        "    images, labels = data\n",
        "    images, labels = images.to(device), labels.to(device)\n",
        "    outputs = net(images)\n",
        "    _, predicted = torch.max(outputs, 1)\n",
        "    total += labels.size(0)\n",
        "    correct += (predicted == labels).sum().item()\n",
        "\n",
        "print('Accuracy of the network on the 10.000 test images: %d %%' % (\n",
        "    100 * correct / total))"
      ],
      "execution_count": 27,
      "outputs": [
        {
          "output_type": "error",
          "ename": "NameError",
          "evalue": "ignored",
          "traceback": [
            "\u001b[0;31m---------------------------------------------------------------------------\u001b[0m",
            "\u001b[0;31mNameError\u001b[0m                                 Traceback (most recent call last)",
            "\u001b[0;32m<ipython-input-27-25615180d8a8>\u001b[0m in \u001b[0;36m<module>\u001b[0;34m()\u001b[0m\n\u001b[1;32m      7\u001b[0m   \u001b[0;32mfor\u001b[0m \u001b[0mdata\u001b[0m \u001b[0;32min\u001b[0m \u001b[0mtestloader\u001b[0m\u001b[0;34m:\u001b[0m\u001b[0;34m\u001b[0m\u001b[0;34m\u001b[0m\u001b[0m\n\u001b[1;32m      8\u001b[0m     \u001b[0mimages\u001b[0m\u001b[0;34m,\u001b[0m \u001b[0mlabels\u001b[0m \u001b[0;34m=\u001b[0m \u001b[0mdata\u001b[0m\u001b[0;34m\u001b[0m\u001b[0;34m\u001b[0m\u001b[0m\n\u001b[0;32m----> 9\u001b[0;31m     \u001b[0mimages\u001b[0m\u001b[0;34m,\u001b[0m \u001b[0mlabels\u001b[0m \u001b[0;34m=\u001b[0m \u001b[0mimages\u001b[0m\u001b[0;34m.\u001b[0m\u001b[0mto\u001b[0m\u001b[0;34m(\u001b[0m\u001b[0mdevice\u001b[0m\u001b[0;34m)\u001b[0m\u001b[0;34m,\u001b[0m \u001b[0mlabels\u001b[0m\u001b[0;34m.\u001b[0m\u001b[0mto\u001b[0m\u001b[0;34m(\u001b[0m\u001b[0mdevice\u001b[0m\u001b[0;34m)\u001b[0m\u001b[0;34m\u001b[0m\u001b[0;34m\u001b[0m\u001b[0m\n\u001b[0m\u001b[1;32m     10\u001b[0m     \u001b[0moutputs\u001b[0m \u001b[0;34m=\u001b[0m \u001b[0mnet\u001b[0m\u001b[0;34m(\u001b[0m\u001b[0mimages\u001b[0m\u001b[0;34m)\u001b[0m\u001b[0;34m\u001b[0m\u001b[0;34m\u001b[0m\u001b[0m\n\u001b[1;32m     11\u001b[0m     \u001b[0m_\u001b[0m\u001b[0;34m,\u001b[0m \u001b[0mpredicted\u001b[0m \u001b[0;34m=\u001b[0m \u001b[0mtorch\u001b[0m\u001b[0;34m.\u001b[0m\u001b[0mmax\u001b[0m\u001b[0;34m(\u001b[0m\u001b[0moutputs\u001b[0m\u001b[0;34m,\u001b[0m \u001b[0;36m1\u001b[0m\u001b[0;34m)\u001b[0m\u001b[0;34m\u001b[0m\u001b[0;34m\u001b[0m\u001b[0m\n",
            "\u001b[0;31mNameError\u001b[0m: name 'device' is not defined"
          ]
        }
      ]
    },
    {
      "cell_type": "code",
      "metadata": {
        "id": "D6SK94ZXe_cc"
      },
      "source": [
        "# -- TASAS DE ACIERTO POR CLASE --\n",
        "# Veamos qué clases se detectan mejor\n",
        "\n",
        "class_correct = list(0. for i in range(10))\n",
        "class_total = list(0. for i in range(10))\n",
        "\n",
        "#todo lo que está dentro del 'with' no calcula el gradiente\n",
        "# es importante usarlo para no llenar la memoria de la gpu de cosas que no sirven pa na\n",
        "with torch.no_grad():\n",
        "  for data in testloader:\n",
        "    images, labels = dataimages, labels = images.to(device), labels.to(device)\n",
        "    outputs = net(images)\n",
        "    _, predicted = torch.max(outputs, 1)\n",
        "    c = (predicted == labels).squeeze()\n",
        "    #ahora no sólo nos interesa la tasa de acierto global, sino que tenemos que\n",
        "    # ver además de qué clase se trata\n",
        "    for i in range(labels.size(0)):\n",
        "      label = labels[i]\n",
        "      class_correct[label] += c[i].item()\n",
        "      class_total[label] += 1\n",
        "\n",
        "for i in range(10):\n",
        "  print('Accuracy of %5s : %2d %%' % (\n",
        "      classes[i], 100 * class_correct[i] / class_total[i]))"
      ],
      "execution_count": null,
      "outputs": []
    }
  ]
}