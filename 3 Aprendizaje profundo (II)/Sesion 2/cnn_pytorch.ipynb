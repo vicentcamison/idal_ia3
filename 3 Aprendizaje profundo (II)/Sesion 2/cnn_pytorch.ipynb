{
  "nbformat": 4,
  "nbformat_minor": 0,
  "metadata": {
    "colab": {
      "name": "cnn_pytorch.ipynb",
      "provenance": [],
      "authorship_tag": "ABX9TyOIzrRof8yp//ycku76yxp4",
      "include_colab_link": true
    },
    "kernelspec": {
      "name": "python3",
      "display_name": "Python 3"
    }
  },
  "cells": [
    {
      "cell_type": "markdown",
      "metadata": {
        "id": "view-in-github",
        "colab_type": "text"
      },
      "source": [
        "<a href=\"https://colab.research.google.com/github/vicentcamison/idal_ia3/blob/main/3%20Aprendizaje%20profundo%20(II)/Sesion%202/cnn_pytorch.ipynb\" target=\"_parent\"><img src=\"https://colab.research.google.com/assets/colab-badge.svg\" alt=\"Open In Colab\"/></a>"
      ]
    },
    {
      "cell_type": "code",
      "metadata": {
        "id": "hNHMylUNsjMi"
      },
      "source": [
        "import numpy as np\n",
        "import pandas as pd\n",
        "\n",
        "import torch\n",
        "import torch.nn as nn\n",
        "import torch.optim as optim\n",
        "from torch.utils.data import Dataset, DataLoader"
      ],
      "execution_count": 1,
      "outputs": []
    },
    {
      "cell_type": "code",
      "metadata": {
        "id": "x0gCbHgJsy0J"
      },
      "source": [
        "input_1d = torch.randn(10, dtype=torch.float)\n",
        "input_2d = torch.randn(2,5, dtype=torch.float)\n",
        "input_2d_img = torch.randn(3, 10, 3, dtype=torch.float)"
      ],
      "execution_count": 2,
      "outputs": []
    },
    {
      "cell_type": "code",
      "metadata": {
        "colab": {
          "base_uri": "https://localhost:8080/"
        },
        "id": "IPg9wP58tm_s",
        "outputId": "9af5e2d1-dc1a-44d0-8830-4c17f5c6788f"
      },
      "source": [
        "input_2d_img"
      ],
      "execution_count": 3,
      "outputs": [
        {
          "output_type": "execute_result",
          "data": {
            "text/plain": [
              "tensor([[[ 1.1013, -0.7271, -0.6177],\n",
              "         [ 0.0804, -1.4985,  0.9306],\n",
              "         [ 0.9564, -0.2386,  0.3534],\n",
              "         [ 1.0204,  0.8901,  2.1676],\n",
              "         [-0.9275,  0.1841, -0.5260],\n",
              "         [ 0.5356, -1.2847, -1.2048],\n",
              "         [ 0.2553, -0.1102, -0.3894],\n",
              "         [-0.2863, -1.9713, -2.3789],\n",
              "         [-0.0111,  0.2147,  0.0078],\n",
              "         [-0.1670,  0.6463, -0.4887]],\n",
              "\n",
              "        [[-1.5745,  0.8593,  0.8954],\n",
              "         [ 0.1955, -2.0928, -0.3917],\n",
              "         [ 0.7534, -0.1216,  0.4532],\n",
              "         [ 0.3213, -0.3882,  1.5452],\n",
              "         [-0.7401, -0.1000,  1.3877],\n",
              "         [-0.3390, -2.1040, -1.5613],\n",
              "         [-0.9722, -0.6606,  1.7181],\n",
              "         [-2.0132,  2.6791,  0.3635],\n",
              "         [-0.5428, -0.5161,  0.1275],\n",
              "         [ 1.2218,  0.6236, -0.5476]],\n",
              "\n",
              "        [[ 0.7566,  0.1247,  1.0425],\n",
              "         [-0.7307,  0.8789,  0.3867],\n",
              "         [ 0.6304, -1.1177, -0.9068],\n",
              "         [ 0.3806,  2.6149,  0.0783],\n",
              "         [-2.5470, -0.3348, -0.8852],\n",
              "         [ 0.7592, -0.2394,  0.9452],\n",
              "         [ 1.1198, -1.3064, -0.6300],\n",
              "         [ 0.0029, -0.3047, -1.1405],\n",
              "         [ 0.8947, -1.0397,  0.6672],\n",
              "         [-1.3149, -0.3765, -0.3147]]])"
            ]
          },
          "metadata": {
            "tags": []
          },
          "execution_count": 3
        }
      ]
    },
    {
      "cell_type": "code",
      "metadata": {
        "colab": {
          "base_uri": "https://localhost:8080/"
        },
        "id": "eLJrypuct8Qs",
        "outputId": "2a128056-04f1-4559-8df7-510e47a675df"
      },
      "source": [
        "## -- CONV 1D --\n",
        "\n",
        "input_1d = input_1d.unsqueeze(0).unsqueeze(0)\n",
        "input_1d.shape"
      ],
      "execution_count": 4,
      "outputs": [
        {
          "output_type": "execute_result",
          "data": {
            "text/plain": [
              "torch.Size([1, 1, 10])"
            ]
          },
          "metadata": {
            "tags": []
          },
          "execution_count": 4
        }
      ]
    },
    {
      "cell_type": "code",
      "metadata": {
        "colab": {
          "base_uri": "https://localhost:8080/"
        },
        "id": "IgjTJrMqulkN",
        "outputId": "6b0b3c3d-2e41-42ad-fc1a-d5ecfedae57b"
      },
      "source": [
        "cnn1d_1 = nn.Conv1d(in_channels=1, out_channels=5, kernel_size=2, stride=2, padding=1)\n",
        "\n",
        "print('cnn1d_1: \\n')\n",
        "print(cnn1d_1(input_1d).shape, '\\n')\n",
        "print(cnn1d_1(input_1d))"
      ],
      "execution_count": 5,
      "outputs": [
        {
          "output_type": "stream",
          "text": [
            "cnn1d_1: \n",
            "\n",
            "torch.Size([1, 5, 6]) \n",
            "\n",
            "tensor([[[-0.3864, -0.5798,  0.1700,  0.4329, -0.9241,  0.0122],\n",
            "         [ 0.1748, -0.2820,  0.6160,  0.8441, -1.2547,  0.4512],\n",
            "         [ 1.3394,  0.8850,  0.7408,  0.5006, -0.2718,  0.8240],\n",
            "         [ 0.1200, -0.1060,  0.0440,  0.0243, -0.6411,  0.0325],\n",
            "         [ 0.2847, -0.0896,  0.3512,  0.4053, -0.9405,  0.2865]]],\n",
            "       grad_fn=<SqueezeBackward1>)\n"
          ],
          "name": "stdout"
        }
      ]
    },
    {
      "cell_type": "code",
      "metadata": {
        "colab": {
          "base_uri": "https://localhost:8080/"
        },
        "id": "KrsqQYwhxBS8",
        "outputId": "edd48425-ff46-4598-db1f-353f258956dd"
      },
      "source": [
        "## -- CONV 1D A ENTRADAS 2D --\n",
        "#También se puede aplicar la convolución 1D a tensores 2D\n",
        "#lo preparamos primero añadiendo la capa de 'color'\n",
        "\n",
        "input_2d = input_2d.unsqueeze(0)\n",
        "input_2d.shape"
      ],
      "execution_count": 6,
      "outputs": [
        {
          "output_type": "execute_result",
          "data": {
            "text/plain": [
              "torch.Size([1, 2, 5])"
            ]
          },
          "metadata": {
            "tags": []
          },
          "execution_count": 6
        }
      ]
    },
    {
      "cell_type": "code",
      "metadata": {
        "colab": {
          "base_uri": "https://localhost:8080/"
        },
        "id": "sgtKE9e2xR4i",
        "outputId": "7848d453-dc01-4f9a-eaf5-d533f969913a"
      },
      "source": [
        "cnn1d_5 = nn.Conv1d(in_channels=2, out_channels=1, kernel_size=3, stride=1)\n",
        "\n",
        "print('cnn1d_5: \\n')\n",
        "print(cnn1d_5(input_2d).shape, '\\n')\n",
        "print(cnn1d_5(input_2d))\n",
        "\n",
        "#En este caso, está cogiendo lo que normalmente identificamos como el EJE Y,\n",
        "# como el número de canales de entrada (como si fueran dos colores distintos,\n",
        "# o incluso interpretado como el resultado de dos filtros 'previos')"
      ],
      "execution_count": 8,
      "outputs": [
        {
          "output_type": "stream",
          "text": [
            "cnn1d_5: \n",
            "\n",
            "torch.Size([1, 1, 3]) \n",
            "\n",
            "tensor([[[ 0.2086, -0.3545, -0.7927]]], grad_fn=<SqueezeBackward1>)\n"
          ],
          "name": "stdout"
        }
      ]
    },
    {
      "cell_type": "code",
      "metadata": {
        "colab": {
          "base_uri": "https://localhost:8080/"
        },
        "id": "MyIV0z-5yIm3",
        "outputId": "ade05bf3-d25e-4e79-c04f-17740197719f"
      },
      "source": [
        "cnn1d_6 = nn.Conv1d(in_channels=2, out_channels=5, kernel_size=2, stride=2, padding=1)\n",
        "\n",
        "print('cnn1d_6: \\n')\n",
        "print(cnn1d_6(input_2d).shape, '\\n')\n",
        "print(cnn1d_6(input_2d))"
      ],
      "execution_count": 9,
      "outputs": [
        {
          "output_type": "stream",
          "text": [
            "cnn1d_6: \n",
            "\n",
            "torch.Size([1, 5, 3]) \n",
            "\n",
            "tensor([[[ 0.2728,  0.3686,  0.5055],\n",
            "         [ 0.2795, -0.3451, -0.5035],\n",
            "         [ 0.0066,  0.0158,  0.3461],\n",
            "         [-0.2624, -0.9397, -0.4314],\n",
            "         [ 0.1402,  0.5272, -0.0968]]], grad_fn=<SqueezeBackward1>)\n"
          ],
          "name": "stdout"
        }
      ]
    },
    {
      "cell_type": "code",
      "metadata": {
        "colab": {
          "base_uri": "https://localhost:8080/"
        },
        "id": "htUaExsw06mU",
        "outputId": "6c8ea876-e71f-4d03-c079-2da4e6b7a224"
      },
      "source": [
        "## -- CONV 2D -- \n",
        "\n",
        "# Añadimos una nueva dimensión que (supongo) representa la cantidad\n",
        "# de datos que tenemos (en este caso, sólo tenemos 1 imágen)\n",
        "\n",
        "input_2d_img = input_2d_img.unsqueeze(0)\n",
        "input_2d_img.shape"
      ],
      "execution_count": 12,
      "outputs": [
        {
          "output_type": "execute_result",
          "data": {
            "text/plain": [
              "torch.Size([1, 3, 10, 3])"
            ]
          },
          "metadata": {
            "tags": []
          },
          "execution_count": 12
        }
      ]
    },
    {
      "cell_type": "code",
      "metadata": {
        "colab": {
          "base_uri": "https://localhost:8080/"
        },
        "id": "8UsCsHE71QfF",
        "outputId": "e5ed5646-ba12-4e64-bafb-682263356cc1"
      },
      "source": [
        "# Creamos la capa convolucional\n",
        "cnn2d_1 = nn.Conv2d(in_channels=3, out_channels=3, kernel_size=3, stride=1)\n",
        "\n",
        "print('cnn2d_1: \\n')\n",
        "print(cnn2d_1(input_2d_img).shape, '\\n')\n",
        "print(cnn2d_1(input_2d_img))"
      ],
      "execution_count": 13,
      "outputs": [
        {
          "output_type": "stream",
          "text": [
            "cnn2d_1: \n",
            "\n",
            "torch.Size([1, 3, 8, 1]) \n",
            "\n",
            "tensor([[[[-0.5082],\n",
            "          [-0.8444],\n",
            "          [ 0.2749],\n",
            "          [-0.1485],\n",
            "          [ 0.1741],\n",
            "          [ 1.2368],\n",
            "          [ 0.4233],\n",
            "          [-1.1538]],\n",
            "\n",
            "         [[ 0.0338],\n",
            "          [ 0.1162],\n",
            "          [-0.0106],\n",
            "          [-0.1152],\n",
            "          [ 0.2214],\n",
            "          [ 1.8717],\n",
            "          [ 0.1294],\n",
            "          [ 0.7271]],\n",
            "\n",
            "         [[ 0.4780],\n",
            "          [-0.1901],\n",
            "          [ 1.1546],\n",
            "          [-0.2633],\n",
            "          [ 0.3349],\n",
            "          [-0.7633],\n",
            "          [ 0.3064],\n",
            "          [ 1.4314]]]], grad_fn=<ThnnConv2DBackward>)\n"
          ],
          "name": "stdout"
        }
      ]
    },
    {
      "cell_type": "code",
      "metadata": {
        "colab": {
          "base_uri": "https://localhost:8080/"
        },
        "id": "YDhfJRXu16Kp",
        "outputId": "ef9f1f12-d729-46de-c274-935dbc907e74"
      },
      "source": [
        "cnn2d_2 = nn.Conv2d(in_channels=3, out_channels=5, kernel_size=2, padding=1)\n",
        "\n",
        "print('cnn2d_2 \\n')\n",
        "print(cnn2d_2(input_2d_img).shape, '\\n')\n",
        "print(cnn2d_2(input_2d_img))"
      ],
      "execution_count": 14,
      "outputs": [
        {
          "output_type": "stream",
          "text": [
            "cnn2d_2 \n",
            "\n",
            "torch.Size([1, 5, 11, 4]) \n",
            "\n",
            "tensor([[[[-0.2944, -0.7804, -0.0280, -0.2256],\n",
            "          [-0.8898, -0.2210,  0.4462, -0.4592],\n",
            "          [-0.2321, -0.8641, -0.1671, -0.4519],\n",
            "          [-0.2324, -0.7492, -0.7996, -0.8159],\n",
            "          [-0.4311, -0.1112, -0.5630, -0.2854],\n",
            "          [-0.3443, -0.4509,  0.3719,  0.0435],\n",
            "          [-0.4565, -1.1000, -0.1061,  0.1430],\n",
            "          [-0.6026, -0.6212,  0.9644,  0.7851],\n",
            "          [-0.7568,  0.5040,  0.9238,  0.1894],\n",
            "          [-0.4080, -0.2078, -0.3883, -0.1465],\n",
            "          [ 0.0454, -0.0830, -0.4290, -0.2062]],\n",
            "\n",
            "         [[ 0.3975,  0.8868, -0.1134,  0.0818],\n",
            "          [ 0.3867, -0.1929,  0.5189,  0.5411],\n",
            "          [ 0.2192,  1.2835, -0.8820,  0.1693],\n",
            "          [ 0.1428,  0.7763,  0.9801,  1.0039],\n",
            "          [ 0.0926,  0.1551, -0.8162,  0.4971],\n",
            "          [ 0.3551,  0.7796,  0.1484,  0.7765],\n",
            "          [ 0.3567,  0.9552, -0.0537, -0.9728],\n",
            "          [ 0.5133, -0.0883, -1.0088, -0.0850],\n",
            "          [ 0.6092, -0.0971,  0.9209,  0.3056],\n",
            "          [ 0.3848, -0.4912,  0.4855,  0.0893],\n",
            "          [ 0.0440,  0.6375,  0.7436,  0.1471]],\n",
            "\n",
            "         [[-0.6621,  0.1124,  0.0918, -0.2108],\n",
            "          [ 0.5578,  0.1054, -1.2711, -0.3642],\n",
            "          [-0.4262,  0.6610,  0.9224,  0.2749],\n",
            "          [-0.0261, -1.3202, -0.7094,  0.8440],\n",
            "          [ 0.8880,  0.8073,  0.1951, -0.1850],\n",
            "          [-1.0375,  0.9072, -0.8377, -0.7087],\n",
            "          [-0.1326, -0.5550,  1.3916,  0.5464],\n",
            "          [ 0.1431,  0.1865,  1.3256, -0.2805],\n",
            "          [-0.2003, -0.2442, -0.7984,  0.3507],\n",
            "          [ 0.7178,  0.1507,  1.0035, -0.3122],\n",
            "          [-0.3527,  0.1444, -0.1917,  0.2677]],\n",
            "\n",
            "         [[ 0.0320,  0.1379, -0.0260,  0.0048],\n",
            "          [ 0.8216,  0.7457, -0.7833,  0.2583],\n",
            "          [-0.2269,  0.2242,  0.6049,  0.5798],\n",
            "          [ 0.0187, -0.0563, -0.9745,  0.2470],\n",
            "          [ 1.0104,  1.0019,  1.3347,  0.6098],\n",
            "          [-0.1834,  0.0212, -0.1473, -0.4490],\n",
            "          [ 0.2972,  0.5738, -0.0030,  0.2964],\n",
            "          [ 0.7188,  0.5538, -0.0251, -0.1770],\n",
            "          [ 0.3799, -0.8102, -1.0974, -0.6027],\n",
            "          [ 0.3342,  0.5344,  0.3152,  0.2737],\n",
            "          [-0.1285, -0.1334,  0.1258,  0.0252]],\n",
            "\n",
            "         [[ 0.0916,  0.2657,  0.0492, -0.3102],\n",
            "          [ 0.2866,  0.0028, -0.4596,  0.3291],\n",
            "          [ 0.4927, -0.5120,  1.5037,  0.3842],\n",
            "          [ 0.3859,  0.2230,  0.0968,  0.1086],\n",
            "          [-0.0552,  0.3370,  0.9933, -0.5462],\n",
            "          [ 0.3997, -0.3294, -0.2475, -0.5472],\n",
            "          [ 0.1082, -0.3141,  1.0756,  0.8881],\n",
            "          [-0.2300,  0.8518, -0.5885, -0.3260],\n",
            "          [ 0.1265, -0.0910,  0.1072,  0.2194],\n",
            "          [ 0.1183,  1.0024,  0.0049,  0.2597],\n",
            "          [ 0.2660, -0.1127, -0.2063,  0.3221]]]],\n",
            "       grad_fn=<ThnnConv2DBackward>)\n"
          ],
          "name": "stdout"
        }
      ]
    }
  ]
}