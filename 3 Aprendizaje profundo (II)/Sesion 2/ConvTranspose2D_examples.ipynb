{
  "nbformat": 4,
  "nbformat_minor": 0,
  "metadata": {
    "colab": {
      "name": "ConvTranspose2D_examples.ipynb",
      "provenance": [],
      "collapsed_sections": [],
      "include_colab_link": true
    },
    "kernelspec": {
      "name": "python3",
      "display_name": "Python 3"
    },
    "accelerator": "GPU",
    "widgets": {
      "application/vnd.jupyter.widget-state+json": {
        "a6266d77e5b942a3b815e150fd30ba5d": {
          "model_module": "@jupyter-widgets/controls",
          "model_name": "HBoxModel",
          "state": {
            "_view_name": "HBoxView",
            "_dom_classes": [],
            "_model_name": "HBoxModel",
            "_view_module": "@jupyter-widgets/controls",
            "_model_module_version": "1.5.0",
            "_view_count": null,
            "_view_module_version": "1.5.0",
            "box_style": "",
            "layout": "IPY_MODEL_7a61d0ca31cd4bd8bf6fd67a516457b5",
            "_model_module": "@jupyter-widgets/controls",
            "children": [
              "IPY_MODEL_0288bbc39b1a4c25af71a40bca9594a8",
              "IPY_MODEL_8b6da5b0710a4d4497f1d4d6ba96e4e1"
            ]
          }
        },
        "7a61d0ca31cd4bd8bf6fd67a516457b5": {
          "model_module": "@jupyter-widgets/base",
          "model_name": "LayoutModel",
          "state": {
            "_view_name": "LayoutView",
            "grid_template_rows": null,
            "right": null,
            "justify_content": null,
            "_view_module": "@jupyter-widgets/base",
            "overflow": null,
            "_model_module_version": "1.2.0",
            "_view_count": null,
            "flex_flow": null,
            "width": null,
            "min_width": null,
            "border": null,
            "align_items": null,
            "bottom": null,
            "_model_module": "@jupyter-widgets/base",
            "top": null,
            "grid_column": null,
            "overflow_y": null,
            "overflow_x": null,
            "grid_auto_flow": null,
            "grid_area": null,
            "grid_template_columns": null,
            "flex": null,
            "_model_name": "LayoutModel",
            "justify_items": null,
            "grid_row": null,
            "max_height": null,
            "align_content": null,
            "visibility": null,
            "align_self": null,
            "height": null,
            "min_height": null,
            "padding": null,
            "grid_auto_rows": null,
            "grid_gap": null,
            "max_width": null,
            "order": null,
            "_view_module_version": "1.2.0",
            "grid_template_areas": null,
            "object_position": null,
            "object_fit": null,
            "grid_auto_columns": null,
            "margin": null,
            "display": null,
            "left": null
          }
        },
        "0288bbc39b1a4c25af71a40bca9594a8": {
          "model_module": "@jupyter-widgets/controls",
          "model_name": "FloatProgressModel",
          "state": {
            "_view_name": "ProgressView",
            "style": "IPY_MODEL_e9def78a68d54d5e969179e7bda9b0ea",
            "_dom_classes": [],
            "description": "",
            "_model_name": "FloatProgressModel",
            "bar_style": "info",
            "max": 1,
            "_view_module": "@jupyter-widgets/controls",
            "_model_module_version": "1.5.0",
            "value": 1,
            "_view_count": null,
            "_view_module_version": "1.5.0",
            "orientation": "horizontal",
            "min": 0,
            "description_tooltip": null,
            "_model_module": "@jupyter-widgets/controls",
            "layout": "IPY_MODEL_1e0189b945814fd9bf235c8eb50e8a6c"
          }
        },
        "8b6da5b0710a4d4497f1d4d6ba96e4e1": {
          "model_module": "@jupyter-widgets/controls",
          "model_name": "HTMLModel",
          "state": {
            "_view_name": "HTMLView",
            "style": "IPY_MODEL_98135f0aaf03418a9d418fd5d6bd5087",
            "_dom_classes": [],
            "description": "",
            "_model_name": "HTMLModel",
            "placeholder": "​",
            "_view_module": "@jupyter-widgets/controls",
            "_model_module_version": "1.5.0",
            "value": " 170500096/? [00:20&lt;00:00, 80391787.32it/s]",
            "_view_count": null,
            "_view_module_version": "1.5.0",
            "description_tooltip": null,
            "_model_module": "@jupyter-widgets/controls",
            "layout": "IPY_MODEL_64c8bfdab92043f2856811ba12f83edd"
          }
        },
        "e9def78a68d54d5e969179e7bda9b0ea": {
          "model_module": "@jupyter-widgets/controls",
          "model_name": "ProgressStyleModel",
          "state": {
            "_view_name": "StyleView",
            "_model_name": "ProgressStyleModel",
            "description_width": "initial",
            "_view_module": "@jupyter-widgets/base",
            "_model_module_version": "1.5.0",
            "_view_count": null,
            "_view_module_version": "1.2.0",
            "bar_color": null,
            "_model_module": "@jupyter-widgets/controls"
          }
        },
        "1e0189b945814fd9bf235c8eb50e8a6c": {
          "model_module": "@jupyter-widgets/base",
          "model_name": "LayoutModel",
          "state": {
            "_view_name": "LayoutView",
            "grid_template_rows": null,
            "right": null,
            "justify_content": null,
            "_view_module": "@jupyter-widgets/base",
            "overflow": null,
            "_model_module_version": "1.2.0",
            "_view_count": null,
            "flex_flow": null,
            "width": null,
            "min_width": null,
            "border": null,
            "align_items": null,
            "bottom": null,
            "_model_module": "@jupyter-widgets/base",
            "top": null,
            "grid_column": null,
            "overflow_y": null,
            "overflow_x": null,
            "grid_auto_flow": null,
            "grid_area": null,
            "grid_template_columns": null,
            "flex": null,
            "_model_name": "LayoutModel",
            "justify_items": null,
            "grid_row": null,
            "max_height": null,
            "align_content": null,
            "visibility": null,
            "align_self": null,
            "height": null,
            "min_height": null,
            "padding": null,
            "grid_auto_rows": null,
            "grid_gap": null,
            "max_width": null,
            "order": null,
            "_view_module_version": "1.2.0",
            "grid_template_areas": null,
            "object_position": null,
            "object_fit": null,
            "grid_auto_columns": null,
            "margin": null,
            "display": null,
            "left": null
          }
        },
        "98135f0aaf03418a9d418fd5d6bd5087": {
          "model_module": "@jupyter-widgets/controls",
          "model_name": "DescriptionStyleModel",
          "state": {
            "_view_name": "StyleView",
            "_model_name": "DescriptionStyleModel",
            "description_width": "",
            "_view_module": "@jupyter-widgets/base",
            "_model_module_version": "1.5.0",
            "_view_count": null,
            "_view_module_version": "1.2.0",
            "_model_module": "@jupyter-widgets/controls"
          }
        },
        "64c8bfdab92043f2856811ba12f83edd": {
          "model_module": "@jupyter-widgets/base",
          "model_name": "LayoutModel",
          "state": {
            "_view_name": "LayoutView",
            "grid_template_rows": null,
            "right": null,
            "justify_content": null,
            "_view_module": "@jupyter-widgets/base",
            "overflow": null,
            "_model_module_version": "1.2.0",
            "_view_count": null,
            "flex_flow": null,
            "width": null,
            "min_width": null,
            "border": null,
            "align_items": null,
            "bottom": null,
            "_model_module": "@jupyter-widgets/base",
            "top": null,
            "grid_column": null,
            "overflow_y": null,
            "overflow_x": null,
            "grid_auto_flow": null,
            "grid_area": null,
            "grid_template_columns": null,
            "flex": null,
            "_model_name": "LayoutModel",
            "justify_items": null,
            "grid_row": null,
            "max_height": null,
            "align_content": null,
            "visibility": null,
            "align_self": null,
            "height": null,
            "min_height": null,
            "padding": null,
            "grid_auto_rows": null,
            "grid_gap": null,
            "max_width": null,
            "order": null,
            "_view_module_version": "1.2.0",
            "grid_template_areas": null,
            "object_position": null,
            "object_fit": null,
            "grid_auto_columns": null,
            "margin": null,
            "display": null,
            "left": null
          }
        }
      }
    }
  },
  "cells": [
    {
      "cell_type": "markdown",
      "metadata": {
        "id": "view-in-github",
        "colab_type": "text"
      },
      "source": [
        "<a href=\"https://colab.research.google.com/github/vicentcamison/idal_ia3/blob/main/3%20Aprendizaje%20profundo%20(II)/Sesion%202/ConvTranspose2D_examples.ipynb\" target=\"_parent\"><img src=\"https://colab.research.google.com/assets/colab-badge.svg\" alt=\"Open In Colab\"/></a>"
      ]
    },
    {
      "cell_type": "markdown",
      "metadata": {
        "id": "WndRPSUqP9nN"
      },
      "source": [
        "# ConvTranspose2D examples"
      ]
    },
    {
      "cell_type": "code",
      "metadata": {
        "id": "2LdsrymqP7vI"
      },
      "source": [
        "import torch\n",
        "import torch.nn as nn\n",
        "import torch.nn.functional as F\n",
        "import torchvision\n",
        "from torchvision import transforms\n",
        "\n",
        "import numpy as np\n",
        "import pandas as pd\n",
        "import matplotlib.pyplot as plt"
      ],
      "execution_count": 1,
      "outputs": []
    },
    {
      "cell_type": "code",
      "metadata": {
        "colab": {
          "base_uri": "https://localhost:8080/"
        },
        "id": "xg_LC1k_7ocw",
        "outputId": "e4d32afb-6f07-4a07-a431-243ba72d698e"
      },
      "source": [
        "device = torch.device(\"cuda:0\" if torch.cuda.is_available() else \"cpu\")\n",
        "print(device)"
      ],
      "execution_count": 2,
      "outputs": [
        {
          "output_type": "stream",
          "text": [
            "cuda:0\n"
          ],
          "name": "stdout"
        }
      ]
    },
    {
      "cell_type": "code",
      "metadata": {
        "id": "8RZq_ZF_Rs2K"
      },
      "source": [
        "# Syntax:\n",
        "# nn.ConvTranspose2d(in_channels: int, out_channels: int, kernel_size: Union[T, Tuple[T, T]], stride: Union[T, Tuple[T, T]] = 1, \n",
        "# padding: Union[T, Tuple[T, T]] = 0, output_padding: Union[T, Tuple[T, T]] = 0, ...)\n",
        "\n",
        "# Inpout: (N,Cin,Hin,Win)\n",
        "# Output: (N,Cout(N,C, Hout, Wout)\n",
        "\n",
        "# Convertir de 16 canales a 33 usando un kernel cuadrado 3x3, stride=2 y sin padding\n",
        "m = nn.ConvTranspose2d(in_channels=16, out_channels=33, kernel_size=(3,3), stride=2, padding=0)\n",
        "# La misma conversión pero con kernel rectangular: H=3, W=5, stride asimétrico (2 en H y 1 en W) y padding asimétrico (4 en H y 2 en W)\n",
        "m2 = nn.ConvTranspose2d(in_channels=16, out_channels=33, stride=(2,1), kernel_size=(3,5), padding=(4,2))"
      ],
      "execution_count": 3,
      "outputs": []
    },
    {
      "cell_type": "code",
      "metadata": {
        "id": "JyfnVfbSQMXO",
        "colab": {
          "base_uri": "https://localhost:8080/"
        },
        "outputId": "9ec4d48c-a155-47e5-bbc7-93c94159cedd"
      },
      "source": [
        "# Definir un tensor de entrada random\n",
        "input = torch.randn(1,16,10,10)\n",
        "#--JUAN: 1 imágen con 16 canales y tamaño 10x10\n",
        "# Visualizar con print las dimensiones de salida de ambas convoluciones transpuestas\n",
        "print(m(input).shape, m2(input).shape)"
      ],
      "execution_count": 4,
      "outputs": [
        {
          "output_type": "stream",
          "text": [
            "torch.Size([1, 33, 21, 21]) torch.Size([1, 33, 13, 10])\n"
          ],
          "name": "stdout"
        }
      ]
    },
    {
      "cell_type": "markdown",
      "metadata": {
        "id": "0ew-Lb3GZItw"
      },
      "source": [
        "Vamos a ver el efecto de especificar las dimensiones de salida mediante el parámetro output_size."
      ]
    },
    {
      "cell_type": "code",
      "metadata": {
        "id": "v_2-44ImQHlM"
      },
      "source": [
        "# Primero define un tensor random de 16 canales e imágenes de  H=12, W=12\n",
        "input = torch.randn(1,16,12,12)\n",
        "# define dos capas Conv2d/ConvTranspose2d que mantengan el nº de canales en 16, kernel 3x3, stride=2 y padding=1\n",
        "downsample = nn.Conv2d(16, 16, 3, stride=2, padding=1)\n",
        "upsample = nn.ConvTranspose2d(16, 16, 3, stride=2, padding=1)"
      ],
      "execution_count": 5,
      "outputs": []
    },
    {
      "cell_type": "code",
      "metadata": {
        "id": "LBqMRmMPS-9I",
        "colab": {
          "base_uri": "https://localhost:8080/"
        },
        "outputId": "bf8cb351-569e-44e2-ad73-2293ec6b6937"
      },
      "source": [
        "# Submuestrea 'input' reduciendo sus dimensiones H y W mediante la capa downsample.\n",
        "# Observa con print las diemensiones del tensor obtenido. ¿Es el resultado esperado?\n",
        "print(downsample(input).shape)\n",
        "\n",
        "#--JUAN: Hemos pasado de un tamaño de 12x12 a 6x6: una cuarta parte del área original"
      ],
      "execution_count": 6,
      "outputs": [
        {
          "output_type": "stream",
          "text": [
            "torch.Size([1, 16, 6, 6])\n"
          ],
          "name": "stdout"
        }
      ]
    },
    {
      "cell_type": "code",
      "metadata": {
        "id": "Ez5ka_pfQlVF",
        "colab": {
          "base_uri": "https://localhost:8080/"
        },
        "outputId": "2376e66e-40bf-47b6-cb2b-3ce4d3137bd4"
      },
      "source": [
        "# Podremos ahora aplicar un upsample mediante la capa ConvTranspose2d definida anteriormente.\n",
        "# Realiza el upsample del tensor anterior submuestreado. ¿Obtenemos las dimensiones originales?\n",
        "print(upsample(downsample(input)).shape)\n",
        "\n",
        "#--JUAN: No. Se convierte en una imagen de 11x11 en vez de 12x12"
      ],
      "execution_count": 7,
      "outputs": [
        {
          "output_type": "stream",
          "text": [
            "torch.Size([1, 16, 11, 11])\n"
          ],
          "name": "stdout"
        }
      ]
    },
    {
      "cell_type": "code",
      "metadata": {
        "id": "oBkcTIkIY8RH",
        "colab": {
          "base_uri": "https://localhost:8080/"
        },
        "outputId": "4f412a27-5634-4bb6-ba17-91c97af09952"
      },
      "source": [
        "# Podemos ajustar las dimensiones de las features de salida con el parámetro output_size. \n",
        "# Haz el upsample de la salida anterior forzando a que tengamos el mismo tamaño de features de salida que de entrada.\n",
        "# Muestra las dimensiones del tensor obtenido ¿qué diferncia observaas con el caso anterior?\n",
        "print(upsample(downsample(input), output_size=(1,16,12,12)).shape)\n",
        "\n",
        "#-- JUAN: Ahora sí que se reconstruye la imagen de 12x12"
      ],
      "execution_count": 8,
      "outputs": [
        {
          "output_type": "stream",
          "text": [
            "torch.Size([1, 16, 12, 12])\n"
          ],
          "name": "stdout"
        }
      ]
    },
    {
      "cell_type": "code",
      "metadata": {
        "id": "qs5fCcUOdeJB",
        "colab": {
          "base_uri": "https://localhost:8080/"
        },
        "outputId": "54a5af1a-9481-4789-e785-036cd04acde3"
      },
      "source": [
        "# Repite el downsample y upsample ahora con un tensor de H=11, W=11. Oserva las dimensiones del tensor tras el upsample,\n",
        "# sin especificar y especificando el output_size. ¿Qué conclusiones extraes?\n",
        "\n",
        "input_11 = input = torch.randn(1,16,11,11)\n",
        "print(upsample(downsample(input_11)).shape, upsample(downsample(input_11), output_size=(1,16,11,11)).shape)\n",
        "\n",
        "#-- JUAN: Ahora son iguales en ambos casos. "
      ],
      "execution_count": 9,
      "outputs": [
        {
          "output_type": "stream",
          "text": [
            "torch.Size([1, 16, 11, 11]) torch.Size([1, 16, 11, 11])\n"
          ],
          "name": "stdout"
        }
      ]
    },
    {
      "cell_type": "markdown",
      "metadata": {
        "id": "b4QRPZ4C30kG"
      },
      "source": [
        "# Parte 2: Montar un autoencodet para reconstruir las imágenes del dataset CIFAR-10\n",
        "\n",
        "Gran parte del código está copiado de la metodología desarrollada en el Alien vs Predator"
      ]
    },
    {
      "cell_type": "code",
      "metadata": {
        "id": "SOLbHl7a5yed"
      },
      "source": [
        "#Normaliamso la imagen\n",
        "transform = transforms.Compose(\n",
        "    [transforms.ToTensor(),\n",
        "     transforms.Normalize((0.5, 0.5, 0.5), (0.5, 0.5, 0.5))])"
      ],
      "execution_count": 10,
      "outputs": []
    },
    {
      "cell_type": "code",
      "metadata": {
        "colab": {
          "base_uri": "https://localhost:8080/",
          "height": 101,
          "referenced_widgets": [
            "a6266d77e5b942a3b815e150fd30ba5d",
            "7a61d0ca31cd4bd8bf6fd67a516457b5",
            "0288bbc39b1a4c25af71a40bca9594a8",
            "8b6da5b0710a4d4497f1d4d6ba96e4e1",
            "e9def78a68d54d5e969179e7bda9b0ea",
            "1e0189b945814fd9bf235c8eb50e8a6c",
            "98135f0aaf03418a9d418fd5d6bd5087",
            "64c8bfdab92043f2856811ba12f83edd"
          ]
        },
        "id": "rliL1kM93v2O",
        "outputId": "82a467ac-c0cb-4931-aad2-2a30518dccfa"
      },
      "source": [
        "#Descargamos los conjuntos necesarios para train y test\n",
        "batch_size = 4\n",
        "trainset = torchvision.datasets.CIFAR10(root='./data', train=True,\n",
        "                                        download=True, transform=transform)\n",
        "trainloader = torch.utils.data.DataLoader(trainset, batch_size=batch_size,\n",
        "                                          shuffle=True, num_workers=2)\n",
        "\n",
        "testset = torchvision.datasets.CIFAR10(root='./data', train=False,\n",
        "                                       download=True, transform=transform)\n",
        "testloader = torch.utils.data.DataLoader(testset, batch_size=batch_size,\n",
        "                                         shuffle=False, num_workers=2)\n",
        "\n",
        "classes = ('plane', 'car', 'bird', 'cat',\n",
        "           'deer', 'dog', 'frog', 'horse', 'ship', 'truck')"
      ],
      "execution_count": 11,
      "outputs": [
        {
          "output_type": "stream",
          "text": [
            "Downloading https://www.cs.toronto.edu/~kriz/cifar-10-python.tar.gz to ./data/cifar-10-python.tar.gz\n"
          ],
          "name": "stdout"
        },
        {
          "output_type": "display_data",
          "data": {
            "application/vnd.jupyter.widget-view+json": {
              "model_id": "a6266d77e5b942a3b815e150fd30ba5d",
              "version_minor": 0,
              "version_major": 2
            },
            "text/plain": [
              "HBox(children=(FloatProgress(value=1.0, bar_style='info', max=1.0), HTML(value='')))"
            ]
          },
          "metadata": {
            "tags": []
          }
        },
        {
          "output_type": "stream",
          "text": [
            "Extracting ./data/cifar-10-python.tar.gz to ./data\n",
            "Files already downloaded and verified\n"
          ],
          "name": "stdout"
        }
      ]
    },
    {
      "cell_type": "code",
      "metadata": {
        "id": "gL6DJLQU5kRP"
      },
      "source": [
        "class Autoencoder(nn.Module):\n",
        "  def __init__(self):\n",
        "    super(Autoencoder, self).__init__()\n",
        "\n",
        "    #encoder\n",
        "    self.enc1 = nn.Conv2d(\n",
        "        in_channels=3, out_channels=8, kernel_size=3\n",
        "    )\n",
        "    self.enc2 = nn.Conv2d(\n",
        "        in_channels=8, out_channels=4, kernel_size=3\n",
        "    )\n",
        "\n",
        "    #decoder\n",
        "    self.dec1 = nn.ConvTranspose2d(\n",
        "        in_channels=4, out_channels=8, kernel_size=3\n",
        "    )\n",
        "    self.dec2 = nn.ConvTranspose2d(\n",
        "        in_channels=8, out_channels=3, kernel_size=3\n",
        "    )\n",
        "\n",
        "  def forward(self, x):\n",
        "    x = F.relu(self.enc1(x))\n",
        "    x = F.relu(self.enc2(x))\n",
        "    x = F.relu(self.dec1(x))\n",
        "    x = F.relu(self.dec2(x))\n",
        "    return x"
      ],
      "execution_count": 12,
      "outputs": []
    },
    {
      "cell_type": "code",
      "metadata": {
        "id": "vuvW1iFE7xCf"
      },
      "source": [
        "model = Autoencoder()\n",
        "model.to(device)\n",
        "\n",
        "criterion = nn.MSELoss()\n",
        "optimizer = torch.optim.Adam(model.parameters(), lr=0.001)"
      ],
      "execution_count": 15,
      "outputs": []
    },
    {
      "cell_type": "code",
      "metadata": {
        "colab": {
          "base_uri": "https://localhost:8080/"
        },
        "id": "cEqcmoS07Woc",
        "outputId": "f040c7b8-3efe-4d61-cfdc-38d4a3496efd"
      },
      "source": [
        "#BUCLE DE ENTRENAMIENTO\n",
        "\n",
        "model.train()\n",
        "train_loss = []\n",
        "epochs = 10\n",
        "for epoch in range(epochs):\n",
        "\n",
        "  running_loss = 0.0\n",
        "  for data in trainloader:\n",
        "    #cogemos los inputs como una lista de [inputs, labels]\n",
        "    inputs, labels = data\n",
        "    inputs, labels = inputs.to(device), labels.to(device)\n",
        "    #hacemos 0 los parámetros del gradiente\n",
        "    optimizer.zero_grad()\n",
        "    #forward + backward + optimize\n",
        "    outputs = model(inputs)\n",
        "    loss = criterion(outputs, inputs)\n",
        "    loss.backward()\n",
        "    optimizer.step()\n",
        "    #el loss se devuelve como una media sobre el batch_size: deshacemos la media\n",
        "    running_loss += loss.item() * inputs.size(0)\n",
        "\n",
        "  loss = running_loss / len(trainloader)\n",
        "  train_loss.append(loss)\n",
        "  print('epoch [%d/%d] loss: %.3f' %\n",
        "        (epoch + 1, epochs, loss))\n",
        "  \n",
        "print('Finished Training')"
      ],
      "execution_count": 16,
      "outputs": [
        {
          "output_type": "stream",
          "text": [
            "epoch [1/10] loss: 0.592\n",
            "epoch [2/10] loss: 0.579\n",
            "epoch [3/10] loss: 0.577\n",
            "epoch [4/10] loss: 0.576\n",
            "epoch [5/10] loss: 0.576\n",
            "epoch [6/10] loss: 0.576\n",
            "epoch [7/10] loss: 0.576\n",
            "epoch [8/10] loss: 0.576\n",
            "epoch [9/10] loss: 0.576\n",
            "epoch [10/10] loss: 0.576\n",
            "Finished Training\n"
          ],
          "name": "stdout"
        }
      ]
    },
    {
      "cell_type": "code",
      "metadata": {
        "id": "doyO_ZnvAB6A"
      },
      "source": [
        "model.eval()\n",
        "with torch.no_grad():\n",
        "  for data in testloader:\n",
        "    images, labels = data\n",
        "    images, labels = images.to(device), labels.to(device)\n",
        "    outputs = model(images)"
      ],
      "execution_count": 17,
      "outputs": []
    },
    {
      "cell_type": "code",
      "metadata": {
        "colab": {
          "base_uri": "https://localhost:8080/",
          "height": 202
        },
        "id": "TRW-YUg4CuBU",
        "outputId": "399112d7-ef6f-46bb-dc3c-a4415bcfd4c8"
      },
      "source": [
        "outputs.to(device)\n",
        "outputs_np = torch.Tensor.numpy(outputs)\n",
        "outputs_np.to(device)"
      ],
      "execution_count": 26,
      "outputs": [
        {
          "output_type": "error",
          "ename": "TypeError",
          "evalue": "ignored",
          "traceback": [
            "\u001b[0;31m---------------------------------------------------------------------------\u001b[0m",
            "\u001b[0;31mTypeError\u001b[0m                                 Traceback (most recent call last)",
            "\u001b[0;32m<ipython-input-26-b9e9c0013bca>\u001b[0m in \u001b[0;36m<module>\u001b[0;34m()\u001b[0m\n\u001b[1;32m      1\u001b[0m \u001b[0moutputs\u001b[0m\u001b[0;34m.\u001b[0m\u001b[0mto\u001b[0m\u001b[0;34m(\u001b[0m\u001b[0mdevice\u001b[0m\u001b[0;34m)\u001b[0m\u001b[0;34m\u001b[0m\u001b[0;34m\u001b[0m\u001b[0m\n\u001b[0;32m----> 2\u001b[0;31m \u001b[0moutputs_np\u001b[0m \u001b[0;34m=\u001b[0m \u001b[0mtorch\u001b[0m\u001b[0;34m.\u001b[0m\u001b[0mTensor\u001b[0m\u001b[0;34m.\u001b[0m\u001b[0mnumpy\u001b[0m\u001b[0;34m(\u001b[0m\u001b[0moutputs\u001b[0m\u001b[0;34m)\u001b[0m\u001b[0;34m\u001b[0m\u001b[0;34m\u001b[0m\u001b[0m\n\u001b[0m\u001b[1;32m      3\u001b[0m \u001b[0moutputs_np\u001b[0m\u001b[0;34m.\u001b[0m\u001b[0mto\u001b[0m\u001b[0;34m(\u001b[0m\u001b[0mdevice\u001b[0m\u001b[0;34m)\u001b[0m\u001b[0;34m\u001b[0m\u001b[0;34m\u001b[0m\u001b[0m\n",
            "\u001b[0;31mTypeError\u001b[0m: can't convert cuda:0 device type tensor to numpy. Use Tensor.cpu() to copy the tensor to host memory first."
          ]
        }
      ]
    },
    {
      "cell_type": "code",
      "metadata": {
        "colab": {
          "base_uri": "https://localhost:8080/",
          "height": 1000
        },
        "id": "u6MPsTzUAMTd",
        "outputId": "df7d31e3-07b6-4329-f33a-17ee195ad415"
      },
      "source": [
        "for X, Y in testloader:\n",
        "  plt.figure(figsize=(12,12))\n",
        "  grid = torchvision.utils.make_grid(X, nrow=int(np.sqrt(len(X))))\n",
        "  plt.imshow(grid.permute(1,2,0))\n",
        "  plt.axis('off')\n",
        "  plt.show()\n",
        "  break\n",
        "\n",
        "\n",
        "\n",
        "for image in outputs.cpu():\n",
        "  plt.figure(figsize=(12,12))\n",
        "  grid = torchvision.utils.make_grid(image, nrow=int(np.sqrt(len(X))))\n",
        "  plt.imshow(grid.permute(1,2,0))\n",
        "  plt.axis('off')\n",
        "  plt.show()\n",
        "  break\n",
        "  \n",
        "\n",
        "#MEJORAR ESTE PLOT. QUE SE VEA SIMILAR AL DEL POWERPOINT DEL PROFE"
      ],
      "execution_count": 28,
      "outputs": [
        {
          "output_type": "stream",
          "text": [
            "Clipping input data to the valid range for imshow with RGB data ([0..1] for floats or [0..255] for integers).\n"
          ],
          "name": "stderr"
        },
        {
          "output_type": "display_data",
          "data": {
            "image/png": "[encoded data removed]",
            "text/plain": [
              "<Figure size 864x864 with 1 Axes>"
            ]
          },
          "metadata": {
            "tags": [],
            "needs_background": "light"
          }
        },
        {
          "output_type": "display_data",
          "data": {
            "image/png": "[encoded data removed]",
            "text/plain": [
              "<Figure size 864x864 with 1 Axes>"
            ]
          },
          "metadata": {
            "tags": [],
            "needs_background": "light"
          }
        }
      ]
    },
    {
      "cell_type": "code",
      "metadata": {
        "colab": {
          "base_uri": "https://localhost:8080/"
        },
        "id": "sZHEYHcUBVRh",
        "outputId": "a0cd0990-2e71-4937-d862-d57e0622bdd0"
      },
      "source": [
        "type(outputs)"
      ],
      "execution_count": 24,
      "outputs": [
        {
          "output_type": "execute_result",
          "data": {
            "text/plain": [
              "torch.Tensor"
            ]
          },
          "metadata": {
            "tags": []
          },
          "execution_count": 24
        }
      ]
    },
    {
      "cell_type": "markdown",
      "metadata": {
        "id": "qAMh4HoqE__d"
      },
      "source": [
        "# Eliminación de ruido usando un Autoencoder"
      ]
    },
    {
      "cell_type": "code",
      "metadata": {
        "id": "L2LUzsKQE_A_"
      },
      "source": [
        "#Utilizaremos el Fashion-MNIST\n",
        "\n",
        "batch_size = 16\n",
        "transform = transforms.Compose([transforms.ToTensor(), transforms.Normalize(0.5, 0.5, inplace=True)])\n",
        "\n",
        "train_set = torchvision.datasets.FashionMNIST(root = './data/FashionMNIST', train = True, download = True, transform=transform)\n",
        "trainloader = torch.utils.data.DataLoader(train_set, batch_size=batch_size, shuffle=True, num_workers=2)\n",
        "\n",
        "test_set = torchvision.datasets.FashionMNIST(root = './data/FashionMNIST', train = False, download = True, transform=transform)\n",
        "testloader = torch.utils.data.DataLoader(test_set, batch_size=batch_size, shuffle=True, num_workers=2)"
      ],
      "execution_count": 30,
      "outputs": []
    },
    {
      "cell_type": "code",
      "metadata": {
        "id": "fEr_r05FG28u"
      },
      "source": [
        "class Autoencoder2(nn.Module):\n",
        "  def __init__(self):\n",
        "    super(Autoencoder2, self).__init__()\n",
        "\n",
        "    #encoder\n",
        "    self.enc1 = nn.Conv2d(\n",
        "        in_channels=1, out_channels=64, kernel_size=3, stride=1, padding=1\n",
        "    )\n",
        "    self.enc2 = nn.Conv2d(\n",
        "        in_channels=64, out_channels=32, kernel_size=3, stride=1, padding=1\n",
        "    )\n",
        "    self.enc3 = nn.Conv2d(\n",
        "        in_channels=32, out_channels=16, kernel_size=3, stride=1, padding=1\n",
        "    )\n",
        "    self.enc4 = nn.Conv2d(\n",
        "        in_channels=16, out_channels=8, kernel_size=3, stride=1, padding=1\n",
        "    )\n",
        "\n",
        "    #decoder\n",
        "    self.dec1 = nn.ConvTranspose2d(\n",
        "        in_channels=8, out_channels=8, kernel_size=3, padding=0, stride=2\n",
        "    )\n",
        "    self.dec2 = nn.ConvTranspose2d(\n",
        "        in_channels=8, out_channels=16, kernel_size=3, padding=0, stride=2\n",
        "    )\n",
        "    self.dec3 = nn.ConvTranspose2d(\n",
        "        in_channels=16, out_channels=32, kernel_size=2, padding=0, stride=2\n",
        "    )\n",
        "    self.dec4 = nn.ConvTranspose2d(\n",
        "        in_channels=32, out_channels=64, kernel_size=2, padding=0, stride=2\n",
        "    )\n",
        "    self.dec5 = nn.ConvTranspose2d(\n",
        "        in_channels=64, out_channels=1, kernel_size=3, padding=1, stride=1\n",
        "    )\n",
        "\n",
        "  def forward(self, x):\n",
        "    #Relus y max pooling entre cada convolucional en el encoding\n",
        "    #Relus en el decoder excepto en la última: sigmoide\n",
        "    x = F.max_pool2d(F.relu(self.enc1(x)), kernel_size=(2,2))\n",
        "    x = F.max_pool2d(F.relu(self.enc2(x)), kernel_size=(2,2))\n",
        "    x = F.max_pool2d(F.relu(self.enc3(x)), kernel_size=(2,2))\n",
        "    x = F.max_pool2d(F.relu(self.enc4(x)), kernel_size=(2,2))\n",
        "    x = F.relu(self.dec1(x))\n",
        "    x = F.relu(self.dec2(x))\n",
        "    x = F.relu(self.dec3(x))\n",
        "    x = F.relu(self.dec4(x))\n",
        "    x = F.relu(self.dec5(x))\n",
        "    return x"
      ],
      "execution_count": 44,
      "outputs": []
    },
    {
      "cell_type": "code",
      "metadata": {
        "id": "QhUUgsRwJtvk"
      },
      "source": [
        "model = Autoencoder2()\n",
        "model.to(device)\n",
        "\n",
        "criterion = nn.MSELoss()\n",
        "optimizer = torch.optim.Adam(model.parameters(), lr=0.001)"
      ],
      "execution_count": 46,
      "outputs": []
    },
    {
      "cell_type": "code",
      "metadata": {
        "id": "aZeSj61dJ4M-"
      },
      "source": [
        "#Añadimos el ruido a cada imagen\n",
        "NOISE_FACTOR = 0.5\n",
        "\n",
        "for X, Y in trainloader:\n",
        "  X_noisy = X + NOISE_FACTOR * torch.randn(X.shape)\n",
        "  #forzamos que los valores de la imagen estén entre 0 y 1\n",
        "  X_noisy = np.clip(X_noisy, 0., 1.)\n",
        "  X_noisy = X_noisy.to(device)\n",
        "\n",
        "for X, Y in testloader:\n",
        "  X_test_noisy = X + NOISE_FACTOR * torch.randn(X.shape)\n",
        "  #forzamos que los valores de la imagen estén entre 0 y 1\n",
        "  X_test_noisy = np.clip(X_test_noisy, 0., 1.)\n",
        "  X_test_noisy = X_test_noisy.to(device)"
      ],
      "execution_count": 40,
      "outputs": []
    },
    {
      "cell_type": "code",
      "metadata": {
        "colab": {
          "base_uri": "https://localhost:8080/"
        },
        "id": "GBy2zCLMLsVH",
        "outputId": "ef930c80-7313-4469-c847-450c0b243fcc"
      },
      "source": [
        "#BUCLE DE ENTRENAMIENTO\n",
        "\n",
        "model.train()\n",
        "train_loss = []\n",
        "epochs = 10\n",
        "for epoch in range(epochs):\n",
        "\n",
        "  running_loss = 0.0\n",
        "  for data in trainloader:\n",
        "    #cogemos los inputs como una lista de [inputs, labels]\n",
        "    inputs, labels = data\n",
        "    inputs, labels = inputs.to(device), labels.to(device)\n",
        "    #hacemos 0 los parámetros del gradiente\n",
        "    optimizer.zero_grad()\n",
        "    #forward + backward + optimize\n",
        "    outputs = model(X_noisy)\n",
        "    loss = criterion(outputs, X_noisy)\n",
        "    loss.backward()\n",
        "    optimizer.step()\n",
        "    #el loss se devuelve como una media sobre el batch_size: deshacemos la media\n",
        "    running_loss += loss.item() * inputs.size(0)\n",
        "\n",
        "  loss = running_loss / len(trainloader)\n",
        "  train_loss.append(loss)\n",
        "  print('epoch [%d/%d] loss: %.3f' %\n",
        "        (epoch + 1, epochs, loss))\n",
        "  \n",
        "print('Finished Training')"
      ],
      "execution_count": 47,
      "outputs": [
        {
          "output_type": "stream",
          "text": [
            "epoch [1/10] loss: 0.599\n",
            "epoch [2/10] loss: 0.321\n",
            "epoch [3/10] loss: 0.261\n",
            "epoch [4/10] loss: 0.229\n",
            "epoch [5/10] loss: 0.208\n",
            "epoch [6/10] loss: 0.192\n",
            "epoch [7/10] loss: 0.179\n",
            "epoch [8/10] loss: 0.168\n",
            "epoch [9/10] loss: 0.159\n",
            "epoch [10/10] loss: 0.151\n",
            "Finished Training\n"
          ],
          "name": "stdout"
        }
      ]
    },
    {
      "cell_type": "code",
      "metadata": {
        "id": "yKRcyYvdMUXP"
      },
      "source": [
        "model.eval()\n",
        "with torch.no_grad():\n",
        "  for data in X_test_noise:\n",
        "    #images, labels = data\n",
        "    #images, labels = images.to(device), labels.to(device)\n",
        "    outputs = model(X_test_)"
      ],
      "execution_count": null,
      "outputs": []
    }
  ]
}