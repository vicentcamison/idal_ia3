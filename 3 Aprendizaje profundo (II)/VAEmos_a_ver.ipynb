{
  "nbformat": 4,
  "nbformat_minor": 0,
  "metadata": {
    "colab": {
      "name": "Untitled0.ipynb",
      "provenance": [],
      "include_colab_link": true
    },
    "kernelspec": {
      "name": "python3",
      "display_name": "Python 3"
    },
    "accelerator": "GPU"
  },
  "cells": [
    {
      "cell_type": "markdown",
      "metadata": {
        "id": "view-in-github",
        "colab_type": "text"
      },
      "source": [
        "<a href=\"https://colab.research.google.com/github/vicentcamison/idal_ia3/blob/main/3%20Aprendizaje%20profundo%20(II)/VAEmos_a_ver.ipynb\" target=\"_parent\"><img src=\"https://colab.research.google.com/assets/colab-badge.svg\" alt=\"Open In Colab\"/></a>"
      ]
    },
    {
      "cell_type": "code",
      "metadata": {
        "id": "f7jLwkOh9RBG"
      },
      "source": [
        "import glob\r\n",
        "from PIL import Image\r\n",
        "\r\n",
        "import numpy as np\r\n",
        "import matplotlib.pyplot as plt\r\n",
        "import pandas as pd\r\n",
        "import tensorflow as tf\r\n",
        "from IPython.display import clear_output\r\n",
        "\r\n",
        "from sklearn.model_selection import train_test_split"
      ],
      "execution_count": 1,
      "outputs": []
    },
    {
      "cell_type": "code",
      "metadata": {
        "id": "fVsZRpbDecqJ"
      },
      "source": [
        "## -----------------------\r\n",
        "## VARIATIONAL AUTOENCODER\r\n",
        "## -----------------------\r\n",
        "\r\n",
        "class EncoderV(tf.keras.layers.Layer): #Heredamos de la clase Layer porque vamos a crear un conjunto de capas\r\n",
        "    def __init__(self, latent_dim = 2, layers = [128, 64, 32]):\r\n",
        "        super(EncoderV, self).__init__()\r\n",
        "\r\n",
        "        #self.entrada = tf.keras.layers.Input(shape=(784,))\r\n",
        "        self.encoder = [tf.keras.layers.Conv2D(filters, 3, strides = 2, activation = \"relu\", padding = \"same\") for filters in layers]\r\n",
        "        self.flatten = tf.keras.layers.Flatten()\r\n",
        "        \r\n",
        "        #Se bifurca para sacar la mu y la log_var\r\n",
        "        #Activaciones lineales porque no queremos shenanigans\r\n",
        "        self.mu = tf.keras.layers.Dense(latent_dim, activation = \"linear\")\r\n",
        "        self.log_var = tf.keras.layers.Dense(latent_dim, activation = \"linear\")\r\n",
        "    \r\n",
        "    def call(self, inputs, training = None, mask = None):\r\n",
        "        #y = self.entrada(inputs)\r\n",
        "        y = inputs\r\n",
        "        for layer in self.encoder:\r\n",
        "            y = layer(y)\r\n",
        "        y = self.flatten(y)\r\n",
        "        #Se bifurca para sacar la mu y la log_var\r\n",
        "        mu = self.mu(y)\r\n",
        "        log_var = self.log_var(y)\r\n",
        "\r\n",
        "        return mu, log_var\r\n",
        "\r\n",
        "class Resampling(tf.keras.layers.Layer):\r\n",
        "    def __init__(self):\r\n",
        "        super(Resampling, self).__init__()\r\n",
        "\r\n",
        "    def call(self, inputs, training = None, mask = None):\r\n",
        "        mu, log_var = inputs\r\n",
        "        epsilon = tf.random.normal(shape = tf.shape(mu), mean = 0., stddev=1.)\r\n",
        "        \r\n",
        "        return mu + tf.exp(log_var / 2) * epsilon\r\n",
        "\r\n",
        "class Decoder(tf.keras.layers.Layer):\r\n",
        "    def __init__(self, output_size = 784, layers = [128, 64, 32]):\r\n",
        "        super(Decoder, self).__init__()\r\n",
        "\r\n",
        "        #Replicamos la estructura del Encoder pero en orden inverso\r\n",
        "        self.decoder = [tf.keras.layers.Conv2DTranspose(filters, 3, strides = 2, activation = \"relu\", padding = \"same\") for filters in reversed(layers)]\r\n",
        "\r\n",
        "        #Hay que replicar el flatten del encoder\r\n",
        "        self.deflatten = tf.keras.layers.Dense(8 * 8 * layers[1], activation = \"relu\")\r\n",
        "        #Añadimos la capa final\r\n",
        "        self.decoder.append(tf.keras.layers.Conv2DTranspose(1, 3, strides = 1, activation = \"relu\", padding = \"same\"))\r\n",
        "\r\n",
        "    def call(self, inputs, training = None, mask = None):\r\n",
        "        y = inputs\r\n",
        "        y = self.deflatten(y)\r\n",
        "        y = tf.keras.layers.Reshape((8,8,64))(y)\r\n",
        "        for layer in self.decoder:\r\n",
        "            y = layer(y)\r\n",
        "\r\n",
        "        return y\r\n",
        "\r\n",
        "class BetaVariationalAutoEncoderConv(tf.keras.Model):\r\n",
        "    def __init__(self, input_size = 784, latent_dim = 2, layers = [128, 64, 32], beta = 1, use_gamma = False):\r\n",
        "        super(BetaVariationalAutoEncoderConv, self).__init__()\r\n",
        "\r\n",
        "        self.encoder = EncoderV(latent_dim, layers)\r\n",
        "        self.resampling = Resampling()\r\n",
        "        self.decoder = Decoder(input_size, layers)\r\n",
        "        self.mu = 0\r\n",
        "        self.log_var = 0\r\n",
        "        self.beta = beta\r\n",
        "        self.input_size = input_size\r\n",
        "        self.latent_dim = latent_dim\r\n",
        "        self.gamma = tf.Variable(1 / 2 ** (1/2), trainable=False)\r\n",
        "        self.use_gamma = use_gamma\r\n",
        "        self.k = (2*self.input_size**(1/2)/self.latent_dim)**2\r\n",
        "        \r\n",
        "    def vae_kl_loss(self):\r\n",
        "        kl_loss = -0.5 * tf.reduce_mean(1 + self.log_var - tf.square(self.mu) - tf.exp(self.log_var))\r\n",
        "        return kl_loss\r\n",
        "\r\n",
        "    def gen_loss(self, mse, gamma, kl):\r\n",
        "        return mse / (2*gamma ** 2) + kl\r\n",
        "        \r\n",
        "    #Not very efficient but working\r\n",
        "    def generate(self, N = 1):\r\n",
        "        predictions = []\r\n",
        "        for i in range(N):    \r\n",
        "            sample = tf.random.normal(mean = 0, stddev = 1, shape = (2,self.latent_dim))\r\n",
        "            predictions.append(self.decoder(tf.expand_dims(self.resampling(sample), axis = 0)).numpy())\r\n",
        "        predictions = np.array(predictions)\r\n",
        "        return predictions.reshape(-1, self.input_size)\r\n",
        "\r\n",
        "    def call(self, inputs, training = None, mask = None):\r\n",
        "        mu, log_var = self.encoder(inputs)\r\n",
        "        self.mu, self.log_var = mu,log_var\r\n",
        "        z = self.resampling((mu, log_var)) \r\n",
        "        decoded = self.decoder(z)\r\n",
        "        self.add_loss(self.vae_kl_loss())\r\n",
        "        return decoded\r\n",
        "\r\n",
        "    def train_step(self, data):\r\n",
        "        X_train, Y_train = data\r\n",
        "\r\n",
        "        if self.use_gamma:\r\n",
        "            with tf.GradientTape() as tape:\r\n",
        "                reconstructed = self(X_train)\r\n",
        "                \r\n",
        "                mse = tf.keras.losses.MeanSquaredError()(reconstructed, X_train)\r\n",
        "                gl = mse / (2 * self.gamma ** 2) + tf.math.log(self.gamma) + 0.91893\r\n",
        "                kl = sum(self.losses)\r\n",
        "                # total = self.input_size * tf.cast(mse, \"float32\") + self.beta * self.latent_dim * kl\r\n",
        "                # total = self.input_size * tf.cast(mse, \"float32\") / (2*self.gamma**2) + self.beta * self.latent_dim * kl\r\n",
        "                total = gl + kl * self.k\r\n",
        "        else:\r\n",
        "            with tf.GradientTape() as tape:\r\n",
        "                reconstructed = self(X_train)\r\n",
        "\r\n",
        "                mse = tf.keras.losses.MeanSquaredError()(reconstructed, X_train)\r\n",
        "                kl = sum(self.losses)\r\n",
        "                total = tf.cast(mse, \"float32\") + kl * self.k\r\n",
        "                gl = 0\r\n",
        "        \r\n",
        "        gradients = tape.gradient(total, self.trainable_variables)\r\n",
        "        self.optimizer.apply_gradients(zip(gradients, self.trainable_variables))\r\n",
        "        self.gamma.assign(tf.minimum(self.gamma, mse))\r\n",
        "        # return {\"MSE\": self.input_size * mse , \"KL\": self.beta * self.latent_dim * kl, \"Total\": total, \"Gamma\" : self.gamma}    \r\n",
        "        return {\"MSE\": mse , \"KL\": kl * self.k, \"GL\": gl, \"Total\": total, \"Gamma\" : self.gamma}   "
      ],
      "execution_count": 2,
      "outputs": []
    },
    {
      "cell_type": "code",
      "metadata": {
        "id": "PE_CKauPGzjL"
      },
      "source": [
        "## -----------\r\n",
        "## AUTOENCODER\r\n",
        "## -----------\r\n",
        "\r\n",
        "class EncoderV(tf.keras.layers.Layer): #Heredamos de la clase Layer porque vamos a crear un conjunto de capas\r\n",
        "    def __init__(self, latent_dim = 2, layers = [128, 64, 32]):\r\n",
        "        super(EncoderV, self).__init__()\r\n",
        "\r\n",
        "        #self.entrada = tf.keras.layers.Input(shape=(784,))\r\n",
        "        self.encoder = [tf.keras.layers.Conv2D(filters, 3, strides = 2, activation = \"relu\", padding = \"same\") for filters in layers]\r\n",
        "        self.flatten = tf.keras.layers.Flatten()\r\n",
        "        \r\n",
        "        #Se bifurca para sacar la mu y la log_var\r\n",
        "        #Activaciones lineales porque no queremos shenanigans\r\n",
        "        #self.mu = tf.keras.layers.Dense(latent_dim, activation = \"linear\")\r\n",
        "        #self.log_var = tf.keras.layers.Dense(latent_dim, activation = \"linear\")\r\n",
        "    \r\n",
        "    def call(self, inputs, training = None, mask = None):\r\n",
        "        #y = self.entrada(inputs)\r\n",
        "        y = inputs\r\n",
        "        for layer in self.encoder:\r\n",
        "            y = layer(y)\r\n",
        "        y = self.flatten(y)\r\n",
        "        #Se bifurca para sacar la mu y la log_var\r\n",
        "        #mu = self.mu(y)\r\n",
        "        #log_var = self.log_var(y)\r\n",
        "\r\n",
        "        #return mu, log_var\r\n",
        "        return y\r\n",
        "\r\n",
        "class Resampling(tf.keras.layers.Layer):\r\n",
        "    def __init__(self):\r\n",
        "        super(Resampling, self).__init__()\r\n",
        "\r\n",
        "    def call(self, inputs, training = None, mask = None):\r\n",
        "        mu, log_var = inputs\r\n",
        "        epsilon = tf.random.normal(shape = tf.shape(mu), mean = 0., stddev=1.)\r\n",
        "        \r\n",
        "        return mu + tf.exp(log_var / 2) * epsilon\r\n",
        "\r\n",
        "class Decoder(tf.keras.layers.Layer):\r\n",
        "    def __init__(self, output_size = 784, layers = [128, 64, 32]):\r\n",
        "        super(Decoder, self).__init__()\r\n",
        "\r\n",
        "        #Replicamos la estructura del Encoder pero en orden inverso\r\n",
        "        self.decoder = [tf.keras.layers.Conv2DTranspose(filters, 3, strides = 2, activation = \"relu\", padding = \"same\") for filters in reversed(layers)]\r\n",
        "\r\n",
        "        #Hay que replicar el flatten del encoder\r\n",
        "        self.deflatten = tf.keras.layers.Dense(8 * 8 * layers[1], activation = \"relu\")\r\n",
        "        #Añadimos la capa final\r\n",
        "        self.decoder.append(tf.keras.layers.Conv2DTranspose(1, 3, strides = 1, activation = \"relu\", padding = \"same\"))\r\n",
        "\r\n",
        "    def call(self, inputs, training = None, mask = None):\r\n",
        "        y = inputs\r\n",
        "        y = self.deflatten(y)\r\n",
        "        y = tf.keras.layers.Reshape((8,8,64))(y)\r\n",
        "        for layer in self.decoder:\r\n",
        "            y = layer(y)\r\n",
        "\r\n",
        "        return y\r\n",
        "\r\n",
        "class BetaVariationalAutoEncoderConv(tf.keras.Model):\r\n",
        "    def __init__(self, input_size = 784, latent_dim = 2, layers = [128, 64, 32], beta = 1, use_gamma = False):\r\n",
        "        super(BetaVariationalAutoEncoderConv, self).__init__()\r\n",
        "\r\n",
        "        self.encoder = EncoderV(latent_dim, layers)\r\n",
        "        self.resampling = Resampling()\r\n",
        "        self.decoder = Decoder(input_size, layers)\r\n",
        "        self.mu = 0\r\n",
        "        self.log_var = 0\r\n",
        "        self.beta = beta\r\n",
        "        self.input_size = input_size\r\n",
        "        self.latent_dim = latent_dim\r\n",
        "        self.gamma = tf.Variable(1 / 2 ** (1/2), trainable=False)\r\n",
        "        self.use_gamma = use_gamma\r\n",
        "        self.k = (2*self.input_size**(1/2)/self.latent_dim)**2\r\n",
        "        \r\n",
        "    def vae_kl_loss(self):\r\n",
        "        kl_loss = -0.5 * tf.reduce_mean(1 + self.log_var - tf.square(self.mu) - tf.exp(self.log_var))\r\n",
        "        return kl_loss\r\n",
        "\r\n",
        "    def gen_loss(self, mse, gamma, kl):\r\n",
        "        return mse / (2*gamma ** 2) + kl\r\n",
        "        \r\n",
        "    #Not very efficient but working\r\n",
        "    def generate(self, N = 1):\r\n",
        "        predictions = []\r\n",
        "        for i in range(N):    \r\n",
        "            sample = tf.random.normal(mean = 0, stddev = 1, shape = (2,self.latent_dim))\r\n",
        "            predictions.append(self.decoder(tf.expand_dims(self.resampling(sample), axis = 0)).numpy())\r\n",
        "        predictions = np.array(predictions)\r\n",
        "        return predictions.reshape(-1, self.input_size)\r\n",
        "\r\n",
        "    def call(self, inputs, training = None, mask = None):\r\n",
        "        output = self.encoder(inputs)\r\n",
        "        #self.mu, self.log_var = mu,log_var\r\n",
        "        #z = self.resampling((mu, log_var))\r\n",
        "        z = self.resampling(output)\r\n",
        "        decoded = self.decoder(output)\r\n",
        "        self.add_loss(self.vae_kl_loss())\r\n",
        "        return decoded\r\n",
        "\r\n",
        "    def train_step(self, data):\r\n",
        "        X_train, Y_train = data\r\n",
        "\r\n",
        "        if self.use_gamma:\r\n",
        "            with tf.GradientTape() as tape:\r\n",
        "                reconstructed = self(X_train)\r\n",
        "                \r\n",
        "                mse = tf.keras.losses.MeanSquaredError()(reconstructed, X_train)\r\n",
        "                gl = mse / (2 * self.gamma ** 2) + tf.math.log(self.gamma) + 0.91893\r\n",
        "                kl = sum(self.losses)\r\n",
        "                # total = self.input_size * tf.cast(mse, \"float32\") + self.beta * self.latent_dim * kl\r\n",
        "                # total = self.input_size * tf.cast(mse, \"float32\") / (2*self.gamma**2) + self.beta * self.latent_dim * kl\r\n",
        "                total = gl + kl * self.k\r\n",
        "        else:\r\n",
        "            with tf.GradientTape() as tape:\r\n",
        "                reconstructed = self(X_train)\r\n",
        "\r\n",
        "                mse = tf.keras.losses.MeanSquaredError()(reconstructed, X_train)\r\n",
        "                kl = sum(self.losses)\r\n",
        "                total = tf.cast(mse, \"float32\") + kl * self.k\r\n",
        "                gl = 0\r\n",
        "        \r\n",
        "        gradients = tape.gradient(total, self.trainable_variables)\r\n",
        "        self.optimizer.apply_gradients(zip(gradients, self.trainable_variables))\r\n",
        "        self.gamma.assign(tf.minimum(self.gamma, mse))\r\n",
        "        # return {\"MSE\": self.input_size * mse , \"KL\": self.beta * self.latent_dim * kl, \"Total\": total, \"Gamma\" : self.gamma}    \r\n",
        "        return {\"MSE\": mse , \"KL\": kl * self.k, \"GL\": gl, \"Total\": total, \"Gamma\" : self.gamma}   "
      ],
      "execution_count": null,
      "outputs": []
    },
    {
      "cell_type": "markdown",
      "metadata": {
        "id": "0LwAyc8p3XDO"
      },
      "source": [
        "# Dataset"
      ]
    },
    {
      "cell_type": "code",
      "metadata": {
        "colab": {
          "base_uri": "https://localhost:8080/"
        },
        "id": "uEZPapdl9LrV",
        "outputId": "1bdae190-3947-4e68-c8c5-4067c29c3165"
      },
      "source": [
        "from google.colab import drive\r\n",
        "drive.mount('/content/gdrive')"
      ],
      "execution_count": 3,
      "outputs": [
        {
          "output_type": "stream",
          "text": [
            "Mounted at /content/gdrive\n"
          ],
          "name": "stdout"
        }
      ]
    },
    {
      "cell_type": "code",
      "metadata": {
        "id": "QU032R2Ue-BE"
      },
      "source": [
        "directory2 = \"gdrive/MyDrive/UNIVERSIDAD/Master Propio IA UV/3 Aprendizaje profundo (II)/Trabajo final/fonts2\""
      ],
      "execution_count": 4,
      "outputs": []
    },
    {
      "cell_type": "code",
      "metadata": {
        "colab": {
          "base_uri": "https://localhost:8080/"
        },
        "id": "y4IQiwJ75dP4",
        "outputId": "7e70d427-3b17-4755-9450-eb401d8937da"
      },
      "source": [
        "# get data file names (this code takes a while to retrieve all data and prepare all fonts)\r\n",
        "images_total = 1200\r\n",
        "\r\n",
        "filenames = glob.glob(directory2 + \"/*.png\")\r\n",
        "images = list()\r\n",
        "for i in range(images_total):\r\n",
        "  images.append(np.array(Image.open(filenames[i])))\r\n",
        "  if i % 25 == 0:\r\n",
        "    print(i+1, '/', images_total)\r\n",
        "#images = [np.array(Image.open(filenames[i])) for i in range(len(filenames)) if i < images_total]"
      ],
      "execution_count": 5,
      "outputs": [
        {
          "output_type": "stream",
          "text": [
            "1 / 1200\n",
            "26 / 1200\n",
            "51 / 1200\n",
            "76 / 1200\n",
            "101 / 1200\n",
            "126 / 1200\n",
            "151 / 1200\n",
            "176 / 1200\n",
            "201 / 1200\n",
            "226 / 1200\n",
            "251 / 1200\n",
            "276 / 1200\n",
            "301 / 1200\n",
            "326 / 1200\n",
            "351 / 1200\n",
            "376 / 1200\n",
            "401 / 1200\n",
            "426 / 1200\n",
            "451 / 1200\n",
            "476 / 1200\n",
            "501 / 1200\n",
            "526 / 1200\n",
            "551 / 1200\n",
            "576 / 1200\n",
            "601 / 1200\n",
            "626 / 1200\n",
            "651 / 1200\n",
            "676 / 1200\n",
            "701 / 1200\n",
            "726 / 1200\n",
            "751 / 1200\n",
            "776 / 1200\n",
            "801 / 1200\n",
            "826 / 1200\n",
            "851 / 1200\n",
            "876 / 1200\n",
            "901 / 1200\n",
            "926 / 1200\n",
            "951 / 1200\n",
            "976 / 1200\n",
            "1001 / 1200\n",
            "1026 / 1200\n",
            "1051 / 1200\n",
            "1076 / 1200\n",
            "1101 / 1200\n",
            "1126 / 1200\n",
            "1151 / 1200\n",
            "1176 / 1200\n"
          ],
          "name": "stdout"
        }
      ]
    },
    {
      "cell_type": "code",
      "metadata": {
        "id": "HC6s8b49_pyc"
      },
      "source": [
        "CATEGORIES = 26"
      ],
      "execution_count": 6,
      "outputs": []
    },
    {
      "cell_type": "code",
      "metadata": {
        "id": "JXdfBfKP5dvU"
      },
      "source": [
        "# each image is just letters A-Z from the same font concatenated in 1664x64 format: each letter is 64x64\r\n",
        "# we need to split the data into individual pictures for each letter\r\n",
        "letter_size = 64\r\n",
        "letter_amount = 26\r\n",
        "using_amount = CATEGORIES\r\n",
        "\r\n",
        "letters = np.zeros(shape=(using_amount*len(images), letter_size, letter_size, 1))\r\n",
        "letters_label = np.zeros(shape=(using_amount*len(images), using_amount))\r\n",
        "for i in range(len(images)):\r\n",
        "  #images[i] = images[i]\r\n",
        "  j = 0\r\n",
        "  #k = 8\r\n",
        "  for j in range(using_amount):\r\n",
        "    letters[i*using_amount + j, :, :, 0] = (255 - images[i][:, j*letter_size : (j+1)*letter_size])/255 #we will only use one of the channels\r\n",
        "    letters_label[i*using_amount + j] = j\r\n",
        "letters_label = letters_label.astype(np.int32)"
      ],
      "execution_count": 7,
      "outputs": []
    },
    {
      "cell_type": "code",
      "metadata": {
        "colab": {
          "base_uri": "https://localhost:8080/",
          "height": 285
        },
        "id": "_3OhFat8XLpL",
        "outputId": "77fa158a-bd32-4f74-cf40-9da8578ce63b"
      },
      "source": [
        "plt.imshow(X_train[187][:,:,0], cmap='gray')"
      ],
      "execution_count": null,
      "outputs": [
        {
          "output_type": "execute_result",
          "data": {
            "text/plain": [
              "<matplotlib.image.AxesImage at 0x7fe898ab4f90>"
            ]
          },
          "metadata": {
            "tags": []
          },
          "execution_count": 58
        },
        {
          "output_type": "display_data",
          "data": {
            "image/png": "[encoded data removed]",
            "text/plain": [
              "<Figure size 432x288 with 1 Axes>"
            ]
          },
          "metadata": {
            "tags": [],
            "needs_background": "light"
          }
        }
      ]
    },
    {
      "cell_type": "code",
      "metadata": {
        "colab": {
          "base_uri": "https://localhost:8080/"
        },
        "id": "w-JkwLh2X-Qw",
        "outputId": "788fdab0-8224-4481-8650-5405648b3fa9"
      },
      "source": [
        "X_train[0][:,:,0]"
      ],
      "execution_count": null,
      "outputs": [
        {
          "output_type": "execute_result",
          "data": {
            "text/plain": [
              "array([[255., 255., 255., ..., 255., 255., 255.],\n",
              "       [255., 255., 255., ..., 255., 255., 255.],\n",
              "       [255., 255., 255., ..., 255., 255., 255.],\n",
              "       ...,\n",
              "       [255., 255., 255., ..., 255., 255., 255.],\n",
              "       [255., 255., 255., ..., 255., 255., 255.],\n",
              "       [255., 255., 255., ..., 255., 255., 255.]])"
            ]
          },
          "metadata": {
            "tags": []
          },
          "execution_count": 64
        }
      ]
    },
    {
      "cell_type": "code",
      "metadata": {
        "id": "CthVpb6e7hsw"
      },
      "source": [
        "X_train, X_test, Y_train, Y_test = train_test_split(letters, letters_label, shuffle=True, stratify=letters_label, test_size=0.25)"
      ],
      "execution_count": 8,
      "outputs": []
    },
    {
      "cell_type": "code",
      "metadata": {
        "id": "-VvaKTX__BXI"
      },
      "source": [
        "BATCH_SIZE = 32\r\n",
        "EPOCHS = 50"
      ],
      "execution_count": 9,
      "outputs": []
    },
    {
      "cell_type": "code",
      "metadata": {
        "colab": {
          "base_uri": "https://localhost:8080/"
        },
        "id": "m77wkuaO5f-z",
        "outputId": "155daf15-5957-4ea8-aec6-800f5908618b"
      },
      "source": [
        "model = BetaVariationalAutoEncoderConv(input_size=64, latent_dim=50, beta=1, use_gamma=True)\r\n",
        "model.compile(optimizer='adam', loss='mse', metrics=['mse'])\r\n",
        "history = model.fit(x=X_train, y=X_train, batch_size=BATCH_SIZE, epochs=EPOCHS, verbose=1, validation_data=(X_test, X_test), shuffle=True)"
      ],
      "execution_count": 10,
      "outputs": [
        {
          "output_type": "stream",
          "text": [
            "Epoch 1/50\n",
            "732/732 [==============================] - 31s 19ms/step - MSE: 0.0391 - KL: 0.3772 - GL: 27.7962 - Total: 28.1734 - Gamma: 0.0331 - val_loss: 4.6800 - val_mse: 0.0196\n",
            "Epoch 2/50\n",
            "732/732 [==============================] - 13s 18ms/step - MSE: 0.0164 - KL: 0.5277 - GL: 68.3224 - Total: 68.8502 - Gamma: 0.0107 - val_loss: 5.2760 - val_mse: 0.0148\n",
            "Epoch 3/50\n",
            "732/732 [==============================] - 13s 18ms/step - MSE: 0.0138 - KL: 0.5562 - GL: 100.2799 - Total: 100.8361 - Gamma: 0.0083 - val_loss: 5.3834 - val_mse: 0.0135\n",
            "Epoch 4/50\n",
            "732/732 [==============================] - 13s 18ms/step - MSE: 0.0124 - KL: 0.5829 - GL: 134.7417 - Total: 135.3246 - Gamma: 0.0067 - val_loss: 5.9276 - val_mse: 0.0123\n",
            "Epoch 5/50\n",
            "732/732 [==============================] - 13s 18ms/step - MSE: 0.0115 - KL: 0.5887 - GL: 154.4971 - Total: 155.0857 - Gamma: 0.0060 - val_loss: 5.6375 - val_mse: 0.0120\n",
            "Epoch 6/50\n",
            "732/732 [==============================] - 13s 18ms/step - MSE: 0.0109 - KL: 0.5911 - GL: 161.0202 - Total: 161.6113 - Gamma: 0.0058 - val_loss: 5.6532 - val_mse: 0.0117\n",
            "Epoch 7/50\n",
            "732/732 [==============================] - 13s 18ms/step - MSE: 0.0104 - KL: 0.5994 - GL: 171.7878 - Total: 172.3873 - Gamma: 0.0054 - val_loss: 5.7174 - val_mse: 0.0115\n",
            "Epoch 8/50\n",
            "732/732 [==============================] - 13s 18ms/step - MSE: 0.0102 - KL: 0.6009 - GL: 200.9746 - Total: 201.5755 - Gamma: 0.0050 - val_loss: 5.8575 - val_mse: 0.0115\n",
            "Epoch 9/50\n",
            "732/732 [==============================] - 13s 18ms/step - MSE: 0.0099 - KL: 0.6136 - GL: 232.6589 - Total: 233.2724 - Gamma: 0.0046 - val_loss: 5.7550 - val_mse: 0.0112\n",
            "Epoch 10/50\n",
            "732/732 [==============================] - 13s 18ms/step - MSE: 0.0095 - KL: 0.6143 - GL: 223.0968 - Total: 223.7111 - Gamma: 0.0046 - val_loss: 5.9762 - val_mse: 0.0108\n",
            "Epoch 11/50\n",
            "732/732 [==============================] - 13s 18ms/step - MSE: 0.0093 - KL: 0.6175 - GL: 217.4258 - Total: 218.0433 - Gamma: 0.0046 - val_loss: 5.9689 - val_mse: 0.0109\n",
            "Epoch 12/50\n",
            "732/732 [==============================] - 13s 18ms/step - MSE: 0.0092 - KL: 0.6166 - GL: 246.8763 - Total: 247.4929 - Gamma: 0.0043 - val_loss: 6.0372 - val_mse: 0.0108\n",
            "Epoch 13/50\n",
            "732/732 [==============================] - 13s 18ms/step - MSE: 0.0090 - KL: 0.6204 - GL: 249.9301 - Total: 250.5504 - Gamma: 0.0042 - val_loss: 6.0227 - val_mse: 0.0106\n",
            "Epoch 14/50\n",
            "732/732 [==============================] - 13s 18ms/step - MSE: 0.0093 - KL: 0.6287 - GL: 354.2785 - Total: 354.9072 - Gamma: 0.0037 - val_loss: 6.2826 - val_mse: 0.0108\n",
            "Epoch 15/50\n",
            "732/732 [==============================] - 13s 18ms/step - MSE: 0.0089 - KL: 0.6474 - GL: 396.4724 - Total: 397.1197 - Gamma: 0.0033 - val_loss: 6.4758 - val_mse: 0.0106\n",
            "Epoch 16/50\n",
            "732/732 [==============================] - 13s 18ms/step - MSE: 0.0086 - KL: 0.6511 - GL: 384.0876 - Total: 384.7386 - Gamma: 0.0033 - val_loss: 6.3431 - val_mse: 0.0105\n",
            "Epoch 17/50\n",
            "732/732 [==============================] - 13s 18ms/step - MSE: 0.0084 - KL: 0.6560 - GL: 376.8521 - Total: 377.5081 - Gamma: 0.0033 - val_loss: 6.3836 - val_mse: 0.0105\n",
            "Epoch 18/50\n",
            "732/732 [==============================] - 13s 18ms/step - MSE: 0.0083 - KL: 0.6551 - GL: 370.4670 - Total: 371.1221 - Gamma: 0.0033 - val_loss: 6.4555 - val_mse: 0.0105\n",
            "Epoch 19/50\n",
            "732/732 [==============================] - 13s 18ms/step - MSE: 0.0082 - KL: 0.6525 - GL: 367.3669 - Total: 368.0194 - Gamma: 0.0033 - val_loss: 6.5158 - val_mse: 0.0104\n",
            "Epoch 20/50\n",
            "732/732 [==============================] - 13s 18ms/step - MSE: 0.0081 - KL: 0.6558 - GL: 362.5135 - Total: 363.1694 - Gamma: 0.0033 - val_loss: 6.4685 - val_mse: 0.0104\n",
            "Epoch 21/50\n",
            "732/732 [==============================] - 13s 18ms/step - MSE: 0.0081 - KL: 0.6544 - GL: 359.6701 - Total: 360.3245 - Gamma: 0.0033 - val_loss: 6.5225 - val_mse: 0.0104\n",
            "Epoch 22/50\n",
            "732/732 [==============================] - 13s 18ms/step - MSE: 0.0080 - KL: 0.6575 - GL: 356.3440 - Total: 357.0015 - Gamma: 0.0033 - val_loss: 6.4502 - val_mse: 0.0105\n",
            "Epoch 23/50\n",
            "732/732 [==============================] - 13s 18ms/step - MSE: 0.0080 - KL: 0.6577 - GL: 359.2375 - Total: 359.8952 - Gamma: 0.0033 - val_loss: 6.3573 - val_mse: 0.0103\n",
            "Epoch 24/50\n",
            "732/732 [==============================] - 13s 18ms/step - MSE: 0.0079 - KL: 0.6550 - GL: 353.6744 - Total: 354.3294 - Gamma: 0.0033 - val_loss: 6.4118 - val_mse: 0.0104\n",
            "Epoch 25/50\n",
            "732/732 [==============================] - 13s 18ms/step - MSE: 0.0078 - KL: 0.6592 - GL: 351.8338 - Total: 352.4930 - Gamma: 0.0033 - val_loss: 6.3233 - val_mse: 0.0104\n",
            "Epoch 26/50\n",
            "732/732 [==============================] - 13s 18ms/step - MSE: 0.0077 - KL: 0.6540 - GL: 348.6091 - Total: 349.2630 - Gamma: 0.0033 - val_loss: 6.5468 - val_mse: 0.0104\n",
            "Epoch 27/50\n",
            "732/732 [==============================] - 13s 18ms/step - MSE: 0.0077 - KL: 0.6555 - GL: 346.5207 - Total: 347.1762 - Gamma: 0.0033 - val_loss: 6.4289 - val_mse: 0.0103\n",
            "Epoch 28/50\n",
            "732/732 [==============================] - 13s 18ms/step - MSE: 0.0076 - KL: 0.6583 - GL: 358.0643 - Total: 358.7226 - Gamma: 0.0032 - val_loss: 6.3157 - val_mse: 0.0103\n",
            "Epoch 29/50\n",
            "732/732 [==============================] - 13s 18ms/step - MSE: 0.0076 - KL: 0.6604 - GL: 359.2485 - Total: 359.9089 - Gamma: 0.0032 - val_loss: 6.5509 - val_mse: 0.0104\n",
            "Epoch 30/50\n",
            "732/732 [==============================] - 13s 18ms/step - MSE: 0.0075 - KL: 0.6595 - GL: 354.9383 - Total: 355.5978 - Gamma: 0.0032 - val_loss: 6.4734 - val_mse: 0.0104\n",
            "Epoch 31/50\n",
            "732/732 [==============================] - 13s 18ms/step - MSE: 0.0082 - KL: 0.6724 - GL: 750.7753 - Total: 751.4478 - Gamma: 0.0023 - val_loss: 6.5954 - val_mse: 0.0104\n",
            "Epoch 32/50\n",
            "732/732 [==============================] - 13s 18ms/step - MSE: 0.0076 - KL: 0.6897 - GL: 695.7957 - Total: 696.4855 - Gamma: 0.0023 - val_loss: 6.5620 - val_mse: 0.0103\n",
            "Epoch 33/50\n",
            "732/732 [==============================] - 13s 18ms/step - MSE: 0.0075 - KL: 0.6961 - GL: 682.3756 - Total: 683.0717 - Gamma: 0.0023 - val_loss: 6.8768 - val_mse: 0.0104\n",
            "Epoch 34/50\n",
            "732/732 [==============================] - 13s 18ms/step - MSE: 0.0074 - KL: 0.6993 - GL: 674.4382 - Total: 675.1375 - Gamma: 0.0023 - val_loss: 6.7929 - val_mse: 0.0105\n",
            "Epoch 35/50\n",
            "732/732 [==============================] - 13s 18ms/step - MSE: 0.0074 - KL: 0.7017 - GL: 671.1444 - Total: 671.8460 - Gamma: 0.0023 - val_loss: 6.7628 - val_mse: 0.0104\n",
            "Epoch 36/50\n",
            "732/732 [==============================] - 13s 18ms/step - MSE: 0.0073 - KL: 0.6965 - GL: 667.4994 - Total: 668.1959 - Gamma: 0.0023 - val_loss: 6.8179 - val_mse: 0.0104\n",
            "Epoch 37/50\n",
            "732/732 [==============================] - 13s 18ms/step - MSE: 0.0073 - KL: 0.6995 - GL: 663.3611 - Total: 664.0606 - Gamma: 0.0023 - val_loss: 6.8770 - val_mse: 0.0103\n",
            "Epoch 38/50\n",
            "732/732 [==============================] - 13s 18ms/step - MSE: 0.0072 - KL: 0.7043 - GL: 657.8021 - Total: 658.5065 - Gamma: 0.0023 - val_loss: 6.7321 - val_mse: 0.0103\n",
            "Epoch 39/50\n",
            "732/732 [==============================] - 13s 18ms/step - MSE: 0.0072 - KL: 0.7040 - GL: 656.7347 - Total: 657.4388 - Gamma: 0.0023 - val_loss: 6.8717 - val_mse: 0.0103\n",
            "Epoch 40/50\n",
            "732/732 [==============================] - 13s 18ms/step - MSE: 0.0072 - KL: 0.7015 - GL: 652.7905 - Total: 653.4920 - Gamma: 0.0023 - val_loss: 6.6467 - val_mse: 0.0104\n",
            "Epoch 41/50\n",
            "732/732 [==============================] - 13s 18ms/step - MSE: 0.0071 - KL: 0.7010 - GL: 649.5562 - Total: 650.2572 - Gamma: 0.0023 - val_loss: 6.6776 - val_mse: 0.0104\n",
            "Epoch 42/50\n",
            "732/732 [==============================] - 13s 18ms/step - MSE: 0.0071 - KL: 0.6999 - GL: 645.9474 - Total: 646.6473 - Gamma: 0.0023 - val_loss: 6.7740 - val_mse: 0.0107\n",
            "Epoch 43/50\n",
            "732/732 [==============================] - 13s 18ms/step - MSE: 0.0071 - KL: 0.6983 - GL: 644.2706 - Total: 644.9690 - Gamma: 0.0023 - val_loss: 6.8725 - val_mse: 0.0104\n",
            "Epoch 44/50\n",
            "732/732 [==============================] - 13s 18ms/step - MSE: 0.0071 - KL: 0.6999 - GL: 643.5790 - Total: 644.2788 - Gamma: 0.0023 - val_loss: 6.7935 - val_mse: 0.0104\n",
            "Epoch 45/50\n",
            "732/732 [==============================] - 13s 18ms/step - MSE: 0.0070 - KL: 0.6968 - GL: 639.9193 - Total: 640.6161 - Gamma: 0.0023 - val_loss: 6.9278 - val_mse: 0.0105\n",
            "Epoch 46/50\n",
            "732/732 [==============================] - 13s 18ms/step - MSE: 0.0070 - KL: 0.7002 - GL: 637.4648 - Total: 638.1650 - Gamma: 0.0023 - val_loss: 6.8583 - val_mse: 0.0104\n",
            "Epoch 47/50\n",
            "732/732 [==============================] - 13s 18ms/step - MSE: 0.0070 - KL: 0.7042 - GL: 634.9069 - Total: 635.6111 - Gamma: 0.0023 - val_loss: 7.0321 - val_mse: 0.0105\n",
            "Epoch 48/50\n",
            "732/732 [==============================] - 13s 18ms/step - MSE: 0.0069 - KL: 0.7037 - GL: 632.9903 - Total: 633.6940 - Gamma: 0.0023 - val_loss: 6.6990 - val_mse: 0.0104\n",
            "Epoch 49/50\n",
            "732/732 [==============================] - 13s 18ms/step - MSE: 0.0069 - KL: 0.7029 - GL: 630.4131 - Total: 631.1161 - Gamma: 0.0023 - val_loss: 6.6534 - val_mse: 0.0104\n",
            "Epoch 50/50\n",
            "732/732 [==============================] - 13s 18ms/step - MSE: 0.0069 - KL: 0.7001 - GL: 628.5224 - Total: 629.2224 - Gamma: 0.0023 - val_loss: 6.9074 - val_mse: 0.0104\n"
          ],
          "name": "stdout"
        }
      ]
    },
    {
      "cell_type": "code",
      "metadata": {
        "colab": {
          "base_uri": "https://localhost:8080/"
        },
        "id": "8AteT8hinqqq",
        "outputId": "3ec824d2-e580-4401-d805-a919e74392f1"
      },
      "source": [
        "lil.shape"
      ],
      "execution_count": null,
      "outputs": [
        {
          "output_type": "execute_result",
          "data": {
            "text/plain": [
              "(320, 64)"
            ]
          },
          "metadata": {
            "tags": []
          },
          "execution_count": 92
        }
      ]
    },
    {
      "cell_type": "code",
      "metadata": {
        "id": "LKdVw7hHnbhG"
      },
      "source": [
        "lil = model.generate(1)"
      ],
      "execution_count": 11,
      "outputs": []
    },
    {
      "cell_type": "code",
      "metadata": {
        "colab": {
          "base_uri": "https://localhost:8080/",
          "height": 285
        },
        "id": "xq5L9MD2nh4y",
        "outputId": "b599fa62-e639-4727-eff6-40a957c06801"
      },
      "source": [
        "plt.imshow(lil)"
      ],
      "execution_count": 12,
      "outputs": [
        {
          "output_type": "execute_result",
          "data": {
            "text/plain": [
              "<matplotlib.image.AxesImage at 0x7f8920309a90>"
            ]
          },
          "metadata": {
            "tags": []
          },
          "execution_count": 12
        },
        {
          "output_type": "display_data",
          "data": {
            "image/png": "[encoded data removed]",
            "text/plain": [
              "<Figure size 432x288 with 1 Axes>"
            ]
          },
          "metadata": {
            "tags": [],
            "needs_background": "light"
          }
        }
      ]
    },
    {
      "cell_type": "code",
      "metadata": {
        "id": "v3wa1ZRcOf5u"
      },
      "source": [
        "lel = model.predict(X_test)"
      ],
      "execution_count": 13,
      "outputs": []
    },
    {
      "cell_type": "code",
      "metadata": {
        "colab": {
          "base_uri": "https://localhost:8080/",
          "height": 285
        },
        "id": "Sp-BLHBBnGOo",
        "outputId": "c29e32d6-a73c-428e-f3f9-a4c43ad2ced6"
      },
      "source": [
        "plt.imshow(X_test[40][:,:,0])"
      ],
      "execution_count": 24,
      "outputs": [
        {
          "output_type": "execute_result",
          "data": {
            "text/plain": [
              "<matplotlib.image.AxesImage at 0x7f88038e1e50>"
            ]
          },
          "metadata": {
            "tags": []
          },
          "execution_count": 24
        },
        {
          "output_type": "display_data",
          "data": {
            "image/png": "[encoded data removed]",
            "text/plain": [
              "<Figure size 432x288 with 1 Axes>"
            ]
          },
          "metadata": {
            "tags": [],
            "needs_background": "light"
          }
        }
      ]
    },
    {
      "cell_type": "code",
      "metadata": {
        "colab": {
          "base_uri": "https://localhost:8080/",
          "height": 285
        },
        "id": "Ufezomr8P0QY",
        "outputId": "40560f90-6f44-48bc-fcba-0eb59808bccd"
      },
      "source": [
        "plt.imshow(lel[30][:,:,0])"
      ],
      "execution_count": null,
      "outputs": [
        {
          "output_type": "execute_result",
          "data": {
            "text/plain": [
              "<matplotlib.image.AxesImage at 0x7fe88a1f7c50>"
            ]
          },
          "metadata": {
            "tags": []
          },
          "execution_count": 85
        },
        {
          "output_type": "display_data",
          "data": {
            "image/png": "[encoded data removed]",
            "text/plain": [
              "<Figure size 432x288 with 1 Axes>"
            ]
          },
          "metadata": {
            "tags": [],
            "needs_background": "light"
          }
        }
      ]
    },
    {
      "cell_type": "code",
      "metadata": {
        "id": "e8Ol889wO0Hn"
      },
      "source": [
        "lol = model.predict(X_train)"
      ],
      "execution_count": null,
      "outputs": []
    },
    {
      "cell_type": "code",
      "metadata": {
        "colab": {
          "base_uri": "https://localhost:8080/"
        },
        "id": "HboVNPp7O1yM",
        "outputId": "3eefecfc-affb-48ed-f8e8-ec8013896f2f"
      },
      "source": [
        "lol[:][:,:,0].sum().sum().sum()"
      ],
      "execution_count": null,
      "outputs": [
        {
          "output_type": "execute_result",
          "data": {
            "text/plain": [
              "0.0"
            ]
          },
          "metadata": {
            "tags": []
          },
          "execution_count": 66
        }
      ]
    }
  ]
}