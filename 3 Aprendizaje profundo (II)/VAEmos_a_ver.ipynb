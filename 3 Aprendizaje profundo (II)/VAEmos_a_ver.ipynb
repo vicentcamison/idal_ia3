{
  "nbformat": 4,
  "nbformat_minor": 0,
  "metadata": {
    "colab": {
      "name": "Untitled0.ipynb",
      "provenance": [],
      "authorship_tag": "ABX9TyNg9gtViMOibkFtam3IXoGm",
      "include_colab_link": true
    },
    "kernelspec": {
      "name": "python3",
      "display_name": "Python 3"
    },
    "accelerator": "GPU"
  },
  "cells": [
    {
      "cell_type": "markdown",
      "metadata": {
        "id": "view-in-github",
        "colab_type": "text"
      },
      "source": [
        "<a href=\"https://colab.research.google.com/github/vicentcamison/idal_ia3/blob/main/3%20Aprendizaje%20profundo%20(II)/VAEmos_a_ver.ipynb\" target=\"_parent\"><img src=\"https://colab.research.google.com/assets/colab-badge.svg\" alt=\"Open In Colab\"/></a>"
      ]
    },
    {
      "cell_type": "code",
      "metadata": {
        "id": "f7jLwkOh9RBG"
      },
      "source": [
        "import glob\r\n",
        "from PIL import Image"
      ],
      "execution_count": 1,
      "outputs": []
    },
    {
      "cell_type": "code",
      "metadata": {
        "id": "fVsZRpbDecqJ"
      },
      "source": [
        "import numpy as np\r\n",
        "import matplotlib.pyplot as plt\r\n",
        "import pandas as pd\r\n",
        "import tensorflow as tf\r\n",
        "from IPython.display import clear_output\r\n",
        "\r\n",
        "from sklearn.model_selection import train_test_split\r\n",
        "\r\n",
        "class EncoderV(tf.keras.layers.Layer): #Heredamos de la clase Layer porque vamos a crear un conjunto de capas\r\n",
        "    def __init__(self, latent_dim = 2, layers = [128, 64, 32]):\r\n",
        "        super(EncoderV, self).__init__()\r\n",
        "\r\n",
        "        #self.entrada = tf.keras.layers.Input(shape=(784,))\r\n",
        "        self.encoder = [tf.keras.layers.Conv2D(filters, 3, strides = 2, activation = \"relu\", padding = \"same\") for filters in layers]\r\n",
        "        self.flatten = tf.keras.layers.Flatten()\r\n",
        "        \r\n",
        "        #Se bifurca para sacar la mu y la log_var\r\n",
        "        #Activaciones lineales porque no queremos shenanigans\r\n",
        "        self.mu = tf.keras.layers.Dense(latent_dim, activation = \"linear\")\r\n",
        "        self.log_var = tf.keras.layers.Dense(latent_dim, activation = \"linear\")\r\n",
        "    \r\n",
        "    def call(self, inputs, training = None, mask = None):\r\n",
        "        #y = self.entrada(inputs)\r\n",
        "        y = inputs\r\n",
        "        for layer in self.encoder:\r\n",
        "            y = layer(y)\r\n",
        "        y = self.flatten(y)\r\n",
        "        #Se bifurca para sacar la mu y la log_var\r\n",
        "        mu = self.mu(y)\r\n",
        "        log_var = self.log_var(y)\r\n",
        "\r\n",
        "        return mu, log_var\r\n",
        "\r\n",
        "class Resampling(tf.keras.layers.Layer):\r\n",
        "    def __init__(self):\r\n",
        "        super(Resampling, self).__init__()\r\n",
        "\r\n",
        "    def call(self, inputs, training = None, mask = None):\r\n",
        "        mu, log_var = inputs\r\n",
        "        epsilon = tf.random.normal(shape = tf.shape(mu), mean = 0., stddev=1.)\r\n",
        "        \r\n",
        "        return mu + tf.exp(log_var / 2) * epsilon\r\n",
        "\r\n",
        "class Decoder(tf.keras.layers.Layer):\r\n",
        "    def __init__(self, output_size = 784, layers = [128, 64, 32]):\r\n",
        "        super(Decoder, self).__init__()\r\n",
        "\r\n",
        "        #Replicamos la estructura del Encoder pero en orden inverso\r\n",
        "        self.decoder = [tf.keras.layers.Conv2DTranspose(filters, 3, strides = 2, activation = \"relu\", padding = \"same\") for filters in reversed(layers)]\r\n",
        "\r\n",
        "        #Hay que replicar el flatten del encoder\r\n",
        "        self.deflatten = tf.keras.layers.Dense(8 * 8 * layers[1], activation = \"relu\")\r\n",
        "        #Añadimos la capa final\r\n",
        "        self.decoder.append(tf.keras.layers.Conv2DTranspose(1, 3, strides = 1, activation = \"relu\", padding = \"same\"))\r\n",
        "\r\n",
        "    def call(self, inputs, training = None, mask = None):\r\n",
        "        y = inputs\r\n",
        "        y = self.deflatten(y)\r\n",
        "        y = tf.keras.layers.Reshape((8,8,64))(y)\r\n",
        "        for layer in self.decoder:\r\n",
        "            y = layer(y)\r\n",
        "\r\n",
        "        return y\r\n",
        "\r\n",
        "class BetaVariationalAutoEncoderConv(tf.keras.Model):\r\n",
        "    def __init__(self, input_size = 784, latent_dim = 2, layers = [128, 64, 32], beta = 1, use_gamma = False):\r\n",
        "        super(BetaVariationalAutoEncoderConv, self).__init__()\r\n",
        "\r\n",
        "        self.encoder = EncoderV(latent_dim, layers)\r\n",
        "        self.resampling = Resampling()\r\n",
        "        self.decoder = Decoder(input_size, layers)\r\n",
        "        self.mu = 0\r\n",
        "        self.log_var = 0\r\n",
        "        self.beta = beta\r\n",
        "        self.input_size = input_size\r\n",
        "        self.latent_dim = latent_dim\r\n",
        "        self.gamma = tf.Variable(1 / 2 ** (1/2), trainable=False)\r\n",
        "        self.use_gamma = use_gamma\r\n",
        "        self.k = (2*self.input_size**(1/2)/self.latent_dim)**2\r\n",
        "        \r\n",
        "    def vae_kl_loss(self):\r\n",
        "        kl_loss = -0.5 * tf.reduce_mean(1 + self.log_var - tf.square(self.mu) - tf.exp(self.log_var))\r\n",
        "        return kl_loss\r\n",
        "\r\n",
        "    def gen_loss(self, mse, gamma, kl):\r\n",
        "        return mse / (2*gamma ** 2) + kl\r\n",
        "        \r\n",
        "    #Not very efficient but working\r\n",
        "    def generate(self, N = 1):\r\n",
        "        predictions = []\r\n",
        "        for i in range(N):    \r\n",
        "            sample = tf.random.normal(mean = 0, stddev = 1, shape = (2,self.latent_dim))\r\n",
        "            predictions.append(self.decoder(tf.expand_dims(self.resampling(sample), axis = 0)).numpy())\r\n",
        "        predictions = np.array(predictions)\r\n",
        "        return predictions.reshape(-1, self.input_size)\r\n",
        "\r\n",
        "    def call(self, inputs, training = None, mask = None):\r\n",
        "        mu, log_var = self.encoder(inputs)\r\n",
        "        self.mu, self.log_var = mu,log_var\r\n",
        "        z = self.resampling((mu, log_var)) \r\n",
        "        decoded = self.decoder(z)\r\n",
        "        self.add_loss(self.vae_kl_loss())\r\n",
        "        return decoded\r\n",
        "\r\n",
        "    def train_step(self, data):\r\n",
        "        X_train, Y_train = data\r\n",
        "\r\n",
        "        if self.use_gamma:\r\n",
        "            with tf.GradientTape() as tape:\r\n",
        "                reconstructed = self(X_train)\r\n",
        "                \r\n",
        "                mse = tf.keras.losses.MeanSquaredError()(reconstructed, X_train)\r\n",
        "                gl = mse / (2 * self.gamma ** 2) + tf.math.log(self.gamma) + 0.91893\r\n",
        "                kl = sum(self.losses)\r\n",
        "                # total = self.input_size * tf.cast(mse, \"float32\") + self.beta * self.latent_dim * kl\r\n",
        "                # total = self.input_size * tf.cast(mse, \"float32\") / (2*self.gamma**2) + self.beta * self.latent_dim * kl\r\n",
        "                total = gl + kl * self.k\r\n",
        "        else:\r\n",
        "            with tf.GradientTape() as tape:\r\n",
        "                reconstructed = self(X_train)\r\n",
        "\r\n",
        "                mse = tf.keras.losses.MeanSquaredError()(reconstructed, X_train)\r\n",
        "                kl = sum(self.losses)\r\n",
        "                total = tf.cast(mse, \"float32\") + kl * self.k\r\n",
        "                gl = 0\r\n",
        "        \r\n",
        "        gradients = tape.gradient(total, self.trainable_variables)\r\n",
        "        self.optimizer.apply_gradients(zip(gradients, self.trainable_variables))\r\n",
        "        self.gamma.assign(tf.minimum(self.gamma, mse))\r\n",
        "        # return {\"MSE\": self.input_size * mse , \"KL\": self.beta * self.latent_dim * kl, \"Total\": total, \"Gamma\" : self.gamma}    \r\n",
        "        return {\"MSE\": mse , \"KL\": kl * self.k, \"GL\": gl, \"Total\": total, \"Gamma\" : self.gamma}   "
      ],
      "execution_count": 2,
      "outputs": []
    },
    {
      "cell_type": "markdown",
      "metadata": {
        "id": "0LwAyc8p3XDO"
      },
      "source": [
        "# Dataset"
      ]
    },
    {
      "cell_type": "code",
      "metadata": {
        "colab": {
          "base_uri": "https://localhost:8080/"
        },
        "id": "uEZPapdl9LrV",
        "outputId": "42283a65-4201-4fc8-965c-3218fc80fc9f"
      },
      "source": [
        "from google.colab import drive\r\n",
        "drive.mount('/content/gdrive')"
      ],
      "execution_count": 3,
      "outputs": [
        {
          "output_type": "stream",
          "text": [
            "Mounted at /content/gdrive\n"
          ],
          "name": "stdout"
        }
      ]
    },
    {
      "cell_type": "code",
      "metadata": {
        "id": "QU032R2Ue-BE"
      },
      "source": [
        "directory2 = \"gdrive/MyDrive/UNIVERSIDAD/Master Propio IA UV/3 Aprendizaje profundo (II)/Trabajo final/fonts2\""
      ],
      "execution_count": 4,
      "outputs": []
    },
    {
      "cell_type": "code",
      "metadata": {
        "colab": {
          "base_uri": "https://localhost:8080/"
        },
        "id": "y4IQiwJ75dP4",
        "outputId": "97bc681a-ec40-4118-d22c-9d17b19c2f4d"
      },
      "source": [
        "# get data file names (this code takes a while to retrieve all data and prepare all fonts)\r\n",
        "images_total = 1200\r\n",
        "\r\n",
        "filenames = glob.glob(directory2 + \"/*.png\")\r\n",
        "images = list()\r\n",
        "for i in range(images_total):\r\n",
        "  images.append(np.array(Image.open(filenames[i])))\r\n",
        "  if i % 25 == 0:\r\n",
        "    print(i+1, '/', images_total)\r\n",
        "#images = [np.array(Image.open(filenames[i])) for i in range(len(filenames)) if i < images_total]"
      ],
      "execution_count": 5,
      "outputs": [
        {
          "output_type": "stream",
          "text": [
            "1 / 1200\n",
            "26 / 1200\n",
            "51 / 1200\n",
            "76 / 1200\n",
            "101 / 1200\n",
            "126 / 1200\n",
            "151 / 1200\n",
            "176 / 1200\n",
            "201 / 1200\n",
            "226 / 1200\n",
            "251 / 1200\n",
            "276 / 1200\n",
            "301 / 1200\n",
            "326 / 1200\n",
            "351 / 1200\n",
            "376 / 1200\n",
            "401 / 1200\n",
            "426 / 1200\n",
            "451 / 1200\n",
            "476 / 1200\n",
            "501 / 1200\n",
            "526 / 1200\n",
            "551 / 1200\n",
            "576 / 1200\n",
            "601 / 1200\n",
            "626 / 1200\n",
            "651 / 1200\n",
            "676 / 1200\n",
            "701 / 1200\n",
            "726 / 1200\n",
            "751 / 1200\n",
            "776 / 1200\n",
            "801 / 1200\n",
            "826 / 1200\n",
            "851 / 1200\n",
            "876 / 1200\n",
            "901 / 1200\n",
            "926 / 1200\n",
            "951 / 1200\n",
            "976 / 1200\n",
            "1001 / 1200\n",
            "1026 / 1200\n",
            "1051 / 1200\n",
            "1076 / 1200\n",
            "1101 / 1200\n",
            "1126 / 1200\n",
            "1151 / 1200\n",
            "1176 / 1200\n"
          ],
          "name": "stdout"
        }
      ]
    },
    {
      "cell_type": "code",
      "metadata": {
        "id": "HC6s8b49_pyc"
      },
      "source": [
        "CATEGORIES = 26"
      ],
      "execution_count": 99,
      "outputs": []
    },
    {
      "cell_type": "code",
      "metadata": {
        "id": "JXdfBfKP5dvU"
      },
      "source": [
        "# each image is just letters A-Z from the same font concatenated in 1664x64 format: each letter is 64x64\r\n",
        "# we need to split the data into individual pictures for each letter\r\n",
        "letter_size = 64\r\n",
        "letter_amount = 26\r\n",
        "using_amount = CATEGORIES\r\n",
        "\r\n",
        "letters = np.zeros(shape=(using_amount*len(images), letter_size, letter_size, 1))\r\n",
        "letters_label = np.zeros(shape=(using_amount*len(images), using_amount))\r\n",
        "for i in range(len(images)):\r\n",
        "  #images[i] = images[i]\r\n",
        "  j = 0\r\n",
        "  #k = 8\r\n",
        "  for j in range(using_amount):\r\n",
        "    letters[i*using_amount + j, :, :, 0] = (255 - images[i][:, j*letter_size : (j+1)*letter_size])/255 #we will only use one of the channels\r\n",
        "    letters_label[i*using_amount + j] = j\r\n",
        "letters_label = letters_label.astype(np.int32)"
      ],
      "execution_count": 103,
      "outputs": []
    },
    {
      "cell_type": "code",
      "metadata": {
        "colab": {
          "base_uri": "https://localhost:8080/",
          "height": 285
        },
        "id": "_3OhFat8XLpL",
        "outputId": "77fa158a-bd32-4f74-cf40-9da8578ce63b"
      },
      "source": [
        "plt.imshow(X_train[187][:,:,0], cmap='gray')"
      ],
      "execution_count": 58,
      "outputs": [
        {
          "output_type": "execute_result",
          "data": {
            "text/plain": [
              "<matplotlib.image.AxesImage at 0x7fe898ab4f90>"
            ]
          },
          "metadata": {
            "tags": []
          },
          "execution_count": 58
        },
        {
          "output_type": "display_data",
          "data": {
            "image/png": "[encoded data removed]",
            "text/plain": [
              "<Figure size 432x288 with 1 Axes>"
            ]
          },
          "metadata": {
            "tags": [],
            "needs_background": "light"
          }
        }
      ]
    },
    {
      "cell_type": "code",
      "metadata": {
        "colab": {
          "base_uri": "https://localhost:8080/"
        },
        "id": "w-JkwLh2X-Qw",
        "outputId": "788fdab0-8224-4481-8650-5405648b3fa9"
      },
      "source": [
        "X_train[0][:,:,0]"
      ],
      "execution_count": 64,
      "outputs": [
        {
          "output_type": "execute_result",
          "data": {
            "text/plain": [
              "array([[255., 255., 255., ..., 255., 255., 255.],\n",
              "       [255., 255., 255., ..., 255., 255., 255.],\n",
              "       [255., 255., 255., ..., 255., 255., 255.],\n",
              "       ...,\n",
              "       [255., 255., 255., ..., 255., 255., 255.],\n",
              "       [255., 255., 255., ..., 255., 255., 255.],\n",
              "       [255., 255., 255., ..., 255., 255., 255.]])"
            ]
          },
          "metadata": {
            "tags": []
          },
          "execution_count": 64
        }
      ]
    },
    {
      "cell_type": "code",
      "metadata": {
        "id": "CthVpb6e7hsw"
      },
      "source": [
        "X_train, X_test, Y_train, Y_test = train_test_split(letters, letters_label, shuffle=True, stratify=letters_label, test_size=0.25)"
      ],
      "execution_count": 104,
      "outputs": []
    },
    {
      "cell_type": "code",
      "metadata": {
        "id": "-VvaKTX__BXI"
      },
      "source": [
        "BATCH_SIZE = 32\r\n",
        "EPOCHS = 50"
      ],
      "execution_count": 101,
      "outputs": []
    },
    {
      "cell_type": "code",
      "metadata": {
        "colab": {
          "base_uri": "https://localhost:8080/",
          "height": 1000
        },
        "id": "m77wkuaO5f-z",
        "outputId": "412d161c-fa41-4c21-f41a-66826b7fee7f"
      },
      "source": [
        "model = BetaVariationalAutoEncoderConv(input_size=64, latent_dim=50, beta=1, use_gamma=True)\r\n",
        "model.compile(optimizer='adam', loss='mse', metrics=['mse'])\r\n",
        "history = model.fit(x=X_train, y=X_train, batch_size=BATCH_SIZE, epochs=EPOCHS, verbose=1, validation_data=(X_test, X_test), shuffle=True)"
      ],
      "execution_count": 105,
      "outputs": [
        {
          "output_type": "stream",
          "text": [
            "Epoch 1/50\n",
            "732/732 [==============================] - 22s 30ms/step - MSE: 0.0393 - KL: 0.3749 - GL: 26.7117 - Total: 27.0866 - Gamma: 0.0337 - val_loss: 4.7951 - val_mse: 0.0195\n",
            "Epoch 2/50\n",
            "732/732 [==============================] - 21s 28ms/step - MSE: 0.0167 - KL: 0.5194 - GL: 74.4213 - Total: 74.9408 - Gamma: 0.0105 - val_loss: 5.3048 - val_mse: 0.0149\n",
            "Epoch 3/50\n",
            "732/732 [==============================] - 21s 29ms/step - MSE: 0.0135 - KL: 0.5495 - GL: 88.0829 - Total: 88.6324 - Gamma: 0.0086 - val_loss: 5.3920 - val_mse: 0.0146\n",
            "Epoch 4/50\n",
            "732/732 [==============================] - 21s 29ms/step - MSE: 0.0124 - KL: 0.5666 - GL: 111.3499 - Total: 111.9165 - Gamma: 0.0073 - val_loss: 5.5856 - val_mse: 0.0125\n",
            "Epoch 5/50\n",
            "732/732 [==============================] - 21s 28ms/step - MSE: 0.0116 - KL: 0.5792 - GL: 130.1043 - Total: 130.6835 - Gamma: 0.0066 - val_loss: 5.6909 - val_mse: 0.0122\n",
            "Epoch 6/50\n",
            "732/732 [==============================] - 21s 28ms/step - MSE: 0.0113 - KL: 0.6012 - GL: 198.2908 - Total: 198.8920 - Gamma: 0.0053 - val_loss: 5.9565 - val_mse: 0.0118\n",
            "Epoch 7/50\n",
            "732/732 [==============================] - 21s 29ms/step - MSE: 0.0104 - KL: 0.6076 - GL: 189.6240 - Total: 190.2316 - Gamma: 0.0052 - val_loss: 5.9086 - val_mse: 0.0118\n",
            "Epoch 8/50\n",
            "732/732 [==============================] - 21s 29ms/step - MSE: 0.0103 - KL: 0.6114 - GL: 238.8665 - Total: 239.4780 - Gamma: 0.0046 - val_loss: 5.9757 - val_mse: 0.0111\n",
            "Epoch 9/50\n",
            "732/732 [==============================] - 21s 29ms/step - MSE: 0.0097 - KL: 0.6179 - GL: 225.8045 - Total: 226.4224 - Gamma: 0.0046 - val_loss: 5.9890 - val_mse: 0.0110\n",
            "Epoch 10/50\n",
            "732/732 [==============================] - 21s 29ms/step - MSE: 0.0095 - KL: 0.6204 - GL: 226.9573 - Total: 227.5777 - Gamma: 0.0045 - val_loss: 5.8781 - val_mse: 0.0110\n",
            "Epoch 11/50\n",
            "732/732 [==============================] - 21s 29ms/step - MSE: 0.0093 - KL: 0.6171 - GL: 232.0247 - Total: 232.6419 - Gamma: 0.0044 - val_loss: 6.1359 - val_mse: 0.0111\n",
            "Epoch 12/50\n",
            "732/732 [==============================] - 21s 28ms/step - MSE: 0.0090 - KL: 0.6237 - GL: 227.7931 - Total: 228.4168 - Gamma: 0.0044 - val_loss: 5.9200 - val_mse: 0.0107\n",
            "Epoch 13/50\n",
            "732/732 [==============================] - 21s 29ms/step - MSE: 0.0090 - KL: 0.6226 - GL: 245.8004 - Total: 246.4230 - Gamma: 0.0042 - val_loss: 6.1597 - val_mse: 0.0107\n",
            "Epoch 14/50\n",
            "732/732 [==============================] - 21s 29ms/step - MSE: 0.0089 - KL: 0.6251 - GL: 271.9922 - Total: 272.6173 - Gamma: 0.0040 - val_loss: 5.9702 - val_mse: 0.0110\n",
            "Epoch 15/50\n",
            "732/732 [==============================] - 21s 29ms/step - MSE: 0.0087 - KL: 0.6291 - GL: 268.6700 - Total: 269.2991 - Gamma: 0.0040 - val_loss: 6.0532 - val_mse: 0.0107\n",
            "Epoch 16/50\n",
            "732/732 [==============================] - 21s 28ms/step - MSE: 0.0085 - KL: 0.6321 - GL: 263.0810 - Total: 263.7131 - Gamma: 0.0040 - val_loss: 6.2396 - val_mse: 0.0106\n",
            "Epoch 17/50\n",
            "732/732 [==============================] - 21s 28ms/step - MSE: 0.0084 - KL: 0.6303 - GL: 258.7915 - Total: 259.4218 - Gamma: 0.0040 - val_loss: 6.1177 - val_mse: 0.0107\n",
            "Epoch 18/50\n",
            "732/732 [==============================] - 21s 28ms/step - MSE: 0.0083 - KL: 0.6300 - GL: 256.9214 - Total: 257.5514 - Gamma: 0.0040 - val_loss: 6.2662 - val_mse: 0.0105\n",
            "Epoch 19/50\n",
            "732/732 [==============================] - 21s 28ms/step - MSE: 0.0086 - KL: 0.6381 - GL: 354.9818 - Total: 355.6198 - Gamma: 0.0035 - val_loss: 6.2971 - val_mse: 0.0107\n",
            "Epoch 20/50\n",
            "732/732 [==============================] - 21s 29ms/step - MSE: 0.0082 - KL: 0.6443 - GL: 352.7358 - Total: 353.3801 - Gamma: 0.0034 - val_loss: 6.2602 - val_mse: 0.0106\n",
            "Epoch 21/50\n",
            "732/732 [==============================] - 21s 28ms/step - MSE: 0.0081 - KL: 0.6467 - GL: 345.6756 - Total: 346.3223 - Gamma: 0.0034 - val_loss: 6.2454 - val_mse: 0.0106\n",
            "Epoch 22/50\n",
            "732/732 [==============================] - 21s 29ms/step - MSE: 0.0080 - KL: 0.6543 - GL: 341.7111 - Total: 342.3654 - Gamma: 0.0034 - val_loss: 6.3930 - val_mse: 0.0105\n",
            "Epoch 23/50\n",
            "732/732 [==============================] - 21s 29ms/step - MSE: 0.0079 - KL: 0.6525 - GL: 337.5849 - Total: 338.2373 - Gamma: 0.0034 - val_loss: 6.3904 - val_mse: 0.0107\n",
            "Epoch 24/50\n",
            "732/732 [==============================] - 21s 28ms/step - MSE: 0.0078 - KL: 0.6528 - GL: 335.0921 - Total: 335.7449 - Gamma: 0.0034 - val_loss: 6.4674 - val_mse: 0.0108\n",
            "Epoch 25/50\n",
            "732/732 [==============================] - 21s 29ms/step - MSE: 0.0078 - KL: 0.6514 - GL: 332.1771 - Total: 332.8285 - Gamma: 0.0034 - val_loss: 6.4687 - val_mse: 0.0105\n",
            "Epoch 26/50\n",
            "732/732 [==============================] - 21s 28ms/step - MSE: 0.0078 - KL: 0.6534 - GL: 375.0093 - Total: 375.6627 - Gamma: 0.0032 - val_loss: 6.3212 - val_mse: 0.0107\n",
            "Epoch 27/50\n",
            "732/732 [==============================] - 21s 29ms/step - MSE: 0.0078 - KL: 0.6624 - GL: 427.8292 - Total: 428.4916 - Gamma: 0.0030 - val_loss: 6.5860 - val_mse: 0.0104\n",
            "Epoch 28/50\n",
            "732/732 [==============================] - 21s 28ms/step - MSE: 0.0083 - KL: 0.6765 - GL: 813.8678 - Total: 814.5443 - Gamma: 0.0022 - val_loss: 6.7079 - val_mse: 0.0107\n",
            "Epoch 29/50\n",
            "732/732 [==============================] - 21s 28ms/step - MSE: 0.0077 - KL: 0.6961 - GL: 759.8388 - Total: 760.5349 - Gamma: 0.0022 - val_loss: 6.9051 - val_mse: 0.0105\n",
            "Epoch 30/50\n",
            "732/732 [==============================] - 21s 28ms/step - MSE: 0.0076 - KL: 0.7024 - GL: 742.0688 - Total: 742.7712 - Gamma: 0.0022 - val_loss: 6.9583 - val_mse: 0.0104\n",
            "Epoch 31/50\n",
            "732/732 [==============================] - 21s 28ms/step - MSE: 0.0075 - KL: 0.7002 - GL: 734.5161 - Total: 735.2163 - Gamma: 0.0022 - val_loss: 6.8276 - val_mse: 0.0107\n",
            "Epoch 32/50\n",
            "732/732 [==============================] - 21s 28ms/step - MSE: 0.0074 - KL: 0.7010 - GL: 731.7769 - Total: 732.4779 - Gamma: 0.0022 - val_loss: 6.8837 - val_mse: 0.0105\n",
            "Epoch 33/50\n",
            "732/732 [==============================] - 21s 28ms/step - MSE: 0.0074 - KL: 0.7060 - GL: 722.3591 - Total: 723.0651 - Gamma: 0.0022 - val_loss: 6.7885 - val_mse: 0.0104\n",
            "Epoch 34/50\n",
            "732/732 [==============================] - 21s 28ms/step - MSE: 0.0073 - KL: 0.7028 - GL: 720.2886 - Total: 720.9914 - Gamma: 0.0022 - val_loss: 6.8960 - val_mse: 0.0105\n",
            "Epoch 35/50\n",
            "732/732 [==============================] - 21s 29ms/step - MSE: 0.0073 - KL: 0.7020 - GL: 713.6501 - Total: 714.3520 - Gamma: 0.0022 - val_loss: 6.8934 - val_mse: 0.0106\n",
            "Epoch 36/50\n",
            "732/732 [==============================] - 21s 28ms/step - MSE: 0.0073 - KL: 0.7041 - GL: 714.2709 - Total: 714.9751 - Gamma: 0.0022 - val_loss: 6.8812 - val_mse: 0.0104\n",
            "Epoch 37/50\n",
            "732/732 [==============================] - 21s 28ms/step - MSE: 0.0072 - KL: 0.7053 - GL: 708.4172 - Total: 709.1226 - Gamma: 0.0022 - val_loss: 6.8784 - val_mse: 0.0104\n",
            "Epoch 38/50\n",
            "732/732 [==============================] - 21s 29ms/step - MSE: 0.0072 - KL: 0.7056 - GL: 704.9038 - Total: 705.6094 - Gamma: 0.0022 - val_loss: 7.0296 - val_mse: 0.0104\n",
            "Epoch 39/50\n",
            "732/732 [==============================] - 21s 28ms/step - MSE: 0.0071 - KL: 0.7070 - GL: 701.1310 - Total: 701.8380 - Gamma: 0.0022 - val_loss: 6.8799 - val_mse: 0.0104\n",
            "Epoch 40/50\n",
            "732/732 [==============================] - 21s 29ms/step - MSE: 0.0071 - KL: 0.7062 - GL: 699.2873 - Total: 699.9935 - Gamma: 0.0022 - val_loss: 6.7859 - val_mse: 0.0105\n",
            "Epoch 41/50\n",
            "648/732 [=========================>....] - ETA: 32s - MSE: 0.0071 - KL: 0.7063 - GL: 693.3781 - Total: 694.0844 - Gamma: 0.0022"
          ],
          "name": "stdout"
        },
        {
          "output_type": "error",
          "ename": "KeyboardInterrupt",
          "evalue": "ignored",
          "traceback": [
            "\u001b[0;31m---------------------------------------------------------------------------\u001b[0m",
            "\u001b[0;31mKeyboardInterrupt\u001b[0m                         Traceback (most recent call last)",
            "\u001b[0;32m<ipython-input-105-cb4695bf4e71>\u001b[0m in \u001b[0;36m<module>\u001b[0;34m()\u001b[0m\n\u001b[1;32m      1\u001b[0m \u001b[0mmodel\u001b[0m \u001b[0;34m=\u001b[0m \u001b[0mBetaVariationalAutoEncoderConv\u001b[0m\u001b[0;34m(\u001b[0m\u001b[0minput_size\u001b[0m\u001b[0;34m=\u001b[0m\u001b[0;36m64\u001b[0m\u001b[0;34m,\u001b[0m \u001b[0mlatent_dim\u001b[0m\u001b[0;34m=\u001b[0m\u001b[0;36m50\u001b[0m\u001b[0;34m,\u001b[0m \u001b[0mbeta\u001b[0m\u001b[0;34m=\u001b[0m\u001b[0;36m1\u001b[0m\u001b[0;34m,\u001b[0m \u001b[0muse_gamma\u001b[0m\u001b[0;34m=\u001b[0m\u001b[0;32mTrue\u001b[0m\u001b[0;34m)\u001b[0m\u001b[0;34m\u001b[0m\u001b[0;34m\u001b[0m\u001b[0m\n\u001b[1;32m      2\u001b[0m \u001b[0mmodel\u001b[0m\u001b[0;34m.\u001b[0m\u001b[0mcompile\u001b[0m\u001b[0;34m(\u001b[0m\u001b[0moptimizer\u001b[0m\u001b[0;34m=\u001b[0m\u001b[0;34m'adam'\u001b[0m\u001b[0;34m,\u001b[0m \u001b[0mloss\u001b[0m\u001b[0;34m=\u001b[0m\u001b[0;34m'mse'\u001b[0m\u001b[0;34m,\u001b[0m \u001b[0mmetrics\u001b[0m\u001b[0;34m=\u001b[0m\u001b[0;34m[\u001b[0m\u001b[0;34m'mse'\u001b[0m\u001b[0;34m]\u001b[0m\u001b[0;34m)\u001b[0m\u001b[0;34m\u001b[0m\u001b[0;34m\u001b[0m\u001b[0m\n\u001b[0;32m----> 3\u001b[0;31m \u001b[0mhistory\u001b[0m \u001b[0;34m=\u001b[0m \u001b[0mmodel\u001b[0m\u001b[0;34m.\u001b[0m\u001b[0mfit\u001b[0m\u001b[0;34m(\u001b[0m\u001b[0mx\u001b[0m\u001b[0;34m=\u001b[0m\u001b[0mX_train\u001b[0m\u001b[0;34m,\u001b[0m \u001b[0my\u001b[0m\u001b[0;34m=\u001b[0m\u001b[0mX_train\u001b[0m\u001b[0;34m,\u001b[0m \u001b[0mbatch_size\u001b[0m\u001b[0;34m=\u001b[0m\u001b[0mBATCH_SIZE\u001b[0m\u001b[0;34m,\u001b[0m \u001b[0mepochs\u001b[0m\u001b[0;34m=\u001b[0m\u001b[0mEPOCHS\u001b[0m\u001b[0;34m,\u001b[0m \u001b[0mverbose\u001b[0m\u001b[0;34m=\u001b[0m\u001b[0;36m1\u001b[0m\u001b[0;34m,\u001b[0m \u001b[0mvalidation_data\u001b[0m\u001b[0;34m=\u001b[0m\u001b[0;34m(\u001b[0m\u001b[0mX_test\u001b[0m\u001b[0;34m,\u001b[0m \u001b[0mX_test\u001b[0m\u001b[0;34m)\u001b[0m\u001b[0;34m,\u001b[0m \u001b[0mshuffle\u001b[0m\u001b[0;34m=\u001b[0m\u001b[0;32mTrue\u001b[0m\u001b[0;34m)\u001b[0m\u001b[0;34m\u001b[0m\u001b[0;34m\u001b[0m\u001b[0m\n\u001b[0m",
            "\u001b[0;32m/usr/local/lib/python3.7/dist-packages/tensorflow/python/keras/engine/training.py\u001b[0m in \u001b[0;36mfit\u001b[0;34m(self, x, y, batch_size, epochs, verbose, callbacks, validation_split, validation_data, shuffle, class_weight, sample_weight, initial_epoch, steps_per_epoch, validation_steps, validation_batch_size, validation_freq, max_queue_size, workers, use_multiprocessing)\u001b[0m\n\u001b[1;32m   1098\u001b[0m                 _r=1):\n\u001b[1;32m   1099\u001b[0m               \u001b[0mcallbacks\u001b[0m\u001b[0;34m.\u001b[0m\u001b[0mon_train_batch_begin\u001b[0m\u001b[0;34m(\u001b[0m\u001b[0mstep\u001b[0m\u001b[0;34m)\u001b[0m\u001b[0;34m\u001b[0m\u001b[0;34m\u001b[0m\u001b[0m\n\u001b[0;32m-> 1100\u001b[0;31m               \u001b[0mtmp_logs\u001b[0m \u001b[0;34m=\u001b[0m \u001b[0mself\u001b[0m\u001b[0;34m.\u001b[0m\u001b[0mtrain_function\u001b[0m\u001b[0;34m(\u001b[0m\u001b[0miterator\u001b[0m\u001b[0;34m)\u001b[0m\u001b[0;34m\u001b[0m\u001b[0;34m\u001b[0m\u001b[0m\n\u001b[0m\u001b[1;32m   1101\u001b[0m               \u001b[0;32mif\u001b[0m \u001b[0mdata_handler\u001b[0m\u001b[0;34m.\u001b[0m\u001b[0mshould_sync\u001b[0m\u001b[0;34m:\u001b[0m\u001b[0;34m\u001b[0m\u001b[0;34m\u001b[0m\u001b[0m\n\u001b[1;32m   1102\u001b[0m                 \u001b[0mcontext\u001b[0m\u001b[0;34m.\u001b[0m\u001b[0masync_wait\u001b[0m\u001b[0;34m(\u001b[0m\u001b[0;34m)\u001b[0m\u001b[0;34m\u001b[0m\u001b[0;34m\u001b[0m\u001b[0m\n",
            "\u001b[0;32m/usr/local/lib/python3.7/dist-packages/tensorflow/python/eager/def_function.py\u001b[0m in \u001b[0;36m__call__\u001b[0;34m(self, *args, **kwds)\u001b[0m\n\u001b[1;32m    826\u001b[0m     \u001b[0mtracing_count\u001b[0m \u001b[0;34m=\u001b[0m \u001b[0mself\u001b[0m\u001b[0;34m.\u001b[0m\u001b[0mexperimental_get_tracing_count\u001b[0m\u001b[0;34m(\u001b[0m\u001b[0;34m)\u001b[0m\u001b[0;34m\u001b[0m\u001b[0;34m\u001b[0m\u001b[0m\n\u001b[1;32m    827\u001b[0m     \u001b[0;32mwith\u001b[0m \u001b[0mtrace\u001b[0m\u001b[0;34m.\u001b[0m\u001b[0mTrace\u001b[0m\u001b[0;34m(\u001b[0m\u001b[0mself\u001b[0m\u001b[0;34m.\u001b[0m\u001b[0m_name\u001b[0m\u001b[0;34m)\u001b[0m \u001b[0;32mas\u001b[0m \u001b[0mtm\u001b[0m\u001b[0;34m:\u001b[0m\u001b[0;34m\u001b[0m\u001b[0;34m\u001b[0m\u001b[0m\n\u001b[0;32m--> 828\u001b[0;31m       \u001b[0mresult\u001b[0m \u001b[0;34m=\u001b[0m \u001b[0mself\u001b[0m\u001b[0;34m.\u001b[0m\u001b[0m_call\u001b[0m\u001b[0;34m(\u001b[0m\u001b[0;34m*\u001b[0m\u001b[0margs\u001b[0m\u001b[0;34m,\u001b[0m \u001b[0;34m**\u001b[0m\u001b[0mkwds\u001b[0m\u001b[0;34m)\u001b[0m\u001b[0;34m\u001b[0m\u001b[0;34m\u001b[0m\u001b[0m\n\u001b[0m\u001b[1;32m    829\u001b[0m       \u001b[0mcompiler\u001b[0m \u001b[0;34m=\u001b[0m \u001b[0;34m\"xla\"\u001b[0m \u001b[0;32mif\u001b[0m \u001b[0mself\u001b[0m\u001b[0;34m.\u001b[0m\u001b[0m_experimental_compile\u001b[0m \u001b[0;32melse\u001b[0m \u001b[0;34m\"nonXla\"\u001b[0m\u001b[0;34m\u001b[0m\u001b[0;34m\u001b[0m\u001b[0m\n\u001b[1;32m    830\u001b[0m       \u001b[0mnew_tracing_count\u001b[0m \u001b[0;34m=\u001b[0m \u001b[0mself\u001b[0m\u001b[0;34m.\u001b[0m\u001b[0mexperimental_get_tracing_count\u001b[0m\u001b[0;34m(\u001b[0m\u001b[0;34m)\u001b[0m\u001b[0;34m\u001b[0m\u001b[0;34m\u001b[0m\u001b[0m\n",
            "\u001b[0;32m/usr/local/lib/python3.7/dist-packages/tensorflow/python/eager/def_function.py\u001b[0m in \u001b[0;36m_call\u001b[0;34m(self, *args, **kwds)\u001b[0m\n\u001b[1;32m    853\u001b[0m       \u001b[0;31m# In this case we have created variables on the first call, so we run the\u001b[0m\u001b[0;34m\u001b[0m\u001b[0;34m\u001b[0m\u001b[0;34m\u001b[0m\u001b[0m\n\u001b[1;32m    854\u001b[0m       \u001b[0;31m# defunned version which is guaranteed to never create variables.\u001b[0m\u001b[0;34m\u001b[0m\u001b[0;34m\u001b[0m\u001b[0;34m\u001b[0m\u001b[0m\n\u001b[0;32m--> 855\u001b[0;31m       \u001b[0;32mreturn\u001b[0m \u001b[0mself\u001b[0m\u001b[0;34m.\u001b[0m\u001b[0m_stateless_fn\u001b[0m\u001b[0;34m(\u001b[0m\u001b[0;34m*\u001b[0m\u001b[0margs\u001b[0m\u001b[0;34m,\u001b[0m \u001b[0;34m**\u001b[0m\u001b[0mkwds\u001b[0m\u001b[0;34m)\u001b[0m  \u001b[0;31m# pylint: disable=not-callable\u001b[0m\u001b[0;34m\u001b[0m\u001b[0;34m\u001b[0m\u001b[0m\n\u001b[0m\u001b[1;32m    856\u001b[0m     \u001b[0;32melif\u001b[0m \u001b[0mself\u001b[0m\u001b[0;34m.\u001b[0m\u001b[0m_stateful_fn\u001b[0m \u001b[0;32mis\u001b[0m \u001b[0;32mnot\u001b[0m \u001b[0;32mNone\u001b[0m\u001b[0;34m:\u001b[0m\u001b[0;34m\u001b[0m\u001b[0;34m\u001b[0m\u001b[0m\n\u001b[1;32m    857\u001b[0m       \u001b[0;31m# Release the lock early so that multiple threads can perform the call\u001b[0m\u001b[0;34m\u001b[0m\u001b[0;34m\u001b[0m\u001b[0;34m\u001b[0m\u001b[0m\n",
            "\u001b[0;32m/usr/local/lib/python3.7/dist-packages/tensorflow/python/eager/function.py\u001b[0m in \u001b[0;36m__call__\u001b[0;34m(self, *args, **kwargs)\u001b[0m\n\u001b[1;32m   2941\u001b[0m        filtered_flat_args) = self._maybe_define_function(args, kwargs)\n\u001b[1;32m   2942\u001b[0m     return graph_function._call_flat(\n\u001b[0;32m-> 2943\u001b[0;31m         filtered_flat_args, captured_inputs=graph_function.captured_inputs)  # pylint: disable=protected-access\n\u001b[0m\u001b[1;32m   2944\u001b[0m \u001b[0;34m\u001b[0m\u001b[0m\n\u001b[1;32m   2945\u001b[0m   \u001b[0;34m@\u001b[0m\u001b[0mproperty\u001b[0m\u001b[0;34m\u001b[0m\u001b[0;34m\u001b[0m\u001b[0m\n",
            "\u001b[0;32m/usr/local/lib/python3.7/dist-packages/tensorflow/python/eager/function.py\u001b[0m in \u001b[0;36m_call_flat\u001b[0;34m(self, args, captured_inputs, cancellation_manager)\u001b[0m\n\u001b[1;32m   1917\u001b[0m       \u001b[0;31m# No tape is watching; skip to running the function.\u001b[0m\u001b[0;34m\u001b[0m\u001b[0;34m\u001b[0m\u001b[0;34m\u001b[0m\u001b[0m\n\u001b[1;32m   1918\u001b[0m       return self._build_call_outputs(self._inference_function.call(\n\u001b[0;32m-> 1919\u001b[0;31m           ctx, args, cancellation_manager=cancellation_manager))\n\u001b[0m\u001b[1;32m   1920\u001b[0m     forward_backward = self._select_forward_and_backward_functions(\n\u001b[1;32m   1921\u001b[0m         \u001b[0margs\u001b[0m\u001b[0;34m,\u001b[0m\u001b[0;34m\u001b[0m\u001b[0;34m\u001b[0m\u001b[0m\n",
            "\u001b[0;32m/usr/local/lib/python3.7/dist-packages/tensorflow/python/eager/function.py\u001b[0m in \u001b[0;36mcall\u001b[0;34m(self, ctx, args, cancellation_manager)\u001b[0m\n\u001b[1;32m    558\u001b[0m               \u001b[0minputs\u001b[0m\u001b[0;34m=\u001b[0m\u001b[0margs\u001b[0m\u001b[0;34m,\u001b[0m\u001b[0;34m\u001b[0m\u001b[0;34m\u001b[0m\u001b[0m\n\u001b[1;32m    559\u001b[0m               \u001b[0mattrs\u001b[0m\u001b[0;34m=\u001b[0m\u001b[0mattrs\u001b[0m\u001b[0;34m,\u001b[0m\u001b[0;34m\u001b[0m\u001b[0;34m\u001b[0m\u001b[0m\n\u001b[0;32m--> 560\u001b[0;31m               ctx=ctx)\n\u001b[0m\u001b[1;32m    561\u001b[0m         \u001b[0;32melse\u001b[0m\u001b[0;34m:\u001b[0m\u001b[0;34m\u001b[0m\u001b[0;34m\u001b[0m\u001b[0m\n\u001b[1;32m    562\u001b[0m           outputs = execute.execute_with_cancellation(\n",
            "\u001b[0;32m/usr/local/lib/python3.7/dist-packages/tensorflow/python/eager/execute.py\u001b[0m in \u001b[0;36mquick_execute\u001b[0;34m(op_name, num_outputs, inputs, attrs, ctx, name)\u001b[0m\n\u001b[1;32m     58\u001b[0m     \u001b[0mctx\u001b[0m\u001b[0;34m.\u001b[0m\u001b[0mensure_initialized\u001b[0m\u001b[0;34m(\u001b[0m\u001b[0;34m)\u001b[0m\u001b[0;34m\u001b[0m\u001b[0;34m\u001b[0m\u001b[0m\n\u001b[1;32m     59\u001b[0m     tensors = pywrap_tfe.TFE_Py_Execute(ctx._handle, device_name, op_name,\n\u001b[0;32m---> 60\u001b[0;31m                                         inputs, attrs, num_outputs)\n\u001b[0m\u001b[1;32m     61\u001b[0m   \u001b[0;32mexcept\u001b[0m \u001b[0mcore\u001b[0m\u001b[0;34m.\u001b[0m\u001b[0m_NotOkStatusException\u001b[0m \u001b[0;32mas\u001b[0m \u001b[0me\u001b[0m\u001b[0;34m:\u001b[0m\u001b[0;34m\u001b[0m\u001b[0;34m\u001b[0m\u001b[0m\n\u001b[1;32m     62\u001b[0m     \u001b[0;32mif\u001b[0m \u001b[0mname\u001b[0m \u001b[0;32mis\u001b[0m \u001b[0;32mnot\u001b[0m \u001b[0;32mNone\u001b[0m\u001b[0;34m:\u001b[0m\u001b[0;34m\u001b[0m\u001b[0;34m\u001b[0m\u001b[0m\n",
            "\u001b[0;31mKeyboardInterrupt\u001b[0m: "
          ]
        }
      ]
    },
    {
      "cell_type": "code",
      "metadata": {
        "colab": {
          "base_uri": "https://localhost:8080/"
        },
        "id": "8AteT8hinqqq",
        "outputId": "3ec824d2-e580-4401-d805-a919e74392f1"
      },
      "source": [
        "lil.shape"
      ],
      "execution_count": 92,
      "outputs": [
        {
          "output_type": "execute_result",
          "data": {
            "text/plain": [
              "(320, 64)"
            ]
          },
          "metadata": {
            "tags": []
          },
          "execution_count": 92
        }
      ]
    },
    {
      "cell_type": "code",
      "metadata": {
        "id": "LKdVw7hHnbhG"
      },
      "source": [
        "lil = model.generate(1)"
      ],
      "execution_count": 95,
      "outputs": []
    },
    {
      "cell_type": "code",
      "metadata": {
        "colab": {
          "base_uri": "https://localhost:8080/",
          "height": 285
        },
        "id": "xq5L9MD2nh4y",
        "outputId": "a0eca35d-b364-4780-bc8a-2b13fd2fab0d"
      },
      "source": [
        "plt.imshow(lil)"
      ],
      "execution_count": 96,
      "outputs": [
        {
          "output_type": "execute_result",
          "data": {
            "text/plain": [
              "<matplotlib.image.AxesImage at 0x7fe898ab7b50>"
            ]
          },
          "metadata": {
            "tags": []
          },
          "execution_count": 96
        },
        {
          "output_type": "display_data",
          "data": {
            "image/png": "[encoded data removed]",
            "text/plain": [
              "<Figure size 432x288 with 1 Axes>"
            ]
          },
          "metadata": {
            "tags": [],
            "needs_background": "light"
          }
        }
      ]
    },
    {
      "cell_type": "code",
      "metadata": {
        "id": "v3wa1ZRcOf5u"
      },
      "source": [
        "lel = model.predict(X_test)"
      ],
      "execution_count": null,
      "outputs": []
    },
    {
      "cell_type": "code",
      "metadata": {
        "colab": {
          "base_uri": "https://localhost:8080/",
          "height": 285
        },
        "id": "Sp-BLHBBnGOo",
        "outputId": "f903b2b6-5593-413f-d481-06e760d55cfe"
      },
      "source": [
        "plt.imshow(X_test[30][:,:,0])"
      ],
      "execution_count": 84,
      "outputs": [
        {
          "output_type": "execute_result",
          "data": {
            "text/plain": [
              "<matplotlib.image.AxesImage at 0x7fe88a210550>"
            ]
          },
          "metadata": {
            "tags": []
          },
          "execution_count": 84
        },
        {
          "output_type": "display_data",
          "data": {
            "image/png": "[encoded data removed]",
            "text/plain": [
              "<Figure size 432x288 with 1 Axes>"
            ]
          },
          "metadata": {
            "tags": [],
            "needs_background": "light"
          }
        }
      ]
    },
    {
      "cell_type": "code",
      "metadata": {
        "colab": {
          "base_uri": "https://localhost:8080/",
          "height": 285
        },
        "id": "Ufezomr8P0QY",
        "outputId": "40560f90-6f44-48bc-fcba-0eb59808bccd"
      },
      "source": [
        "plt.imshow(lel[30][:,:,0])"
      ],
      "execution_count": 85,
      "outputs": [
        {
          "output_type": "execute_result",
          "data": {
            "text/plain": [
              "<matplotlib.image.AxesImage at 0x7fe88a1f7c50>"
            ]
          },
          "metadata": {
            "tags": []
          },
          "execution_count": 85
        },
        {
          "output_type": "display_data",
          "data": {
            "image/png": "[encoded data removed]",
            "text/plain": [
              "<Figure size 432x288 with 1 Axes>"
            ]
          },
          "metadata": {
            "tags": [],
            "needs_background": "light"
          }
        }
      ]
    },
    {
      "cell_type": "code",
      "metadata": {
        "id": "e8Ol889wO0Hn"
      },
      "source": [
        "lol = model.predict(X_train)"
      ],
      "execution_count": 63,
      "outputs": []
    },
    {
      "cell_type": "code",
      "metadata": {
        "colab": {
          "base_uri": "https://localhost:8080/"
        },
        "id": "HboVNPp7O1yM",
        "outputId": "3eefecfc-affb-48ed-f8e8-ec8013896f2f"
      },
      "source": [
        "lol[:][:,:,0].sum().sum().sum()"
      ],
      "execution_count": 66,
      "outputs": [
        {
          "output_type": "execute_result",
          "data": {
            "text/plain": [
              "0.0"
            ]
          },
          "metadata": {
            "tags": []
          },
          "execution_count": 66
        }
      ]
    }
  ]
}