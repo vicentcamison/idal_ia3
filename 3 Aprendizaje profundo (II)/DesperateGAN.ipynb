{
  "nbformat": 4,
  "nbformat_minor": 0,
  "metadata": {
    "colab": {
      "name": "Untitled2.ipynb",
      "provenance": [],
      "include_colab_link": true
    },
    "kernelspec": {
      "name": "python3",
      "display_name": "Python 3"
    },
    "accelerator": "GPU"
  },
  "cells": [
    {
      "cell_type": "markdown",
      "metadata": {
        "id": "view-in-github",
        "colab_type": "text"
      },
      "source": [
        "<a href=\"https://colab.research.google.com/github/vicentcamison/idal_ia3/blob/main/3%20Aprendizaje%20profundo%20(II)/DesperateGAN.ipynb\" target=\"_parent\"><img src=\"https://colab.research.google.com/assets/colab-badge.svg\" alt=\"Open In Colab\"/></a>"
      ]
    },
    {
      "cell_type": "code",
      "metadata": {
        "id": "SrPUEoXu4Kwc"
      },
      "source": [
        "#import os\n",
        "#os.environ['CUDA_LAUNCH_BLOCKING'] = \"1\""
      ],
      "execution_count": null,
      "outputs": []
    },
    {
      "cell_type": "code",
      "metadata": {
        "id": "N_zyeJVjPxzH"
      },
      "source": [
        "import numpy as np\n",
        "import pandas as pd\n",
        "import matplotlib.pyplot as plt\n",
        "\n",
        "import torch\n",
        "import torchvision\n",
        "from torchvision import transforms\n",
        "import torchvision.datasets as datasets\n",
        "from torch.utils.data import DataLoader, Subset, Dataset\n",
        "from torch import nn\n",
        "import torch.nn.functional as F\n",
        "\n",
        "from sklearn.model_selection import train_test_split\n",
        "\n",
        "import glob\n",
        "\n",
        "from itertools import chain"
      ],
      "execution_count": null,
      "outputs": []
    },
    {
      "cell_type": "code",
      "metadata": {
        "id": "-A7cX_TKXiNg"
      },
      "source": [
        "# CONTROL VARIABLES\n",
        "\n",
        "# GAN style\n",
        "# 0: InfoGAN\n",
        "# 1: AC-GAN (Auxiliary Conditional GAN)\n",
        "GAN_STYLE = 1\n",
        "\n",
        "\n",
        "# lesser importance variables\n",
        "BATCH_SIZE = 256\n",
        "LRELU_ALPHA = 0.01 #negative slope of leaky relu activation\n",
        "LR_G = 0.0002 #generator learning rate\n",
        "LR_D = 0.0001 #discriminator learning rate\n",
        "EPSILON = 0.2 #noise factor in images to discriminator\n",
        "GEN_PER_DISCR = 5 #times the generator is trained each time the discriminator is trained"
      ],
      "execution_count": null,
      "outputs": []
    },
    {
      "cell_type": "markdown",
      "metadata": {
        "id": "P2kiXnudPmyF"
      },
      "source": [
        "We are going to create a GAN to generate new fonts"
      ]
    },
    {
      "cell_type": "code",
      "metadata": {
        "colab": {
          "base_uri": "https://localhost:8080/"
        },
        "id": "d6DzjWi9Py-Y",
        "outputId": "85827ba5-33dc-49f1-86c0-7960c007e589"
      },
      "source": [
        "# Access to the BOB ROSS images folder\n",
        "from google.colab import drive\n",
        "drive.mount('/content/gdrive')"
      ],
      "execution_count": null,
      "outputs": [
        {
          "output_type": "stream",
          "text": [
            "Drive already mounted at /content/gdrive; to attempt to forcibly remount, call drive.mount(\"/content/gdrive\", force_remount=True).\n"
          ],
          "name": "stdout"
        }
      ]
    },
    {
      "cell_type": "code",
      "metadata": {
        "id": "1XE9urSNQRO2"
      },
      "source": [
        "#directory = \"gdrive/MyDrive/UNIVERSIDAD/Master Propio IA UV/3 Aprendizaje profundo (II)/Datasets/Bob Ross/train\"\n",
        "directory = \"gdrive/MyDrive/UNIVERSIDAD/Master Propio IA UV/3 Aprendizaje profundo (II)/Trabajo final/fonts\""
      ],
      "execution_count": null,
      "outputs": []
    },
    {
      "cell_type": "code",
      "metadata": {
        "id": "H2-COIKsvtCk"
      },
      "source": [
        "# get data file names (this code takes a while to retrieve all data and prepare all dataframes)\n",
        "filenames = glob.glob(directory + \"/*.csv\")\n",
        "dfs = [pd.read_csv(filename) for filename in filenames]"
      ],
      "execution_count": null,
      "outputs": []
    },
    {
      "cell_type": "code",
      "metadata": {
        "colab": {
          "base_uri": "https://localhost:8080/"
        },
        "id": "4WHqiLelw80u",
        "outputId": "c7004a6f-fb12-4b50-b30f-5ac8003d0054"
      },
      "source": [
        "device = torch.device('cuda:0' if torch.cuda.is_available() else 'cpu')\n",
        "print(device)"
      ],
      "execution_count": null,
      "outputs": [
        {
          "output_type": "stream",
          "text": [
            "cuda:0\n"
          ],
          "name": "stdout"
        }
      ]
    },
    {
      "cell_type": "code",
      "metadata": {
        "id": "VHz6XvH8Vd8c"
      },
      "source": [
        "# Characters have an index associated to them (m_label). The index is related to the character in the following dictionary\n",
        "index_to_char = {65:'A', 66:'B', 67:'C', 68:'D', 69:'E', 70:'F', 71:'G', 72:'H', 73:'I', 74:'J',\n",
        "                 75:'K', 76:'L', 77:'M', 78:'N', 79:'O', 80:'P', 81:'Q', 82:'R', 83:'S', 84:'T',\n",
        "                 85:'U', 86:'V', 87:'W', 88:'X', 89:'Y', 90:'Z', 97:'a', 98:'b', 99:'c', 100:'d',\n",
        "                 101:'e', 102:'f', 103:'g', 104:'h', 105:'i', 106:'j', 107:'k', 108:'l', 109:'m',\n",
        "                 110:'n', 111:'o', 112:'p', 113:'q', 114:'r', 115:'s', 116:'t', 117:'u', 118:'v',\n",
        "                 119:'w', 120:'x', 121:'y', 122:'z', 48:'0', 49:'1', 50:'2', 51:'3', 52:'4', 53:'5',\n",
        "                 54:'6', 55:'7', 56:'8', 57:'9'}"
      ],
      "execution_count": null,
      "outputs": []
    },
    {
      "cell_type": "code",
      "metadata": {
        "id": "USLE1ztGoADb"
      },
      "source": [
        "number_min = 48\n",
        "number_max = 49\n",
        "#number_max = 57\n",
        "upper_min = 65\n",
        "upper_max = 90\n",
        "lower_min = 97\n",
        "lower_max = 122"
      ],
      "execution_count": null,
      "outputs": []
    },
    {
      "cell_type": "code",
      "metadata": {
        "colab": {
          "base_uri": "https://localhost:8080/"
        },
        "id": "vAVfnqrzfmxJ",
        "outputId": "68040ae2-5e4a-4b24-c072-fa7118029848"
      },
      "source": [
        "# We create the datasets. We are going to divide them in NUMBERS, UPPERCASE LETTERS and LOWERCASE LETTERS\n",
        "X_numbers = np.array([], ndmin=3)\n",
        "X_upper = np.array([], ndmin=3)\n",
        "X_lower = np.array([], ndmin=3)\n",
        "Y_numbers = np.array([], ndmin=2)\n",
        "Y_upper = np.array([], ndmin=2)\n",
        "Y_lower = np.array([], ndmin=2)\n",
        "\n",
        "i = 0\n",
        "for df in dfs:\n",
        "  #df = df[np.logical_and(df.loc[:,'strength'] < 0.5, df.loc[:,'italic'] == 0]\n",
        "  df_straight = df[np.logical_and(df.loc[:,'strength'] < 0.5, df.loc[:,'italic'] == 0)] #remove the columns that are in bold or cursive\n",
        "  #BY SLIGHTLY MODIFYING THIS LINE OF CODE AND ADDING THE CORRESPONDING LABELS TO Y, CURSIVE AND BOLD CAN BE ADDED TO THE MODEL\n",
        "\n",
        "  # We get the elements of the dataframe that reference the images of characters (upper and lower letters, and numbers)\n",
        "  X_numbers_new = df_straight[np.logical_and(df_straight.loc[:,'m_label'] >= number_min, df_straight.loc[:, 'm_label'] <= number_max)].iloc[:, 12:]\n",
        "  X_upper_new = df_straight[np.logical_and(df_straight.loc[:,'m_label'] >= upper_min, df_straight.loc[:, 'm_label'] <= upper_max)].iloc[:, 12:]\n",
        "  X_lower_new = df_straight[np.logical_and(df_straight.loc[:,'m_label'] >= lower_min, df_straight.loc[:, 'm_label'] <= lower_max)].iloc[:, 12:]\n",
        "\n",
        "  Y_numbers_new = df_straight[np.logical_and(df_straight.loc[:,'m_label'] >= number_min, df_straight.loc[:, 'm_label'] <= number_max)].loc[:, ['m_label', 'font']]\n",
        "  Y_upper_new = df_straight[np.logical_and(df_straight.loc[:,'m_label'] >= upper_min, df_straight.loc[:, 'm_label'] <= upper_max)].loc[:, ['m_label', 'font']]\n",
        "  Y_lower_new = df_straight[np.logical_and(df_straight.loc[:,'m_label'] >= lower_min, df_straight.loc[:, 'm_label'] <= lower_max)].loc[:, ['m_label', 'font']]\n",
        "\n",
        "  # We transform each element from a 400x1 array into a 20x20 array\n",
        "  #X_numbers_new = np.reshape(X_numbers_new.values, (20,20,-1))\n",
        "  #X_upper_new = np.reshape(X_upper_new.values, (20,20,-1))\n",
        "  #X_lower_new = np.reshape(X_lower_new.values, (20,20,-1))\n",
        "\n",
        "  # We rearrange the indexes so that the first index refers to image index\n",
        "  #X_numbers_new = np.transpose(X_numbers_new, axes=[2, 0, 1])\n",
        "  #X_upper_new = np.transpose(X_upper_new, axes=[2, 0, 1])\n",
        "  #X_lower_new = np.transpose(X_lower_new, axes=[2, 0, 1])\n",
        "\n",
        "  X_numbers_new = np.array(np.reshape(X_numbers_new.values, (-1,20,20)))\n",
        "  X_upper_new = np.array(np.reshape(X_upper_new.values, (-1,20,20)))\n",
        "  X_lower_new = np.array(np.reshape(X_lower_new.values, (-1,20,20)))\n",
        "\n",
        "  X_numbers_new = X_numbers_new.astype('float64')\n",
        "  X_upper_new = X_upper_new.astype('float64')\n",
        "  X_lower_new = X_lower_new.astype('float64')\n",
        "\n",
        "  Y_numbers_new.iloc[:, 0] = Y_numbers_new.iloc[:, 0].astype('int')\n",
        "  Y_upper_new.iloc[:, 0] = Y_upper_new.iloc[:, 0].astype('int')\n",
        "  Y_lower_new.iloc[:, 0] = Y_lower_new.iloc[:, 0].astype('int')\n",
        "\n",
        "  # We append the _new vectors to the standard vectors\n",
        "  if i == 0: # IS THERE A WAY TO PROGRAM THIS BETTER?\n",
        "    X_numbers = X_numbers_new\n",
        "    X_upper = X_upper_new\n",
        "    X_lower = X_lower_new\n",
        "\n",
        "    Y_numbers = Y_numbers_new\n",
        "    Y_upper = Y_upper_new\n",
        "    Y_lower = Y_lower_new\n",
        "\n",
        "  else:\n",
        "    X_numbers = np.concatenate((X_numbers, X_numbers_new), axis=0)\n",
        "    X_upper = np.concatenate((X_upper, X_upper_new), axis=0)\n",
        "    X_lower = np.concatenate((X_lower, X_lower_new), axis=0)\n",
        "\n",
        "    Y_numbers = pd.concat([Y_numbers, Y_numbers_new], axis=0)\n",
        "    Y_upper = pd.concat([Y_upper, Y_upper_new], axis=0)\n",
        "    Y_lower = pd.concat([Y_lower, Y_lower_new], axis=0)\n",
        "\n",
        "    #Y_numbers = np.concatenate((Y_numbers, np.array(Y_numbers_new)), axis=0)\n",
        "    #Y_upper = np.concatenate((Y_upper, np.array(Y_upper_new)), axis=0)\n",
        "    #Y_lower = np.concatenate((Y_lower, np.array(Y_lower_new)), axis=0)\n",
        "\n",
        "    \n",
        "  #X_numbers.append(X_numbers_new)\n",
        "  #X_upper.append(X_upper_new)\n",
        "  #X_lower.append(X_lower)\n",
        "\n",
        "  #Y_numbers.append(Y_numbers_new)\n",
        "  #Y_upper.append(Y_upper_new)\n",
        "  #Y_lower.append(Y_lower_new)\n",
        "  \n",
        "  i += 1\n",
        "  if i % 10 == 0 or i==len(dfs):\n",
        "    print(str(i)+'/'+str(len(dfs)))\n",
        "\n",
        "  #for row in df[np.logical_and(df.loc[:,'strength'] < 0.5, df.loc[:,'italic'] == 0].iterrows():\n",
        "   # if row.strength < 0.5 and row.italic == 0:\n",
        "\n",
        "#Y_numbers.reset_index(inplace=True)\n",
        "#Y_lower.reset_index(inplace=True)\n",
        "#Y_upper.reset_index(inplace=True)"
      ],
      "execution_count": null,
      "outputs": [
        {
          "output_type": "stream",
          "text": [
            "10/153\n",
            "20/153\n",
            "30/153\n",
            "40/153\n",
            "50/153\n",
            "60/153\n",
            "70/153\n",
            "80/153\n",
            "90/153\n",
            "100/153\n",
            "110/153\n",
            "120/153\n",
            "130/153\n",
            "140/153\n",
            "150/153\n",
            "153/153\n"
          ],
          "name": "stdout"
        }
      ]
    },
    {
      "cell_type": "code",
      "metadata": {
        "id": "gyHxV2Dv6brP"
      },
      "source": [
        "#THIS CODE IS NOW RENDERED UNNECESSARY\n",
        "\n",
        "#print('finish0')\n",
        "#X_numbers = np.concatenate(X_numbers, axis=0)\n",
        "##print('finish1')\n",
        "#X_upper = np.concatenate(X_upper, axis=0)\n",
        "#print('finish2')\n",
        "#X_lower = np.concatenate(X_lower, axis=0)\n",
        "#print('finish3')\n",
        "\n",
        "#Y_numbers = np.concatenate(Y_numbers, axis=0)\n",
        "#print('finish4')\n",
        "#Y_upper = np.concatenate(Y_upper, axis=0)\n",
        "#print('finish5')\n",
        "#Y_lower = np.concatenate(Y_lower, axis=0)\n",
        "#print('finish6')"
      ],
      "execution_count": null,
      "outputs": []
    },
    {
      "cell_type": "code",
      "metadata": {
        "id": "vQDDjU6Pc5bn"
      },
      "source": [
        "# We create a custom transform that can escale the images to [-1, 1] the range that's typically used\n",
        "# in GANs. It's the image of the function tanh(), used sometimes as the last activation function\n",
        "# in generators\n",
        "\n",
        "class ToTanh(object):\n",
        "    \"\"\"Convert single-channel images from range [0, 256] to range [-1, 1].\"\"\"\n",
        "\n",
        "    def __call__(self, pic):\n",
        "        return torch.tensor(pic * 2 - 1, dtype=torch.float)\n",
        "\n",
        "    def __repr__(self):\n",
        "        return self.__class__.__name__ + '()'"
      ],
      "execution_count": null,
      "outputs": []
    },
    {
      "cell_type": "code",
      "metadata": {
        "id": "9LxQhTpj0zh9"
      },
      "source": [
        "# Generation of the transform for the DataLoader\n",
        "transform = transforms.Compose([\n",
        "  transforms.ToTensor(),\n",
        "  transforms.Normalize(0.5, 0.5)\n",
        "  #ToTanh()\n",
        "])"
      ],
      "execution_count": null,
      "outputs": []
    },
    {
      "cell_type": "code",
      "metadata": {
        "id": "mDfRsj_w06rs"
      },
      "source": [
        "#Append the Y columns at the end of the X columns\n",
        "\n",
        "#X_numbers = np.concatenate([X_numbers, Y_numbers], axis=1)\n",
        "#X_upper = np.concatenate([X_upper, Y_upper], axis=1)\n",
        "#X_lower = np.concatenate([])"
      ],
      "execution_count": null,
      "outputs": []
    },
    {
      "cell_type": "code",
      "metadata": {
        "id": "Ux0fsk9-7uDw"
      },
      "source": [
        "#We modify the dataset class to fit our needs: deliver an image and a label per example\n",
        "class FontsDataset(Dataset):\n",
        "\n",
        "    def __init__(self, X_images, Y_labels, transform=None):\n",
        "        \"\"\"\n",
        "        Args:\n",
        "            X_images (np.array): np.array containing all the font images\n",
        "            Y_labels (np.array): np.array containing all the font labels\n",
        "            transform (callable, optional): Optional transform to be applied\n",
        "                on a sample.\n",
        "        \"\"\"\n",
        "        self.X_images = X_images\n",
        "        #self.X_images.type(torch.FloatTensor)\n",
        "        #for now, we only want to keep the column that indicates the character\n",
        "        self.Y_labels = Y_labels.iloc[:,0]\n",
        "        #we also apply one-hot encoding to the labels.\n",
        "        #USE EMBEDDING FOR BIGGER COLLECTIONS OF CHARACTERS\n",
        "        #self.Y_labels = np.array(pd.get_dummies(Y_labels.astype('str')))\n",
        "        self.transform = transform\n",
        "\n",
        "    def __len__(self):\n",
        "        return len(self.Y_labels)\n",
        "\n",
        "    def __getitem__(self, idx):\n",
        "        if torch.is_tensor(idx):\n",
        "            idx = idx.tolist()\n",
        "\n",
        "        #img_name = os.path.join(self.root_dir,\n",
        "        #                        self.landmarks_frame.iloc[idx, 0])\n",
        "        #image = io.imread(img_name)\n",
        "        #landmarks = self.landmarks_frame.iloc[idx, 1:]\n",
        "        #landmarks = np.array([landmarks])\n",
        "        #landmarks = landmarks.astype('float').reshape(-1, 2)\n",
        "        #sample = {'image': image, 'landmarks': landmarks}\n",
        "\n",
        "        image = self.X_images[idx]\n",
        "        label = self.Y_labels[idx]\n",
        "\n",
        "        if self.transform:\n",
        "            image = self.transform(image)\n",
        "            image.type(torch.FloatTensor)\n",
        "\n",
        "        return image, label"
      ],
      "execution_count": null,
      "outputs": []
    },
    {
      "cell_type": "code",
      "metadata": {
        "id": "23jRriua689n"
      },
      "source": [
        "#plt.imshow(numbers_dataset.X_images[0,:,:])"
      ],
      "execution_count": null,
      "outputs": []
    },
    {
      "cell_type": "code",
      "metadata": {
        "id": "6L5eTsTFIEre"
      },
      "source": [
        "#Y_numbers.reset_index(drop=True).head(50)"
      ],
      "execution_count": null,
      "outputs": []
    },
    {
      "cell_type": "code",
      "metadata": {
        "id": "ICcYez71HEF8"
      },
      "source": [
        "#numbers_dataset.Y_labels[0]"
      ],
      "execution_count": null,
      "outputs": []
    },
    {
      "cell_type": "code",
      "metadata": {
        "id": "TgLNDtv0LTOx"
      },
      "source": [
        "#max(numbers_dataset.Y_labels)"
      ],
      "execution_count": null,
      "outputs": []
    },
    {
      "cell_type": "code",
      "metadata": {
        "id": "0gn0g-mgDwMr"
      },
      "source": [
        "#type(numbers_dataset.Y_labels[0])"
      ],
      "execution_count": null,
      "outputs": []
    },
    {
      "cell_type": "code",
      "metadata": {
        "id": "WTCDrE6y2DmZ"
      },
      "source": [
        "# We want the label to go from 0 to label_max. In order to do that,\n",
        "# the following operation needs to be performed:\n",
        "\n",
        "Y_numbers.iloc[:, 0] = Y_numbers.iloc[:, 0] - number_min\n",
        "Y_upper.iloc[:, 0] = Y_upper.iloc[:, 0] - upper_min\n",
        "Y_lower.iloc[:, 0] = Y_lower.iloc[:, 0] - lower_min\n",
        "\n",
        "Y_numbers.reset_index(drop=True, inplace=True)\n",
        "Y_upper.reset_index(drop=True, inplace=True)\n",
        "Y_lower.reset_index(drop=True, inplace=True)"
      ],
      "execution_count": null,
      "outputs": []
    },
    {
      "cell_type": "code",
      "metadata": {
        "id": "xbu6Nata_UTw"
      },
      "source": [
        "numbers_dataset = FontsDataset(X_numbers, Y_numbers, transform)\n",
        "upper_dataset = FontsDataset(X_upper, Y_upper, transform)\n",
        "lower_dataset = FontsDataset(X_lower, Y_lower, transform)\n",
        "\n",
        "numbers_loader = DataLoader(numbers_dataset, batch_size=BATCH_SIZE, shuffle=True, num_workers=0)\n",
        "upper_loader = DataLoader(upper_dataset, batch_size=BATCH_SIZE, shuffle=True, num_workers=0)\n",
        "lower_loader = DataLoader(lower_dataset, batch_size=BATCH_SIZE, shuffle=True, num_workers=0)"
      ],
      "execution_count": null,
      "outputs": []
    },
    {
      "cell_type": "code",
      "metadata": {
        "colab": {
          "base_uri": "https://localhost:8080/"
        },
        "id": "og_7jmTAAZl5",
        "outputId": "0c1dacf5-4750-4929-8fb3-75310d191ee0"
      },
      "source": [
        "numbers_dataset.Y_labels.unique()"
      ],
      "execution_count": null,
      "outputs": [
        {
          "output_type": "execute_result",
          "data": {
            "text/plain": [
              "array([1, 0])"
            ]
          },
          "metadata": {
            "tags": []
          },
          "execution_count": 25
        }
      ]
    },
    {
      "cell_type": "code",
      "metadata": {
        "id": "S-QcXSF2Rsqh"
      },
      "source": [
        "#FUNCIÓN PARA PROBAR COSAS\n",
        "# SE IRÁ DEL CÓDIGO EVENTUALMENTE\n",
        "\n",
        "#index = 21\n",
        "\n",
        "#plt.figure()\n",
        "#for i in np.arange(index, index+10):\n",
        "#  plt.imshow(X_numbers[i])\n",
        "#  plt.show()"
      ],
      "execution_count": null,
      "outputs": []
    },
    {
      "cell_type": "code",
      "metadata": {
        "id": "eqIjRdQSpQJT"
      },
      "source": [
        "#FUNCIÓN PARA PROBAR COSAS\n",
        "# SE IRÁ DEL CÓDIGO EVENTUALMENTE\n",
        "\n",
        "#Esta función en concreto busca todos los caracteres de un tipo en concreto\n",
        "# y los dibuja\n",
        "\n",
        "#char_one = dfs[0].loc[:, 'm_label'] == 57\n",
        "#chars = dfs[0][char_one]\n",
        "#for i in range(chars.shape[0]):\n",
        "#  chars2 = np.array(chars.iloc[i, 12:])\n",
        "#  chars3 = np.reshape(chars2, newshape=(20,20))\n",
        "#  plt.figure()\n",
        "#  plt.imshow(chars3.astype(float))\n",
        "#  plt.show()"
      ],
      "execution_count": null,
      "outputs": []
    },
    {
      "cell_type": "markdown",
      "metadata": {
        "id": "ZaVXHesWll3X"
      },
      "source": [
        "### Building the GAN"
      ]
    },
    {
      "cell_type": "code",
      "metadata": {
        "id": "7hJ5m2_juw0P"
      },
      "source": [
        "#this is the tensor used as 'error', or 'output not expected', as\n",
        "# using None is not possible because it raises some errors\n",
        "error_tensor = -1 * torch.ones(1)\n",
        "error_tensor = error_tensor.to(device)"
      ],
      "execution_count": null,
      "outputs": []
    },
    {
      "cell_type": "code",
      "metadata": {
        "id": "Tn78mMb5lpmN"
      },
      "source": [
        "##Right now, the generator only generates one image per execution,\n",
        "## maybe it should be readapted to generate a BATCH of images\n",
        "## EDIT: readapted!!\n",
        "\n",
        "class Generator(nn.Module):\n",
        "  def __init__(self, noise_dim=50, categorical_dim=10, categorical_noise_dim=30, image_size=20):\n",
        "    super(Generator, self).__init__()\n",
        "\n",
        "    self.noise_dim = noise_dim\n",
        "    self.categorical_dim = categorical_dim\n",
        "    self.categorical_noise_dim = categorical_noise_dim\n",
        "\n",
        "    self.image_size = image_size #size of one of the sides of the image (we are working with square images)\n",
        "    self.hidden_channels = 128 #channels of the first convolutional layer\n",
        "    self.output_channels = 1 #the images we work with are black & white\n",
        "\n",
        "    self.hidden_layer = self.hidden_channels * (self.image_size // 4) ** 2\n",
        "\n",
        "    self.linear = nn.Linear(self.noise_dim + self.categorical_dim + self.categorical_noise_dim, self.hidden_layer)\n",
        "    self.bn = nn.BatchNorm1d(self.hidden_layer)\n",
        "    self.bn2 = nn.BatchNorm2d(self.hidden_channels//2)\n",
        "    #self.upscale = F.upsample_bilinear(2)\n",
        "    #self.upscale = nn.PixelShuffle(upscale_factor=2) # Better than F.upsample_bilinear: training GANs means avoiding sparse gradients\n",
        "    self.conv1 = nn.Conv2d(self.hidden_channels, self.hidden_channels//2, (3,3), stride=1, padding=1)\n",
        "    self.conv2 = nn.Conv2d(self.hidden_channels//2, self.output_channels, (3,3), stride=1, padding=1)\n",
        "\n",
        "    #self.conv3 = nn.Conv2d(self.hidden_channels//4, self.hidden_channels//8, (3,3), stride=1, padding=1)\n",
        "\n",
        "\n",
        "  def forward(self, z, cat, z_cat):\n",
        "    if not z_cat == error_tensor:\n",
        "      x = self.bn(F.leaky_relu(self.linear(torch.cat((z, cat, z_cat), axis=1)), negative_slope=LRELU_ALPHA))\n",
        "    else:\n",
        "      #x = self.bn(F.leaky_relu(self.linear(torch.cat((z, cat), axis=1)), negative_slope=LRELU_ALPHA))\n",
        "      x = self.bn(F.relu(self.linear(torch.cat((z, cat), axis=1))))\n",
        "    x = x.view(-1, self.hidden_channels, self.image_size // 4, self.image_size // 4)\n",
        "    x = F.interpolate(x, scale_factor=2)\n",
        "    # ITER 1:  x = self.bn2(F.leaky_relu(self.conv1(x), negative_slope=LRELU_ALPHA))\n",
        "    # ITER 2:  x = self.bn2(F.relu(self.conv1(x)))\n",
        "    # ITER 3:\n",
        "    x = F.relu(self.conv1(x))\n",
        "    x = F.interpolate(x, scale_factor=2)\n",
        "    x = torch.tanh(self.conv2(x))\n",
        "\n",
        "    return x"
      ],
      "execution_count": null,
      "outputs": []
    },
    {
      "cell_type": "code",
      "metadata": {
        "id": "mGjpOHp1HF8x"
      },
      "source": [
        "class Generator2(nn.Module):\n",
        "  def __init__(self, noise_dim=50, categorical_dim=10, categorical_noise_dim=30, image_size=20):\n",
        "    super(Generator, self).__init__()\n",
        "\n",
        "    self.noise_dim = noise_dim\n",
        "    self.categorical_dim = categorical_dim\n",
        "    self.categorical_noise_dim = categorical_noise_dim\n",
        "\n",
        "    self.image_size = image_size #size of one of the sides of the image (we are working with square images)\n",
        "    self.hidden_channels = 128 #channels of the first convolutional layer\n",
        "    self.output_channels = 1 #the images we work with are black & white\n",
        "\n",
        "    self.hidden_layer = self.hidden_channels * (self.image_size // 4) ** 2\n",
        "\n",
        "    self.linear = nn.Linear(self.noise_dim + self.categorical_dim + self.categorical_noise_dim, self.hidden_layer)\n",
        "    self.bn = nn.BatchNorm1d(self.hidden_layer)\n",
        "    self.bn2 = nn.BatchNorm2d(self.hidden_channels//2)\n",
        "    #self.upscale = F.upsample_bilinear(2)\n",
        "    #self.upscale = nn.PixelShuffle(upscale_factor=2) # Better than F.upsample_bilinear: training GANs means avoiding sparse gradients\n",
        "    self.conv1 = nn.Conv2d(self.hidden_channels, self.hidden_channels//2, (3,3), stride=1, padding=1)\n",
        "    self.conv2 = nn.Conv2d(self.hidden_channels//2, self.output_channels, (3,3), stride=1, padding=1)\n",
        "\n",
        "    #self.conv3 = nn.Conv2d(self.hidden_channels//4, self.hidden_channels//8, (3,3), stride=1, padding=1)\n",
        "\n",
        "\n",
        "  def forward(self, z, cat, z_cat):\n",
        "    if not z_cat == error_tensor:\n",
        "      x = self.bn(F.relu(self.linear(torch.cat((z, cat, z_cat), axis=1))))\n",
        "    else:\n",
        "      #x = self.bn(F.leaky_relu(self.linear(torch.cat((z, cat), axis=1)), negative_slope=LRELU_ALPHA))\n",
        "      x = self.bn(F.relu(self.linear(torch.cat((z, cat), axis=1))))\n",
        "    x = x.view(-1, self.hidden_channels, self.image_size // 4, self.image_size // 4)\n",
        "    x = F.interpolate(x, scale_factor=2)\n",
        "    # ITER 1:  x = self.bn2(F.leaky_relu(self.conv1(x), negative_slope=LRELU_ALPHA))\n",
        "    # ITER 2:  x = self.bn2(F.relu(self.conv1(x)))\n",
        "    # ITER 3:\n",
        "    x = F.relu(self.conv1(x))\n",
        "    x = F.interpolate(x, scale_factor=2)\n",
        "    x = torch.tanh(self.conv2(x))\n",
        "\n",
        "    return x"
      ],
      "execution_count": null,
      "outputs": []
    },
    {
      "cell_type": "code",
      "metadata": {
        "id": "EqGdW9FrjX9B"
      },
      "source": [
        "class Discriminator(nn.Module):\n",
        "  def __init__(self, noise_dim=50, categorical_dim=10, categorical_noise_dim=30, image_size=20):\n",
        "    super(Discriminator, self).__init__()\n",
        "\n",
        "    self.noise_dim = noise_dim\n",
        "    self.categorical_dim = categorical_dim\n",
        "    self.categorical_noise_dim = categorical_noise_dim\n",
        "\n",
        "    self.image_size = image_size #size of one of the sides of the image (we are working with square images)\n",
        "    self.hidden_channels = 128 #channels of the last convolutional layer\n",
        "    self.input_channels = 1 #the images we work with are black & white\n",
        "\n",
        "    self.hidden_layer = self.hidden_channels * (self.image_size // 4) ** 2\n",
        "\n",
        "    self.conv1 = nn.Conv2d(self.input_channels, self.hidden_channels//2, (3,3), stride=1, padding=1)\n",
        "    self.conv2 = nn.Conv2d(self.hidden_channels//2, self.hidden_channels, (3,3), stride=1, padding=1)\n",
        "\n",
        "    self.bn = nn.BatchNorm2d(self.hidden_channels//2)\n",
        "    self.bn2 = nn.BatchNorm2d(self.hidden_channels)\n",
        "    self.avgpool = nn.AvgPool2d(kernel_size=2)\n",
        "    self.flatten = nn.Flatten()\n",
        "\n",
        "    self.true_dense = nn.Linear(self.hidden_layer, 1)\n",
        "    self.cat_dense = nn.Linear(self.hidden_layer, self.categorical_dim)\n",
        "    if categorical_noise_dim > 0:\n",
        "      self.noise_dense = nn.Linear(self.hidden_layer, self.categorical_noise_dim)\n",
        "\n",
        "\n",
        "  def forward(self, x):\n",
        "    x = self.bn(self.avgpool(F.leaky_relu(self.conv1(x), negative_slope=LRELU_ALPHA)))\n",
        "    x = self.bn2(self.avgpool(F.leaky_relu(self.conv2(x), negative_slope=LRELU_ALPHA)))\n",
        "    x = self.flatten(x)\n",
        "    #true = F.sigmoid(self.true_dense(x))\n",
        "    true = torch.sigmoid(self.true_dense(x))\n",
        "    cat = F.softmax(self.cat_dense(x))\n",
        "    if self.categorical_noise_dim > 0:\n",
        "      cat_noise = self.noise_dense(x)\n",
        "    else:\n",
        "      cat_noise = error_tensor\n",
        "\n",
        "    return true, cat, cat_noise\n"
      ],
      "execution_count": null,
      "outputs": []
    },
    {
      "cell_type": "code",
      "metadata": {
        "id": "hxtYQTXifZeR"
      },
      "source": [
        "class Discriminator2(nn.Module):\n",
        "  def __init__(self, noise_dim=50, categorical_dim=10, categorical_noise_dim=30, image_size=20):\n",
        "    super(Discriminator, self).__init__()\n",
        "\n",
        "    self.noise_dim = noise_dim\n",
        "    self.categorical_dim = categorical_dim\n",
        "    self.categorical_noise_dim = categorical_noise_dim\n",
        "\n",
        "    self.image_size = image_size #size of one of the sides of the image (we are working with square images)\n",
        "    self.hidden_channels = 128 #channels of the last convolutional layer\n",
        "    self.input_channels = 1 #the images we work with are black & white\n",
        "\n",
        "    self.hidden_layer = self.hidden_channels * (self.image_size // 4) ** 2\n",
        "\n",
        "    self.conv1 = nn.Conv2d(self.input_channels, self.hidden_channels, (3,3), stride=1, padding=1)\n",
        "    #self.conv2 = nn.Conv2d(self.hidden_channels//2, self.hidden_channels, (3,3), stride=1, padding=1)\n",
        "\n",
        "    self.bn = nn.BatchNorm2d(self.hidden_channels)\n",
        "    #self.bn2 = nn.BatchNorm2d(self.hidden_channels)\n",
        "    self.avgpool = nn.AvgPool2d(kernel_size=4)\n",
        "    self.flatten = nn.Flatten()\n",
        "\n",
        "    self.true_dense = nn.Linear(self.hidden_layer, 1)\n",
        "    self.cat_dense = nn.Linear(self.hidden_layer, self.categorical_dim)\n",
        "    if categorical_noise_dim > 0:\n",
        "      self.noise_dense = nn.Linear(self.hidden_layer, self.categorical_noise_dim)\n",
        "\n",
        "\n",
        "  def forward(self, x):\n",
        "    x = self.bn(self.avgpool(F.leaky_relu(self.conv1(x), negative_slope=LRELU_ALPHA)))\n",
        "    #x = self.bn2(self.avgpool(F.leaky_relu(self.conv2(x), negative_slope=LRELU_ALPHA)))\n",
        "    x = self.flatten(x)\n",
        "    #true = F.sigmoid(self.true_dense(x))\n",
        "    true = torch.sigmoid(self.true_dense(x))\n",
        "    cat = F.softmax(self.cat_dense(x))\n",
        "    if self.categorical_noise_dim > 0:\n",
        "      cat_noise = self.noise_dense(x)\n",
        "    else:\n",
        "      cat_noise = error_tensor\n",
        "\n",
        "    return true, cat, cat_noise\n"
      ],
      "execution_count": null,
      "outputs": []
    },
    {
      "cell_type": "code",
      "metadata": {
        "id": "zw-GQzfVFULs"
      },
      "source": [
        "#Generation of the different datasets that we're going to send to the generator\n",
        "def generate_generator_data(batch_size, noise_dim=50, cat_dim=10, noise_cat_dim=30, same_class=True):\n",
        "\n",
        "  noise = torch.normal(mean=0, std=1, size=(batch_size, noise_dim))\n",
        "\n",
        "  #The categorical variable has to be one-hot encoded. This process does exactly that\n",
        "  cat = torch.zeros(size=(batch_size, cat_dim))\n",
        "  \n",
        "  #Generate all the data from the same class?\n",
        "  #TRUE\n",
        "  if same_class:\n",
        "    cat_result = torch.randint(low=0, high=cat_dim, size=(1,))\n",
        "    for i in range(batch_size):\n",
        "      cat[i, cat_result[0]] = 1\n",
        "  #FALSE\n",
        "  else:\n",
        "    cat_vector = torch.randint(low=0, high=cat_dim, size=(batch_size,))\n",
        "    for i in range(batch_size):\n",
        "      cat[i, cat_vector[i]] = 1\n",
        "\n",
        "  if noise_cat_dim > 0:\n",
        "    noise_cat = torch.normal(mean=0, std=1, size=(batch_size, noise_cat_dim))\n",
        "  else:\n",
        "    noise_cat = error_tensor\n",
        "\n",
        "  return noise, cat, noise_cat"
      ],
      "execution_count": null,
      "outputs": []
    },
    {
      "cell_type": "code",
      "metadata": {
        "id": "Z_dOcxBKx2yR"
      },
      "source": [
        "# Dummification in torch\n",
        "def torch_dummies(variable, dim):\n",
        "  cat = torch.zeros(size=(len(variable), dim))\n",
        "  for i in range(len(variable)):\n",
        "    cat[i, variable[i]] = 1\n",
        "  return cat"
      ],
      "execution_count": null,
      "outputs": []
    },
    {
      "cell_type": "code",
      "metadata": {
        "id": "hgGk2WhCLwWl"
      },
      "source": [
        "# MODEL SETUP (Gen, Discr, Loss, Optimizer)\n",
        "\n",
        "# After defining the generator and discriminator classes, we define the rest of elements\n",
        "# that are necessary for the training: loss functions and optimizers\n",
        "\n",
        "mse = nn.MSELoss()\n",
        "cross_entropy = nn.CrossEntropyLoss()\n",
        "\n",
        "mse, cross_entropy = mse.to(device), cross_entropy.to(device)\n",
        "\n",
        "# Functions for the calculation of the loss function\n",
        "def rand_ones_like(tensor):\n",
        "  return torch.rand_like(tensor)*0.2 + 0.9\n",
        "\n",
        "def rand_zeros_like(tensor):\n",
        "  return torch.rand_like(tensor)*0.2\n",
        "\n",
        "### Info-GAN ###\n",
        "if GAN_STYLE == 0:\n",
        "\n",
        "  lambda_cat = 1\n",
        "  lambda_con = 0.1\n",
        "\n",
        "  noise_dim = 50\n",
        "  cat_dim = 2\n",
        "  noise_cat_dim = 30\n",
        "\n",
        "  generator = Generator(noise_dim=noise_dim, categorical_dim=cat_dim, categorical_noise_dim=noise_cat_dim)\n",
        "  discriminator = Discriminator2(noise_dim=noise_dim, categorical_dim=cat_dim, categorical_noise_dim=noise_cat_dim)\n",
        "\n",
        "  generator = generator.to(device)\n",
        "  discriminator = discriminator.to(device)\n",
        "\n",
        "\n",
        "  # -- Definition for each of the losses\n",
        "  # Generator loss: MSE Loss\n",
        "  def gen_loss(pred):\n",
        "    #print(max(pred))\n",
        "    return mse(pred, rand_ones_like(pred))\n",
        "\n",
        "  # Discriminator loss: two batches of MSE loss: one for each batch (true images and )\n",
        "  def discr_loss(real_pred, fake_pred):\n",
        "    #print(max(real_pred), max(fake_pred))\n",
        "    real_loss = mse(real_pred, rand_ones_like(real_pred))\n",
        "    fake_loss = mse(fake_pred, rand_zeros_like(fake_pred))\n",
        "    return (real_loss + fake_loss) / 2\n",
        "\n",
        "  # Features loss: batch of noise and categories predicted by the discr.\n",
        "  #  noise is continuous (MSE loss) and categories are not (cross entropy loss)\n",
        "  def features_loss(cat_input, cat_pred, noise_input, noise_pred):\n",
        "    return lambda_cat * cross_entropy(cat_input, torch.argmax(cat_pred, axis=1)) + lambda_con * mse(noise_input, noise_pred)\n",
        "\n",
        "  # Optimizer definition\n",
        "  gen_optim = torch.optim.Adam(generator.parameters(), lr=0.001)\n",
        "  discr_optim = torch.optim.SGD(discriminator.parameters(), lr=0.001)\n",
        "  features_optim = torch.optim.Adam(chain(generator.parameters(), discriminator.parameters()))\n",
        "\n",
        "### AC-GAN ###\n",
        "elif GAN_STYLE == 1:\n",
        "\n",
        "  noise_dim = 80\n",
        "  cat_dim = 10\n",
        "  noise_cat_dim = 0 \n",
        "\n",
        "  generator = Generator(noise_dim=noise_dim, categorical_dim=cat_dim, categorical_noise_dim=noise_cat_dim)\n",
        "  discriminator = Discriminator(noise_dim=noise_dim, categorical_dim=cat_dim, categorical_noise_dim=noise_cat_dim)\n",
        "\n",
        "  generator = generator.to(device)\n",
        "  discriminator = discriminator.to(device)\n",
        "\n",
        "  # -- Definition for each of the losses\n",
        "  # Generator loss: MSE Loss\n",
        "  def gen_loss(pred, cat_input, cat_pred):\n",
        "    #return 0.5 * (mse(pred, rand_ones_like(pred)) + cross_entropy(cat_input, torch.argmax(cat_pred, axis=1))/2.5)\n",
        "    return (mse(pred, rand_ones_like(pred)))\n",
        "\n",
        "  # Discriminator loss: two batches of MSE loss: one for each batch (true images and )\n",
        "  def discr_loss(real_pred, fake_pred, real_cat_input, real_cat_labels, fake_cat_input, fake_cat_labels):\n",
        "    #print(real_cat_input.shape, real_cat_labels.shape)\n",
        "    #print(real_cat_input[0,:], real_cat_labels[0,:])\n",
        "    #real_loss = 0.5 * (mse(real_pred, rand_ones_like(real_pred)) + cross_entropy(real_cat_input, torch.argmax(real_cat_labels, axis=1))/2.5)\n",
        "    #fake_loss = 0.5 * (mse(fake_pred, rand_zeros_like(fake_pred)) + cross_entropy(fake_cat_input, torch.argmax(fake_cat_labels, axis=1))/2.5)\n",
        "    real_loss = (mse(real_pred, rand_ones_like(real_pred)))\n",
        "    fake_loss = (mse(fake_pred, rand_zeros_like(fake_pred)))\n",
        "\n",
        "    return (real_loss + fake_loss) / 2\n",
        "\n",
        "  # Optimizer definition\n",
        "  gen_optim = torch.optim.Adam(generator.parameters(), lr=LR_G)\n",
        "  #discr_optim = torch.optim.SGD(discriminator.parameters(), lr=LR_D)\n",
        "  discr_optim = torch.optim.Adam(discriminator.parameters(), lr=LR_D)"
      ],
      "execution_count": null,
      "outputs": []
    },
    {
      "cell_type": "code",
      "metadata": {
        "id": "Rifj4u5v3ack"
      },
      "source": [
        "# Noise in images\r\n",
        "def noisy_image(image_batch, epsilon):\r\n",
        "  #In this problem, images are normalised in the [-1, 1] range\r\n",
        "  noise = torch.rand_like(image_batch) * epsilon\r\n",
        "  noisy_image_batch = torch.clamp(image_batch + noise, min=-1, max=1)\r\n",
        "  return noisy_image_batch"
      ],
      "execution_count": null,
      "outputs": []
    },
    {
      "cell_type": "code",
      "metadata": {
        "id": "WVJR7zG0TZCV"
      },
      "source": [
        "# Noise strength decay\r\n",
        "def epsilon_decay(epoch, epsilon_decay_factor):\r\n",
        "  return epsilon_decay_factor / (epoch + 1)\r\n"
      ],
      "execution_count": null,
      "outputs": []
    },
    {
      "cell_type": "code",
      "metadata": {
        "id": "tmww8RUaQKim",
        "colab": {
          "base_uri": "https://localhost:8080/",
          "height": 722
        },
        "outputId": "66f94210-ac5b-4013-c3ad-b8e269ca9723"
      },
      "source": [
        "from IPython.display import clear_output\n",
        "\n",
        "# --------\n",
        "# TRAINING\n",
        "# --------\n",
        "\n",
        "n_epochs = 5000\n",
        "dataloader = numbers_loader\n",
        "\n",
        "#images that we're going to use to see the performance of the Generator\n",
        "# at different epochs\n",
        "data_show = 12\n",
        "check_noise, check_cat, check_noise_cat = generate_generator_data(data_show, noise_dim=noise_dim, cat_dim=cat_dim, noise_cat_dim=noise_cat_dim, same_class=False)\n",
        "check_noise, check_cat, check_noise_cat = check_noise.to(device), check_cat.to(device), check_noise_cat.to(device)\n",
        "\n",
        "# We set up these variables that are designed for plotting\n",
        "gen_loss_acum = []\n",
        "discr_loss_acum = []\n",
        "features_loss_acum = []\n",
        "\n",
        "# This training is only performed on the numbers dataset\n",
        "\n",
        "for epoch in range(n_epochs):\n",
        "\n",
        "  gen_loss_epoch = 0\n",
        "  discr_loss_epoch = 0\n",
        "  features_loss_epoch = 0\n",
        "\n",
        "  for batch_idx, (real_img_batch, real_img_label) in enumerate(dataloader):\n",
        "\n",
        "    #print(real_img_label.shape, real_img_label)\n",
        "    real_img_batch = real_img_batch.to(device)\n",
        "    real_img_label = torch_dummies(real_img_label, cat_dim).to(device)\n",
        "    \n",
        "    #real_img_real_img_batch.type(torch.cuda.FloatTensor)\n",
        "\n",
        "    ## ------------------\n",
        "    ## GENERATOR TRAINING\n",
        "    ## ------------------\n",
        "    \n",
        "    gen_optim.zero_grad()\n",
        "    #if GAN_STYLE == 0: #InfoGAN\n",
        "    noise, cat, noise_cat = generate_generator_data(BATCH_SIZE, noise_dim, cat_dim, noise_cat_dim)\n",
        "    noise, cat, noise_cat = noise.to(device), cat.to(device), noise_cat.to(device)\n",
        "    #elif GAN_STYLE == 1: #AC-GAN\n",
        "    img_batch = generator(noise, cat, noise_cat)\n",
        "    img_batch = img_batch.to(device)\n",
        "    #plt.figure()\n",
        "    #ax = plt.subplot(2, 1, 1)\n",
        "    #plt.imshow(img_batch[0][0,:,:].cpu().detach().numpy())\n",
        "    with torch.no_grad():\n",
        "      img_batch = noisy_image(img_batch, epsilon_decay(epoch, EPSILON)) ##NOISE\n",
        "    #ax = plt.subplot(2, 1, 2)\n",
        "    #plt.imshow(img_batch[0][0,:,:].cpu().detach().numpy())\n",
        "    #plt.show()\n",
        "    veracity, cat_pred, _ = discriminator(img_batch)\n",
        "    veracity, cat_pred = veracity.to(device), cat_pred.to(device)\n",
        "    if GAN_STYLE == 0: #InfoGAN\n",
        "      generator_loss = gen_loss(veracity)\n",
        "    elif GAN_STYLE == 1: #AC-GAN\n",
        "      generator_loss = gen_loss(veracity, cat, cat_pred)\n",
        "    generator_loss.backward()\n",
        "    gen_optim.step()\n",
        "\n",
        "\n",
        "    ## ----------------------\n",
        "    ## DISCRIMINATOR TRAINING\n",
        "    ## ----------------------\n",
        "    if batch_idx % GEN_PER_DISCR == 0:\n",
        "      discr_optim.zero_grad()\n",
        "\n",
        "      # First, we send a batch that has been created from the generator\n",
        "      noise, cat, noise_cat = generate_generator_data(BATCH_SIZE, noise_dim, cat_dim, noise_cat_dim)\n",
        "      noise, cat, noise_cat = noise.to(device), cat.to(device), noise_cat.to(device)\n",
        "      img_batch = generator(noise, cat, noise_cat).detach()\n",
        "      img_batch = img_batch.to(device)\n",
        "      with torch.no_grad():\n",
        "        img_batch = noisy_image(img_batch, epsilon_decay(epoch, EPSILON)) ##NOISE\n",
        "      veracity_gen, cat_gen, _ = discriminator(img_batch)\n",
        "\n",
        "      # Then, we send a batch from the real images\n",
        "      real_img_batch = real_img_batch.type(torch.cuda.FloatTensor)\n",
        "      with torch.no_grad():\n",
        "        real_img_batch = noisy_image(real_img_batch, epsilon_decay(epoch, EPSILON)) ##NOISE\n",
        "      veracity_real, cat_real_pred, _ = discriminator(real_img_batch)\n",
        "\n",
        "      # We calculate the loss and apply backpropagation\n",
        "      #print(noise_cat.shape, cat_gen.shape)\n",
        "      discriminator_loss = discr_loss(veracity_real, veracity_gen, real_img_label, cat_real_pred, cat, cat_gen)\n",
        "      discriminator_loss.backward()\n",
        "      discr_optim.step()\n",
        "\n",
        "\n",
        "    ## ----------------\n",
        "    ## FEATURE TRAINING\n",
        "    ## ----------------\n",
        "\n",
        "    if GAN_STYLE == 0: #InfoGAN\n",
        "      features_optim.zero_grad()\n",
        "\n",
        "      noise, cat, noise_cat = generate_generator_data(BATCH_SIZE, noise_dim, cat_dim, noise_cat_dim)\n",
        "      noise, cat, noise_cat = noise.to(device), cat.to(device), noise_cat.to(device)\n",
        "      img_batch = generator(noise, cat, noise_cat)\n",
        "      img_batch = img_batch.to(device)\n",
        "      _, cat_pred, noise_cat_pred = discriminator(img_batch)\n",
        "      loss = features_loss(cat, cat_pred, noise_cat, noise_cat_pred)\n",
        "      loss.backward()\n",
        "      features_optim.step()\n",
        "\n",
        "    #print(generator_loss, generator_loss.item(), gen_loss_epoch + generator_loss.item())\n",
        "\n",
        "    gen_loss_epoch = gen_loss_epoch + generator_loss.item()\n",
        "    discr_loss_epoch = discr_loss_epoch + discriminator_loss.item()\n",
        "    if GAN_STYLE == 0: #InfoGAN\n",
        "      features_loss_epoch = features_loss_epoch + loss.item()\n",
        "\n",
        "\n",
        "    #END OF BATCH TEXT\n",
        "    if batch_idx % 300 == 0:\n",
        "      print(\n",
        "          f'Train Epoch: {epoch+1}/{n_epochs} [{batch_idx*len(real_img_batch)}/{len(dataloader.dataset)} ({round(100. * batch_idx / len(dataloader), 1)}%)]')\n",
        "      #print(generator_loss, discriminator_loss, gen_loss_epoch, discr_loss_epoch)\n",
        "\n",
        "  # LOSS PLOT\n",
        "  with torch.no_grad():\n",
        "    gen_loss_epoch = gen_loss_epoch / (batch_idx+1)\n",
        "    discr_loss_epoch = discr_loss_epoch / (batch_idx+1)\n",
        "    if GAN_STYLE == 0: #InfoGAN\n",
        "      features_loss_epoch = features_loss_epoch / (batch_idx+1)\n",
        "    #gen_loss_acum.append(gen_loss_epoch.detach())\n",
        "    #discr_loss_acum.append(discr_loss_epoch.detach())\n",
        "    gen_loss_acum.append(gen_loss_epoch)\n",
        "    discr_loss_acum.append(discr_loss_epoch)\n",
        "    if GAN_STYLE == 0: #InfoGAN\n",
        "      #features_loss_acum.append(features_loss_epoch.detach())\n",
        "      features_loss_acum.append(features_loss_epoch)\n",
        "\n",
        "  clear_output(wait=True)\n",
        "  print('GENERATOR loss: ',gen_loss_epoch, '\\nDISCRIMINATOR loss: ', discr_loss_epoch)\n",
        "  if GAN_STYLE == 0: #InfoGAN\n",
        "    plt.figure(figsize=(12,12))\n",
        "    ax = plt.subplot(2, 1, 1)\n",
        "    plt.plot(gen_loss_acum, 'r')\n",
        "    plt.plot(discr_loss_acum, 'g')\n",
        "    plt.subplot(2, 1, 2)\n",
        "    plt.plot(features_loss_acum, 'b')\n",
        "    plt.show()\n",
        "  elif GAN_STYLE == 1: #AC_GAN\n",
        "    plt.figure(figsize=(12,6))\n",
        "    axes = plt.gca()\n",
        "    axes.set_ylim([0,1])\n",
        "    plt.plot(gen_loss_acum, 'r')\n",
        "    plt.plot(discr_loss_acum, 'g')\n",
        "    plt.show()\n",
        "\n",
        "  # SHOW THE GENERATOR'S INNER WORKINGS\n",
        "  #data_show = 6\n",
        "  #noise, cat, noise_cat = generate_generator_data(data_show, noise_cat_dim=0)\n",
        "  #noise, cat, noise_cat = noise.to(device), cat.to(device), noise_cat.to(device)\n",
        "  img_batch = generator(check_noise, check_cat, check_noise_cat)\n",
        "  plt.figure(figsize=(4,4))\n",
        "  for i in range(data_show):\n",
        "    plt.subplot(data_show // 3, 3, i+1)\n",
        "    plt.imshow(img_batch[i,0,:,:].cpu().detach().numpy())\n",
        "  \n",
        "\n",
        "  ##GENERAR EL MISMO RUIDO AL PRINCIPIO DEL ENTRENAMIENTO PARA LOS PLOTS DEL GENERADOR\n",
        "  # ASÍ SE VE LA EVOLUCIÓN DE LAS MIMSAS MUESTRAS DE RUIDO"
      ],
      "execution_count": null,
      "outputs": [
        {
          "output_type": "stream",
          "text": [
            "GENERATOR loss:  0.8199993212651547 \n",
            "DISCRIMINATOR loss:  0.0035612721860940966\n"
          ],
          "name": "stdout"
        },
        {
          "output_type": "display_data",
          "data": {
            "image/png": "[encoded data removed]",
            "text/plain": [
              "<Figure size 288x288 with 12 Axes>"
            ]
          },
          "metadata": {
            "tags": [],
            "needs_background": "light"
          }
        },
        {
          "output_type": "error",
          "ename": "KeyboardInterrupt",
          "evalue": "ignored",
          "traceback": [
            "\u001b[0;31m---------------------------------------------------------------------------\u001b[0m",
            "\u001b[0;31mKeyboardInterrupt\u001b[0m                         Traceback (most recent call last)",
            "\u001b[0;32m<ipython-input-66-661a8da30632>\u001b[0m in \u001b[0;36m<module>\u001b[0;34m()\u001b[0m\n\u001b[1;32m    152\u001b[0m     \u001b[0mplt\u001b[0m\u001b[0;34m.\u001b[0m\u001b[0mplot\u001b[0m\u001b[0;34m(\u001b[0m\u001b[0mgen_loss_acum\u001b[0m\u001b[0;34m,\u001b[0m \u001b[0;34m'r'\u001b[0m\u001b[0;34m)\u001b[0m\u001b[0;34m\u001b[0m\u001b[0;34m\u001b[0m\u001b[0m\n\u001b[1;32m    153\u001b[0m     \u001b[0mplt\u001b[0m\u001b[0;34m.\u001b[0m\u001b[0mplot\u001b[0m\u001b[0;34m(\u001b[0m\u001b[0mdiscr_loss_acum\u001b[0m\u001b[0;34m,\u001b[0m \u001b[0;34m'g'\u001b[0m\u001b[0;34m)\u001b[0m\u001b[0;34m\u001b[0m\u001b[0;34m\u001b[0m\u001b[0m\n\u001b[0;32m--> 154\u001b[0;31m     \u001b[0mplt\u001b[0m\u001b[0;34m.\u001b[0m\u001b[0mshow\u001b[0m\u001b[0;34m(\u001b[0m\u001b[0;34m)\u001b[0m\u001b[0;34m\u001b[0m\u001b[0;34m\u001b[0m\u001b[0m\n\u001b[0m\u001b[1;32m    155\u001b[0m \u001b[0;34m\u001b[0m\u001b[0m\n\u001b[1;32m    156\u001b[0m   \u001b[0;31m# SHOW THE GENERATOR'S INNER WORKINGS\u001b[0m\u001b[0;34m\u001b[0m\u001b[0;34m\u001b[0m\u001b[0;34m\u001b[0m\u001b[0m\n",
            "\u001b[0;32m/usr/local/lib/python3.7/dist-packages/matplotlib/pyplot.py\u001b[0m in \u001b[0;36mshow\u001b[0;34m(*args, **kw)\u001b[0m\n\u001b[1;32m    270\u001b[0m     \"\"\"\n\u001b[1;32m    271\u001b[0m     \u001b[0;32mglobal\u001b[0m \u001b[0m_show\u001b[0m\u001b[0;34m\u001b[0m\u001b[0;34m\u001b[0m\u001b[0m\n\u001b[0;32m--> 272\u001b[0;31m     \u001b[0;32mreturn\u001b[0m \u001b[0m_show\u001b[0m\u001b[0;34m(\u001b[0m\u001b[0;34m*\u001b[0m\u001b[0margs\u001b[0m\u001b[0;34m,\u001b[0m \u001b[0;34m**\u001b[0m\u001b[0mkw\u001b[0m\u001b[0;34m)\u001b[0m\u001b[0;34m\u001b[0m\u001b[0;34m\u001b[0m\u001b[0m\n\u001b[0m\u001b[1;32m    273\u001b[0m \u001b[0;34m\u001b[0m\u001b[0m\n\u001b[1;32m    274\u001b[0m \u001b[0;34m\u001b[0m\u001b[0m\n",
            "\u001b[0;32m/usr/local/lib/python3.7/dist-packages/ipykernel/pylab/backend_inline.py\u001b[0m in \u001b[0;36mshow\u001b[0;34m(close, block)\u001b[0m\n\u001b[1;32m     37\u001b[0m             display(\n\u001b[1;32m     38\u001b[0m                 \u001b[0mfigure_manager\u001b[0m\u001b[0;34m.\u001b[0m\u001b[0mcanvas\u001b[0m\u001b[0;34m.\u001b[0m\u001b[0mfigure\u001b[0m\u001b[0;34m,\u001b[0m\u001b[0;34m\u001b[0m\u001b[0;34m\u001b[0m\u001b[0m\n\u001b[0;32m---> 39\u001b[0;31m                 \u001b[0mmetadata\u001b[0m\u001b[0;34m=\u001b[0m\u001b[0m_fetch_figure_metadata\u001b[0m\u001b[0;34m(\u001b[0m\u001b[0mfigure_manager\u001b[0m\u001b[0;34m.\u001b[0m\u001b[0mcanvas\u001b[0m\u001b[0;34m.\u001b[0m\u001b[0mfigure\u001b[0m\u001b[0;34m)\u001b[0m\u001b[0;34m\u001b[0m\u001b[0;34m\u001b[0m\u001b[0m\n\u001b[0m\u001b[1;32m     40\u001b[0m             )\n\u001b[1;32m     41\u001b[0m     \u001b[0;32mfinally\u001b[0m\u001b[0;34m:\u001b[0m\u001b[0;34m\u001b[0m\u001b[0;34m\u001b[0m\u001b[0m\n",
            "\u001b[0;32m/usr/local/lib/python3.7/dist-packages/IPython/core/display.py\u001b[0m in \u001b[0;36mdisplay\u001b[0;34m(*objs, **kwargs)\u001b[0m\n\u001b[1;32m    304\u001b[0m             \u001b[0mpublish_display_data\u001b[0m\u001b[0;34m(\u001b[0m\u001b[0mdata\u001b[0m\u001b[0;34m=\u001b[0m\u001b[0mobj\u001b[0m\u001b[0;34m,\u001b[0m \u001b[0mmetadata\u001b[0m\u001b[0;34m=\u001b[0m\u001b[0mmetadata\u001b[0m\u001b[0;34m,\u001b[0m \u001b[0;34m**\u001b[0m\u001b[0mkwargs\u001b[0m\u001b[0;34m)\u001b[0m\u001b[0;34m\u001b[0m\u001b[0;34m\u001b[0m\u001b[0m\n\u001b[1;32m    305\u001b[0m         \u001b[0;32melse\u001b[0m\u001b[0;34m:\u001b[0m\u001b[0;34m\u001b[0m\u001b[0;34m\u001b[0m\u001b[0m\n\u001b[0;32m--> 306\u001b[0;31m             \u001b[0mformat_dict\u001b[0m\u001b[0;34m,\u001b[0m \u001b[0mmd_dict\u001b[0m \u001b[0;34m=\u001b[0m \u001b[0mformat\u001b[0m\u001b[0;34m(\u001b[0m\u001b[0mobj\u001b[0m\u001b[0;34m,\u001b[0m \u001b[0minclude\u001b[0m\u001b[0;34m=\u001b[0m\u001b[0minclude\u001b[0m\u001b[0;34m,\u001b[0m \u001b[0mexclude\u001b[0m\u001b[0;34m=\u001b[0m\u001b[0mexclude\u001b[0m\u001b[0;34m)\u001b[0m\u001b[0;34m\u001b[0m\u001b[0;34m\u001b[0m\u001b[0m\n\u001b[0m\u001b[1;32m    307\u001b[0m             \u001b[0;32mif\u001b[0m \u001b[0;32mnot\u001b[0m \u001b[0mformat_dict\u001b[0m\u001b[0;34m:\u001b[0m\u001b[0;34m\u001b[0m\u001b[0;34m\u001b[0m\u001b[0m\n\u001b[1;32m    308\u001b[0m                 \u001b[0;31m# nothing to display (e.g. _ipython_display_ took over)\u001b[0m\u001b[0;34m\u001b[0m\u001b[0;34m\u001b[0m\u001b[0;34m\u001b[0m\u001b[0m\n",
            "\u001b[0;32m/usr/local/lib/python3.7/dist-packages/IPython/core/formatters.py\u001b[0m in \u001b[0;36mformat\u001b[0;34m(self, obj, include, exclude)\u001b[0m\n\u001b[1;32m    171\u001b[0m             \u001b[0mmd\u001b[0m \u001b[0;34m=\u001b[0m \u001b[0;32mNone\u001b[0m\u001b[0;34m\u001b[0m\u001b[0;34m\u001b[0m\u001b[0m\n\u001b[1;32m    172\u001b[0m             \u001b[0;32mtry\u001b[0m\u001b[0;34m:\u001b[0m\u001b[0;34m\u001b[0m\u001b[0;34m\u001b[0m\u001b[0m\n\u001b[0;32m--> 173\u001b[0;31m                 \u001b[0mdata\u001b[0m \u001b[0;34m=\u001b[0m \u001b[0mformatter\u001b[0m\u001b[0;34m(\u001b[0m\u001b[0mobj\u001b[0m\u001b[0;34m)\u001b[0m\u001b[0;34m\u001b[0m\u001b[0;34m\u001b[0m\u001b[0m\n\u001b[0m\u001b[1;32m    174\u001b[0m             \u001b[0;32mexcept\u001b[0m\u001b[0;34m:\u001b[0m\u001b[0;34m\u001b[0m\u001b[0;34m\u001b[0m\u001b[0m\n\u001b[1;32m    175\u001b[0m                 \u001b[0;31m# FIXME: log the exception\u001b[0m\u001b[0;34m\u001b[0m\u001b[0;34m\u001b[0m\u001b[0;34m\u001b[0m\u001b[0m\n",
            "\u001b[0;32m<decorator-gen-2>\u001b[0m in \u001b[0;36m__call__\u001b[0;34m(self, obj)\u001b[0m\n",
            "\u001b[0;32m/usr/local/lib/python3.7/dist-packages/IPython/core/formatters.py\u001b[0m in \u001b[0;36mcatch_format_error\u001b[0;34m(method, self, *args, **kwargs)\u001b[0m\n\u001b[1;32m    215\u001b[0m     \u001b[0;34m\"\"\"show traceback on failed format call\"\"\"\u001b[0m\u001b[0;34m\u001b[0m\u001b[0;34m\u001b[0m\u001b[0m\n\u001b[1;32m    216\u001b[0m     \u001b[0;32mtry\u001b[0m\u001b[0;34m:\u001b[0m\u001b[0;34m\u001b[0m\u001b[0;34m\u001b[0m\u001b[0m\n\u001b[0;32m--> 217\u001b[0;31m         \u001b[0mr\u001b[0m \u001b[0;34m=\u001b[0m \u001b[0mmethod\u001b[0m\u001b[0;34m(\u001b[0m\u001b[0mself\u001b[0m\u001b[0;34m,\u001b[0m \u001b[0;34m*\u001b[0m\u001b[0margs\u001b[0m\u001b[0;34m,\u001b[0m \u001b[0;34m**\u001b[0m\u001b[0mkwargs\u001b[0m\u001b[0;34m)\u001b[0m\u001b[0;34m\u001b[0m\u001b[0;34m\u001b[0m\u001b[0m\n\u001b[0m\u001b[1;32m    218\u001b[0m     \u001b[0;32mexcept\u001b[0m \u001b[0mNotImplementedError\u001b[0m\u001b[0;34m:\u001b[0m\u001b[0;34m\u001b[0m\u001b[0;34m\u001b[0m\u001b[0m\n\u001b[1;32m    219\u001b[0m         \u001b[0;31m# don't warn on NotImplementedErrors\u001b[0m\u001b[0;34m\u001b[0m\u001b[0;34m\u001b[0m\u001b[0;34m\u001b[0m\u001b[0m\n",
            "\u001b[0;32m/usr/local/lib/python3.7/dist-packages/IPython/core/formatters.py\u001b[0m in \u001b[0;36m__call__\u001b[0;34m(self, obj)\u001b[0m\n\u001b[1;32m    332\u001b[0m                 \u001b[0;32mpass\u001b[0m\u001b[0;34m\u001b[0m\u001b[0;34m\u001b[0m\u001b[0m\n\u001b[1;32m    333\u001b[0m             \u001b[0;32melse\u001b[0m\u001b[0;34m:\u001b[0m\u001b[0;34m\u001b[0m\u001b[0;34m\u001b[0m\u001b[0m\n\u001b[0;32m--> 334\u001b[0;31m                 \u001b[0;32mreturn\u001b[0m \u001b[0mprinter\u001b[0m\u001b[0;34m(\u001b[0m\u001b[0mobj\u001b[0m\u001b[0;34m)\u001b[0m\u001b[0;34m\u001b[0m\u001b[0;34m\u001b[0m\u001b[0m\n\u001b[0m\u001b[1;32m    335\u001b[0m             \u001b[0;31m# Finally look for special method names\u001b[0m\u001b[0;34m\u001b[0m\u001b[0;34m\u001b[0m\u001b[0;34m\u001b[0m\u001b[0m\n\u001b[1;32m    336\u001b[0m             \u001b[0mmethod\u001b[0m \u001b[0;34m=\u001b[0m \u001b[0mget_real_method\u001b[0m\u001b[0;34m(\u001b[0m\u001b[0mobj\u001b[0m\u001b[0;34m,\u001b[0m \u001b[0mself\u001b[0m\u001b[0;34m.\u001b[0m\u001b[0mprint_method\u001b[0m\u001b[0;34m)\u001b[0m\u001b[0;34m\u001b[0m\u001b[0;34m\u001b[0m\u001b[0m\n",
            "\u001b[0;32m/usr/local/lib/python3.7/dist-packages/IPython/core/pylabtools.py\u001b[0m in \u001b[0;36m<lambda>\u001b[0;34m(fig)\u001b[0m\n\u001b[1;32m    239\u001b[0m \u001b[0;34m\u001b[0m\u001b[0m\n\u001b[1;32m    240\u001b[0m     \u001b[0;32mif\u001b[0m \u001b[0;34m'png'\u001b[0m \u001b[0;32min\u001b[0m \u001b[0mformats\u001b[0m\u001b[0;34m:\u001b[0m\u001b[0;34m\u001b[0m\u001b[0;34m\u001b[0m\u001b[0m\n\u001b[0;32m--> 241\u001b[0;31m         \u001b[0mpng_formatter\u001b[0m\u001b[0;34m.\u001b[0m\u001b[0mfor_type\u001b[0m\u001b[0;34m(\u001b[0m\u001b[0mFigure\u001b[0m\u001b[0;34m,\u001b[0m \u001b[0;32mlambda\u001b[0m \u001b[0mfig\u001b[0m\u001b[0;34m:\u001b[0m \u001b[0mprint_figure\u001b[0m\u001b[0;34m(\u001b[0m\u001b[0mfig\u001b[0m\u001b[0;34m,\u001b[0m \u001b[0;34m'png'\u001b[0m\u001b[0;34m,\u001b[0m \u001b[0;34m**\u001b[0m\u001b[0mkwargs\u001b[0m\u001b[0;34m)\u001b[0m\u001b[0;34m)\u001b[0m\u001b[0;34m\u001b[0m\u001b[0;34m\u001b[0m\u001b[0m\n\u001b[0m\u001b[1;32m    242\u001b[0m     \u001b[0;32mif\u001b[0m \u001b[0;34m'retina'\u001b[0m \u001b[0;32min\u001b[0m \u001b[0mformats\u001b[0m \u001b[0;32mor\u001b[0m \u001b[0;34m'png2x'\u001b[0m \u001b[0;32min\u001b[0m \u001b[0mformats\u001b[0m\u001b[0;34m:\u001b[0m\u001b[0;34m\u001b[0m\u001b[0;34m\u001b[0m\u001b[0m\n\u001b[1;32m    243\u001b[0m         \u001b[0mpng_formatter\u001b[0m\u001b[0;34m.\u001b[0m\u001b[0mfor_type\u001b[0m\u001b[0;34m(\u001b[0m\u001b[0mFigure\u001b[0m\u001b[0;34m,\u001b[0m \u001b[0;32mlambda\u001b[0m \u001b[0mfig\u001b[0m\u001b[0;34m:\u001b[0m \u001b[0mretina_figure\u001b[0m\u001b[0;34m(\u001b[0m\u001b[0mfig\u001b[0m\u001b[0;34m,\u001b[0m \u001b[0;34m**\u001b[0m\u001b[0mkwargs\u001b[0m\u001b[0;34m)\u001b[0m\u001b[0;34m)\u001b[0m\u001b[0;34m\u001b[0m\u001b[0;34m\u001b[0m\u001b[0m\n",
            "\u001b[0;32m/usr/local/lib/python3.7/dist-packages/IPython/core/pylabtools.py\u001b[0m in \u001b[0;36mprint_figure\u001b[0;34m(fig, fmt, bbox_inches, **kwargs)\u001b[0m\n\u001b[1;32m    123\u001b[0m \u001b[0;34m\u001b[0m\u001b[0m\n\u001b[1;32m    124\u001b[0m     \u001b[0mbytes_io\u001b[0m \u001b[0;34m=\u001b[0m \u001b[0mBytesIO\u001b[0m\u001b[0;34m(\u001b[0m\u001b[0;34m)\u001b[0m\u001b[0;34m\u001b[0m\u001b[0;34m\u001b[0m\u001b[0m\n\u001b[0;32m--> 125\u001b[0;31m     \u001b[0mfig\u001b[0m\u001b[0;34m.\u001b[0m\u001b[0mcanvas\u001b[0m\u001b[0;34m.\u001b[0m\u001b[0mprint_figure\u001b[0m\u001b[0;34m(\u001b[0m\u001b[0mbytes_io\u001b[0m\u001b[0;34m,\u001b[0m \u001b[0;34m**\u001b[0m\u001b[0mkw\u001b[0m\u001b[0;34m)\u001b[0m\u001b[0;34m\u001b[0m\u001b[0;34m\u001b[0m\u001b[0m\n\u001b[0m\u001b[1;32m    126\u001b[0m     \u001b[0mdata\u001b[0m \u001b[0;34m=\u001b[0m \u001b[0mbytes_io\u001b[0m\u001b[0;34m.\u001b[0m\u001b[0mgetvalue\u001b[0m\u001b[0;34m(\u001b[0m\u001b[0;34m)\u001b[0m\u001b[0;34m\u001b[0m\u001b[0;34m\u001b[0m\u001b[0m\n\u001b[1;32m    127\u001b[0m     \u001b[0;32mif\u001b[0m \u001b[0mfmt\u001b[0m \u001b[0;34m==\u001b[0m \u001b[0;34m'svg'\u001b[0m\u001b[0;34m:\u001b[0m\u001b[0;34m\u001b[0m\u001b[0;34m\u001b[0m\u001b[0m\n",
            "\u001b[0;32m/usr/local/lib/python3.7/dist-packages/matplotlib/backend_bases.py\u001b[0m in \u001b[0;36mprint_figure\u001b[0;34m(self, filename, dpi, facecolor, edgecolor, orientation, format, bbox_inches, **kwargs)\u001b[0m\n\u001b[1;32m   2101\u001b[0m                     \u001b[0mbbox_artists\u001b[0m \u001b[0;34m=\u001b[0m \u001b[0mkwargs\u001b[0m\u001b[0;34m.\u001b[0m\u001b[0mpop\u001b[0m\u001b[0;34m(\u001b[0m\u001b[0;34m\"bbox_extra_artists\"\u001b[0m\u001b[0;34m,\u001b[0m \u001b[0;32mNone\u001b[0m\u001b[0;34m)\u001b[0m\u001b[0;34m\u001b[0m\u001b[0;34m\u001b[0m\u001b[0m\n\u001b[1;32m   2102\u001b[0m                     bbox_inches = self.figure.get_tightbbox(renderer,\n\u001b[0;32m-> 2103\u001b[0;31m                             bbox_extra_artists=bbox_artists)\n\u001b[0m\u001b[1;32m   2104\u001b[0m                     \u001b[0mpad\u001b[0m \u001b[0;34m=\u001b[0m \u001b[0mkwargs\u001b[0m\u001b[0;34m.\u001b[0m\u001b[0mpop\u001b[0m\u001b[0;34m(\u001b[0m\u001b[0;34m\"pad_inches\"\u001b[0m\u001b[0;34m,\u001b[0m \u001b[0;32mNone\u001b[0m\u001b[0;34m)\u001b[0m\u001b[0;34m\u001b[0m\u001b[0;34m\u001b[0m\u001b[0m\n\u001b[1;32m   2105\u001b[0m                     \u001b[0;32mif\u001b[0m \u001b[0mpad\u001b[0m \u001b[0;32mis\u001b[0m \u001b[0;32mNone\u001b[0m\u001b[0;34m:\u001b[0m\u001b[0;34m\u001b[0m\u001b[0;34m\u001b[0m\u001b[0m\n",
            "\u001b[0;32m/usr/local/lib/python3.7/dist-packages/matplotlib/figure.py\u001b[0m in \u001b[0;36mget_tightbbox\u001b[0;34m(self, renderer, bbox_extra_artists)\u001b[0m\n\u001b[1;32m   2393\u001b[0m                 \u001b[0;32mtry\u001b[0m\u001b[0;34m:\u001b[0m\u001b[0;34m\u001b[0m\u001b[0;34m\u001b[0m\u001b[0m\n\u001b[1;32m   2394\u001b[0m                     bbox = ax.get_tightbbox(renderer,\n\u001b[0;32m-> 2395\u001b[0;31m                             bbox_extra_artists=bbox_extra_artists)\n\u001b[0m\u001b[1;32m   2396\u001b[0m                 \u001b[0;32mexcept\u001b[0m \u001b[0mTypeError\u001b[0m\u001b[0;34m:\u001b[0m\u001b[0;34m\u001b[0m\u001b[0;34m\u001b[0m\u001b[0m\n\u001b[1;32m   2397\u001b[0m                     \u001b[0mbbox\u001b[0m \u001b[0;34m=\u001b[0m \u001b[0max\u001b[0m\u001b[0;34m.\u001b[0m\u001b[0mget_tightbbox\u001b[0m\u001b[0;34m(\u001b[0m\u001b[0mrenderer\u001b[0m\u001b[0;34m)\u001b[0m\u001b[0;34m\u001b[0m\u001b[0;34m\u001b[0m\u001b[0m\n",
            "\u001b[0;32m/usr/local/lib/python3.7/dist-packages/matplotlib/axes/_base.py\u001b[0m in \u001b[0;36mget_tightbbox\u001b[0;34m(self, renderer, call_axes_locator, bbox_extra_artists)\u001b[0m\n\u001b[1;32m   4354\u001b[0m             \u001b[0;32mif\u001b[0m \u001b[0mclip_extent\u001b[0m \u001b[0;32mis\u001b[0m \u001b[0;32mnot\u001b[0m \u001b[0;32mNone\u001b[0m\u001b[0;34m:\u001b[0m\u001b[0;34m\u001b[0m\u001b[0;34m\u001b[0m\u001b[0m\n\u001b[1;32m   4355\u001b[0m                 clip_extent = mtransforms.Bbox.intersection(clip_extent,\n\u001b[0;32m-> 4356\u001b[0;31m                     axbbox)\n\u001b[0m\u001b[1;32m   4357\u001b[0m                 \u001b[0;32mif\u001b[0m \u001b[0mnp\u001b[0m\u001b[0;34m.\u001b[0m\u001b[0mall\u001b[0m\u001b[0;34m(\u001b[0m\u001b[0mclip_extent\u001b[0m\u001b[0;34m.\u001b[0m\u001b[0mextents\u001b[0m \u001b[0;34m==\u001b[0m \u001b[0maxbbox\u001b[0m\u001b[0;34m.\u001b[0m\u001b[0mextents\u001b[0m\u001b[0;34m)\u001b[0m\u001b[0;34m:\u001b[0m\u001b[0;34m\u001b[0m\u001b[0;34m\u001b[0m\u001b[0m\n\u001b[1;32m   4358\u001b[0m                     \u001b[0;31m# clip extent is inside the axes bbox so don't check\u001b[0m\u001b[0;34m\u001b[0m\u001b[0;34m\u001b[0m\u001b[0;34m\u001b[0m\u001b[0m\n",
            "\u001b[0;32m/usr/local/lib/python3.7/dist-packages/matplotlib/transforms.py\u001b[0m in \u001b[0;36mintersection\u001b[0;34m(bbox1, bbox2)\u001b[0m\n\u001b[1;32m    714\u001b[0m         \"\"\"\n\u001b[1;32m    715\u001b[0m         \u001b[0mx0\u001b[0m \u001b[0;34m=\u001b[0m \u001b[0mnp\u001b[0m\u001b[0;34m.\u001b[0m\u001b[0mmaximum\u001b[0m\u001b[0;34m(\u001b[0m\u001b[0mbbox1\u001b[0m\u001b[0;34m.\u001b[0m\u001b[0mxmin\u001b[0m\u001b[0;34m,\u001b[0m \u001b[0mbbox2\u001b[0m\u001b[0;34m.\u001b[0m\u001b[0mxmin\u001b[0m\u001b[0;34m)\u001b[0m\u001b[0;34m\u001b[0m\u001b[0;34m\u001b[0m\u001b[0m\n\u001b[0;32m--> 716\u001b[0;31m         \u001b[0mx1\u001b[0m \u001b[0;34m=\u001b[0m \u001b[0mnp\u001b[0m\u001b[0;34m.\u001b[0m\u001b[0mminimum\u001b[0m\u001b[0;34m(\u001b[0m\u001b[0mbbox1\u001b[0m\u001b[0;34m.\u001b[0m\u001b[0mxmax\u001b[0m\u001b[0;34m,\u001b[0m \u001b[0mbbox2\u001b[0m\u001b[0;34m.\u001b[0m\u001b[0mxmax\u001b[0m\u001b[0;34m)\u001b[0m\u001b[0;34m\u001b[0m\u001b[0;34m\u001b[0m\u001b[0m\n\u001b[0m\u001b[1;32m    717\u001b[0m         \u001b[0my0\u001b[0m \u001b[0;34m=\u001b[0m \u001b[0mnp\u001b[0m\u001b[0;34m.\u001b[0m\u001b[0mmaximum\u001b[0m\u001b[0;34m(\u001b[0m\u001b[0mbbox1\u001b[0m\u001b[0;34m.\u001b[0m\u001b[0mymin\u001b[0m\u001b[0;34m,\u001b[0m \u001b[0mbbox2\u001b[0m\u001b[0;34m.\u001b[0m\u001b[0mymin\u001b[0m\u001b[0;34m)\u001b[0m\u001b[0;34m\u001b[0m\u001b[0;34m\u001b[0m\u001b[0m\n\u001b[1;32m    718\u001b[0m         \u001b[0my1\u001b[0m \u001b[0;34m=\u001b[0m \u001b[0mnp\u001b[0m\u001b[0;34m.\u001b[0m\u001b[0mminimum\u001b[0m\u001b[0;34m(\u001b[0m\u001b[0mbbox1\u001b[0m\u001b[0;34m.\u001b[0m\u001b[0mymax\u001b[0m\u001b[0;34m,\u001b[0m \u001b[0mbbox2\u001b[0m\u001b[0;34m.\u001b[0m\u001b[0mymax\u001b[0m\u001b[0;34m)\u001b[0m\u001b[0;34m\u001b[0m\u001b[0;34m\u001b[0m\u001b[0m\n",
            "\u001b[0;32m/usr/local/lib/python3.7/dist-packages/matplotlib/transforms.py\u001b[0m in \u001b[0;36mxmax\u001b[0;34m(self)\u001b[0m\n\u001b[1;32m    357\u001b[0m     \u001b[0;32mdef\u001b[0m \u001b[0mxmax\u001b[0m\u001b[0;34m(\u001b[0m\u001b[0mself\u001b[0m\u001b[0;34m)\u001b[0m\u001b[0;34m:\u001b[0m\u001b[0;34m\u001b[0m\u001b[0;34m\u001b[0m\u001b[0m\n\u001b[1;32m    358\u001b[0m         \u001b[0;34m\"\"\"The right edge of the bounding box.\"\"\"\u001b[0m\u001b[0;34m\u001b[0m\u001b[0;34m\u001b[0m\u001b[0m\n\u001b[0;32m--> 359\u001b[0;31m         \u001b[0;32mreturn\u001b[0m \u001b[0mnp\u001b[0m\u001b[0;34m.\u001b[0m\u001b[0mmax\u001b[0m\u001b[0;34m(\u001b[0m\u001b[0mself\u001b[0m\u001b[0;34m.\u001b[0m\u001b[0mget_points\u001b[0m\u001b[0;34m(\u001b[0m\u001b[0;34m)\u001b[0m\u001b[0;34m[\u001b[0m\u001b[0;34m:\u001b[0m\u001b[0;34m,\u001b[0m \u001b[0;36m0\u001b[0m\u001b[0;34m]\u001b[0m\u001b[0;34m)\u001b[0m\u001b[0;34m\u001b[0m\u001b[0;34m\u001b[0m\u001b[0m\n\u001b[0m\u001b[1;32m    360\u001b[0m \u001b[0;34m\u001b[0m\u001b[0m\n\u001b[1;32m    361\u001b[0m     \u001b[0;34m@\u001b[0m\u001b[0mproperty\u001b[0m\u001b[0;34m\u001b[0m\u001b[0;34m\u001b[0m\u001b[0m\n",
            "\u001b[0;32m<__array_function__ internals>\u001b[0m in \u001b[0;36mamax\u001b[0;34m(*args, **kwargs)\u001b[0m\n",
            "\u001b[0;32m/usr/local/lib/python3.7/dist-packages/numpy/core/fromnumeric.py\u001b[0m in \u001b[0;36mamax\u001b[0;34m(a, axis, out, keepdims, initial, where)\u001b[0m\n\u001b[1;32m   2704\u001b[0m     \"\"\"\n\u001b[1;32m   2705\u001b[0m     return _wrapreduction(a, np.maximum, 'max', axis, None, out,\n\u001b[0;32m-> 2706\u001b[0;31m                           keepdims=keepdims, initial=initial, where=where)\n\u001b[0m\u001b[1;32m   2707\u001b[0m \u001b[0;34m\u001b[0m\u001b[0m\n\u001b[1;32m   2708\u001b[0m \u001b[0;34m\u001b[0m\u001b[0m\n",
            "\u001b[0;32m/usr/local/lib/python3.7/dist-packages/numpy/core/fromnumeric.py\u001b[0m in \u001b[0;36m_wrapreduction\u001b[0;34m(obj, ufunc, method, axis, dtype, out, **kwargs)\u001b[0m\n\u001b[1;32m     68\u001b[0m \u001b[0;34m\u001b[0m\u001b[0m\n\u001b[1;32m     69\u001b[0m \u001b[0;34m\u001b[0m\u001b[0m\n\u001b[0;32m---> 70\u001b[0;31m \u001b[0;32mdef\u001b[0m \u001b[0m_wrapreduction\u001b[0m\u001b[0;34m(\u001b[0m\u001b[0mobj\u001b[0m\u001b[0;34m,\u001b[0m \u001b[0mufunc\u001b[0m\u001b[0;34m,\u001b[0m \u001b[0mmethod\u001b[0m\u001b[0;34m,\u001b[0m \u001b[0maxis\u001b[0m\u001b[0;34m,\u001b[0m \u001b[0mdtype\u001b[0m\u001b[0;34m,\u001b[0m \u001b[0mout\u001b[0m\u001b[0;34m,\u001b[0m \u001b[0;34m**\u001b[0m\u001b[0mkwargs\u001b[0m\u001b[0;34m)\u001b[0m\u001b[0;34m:\u001b[0m\u001b[0;34m\u001b[0m\u001b[0;34m\u001b[0m\u001b[0m\n\u001b[0m\u001b[1;32m     71\u001b[0m     passkwargs = {k: v for k, v in kwargs.items()\n\u001b[1;32m     72\u001b[0m                   if v is not np._NoValue}\n",
            "\u001b[0;31mKeyboardInterrupt\u001b[0m: "
          ]
        }
      ]
    },
    {
      "cell_type": "code",
      "metadata": {
        "id": "viQNJcmFEMUO"
      },
      "source": [
        "noise, cat, noise_cat = generate_generator_data(20)\n",
        "noise, cat, noise_cat = noise.to(device), cat.to(device), noise_cat.to(device)\n",
        "img_batch = generator(noise, cat, noise_cat)\n",
        "plt.imshow(img_batch[14,0,:,:].cpu().detach().numpy())"
      ],
      "execution_count": null,
      "outputs": []
    }
  ]
}