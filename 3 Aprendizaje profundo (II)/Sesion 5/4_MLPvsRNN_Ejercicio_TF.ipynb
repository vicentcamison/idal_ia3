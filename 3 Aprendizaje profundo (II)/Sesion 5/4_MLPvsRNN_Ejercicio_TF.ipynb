{
  "nbformat": 4,
  "nbformat_minor": 0,
  "metadata": {
    "colab": {
      "name": "4-MLPvsRNN_Ejercicio_TF.ipynb",
      "provenance": [],
      "collapsed_sections": [
        "rjZ4yt1F-edU"
      ],
      "include_colab_link": true
    },
    "kernelspec": {
      "display_name": "Python 3",
      "name": "python3"
    },
    "accelerator": "GPU"
  },
  "cells": [
    {
      "cell_type": "markdown",
      "metadata": {
        "id": "view-in-github",
        "colab_type": "text"
      },
      "source": [
        "<a href=\"https://colab.research.google.com/github/vicentcamison/idal_ia3/blob/main/3%20Aprendizaje%20profundo%20(II)/Sesion%205/4_MLPvsRNN_Ejercicio_TF.ipynb\" target=\"_parent\"><img src=\"https://colab.research.google.com/assets/colab-badge.svg\" alt=\"Open In Colab\"/></a>"
      ]
    },
    {
      "cell_type": "markdown",
      "metadata": {
        "id": "XRrq_A1Z8tm8"
      },
      "source": [
        "![IDAL](https://i.imgur.com/tIKXIG1.jpg)  \r\n",
        "\r\n",
        "#**Máster en Inteligencia Artificial Avanzada y Aplicada:  IA^3**\r\n",
        "---"
      ]
    },
    {
      "cell_type": "markdown",
      "metadata": {
        "id": "WPDx3vhL87Rt"
      },
      "source": [
        "#<strong><center>Series temporales con RNNs y MLP en KERAS: Ejercicio</center></strong>"
      ]
    },
    {
      "cell_type": "markdown",
      "metadata": {
        "id": "UhfKKGSy87tE"
      },
      "source": [
        "En este ejercicio se propone realizar un estudio similar al del anterior notebook. En este caso se va a emplear un dataset de datos reales "
      ]
    },
    {
      "cell_type": "code",
      "metadata": {
        "id": "sLl52leVp5wU"
      },
      "source": [
        "import tensorflow as tf\n",
        "import numpy as np\n",
        "import matplotlib.pyplot as plt\n",
        "def plot_series(time, series, format=\"-\", start=0, end=None):\n",
        "    plt.plot(time[start:end], series[start:end], format)\n",
        "    plt.xlabel(\"Time\")\n",
        "    plt.ylabel(\"Value\")\n",
        "    plt.grid(True)"
      ],
      "execution_count": null,
      "outputs": []
    },
    {
      "cell_type": "markdown",
      "metadata": {
        "id": "B0AwkJZB-9dA"
      },
      "source": [
        "Importamos el fichero de repositorio"
      ]
    },
    {
      "cell_type": "code",
      "metadata": {
        "id": "tP7oqUdkk0gY"
      },
      "source": [
        "!wget --no-check-certificate \\\n",
        "    https://storage.googleapis.com/laurencemoroney-blog.appspot.com/Sunspots.csv \\\n",
        "    -O /tmp/sunspots.csv"
      ],
      "execution_count": null,
      "outputs": []
    },
    {
      "cell_type": "markdown",
      "metadata": {
        "id": "Co2LS8mj_Cgf"
      },
      "source": [
        "Lo cargamos y ploteamos para ver su aspecto y comprobar que todo ha ido bien:"
      ]
    },
    {
      "cell_type": "code",
      "metadata": {
        "id": "NcG9r1eClbTh"
      },
      "source": [
        "import csv\n",
        "time_step = []\n",
        "sunspots = []\n",
        "\n",
        "with open('/tmp/sunspots.csv') as csvfile:\n",
        "  reader = csv.reader(csvfile, delimiter=',')\n",
        "  next(reader)\n",
        "  for row in reader:\n",
        "    sunspots.append(float(row[2]))\n",
        "    time_step.append(int(row[0]))\n",
        "\n",
        "series = np.array(sunspots)\n",
        "time = np.array(time_step)\n",
        "plt.figure(figsize=(10, 6))\n",
        "plot_series(time, series)"
      ],
      "execution_count": null,
      "outputs": []
    },
    {
      "cell_type": "markdown",
      "metadata": {
        "id": "52EPt3ah_MkP"
      },
      "source": [
        "##Inicio del ejercicio"
      ]
    },
    {
      "cell_type": "markdown",
      "metadata": {
        "id": "50ELHAox_WMl"
      },
      "source": [
        "Preparación de parámetros\r\n",
        "Configura los parámetros segun estas directrices iniciales:  \r\n",
        "* conjunto de entrenamiento sea de 3000 muestras y el resto de validación\r\n",
        "* Enventanado de 60 muestras\r\n",
        "* Tamaño de lote de 128\r\n",
        "* Tamaño de mezcla de buffer de 1000\r\n"
      ]
    },
    {
      "cell_type": "code",
      "metadata": {
        "id": "L92YRw_IpCFG"
      },
      "source": [
        "# Tu código aquí: \n",
        "split_time = \n",
        "time_train = \n",
        "x_train = \n",
        "time_valid = \n",
        "x_valid = \n",
        "\n",
        "window_size = \n",
        "batch_size = \n",
        "shuffle_buffer_size = \n"
      ],
      "execution_count": null,
      "outputs": []
    },
    {
      "cell_type": "markdown",
      "metadata": {
        "id": "FQ5q03VMASsN"
      },
      "source": [
        "La función que prepara el dataset a partir del enventanado y parámetros especificados se mantiene igual"
      ]
    },
    {
      "cell_type": "code",
      "metadata": {
        "id": "lJwUUZscnG38"
      },
      "source": [
        "def windowed_dataset(series, window_size, batch_size, shuffle_buffer):\n",
        "  dataset = tf.data.Dataset.from_tensor_slices(series)\n",
        "  dataset = dataset.window(window_size + 1, shift=1, drop_remainder=True)\n",
        "  dataset = dataset.flat_map(lambda window: window.batch(window_size + 1))\n",
        "  dataset = dataset.shuffle(shuffle_buffer).map(lambda window: (window[:-1], window[-1]))\n",
        "  dataset = dataset.batch(batch_size).prefetch(1)\n",
        "  return dataset"
      ],
      "execution_count": null,
      "outputs": []
    },
    {
      "cell_type": "markdown",
      "metadata": {
        "id": "KlASTv5Jr43-"
      },
      "source": [
        "## Modelo con RNN"
      ]
    },
    {
      "cell_type": "markdown",
      "metadata": {
        "id": "LlXFjBXwAgEb"
      },
      "source": [
        "Crea el dataset empleando la función anterior `windowed_dataset`: \r\n"
      ]
    },
    {
      "cell_type": "code",
      "metadata": {
        "id": "EOFwTfOwJSso"
      },
      "source": [
        "tf.keras.backend.clear_session()\r\n",
        "tf.random.set_seed(51)\r\n",
        "np.random.seed(51)\r\n",
        "\r\n",
        "# Tu código aquí: \r\n",
        "dataset = \r\n"
      ],
      "execution_count": null,
      "outputs": []
    },
    {
      "cell_type": "markdown",
      "metadata": {
        "id": "YYkGZ2C8BJGp"
      },
      "source": [
        "Define el modelo de RNN simple con 2 capas de 40 y 40 neuronas respectivamente y la misma arquitectura del ejercicio anterior"
      ]
    },
    {
      "cell_type": "code",
      "metadata": {
        "id": "j3nlFmWlJLIt"
      },
      "source": [
        "# Tu código aquí: \r\n",
        "model = "
      ],
      "execution_count": null,
      "outputs": []
    },
    {
      "cell_type": "markdown",
      "metadata": {
        "id": "-VSfpsV-B20j"
      },
      "source": [
        "Comprueba su arquitectura y cantidad de parámetros"
      ]
    },
    {
      "cell_type": "code",
      "metadata": {
        "id": "mQMiK2JhBp4i"
      },
      "source": [
        "# Tu código aquí: \r\n",
        "\r\n"
      ],
      "execution_count": null,
      "outputs": []
    },
    {
      "cell_type": "markdown",
      "metadata": {
        "id": "gjKUFvMmPsSN"
      },
      "source": [
        "Antes de su entrenamiento definitivo, realiza una exploración sobre el conjunto de entrenamiento para determinar un learning rate óptimo"
      ]
    },
    {
      "cell_type": "code",
      "metadata": {
        "id": "TVM-oC8bP2Hu"
      },
      "source": [
        "# Tu código aquí: \r\n",
        "\r\n",
        "train_set = \r\n",
        "\r\n",
        "lr_schedule = \r\n",
        "\r\n",
        "optimizer = \r\n",
        "\r\n",
        "\r\n",
        "\r\n",
        "\r\n",
        "history = "
      ],
      "execution_count": null,
      "outputs": []
    },
    {
      "cell_type": "markdown",
      "metadata": {
        "id": "Kn-6iOr-P64t"
      },
      "source": [
        "Visualiza el error para elegir el mejor lr"
      ]
    },
    {
      "cell_type": "code",
      "metadata": {
        "id": "L8a5WFMmQlqI"
      },
      "source": [
        "plt.semilogx(history.history[\"lr\"], history.history[\"loss\"])\r\n",
        "plt.axis([1e-8, 1e-4, 0, 30])"
      ],
      "execution_count": null,
      "outputs": []
    },
    {
      "cell_type": "markdown",
      "metadata": {
        "id": "PsmRMA2TP6sq"
      },
      "source": [
        "Configura ahora y reentrena con la tasa de lr elegida, tal como hemos hecho en el ejercicio anterior y 200 epochs"
      ]
    },
    {
      "cell_type": "code",
      "metadata": {
        "id": "tRRV993eBA-b"
      },
      "source": [
        "tf.keras.backend.clear_session()\r\n",
        "tf.random.set_seed(51)\r\n",
        "np.random.seed(51)\r\n",
        "\r\n",
        "# Tu código aquí: \r\n",
        "dataset = \r\n",
        "\r\n",
        "model = \r\n",
        "\r\n",
        "optimizer = \r\n",
        "\r\n",
        "model.compile(loss=tf.keras.losses.Huber(),\r\n",
        "              optimizer=optimizer,\r\n",
        "              metrics=[\"mae\"])\r\n",
        "\r\n",
        "history = \r\n"
      ],
      "execution_count": null,
      "outputs": []
    },
    {
      "cell_type": "markdown",
      "metadata": {
        "id": "kUVu7P-fCvgu"
      },
      "source": [
        "Realizamos predicciones y visualizamos resultados igual que en ejemplo anterior"
      ]
    },
    {
      "cell_type": "code",
      "metadata": {
        "id": "GaC6NNMRp0lb"
      },
      "source": [
        "forecast=[]\n",
        "\n",
        "# Tu código aquí: \n",
        "\n"
      ],
      "execution_count": null,
      "outputs": []
    },
    {
      "cell_type": "markdown",
      "metadata": {
        "id": "t5oWhiPaC_Iz"
      },
      "source": [
        "Obtenemos una métrica de error numérica para poder realizar comparaciones: "
      ]
    },
    {
      "cell_type": "code",
      "metadata": {
        "id": "13XrorC5wQoE"
      },
      "source": [
        "# Tu código aquí: \r\n"
      ],
      "execution_count": null,
      "outputs": []
    },
    {
      "cell_type": "markdown",
      "metadata": {
        "id": "Tak6bV-rUraF"
      },
      "source": [
        "Visualiza el error y la métrica de salida MAE para ver su relación. Los valores los tenemos en la lista history[ ]"
      ]
    },
    {
      "cell_type": "markdown",
      "metadata": {
        "id": "GAh3RZcfG9vG"
      },
      "source": [
        "## Modelo con MLP (*MultiLayer Perceptron*)"
      ]
    },
    {
      "cell_type": "markdown",
      "metadata": {
        "id": "ur6L5d0gDbrn"
      },
      "source": [
        "Vamos ahora a plantear un modelo equivalente con la red neuronal multicapa. \r\n",
        "\r\n",
        "Implementa el mismo numero de capas (2) y neuronas por (20 y 10) capa con función de activación \"relu\""
      ]
    },
    {
      "cell_type": "code",
      "metadata": {
        "id": "kqa23c12HD5r"
      },
      "source": [
        "# Tu código aquí: \r\n",
        "model2 = \r\n"
      ],
      "execution_count": null,
      "outputs": []
    },
    {
      "cell_type": "markdown",
      "metadata": {
        "id": "bgS7dir_EpTt"
      },
      "source": [
        "Comprueba arquitectura y parámetros"
      ]
    },
    {
      "cell_type": "code",
      "metadata": {
        "id": "LIklov7vEuUv"
      },
      "source": [
        "# Tu código aquí: \r\n"
      ],
      "execution_count": null,
      "outputs": []
    },
    {
      "cell_type": "markdown",
      "metadata": {
        "id": "Xx8HClbeEOE3"
      },
      "source": [
        "Mismos parámetros de compilacion, pérdida y optimizador"
      ]
    },
    {
      "cell_type": "code",
      "metadata": {
        "id": "cDLguF2cEJpX"
      },
      "source": [
        "model2.compile(loss=\"mse\", optimizer=tf.keras.optimizers.SGD(lr=1e-6, momentum=0.9))"
      ],
      "execution_count": null,
      "outputs": []
    },
    {
      "cell_type": "markdown",
      "metadata": {
        "id": "nOnkjj4fEXCf"
      },
      "source": [
        "Entrena durante el mismo número de epochs (200)"
      ]
    },
    {
      "cell_type": "code",
      "metadata": {
        "id": "Uov8lcVwENIx"
      },
      "source": [
        "# Tu código aquí: \r\n",
        "\r\n"
      ],
      "execution_count": null,
      "outputs": []
    },
    {
      "cell_type": "markdown",
      "metadata": {
        "id": "hNQg9zuCEeON"
      },
      "source": [
        "Prediccion y visualización de resultados"
      ]
    },
    {
      "cell_type": "code",
      "metadata": {
        "id": "nu_sCw1fHIbu"
      },
      "source": [
        "forecast = []\r\n",
        "\r\n",
        "# Tu código aquí: \r\n",
        "\r\n"
      ],
      "execution_count": null,
      "outputs": []
    },
    {
      "cell_type": "markdown",
      "metadata": {
        "id": "-r-qlEpvxcPo"
      },
      "source": [
        "Métrica de resultados"
      ]
    },
    {
      "cell_type": "code",
      "metadata": {
        "id": "LL2HE_4lHNw_"
      },
      "source": [
        "# Tu código aquí: \r\n",
        "\r\n"
      ],
      "execution_count": null,
      "outputs": []
    },
    {
      "cell_type": "markdown",
      "metadata": {
        "id": "6UraYmAVxMZF"
      },
      "source": [
        "Enhorabuena, has llegado al final del ejercicio!"
      ]
    },
    {
      "cell_type": "markdown",
      "metadata": {
        "id": "C_cAEcQWuQYj"
      },
      "source": [
        "Ahora reflexiona sobre los resultados obtenidos: \r\n",
        "* ¿Cual ha funcionado mejor? \r\n",
        "* ¿Porqué crees que es?\r\n",
        "\r\n",
        "Repite el entrenamiento variando diferentes parámetros y observa como influyen en los resultados y los tiempos: \r\n",
        "* tamaño del lote\r\n",
        "* arquitectura de la red - nº de neuronas\r\n",
        "* tasa de aprendizaje\r\n",
        "* nº de epochs\r\n",
        "* enventanado"
      ]
    },
    {
      "cell_type": "markdown",
      "metadata": {
        "id": "rjZ4yt1F-edU"
      },
      "source": [
        "##Referencias"
      ]
    },
    {
      "cell_type": "markdown",
      "metadata": {
        "id": "X04uoq5g-hpf"
      },
      "source": [
        "\r\n",
        "*   Documento inspirado en los ejemplos del repositorio de LaurenceMorone y en su curso de Deep Learning con TensorFlow: https://github.com/lmoroney?tab=repositories \r\n",
        "* Doc oficial Pytorch https://pytorch.org/docs/stable/generated/torch.nn.RNN.html\r\n",
        "* https://pytorch.org/tutorials/intermediate/char_rnn_classification_tutorial.html\r\n"
      ]
    },
    {
      "cell_type": "markdown",
      "metadata": {
        "id": "Ry8WTWUy-iuX"
      },
      "source": [
        "##Fin del cuaderno"
      ]
    }
  ]
}