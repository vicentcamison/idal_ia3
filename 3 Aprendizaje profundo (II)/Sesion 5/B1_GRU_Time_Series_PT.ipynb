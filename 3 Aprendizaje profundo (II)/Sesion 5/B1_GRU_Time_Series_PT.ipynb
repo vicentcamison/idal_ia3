{
  "nbformat": 4,
  "nbformat_minor": 0,
  "metadata": {
    "kernelspec": {
      "display_name": "Python 3",
      "language": "python",
      "name": "python3"
    },
    "language_info": {
      "codemirror_mode": {
        "name": "ipython",
        "version": 3
      },
      "file_extension": ".py",
      "mimetype": "text/x-python",
      "name": "python",
      "nbconvert_exporter": "python",
      "pygments_lexer": "ipython3",
      "version": "3.7.3"
    },
    "colab": {
      "name": "1-GRU-Time-Series_PT.ipynb",
      "provenance": [],
      "collapsed_sections": [
        "Qfh22hMyhk8I"
      ],
      "include_colab_link": true
    }
  },
  "cells": [
    {
      "cell_type": "markdown",
      "metadata": {
        "id": "view-in-github",
        "colab_type": "text"
      },
      "source": [
        "<a href=\"https://colab.research.google.com/github/vicentcamison/idal_ia3/blob/main/3%20Aprendizaje%20profundo%20(II)/Sesion%205/B1_GRU_Time_Series_PT.ipynb\" target=\"_parent\"><img src=\"https://colab.research.google.com/assets/colab-badge.svg\" alt=\"Open In Colab\"/></a>"
      ]
    },
    {
      "cell_type": "markdown",
      "metadata": {
        "collapsed": true,
        "id": "vnkX0v-Hhk7i"
      },
      "source": [
        "![IDAL](https://i.imgur.com/tIKXIG1.jpg)  \n",
        "\n",
        "#**Máster en Inteligencia Artificial Avanzada y Aplicada:  IA^3**\n",
        "---"
      ]
    },
    {
      "cell_type": "markdown",
      "metadata": {
        "id": "G5v0wPP7hk7t"
      },
      "source": [
        "# GRU en series temporales\n",
        "En este  cuaderno, vamos a aprender a configurar y a explorar el comportamiento de una red neuronal recurrente GRU, que como sabemos es una versión mejorada del concepto de red recurrente, con una arquitectura interna modificada de forma que evite los principales problemas encontrados en las redes neuronales recurrentes simples. "
      ]
    },
    {
      "cell_type": "markdown",
      "metadata": {
        "id": "GOpSYCNVgQaj"
      },
      "source": [
        "Vamos a emplear datos de la Federal Reserve Economic Database (FRED) referido a ventas de Cerveza, Vino bebidas alcohólicas Destiladas en millones de dólares de Enero 1992 a Enero 2019 (325 registros).\r\n",
        "\r\n",
        "Fuente de datos: https://fred.stlouisfed.org/series/S4248SM144NCEN"
      ]
    },
    {
      "cell_type": "code",
      "metadata": {
        "collapsed": true,
        "id": "veg18mhnhk7u"
      },
      "source": [
        "import torch\n",
        "import torch.nn as nn\n",
        "\n",
        "import numpy as np\n",
        "import pandas as pd\n",
        "import matplotlib.pyplot as plt\n",
        "%matplotlib inline\n",
        "\n",
        "# This relates to plotting datetime values with matplotlib:\n",
        "from pandas.plotting import register_matplotlib_converters\n",
        "register_matplotlib_converters()"
      ],
      "execution_count": null,
      "outputs": []
    },
    {
      "cell_type": "markdown",
      "metadata": {
        "id": "Pp1Yzo7_hk7v"
      },
      "source": [
        "## Cargar el conjunto de datos\n",
        "Aprovecharemos las ventajas de la función de pandas <a href='https://pandas.pydata.org/pandas-docs/stable/timeseries.html'>DatetimeIndex</a> pasando <tt>parse_dates=True</tt>"
      ]
    },
    {
      "cell_type": "code",
      "metadata": {
        "colab": {
          "base_uri": "https://localhost:8080/"
        },
        "id": "tuui_9VQhk7w",
        "outputId": "c5a8a620-dd23-4e5c-f09f-4f3c17e3c0c3"
      },
      "source": [
        "df = pd.read_csv('/content/sample_data/Alcohol_Sales.csv',index_col=0,parse_dates=True)\n",
        "len(df)"
      ],
      "execution_count": null,
      "outputs": [
        {
          "output_type": "execute_result",
          "data": {
            "text/plain": [
              "325"
            ]
          },
          "metadata": {
            "tags": []
          },
          "execution_count": 2
        }
      ]
    },
    {
      "cell_type": "code",
      "metadata": {
        "colab": {
          "base_uri": "https://localhost:8080/",
          "height": 235
        },
        "id": "Kg3ItebYhk7y",
        "outputId": "bd44a7f8-4fed-4fd9-e67b-f39ff693a5ea"
      },
      "source": [
        "df.head()"
      ],
      "execution_count": null,
      "outputs": [
        {
          "output_type": "execute_result",
          "data": {
            "text/html": [
              "<div>\n",
              "<style scoped>\n",
              "    .dataframe tbody tr th:only-of-type {\n",
              "        vertical-align: middle;\n",
              "    }\n",
              "\n",
              "    .dataframe tbody tr th {\n",
              "        vertical-align: top;\n",
              "    }\n",
              "\n",
              "    .dataframe thead th {\n",
              "        text-align: right;\n",
              "    }\n",
              "</style>\n",
              "<table border=\"1\" class=\"dataframe\">\n",
              "  <thead>\n",
              "    <tr style=\"text-align: right;\">\n",
              "      <th></th>\n",
              "      <th>S4248SM144NCEN</th>\n",
              "    </tr>\n",
              "    <tr>\n",
              "      <th>DATE</th>\n",
              "      <th></th>\n",
              "    </tr>\n",
              "  </thead>\n",
              "  <tbody>\n",
              "    <tr>\n",
              "      <th>1992-01-01</th>\n",
              "      <td>3459</td>\n",
              "    </tr>\n",
              "    <tr>\n",
              "      <th>1992-02-01</th>\n",
              "      <td>3458</td>\n",
              "    </tr>\n",
              "    <tr>\n",
              "      <th>1992-03-01</th>\n",
              "      <td>4002</td>\n",
              "    </tr>\n",
              "    <tr>\n",
              "      <th>1992-04-01</th>\n",
              "      <td>4564</td>\n",
              "    </tr>\n",
              "    <tr>\n",
              "      <th>1992-05-01</th>\n",
              "      <td>4221</td>\n",
              "    </tr>\n",
              "  </tbody>\n",
              "</table>\n",
              "</div>"
            ],
            "text/plain": [
              "            S4248SM144NCEN\n",
              "DATE                      \n",
              "1992-01-01            3459\n",
              "1992-02-01            3458\n",
              "1992-03-01            4002\n",
              "1992-04-01            4564\n",
              "1992-05-01            4221"
            ]
          },
          "metadata": {
            "tags": []
          },
          "execution_count": 3
        }
      ]
    },
    {
      "cell_type": "code",
      "metadata": {
        "colab": {
          "base_uri": "https://localhost:8080/",
          "height": 235
        },
        "id": "OOGeXVu5hk7z",
        "outputId": "33b9d496-9ed6-4dae-91cd-c2cb699612e4"
      },
      "source": [
        "df.tail()"
      ],
      "execution_count": null,
      "outputs": [
        {
          "output_type": "execute_result",
          "data": {
            "text/html": [
              "<div>\n",
              "<style scoped>\n",
              "    .dataframe tbody tr th:only-of-type {\n",
              "        vertical-align: middle;\n",
              "    }\n",
              "\n",
              "    .dataframe tbody tr th {\n",
              "        vertical-align: top;\n",
              "    }\n",
              "\n",
              "    .dataframe thead th {\n",
              "        text-align: right;\n",
              "    }\n",
              "</style>\n",
              "<table border=\"1\" class=\"dataframe\">\n",
              "  <thead>\n",
              "    <tr style=\"text-align: right;\">\n",
              "      <th></th>\n",
              "      <th>S4248SM144NCEN</th>\n",
              "    </tr>\n",
              "    <tr>\n",
              "      <th>DATE</th>\n",
              "      <th></th>\n",
              "    </tr>\n",
              "  </thead>\n",
              "  <tbody>\n",
              "    <tr>\n",
              "      <th>2018-09-01</th>\n",
              "      <td>12396</td>\n",
              "    </tr>\n",
              "    <tr>\n",
              "      <th>2018-10-01</th>\n",
              "      <td>13914</td>\n",
              "    </tr>\n",
              "    <tr>\n",
              "      <th>2018-11-01</th>\n",
              "      <td>14174</td>\n",
              "    </tr>\n",
              "    <tr>\n",
              "      <th>2018-12-01</th>\n",
              "      <td>15504</td>\n",
              "    </tr>\n",
              "    <tr>\n",
              "      <th>2019-01-01</th>\n",
              "      <td>10718</td>\n",
              "    </tr>\n",
              "  </tbody>\n",
              "</table>\n",
              "</div>"
            ],
            "text/plain": [
              "            S4248SM144NCEN\n",
              "DATE                      \n",
              "2018-09-01           12396\n",
              "2018-10-01           13914\n",
              "2018-11-01           14174\n",
              "2018-12-01           15504\n",
              "2019-01-01           10718"
            ]
          },
          "metadata": {
            "tags": []
          },
          "execution_count": 4
        }
      ]
    },
    {
      "cell_type": "markdown",
      "metadata": {
        "id": "QPyTFs7shk70"
      },
      "source": [
        "## Trazado de datos de series temporales\n",
        "Podemos añadir títulos, etiquetas en los ejes y otras características al gráfico.<br>\n",
        "Vamos a ajustar el eje x para que se adapte al ancho de los datos reales con <tt>plt.autoscale(axis='x',tight=True)</tt>.<br>\n",
        "Alternativamente podrías establecer tus propios límites con <tt>plt.xlim(pd.Timestamp('1992-01-01'), pd.Timestamp('2019-01'))</tt> o algunos otros valores."
      ]
    },
    {
      "cell_type": "code",
      "metadata": {
        "colab": {
          "base_uri": "https://localhost:8080/",
          "height": 281
        },
        "id": "ws-NhO9Shk70",
        "outputId": "fe933a4f-983f-4df9-db60-4bcc2ed340a6"
      },
      "source": [
        "plt.figure(figsize=(12,4))\n",
        "plt.title('Beer, Wine, and Alcohol Sales')\n",
        "plt.ylabel('Sales (millions of dollars)')\n",
        "plt.grid(True)\n",
        "plt.autoscale(axis='x',tight=True)\n",
        "plt.plot(df['S4248SM144NCEN'])\n",
        "plt.show()"
      ],
      "execution_count": null,
      "outputs": [
        {
          "output_type": "display_data",
          "data": {
            "image/png": "[encoded data removed]",
            "text/plain": [
              "<Figure size 864x288 with 1 Axes>"
            ]
          },
          "metadata": {
            "tags": [],
            "needs_background": "light"
          }
        }
      ]
    },
    {
      "cell_type": "markdown",
      "metadata": {
        "id": "UTN6rH_9hk71"
      },
      "source": [
        "## Preparar los datos\n",
        "En los siguientes pasos: \n",
        "* dividiremos los datos en conjuntos de entrenamiento/prueba, \n",
        "* normalizaremos los valores de entrenamiento para que estén entre -1 y 1 (para mejorar el entrenamiento)\n",
        "* entrenaremos el modelo y, a continuación, \n",
        "* predeciremos en un periodo que coincida con el conjunto de pruebas. \n",
        "* Por último, haremos una previsión para un futuro desconocido."
      ]
    },
    {
      "cell_type": "code",
      "metadata": {
        "collapsed": true,
        "id": "5APgWD1whk71"
      },
      "source": [
        "# Extract values from the source .csv file\n",
        "y = df['S4248SM144NCEN'].values.astype(float)\n",
        "\n",
        "# Define a test size\n",
        "test_size = 12\n",
        "\n",
        "# Create train and test sets\n",
        "train_set = y[:-test_size]\n",
        "test_set = y[-test_size:]"
      ],
      "execution_count": null,
      "outputs": []
    },
    {
      "cell_type": "code",
      "metadata": {
        "colab": {
          "base_uri": "https://localhost:8080/"
        },
        "id": "J2_u4UAfhk72",
        "outputId": "1214e474-4a94-4d3d-b259-bc3d58f0ce5c"
      },
      "source": [
        "test_set"
      ],
      "execution_count": null,
      "outputs": [
        {
          "output_type": "execute_result",
          "data": {
            "text/plain": [
              "array([10415., 12683., 11919., 14138., 14583., 12640., 14257., 12396.,\n",
              "       13914., 14174., 15504., 10718.])"
            ]
          },
          "metadata": {
            "tags": []
          },
          "execution_count": 7
        }
      ]
    },
    {
      "cell_type": "markdown",
      "metadata": {
        "id": "Ip2joUpEhk73"
      },
      "source": [
        "## Normalizar los datos\n",
        "La fórmula para normalizar los datos en torno a cero es:<br>\n",
        "### $X_{norm} = \\frac{X - \\mu} {\\sigma}$\n",
        "donde $\\mu$ es la media de la población, y $\\sigma$ es la desviación estándar de la población.<br>\n",
        "\n",
        "Lo que queremos realizar es un <a href='https://en.wikipedia.org/wiki/Feature_scaling'>escalado mínimo/máximo de características</a> para que nuestros valores caigan entre -1 y 1, ya que esto hace que los hiperparámetros converjan más rápido.<br>La fórmula para esto sería:<br>\n",
        "### $X^{\\prime} = a + \\frac{(X - X_{min}) (b - a)} \n",
        "{X_{max} - X_{min}}$\n",
        "\n",
        "donde $a={-1}$ y $b=1$<br>\n",
        "\n",
        "\n",
        "Podemos utilizar scikit-learn para hacer esto, con <a href='https://scikit-learn.org/stable/modules/generated/sklearn.preprocessing.MinMaxScaler.html'><tt><strong>sklearn.preprocessing.MinMaxScaler()</strong></tt></a>\n",
        "\n",
        "NOTA: Sólo queremos normalizar el conjunto de entrenamiento para evitar la fuga de datos. Si incluimos el conjunto de pruebas, los valores medios más altos del conjunto de pruebas podrían convertirse en parte de la señal del conjunto de entrenamiento. Hay un buen artículo sobre la fuga de datos <a href='conjunto_de_prueba = datos_de_entrada(norma_de_prueba,tamaño_de_ventana)'> aquí</a>.\n",
        "\n",
        "Después de utilizar los datos transformados para entrenar el modelo y generar predicciones, transformaremos_inversamente los valores predichos para poder compararlos con los datos de prueba reales."
      ]
    },
    {
      "cell_type": "code",
      "metadata": {
        "collapsed": true,
        "id": "71hSyR6ehk74"
      },
      "source": [
        "from sklearn.preprocessing import MinMaxScaler\n",
        "\n",
        "scaler = MinMaxScaler(feature_range=(-1, 1))"
      ],
      "execution_count": null,
      "outputs": []
    },
    {
      "cell_type": "code",
      "metadata": {
        "collapsed": true,
        "id": "LOlvW3G-hk74"
      },
      "source": [
        "train_norm = scaler.fit_transform(train_set.reshape(-1, 1))"
      ],
      "execution_count": null,
      "outputs": []
    },
    {
      "cell_type": "code",
      "metadata": {
        "colab": {
          "base_uri": "https://localhost:8080/"
        },
        "id": "irWmAqwChk75",
        "outputId": "3639a840-5f57-4387-814a-9cc069f370f4"
      },
      "source": [
        "train_norm.min()"
      ],
      "execution_count": null,
      "outputs": [
        {
          "output_type": "execute_result",
          "data": {
            "text/plain": [
              "-1.0"
            ]
          },
          "metadata": {
            "tags": []
          },
          "execution_count": 10
        }
      ]
    },
    {
      "cell_type": "code",
      "metadata": {
        "colab": {
          "base_uri": "https://localhost:8080/"
        },
        "id": "a34N2jcDhk75",
        "outputId": "201b78cb-3728-48a1-803c-f11cccc54086"
      },
      "source": [
        "train_norm.max()"
      ],
      "execution_count": null,
      "outputs": [
        {
          "output_type": "execute_result",
          "data": {
            "text/plain": [
              "1.0"
            ]
          },
          "metadata": {
            "tags": []
          },
          "execution_count": 11
        }
      ]
    },
    {
      "cell_type": "code",
      "metadata": {
        "colab": {
          "base_uri": "https://localhost:8080/"
        },
        "id": "wCZEhmeDhk76",
        "outputId": "6f512198-cf8b-4cf6-bacd-368c83c5efd0"
      },
      "source": [
        "train_norm.mean()"
      ],
      "execution_count": null,
      "outputs": [
        {
          "output_type": "execute_result",
          "data": {
            "text/plain": [
              "-0.2041940178388313"
            ]
          },
          "metadata": {
            "tags": []
          },
          "execution_count": 12
        }
      ]
    },
    {
      "cell_type": "code",
      "metadata": {
        "colab": {
          "base_uri": "https://localhost:8080/"
        },
        "id": "1gAQaqAyhk76",
        "outputId": "231f4be4-506e-4f74-f02f-4409dd1ec444"
      },
      "source": [
        "type(train_norm)"
      ],
      "execution_count": null,
      "outputs": [
        {
          "output_type": "execute_result",
          "data": {
            "text/plain": [
              "numpy.ndarray"
            ]
          },
          "metadata": {
            "tags": []
          },
          "execution_count": 13
        }
      ]
    },
    {
      "cell_type": "markdown",
      "metadata": {
        "id": "RQJOBw9Ghk77"
      },
      "source": [
        "## Preparar los datos para GRU\n",
        "Aquí crearemos nuestra lista de tuplas (seq/label) del conjunto de entrenamiento. Recordemos que una GRU consume una ventana de muestras hacia la primera predicción, por lo que el tamaño de nuestro conjunto de entrenamiento se convertirá en ((325 - test_size) - window_size)."
      ]
    },
    {
      "cell_type": "code",
      "metadata": {
        "colab": {
          "base_uri": "https://localhost:8080/"
        },
        "id": "IBK2hfonhk77",
        "outputId": "80bfe586-fa07-4eea-9c39-02ce319509af"
      },
      "source": [
        "# Convert train_norm from an array to a tensor\n",
        "train_norm = torch.FloatTensor(train_norm).view(-1)\n",
        "\n",
        "# Define a window size\n",
        "window_size = 12\n",
        "\n",
        "# Define function to create seq/label tuples\n",
        "def input_data(seq,ws):  # ws is the window size\n",
        "    out = []\n",
        "    L = len(seq)\n",
        "    for i in range(L-ws):\n",
        "        window = seq[i:i+ws]\n",
        "        label = seq[i+ws:i+ws+1]\n",
        "        out.append((window,label))\n",
        "    return out\n",
        "\n",
        "# Apply the input_data function to train_norm\n",
        "train_data = input_data(train_norm,window_size)\n",
        "len(train_data)  "
      ],
      "execution_count": null,
      "outputs": [
        {
          "output_type": "execute_result",
          "data": {
            "text/plain": [
              "301"
            ]
          },
          "metadata": {
            "tags": []
          },
          "execution_count": 14
        }
      ]
    },
    {
      "cell_type": "code",
      "metadata": {
        "colab": {
          "base_uri": "https://localhost:8080/"
        },
        "id": "pzyifpnJhk78",
        "outputId": "20f33999-b9ee-49ef-fdcf-1ba48b5b0020"
      },
      "source": [
        "# Display the first seq/label tuple in the train data\n",
        "train_data[1]"
      ],
      "execution_count": null,
      "outputs": [
        {
          "output_type": "execute_result",
          "data": {
            "text/plain": [
              "(tensor([-0.9270, -0.8340, -0.7379, -0.7966, -0.7439, -0.7547, -0.8109, -0.8128,\n",
              "         -0.7901, -0.7933, -0.6743, -1.0000]), tensor([-0.9607]))"
            ]
          },
          "metadata": {
            "tags": []
          },
          "execution_count": 15
        }
      ]
    },
    {
      "cell_type": "markdown",
      "metadata": {
        "id": "NHhhDpeMhk78"
      },
      "source": [
        "## Definir el modelo\n",
        "Utilizaremos una capa GRU de tamaño (1,100)."
      ]
    },
    {
      "cell_type": "code",
      "metadata": {
        "collapsed": true,
        "id": "KX-WeQTQhk79"
      },
      "source": [
        "class GRUnetwork(nn.Module):\n",
        "    def __init__(self,input_size=1,hidden_size=100,output_size=1):\n",
        "        super().__init__()\n",
        "        self.hidden_size = hidden_size\n",
        "        \n",
        "        # Capa GRU:\n",
        "        self.gru = nn.GRU(input_size,hidden_size)\n",
        "             \n",
        "        # Capa fully-connected:\n",
        "        self.linear = nn.Linear(hidden_size,output_size)\n",
        "        \n",
        "        # Initialización h0:\n",
        "        self.hidden = (torch.zeros(1,1,self.hidden_size))\n",
        "\n",
        "    def forward(self,seq):\n",
        "        gru_out, self.hidden = self.gru(seq.view(len(seq),1,-1), self.hidden)\n",
        "        pred = self.linear(gru_out.view(len(seq),-1))\n",
        "        return pred[-1]  # solo queremos el último valor"
      ],
      "execution_count": null,
      "outputs": []
    },
    {
      "cell_type": "markdown",
      "metadata": {
        "id": "p84txSX9hk79"
      },
      "source": [
        "## Instanciar el modelo, definir las funciones de pérdida y optimización"
      ]
    },
    {
      "cell_type": "code",
      "metadata": {
        "id": "4AHK9CC1hk7_"
      },
      "source": [
        "torch.manual_seed(101)\n",
        "model = GRUnetwork()\n",
        "\n",
        "criterion = nn.MSELoss()\n",
        "optimizer = torch.optim.Adam(model.parameters(), lr=0.001)"
      ],
      "execution_count": null,
      "outputs": []
    },
    {
      "cell_type": "markdown",
      "metadata": {
        "id": "jedkst-H1YDD"
      },
      "source": [
        "Para ver los detalles del modelo creado en Pytorch lo hacemos directamente llamando al modelo:"
      ]
    },
    {
      "cell_type": "code",
      "metadata": {
        "colab": {
          "base_uri": "https://localhost:8080/"
        },
        "id": "6IcajISf1XR_",
        "outputId": "aaf8cdf8-2e89-4e4e-fc95-fb1fa6de30b4"
      },
      "source": [
        "model"
      ],
      "execution_count": null,
      "outputs": [
        {
          "output_type": "execute_result",
          "data": {
            "text/plain": [
              "GRUnetwork(\n",
              "  (gru): GRU(1, 100)\n",
              "  (linear): Linear(in_features=100, out_features=1, bias=True)\n",
              ")"
            ]
          },
          "metadata": {
            "tags": []
          },
          "execution_count": 24
        }
      ]
    },
    {
      "cell_type": "markdown",
      "metadata": {
        "id": "g2QAjmHr1hLa"
      },
      "source": [
        "Y para contar los parámetros definimos una función:"
      ]
    },
    {
      "cell_type": "code",
      "metadata": {
        "colab": {
          "base_uri": "https://localhost:8080/"
        },
        "id": "8t_F4d-vhk7_",
        "outputId": "9020edc1-38bd-437c-fd4d-cb539ad7b79e"
      },
      "source": [
        "def count_parameters(model):\n",
        "    params = [p.numel() for p in model.parameters() if p.requires_grad]\n",
        "    for item in params:\n",
        "        print(f'{item:>6}')\n",
        "    print(f'______\\n{sum(params):>6}')\n",
        "    \n",
        "count_parameters(model)"
      ],
      "execution_count": null,
      "outputs": [
        {
          "output_type": "stream",
          "text": [
            "   300\n",
            " 30000\n",
            "   300\n",
            "   300\n",
            "   100\n",
            "     1\n",
            "______\n",
            " 31001\n"
          ],
          "name": "stdout"
        }
      ]
    },
    {
      "cell_type": "markdown",
      "metadata": {
        "id": "W5L4W-bxhk8A"
      },
      "source": [
        "## Entrenamiento del modelo"
      ]
    },
    {
      "cell_type": "code",
      "metadata": {
        "colab": {
          "base_uri": "https://localhost:8080/"
        },
        "id": "wCvOIhGnhk8A",
        "outputId": "2cfc06b5-d3b4-4160-8b56-4fd7ccb4ff31"
      },
      "source": [
        "epochs = 100\n",
        "\n",
        "import time\n",
        "start_time = time.time()\n",
        "\n",
        "for epoch in range(epochs):\n",
        "    \n",
        "    # extraemos secuencia y label de los training data\n",
        "    for seq, y_train in train_data:\n",
        "        \n",
        "        # reseteo de parametros ay estados ocultos\n",
        "        optimizer.zero_grad()\n",
        "        model.hidden = (torch.zeros(1,1,model.hidden_size))\n",
        "        y_pred = model(seq)\n",
        "        \n",
        "        loss = criterion(y_pred, y_train)\n",
        "        loss.backward()\n",
        "        optimizer.step()\n",
        "        \n",
        "    # Imprimo log\n",
        "    print(f'Epoch: {epoch+1:2} Loss: {loss.item():10.8f}')\n",
        "    \n",
        "print(f'\\nDuration: {time.time() - start_time:.0f} seconds')"
      ],
      "execution_count": null,
      "outputs": [
        {
          "output_type": "stream",
          "text": [
            "Epoch:  1 Loss: 0.31638145\n",
            "Epoch:  2 Loss: 0.36562097\n",
            "Epoch:  3 Loss: 0.37781179\n",
            "Epoch:  4 Loss: 0.35362667\n",
            "Epoch:  5 Loss: 0.32944912\n",
            "Epoch:  6 Loss: 0.34529534\n",
            "Epoch:  7 Loss: 0.27918571\n",
            "Epoch:  8 Loss: 0.13047771\n",
            "Epoch:  9 Loss: 0.04066429\n",
            "Epoch: 10 Loss: 0.00292988\n",
            "Epoch: 11 Loss: 0.00080596\n",
            "Epoch: 12 Loss: 0.00434822\n",
            "Epoch: 13 Loss: 0.00029771\n",
            "Epoch: 14 Loss: 0.00001135\n",
            "Epoch: 15 Loss: 0.00020354\n",
            "Epoch: 16 Loss: 0.00039809\n",
            "Epoch: 17 Loss: 0.00050834\n",
            "Epoch: 18 Loss: 0.00051879\n",
            "Epoch: 19 Loss: 0.00043805\n",
            "Epoch: 20 Loss: 0.00029434\n",
            "Epoch: 21 Loss: 0.00013164\n",
            "Epoch: 22 Loss: 0.00001430\n",
            "Epoch: 23 Loss: 0.00003706\n",
            "Epoch: 24 Loss: 0.00033377\n",
            "Epoch: 25 Loss: 0.00106373\n",
            "Epoch: 26 Loss: 0.00230913\n",
            "Epoch: 27 Loss: 0.00378315\n",
            "Epoch: 28 Loss: 0.00459676\n",
            "Epoch: 29 Loss: 0.00406651\n",
            "Epoch: 30 Loss: 0.00277225\n",
            "Epoch: 31 Loss: 0.00160506\n",
            "Epoch: 32 Loss: 0.00084514\n",
            "Epoch: 33 Loss: 0.00041559\n",
            "Epoch: 34 Loss: 0.00018234\n",
            "Epoch: 35 Loss: 0.00006056\n",
            "Epoch: 36 Loss: 0.00000803\n",
            "Epoch: 37 Loss: 0.00000175\n",
            "Epoch: 38 Loss: 0.00002213\n",
            "Epoch: 39 Loss: 0.00005451\n",
            "Epoch: 40 Loss: 0.00008891\n",
            "Epoch: 41 Loss: 0.00011971\n",
            "Epoch: 42 Loss: 0.00014479\n",
            "Epoch: 43 Loss: 0.00016768\n",
            "Epoch: 44 Loss: 0.00019389\n",
            "Epoch: 45 Loss: 0.00019171\n",
            "Epoch: 46 Loss: 0.00022458\n",
            "Epoch: 47 Loss: 0.00024779\n",
            "Epoch: 48 Loss: 0.00023693\n",
            "Epoch: 49 Loss: 0.00015699\n",
            "Epoch: 50 Loss: 0.00001147\n",
            "Epoch: 51 Loss: 0.00008668\n",
            "Epoch: 52 Loss: 0.00042509\n",
            "Epoch: 53 Loss: 0.00048594\n",
            "Epoch: 54 Loss: 0.00036199\n",
            "Epoch: 55 Loss: 0.00015547\n",
            "Epoch: 56 Loss: 0.00018270\n",
            "Epoch: 57 Loss: 0.00024948\n",
            "Epoch: 58 Loss: 0.00028970\n",
            "Epoch: 59 Loss: 0.00014592\n",
            "Epoch: 60 Loss: 0.00001878\n",
            "Epoch: 61 Loss: 0.00000065\n",
            "Epoch: 62 Loss: 0.00000025\n",
            "Epoch: 63 Loss: 0.00000359\n",
            "Epoch: 64 Loss: 0.00000841\n",
            "Epoch: 65 Loss: 0.00000701\n",
            "Epoch: 66 Loss: 0.00000002\n",
            "Epoch: 67 Loss: 0.00002594\n",
            "Epoch: 68 Loss: 0.00007691\n",
            "Epoch: 69 Loss: 0.00005508\n",
            "Epoch: 70 Loss: 0.00000388\n",
            "Epoch: 71 Loss: 0.00002187\n",
            "Epoch: 72 Loss: 0.00012333\n",
            "Epoch: 73 Loss: 0.00028974\n",
            "Epoch: 74 Loss: 0.00049968\n",
            "Epoch: 75 Loss: 0.00066844\n",
            "Epoch: 76 Loss: 0.00081537\n",
            "Epoch: 77 Loss: 0.00095884\n",
            "Epoch: 78 Loss: 0.00112970\n",
            "Epoch: 79 Loss: 0.00136302\n",
            "Epoch: 80 Loss: 0.00174896\n",
            "Epoch: 81 Loss: 0.00257730\n",
            "Epoch: 82 Loss: 0.00407642\n",
            "Epoch: 83 Loss: 0.00447522\n",
            "Epoch: 84 Loss: 0.00430732\n",
            "Epoch: 85 Loss: 0.00374180\n",
            "Epoch: 86 Loss: 0.00419861\n",
            "Epoch: 87 Loss: 0.00276121\n",
            "Epoch: 88 Loss: 0.00252576\n",
            "Epoch: 89 Loss: 0.00139272\n",
            "Epoch: 90 Loss: 0.00119549\n",
            "Epoch: 91 Loss: 0.00050239\n",
            "Epoch: 92 Loss: 0.00043965\n",
            "Epoch: 93 Loss: 0.00015717\n",
            "Epoch: 94 Loss: 0.00005882\n",
            "Epoch: 95 Loss: 0.00001009\n",
            "Epoch: 96 Loss: 0.00008764\n",
            "Epoch: 97 Loss: 0.00006082\n",
            "Epoch: 98 Loss: 0.00001971\n",
            "Epoch: 99 Loss: 0.00002351\n",
            "Epoch: 100 Loss: 0.00000367\n",
            "\n",
            "Duration: 147 seconds\n"
          ],
          "name": "stdout"
        }
      ]
    },
    {
      "cell_type": "markdown",
      "metadata": {
        "id": "lBzroj4Ehk8B"
      },
      "source": [
        "## Ejecuta las predicciones y compáralas con el conjunto de pruebas conocido"
      ]
    },
    {
      "cell_type": "code",
      "metadata": {
        "collapsed": true,
        "id": "3mh2k8eZhk8B"
      },
      "source": [
        "future = 12\n",
        "\n",
        "# Añade la última ventana de valores de entrenamiento a la lista de predicciones\n",
        "preds = train_norm[-window_size:].tolist()\n",
        "\n",
        "# Poner el modelo en modo de evaluación\n",
        "model.eval()\n",
        "\n",
        "for i in range(future):\n",
        "    seq = torch.FloatTensor(preds[-window_size:])\n",
        "    with torch.no_grad():\n",
        "        model.hidden = (torch.zeros(1,1,model.hidden_size))\n",
        "        preds.append(model(seq).item())"
      ],
      "execution_count": null,
      "outputs": []
    },
    {
      "cell_type": "code",
      "metadata": {
        "colab": {
          "base_uri": "https://localhost:8080/"
        },
        "id": "nkfqHMUkhk8C",
        "outputId": "4180a9b1-8f4d-449a-c17d-7c3cd19ec35d"
      },
      "source": [
        "# Muestra predicciones\n",
        "preds[window_size:]    # equivalente a preds[-future:]"
      ],
      "execution_count": null,
      "outputs": [
        {
          "output_type": "execute_result",
          "data": {
            "text/plain": [
              "[0.3398522734642029,\n",
              " 0.5335941314697266,\n",
              " 0.4975461959838867,\n",
              " 0.770610511302948,\n",
              " 0.8305420279502869,\n",
              " 0.4778502583503723,\n",
              " 0.7327629327774048,\n",
              " 0.5625099539756775,\n",
              " 0.6917141079902649,\n",
              " 0.6842257380485535,\n",
              " 0.9496635794639587,\n",
              " 0.1636216938495636]"
            ]
          },
          "metadata": {
            "tags": []
          },
          "execution_count": 27
        }
      ]
    },
    {
      "cell_type": "markdown",
      "metadata": {
        "id": "GHTMwvZthk8C"
      },
      "source": [
        "## Invertir la normalización\n",
        "Queremos comparar nuestras predicciones de prueba con los datos originales, así que tenemos que deshacer el paso de normalización anterior. Tenga en cuenta que <tt>inverse_transform</tt> utiliza los parámetros aplicados más recientemente; podemos reescalar basándonos en los datos de prueba, pero no en los datos de entrenamiento anteriores."
      ]
    },
    {
      "cell_type": "code",
      "metadata": {
        "colab": {
          "base_uri": "https://localhost:8080/"
        },
        "id": "KoxgUBvBhk8C",
        "outputId": "6d499a64-7571-4dea-937c-651804bb6caa"
      },
      "source": [
        "true_predictions = scaler.inverse_transform(np.array(preds[window_size:]).reshape(-1, 1))\n",
        "true_predictions"
      ],
      "execution_count": null,
      "outputs": [
        {
          "output_type": "execute_result",
          "data": {
            "text/plain": [
              "array([[10868.46587363],\n",
              "       [12001.75887203],\n",
              "       [11790.89647341],\n",
              "       [13388.18618587],\n",
              "       [13738.7555925 ],\n",
              "       [11675.68508622],\n",
              "       [13166.79677528],\n",
              "       [12170.90197578],\n",
              "       [12926.68167469],\n",
              "       [12882.87845472],\n",
              "       [14435.55710807],\n",
              "       [ 9837.60509817]])"
            ]
          },
          "metadata": {
            "tags": []
          },
          "execution_count": 28
        }
      ]
    },
    {
      "cell_type": "code",
      "metadata": {
        "colab": {
          "base_uri": "https://localhost:8080/"
        },
        "id": "yvR1T8wjhk8D",
        "outputId": "522b1430-bad6-46b9-8447-3deb87a27098"
      },
      "source": [
        "df['S4248SM144NCEN'][-12:]"
      ],
      "execution_count": null,
      "outputs": [
        {
          "output_type": "execute_result",
          "data": {
            "text/plain": [
              "DATE\n",
              "2018-02-01    10415\n",
              "2018-03-01    12683\n",
              "2018-04-01    11919\n",
              "2018-05-01    14138\n",
              "2018-06-01    14583\n",
              "2018-07-01    12640\n",
              "2018-08-01    14257\n",
              "2018-09-01    12396\n",
              "2018-10-01    13914\n",
              "2018-11-01    14174\n",
              "2018-12-01    15504\n",
              "2019-01-01    10718\n",
              "Name: S4248SM144NCEN, dtype: int64"
            ]
          },
          "metadata": {
            "tags": []
          },
          "execution_count": 24
        }
      ]
    },
    {
      "cell_type": "markdown",
      "metadata": {
        "id": "lmLYfkU6mA__"
      },
      "source": [
        "¿Que te parecen las predicciones? "
      ]
    },
    {
      "cell_type": "markdown",
      "metadata": {
        "id": "MVArwGHjhk8D"
      },
      "source": [
        "## Representar los resultados\n",
        "Nuestros datos originales contienen un índice datetime, pero nuestros valores predichos no. Podemos crear un rango de fechas usando NumPy que estén espaciadas un mes entre sí usando <tt>dtype='datetime64[M]'</tt>, y luego almacenarlas con valores de día para que coincidan con nuestro conjunto de datos con <tt>.astype('datetime64[D]')</tt>."
      ]
    },
    {
      "cell_type": "code",
      "metadata": {
        "colab": {
          "base_uri": "https://localhost:8080/"
        },
        "id": "fZDgUM8Ghk8E",
        "outputId": "f14677c5-9a55-4a4e-8e85-50f98e74e8e5"
      },
      "source": [
        "# Recuerda que la fecha de parada tiene que ser posterior al último valor previsto.\n",
        "x = np.arange('2018-02-01', '2019-02-01', dtype='datetime64[M]').astype('datetime64[D]')\n",
        "x"
      ],
      "execution_count": null,
      "outputs": [
        {
          "output_type": "execute_result",
          "data": {
            "text/plain": [
              "array(['2018-02-01', '2018-03-01', '2018-04-01', '2018-05-01',\n",
              "       '2018-06-01', '2018-07-01', '2018-08-01', '2018-09-01',\n",
              "       '2018-10-01', '2018-11-01', '2018-12-01', '2019-01-01'],\n",
              "      dtype='datetime64[D]')"
            ]
          },
          "metadata": {
            "tags": []
          },
          "execution_count": 29
        }
      ]
    },
    {
      "cell_type": "code",
      "metadata": {
        "colab": {
          "base_uri": "https://localhost:8080/",
          "height": 281
        },
        "id": "iTInAMW_hk8F",
        "outputId": "bb42ee2b-fa19-40c7-ffd6-1ac2a8468d13"
      },
      "source": [
        "plt.figure(figsize=(12,4))\n",
        "plt.title('Beer, Wine, and Alcohol Sales')\n",
        "plt.ylabel('Sales (millions of dollars)')\n",
        "plt.grid(True)\n",
        "plt.autoscale(axis='x',tight=True)\n",
        "plt.plot(df['S4248SM144NCEN'])\n",
        "plt.plot(x,true_predictions)\n",
        "plt.show()"
      ],
      "execution_count": null,
      "outputs": [
        {
          "output_type": "display_data",
          "data": {
            "image/png": "[encoded data removed]",
            "text/plain": [
              "<Figure size 864x288 with 1 Axes>"
            ]
          },
          "metadata": {
            "tags": [],
            "needs_background": "light"
          }
        }
      ]
    },
    {
      "cell_type": "code",
      "metadata": {
        "colab": {
          "base_uri": "https://localhost:8080/",
          "height": 279
        },
        "id": "_HbeQPdLhk8F",
        "outputId": "ea7d1afa-59eb-4cbd-e597-c65b22d3b688"
      },
      "source": [
        "# Ploteamos la parte final del gráfico (zoom)\n",
        "fig = plt.figure(figsize=(12,4))\n",
        "plt.title('Beer, Wine, and Alcohol Sales')\n",
        "plt.ylabel('Sales (millions of dollars)')\n",
        "plt.grid(True)\n",
        "plt.autoscale(axis='x',tight=True)\n",
        "fig.autofmt_xdate()\n",
        "\n",
        "# Seleccionamos a partir de 01-01-2017:\n",
        "plt.plot(df['S4248SM144NCEN']['2017-01-01':])\n",
        "plt.plot(x,true_predictions)\n",
        "plt.show()"
      ],
      "execution_count": null,
      "outputs": [
        {
          "output_type": "display_data",
          "data": {
            "image/png": "[encoded data removed]",
            "text/plain": [
              "<Figure size 864x288 with 1 Axes>"
            ]
          },
          "metadata": {
            "tags": [],
            "needs_background": "light"
          }
        }
      ]
    },
    {
      "cell_type": "markdown",
      "metadata": {
        "id": "2bUufxxnhk8G"
      },
      "source": [
        "# Predicción de futuro desconocido\n",
        "Para lanzar predicciones sobre datos nuevos desconocidos, una posibilidad empleada es continuar entrenando el modelo utilizando todo el conjunto de datos, y lanzar las predicciones, en nuestro caso 12 pasos en el futuro."
      ]
    },
    {
      "cell_type": "code",
      "metadata": {
        "colab": {
          "base_uri": "https://localhost:8080/"
        },
        "id": "JQY8HOWKhk8G",
        "outputId": "a2ef8ebe-44b5-41f1-aa86-e8212365bb7c"
      },
      "source": [
        "epochs = 100\n",
        "\n",
        "# Ponemos el modelo en modo entrenamiento\n",
        "model.train()\n",
        "\n",
        "# escalamos y pasamos a Torch tensor\n",
        "y_norm = scaler.fit_transform(y.reshape(-1, 1))\n",
        "y_norm = torch.FloatTensor(y_norm).view(-1)\n",
        "all_data = input_data(y_norm,window_size)\n",
        "\n",
        "import time\n",
        "start_time = time.time()\n",
        "\n",
        "for epoch in range(epochs):\n",
        "    \n",
        "    # entrenamos para toda la secuencia\n",
        "    for seq, y_train in all_data:  \n",
        "        \n",
        "        # reset de parameteros y estado oculto\n",
        "        optimizer.zero_grad()\n",
        "\n",
        "        model.hidden = (torch.zeros(1,1,model.hidden_size))    \n",
        "        \n",
        "        # prediccion\n",
        "        y_pred = model(seq)\n",
        "        \n",
        "        loss = criterion(y_pred, y_train)\n",
        "        loss.backward()\n",
        "        optimizer.step()\n",
        "        \n",
        "    # resultado\n",
        "    print(f'Epoch: {epoch+1:2} Loss: {loss.item():10.8f}')\n",
        "    \n",
        "print(f'\\nDuration: {time.time() - start_time:.0f} seconds')"
      ],
      "execution_count": null,
      "outputs": [
        {
          "output_type": "stream",
          "text": [
            "Epoch:  1 Loss: 0.00987549\n",
            "Epoch:  2 Loss: 0.00524818\n",
            "Epoch:  3 Loss: 0.00559981\n",
            "Epoch:  4 Loss: 0.00470738\n",
            "Epoch:  5 Loss: 0.00515348\n",
            "Epoch:  6 Loss: 0.00522674\n",
            "Epoch:  7 Loss: 0.00589927\n",
            "Epoch:  8 Loss: 0.00574377\n",
            "Epoch:  9 Loss: 0.00595597\n",
            "Epoch: 10 Loss: 0.00579981\n",
            "Epoch: 11 Loss: 0.00656586\n",
            "Epoch: 12 Loss: 0.00535497\n",
            "Epoch: 13 Loss: 0.00423244\n",
            "Epoch: 14 Loss: 0.00562762\n",
            "Epoch: 15 Loss: 0.00412628\n",
            "Epoch: 16 Loss: 0.00326692\n",
            "Epoch: 17 Loss: 0.00946677\n",
            "Epoch: 18 Loss: 0.00382769\n",
            "Epoch: 19 Loss: 0.00690405\n",
            "Epoch: 20 Loss: 0.00246543\n",
            "Epoch: 21 Loss: 0.00722002\n",
            "Epoch: 22 Loss: 0.00076950\n",
            "Epoch: 23 Loss: 0.01403884\n",
            "Epoch: 24 Loss: 0.00413693\n",
            "Epoch: 25 Loss: 0.00606227\n",
            "Epoch: 26 Loss: 0.00615495\n",
            "Epoch: 27 Loss: 0.00357057\n",
            "Epoch: 28 Loss: 0.00428313\n",
            "Epoch: 29 Loss: 0.00545157\n",
            "Epoch: 30 Loss: 0.00461016\n",
            "Epoch: 31 Loss: 0.00419723\n",
            "Epoch: 32 Loss: 0.00086635\n",
            "Epoch: 33 Loss: 0.00069997\n",
            "Epoch: 34 Loss: 0.00019324\n",
            "Epoch: 35 Loss: 0.00056016\n",
            "Epoch: 36 Loss: 0.00139086\n",
            "Epoch: 37 Loss: 0.00221464\n",
            "Epoch: 38 Loss: 0.00065160\n",
            "Epoch: 39 Loss: 0.01246676\n",
            "Epoch: 40 Loss: 0.00311340\n",
            "Epoch: 41 Loss: 0.00000487\n",
            "Epoch: 42 Loss: 0.00003151\n",
            "Epoch: 43 Loss: 0.00013777\n",
            "Epoch: 44 Loss: 0.00005439\n",
            "Epoch: 45 Loss: 0.00132790\n",
            "Epoch: 46 Loss: 0.00614777\n",
            "Epoch: 47 Loss: 0.00037950\n",
            "Epoch: 48 Loss: 0.00006119\n",
            "Epoch: 49 Loss: 0.00031230\n",
            "Epoch: 50 Loss: 0.00027905\n",
            "Epoch: 51 Loss: 0.00017946\n",
            "Epoch: 52 Loss: 0.00023638\n",
            "Epoch: 53 Loss: 0.00055225\n",
            "Epoch: 54 Loss: 0.00349566\n",
            "Epoch: 55 Loss: 0.00369737\n",
            "Epoch: 56 Loss: 0.00168063\n",
            "Epoch: 57 Loss: 0.00060719\n",
            "Epoch: 58 Loss: 0.00000582\n",
            "Epoch: 59 Loss: 0.00055543\n",
            "Epoch: 60 Loss: 0.00041089\n",
            "Epoch: 61 Loss: 0.00129055\n",
            "Epoch: 62 Loss: 0.00080788\n",
            "Epoch: 63 Loss: 0.00155718\n",
            "Epoch: 64 Loss: 0.00506916\n",
            "Epoch: 65 Loss: 0.00366531\n",
            "Epoch: 66 Loss: 0.00263468\n",
            "Epoch: 67 Loss: 0.01712063\n",
            "Epoch: 68 Loss: 0.00023724\n",
            "Epoch: 69 Loss: 0.00024736\n",
            "Epoch: 70 Loss: 0.00013582\n",
            "Epoch: 71 Loss: 0.00003192\n",
            "Epoch: 72 Loss: 0.00070209\n",
            "Epoch: 73 Loss: 0.00074724\n",
            "Epoch: 74 Loss: 0.00008223\n",
            "Epoch: 75 Loss: 0.00095615\n",
            "Epoch: 76 Loss: 0.00341228\n",
            "Epoch: 77 Loss: 0.00322380\n",
            "Epoch: 78 Loss: 0.00002274\n",
            "Epoch: 79 Loss: 0.00047522\n",
            "Epoch: 80 Loss: 0.00006411\n",
            "Epoch: 81 Loss: 0.00016689\n",
            "Epoch: 82 Loss: 0.00043933\n",
            "Epoch: 83 Loss: 0.00000777\n",
            "Epoch: 84 Loss: 0.00203287\n",
            "Epoch: 85 Loss: 0.00012093\n",
            "Epoch: 86 Loss: 0.00004986\n",
            "Epoch: 87 Loss: 0.00704810\n",
            "Epoch: 88 Loss: 0.00077257\n",
            "Epoch: 89 Loss: 0.00014173\n",
            "Epoch: 90 Loss: 0.00000342\n",
            "Epoch: 91 Loss: 0.00128992\n",
            "Epoch: 92 Loss: 0.00001475\n",
            "Epoch: 93 Loss: 0.00063460\n",
            "Epoch: 94 Loss: 0.00088457\n",
            "Epoch: 95 Loss: 0.00063323\n",
            "Epoch: 96 Loss: 0.00006475\n",
            "Epoch: 97 Loss: 0.00840413\n",
            "Epoch: 98 Loss: 0.00016387\n",
            "Epoch: 99 Loss: 0.00072944\n",
            "Epoch: 100 Loss: 0.00000075\n",
            "\n",
            "Duration: 153 seconds\n"
          ],
          "name": "stdout"
        }
      ]
    },
    {
      "cell_type": "markdown",
      "metadata": {
        "id": "FJqr5dwFhk8H"
      },
      "source": [
        "## Ploteamos las predicciones"
      ]
    },
    {
      "cell_type": "code",
      "metadata": {
        "colab": {
          "base_uri": "https://localhost:8080/",
          "height": 281
        },
        "id": "_3u8y9QYhk8H",
        "outputId": "123b9bed-b8d2-4d91-e9ab-72486de3afdf"
      },
      "source": [
        "window_size = 12\n",
        "future = 12\n",
        "L = len(y)\n",
        "\n",
        "preds = y_norm[-window_size:].tolist()\n",
        "\n",
        "model.eval()\n",
        "for i in range(future):  \n",
        "    seq = torch.FloatTensor(preds[-window_size:])\n",
        "    with torch.no_grad():\n",
        "        # Reseteamos los parametros aqui\n",
        "        model.hidden = (torch.zeros(1,1,model.hidden_size))\n",
        "        preds.append(model(seq).item())\n",
        "\n",
        "#Normalización inversa del conjunto de predicciones\n",
        "true_predictions = scaler.inverse_transform(np.array(preds).reshape(-1, 1))\n",
        "\n",
        "# PLOTEAMOS EL RESULTADO\n",
        "# Establezca un rango de datos para los datos predichos.\n",
        "# Recuerde que la fecha de parada tiene que ser posterior al último valor predicho.\n",
        "x = np.arange('2019-02-01', '2020-02-01', dtype='datetime64[M]').astype('datetime64[D]')\n",
        "\n",
        "plt.figure(figsize=(12,4))\n",
        "plt.title('Beer, Wine, and Alcohol Sales')\n",
        "plt.ylabel('Sales (millions of dollars)')\n",
        "plt.grid(True)\n",
        "plt.autoscale(axis='x',tight=True)\n",
        "plt.plot(df['S4248SM144NCEN'])\n",
        "plt.plot(x,true_predictions[window_size:])\n",
        "plt.show()"
      ],
      "execution_count": null,
      "outputs": [
        {
          "output_type": "display_data",
          "data": {
            "image/png": "[encoded data removed]",
            "text/plain": [
              "<Figure size 864x288 with 1 Axes>"
            ]
          },
          "metadata": {
            "tags": [],
            "needs_background": "light"
          }
        }
      ]
    },
    {
      "cell_type": "code",
      "metadata": {
        "colab": {
          "base_uri": "https://localhost:8080/",
          "height": 279
        },
        "id": "fJTpN7rbhk8I",
        "outputId": "bcfe75f5-5a6b-4e9a-9c56-dc9e9ce29b76"
      },
      "source": [
        "fig = plt.figure(figsize=(12,4))\n",
        "plt.title('Beer, Wine, and Alcohol Sales')\n",
        "plt.ylabel('Sales (millions of dollars)')\n",
        "plt.grid(True)\n",
        "plt.autoscale(axis='x',tight=True)\n",
        "fig.autofmt_xdate()\n",
        "plt.plot(df['S4248SM144NCEN']['2017-01-01':])\n",
        "plt.plot(x,true_predictions[window_size:])\n",
        "plt.show()"
      ],
      "execution_count": null,
      "outputs": [
        {
          "output_type": "display_data",
          "data": {
            "image/png": "[encoded data removed]",
            "text/plain": [
              "<Figure size 864x288 with 1 Axes>"
            ]
          },
          "metadata": {
            "tags": [],
            "needs_background": "light"
          }
        }
      ]
    },
    {
      "cell_type": "markdown",
      "metadata": {
        "id": "sVat9Zk2nKTN"
      },
      "source": [
        "Enhorabuena, has llegado al final del cuaderno. \r\n",
        "\r\n",
        "\r\n"
      ]
    },
    {
      "cell_type": "markdown",
      "metadata": {
        "id": "Qfh22hMyhk8I"
      },
      "source": [
        "## Referencias"
      ]
    },
    {
      "cell_type": "markdown",
      "metadata": {
        "id": "tS5b0x2DeT-b"
      },
      "source": [
        "*   Documento inspirado en el curso UDEMY: DeepLearning con Pytorch de Jose Marcial Portilla.\r\n",
        "* Doc oficial Pytorch https://pytorch.org/docs/stable/generated/torch.nn.RNN.html\r\n",
        "* https://pytorch.org/tutorials/intermediate/char_rnn_classification_tutorial.html"
      ]
    },
    {
      "cell_type": "markdown",
      "metadata": {
        "id": "6jnBA4AmeVP1"
      },
      "source": [
        "##Fin del cuaderno"
      ]
    }
  ]
}