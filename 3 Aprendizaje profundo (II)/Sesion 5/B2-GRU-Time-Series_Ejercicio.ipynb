{
  "nbformat": 4,
  "nbformat_minor": 0,
  "metadata": {
    "kernelspec": {
      "display_name": "Python 3",
      "language": "python",
      "name": "python3"
    },
    "language_info": {
      "codemirror_mode": {
        "name": "ipython",
        "version": 3
      },
      "file_extension": ".py",
      "mimetype": "text/x-python",
      "name": "python",
      "nbconvert_exporter": "python",
      "pygments_lexer": "ipython3",
      "version": "3.7.3"
    },
    "colab": {
      "name": "1LaIQPmdSOEq8wpTeZKATPkkNnvHMGJNV",
      "provenance": [],
      "collapsed_sections": [],
      "include_colab_link": true
    }
  },
  "cells": [
    {
      "cell_type": "markdown",
      "metadata": {
        "id": "view-in-github",
        "colab_type": "text"
      },
      "source": [
        "<a href=\"https://colab.research.google.com/github/vicentcamison/idal_ia3/blob/main/3%20Aprendizaje%20profundo%20(II)/Sesion%205/B2-GRU-Time-Series_Ejercicio.ipynb\" target=\"_parent\"><img src=\"https://colab.research.google.com/assets/colab-badge.svg\" alt=\"Open In Colab\"/></a>"
      ]
    },
    {
      "cell_type": "markdown",
      "metadata": {
        "collapsed": true,
        "id": "o3YvFcjygJ7G"
      },
      "source": [
        "![IDAL](https://i.imgur.com/tIKXIG1.jpg)  \n",
        "\n",
        "#**Máster en Inteligencia Artificial Avanzada y Aplicada:  IA^3**\n",
        "---"
      ]
    },
    {
      "cell_type": "markdown",
      "metadata": {
        "id": "aXnCwJi62Yd0"
      },
      "source": [
        "#GRU en series temporales: Ejercicio"
      ]
    },
    {
      "cell_type": "markdown",
      "metadata": {
        "id": "GJDyf4HDgJ7R"
      },
      "source": [
        "Para este ejercicio vamos a utilizar los datos de la Base de Datos Económicos de la Reserva Federal (FRED) relativos a la producción de los servicios públicos de electricidad y gas desde enero de 1992 hasta enero de 2019 (325 registros).\n",
        "\n",
        "Fuente de datos: https://fred.stlouisfed.org/series/IPG2211A2N\n",
        "\n",
        "El ejercico consta de las siguientes partes:\n",
        "* Realizar importaciones estándar, cargar y trazar el conjunto de datos (código proporcionado)\n",
        "* Preparar los datos para un modelo GRU\n",
        "* Definir el modelo GRU y las funciones de pérdida y optimización\n",
        "* Entrenar el modelo\n",
        "* Evaluar el modelo en datos de prueba\n",
        "* Graficar los resultados\n"
      ]
    },
    {
      "cell_type": "markdown",
      "metadata": {
        "id": "7GqByA8ogJ7S"
      },
      "source": [
        "## Realiza las importaciones estándar, carga y traza el conjunto de datos\n",
        "Ejecute las celdas siguientes para cargar las bibliotecas necesarias para este ejercicio y el conjunto de datos de producción de energía, y para trazar los datos."
      ]
    },
    {
      "cell_type": "code",
      "metadata": {
        "id": "EY8u2cYqgJ7T",
        "colab": {
          "base_uri": "https://localhost:8080/",
          "height": 252
        },
        "outputId": "8824faf0-c875-4e67-bcb0-ccd39c32a5e2"
      },
      "source": [
        "import torch\n",
        "import torch.nn as nn\n",
        "from sklearn.preprocessing import MinMaxScaler\n",
        "\n",
        "import numpy as np\n",
        "import pandas as pd\n",
        "import matplotlib.pyplot as plt\n",
        "%matplotlib inline\n",
        "\n",
        "from pandas.plotting import register_matplotlib_converters\n",
        "register_matplotlib_converters()\n",
        "\n",
        "df = pd.read_csv('/content/sample_data/Energy_Production.csv',index_col=0,parse_dates=True)\n",
        "df.dropna(inplace=True)\n",
        "print(len(df))\n",
        "df.head()"
      ],
      "execution_count": null,
      "outputs": [
        {
          "output_type": "stream",
          "text": [
            "325\n"
          ],
          "name": "stdout"
        },
        {
          "output_type": "execute_result",
          "data": {
            "text/html": [
              "<div>\n",
              "<style scoped>\n",
              "    .dataframe tbody tr th:only-of-type {\n",
              "        vertical-align: middle;\n",
              "    }\n",
              "\n",
              "    .dataframe tbody tr th {\n",
              "        vertical-align: top;\n",
              "    }\n",
              "\n",
              "    .dataframe thead th {\n",
              "        text-align: right;\n",
              "    }\n",
              "</style>\n",
              "<table border=\"1\" class=\"dataframe\">\n",
              "  <thead>\n",
              "    <tr style=\"text-align: right;\">\n",
              "      <th></th>\n",
              "      <th>IPG2211A2N</th>\n",
              "    </tr>\n",
              "    <tr>\n",
              "      <th>DATE</th>\n",
              "      <th></th>\n",
              "    </tr>\n",
              "  </thead>\n",
              "  <tbody>\n",
              "    <tr>\n",
              "      <th>1992-01-01</th>\n",
              "      <td>85.5560</td>\n",
              "    </tr>\n",
              "    <tr>\n",
              "      <th>1992-02-01</th>\n",
              "      <td>80.4178</td>\n",
              "    </tr>\n",
              "    <tr>\n",
              "      <th>1992-03-01</th>\n",
              "      <td>74.7390</td>\n",
              "    </tr>\n",
              "    <tr>\n",
              "      <th>1992-04-01</th>\n",
              "      <td>69.8367</td>\n",
              "    </tr>\n",
              "    <tr>\n",
              "      <th>1992-05-01</th>\n",
              "      <td>67.3781</td>\n",
              "    </tr>\n",
              "  </tbody>\n",
              "</table>\n",
              "</div>"
            ],
            "text/plain": [
              "            IPG2211A2N\n",
              "DATE                  \n",
              "1992-01-01     85.5560\n",
              "1992-02-01     80.4178\n",
              "1992-03-01     74.7390\n",
              "1992-04-01     69.8367\n",
              "1992-05-01     67.3781"
            ]
          },
          "metadata": {
            "tags": []
          },
          "execution_count": 1
        }
      ]
    },
    {
      "cell_type": "code",
      "metadata": {
        "id": "FeJbriEQgJ7V",
        "colab": {
          "base_uri": "https://localhost:8080/",
          "height": 281
        },
        "outputId": "8d8cb635-a6eb-4be1-9a79-710065c115ba"
      },
      "source": [
        "plt.figure(figsize=(12,4))\n",
        "plt.title('Industrial Production Index for Electricity and Gas Utilities')\n",
        "plt.ylabel('Index 2012=100, Not Seasonally Adjusted')\n",
        "plt.grid(True)\n",
        "plt.autoscale(axis='x',tight=True)\n",
        "plt.plot(df['IPG2211A2N'])\n",
        "plt.show()"
      ],
      "execution_count": null,
      "outputs": [
        {
          "output_type": "display_data",
          "data": {
            "image/png": "[encoded data removed]",
            "text/plain": [
              "<Figure size 864x288 with 1 Axes>"
            ]
          },
          "metadata": {
            "tags": [],
            "needs_background": "light"
          }
        }
      ]
    },
    {
      "cell_type": "markdown",
      "metadata": {
        "id": "wVp7XDt4gJ7W"
      },
      "source": [
        "## Preparar los datos\n",
        "Para el primer conjunto de ejercicios vamos a\n",
        "* dividir los datos en conjuntos de entrenamiento y de prueba\n",
        "* normalizaremos el conjunto de entrenamiento\n",
        "* preparar las tuplas de secuencias/etiquetas con ventanas para un modelo GRU"
      ]
    },
    {
      "cell_type": "markdown",
      "metadata": {
        "id": "KLuz-QC3gJ7W"
      },
      "source": [
        "## Dividir los datos en conjuntos de entrenamiento y de prueba\n",
        "Trabajando con un tamaño de ventana de 12, dividir el conjunto de datos en una secuencia de 313 registros de entrenamiento (incluyendo la ventana), y un conjunto de prueba de 12 registros."
      ]
    },
    {
      "cell_type": "code",
      "metadata": {
        "id": "QyebQ7dqgJ7X",
        "colab": {
          "base_uri": "https://localhost:8080/",
          "height": 129
        },
        "outputId": "6fc4852a-8432-4ccd-c43d-e39dc067958f"
      },
      "source": [
        "# Tu código aquí\n",
        "y = df['IPG2211A2N'].values.astype(float)\n",
        "\n",
        "test_size = \n",
        "window_size = \n",
        "\n",
        "train_set = \n",
        "test_set = "
      ],
      "execution_count": null,
      "outputs": [
        {
          "output_type": "error",
          "ename": "SyntaxError",
          "evalue": "ignored",
          "traceback": [
            "\u001b[0;36m  File \u001b[0;32m\"<ipython-input-1-d3adbaf74748>\"\u001b[0;36m, line \u001b[0;32m4\u001b[0m\n\u001b[0;31m    test_size =\u001b[0m\n\u001b[0m                ^\u001b[0m\n\u001b[0;31mSyntaxError\u001b[0m\u001b[0;31m:\u001b[0m invalid syntax\n"
          ]
        }
      ]
    },
    {
      "cell_type": "code",
      "metadata": {
        "id": "dkH5W9C3gJ7X"
      },
      "source": [
        "print(f'Train: {len(train_set)}')\n",
        "print(f'Test:  {len(test_set)}')"
      ],
      "execution_count": null,
      "outputs": []
    },
    {
      "cell_type": "markdown",
      "metadata": {
        "id": "qKyGyPn7gJ7Y"
      },
      "source": [
        "## Normalizar el conjunto de entrenamiento\n",
        "Escala el conjunto de entrenamiento para que se ajuste al rango [-1,1]."
      ]
    },
    {
      "cell_type": "code",
      "metadata": {
        "id": "05jLwbi8gJ7Z"
      },
      "source": [
        "# Tu código aquí\n",
        "scaler = MinMaxScaler(feature_range=(-1, 1))\n",
        "\n",
        "\n",
        "train_norm = "
      ],
      "execution_count": null,
      "outputs": []
    },
    {
      "cell_type": "code",
      "metadata": {
        "id": "xQRZDSTogJ7Z"
      },
      "source": [
        "print(f'First item, original: {train_set[0]}')\n",
        "print(f'First item, scaled:  {train_norm[0]}')"
      ],
      "execution_count": null,
      "outputs": []
    },
    {
      "cell_type": "markdown",
      "metadata": {
        "id": "y_23MGXWgJ7a"
      },
      "source": [
        "##Preparar los datos para la GRU\n",
        "Prepare la lista de tuplas de secuencia/etiqueta con ventana para alimentar un modelo GRU."
      ]
    },
    {
      "cell_type": "code",
      "metadata": {
        "id": "R2B9IC2vgJ7a"
      },
      "source": [
        "train_norm = torch.FloatTensor(train_norm).view(-1)\n",
        "\n",
        "def input_data(seq,ws):\n",
        "    out = []\n",
        "    L = len(seq)\n",
        "    for i in range(L-ws):\n",
        "        window = seq[i:i+ws]\n",
        "        label = seq[i+ws:i+ws+1]\n",
        "        out.append((window,label))\n",
        "    return out"
      ],
      "execution_count": null,
      "outputs": []
    },
    {
      "cell_type": "code",
      "metadata": {
        "id": "Bg0kGXkKgJ7b"
      },
      "source": [
        "# Tu código aquí\n",
        "\n",
        "train_data = "
      ],
      "execution_count": null,
      "outputs": []
    },
    {
      "cell_type": "code",
      "metadata": {
        "id": "GmGRqFQGgJ7b"
      },
      "source": [
        "print(f'Train_data: {len(train_data)}')  "
      ],
      "execution_count": null,
      "outputs": []
    },
    {
      "cell_type": "markdown",
      "metadata": {
        "id": "J0hpeGMKgJ7c"
      },
      "source": [
        "## Definir el modelo\n",
        "Diseñe un modelo que tenga una capa GRU (1,64) y una capa lineal totalmente conectada (64,1). Asegúrese de inicializar $h_0$, y devolver sólo el último valor predicho."
      ]
    },
    {
      "cell_type": "code",
      "metadata": {
        "id": "7Tx7iEo8gJ7c"
      },
      "source": [
        "# Tu código aquí\n",
        "class GRUnetwork(nn.Module):\n",
        "    \n",
        "    \n",
        "    \n",
        "    \n",
        "    \n",
        "    \n",
        "    \n",
        "    \n",
        "\n"
      ],
      "execution_count": null,
      "outputs": []
    },
    {
      "cell_type": "code",
      "metadata": {
        "id": "_2PNTHjcgJ7d"
      },
      "source": [
        "\n",
        "torch.manual_seed(101)\n",
        "model = GRUnetwork()\n",
        "model"
      ],
      "execution_count": null,
      "outputs": []
    },
    {
      "cell_type": "markdown",
      "metadata": {
        "id": "-ZcMhdT2gJ7e"
      },
      "source": [
        "## Definir las funciones de pérdida y optimización\n",
        "Defina una función de pérdida llamada \"criterio\" y un optimizador llamado \"optimizador\".<br>\n",
        "Puedes utilizar las funciones que quieras, aunque nosotros hemos utilizado MSELoss y Adam (tasa de aprendizaje de 0,001) respectivamente."
      ]
    },
    {
      "cell_type": "code",
      "metadata": {
        "id": "iOuY89V7gJ7e"
      },
      "source": [
        "# Tu código aquí\n",
        "\n",
        "\n"
      ],
      "execution_count": null,
      "outputs": []
    },
    {
      "cell_type": "code",
      "metadata": {
        "id": "V8ldmfcygJ7e"
      },
      "source": [
        "criterion = nn.MSELoss()\n",
        "optimizer = torch.optim.Adam(model.parameters(), lr=0.001)"
      ],
      "execution_count": null,
      "outputs": []
    },
    {
      "cell_type": "markdown",
      "metadata": {
        "id": "aEBJPukWgJ7f"
      },
      "source": [
        "##Entrena el modelo\n",
        "No se preocupe por el seguimiento de los valores de pérdida, la visualización de los resultados o la validación del conjunto de pruebas. Simplemente entrene el modelo a través de 50 épocas. Evaluaremos el modelo entrenado en el siguiente paso.\n",
        "\n",
        "*CONSEJO: imprimir algo después de cada epoch para indicar el progreso del entrenamiento.*"
      ]
    },
    {
      "cell_type": "code",
      "metadata": {
        "id": "9gFRVyBTgJ7f"
      },
      "source": [
        "# Tu código aquí\n",
        "\n",
        "\n"
      ],
      "execution_count": null,
      "outputs": []
    },
    {
      "cell_type": "markdown",
      "metadata": {
        "id": "AtaSblNrgJ7h"
      },
      "source": [
        "## Evalúa el modelo utilizando el conjunto de pruebas\n",
        "Asegúrese de reinicializar los parámetros ocultos $h_0$ antes de ejecutar el modelo."
      ]
    },
    {
      "cell_type": "code",
      "metadata": {
        "id": "U0eTcFGhgJ7h"
      },
      "source": [
        "# Tu código aquí\n",
        "future = \n",
        "preds = \n",
        "\n",
        "model.eval()\n",
        "\n",
        "for i in range(future):\n",
        "\n",
        "\n"
      ],
      "execution_count": null,
      "outputs": []
    },
    {
      "cell_type": "code",
      "metadata": {
        "id": "2ylFpbyTgJ7i"
      },
      "source": [
        "preds[window_size:]"
      ],
      "execution_count": null,
      "outputs": []
    },
    {
      "cell_type": "markdown",
      "metadata": {
        "id": "qWfuC83NgJ7i"
      },
      "source": [
        "## Transformación inversa de los valores predichos\n",
        "Reescalar los valores predichos hasta el rango original del conjunto de pruebas."
      ]
    },
    {
      "cell_type": "code",
      "metadata": {
        "id": "A9aJmeDcgJ7j"
      },
      "source": [
        "# Tu código aquí\n",
        "true_predictions = "
      ],
      "execution_count": null,
      "outputs": []
    },
    {
      "cell_type": "code",
      "metadata": {
        "id": "pkz3ELPBgJ7j"
      },
      "source": [
        "true_predictions"
      ],
      "execution_count": null,
      "outputs": []
    },
    {
      "cell_type": "markdown",
      "metadata": {
        "id": "mQ2s5OE9gJ7k"
      },
      "source": [
        "## Graficar el resultado\n",
        "Trace los valores de true_predictions junto con los datos originales. Recuerde crear un rango de valores de fecha para los datos predichos."
      ]
    },
    {
      "cell_type": "code",
      "metadata": {
        "id": "dEtoAxsMgJ7k"
      },
      "source": [
        "# Tu código aquí\n"
      ],
      "execution_count": null,
      "outputs": []
    },
    {
      "cell_type": "code",
      "metadata": {
        "id": "v5hRi3r1gJ7l"
      },
      "source": [
        "# Tu código aquí "
      ],
      "execution_count": null,
      "outputs": []
    },
    {
      "cell_type": "markdown",
      "metadata": {
        "id": "y0r6Pmmh7gBU"
      },
      "source": [
        "¿Que te parecen los resultados? ¿Son mejorables? ¿Como? \r\n",
        "Prueba diferentes posibilidades y observa los resultados"
      ]
    },
    {
      "cell_type": "markdown",
      "metadata": {
        "id": "s29_jB867SLq"
      },
      "source": [
        "Enhorabuena, has llegado al final del cuaderno. \r\n"
      ]
    },
    {
      "cell_type": "markdown",
      "metadata": {
        "id": "RDhZCtEa7Yfj"
      },
      "source": [
        "## Referencias"
      ]
    },
    {
      "cell_type": "markdown",
      "metadata": {
        "id": "I-U5pMrZ7TBs"
      },
      "source": [
        "*   Documento inspirado en el curso UDEMY: DeepLearning con Pytorch de Jose Marcial Portilla.\r\n",
        "* Doc oficial Pytorch https://pytorch.org/docs/stable/generated/torch.nn.RNN.html\r\n",
        "* https://pytorch.org/tutorials/intermediate/char_rnn_classification_tutorial.html"
      ]
    },
    {
      "cell_type": "markdown",
      "metadata": {
        "id": "1u58vN6igJ7m"
      },
      "source": [
        "## Fin del cuaderno"
      ]
    }
  ]
}