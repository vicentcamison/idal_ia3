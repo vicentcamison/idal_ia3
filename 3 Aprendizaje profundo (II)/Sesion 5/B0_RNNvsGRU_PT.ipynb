{
  "nbformat": 4,
  "nbformat_minor": 0,
  "metadata": {
    "colab": {
      "name": "0-RNNvsGRU_PT.ipynb",
      "provenance": [],
      "collapsed_sections": [],
      "include_colab_link": true
    },
    "kernelspec": {
      "display_name": "Python 3",
      "language": "python",
      "name": "python3"
    }
  },
  "cells": [
    {
      "cell_type": "markdown",
      "metadata": {
        "id": "view-in-github",
        "colab_type": "text"
      },
      "source": [
        "<a href=\"https://colab.research.google.com/github/vicentcamison/idal_ia3/blob/main/3%20Aprendizaje%20profundo%20(II)/Sesion%205/B0_RNNvsGRU_PT.ipynb\" target=\"_parent\"><img src=\"https://colab.research.google.com/assets/colab-badge.svg\" alt=\"Open In Colab\"/></a>"
      ]
    },
    {
      "cell_type": "markdown",
      "metadata": {
        "id": "gEn244FwQGRA"
      },
      "source": [
        "![IDAL](https://i.imgur.com/tIKXIG1.jpg)  \r\n",
        "\r\n",
        "#**Máster en Inteligencia Artificial Avanzada y Aplicada:  IA^3**\r\n",
        "---"
      ]
    },
    {
      "cell_type": "markdown",
      "metadata": {
        "id": "BVq5mz9s8CPL"
      },
      "source": [
        "# <strong><center>RNN simple VS GRU</strong>\n",
        "En este ejemplo vamos a estudiar la mejora que se produce al emplear distitas arquitecturas de redes recurrentes. \n",
        "Vamos a entrenar dos modelos diferentes (ligeramente) empleando las imágenes del famoso dataset MNIST y en igualdad de condiciones para poder evaluar sus resultados, además de practicar la configuración de redes recurrentes con Pytorch"
      ]
    },
    {
      "cell_type": "code",
      "metadata": {
        "id": "hicY8Xs6_dI4"
      },
      "source": [
        "# Necesidades del guión...\r\n",
        "!pip3 install torch torchvision"
      ],
      "execution_count": null,
      "outputs": []
    },
    {
      "cell_type": "code",
      "metadata": {
        "id": "BBuAr4-L8CPN"
      },
      "source": [
        "import torch\n",
        "import torch.nn as nn\n",
        "import torchvision\n",
        "import torchvision.transforms as transforms"
      ],
      "execution_count": null,
      "outputs": []
    },
    {
      "cell_type": "markdown",
      "metadata": {
        "id": "FK3iGyIZNUDH"
      },
      "source": [
        "Definimos los hiperparámetros comunes"
      ]
    },
    {
      "cell_type": "code",
      "metadata": {
        "id": "uBK5ZwzJQ7Im"
      },
      "source": [
        "# Hyper-parametros \r\n",
        "# input_size = 784 # 28x28\r\n",
        "num_classes = 10\r\n",
        "num_epochs = 2\r\n",
        "batch_size = 100\r\n",
        "learning_rate = 0.001\r\n",
        "\r\n",
        "input_size = 28\r\n",
        "sequence_length = 28\r\n",
        "hidden_size = 128\r\n",
        "num_layers = 2"
      ],
      "execution_count": null,
      "outputs": []
    },
    {
      "cell_type": "code",
      "metadata": {
        "id": "SDmerYGUTASE"
      },
      "source": [
        "# Device configuration\r\n",
        "device = torch.device('cuda' if torch.cuda.is_available() else 'cpu')"
      ],
      "execution_count": null,
      "outputs": []
    },
    {
      "cell_type": "code",
      "metadata": {
        "id": "xDZUG5omRGQ_"
      },
      "source": [
        "# MNIST dataset \r\n",
        "train_dataset = torchvision.datasets.MNIST(root='./data', \r\n",
        "                                           train=True, \r\n",
        "                                           transform=transforms.ToTensor(),  \r\n",
        "                                           download=True)\r\n",
        "\r\n",
        "test_dataset = torchvision.datasets.MNIST(root='./data', \r\n",
        "                                          train=False, \r\n",
        "                                          transform=transforms.ToTensor())\r\n",
        "\r\n",
        "# Data loader\r\n",
        "train_loader = torch.utils.data.DataLoader(dataset=train_dataset, \r\n",
        "                                           batch_size=batch_size, \r\n",
        "                                           shuffle=True)\r\n",
        "\r\n",
        "test_loader = torch.utils.data.DataLoader(dataset=test_dataset, \r\n",
        "                                          batch_size=batch_size, \r\n",
        "                                          shuffle=False)"
      ],
      "execution_count": null,
      "outputs": []
    },
    {
      "cell_type": "markdown",
      "metadata": {
        "id": "Ixg3XnDM8CQy"
      },
      "source": [
        "El código anterior carga y prepara el conjunto de datos para introducirlo en el gráfico de cálculo que construiremos más adelante. Tómese unos minutos para jugar con el código y entender lo que está sucediendo. \r\n",
        "Fíjate en que necesitamos proporcionar un tamaño de lote. Esto se debe a que `trainloader` y `testloader` son iteradores que harán más fácil cuando estemos iterando sobre el conjunto de datos y entrenando nuestro modelo RNN con minilotes."
      ]
    },
    {
      "cell_type": "markdown",
      "metadata": {
        "id": "2f0fVaIV8CQ3"
      },
      "source": [
        "#### Exploración del conjunto de datos\n",
        "Vamos a explorar el conjunto de datos y comprobar que se ha cargado correctamente."
      ]
    },
    {
      "cell_type": "code",
      "metadata": {
        "id": "TEKzVTOY8CQ4",
        "colab": {
          "base_uri": "https://localhost:8080/",
          "height": 269
        },
        "outputId": "a7cc8eed-f33e-41b6-e645-4e8d895e0dfc"
      },
      "source": [
        "import matplotlib.pyplot as plt\n",
        "import numpy as np\n",
        "\n",
        "def imshow(img):\n",
        "    #img = img / 2 + 0.5     # unnormalize\n",
        "    npimg = img.numpy()\n",
        "    plt.imshow(np.transpose(npimg, (1, 2, 0)))\n",
        "\n",
        "# cogemos imágenes aleatorias\n",
        "dataiter = iter(train_loader)\n",
        "images, labels = dataiter.next()\n",
        "\n",
        "imshow(torchvision.utils.make_grid(images))"
      ],
      "execution_count": null,
      "outputs": [
        {
          "output_type": "display_data",
          "data": {
            "image/png": "[encoded data removed]",
            "text/plain": [
              "<Figure size 432x288 with 1 Axes>"
            ]
          },
          "metadata": {
            "tags": [],
            "needs_background": "light"
          }
        }
      ]
    },
    {
      "cell_type": "markdown",
      "metadata": {
        "id": "Y7NloDy08CQ9"
      },
      "source": [
        "## Modelo RNN simple\n"
      ]
    },
    {
      "cell_type": "markdown",
      "metadata": {
        "id": "ap6qGqzmNkq7"
      },
      "source": [
        "Definimos una red recurrente simple, tambien conocida como *vanilla RNN*"
      ]
    },
    {
      "cell_type": "code",
      "metadata": {
        "id": "-I_IMy3rSEG0"
      },
      "source": [
        "class RNN(nn.Module):\r\n",
        "    def __init__(self, input_size, hidden_size, num_layers, num_classes):\r\n",
        "        super(RNN, self).__init__()\r\n",
        "        self.num_layers = num_layers\r\n",
        "        self.hidden_size = hidden_size\r\n",
        "\r\n",
        "        self.rnn = nn.RNN(input_size, hidden_size, num_layers, batch_first=True)\r\n",
        "        self.fc = nn.Linear(hidden_size, num_classes)\r\n",
        "        \r\n",
        "    def forward(self, x):\r\n",
        "        h0 = torch.zeros(self.num_layers, x.size(0), self.hidden_size).to(device)       \r\n",
        "        out, _ = self.rnn(x, h0)\r\n",
        "        # Decodifica el estado oculto del ultimmo paso\r\n",
        "        out = out[:, -1, :]\r\n",
        "        out = self.fc(out)\r\n",
        "\r\n",
        "        return out"
      ],
      "execution_count": null,
      "outputs": []
    },
    {
      "cell_type": "code",
      "metadata": {
        "id": "weX6mGB4S1Wl"
      },
      "source": [
        "model = RNN(input_size, hidden_size, num_layers, num_classes).to(device)"
      ],
      "execution_count": null,
      "outputs": []
    },
    {
      "cell_type": "code",
      "metadata": {
        "id": "5Dh5VrA4SIfG"
      },
      "source": [
        "criterion = nn.CrossEntropyLoss()\r\n",
        "optimizer = torch.optim.Adam(model.parameters(), lr=learning_rate) "
      ],
      "execution_count": null,
      "outputs": []
    },
    {
      "cell_type": "code",
      "metadata": {
        "colab": {
          "base_uri": "https://localhost:8080/"
        },
        "id": "lGkXnuX3SS2J",
        "outputId": "860b426a-0ea6-45e5-a157-67ae79b5010a"
      },
      "source": [
        "# Entrenamiento\r\n",
        "n_total_steps = len(train_loader)\r\n",
        "for epoch in range(num_epochs):\r\n",
        "    for i, (images, labels) in enumerate(train_loader):  \r\n",
        "        # origin shape: [N, 1, 28, 28]\r\n",
        "        # resized: [N, 28, 28]\r\n",
        "        images = images.reshape(-1, sequence_length, input_size).to(device)\r\n",
        "        labels = labels.to(device)\r\n",
        "        \r\n",
        "        # Forward pass\r\n",
        "        outputs = model(images)\r\n",
        "        loss = criterion(outputs, labels)\r\n",
        "        \r\n",
        "        # Backward y optimiza\r\n",
        "        optimizer.zero_grad()\r\n",
        "        loss.backward()\r\n",
        "        optimizer.step()\r\n",
        "        \r\n",
        "        if (i+1) % 100 == 0:\r\n",
        "            print (f'Epoch [{epoch+1}/{num_epochs}], Step [{i+1}/{n_total_steps}], Loss: {loss.item():.4f}')"
      ],
      "execution_count": null,
      "outputs": [
        {
          "output_type": "stream",
          "text": [
            "Epoch [1/2], Step [100/600], Loss: 0.9686\n",
            "Epoch [1/2], Step [200/600], Loss: 0.5918\n",
            "Epoch [1/2], Step [300/600], Loss: 0.6562\n",
            "Epoch [1/2], Step [400/600], Loss: 0.3974\n",
            "Epoch [1/2], Step [500/600], Loss: 0.4988\n",
            "Epoch [1/2], Step [600/600], Loss: 0.3111\n",
            "Epoch [2/2], Step [100/600], Loss: 0.4962\n",
            "Epoch [2/2], Step [200/600], Loss: 0.2253\n",
            "Epoch [2/2], Step [300/600], Loss: 0.1393\n",
            "Epoch [2/2], Step [400/600], Loss: 0.1981\n",
            "Epoch [2/2], Step [500/600], Loss: 0.2380\n",
            "Epoch [2/2], Step [600/600], Loss: 0.1893\n"
          ],
          "name": "stdout"
        }
      ]
    },
    {
      "cell_type": "code",
      "metadata": {
        "colab": {
          "base_uri": "https://localhost:8080/"
        },
        "id": "_E3d8QZvSVsl",
        "outputId": "372465ab-cbae-4108-87b7-322eac84b0f6"
      },
      "source": [
        "# Test \r\n",
        "with torch.no_grad():\r\n",
        "    n_correct = 0\r\n",
        "    n_samples = 0\r\n",
        "    for images, labels in test_loader:\r\n",
        "        images = images.reshape(-1, sequence_length, input_size).to(device)\r\n",
        "        labels = labels.to(device)\r\n",
        "        outputs = model(images)\r\n",
        "        # max returns (value ,index)\r\n",
        "        _, predicted = torch.max(outputs.data, 1)\r\n",
        "        n_samples += labels.size(0)\r\n",
        "        n_correct += (predicted == labels).sum().item()\r\n",
        "\r\n",
        "    acc = 100.0 * n_correct / n_samples\r\n",
        "    print(f'Precision de la red con las 10000 imagenes de test: {acc} %')"
      ],
      "execution_count": null,
      "outputs": [
        {
          "output_type": "stream",
          "text": [
            "Precision de la red con las 10000 imagenes de test: 91.72 %\n"
          ],
          "name": "stdout"
        }
      ]
    },
    {
      "cell_type": "markdown",
      "metadata": {
        "id": "DstF0Ki8T1J_"
      },
      "source": [
        "##Modelo GRU"
      ]
    },
    {
      "cell_type": "markdown",
      "metadata": {
        "id": "AxQpRJ2jNxcX"
      },
      "source": [
        "Ahora definimos una GRU, un modelo evolucionado a partir de las rnn simple, que compensa algunos de los problemas incorporando mecanismos (*gates*) para controlar que parte de información se retiene y se olvida y solucionar ciertos problemas que tiene las rrns simples"
      ]
    },
    {
      "cell_type": "code",
      "metadata": {
        "id": "0kFASb26Twsm"
      },
      "source": [
        "class GRU(nn.Module):\r\n",
        "    def __init__(self, input_size, hidden_size, num_layers, num_classes):\r\n",
        "        super(GRU, self).__init__()\r\n",
        "        self.num_layers = num_layers\r\n",
        "        self.hidden_size = hidden_size\r\n",
        "        self.gru = nn.GRU(input_size, hidden_size, num_layers, batch_first=True)\r\n",
        "        self.fc = nn.Linear(hidden_size, num_classes)\r\n",
        "        \r\n",
        "    def forward(self, x):\r\n",
        "        h0 = torch.zeros(self.num_layers, x.size(0), self.hidden_size).to(device) \r\n",
        "        out, _ = self.gru(x, h0)  \r\n",
        "        # Decodifica el estado oculto del ultimmo paso\r\n",
        "        out = out[:, -1, :]\r\n",
        "        out = self.fc(out)\r\n",
        "        return out\r\n"
      ],
      "execution_count": null,
      "outputs": []
    },
    {
      "cell_type": "code",
      "metadata": {
        "id": "-qHDhjyeUJhT"
      },
      "source": [
        "GRUmodel = GRU(input_size, hidden_size, num_layers, num_classes).to(device)"
      ],
      "execution_count": null,
      "outputs": []
    },
    {
      "cell_type": "code",
      "metadata": {
        "id": "ccxYmBwGUL01"
      },
      "source": [
        "criterion = nn.CrossEntropyLoss()\r\n",
        "optimizer = torch.optim.Adam(GRUmodel.parameters(), lr=learning_rate) "
      ],
      "execution_count": null,
      "outputs": []
    },
    {
      "cell_type": "code",
      "metadata": {
        "colab": {
          "base_uri": "https://localhost:8080/"
        },
        "id": "G4y5zfjhUOuo",
        "outputId": "eef526c8-cf2f-4ae0-e8be-e8d33e1f56a6"
      },
      "source": [
        "# Entrenamiento\r\n",
        "n_total_steps = len(train_loader)\r\n",
        "for epoch in range(num_epochs):\r\n",
        "    for i, (images, labels) in enumerate(train_loader):  \r\n",
        "        # origin shape: [N, 1, 28, 28]\r\n",
        "        # resized: [N, 28, 28]\r\n",
        "        images = images.reshape(-1, sequence_length, input_size).to(device)\r\n",
        "        labels = labels.to(device)\r\n",
        "        \r\n",
        "        # Forward pass\r\n",
        "        outputs = GRUmodel(images)\r\n",
        "        loss = criterion(outputs, labels)\r\n",
        "        \r\n",
        "        # Backward y optimiza\r\n",
        "        optimizer.zero_grad()\r\n",
        "        loss.backward()\r\n",
        "        optimizer.step()\r\n",
        "        \r\n",
        "        if (i+1) % 100 == 0:\r\n",
        "            print (f'Epoch [{epoch+1}/{num_epochs}], Step [{i+1}/{n_total_steps}], Loss: {loss.item():.4f}')"
      ],
      "execution_count": null,
      "outputs": [
        {
          "output_type": "stream",
          "text": [
            "Epoch [1/2], Step [100/600], Loss: 0.7701\n",
            "Epoch [1/2], Step [200/600], Loss: 0.4514\n",
            "Epoch [1/2], Step [300/600], Loss: 0.2491\n",
            "Epoch [1/2], Step [400/600], Loss: 0.4001\n",
            "Epoch [1/2], Step [500/600], Loss: 0.1302\n",
            "Epoch [1/2], Step [600/600], Loss: 0.1479\n",
            "Epoch [2/2], Step [100/600], Loss: 0.1159\n",
            "Epoch [2/2], Step [200/600], Loss: 0.1519\n",
            "Epoch [2/2], Step [300/600], Loss: 0.1576\n",
            "Epoch [2/2], Step [400/600], Loss: 0.0506\n",
            "Epoch [2/2], Step [500/600], Loss: 0.0594\n",
            "Epoch [2/2], Step [600/600], Loss: 0.1087\n"
          ],
          "name": "stdout"
        }
      ]
    },
    {
      "cell_type": "code",
      "metadata": {
        "colab": {
          "base_uri": "https://localhost:8080/"
        },
        "id": "qprVBFtgXMoW",
        "outputId": "cf11516a-9290-4b50-e342-7cd007cfb974"
      },
      "source": [
        "# Test \r\n",
        "with torch.no_grad():\r\n",
        "    n_correct = 0\r\n",
        "    n_samples = 0\r\n",
        "    for images, labels in test_loader:\r\n",
        "        images = images.reshape(-1, sequence_length, input_size).to(device)\r\n",
        "        labels = labels.to(device)\r\n",
        "        outputs = GRUmodel(images)\r\n",
        "        # max returns (value ,index)\r\n",
        "        _, predicted = torch.max(outputs.data, 1)\r\n",
        "        n_samples += labels.size(0)\r\n",
        "        n_correct += (predicted == labels).sum().item()\r\n",
        "\r\n",
        "    acc = 100.0 * n_correct / n_samples\r\n",
        "    print(f'Precision de la red con las 10000 imagenes de test: {acc} %')"
      ],
      "execution_count": null,
      "outputs": [
        {
          "output_type": "stream",
          "text": [
            "Precision de la red con las 10000 imagenes de test: 97.32 %\n"
          ],
          "name": "stdout"
        }
      ]
    },
    {
      "cell_type": "markdown",
      "metadata": {
        "id": "x0njAmzfXK3_"
      },
      "source": [
        "Observa los resultados obtenidos \r\n",
        "* ¿que modelo lo ha hecho mejor? \r\n",
        "* ¿Porqué crees que es así?\r\n",
        "* ¿como se pueden mejorar?\r\n"
      ]
    },
    {
      "cell_type": "markdown",
      "metadata": {
        "id": "jKAm1xB08CRx"
      },
      "source": [
        "## Referencias\n",
        "- [A Simple Neural Network from Scratch with PyTorch and Google Colab](https://github.com/omarsar/pytorch_intro_neural_network/blob/master/nn.ipynb)\n",
        "- [Hands on Machine Learning with Scikit-learn and Tensorflow](http://shop.oreilly.com/product/0636920052289.do)"
      ]
    },
    {
      "cell_type": "markdown",
      "metadata": {
        "id": "G4QsPUBvXSvF"
      },
      "source": [
        "##Fin del cuaderno"
      ]
    }
  ]
}