{
  "nbformat": 4,
  "nbformat_minor": 0,
  "metadata": {
    "colab": {
      "name": "0-RNNvsGRU_PT.ipynb",
      "provenance": [],
      "collapsed_sections": [],
      "include_colab_link": true
    },
    "kernelspec": {
      "display_name": "Python 3",
      "language": "python",
      "name": "python3"
    },
    "accelerator": "GPU",
    "widgets": {
      "application/vnd.jupyter.widget-state+json": {
        "64a79c37185145748f744d8cd6d172d4": {
          "model_module": "@jupyter-widgets/controls",
          "model_name": "HBoxModel",
          "state": {
            "_view_name": "HBoxView",
            "_dom_classes": [],
            "_model_name": "HBoxModel",
            "_view_module": "@jupyter-widgets/controls",
            "_model_module_version": "1.5.0",
            "_view_count": null,
            "_view_module_version": "1.5.0",
            "box_style": "",
            "layout": "IPY_MODEL_77fe7743a75045f8b4f5fdbe8f89d6bd",
            "_model_module": "@jupyter-widgets/controls",
            "children": [
              "IPY_MODEL_47bb5e641cb548f1b503cf415120fa20",
              "IPY_MODEL_826150efcdbc4da0a5e2cad865ffdd39"
            ]
          }
        },
        "77fe7743a75045f8b4f5fdbe8f89d6bd": {
          "model_module": "@jupyter-widgets/base",
          "model_name": "LayoutModel",
          "state": {
            "_view_name": "LayoutView",
            "grid_template_rows": null,
            "right": null,
            "justify_content": null,
            "_view_module": "@jupyter-widgets/base",
            "overflow": null,
            "_model_module_version": "1.2.0",
            "_view_count": null,
            "flex_flow": null,
            "width": null,
            "min_width": null,
            "border": null,
            "align_items": null,
            "bottom": null,
            "_model_module": "@jupyter-widgets/base",
            "top": null,
            "grid_column": null,
            "overflow_y": null,
            "overflow_x": null,
            "grid_auto_flow": null,
            "grid_area": null,
            "grid_template_columns": null,
            "flex": null,
            "_model_name": "LayoutModel",
            "justify_items": null,
            "grid_row": null,
            "max_height": null,
            "align_content": null,
            "visibility": null,
            "align_self": null,
            "height": null,
            "min_height": null,
            "padding": null,
            "grid_auto_rows": null,
            "grid_gap": null,
            "max_width": null,
            "order": null,
            "_view_module_version": "1.2.0",
            "grid_template_areas": null,
            "object_position": null,
            "object_fit": null,
            "grid_auto_columns": null,
            "margin": null,
            "display": null,
            "left": null
          }
        },
        "47bb5e641cb548f1b503cf415120fa20": {
          "model_module": "@jupyter-widgets/controls",
          "model_name": "FloatProgressModel",
          "state": {
            "_view_name": "ProgressView",
            "style": "IPY_MODEL_10f2afb1af3a438b8760f03b2f8fa47a",
            "_dom_classes": [],
            "description": "",
            "_model_name": "FloatProgressModel",
            "bar_style": "success",
            "max": 1,
            "_view_module": "@jupyter-widgets/controls",
            "_model_module_version": "1.5.0",
            "value": 1,
            "_view_count": null,
            "_view_module_version": "1.5.0",
            "orientation": "horizontal",
            "min": 0,
            "description_tooltip": null,
            "_model_module": "@jupyter-widgets/controls",
            "layout": "IPY_MODEL_6ff1e4d0a6c74a819a77416087e06ae5"
          }
        },
        "826150efcdbc4da0a5e2cad865ffdd39": {
          "model_module": "@jupyter-widgets/controls",
          "model_name": "HTMLModel",
          "state": {
            "_view_name": "HTMLView",
            "style": "IPY_MODEL_6e328194e2aa467987e358f3f14dc0eb",
            "_dom_classes": [],
            "description": "",
            "_model_name": "HTMLModel",
            "placeholder": "​",
            "_view_module": "@jupyter-widgets/controls",
            "_model_module_version": "1.5.0",
            "value": " 9920512/? [00:04&lt;00:00, 2441707.23it/s]",
            "_view_count": null,
            "_view_module_version": "1.5.0",
            "description_tooltip": null,
            "_model_module": "@jupyter-widgets/controls",
            "layout": "IPY_MODEL_afa7e7f879e04093b655faaca13fdced"
          }
        },
        "10f2afb1af3a438b8760f03b2f8fa47a": {
          "model_module": "@jupyter-widgets/controls",
          "model_name": "ProgressStyleModel",
          "state": {
            "_view_name": "StyleView",
            "_model_name": "ProgressStyleModel",
            "description_width": "initial",
            "_view_module": "@jupyter-widgets/base",
            "_model_module_version": "1.5.0",
            "_view_count": null,
            "_view_module_version": "1.2.0",
            "bar_color": null,
            "_model_module": "@jupyter-widgets/controls"
          }
        },
        "6ff1e4d0a6c74a819a77416087e06ae5": {
          "model_module": "@jupyter-widgets/base",
          "model_name": "LayoutModel",
          "state": {
            "_view_name": "LayoutView",
            "grid_template_rows": null,
            "right": null,
            "justify_content": null,
            "_view_module": "@jupyter-widgets/base",
            "overflow": null,
            "_model_module_version": "1.2.0",
            "_view_count": null,
            "flex_flow": null,
            "width": null,
            "min_width": null,
            "border": null,
            "align_items": null,
            "bottom": null,
            "_model_module": "@jupyter-widgets/base",
            "top": null,
            "grid_column": null,
            "overflow_y": null,
            "overflow_x": null,
            "grid_auto_flow": null,
            "grid_area": null,
            "grid_template_columns": null,
            "flex": null,
            "_model_name": "LayoutModel",
            "justify_items": null,
            "grid_row": null,
            "max_height": null,
            "align_content": null,
            "visibility": null,
            "align_self": null,
            "height": null,
            "min_height": null,
            "padding": null,
            "grid_auto_rows": null,
            "grid_gap": null,
            "max_width": null,
            "order": null,
            "_view_module_version": "1.2.0",
            "grid_template_areas": null,
            "object_position": null,
            "object_fit": null,
            "grid_auto_columns": null,
            "margin": null,
            "display": null,
            "left": null
          }
        },
        "6e328194e2aa467987e358f3f14dc0eb": {
          "model_module": "@jupyter-widgets/controls",
          "model_name": "DescriptionStyleModel",
          "state": {
            "_view_name": "StyleView",
            "_model_name": "DescriptionStyleModel",
            "description_width": "",
            "_view_module": "@jupyter-widgets/base",
            "_model_module_version": "1.5.0",
            "_view_count": null,
            "_view_module_version": "1.2.0",
            "_model_module": "@jupyter-widgets/controls"
          }
        },
        "afa7e7f879e04093b655faaca13fdced": {
          "model_module": "@jupyter-widgets/base",
          "model_name": "LayoutModel",
          "state": {
            "_view_name": "LayoutView",
            "grid_template_rows": null,
            "right": null,
            "justify_content": null,
            "_view_module": "@jupyter-widgets/base",
            "overflow": null,
            "_model_module_version": "1.2.0",
            "_view_count": null,
            "flex_flow": null,
            "width": null,
            "min_width": null,
            "border": null,
            "align_items": null,
            "bottom": null,
            "_model_module": "@jupyter-widgets/base",
            "top": null,
            "grid_column": null,
            "overflow_y": null,
            "overflow_x": null,
            "grid_auto_flow": null,
            "grid_area": null,
            "grid_template_columns": null,
            "flex": null,
            "_model_name": "LayoutModel",
            "justify_items": null,
            "grid_row": null,
            "max_height": null,
            "align_content": null,
            "visibility": null,
            "align_self": null,
            "height": null,
            "min_height": null,
            "padding": null,
            "grid_auto_rows": null,
            "grid_gap": null,
            "max_width": null,
            "order": null,
            "_view_module_version": "1.2.0",
            "grid_template_areas": null,
            "object_position": null,
            "object_fit": null,
            "grid_auto_columns": null,
            "margin": null,
            "display": null,
            "left": null
          }
        },
        "c65bab9c47db45e4a033723ebbd13541": {
          "model_module": "@jupyter-widgets/controls",
          "model_name": "HBoxModel",
          "state": {
            "_view_name": "HBoxView",
            "_dom_classes": [],
            "_model_name": "HBoxModel",
            "_view_module": "@jupyter-widgets/controls",
            "_model_module_version": "1.5.0",
            "_view_count": null,
            "_view_module_version": "1.5.0",
            "box_style": "",
            "layout": "IPY_MODEL_53224db6002e4f49a2e3533553d239b7",
            "_model_module": "@jupyter-widgets/controls",
            "children": [
              "IPY_MODEL_6efdcdfdacfd4c94a3a4ae9a6fe5fccb",
              "IPY_MODEL_a9b31eda39db4063aa019fa9c9a1ebd9"
            ]
          }
        },
        "53224db6002e4f49a2e3533553d239b7": {
          "model_module": "@jupyter-widgets/base",
          "model_name": "LayoutModel",
          "state": {
            "_view_name": "LayoutView",
            "grid_template_rows": null,
            "right": null,
            "justify_content": null,
            "_view_module": "@jupyter-widgets/base",
            "overflow": null,
            "_model_module_version": "1.2.0",
            "_view_count": null,
            "flex_flow": null,
            "width": null,
            "min_width": null,
            "border": null,
            "align_items": null,
            "bottom": null,
            "_model_module": "@jupyter-widgets/base",
            "top": null,
            "grid_column": null,
            "overflow_y": null,
            "overflow_x": null,
            "grid_auto_flow": null,
            "grid_area": null,
            "grid_template_columns": null,
            "flex": null,
            "_model_name": "LayoutModel",
            "justify_items": null,
            "grid_row": null,
            "max_height": null,
            "align_content": null,
            "visibility": null,
            "align_self": null,
            "height": null,
            "min_height": null,
            "padding": null,
            "grid_auto_rows": null,
            "grid_gap": null,
            "max_width": null,
            "order": null,
            "_view_module_version": "1.2.0",
            "grid_template_areas": null,
            "object_position": null,
            "object_fit": null,
            "grid_auto_columns": null,
            "margin": null,
            "display": null,
            "left": null
          }
        },
        "6efdcdfdacfd4c94a3a4ae9a6fe5fccb": {
          "model_module": "@jupyter-widgets/controls",
          "model_name": "FloatProgressModel",
          "state": {
            "_view_name": "ProgressView",
            "style": "IPY_MODEL_803b657643d048569c291477b02f7920",
            "_dom_classes": [],
            "description": "",
            "_model_name": "FloatProgressModel",
            "bar_style": "success",
            "max": 1,
            "_view_module": "@jupyter-widgets/controls",
            "_model_module_version": "1.5.0",
            "value": 1,
            "_view_count": null,
            "_view_module_version": "1.5.0",
            "orientation": "horizontal",
            "min": 0,
            "description_tooltip": null,
            "_model_module": "@jupyter-widgets/controls",
            "layout": "IPY_MODEL_f6d759414db5431f87392f49e01d8f65"
          }
        },
        "a9b31eda39db4063aa019fa9c9a1ebd9": {
          "model_module": "@jupyter-widgets/controls",
          "model_name": "HTMLModel",
          "state": {
            "_view_name": "HTMLView",
            "style": "IPY_MODEL_03b3960642244f4f8e73f3601571c46e",
            "_dom_classes": [],
            "description": "",
            "_model_name": "HTMLModel",
            "placeholder": "​",
            "_view_module": "@jupyter-widgets/controls",
            "_model_module_version": "1.5.0",
            "value": " 32768/? [00:00&lt;00:00, 367903.87it/s]",
            "_view_count": null,
            "_view_module_version": "1.5.0",
            "description_tooltip": null,
            "_model_module": "@jupyter-widgets/controls",
            "layout": "IPY_MODEL_01e1f76515c5458f96c28c52c5e054a1"
          }
        },
        "803b657643d048569c291477b02f7920": {
          "model_module": "@jupyter-widgets/controls",
          "model_name": "ProgressStyleModel",
          "state": {
            "_view_name": "StyleView",
            "_model_name": "ProgressStyleModel",
            "description_width": "initial",
            "_view_module": "@jupyter-widgets/base",
            "_model_module_version": "1.5.0",
            "_view_count": null,
            "_view_module_version": "1.2.0",
            "bar_color": null,
            "_model_module": "@jupyter-widgets/controls"
          }
        },
        "f6d759414db5431f87392f49e01d8f65": {
          "model_module": "@jupyter-widgets/base",
          "model_name": "LayoutModel",
          "state": {
            "_view_name": "LayoutView",
            "grid_template_rows": null,
            "right": null,
            "justify_content": null,
            "_view_module": "@jupyter-widgets/base",
            "overflow": null,
            "_model_module_version": "1.2.0",
            "_view_count": null,
            "flex_flow": null,
            "width": null,
            "min_width": null,
            "border": null,
            "align_items": null,
            "bottom": null,
            "_model_module": "@jupyter-widgets/base",
            "top": null,
            "grid_column": null,
            "overflow_y": null,
            "overflow_x": null,
            "grid_auto_flow": null,
            "grid_area": null,
            "grid_template_columns": null,
            "flex": null,
            "_model_name": "LayoutModel",
            "justify_items": null,
            "grid_row": null,
            "max_height": null,
            "align_content": null,
            "visibility": null,
            "align_self": null,
            "height": null,
            "min_height": null,
            "padding": null,
            "grid_auto_rows": null,
            "grid_gap": null,
            "max_width": null,
            "order": null,
            "_view_module_version": "1.2.0",
            "grid_template_areas": null,
            "object_position": null,
            "object_fit": null,
            "grid_auto_columns": null,
            "margin": null,
            "display": null,
            "left": null
          }
        },
        "03b3960642244f4f8e73f3601571c46e": {
          "model_module": "@jupyter-widgets/controls",
          "model_name": "DescriptionStyleModel",
          "state": {
            "_view_name": "StyleView",
            "_model_name": "DescriptionStyleModel",
            "description_width": "",
            "_view_module": "@jupyter-widgets/base",
            "_model_module_version": "1.5.0",
            "_view_count": null,
            "_view_module_version": "1.2.0",
            "_model_module": "@jupyter-widgets/controls"
          }
        },
        "01e1f76515c5458f96c28c52c5e054a1": {
          "model_module": "@jupyter-widgets/base",
          "model_name": "LayoutModel",
          "state": {
            "_view_name": "LayoutView",
            "grid_template_rows": null,
            "right": null,
            "justify_content": null,
            "_view_module": "@jupyter-widgets/base",
            "overflow": null,
            "_model_module_version": "1.2.0",
            "_view_count": null,
            "flex_flow": null,
            "width": null,
            "min_width": null,
            "border": null,
            "align_items": null,
            "bottom": null,
            "_model_module": "@jupyter-widgets/base",
            "top": null,
            "grid_column": null,
            "overflow_y": null,
            "overflow_x": null,
            "grid_auto_flow": null,
            "grid_area": null,
            "grid_template_columns": null,
            "flex": null,
            "_model_name": "LayoutModel",
            "justify_items": null,
            "grid_row": null,
            "max_height": null,
            "align_content": null,
            "visibility": null,
            "align_self": null,
            "height": null,
            "min_height": null,
            "padding": null,
            "grid_auto_rows": null,
            "grid_gap": null,
            "max_width": null,
            "order": null,
            "_view_module_version": "1.2.0",
            "grid_template_areas": null,
            "object_position": null,
            "object_fit": null,
            "grid_auto_columns": null,
            "margin": null,
            "display": null,
            "left": null
          }
        },
        "38db25779fea4576b210d5ed5349590f": {
          "model_module": "@jupyter-widgets/controls",
          "model_name": "HBoxModel",
          "state": {
            "_view_name": "HBoxView",
            "_dom_classes": [],
            "_model_name": "HBoxModel",
            "_view_module": "@jupyter-widgets/controls",
            "_model_module_version": "1.5.0",
            "_view_count": null,
            "_view_module_version": "1.5.0",
            "box_style": "",
            "layout": "IPY_MODEL_1bd5913a561e4b00af63036d97656ebb",
            "_model_module": "@jupyter-widgets/controls",
            "children": [
              "IPY_MODEL_a541c8b7a3904aa9b3d6c02f0aa09b57",
              "IPY_MODEL_b7f40ebc8b9442b08cfb620a41b4c36d"
            ]
          }
        },
        "1bd5913a561e4b00af63036d97656ebb": {
          "model_module": "@jupyter-widgets/base",
          "model_name": "LayoutModel",
          "state": {
            "_view_name": "LayoutView",
            "grid_template_rows": null,
            "right": null,
            "justify_content": null,
            "_view_module": "@jupyter-widgets/base",
            "overflow": null,
            "_model_module_version": "1.2.0",
            "_view_count": null,
            "flex_flow": null,
            "width": null,
            "min_width": null,
            "border": null,
            "align_items": null,
            "bottom": null,
            "_model_module": "@jupyter-widgets/base",
            "top": null,
            "grid_column": null,
            "overflow_y": null,
            "overflow_x": null,
            "grid_auto_flow": null,
            "grid_area": null,
            "grid_template_columns": null,
            "flex": null,
            "_model_name": "LayoutModel",
            "justify_items": null,
            "grid_row": null,
            "max_height": null,
            "align_content": null,
            "visibility": null,
            "align_self": null,
            "height": null,
            "min_height": null,
            "padding": null,
            "grid_auto_rows": null,
            "grid_gap": null,
            "max_width": null,
            "order": null,
            "_view_module_version": "1.2.0",
            "grid_template_areas": null,
            "object_position": null,
            "object_fit": null,
            "grid_auto_columns": null,
            "margin": null,
            "display": null,
            "left": null
          }
        },
        "a541c8b7a3904aa9b3d6c02f0aa09b57": {
          "model_module": "@jupyter-widgets/controls",
          "model_name": "FloatProgressModel",
          "state": {
            "_view_name": "ProgressView",
            "style": "IPY_MODEL_a55b891c7c7248118f6a3432b0b47a9d",
            "_dom_classes": [],
            "description": "",
            "_model_name": "FloatProgressModel",
            "bar_style": "success",
            "max": 1,
            "_view_module": "@jupyter-widgets/controls",
            "_model_module_version": "1.5.0",
            "value": 1,
            "_view_count": null,
            "_view_module_version": "1.5.0",
            "orientation": "horizontal",
            "min": 0,
            "description_tooltip": null,
            "_model_module": "@jupyter-widgets/controls",
            "layout": "IPY_MODEL_c41e7f8de7194764bf9ff54922a3b89e"
          }
        },
        "b7f40ebc8b9442b08cfb620a41b4c36d": {
          "model_module": "@jupyter-widgets/controls",
          "model_name": "HTMLModel",
          "state": {
            "_view_name": "HTMLView",
            "style": "IPY_MODEL_ecdd56e8e3b442e69a963f24642716de",
            "_dom_classes": [],
            "description": "",
            "_model_name": "HTMLModel",
            "placeholder": "​",
            "_view_module": "@jupyter-widgets/controls",
            "_model_module_version": "1.5.0",
            "value": " 1654784/? [00:03&lt;00:00, 489394.46it/s]",
            "_view_count": null,
            "_view_module_version": "1.5.0",
            "description_tooltip": null,
            "_model_module": "@jupyter-widgets/controls",
            "layout": "IPY_MODEL_c7ea5bc56fc34c809f47ac2056b2a852"
          }
        },
        "a55b891c7c7248118f6a3432b0b47a9d": {
          "model_module": "@jupyter-widgets/controls",
          "model_name": "ProgressStyleModel",
          "state": {
            "_view_name": "StyleView",
            "_model_name": "ProgressStyleModel",
            "description_width": "initial",
            "_view_module": "@jupyter-widgets/base",
            "_model_module_version": "1.5.0",
            "_view_count": null,
            "_view_module_version": "1.2.0",
            "bar_color": null,
            "_model_module": "@jupyter-widgets/controls"
          }
        },
        "c41e7f8de7194764bf9ff54922a3b89e": {
          "model_module": "@jupyter-widgets/base",
          "model_name": "LayoutModel",
          "state": {
            "_view_name": "LayoutView",
            "grid_template_rows": null,
            "right": null,
            "justify_content": null,
            "_view_module": "@jupyter-widgets/base",
            "overflow": null,
            "_model_module_version": "1.2.0",
            "_view_count": null,
            "flex_flow": null,
            "width": null,
            "min_width": null,
            "border": null,
            "align_items": null,
            "bottom": null,
            "_model_module": "@jupyter-widgets/base",
            "top": null,
            "grid_column": null,
            "overflow_y": null,
            "overflow_x": null,
            "grid_auto_flow": null,
            "grid_area": null,
            "grid_template_columns": null,
            "flex": null,
            "_model_name": "LayoutModel",
            "justify_items": null,
            "grid_row": null,
            "max_height": null,
            "align_content": null,
            "visibility": null,
            "align_self": null,
            "height": null,
            "min_height": null,
            "padding": null,
            "grid_auto_rows": null,
            "grid_gap": null,
            "max_width": null,
            "order": null,
            "_view_module_version": "1.2.0",
            "grid_template_areas": null,
            "object_position": null,
            "object_fit": null,
            "grid_auto_columns": null,
            "margin": null,
            "display": null,
            "left": null
          }
        },
        "ecdd56e8e3b442e69a963f24642716de": {
          "model_module": "@jupyter-widgets/controls",
          "model_name": "DescriptionStyleModel",
          "state": {
            "_view_name": "StyleView",
            "_model_name": "DescriptionStyleModel",
            "description_width": "",
            "_view_module": "@jupyter-widgets/base",
            "_model_module_version": "1.5.0",
            "_view_count": null,
            "_view_module_version": "1.2.0",
            "_model_module": "@jupyter-widgets/controls"
          }
        },
        "c7ea5bc56fc34c809f47ac2056b2a852": {
          "model_module": "@jupyter-widgets/base",
          "model_name": "LayoutModel",
          "state": {
            "_view_name": "LayoutView",
            "grid_template_rows": null,
            "right": null,
            "justify_content": null,
            "_view_module": "@jupyter-widgets/base",
            "overflow": null,
            "_model_module_version": "1.2.0",
            "_view_count": null,
            "flex_flow": null,
            "width": null,
            "min_width": null,
            "border": null,
            "align_items": null,
            "bottom": null,
            "_model_module": "@jupyter-widgets/base",
            "top": null,
            "grid_column": null,
            "overflow_y": null,
            "overflow_x": null,
            "grid_auto_flow": null,
            "grid_area": null,
            "grid_template_columns": null,
            "flex": null,
            "_model_name": "LayoutModel",
            "justify_items": null,
            "grid_row": null,
            "max_height": null,
            "align_content": null,
            "visibility": null,
            "align_self": null,
            "height": null,
            "min_height": null,
            "padding": null,
            "grid_auto_rows": null,
            "grid_gap": null,
            "max_width": null,
            "order": null,
            "_view_module_version": "1.2.0",
            "grid_template_areas": null,
            "object_position": null,
            "object_fit": null,
            "grid_auto_columns": null,
            "margin": null,
            "display": null,
            "left": null
          }
        },
        "551bd666ec504a2883701df0bca6d95f": {
          "model_module": "@jupyter-widgets/controls",
          "model_name": "HBoxModel",
          "state": {
            "_view_name": "HBoxView",
            "_dom_classes": [],
            "_model_name": "HBoxModel",
            "_view_module": "@jupyter-widgets/controls",
            "_model_module_version": "1.5.0",
            "_view_count": null,
            "_view_module_version": "1.5.0",
            "box_style": "",
            "layout": "IPY_MODEL_dc6d8084a1f5418c90f38e38452482d3",
            "_model_module": "@jupyter-widgets/controls",
            "children": [
              "IPY_MODEL_daf9a913ac564ff083788cd3f73da98f",
              "IPY_MODEL_2ddbe29e4435484fb61792919d180a02"
            ]
          }
        },
        "dc6d8084a1f5418c90f38e38452482d3": {
          "model_module": "@jupyter-widgets/base",
          "model_name": "LayoutModel",
          "state": {
            "_view_name": "LayoutView",
            "grid_template_rows": null,
            "right": null,
            "justify_content": null,
            "_view_module": "@jupyter-widgets/base",
            "overflow": null,
            "_model_module_version": "1.2.0",
            "_view_count": null,
            "flex_flow": null,
            "width": null,
            "min_width": null,
            "border": null,
            "align_items": null,
            "bottom": null,
            "_model_module": "@jupyter-widgets/base",
            "top": null,
            "grid_column": null,
            "overflow_y": null,
            "overflow_x": null,
            "grid_auto_flow": null,
            "grid_area": null,
            "grid_template_columns": null,
            "flex": null,
            "_model_name": "LayoutModel",
            "justify_items": null,
            "grid_row": null,
            "max_height": null,
            "align_content": null,
            "visibility": null,
            "align_self": null,
            "height": null,
            "min_height": null,
            "padding": null,
            "grid_auto_rows": null,
            "grid_gap": null,
            "max_width": null,
            "order": null,
            "_view_module_version": "1.2.0",
            "grid_template_areas": null,
            "object_position": null,
            "object_fit": null,
            "grid_auto_columns": null,
            "margin": null,
            "display": null,
            "left": null
          }
        },
        "daf9a913ac564ff083788cd3f73da98f": {
          "model_module": "@jupyter-widgets/controls",
          "model_name": "FloatProgressModel",
          "state": {
            "_view_name": "ProgressView",
            "style": "IPY_MODEL_f35f969e26234ede84ae08926d144592",
            "_dom_classes": [],
            "description": "",
            "_model_name": "FloatProgressModel",
            "bar_style": "success",
            "max": 1,
            "_view_module": "@jupyter-widgets/controls",
            "_model_module_version": "1.5.0",
            "value": 1,
            "_view_count": null,
            "_view_module_version": "1.5.0",
            "orientation": "horizontal",
            "min": 0,
            "description_tooltip": null,
            "_model_module": "@jupyter-widgets/controls",
            "layout": "IPY_MODEL_d2f324d2c1d24251a25988b6dc70725c"
          }
        },
        "2ddbe29e4435484fb61792919d180a02": {
          "model_module": "@jupyter-widgets/controls",
          "model_name": "HTMLModel",
          "state": {
            "_view_name": "HTMLView",
            "style": "IPY_MODEL_8f2f60e55cd8443ab77b9c5e1768bde1",
            "_dom_classes": [],
            "description": "",
            "_model_name": "HTMLModel",
            "placeholder": "​",
            "_view_module": "@jupyter-widgets/controls",
            "_model_module_version": "1.5.0",
            "value": " 8192/? [00:03&lt;00:00, 2647.38it/s]",
            "_view_count": null,
            "_view_module_version": "1.5.0",
            "description_tooltip": null,
            "_model_module": "@jupyter-widgets/controls",
            "layout": "IPY_MODEL_ba19ff67c97f4e9ca2ff4471ab1a04f8"
          }
        },
        "f35f969e26234ede84ae08926d144592": {
          "model_module": "@jupyter-widgets/controls",
          "model_name": "ProgressStyleModel",
          "state": {
            "_view_name": "StyleView",
            "_model_name": "ProgressStyleModel",
            "description_width": "initial",
            "_view_module": "@jupyter-widgets/base",
            "_model_module_version": "1.5.0",
            "_view_count": null,
            "_view_module_version": "1.2.0",
            "bar_color": null,
            "_model_module": "@jupyter-widgets/controls"
          }
        },
        "d2f324d2c1d24251a25988b6dc70725c": {
          "model_module": "@jupyter-widgets/base",
          "model_name": "LayoutModel",
          "state": {
            "_view_name": "LayoutView",
            "grid_template_rows": null,
            "right": null,
            "justify_content": null,
            "_view_module": "@jupyter-widgets/base",
            "overflow": null,
            "_model_module_version": "1.2.0",
            "_view_count": null,
            "flex_flow": null,
            "width": null,
            "min_width": null,
            "border": null,
            "align_items": null,
            "bottom": null,
            "_model_module": "@jupyter-widgets/base",
            "top": null,
            "grid_column": null,
            "overflow_y": null,
            "overflow_x": null,
            "grid_auto_flow": null,
            "grid_area": null,
            "grid_template_columns": null,
            "flex": null,
            "_model_name": "LayoutModel",
            "justify_items": null,
            "grid_row": null,
            "max_height": null,
            "align_content": null,
            "visibility": null,
            "align_self": null,
            "height": null,
            "min_height": null,
            "padding": null,
            "grid_auto_rows": null,
            "grid_gap": null,
            "max_width": null,
            "order": null,
            "_view_module_version": "1.2.0",
            "grid_template_areas": null,
            "object_position": null,
            "object_fit": null,
            "grid_auto_columns": null,
            "margin": null,
            "display": null,
            "left": null
          }
        },
        "8f2f60e55cd8443ab77b9c5e1768bde1": {
          "model_module": "@jupyter-widgets/controls",
          "model_name": "DescriptionStyleModel",
          "state": {
            "_view_name": "StyleView",
            "_model_name": "DescriptionStyleModel",
            "description_width": "",
            "_view_module": "@jupyter-widgets/base",
            "_model_module_version": "1.5.0",
            "_view_count": null,
            "_view_module_version": "1.2.0",
            "_model_module": "@jupyter-widgets/controls"
          }
        },
        "ba19ff67c97f4e9ca2ff4471ab1a04f8": {
          "model_module": "@jupyter-widgets/base",
          "model_name": "LayoutModel",
          "state": {
            "_view_name": "LayoutView",
            "grid_template_rows": null,
            "right": null,
            "justify_content": null,
            "_view_module": "@jupyter-widgets/base",
            "overflow": null,
            "_model_module_version": "1.2.0",
            "_view_count": null,
            "flex_flow": null,
            "width": null,
            "min_width": null,
            "border": null,
            "align_items": null,
            "bottom": null,
            "_model_module": "@jupyter-widgets/base",
            "top": null,
            "grid_column": null,
            "overflow_y": null,
            "overflow_x": null,
            "grid_auto_flow": null,
            "grid_area": null,
            "grid_template_columns": null,
            "flex": null,
            "_model_name": "LayoutModel",
            "justify_items": null,
            "grid_row": null,
            "max_height": null,
            "align_content": null,
            "visibility": null,
            "align_self": null,
            "height": null,
            "min_height": null,
            "padding": null,
            "grid_auto_rows": null,
            "grid_gap": null,
            "max_width": null,
            "order": null,
            "_view_module_version": "1.2.0",
            "grid_template_areas": null,
            "object_position": null,
            "object_fit": null,
            "grid_auto_columns": null,
            "margin": null,
            "display": null,
            "left": null
          }
        }
      }
    }
  },
  "cells": [
    {
      "cell_type": "markdown",
      "metadata": {
        "id": "view-in-github",
        "colab_type": "text"
      },
      "source": [
        "<a href=\"https://colab.research.google.com/github/vicentcamison/idal_ia3/blob/main/3%20Aprendizaje%20profundo%20(II)/Sesion%205/B0_RNNvsGRU_PT.ipynb\" target=\"_parent\"><img src=\"https://colab.research.google.com/assets/colab-badge.svg\" alt=\"Open In Colab\"/></a>"
      ]
    },
    {
      "cell_type": "markdown",
      "metadata": {
        "id": "gEn244FwQGRA"
      },
      "source": [
        "![IDAL](https://i.imgur.com/tIKXIG1.jpg)  \r\n",
        "\r\n",
        "#**Máster en Inteligencia Artificial Avanzada y Aplicada:  IA^3**\r\n",
        "---"
      ]
    },
    {
      "cell_type": "markdown",
      "metadata": {
        "id": "BVq5mz9s8CPL"
      },
      "source": [
        "# <strong><center>RNN simple VS GRU</strong>\n",
        "En este ejemplo vamos a estudiar la mejora que se produce al emplear distitas arquitecturas de redes recurrentes. \n",
        "Vamos a entrenar dos modelos diferentes (ligeramente) empleando las imágenes del famoso dataset MNIST y en igualdad de condiciones para poder evaluar sus resultados, además de practicar la configuración de redes recurrentes con Pytorch"
      ]
    },
    {
      "cell_type": "code",
      "metadata": {
        "id": "hicY8Xs6_dI4",
        "outputId": "fb7d1947-d5a5-4ac5-b65e-3cf187f368bd",
        "colab": {
          "base_uri": "https://localhost:8080/"
        }
      },
      "source": [
        "# Necesidades del guión...\r\n",
        "!pip3 install torch torchvision"
      ],
      "execution_count": 1,
      "outputs": [
        {
          "output_type": "stream",
          "text": [
            "Requirement already satisfied: torch in /usr/local/lib/python3.6/dist-packages (1.7.0+cu101)\n",
            "Requirement already satisfied: torchvision in /usr/local/lib/python3.6/dist-packages (0.8.1+cu101)\n",
            "Requirement already satisfied: dataclasses in /usr/local/lib/python3.6/dist-packages (from torch) (0.8)\n",
            "Requirement already satisfied: typing-extensions in /usr/local/lib/python3.6/dist-packages (from torch) (3.7.4.3)\n",
            "Requirement already satisfied: numpy in /usr/local/lib/python3.6/dist-packages (from torch) (1.19.5)\n",
            "Requirement already satisfied: future in /usr/local/lib/python3.6/dist-packages (from torch) (0.16.0)\n",
            "Requirement already satisfied: pillow>=4.1.1 in /usr/local/lib/python3.6/dist-packages (from torchvision) (7.0.0)\n"
          ],
          "name": "stdout"
        }
      ]
    },
    {
      "cell_type": "code",
      "metadata": {
        "id": "BBuAr4-L8CPN"
      },
      "source": [
        "import torch\n",
        "import torch.nn as nn\n",
        "import torchvision\n",
        "import torchvision.transforms as transforms"
      ],
      "execution_count": 2,
      "outputs": []
    },
    {
      "cell_type": "markdown",
      "metadata": {
        "id": "FK3iGyIZNUDH"
      },
      "source": [
        "Definimos los hiperparámetros comunes"
      ]
    },
    {
      "cell_type": "code",
      "metadata": {
        "id": "uBK5ZwzJQ7Im"
      },
      "source": [
        "# Hyper-parametros \r\n",
        "# input_size = 784 # 28x28\r\n",
        "num_classes = 10\r\n",
        "num_epochs = 2\r\n",
        "batch_size = 100\r\n",
        "learning_rate = 0.001\r\n",
        "\r\n",
        "input_size = 28\r\n",
        "sequence_length = 28\r\n",
        "hidden_size = 128\r\n",
        "num_layers = 2"
      ],
      "execution_count": 3,
      "outputs": []
    },
    {
      "cell_type": "code",
      "metadata": {
        "id": "SDmerYGUTASE"
      },
      "source": [
        "# Device configuration\r\n",
        "device = torch.device('cuda' if torch.cuda.is_available() else 'cpu')"
      ],
      "execution_count": 4,
      "outputs": []
    },
    {
      "cell_type": "code",
      "metadata": {
        "id": "xDZUG5omRGQ_",
        "outputId": "a2f80a6f-dd1f-4395-815d-5b7dcbc7d406",
        "colab": {
          "base_uri": "https://localhost:8080/",
          "height": 391,
          "referenced_widgets": [
            "64a79c37185145748f744d8cd6d172d4",
            "77fe7743a75045f8b4f5fdbe8f89d6bd",
            "47bb5e641cb548f1b503cf415120fa20",
            "826150efcdbc4da0a5e2cad865ffdd39",
            "10f2afb1af3a438b8760f03b2f8fa47a",
            "6ff1e4d0a6c74a819a77416087e06ae5",
            "6e328194e2aa467987e358f3f14dc0eb",
            "afa7e7f879e04093b655faaca13fdced",
            "c65bab9c47db45e4a033723ebbd13541",
            "53224db6002e4f49a2e3533553d239b7",
            "6efdcdfdacfd4c94a3a4ae9a6fe5fccb",
            "a9b31eda39db4063aa019fa9c9a1ebd9",
            "803b657643d048569c291477b02f7920",
            "f6d759414db5431f87392f49e01d8f65",
            "03b3960642244f4f8e73f3601571c46e",
            "01e1f76515c5458f96c28c52c5e054a1",
            "38db25779fea4576b210d5ed5349590f",
            "1bd5913a561e4b00af63036d97656ebb",
            "a541c8b7a3904aa9b3d6c02f0aa09b57",
            "b7f40ebc8b9442b08cfb620a41b4c36d",
            "a55b891c7c7248118f6a3432b0b47a9d",
            "c41e7f8de7194764bf9ff54922a3b89e",
            "ecdd56e8e3b442e69a963f24642716de",
            "c7ea5bc56fc34c809f47ac2056b2a852",
            "551bd666ec504a2883701df0bca6d95f",
            "dc6d8084a1f5418c90f38e38452482d3",
            "daf9a913ac564ff083788cd3f73da98f",
            "2ddbe29e4435484fb61792919d180a02",
            "f35f969e26234ede84ae08926d144592",
            "d2f324d2c1d24251a25988b6dc70725c",
            "8f2f60e55cd8443ab77b9c5e1768bde1",
            "ba19ff67c97f4e9ca2ff4471ab1a04f8"
          ]
        }
      },
      "source": [
        "# MNIST dataset \r\n",
        "train_dataset = torchvision.datasets.MNIST(root='./data', \r\n",
        "                                           train=True, \r\n",
        "                                           transform=transforms.ToTensor(),  \r\n",
        "                                           download=True)\r\n",
        "\r\n",
        "test_dataset = torchvision.datasets.MNIST(root='./data', \r\n",
        "                                          train=False, \r\n",
        "                                          transform=transforms.ToTensor())\r\n",
        "\r\n",
        "# Data loader\r\n",
        "train_loader = torch.utils.data.DataLoader(dataset=train_dataset, \r\n",
        "                                           batch_size=batch_size, \r\n",
        "                                           shuffle=True)\r\n",
        "\r\n",
        "test_loader = torch.utils.data.DataLoader(dataset=test_dataset, \r\n",
        "                                          batch_size=batch_size, \r\n",
        "                                          shuffle=False)"
      ],
      "execution_count": 5,
      "outputs": [
        {
          "output_type": "stream",
          "text": [
            "Downloading http://yann.lecun.com/exdb/mnist/train-images-idx3-ubyte.gz to ./data/MNIST/raw/train-images-idx3-ubyte.gz\n"
          ],
          "name": "stdout"
        },
        {
          "output_type": "display_data",
          "data": {
            "application/vnd.jupyter.widget-view+json": {
              "model_id": "64a79c37185145748f744d8cd6d172d4",
              "version_minor": 0,
              "version_major": 2
            },
            "text/plain": [
              "HBox(children=(FloatProgress(value=1.0, bar_style='info', max=1.0), HTML(value='')))"
            ]
          },
          "metadata": {
            "tags": []
          }
        },
        {
          "output_type": "stream",
          "text": [
            "Extracting ./data/MNIST/raw/train-images-idx3-ubyte.gz to ./data/MNIST/raw\n",
            "Downloading http://yann.lecun.com/exdb/mnist/train-labels-idx1-ubyte.gz to ./data/MNIST/raw/train-labels-idx1-ubyte.gz\n"
          ],
          "name": "stdout"
        },
        {
          "output_type": "display_data",
          "data": {
            "application/vnd.jupyter.widget-view+json": {
              "model_id": "c65bab9c47db45e4a033723ebbd13541",
              "version_minor": 0,
              "version_major": 2
            },
            "text/plain": [
              "HBox(children=(FloatProgress(value=1.0, bar_style='info', max=1.0), HTML(value='')))"
            ]
          },
          "metadata": {
            "tags": []
          }
        },
        {
          "output_type": "stream",
          "text": [
            "Extracting ./data/MNIST/raw/train-labels-idx1-ubyte.gz to ./data/MNIST/raw\n",
            "Downloading http://yann.lecun.com/exdb/mnist/t10k-images-idx3-ubyte.gz to ./data/MNIST/raw/t10k-images-idx3-ubyte.gz\n",
            "\n"
          ],
          "name": "stdout"
        },
        {
          "output_type": "display_data",
          "data": {
            "application/vnd.jupyter.widget-view+json": {
              "model_id": "38db25779fea4576b210d5ed5349590f",
              "version_minor": 0,
              "version_major": 2
            },
            "text/plain": [
              "HBox(children=(FloatProgress(value=1.0, bar_style='info', max=1.0), HTML(value='')))"
            ]
          },
          "metadata": {
            "tags": []
          }
        },
        {
          "output_type": "stream",
          "text": [
            "Extracting ./data/MNIST/raw/t10k-images-idx3-ubyte.gz to ./data/MNIST/raw\n",
            "Downloading http://yann.lecun.com/exdb/mnist/t10k-labels-idx1-ubyte.gz to ./data/MNIST/raw/t10k-labels-idx1-ubyte.gz\n"
          ],
          "name": "stdout"
        },
        {
          "output_type": "display_data",
          "data": {
            "application/vnd.jupyter.widget-view+json": {
              "model_id": "551bd666ec504a2883701df0bca6d95f",
              "version_minor": 0,
              "version_major": 2
            },
            "text/plain": [
              "HBox(children=(FloatProgress(value=1.0, bar_style='info', max=1.0), HTML(value='')))"
            ]
          },
          "metadata": {
            "tags": []
          }
        },
        {
          "output_type": "stream",
          "text": [
            "Extracting ./data/MNIST/raw/t10k-labels-idx1-ubyte.gz to ./data/MNIST/raw\n",
            "Processing...\n",
            "Done!\n"
          ],
          "name": "stdout"
        },
        {
          "output_type": "stream",
          "text": [
            "/usr/local/lib/python3.6/dist-packages/torchvision/datasets/mnist.py:480: UserWarning: The given NumPy array is not writeable, and PyTorch does not support non-writeable tensors. This means you can write to the underlying (supposedly non-writeable) NumPy array using the tensor. You may want to copy the array to protect its data or make it writeable before converting it to a tensor. This type of warning will be suppressed for the rest of this program. (Triggered internally at  /pytorch/torch/csrc/utils/tensor_numpy.cpp:141.)\n",
            "  return torch.from_numpy(parsed.astype(m[2], copy=False)).view(*s)\n"
          ],
          "name": "stderr"
        }
      ]
    },
    {
      "cell_type": "markdown",
      "metadata": {
        "id": "Ixg3XnDM8CQy"
      },
      "source": [
        "El código anterior carga y prepara el conjunto de datos para introducirlo en el gráfico de cálculo que construiremos más adelante. Tómese unos minutos para jugar con el código y entender lo que está sucediendo. \r\n",
        "Fíjate en que necesitamos proporcionar un tamaño de lote. Esto se debe a que `trainloader` y `testloader` son iteradores que harán más fácil cuando estemos iterando sobre el conjunto de datos y entrenando nuestro modelo RNN con minilotes."
      ]
    },
    {
      "cell_type": "markdown",
      "metadata": {
        "id": "2f0fVaIV8CQ3"
      },
      "source": [
        "#### Exploración del conjunto de datos\n",
        "Vamos a explorar el conjunto de datos y comprobar que se ha cargado correctamente."
      ]
    },
    {
      "cell_type": "code",
      "metadata": {
        "id": "TEKzVTOY8CQ4",
        "colab": {
          "base_uri": "https://localhost:8080/",
          "height": 321
        },
        "outputId": "a7e851df-4f94-4dd3-f0c2-20b983bd7cc8"
      },
      "source": [
        "import matplotlib.pyplot as plt\n",
        "import numpy as np\n",
        "\n",
        "def imshow(img):\n",
        "    #img = img / 2 + 0.5     # unnormalize\n",
        "    npimg = img.numpy()\n",
        "    plt.imshow(np.transpose(npimg, (1, 2, 0)))\n",
        "\n",
        "# cogemos imágenes aleatorias\n",
        "dataiter = iter(train_loader)\n",
        "images, labels = dataiter.next()\n",
        "\n",
        "imshow(torchvision.utils.make_grid(images))"
      ],
      "execution_count": 6,
      "outputs": [
        {
          "output_type": "stream",
          "text": [
            "\n",
            "\n",
            "\n"
          ],
          "name": "stdout"
        },
        {
          "output_type": "display_data",
          "data": {
            "image/png": "[encoded data removed]",
            "text/plain": [
              "<Figure size 432x288 with 1 Axes>"
            ]
          },
          "metadata": {
            "tags": [],
            "needs_background": "light"
          }
        }
      ]
    },
    {
      "cell_type": "markdown",
      "metadata": {
        "id": "Y7NloDy08CQ9"
      },
      "source": [
        "## Modelo RNN simple\n"
      ]
    },
    {
      "cell_type": "markdown",
      "metadata": {
        "id": "ap6qGqzmNkq7"
      },
      "source": [
        "Definimos una red recurrente simple, tambien conocida como *vanilla RNN*"
      ]
    },
    {
      "cell_type": "code",
      "metadata": {
        "id": "-I_IMy3rSEG0"
      },
      "source": [
        "class RNN(nn.Module):\r\n",
        "    def __init__(self, input_size, hidden_size, num_layers, num_classes):\r\n",
        "        super(RNN, self).__init__()\r\n",
        "        self.num_layers = num_layers\r\n",
        "        self.hidden_size = hidden_size\r\n",
        "\r\n",
        "        self.rnn = nn.RNN(input_size, hidden_size, num_layers, batch_first=True)\r\n",
        "        self.fc = nn.Linear(hidden_size, num_classes)\r\n",
        "        \r\n",
        "    def forward(self, x):\r\n",
        "        h0 = torch.zeros(self.num_layers, x.size(0), self.hidden_size).to(device)       \r\n",
        "        out, _ = self.rnn(x, h0)\r\n",
        "        # Decodifica el estado oculto del ultimmo paso\r\n",
        "        out = out[:, -1, :]\r\n",
        "        out = self.fc(out)\r\n",
        "\r\n",
        "        return out"
      ],
      "execution_count": 7,
      "outputs": []
    },
    {
      "cell_type": "code",
      "metadata": {
        "id": "weX6mGB4S1Wl"
      },
      "source": [
        "model = RNN(input_size, hidden_size, num_layers, num_classes).to(device)"
      ],
      "execution_count": 8,
      "outputs": []
    },
    {
      "cell_type": "code",
      "metadata": {
        "id": "5Dh5VrA4SIfG"
      },
      "source": [
        "criterion = nn.CrossEntropyLoss()\r\n",
        "optimizer = torch.optim.Adam(model.parameters(), lr=learning_rate) "
      ],
      "execution_count": 9,
      "outputs": []
    },
    {
      "cell_type": "code",
      "metadata": {
        "colab": {
          "base_uri": "https://localhost:8080/"
        },
        "id": "lGkXnuX3SS2J",
        "outputId": "60db3fb8-4e9b-4fef-94cd-590176810153"
      },
      "source": [
        "# Entrenamiento\r\n",
        "n_total_steps = len(train_loader)\r\n",
        "for epoch in range(num_epochs):\r\n",
        "    for i, (images, labels) in enumerate(train_loader):  \r\n",
        "        # origin shape: [N, 1, 28, 28]\r\n",
        "        # resized: [N, 28, 28]\r\n",
        "        images = images.reshape(-1, sequence_length, input_size).to(device)\r\n",
        "        labels = labels.to(device)\r\n",
        "        \r\n",
        "        # Forward pass\r\n",
        "        outputs = model(images)\r\n",
        "        loss = criterion(outputs, labels)\r\n",
        "        \r\n",
        "        # Backward y optimiza\r\n",
        "        optimizer.zero_grad()\r\n",
        "        loss.backward()\r\n",
        "        optimizer.step()\r\n",
        "        \r\n",
        "        if (i+1) % 100 == 0:\r\n",
        "            print (f'Epoch [{epoch+1}/{num_epochs}], Step [{i+1}/{n_total_steps}], Loss: {loss.item():.4f}')"
      ],
      "execution_count": 10,
      "outputs": [
        {
          "output_type": "stream",
          "text": [
            "Epoch [1/2], Step [100/600], Loss: 0.8573\n",
            "Epoch [1/2], Step [200/600], Loss: 0.5654\n",
            "Epoch [1/2], Step [300/600], Loss: 0.3504\n",
            "Epoch [1/2], Step [400/600], Loss: 0.4191\n",
            "Epoch [1/2], Step [500/600], Loss: 0.2197\n",
            "Epoch [1/2], Step [600/600], Loss: 0.2103\n",
            "Epoch [2/2], Step [100/600], Loss: 0.2760\n",
            "Epoch [2/2], Step [200/600], Loss: 0.2014\n",
            "Epoch [2/2], Step [300/600], Loss: 0.2789\n",
            "Epoch [2/2], Step [400/600], Loss: 0.3383\n",
            "Epoch [2/2], Step [500/600], Loss: 0.3129\n",
            "Epoch [2/2], Step [600/600], Loss: 0.1774\n"
          ],
          "name": "stdout"
        }
      ]
    },
    {
      "cell_type": "code",
      "metadata": {
        "colab": {
          "base_uri": "https://localhost:8080/"
        },
        "id": "_E3d8QZvSVsl",
        "outputId": "50f80cd8-a224-436e-bf7e-7b36da8ddfd4"
      },
      "source": [
        "# Test \r\n",
        "with torch.no_grad():\r\n",
        "    n_correct = 0\r\n",
        "    n_samples = 0\r\n",
        "    for images, labels in test_loader:\r\n",
        "        images = images.reshape(-1, sequence_length, input_size).to(device)\r\n",
        "        labels = labels.to(device)\r\n",
        "        outputs = model(images)\r\n",
        "        # max returns (value ,index)\r\n",
        "        _, predicted = torch.max(outputs.data, 1)\r\n",
        "        n_samples += labels.size(0)\r\n",
        "        n_correct += (predicted == labels).sum().item()\r\n",
        "\r\n",
        "    acc = 100.0 * n_correct / n_samples\r\n",
        "    print(f'Precision de la red con las 10000 imagenes de test: {acc} %')"
      ],
      "execution_count": 11,
      "outputs": [
        {
          "output_type": "stream",
          "text": [
            "Precision de la red con las 10000 imagenes de test: 93.83 %\n"
          ],
          "name": "stdout"
        }
      ]
    },
    {
      "cell_type": "markdown",
      "metadata": {
        "id": "DstF0Ki8T1J_"
      },
      "source": [
        "##Modelo GRU"
      ]
    },
    {
      "cell_type": "markdown",
      "metadata": {
        "id": "AxQpRJ2jNxcX"
      },
      "source": [
        "Ahora definimos una GRU, un modelo evolucionado a partir de las rnn simple, que compensa algunos de los problemas incorporando mecanismos (*gates*) para controlar que parte de información se retiene y se olvida y solucionar ciertos problemas que tiene las rrns simples"
      ]
    },
    {
      "cell_type": "code",
      "metadata": {
        "id": "0kFASb26Twsm"
      },
      "source": [
        "class GRU(nn.Module):\r\n",
        "    def __init__(self, input_size, hidden_size, num_layers, num_classes):\r\n",
        "        super(GRU, self).__init__()\r\n",
        "        self.num_layers = num_layers\r\n",
        "        self.hidden_size = hidden_size\r\n",
        "        self.gru = nn.GRU(input_size, hidden_size, num_layers, batch_first=True)\r\n",
        "        self.fc = nn.Linear(hidden_size, num_classes)\r\n",
        "        \r\n",
        "    def forward(self, x):\r\n",
        "        h0 = torch.zeros(self.num_layers, x.size(0), self.hidden_size).to(device) \r\n",
        "        out, _ = self.gru(x, h0)  \r\n",
        "        # Decodifica el estado oculto del ultimmo paso\r\n",
        "        out = out[:, -1, :]\r\n",
        "        out = self.fc(out)\r\n",
        "        return out\r\n"
      ],
      "execution_count": 12,
      "outputs": []
    },
    {
      "cell_type": "code",
      "metadata": {
        "id": "-qHDhjyeUJhT"
      },
      "source": [
        "GRUmodel = GRU(input_size, hidden_size, num_layers, num_classes).to(device)"
      ],
      "execution_count": 13,
      "outputs": []
    },
    {
      "cell_type": "code",
      "metadata": {
        "id": "ccxYmBwGUL01"
      },
      "source": [
        "criterion = nn.CrossEntropyLoss()\r\n",
        "optimizer = torch.optim.Adam(GRUmodel.parameters(), lr=learning_rate) "
      ],
      "execution_count": 14,
      "outputs": []
    },
    {
      "cell_type": "code",
      "metadata": {
        "colab": {
          "base_uri": "https://localhost:8080/"
        },
        "id": "G4y5zfjhUOuo",
        "outputId": "d3892e47-5aab-418e-94a8-3deba4b16c04"
      },
      "source": [
        "# Entrenamiento\r\n",
        "n_total_steps = len(train_loader)\r\n",
        "for epoch in range(num_epochs):\r\n",
        "    for i, (images, labels) in enumerate(train_loader):  \r\n",
        "        # origin shape: [N, 1, 28, 28]\r\n",
        "        # resized: [N, 28, 28]\r\n",
        "        images = images.reshape(-1, sequence_length, input_size).to(device)\r\n",
        "        labels = labels.to(device)\r\n",
        "        \r\n",
        "        # Forward pass\r\n",
        "        outputs = GRUmodel(images)\r\n",
        "        loss = criterion(outputs, labels)\r\n",
        "        \r\n",
        "        # Backward y optimiza\r\n",
        "        optimizer.zero_grad()\r\n",
        "        loss.backward()\r\n",
        "        optimizer.step()\r\n",
        "        \r\n",
        "        if (i+1) % 100 == 0:\r\n",
        "            print (f'Epoch [{epoch+1}/{num_epochs}], Step [{i+1}/{n_total_steps}], Loss: {loss.item():.4f}')"
      ],
      "execution_count": 15,
      "outputs": [
        {
          "output_type": "stream",
          "text": [
            "Epoch [1/2], Step [100/600], Loss: 0.8902\n",
            "Epoch [1/2], Step [200/600], Loss: 0.4021\n",
            "Epoch [1/2], Step [300/600], Loss: 0.2184\n",
            "Epoch [1/2], Step [400/600], Loss: 0.3188\n",
            "Epoch [1/2], Step [500/600], Loss: 0.1904\n",
            "Epoch [1/2], Step [600/600], Loss: 0.0909\n",
            "Epoch [2/2], Step [100/600], Loss: 0.1879\n",
            "Epoch [2/2], Step [200/600], Loss: 0.1514\n",
            "Epoch [2/2], Step [300/600], Loss: 0.0238\n",
            "Epoch [2/2], Step [400/600], Loss: 0.0595\n",
            "Epoch [2/2], Step [500/600], Loss: 0.0586\n",
            "Epoch [2/2], Step [600/600], Loss: 0.1496\n"
          ],
          "name": "stdout"
        }
      ]
    },
    {
      "cell_type": "code",
      "metadata": {
        "colab": {
          "base_uri": "https://localhost:8080/"
        },
        "id": "qprVBFtgXMoW",
        "outputId": "e3e771e3-cef7-4163-e446-8f87a3a153cc"
      },
      "source": [
        "# Test \r\n",
        "with torch.no_grad():\r\n",
        "    n_correct = 0\r\n",
        "    n_samples = 0\r\n",
        "    for images, labels in test_loader:\r\n",
        "        images = images.reshape(-1, sequence_length, input_size).to(device)\r\n",
        "        labels = labels.to(device)\r\n",
        "        outputs = GRUmodel(images)\r\n",
        "        # max returns (value ,index)\r\n",
        "        _, predicted = torch.max(outputs.data, 1)\r\n",
        "        n_samples += labels.size(0)\r\n",
        "        n_correct += (predicted == labels).sum().item()\r\n",
        "\r\n",
        "    acc = 100.0 * n_correct / n_samples\r\n",
        "    print(f'Precision de la red con las 10000 imagenes de test: {acc} %')"
      ],
      "execution_count": 16,
      "outputs": [
        {
          "output_type": "stream",
          "text": [
            "Precision de la red con las 10000 imagenes de test: 97.39 %\n"
          ],
          "name": "stdout"
        }
      ]
    },
    {
      "cell_type": "markdown",
      "metadata": {
        "id": "x0njAmzfXK3_"
      },
      "source": [
        "Observa los resultados obtenidos \r\n",
        "* ¿que modelo lo ha hecho mejor? \r\n",
        "* ¿Porqué crees que es así?\r\n",
        "* ¿como se pueden mejorar?\r\n"
      ]
    },
    {
      "cell_type": "markdown",
      "metadata": {
        "id": "jKAm1xB08CRx"
      },
      "source": [
        "## Referencias\n",
        "- [A Simple Neural Network from Scratch with PyTorch and Google Colab](https://github.com/omarsar/pytorch_intro_neural_network/blob/master/nn.ipynb)\n",
        "- [Hands on Machine Learning with Scikit-learn and Tensorflow](http://shop.oreilly.com/product/0636920052289.do)"
      ]
    },
    {
      "cell_type": "markdown",
      "metadata": {
        "id": "G4QsPUBvXSvF"
      },
      "source": [
        "##Fin del cuaderno"
      ]
    }
  ]
}