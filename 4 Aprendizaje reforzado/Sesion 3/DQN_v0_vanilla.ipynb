{
  "nbformat": 4,
  "nbformat_minor": 0,
  "metadata": {
    "colab": {
      "name": "DQN_v0_vanilla.ipynb",
      "provenance": [],
      "collapsed_sections": [],
      "include_colab_link": true
    },
    "kernelspec": {
      "name": "python3",
      "display_name": "Python 3"
    }
  },
  "cells": [
    {
      "cell_type": "markdown",
      "metadata": {
        "id": "view-in-github",
        "colab_type": "text"
      },
      "source": [
        "<a href=\"https://colab.research.google.com/github/vicentcamison/idal_ia3/blob/main/4%20Aprendizaje%20reforzado/Sesion%203/DQN_v0_vanilla.ipynb\" target=\"_parent\"><img src=\"https://colab.research.google.com/assets/colab-badge.svg\" alt=\"Open In Colab\"/></a>"
      ]
    },
    {
      "cell_type": "markdown",
      "metadata": {
        "id": "CWsxkki8jh8A"
      },
      "source": [
        "# DQN v0 vanilla"
      ]
    },
    {
      "cell_type": "code",
      "metadata": {
        "id": "fSeTTLadjXBg"
      },
      "source": [
        "import gym\n",
        "import numpy as np\n",
        "import os\n",
        "import tensorflow as tf\n",
        "from tensorflow import keras\n",
        "from tensorflow.keras import layers\n",
        "import matplotlib.pyplot as plt\n",
        "from utils import discrete_input\n",
        "import random\n",
        "from collections import deque\n",
        "import datetime"
      ],
      "execution_count": null,
      "outputs": []
    },
    {
      "cell_type": "markdown",
      "metadata": {
        "id": "wn0-uTtqkPeC"
      },
      "source": [
        "Disable GPU computation for local devices\n"
      ]
    },
    {
      "cell_type": "code",
      "metadata": {
        "id": "z-dueBMmj8QY"
      },
      "source": [
        "# os.environ[\"CUDA_VISIBLE_DEVICES\"] = \"-1\""
      ],
      "execution_count": null,
      "outputs": []
    },
    {
      "cell_type": "markdown",
      "metadata": {
        "id": "-gvh2VHsje3w"
      },
      "source": [
        "## Gym selection and basic configurations"
      ]
    },
    {
      "cell_type": "code",
      "metadata": {
        "id": "3A722SC0km68"
      },
      "source": [
        "gym_name_list = [\n",
        "    {\n",
        "        'name': 'CartPole-v0',\n",
        "        'goal': 180,\n",
        "        'v_min': 0,\n",
        "        'v_max': 210,\n",
        "        'ep': 50\n",
        "    },\n",
        "    {\n",
        "        'name': 'MountainCar-v0',\n",
        "        'goal': -150, \n",
        "        'v_min': -210,\n",
        "        'v_max': 0,\n",
        "        'ep': 20\n",
        "    },\n",
        "    {\n",
        "        'name': 'Blackjack-v0',\n",
        "        'goal': 0.10,\n",
        "        'v_min': -20,\n",
        "        'v_max': 20,\n",
        "        'ep': 1000\n",
        "    }\n",
        "]\n",
        "\n",
        "env_i = 0 #@param {type:\"slider\", min:0, max:2, step:1}\n",
        "\n",
        "save_model: bool = False # @param {type:\"boolean\"}\n",
        "show_plots: bool = True # @param {type:\"boolean\"}\n",
        "render_env: bool = False # @param {type:\"boolean\"}\n",
        "seed = 42 # @param {type:\"integer\"}\n",
        "\n",
        "max_steps_per_episode = 200 # @param {type:\"integer\"}\n",
        "\n",
        "stopping_reward_criteria = gym_name_list[env_i]['goal']\n",
        "\n",
        "gym_name = gym_name_list[env_i]['name']\n",
        "\n",
        "env = gym.make(gym_name)  # Create the environment\n",
        "env.seed(seed)\n",
        "\n",
        "if isinstance(env.observation_space, gym.spaces.tuple.Tuple):\n",
        "    env = gym.wrappers.TransformObservation(env, lambda obs: discrete_input(obs, env.observation_space))\n",
        "    num_inputs = sum([x.n for x in env.observation_space])  # 4\n",
        "else:\n",
        "    num_inputs = env.observation_space.shape[0]  # 4\n",
        "num_actions = env.action_space.n  # 2"
      ],
      "execution_count": null,
      "outputs": []
    },
    {
      "cell_type": "markdown",
      "metadata": {
        "id": "tWXm85B4lIJ7"
      },
      "source": [
        "## Algorithm hyper-parameters"
      ]
    },
    {
      "cell_type": "code",
      "metadata": {
        "id": "VqDFkMCflFY-"
      },
      "source": [
        "# Factor of the ema that displays that tracks the averaged rewards\n",
        "ema_ratio = 0.01  # @param {type:\"number\"}\n",
        "\n",
        "# Ratio between generating experiences and sampling for training\n",
        "training_ratio: int = 4 # @param  {type:\"integer\"}\n",
        "\n",
        "# Size of the batch when sampling experiences\n",
        "batch_size: int = 32 # @param {type:\"integer\"}\n",
        "\n",
        "# Size of the buffer that stores the experiences\n",
        "mem_length: int = 2048 # @param {type:\"integer\"}\n",
        "\n",
        "# Discount factor for estimaing the futures rewards\n",
        "gamma: float = 0.99  # @param {type:\"number\"}\n",
        "\n",
        "# Initial and last probability for choosing exploration instead of explotation\n",
        "epsilon: float = 1.0 # @param {type:\"number\"}\n",
        "epsilon_min: float = 0.05 # @param {type:\"number\"}\n",
        "\n",
        "# This is an estimation of the training iterations to tune the epsilon decay\n",
        "approx_iterations: float = 1e6 # @param {type:\"number\"}\n",
        "\n",
        "# The epsilon_decay reduce the exploration probability after each iteration\n",
        "epsilon_decay: float = (epsilon_min / epsilon) ** (1 / approx_iterations)\n",
        "\n",
        "# Factor of the ema that controls the updating weights of the target network\n",
        "tau: float = 0.125 # @param {type:\"number\"}\n",
        "\n",
        "# The usual factor that controls the amount of change the weights are updated\n",
        "learning_rate = 0.01 # @param {type:\"number\"}\n",
        "\n",
        "# For enabling the double dqn learning when choosing next Q-values\n",
        "double_dqn_learning: bool = False # @param {type:\"boolean\"}\n",
        "\n",
        "# Factor to define heuristically the size of the hidden layer.\n",
        "hidden_size_factor = 16 # @param {type:\"integer\"}\n",
        "num_hidden = num_inputs * num_actions * hidden_size_factor"
      ],
      "execution_count": null,
      "outputs": []
    },
    {
      "cell_type": "markdown",
      "metadata": {
        "id": "OT3aznNck22R"
      },
      "source": [
        "## Load DQN models as Q-table approximators\n",
        "We start with double DQN, where:\n",
        "*   q_model estimates the Q-values used for action selection.\n",
        "*   t_model is responsible for estimating the target Q values on training."
      ]
    },
    {
      "cell_type": "code",
      "metadata": {
        "id": "Hq3oaCbNk17Y"
      },
      "source": [
        "q_model = keras.Sequential(layers=[layers.Input(shape=(num_inputs,)),\n",
        "                                   layers.Dense(num_hidden, activation=\"relu\"),\n",
        "                                   layers.Dense(num_actions)],\n",
        "                           name=\"q_model\")\n",
        "\n",
        "t_model = keras.Sequential(layers=[layers.Input(shape=(num_inputs,)),\n",
        "                                   layers.Dense(num_hidden, activation=\"relu\"),\n",
        "                                   layers.Dense(num_actions)],\n",
        "                           name=\"t_model\")\n",
        "\n",
        "optimizer = keras.optimizers.Adam(learning_rate=learning_rate)\n",
        "# loss_function = keras.losses.Huber()\n",
        "loss_function = keras.losses.MeanSquaredError()"
      ],
      "execution_count": null,
      "outputs": []
    },
    {
      "cell_type": "markdown",
      "metadata": {
        "id": "k2H04rFNqdNg"
      },
      "source": [
        "## Tensorboard configuration"
      ]
    },
    {
      "cell_type": "code",
      "metadata": {
        "id": "JyP6U0yKq-Ez"
      },
      "source": [
        "implementation = \"DQN_v0\"\n",
        "current_time = datetime.datetime.now().strftime(\"%Y%m%d-%H%M%S\")\n",
        "train_log_dir = os.path.join(\"./logs\", gym_name, implementation, \"T_\" + current_time)\n",
        "summary_writer = tf.summary.create_file_writer(train_log_dir)"
      ],
      "execution_count": null,
      "outputs": []
    },
    {
      "cell_type": "code",
      "metadata": {
        "id": "7QLud3TZFdUl"
      },
      "source": [
        "# Load the TensorBoard notebook extension\n",
        "%load_ext tensorboard\n",
        "\n",
        "# from tensorboard import notebook\n",
        "# notebook.list() # View open TensorBoard instances\n",
        "\n",
        "# # Control TensorBoard display. If no port is provided, \n",
        "# # the most recently launched TensorBoard is used\n",
        "# notebook.display(port=6006, height=1000) \n",
        "\n",
        "%tensorboard --logdir ./logs"
      ],
      "execution_count": null,
      "outputs": []
    },
    {
      "cell_type": "markdown",
      "metadata": {
        "id": "e0Budp8owKeX"
      },
      "source": [
        "## Main learning loop\n",
        "It consist in main two steps:\n",
        "\n",
        "1.   Collect experiences from the environment in episodes, with exploitation/exploration trade-off\n",
        "2.   Sample past experiences to train the model using the Bellman equation.\n",
        "\n",
        "Other sections are the mean reward tracking, stop-learning trigger, display status.\n"
      ]
    },
    {
      "cell_type": "code",
      "metadata": {
        "colab": {
          "base_uri": "https://localhost:8080/"
        },
        "id": "QG_ZMJ0NwVNl",
        "outputId": "8c937877-4a76-40e8-f2e0-a41d4d6e53c8"
      },
      "source": [
        "memory = deque(maxlen=mem_length)\n",
        "running_reward = None\n",
        "episode_count = 0\n",
        "epoch = 0\n",
        "historic_reward = []\n",
        "while True:  # Run until solved\n",
        "\n",
        "    state = env.reset()\n",
        "    state = tf.convert_to_tensor(state)\n",
        "    state = tf.expand_dims(state, 0)\n",
        "    episode_reward = 0\n",
        "    for time_step in range(1, max_steps_per_episode):\n",
        "        # env.render(); Adding this line would show the attempts\n",
        "        # of the agent in a pop up window.\n",
        "\n",
        "        epsilon *= epsilon_decay\n",
        "        epsilon = max(epsilon_min, epsilon)\n",
        "        if np.random.random() < epsilon:\n",
        "            action = env.action_space.sample()\n",
        "        else:\n",
        "            action = np.argmax(q_model(state, training=False))\n",
        "\n",
        "        # Apply the sampled action in our environment\n",
        "        next_state, reward, done, _ = env.step(action)\n",
        "\n",
        "        next_state = tf.convert_to_tensor(next_state)\n",
        "        next_state = tf.expand_dims(next_state, 0)\n",
        "\n",
        "        memory.append([state, action, reward, next_state, done])\n",
        "        episode_reward += reward\n",
        "\n",
        "        # ##### TRAIN MODEL ###############\n",
        "        if len(memory) >= 2 * batch_size and time_step % training_ratio == 0:\n",
        "            samples = random.sample(memory, batch_size)\n",
        "\n",
        "            for sample in samples:\n",
        "                state_i, action_i, reward_i, next_state_i, done_i = sample\n",
        "                with tf.GradientTape() as tape:\n",
        "                    q_state = q_model(state_i)[0, action_i]\n",
        "                    if done_i:\n",
        "                        q_target = reward_i\n",
        "                    else:\n",
        "                        if double_dqn_learning:\n",
        "                            next_action_i = np.argmax(q_model(next_state_i, training=False))\n",
        "                            q_next_state = t_model(next_state_i)[0, next_action_i]\n",
        "                        else:\n",
        "                            q_next_state = max(t_model(next_state_i)[0])\n",
        "                        q_target = reward_i + q_next_state * gamma\n",
        "\n",
        "                        loss = loss_function(tf.expand_dims(q_state, 0), tf.expand_dims(q_target, 0))\n",
        "\n",
        "                        # Backpropagation\n",
        "                        grads = tape.gradient(loss, q_model.trainable_variables)\n",
        "                        optimizer.apply_gradients(zip(grads, q_model.trainable_variables))\n",
        "\n",
        "            # Transfer weights to target model\n",
        "            weights = q_model.get_weights()\n",
        "            target_weights = t_model.get_weights()\n",
        "            for j in range(len(target_weights)):\n",
        "                target_weights[j] = weights[j] * tau + target_weights[j] * (1 - tau)\n",
        "            t_model.set_weights(target_weights)\n",
        "            # ###############################################\n",
        "\n",
        "            if running_reward is not None:\n",
        "                with summary_writer.as_default():\n",
        "                    tf.summary.scalar('loss', loss, step=epoch)\n",
        "                    tf.summary.scalar('ema_reward', running_reward, step=epoch)\n",
        "                    tf.summary.scalar('epsilon', epsilon, step=epoch)\n",
        "                epoch += 1\n",
        "        state = next_state\n",
        "\n",
        "        if done:\n",
        "            break\n",
        "\n",
        "    if running_reward is None:\n",
        "        running_reward = episode_reward\n",
        "\n",
        "    # Update running reward to check condition for solving\n",
        "    running_reward = ema_ratio * episode_reward + (1 - ema_ratio) * running_reward\n",
        "    historic_reward.append(running_reward)\n",
        "\n",
        "    # Log details\n",
        "    episode_count += 1\n",
        "    if episode_count % gym_name_list[env_i]['ep'] == 0 and 'loss' in locals():\n",
        "        template = \"running reward: {:.2f} at episode {} with epsilon {:.2f} and loss {:.2f}\"\n",
        "        print(template.format(running_reward, episode_count, epsilon, loss))\n",
        "\n",
        "    if running_reward > stopping_reward_criteria:  # Condition to consider the task solved\n",
        "        print(\"Solved at episode {}!\".format(episode_count))\n",
        "        break\n",
        "\n",
        "    if show_plots and episode_count % 10000000 == 0:\n",
        "        plt.plot(historic_reward)\n",
        "        plt.show()"
      ],
      "execution_count": null,
      "outputs": [
        {
          "output_type": "stream",
          "text": [
            "running reward: 22.32 at episode 50 with epsilon 0.97 and loss 0.02\n",
            "running reward: 21.91 at episode 100 with epsilon 0.94 and loss 0.75\n",
            "running reward: 23.12 at episode 150 with epsilon 0.90 and loss 26.04\n",
            "running reward: 22.16 at episode 200 with epsilon 0.88 and loss 4329.10\n",
            "running reward: 21.10 at episode 250 with epsilon 0.85 and loss 5999591.00\n",
            "running reward: 20.20 at episode 300 with epsilon 0.83 and loss 34603044864.00\n",
            "running reward: 20.61 at episode 350 with epsilon 0.80 and loss 4123799040.00\n",
            "running reward: 19.83 at episode 400 with epsilon 0.78 and loss 263790870528.00\n",
            "running reward: 18.97 at episode 450 with epsilon 0.76 and loss 671070617600.00\n"
          ],
          "name": "stdout"
        }
      ]
    },
    {
      "cell_type": "markdown",
      "metadata": {
        "id": "3RoY6P3OzRyy"
      },
      "source": [
        "## Save model weights for a later use (optional)."
      ]
    },
    {
      "cell_type": "code",
      "metadata": {
        "id": "We2l8xxlznvz"
      },
      "source": [
        "if save_model:\n",
        "    model_folder = os.path.join(\"./models\", gym_name, implementation, \"Ep_\" + str(episode_count).zfill(5), \"model\")\n",
        "    if not os.path.exists(model_folder):\n",
        "        os.makedirs(model_folder)\n",
        "    q_model.save_weights(filepath=model_folder, save_format=\"tf\")"
      ],
      "execution_count": null,
      "outputs": []
    },
    {
      "cell_type": "markdown",
      "metadata": {
        "id": "EwgdrS-SzuCZ"
      },
      "source": [
        "## Play with the trained agent"
      ]
    },
    {
      "cell_type": "code",
      "metadata": {
        "id": "akp6d5gdz2zj"
      },
      "source": [
        "episodes = 100 # @param {type:\"integer\"}\n",
        "agent_rewards = []\n",
        "for env_i in range(episodes):\n",
        "    state = env.reset()\n",
        "    episode_reward = 0\n",
        "\n",
        "    for time_step in range(1, max_steps_per_episode):\n",
        "        if render_env and gym_name != 'Blackjack-v0':\n",
        "            env.render()  # Show the attempts of the agent in a pop up window.\n",
        "\n",
        "        state = tf.convert_to_tensor(state)\n",
        "        state = tf.expand_dims(state, 0)\n",
        "\n",
        "        action = np.argmax(q_model(state))\n",
        "\n",
        "        # Apply the sampled action in our environment\n",
        "        state, reward, done, _ = env.step(action)\n",
        "        episode_reward += reward\n",
        "\n",
        "        if done:\n",
        "            break\n",
        "    agent_rewards.append(episode_reward)\n",
        "  \n",
        "print(f\"After 100 episodes the mean reward is {np.mean(agent_rewards)}\")\n",
        "\n",
        "if show_plots:\n",
        "    num_bins = 50\n",
        "    x = np.array(agent_rewards)\n",
        "    fig, ax = plt.subplots()\n",
        "\n",
        "    # the histogram of the data\n",
        "    n, bins, patches = ax.hist(x, num_bins, density=1)\n",
        "\n",
        "    ax.set_xlabel('Episode rewards')\n",
        "    ax.set_ylabel('Probability density')\n",
        "    ax.set_title(f'Mean {np.mean(x).round(2)} +/- {np.std(x).round(2)}')\n",
        "\n",
        "    # Tweak spacing to prevent clipping of ylabel\n",
        "    fig.tight_layout()\n",
        "    plt.show()\n",
        "\n",
        "print(\"End of script!\")"
      ],
      "execution_count": null,
      "outputs": []
    }
  ]
}