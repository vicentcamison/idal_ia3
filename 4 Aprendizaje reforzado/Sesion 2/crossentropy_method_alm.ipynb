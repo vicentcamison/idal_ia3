{
  "nbformat": 4,
  "nbformat_minor": 0,
  "metadata": {
    "kernelspec": {
      "display_name": "Python 3",
      "language": "python",
      "name": "python3"
    },
    "language_info": {
      "codemirror_mode": {
        "name": "ipython",
        "version": 3
      },
      "file_extension": ".py",
      "mimetype": "text/x-python",
      "name": "python",
      "nbconvert_exporter": "python",
      "pygments_lexer": "ipython3",
      "version": "3.7.1"
    },
    "colab": {
      "name": "crossentropy_method_alm.ipynb",
      "provenance": [],
      "collapsed_sections": [],
      "include_colab_link": true
    }
  },
  "cells": [
    {
      "cell_type": "markdown",
      "metadata": {
        "id": "view-in-github",
        "colab_type": "text"
      },
      "source": [
        "<a href=\"https://colab.research.google.com/github/vicentcamison/idal_ia3/blob/main/4%20Aprendizaje%20reforzado/Sesion%202/crossentropy_method_alm.ipynb\" target=\"_parent\"><img src=\"https://colab.research.google.com/assets/colab-badge.svg\" alt=\"Open In Colab\"/></a>"
      ]
    },
    {
      "cell_type": "markdown",
      "metadata": {
        "id": "ASms5V3Cwlpg"
      },
      "source": [
        "# Crossentropy method\n",
        "\n",
        "Vamos a aplicar el cross-entropy methos en el entorno Taxi-v2"
      ]
    },
    {
      "cell_type": "code",
      "metadata": {
        "id": "7DOfsvQBwlph",
        "colab": {
          "base_uri": "https://localhost:8080/"
        },
        "outputId": "d8ddcc43-e3ba-4026-9b55-0b956c773a63"
      },
      "source": [
        "import gym\n",
        "import numpy as np, pandas as pd\n",
        "\n",
        "env = gym.make(\"Taxi-v3\")\n",
        "env.reset()\n",
        "env.render()"
      ],
      "execution_count": 1,
      "outputs": [
        {
          "output_type": "stream",
          "text": [
            "+---------+\n",
            "|R: | : :\u001b[43mG\u001b[0m|\n",
            "| : | : : |\n",
            "| : : : : |\n",
            "| | : | : |\n",
            "|\u001b[34;1mY\u001b[0m| : |\u001b[35mB\u001b[0m: |\n",
            "+---------+\n",
            "\n"
          ],
          "name": "stdout"
        }
      ]
    },
    {
      "cell_type": "code",
      "metadata": {
        "id": "Y3aAH1Xuwlpk",
        "colab": {
          "base_uri": "https://localhost:8080/"
        },
        "outputId": "056770e9-376a-4e0a-b873-dbd114a5fd54"
      },
      "source": [
        "n_states = env.observation_space.n\n",
        "n_actions = env.action_space.n\n",
        "\n",
        "print(\"n_states=%i, n_actions=%i\"%(n_states, n_actions))"
      ],
      "execution_count": 4,
      "outputs": [
        {
          "output_type": "stream",
          "text": [
            "n_states=500, n_actions=6\n"
          ],
          "name": "stdout"
        }
      ]
    },
    {
      "cell_type": "markdown",
      "metadata": {
        "id": "rDVrEWEKwlpm"
      },
      "source": [
        "# Create stochastic policy\n",
        "\n",
        "Vamos a creae una politica que sea una distribución de probabilidad.\n",
        "\n",
        "```policy[s,a] = P(take action a | in state s)```\n",
        "\n",
        "Dado que aún utilizamos representaciones de acciones y estados enteros, puede utilizar una matriz bidimensional para representar la política.\n",
        "\n",
        "Inicializar la política __uniformemente__, es decir, las probabilidades de todas las acciones deben ser iguales.\n"
      ]
    },
    {
      "cell_type": "code",
      "metadata": {
        "id": "UZCXGO8Awlpm",
        "outputId": "98f990e3-f126-4e6c-91fa-7fa2d1642c32",
        "colab": {
          "base_uri": "https://localhost:8080/"
        }
      },
      "source": [
        "# INICIALIZA LA POLITICA\n",
        "policy = np.ones((500,6))/6\n",
        "policy"
      ],
      "execution_count": 2,
      "outputs": [
        {
          "output_type": "execute_result",
          "data": {
            "text/plain": [
              "array([[0.16666667, 0.16666667, 0.16666667, 0.16666667, 0.16666667,\n",
              "        0.16666667],\n",
              "       [0.16666667, 0.16666667, 0.16666667, 0.16666667, 0.16666667,\n",
              "        0.16666667],\n",
              "       [0.16666667, 0.16666667, 0.16666667, 0.16666667, 0.16666667,\n",
              "        0.16666667],\n",
              "       ...,\n",
              "       [0.16666667, 0.16666667, 0.16666667, 0.16666667, 0.16666667,\n",
              "        0.16666667],\n",
              "       [0.16666667, 0.16666667, 0.16666667, 0.16666667, 0.16666667,\n",
              "        0.16666667],\n",
              "       [0.16666667, 0.16666667, 0.16666667, 0.16666667, 0.16666667,\n",
              "        0.16666667]])"
            ]
          },
          "metadata": {
            "tags": []
          },
          "execution_count": 2
        }
      ]
    },
    {
      "cell_type": "code",
      "metadata": {
        "id": "RpMPwdHXwlpp"
      },
      "source": [
        "assert type(policy) in (np.ndarray,np.matrix)\n",
        "assert np.allclose(policy,1./n_actions)\n",
        "assert np.allclose(np.sum(policy,axis=1), 1)"
      ],
      "execution_count": 5,
      "outputs": []
    },
    {
      "cell_type": "markdown",
      "metadata": {
        "id": "7pCOLOCbwlpq"
      },
      "source": [
        "# Interactuemos con el entorno\n",
        "\n",
        "Al igual que antes, pero también registramos todos los estados y acciones que tomamos."
      ]
    },
    {
      "cell_type": "code",
      "metadata": {
        "id": "U-nG5-3Zwlpr"
      },
      "source": [
        "def generate_session(policy,t_max=10**4):\n",
        "    \"\"\"\n",
        "    Juega el juego hasta el final o para t_max ticks.\n",
        "    : política de param: una matriz de forma [n_estados, n_acciones] con probabilidades de acción\n",
        "    : return: lista de estados, lista de acciones y suma de recompensas\n",
        "    \"\"\"\n",
        "    states,actions = [],[]\n",
        "    total_reward = 0.\n",
        "    \n",
        "    s = env.reset()\n",
        "    \n",
        "    for t in range(t_max):\n",
        "        # TOMA UNA ACCION DE MANERA ALEATORIA CON NP.RANDOM.CHOICE().\n",
        "        a = np.random.choice(6, size=1, p=policy[s])[0]\n",
        "        \n",
        "        # Introducimos nuestra acción al entorno\n",
        "        new_s, r, done, info = env.step(a)\n",
        "        \n",
        "        #Guarda state, action y añade reward a states,actions and total_reward correctamente. \n",
        "        states.append(s)\n",
        "        actions.append(a)\n",
        "        total_reward += r\n",
        "        \n",
        "        # Guarda el nuevo estado como el estado actual\n",
        "        s = new_s\n",
        "        if done:\n",
        "            break\n",
        "    return states, actions, total_reward\n",
        "        "
      ],
      "execution_count": 6,
      "outputs": []
    },
    {
      "cell_type": "code",
      "metadata": {
        "id": "YEvU6py_wlpt"
      },
      "source": [
        "s,a,r = generate_session(policy)\n",
        "assert type(s) == type(a) == list\n",
        "assert len(s) == len(a)\n",
        "assert type(r) in [float,np.float]"
      ],
      "execution_count": 7,
      "outputs": []
    },
    {
      "cell_type": "code",
      "metadata": {
        "collapsed": true,
        "id": "7C3bUG5Wwlpv",
        "colab": {
          "base_uri": "https://localhost:8080/",
          "height": 282
        },
        "outputId": "35bd0762-ced9-41d7-b53d-ecda4055e895"
      },
      "source": [
        "#Veamos los rewards iniciales\n",
        "\n",
        "import matplotlib.pyplot as plt\n",
        "%matplotlib inline\n",
        "\n",
        "sample_rewards = [generate_session(policy,t_max=1000)[-1] for _ in range(200)]\n",
        "\n",
        "plt.hist(sample_rewards,bins=20);\n",
        "plt.vlines([np.percentile(sample_rewards, 50)], [0], [100], label=\"50'th percentile\", color='green')\n",
        "plt.vlines([np.percentile(sample_rewards, 90)], [0], [100], label=\"90'th percentile\", color='red')\n",
        "plt.legend()"
      ],
      "execution_count": 8,
      "outputs": [
        {
          "output_type": "execute_result",
          "data": {
            "text/plain": [
              "<matplotlib.legend.Legend at 0x7fdae27d8890>"
            ]
          },
          "metadata": {
            "tags": []
          },
          "execution_count": 8
        },
        {
          "output_type": "display_data",
          "data": {
            "image/png": "[encoded data removed]",
            "text/plain": [
              "<Figure size 432x288 with 1 Axes>"
            ]
          },
          "metadata": {
            "tags": [],
            "needs_background": "light"
          }
        }
      ]
    },
    {
      "cell_type": "markdown",
      "metadata": {
        "id": "DtEqbERHwlpx"
      },
      "source": [
        "### Crossentropy method pasos"
      ]
    },
    {
      "cell_type": "code",
      "metadata": {
        "id": "ehf-_JDNwlpx"
      },
      "source": [
        "def select_elites(states_batch,actions_batch,rewards_batch,percentile=50):\n",
        "    \"\"\"\n",
        " \n",
        "    Selecciona estados y acciones  que tienen recompensas> = percentil\n",
        "    : param states_batch: lista de estados, states_batch [session_i] [t]\n",
        "    : param actions_batch: lista de listas de acciones, actions_batch [session_i] [t]\n",
        "    : param rewards_batch: lista de recompensas, rewards_batch [session_i] [t]\n",
        "    \n",
        "    : devuelve: elite_states, elite_actions, listas 1D de estados y acciones respectivas de las sesiones de elite\n",
        "    \n",
        "    Por favor devuelva los estados y acciones de élite en su orden original.\n",
        "    [es decir. ordenados por número de sesión y paso de tiempo dentro de la sesión]\n",
        "    \"\"\"\n",
        "    #C ÁLCULA EL THRESHOLD SOBRE EL REWARD BATCH CON NP.PERCENTILE\n",
        "    reward_threshold = np.percentile(rewards_batch, percentile)\n",
        "    \n",
        "    # Calcula los estados elite y las acciones elite con un bucle compacto\n",
        "    elite_states  = [state for i, session in enumerate(states_batch) for state in session if rewards_batch[i] >= reward_threshold]\n",
        "    elite_actions = [action for i, session in enumerate(actions_batch) for action in session if rewards_batch[i] >= reward_threshold]\n",
        "    \n",
        "    return elite_states,elite_actions\n",
        "    "
      ],
      "execution_count": 11,
      "outputs": []
    },
    {
      "cell_type": "code",
      "metadata": {
        "collapsed": true,
        "id": "uUXyMijKwlpz",
        "colab": {
          "base_uri": "https://localhost:8080/"
        },
        "outputId": "61b7baa3-2053-40fd-9551-f7ccca92f580"
      },
      "source": [
        "#EJEMPLOS\n",
        "states_batch = [\n",
        "    [1,2,3],   #game1\n",
        "    [4,2,0,2], #game2\n",
        "    [3,1]      #game3\n",
        "]\n",
        "\n",
        "actions_batch = [\n",
        "    [0,2,4],   #game1\n",
        "    [3,2,0,1], #game2\n",
        "    [3,3]      #game3\n",
        "]\n",
        "rewards_batch = [\n",
        "    3,         #game1\n",
        "    4,         #game2\n",
        "    5,         #game3\n",
        "]\n",
        "\n",
        "test_result_0 = select_elites(states_batch, actions_batch, rewards_batch, percentile=0)\n",
        "test_result_40 = select_elites(states_batch, actions_batch, rewards_batch, percentile=30)\n",
        "test_result_90 = select_elites(states_batch, actions_batch, rewards_batch, percentile=90)\n",
        "test_result_100 = select_elites(states_batch, actions_batch, rewards_batch, percentile=100)\n",
        "\n",
        "assert np.all(test_result_0[0] == [1, 2, 3, 4, 2, 0, 2, 3, 1])  \\\n",
        "   and np.all(test_result_0[1] == [0, 2, 4, 3, 2, 0, 1, 3, 3]),\\\n",
        "        \"MALr\"\n",
        "assert np.all(test_result_40[0] == [4, 2, 0, 2, 3, 1]) and \\\n",
        "        np.all(test_result_40[1] ==[3, 2, 0, 1, 3, 3]),\\\n",
        "        \"MAL\"\n",
        "assert np.all(test_result_90[0] == [3,1]) and \\\n",
        "        np.all(test_result_90[1] == [3,3]),\\\n",
        "        \"MAL\"\n",
        "assert np.all(test_result_100[0] == [3,1]) and\\\n",
        "       np.all(test_result_100[1] == [3,3]),\\\n",
        "        \"MAL.\"\n",
        "print(\"Ok!\")"
      ],
      "execution_count": 12,
      "outputs": [
        {
          "output_type": "stream",
          "text": [
            "Ok!\n"
          ],
          "name": "stdout"
        }
      ]
    },
    {
      "cell_type": "code",
      "metadata": {
        "id": "ekv60mJRwlp1",
        "colab": {
          "base_uri": "https://localhost:8080/"
        },
        "outputId": "60136ff6-ec31-4467-e09b-ae5bd6a1c67d"
      },
      "source": [
        "test_result_40"
      ],
      "execution_count": 13,
      "outputs": [
        {
          "output_type": "execute_result",
          "data": {
            "text/plain": [
              "([4, 2, 0, 2, 3, 1], [3, 2, 0, 1, 3, 3])"
            ]
          },
          "metadata": {
            "tags": []
          },
          "execution_count": 13
        }
      ]
    },
    {
      "cell_type": "code",
      "metadata": {
        "id": "05aShyvUwlp3"
      },
      "source": [
        "def update_policy(elite_states,elite_actions):\n",
        "    \"\"\"\n",
        "    Dada la política anterior y una lista de estados / acciones de elite de select_elites,\n",
        "    devuelve una nueva política actualizada donde cada probabilidad de acción es proporcional a\n",
        "    \n",
        "    política [s_i, a_i] ~ # [ocurrencias de si y ai en estados / acciones de élite]\n",
        "    \n",
        "    No olvide normalizar la política para obtener probabilidades válidas y manejar el caso 0/0.\n",
        "    En caso de que nunca haya visitado un estado, establecer las probabilidades para todas las acciones en 1./n_actions\n",
        "    \n",
        "    : param elite_states: 1D lista de estados de sesiones de elite\n",
        "    : param elite_actions: 1D lista de acciones de sesiones de elite\n",
        "    \"\"\"\n",
        "    #DEFINE LA MATRIZ INICIALIZADA ALEATORIAMENTE PARA GUARDAR LA POLITICA NUEVA\n",
        "    n_actions = 6\n",
        "    new_policy = np.ones((500,6))/6\n",
        "    \n",
        "    for state in np.unique(elite_states):\n",
        "        for action in range(n_actions):\n",
        "            where_state = [elite_state for elite_state in elite_states if elite_state == state]\n",
        "            where_action_in_state = [elite_state for i, elite_state in enumerate(elite_states) if elite_state == state and elite_actions[i] == action]\n",
        "            new_policy[state, action] = len(where_action_in_state) / len(where_state)\n",
        "            \n",
        "\n",
        "    return new_policy"
      ],
      "execution_count": 15,
      "outputs": []
    },
    {
      "cell_type": "code",
      "metadata": {
        "collapsed": true,
        "id": "NwOblflCwlp5",
        "colab": {
          "base_uri": "https://localhost:8080/"
        },
        "outputId": "7203c94c-9448-44ed-ff0d-8d3157db72c6"
      },
      "source": [
        "\n",
        "elite_states, elite_actions = ([1, 2, 3, 4, 2, 0, 2, 3, 1], [0, 2, 4, 3, 2, 0, 1, 3, 3])\n",
        "\n",
        "\n",
        "new_policy = update_policy(elite_states,elite_actions)\n",
        "\n",
        "assert np.isfinite(new_policy).all(), \"MAL\"\n",
        "assert np.all(new_policy>=0), \"MAL\"\n",
        "assert np.allclose(new_policy.sum(axis=-1),1), \"MAL\"\n",
        "reference_answer = np.array([\n",
        "       [ 1.        ,  0.        ,  0.        ,  0.        ,  0.        ],\n",
        "       [ 0.5       ,  0.        ,  0.        ,  0.5       ,  0.        ],\n",
        "       [ 0.        ,  0.33333333,  0.66666667,  0.        ,  0.        ],\n",
        "       [ 0.        ,  0.        ,  0.        ,  0.5       ,  0.5       ]])\n",
        "assert np.allclose(new_policy[:4,:5],reference_answer)\n",
        "print(\"Ok!\")"
      ],
      "execution_count": 16,
      "outputs": [
        {
          "output_type": "stream",
          "text": [
            "Ok!\n"
          ],
          "name": "stdout"
        }
      ]
    },
    {
      "cell_type": "markdown",
      "metadata": {
        "id": "MuPiWwIbwlp7"
      },
      "source": [
        "# ENTRENAMIENTO DE NUESTO MODELO\n",
        "Generamos las sesiones y elegimos nuestos elite"
      ]
    },
    {
      "cell_type": "code",
      "metadata": {
        "id": "MWeox2nnwlp7"
      },
      "source": [
        "from IPython.display import clear_output\n",
        "\n",
        "def show_progress(batch_rewards, log, percentile, reward_range=[-990,+10]):\n",
        "    \"\"\"\n",
        "    CHARTS, CHARTS y CHARTS\n",
        "    \"\"\"\n",
        "    \n",
        "    mean_reward, threshold = np.mean(batch_rewards), np.percentile(batch_rewards, percentile)\n",
        "    log.append([mean_reward,threshold])\n",
        "\n",
        "    clear_output(True)\n",
        "    print(\"mean reward = %.3f, threshold=%.3f\"%(mean_reward, threshold))\n",
        "    plt.figure(figsize=[8,4])\n",
        "    plt.subplot(1,2,1)\n",
        "    plt.plot(list(zip(*log))[0], label='Mean rewards')\n",
        "    plt.plot(list(zip(*log))[1], label='Reward thresholds')\n",
        "    plt.legend()\n",
        "    plt.grid()\n",
        "    \n",
        "    plt.subplot(1,2,2)\n",
        "    plt.hist(batch_rewards,range=reward_range);\n",
        "    plt.vlines([np.percentile(batch_rewards, percentile)], [0], [100], label=\"percentile\", color='red')\n",
        "    plt.legend()\n",
        "    plt.grid()\n",
        "\n",
        "    plt.show()\n"
      ],
      "execution_count": 18,
      "outputs": []
    },
    {
      "cell_type": "code",
      "metadata": {
        "id": "kv1RnIJfwlp9"
      },
      "source": [
        "#Reseteamos\n",
        "policy = np.ones([n_states, n_actions]) / n_actions "
      ],
      "execution_count": 19,
      "outputs": []
    },
    {
      "cell_type": "code",
      "metadata": {
        "collapsed": true,
        "id": "rsGwT3iCwlp_",
        "colab": {
          "base_uri": "https://localhost:8080/",
          "height": 282
        },
        "outputId": "49ef47e4-754c-4ece-e010-a2578a9b0320"
      },
      "source": [
        "n_sessions = 250  #Sampleo\n",
        "percentile = 50  # Percentil\n",
        "learning_rate = 0.5  # alpha\n",
        "\n",
        "log = []\n",
        "\n",
        "for i in range(100):\n",
        "    \n",
        "    # GENERA UNA LISTA CON NUMEOR DE SESIONES Y NUEVAS SESIONES\n",
        "    sessions = [generate_session(policy) for _ in range(n_sessions)]\n",
        "    \n",
        "    batch_states,batch_actions,batch_rewards = zip(*sessions)\n",
        "    #EXTRAE LOS ESTADOS ELITE DEL PROCESO CON SELECT ELITES\n",
        "    elite_states, elite_actions = select_elites(batch_states, batch_actions, batch_rewards, percentile=percentile)\n",
        "    \n",
        "    new_policy = update_policy(elite_states,elite_actions)\n",
        "    \n",
        "    # DA ESTABILIDAD A LA NUEVA POLITICA CON UN LEARNING RATE (ACTUALIZACION POLITICA CON LA FORMULA)\n",
        "    policy = learning_rate * policy + (1-learning_rate) * new_policy\n",
        "    \n",
        "    #display results on chart\n",
        "    show_progress(batch_rewards, log, percentile)"
      ],
      "execution_count": 21,
      "outputs": [
        {
          "output_type": "stream",
          "text": [
            "mean reward = -59.412, threshold=6.000\n"
          ],
          "name": "stdout"
        },
        {
          "output_type": "display_data",
          "data": {
            "image/png": "[encoded data removed]",
            "text/plain": [
              "<Figure size 576x288 with 2 Axes>"
            ]
          },
          "metadata": {
            "tags": [],
            "needs_background": "light"
          }
        }
      ]
    }
  ]
}