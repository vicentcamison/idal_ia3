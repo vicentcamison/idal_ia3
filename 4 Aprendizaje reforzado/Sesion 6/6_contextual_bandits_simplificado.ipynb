{
  "nbformat": 4,
  "nbformat_minor": 0,
  "metadata": {
    "colab": {
      "name": "6-contextual_bandits_simplificado.ipynb",
      "provenance": [],
      "collapsed_sections": [],
      "include_colab_link": true
    },
    "kernelspec": {
      "display_name": "Python 3",
      "language": "python",
      "name": "python3"
    },
    "language_info": {
      "codemirror_mode": {
        "name": "ipython",
        "version": 3
      },
      "file_extension": ".py",
      "mimetype": "text/x-python",
      "name": "python",
      "nbconvert_exporter": "python",
      "pygments_lexer": "ipython3",
      "version": "3.6.8"
    }
  },
  "cells": [
    {
      "cell_type": "markdown",
      "metadata": {
        "id": "view-in-github",
        "colab_type": "text"
      },
      "source": [
        "<a href=\"https://colab.research.google.com/github/vicentcamison/idal_ia3/blob/main/4%20Aprendizaje%20reforzado/Sesion%206/6_contextual_bandits_simplificado.ipynb\" target=\"_parent\"><img src=\"https://colab.research.google.com/assets/colab-badge.svg\" alt=\"Open In Colab\"/></a>"
      ]
    },
    {
      "cell_type": "code",
      "metadata": {
        "id": "OTdSXTWkdwW6"
      },
      "source": [
        "COLAB = True"
      ],
      "execution_count": null,
      "outputs": []
    },
    {
      "cell_type": "code",
      "metadata": {
        "id": "f6rNIP_QdyZI",
        "colab": {
          "base_uri": "https://localhost:8080/"
        },
        "outputId": "92f95ac4-970a-4b1a-9a17-7ba1ff3e12be"
      },
      "source": [
        "if COLAB:\n",
        "    %tensorflow_version 1.x\n",
        "    \n",
        "    from google_drive_downloader import GoogleDriveDownloader as gdd\n",
        "    gdd.download_file_from_google_drive(file_id='1vHIz-zqP3hdSmA0AKMQlAGJFxMQ5bDVl',\n",
        "                                        dest_path='./simula_clientes_problema1.py')\n",
        "    gdd.download_file_from_google_drive(file_id='1bXFDawxUt0JLcvy2QQyG_5L2GWwauE-1',\n",
        "                                        dest_path='./spacebandits.zip', unzip=True)"
      ],
      "execution_count": null,
      "outputs": [
        {
          "output_type": "stream",
          "text": [
            "TensorFlow 1.x selected.\n",
            "Downloading 1vHIz-zqP3hdSmA0AKMQlAGJFxMQ5bDVl into ./simula_clientes_problema1.py... Done.\n",
            "Downloading 1bXFDawxUt0JLcvy2QQyG_5L2GWwauE-1 into ./spacebandits.zip... Done.\n",
            "Unzipping...Done.\n"
          ],
          "name": "stdout"
        }
      ]
    },
    {
      "cell_type": "code",
      "metadata": {
        "id": "2H_NJidycSlL",
        "colab": {
          "base_uri": "https://localhost:8080/"
        },
        "outputId": "f7b7e578-1988-4545-c904-2ef274e4617f"
      },
      "source": [
        "!ls -la"
      ],
      "execution_count": null,
      "outputs": [
        {
          "output_type": "stream",
          "text": [
            "total 40\n",
            "drwxr-xr-x 1 root root  4096 Apr  9 16:49 .\n",
            "drwxr-xr-x 1 root root  4096 Apr  9 16:48 ..\n",
            "drwxr-xr-x 4 root root  4096 Apr  7 13:35 .config\n",
            "drwxr-xr-x 1 root root  4096 Apr  7 13:36 sample_data\n",
            "-rw-r--r-- 1 root root  3850 Apr  9 16:49 simula_clientes_problema1.py\n",
            "drwxr-xr-x 2 root root  4096 Apr  9 16:49 space_bandits\n",
            "-rw-r--r-- 1 root root 15466 Apr  9 16:49 spacebandits.zip\n"
          ],
          "name": "stdout"
        }
      ]
    },
    {
      "cell_type": "code",
      "metadata": {
        "id": "I2_SI36ddt7m"
      },
      "source": [
        "import numpy as np\n",
        "import pandas as pd\n",
        "from random import random, randint\n",
        "import matplotlib.pyplot as plt\n",
        "\n",
        "%config InlineBackend.figure_format='retina'\n",
        "%matplotlib inline"
      ],
      "execution_count": null,
      "outputs": []
    },
    {
      "cell_type": "code",
      "metadata": {
        "id": "-HumQ9ppdt7u"
      },
      "source": [
        "from simula_clientes_problema1 import cliente"
      ],
      "execution_count": null,
      "outputs": []
    },
    {
      "cell_type": "code",
      "metadata": {
        "id": "v1bg3HFldt8E"
      },
      "source": [
        "# estrategia aleatoria: completar en la sesión"
      ],
      "execution_count": null,
      "outputs": []
    },
    {
      "cell_type": "code",
      "metadata": {
        "id": "kDqpL0WldUU_"
      },
      "source": [
        "x = cliente()"
      ],
      "execution_count": null,
      "outputs": []
    },
    {
      "cell_type": "code",
      "metadata": {
        "id": "58qe_9URdUeY",
        "colab": {
          "base_uri": "https://localhost:8080/"
        },
        "outputId": "9db2a936-a819-43ac-d79c-55fda1812cce"
      },
      "source": [
        "x.datos_observados"
      ],
      "execution_count": null,
      "outputs": [
        {
          "output_type": "execute_result",
          "data": {
            "text/plain": [
              "array([ 25.  , 116.05])"
            ]
          },
          "metadata": {
            "tags": []
          },
          "execution_count": 7
        }
      ]
    },
    {
      "cell_type": "code",
      "metadata": {
        "id": "VC8dHTdpH2Nx"
      },
      "source": [
        "x.posibles_ganancias"
      ],
      "execution_count": null,
      "outputs": []
    },
    {
      "cell_type": "code",
      "metadata": {
        "id": "XL29mHNxdUke"
      },
      "source": [
        "x.posibles_ganancias[2]"
      ],
      "execution_count": null,
      "outputs": []
    },
    {
      "cell_type": "code",
      "metadata": {
        "id": "M0cFVU0hfD5m"
      },
      "source": [
        "np.random.randint(3)"
      ],
      "execution_count": null,
      "outputs": []
    },
    {
      "cell_type": "code",
      "metadata": {
        "id": "FF5LfIRkdUqG"
      },
      "source": [
        "# Estrategia rudimentaria: recomendación al azar\n",
        "# simulo recomendaciones aleatorias\n",
        "N = 100000\n",
        "\n",
        "reward_total = 0\n",
        "for i in range(N):\n",
        "    x = cliente()\n",
        "    accion = np.random.randint(3)\n",
        "    reward_total += x.posibles_ganancias[accion]\n",
        "\n",
        "reward_total / N"
      ],
      "execution_count": null,
      "outputs": []
    },
    {
      "cell_type": "code",
      "metadata": {
        "id": "kasuWx0DdUvJ"
      },
      "source": [
        ""
      ],
      "execution_count": null,
      "outputs": []
    },
    {
      "cell_type": "code",
      "metadata": {
        "id": "xbjoFn7zdVL2"
      },
      "source": [
        ""
      ],
      "execution_count": null,
      "outputs": []
    },
    {
      "cell_type": "code",
      "metadata": {
        "id": "TwX_cOq3dCJb"
      },
      "source": [
        "from space_bandits import LinearBandits\n",
        "\n",
        "n_acciones = 3 # número de promociones diferentes entre las que debemos\n",
        "               # escoger una para el cliente\n",
        "n_features = 2 # edad e ingresos obtenidos con ese cliente"
      ],
      "execution_count": null,
      "outputs": []
    },
    {
      "cell_type": "code",
      "metadata": {
        "id": "LN8noXfBdCMO"
      },
      "source": [
        "# Aprendizaje online del multiarmed bandit contextual\n",
        "\n",
        "N = 10000\n",
        "\n",
        "modelo = LinearBandits(n_acciones, n_features, initial_pulls=100)\n",
        "reward_promedio = []\n",
        "total_reward = 0\n",
        "for i in range(N):\n",
        "    c = cliente() # <- en la realidad estos son los datos del cliente que llega\n",
        "    contexto = c.datos_observados # extraer del cliente datos relevantes\n",
        "    accion = modelo.action(contexto)\n",
        "\n",
        "    # se lanza la acción sobre el cliente y eso produce una ganancia (reward)\n",
        "    reward = c.ganancia(accion) # <- en la realidad esta es la ganancia (reward) obtenida con ese cliente\n",
        "    #reward = get ganancia cliente después de ofrecer producto\n",
        "\n",
        "    total_reward = total_reward + reward\n",
        "    modelo.update(contexto, accion, reward) # el modelo se actualiza\n",
        "    reward_promedio.append(total_reward / (i+1))"
      ],
      "execution_count": null,
      "outputs": []
    },
    {
      "cell_type": "code",
      "metadata": {
        "id": "PYjCEay5dCQz"
      },
      "source": [
        "plt.plot(reward_promedio);"
      ],
      "execution_count": null,
      "outputs": []
    },
    {
      "cell_type": "code",
      "metadata": {
        "id": "sGfBd-Qqtd_c"
      },
      "source": [
        "reward_promedio[-1]"
      ],
      "execution_count": null,
      "outputs": []
    },
    {
      "cell_type": "code",
      "metadata": {
        "id": "E0vGgH7ThYo1"
      },
      "source": [
        "# parámetros del modelo:\n",
        "modelo.mu"
      ],
      "execution_count": null,
      "outputs": []
    },
    {
      "cell_type": "code",
      "metadata": {
        "id": "mIBGmDEVe6mG"
      },
      "source": [
        ""
      ],
      "execution_count": null,
      "outputs": []
    }
  ]
}