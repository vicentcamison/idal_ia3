{
  "nbformat": 4,
  "nbformat_minor": 0,
  "metadata": {
    "colab": {
      "name": "MLP.ipynb",
      "provenance": [],
      "include_colab_link": true
    },
    "kernelspec": {
      "name": "python3",
      "display_name": "Python 3"
    }
  },
  "cells": [
    {
      "cell_type": "markdown",
      "metadata": {
        "id": "view-in-github",
        "colab_type": "text"
      },
      "source": [
        "<a href=\"https://colab.research.google.com/github/vicentcamison/idal_ia3/blob/main/MLP.ipynb\" target=\"_parent\"><img src=\"https://colab.research.google.com/assets/colab-badge.svg\" alt=\"Open In Colab\"/></a>"
      ]
    },
    {
      "cell_type": "markdown",
      "metadata": {
        "id": "T0d74XyUpfSL"
      },
      "source": [
        "# Perceptrón Multi-Capa\n",
        "\n",
        "En este *Notebook* vamos a implementar un Perceptron Multi-Capa (MLP: *Multilayer Perceptron*) para una tarea de clasificación: \n",
        "\n",
        "Para ello, vamos a crear nuestro propio conjunto de datos sintético\n",
        "\n",
        "**RECUERDA**\n",
        "\n",
        "En el perceptron multicapa, la salida de cada capa es calculada usando las activaciones de las capas anteriores de la siguiente manera.\n",
        "\n",
        "$$h_{i} = \\sigma(W_i h_{i-1} + b_i)$$\n",
        "\n",
        "Dónde ${h}_i$ es el vector de activación de la $i$-ésima capa (o los datos de entrada para $i=0$), ${W}_i$ y ${b}_i$ son la matriz de pesos y el vector de sesgo (*bias*) para la capa $i$-ésima respectivamente\n",
        "\n",
        "<br><rb>\n",
        "$\\sigma(\\cdot)$ es la función de activación. En nuestro ejemplo usaremos la función de activación *Sigmoide* para las capas ocultas (intermedias) y la *softmax* para la última capa, dado que se trata de un problema de clasificación.\n"
      ]
    },
    {
      "cell_type": "markdown",
      "metadata": {
        "id": "KZ5ulA9tsM8C"
      },
      "source": [
        "## Creación del conjunto de datos sintético\n",
        "Lo primero que vamos a hacer es crear una función para generar datos sintéticos aletorios. Debes rellenar el siguiente código. Para ello, crea 2 nubes de puntos de 3 dimensiones (una para casa clase). La primera nube (800 puntos) que provenga de una distribución normal con media 0 y desviación estándar 1. La segunda nube de puntos (500 puntos), que sea igual que la primera pero que la última componente tenga media 3 y desviación estándar 0.5. Debes crear un vector de salida con valor 0 para la primera nube de puntos y 1 para la segunda. "
      ]
    },
    {
      "cell_type": "code",
      "metadata": {
        "id": "pO2H5zcFsIyR"
      },
      "source": [
        "import numpy as np\n",
        "import sys\n",
        "import matplotlib.pyplot as plt\n",
        "\n",
        "def generate_dataset(output_dim=3, num_examples=[800, 500]):\n",
        "    features_class1 = np.random.normal(0, 1, [num_examples[0], output_dim])\n",
        "    features_class2 = np.random.normal(0, 1, [num_examples[1], output_dim]) #hacemos una columna más de las necesarias\n",
        "    features_class2[:, -1] = np.random.normal(3, 0.5, num_examples[1]) #sobreescribimos la columna adicional con estos valores con media diferente y desviación diferente\n",
        "    x = np.concatenate((features_class1, features_class2), axis=0)\n",
        "\n",
        "    labels_class1 = np.zeros((num_examples[0], 1))\n",
        "    labels_class2 = np.ones((num_examples[1], 1))\n",
        "    y = np.concatenate((labels_class1, labels_class2), axis=0)\n",
        "    return (x, y)\n",
        "\n",
        "# Es interesante que para numpy no es lo mismo un array de [800, 1] que uno de [800], de la misma forma que no es lo mismo una serie de pandas que un dataframe\n",
        "# Me ha estado dando error el código de y[:, -1] precisamente por eso: es uno de [800]: por lo tanto, no tengo que hacer referencia a arrays multidimensionales,\n",
        "#  hay que poner num_examples[1] en la dimensión, y no [num_examples[1], 1]\n",
        "\n",
        "# Por otro lado, me parece interesante escribir esto por aquí, que he estado trabajando con esto:\n",
        "# So, when you do [:, -1] it means you are taking all the rows and only the last column. -1 represents the last column.\n",
        "# When you do [:, :-1], it means you are taking all the rows and all the columns except the last column."
      ],
      "execution_count": 55,
      "outputs": []
    },
    {
      "cell_type": "markdown",
      "metadata": {
        "id": "y6Lo2f8kt_FA"
      },
      "source": [
        "Ahora vamos a llamar a la función anterior para generar nuestro conjunto de datos:"
      ]
    },
    {
      "cell_type": "code",
      "metadata": {
        "id": "6xcOcbXmztbZ"
      },
      "source": [
        "np.random.seed(1)\n",
        "num_examples = [500,800]\n",
        "output_dim = 3\n",
        "x, y = generate_dataset(num_examples=num_examples, output_dim=output_dim)\n"
      ],
      "execution_count": 56,
      "outputs": []
    },
    {
      "cell_type": "code",
      "metadata": {
        "id": "cvNsSAx34H-M",
        "outputId": "6658c68a-04c8-4928-f6e3-d5a0c889b03e",
        "colab": {
          "base_uri": "https://localhost:8080/"
        }
      },
      "source": [
        "x"
      ],
      "execution_count": 58,
      "outputs": [
        {
          "output_type": "execute_result",
          "data": {
            "text/plain": [
              "array([[ 1.62434536, -0.61175641, -0.52817175],\n",
              "       [-1.07296862,  0.86540763, -2.3015387 ],\n",
              "       [ 1.74481176, -0.7612069 ,  0.3190391 ],\n",
              "       ...,\n",
              "       [ 1.06559062,  0.70165443,  2.81695081],\n",
              "       [ 0.28887841,  0.88259776,  2.46943507],\n",
              "       [-1.59121638,  0.59518926,  3.46946356]])"
            ]
          },
          "metadata": {
            "tags": []
          },
          "execution_count": 58
        }
      ]
    },
    {
      "cell_type": "markdown",
      "metadata": {
        "id": "u7_RMPFHzwuV"
      },
      "source": [
        "A continuación, representa los datos en 3D, con diferentes colores para representar la pertenencia a cada una de las clases:"
      ]
    },
    {
      "cell_type": "code",
      "metadata": {
        "id": "y7LBbPT_0D_p",
        "outputId": "15a0700e-bf69-4323-c273-dae7ace81588",
        "colab": {
          "base_uri": "https://localhost:8080/",
          "height": 248
        }
      },
      "source": [
        "fig = plt.figure()\n",
        "\n",
        "ax = fig.add_subplot(111, projection='3d')\n",
        "ax.scatter(x[:500, 0], x[:500, 1], x[:500, 2], c='r', marker='o')\n",
        "ax.scatter(x[500:, 0], x[500:, 1], x[500:, 2], c='b', marker='o')\n",
        "\n",
        "ax.set_xlabel('X Label')\n",
        "ax.set_ylabel('Y Label')\n",
        "ax.set_zlabel('Z Label')\n",
        "ax.set_title('Nube azul sobre nube roja')\n",
        "\n",
        "plt.show()"
      ],
      "execution_count": 68,
      "outputs": [
        {
          "output_type": "display_data",
          "data": {
            "image/png": "[encoded data removed]",
            "text/plain": [
              "<Figure size 432x288 with 1 Axes>"
            ]
          },
          "metadata": {
            "tags": [],
            "needs_background": "light"
          }
        }
      ]
    },
    {
      "cell_type": "markdown",
      "metadata": {
        "id": "73Gj7RvN0H9S"
      },
      "source": [
        "## Función de activación y su derivada\n",
        "\n",
        "A continuación vamos a crear dos métodos. El primero implementará la función de activación correspondiente a la sigmoide. Esta función es necesaria para el cáculo *forward pass* de la red.  Dado un valor \"x\", esta función deberá cacular el varlor con respecto a la siguiente fórmula:\n",
        "$$a(x) =  \\frac{\\mathrm{1} }{\\mathrm{1} + e^{-x}}$$\n",
        "\n",
        "El segundo método, implementará la derivada de la función anterior, necesaria para el *backward pass*. Procediendo con la derivada, obtenemos las siguiente fórmula:\n",
        "\n",
        "$${a}' = a(1-a)$$\n",
        "\n"
      ]
    },
    {
      "cell_type": "code",
      "metadata": {
        "id": "MD8c8NTcLKVW"
      },
      "source": [
        "def sigmoid(x):\n",
        "  sig =\n",
        "    return sig"
      ],
      "execution_count": null,
      "outputs": []
    },
    {
      "cell_type": "code",
      "metadata": {
        "id": "reSsFC_xLVHt"
      },
      "source": [
        "def sigmoid_out2deriv(out):\n",
        "  deriv_sig = \n",
        "    return deriv_sig"
      ],
      "execution_count": null,
      "outputs": []
    },
    {
      "cell_type": "markdown",
      "metadata": {
        "id": "UyUGOC-VL6Fr"
      },
      "source": [
        "## Contruyendo la Red Neuronal Artificial\n",
        "A continuación vamos a definir la clase Layer. Ésta implementará los 3 métodos necesarios para entrenar la red neuronal (*forward*, *backward* y *update*). Recuerda que el `__init__` debe generar los pesos ${W}$ y ${b}$  de manera aleatoria. Para ello, utiliza una distribución normal con media -0.1 y desviación estándar 0.2.\n",
        "\n",
        "<br><rb>\n",
        "Para el cáculo del *backward pass* hay que calcular las derivadas parciales del coste (error) con respecto a cada uno de los parámetros de la red (${W}$ y ${b}$). Para ello, en esta clase solamente vamos a declarar las derivadas de las capas intermedias (las derivadas parciales de la última capa, que se calculan de manera distinta, las calcularemos fuera de esta clase. Los $\\delta$ de los ${W}$ se calculan en función de los $\\delta$ de la capa anterior:\n",
        "\n",
        "$$ \\delta^{l-1} = W^{l}\\delta^{l}\\frac{\\partial a^{l-1}}{\\partial z^{l-1}}$$\n",
        "\n",
        "Donde $a$ es la función de activación, $z$ es la salida de la suma ponderada de la entrada (la salida de la neurona, la regresión lineal, antes de aplicar la función de activación) y $l-1$ hace referencia a la \"*Layer*\" anterior.\n",
        "\n",
        "<br><rb>\n",
        " De ahí, que el método `backward` tenga compo parámetro de entrad la variable `output_delta` (correspondiente a los $\\delta$ de la capa anterior). Para el cálculo de $\\delta$ de los parámetros ${W}$ la capa actual hemos de realizar dos operaciones. La primera es multiplicar el $\\delta$ de la capa posterior (que proviene del parámetro de entrada `output_delta`) por la derivada de la función de activación aplicada sobre la salida de la red en el *forward pass*. La segunda operación es el producto del resultado anterior por los pesos ${W}$.\n",
        "\n",
        "<br><rb>\n",
        "Para actualizar la red (método `update`) deberemos actualizar los pesos ${W}$ con un nuevo valor de la siguiente manera:\n",
        "$$W_{i}(t)\\:=\\:W_{i}(t-1) - \\alpha(\\frac{\\partial error}{\\partial W_{i}})$$\n",
        "\n",
        "Siendo $(\\frac{\\partial error}{\\partial W_{i}})$ la derivada de la función de activación aplicada sobre la salida de la red en el forward pass (calculada en el método `backward`).\n"
      ]
    },
    {
      "cell_type": "code",
      "metadata": {
        "id": "LKgbPXXmMGVN"
      },
      "source": [
        "\n",
        "class Layer(object):\n",
        "    def __init__(self, input_dim, output_dim, activation_func, act_func_deriv):\n",
        "        \n",
        "\n",
        "    def forward(self, input):\n",
        "        self.input = input\n",
        "        self.output =\n",
        "        return self.output\n",
        "\n",
        "    def backward(self, output_delta):\n",
        "        self.weight_output_delta = \n",
        "        new_delta = \n",
        "        return new_delta\n",
        "\n",
        "    def update(self, learning_rate=0.1):\n"
      ],
      "execution_count": null,
      "outputs": []
    },
    {
      "cell_type": "markdown",
      "metadata": {
        "id": "XSQ2xbR9fBMX"
      },
      "source": [
        "## Entrenamiento de la Red\n",
        "\n",
        "Inicializamos  los siguientes parámetros:\n"
      ]
    },
    {
      "cell_type": "code",
      "metadata": {
        "id": "Uz4RuBg6fZVH"
      },
      "source": [
        "\n",
        "batch_size = 10\n",
        "learning_rate = 0.1\n",
        "\n",
        "input_dim = len(x[0])\n",
        "layer_1_dim = 128\n",
        "layer_2_dim = 64\n",
        "output_dim = 1\n",
        "iterations = 1000\n",
        "\n"
      ],
      "execution_count": null,
      "outputs": []
    },
    {
      "cell_type": "markdown",
      "metadata": {
        "id": "DqgQ7bgJfhtn"
      },
      "source": [
        "Creamos nuestra red neuronal de 3 capas llamando a la clase `Layer` tantas veces como sea necesario:\n"
      ]
    },
    {
      "cell_type": "code",
      "metadata": {
        "id": "hUhWTQf0f1FG"
      },
      "source": [
        ""
      ],
      "execution_count": null,
      "outputs": []
    },
    {
      "cell_type": "markdown",
      "metadata": {
        "id": "sgos16V9f8qx"
      },
      "source": [
        "A continuación procederemos a entrenar nuestra red. Para ello necesitaremos crear *batches* de nuestro conjunto de datos para ir pasándoselos a la red por lotes. Para ello necesitaremos 2 bucles `for`. El primero iterará sobre un número de iteraciones (épocas), y el segundo sobre los *batches*. Se pasará cada *batch* a la red para hacer el *forward pass* y calcular la salida de la red. Después, haremos el *backward pass* (en order inverso) para actualizar los pesos de la red. Recuerda, que en la implementación de la clase `Layer`solamente se implemetó el *backward pass* de las capas intermedias. Por lo tanto, es necesario que prinero calcules el $\\delta$ de la última capa para pasárselo al método `Layer.backward()`. Dicho $\\delta$ es igual a la diferencia entre la salida de la red y la salida real. Finalmente actualiza cada capa con el método `Layer.update()` y computa el error acumulado por cada batch en cada época. Imprime el error cada 10 épocas por pantalla."
      ]
    },
    {
      "cell_type": "code",
      "metadata": {
        "id": "OoW0rPPbhidP",
        "outputId": "79435700-03f2-4b49-b484-ea510ab5828e",
        "colab": {
          "base_uri": "https://localhost:8080/",
          "height": 1000
        }
      },
      "source": [
        ""
      ],
      "execution_count": null,
      "outputs": [
        {
          "output_type": "stream",
          "text": [
            "Iter:0 Loss:24.59334303881787\n",
            "Iter:10 Loss:1.6032365513319198\n",
            "Iter:20 Loss:1.584307631622783\n",
            "Iter:30 Loss:1.6940336249559398\n",
            "Iter:40 Loss:1.7688033286477214\n",
            "Iter:50 Loss:1.8209491474085815\n",
            "Iter:60 Loss:1.8637961923011483\n",
            "Iter:70 Loss:1.9002079114352552\n",
            "Iter:80 Loss:1.9309884748300332\n",
            "Iter:90 Loss:1.95706170377783\n",
            "Iter:100 Loss:1.9792883027198582\n",
            "Iter:110 Loss:1.9981007686985748\n",
            "Iter:120 Loss:2.013165914899971\n",
            "Iter:130 Loss:2.022803634533832\n",
            "Iter:140 Loss:2.0231447664269084\n",
            "Iter:150 Loss:2.0097391561808062\n",
            "Iter:160 Loss:1.9857793566651656\n",
            "Iter:170 Loss:1.9619184841296082\n",
            "Iter:180 Loss:1.9432211981511318\n",
            "Iter:190 Loss:1.928309705714022\n",
            "Iter:200 Loss:1.9144158819218162\n",
            "Iter:210 Loss:1.8992768788211047\n",
            "Iter:220 Loss:1.882870129033699\n",
            "Iter:230 Loss:1.8677939744279521\n",
            "Iter:240 Loss:1.8550923532018582\n",
            "Iter:250 Loss:1.8447980474397812\n",
            "Iter:260 Loss:1.8364947246347114\n",
            "Iter:270 Loss:1.8295404079333277\n",
            "Iter:280 Loss:1.823496568885885\n",
            "Iter:290 Loss:1.8181657871243846\n",
            "Iter:300 Loss:1.8134765354333988\n",
            "Iter:310 Loss:1.80939152092223\n",
            "Iter:320 Loss:1.8058691116064047\n",
            "Iter:330 Loss:1.802857188327504\n",
            "Iter:340 Loss:1.800297896661594\n",
            "Iter:350 Loss:1.7981328101174043\n",
            "Iter:360 Loss:1.7963060053690338\n",
            "Iter:370 Loss:1.7947655796201718\n",
            "Iter:380 Loss:1.7934644448805588\n",
            "Iter:390 Loss:1.7923607966959096\n",
            "Iter:400 Loss:1.7914183263735246\n",
            "Iter:410 Loss:1.7906061555588448\n",
            "Iter:420 Loss:1.7898985090297073\n",
            "Iter:430 Loss:1.7892741972276096\n",
            "Iter:440 Loss:1.7887160069493828\n",
            "Iter:450 Loss:1.7882100928974856\n",
            "Iter:460 Loss:1.7877454366791805\n",
            "Iter:470 Loss:1.7873134060530593\n",
            "Iter:480 Loss:1.7869074141662187\n",
            "Iter:490 Loss:1.786522651031479\n",
            "Iter:500 Loss:1.7861558410279323\n",
            "Iter:510 Loss:1.7858049746296434\n",
            "Iter:520 Loss:1.785468973972181\n",
            "Iter:530 Loss:1.7851472815947358\n",
            "Iter:540 Loss:1.7848394035672703\n",
            "Iter:550 Loss:1.7845444762932898\n",
            "Iter:560 Loss:1.7842609404037992\n",
            "Iter:570 Loss:1.7839863838559702\n",
            "Iter:580 Loss:1.7837175675069177\n",
            "Iter:590 Loss:1.7834505943319185\n",
            "Iter:600 Loss:1.7831811526454757\n",
            "Iter:610 Loss:1.7829047635345678\n",
            "Iter:620 Loss:1.7826169851564806\n",
            "Iter:630 Loss:1.7823135557054985\n",
            "Iter:640 Loss:1.7819904799578117\n",
            "Iter:650 Loss:1.7816440763601393\n",
            "Iter:660 Loss:1.7812710038605162\n",
            "Iter:670 Loss:1.7808682838866694\n",
            "Iter:680 Loss:1.7804333267004242\n",
            "Iter:690 Loss:1.779963965222956\n",
            "Iter:700 Loss:1.7794584945700611\n",
            "Iter:710 Loss:1.7789157123900246\n",
            "Iter:720 Loss:1.7783349536279374\n",
            "Iter:730 Loss:1.7777161132697352\n",
            "Iter:740 Loss:1.777059651542085\n",
            "Iter:750 Loss:1.7763665775410715\n",
            "Iter:760 Loss:1.7756384090105726\n",
            "Iter:770 Loss:1.7748771078491243\n",
            "Iter:780 Loss:1.774084992942026\n",
            "Iter:790 Loss:1.773264634228231\n",
            "Iter:800 Loss:1.772418734545342\n",
            "Iter:810 Loss:1.7715500084647138\n",
            "Iter:820 Loss:1.7706610693606215\n",
            "Iter:830 Loss:1.7697543364572772\n",
            "Iter:840 Loss:1.7688319718371062\n",
            "Iter:850 Loss:1.767895853260628\n",
            "Iter:860 Loss:1.7669475828784305\n",
            "Iter:870 Loss:1.7659885259101658\n",
            "Iter:880 Loss:1.7650198686449459\n",
            "Iter:890 Loss:1.7640426827036826\n",
            "Iter:900 Loss:1.7630579825764907\n",
            "Iter:910 Loss:1.7620667654307476\n",
            "Iter:920 Loss:1.7610700251385758\n",
            "Iter:930 Loss:1.7600687355304439\n",
            "Iter:940 Loss:1.7590638004972146\n",
            "Iter:950 Loss:1.7580559705216852\n",
            "Iter:960 Loss:1.7570457265174948\n",
            "Iter:970 Loss:1.7560331325963627\n",
            "Iter:980 Loss:1.7550176598219522\n",
            "Iter:990 Loss:1.7539979836270816\n",
            "Iter:999 Loss:1.7530747679829388"
          ],
          "name": "stdout"
        }
      ]
    },
    {
      "cell_type": "code",
      "metadata": {
        "id": "buSM7uKwhP18"
      },
      "source": [
        ""
      ],
      "execution_count": null,
      "outputs": []
    },
    {
      "cell_type": "code",
      "metadata": {
        "id": "ax2Uv6NNgkox"
      },
      "source": [
        ""
      ],
      "execution_count": null,
      "outputs": []
    }
  ]
}